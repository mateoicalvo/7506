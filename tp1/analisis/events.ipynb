{
 "cells": [
  {
   "cell_type": "code",
   "execution_count": 194,
   "metadata": {},
   "outputs": [],
   "source": [
    "import pandas as pd\n",
    "import numpy as np\n",
    "import matplotlib.pyplot as plt\n",
    "import seaborn as sns\n",
    "\n",
    "%matplotlib inline"
   ]
  },
  {
   "cell_type": "code",
   "execution_count": 43,
   "metadata": {},
   "outputs": [],
   "source": [
    "def autolabel_pct(pct):\n",
    "    return \"{:.1f}%\".format(pct)\n",
    "\n",
    "def autolabel_height(grafico, xpos='center'):\n",
    "    \"\"\"\n",
    "    Attach a text label above each bar in *rects*, displaying its height.\n",
    "\n",
    "    *xpos* indicates which side to place the text w.r.t. the center of\n",
    "    the bar. It can be one of the following {'center', 'right', 'left'}.\n",
    "    \"\"\"\n",
    "\n",
    "    xpos = xpos.lower()  # normalize the case of the parameter\n",
    "    ha = {'center': 'center', 'right': 'left', 'left': 'right'}\n",
    "    offset = {'center': 0.5, 'right': 0.57, 'left': 0.43}  # x_txt = x + w*off\n",
    "\n",
    "    for bar in grafico.patches:\n",
    "        height = bar.get_height()\n",
    "        grafico.text(bar.get_x() + bar.get_width()*offset[xpos], 1.01*height,\n",
    "                '{}'.format(height), ha=ha[xpos], va='bottom')\n"
   ]
  },
  {
   "cell_type": "code",
   "execution_count": null,
   "metadata": {},
   "outputs": [],
   "source": [
    "events = pd.read_csv(\"events.csv\", parse_dates=[\"date\"])\n",
    "\n",
    "clicks = pd.read_csv(\"clicks.csv\", parse_dates = [\"created\"])"
   ]
  },
  {
   "cell_type": "code",
   "execution_count": 3,
   "metadata": {},
   "outputs": [],
   "source": [
    "clicks[\"created\"] = clicks[\"created\"].astype(\"datetime64[ns]\")"
   ]
  },
  {
   "cell_type": "code",
   "execution_count": null,
   "metadata": {},
   "outputs": [],
   "source": [
    "events.to_pickle(\"events pickle\")"
   ]
  },
  {
   "cell_type": "code",
   "execution_count": 5,
   "metadata": {},
   "outputs": [],
   "source": [
    "clicks.to_pickle(\"clicks pickle\")"
   ]
  },
  {
   "cell_type": "code",
   "execution_count": 4,
   "metadata": {},
   "outputs": [],
   "source": [
    "events = pd.read_pickle(\"events pickle\")\n",
    "clicks = pd.read_pickle(\"clicks pickle\")"
   ]
  },
  {
   "cell_type": "code",
   "execution_count": 4,
   "metadata": {},
   "outputs": [
    {
     "data": {
      "text/plain": [
       "Index(['advertiser_id', 'action_id', 'source_id', 'created', 'country_code',\n",
       "       'latitude', 'longitude', 'wifi_connection', 'carrier_id', 'trans_id',\n",
       "       'os_minor', 'agent_device', 'os_major', 'specs_brand', 'brand',\n",
       "       'timeToClick', 'touchX', 'touchY', 'ref_type', 'ref_hash'],\n",
       "      dtype='object')"
      ]
     },
     "execution_count": 4,
     "metadata": {},
     "output_type": "execute_result"
    }
   ],
   "source": [
    "clicks.columns"
   ]
  },
  {
   "cell_type": "code",
   "execution_count": 4,
   "metadata": {},
   "outputs": [
    {
     "data": {
      "text/html": [
       "<div>\n",
       "<style scoped>\n",
       "    .dataframe tbody tr th:only-of-type {\n",
       "        vertical-align: middle;\n",
       "    }\n",
       "\n",
       "    .dataframe tbody tr th {\n",
       "        vertical-align: top;\n",
       "    }\n",
       "\n",
       "    .dataframe thead th {\n",
       "        text-align: right;\n",
       "    }\n",
       "</style>\n",
       "<table border=\"1\" class=\"dataframe\">\n",
       "  <thead>\n",
       "    <tr style=\"text-align: right;\">\n",
       "      <th></th>\n",
       "      <th>advertiser_id</th>\n",
       "      <th>action_id</th>\n",
       "      <th>source_id</th>\n",
       "      <th>created</th>\n",
       "      <th>country_code</th>\n",
       "      <th>latitude</th>\n",
       "      <th>longitude</th>\n",
       "      <th>wifi_connection</th>\n",
       "      <th>carrier_id</th>\n",
       "      <th>trans_id</th>\n",
       "      <th>os_minor</th>\n",
       "      <th>agent_device</th>\n",
       "      <th>os_major</th>\n",
       "      <th>specs_brand</th>\n",
       "      <th>brand</th>\n",
       "      <th>timeToClick</th>\n",
       "      <th>touchX</th>\n",
       "      <th>touchY</th>\n",
       "      <th>ref_type</th>\n",
       "      <th>ref_hash</th>\n",
       "    </tr>\n",
       "  </thead>\n",
       "  <tbody>\n",
       "    <tr>\n",
       "      <th>0</th>\n",
       "      <td>2</td>\n",
       "      <td>NaN</td>\n",
       "      <td>4</td>\n",
       "      <td>2019-03-06 22:42:12.755</td>\n",
       "      <td>6333597102633388268</td>\n",
       "      <td>1.205689</td>\n",
       "      <td>1.070234</td>\n",
       "      <td>False</td>\n",
       "      <td>1.0</td>\n",
       "      <td>iGgClCM9exiHF4K31g94XmvHEBSLKIY</td>\n",
       "      <td>6.768137e+18</td>\n",
       "      <td>NaN</td>\n",
       "      <td>3.072849e+18</td>\n",
       "      <td>2733035977666442898</td>\n",
       "      <td>NaN</td>\n",
       "      <td>1.563</td>\n",
       "      <td>0.905</td>\n",
       "      <td>0.078</td>\n",
       "      <td>1891515180541284343</td>\n",
       "      <td>1904083516767779093</td>\n",
       "    </tr>\n",
       "    <tr>\n",
       "      <th>1</th>\n",
       "      <td>0</td>\n",
       "      <td>NaN</td>\n",
       "      <td>0</td>\n",
       "      <td>2019-03-08 10:24:30.641</td>\n",
       "      <td>6333597102633388268</td>\n",
       "      <td>1.218924</td>\n",
       "      <td>1.071209</td>\n",
       "      <td>False</td>\n",
       "      <td>4.0</td>\n",
       "      <td>MMHTOJ6qKAOeIH_Eywh1KIcCaxtO9oM</td>\n",
       "      <td>3.025219e+18</td>\n",
       "      <td>NaN</td>\n",
       "      <td>1.774085e+18</td>\n",
       "      <td>392184377613098015</td>\n",
       "      <td>NaN</td>\n",
       "      <td>NaN</td>\n",
       "      <td>NaN</td>\n",
       "      <td>NaN</td>\n",
       "      <td>1891515180541284343</td>\n",
       "      <td>3086509764961796666</td>\n",
       "    </tr>\n",
       "    <tr>\n",
       "      <th>2</th>\n",
       "      <td>0</td>\n",
       "      <td>NaN</td>\n",
       "      <td>0</td>\n",
       "      <td>2019-03-08 15:24:16.069</td>\n",
       "      <td>6333597102633388268</td>\n",
       "      <td>1.205689</td>\n",
       "      <td>1.070234</td>\n",
       "      <td>False</td>\n",
       "      <td>6.0</td>\n",
       "      <td>vIrEIdf9izUaWdAri6Ezk7T3nHFvNQU</td>\n",
       "      <td>5.975656e+18</td>\n",
       "      <td>NaN</td>\n",
       "      <td>3.072849e+18</td>\n",
       "      <td>392184377613098015</td>\n",
       "      <td>NaN</td>\n",
       "      <td>NaN</td>\n",
       "      <td>0.946</td>\n",
       "      <td>0.473</td>\n",
       "      <td>1891515180541284343</td>\n",
       "      <td>6958163894863846647</td>\n",
       "    </tr>\n",
       "    <tr>\n",
       "      <th>3</th>\n",
       "      <td>2</td>\n",
       "      <td>NaN</td>\n",
       "      <td>3</td>\n",
       "      <td>2019-03-06 03:08:51.543</td>\n",
       "      <td>6333597102633388268</td>\n",
       "      <td>1.205689</td>\n",
       "      <td>1.070234</td>\n",
       "      <td>False</td>\n",
       "      <td>45.0</td>\n",
       "      <td>YaKxxEAs2UmZhSpRfiCO9Zpa82B_AKM</td>\n",
       "      <td>6.768137e+18</td>\n",
       "      <td>NaN</td>\n",
       "      <td>3.072849e+18</td>\n",
       "      <td>2733035977666442898</td>\n",
       "      <td>NaN</td>\n",
       "      <td>19.013</td>\n",
       "      <td>0.035</td>\n",
       "      <td>0.431</td>\n",
       "      <td>1891515180541284343</td>\n",
       "      <td>4368617728156436525</td>\n",
       "    </tr>\n",
       "    <tr>\n",
       "      <th>4</th>\n",
       "      <td>2</td>\n",
       "      <td>NaN</td>\n",
       "      <td>3</td>\n",
       "      <td>2019-03-06 03:32:55.570</td>\n",
       "      <td>6333597102633388268</td>\n",
       "      <td>1.205689</td>\n",
       "      <td>1.070234</td>\n",
       "      <td>False</td>\n",
       "      <td>45.0</td>\n",
       "      <td>X5XTOcYQovkl6yadYdAD7xioVGU9jiY</td>\n",
       "      <td>6.768137e+18</td>\n",
       "      <td>NaN</td>\n",
       "      <td>3.072849e+18</td>\n",
       "      <td>2733035977666442898</td>\n",
       "      <td>NaN</td>\n",
       "      <td>28.110</td>\n",
       "      <td>0.054</td>\n",
       "      <td>0.423</td>\n",
       "      <td>1891515180541284343</td>\n",
       "      <td>4368617728156436525</td>\n",
       "    </tr>\n",
       "  </tbody>\n",
       "</table>\n",
       "</div>"
      ],
      "text/plain": [
       "   advertiser_id  action_id  source_id                 created  \\\n",
       "0              2        NaN          4 2019-03-06 22:42:12.755   \n",
       "1              0        NaN          0 2019-03-08 10:24:30.641   \n",
       "2              0        NaN          0 2019-03-08 15:24:16.069   \n",
       "3              2        NaN          3 2019-03-06 03:08:51.543   \n",
       "4              2        NaN          3 2019-03-06 03:32:55.570   \n",
       "\n",
       "          country_code  latitude  longitude  wifi_connection  carrier_id  \\\n",
       "0  6333597102633388268  1.205689   1.070234            False         1.0   \n",
       "1  6333597102633388268  1.218924   1.071209            False         4.0   \n",
       "2  6333597102633388268  1.205689   1.070234            False         6.0   \n",
       "3  6333597102633388268  1.205689   1.070234            False        45.0   \n",
       "4  6333597102633388268  1.205689   1.070234            False        45.0   \n",
       "\n",
       "                          trans_id      os_minor  agent_device      os_major  \\\n",
       "0  iGgClCM9exiHF4K31g94XmvHEBSLKIY  6.768137e+18           NaN  3.072849e+18   \n",
       "1  MMHTOJ6qKAOeIH_Eywh1KIcCaxtO9oM  3.025219e+18           NaN  1.774085e+18   \n",
       "2  vIrEIdf9izUaWdAri6Ezk7T3nHFvNQU  5.975656e+18           NaN  3.072849e+18   \n",
       "3  YaKxxEAs2UmZhSpRfiCO9Zpa82B_AKM  6.768137e+18           NaN  3.072849e+18   \n",
       "4  X5XTOcYQovkl6yadYdAD7xioVGU9jiY  6.768137e+18           NaN  3.072849e+18   \n",
       "\n",
       "           specs_brand  brand  timeToClick  touchX  touchY  \\\n",
       "0  2733035977666442898    NaN        1.563   0.905   0.078   \n",
       "1   392184377613098015    NaN          NaN     NaN     NaN   \n",
       "2   392184377613098015    NaN          NaN   0.946   0.473   \n",
       "3  2733035977666442898    NaN       19.013   0.035   0.431   \n",
       "4  2733035977666442898    NaN       28.110   0.054   0.423   \n",
       "\n",
       "              ref_type             ref_hash  \n",
       "0  1891515180541284343  1904083516767779093  \n",
       "1  1891515180541284343  3086509764961796666  \n",
       "2  1891515180541284343  6958163894863846647  \n",
       "3  1891515180541284343  4368617728156436525  \n",
       "4  1891515180541284343  4368617728156436525  "
      ]
     },
     "execution_count": 4,
     "metadata": {},
     "output_type": "execute_result"
    }
   ],
   "source": [
    "clicks.head()"
   ]
  },
  {
   "cell_type": "markdown",
   "metadata": {},
   "source": [
    "# Analisis - Events: "
   ]
  },
  {
   "cell_type": "code",
   "execution_count": 67,
   "metadata": {},
   "outputs": [],
   "source": [
    "columnas_events= [\"date\",\"event_id\",\"event_uuid\",\"kind\",\"ref_type\",\"ref_hash\",\"application_id\",\"attributed\"\n",
    "                  ,\"device_brand\",\"device_model\",\"device_language\",\"device_city\",\"carrier\",\"device_os\",\"wifi\",\"connection_type\"]"
   ]
  },
  {
   "cell_type": "code",
   "execution_count": 4,
   "metadata": {},
   "outputs": [
    {
     "name": "stdout",
     "output_type": "stream",
     "text": [
      "<class 'pandas.core.frame.DataFrame'>\n",
      "RangeIndex: 2494423 entries, 0 to 2494422\n",
      "Data columns (total 22 columns):\n",
      "date                  datetime64[ns]\n",
      "event_id              int64\n",
      "ref_type              int64\n",
      "ref_hash              int64\n",
      "application_id        int64\n",
      "attributed            bool\n",
      "device_countrycode    int64\n",
      "device_os_version     float64\n",
      "device_brand          float64\n",
      "device_model          float64\n",
      "device_city           float64\n",
      "session_user_agent    float64\n",
      "trans_id              object\n",
      "user_agent            float64\n",
      "event_uuid            object\n",
      "carrier               float64\n",
      "kind                  float64\n",
      "device_os             float64\n",
      "wifi                  object\n",
      "connection_type       object\n",
      "ip_address            int64\n",
      "device_language       float64\n",
      "dtypes: bool(1), datetime64[ns](1), float64(10), int64(6), object(4)\n",
      "memory usage: 402.0+ MB\n"
     ]
    }
   ],
   "source": [
    "events.info()"
   ]
  },
  {
   "cell_type": "code",
   "execution_count": 43,
   "metadata": {},
   "outputs": [
    {
     "data": {
      "text/html": [
       "<div>\n",
       "<style scoped>\n",
       "    .dataframe tbody tr th:only-of-type {\n",
       "        vertical-align: middle;\n",
       "    }\n",
       "\n",
       "    .dataframe tbody tr th {\n",
       "        vertical-align: top;\n",
       "    }\n",
       "\n",
       "    .dataframe thead th {\n",
       "        text-align: right;\n",
       "    }\n",
       "</style>\n",
       "<table border=\"1\" class=\"dataframe\">\n",
       "  <thead>\n",
       "    <tr style=\"text-align: right;\">\n",
       "      <th></th>\n",
       "      <th>date</th>\n",
       "      <th>event_id</th>\n",
       "      <th>ref_type</th>\n",
       "      <th>ref_hash</th>\n",
       "      <th>application_id</th>\n",
       "      <th>attributed</th>\n",
       "      <th>device_countrycode</th>\n",
       "      <th>device_os_version</th>\n",
       "      <th>device_brand</th>\n",
       "      <th>device_model</th>\n",
       "      <th>...</th>\n",
       "      <th>trans_id</th>\n",
       "      <th>user_agent</th>\n",
       "      <th>event_uuid</th>\n",
       "      <th>carrier</th>\n",
       "      <th>kind</th>\n",
       "      <th>device_os</th>\n",
       "      <th>wifi</th>\n",
       "      <th>connection_type</th>\n",
       "      <th>ip_address</th>\n",
       "      <th>device_language</th>\n",
       "    </tr>\n",
       "  </thead>\n",
       "  <tbody>\n",
       "    <tr>\n",
       "      <th>0</th>\n",
       "      <td>2019-03-05 00:09:36.966</td>\n",
       "      <td>0</td>\n",
       "      <td>1891515180541284343</td>\n",
       "      <td>2688759737656491380</td>\n",
       "      <td>38</td>\n",
       "      <td>False</td>\n",
       "      <td>6333597102633388268</td>\n",
       "      <td>5.908703e+17</td>\n",
       "      <td>NaN</td>\n",
       "      <td>5.990117e+18</td>\n",
       "      <td>...</td>\n",
       "      <td>NaN</td>\n",
       "      <td>NaN</td>\n",
       "      <td>a9c0b263-acb2-4577-92c5-cbde5d7a5db1</td>\n",
       "      <td>2.248157e+17</td>\n",
       "      <td>5.516623e+18</td>\n",
       "      <td>7.531669e+18</td>\n",
       "      <td>NaN</td>\n",
       "      <td>Cable/DSL</td>\n",
       "      <td>7858558567428669000</td>\n",
       "      <td>4.077062e+17</td>\n",
       "    </tr>\n",
       "    <tr>\n",
       "      <th>1</th>\n",
       "      <td>2019-03-05 00:09:38.920</td>\n",
       "      <td>1</td>\n",
       "      <td>1891515180541284343</td>\n",
       "      <td>2688759737656491380</td>\n",
       "      <td>38</td>\n",
       "      <td>False</td>\n",
       "      <td>6333597102633388268</td>\n",
       "      <td>5.908703e+17</td>\n",
       "      <td>NaN</td>\n",
       "      <td>5.990117e+18</td>\n",
       "      <td>...</td>\n",
       "      <td>NaN</td>\n",
       "      <td>NaN</td>\n",
       "      <td>1cd98205-0d97-4ec2-a019-667997dbfe7a</td>\n",
       "      <td>2.248157e+17</td>\n",
       "      <td>9.977660e+17</td>\n",
       "      <td>7.531669e+18</td>\n",
       "      <td>NaN</td>\n",
       "      <td>Cable/DSL</td>\n",
       "      <td>7858558567428669000</td>\n",
       "      <td>4.077062e+17</td>\n",
       "    </tr>\n",
       "    <tr>\n",
       "      <th>2</th>\n",
       "      <td>2019-03-05 00:09:26.195</td>\n",
       "      <td>0</td>\n",
       "      <td>1891515180541284343</td>\n",
       "      <td>2688759737656491380</td>\n",
       "      <td>38</td>\n",
       "      <td>False</td>\n",
       "      <td>6333597102633388268</td>\n",
       "      <td>5.908703e+17</td>\n",
       "      <td>NaN</td>\n",
       "      <td>5.990117e+18</td>\n",
       "      <td>...</td>\n",
       "      <td>NaN</td>\n",
       "      <td>NaN</td>\n",
       "      <td>f02e2924-21ae-492b-b625-9021ae0a4eca</td>\n",
       "      <td>2.248157e+17</td>\n",
       "      <td>5.516623e+18</td>\n",
       "      <td>7.531669e+18</td>\n",
       "      <td>NaN</td>\n",
       "      <td>Cable/DSL</td>\n",
       "      <td>7858558567428669000</td>\n",
       "      <td>4.077062e+17</td>\n",
       "    </tr>\n",
       "    <tr>\n",
       "      <th>3</th>\n",
       "      <td>2019-03-05 00:09:31.107</td>\n",
       "      <td>2</td>\n",
       "      <td>1891515180541284343</td>\n",
       "      <td>2688759737656491380</td>\n",
       "      <td>38</td>\n",
       "      <td>False</td>\n",
       "      <td>6333597102633388268</td>\n",
       "      <td>5.908703e+17</td>\n",
       "      <td>NaN</td>\n",
       "      <td>5.990117e+18</td>\n",
       "      <td>...</td>\n",
       "      <td>NaN</td>\n",
       "      <td>NaN</td>\n",
       "      <td>a813cf45-a36e-4668-85e2-5395f1564e98</td>\n",
       "      <td>2.248157e+17</td>\n",
       "      <td>8.561153e+18</td>\n",
       "      <td>7.531669e+18</td>\n",
       "      <td>NaN</td>\n",
       "      <td>Cable/DSL</td>\n",
       "      <td>6324037615828123965</td>\n",
       "      <td>4.077062e+17</td>\n",
       "    </tr>\n",
       "    <tr>\n",
       "      <th>4</th>\n",
       "      <td>2019-03-09 21:00:36.585</td>\n",
       "      <td>3</td>\n",
       "      <td>1891515180541284343</td>\n",
       "      <td>2635154697734164782</td>\n",
       "      <td>38</td>\n",
       "      <td>False</td>\n",
       "      <td>6333597102633388268</td>\n",
       "      <td>7.391844e+18</td>\n",
       "      <td>NaN</td>\n",
       "      <td>5.960896e+18</td>\n",
       "      <td>...</td>\n",
       "      <td>NaN</td>\n",
       "      <td>NaN</td>\n",
       "      <td>63a4f0aa-e147-469f-8c55-4ca4f8d0e310</td>\n",
       "      <td>2.248157e+17</td>\n",
       "      <td>8.731902e+17</td>\n",
       "      <td>7.531669e+18</td>\n",
       "      <td>NaN</td>\n",
       "      <td>Cable/DSL</td>\n",
       "      <td>2894495631302821483</td>\n",
       "      <td>3.301378e+18</td>\n",
       "    </tr>\n",
       "  </tbody>\n",
       "</table>\n",
       "<p>5 rows × 22 columns</p>\n",
       "</div>"
      ],
      "text/plain": [
       "                     date  event_id             ref_type             ref_hash  \\\n",
       "0 2019-03-05 00:09:36.966         0  1891515180541284343  2688759737656491380   \n",
       "1 2019-03-05 00:09:38.920         1  1891515180541284343  2688759737656491380   \n",
       "2 2019-03-05 00:09:26.195         0  1891515180541284343  2688759737656491380   \n",
       "3 2019-03-05 00:09:31.107         2  1891515180541284343  2688759737656491380   \n",
       "4 2019-03-09 21:00:36.585         3  1891515180541284343  2635154697734164782   \n",
       "\n",
       "   application_id  attributed   device_countrycode  device_os_version  \\\n",
       "0              38       False  6333597102633388268       5.908703e+17   \n",
       "1              38       False  6333597102633388268       5.908703e+17   \n",
       "2              38       False  6333597102633388268       5.908703e+17   \n",
       "3              38       False  6333597102633388268       5.908703e+17   \n",
       "4              38       False  6333597102633388268       7.391844e+18   \n",
       "\n",
       "   device_brand  device_model  ...  trans_id  user_agent  \\\n",
       "0           NaN  5.990117e+18  ...       NaN         NaN   \n",
       "1           NaN  5.990117e+18  ...       NaN         NaN   \n",
       "2           NaN  5.990117e+18  ...       NaN         NaN   \n",
       "3           NaN  5.990117e+18  ...       NaN         NaN   \n",
       "4           NaN  5.960896e+18  ...       NaN         NaN   \n",
       "\n",
       "                             event_uuid       carrier          kind  \\\n",
       "0  a9c0b263-acb2-4577-92c5-cbde5d7a5db1  2.248157e+17  5.516623e+18   \n",
       "1  1cd98205-0d97-4ec2-a019-667997dbfe7a  2.248157e+17  9.977660e+17   \n",
       "2  f02e2924-21ae-492b-b625-9021ae0a4eca  2.248157e+17  5.516623e+18   \n",
       "3  a813cf45-a36e-4668-85e2-5395f1564e98  2.248157e+17  8.561153e+18   \n",
       "4  63a4f0aa-e147-469f-8c55-4ca4f8d0e310  2.248157e+17  8.731902e+17   \n",
       "\n",
       "      device_os  wifi  connection_type           ip_address device_language  \n",
       "0  7.531669e+18   NaN        Cable/DSL  7858558567428669000    4.077062e+17  \n",
       "1  7.531669e+18   NaN        Cable/DSL  7858558567428669000    4.077062e+17  \n",
       "2  7.531669e+18   NaN        Cable/DSL  7858558567428669000    4.077062e+17  \n",
       "3  7.531669e+18   NaN        Cable/DSL  6324037615828123965    4.077062e+17  \n",
       "4  7.531669e+18   NaN        Cable/DSL  2894495631302821483    3.301378e+18  \n",
       "\n",
       "[5 rows x 22 columns]"
      ]
     },
     "execution_count": 43,
     "metadata": {},
     "output_type": "execute_result"
    }
   ],
   "source": [
    "events.head()"
   ]
  },
  {
   "cell_type": "markdown",
   "metadata": {},
   "source": [
    "## Eventos"
   ]
  },
  {
   "cell_type": "markdown",
   "metadata": {},
   "source": [
    "### ¿Cuántos tipos de eventos distintos hay?"
   ]
  },
  {
   "cell_type": "code",
   "execution_count": 8,
   "metadata": {},
   "outputs": [
    {
     "data": {
      "text/plain": [
       "568"
      ]
     },
     "execution_count": 8,
     "metadata": {},
     "output_type": "execute_result"
    }
   ],
   "source": [
    "events[\"event_id\"].nunique()"
   ]
  },
  {
   "cell_type": "code",
   "execution_count": 68,
   "metadata": {},
   "outputs": [
    {
     "data": {
      "text/plain": [
       "2489324"
      ]
     },
     "execution_count": 68,
     "metadata": {},
     "output_type": "execute_result"
    }
   ],
   "source": [
    "events[\"event_uuid\"].nunique()"
   ]
  },
  {
   "cell_type": "code",
   "execution_count": 49,
   "metadata": {},
   "outputs": [
    {
     "data": {
      "text/plain": [
       "583"
      ]
     },
     "execution_count": 49,
     "metadata": {},
     "output_type": "execute_result"
    }
   ],
   "source": [
    "events[\"kind\"].nunique()"
   ]
  },
  {
   "cell_type": "code",
   "execution_count": 68,
   "metadata": {},
   "outputs": [
    {
     "data": {
      "text/plain": [
       "5099"
      ]
     },
     "execution_count": 68,
     "metadata": {},
     "output_type": "execute_result"
    }
   ],
   "source": [
    "events[\"kind\"].isnull().sum()"
   ]
  },
  {
   "cell_type": "markdown",
   "metadata": {},
   "source": [
    "## ¿Cuántos eventos atribuidos?"
   ]
  },
  {
   "cell_type": "code",
   "execution_count": 5,
   "metadata": {},
   "outputs": [
    {
     "data": {
      "text/plain": [
       "Text(0.5, 0.98, 'Comparacion de eventos atribuidos')"
      ]
     },
     "execution_count": 5,
     "metadata": {},
     "output_type": "execute_result"
    },
    {
     "data": {
      "image/png": "[encoded data removed]",
      "text/plain": [
       "<Figure size 1080x432 with 2 Axes>"
      ]
     },
     "metadata": {
      "needs_background": "light"
     },
     "output_type": "display_data"
    }
   ],
   "source": [
    "fig, ejes = plt.subplots(nrows = 1,ncols = 2, figsize = (15,6), )\n",
    "ax1 = ejes[0]\n",
    "ax2 = ejes[1]\n",
    "\n",
    "datos = events[\"attributed\"].value_counts()\n",
    "labels = [\"No atribuidos\", \"Atribuidos\"]\n",
    "\n",
    "graf_barras = datos.plot(kind = \"bar\",color = \"SkyBlue\",ax=ax1)\n",
    "ax1.set_xticklabels(labels)\n",
    "ax1.set_ylabel = \"Cantidad de Eventos\"\n",
    "ax1.set_xlabel = \"Eventos\"\n",
    "autolabel_height(graf_barras)\n",
    "\n",
    "graf_torta = ax2.pie(datos, autopct = autolabel_pct)\n",
    "\n",
    "graf_torta[2][0].set_fontsize(15)\n",
    "graf_torta[2][1].set_color(\"w\")\n",
    "graf_torta[2][1].set_fontsize(15)\n",
    "\n",
    "ax2.legend(graf_torta[0], labels,\n",
    "          title=\"Eventos\",\n",
    "          loc=\"center left\",\n",
    "          bbox_to_anchor=(1, 0, 0, 1))\n",
    "\n",
    "fig.suptitle(\"Comparacion de eventos atribuidos\",fontsize = 15)\n"
   ]
  },
  {
   "cell_type": "markdown",
   "metadata": {},
   "source": [
    "## ¿Cuales son los eventos más presentes?"
   ]
  },
  {
   "cell_type": "code",
   "execution_count": 100,
   "metadata": {},
   "outputs": [],
   "source": [
    "events_os = events.groupby([\"event_id\",\"ref_type\"]).count().reset_index()\\\n",
    "      .pivot(\"event_id\",\"ref_type\",\"ref_hash\")\\"
   ]
  },
  {
   "cell_type": "code",
   "execution_count": 107,
   "metadata": {},
   "outputs": [],
   "source": [
    "events_os[\"total\"] = events_os.sum(axis=1)\n",
    "\n",
    "events_os = events_os.nlargest(10, columns = \"total\")"
   ]
  },
  {
   "cell_type": "code",
   "execution_count": 144,
   "metadata": {},
   "outputs": [],
   "source": [
    "events_os.reset_index(inplace=True)"
   ]
  },
  {
   "cell_type": "code",
   "execution_count": 145,
   "metadata": {},
   "outputs": [
    {
     "data": {
      "text/html": [
       "<div>\n",
       "<style scoped>\n",
       "    .dataframe tbody tr th:only-of-type {\n",
       "        vertical-align: middle;\n",
       "    }\n",
       "\n",
       "    .dataframe tbody tr th {\n",
       "        vertical-align: top;\n",
       "    }\n",
       "\n",
       "    .dataframe thead th {\n",
       "        text-align: right;\n",
       "    }\n",
       "</style>\n",
       "<table border=\"1\" class=\"dataframe\">\n",
       "  <thead>\n",
       "    <tr style=\"text-align: right;\">\n",
       "      <th>ref_type</th>\n",
       "      <th>event_id</th>\n",
       "      <th>1494519392962156891</th>\n",
       "      <th>1891515180541284343</th>\n",
       "      <th>total</th>\n",
       "    </tr>\n",
       "  </thead>\n",
       "  <tbody>\n",
       "    <tr>\n",
       "      <th>0</th>\n",
       "      <td>22</td>\n",
       "      <td>36674.0</td>\n",
       "      <td>581554.0</td>\n",
       "      <td>1854684.0</td>\n",
       "    </tr>\n",
       "    <tr>\n",
       "      <th>1</th>\n",
       "      <td>31</td>\n",
       "      <td>100200.0</td>\n",
       "      <td>316870.0</td>\n",
       "      <td>1251210.0</td>\n",
       "    </tr>\n",
       "    <tr>\n",
       "      <th>2</th>\n",
       "      <td>161</td>\n",
       "      <td>49647.0</td>\n",
       "      <td>168199.0</td>\n",
       "      <td>653538.0</td>\n",
       "    </tr>\n",
       "    <tr>\n",
       "      <th>3</th>\n",
       "      <td>1</td>\n",
       "      <td>69498.0</td>\n",
       "      <td>88314.0</td>\n",
       "      <td>473436.0</td>\n",
       "    </tr>\n",
       "    <tr>\n",
       "      <th>4</th>\n",
       "      <td>138</td>\n",
       "      <td>9945.0</td>\n",
       "      <td>90094.0</td>\n",
       "      <td>300117.0</td>\n",
       "    </tr>\n",
       "    <tr>\n",
       "      <th>5</th>\n",
       "      <td>162</td>\n",
       "      <td>45053.0</td>\n",
       "      <td>39845.0</td>\n",
       "      <td>254694.0</td>\n",
       "    </tr>\n",
       "    <tr>\n",
       "      <th>6</th>\n",
       "      <td>329</td>\n",
       "      <td>14623.0</td>\n",
       "      <td>41867.0</td>\n",
       "      <td>169470.0</td>\n",
       "    </tr>\n",
       "    <tr>\n",
       "      <th>7</th>\n",
       "      <td>156</td>\n",
       "      <td>18634.0</td>\n",
       "      <td>34698.0</td>\n",
       "      <td>159996.0</td>\n",
       "    </tr>\n",
       "    <tr>\n",
       "      <th>8</th>\n",
       "      <td>33</td>\n",
       "      <td>25976.0</td>\n",
       "      <td>22605.0</td>\n",
       "      <td>145743.0</td>\n",
       "    </tr>\n",
       "    <tr>\n",
       "      <th>9</th>\n",
       "      <td>171</td>\n",
       "      <td>7681.0</td>\n",
       "      <td>36261.0</td>\n",
       "      <td>131826.0</td>\n",
       "    </tr>\n",
       "  </tbody>\n",
       "</table>\n",
       "</div>"
      ],
      "text/plain": [
       "ref_type  event_id  1494519392962156891  1891515180541284343      total\n",
       "0               22              36674.0             581554.0  1854684.0\n",
       "1               31             100200.0             316870.0  1251210.0\n",
       "2              161              49647.0             168199.0   653538.0\n",
       "3                1              69498.0              88314.0   473436.0\n",
       "4              138               9945.0              90094.0   300117.0\n",
       "5              162              45053.0              39845.0   254694.0\n",
       "6              329              14623.0              41867.0   169470.0\n",
       "7              156              18634.0              34698.0   159996.0\n",
       "8               33              25976.0              22605.0   145743.0\n",
       "9              171               7681.0              36261.0   131826.0"
      ]
     },
     "execution_count": 145,
     "metadata": {},
     "output_type": "execute_result"
    }
   ],
   "source": [
    "events_os"
   ]
  },
  {
   "cell_type": "code",
   "execution_count": 201,
   "metadata": {},
   "outputs": [
    {
     "data": {
      "image/png": "[encoded data removed]",
      "text/plain": [
       "<Figure size 1080x504 with 1 Axes>"
      ]
     },
     "metadata": {
      "needs_background": "light"
     },
     "output_type": "display_data"
    }
   ],
   "source": [
    "N = 10\n",
    "os_1 = events_os.iloc[:,1]\n",
    "os_2 = events_os.iloc[:,2]\n",
    "\n",
    "label_ev = events_os[\"event_id\"]\n",
    "label_os = events[\"ref_type\"].nunique()\n",
    "\n",
    "ind = np.arange(N)    # the x locations for the groups\n",
    "width = 0.5       # the width of the bars: can also be len(x) sequence\n",
    "\n",
    "fig = plt.figure(figsize=(15,7))\n",
    "\n",
    "ax =fig.gca()\n",
    "p1 = plt.bar(ind, os_1, width)\n",
    "p2 = plt.bar(ind, os_2, width, bottom=os_1 )\n",
    "\n",
    "\n",
    "plt.ylabel('Cantidad de eventos')\n",
    "plt.xlabel('ID Evento')\n",
    "plt.title('Top de eventos mas frecuentes')\n",
    "plt.xticks(ind, label_ev)\n",
    "plt.legend((p1[0], p2[0]), (\"iOS\",\"Android\"))\n",
    "\n",
    "#autolabel_height(ax)\n",
    "plt.show()\n"
   ]
  },
  {
   "cell_type": "code",
   "execution_count": 188,
   "metadata": {},
   "outputs": [
    {
     "data": {
      "image/png": "[encoded data removed]",
      "text/plain": [
       "<Figure size 1080x504 with 1 Axes>"
      ]
     },
     "metadata": {
      "needs_background": "light"
     },
     "output_type": "display_data"
    }
   ],
   "source": [
    "fig, ax1 = plt.subplots( figsize = (15,7), )\n",
    "\n",
    "datos = events[\"event_id\"].value_counts().head(10)\n",
    "graf_barras = datos.plot(kind = \"bar\",color = \"SkyBlue\",ax=ax1)\n",
    "\n",
    "fig.suptitle(\"Top 10 de eventos más frecuentes\",fontsize = 15)\n",
    "autolabel_height(graf_barras)"
   ]
  },
  {
   "cell_type": "markdown",
   "metadata": {},
   "source": [
    "## Eventos más frecuentes categorizados por wifi"
   ]
  },
  {
   "cell_type": "code",
   "execution_count": 273,
   "metadata": {},
   "outputs": [],
   "source": [
    "events_wifi = events.groupby([\"event_id\",\"wifi\"]).count().reset_index()\\\n",
    "                  .pivot(\"event_id\",\"wifi\",\"ref_hash\")\\\n",
    "\n",
    "events_wifi[\"total\"] = events_wifi.sum(axis=1)\n",
    "\n",
    "events_wifi = events_wifi.nlargest(10, columns = \"total\")\n",
    "\n",
    "events_wifi.reset_index(inplace=True)"
   ]
  },
  {
   "cell_type": "code",
   "execution_count": 274,
   "metadata": {},
   "outputs": [
    {
     "data": {
      "text/html": [
       "<div>\n",
       "<style scoped>\n",
       "    .dataframe tbody tr th:only-of-type {\n",
       "        vertical-align: middle;\n",
       "    }\n",
       "\n",
       "    .dataframe tbody tr th {\n",
       "        vertical-align: top;\n",
       "    }\n",
       "\n",
       "    .dataframe thead th {\n",
       "        text-align: right;\n",
       "    }\n",
       "</style>\n",
       "<table border=\"1\" class=\"dataframe\">\n",
       "  <thead>\n",
       "    <tr style=\"text-align: right;\">\n",
       "      <th>wifi</th>\n",
       "      <th>event_id</th>\n",
       "      <th>False</th>\n",
       "      <th>True</th>\n",
       "      <th>total</th>\n",
       "    </tr>\n",
       "  </thead>\n",
       "  <tbody>\n",
       "    <tr>\n",
       "      <th>0</th>\n",
       "      <td>22</td>\n",
       "      <td>255661.0</td>\n",
       "      <td>362567.0</td>\n",
       "      <td>618228.0</td>\n",
       "    </tr>\n",
       "    <tr>\n",
       "      <th>1</th>\n",
       "      <td>31</td>\n",
       "      <td>41250.0</td>\n",
       "      <td>73213.0</td>\n",
       "      <td>114463.0</td>\n",
       "    </tr>\n",
       "    <tr>\n",
       "      <th>2</th>\n",
       "      <td>138</td>\n",
       "      <td>4740.0</td>\n",
       "      <td>95299.0</td>\n",
       "      <td>100039.0</td>\n",
       "    </tr>\n",
       "    <tr>\n",
       "      <th>3</th>\n",
       "      <td>156</td>\n",
       "      <td>16567.0</td>\n",
       "      <td>36757.0</td>\n",
       "      <td>53324.0</td>\n",
       "    </tr>\n",
       "    <tr>\n",
       "      <th>4</th>\n",
       "      <td>33</td>\n",
       "      <td>11679.0</td>\n",
       "      <td>28213.0</td>\n",
       "      <td>39892.0</td>\n",
       "    </tr>\n",
       "    <tr>\n",
       "      <th>5</th>\n",
       "      <td>155</td>\n",
       "      <td>11931.0</td>\n",
       "      <td>26534.0</td>\n",
       "      <td>38465.0</td>\n",
       "    </tr>\n",
       "    <tr>\n",
       "      <th>6</th>\n",
       "      <td>273</td>\n",
       "      <td>7808.0</td>\n",
       "      <td>29248.0</td>\n",
       "      <td>37056.0</td>\n",
       "    </tr>\n",
       "    <tr>\n",
       "      <th>7</th>\n",
       "      <td>23</td>\n",
       "      <td>7189.0</td>\n",
       "      <td>28399.0</td>\n",
       "      <td>35588.0</td>\n",
       "    </tr>\n",
       "    <tr>\n",
       "      <th>8</th>\n",
       "      <td>21</td>\n",
       "      <td>4604.0</td>\n",
       "      <td>21624.0</td>\n",
       "      <td>26228.0</td>\n",
       "    </tr>\n",
       "    <tr>\n",
       "      <th>9</th>\n",
       "      <td>98</td>\n",
       "      <td>1131.0</td>\n",
       "      <td>23165.0</td>\n",
       "      <td>24296.0</td>\n",
       "    </tr>\n",
       "  </tbody>\n",
       "</table>\n",
       "</div>"
      ],
      "text/plain": [
       "wifi  event_id     False      True     total\n",
       "0           22  255661.0  362567.0  618228.0\n",
       "1           31   41250.0   73213.0  114463.0\n",
       "2          138    4740.0   95299.0  100039.0\n",
       "3          156   16567.0   36757.0   53324.0\n",
       "4           33   11679.0   28213.0   39892.0\n",
       "5          155   11931.0   26534.0   38465.0\n",
       "6          273    7808.0   29248.0   37056.0\n",
       "7           23    7189.0   28399.0   35588.0\n",
       "8           21    4604.0   21624.0   26228.0\n",
       "9           98    1131.0   23165.0   24296.0"
      ]
     },
     "execution_count": 274,
     "metadata": {},
     "output_type": "execute_result"
    }
   ],
   "source": [
    "events_wifi"
   ]
  },
  {
   "cell_type": "code",
   "execution_count": 279,
   "metadata": {},
   "outputs": [
    {
     "data": {
      "image/png": "[encoded data removed]",
      "text/plain": [
       "<Figure size 1080x504 with 1 Axes>"
      ]
     },
     "metadata": {
      "needs_background": "light"
     },
     "output_type": "display_data"
    }
   ],
   "source": [
    "N = 10\n",
    "group_1 = events_wifi.iloc[:,1]\n",
    "group_2 = events_wifi.iloc[:,2]\n",
    "\n",
    "label_ev = events_wifi[\"event_id\"]\n",
    "\n",
    "ind = np.arange(N)    # the x locations for the groups\n",
    "width = 0.5       # the width of the bars: can also be len(x) sequence\n",
    "\n",
    "fig = plt.figure(figsize=(15,7))\n",
    "\n",
    "ax =fig.gca()\n",
    "p1 = plt.bar(ind, group_1, width,color = \"Yellow\")\n",
    "p2 = plt.bar(ind, group_2, width, bottom=group_1, color= \"Violet\")\n",
    "\n",
    "\n",
    "plt.ylabel('Cantidad de eventos')\n",
    "plt.xlabel('ID Evento')\n",
    "plt.title('Top de eventos mas frecuentes')\n",
    "plt.xticks(ind, label_ev)\n",
    "plt.legend((p1[0], p2[0]), (\"Sin wifi\",\"Con wifi\"))\n",
    "\n",
    "#autolabel_height(ax)\n",
    "plt.show()\n"
   ]
  },
  {
   "cell_type": "code",
   "execution_count": 300,
   "metadata": {},
   "outputs": [],
   "source": [
    "events_connect = events.groupby([\"event_id\",\"connection_type\"]).count().reset_index()\\\n",
    "                  .pivot(\"event_id\",\"connection_type\",\"ref_hash\")\\\n",
    "\n",
    "events_connect[\"total\"] = events_connect.sum(axis=1)\n",
    "\n",
    "events_connect = events_connect.nlargest(10, columns = \"total\")\n",
    "\n",
    "events_connect.reset_index(inplace=True)"
   ]
  },
  {
   "cell_type": "code",
   "execution_count": 303,
   "metadata": {},
   "outputs": [],
   "source": [
    "events_connect.fillna(0,inplace = True)"
   ]
  },
  {
   "cell_type": "code",
   "execution_count": 304,
   "metadata": {},
   "outputs": [
    {
     "data": {
      "text/html": [
       "<div>\n",
       "<style scoped>\n",
       "    .dataframe tbody tr th:only-of-type {\n",
       "        vertical-align: middle;\n",
       "    }\n",
       "\n",
       "    .dataframe tbody tr th {\n",
       "        vertical-align: top;\n",
       "    }\n",
       "\n",
       "    .dataframe thead th {\n",
       "        text-align: right;\n",
       "    }\n",
       "</style>\n",
       "<table border=\"1\" class=\"dataframe\">\n",
       "  <thead>\n",
       "    <tr style=\"text-align: right;\">\n",
       "      <th>connection_type</th>\n",
       "      <th>event_id</th>\n",
       "      <th>Cable/DSL</th>\n",
       "      <th>Cellular</th>\n",
       "      <th>Corporate</th>\n",
       "      <th>total</th>\n",
       "    </tr>\n",
       "  </thead>\n",
       "  <tbody>\n",
       "    <tr>\n",
       "      <th>0</th>\n",
       "      <td>161</td>\n",
       "      <td>95676.0</td>\n",
       "      <td>122002.0</td>\n",
       "      <td>0.0</td>\n",
       "      <td>217678.0</td>\n",
       "    </tr>\n",
       "    <tr>\n",
       "      <th>1</th>\n",
       "      <td>1</td>\n",
       "      <td>84459.0</td>\n",
       "      <td>66856.0</td>\n",
       "      <td>2.0</td>\n",
       "      <td>151317.0</td>\n",
       "    </tr>\n",
       "    <tr>\n",
       "      <th>2</th>\n",
       "      <td>162</td>\n",
       "      <td>40355.0</td>\n",
       "      <td>44481.0</td>\n",
       "      <td>0.0</td>\n",
       "      <td>84836.0</td>\n",
       "    </tr>\n",
       "    <tr>\n",
       "      <th>3</th>\n",
       "      <td>310</td>\n",
       "      <td>31569.0</td>\n",
       "      <td>10499.0</td>\n",
       "      <td>0.0</td>\n",
       "      <td>42068.0</td>\n",
       "    </tr>\n",
       "    <tr>\n",
       "      <th>4</th>\n",
       "      <td>80</td>\n",
       "      <td>13831.0</td>\n",
       "      <td>8164.0</td>\n",
       "      <td>0.0</td>\n",
       "      <td>21995.0</td>\n",
       "    </tr>\n",
       "    <tr>\n",
       "      <th>5</th>\n",
       "      <td>81</td>\n",
       "      <td>11694.0</td>\n",
       "      <td>6878.0</td>\n",
       "      <td>0.0</td>\n",
       "      <td>18572.0</td>\n",
       "    </tr>\n",
       "    <tr>\n",
       "      <th>6</th>\n",
       "      <td>33</td>\n",
       "      <td>5532.0</td>\n",
       "      <td>3146.0</td>\n",
       "      <td>0.0</td>\n",
       "      <td>8678.0</td>\n",
       "    </tr>\n",
       "    <tr>\n",
       "      <th>7</th>\n",
       "      <td>40</td>\n",
       "      <td>5769.0</td>\n",
       "      <td>2523.0</td>\n",
       "      <td>0.0</td>\n",
       "      <td>8292.0</td>\n",
       "    </tr>\n",
       "    <tr>\n",
       "      <th>8</th>\n",
       "      <td>189</td>\n",
       "      <td>5352.0</td>\n",
       "      <td>2581.0</td>\n",
       "      <td>1.0</td>\n",
       "      <td>7934.0</td>\n",
       "    </tr>\n",
       "    <tr>\n",
       "      <th>9</th>\n",
       "      <td>41</td>\n",
       "      <td>5512.0</td>\n",
       "      <td>1809.0</td>\n",
       "      <td>0.0</td>\n",
       "      <td>7321.0</td>\n",
       "    </tr>\n",
       "  </tbody>\n",
       "</table>\n",
       "</div>"
      ],
      "text/plain": [
       "connection_type  event_id  Cable/DSL  Cellular  Corporate     total\n",
       "0                     161    95676.0  122002.0        0.0  217678.0\n",
       "1                       1    84459.0   66856.0        2.0  151317.0\n",
       "2                     162    40355.0   44481.0        0.0   84836.0\n",
       "3                     310    31569.0   10499.0        0.0   42068.0\n",
       "4                      80    13831.0    8164.0        0.0   21995.0\n",
       "5                      81    11694.0    6878.0        0.0   18572.0\n",
       "6                      33     5532.0    3146.0        0.0    8678.0\n",
       "7                      40     5769.0    2523.0        0.0    8292.0\n",
       "8                     189     5352.0    2581.0        1.0    7934.0\n",
       "9                      41     5512.0    1809.0        0.0    7321.0"
      ]
     },
     "execution_count": 304,
     "metadata": {},
     "output_type": "execute_result"
    }
   ],
   "source": [
    "events_connect"
   ]
  },
  {
   "cell_type": "code",
   "execution_count": 306,
   "metadata": {},
   "outputs": [
    {
     "data": {
      "image/png": "[encoded data removed]",
      "text/plain": [
       "<Figure size 1080x504 with 1 Axes>"
      ]
     },
     "metadata": {
      "needs_background": "light"
     },
     "output_type": "display_data"
    }
   ],
   "source": [
    "N = 10\n",
    "group_1 = events_connect.iloc[:,1]\n",
    "group_2 = events_connect.iloc[:,2]\n",
    "group_3 = events_connect.iloc[:,3]\n",
    "\n",
    "label_ev = events_connect[\"event_id\"]\n",
    "\n",
    "ind = np.arange(N)    # the x locations for the groups\n",
    "width = 0.5       # the width of the bars: can also be len(x) sequence\n",
    "\n",
    "fig = plt.figure(figsize=(15,7))\n",
    "\n",
    "ax =fig.gca()\n",
    "p1 = plt.bar(ind, group_1, width,color = \"Blue\")\n",
    "p2 = plt.bar(ind, group_2, width, bottom=group_1, color= \"Red\")\n",
    "p3 = plt.bar(ind, group_3, width, bottom= group_1+group_2, color = \"Yellow\")\n",
    "\n",
    "\n",
    "plt.ylabel('Cantidad de eventos')\n",
    "plt.xlabel('ID Evento')\n",
    "plt.title('Top 10 de eventos atribuidos por conexion')\n",
    "plt.xticks(ind, label_ev)\n",
    "plt.legend((p1[0], p2[0],p3[0]), (\"Cable/DSL\",\"Cellular\",\"Corporate\"))\n",
    "\n",
    "#autolabel_height(ax)\n",
    "plt.show()"
   ]
  },
  {
   "cell_type": "markdown",
   "metadata": {},
   "source": [
    "# Eventos atribuidos"
   ]
  },
  {
   "cell_type": "markdown",
   "metadata": {},
   "source": [
    "## ¿Cuales son los eventos más atribuidos?"
   ]
  },
  {
   "cell_type": "code",
   "execution_count": 217,
   "metadata": {},
   "outputs": [],
   "source": [
    "attributed_os= events.groupby([\"event_id\",\"ref_type\"])[\"attributed\"]\\\n",
    "                  .sum()\\\n",
    "                  .reset_index()\\\n",
    "                  .pivot(\"event_id\",\"ref_type\",\"attributed\")\\"
   ]
  },
  {
   "cell_type": "code",
   "execution_count": 218,
   "metadata": {},
   "outputs": [],
   "source": [
    "attributed_os[\"total\"] = attributed_os.sum(axis=1)\n",
    "\n",
    "attributed_os = attributed_os.nlargest(10, columns = \"total\").fillna(0)"
   ]
  },
  {
   "cell_type": "code",
   "execution_count": 219,
   "metadata": {},
   "outputs": [],
   "source": [
    "attributed_os.reset_index(inplace=True)"
   ]
  },
  {
   "cell_type": "code",
   "execution_count": 220,
   "metadata": {},
   "outputs": [
    {
     "data": {
      "text/html": [
       "<div>\n",
       "<style scoped>\n",
       "    .dataframe tbody tr th:only-of-type {\n",
       "        vertical-align: middle;\n",
       "    }\n",
       "\n",
       "    .dataframe tbody tr th {\n",
       "        vertical-align: top;\n",
       "    }\n",
       "\n",
       "    .dataframe thead th {\n",
       "        text-align: right;\n",
       "    }\n",
       "</style>\n",
       "<table border=\"1\" class=\"dataframe\">\n",
       "  <thead>\n",
       "    <tr style=\"text-align: right;\">\n",
       "      <th>ref_type</th>\n",
       "      <th>event_id</th>\n",
       "      <th>1494519392962156891</th>\n",
       "      <th>1891515180541284343</th>\n",
       "      <th>total</th>\n",
       "    </tr>\n",
       "  </thead>\n",
       "  <tbody>\n",
       "    <tr>\n",
       "      <th>0</th>\n",
       "      <td>31</td>\n",
       "      <td>41.0</td>\n",
       "      <td>1515.0</td>\n",
       "      <td>1556.0</td>\n",
       "    </tr>\n",
       "    <tr>\n",
       "      <th>1</th>\n",
       "      <td>513</td>\n",
       "      <td>0.0</td>\n",
       "      <td>1004.0</td>\n",
       "      <td>1004.0</td>\n",
       "    </tr>\n",
       "    <tr>\n",
       "      <th>2</th>\n",
       "      <td>156</td>\n",
       "      <td>114.0</td>\n",
       "      <td>470.0</td>\n",
       "      <td>584.0</td>\n",
       "    </tr>\n",
       "    <tr>\n",
       "      <th>3</th>\n",
       "      <td>155</td>\n",
       "      <td>121.0</td>\n",
       "      <td>277.0</td>\n",
       "      <td>398.0</td>\n",
       "    </tr>\n",
       "    <tr>\n",
       "      <th>4</th>\n",
       "      <td>158</td>\n",
       "      <td>49.0</td>\n",
       "      <td>245.0</td>\n",
       "      <td>294.0</td>\n",
       "    </tr>\n",
       "    <tr>\n",
       "      <th>5</th>\n",
       "      <td>133</td>\n",
       "      <td>85.0</td>\n",
       "      <td>129.0</td>\n",
       "      <td>214.0</td>\n",
       "    </tr>\n",
       "    <tr>\n",
       "      <th>6</th>\n",
       "      <td>41</td>\n",
       "      <td>0.0</td>\n",
       "      <td>213.0</td>\n",
       "      <td>213.0</td>\n",
       "    </tr>\n",
       "    <tr>\n",
       "      <th>7</th>\n",
       "      <td>1</td>\n",
       "      <td>49.0</td>\n",
       "      <td>121.0</td>\n",
       "      <td>170.0</td>\n",
       "    </tr>\n",
       "    <tr>\n",
       "      <th>8</th>\n",
       "      <td>40</td>\n",
       "      <td>0.0</td>\n",
       "      <td>129.0</td>\n",
       "      <td>129.0</td>\n",
       "    </tr>\n",
       "    <tr>\n",
       "      <th>9</th>\n",
       "      <td>204</td>\n",
       "      <td>0.0</td>\n",
       "      <td>100.0</td>\n",
       "      <td>100.0</td>\n",
       "    </tr>\n",
       "  </tbody>\n",
       "</table>\n",
       "</div>"
      ],
      "text/plain": [
       "ref_type  event_id  1494519392962156891  1891515180541284343   total\n",
       "0               31                 41.0               1515.0  1556.0\n",
       "1              513                  0.0               1004.0  1004.0\n",
       "2              156                114.0                470.0   584.0\n",
       "3              155                121.0                277.0   398.0\n",
       "4              158                 49.0                245.0   294.0\n",
       "5              133                 85.0                129.0   214.0\n",
       "6               41                  0.0                213.0   213.0\n",
       "7                1                 49.0                121.0   170.0\n",
       "8               40                  0.0                129.0   129.0\n",
       "9              204                  0.0                100.0   100.0"
      ]
     },
     "execution_count": 220,
     "metadata": {},
     "output_type": "execute_result"
    }
   ],
   "source": [
    "attributed_os"
   ]
  },
  {
   "cell_type": "code",
   "execution_count": 223,
   "metadata": {},
   "outputs": [
    {
     "data": {
      "image/png": "[encoded data removed]",
      "text/plain": [
       "<Figure size 1080x504 with 1 Axes>"
      ]
     },
     "metadata": {
      "needs_background": "light"
     },
     "output_type": "display_data"
    }
   ],
   "source": [
    "N = 10\n",
    "os_1 = attributed_os.iloc[:,1]\n",
    "os_2 = attributed_os.iloc[:,2]\n",
    "\n",
    "label_ev = attributed_os[\"event_id\"]\n",
    "label_os = events[\"ref_type\"].nunique()\n",
    "\n",
    "ind = np.arange(N)    # the x locations for the groups\n",
    "width = 0.5       # the width of the bars: can also be len(x) sequence\n",
    "\n",
    "fig = plt.figure(figsize=(15,7))\n",
    "\n",
    "ax =fig.gca()\n",
    "p1 = plt.bar(ind, os_1, width)\n",
    "p2 = plt.bar(ind, os_2, width, bottom=os_1 )\n",
    "\n",
    "\n",
    "plt.ylabel('Cantidad de eventos')\n",
    "plt.xlabel('ID Evento')\n",
    "plt.title('Top de eventos atribuidos',fontsize=15)\n",
    "plt.xticks(ind, label_ev)\n",
    "plt.legend((p1[0], p2[0]), (\"iOS\",\"Android\"))\n",
    "\n",
    "#autolabel_height(ax)\n",
    "plt.show()"
   ]
  },
  {
   "cell_type": "code",
   "execution_count": 217,
   "metadata": {},
   "outputs": [
    {
     "data": {
      "image/png": "[encoded data removed]",
      "text/plain": [
       "<Figure size 1080x504 with 1 Axes>"
      ]
     },
     "metadata": {
      "needs_background": "light"
     },
     "output_type": "display_data"
    }
   ],
   "source": [
    "fig, ax1 = plt.subplots( figsize = (15,7), )\n",
    "\n",
    "top_attributed = events[[\"event_id\",\"attributed\"]].groupby(\"event_id\").sum().nlargest(10,columns = \"attributed\")\n",
    "graf_barras = top_attributed.plot(kind = \"bar\",color = \"Orange\",ax=ax1)\n",
    "\n",
    "fig.suptitle(\"Top 10 de eventos atribuidos\",fontsize = 15)\n",
    "\n",
    "ax1.set_xlabel(\"Event ID\")\n",
    "ax1.set_ylabel(\"Cantidad de atribuciones\")\n",
    "ax1.get_legend().remove()\n",
    "autolabel_height(graf_barras)\n"
   ]
  },
  {
   "cell_type": "markdown",
   "metadata": {},
   "source": [
    "## Eventos attribuidos más frecuentes categorizados por wifi"
   ]
  },
  {
   "cell_type": "code",
   "execution_count": 281,
   "metadata": {},
   "outputs": [],
   "source": [
    "attributed_wifi = events.groupby([\"event_id\",\"wifi\"])[\"attributed\"]\\\n",
    "                  .sum()\\\n",
    "                  .reset_index()\\\n",
    "                  .pivot(\"event_id\",\"wifi\",\"attributed\")\\\n",
    "\n",
    "attributed_wifi[\"total\"] = attributed_wifi.sum(axis=1)\n",
    "\n",
    "attributed_wifi = attributed_wifi.nlargest(10, columns = \"total\")\n",
    "\n",
    "attributed_wifi.reset_index(inplace=True)"
   ]
  },
  {
   "cell_type": "code",
   "execution_count": 282,
   "metadata": {},
   "outputs": [
    {
     "data": {
      "text/html": [
       "<div>\n",
       "<style scoped>\n",
       "    .dataframe tbody tr th:only-of-type {\n",
       "        vertical-align: middle;\n",
       "    }\n",
       "\n",
       "    .dataframe tbody tr th {\n",
       "        vertical-align: top;\n",
       "    }\n",
       "\n",
       "    .dataframe thead th {\n",
       "        text-align: right;\n",
       "    }\n",
       "</style>\n",
       "<table border=\"1\" class=\"dataframe\">\n",
       "  <thead>\n",
       "    <tr style=\"text-align: right;\">\n",
       "      <th>wifi</th>\n",
       "      <th>event_id</th>\n",
       "      <th>False</th>\n",
       "      <th>True</th>\n",
       "      <th>total</th>\n",
       "    </tr>\n",
       "  </thead>\n",
       "  <tbody>\n",
       "    <tr>\n",
       "      <th>0</th>\n",
       "      <td>31</td>\n",
       "      <td>506.0</td>\n",
       "      <td>1045.0</td>\n",
       "      <td>1551.0</td>\n",
       "    </tr>\n",
       "    <tr>\n",
       "      <th>1</th>\n",
       "      <td>513</td>\n",
       "      <td>20.0</td>\n",
       "      <td>984.0</td>\n",
       "      <td>1004.0</td>\n",
       "    </tr>\n",
       "    <tr>\n",
       "      <th>2</th>\n",
       "      <td>156</td>\n",
       "      <td>175.0</td>\n",
       "      <td>409.0</td>\n",
       "      <td>584.0</td>\n",
       "    </tr>\n",
       "    <tr>\n",
       "      <th>3</th>\n",
       "      <td>155</td>\n",
       "      <td>133.0</td>\n",
       "      <td>265.0</td>\n",
       "      <td>398.0</td>\n",
       "    </tr>\n",
       "    <tr>\n",
       "      <th>4</th>\n",
       "      <td>158</td>\n",
       "      <td>101.0</td>\n",
       "      <td>193.0</td>\n",
       "      <td>294.0</td>\n",
       "    </tr>\n",
       "    <tr>\n",
       "      <th>5</th>\n",
       "      <td>133</td>\n",
       "      <td>94.0</td>\n",
       "      <td>120.0</td>\n",
       "      <td>214.0</td>\n",
       "    </tr>\n",
       "    <tr>\n",
       "      <th>6</th>\n",
       "      <td>204</td>\n",
       "      <td>23.0</td>\n",
       "      <td>77.0</td>\n",
       "      <td>100.0</td>\n",
       "    </tr>\n",
       "    <tr>\n",
       "      <th>7</th>\n",
       "      <td>159</td>\n",
       "      <td>10.0</td>\n",
       "      <td>50.0</td>\n",
       "      <td>60.0</td>\n",
       "    </tr>\n",
       "    <tr>\n",
       "      <th>8</th>\n",
       "      <td>239</td>\n",
       "      <td>0.0</td>\n",
       "      <td>18.0</td>\n",
       "      <td>18.0</td>\n",
       "    </tr>\n",
       "    <tr>\n",
       "      <th>9</th>\n",
       "      <td>134</td>\n",
       "      <td>2.0</td>\n",
       "      <td>10.0</td>\n",
       "      <td>12.0</td>\n",
       "    </tr>\n",
       "  </tbody>\n",
       "</table>\n",
       "</div>"
      ],
      "text/plain": [
       "wifi  event_id  False    True   total\n",
       "0           31  506.0  1045.0  1551.0\n",
       "1          513   20.0   984.0  1004.0\n",
       "2          156  175.0   409.0   584.0\n",
       "3          155  133.0   265.0   398.0\n",
       "4          158  101.0   193.0   294.0\n",
       "5          133   94.0   120.0   214.0\n",
       "6          204   23.0    77.0   100.0\n",
       "7          159   10.0    50.0    60.0\n",
       "8          239    0.0    18.0    18.0\n",
       "9          134    2.0    10.0    12.0"
      ]
     },
     "execution_count": 282,
     "metadata": {},
     "output_type": "execute_result"
    }
   ],
   "source": [
    "attributed_wifi"
   ]
  },
  {
   "cell_type": "code",
   "execution_count": 293,
   "metadata": {},
   "outputs": [
    {
     "data": {
      "image/png": "[encoded data removed]",
      "text/plain": [
       "<Figure size 1080x504 with 1 Axes>"
      ]
     },
     "metadata": {
      "needs_background": "light"
     },
     "output_type": "display_data"
    }
   ],
   "source": [
    "N = 10\n",
    "group_1 = attributed_wifi.iloc[:,1]\n",
    "group_2 = attributed_wifi.iloc[:,2]\n",
    "\n",
    "label_ev = attributed_wifi[\"event_id\"]\n",
    "\n",
    "ind = np.arange(N)    # the x locations for the groups\n",
    "width = 0.5       # the width of the bars: can also be len(x) sequence\n",
    "\n",
    "fig = plt.figure(figsize=(15,7))\n",
    "\n",
    "ax =fig.gca()\n",
    "p1 = plt.bar(ind, group_1, width,color = \"Yellow\")\n",
    "p2 = plt.bar(ind, group_2, width, bottom=group_1, color= \"Violet\")\n",
    "\n",
    "\n",
    "plt.ylabel('Cantidad de eventos')\n",
    "plt.xlabel('ID Evento')\n",
    "plt.title('Top 10 de eventos atribuidos')\n",
    "plt.xticks(ind, label_ev)\n",
    "plt.legend((p1[0], p2[0]), (\"Sin wifi\",\"Con wifi\"))\n",
    "\n",
    "#autolabel_height(ax)\n",
    "plt.show()\n"
   ]
  },
  {
   "cell_type": "markdown",
   "metadata": {},
   "source": [
    "## Eventos attribuidos más frecuentes categorizados por conexion"
   ]
  },
  {
   "cell_type": "code",
   "execution_count": 287,
   "metadata": {},
   "outputs": [],
   "source": [
    "attributed_connect = events.groupby([\"event_id\",\"connection_type\"])[\"attributed\"]\\\n",
    "                  .sum()\\\n",
    "                  .reset_index()\\\n",
    "                  .pivot(\"event_id\",\"connection_type\",\"attributed\")\\\n",
    "\n",
    "attributed_connect[\"total\"] = attributed_connect.sum(axis=1)\n",
    "\n",
    "attributed_connect = attributed_connect.nlargest(10, columns = \"total\")\n",
    "\n",
    "attributed_connect.reset_index(inplace=True)"
   ]
  },
  {
   "cell_type": "code",
   "execution_count": 290,
   "metadata": {},
   "outputs": [],
   "source": [
    "attributed_connect.fillna(0,inplace=True)"
   ]
  },
  {
   "cell_type": "code",
   "execution_count": 291,
   "metadata": {},
   "outputs": [
    {
     "data": {
      "text/html": [
       "<div>\n",
       "<style scoped>\n",
       "    .dataframe tbody tr th:only-of-type {\n",
       "        vertical-align: middle;\n",
       "    }\n",
       "\n",
       "    .dataframe tbody tr th {\n",
       "        vertical-align: top;\n",
       "    }\n",
       "\n",
       "    .dataframe thead th {\n",
       "        text-align: right;\n",
       "    }\n",
       "</style>\n",
       "<table border=\"1\" class=\"dataframe\">\n",
       "  <thead>\n",
       "    <tr style=\"text-align: right;\">\n",
       "      <th>connection_type</th>\n",
       "      <th>event_id</th>\n",
       "      <th>Cable/DSL</th>\n",
       "      <th>Cellular</th>\n",
       "      <th>Corporate</th>\n",
       "      <th>total</th>\n",
       "    </tr>\n",
       "  </thead>\n",
       "  <tbody>\n",
       "    <tr>\n",
       "      <th>0</th>\n",
       "      <td>41</td>\n",
       "      <td>151.0</td>\n",
       "      <td>62.0</td>\n",
       "      <td>0.0</td>\n",
       "      <td>213.0</td>\n",
       "    </tr>\n",
       "    <tr>\n",
       "      <th>1</th>\n",
       "      <td>1</td>\n",
       "      <td>138.0</td>\n",
       "      <td>32.0</td>\n",
       "      <td>0.0</td>\n",
       "      <td>170.0</td>\n",
       "    </tr>\n",
       "    <tr>\n",
       "      <th>2</th>\n",
       "      <td>40</td>\n",
       "      <td>93.0</td>\n",
       "      <td>36.0</td>\n",
       "      <td>0.0</td>\n",
       "      <td>129.0</td>\n",
       "    </tr>\n",
       "    <tr>\n",
       "      <th>3</th>\n",
       "      <td>246</td>\n",
       "      <td>39.0</td>\n",
       "      <td>8.0</td>\n",
       "      <td>0.0</td>\n",
       "      <td>47.0</td>\n",
       "    </tr>\n",
       "    <tr>\n",
       "      <th>4</th>\n",
       "      <td>248</td>\n",
       "      <td>40.0</td>\n",
       "      <td>7.0</td>\n",
       "      <td>0.0</td>\n",
       "      <td>47.0</td>\n",
       "    </tr>\n",
       "    <tr>\n",
       "      <th>5</th>\n",
       "      <td>247</td>\n",
       "      <td>34.0</td>\n",
       "      <td>9.0</td>\n",
       "      <td>0.0</td>\n",
       "      <td>43.0</td>\n",
       "    </tr>\n",
       "    <tr>\n",
       "      <th>6</th>\n",
       "      <td>81</td>\n",
       "      <td>20.0</td>\n",
       "      <td>3.0</td>\n",
       "      <td>0.0</td>\n",
       "      <td>23.0</td>\n",
       "    </tr>\n",
       "    <tr>\n",
       "      <th>7</th>\n",
       "      <td>189</td>\n",
       "      <td>11.0</td>\n",
       "      <td>1.0</td>\n",
       "      <td>0.0</td>\n",
       "      <td>12.0</td>\n",
       "    </tr>\n",
       "    <tr>\n",
       "      <th>8</th>\n",
       "      <td>80</td>\n",
       "      <td>9.0</td>\n",
       "      <td>1.0</td>\n",
       "      <td>0.0</td>\n",
       "      <td>10.0</td>\n",
       "    </tr>\n",
       "    <tr>\n",
       "      <th>9</th>\n",
       "      <td>387</td>\n",
       "      <td>2.0</td>\n",
       "      <td>0.0</td>\n",
       "      <td>0.0</td>\n",
       "      <td>2.0</td>\n",
       "    </tr>\n",
       "  </tbody>\n",
       "</table>\n",
       "</div>"
      ],
      "text/plain": [
       "connection_type  event_id  Cable/DSL  Cellular  Corporate  total\n",
       "0                      41      151.0      62.0        0.0  213.0\n",
       "1                       1      138.0      32.0        0.0  170.0\n",
       "2                      40       93.0      36.0        0.0  129.0\n",
       "3                     246       39.0       8.0        0.0   47.0\n",
       "4                     248       40.0       7.0        0.0   47.0\n",
       "5                     247       34.0       9.0        0.0   43.0\n",
       "6                      81       20.0       3.0        0.0   23.0\n",
       "7                     189       11.0       1.0        0.0   12.0\n",
       "8                      80        9.0       1.0        0.0   10.0\n",
       "9                     387        2.0       0.0        0.0    2.0"
      ]
     },
     "execution_count": 291,
     "metadata": {},
     "output_type": "execute_result"
    }
   ],
   "source": [
    "attributed_connect"
   ]
  },
  {
   "cell_type": "code",
   "execution_count": 307,
   "metadata": {},
   "outputs": [
    {
     "data": {
      "image/png": "[encoded data removed]",
      "text/plain": [
       "<Figure size 1080x504 with 1 Axes>"
      ]
     },
     "metadata": {
      "needs_background": "light"
     },
     "output_type": "display_data"
    }
   ],
   "source": [
    "N = 10\n",
    "group_1 = attributed_connect.iloc[:,1]\n",
    "group_2 = attributed_connect.iloc[:,2]\n",
    "group_3 = attributed_connect.iloc[:,3]\n",
    "\n",
    "label_ev = attributed_connect[\"event_id\"]\n",
    "\n",
    "ind = np.arange(N)    # the x locations for the groups\n",
    "width = 0.5       # the width of the bars: can also be len(x) sequence\n",
    "\n",
    "fig = plt.figure(figsize=(15,7))\n",
    "\n",
    "ax =fig.gca()\n",
    "p1 = plt.bar(ind, group_1, width,color = \"Blue\")\n",
    "p2 = plt.bar(ind, group_2, width, bottom=group_1, color= \"Red\")\n",
    "p3 = plt.bar(ind, group_3, width, bottom= group_1+group_2, color = \"Yellow\")\n",
    "\n",
    "\n",
    "plt.ylabel('Cantidad de eventos')\n",
    "plt.xlabel('ID Evento')\n",
    "plt.title('Top 10 de eventos atribuidos por conexion')\n",
    "plt.xticks(ind, label_ev)\n",
    "plt.legend((p1[0], p2[0],p3[0]), (\"Cable/DSL\",\"Cellular\",\"Corporate\"))\n",
    "\n",
    "#autolabel_height(ax)\n",
    "plt.show()\n"
   ]
  },
  {
   "cell_type": "markdown",
   "metadata": {},
   "source": [
    "## ¿Como se distribuyen los eventos más atribuidos segun la hora del dia?"
   ]
  },
  {
   "cell_type": "markdown",
   "metadata": {},
   "source": [
    "#### Para lograr una visualización más amigable vamos a utilizar solo los primeros 5 eventos del top pidiendo que la cantidad de eventos sea mayor a 250"
   ]
  },
  {
   "cell_type": "code",
   "execution_count": 262,
   "metadata": {},
   "outputs": [],
   "source": [
    "top_attributed = top_attributed[ top_attributed[\"attributed\"] > 250 ]"
   ]
  },
  {
   "cell_type": "code",
   "execution_count": 263,
   "metadata": {},
   "outputs": [],
   "source": [
    "filtro = ((events[\"event_id\"].isin(top_attributed.index)) & (events[\"attributed\"] == True))\n",
    "columnas = [\"date\",\"event_id\",\"attributed\"]\n",
    "events_hour = events[ filtro ][columnas]"
   ]
  },
  {
   "cell_type": "code",
   "execution_count": 264,
   "metadata": {},
   "outputs": [
    {
     "data": {
      "text/html": [
       "<div>\n",
       "<style scoped>\n",
       "    .dataframe tbody tr th:only-of-type {\n",
       "        vertical-align: middle;\n",
       "    }\n",
       "\n",
       "    .dataframe tbody tr th {\n",
       "        vertical-align: top;\n",
       "    }\n",
       "\n",
       "    .dataframe thead th {\n",
       "        text-align: right;\n",
       "    }\n",
       "</style>\n",
       "<table border=\"1\" class=\"dataframe\">\n",
       "  <thead>\n",
       "    <tr style=\"text-align: right;\">\n",
       "      <th></th>\n",
       "      <th>date</th>\n",
       "      <th>event_id</th>\n",
       "      <th>attributed</th>\n",
       "    </tr>\n",
       "  </thead>\n",
       "  <tbody>\n",
       "    <tr>\n",
       "      <th>33587</th>\n",
       "      <td>2019-03-07 13:46:20.674</td>\n",
       "      <td>31</td>\n",
       "      <td>True</td>\n",
       "    </tr>\n",
       "    <tr>\n",
       "      <th>39124</th>\n",
       "      <td>2019-03-07 21:58:11.323</td>\n",
       "      <td>156</td>\n",
       "      <td>True</td>\n",
       "    </tr>\n",
       "    <tr>\n",
       "      <th>39125</th>\n",
       "      <td>2019-03-07 21:55:28.600</td>\n",
       "      <td>155</td>\n",
       "      <td>True</td>\n",
       "    </tr>\n",
       "    <tr>\n",
       "      <th>39126</th>\n",
       "      <td>2019-03-07 21:51:05.948</td>\n",
       "      <td>31</td>\n",
       "      <td>True</td>\n",
       "    </tr>\n",
       "    <tr>\n",
       "      <th>39127</th>\n",
       "      <td>2019-03-07 21:55:39.551</td>\n",
       "      <td>158</td>\n",
       "      <td>True</td>\n",
       "    </tr>\n",
       "  </tbody>\n",
       "</table>\n",
       "</div>"
      ],
      "text/plain": [
       "                         date  event_id  attributed\n",
       "33587 2019-03-07 13:46:20.674        31        True\n",
       "39124 2019-03-07 21:58:11.323       156        True\n",
       "39125 2019-03-07 21:55:28.600       155        True\n",
       "39126 2019-03-07 21:51:05.948        31        True\n",
       "39127 2019-03-07 21:55:39.551       158        True"
      ]
     },
     "execution_count": 264,
     "metadata": {},
     "output_type": "execute_result"
    }
   ],
   "source": [
    "events_hour.head()"
   ]
  },
  {
   "cell_type": "code",
   "execution_count": 265,
   "metadata": {},
   "outputs": [],
   "source": [
    "events_hour = events_hour.groupby( [pd.Grouper(key = \"date\",freq = \"h\"), \"event_id\"] ).count().reset_index()"
   ]
  },
  {
   "cell_type": "code",
   "execution_count": 266,
   "metadata": {},
   "outputs": [],
   "source": [
    "heat = events_hour.pivot(\"date\",\"event_id\",\"attributed\").reset_index()\n",
    "heat[\"date\"] = heat[\"date\"].dt.hour  \n",
    "heat = heat.groupby(\"date\").agg(\"sum\")"
   ]
  },
  {
   "cell_type": "markdown",
   "metadata": {},
   "source": [
    "#### Comentario : Reordenar el eje para que los eventos queden ordenados de mayor a menor cantidad"
   ]
  },
  {
   "cell_type": "code",
   "execution_count": 271,
   "metadata": {},
   "outputs": [
    {
     "data": {
      "text/plain": [
       "Text(105.0, 0.5, 'Cantidad de atribuciones')"
      ]
     },
     "execution_count": 271,
     "metadata": {},
     "output_type": "execute_result"
    },
    {
     "data": {
      "image/png": "[encoded data removed]",
      "text/plain": [
       "<Figure size 1008x720 with 2 Axes>"
      ]
     },
     "metadata": {
      "needs_background": "light"
     },
     "output_type": "display_data"
    }
   ],
   "source": [
    "fig,ax = plt.subplots(figsize = (14,10))\n",
    "sns.heatmap(heat,cmap = \"Blues\")\n",
    "ax.set_xlabel(\"ID Evento\")\n",
    "ax.set_ylabel(\"Cantidad de atribuciones\")"
   ]
  },
  {
   "cell_type": "markdown",
   "metadata": {},
   "source": [
    "## Eventos - Dispositivos"
   ]
  },
  {
   "cell_type": "markdown",
   "metadata": {},
   "source": [
    "### ¿Cúales son las marcas de dispositivos y modelos más populares dentro de los datos?"
   ]
  },
  {
   "cell_type": "code",
   "execution_count": 143,
   "metadata": {},
   "outputs": [
    {
     "data": {
      "text/plain": [
       "250"
      ]
     },
     "execution_count": 143,
     "metadata": {},
     "output_type": "execute_result"
    }
   ],
   "source": [
    "events[\"device_brand\"].nunique()"
   ]
  },
  {
   "cell_type": "code",
   "execution_count": 144,
   "metadata": {},
   "outputs": [
    {
     "data": {
      "text/plain": [
       "2624"
      ]
     },
     "execution_count": 144,
     "metadata": {},
     "output_type": "execute_result"
    }
   ],
   "source": [
    "events[\"device_model\"].nunique()"
   ]
  },
  {
   "cell_type": "markdown",
   "metadata": {},
   "source": [
    "#### Se observa que se encuentran datos para 250 marcas de dispositivos y 2624 modelos distintos"
   ]
  },
  {
   "cell_type": "markdown",
   "metadata": {},
   "source": [
    "## Marcas más populares entre los clientes de Jammp y las que más eventos realizan:"
   ]
  },
  {
   "cell_type": "code",
   "execution_count": 62,
   "metadata": {},
   "outputs": [],
   "source": [
    "top_brands = events.groupby(\"ref_hash\")[\"device_brand\"].first()\\\n",
    "                   .value_counts().head(5)"
   ]
  },
  {
   "cell_type": "code",
   "execution_count": 63,
   "metadata": {},
   "outputs": [],
   "source": [
    "top_brands_events = events.groupby(\"device_brand\").agg({\"ref_hash\":\"count\"})\\\n",
    "                          .nlargest(5,columns=\"ref_hash\")"
   ]
  },
  {
   "cell_type": "code",
   "execution_count": 67,
   "metadata": {},
   "outputs": [
    {
     "data": {
      "image/png": "[encoded data removed]",
      "text/plain": [
       "<Figure size 1080x576 with 2 Axes>"
      ]
     },
     "metadata": {
      "needs_background": "light"
     },
     "output_type": "display_data"
    }
   ],
   "source": [
    "fig, ejes = plt.subplots( nrows = 1, ncols= 2, figsize = (15,8), )\n",
    "ax1 = ejes[0]\n",
    "ax2 = ejes[1]\n",
    "\n",
    "graf_barras1 = top_brands.plot(kind = \"bar\",color = \"Green\",ax=ax1)\n",
    "graf_barras2 = top_brands_events.plot(kind= \"bar\", color=\"Blue\", ax=ax2)\n",
    "\n",
    "ax1.set_title(\"Top 5 de marcas más populares entre los clientes de jammp\",fontsize = 12)\n",
    "ax1.set_xlabel(\"Marca del dispostivo\")\n",
    "ax1.set_ylabel(\"Cantidad de dispositivos\")\n",
    "\n",
    "ax2.set_title(\"Top 5 de marcas con más eventos\")\n",
    "ax2.set_xlabel(\"Marca del dispositivo\")\n",
    "ax2.set_ylabel(\"Cantidad de eventos\")\n",
    "ax2.get_legend().remove()\n",
    "\n",
    "autolabel_height(graf_barras1)\n",
    "autolabel_height(graf_barras2)"
   ]
  },
  {
   "cell_type": "markdown",
   "metadata": {},
   "source": [
    "#### A partir del gráfico primer gráfico se denota una gran popularidad para el primer valor, teniendo casi 5 veces más dispositivos que su inmediato perseguidor, mientras que para los 2 siguientes hay una paridad más notoria hasta llegar a los demás valores que estan muy por debajo de los demás.\n",
    "\n",
    "#### En el segundo grafico se mantienen  los dos primeros puestos del primer grafico, a partir del tercero hay una varianza entre los puestos, tanto así que el 4 valor del primer grafico no aparece entre los primeros 5 del segundo."
   ]
  },
  {
   "cell_type": "markdown",
   "metadata": {},
   "source": [
    "## Top 10 de modelos de dispositivos más populares entre los clientes de Jammp:"
   ]
  },
  {
   "cell_type": "code",
   "execution_count": 65,
   "metadata": {},
   "outputs": [],
   "source": [
    "top_models = events.groupby(\"ref_hash\")[\"device_model\"].first()\\\n",
    "                   .value_counts().head(10)"
   ]
  },
  {
   "cell_type": "code",
   "execution_count": 66,
   "metadata": {},
   "outputs": [
    {
     "data": {
      "image/png": "[encoded data removed]",
      "text/plain": [
       "<Figure size 1080x504 with 1 Axes>"
      ]
     },
     "metadata": {
      "needs_background": "light"
     },
     "output_type": "display_data"
    }
   ],
   "source": [
    "fig, ax1 = plt.subplots( figsize = (15,7), )\n",
    "\n",
    "graf_barras = top_models.plot(kind = \"bar\",color = \"BLue\",ax=ax1)\n",
    "\n",
    "fig.suptitle(\"Top 10 de modelos más frecuentes\",fontsize = 15)\n",
    "autolabel_height(graf_barras)"
   ]
  },
  {
   "cell_type": "markdown",
   "metadata": {},
   "source": [
    "#### Nuevamente se observa que el primer valor esta alejado del segundo, esta vez por casi el tripe. Para los demás integrantes se observa una leve disminución entre sus totales"
   ]
  },
  {
   "cell_type": "markdown",
   "metadata": {},
   "source": [
    "## ¿Cuantos dispositivos distintos y cuales son los más frecuentes?"
   ]
  },
  {
   "cell_type": "code",
   "execution_count": 263,
   "metadata": {},
   "outputs": [
    {
     "data": {
      "text/plain": [
       "196049"
      ]
     },
     "execution_count": 263,
     "metadata": {},
     "output_type": "execute_result"
    }
   ],
   "source": [
    "events[\"ref_hash\"].nunique()"
   ]
  },
  {
   "cell_type": "markdown",
   "metadata": {},
   "source": [
    "## Top 10 de dispositivos que más eventos realizan entre los clientes de Jammp"
   ]
  },
  {
   "cell_type": "code",
   "execution_count": 68,
   "metadata": {},
   "outputs": [
    {
     "data": {
      "image/png": "[encoded data removed]",
      "text/plain": [
       "<Figure size 1080x504 with 1 Axes>"
      ]
     },
     "metadata": {
      "needs_background": "light"
     },
     "output_type": "display_data"
    }
   ],
   "source": [
    "fig, ax1 = plt.subplots( figsize = (15,7), )\n",
    "\n",
    "datos = events[\"ref_hash\"].value_counts().head(10)\n",
    "graf_barras = datos.plot(kind = \"bar\",color = \"Yellow\",ax=ax1)\n",
    "\n",
    "fig.suptitle(\"Top 10 de modelos más frecuentes\",fontsize = 15)\n",
    "autolabel_height(graf_barras)"
   ]
  },
  {
   "cell_type": "markdown",
   "metadata": {},
   "source": [
    "## Carrier dispositivo"
   ]
  },
  {
   "cell_type": "code",
   "execution_count": 13,
   "metadata": {},
   "outputs": [
    {
     "data": {
      "text/plain": [
       "84"
      ]
     },
     "execution_count": 13,
     "metadata": {},
     "output_type": "execute_result"
    }
   ],
   "source": [
    "events[\"carrier\"].nunique()"
   ]
  },
  {
   "cell_type": "code",
   "execution_count": 69,
   "metadata": {},
   "outputs": [
    {
     "data": {
      "text/plain": [
       "1877989"
      ]
     },
     "execution_count": 69,
     "metadata": {},
     "output_type": "execute_result"
    }
   ],
   "source": [
    "events[\"carrier\"].isnull().sum()"
   ]
  },
  {
   "cell_type": "code",
   "execution_count": 70,
   "metadata": {},
   "outputs": [],
   "source": [
    "top_carriers = events.groupby(\"ref_hash\")[\"carrier\"].first()\\\n",
    "                   .value_counts().head(5)"
   ]
  },
  {
   "cell_type": "code",
   "execution_count": 71,
   "metadata": {},
   "outputs": [
    {
     "data": {
      "text/plain": [
       "2.248157e+17    40601\n",
       "1.179587e+18     7500\n",
       "7.855224e+18     5150\n",
       "6.948828e+18     2344\n",
       "3.570805e+18      372\n",
       "Name: carrier, dtype: int64"
      ]
     },
     "execution_count": 71,
     "metadata": {},
     "output_type": "execute_result"
    }
   ],
   "source": [
    "top_carriers"
   ]
  },
  {
   "cell_type": "code",
   "execution_count": 7,
   "metadata": {},
   "outputs": [
    {
     "data": {
      "image/png": "[encoded data removed]",
      "text/plain": [
       "<Figure size 1080x504 with 1 Axes>"
      ]
     },
     "metadata": {
      "needs_background": "light"
     },
     "output_type": "display_data"
    }
   ],
   "source": [
    "fig, ax1 = plt.subplots( figsize = (15,7), )\n",
    "\n",
    "datos = events[\"carrier\"].value_counts().head(5)\n",
    "graf_barras = datos.plot(kind = \"bar\",color = \"Red\",ax=ax1)\n",
    "\n",
    "fig.suptitle(\"Top 5 de compañia celular más frecuentes\",fontsize = 15)\n",
    "autolabel_height(graf_barras)"
   ]
  },
  {
   "cell_type": "markdown",
   "metadata": {},
   "source": [
    "## ¿Como es el porcentaje de eventos totales y atribuidos según el sistema operativo ?"
   ]
  },
  {
   "cell_type": "code",
   "execution_count": 247,
   "metadata": {},
   "outputs": [],
   "source": [
    "ev_attributed = events[events[\"attributed\"] == True]"
   ]
  },
  {
   "cell_type": "code",
   "execution_count": 248,
   "metadata": {},
   "outputs": [
    {
     "data": {
      "text/html": [
       "<div>\n",
       "<style scoped>\n",
       "    .dataframe tbody tr th:only-of-type {\n",
       "        vertical-align: middle;\n",
       "    }\n",
       "\n",
       "    .dataframe tbody tr th {\n",
       "        vertical-align: top;\n",
       "    }\n",
       "\n",
       "    .dataframe thead th {\n",
       "        text-align: right;\n",
       "    }\n",
       "</style>\n",
       "<table border=\"1\" class=\"dataframe\">\n",
       "  <thead>\n",
       "    <tr style=\"text-align: right;\">\n",
       "      <th></th>\n",
       "      <th>device_os</th>\n",
       "      <th>count</th>\n",
       "    </tr>\n",
       "  </thead>\n",
       "  <tbody>\n",
       "    <tr>\n",
       "      <th>3</th>\n",
       "      <td>7.531669e+18</td>\n",
       "      <td>389811</td>\n",
       "    </tr>\n",
       "    <tr>\n",
       "      <th>2</th>\n",
       "      <td>6.941825e+18</td>\n",
       "      <td>260861</td>\n",
       "    </tr>\n",
       "    <tr>\n",
       "      <th>0</th>\n",
       "      <td>2.748831e+18</td>\n",
       "      <td>6110</td>\n",
       "    </tr>\n",
       "    <tr>\n",
       "      <th>1</th>\n",
       "      <td>5.916187e+18</td>\n",
       "      <td>885</td>\n",
       "    </tr>\n",
       "  </tbody>\n",
       "</table>\n",
       "</div>"
      ],
      "text/plain": [
       "      device_os   count\n",
       "3  7.531669e+18  389811\n",
       "2  6.941825e+18  260861\n",
       "0  2.748831e+18    6110\n",
       "1  5.916187e+18     885"
      ]
     },
     "execution_count": 248,
     "metadata": {},
     "output_type": "execute_result"
    }
   ],
   "source": [
    "os_count = events.groupby(\"device_os\").count()[\"date\"]\\\n",
    "               .reset_index()\\\n",
    "               .sort_values(by= \"date\",ascending=False)\\\n",
    "               .rename(columns = {\"date\":\"count\"})\n",
    "\n",
    "os_count"
   ]
  },
  {
   "cell_type": "markdown",
   "metadata": {},
   "source": [
    "#### Los ultimos dos sistemas operativos tienen valores muy bajos por los que los uniré en una categoría \"Otros\""
   ]
  },
  {
   "cell_type": "code",
   "execution_count": 249,
   "metadata": {},
   "outputs": [],
   "source": [
    "new_row = pd.DataFrame(data = {\n",
    "    'device_os' : ['Otros'],\n",
    "    'count' : [os_count['count'][2:].sum()]\n",
    "})"
   ]
  },
  {
   "cell_type": "code",
   "execution_count": 250,
   "metadata": {},
   "outputs": [],
   "source": [
    "os_count = pd.concat([os_count[:2],new_row])"
   ]
  },
  {
   "cell_type": "code",
   "execution_count": 246,
   "metadata": {},
   "outputs": [
    {
     "data": {
      "text/html": [
       "<div>\n",
       "<style scoped>\n",
       "    .dataframe tbody tr th:only-of-type {\n",
       "        vertical-align: middle;\n",
       "    }\n",
       "\n",
       "    .dataframe tbody tr th {\n",
       "        vertical-align: top;\n",
       "    }\n",
       "\n",
       "    .dataframe thead th {\n",
       "        text-align: right;\n",
       "    }\n",
       "</style>\n",
       "<table border=\"1\" class=\"dataframe\">\n",
       "  <thead>\n",
       "    <tr style=\"text-align: right;\">\n",
       "      <th></th>\n",
       "      <th>count</th>\n",
       "    </tr>\n",
       "    <tr>\n",
       "      <th>device_os</th>\n",
       "      <th></th>\n",
       "    </tr>\n",
       "  </thead>\n",
       "  <tbody>\n",
       "    <tr>\n",
       "      <th>7.531669329342817e+18</th>\n",
       "      <td>389811</td>\n",
       "    </tr>\n",
       "    <tr>\n",
       "      <th>6.94182462626038e+18</th>\n",
       "      <td>260861</td>\n",
       "    </tr>\n",
       "    <tr>\n",
       "      <th>Otros</th>\n",
       "      <td>6995</td>\n",
       "    </tr>\n",
       "  </tbody>\n",
       "</table>\n",
       "</div>"
      ],
      "text/plain": [
       "                        count\n",
       "device_os                    \n",
       "7.531669329342817e+18  389811\n",
       "6.94182462626038e+18   260861\n",
       "Otros                    6995"
      ]
     },
     "execution_count": 246,
     "metadata": {},
     "output_type": "execute_result"
    }
   ],
   "source": [
    "os_count"
   ]
  },
  {
   "cell_type": "code",
   "execution_count": 252,
   "metadata": {},
   "outputs": [
    {
     "data": {
      "text/plain": [
       "7.531669e+18    580\n",
       "6.941825e+18    130\n",
       "Name: device_os, dtype: int64"
      ]
     },
     "execution_count": 252,
     "metadata": {},
     "output_type": "execute_result"
    }
   ],
   "source": [
    "os_count_attributed =ev_attributed[\"device_os\"].value_counts()\n",
    "os_count_attributed"
   ]
  },
  {
   "cell_type": "code",
   "execution_count": 253,
   "metadata": {},
   "outputs": [
    {
     "data": {
      "text/plain": [
       "Text(0.5, 0.98, 'Comparación de porcentajes de eventos totales segun sistema operativo')"
      ]
     },
     "execution_count": 253,
     "metadata": {},
     "output_type": "execute_result"
    },
    {
     "data": {
      "image/png": "[encoded data removed]",
      "text/plain": [
       "<Figure size 1080x432 with 2 Axes>"
      ]
     },
     "metadata": {},
     "output_type": "display_data"
    }
   ],
   "source": [
    "fig, ejes = plt.subplots(nrows = 1,ncols = 2, figsize = (15,6), )\n",
    "ax1 = ejes[0]\n",
    "ax2 = ejes[1]\n",
    "\n",
    "graf_torta1= ax1.pie(os_count[\"count\"], autopct = autolabel_pct)\n",
    "graf_torta2 = ax2.pie(os_count_attributed, autopct = autolabel_pct)\n",
    "\n",
    "ax1.set_title(\"Porcentaje de eventos totales segun sistema operativo\",fontsize = 12)\n",
    "ax1.legend(graf_torta1[0], os_count[\"device_os\"],\n",
    "          title=\"Sistema Operativo\",\n",
    "          loc=\"center left\",\n",
    "          bbox_to_anchor=(0.9, 0, 0, 1))\n",
    "\n",
    "ax2.set_title(\"Porcentaje de eventos atribuidos segun sistema operativo\",fontsize = 12)\n",
    "ax2.legend(graf_torta2[0], os_count_attributed.index,\n",
    "          title=\"Sistema Operativo\",\n",
    "          loc=\"center left\",\n",
    "          bbox_to_anchor=(0.9,0,0,1))\n",
    "\n",
    "fig.suptitle(\"Comparación de porcentajes de eventos totales segun sistema operativo\",fontsize = 15)\n"
   ]
  },
  {
   "cell_type": "markdown",
   "metadata": {},
   "source": [
    "#### Comentario : Buscar la forma de cambiar la separación de los graficos con los titulos"
   ]
  },
  {
   "cell_type": "markdown",
   "metadata": {},
   "source": [
    "### Se puede observar que en los datos de los eventos totales aparecen sistemas dos sistemas operativos englobados en \"Otros\" con un porcentaje muy bajo de eventos. Luego al filtrar los eventos atribuidos a Jammp, esta categoría desaparece y se agranda la brecha entre el sistema con mayor prescencia y el segundo, por lógica se deduce que Android es el sistema operativo con más presencia seguido por iOS teniendo en cuenta el procentaje total de dispositivos que tiene cada sistema globalmente "
   ]
  },
  {
   "cell_type": "code",
   "execution_count": 254,
   "metadata": {},
   "outputs": [],
   "source": [
    "os_count = events[\"ref_type\"].value_counts()"
   ]
  },
  {
   "cell_type": "code",
   "execution_count": 255,
   "metadata": {},
   "outputs": [
    {
     "data": {
      "text/plain": [
       "1891515180541284343    1882743\n",
       "1494519392962156891     611680\n",
       "Name: ref_type, dtype: int64"
      ]
     },
     "execution_count": 255,
     "metadata": {},
     "output_type": "execute_result"
    }
   ],
   "source": [
    "os_count"
   ]
  },
  {
   "cell_type": "code",
   "execution_count": 256,
   "metadata": {},
   "outputs": [],
   "source": [
    "os_count_attributed = ev_attributed[\"ref_type\"].value_counts()"
   ]
  },
  {
   "cell_type": "code",
   "execution_count": 262,
   "metadata": {},
   "outputs": [
    {
     "data": {
      "text/plain": [
       "Text(0.5, 0.98, 'Comparación de porcentajes de eventos totales segun sistema operativo')"
      ]
     },
     "execution_count": 262,
     "metadata": {},
     "output_type": "execute_result"
    },
    {
     "data": {
      "image/png": "[encoded data removed]",
      "text/plain": [
       "<Figure size 1080x432 with 2 Axes>"
      ]
     },
     "metadata": {},
     "output_type": "display_data"
    }
   ],
   "source": [
    "fig, ejes = plt.subplots(nrows = 1,ncols = 2, figsize = (15,6), )\n",
    "ax1 = ejes[0]\n",
    "ax2 = ejes[1]\n",
    "\n",
    "graf_torta1= ax1.pie(os_count, autopct = autolabel_pct)\n",
    "graf_torta2 = ax2.pie(os_count_attributed, autopct = autolabel_pct)\n",
    "\n",
    "ax1.set_title(\"Porcentaje de eventos totales segun sistema operativo\",fontsize = 12)\n",
    "ax1.legend(graf_torta1[0], (\"Android\",\"iOS\"),\n",
    "          title=\"Sistema Operativo\",\n",
    "          loc=\"center left\",\n",
    "          bbox_to_anchor=(0.9, 0, 0, 1))\n",
    "\n",
    "ax2.set_title(\"Porcentaje de eventos atribuidos segun sistema operativo\",fontsize = 12)\n",
    "ax2.legend(graf_torta2[0], (\"Android\",\"iOS\"),\n",
    "          title=\"Sistema Operativo\",\n",
    "          loc=\"center left\",\n",
    "          bbox_to_anchor=(0.9,0,0,1))\n",
    "\n",
    "fig.suptitle(\"Comparación de porcentajes de eventos totales segun sistema operativo\",fontsize = 15)\n"
   ]
  },
  {
   "cell_type": "markdown",
   "metadata": {},
   "source": [
    "## Eventos - Aplicaciones"
   ]
  },
  {
   "cell_type": "markdown",
   "metadata": {},
   "source": [
    "## ¿Cúantos aplicaciones distintas y cuales son las que más eventos realizan?"
   ]
  },
  {
   "cell_type": "code",
   "execution_count": 7,
   "metadata": {},
   "outputs": [
    {
     "data": {
      "text/plain": [
       "269"
      ]
     },
     "execution_count": 7,
     "metadata": {},
     "output_type": "execute_result"
    }
   ],
   "source": [
    "events[\"application_id\"].nunique()"
   ]
  },
  {
   "cell_type": "markdown",
   "metadata": {},
   "source": [
    "#### ¿Alguna tiene datos nulos?"
   ]
  },
  {
   "cell_type": "code",
   "execution_count": 264,
   "metadata": {},
   "outputs": [
    {
     "data": {
      "image/png": "[encoded data removed]",
      "text/plain": [
       "<Figure size 1080x504 with 1 Axes>"
      ]
     },
     "metadata": {
      "needs_background": "light"
     },
     "output_type": "display_data"
    }
   ],
   "source": [
    "fig, ax1 = plt.subplots( figsize = (15,7), )\n",
    "\n",
    "datos = events[\"application_id\"].value_counts().head(10)\n",
    "graf_barras = datos.plot(kind = \"bar\",color = \"Blue\",ax=ax1)\n",
    "\n",
    "fig.suptitle(\"Top 10 de modelos más frecuentes\",fontsize = 15)\n",
    "autolabel_height(graf_barras)"
   ]
  },
  {
   "cell_type": "markdown",
   "metadata": {},
   "source": [
    "## ¿Cuantos lenguajes de dispositivos presentes y cuales son los más frecuentes?"
   ]
  },
  {
   "cell_type": "code",
   "execution_count": 4,
   "metadata": {},
   "outputs": [
    {
     "data": {
      "text/plain": [
       "6.977049e+18    745898\n",
       "3.301378e+18    589865\n",
       "9.028383e+18    388832\n",
       "6.804428e+18    340624\n",
       "4.621024e+18    150143\n",
       "Name: device_language, dtype: int64"
      ]
     },
     "execution_count": 4,
     "metadata": {},
     "output_type": "execute_result"
    }
   ],
   "source": [
    "events[\"device_language\"].value_counts().head()"
   ]
  },
  {
   "cell_type": "code",
   "execution_count": 5,
   "metadata": {},
   "outputs": [
    {
     "data": {
      "text/plain": [
       "186"
      ]
     },
     "execution_count": 5,
     "metadata": {},
     "output_type": "execute_result"
    }
   ],
   "source": [
    "events[\"device_language\"].nunique()"
   ]
  },
  {
   "cell_type": "markdown",
   "metadata": {},
   "source": [
    "#### 186 Lenguajes de dispositivo"
   ]
  },
  {
   "cell_type": "markdown",
   "metadata": {},
   "source": [
    "## ¿Cuantos codigos de pais ?"
   ]
  },
  {
   "cell_type": "code",
   "execution_count": 19,
   "metadata": {},
   "outputs": [
    {
     "data": {
      "text/plain": [
       "6333597102633388268    2494423\n",
       "Name: device_countrycode, dtype: int64"
      ]
     },
     "execution_count": 19,
     "metadata": {},
     "output_type": "execute_result"
    }
   ],
   "source": [
    "events[\"device_countrycode\"].value_counts()"
   ]
  },
  {
   "cell_type": "markdown",
   "metadata": {},
   "source": [
    "#### Un único código de país, igual que en auctions"
   ]
  },
  {
   "cell_type": "code",
   "execution_count": 63,
   "metadata": {},
   "outputs": [
    {
     "data": {
      "text/plain": [
       "127"
      ]
     },
     "execution_count": 63,
     "metadata": {},
     "output_type": "execute_result"
    }
   ],
   "source": [
    "events[\"device_city\"].nunique()"
   ]
  },
  {
   "cell_type": "code",
   "execution_count": 65,
   "metadata": {},
   "outputs": [
    {
     "data": {
      "text/plain": [
       "3.800080e+18    561876\n",
       "2.551781e+18     11193\n",
       "3.258215e+18      4442\n",
       "8.223209e+18      4393\n",
       "8.578627e+17      2497\n",
       "Name: device_city, dtype: int64"
      ]
     },
     "execution_count": 65,
     "metadata": {},
     "output_type": "execute_result"
    }
   ],
   "source": [
    "events[\"device_city\"].value_counts().head()"
   ]
  },
  {
   "cell_type": "code",
   "execution_count": 64,
   "metadata": {},
   "outputs": [
    {
     "data": {
      "text/plain": [
       "1879725"
      ]
     },
     "execution_count": 64,
     "metadata": {},
     "output_type": "execute_result"
    }
   ],
   "source": [
    "events[\"device_city\"].isnull().sum()"
   ]
  },
  {
   "cell_type": "markdown",
   "metadata": {},
   "source": [
    "## ¿Cual es el evento que predomina según hora del dia ?"
   ]
  },
  {
   "cell_type": "code",
   "execution_count": 309,
   "metadata": {},
   "outputs": [],
   "source": [
    "events_hour = events[[\"date\",\"ref_hash\",\"event_id\",\"attributed\"]].copy()\n",
    "events_hour[\"date\"] = events_hour[\"date\"].dt.hour"
   ]
  },
  {
   "cell_type": "code",
   "execution_count": 310,
   "metadata": {},
   "outputs": [],
   "source": [
    "events_hour = events_hour.groupby([\"date\", \"event_id\"])\\\n",
    "                         .agg({\"ref_hash\":\"count\",\"attributed\":\"sum\"}).reset_index()\n",
    "                           "
   ]
  },
  {
   "cell_type": "code",
   "execution_count": 311,
   "metadata": {},
   "outputs": [],
   "source": [
    "#Obtengo el evento que más se repite por hora\n",
    "\n",
    "events_hour = events_hour.loc[ events_hour.groupby([\"date\"])[\"ref_hash\"].idxmax() ]"
   ]
  },
  {
   "cell_type": "code",
   "execution_count": 312,
   "metadata": {},
   "outputs": [],
   "source": [
    "events_hour.set_index(\"date\",inplace = True)"
   ]
  },
  {
   "cell_type": "code",
   "execution_count": 322,
   "metadata": {},
   "outputs": [],
   "source": [
    "def autolabel_h(grafico,etiquetas, xpos=\"center\"):\n",
    "    \"\"\"\n",
    "    Attach a text label above each bar in *rects*, displaying its height.\n",
    "\n",
    "    *xpos* indicates which side to place the text w.r.t. the center of\n",
    "    the bar. It can be one of the following {'center', 'right', 'left'}.\n",
    "    \"\"\"\n",
    "\n",
    "    xpos = xpos.lower()  # normalize the case of the parameter\n",
    "    ha = {'center': 'center', 'right': 'left', 'left': 'right'}\n",
    "    offset = {'center': 0.5, 'right': 0.57, 'left': 0.43}  # x_txt = x + w*off    \n",
    "    \n",
    "    for barra in grafico.patches:\n",
    "        height = barra.get_height()\n",
    "        grafico.text( barra.get_width()+ 1300, barra.get_y(),\n",
    "                etiquetas.pop(0), ha=ha[xpos], va='bottom',color=\"Blue\")"
   ]
  },
  {
   "cell_type": "code",
   "execution_count": 323,
   "metadata": {},
   "outputs": [
    {
     "data": {
      "image/png": "[encoded data removed]",
      "text/plain": [
       "<Figure size 1080x576 with 1 Axes>"
      ]
     },
     "metadata": {
      "needs_background": "light"
     },
     "output_type": "display_data"
    }
   ],
   "source": [
    "# Estoy buscando una manera de reemplazar las etiquetas con colores dependiendo del evento\n",
    "\n",
    "\n",
    "fig,ax = plt.subplots(nrows = 1,ncols =1,figsize = (15,8))\n",
    "\n",
    "grafico = events_hour[[\"ref_hash\"]].plot(kind=\"barh\",ax=ax)\n",
    "\n",
    "ax.set_xlabel(\"Hora del día\")\n",
    "ax.set_ylabel(\"Cantidad de eventos\")\n",
    "ax.set_title(\"Evento predominante segun hora del día\")\n",
    "ax.get_legend().remove()\n",
    "\n",
    "valores = events_hour[\"event_id\"].values\n",
    "etiquetas = [\"EV 22\"]\n",
    "for valor in valores :\n",
    "    etiquetas.append( \"EV: {}\".format(valor))\n",
    "    \n",
    "autolabel_h(grafico,etiquetas)"
   ]
  },
  {
   "cell_type": "code",
   "execution_count": null,
   "metadata": {},
   "outputs": [],
   "source": []
  }
 ],
 "metadata": {
  "kernelspec": {
   "display_name": "Python 3",
   "language": "python",
   "name": "python3"
  },
  "language_info": {
   "codemirror_mode": {
    "name": "ipython",
    "version": 3
   },
   "file_extension": ".py",
   "mimetype": "text/x-python",
   "name": "python",
   "nbconvert_exporter": "python",
   "pygments_lexer": "ipython3",
   "version": "3.6.8"
  }
 },
 "nbformat": 4,
 "nbformat_minor": 2
}
