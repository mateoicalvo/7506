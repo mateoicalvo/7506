{
 "cells": [
  {
   "cell_type": "code",
   "execution_count": 1,
   "metadata": {},
   "outputs": [],
   "source": [
    "import pandas as pd\n",
    "import numpy as np\n",
    "import matplotlib.pyplot as plt\n",
    "import seaborn as sns\n",
    "\n",
    "%matplotlib inline"
   ]
  },
  {
   "cell_type": "code",
   "execution_count": 2,
   "metadata": {},
   "outputs": [],
   "source": [
    "columnas = [\"date\", \"device_id\", \"platform\", \"ref_type_id\", \"source_id\"]\n",
    "# Definicion de tipos\n",
    "tipos = {\"device_id\" : np.int64,\n",
    "         \"platform\" : np.int8,\n",
    "         \"ref_type_id\" : np.int8,\n",
    "         \"source_id\" : np.int8}\n",
    "# Carga de datos\n",
    "auctions = pd.read_csv(\"auctions.csv.gzip\",compression = 'gzip', usecols=columnas, dtype=tipos, parse_dates=[\"date\"])\n"
   ]
  },
  {
   "cell_type": "code",
   "execution_count": 3,
   "metadata": {},
   "outputs": [
    {
     "name": "stdout",
     "output_type": "stream",
     "text": [
      "<class 'pandas.core.frame.DataFrame'>\n",
      "RangeIndex: 19571319 entries, 0 to 19571318\n",
      "Data columns (total 5 columns):\n",
      "date           datetime64[ns]\n",
      "device_id      int64\n",
      "platform       int8\n",
      "ref_type_id    int8\n",
      "source_id      int8\n",
      "dtypes: datetime64[ns](1), int64(1), int8(3)\n",
      "memory usage: 354.6 MB\n"
     ]
    }
   ],
   "source": [
    "auctions.info()"
   ]
  },
  {
   "cell_type": "code",
   "execution_count": 4,
   "metadata": {},
   "outputs": [
    {
     "data": {
      "text/html": [
       "<div>\n",
       "<style scoped>\n",
       "    .dataframe tbody tr th:only-of-type {\n",
       "        vertical-align: middle;\n",
       "    }\n",
       "\n",
       "    .dataframe tbody tr th {\n",
       "        vertical-align: top;\n",
       "    }\n",
       "\n",
       "    .dataframe thead th {\n",
       "        text-align: right;\n",
       "    }\n",
       "</style>\n",
       "<table border=\"1\" class=\"dataframe\">\n",
       "  <thead>\n",
       "    <tr style=\"text-align: right;\">\n",
       "      <th></th>\n",
       "      <th>date</th>\n",
       "      <th>device_id</th>\n",
       "      <th>platform</th>\n",
       "      <th>ref_type_id</th>\n",
       "      <th>source_id</th>\n",
       "    </tr>\n",
       "  </thead>\n",
       "  <tbody>\n",
       "    <tr>\n",
       "      <th>0</th>\n",
       "      <td>2019-03-11 14:18:33.290763</td>\n",
       "      <td>6059599345986491085</td>\n",
       "      <td>1</td>\n",
       "      <td>1</td>\n",
       "      <td>0</td>\n",
       "    </tr>\n",
       "    <tr>\n",
       "      <th>1</th>\n",
       "      <td>2019-03-11 14:18:34.440157</td>\n",
       "      <td>1115994996230693426</td>\n",
       "      <td>1</td>\n",
       "      <td>1</td>\n",
       "      <td>0</td>\n",
       "    </tr>\n",
       "    <tr>\n",
       "      <th>2</th>\n",
       "      <td>2019-03-11 14:18:35.862360</td>\n",
       "      <td>7463856250762200923</td>\n",
       "      <td>1</td>\n",
       "      <td>1</td>\n",
       "      <td>0</td>\n",
       "    </tr>\n",
       "    <tr>\n",
       "      <th>3</th>\n",
       "      <td>2019-03-11 14:18:36.167163</td>\n",
       "      <td>7829815350267792040</td>\n",
       "      <td>1</td>\n",
       "      <td>1</td>\n",
       "      <td>0</td>\n",
       "    </tr>\n",
       "    <tr>\n",
       "      <th>4</th>\n",
       "      <td>2019-03-11 14:18:37.728590</td>\n",
       "      <td>1448534231953777480</td>\n",
       "      <td>1</td>\n",
       "      <td>1</td>\n",
       "      <td>0</td>\n",
       "    </tr>\n",
       "  </tbody>\n",
       "</table>\n",
       "</div>"
      ],
      "text/plain": [
       "                        date            device_id  platform  ref_type_id  \\\n",
       "0 2019-03-11 14:18:33.290763  6059599345986491085         1            1   \n",
       "1 2019-03-11 14:18:34.440157  1115994996230693426         1            1   \n",
       "2 2019-03-11 14:18:35.862360  7463856250762200923         1            1   \n",
       "3 2019-03-11 14:18:36.167163  7829815350267792040         1            1   \n",
       "4 2019-03-11 14:18:37.728590  1448534231953777480         1            1   \n",
       "\n",
       "   source_id  \n",
       "0          0  \n",
       "1          0  \n",
       "2          0  \n",
       "3          0  \n",
       "4          0  "
      ]
     },
     "execution_count": 4,
     "metadata": {},
     "output_type": "execute_result"
    }
   ],
   "source": [
    "auctions.head()"
   ]
  },
  {
   "cell_type": "markdown",
   "metadata": {},
   "source": [
    "## Revisaremos los datos referidos a la fecha"
   ]
  },
  {
   "cell_type": "code",
   "execution_count": 3,
   "metadata": {},
   "outputs": [],
   "source": [
    "#auctions[\"day_of_week\"] = auctions[\"date\"].dt.day_name()"
   ]
  },
  {
   "cell_type": "code",
   "execution_count": 6,
   "metadata": {},
   "outputs": [
    {
     "data": {
      "text/plain": [
       "0    Monday\n",
       "1    Monday\n",
       "2    Monday\n",
       "3    Monday\n",
       "4    Monday\n",
       "Name: day_of_week, dtype: object"
      ]
     },
     "execution_count": 6,
     "metadata": {},
     "output_type": "execute_result"
    }
   ],
   "source": [
    "#auctions[\"day_of_week\"].head()"
   ]
  },
  {
   "cell_type": "code",
   "execution_count": 5,
   "metadata": {},
   "outputs": [
    {
     "data": {
      "text/plain": [
       "Timestamp('2019-03-05 00:52:33.352526')"
      ]
     },
     "execution_count": 5,
     "metadata": {},
     "output_type": "execute_result"
    }
   ],
   "source": [
    "auctions[\"date\"].min()"
   ]
  },
  {
   "cell_type": "code",
   "execution_count": 6,
   "metadata": {},
   "outputs": [
    {
     "data": {
      "text/plain": [
       "'Tuesday'"
      ]
     },
     "execution_count": 6,
     "metadata": {},
     "output_type": "execute_result"
    }
   ],
   "source": [
    "auctions[\"date\"].min().day_name()"
   ]
  },
  {
   "cell_type": "code",
   "execution_count": 7,
   "metadata": {},
   "outputs": [
    {
     "data": {
      "text/plain": [
       "Timestamp('2019-03-13 23:59:59.997032')"
      ]
     },
     "execution_count": 7,
     "metadata": {},
     "output_type": "execute_result"
    }
   ],
   "source": [
    "auctions[\"date\"].max()"
   ]
  },
  {
   "cell_type": "code",
   "execution_count": 8,
   "metadata": {},
   "outputs": [
    {
     "data": {
      "text/plain": [
       "'Wednesday'"
      ]
     },
     "execution_count": 8,
     "metadata": {},
     "output_type": "execute_result"
    }
   ],
   "source": [
    "auctions[\"date\"].max().day_name()"
   ]
  },
  {
   "cell_type": "markdown",
   "metadata": {},
   "source": [
    "#### Se puede observar que el primer dia de datos es el Martes 05/03 y el último es el Miércoles 13/03"
   ]
  },
  {
   "cell_type": "markdown",
   "metadata": {},
   "source": [
    "## ¿Cómo es la tendencia en cuanto a cantidad de subastas con el correr de los días?"
   ]
  },
  {
   "cell_type": "code",
   "execution_count": 113,
   "metadata": {},
   "outputs": [],
   "source": [
    "auctions_count = auctions.groupby(pd.Grouper(key=\"date\",freq=\"D\"))[\"device_id\"]\\\n",
    "                       .agg(\"count\").reset_index()\\\n",
    "                       .rename(columns ={\"device_id\":\"Cantidad de Subastas\"})\n",
    "    \n",
    "auctions_count[\"date\"] = auctions_count[\"date\"].dt.strftime('%m/%d')                       \n"
   ]
  },
  {
   "cell_type": "code",
   "execution_count": 115,
   "metadata": {},
   "outputs": [
    {
     "data": {
      "text/plain": [
       "Text(0, 0.5, 'Cantidad de subastas')"
      ]
     },
     "execution_count": 115,
     "metadata": {},
     "output_type": "execute_result"
    },
    {
     "data": {
      "image/png": "[encoded data removed]",
      "text/plain": [
       "<Figure size 720x288 with 1 Axes>"
      ]
     },
     "metadata": {
      "needs_background": "light"
     },
     "output_type": "display_data"
    }
   ],
   "source": [
    "grafico = auctions_count.plot(kind=\"line\",figsize=(10,4),fontsize=12)\n",
    "grafico.set_title(\"Cantidad de subastas por día del mes\",fontsize=15)\n",
    "grafico.set_xlabel(\"Día del mes\")\n",
    "grafico.set_ylabel(\"Cantidad de subastas\")\n"
   ]
  },
  {
   "cell_type": "code",
   "execution_count": 127,
   "metadata": {},
   "outputs": [
    {
     "data": {
      "text/plain": [
       "Text(0, 0.5, 'Cantidad de subastas')"
      ]
     },
     "execution_count": 127,
     "metadata": {},
     "output_type": "execute_result"
    },
    {
     "data": {
      "image/png": "[encoded data removed]",
      "text/plain": [
       "<Figure size 720x288 with 1 Axes>"
      ]
     },
     "metadata": {
      "needs_background": "light"
     },
     "output_type": "display_data"
    }
   ],
   "source": [
    "grafico = auctions_count.plot(kind=\"bar\",color=\"Orange\",figsize = (10,4))\n",
    "grafico.set_title(\"Cantidad de subastas por día del mes\",fontsize=15)\n",
    "grafico.set_xlabel(\"Día del mes\")\n",
    "grafico.set_ylabel(\"Cantidad de subastas\")"
   ]
  },
  {
   "cell_type": "code",
   "execution_count": 125,
   "metadata": {},
   "outputs": [
    {
     "data": {
      "text/html": [
       "<div>\n",
       "<style scoped>\n",
       "    .dataframe tbody tr th:only-of-type {\n",
       "        vertical-align: middle;\n",
       "    }\n",
       "\n",
       "    .dataframe tbody tr th {\n",
       "        vertical-align: top;\n",
       "    }\n",
       "\n",
       "    .dataframe thead th {\n",
       "        text-align: right;\n",
       "    }\n",
       "</style>\n",
       "<table border=\"1\" class=\"dataframe\">\n",
       "  <thead>\n",
       "    <tr style=\"text-align: right;\">\n",
       "      <th></th>\n",
       "      <th>date</th>\n",
       "      <th>Cantidad de Subastas</th>\n",
       "    </tr>\n",
       "  </thead>\n",
       "  <tbody>\n",
       "    <tr>\n",
       "      <th>0</th>\n",
       "      <td>03/05</td>\n",
       "      <td>1182401</td>\n",
       "    </tr>\n",
       "    <tr>\n",
       "      <th>1</th>\n",
       "      <td>03/06</td>\n",
       "      <td>1032970</td>\n",
       "    </tr>\n",
       "    <tr>\n",
       "      <th>2</th>\n",
       "      <td>03/07</td>\n",
       "      <td>2047661</td>\n",
       "    </tr>\n",
       "    <tr>\n",
       "      <th>3</th>\n",
       "      <td>03/08</td>\n",
       "      <td>2303002</td>\n",
       "    </tr>\n",
       "    <tr>\n",
       "      <th>4</th>\n",
       "      <td>03/09</td>\n",
       "      <td>2074552</td>\n",
       "    </tr>\n",
       "  </tbody>\n",
       "</table>\n",
       "</div>"
      ],
      "text/plain": [
       "    date  Cantidad de Subastas\n",
       "0  03/05               1182401\n",
       "1  03/06               1032970\n",
       "2  03/07               2047661\n",
       "3  03/08               2303002\n",
       "4  03/09               2074552"
      ]
     },
     "execution_count": 125,
     "metadata": {},
     "output_type": "execute_result"
    }
   ],
   "source": [
    "auctions_count.head()"
   ]
  },
  {
   "cell_type": "code",
   "execution_count": null,
   "metadata": {},
   "outputs": [],
   "source": []
  },
  {
   "cell_type": "markdown",
   "metadata": {},
   "source": [
    "#### Se puede observar que a partir del dia 06/3 la cantidad de subastas toma una tendencia predominantemente ascendente, también se puede apreciar una caida en la cantidad de subastas los dias 09/03 y 11/03."
   ]
  },
  {
   "cell_type": "markdown",
   "metadata": {},
   "source": [
    "## Vamos a ver como fue la evolucion de la cantidad de subastas a traves de los dias para el sistema operativo Android vs iOS"
   ]
  },
  {
   "cell_type": "code",
   "execution_count": 128,
   "metadata": {},
   "outputs": [],
   "source": [
    "auctions_count = auctions.groupby([pd.Grouper(key=\"date\",freq=\"d\"),\"platform\"])[\"device_id\"]\\\n",
    "                          .count().reset_index()\n",
    "                        \n",
    "#Formato para las fechas en el grafico\n",
    "auctions_count[\"date\"] = auctions_count[\"date\"].dt.strftime('%m/%d')                       \n"
   ]
  },
  {
   "cell_type": "code",
   "execution_count": 129,
   "metadata": {},
   "outputs": [
    {
     "data": {
      "text/html": [
       "<div>\n",
       "<style scoped>\n",
       "    .dataframe tbody tr th:only-of-type {\n",
       "        vertical-align: middle;\n",
       "    }\n",
       "\n",
       "    .dataframe tbody tr th {\n",
       "        vertical-align: top;\n",
       "    }\n",
       "\n",
       "    .dataframe thead th {\n",
       "        text-align: right;\n",
       "    }\n",
       "</style>\n",
       "<table border=\"1\" class=\"dataframe\">\n",
       "  <thead>\n",
       "    <tr style=\"text-align: right;\">\n",
       "      <th>platform</th>\n",
       "      <th>1</th>\n",
       "      <th>2</th>\n",
       "    </tr>\n",
       "    <tr>\n",
       "      <th>date</th>\n",
       "      <th></th>\n",
       "      <th></th>\n",
       "    </tr>\n",
       "  </thead>\n",
       "  <tbody>\n",
       "    <tr>\n",
       "      <th>03/05</th>\n",
       "      <td>719286</td>\n",
       "      <td>463115</td>\n",
       "    </tr>\n",
       "    <tr>\n",
       "      <th>03/06</th>\n",
       "      <td>579624</td>\n",
       "      <td>453346</td>\n",
       "    </tr>\n",
       "    <tr>\n",
       "      <th>03/07</th>\n",
       "      <td>1617609</td>\n",
       "      <td>430052</td>\n",
       "    </tr>\n",
       "    <tr>\n",
       "      <th>03/08</th>\n",
       "      <td>1898054</td>\n",
       "      <td>404948</td>\n",
       "    </tr>\n",
       "    <tr>\n",
       "      <th>03/09</th>\n",
       "      <td>1618742</td>\n",
       "      <td>455810</td>\n",
       "    </tr>\n",
       "    <tr>\n",
       "      <th>03/10</th>\n",
       "      <td>2149876</td>\n",
       "      <td>487658</td>\n",
       "    </tr>\n",
       "    <tr>\n",
       "      <th>03/11</th>\n",
       "      <td>2165005</td>\n",
       "      <td>409911</td>\n",
       "    </tr>\n",
       "    <tr>\n",
       "      <th>03/12</th>\n",
       "      <td>2337162</td>\n",
       "      <td>442748</td>\n",
       "    </tr>\n",
       "    <tr>\n",
       "      <th>03/13</th>\n",
       "      <td>2456467</td>\n",
       "      <td>481906</td>\n",
       "    </tr>\n",
       "  </tbody>\n",
       "</table>\n",
       "</div>"
      ],
      "text/plain": [
       "platform        1       2\n",
       "date                     \n",
       "03/05      719286  463115\n",
       "03/06      579624  453346\n",
       "03/07     1617609  430052\n",
       "03/08     1898054  404948\n",
       "03/09     1618742  455810\n",
       "03/10     2149876  487658\n",
       "03/11     2165005  409911\n",
       "03/12     2337162  442748\n",
       "03/13     2456467  481906"
      ]
     },
     "execution_count": 129,
     "metadata": {},
     "output_type": "execute_result"
    }
   ],
   "source": [
    "auctions_count = auctions_count.pivot(\"date\",\"platform\",\"device_id\")\n",
    "auctions_count"
   ]
  },
  {
   "cell_type": "code",
   "execution_count": 134,
   "metadata": {},
   "outputs": [
    {
     "data": {
      "text/plain": [
       "Text(0, 0.5, 'Cantidad de subastas')"
      ]
     },
     "execution_count": 134,
     "metadata": {},
     "output_type": "execute_result"
    },
    {
     "data": {
      "image/png": "[encoded data removed]",
      "text/plain": [
       "<Figure size 720x288 with 1 Axes>"
      ]
     },
     "metadata": {
      "needs_background": "light"
     },
     "output_type": "display_data"
    }
   ],
   "source": [
    "grafico = auctions_count.plot(kind=\"bar\",figsize = (10,4))\n",
    "grafico.set_title(\"Cantidad de subastas por día del mes para Android vs iOS\",fontsize=15)\n",
    "grafico.set_xlabel(\"Día del mes\")\n",
    "grafico.set_ylabel(\"Cantidad de subastas\")"
   ]
  },
  {
   "cell_type": "code",
   "execution_count": 133,
   "metadata": {},
   "outputs": [
    {
     "data": {
      "text/plain": [
       "Text(0, 0.5, 'Cantidad de subastas')"
      ]
     },
     "execution_count": 133,
     "metadata": {},
     "output_type": "execute_result"
    },
    {
     "data": {
      "image/png": "[encoded data removed]",
      "text/plain": [
       "<Figure size 720x288 with 1 Axes>"
      ]
     },
     "metadata": {
      "needs_background": "light"
     },
     "output_type": "display_data"
    }
   ],
   "source": [
    "grafico = auctions_count.plot(kind=\"line\",figsize=(10,4),fontsize=12)\n",
    "grafico.set_title(\"Cantidad de subastas por día del mes para Android vs iOS\",fontsize=15)\n",
    "grafico.set_xlabel(\"Día del mes\")\n",
    "grafico.set_ylabel(\"Cantidad de subastas\")"
   ]
  },
  {
   "cell_type": "markdown",
   "metadata": {},
   "source": [
    "###### Comentario sobre el grafico: Aparece en el cuadro de platform el valor 0, no se de donde lo saca ni como eliminarlo."
   ]
  },
  {
   "cell_type": "markdown",
   "metadata": {},
   "source": [
    "#### Se puede observar que para Android(asumido por su gran cantidad de valores) se mantiene la misma tendencia que la vista para el total de dispositivos. Esto se debe a que la evolución de subastas en el tiempo para iOS se mantiene casi constante, este es un dato interesante. La variabilidad del total de dispositivos vista anteriormente esta dada solamente por Android, cuyos dispositivos van aumentando al pasar de los dias."
   ]
  },
  {
   "cell_type": "markdown",
   "metadata": {},
   "source": [
    "#### Vamos a ver cuales son los valores al pasar de los dias para iOS"
   ]
  },
  {
   "cell_type": "code",
   "execution_count": 30,
   "metadata": {},
   "outputs": [
    {
     "data": {
      "text/html": [
       "<div>\n",
       "<style scoped>\n",
       "    .dataframe tbody tr th:only-of-type {\n",
       "        vertical-align: middle;\n",
       "    }\n",
       "\n",
       "    .dataframe tbody tr th {\n",
       "        vertical-align: top;\n",
       "    }\n",
       "\n",
       "    .dataframe thead th {\n",
       "        text-align: right;\n",
       "    }\n",
       "</style>\n",
       "<table border=\"1\" class=\"dataframe\">\n",
       "  <thead>\n",
       "    <tr style=\"text-align: right;\">\n",
       "      <th></th>\n",
       "      <th>date</th>\n",
       "      <th>platform</th>\n",
       "      <th>device_id</th>\n",
       "    </tr>\n",
       "  </thead>\n",
       "  <tbody>\n",
       "    <tr>\n",
       "      <th>1</th>\n",
       "      <td>03/05</td>\n",
       "      <td>2</td>\n",
       "      <td>463115</td>\n",
       "    </tr>\n",
       "    <tr>\n",
       "      <th>3</th>\n",
       "      <td>03/06</td>\n",
       "      <td>2</td>\n",
       "      <td>453346</td>\n",
       "    </tr>\n",
       "    <tr>\n",
       "      <th>5</th>\n",
       "      <td>03/07</td>\n",
       "      <td>2</td>\n",
       "      <td>430052</td>\n",
       "    </tr>\n",
       "    <tr>\n",
       "      <th>7</th>\n",
       "      <td>03/08</td>\n",
       "      <td>2</td>\n",
       "      <td>404948</td>\n",
       "    </tr>\n",
       "    <tr>\n",
       "      <th>9</th>\n",
       "      <td>03/09</td>\n",
       "      <td>2</td>\n",
       "      <td>455810</td>\n",
       "    </tr>\n",
       "    <tr>\n",
       "      <th>11</th>\n",
       "      <td>03/10</td>\n",
       "      <td>2</td>\n",
       "      <td>487658</td>\n",
       "    </tr>\n",
       "    <tr>\n",
       "      <th>13</th>\n",
       "      <td>03/11</td>\n",
       "      <td>2</td>\n",
       "      <td>409911</td>\n",
       "    </tr>\n",
       "    <tr>\n",
       "      <th>15</th>\n",
       "      <td>03/12</td>\n",
       "      <td>2</td>\n",
       "      <td>442748</td>\n",
       "    </tr>\n",
       "    <tr>\n",
       "      <th>17</th>\n",
       "      <td>03/13</td>\n",
       "      <td>2</td>\n",
       "      <td>481906</td>\n",
       "    </tr>\n",
       "  </tbody>\n",
       "</table>\n",
       "</div>"
      ],
      "text/plain": [
       "     date  platform  device_id\n",
       "1   03/05         2     463115\n",
       "3   03/06         2     453346\n",
       "5   03/07         2     430052\n",
       "7   03/08         2     404948\n",
       "9   03/09         2     455810\n",
       "11  03/10         2     487658\n",
       "13  03/11         2     409911\n",
       "15  03/12         2     442748\n",
       "17  03/13         2     481906"
      ]
     },
     "execution_count": 30,
     "metadata": {},
     "output_type": "execute_result"
    }
   ],
   "source": [
    "auctions_count[auctions_count[\"platform\"] == 2]"
   ]
  },
  {
   "cell_type": "code",
   "execution_count": 34,
   "metadata": {},
   "outputs": [
    {
     "data": {
      "text/plain": [
       "device_id    447722.0\n",
       "dtype: float64"
      ]
     },
     "execution_count": 34,
     "metadata": {},
     "output_type": "execute_result"
    }
   ],
   "source": [
    "auctions_count[auctions_count[\"platform\"]==2]\\\n",
    "              .agg({\"device_id\":\"mean\"}).round()"
   ]
  },
  {
   "cell_type": "markdown",
   "metadata": {},
   "source": [
    "#### Se puede ver que la cantidad de dispositivos con sistema operativo iOS se mantiene con un valor promedio a 447 mil"
   ]
  },
  {
   "cell_type": "markdown",
   "metadata": {},
   "source": [
    "## ¿ Cómo es la cantidad de subastas según el día y hora de la semana?"
   ]
  },
  {
   "cell_type": "code",
   "execution_count": 3,
   "metadata": {},
   "outputs": [],
   "source": [
    "auctions[\"day_of_week\"] = auctions[\"date\"].dt.day_name()"
   ]
  },
  {
   "cell_type": "markdown",
   "metadata": {},
   "source": [
    "#### Voy hacer el analisis descartando los dos primeros días que son los valores con menos cantidad de subastas, el analisis va desde 07/03 - 13/03"
   ]
  },
  {
   "cell_type": "code",
   "execution_count": 44,
   "metadata": {},
   "outputs": [],
   "source": [
    "auctions_count = auctions[(auctions[\"date\"] >= \"03-07-2019\")]\\\n",
    "                .groupby( [pd.Grouper(key=\"date\",freq=\"h\"),\"day_of_week\" ])[\"platform\"]\\\n",
    "                .count().reset_index()\n",
    "\n",
    "                       "
   ]
  },
  {
   "cell_type": "code",
   "execution_count": 45,
   "metadata": {},
   "outputs": [],
   "source": [
    "### No sé si hay otra manera de hacer el pivot de forma que no tenga que hacer el reset_index luego\n",
    "heat = auctions_count.pivot(\"date\",\"day_of_week\",\"platform\").reset_index()\n",
    "heat[\"date\"] = heat[\"date\"].dt.hour  \n",
    "heat = heat.groupby(\"date\").agg(\"sum\")"
   ]
  },
  {
   "cell_type": "code",
   "execution_count": 59,
   "metadata": {},
   "outputs": [
    {
     "data": {
      "text/plain": [
       "Text(114.0, 0.5, 'Cantidad de subastas')"
      ]
     },
     "execution_count": 59,
     "metadata": {},
     "output_type": "execute_result"
    },
    {
     "data": {
      "image/png": "[encoded data removed]",
      "text/plain": [
       "<Figure size 1080x576 with 2 Axes>"
      ]
     },
     "metadata": {
      "needs_background": "light"
     },
     "output_type": "display_data"
    }
   ],
   "source": [
    "fig,ax = plt.subplots(figsize = (15,8))\n",
    "sns.heatmap(heat)\n",
    "ax.set_xlabel(\"Dias de la semana\")\n",
    "ax.set_ylabel(\"Cantidad de subastas\")\n"
   ]
  },
  {
   "cell_type": "markdown",
   "metadata": {},
   "source": [
    "### Vamos a ver la misma distribución para Android y iOS"
   ]
  },
  {
   "cell_type": "markdown",
   "metadata": {},
   "source": [
    "#### Android:"
   ]
  },
  {
   "cell_type": "code",
   "execution_count": 70,
   "metadata": {},
   "outputs": [],
   "source": [
    "auctions_count = auctions[(auctions[\"date\"] >= \"03-07-2019\") & (auctions[\"platform\"] == 1 )]\\\n",
    "                .groupby( [pd.Grouper(key=\"date\",freq=\"h\"),\"day_of_week\" ])[\"platform\"]\\\n",
    "                .count().reset_index()"
   ]
  },
  {
   "cell_type": "code",
   "execution_count": 72,
   "metadata": {},
   "outputs": [],
   "source": [
    "### No sé si hay otra manera de hacer el pivot de forma que no tenga que hacer el reset_index luego\n",
    "heat_android = auctions_count.pivot(\"date\",\"day_of_week\",\"platform\").reset_index()\n",
    "heat_android[\"date\"] = heat_android[\"date\"].dt.hour  \n",
    "heat_android = heat_android.groupby(\"date\").agg(\"sum\")"
   ]
  },
  {
   "cell_type": "markdown",
   "metadata": {},
   "source": [
    "### iOS:"
   ]
  },
  {
   "cell_type": "code",
   "execution_count": 73,
   "metadata": {},
   "outputs": [],
   "source": [
    "\n",
    "auctions_count = auctions[(auctions[\"date\"] >= \"03-07-2019\") & (auctions[\"platform\"] == 2 )]\\\n",
    "                .groupby( [pd.Grouper(key=\"date\",freq=\"h\"),\"day_of_week\" ])[\"platform\"]\\\n",
    "                .count().reset_index()"
   ]
  },
  {
   "cell_type": "code",
   "execution_count": 74,
   "metadata": {},
   "outputs": [],
   "source": [
    "### No sé si hay otra manera de hacer el pivot de forma que no tenga que hacer el reset_index luego\n",
    "heat_ios = auctions_count.pivot(\"date\",\"day_of_week\",\"platform\").reset_index()\n",
    "heat_ios[\"date\"] = heat_ios[\"date\"].dt.hour  \n",
    "heat_ios = heat_ios.groupby(\"date\").agg(\"sum\")"
   ]
  },
  {
   "cell_type": "markdown",
   "metadata": {},
   "source": [
    "#### Comparacion:    "
   ]
  },
  {
   "cell_type": "code",
   "execution_count": 81,
   "metadata": {},
   "outputs": [
    {
     "data": {
      "text/plain": [
       "Text(0.5, 0.98, 'Distribución de cantidad de subastas por hora y dia. Android vs iOS')"
      ]
     },
     "execution_count": 81,
     "metadata": {},
     "output_type": "execute_result"
    },
    {
     "data": {
      "image/png": "[encoded data removed]",
      "text/plain": [
       "<Figure size 1080x576 with 4 Axes>"
      ]
     },
     "metadata": {
      "needs_background": "light"
     },
     "output_type": "display_data"
    }
   ],
   "source": [
    "fig,ejes = plt.subplots(1,2,figsize = (15,8))\n",
    "ax1 = ejes[0]\n",
    "ax2 = ejes[1]\n",
    "sns.heatmap(heat_android, cmap = \"Blues\",ax = ax1)\n",
    "sns.heatmap(heat_ios,cmap = \"Reds\",ax = ax2)\n",
    "ax2.set_title(\"iOS\")\n",
    "ax2.set_xlabel(\"Dias de la semana\")\n",
    "ax2.set_ylabel(\"Cantidad de subastas\")\n",
    "ax1.set_title(\"Android\")\n",
    "ax1.set_xlabel(\"Dias de la semana\")\n",
    "ax1.set_ylabel(\"Cantidad de subastas\")\n",
    "fig.suptitle(\"Distribución de cantidad de subastas por hora y dia. Android vs iOS\",fontsize =20)\n"
   ]
  },
  {
   "cell_type": "markdown",
   "metadata": {},
   "source": [
    "##### Comentario:  Hay que reordenar los dias"
   ]
  },
  {
   "cell_type": "code",
   "execution_count": 120,
   "metadata": {},
   "outputs": [
    {
     "data": {
      "text/plain": [
       "<matplotlib.axes._subplots.AxesSubplot at 0x7f95b74e35c0>"
      ]
     },
     "execution_count": 120,
     "metadata": {},
     "output_type": "execute_result"
    },
    {
     "data": {
      "image/png": "[encoded data removed]",
      "text/plain": [
       "<Figure size 1152x432 with 1 Axes>"
      ]
     },
     "metadata": {
      "needs_background": "light"
     },
     "output_type": "display_data"
    }
   ],
   "source": [
    "heat_android.plot(kind=\"bar\",figsize=(16,6))"
   ]
  },
  {
   "cell_type": "code",
   "execution_count": null,
   "metadata": {},
   "outputs": [],
   "source": []
  }
 ],
 "metadata": {
  "kernelspec": {
   "display_name": "Python 3",
   "language": "python",
   "name": "python3"
  },
  "language_info": {
   "codemirror_mode": {
    "name": "ipython",
    "version": 3
   },
   "file_extension": ".py",
   "mimetype": "text/x-python",
   "name": "python",
   "nbconvert_exporter": "python",
   "pygments_lexer": "ipython3",
   "version": "3.6.8"
  }
 },
 "nbformat": 4,
 "nbformat_minor": 2
}
