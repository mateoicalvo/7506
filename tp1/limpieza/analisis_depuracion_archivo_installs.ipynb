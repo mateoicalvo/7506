{
 "cells": [
  {
   "cell_type": "code",
   "execution_count": 1,
   "metadata": {},
   "outputs": [],
   "source": [
    "# IMPORTS\n",
    "import pandas as pd\n",
    "import json"
   ]
  },
  {
   "cell_type": "code",
   "execution_count": 21,
   "metadata": {},
   "outputs": [],
   "source": [
    "# CARGA DE DATOS\n",
    "installs = pd.read_csv(\"../../data/installs.csv\")"
   ]
  },
  {
   "cell_type": "code",
   "execution_count": 22,
   "metadata": {},
   "outputs": [],
   "source": [
    "# CARGA DE DESCRIPCION DE COLUMNAS\n",
    "with open(\"../../data/desc.json\") as json_file:\n",
    "    data = json.load(json_file)\n",
    "installs_data = data.get(\"installs\")"
   ]
  },
  {
   "cell_type": "code",
   "execution_count": 23,
   "metadata": {},
   "outputs": [],
   "source": [
    "def imprimir_info_columna(columna, info):\n",
    "    print(columna)\n",
    "    for x, y in info.items():\n",
    "        print(\"\\t\" + x + \": \", end=\"\")\n",
    "        print(y)\n",
    "    "
   ]
  },
  {
   "cell_type": "markdown",
   "metadata": {},
   "source": [
    "# Tipos para cada columna, cantidad de nulos"
   ]
  },
  {
   "cell_type": "code",
   "execution_count": 24,
   "metadata": {},
   "outputs": [
    {
     "data": {
      "text/plain": [
       "created                object\n",
       "application_id          int64\n",
       "ref_type                int64\n",
       "ref_hash                int64\n",
       "click_hash            float64\n",
       "attributed               bool\n",
       "implicit                 bool\n",
       "device_countrycode      int64\n",
       "device_brand          float64\n",
       "device_model          float64\n",
       "session_user_agent     object\n",
       "user_agent             object\n",
       "event_uuid             object\n",
       "kind                   object\n",
       "wifi                   object\n",
       "trans_id               object\n",
       "ip_address              int64\n",
       "device_language       float64\n",
       "dtype: object"
      ]
     },
     "execution_count": 24,
     "metadata": {},
     "output_type": "execute_result"
    }
   ],
   "source": [
    "installs.dtypes"
   ]
  },
  {
   "cell_type": "code",
   "execution_count": 34,
   "metadata": {},
   "outputs": [
    {
     "name": "stdout",
     "output_type": "stream",
     "text": [
      "<class 'pandas.core.frame.DataFrame'>\n",
      "RangeIndex: 3412 entries, 0 to 3411\n",
      "Data columns (total 18 columns):\n",
      "created               3412 non-null datetime64[ns]\n",
      "application_id        3412 non-null int64\n",
      "ref_type              3412 non-null int64\n",
      "ref_hash              3412 non-null int64\n",
      "click_hash            0 non-null float64\n",
      "attributed            3412 non-null bool\n",
      "implicit              3412 non-null bool\n",
      "device_countrycode    3412 non-null int64\n",
      "device_brand          1047 non-null float64\n",
      "device_model          3411 non-null float64\n",
      "session_user_agent    3364 non-null object\n",
      "user_agent            1729 non-null object\n",
      "event_uuid            865 non-null object\n",
      "kind                  865 non-null object\n",
      "wifi                  1729 non-null object\n",
      "trans_id              6 non-null object\n",
      "ip_address            3412 non-null int64\n",
      "device_language       3378 non-null float64\n",
      "dtypes: bool(2), datetime64[ns](1), float64(4), int64(5), object(6)\n",
      "memory usage: 433.2+ KB\n"
     ]
    }
   ],
   "source": [
    "installs.info()"
   ]
  },
  {
   "cell_type": "code",
   "execution_count": 44,
   "metadata": {},
   "outputs": [
    {
     "data": {
      "text/plain": [
       "created                  0\n",
       "application_id           0\n",
       "ref_type                 0\n",
       "ref_hash                 0\n",
       "click_hash            3412\n",
       "attributed               0\n",
       "implicit                 0\n",
       "device_countrycode       0\n",
       "device_brand          2365\n",
       "device_model             1\n",
       "session_user_agent      48\n",
       "user_agent            1683\n",
       "event_uuid            2547\n",
       "kind                  2547\n",
       "wifi                  1683\n",
       "trans_id              3406\n",
       "ip_address               0\n",
       "device_language         34\n",
       "dtype: int64"
      ]
     },
     "execution_count": 44,
     "metadata": {},
     "output_type": "execute_result"
    }
   ],
   "source": [
    "installs.isnull().agg(\"sum\")"
   ]
  },
  {
   "cell_type": "markdown",
   "metadata": {},
   "source": [
    "# • Para la columna created"
   ]
  },
  {
   "cell_type": "code",
   "execution_count": 25,
   "metadata": {},
   "outputs": [
    {
     "name": "stdout",
     "output_type": "stream",
     "text": [
      "created\n",
      "\tdesc: creation date for the install\n",
      "\ttransformation: None\n"
     ]
    }
   ],
   "source": [
    "imprimir_info_columna(\"created\", installs_data.get(\"created\"))"
   ]
  },
  {
   "cell_type": "markdown",
   "metadata": {},
   "source": [
    "### La convierto a fecha"
   ]
  },
  {
   "cell_type": "code",
   "execution_count": 26,
   "metadata": {},
   "outputs": [],
   "source": [
    "installs[\"created\"] = pd.to_datetime(installs[\"created\"])"
   ]
  },
  {
   "cell_type": "code",
   "execution_count": 59,
   "metadata": {},
   "outputs": [],
   "source": [
    "fechas = installs[\"created\"]"
   ]
  },
  {
   "cell_type": "code",
   "execution_count": 60,
   "metadata": {},
   "outputs": [
    {
     "data": {
      "text/plain": [
       "count                           3412\n",
       "unique                          3412\n",
       "top       2019-03-09 04:34:41.291000\n",
       "freq                               1\n",
       "first     2019-03-05 00:00:38.219000\n",
       "last      2019-03-13 23:54:00.526000\n",
       "Name: created, dtype: object"
      ]
     },
     "execution_count": 60,
     "metadata": {},
     "output_type": "execute_result"
    }
   ],
   "source": [
    "fechas.describe()"
   ]
  },
  {
   "cell_type": "markdown",
   "metadata": {},
   "source": [
    "# • Para la columna application_id"
   ]
  },
  {
   "cell_type": "code",
   "execution_count": 28,
   "metadata": {},
   "outputs": [
    {
     "name": "stdout",
     "output_type": "stream",
     "text": [
      "application_id\n",
      "\tdesc: internal id for the installed app\n",
      "\ttransformation: LabelEncoding\n"
     ]
    }
   ],
   "source": [
    "imprimir_info_columna(\"application_id\", installs_data.get(\"application_id\"))"
   ]
  },
  {
   "cell_type": "markdown",
   "metadata": {},
   "source": [
    "### Comentario: Label Encoding puede confundir a los algoritmos clasificadores"
   ]
  },
  {
   "cell_type": "code",
   "execution_count": 65,
   "metadata": {},
   "outputs": [
    {
     "data": {
      "text/plain": [
       "31"
      ]
     },
     "execution_count": 65,
     "metadata": {},
     "output_type": "execute_result"
    }
   ],
   "source": [
    "installs[\"application_id\"].value_counts().size"
   ]
  },
  {
   "cell_type": "markdown",
   "metadata": {},
   "source": [
    "### Se podría cargar como categórica, entero chico o incluso con One-Hot"
   ]
  },
  {
   "cell_type": "markdown",
   "metadata": {},
   "source": [
    "# • Para la columna ref_type"
   ]
  },
  {
   "cell_type": "code",
   "execution_count": 30,
   "metadata": {},
   "outputs": [
    {
     "name": "stdout",
     "output_type": "stream",
     "text": [
      "ref_type\n",
      "\tdesc: either apple_ifa or google_advertising_id\n",
      "\ttransformation: string hashing\n"
     ]
    }
   ],
   "source": [
    "imprimir_info_columna(\"ref_type\", installs_data.get(\"ref_type\"))"
   ]
  },
  {
   "cell_type": "code",
   "execution_count": 69,
   "metadata": {},
   "outputs": [
    {
     "data": {
      "text/plain": [
       "2"
      ]
     },
     "execution_count": 69,
     "metadata": {},
     "output_type": "execute_result"
    }
   ],
   "source": [
    "installs[\"ref_type\"].value_counts().size"
   ]
  },
  {
   "cell_type": "markdown",
   "metadata": {},
   "source": [
    "### Podría cargarse como categórica o One-Hot"
   ]
  },
  {
   "cell_type": "markdown",
   "metadata": {},
   "source": [
    "# • Para la columna ref_hash"
   ]
  },
  {
   "cell_type": "code",
   "execution_count": 45,
   "metadata": {},
   "outputs": [
    {
     "name": "stdout",
     "output_type": "stream",
     "text": [
      "ref_hash\n",
      "\tdesc: device's apple_ifa or google_advertising_id\n",
      "\ttransformation: string hashing\n"
     ]
    }
   ],
   "source": [
    "imprimir_info_columna(\"ref_hash\", installs_data.get(\"ref_hash\"))"
   ]
  },
  {
   "cell_type": "code",
   "execution_count": 66,
   "metadata": {},
   "outputs": [
    {
     "data": {
      "text/plain": [
       "3008"
      ]
     },
     "execution_count": 66,
     "metadata": {},
     "output_type": "execute_result"
    }
   ],
   "source": [
    "installs[\"ref_hash\"].value_counts().size"
   ]
  },
  {
   "cell_type": "markdown",
   "metadata": {},
   "source": [
    "### Hay 3008 identificadores (dos diferentes podrían corresponder a un mismo dispositivo). One-Hot Encoding ya no parece viable, pero podría reducirse el tamaño si se carga como categórica o entera chica"
   ]
  },
  {
   "cell_type": "markdown",
   "metadata": {},
   "source": [
    "# • Para la columna click_hash"
   ]
  },
  {
   "cell_type": "code",
   "execution_count": 46,
   "metadata": {},
   "outputs": [
    {
     "name": "stdout",
     "output_type": "stream",
     "text": [
      "click_hash\n",
      "\tdesc: hash for the install (like an id)\n",
      "\ttransformation: None\n"
     ]
    }
   ],
   "source": [
    "imprimir_info_columna(\"click_hash\", installs_data.get(\"click_hash\"))"
   ]
  },
  {
   "cell_type": "code",
   "execution_count": 47,
   "metadata": {},
   "outputs": [
    {
     "data": {
      "text/plain": [
       "count    0.0\n",
       "mean     NaN\n",
       "std      NaN\n",
       "min      NaN\n",
       "25%      NaN\n",
       "50%      NaN\n",
       "75%      NaN\n",
       "max      NaN\n",
       "Name: click_hash, dtype: float64"
      ]
     },
     "execution_count": 47,
     "metadata": {},
     "output_type": "execute_result"
    }
   ],
   "source": [
    "installs[\"click_hash\"].describe()"
   ]
  },
  {
   "cell_type": "markdown",
   "metadata": {},
   "source": [
    "### Comentario: Todos los valores son nulos, podría descartarse"
   ]
  },
  {
   "cell_type": "markdown",
   "metadata": {},
   "source": [
    "# • Para la columna attributed"
   ]
  },
  {
   "cell_type": "code",
   "execution_count": 51,
   "metadata": {},
   "outputs": [
    {
     "name": "stdout",
     "output_type": "stream",
     "text": [
      "attributed\n",
      "\tdesc: whether the install was attributed to Jampp\n",
      "\ttransformation: None\n"
     ]
    }
   ],
   "source": [
    "imprimir_info_columna(\"attributed\", installs_data.get(\"attributed\"))"
   ]
  },
  {
   "cell_type": "code",
   "execution_count": 52,
   "metadata": {},
   "outputs": [
    {
     "data": {
      "text/plain": [
       "0    False\n",
       "1    False\n",
       "2    False\n",
       "3    False\n",
       "4    False\n",
       "Name: attributed, dtype: bool"
      ]
     },
     "execution_count": 52,
     "metadata": {},
     "output_type": "execute_result"
    }
   ],
   "source": [
    "df[\"attributed\"].head()"
   ]
  },
  {
   "cell_type": "markdown",
   "metadata": {},
   "source": [
    "# • Para la columna implicit"
   ]
  },
  {
   "cell_type": "code",
   "execution_count": 53,
   "metadata": {},
   "outputs": [
    {
     "name": "stdout",
     "output_type": "stream",
     "text": [
      "implicit\n",
      "\tdesc: whether the install is implicit (the install was made by a device that has not installed according to the tracking platform)\n",
      "\ttransformation: None\n"
     ]
    }
   ],
   "source": [
    "imprimir_info_columna(\"implicit\", installs_data.get(\"implicit\"))"
   ]
  },
  {
   "cell_type": "markdown",
   "metadata": {},
   "source": [
    "# • Para la columna device_countrycode"
   ]
  },
  {
   "cell_type": "code",
   "execution_count": 56,
   "metadata": {},
   "outputs": [
    {
     "name": "stdout",
     "output_type": "stream",
     "text": [
      "device_countrycode\n",
      "\tdesc: country code for the device\n",
      "\ttransformation: string hashing\n"
     ]
    }
   ],
   "source": [
    "imprimir_info_columna(\"device_countrycode\", installs_data.get(\"device_countrycode\"))"
   ]
  },
  {
   "cell_type": "code",
   "execution_count": 67,
   "metadata": {},
   "outputs": [
    {
     "data": {
      "text/plain": [
       "2"
      ]
     },
     "execution_count": 67,
     "metadata": {},
     "output_type": "execute_result"
    }
   ],
   "source": [
    "installs[\"device_countrycode\"].value_counts().size"
   ]
  },
  {
   "cell_type": "markdown",
   "metadata": {},
   "source": [
    "### Podría codificarse mediante One-Hot. float64 no tiene sentido"
   ]
  },
  {
   "cell_type": "markdown",
   "metadata": {},
   "source": [
    "# • Para la columna device_brand"
   ]
  },
  {
   "cell_type": "code",
   "execution_count": 61,
   "metadata": {},
   "outputs": [
    {
     "name": "stdout",
     "output_type": "stream",
     "text": [
      "device_brand\n",
      "\tdesc: device's brand\n",
      "\ttransformation: string hashing\n"
     ]
    }
   ],
   "source": [
    "imprimir_info_columna(\"device_brand\", installs_data.get(\"device_brand\"))"
   ]
  },
  {
   "cell_type": "code",
   "execution_count": 62,
   "metadata": {},
   "outputs": [
    {
     "data": {
      "text/plain": [
       "0    3.083059e+17\n",
       "1    3.083059e+17\n",
       "2    5.137992e+17\n",
       "3    5.137992e+17\n",
       "4    1.083369e+18\n",
       "Name: device_brand, dtype: float64"
      ]
     },
     "execution_count": 62,
     "metadata": {},
     "output_type": "execute_result"
    }
   ],
   "source": [
    "installs[\"device_brand\"].head()"
   ]
  },
  {
   "cell_type": "code",
   "execution_count": 70,
   "metadata": {},
   "outputs": [
    {
     "data": {
      "text/plain": [
       "27"
      ]
     },
     "execution_count": 70,
     "metadata": {},
     "output_type": "execute_result"
    }
   ],
   "source": [
    "installs[\"device_brand\"].value_counts().size"
   ]
  },
  {
   "cell_type": "markdown",
   "metadata": {},
   "source": [
    "### Hay 27 \"brands\" diferentes, podrían cargarse según One-Hot o categóricas. Se entiende que las \"brands\" o marcas son Samsung, Motorola, Xiaomi, etc."
   ]
  },
  {
   "cell_type": "markdown",
   "metadata": {},
   "source": [
    "# • Para la columna device_model"
   ]
  },
  {
   "cell_type": "code",
   "execution_count": 71,
   "metadata": {},
   "outputs": [
    {
     "name": "stdout",
     "output_type": "stream",
     "text": [
      "device_model\n",
      "\tdesc: device's model\n",
      "\ttransformation: string hashing\n"
     ]
    }
   ],
   "source": [
    "imprimir_info_columna(\"device_model\", installs_data.get(\"device_model\"))"
   ]
  },
  {
   "cell_type": "code",
   "execution_count": 72,
   "metadata": {},
   "outputs": [
    {
     "data": {
      "text/plain": [
       "27"
      ]
     },
     "execution_count": 72,
     "metadata": {},
     "output_type": "execute_result"
    }
   ],
   "source": [
    "installs[\"device_brand\"].value_counts().size"
   ]
  },
  {
   "cell_type": "markdown",
   "metadata": {},
   "source": [
    "### Teniendo en cuenta que no puede haber menos modelos que marcas, y cada marca tiene un modelo, esta columna parece ser redundante (con la marca o \"brand\" ya alcanza)"
   ]
  },
  {
   "cell_type": "markdown",
   "metadata": {},
   "source": [
    "# • Para la columna session_user_agent"
   ]
  },
  {
   "cell_type": "code",
   "execution_count": 73,
   "metadata": {},
   "outputs": [
    {
     "name": "stdout",
     "output_type": "stream",
     "text": [
      "session_user_agent\n",
      "\tdesc: user-agent used for the install\n",
      "\ttransformation: None\n"
     ]
    }
   ],
   "source": [
    "imprimir_info_columna(\"session_user_agent\", installs_data.get(\"session_user_agent\"))"
   ]
  },
  {
   "cell_type": "code",
   "execution_count": 74,
   "metadata": {},
   "outputs": [
    {
     "data": {
      "text/plain": [
       "12"
      ]
     },
     "execution_count": 74,
     "metadata": {},
     "output_type": "execute_result"
    }
   ],
   "source": [
    "installs[\"session_user_agent\"].value_counts().size"
   ]
  },
  {
   "cell_type": "code",
   "execution_count": 75,
   "metadata": {},
   "outputs": [
    {
     "data": {
      "text/plain": [
       "48"
      ]
     },
     "execution_count": 75,
     "metadata": {},
     "output_type": "execute_result"
    }
   ],
   "source": [
    "installs[\"session_user_agent\"].isnull().sum()"
   ]
  },
  {
   "cell_type": "code",
   "execution_count": 81,
   "metadata": {},
   "outputs": [
    {
     "data": {
      "text/plain": [
       "http-kit/2.0                                                                                                                                                                                                                                                                  1729\n",
       "adjust.com                                                                                                                                                                                                                                                                    1592\n",
       "HasOffers Mobile AppTracking v1.0                                                                                                                                                                                                                                               22\n",
       "Mozilla/5.0 (iPhone; CPU iPhone OS 12_1_4 like Mac OS X) AppleWebKit/605.1.15 (KHTML, like Gecko) Version/12.0 Mobile/15E148 Safari/604.1                                                                                                                                       10\n",
       "Mozilla/5.0 (iPhone; CPU iPhone OS 12_1 like Mac OS X) AppleWebKit/605.1.15 (KHTML, like Gecko) CriOS/72.0.3626.101 Mobile/15E148 Safari/605.1                                                                                                                                   3\n",
       "Mozilla/5.0 (iPhone; CPU iPhone OS 12_1_2 like Mac OS X) AppleWebKit/605.1.15 (KHTML, like Gecko) Version/12.0 Mobile/15E148 Safari/604.1                                                                                                                                        2\n",
       "Mozilla/5.0 (iPhone; CPU iPhone OS 12_1_2 like Mac OS X) AppleWebKit/605.1.15 (KHTML, like Gecko) Mobile/16C101 [FBAN/FBIOS;FBAV/208.0.0.48.103;FBBV/141927594;FBDV/iPhone9,3;FBMD/iPhone;FBSN/iOS;FBSV/12.1.2;FBSS/2;FBCR/O2;FBID/phone;FBLC/en_GB;FBOP/5;FBRV/143280066]       1\n",
       "Mozilla/5.0 (Linux; Android 6.0; ALE-L23) AppleWebKit/537.36 (KHTML, like Gecko) Chrome/72.0.3626.105 Mobile Safari/537.36                                                                                                                                                       1\n",
       "Mozilla/5.0 (iPhone; CPU iPhone OS 11_2_6 like Mac OS X) AppleWebKit/604.5.6 (KHTML, like Gecko) Version/11.0 Mobile/15D100 Safari/604.1                                                                                                                                         1\n",
       "Mozilla/5.0 (iPhone; CPU iPhone OS 11_4_1 like Mac OS X) AppleWebKit/605.1.15 (KHTML, like Gecko) Version/11.0 Mobile/15E148 Safari/604.1                                                                                                                                        1\n",
       "Mozilla/5.0 (iPad; CPU OS 12_1_4 like Mac OS X) AppleWebKit/605.1.15 (KHTML, like Gecko) Version/12.0 Mobile/15E148 Safari/604.1                                                                                                                                                 1\n",
       "Mozilla/5.0 (iPhone; CPU iPhone OS 12_1 like Mac OS X) AppleWebKit/605.1.15 (KHTML, like Gecko) GSA/68.0.234683655 Mobile/15E148 Safari/605.1                                                                                                                                    1\n",
       "Name: session_user_agent, dtype: int64"
      ]
     },
     "execution_count": 81,
     "metadata": {},
     "output_type": "execute_result"
    }
   ],
   "source": [
    "installs[\"session_user_agent\"].value_counts()"
   ]
  },
  {
   "cell_type": "markdown",
   "metadata": {},
   "source": [
    "# • Para la columna user_agent"
   ]
  },
  {
   "cell_type": "code",
   "execution_count": 82,
   "metadata": {},
   "outputs": [
    {
     "name": "stdout",
     "output_type": "stream",
     "text": [
      "user_agent\n",
      "\tdesc: user agent related to the device\n",
      "\ttransformation: None\n"
     ]
    }
   ],
   "source": [
    "imprimir_info_columna(\"user_agent\", installs_data.get(\"user_agent\"))"
   ]
  },
  {
   "cell_type": "code",
   "execution_count": 83,
   "metadata": {},
   "outputs": [
    {
     "data": {
      "text/plain": [
       "334"
      ]
     },
     "execution_count": 83,
     "metadata": {},
     "output_type": "execute_result"
    }
   ],
   "source": [
    "installs[\"user_agent\"].value_counts().size"
   ]
  },
  {
   "cell_type": "code",
   "execution_count": 84,
   "metadata": {},
   "outputs": [
    {
     "data": {
      "text/plain": [
       "1683"
      ]
     },
     "execution_count": 84,
     "metadata": {},
     "output_type": "execute_result"
    }
   ],
   "source": [
    "installs[\"user_agent\"].isnull().sum()"
   ]
  },
  {
   "cell_type": "code",
   "execution_count": 85,
   "metadata": {},
   "outputs": [
    {
     "data": {
      "text/plain": [
       "MercadoPago/2.58.0.2 CFNetwork/976 Darwin/18.2.0                  393\n",
       "MercadoPago/2.59.0.1 CFNetwork/976 Darwin/18.2.0                  141\n",
       "MercadoPago/2.57.0.2 CFNetwork/976 Darwin/18.2.0                   89\n",
       "Dalvik/2.1.0 (Linux; U; Android 8.1.0; SM-G610M Build/M1AJQ)       37\n",
       "Dalvik/2.1.0 (Linux; U; Android 6.0.1; SM-J500M Build/MMB29M)      36\n",
       "Dalvik/2.1.0 (Linux; U; Android 6.0.1; SM-G532MT Build/MMB29T)     36\n",
       "Dalvik/2.1.0 (Linux; U; Android 8.0.0; SM-G570M Build/R16NW)       28\n",
       "Name: user_agent, dtype: int64"
      ]
     },
     "execution_count": 85,
     "metadata": {},
     "output_type": "execute_result"
    }
   ],
   "source": [
    "installs[\"user_agent\"].value_counts().head(7)"
   ]
  },
  {
   "cell_type": "markdown",
   "metadata": {},
   "source": [
    "# • Para la columna event_uuid"
   ]
  },
  {
   "cell_type": "code",
   "execution_count": 86,
   "metadata": {},
   "outputs": [
    {
     "name": "stdout",
     "output_type": "stream",
     "text": [
      "event_uuid\n",
      "\tdesc: uuid4 generated for the event\n",
      "\ttransformation: None\n"
     ]
    }
   ],
   "source": [
    "imprimir_info_columna(\"event_uuid\", installs_data.get(\"event_uuid\"))"
   ]
  },
  {
   "cell_type": "code",
   "execution_count": 89,
   "metadata": {},
   "outputs": [
    {
     "data": {
      "text/plain": [
       "865"
      ]
     },
     "execution_count": 89,
     "metadata": {},
     "output_type": "execute_result"
    }
   ],
   "source": [
    "installs[\"event_uuid\"].value_counts().size"
   ]
  },
  {
   "cell_type": "code",
   "execution_count": 90,
   "metadata": {},
   "outputs": [
    {
     "data": {
      "text/plain": [
       "2547"
      ]
     },
     "execution_count": 90,
     "metadata": {},
     "output_type": "execute_result"
    }
   ],
   "source": [
    "installs[\"event_uuid\"].isnull().sum()"
   ]
  },
  {
   "cell_type": "code",
   "execution_count": 94,
   "metadata": {},
   "outputs": [
    {
     "data": {
      "text/plain": [
       "fec15d42-3486-4ed9-838c-ea1aef7f5111    1\n",
       "ecfe6061-4012-4135-9fa9-8414b4caefdc    1\n",
       "7649efcd-851e-40f6-abe6-67f24a2e1fcc    1\n",
       "Name: event_uuid, dtype: int64"
      ]
     },
     "execution_count": 94,
     "metadata": {},
     "output_type": "execute_result"
    }
   ],
   "source": [
    "installs[\"event_uuid\"].value_counts().head(3)"
   ]
  },
  {
   "cell_type": "code",
   "execution_count": 95,
   "metadata": {},
   "outputs": [
    {
     "data": {
      "text/plain": [
       "count                                      865\n",
       "unique                                     865\n",
       "top       fec15d42-3486-4ed9-838c-ea1aef7f5111\n",
       "freq                                         1\n",
       "Name: event_uuid, dtype: object"
      ]
     },
     "execution_count": 95,
     "metadata": {},
     "output_type": "execute_result"
    }
   ],
   "source": [
    "installs[\"event_uuid\"].describe()"
   ]
  },
  {
   "cell_type": "markdown",
   "metadata": {},
   "source": [
    "### Podría cargarse como categórica, o entero pequeño ya que sus valores no se repiten"
   ]
  },
  {
   "cell_type": "markdown",
   "metadata": {},
   "source": [
    "# • Para la columna kind"
   ]
  },
  {
   "cell_type": "code",
   "execution_count": 96,
   "metadata": {},
   "outputs": [
    {
     "name": "stdout",
     "output_type": "stream",
     "text": [
      "kind\n",
      "\tdesc: kind of install\n",
      "\ttransformation: None\n"
     ]
    }
   ],
   "source": [
    "imprimir_info_columna(\"kind\", installs_data.get(\"kind\"))"
   ]
  },
  {
   "cell_type": "code",
   "execution_count": 100,
   "metadata": {},
   "outputs": [
    {
     "data": {
      "text/plain": [
       "20"
      ]
     },
     "execution_count": 100,
     "metadata": {},
     "output_type": "execute_result"
    }
   ],
   "source": [
    "installs[\"kind\"].value_counts().size"
   ]
  },
  {
   "cell_type": "code",
   "execution_count": 101,
   "metadata": {},
   "outputs": [
    {
     "data": {
      "text/plain": [
       "af_app_opened                 428\n",
       "app_open                      212\n",
       "EVENT_Homepage                 70\n",
       "open                           36\n",
       "EVENT_OPEN_APP                 33\n",
       "Open                           22\n",
       "login_success                  17\n",
       "account_summary_first_step     13\n",
       "EVENT_HOMEPAGE                  6\n",
       "EVENT_LISTINGVIEW_FLIGHT        6\n",
       "deeplink                        5\n",
       "reattribution                   4\n",
       "payment method add              3\n",
       "registration                    3\n",
       "journey first drop off          2\n",
       "af_list_view                    1\n",
       "EVENT_PROMO                     1\n",
       "journey drop off                1\n",
       "install                         1\n",
       "journey reserved                1\n",
       "Name: kind, dtype: int64"
      ]
     },
     "execution_count": 101,
     "metadata": {},
     "output_type": "execute_result"
    }
   ],
   "source": [
    "installs[\"kind\"].value_counts()"
   ]
  },
  {
   "cell_type": "code",
   "execution_count": 99,
   "metadata": {},
   "outputs": [
    {
     "data": {
      "text/plain": [
       "2547"
      ]
     },
     "execution_count": 99,
     "metadata": {},
     "output_type": "execute_result"
    }
   ],
   "source": [
    "installs[\"kind\"].isnull().sum()"
   ]
  },
  {
   "cell_type": "markdown",
   "metadata": {},
   "source": [
    "### Podría cargarse como categórica o entero pequeño"
   ]
  },
  {
   "cell_type": "markdown",
   "metadata": {},
   "source": [
    "# • Para la columna wifi"
   ]
  },
  {
   "cell_type": "code",
   "execution_count": 102,
   "metadata": {},
   "outputs": [
    {
     "name": "stdout",
     "output_type": "stream",
     "text": [
      "wifi\n",
      "\tdesc: boolean flagging if the install was performed on a wifi connection\n",
      "\ttransformation: None\n"
     ]
    }
   ],
   "source": [
    "imprimir_info_columna(\"wifi\", installs_data.get(\"wifi\"))"
   ]
  },
  {
   "cell_type": "code",
   "execution_count": 104,
   "metadata": {},
   "outputs": [
    {
     "data": {
      "text/plain": [
       "True     1377\n",
       "False     352\n",
       "Name: wifi, dtype: int64"
      ]
     },
     "execution_count": 104,
     "metadata": {},
     "output_type": "execute_result"
    }
   ],
   "source": [
    "installs[\"wifi\"].value_counts()"
   ]
  },
  {
   "cell_type": "code",
   "execution_count": 105,
   "metadata": {},
   "outputs": [
    {
     "data": {
      "text/plain": [
       "1683"
      ]
     },
     "execution_count": 105,
     "metadata": {},
     "output_type": "execute_result"
    }
   ],
   "source": [
    "installs[\"wifi\"].isnull().sum()"
   ]
  },
  {
   "cell_type": "markdown",
   "metadata": {},
   "source": [
    "### Debería cargarse como booleana. Por otro lado, tiene muchos nulos"
   ]
  },
  {
   "cell_type": "markdown",
   "metadata": {},
   "source": [
    "# • Para la columna trans_id"
   ]
  },
  {
   "cell_type": "code",
   "execution_count": 106,
   "metadata": {},
   "outputs": [
    {
     "name": "stdout",
     "output_type": "stream",
     "text": [
      "trans_id\n",
      "\tdesc: transaction id, used for joining\n",
      "\ttransformation: None\n"
     ]
    }
   ],
   "source": [
    "imprimir_info_columna(\"trans_id\", installs_data.get(\"trans_id\"))"
   ]
  },
  {
   "cell_type": "code",
   "execution_count": 107,
   "metadata": {},
   "outputs": [
    {
     "data": {
      "text/plain": [
       "{hash}                                  3\n",
       "22380348598                             1\n",
       "89bda305-bff1-4c22-ae23-1a237eac0002    1\n",
       "44aeb6df-8db4-4b3f-ac67-0a802d479c86    1\n",
       "Name: trans_id, dtype: int64"
      ]
     },
     "execution_count": 107,
     "metadata": {},
     "output_type": "execute_result"
    }
   ],
   "source": [
    "installs[\"trans_id\"].value_counts()"
   ]
  },
  {
   "cell_type": "code",
   "execution_count": 109,
   "metadata": {},
   "outputs": [
    {
     "data": {
      "text/plain": [
       "3406"
      ]
     },
     "execution_count": 109,
     "metadata": {},
     "output_type": "execute_result"
    }
   ],
   "source": [
    "installs[\"trans_id\"].isnull().sum()"
   ]
  },
  {
   "cell_type": "markdown",
   "metadata": {},
   "source": [
    "### La mayoria de sus valores son nulos. Habría que ver a qué se refiere con la descripción de la columna"
   ]
  },
  {
   "cell_type": "markdown",
   "metadata": {},
   "source": [
    "# • Para la columna ip_address"
   ]
  },
  {
   "cell_type": "code",
   "execution_count": 110,
   "metadata": {},
   "outputs": [
    {
     "name": "stdout",
     "output_type": "stream",
     "text": [
      "ip_address\n",
      "\tdesc: ip addres through which the install was performed\n",
      "\ttransformation: string hashing\n"
     ]
    }
   ],
   "source": [
    "imprimir_info_columna(\"ip_address\", installs_data.get(\"ip_address\"))"
   ]
  },
  {
   "cell_type": "code",
   "execution_count": 111,
   "metadata": {},
   "outputs": [
    {
     "data": {
      "text/plain": [
       "1992632945768888579    33\n",
       "2403839579048525602    26\n",
       "2394721645995561079    17\n",
       "589886713227299026     16\n",
       "8262991154202232888    14\n",
       "8010533080341024188    13\n",
       "8531002764348621869    12\n",
       "7726314782926052608    12\n",
       "7481987231813232849    11\n",
       "2441645233986204328    11\n",
       "2706357072127963511     9\n",
       "3162368506662488065     9\n",
       "6586849487961128061     7\n",
       "7052859104363282878     7\n",
       "9040150555093642379     7\n",
       "627974920620404284      7\n",
       "4895833194809562361     7\n",
       "4371364616797404439     6\n",
       "3222899837426106171     5\n",
       "1037699812701179191     5\n",
       "5437394128393850342     5\n",
       "739514463662096135      5\n",
       "6324037615828123965     5\n",
       "8235954648733428120     5\n",
       "7950883564880561905     5\n",
       "3927367081536317814     5\n",
       "7174799503430545910     4\n",
       "2988221197536288219     4\n",
       "6452955265823183819     4\n",
       "1933486918445844180     4\n",
       "                       ..\n",
       "1488715796382824376     1\n",
       "8582476476054892626     1\n",
       "7766233397987027039     1\n",
       "2978724023808640249     1\n",
       "7488499899710199132     1\n",
       "1515684618293858224     1\n",
       "8370884033418651464     1\n",
       "7082532804473983258     1\n",
       "4175259317777181190     1\n",
       "8868070653532682924     1\n",
       "879727528931799026      1\n",
       "8674947580025821020     1\n",
       "3740810927744586223     1\n",
       "8720770139900275861     1\n",
       "9194750665664440736     1\n",
       "5869029463132768212     1\n",
       "1813897426024444206     1\n",
       "7194835927228777172     1\n",
       "7153971276887892821     1\n",
       "7915644705957737179     1\n",
       "224486698452451808      1\n",
       "7199103889103087404     1\n",
       "6270594060390567531     1\n",
       "5427365583106206244     1\n",
       "1667151947256740381     1\n",
       "3821387787127764929     1\n",
       "5373103098751037009     1\n",
       "4368122941992267613     1\n",
       "5461484728283060611     1\n",
       "8544399454491361029     1\n",
       "Name: ip_address, Length: 2717, dtype: int64"
      ]
     },
     "execution_count": 111,
     "metadata": {},
     "output_type": "execute_result"
    }
   ],
   "source": [
    "installs[\"ip_address\"].value_counts()"
   ]
  },
  {
   "cell_type": "markdown",
   "metadata": {},
   "source": [
    "### No tiene valores nulos, pero sería interesante ver cuántos dispositivos se conectaron con varias IP. También es raro que haya 33 instalaciones de una misma IP"
   ]
  },
  {
   "cell_type": "markdown",
   "metadata": {},
   "source": [
    "# • Para la columna device_language"
   ]
  },
  {
   "cell_type": "code",
   "execution_count": 114,
   "metadata": {},
   "outputs": [
    {
     "name": "stdout",
     "output_type": "stream",
     "text": [
      "device_language\n",
      "\tdesc: language related to the device\n",
      "\ttransformation: string hashing\n"
     ]
    }
   ],
   "source": [
    "imprimir_info_columna(\"device_language\", installs_data.get(\"device_language\"))"
   ]
  },
  {
   "cell_type": "code",
   "execution_count": 119,
   "metadata": {},
   "outputs": [
    {
     "data": {
      "text/plain": [
       "30"
      ]
     },
     "execution_count": 119,
     "metadata": {},
     "output_type": "execute_result"
    }
   ],
   "source": [
    "installs[\"device_language\"].value_counts().size"
   ]
  },
  {
   "cell_type": "code",
   "execution_count": 120,
   "metadata": {},
   "outputs": [
    {
     "data": {
      "text/plain": [
       "34"
      ]
     },
     "execution_count": 120,
     "metadata": {},
     "output_type": "execute_result"
    }
   ],
   "source": [
    "installs[\"device_language\"].isnull().sum()"
   ]
  },
  {
   "cell_type": "markdown",
   "metadata": {},
   "source": [
    "### Casi nungún valor es null, hay 30 países diferentes."
   ]
  }
 ],
 "metadata": {
  "kernelspec": {
   "display_name": "Python 3",
   "language": "python",
   "name": "python3"
  },
  "language_info": {
   "codemirror_mode": {
    "name": "ipython",
    "version": 3
   },
   "file_extension": ".py",
   "mimetype": "text/x-python",
   "name": "python",
   "nbconvert_exporter": "python",
   "pygments_lexer": "ipython3",
   "version": "3.6.5"
  }
 },
 "nbformat": 4,
 "nbformat_minor": 2
}
