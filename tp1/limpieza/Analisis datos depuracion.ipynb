{
 "cells": [
  {
   "cell_type": "code",
   "execution_count": 1,
   "metadata": {},
   "outputs": [],
   "source": [
    "import pandas as pd\n",
    "import numpy as np\n",
    "import matplotlib.pyplot as plot\n",
    "\n",
    "%matplotlib inline"
   ]
  },
  {
   "cell_type": "code",
   "execution_count": 2,
   "metadata": {},
   "outputs": [],
   "source": [
    "auctions = pd.read_csv('auctions.csv.gzip', compression='gzip')"
   ]
  },
  {
   "cell_type": "markdown",
   "metadata": {},
   "source": [
    "# Hecho un vistazo de los datos para depurar"
   ]
  },
  {
   "cell_type": "markdown",
   "metadata": {},
   "source": [
    "### Auctions:"
   ]
  },
  {
   "cell_type": "code",
   "execution_count": 3,
   "metadata": {},
   "outputs": [
    {
     "name": "stdout",
     "output_type": "stream",
     "text": [
      "<class 'pandas.core.frame.DataFrame'>\n",
      "RangeIndex: 19571319 entries, 0 to 19571318\n",
      "Data columns (total 7 columns):\n",
      "auction_type_id    float64\n",
      "country            int64\n",
      "date               object\n",
      "device_id          int64\n",
      "platform           int64\n",
      "ref_type_id        int64\n",
      "source_id          int64\n",
      "dtypes: float64(1), int64(5), object(1)\n",
      "memory usage: 1.0+ GB\n"
     ]
    }
   ],
   "source": [
    "#Veo un poco de informacion sobre el DataFrame\n",
    "\n",
    "auctions.info()"
   ]
  },
  {
   "cell_type": "code",
   "execution_count": 4,
   "metadata": {},
   "outputs": [],
   "source": [
    "##### Se puede ver que este Dataframe utiliza mucha memoria"
   ]
  },
  {
   "cell_type": "code",
   "execution_count": 5,
   "metadata": {},
   "outputs": [
    {
     "data": {
      "text/html": [
       "<div>\n",
       "<style scoped>\n",
       "    .dataframe tbody tr th:only-of-type {\n",
       "        vertical-align: middle;\n",
       "    }\n",
       "\n",
       "    .dataframe tbody tr th {\n",
       "        vertical-align: top;\n",
       "    }\n",
       "\n",
       "    .dataframe thead th {\n",
       "        text-align: right;\n",
       "    }\n",
       "</style>\n",
       "<table border=\"1\" class=\"dataframe\">\n",
       "  <thead>\n",
       "    <tr style=\"text-align: right;\">\n",
       "      <th></th>\n",
       "      <th>auction_type_id</th>\n",
       "      <th>country</th>\n",
       "      <th>date</th>\n",
       "      <th>device_id</th>\n",
       "      <th>platform</th>\n",
       "      <th>ref_type_id</th>\n",
       "      <th>source_id</th>\n",
       "    </tr>\n",
       "  </thead>\n",
       "  <tbody>\n",
       "    <tr>\n",
       "      <th>0</th>\n",
       "      <td>NaN</td>\n",
       "      <td>6333597102633388268</td>\n",
       "      <td>2019-03-11 14:18:33.290763</td>\n",
       "      <td>6059599345986491085</td>\n",
       "      <td>1</td>\n",
       "      <td>1</td>\n",
       "      <td>0</td>\n",
       "    </tr>\n",
       "    <tr>\n",
       "      <th>1</th>\n",
       "      <td>NaN</td>\n",
       "      <td>6333597102633388268</td>\n",
       "      <td>2019-03-11 14:18:34.440157</td>\n",
       "      <td>1115994996230693426</td>\n",
       "      <td>1</td>\n",
       "      <td>1</td>\n",
       "      <td>0</td>\n",
       "    </tr>\n",
       "    <tr>\n",
       "      <th>2</th>\n",
       "      <td>NaN</td>\n",
       "      <td>6333597102633388268</td>\n",
       "      <td>2019-03-11 14:18:35.862360</td>\n",
       "      <td>7463856250762200923</td>\n",
       "      <td>1</td>\n",
       "      <td>1</td>\n",
       "      <td>0</td>\n",
       "    </tr>\n",
       "    <tr>\n",
       "      <th>3</th>\n",
       "      <td>NaN</td>\n",
       "      <td>6333597102633388268</td>\n",
       "      <td>2019-03-11 14:18:36.167163</td>\n",
       "      <td>7829815350267792040</td>\n",
       "      <td>1</td>\n",
       "      <td>1</td>\n",
       "      <td>0</td>\n",
       "    </tr>\n",
       "    <tr>\n",
       "      <th>4</th>\n",
       "      <td>NaN</td>\n",
       "      <td>6333597102633388268</td>\n",
       "      <td>2019-03-11 14:18:37.728590</td>\n",
       "      <td>1448534231953777480</td>\n",
       "      <td>1</td>\n",
       "      <td>1</td>\n",
       "      <td>0</td>\n",
       "    </tr>\n",
       "  </tbody>\n",
       "</table>\n",
       "</div>"
      ],
      "text/plain": [
       "   auction_type_id              country                        date  \\\n",
       "0              NaN  6333597102633388268  2019-03-11 14:18:33.290763   \n",
       "1              NaN  6333597102633388268  2019-03-11 14:18:34.440157   \n",
       "2              NaN  6333597102633388268  2019-03-11 14:18:35.862360   \n",
       "3              NaN  6333597102633388268  2019-03-11 14:18:36.167163   \n",
       "4              NaN  6333597102633388268  2019-03-11 14:18:37.728590   \n",
       "\n",
       "             device_id  platform  ref_type_id  source_id  \n",
       "0  6059599345986491085         1            1          0  \n",
       "1  1115994996230693426         1            1          0  \n",
       "2  7463856250762200923         1            1          0  \n",
       "3  7829815350267792040         1            1          0  \n",
       "4  1448534231953777480         1            1          0  "
      ]
     },
     "execution_count": 5,
     "metadata": {},
     "output_type": "execute_result"
    }
   ],
   "source": [
    "auctions.head()"
   ]
  },
  {
   "cell_type": "code",
   "execution_count": 6,
   "metadata": {},
   "outputs": [],
   "source": [
    "auctions['date'] = pd.to_datetime(auctions['date'])"
   ]
  },
  {
   "cell_type": "code",
   "execution_count": 7,
   "metadata": {},
   "outputs": [
    {
     "name": "stdout",
     "output_type": "stream",
     "text": [
      "<class 'pandas.core.frame.DataFrame'>\n",
      "RangeIndex: 19571319 entries, 0 to 19571318\n",
      "Data columns (total 7 columns):\n",
      "auction_type_id    float64\n",
      "country            int64\n",
      "date               datetime64[ns]\n",
      "device_id          int64\n",
      "platform           int64\n",
      "ref_type_id        int64\n",
      "source_id          int64\n",
      "dtypes: datetime64[ns](1), float64(1), int64(5)\n",
      "memory usage: 1.0 GB\n"
     ]
    }
   ],
   "source": [
    "auctions.info()"
   ]
  },
  {
   "cell_type": "code",
   "execution_count": 9,
   "metadata": {},
   "outputs": [
    {
     "data": {
      "text/plain": [
       "auction_type_id           0\n",
       "country            19571319\n",
       "date               19571319\n",
       "device_id          19571319\n",
       "platform           19571319\n",
       "ref_type_id        19571319\n",
       "source_id          19571319\n",
       "dtype: int64"
      ]
     },
     "execution_count": 9,
     "metadata": {},
     "output_type": "execute_result"
    }
   ],
   "source": [
    "auctions.count()"
   ]
  },
  {
   "cell_type": "code",
   "execution_count": 10,
   "metadata": {},
   "outputs": [
    {
     "data": {
      "text/plain": [
       "19571319"
      ]
     },
     "execution_count": 10,
     "metadata": {},
     "output_type": "execute_result"
    }
   ],
   "source": [
    "auctions['auction_type_id'].isnull().sum()"
   ]
  },
  {
   "cell_type": "markdown",
   "metadata": {},
   "source": [
    "### Todas las filas son NaN, voy a descartar esta columna (auction_type_id) para achicar el tamaño"
   ]
  },
  {
   "cell_type": "code",
   "execution_count": 11,
   "metadata": {},
   "outputs": [],
   "source": [
    "auctions = auctions.drop(columns='auction_type_id')"
   ]
  },
  {
   "cell_type": "code",
   "execution_count": 12,
   "metadata": {},
   "outputs": [
    {
     "data": {
      "text/plain": [
       "1    15541825\n",
       "2     4029494\n",
       "Name: platform, dtype: int64"
      ]
     },
     "execution_count": 12,
     "metadata": {},
     "output_type": "execute_result"
    }
   ],
   "source": [
    "auctions['platform'].value_counts()"
   ]
  },
  {
   "cell_type": "markdown",
   "metadata": {},
   "source": [
    "### Por la gran cantidad de valores con plataforma 1, asumo que corresponde a Android y 2 a iOS."
   ]
  },
  {
   "cell_type": "code",
   "execution_count": 13,
   "metadata": {},
   "outputs": [
    {
     "data": {
      "text/html": [
       "<div>\n",
       "<style scoped>\n",
       "    .dataframe tbody tr th:only-of-type {\n",
       "        vertical-align: middle;\n",
       "    }\n",
       "\n",
       "    .dataframe tbody tr th {\n",
       "        vertical-align: top;\n",
       "    }\n",
       "\n",
       "    .dataframe thead th {\n",
       "        text-align: right;\n",
       "    }\n",
       "</style>\n",
       "<table border=\"1\" class=\"dataframe\">\n",
       "  <thead>\n",
       "    <tr style=\"text-align: right;\">\n",
       "      <th></th>\n",
       "      <th>country</th>\n",
       "      <th>date</th>\n",
       "      <th>device_id</th>\n",
       "      <th>platform</th>\n",
       "      <th>ref_type_id</th>\n",
       "      <th>source_id</th>\n",
       "    </tr>\n",
       "  </thead>\n",
       "  <tbody>\n",
       "    <tr>\n",
       "      <th>0</th>\n",
       "      <td>6333597102633388268</td>\n",
       "      <td>2019-03-11 14:18:33.290763</td>\n",
       "      <td>6059599345986491085</td>\n",
       "      <td>1</td>\n",
       "      <td>1</td>\n",
       "      <td>0</td>\n",
       "    </tr>\n",
       "    <tr>\n",
       "      <th>1</th>\n",
       "      <td>6333597102633388268</td>\n",
       "      <td>2019-03-11 14:18:34.440157</td>\n",
       "      <td>1115994996230693426</td>\n",
       "      <td>1</td>\n",
       "      <td>1</td>\n",
       "      <td>0</td>\n",
       "    </tr>\n",
       "    <tr>\n",
       "      <th>2</th>\n",
       "      <td>6333597102633388268</td>\n",
       "      <td>2019-03-11 14:18:35.862360</td>\n",
       "      <td>7463856250762200923</td>\n",
       "      <td>1</td>\n",
       "      <td>1</td>\n",
       "      <td>0</td>\n",
       "    </tr>\n",
       "    <tr>\n",
       "      <th>3</th>\n",
       "      <td>6333597102633388268</td>\n",
       "      <td>2019-03-11 14:18:36.167163</td>\n",
       "      <td>7829815350267792040</td>\n",
       "      <td>1</td>\n",
       "      <td>1</td>\n",
       "      <td>0</td>\n",
       "    </tr>\n",
       "    <tr>\n",
       "      <th>4</th>\n",
       "      <td>6333597102633388268</td>\n",
       "      <td>2019-03-11 14:18:37.728590</td>\n",
       "      <td>1448534231953777480</td>\n",
       "      <td>1</td>\n",
       "      <td>1</td>\n",
       "      <td>0</td>\n",
       "    </tr>\n",
       "  </tbody>\n",
       "</table>\n",
       "</div>"
      ],
      "text/plain": [
       "               country                       date            device_id  \\\n",
       "0  6333597102633388268 2019-03-11 14:18:33.290763  6059599345986491085   \n",
       "1  6333597102633388268 2019-03-11 14:18:34.440157  1115994996230693426   \n",
       "2  6333597102633388268 2019-03-11 14:18:35.862360  7463856250762200923   \n",
       "3  6333597102633388268 2019-03-11 14:18:36.167163  7829815350267792040   \n",
       "4  6333597102633388268 2019-03-11 14:18:37.728590  1448534231953777480   \n",
       "\n",
       "   platform  ref_type_id  source_id  \n",
       "0         1            1          0  \n",
       "1         1            1          0  \n",
       "2         1            1          0  \n",
       "3         1            1          0  \n",
       "4         1            1          0  "
      ]
     },
     "execution_count": 13,
     "metadata": {},
     "output_type": "execute_result"
    }
   ],
   "source": [
    "auctions.head()"
   ]
  },
  {
   "cell_type": "markdown",
   "metadata": {},
   "source": [
    "### Hecho un vistazo a los valores de 'platform' 'ref_type_id' 'source_id'"
   ]
  },
  {
   "cell_type": "code",
   "execution_count": 14,
   "metadata": {},
   "outputs": [
    {
     "data": {
      "text/html": [
       "<div>\n",
       "<style scoped>\n",
       "    .dataframe tbody tr th:only-of-type {\n",
       "        vertical-align: middle;\n",
       "    }\n",
       "\n",
       "    .dataframe tbody tr th {\n",
       "        vertical-align: top;\n",
       "    }\n",
       "\n",
       "    .dataframe thead th {\n",
       "        text-align: right;\n",
       "    }\n",
       "</style>\n",
       "<table border=\"1\" class=\"dataframe\">\n",
       "  <thead>\n",
       "    <tr style=\"text-align: right;\">\n",
       "      <th></th>\n",
       "      <th>country</th>\n",
       "      <th>device_id</th>\n",
       "      <th>platform</th>\n",
       "      <th>ref_type_id</th>\n",
       "      <th>source_id</th>\n",
       "    </tr>\n",
       "  </thead>\n",
       "  <tbody>\n",
       "    <tr>\n",
       "      <th>count</th>\n",
       "      <td>1.957132e+07</td>\n",
       "      <td>1.957132e+07</td>\n",
       "      <td>1.957132e+07</td>\n",
       "      <td>1.957132e+07</td>\n",
       "      <td>1.957132e+07</td>\n",
       "    </tr>\n",
       "    <tr>\n",
       "      <th>mean</th>\n",
       "      <td>6.333597e+18</td>\n",
       "      <td>4.599151e+18</td>\n",
       "      <td>1.205888e+00</td>\n",
       "      <td>2.235326e+00</td>\n",
       "      <td>6.857898e-01</td>\n",
       "    </tr>\n",
       "    <tr>\n",
       "      <th>std</th>\n",
       "      <td>3.016674e+09</td>\n",
       "      <td>2.667138e+18</td>\n",
       "      <td>4.043488e-01</td>\n",
       "      <td>2.426093e+00</td>\n",
       "      <td>1.416215e+00</td>\n",
       "    </tr>\n",
       "    <tr>\n",
       "      <th>min</th>\n",
       "      <td>6.333597e+18</td>\n",
       "      <td>1.138588e+14</td>\n",
       "      <td>1.000000e+00</td>\n",
       "      <td>1.000000e+00</td>\n",
       "      <td>0.000000e+00</td>\n",
       "    </tr>\n",
       "    <tr>\n",
       "      <th>25%</th>\n",
       "      <td>6.333597e+18</td>\n",
       "      <td>2.258716e+18</td>\n",
       "      <td>1.000000e+00</td>\n",
       "      <td>1.000000e+00</td>\n",
       "      <td>0.000000e+00</td>\n",
       "    </tr>\n",
       "    <tr>\n",
       "      <th>50%</th>\n",
       "      <td>6.333597e+18</td>\n",
       "      <td>4.616600e+18</td>\n",
       "      <td>1.000000e+00</td>\n",
       "      <td>1.000000e+00</td>\n",
       "      <td>0.000000e+00</td>\n",
       "    </tr>\n",
       "    <tr>\n",
       "      <th>75%</th>\n",
       "      <td>6.333597e+18</td>\n",
       "      <td>6.911427e+18</td>\n",
       "      <td>1.000000e+00</td>\n",
       "      <td>1.000000e+00</td>\n",
       "      <td>1.000000e+00</td>\n",
       "    </tr>\n",
       "    <tr>\n",
       "      <th>max</th>\n",
       "      <td>6.333597e+18</td>\n",
       "      <td>9.223339e+18</td>\n",
       "      <td>2.000000e+00</td>\n",
       "      <td>7.000000e+00</td>\n",
       "      <td>6.000000e+00</td>\n",
       "    </tr>\n",
       "  </tbody>\n",
       "</table>\n",
       "</div>"
      ],
      "text/plain": [
       "            country     device_id      platform   ref_type_id     source_id\n",
       "count  1.957132e+07  1.957132e+07  1.957132e+07  1.957132e+07  1.957132e+07\n",
       "mean   6.333597e+18  4.599151e+18  1.205888e+00  2.235326e+00  6.857898e-01\n",
       "std    3.016674e+09  2.667138e+18  4.043488e-01  2.426093e+00  1.416215e+00\n",
       "min    6.333597e+18  1.138588e+14  1.000000e+00  1.000000e+00  0.000000e+00\n",
       "25%    6.333597e+18  2.258716e+18  1.000000e+00  1.000000e+00  0.000000e+00\n",
       "50%    6.333597e+18  4.616600e+18  1.000000e+00  1.000000e+00  0.000000e+00\n",
       "75%    6.333597e+18  6.911427e+18  1.000000e+00  1.000000e+00  1.000000e+00\n",
       "max    6.333597e+18  9.223339e+18  2.000000e+00  7.000000e+00  6.000000e+00"
      ]
     },
     "execution_count": 14,
     "metadata": {},
     "output_type": "execute_result"
    }
   ],
   "source": [
    "auctions.describe()"
   ]
  },
  {
   "cell_type": "markdown",
   "metadata": {},
   "source": [
    "#### Los valores minimo y maximo estan entre 0 y 7"
   ]
  },
  {
   "cell_type": "code",
   "execution_count": 15,
   "metadata": {},
   "outputs": [
    {
     "data": {
      "text/plain": [
       "1    15541825\n",
       "2     4029494\n",
       "Name: platform, dtype: int64"
      ]
     },
     "execution_count": 15,
     "metadata": {},
     "output_type": "execute_result"
    }
   ],
   "source": [
    "auctions['platform'].value_counts()"
   ]
  },
  {
   "cell_type": "code",
   "execution_count": 16,
   "metadata": {},
   "outputs": [
    {
     "data": {
      "text/plain": [
       "1    15541825\n",
       "7     4029494\n",
       "Name: ref_type_id, dtype: int64"
      ]
     },
     "execution_count": 16,
     "metadata": {},
     "output_type": "execute_result"
    }
   ],
   "source": [
    "auctions['ref_type_id'].value_counts()"
   ]
  },
  {
   "cell_type": "code",
   "execution_count": 17,
   "metadata": {},
   "outputs": [
    {
     "data": {
      "text/plain": [
       "0    13354597\n",
       "1     4016739\n",
       "5     1466494\n",
       "2      582083\n",
       "6      151406\n",
       "Name: source_id, dtype: int64"
      ]
     },
     "execution_count": 17,
     "metadata": {},
     "output_type": "execute_result"
    }
   ],
   "source": [
    "auctions['source_id'].value_counts()"
   ]
  },
  {
   "cell_type": "markdown",
   "metadata": {},
   "source": [
    "#### Solo tienen valores pequeños, no hace falta int64, lo cambio a int32"
   ]
  },
  {
   "cell_type": "code",
   "execution_count": 18,
   "metadata": {},
   "outputs": [],
   "source": [
    "auctions[['platform','ref_type_id','source_id']] = auctions[['platform','ref_type_id','source_id']].astype('int32')"
   ]
  },
  {
   "cell_type": "code",
   "execution_count": 19,
   "metadata": {},
   "outputs": [
    {
     "name": "stdout",
     "output_type": "stream",
     "text": [
      "<class 'pandas.core.frame.DataFrame'>\n",
      "RangeIndex: 19571319 entries, 0 to 19571318\n",
      "Data columns (total 6 columns):\n",
      "country        int64\n",
      "date           datetime64[ns]\n",
      "device_id      int64\n",
      "platform       int32\n",
      "ref_type_id    int32\n",
      "source_id      int32\n",
      "dtypes: datetime64[ns](1), int32(3), int64(2)\n",
      "memory usage: 671.9 MB\n"
     ]
    }
   ],
   "source": [
    "auctions.info()"
   ]
  },
  {
   "cell_type": "markdown",
   "metadata": {},
   "source": [
    "### Se bajó considerablemente el peso del dataframe de más de un GB a 670 MB"
   ]
  },
  {
   "cell_type": "markdown",
   "metadata": {},
   "source": [
    "### Finalmente: \n",
    "#### -Descartar la columna auction_type_id ya que no tiene datos relevantes\n",
    "#### -Cambiar el date a datetime \n",
    "#### -Cambiar los tipos de 'source_id', 'platform', 'ref_type_id' a int32"
   ]
  },
  {
   "cell_type": "markdown",
   "metadata": {},
   "source": [
    "# Analisis de clicks"
   ]
  },
  {
   "cell_type": "code",
   "execution_count": 20,
   "metadata": {},
   "outputs": [],
   "source": [
    "clicks = pd.read_csv('clicks.csv.gzip', compression='gzip')"
   ]
  },
  {
   "cell_type": "code",
   "execution_count": 21,
   "metadata": {},
   "outputs": [
    {
     "data": {
      "text/plain": [
       "26351"
      ]
     },
     "execution_count": 21,
     "metadata": {},
     "output_type": "execute_result"
    }
   ],
   "source": [
    "len(clicks)"
   ]
  },
  {
   "cell_type": "code",
   "execution_count": 22,
   "metadata": {},
   "outputs": [
    {
     "data": {
      "text/html": [
       "<div>\n",
       "<style scoped>\n",
       "    .dataframe tbody tr th:only-of-type {\n",
       "        vertical-align: middle;\n",
       "    }\n",
       "\n",
       "    .dataframe tbody tr th {\n",
       "        vertical-align: top;\n",
       "    }\n",
       "\n",
       "    .dataframe thead th {\n",
       "        text-align: right;\n",
       "    }\n",
       "</style>\n",
       "<table border=\"1\" class=\"dataframe\">\n",
       "  <thead>\n",
       "    <tr style=\"text-align: right;\">\n",
       "      <th></th>\n",
       "      <th>advertiser_id</th>\n",
       "      <th>action_id</th>\n",
       "      <th>source_id</th>\n",
       "      <th>created</th>\n",
       "      <th>country_code</th>\n",
       "      <th>latitude</th>\n",
       "      <th>longitude</th>\n",
       "      <th>wifi_connection</th>\n",
       "      <th>carrier_id</th>\n",
       "      <th>trans_id</th>\n",
       "      <th>os_minor</th>\n",
       "      <th>agent_device</th>\n",
       "      <th>os_major</th>\n",
       "      <th>specs_brand</th>\n",
       "      <th>brand</th>\n",
       "      <th>timeToClick</th>\n",
       "      <th>touchX</th>\n",
       "      <th>touchY</th>\n",
       "      <th>ref_type</th>\n",
       "      <th>ref_hash</th>\n",
       "    </tr>\n",
       "  </thead>\n",
       "  <tbody>\n",
       "    <tr>\n",
       "      <th>0</th>\n",
       "      <td>2</td>\n",
       "      <td>NaN</td>\n",
       "      <td>4</td>\n",
       "      <td>2019-03-06T22:42:12.755Z</td>\n",
       "      <td>6333597102633388268</td>\n",
       "      <td>1.205689</td>\n",
       "      <td>1.070234</td>\n",
       "      <td>False</td>\n",
       "      <td>1.0</td>\n",
       "      <td>iGgClCM9exiHF4K31g94XmvHEBSLKIY</td>\n",
       "      <td>6.768137e+18</td>\n",
       "      <td>NaN</td>\n",
       "      <td>3.072849e+18</td>\n",
       "      <td>2733035977666442898</td>\n",
       "      <td>NaN</td>\n",
       "      <td>1.563</td>\n",
       "      <td>0.905</td>\n",
       "      <td>0.078</td>\n",
       "      <td>1891515180541284343</td>\n",
       "      <td>1904083516767779093</td>\n",
       "    </tr>\n",
       "    <tr>\n",
       "      <th>1</th>\n",
       "      <td>0</td>\n",
       "      <td>NaN</td>\n",
       "      <td>0</td>\n",
       "      <td>2019-03-08T10:24:30.641Z</td>\n",
       "      <td>6333597102633388268</td>\n",
       "      <td>1.218924</td>\n",
       "      <td>1.071209</td>\n",
       "      <td>False</td>\n",
       "      <td>4.0</td>\n",
       "      <td>MMHTOJ6qKAOeIH_Eywh1KIcCaxtO9oM</td>\n",
       "      <td>3.025219e+18</td>\n",
       "      <td>NaN</td>\n",
       "      <td>1.774085e+18</td>\n",
       "      <td>392184377613098015</td>\n",
       "      <td>NaN</td>\n",
       "      <td>NaN</td>\n",
       "      <td>NaN</td>\n",
       "      <td>NaN</td>\n",
       "      <td>1891515180541284343</td>\n",
       "      <td>3086509764961796666</td>\n",
       "    </tr>\n",
       "    <tr>\n",
       "      <th>2</th>\n",
       "      <td>0</td>\n",
       "      <td>NaN</td>\n",
       "      <td>0</td>\n",
       "      <td>2019-03-08T15:24:16.069Z</td>\n",
       "      <td>6333597102633388268</td>\n",
       "      <td>1.205689</td>\n",
       "      <td>1.070234</td>\n",
       "      <td>False</td>\n",
       "      <td>6.0</td>\n",
       "      <td>vIrEIdf9izUaWdAri6Ezk7T3nHFvNQU</td>\n",
       "      <td>5.975656e+18</td>\n",
       "      <td>NaN</td>\n",
       "      <td>3.072849e+18</td>\n",
       "      <td>392184377613098015</td>\n",
       "      <td>NaN</td>\n",
       "      <td>NaN</td>\n",
       "      <td>0.946</td>\n",
       "      <td>0.473</td>\n",
       "      <td>1891515180541284343</td>\n",
       "      <td>6958163894863846647</td>\n",
       "    </tr>\n",
       "    <tr>\n",
       "      <th>3</th>\n",
       "      <td>2</td>\n",
       "      <td>NaN</td>\n",
       "      <td>3</td>\n",
       "      <td>2019-03-06T03:08:51.543Z</td>\n",
       "      <td>6333597102633388268</td>\n",
       "      <td>1.205689</td>\n",
       "      <td>1.070234</td>\n",
       "      <td>False</td>\n",
       "      <td>45.0</td>\n",
       "      <td>YaKxxEAs2UmZhSpRfiCO9Zpa82B_AKM</td>\n",
       "      <td>6.768137e+18</td>\n",
       "      <td>NaN</td>\n",
       "      <td>3.072849e+18</td>\n",
       "      <td>2733035977666442898</td>\n",
       "      <td>NaN</td>\n",
       "      <td>19.013</td>\n",
       "      <td>0.035</td>\n",
       "      <td>0.431</td>\n",
       "      <td>1891515180541284343</td>\n",
       "      <td>4368617728156436525</td>\n",
       "    </tr>\n",
       "    <tr>\n",
       "      <th>4</th>\n",
       "      <td>2</td>\n",
       "      <td>NaN</td>\n",
       "      <td>3</td>\n",
       "      <td>2019-03-06T03:32:55.570Z</td>\n",
       "      <td>6333597102633388268</td>\n",
       "      <td>1.205689</td>\n",
       "      <td>1.070234</td>\n",
       "      <td>False</td>\n",
       "      <td>45.0</td>\n",
       "      <td>X5XTOcYQovkl6yadYdAD7xioVGU9jiY</td>\n",
       "      <td>6.768137e+18</td>\n",
       "      <td>NaN</td>\n",
       "      <td>3.072849e+18</td>\n",
       "      <td>2733035977666442898</td>\n",
       "      <td>NaN</td>\n",
       "      <td>28.110</td>\n",
       "      <td>0.054</td>\n",
       "      <td>0.423</td>\n",
       "      <td>1891515180541284343</td>\n",
       "      <td>4368617728156436525</td>\n",
       "    </tr>\n",
       "  </tbody>\n",
       "</table>\n",
       "</div>"
      ],
      "text/plain": [
       "   advertiser_id  action_id  source_id                   created  \\\n",
       "0              2        NaN          4  2019-03-06T22:42:12.755Z   \n",
       "1              0        NaN          0  2019-03-08T10:24:30.641Z   \n",
       "2              0        NaN          0  2019-03-08T15:24:16.069Z   \n",
       "3              2        NaN          3  2019-03-06T03:08:51.543Z   \n",
       "4              2        NaN          3  2019-03-06T03:32:55.570Z   \n",
       "\n",
       "          country_code  latitude  longitude  wifi_connection  carrier_id  \\\n",
       "0  6333597102633388268  1.205689   1.070234            False         1.0   \n",
       "1  6333597102633388268  1.218924   1.071209            False         4.0   \n",
       "2  6333597102633388268  1.205689   1.070234            False         6.0   \n",
       "3  6333597102633388268  1.205689   1.070234            False        45.0   \n",
       "4  6333597102633388268  1.205689   1.070234            False        45.0   \n",
       "\n",
       "                          trans_id      os_minor  agent_device      os_major  \\\n",
       "0  iGgClCM9exiHF4K31g94XmvHEBSLKIY  6.768137e+18           NaN  3.072849e+18   \n",
       "1  MMHTOJ6qKAOeIH_Eywh1KIcCaxtO9oM  3.025219e+18           NaN  1.774085e+18   \n",
       "2  vIrEIdf9izUaWdAri6Ezk7T3nHFvNQU  5.975656e+18           NaN  3.072849e+18   \n",
       "3  YaKxxEAs2UmZhSpRfiCO9Zpa82B_AKM  6.768137e+18           NaN  3.072849e+18   \n",
       "4  X5XTOcYQovkl6yadYdAD7xioVGU9jiY  6.768137e+18           NaN  3.072849e+18   \n",
       "\n",
       "           specs_brand  brand  timeToClick  touchX  touchY  \\\n",
       "0  2733035977666442898    NaN        1.563   0.905   0.078   \n",
       "1   392184377613098015    NaN          NaN     NaN     NaN   \n",
       "2   392184377613098015    NaN          NaN   0.946   0.473   \n",
       "3  2733035977666442898    NaN       19.013   0.035   0.431   \n",
       "4  2733035977666442898    NaN       28.110   0.054   0.423   \n",
       "\n",
       "              ref_type             ref_hash  \n",
       "0  1891515180541284343  1904083516767779093  \n",
       "1  1891515180541284343  3086509764961796666  \n",
       "2  1891515180541284343  6958163894863846647  \n",
       "3  1891515180541284343  4368617728156436525  \n",
       "4  1891515180541284343  4368617728156436525  "
      ]
     },
     "execution_count": 22,
     "metadata": {},
     "output_type": "execute_result"
    }
   ],
   "source": [
    "clicks.head()"
   ]
  },
  {
   "cell_type": "code",
   "execution_count": 23,
   "metadata": {},
   "outputs": [
    {
     "name": "stdout",
     "output_type": "stream",
     "text": [
      "<class 'pandas.core.frame.DataFrame'>\n",
      "RangeIndex: 26351 entries, 0 to 26350\n",
      "Data columns (total 20 columns):\n",
      "advertiser_id      26351 non-null int64\n",
      "action_id          0 non-null float64\n",
      "source_id          26351 non-null int64\n",
      "created            26351 non-null object\n",
      "country_code       26351 non-null int64\n",
      "latitude           26351 non-null float64\n",
      "longitude          26351 non-null float64\n",
      "wifi_connection    26351 non-null bool\n",
      "carrier_id         26340 non-null float64\n",
      "trans_id           26351 non-null object\n",
      "os_minor           26339 non-null float64\n",
      "agent_device       3243 non-null float64\n",
      "os_major           26339 non-null float64\n",
      "specs_brand        26351 non-null int64\n",
      "brand              6235 non-null float64\n",
      "timeToClick        22977 non-null float64\n",
      "touchX             23011 non-null float64\n",
      "touchY             23011 non-null float64\n",
      "ref_type           26351 non-null int64\n",
      "ref_hash           26351 non-null int64\n",
      "dtypes: bool(1), float64(11), int64(6), object(2)\n",
      "memory usage: 3.8+ MB\n"
     ]
    }
   ],
   "source": [
    "clicks.info()"
   ]
  },
  {
   "cell_type": "markdown",
   "metadata": {},
   "source": [
    "#### Cambiamos el tipo de 'created' a datetime:"
   ]
  },
  {
   "cell_type": "code",
   "execution_count": 24,
   "metadata": {},
   "outputs": [],
   "source": [
    "clicks['created'] = pd.to_datetime(clicks['created'])"
   ]
  },
  {
   "cell_type": "markdown",
   "metadata": {},
   "source": [
    "### 'action_id' tiene todos los valores nulos, lo descartamos."
   ]
  },
  {
   "cell_type": "code",
   "execution_count": 25,
   "metadata": {},
   "outputs": [],
   "source": [
    "clicks = clicks.drop(columns='action_id')"
   ]
  },
  {
   "cell_type": "markdown",
   "metadata": {},
   "source": [
    "#### Voy a echar un vistazo sobre 'brand' y 'agent_device' que son los siguientes con más valores nulos"
   ]
  },
  {
   "cell_type": "code",
   "execution_count": 26,
   "metadata": {},
   "outputs": [
    {
     "data": {
      "text/plain": [
       "count    6235.000000\n",
       "mean        1.482277\n",
       "std         1.583764\n",
       "min         0.000000\n",
       "25%         0.000000\n",
       "50%         1.000000\n",
       "75%         2.000000\n",
       "max        13.000000\n",
       "Name: brand, dtype: float64"
      ]
     },
     "execution_count": 26,
     "metadata": {},
     "output_type": "execute_result"
    }
   ],
   "source": [
    "clicks['brand'].describe()"
   ]
  },
  {
   "cell_type": "code",
   "execution_count": 27,
   "metadata": {},
   "outputs": [
    {
     "data": {
      "text/plain": [
       "2.0     2027\n",
       "0.0     1917\n",
       "1.0     1521\n",
       "4.0      240\n",
       "3.0      186\n",
       "5.0      129\n",
       "6.0      124\n",
       "7.0       32\n",
       "9.0       31\n",
       "8.0       16\n",
       "10.0       8\n",
       "12.0       3\n",
       "13.0       1\n",
       "Name: brand, dtype: int64"
      ]
     },
     "execution_count": 27,
     "metadata": {},
     "output_type": "execute_result"
    }
   ],
   "source": [
    "clicks['brand'].value_counts()"
   ]
  },
  {
   "cell_type": "code",
   "execution_count": 28,
   "metadata": {},
   "outputs": [
    {
     "data": {
      "text/plain": [
       "count    3.243000e+03\n",
       "mean     4.171028e+18\n",
       "std      2.460496e+18\n",
       "min      4.513618e+16\n",
       "25%      1.975183e+18\n",
       "50%      3.516812e+18\n",
       "75%      6.589622e+18\n",
       "max      9.221733e+18\n",
       "Name: agent_device, dtype: float64"
      ]
     },
     "execution_count": 28,
     "metadata": {},
     "output_type": "execute_result"
    }
   ],
   "source": [
    "clicks['agent_device'].describe()"
   ]
  },
  {
   "cell_type": "code",
   "execution_count": 29,
   "metadata": {},
   "outputs": [
    {
     "data": {
      "text/plain": [
       "3.516812e+18    656\n",
       "1.754528e+18    326\n",
       "6.882415e+18    156\n",
       "7.787531e+18    132\n",
       "4.281729e+18    122\n",
       "4.445252e+18     99\n",
       "6.589622e+18     87\n",
       "2.066431e+17     81\n",
       "3.686067e+17     75\n",
       "8.656854e+18     74\n",
       "5.990117e+18     72\n",
       "7.116343e+18     70\n",
       "1.063783e+18     68\n",
       "2.616228e+18     64\n",
       "8.163783e+18     62\n",
       "8.604122e+18     47\n",
       "3.977966e+18     46\n",
       "2.438316e+18     43\n",
       "4.430579e+18     33\n",
       "1.181318e+18     32\n",
       "5.960896e+18     28\n",
       "1.540907e+18     28\n",
       "8.535198e+18     23\n",
       "3.432684e+18     23\n",
       "3.051485e+18     22\n",
       "1.321681e+18     22\n",
       "2.293453e+18     21\n",
       "1.966828e+18     20\n",
       "6.558466e+18     20\n",
       "7.628197e+18     19\n",
       "               ... \n",
       "8.178177e+18      1\n",
       "8.285870e+18      1\n",
       "8.400757e+18      1\n",
       "7.052220e+18      1\n",
       "6.445596e+18      1\n",
       "3.103697e+17      1\n",
       "1.251416e+17      1\n",
       "4.928434e+18      1\n",
       "1.231797e+18      1\n",
       "3.262918e+18      1\n",
       "4.186571e+18      1\n",
       "3.339732e+17      1\n",
       "6.195314e+18      1\n",
       "7.614489e+18      1\n",
       "3.285184e+18      1\n",
       "2.091433e+17      1\n",
       "8.369550e+18      1\n",
       "1.557569e+18      1\n",
       "4.497716e+18      1\n",
       "4.155763e+18      1\n",
       "1.623311e+18      1\n",
       "2.863247e+18      1\n",
       "1.198454e+18      1\n",
       "7.407931e+18      1\n",
       "5.399765e+16      1\n",
       "2.108514e+17      1\n",
       "8.214238e+18      1\n",
       "4.125471e+18      1\n",
       "3.889747e+18      1\n",
       "1.595841e+18      1\n",
       "Name: agent_device, Length: 190, dtype: int64"
      ]
     },
     "execution_count": 29,
     "metadata": {},
     "output_type": "execute_result"
    }
   ],
   "source": [
    "clicks['agent_device'].value_counts()"
   ]
  },
  {
   "cell_type": "markdown",
   "metadata": {},
   "source": [
    "#### Vista de valores de la columna booleana, 'wifi_connection'"
   ]
  },
  {
   "cell_type": "code",
   "execution_count": 30,
   "metadata": {},
   "outputs": [
    {
     "data": {
      "text/plain": [
       "count     26351\n",
       "unique        1\n",
       "top       False\n",
       "freq      26351\n",
       "Name: wifi_connection, dtype: object"
      ]
     },
     "execution_count": 30,
     "metadata": {},
     "output_type": "execute_result"
    }
   ],
   "source": [
    "clicks['wifi_connection'].describe()"
   ]
  },
  {
   "cell_type": "markdown",
   "metadata": {},
   "source": [
    "#### Se ve que todos los valores son False."
   ]
  },
  {
   "cell_type": "markdown",
   "metadata": {},
   "source": [
    "### Finalmente:\n",
    "##### - Se cambia el tipo de dato de 'created' a datetime.\n",
    "##### - Todos los valores de 'wifi_connection' son False.\n",
    "##### -Solo se descarta 'action_id' por ser todos valores nulos, luego el DataFrame no ocupa mucha memoria como para que los demas datos molesten."
   ]
  },
  {
   "cell_type": "markdown",
   "metadata": {},
   "source": [
    "# Analisis de events"
   ]
  },
  {
   "cell_type": "code",
   "execution_count": 32,
   "metadata": {},
   "outputs": [],
   "source": [
    "events = pd.read_csv('events.csv.gzip', compression='gzip')"
   ]
  },
  {
   "cell_type": "code",
   "execution_count": 33,
   "metadata": {},
   "outputs": [
    {
     "data": {
      "text/html": [
       "<div>\n",
       "<style scoped>\n",
       "    .dataframe tbody tr th:only-of-type {\n",
       "        vertical-align: middle;\n",
       "    }\n",
       "\n",
       "    .dataframe tbody tr th {\n",
       "        vertical-align: top;\n",
       "    }\n",
       "\n",
       "    .dataframe thead th {\n",
       "        text-align: right;\n",
       "    }\n",
       "</style>\n",
       "<table border=\"1\" class=\"dataframe\">\n",
       "  <thead>\n",
       "    <tr style=\"text-align: right;\">\n",
       "      <th></th>\n",
       "      <th>date</th>\n",
       "      <th>event_id</th>\n",
       "      <th>ref_type</th>\n",
       "      <th>ref_hash</th>\n",
       "      <th>application_id</th>\n",
       "      <th>attributed</th>\n",
       "      <th>device_countrycode</th>\n",
       "      <th>device_os_version</th>\n",
       "      <th>device_brand</th>\n",
       "      <th>device_model</th>\n",
       "      <th>...</th>\n",
       "      <th>trans_id</th>\n",
       "      <th>user_agent</th>\n",
       "      <th>event_uuid</th>\n",
       "      <th>carrier</th>\n",
       "      <th>kind</th>\n",
       "      <th>device_os</th>\n",
       "      <th>wifi</th>\n",
       "      <th>connection_type</th>\n",
       "      <th>ip_address</th>\n",
       "      <th>device_language</th>\n",
       "    </tr>\n",
       "  </thead>\n",
       "  <tbody>\n",
       "    <tr>\n",
       "      <th>0</th>\n",
       "      <td>2019-03-05 00:09:36.966</td>\n",
       "      <td>0</td>\n",
       "      <td>1891515180541284343</td>\n",
       "      <td>2688759737656491380</td>\n",
       "      <td>38</td>\n",
       "      <td>False</td>\n",
       "      <td>6333597102633388268</td>\n",
       "      <td>5.908703e+17</td>\n",
       "      <td>NaN</td>\n",
       "      <td>5.990117e+18</td>\n",
       "      <td>...</td>\n",
       "      <td>NaN</td>\n",
       "      <td>NaN</td>\n",
       "      <td>a9c0b263-acb2-4577-92c5-cbde5d7a5db1</td>\n",
       "      <td>2.248157e+17</td>\n",
       "      <td>5.516623e+18</td>\n",
       "      <td>7.531669e+18</td>\n",
       "      <td>NaN</td>\n",
       "      <td>Cable/DSL</td>\n",
       "      <td>7858558567428669000</td>\n",
       "      <td>4.077062e+17</td>\n",
       "    </tr>\n",
       "    <tr>\n",
       "      <th>1</th>\n",
       "      <td>2019-03-05 00:09:38.920</td>\n",
       "      <td>1</td>\n",
       "      <td>1891515180541284343</td>\n",
       "      <td>2688759737656491380</td>\n",
       "      <td>38</td>\n",
       "      <td>False</td>\n",
       "      <td>6333597102633388268</td>\n",
       "      <td>5.908703e+17</td>\n",
       "      <td>NaN</td>\n",
       "      <td>5.990117e+18</td>\n",
       "      <td>...</td>\n",
       "      <td>NaN</td>\n",
       "      <td>NaN</td>\n",
       "      <td>1cd98205-0d97-4ec2-a019-667997dbfe7a</td>\n",
       "      <td>2.248157e+17</td>\n",
       "      <td>9.977660e+17</td>\n",
       "      <td>7.531669e+18</td>\n",
       "      <td>NaN</td>\n",
       "      <td>Cable/DSL</td>\n",
       "      <td>7858558567428669000</td>\n",
       "      <td>4.077062e+17</td>\n",
       "    </tr>\n",
       "    <tr>\n",
       "      <th>2</th>\n",
       "      <td>2019-03-05 00:09:26.195</td>\n",
       "      <td>0</td>\n",
       "      <td>1891515180541284343</td>\n",
       "      <td>2688759737656491380</td>\n",
       "      <td>38</td>\n",
       "      <td>False</td>\n",
       "      <td>6333597102633388268</td>\n",
       "      <td>5.908703e+17</td>\n",
       "      <td>NaN</td>\n",
       "      <td>5.990117e+18</td>\n",
       "      <td>...</td>\n",
       "      <td>NaN</td>\n",
       "      <td>NaN</td>\n",
       "      <td>f02e2924-21ae-492b-b625-9021ae0a4eca</td>\n",
       "      <td>2.248157e+17</td>\n",
       "      <td>5.516623e+18</td>\n",
       "      <td>7.531669e+18</td>\n",
       "      <td>NaN</td>\n",
       "      <td>Cable/DSL</td>\n",
       "      <td>7858558567428669000</td>\n",
       "      <td>4.077062e+17</td>\n",
       "    </tr>\n",
       "    <tr>\n",
       "      <th>3</th>\n",
       "      <td>2019-03-05 00:09:31.107</td>\n",
       "      <td>2</td>\n",
       "      <td>1891515180541284343</td>\n",
       "      <td>2688759737656491380</td>\n",
       "      <td>38</td>\n",
       "      <td>False</td>\n",
       "      <td>6333597102633388268</td>\n",
       "      <td>5.908703e+17</td>\n",
       "      <td>NaN</td>\n",
       "      <td>5.990117e+18</td>\n",
       "      <td>...</td>\n",
       "      <td>NaN</td>\n",
       "      <td>NaN</td>\n",
       "      <td>a813cf45-a36e-4668-85e2-5395f1564e98</td>\n",
       "      <td>2.248157e+17</td>\n",
       "      <td>8.561153e+18</td>\n",
       "      <td>7.531669e+18</td>\n",
       "      <td>NaN</td>\n",
       "      <td>Cable/DSL</td>\n",
       "      <td>6324037615828123965</td>\n",
       "      <td>4.077062e+17</td>\n",
       "    </tr>\n",
       "    <tr>\n",
       "      <th>4</th>\n",
       "      <td>2019-03-09 21:00:36.585</td>\n",
       "      <td>3</td>\n",
       "      <td>1891515180541284343</td>\n",
       "      <td>2635154697734164782</td>\n",
       "      <td>38</td>\n",
       "      <td>False</td>\n",
       "      <td>6333597102633388268</td>\n",
       "      <td>7.391844e+18</td>\n",
       "      <td>NaN</td>\n",
       "      <td>5.960896e+18</td>\n",
       "      <td>...</td>\n",
       "      <td>NaN</td>\n",
       "      <td>NaN</td>\n",
       "      <td>63a4f0aa-e147-469f-8c55-4ca4f8d0e310</td>\n",
       "      <td>2.248157e+17</td>\n",
       "      <td>8.731902e+17</td>\n",
       "      <td>7.531669e+18</td>\n",
       "      <td>NaN</td>\n",
       "      <td>Cable/DSL</td>\n",
       "      <td>2894495631302821483</td>\n",
       "      <td>3.301378e+18</td>\n",
       "    </tr>\n",
       "  </tbody>\n",
       "</table>\n",
       "<p>5 rows × 22 columns</p>\n",
       "</div>"
      ],
      "text/plain": [
       "                      date  event_id             ref_type  \\\n",
       "0  2019-03-05 00:09:36.966         0  1891515180541284343   \n",
       "1  2019-03-05 00:09:38.920         1  1891515180541284343   \n",
       "2  2019-03-05 00:09:26.195         0  1891515180541284343   \n",
       "3  2019-03-05 00:09:31.107         2  1891515180541284343   \n",
       "4  2019-03-09 21:00:36.585         3  1891515180541284343   \n",
       "\n",
       "              ref_hash  application_id  attributed   device_countrycode  \\\n",
       "0  2688759737656491380              38       False  6333597102633388268   \n",
       "1  2688759737656491380              38       False  6333597102633388268   \n",
       "2  2688759737656491380              38       False  6333597102633388268   \n",
       "3  2688759737656491380              38       False  6333597102633388268   \n",
       "4  2635154697734164782              38       False  6333597102633388268   \n",
       "\n",
       "   device_os_version  device_brand  device_model  ...  trans_id  user_agent  \\\n",
       "0       5.908703e+17           NaN  5.990117e+18  ...       NaN         NaN   \n",
       "1       5.908703e+17           NaN  5.990117e+18  ...       NaN         NaN   \n",
       "2       5.908703e+17           NaN  5.990117e+18  ...       NaN         NaN   \n",
       "3       5.908703e+17           NaN  5.990117e+18  ...       NaN         NaN   \n",
       "4       7.391844e+18           NaN  5.960896e+18  ...       NaN         NaN   \n",
       "\n",
       "                             event_uuid       carrier          kind  \\\n",
       "0  a9c0b263-acb2-4577-92c5-cbde5d7a5db1  2.248157e+17  5.516623e+18   \n",
       "1  1cd98205-0d97-4ec2-a019-667997dbfe7a  2.248157e+17  9.977660e+17   \n",
       "2  f02e2924-21ae-492b-b625-9021ae0a4eca  2.248157e+17  5.516623e+18   \n",
       "3  a813cf45-a36e-4668-85e2-5395f1564e98  2.248157e+17  8.561153e+18   \n",
       "4  63a4f0aa-e147-469f-8c55-4ca4f8d0e310  2.248157e+17  8.731902e+17   \n",
       "\n",
       "      device_os  wifi  connection_type           ip_address device_language  \n",
       "0  7.531669e+18   NaN        Cable/DSL  7858558567428669000    4.077062e+17  \n",
       "1  7.531669e+18   NaN        Cable/DSL  7858558567428669000    4.077062e+17  \n",
       "2  7.531669e+18   NaN        Cable/DSL  7858558567428669000    4.077062e+17  \n",
       "3  7.531669e+18   NaN        Cable/DSL  6324037615828123965    4.077062e+17  \n",
       "4  7.531669e+18   NaN        Cable/DSL  2894495631302821483    3.301378e+18  \n",
       "\n",
       "[5 rows x 22 columns]"
      ]
     },
     "execution_count": 33,
     "metadata": {},
     "output_type": "execute_result"
    }
   ],
   "source": [
    "events.head()"
   ]
  },
  {
   "cell_type": "code",
   "execution_count": 34,
   "metadata": {},
   "outputs": [
    {
     "data": {
      "text/plain": [
       "2494423"
      ]
     },
     "execution_count": 34,
     "metadata": {},
     "output_type": "execute_result"
    }
   ],
   "source": [
    "len(events)"
   ]
  },
  {
   "cell_type": "code",
   "execution_count": 35,
   "metadata": {},
   "outputs": [
    {
     "name": "stdout",
     "output_type": "stream",
     "text": [
      "<class 'pandas.core.frame.DataFrame'>\n",
      "RangeIndex: 2494423 entries, 0 to 2494422\n",
      "Data columns (total 22 columns):\n",
      "date                  object\n",
      "event_id              int64\n",
      "ref_type              int64\n",
      "ref_hash              int64\n",
      "application_id        int64\n",
      "attributed            bool\n",
      "device_countrycode    int64\n",
      "device_os_version     float64\n",
      "device_brand          float64\n",
      "device_model          float64\n",
      "device_city           float64\n",
      "session_user_agent    float64\n",
      "trans_id              object\n",
      "user_agent            float64\n",
      "event_uuid            object\n",
      "carrier               float64\n",
      "kind                  float64\n",
      "device_os             float64\n",
      "wifi                  object\n",
      "connection_type       object\n",
      "ip_address            int64\n",
      "device_language       float64\n",
      "dtypes: bool(1), float64(10), int64(6), object(5)\n",
      "memory usage: 402.0+ MB\n"
     ]
    }
   ],
   "source": [
    "events.info()"
   ]
  },
  {
   "cell_type": "markdown",
   "metadata": {},
   "source": [
    "#### Convertimos los date a datetime:"
   ]
  },
  {
   "cell_type": "code",
   "execution_count": 36,
   "metadata": {},
   "outputs": [],
   "source": [
    "events['date'] = pd.to_datetime(events['date'])"
   ]
  },
  {
   "cell_type": "code",
   "execution_count": 37,
   "metadata": {},
   "outputs": [
    {
     "data": {
      "text/plain": [
       "date                  2494423\n",
       "event_id              2494423\n",
       "ref_type              2494423\n",
       "ref_hash              2494423\n",
       "application_id        2494423\n",
       "attributed            2494423\n",
       "device_countrycode    2494423\n",
       "device_os_version     1022066\n",
       "device_brand          1164963\n",
       "device_model          2406456\n",
       "device_city            614698\n",
       "session_user_agent    2482637\n",
       "trans_id                   82\n",
       "user_agent            1391527\n",
       "event_uuid            2489324\n",
       "carrier                616434\n",
       "kind                  2489324\n",
       "device_os              657667\n",
       "wifi                  1378872\n",
       "connection_type        612463\n",
       "ip_address            2494423\n",
       "device_language       2406604\n",
       "dtype: int64"
      ]
     },
     "execution_count": 37,
     "metadata": {},
     "output_type": "execute_result"
    }
   ],
   "source": [
    "events.count()"
   ]
  },
  {
   "cell_type": "code",
   "execution_count": 38,
   "metadata": {},
   "outputs": [
    {
     "data": {
      "text/plain": [
       "date                        0\n",
       "event_id                    0\n",
       "ref_type                    0\n",
       "ref_hash                    0\n",
       "application_id              0\n",
       "attributed                  0\n",
       "device_countrycode          0\n",
       "device_os_version     1472357\n",
       "device_brand          1329460\n",
       "device_model            87967\n",
       "device_city           1879725\n",
       "session_user_agent      11786\n",
       "trans_id              2494341\n",
       "user_agent            1102896\n",
       "event_uuid               5099\n",
       "carrier               1877989\n",
       "kind                     5099\n",
       "device_os             1836756\n",
       "wifi                  1115551\n",
       "connection_type       1881960\n",
       "ip_address                  0\n",
       "device_language         87819\n",
       "dtype: int64"
      ]
     },
     "execution_count": 38,
     "metadata": {},
     "output_type": "execute_result"
    }
   ],
   "source": [
    "events.isnull().sum()"
   ]
  },
  {
   "cell_type": "markdown",
   "metadata": {},
   "source": [
    "### Se ve que la columna 'trans_id' tiene una gran cantidad de null, conviene descartarla.\n",
    "#### -También se ve que las columnas 'device_os_version', 'device_brand', 'device_city', 'user_agent', 'carrier', 'wifi y 'connection_type' tiene más o menos la mitad de valores nulos"
   ]
  },
  {
   "cell_type": "code",
   "execution_count": 39,
   "metadata": {},
   "outputs": [],
   "source": [
    "events = events.drop(columns= 'trans_id')"
   ]
  },
  {
   "cell_type": "markdown",
   "metadata": {},
   "source": [
    "### Observamos 'attributed' la columna booleana"
   ]
  },
  {
   "cell_type": "code",
   "execution_count": 40,
   "metadata": {},
   "outputs": [
    {
     "data": {
      "text/plain": [
       "count     2494423\n",
       "unique          2\n",
       "top         False\n",
       "freq      2489324\n",
       "Name: attributed, dtype: object"
      ]
     },
     "execution_count": 40,
     "metadata": {},
     "output_type": "execute_result"
    }
   ],
   "source": [
    "events['attributed'].describe()"
   ]
  },
  {
   "cell_type": "markdown",
   "metadata": {},
   "source": [
    "#### La columna tiene una gran cantidad de False, habrá que ver si conviene descartarla."
   ]
  },
  {
   "cell_type": "code",
   "execution_count": 41,
   "metadata": {},
   "outputs": [
    {
     "data": {
      "text/plain": [
       "False    2489324\n",
       "True        5099\n",
       "Name: attributed, dtype: int64"
      ]
     },
     "execution_count": 41,
     "metadata": {},
     "output_type": "execute_result"
    }
   ],
   "source": [
    "events['attributed'].value_counts()"
   ]
  },
  {
   "cell_type": "markdown",
   "metadata": {},
   "source": [
    "### Veremos los valores de las columnas 'event_uuid', 'wifi' y 'connection_type' que son del tipo object, para concluir si conviene cambiar el tipo de dato."
   ]
  },
  {
   "cell_type": "code",
   "execution_count": 42,
   "metadata": {},
   "outputs": [
    {
     "data": {
      "text/plain": [
       "count                                  2489324\n",
       "unique                                 2489324\n",
       "top       b0eacc4e-2f3c-47a1-b346-9d1adb07f761\n",
       "freq                                         1\n",
       "Name: event_uuid, dtype: object"
      ]
     },
     "execution_count": 42,
     "metadata": {},
     "output_type": "execute_result"
    }
   ],
   "source": [
    "events['event_uuid'].describe()"
   ]
  },
  {
   "cell_type": "code",
   "execution_count": 43,
   "metadata": {},
   "outputs": [
    {
     "data": {
      "text/plain": [
       "0    a9c0b263-acb2-4577-92c5-cbde5d7a5db1\n",
       "1    1cd98205-0d97-4ec2-a019-667997dbfe7a\n",
       "2    f02e2924-21ae-492b-b625-9021ae0a4eca\n",
       "3    a813cf45-a36e-4668-85e2-5395f1564e98\n",
       "4    63a4f0aa-e147-469f-8c55-4ca4f8d0e310\n",
       "Name: event_uuid, dtype: object"
      ]
     },
     "execution_count": 43,
     "metadata": {},
     "output_type": "execute_result"
    }
   ],
   "source": [
    "events['event_uuid'].head()"
   ]
  },
  {
   "cell_type": "markdown",
   "metadata": {},
   "source": [
    "#### 'event_uuid', tiene todos sus valores únicos."
   ]
  },
  {
   "cell_type": "code",
   "execution_count": 44,
   "metadata": {},
   "outputs": [
    {
     "data": {
      "text/plain": [
       "count     1378872\n",
       "unique          2\n",
       "top          True\n",
       "freq       930902\n",
       "Name: wifi, dtype: object"
      ]
     },
     "execution_count": 44,
     "metadata": {},
     "output_type": "execute_result"
    }
   ],
   "source": [
    "events['wifi'].describe()"
   ]
  },
  {
   "cell_type": "code",
   "execution_count": 45,
   "metadata": {},
   "outputs": [
    {
     "data": {
      "text/plain": [
       "True     930902\n",
       "False    447970\n",
       "Name: wifi, dtype: int64"
      ]
     },
     "execution_count": 45,
     "metadata": {},
     "output_type": "execute_result"
    }
   ],
   "source": [
    "events['wifi'].value_counts()"
   ]
  },
  {
   "cell_type": "code",
   "execution_count": 46,
   "metadata": {},
   "outputs": [
    {
     "data": {
      "text/plain": [
       "0    NaN\n",
       "1    NaN\n",
       "2    NaN\n",
       "3    NaN\n",
       "4    NaN\n",
       "5    NaN\n",
       "6    NaN\n",
       "7    NaN\n",
       "8    NaN\n",
       "9    NaN\n",
       "Name: wifi, dtype: object"
      ]
     },
     "execution_count": 46,
     "metadata": {},
     "output_type": "execute_result"
    }
   ],
   "source": [
    "events['wifi'].head(10)"
   ]
  },
  {
   "cell_type": "markdown",
   "metadata": {},
   "source": [
    "#### A traves del head no podemos observar claramente los valores, los filtramos:"
   ]
  },
  {
   "cell_type": "code",
   "execution_count": 47,
   "metadata": {},
   "outputs": [
    {
     "data": {
      "text/plain": [
       "154         True\n",
       "155         True\n",
       "156        False\n",
       "157         True\n",
       "158         True\n",
       "159         True\n",
       "160         True\n",
       "161         True\n",
       "162         True\n",
       "163         True\n",
       "164         True\n",
       "165         True\n",
       "166         True\n",
       "167         True\n",
       "168         True\n",
       "169         True\n",
       "170         True\n",
       "171         True\n",
       "3304        True\n",
       "3305        True\n",
       "3306        True\n",
       "3307        True\n",
       "3308        True\n",
       "3309        True\n",
       "3310        True\n",
       "3311        True\n",
       "3312        True\n",
       "31403       True\n",
       "31404      False\n",
       "31405      False\n",
       "           ...  \n",
       "2494393     True\n",
       "2494394     True\n",
       "2494395    False\n",
       "2494396    False\n",
       "2494397     True\n",
       "2494398     True\n",
       "2494399    False\n",
       "2494400     True\n",
       "2494401     True\n",
       "2494402     True\n",
       "2494403     True\n",
       "2494404     True\n",
       "2494405     True\n",
       "2494406     True\n",
       "2494407     True\n",
       "2494408     True\n",
       "2494409    False\n",
       "2494410     True\n",
       "2494411     True\n",
       "2494412     True\n",
       "2494413     True\n",
       "2494414     True\n",
       "2494415    False\n",
       "2494416     True\n",
       "2494417     True\n",
       "2494418     True\n",
       "2494419    False\n",
       "2494420     True\n",
       "2494421     True\n",
       "2494422     True\n",
       "Name: wifi, Length: 1378872, dtype: object"
      ]
     },
     "execution_count": 47,
     "metadata": {},
     "output_type": "execute_result"
    }
   ],
   "source": [
    "events['wifi'][(events['wifi'].isnull()==False)]"
   ]
  },
  {
   "cell_type": "markdown",
   "metadata": {},
   "source": [
    "#### Los valores no nulos, son booleanos, vamos a transformar el tipo de dato"
   ]
  },
  {
   "cell_type": "code",
   "execution_count": 48,
   "metadata": {},
   "outputs": [],
   "source": [
    "events['wifi'] = events['wifi'].astype(bool)"
   ]
  },
  {
   "cell_type": "markdown",
   "metadata": {},
   "source": [
    "#### 'connection_type'"
   ]
  },
  {
   "cell_type": "code",
   "execution_count": 49,
   "metadata": {},
   "outputs": [
    {
     "data": {
      "text/plain": [
       "count        612463\n",
       "unique            3\n",
       "top       Cable/DSL\n",
       "freq         331948\n",
       "Name: connection_type, dtype: object"
      ]
     },
     "execution_count": 49,
     "metadata": {},
     "output_type": "execute_result"
    }
   ],
   "source": [
    "events['connection_type'].describe()"
   ]
  },
  {
   "cell_type": "code",
   "execution_count": 50,
   "metadata": {},
   "outputs": [
    {
     "data": {
      "text/plain": [
       "0    Cable/DSL\n",
       "1    Cable/DSL\n",
       "2    Cable/DSL\n",
       "3    Cable/DSL\n",
       "4    Cable/DSL\n",
       "Name: connection_type, dtype: object"
      ]
     },
     "execution_count": 50,
     "metadata": {},
     "output_type": "execute_result"
    }
   ],
   "source": [
    "events['connection_type'].head()"
   ]
  },
  {
   "cell_type": "code",
   "execution_count": 51,
   "metadata": {},
   "outputs": [
    {
     "name": "stdout",
     "output_type": "stream",
     "text": [
      "<class 'pandas.core.frame.DataFrame'>\n",
      "RangeIndex: 2494423 entries, 0 to 2494422\n",
      "Data columns (total 21 columns):\n",
      "date                  datetime64[ns]\n",
      "event_id              int64\n",
      "ref_type              int64\n",
      "ref_hash              int64\n",
      "application_id        int64\n",
      "attributed            bool\n",
      "device_countrycode    int64\n",
      "device_os_version     float64\n",
      "device_brand          float64\n",
      "device_model          float64\n",
      "device_city           float64\n",
      "session_user_agent    float64\n",
      "user_agent            float64\n",
      "event_uuid            object\n",
      "carrier               float64\n",
      "kind                  float64\n",
      "device_os             float64\n",
      "wifi                  bool\n",
      "connection_type       object\n",
      "ip_address            int64\n",
      "device_language       float64\n",
      "dtypes: bool(2), datetime64[ns](1), float64(10), int64(6), object(2)\n",
      "memory usage: 366.3+ MB\n"
     ]
    }
   ],
   "source": [
    "events.info()"
   ]
  },
  {
   "cell_type": "markdown",
   "metadata": {},
   "source": [
    "##### Es una String, se lo deja como esta"
   ]
  },
  {
   "cell_type": "markdown",
   "metadata": {},
   "source": [
    "### Finalmente:\n",
    "##### -Se ve que la columna 'trans_id' tiene una gran cantidad de null(solo 82 con valor), conviene descartarla.\n",
    "##### -También se ve que las columnas 'device_os_version', 'device_brand', 'device_city', 'user_agent', 'carrier', 'wifi y 'connection_type' tiene más o menos la mitad de valores nulos. En principio supongo que siendo un DataFrame de eventos, dependiendo del evento tendra sentido tener un valor asignado o null.\n",
    "##### -Se cambio el tipo de dato de 'wifi' a booleano.\n",
    "##### - La columna attributed tiene gran cantidad de valores False, solo 5000 True."
   ]
  },
  {
   "cell_type": "markdown",
   "metadata": {},
   "source": [
    "# Análisis de Installs"
   ]
  },
  {
   "cell_type": "code",
   "execution_count": 52,
   "metadata": {},
   "outputs": [],
   "source": [
    "installs= pd.read_csv('installs.csv.gzip', compression= 'gzip')"
   ]
  },
  {
   "cell_type": "code",
   "execution_count": 53,
   "metadata": {},
   "outputs": [
    {
     "name": "stdout",
     "output_type": "stream",
     "text": [
      "<class 'pandas.core.frame.DataFrame'>\n",
      "RangeIndex: 3412 entries, 0 to 3411\n",
      "Data columns (total 18 columns):\n",
      "created               3412 non-null object\n",
      "application_id        3412 non-null int64\n",
      "ref_type              3412 non-null int64\n",
      "ref_hash              3412 non-null int64\n",
      "click_hash            0 non-null float64\n",
      "attributed            3412 non-null bool\n",
      "implicit              3412 non-null bool\n",
      "device_countrycode    3412 non-null int64\n",
      "device_brand          1047 non-null float64\n",
      "device_model          3411 non-null float64\n",
      "session_user_agent    3364 non-null object\n",
      "user_agent            1729 non-null object\n",
      "event_uuid            865 non-null object\n",
      "kind                  865 non-null object\n",
      "wifi                  1729 non-null object\n",
      "trans_id              6 non-null object\n",
      "ip_address            3412 non-null int64\n",
      "device_language       3378 non-null float64\n",
      "dtypes: bool(2), float64(4), int64(5), object(7)\n",
      "memory usage: 433.2+ KB\n"
     ]
    }
   ],
   "source": [
    "installs.info()"
   ]
  },
  {
   "cell_type": "code",
   "execution_count": 54,
   "metadata": {},
   "outputs": [
    {
     "data": {
      "text/plain": [
       "3412"
      ]
     },
     "execution_count": 54,
     "metadata": {},
     "output_type": "execute_result"
    }
   ],
   "source": [
    "len(installs)"
   ]
  },
  {
   "cell_type": "markdown",
   "metadata": {},
   "source": [
    "#### Por lo visto en el .info 'click_hash' tiene todos nulos y 'trans_id' solamente 6 no nulos."
   ]
  },
  {
   "cell_type": "code",
   "execution_count": 55,
   "metadata": {},
   "outputs": [
    {
     "data": {
      "text/html": [
       "<div>\n",
       "<style scoped>\n",
       "    .dataframe tbody tr th:only-of-type {\n",
       "        vertical-align: middle;\n",
       "    }\n",
       "\n",
       "    .dataframe tbody tr th {\n",
       "        vertical-align: top;\n",
       "    }\n",
       "\n",
       "    .dataframe thead th {\n",
       "        text-align: right;\n",
       "    }\n",
       "</style>\n",
       "<table border=\"1\" class=\"dataframe\">\n",
       "  <thead>\n",
       "    <tr style=\"text-align: right;\">\n",
       "      <th></th>\n",
       "      <th>created</th>\n",
       "      <th>application_id</th>\n",
       "      <th>ref_type</th>\n",
       "      <th>ref_hash</th>\n",
       "      <th>click_hash</th>\n",
       "      <th>attributed</th>\n",
       "      <th>implicit</th>\n",
       "      <th>device_countrycode</th>\n",
       "      <th>device_brand</th>\n",
       "      <th>device_model</th>\n",
       "      <th>session_user_agent</th>\n",
       "      <th>user_agent</th>\n",
       "      <th>event_uuid</th>\n",
       "      <th>kind</th>\n",
       "      <th>wifi</th>\n",
       "      <th>trans_id</th>\n",
       "      <th>ip_address</th>\n",
       "      <th>device_language</th>\n",
       "    </tr>\n",
       "  </thead>\n",
       "  <tbody>\n",
       "    <tr>\n",
       "      <th>0</th>\n",
       "      <td>2019-03-13 01:43:33.445</td>\n",
       "      <td>0</td>\n",
       "      <td>1891515180541284343</td>\n",
       "      <td>8464844987297247076</td>\n",
       "      <td>NaN</td>\n",
       "      <td>False</td>\n",
       "      <td>False</td>\n",
       "      <td>6333597102633388268</td>\n",
       "      <td>3.083059e+17</td>\n",
       "      <td>4.445252e+18</td>\n",
       "      <td>NaN</td>\n",
       "      <td>NaN</td>\n",
       "      <td>NaN</td>\n",
       "      <td>NaN</td>\n",
       "      <td>NaN</td>\n",
       "      <td>NaN</td>\n",
       "      <td>5529284367937637301</td>\n",
       "      <td>NaN</td>\n",
       "    </tr>\n",
       "    <tr>\n",
       "      <th>1</th>\n",
       "      <td>2019-03-13 04:58:35.078</td>\n",
       "      <td>0</td>\n",
       "      <td>1891515180541284343</td>\n",
       "      <td>3250564871270161533</td>\n",
       "      <td>NaN</td>\n",
       "      <td>False</td>\n",
       "      <td>False</td>\n",
       "      <td>6333597102633388268</td>\n",
       "      <td>3.083059e+17</td>\n",
       "      <td>4.445252e+18</td>\n",
       "      <td>NaN</td>\n",
       "      <td>NaN</td>\n",
       "      <td>NaN</td>\n",
       "      <td>NaN</td>\n",
       "      <td>NaN</td>\n",
       "      <td>NaN</td>\n",
       "      <td>6098022721363533304</td>\n",
       "      <td>NaN</td>\n",
       "    </tr>\n",
       "    <tr>\n",
       "      <th>2</th>\n",
       "      <td>2019-03-13 04:20:57.666</td>\n",
       "      <td>0</td>\n",
       "      <td>1891515180541284343</td>\n",
       "      <td>7953318831018100268</td>\n",
       "      <td>NaN</td>\n",
       "      <td>False</td>\n",
       "      <td>True</td>\n",
       "      <td>6333597102633388268</td>\n",
       "      <td>5.137992e+17</td>\n",
       "      <td>6.026543e+18</td>\n",
       "      <td>HasOffers Mobile AppTracking v1.0</td>\n",
       "      <td>NaN</td>\n",
       "      <td>0bfa9b4c-e07a-4522-b32d-138e3165ac98</td>\n",
       "      <td>Open</td>\n",
       "      <td>NaN</td>\n",
       "      <td>NaN</td>\n",
       "      <td>4636407223847323867</td>\n",
       "      <td>3.301378e+18</td>\n",
       "    </tr>\n",
       "    <tr>\n",
       "      <th>3</th>\n",
       "      <td>2019-03-13 04:20:57.698</td>\n",
       "      <td>0</td>\n",
       "      <td>1891515180541284343</td>\n",
       "      <td>7953318831018100268</td>\n",
       "      <td>NaN</td>\n",
       "      <td>False</td>\n",
       "      <td>False</td>\n",
       "      <td>6333597102633388268</td>\n",
       "      <td>5.137992e+17</td>\n",
       "      <td>6.026543e+18</td>\n",
       "      <td>NaN</td>\n",
       "      <td>NaN</td>\n",
       "      <td>NaN</td>\n",
       "      <td>NaN</td>\n",
       "      <td>NaN</td>\n",
       "      <td>NaN</td>\n",
       "      <td>4636407223847323867</td>\n",
       "      <td>NaN</td>\n",
       "    </tr>\n",
       "    <tr>\n",
       "      <th>4</th>\n",
       "      <td>2019-03-10 22:24:56.684</td>\n",
       "      <td>0</td>\n",
       "      <td>1891515180541284343</td>\n",
       "      <td>8355110941557237501</td>\n",
       "      <td>NaN</td>\n",
       "      <td>False</td>\n",
       "      <td>True</td>\n",
       "      <td>6333597102633388268</td>\n",
       "      <td>1.083369e+18</td>\n",
       "      <td>7.876612e+18</td>\n",
       "      <td>HasOffers Mobile AppTracking v1.0</td>\n",
       "      <td>NaN</td>\n",
       "      <td>8f235a8c-41bf-4399-b33d-c41577c949b0</td>\n",
       "      <td>Open</td>\n",
       "      <td>NaN</td>\n",
       "      <td>NaN</td>\n",
       "      <td>685400811232710215</td>\n",
       "      <td>3.301378e+18</td>\n",
       "    </tr>\n",
       "  </tbody>\n",
       "</table>\n",
       "</div>"
      ],
      "text/plain": [
       "                   created  application_id             ref_type  \\\n",
       "0  2019-03-13 01:43:33.445               0  1891515180541284343   \n",
       "1  2019-03-13 04:58:35.078               0  1891515180541284343   \n",
       "2  2019-03-13 04:20:57.666               0  1891515180541284343   \n",
       "3  2019-03-13 04:20:57.698               0  1891515180541284343   \n",
       "4  2019-03-10 22:24:56.684               0  1891515180541284343   \n",
       "\n",
       "              ref_hash  click_hash  attributed  implicit   device_countrycode  \\\n",
       "0  8464844987297247076         NaN       False     False  6333597102633388268   \n",
       "1  3250564871270161533         NaN       False     False  6333597102633388268   \n",
       "2  7953318831018100268         NaN       False      True  6333597102633388268   \n",
       "3  7953318831018100268         NaN       False     False  6333597102633388268   \n",
       "4  8355110941557237501         NaN       False      True  6333597102633388268   \n",
       "\n",
       "   device_brand  device_model                 session_user_agent user_agent  \\\n",
       "0  3.083059e+17  4.445252e+18                                NaN        NaN   \n",
       "1  3.083059e+17  4.445252e+18                                NaN        NaN   \n",
       "2  5.137992e+17  6.026543e+18  HasOffers Mobile AppTracking v1.0        NaN   \n",
       "3  5.137992e+17  6.026543e+18                                NaN        NaN   \n",
       "4  1.083369e+18  7.876612e+18  HasOffers Mobile AppTracking v1.0        NaN   \n",
       "\n",
       "                             event_uuid  kind wifi trans_id  \\\n",
       "0                                   NaN   NaN  NaN      NaN   \n",
       "1                                   NaN   NaN  NaN      NaN   \n",
       "2  0bfa9b4c-e07a-4522-b32d-138e3165ac98  Open  NaN      NaN   \n",
       "3                                   NaN   NaN  NaN      NaN   \n",
       "4  8f235a8c-41bf-4399-b33d-c41577c949b0  Open  NaN      NaN   \n",
       "\n",
       "            ip_address  device_language  \n",
       "0  5529284367937637301              NaN  \n",
       "1  6098022721363533304              NaN  \n",
       "2  4636407223847323867     3.301378e+18  \n",
       "3  4636407223847323867              NaN  \n",
       "4   685400811232710215     3.301378e+18  "
      ]
     },
     "execution_count": 55,
     "metadata": {},
     "output_type": "execute_result"
    }
   ],
   "source": [
    "installs.head()"
   ]
  },
  {
   "cell_type": "code",
   "execution_count": 56,
   "metadata": {},
   "outputs": [],
   "source": [
    "installs = installs.drop(columns = 'click_hash')"
   ]
  },
  {
   "cell_type": "markdown",
   "metadata": {},
   "source": [
    "#### Cambio el tipo de 'created' a datetime"
   ]
  },
  {
   "cell_type": "code",
   "execution_count": 57,
   "metadata": {},
   "outputs": [],
   "source": [
    "installs['created'] = pd.to_datetime(installs['created'])"
   ]
  },
  {
   "cell_type": "code",
   "execution_count": 58,
   "metadata": {},
   "outputs": [
    {
     "data": {
      "text/plain": [
       "True     1377\n",
       "False     352\n",
       "Name: wifi, dtype: int64"
      ]
     },
     "execution_count": 58,
     "metadata": {},
     "output_type": "execute_result"
    }
   ],
   "source": [
    "installs['wifi'].value_counts()"
   ]
  },
  {
   "cell_type": "markdown",
   "metadata": {},
   "source": [
    "#### Cambio el tipo de dato de 'wifi' a bool"
   ]
  },
  {
   "cell_type": "code",
   "execution_count": 59,
   "metadata": {},
   "outputs": [],
   "source": [
    "installs['wifi']= installs['wifi'].astype(bool)"
   ]
  },
  {
   "cell_type": "markdown",
   "metadata": {},
   "source": [
    "#### 'implict' y 'attributed' columnas booleanas"
   ]
  },
  {
   "cell_type": "code",
   "execution_count": 60,
   "metadata": {},
   "outputs": [
    {
     "data": {
      "text/plain": [
       "False    2547\n",
       "True      865\n",
       "Name: implicit, dtype: int64"
      ]
     },
     "execution_count": 60,
     "metadata": {},
     "output_type": "execute_result"
    }
   ],
   "source": [
    "installs['implicit'].value_counts()"
   ]
  },
  {
   "cell_type": "code",
   "execution_count": 61,
   "metadata": {},
   "outputs": [
    {
     "data": {
      "text/plain": [
       "False    3412\n",
       "Name: attributed, dtype: int64"
      ]
     },
     "execution_count": 61,
     "metadata": {},
     "output_type": "execute_result"
    }
   ],
   "source": [
    "installs['attributed'].value_counts()"
   ]
  },
  {
   "cell_type": "markdown",
   "metadata": {},
   "source": [
    "##### Todos los valores de la columna 'attributed' son False"
   ]
  },
  {
   "cell_type": "markdown",
   "metadata": {},
   "source": [
    "#### Analisis de 'application_id'"
   ]
  },
  {
   "cell_type": "code",
   "execution_count": 62,
   "metadata": {},
   "outputs": [
    {
     "data": {
      "text/plain": [
       "count    3412.000000\n",
       "mean       10.247655\n",
       "std         6.016194\n",
       "min         0.000000\n",
       "25%         7.000000\n",
       "50%         9.000000\n",
       "75%        10.000000\n",
       "max        36.000000\n",
       "Name: application_id, dtype: float64"
      ]
     },
     "execution_count": 62,
     "metadata": {},
     "output_type": "execute_result"
    }
   ],
   "source": [
    "installs['application_id'].describe()"
   ]
  },
  {
   "cell_type": "code",
   "execution_count": 63,
   "metadata": {},
   "outputs": [
    {
     "data": {
      "text/plain": [
       "7     947\n",
       "9     731\n",
       "10    389\n",
       "16    362\n",
       "8     328\n",
       "2     174\n",
       "29     97\n",
       "20     95\n",
       "6      35\n",
       "1      34\n",
       "26     28\n",
       "34     28\n",
       "15     20\n",
       "0      18\n",
       "3      17\n",
       "28     17\n",
       "12     15\n",
       "18     14\n",
       "24     13\n",
       "17     13\n",
       "14     13\n",
       "21      7\n",
       "5       3\n",
       "13      3\n",
       "33      2\n",
       "30      2\n",
       "19      2\n",
       "32      2\n",
       "36      1\n",
       "4       1\n",
       "23      1\n",
       "Name: application_id, dtype: int64"
      ]
     },
     "execution_count": 63,
     "metadata": {},
     "output_type": "execute_result"
    }
   ],
   "source": [
    "installs['application_id'].value_counts()"
   ]
  },
  {
   "cell_type": "markdown",
   "metadata": {},
   "source": [
    "##### No se observa nada relevante en la primer vista"
   ]
  },
  {
   "cell_type": "markdown",
   "metadata": {},
   "source": [
    "### Finalmente\n",
    "##### - Por lo visto en el .info 'click_hash' tiene todos nulos y 'trans_id' solamente 6 no nulos.\n",
    "##### - Cambio el tipo de 'created' a datetime\n",
    "##### - Todos los valores de la columna 'attributed' son False\n",
    "\n",
    "#### Este último DataFrame no ocupa casi memoria, por lo que no hay que preocuparse ṕor este aspecto"
   ]
  }
 ],
 "metadata": {
  "kernelspec": {
   "display_name": "Python 3",
   "language": "python",
   "name": "python3"
  },
  "language_info": {
   "codemirror_mode": {
    "name": "ipython",
    "version": 3
   },
   "file_extension": ".py",
   "mimetype": "text/x-python",
   "name": "python",
   "nbconvert_exporter": "python",
   "pygments_lexer": "ipython3",
   "version": "3.6.8"
  }
 },
 "nbformat": 4,
 "nbformat_minor": 2
}
