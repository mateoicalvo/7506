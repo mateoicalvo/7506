{
 "cells": [
  {
   "cell_type": "markdown",
   "metadata": {},
   "source": [
    "---"
   ]
  },
  {
   "cell_type": "code",
   "execution_count": 50,
   "metadata": {},
   "outputs": [
    {
     "name": "stdout",
     "output_type": "stream",
     "text": [
      "[799999980000003.0, 799999980000009.0]\n"
     ]
    }
   ],
   "source": [
    "# Correr antes : ipcluster start -n 2\n",
    "compartido = []\n",
    "from ipyparallel import Client\n",
    "import time\n",
    "rc = Client()\n",
    "\n",
    "def funcion(param1, param2):\n",
    "    from math import sqrt\n",
    "    t = 0\n",
    "    for x in range(40000000):\n",
    "        t += sqrt(sqrt((x**2))**2)\n",
    "    return t + param1 + param2\n",
    "\n",
    "res1 = rc[0].apply(funcion,1,2)\n",
    "res2 = rc[1].apply(funcion,4,5)\n",
    "results = [res1, res2]\n",
    "\n",
    "while not all(map(lambda ar: ar.ready(), results)):\n",
    "    time.sleep(0.5)\n",
    "\n",
    "compartido.append(res1.get())\n",
    "compartido.append(res2.get())\n",
    "print(compartido)"
   ]
  },
  {
   "cell_type": "markdown",
   "metadata": {},
   "source": [
    "---"
   ]
  },
  {
   "cell_type": "markdown",
   "metadata": {},
   "source": [
    "# Imports"
   ]
  },
  {
   "cell_type": "code",
   "execution_count": 1,
   "metadata": {},
   "outputs": [],
   "source": [
    "import pandas as pd\n",
    "import numpy as np\n",
    "from ipyparallel import Client\n",
    "import time"
   ]
  },
  {
   "cell_type": "markdown",
   "metadata": {},
   "source": [
    "# Entorno multitarea"
   ]
  },
  {
   "cell_type": "code",
   "execution_count": 2,
   "metadata": {},
   "outputs": [],
   "source": [
    "cliente = Client()"
   ]
  },
  {
   "cell_type": "markdown",
   "metadata": {},
   "source": [
    "---"
   ]
  },
  {
   "cell_type": "markdown",
   "metadata": {},
   "source": [
    "# Carga de datos"
   ]
  },
  {
   "cell_type": "code",
   "execution_count": 3,
   "metadata": {},
   "outputs": [],
   "source": [
    "auctions = pd.read_pickle(\"../../../../data/tp2/auctions_tp2_formateado.pkl\")"
   ]
  },
  {
   "cell_type": "markdown",
   "metadata": {},
   "source": [
    "---"
   ]
  },
  {
   "cell_type": "markdown",
   "metadata": {},
   "source": [
    "# Armado de ventanas"
   ]
  },
  {
   "cell_type": "code",
   "execution_count": 5,
   "metadata": {},
   "outputs": [],
   "source": [
    "for ventana_nro in range(1,6):\n",
    "    auctions[\"ventana_{}\".format(ventana_nro)] = (((17+ventana_nro) <= auctions[\"date\"].dt.day) & ((auctions[\"date\"].dt.day) <= (19+ventana_nro)))"
   ]
  },
  {
   "cell_type": "code",
   "execution_count": 11,
   "metadata": {},
   "outputs": [],
   "source": [
    "compartido = []\n",
    "\n",
    "def funcion(dia, dataset):\n",
    "    import pandas as pd\n",
    "    return (((17+dia) <= dataset[\"date\"].dt.day) & ((dataset[\"date\"].dt.day) <= (19+dia)))\n",
    "\n",
    "res1 = cliente[0].apply(funcion,1, auctions)\n",
    "res2 = cliente[1].apply(funcion,2, auctions)\n",
    "\n",
    "while not all(map(lambda ar: ar.ready(), results)):\n",
    "    time.sleep(0.5)\n",
    "\n",
    "compartido.append(res1.get())\n",
    "compartido.append(res2.get())"
   ]
  },
  {
   "cell_type": "code",
   "execution_count": 10,
   "metadata": {},
   "outputs": [
    {
     "data": {
      "text/plain": [
       "10129864    False\n",
       "25285906    False\n",
       "3946062     False\n",
       "3946063     False\n",
       "24607726    False\n",
       "11820552    False\n",
       "44538105    False\n",
       "4953159     False\n",
       "11812696    False\n",
       "11820553    False\n",
       "47080629    False\n",
       "44517641    False\n",
       "44538106    False\n",
       "3434618     False\n",
       "44514683    False\n",
       "44514684    False\n",
       "44504337    False\n",
       "16344775    False\n",
       "10129865    False\n",
       "16188706    False\n",
       "44538107    False\n",
       "20481863    False\n",
       "16344776    False\n",
       "16735299    False\n",
       "11798280    False\n",
       "44538108    False\n",
       "11820554    False\n",
       "20466501    False\n",
       "14055018    False\n",
       "44517642    False\n",
       "            ...  \n",
       "22779167    False\n",
       "33429066    False\n",
       "18430951    False\n",
       "33102635    False\n",
       "44059668    False\n",
       "13744215    False\n",
       "22778745    False\n",
       "18430952    False\n",
       "9498157     False\n",
       "18430953    False\n",
       "28212235    False\n",
       "36347849    False\n",
       "9498158     False\n",
       "18430234    False\n",
       "13743303    False\n",
       "9498159     False\n",
       "18431825    False\n",
       "4298524     False\n",
       "19909581    False\n",
       "36347718    False\n",
       "13743304    False\n",
       "12712359    False\n",
       "4301357     False\n",
       "18430235    False\n",
       "3801015     False\n",
       "18431826    False\n",
       "28210820    False\n",
       "18431827    False\n",
       "44059221    False\n",
       "45963986    False\n",
       "Name: date, Length: 47409528, dtype: bool"
      ]
     },
     "execution_count": 10,
     "metadata": {},
     "output_type": "execute_result"
    }
   ],
   "source": [
    "compartido[1]"
   ]
  },
  {
   "cell_type": "markdown",
   "metadata": {},
   "source": [
    "---"
   ]
  },
  {
   "cell_type": "markdown",
   "metadata": {},
   "source": [
    "# Creación de features"
   ]
  },
  {
   "cell_type": "markdown",
   "metadata": {},
   "source": [
    "## Creación de sets de entrenamiento"
   ]
  },
  {
   "cell_type": "code",
   "execution_count": 4,
   "metadata": {},
   "outputs": [],
   "source": [
    "Xs = {}\n",
    "for ventana_nro in range(1,6):\n",
    "    Xs[ventana_nro] = auctions.loc[auctions[\"ventana_{}\".format(ventana_nro)]][\"device_id\"].drop_duplicates().to_frame().set_index(\"device_id\")"
   ]
  },
  {
   "cell_type": "markdown",
   "metadata": {},
   "source": [
    "## Función generadora de features"
   ]
  },
  {
   "cell_type": "code",
   "execution_count": 5,
   "metadata": {},
   "outputs": [],
   "source": [
    "def generar_feature_en_ventanas(dataframe, generador_feature, destinos):\n",
    "    for ventana_nro in range(1, 6):\n",
    "        feature = generador_feature(dataframe.loc[dataframe[\"ventana_{}\".format(ventana_nro)]])\n",
    "        destinos[ventana_nro] = destinos[ventana_nro].merge(feature, how=\"right\", left_index=True, right_index=True)       "
   ]
  },
  {
   "cell_type": "markdown",
   "metadata": {},
   "source": [
    "---"
   ]
  },
  {
   "cell_type": "markdown",
   "metadata": {},
   "source": [
    "## Cantidad de apariciones en subastas dentro de la ventana"
   ]
  },
  {
   "cell_type": "code",
   "execution_count": 6,
   "metadata": {},
   "outputs": [],
   "source": [
    "def cantidad_apariciones_en_subastas(dataframe):\n",
    "    return dataframe.groupby(\"device_id\").agg({\"date\" : \"count\"}).rename(index=str, columns={\"date\": \"cantidad_apariciones\"})"
   ]
  },
  {
   "cell_type": "code",
   "execution_count": 7,
   "metadata": {},
   "outputs": [],
   "source": [
    "generar_feature_en_ventanas(auctions, cantidad_apariciones_en_subastas, Xs)"
   ]
  },
  {
   "cell_type": "markdown",
   "metadata": {},
   "source": [
    "---"
   ]
  },
  {
   "cell_type": "markdown",
   "metadata": {},
   "source": [
    "## Entrenamiento: [18/4 , 20/4] ; Target: [21/4 , 23/4]"
   ]
  },
  {
   "cell_type": "markdown",
   "metadata": {},
   "source": [
    "---"
   ]
  },
  {
   "cell_type": "markdown",
   "metadata": {},
   "source": [
    "## Entrenamiento: [19/4 , 21/4] ; Target: [22/4 , 24/4]"
   ]
  },
  {
   "cell_type": "markdown",
   "metadata": {},
   "source": [
    "---"
   ]
  },
  {
   "cell_type": "markdown",
   "metadata": {},
   "source": [
    "## Entrenamiento: [20/4 , 22/4] ; Target: [23/4 , 25/4]"
   ]
  },
  {
   "cell_type": "markdown",
   "metadata": {},
   "source": [
    "---"
   ]
  },
  {
   "cell_type": "markdown",
   "metadata": {},
   "source": [
    "## Entrenamiento: [21/4 , 23/4] ; Target: [24/4 , 26/4]"
   ]
  },
  {
   "cell_type": "markdown",
   "metadata": {},
   "source": [
    "---"
   ]
  },
  {
   "cell_type": "markdown",
   "metadata": {},
   "source": [
    "## Entrenamiento: [22/4 , 24/4] ; Target: [25/4 , 27/4]"
   ]
  },
  {
   "cell_type": "markdown",
   "metadata": {},
   "source": [
    "---"
   ]
  }
 ],
 "metadata": {
  "kernelspec": {
   "display_name": "Python 3",
   "language": "python",
   "name": "python3"
  },
  "language_info": {
   "codemirror_mode": {
    "name": "ipython",
    "version": 3
   },
   "file_extension": ".py",
   "mimetype": "text/x-python",
   "name": "python",
   "nbconvert_exporter": "python",
   "pygments_lexer": "ipython3",
   "version": "3.6.5"
  }
 },
 "nbformat": 4,
 "nbformat_minor": 2
}
