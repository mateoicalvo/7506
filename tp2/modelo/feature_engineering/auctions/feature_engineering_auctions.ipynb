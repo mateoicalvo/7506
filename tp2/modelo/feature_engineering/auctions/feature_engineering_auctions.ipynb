{
 "cells": [
  {
   "cell_type": "markdown",
   "metadata": {},
   "source": [
    "# Imports"
   ]
  },
  {
   "cell_type": "code",
   "execution_count": 1,
   "metadata": {},
   "outputs": [],
   "source": [
    "import pandas as pd\n",
    "import numpy as np"
   ]
  },
  {
   "cell_type": "markdown",
   "metadata": {},
   "source": [
    "---"
   ]
  },
  {
   "cell_type": "markdown",
   "metadata": {},
   "source": [
    "# Carga de datos"
   ]
  },
  {
   "cell_type": "code",
   "execution_count": 2,
   "metadata": {},
   "outputs": [],
   "source": [
    "auctions = pd.read_pickle(\"../../../../data/tp2/auctions_tp2_formateado.pkl\")"
   ]
  },
  {
   "cell_type": "code",
   "execution_count": 3,
   "metadata": {},
   "outputs": [],
   "source": [
    "targets_competencia = pd.read_pickle(\"../../../../data/tp2/ref_hashes_target.pkl\")"
   ]
  },
  {
   "cell_type": "markdown",
   "metadata": {},
   "source": [
    "---"
   ]
  },
  {
   "cell_type": "markdown",
   "metadata": {},
   "source": [
    "### De auctions, me quedo con sólo datos que correspondan a la competencia"
   ]
  },
  {
   "cell_type": "code",
   "execution_count": 4,
   "metadata": {},
   "outputs": [],
   "source": [
    "auctions_competencia = auctions.loc[auctions[\"device_id\"].isin(targets_competencia.index)]"
   ]
  },
  {
   "cell_type": "markdown",
   "metadata": {},
   "source": [
    "---"
   ]
  },
  {
   "cell_type": "markdown",
   "metadata": {},
   "source": [
    "# Cargo features generados hasta el momento"
   ]
  },
  {
   "cell_type": "markdown",
   "metadata": {},
   "source": [
    "## Sets de entrenamiento"
   ]
  },
  {
   "cell_type": "code",
   "execution_count": 5,
   "metadata": {},
   "outputs": [
    {
     "name": "stdout",
     "output_type": "stream",
     "text": [
      "Cargando features\n"
     ]
    }
   ],
   "source": [
    "# Ventanas de tres dias\n",
    "Xs = {}\n",
    "try:\n",
    "    print(\"Cargando features\")\n",
    "    for ventana_nro in range(1,5):    \n",
    "        Xs[ventana_nro] = pd.read_csv(\"../../features/ventana_{}_entrenar_auctions.csv\".format(ventana_nro), index_col=0)\n",
    "except FileNotFoundError:\n",
    "    print(\"No se encontraron los features, se generarán los dataframe requeridos\")\n",
    "    for ventana_nro in range(1,5):    \n",
    "        Xs[ventana_nro] = auctions.loc[auctions[\"ventana_{}\".format(ventana_nro)]][\"device_id\"] \\\n",
    "            .drop_duplicates().to_frame().set_index(\"device_id\").copy()"
   ]
  },
  {
   "cell_type": "markdown",
   "metadata": {},
   "source": [
    "## Set que se usará para predecir"
   ]
  },
  {
   "cell_type": "code",
   "execution_count": 5,
   "metadata": {},
   "outputs": [
    {
     "name": "stdout",
     "output_type": "stream",
     "text": [
      "Cargando features usados para predecir\n",
      "No se encontraron los features usados para predecir, se generará el dataframe requerido\n"
     ]
    }
   ],
   "source": [
    "# Features para hacer las predicciones que se suben, corresponden a la ventana 7\n",
    "Xs_predecir = {}\n",
    "\n",
    "try:\n",
    "    print(\"Cargando features usados para predecir\")\n",
    "    Xs_predecir[7] = pd.read_csv(\"../../features/predecir_auctions.csv\", index_col=0)\n",
    "except FileNotFoundError:\n",
    "    print(\"No se encontraron los features usados para predecir, se generará el dataframe requerido\")\n",
    "    Xs_predecir[7] = targets_competencia.copy()"
   ]
  },
  {
   "cell_type": "markdown",
   "metadata": {},
   "source": [
    "## Diccionario de features"
   ]
  },
  {
   "cell_type": "code",
   "execution_count": 7,
   "metadata": {},
   "outputs": [],
   "source": [
    "features = {}\n",
    "# Todos los datasets tienen la misma cantidad y nombre de features, tomo la ventana 1\n",
    "columnas_ya_generadas = list(Xs[1].columns.values)"
   ]
  },
  {
   "cell_type": "markdown",
   "metadata": {},
   "source": [
    "---"
   ]
  },
  {
   "cell_type": "markdown",
   "metadata": {},
   "source": [
    "# Creación de features"
   ]
  },
  {
   "cell_type": "markdown",
   "metadata": {},
   "source": [
    "## Cantidad de apariciones en subastas dentro de la ventana"
   ]
  },
  {
   "cell_type": "code",
   "execution_count": 7,
   "metadata": {},
   "outputs": [],
   "source": [
    "def cantidad_apariciones_en_ventana(dataframe, nro_ventana):\n",
    "    return dataframe.groupby(\"device_id\").agg({\"date\" : \"count\"}).rename(columns={\"date\": \"cantidad_apariciones_en_ventana_auctions\"})"
   ]
  },
  {
   "cell_type": "code",
   "execution_count": 8,
   "metadata": {},
   "outputs": [],
   "source": [
    "features[\"cantidad_apariciones_en_ventana_auctions\"] = (cantidad_apariciones_en_ventana, [\"cantidad_apariciones_en_ventana_auctions\"])"
   ]
  },
  {
   "cell_type": "markdown",
   "metadata": {},
   "source": [
    "---"
   ]
  },
  {
   "cell_type": "markdown",
   "metadata": {},
   "source": [
    "## Cantidad de apariciones discriminando períodos"
   ]
  },
  {
   "cell_type": "markdown",
   "metadata": {},
   "source": [
    "## Cantidad de apariciones por período horario"
   ]
  },
  {
   "cell_type": "code",
   "execution_count": 9,
   "metadata": {},
   "outputs": [],
   "source": [
    "def cantidad_apariciones_por_periodo_horario(dataframe, nro_ventana):\n",
    "    features = dataframe.groupby(\"device_id\").agg( \\\n",
    "       {\"hora_2_a_6\" : \"sum\",\n",
    "        \"hora_6_a_11\" : \"sum\",\n",
    "        \"hora_11_a_14\" : \"sum\",\n",
    "        \"hora_14_a_18\" : \"sum\",\n",
    "        \"hora_18_a_23\" : \"sum\",\n",
    "        \"hora_23_a_2\" : \"sum\"})\n",
    "    features.columns = [\"apariciones_\" + x + \"_auctions\" for x in features.columns]\n",
    "    return features"
   ]
  },
  {
   "cell_type": "code",
   "execution_count": 10,
   "metadata": {},
   "outputs": [],
   "source": [
    "columnas_generadas = [\"apariciones_\" + x + \"_auctions\" for x in [\"hora_2_a_6\", \"hora_6_a_11\", \"hora_11_a_14\", \"hora_14_a_18\", \"hora_18_a_23\", \"hora_23_a_2\"]]\n",
    "features[\"cantidad_apariciones_por_periodo_horario\"] = (cantidad_apariciones_por_periodo_horario, columnas_generadas)"
   ]
  },
  {
   "cell_type": "markdown",
   "metadata": {},
   "source": [
    "# Cantidad de apariciones según en qué dia de la ventana se encuentra"
   ]
  },
  {
   "cell_type": "code",
   "execution_count": 11,
   "metadata": {},
   "outputs": [],
   "source": [
    "def cantidad_apariciones_por_dia(dataframe, nro_ventana):\n",
    "    apariciones_por_dia = dataframe.groupby([\"device_id\", \"dia\"]).agg(({\"date\" : \"count\"}))\n",
    "    apariciones_por_dia = apariciones_por_dia.unstack().droplevel(level=0, axis=1)\n",
    "    cantidad_de_dias = len(apariciones_por_dia.columns)\n",
    "    nuevas_columnas = []\n",
    "    for dia in range(cantidad_de_dias):\n",
    "        nuevas_columnas.append(dia+1)\n",
    "    apariciones_por_dia.columns = nuevas_columnas\n",
    "    for dia in range(1, 4):\n",
    "        if dia not in list(apariciones_por_dia.columns.values):\n",
    "            apariciones_por_dia.insert(dia, dia, 0)\n",
    "    apariciones_por_dia.columns = [\"apariciones_en_dia_{}_auctions\".format(dia) for dia in range(1,4)]\n",
    "    return apariciones_por_dia"
   ]
  },
  {
   "cell_type": "code",
   "execution_count": 12,
   "metadata": {},
   "outputs": [],
   "source": [
    "columnas_generadas = [\"apariciones_en_dia_{}_auctions\".format(dia) for dia in range(1,4)]\n",
    "features[\"cantidad_apariciones_por_dia\"] = (cantidad_apariciones_por_dia, columnas_generadas)"
   ]
  },
  {
   "cell_type": "markdown",
   "metadata": {},
   "source": [
    "---"
   ]
  },
  {
   "cell_type": "markdown",
   "metadata": {},
   "source": [
    "## Sistema operativo (Android / iOS)"
   ]
  },
  {
   "cell_type": "code",
   "execution_count": 13,
   "metadata": {},
   "outputs": [],
   "source": [
    "def cantidad_so_registrados(dataframe, nro_ventana):\n",
    "    return dataframe.groupby(\"device_id\").agg({\"ref_type_id\" : \"nunique\"}).rename(columns={\"ref_type_id\": \"cantidad_so_registrados_auctions\"})"
   ]
  },
  {
   "cell_type": "code",
   "execution_count": 14,
   "metadata": {},
   "outputs": [],
   "source": [
    "features[\"cantidad_so_registrados\"] = (cantidad_so_registrados, [\"cantidad_so_registrados_auctions\"])"
   ]
  },
  {
   "cell_type": "code",
   "execution_count": 15,
   "metadata": {},
   "outputs": [],
   "source": [
    "def sistema_operativo_principal(dataframe, nro_ventana):\n",
    "    return dataframe.groupby(\"device_id\").agg({\"ref_type_id\" : (lambda x: round(x.mean(), 0))}).rename(columns={\"ref_type_id\": \"so_mas_usado_auctions\"})"
   ]
  },
  {
   "cell_type": "code",
   "execution_count": 16,
   "metadata": {},
   "outputs": [],
   "source": [
    "features[\"sistema_operativo_principal\"] = (sistema_operativo_principal, [\"so_mas_usado_auctions\"])"
   ]
  },
  {
   "cell_type": "markdown",
   "metadata": {},
   "source": [
    "---"
   ]
  },
  {
   "cell_type": "markdown",
   "metadata": {},
   "source": [
    "## Tiempo medio entre apariciones"
   ]
  },
  {
   "cell_type": "code",
   "execution_count": 17,
   "metadata": {},
   "outputs": [],
   "source": [
    "def tiempo_medio_entre_apariciones(dataframe, nro_ventana):\n",
    "    return dataframe.groupby(\"device_id\").agg({\"date\" : (lambda x: (x.sub(x.shift()).mean().total_seconds()))}).rename(columns={\"date\": \"tiempo_medio_entre_apariciones_auctions\"})"
   ]
  },
  {
   "cell_type": "code",
   "execution_count": 18,
   "metadata": {},
   "outputs": [],
   "source": [
    "features[\"tiempo_medio_entre_apariciones\"] = (tiempo_medio_entre_apariciones, [\"tiempo_medio_entre_apariciones_auctions\"])"
   ]
  },
  {
   "cell_type": "markdown",
   "metadata": {},
   "source": [
    "---"
   ]
  },
  {
   "cell_type": "markdown",
   "metadata": {},
   "source": [
    "## Tiempo máximo entre apariciones"
   ]
  },
  {
   "cell_type": "code",
   "execution_count": 19,
   "metadata": {},
   "outputs": [],
   "source": [
    "def tiempo_maximo_entre_apariciones(dataframe, nro_ventana):\n",
    "    return dataframe.groupby(\"device_id\").agg({\"date\" : (lambda x: (x.sub(x.shift()).max().total_seconds()))}).rename(columns={\"date\": \"tiempo_maximo_entre_apariciones_auctions\"})"
   ]
  },
  {
   "cell_type": "code",
   "execution_count": 20,
   "metadata": {},
   "outputs": [],
   "source": [
    "features[\"tiempo_maximo_entre_apariciones\"] = (tiempo_maximo_entre_apariciones, [\"tiempo_maximo_entre_apariciones_auctions\"])"
   ]
  },
  {
   "cell_type": "markdown",
   "metadata": {},
   "source": [
    "---"
   ]
  },
  {
   "cell_type": "markdown",
   "metadata": {},
   "source": [
    "## Tiempo mínimo entre apariciones"
   ]
  },
  {
   "cell_type": "code",
   "execution_count": 21,
   "metadata": {},
   "outputs": [],
   "source": [
    "def tiempo_minimo_entre_apariciones(dataframe, nro_ventana):\n",
    "    return dataframe.groupby(\"device_id\").agg({\"date\" : (lambda x: (x.sub(x.shift()).min().total_seconds()))}).rename(columns={\"date\": \"tiempo_minimo_entre_apariciones_auctions\"})"
   ]
  },
  {
   "cell_type": "code",
   "execution_count": 22,
   "metadata": {},
   "outputs": [],
   "source": [
    "features[\"tiempo_minimo_entre_apariciones\"] = (tiempo_minimo_entre_apariciones, [\"tiempo_minimo_entre_apariciones_auctions\"])"
   ]
  },
  {
   "cell_type": "markdown",
   "metadata": {},
   "source": [
    "---"
   ]
  },
  {
   "cell_type": "markdown",
   "metadata": {},
   "source": [
    "## Cantidad de apariciones por fuente"
   ]
  },
  {
   "cell_type": "code",
   "execution_count": 23,
   "metadata": {},
   "outputs": [],
   "source": [
    "def cantidad_apariciones_segun_source(dataframe, nro_ventana):\n",
    "    feature = dataframe.groupby([\"device_id\", \"source_id\"])[\"date\"].agg(\"count\").to_frame().unstack().droplevel(level=0, axis=1)\n",
    "    for source in range(0, 10):\n",
    "        if source not in list(feature.columns.values):\n",
    "            feature.insert(source, source, 0)\n",
    "    feature.columns = [\"apariciones_en_source_{}_auctions\".format(x) for x in range(10)]\n",
    "    return feature"
   ]
  },
  {
   "cell_type": "code",
   "execution_count": 24,
   "metadata": {},
   "outputs": [],
   "source": [
    "columnas_generadas = [\"apariciones_en_source_{}_auctions\".format(x) for x in range(10)]\n",
    "features[\"cantidad_apariciones_segun_source\"] = (cantidad_apariciones_segun_source, columnas_generadas)"
   ]
  },
  {
   "cell_type": "markdown",
   "metadata": {},
   "source": [
    "---"
   ]
  },
  {
   "cell_type": "markdown",
   "metadata": {},
   "source": [
    "## Tiempo desde la última aparición hasta el fin de la ventana"
   ]
  },
  {
   "cell_type": "code",
   "execution_count": 25,
   "metadata": {},
   "outputs": [],
   "source": [
    "def tiempo_desde_ult_aparicion_hasta_fin_ventana(dataframe, nro_ventana):\n",
    "    return (np.datetime64(\"2019-04-2{}\".format(nro_ventana)) - dataframe.groupby(\"device_id\").agg({\"date\" : \"max\"})[\"date\"]).dt.total_seconds().to_frame().rename(columns={\"date\": \"tiempo_ultima_aparicion_hasta_fin_ventana_auctions\"})"
   ]
  },
  {
   "cell_type": "code",
   "execution_count": 26,
   "metadata": {},
   "outputs": [],
   "source": [
    "features[\"tiempo_desde_ult_aparicion_hasta_fin_ventana\"] = (tiempo_desde_ult_aparicion_hasta_fin_ventana, [\"tiempo_ultima_aparicion_hasta_fin_ventana_auctions\"])"
   ]
  },
  {
   "cell_type": "markdown",
   "metadata": {},
   "source": [
    "---"
   ]
  },
  {
   "cell_type": "markdown",
   "metadata": {},
   "source": [
    "## Tiempo desde la primera aparición hasta el fin de la ventana"
   ]
  },
  {
   "cell_type": "code",
   "execution_count": 27,
   "metadata": {},
   "outputs": [],
   "source": [
    "def tiempo_desde_prim_aparicion_hasta_fin_ventana(dataframe, nro_ventana):\n",
    "    return (np.datetime64(\"2019-04-2{}\".format(nro_ventana)) - dataframe.groupby(\"device_id\").agg({\"date\" : \"min\"})[\"date\"]).dt.total_seconds().to_frame().rename(columns={\"date\": \"tiempo_primera_aparicion_hasta_fin_ventana_auctions\"})"
   ]
  },
  {
   "cell_type": "code",
   "execution_count": 28,
   "metadata": {},
   "outputs": [],
   "source": [
    "features[\"tiempo_desde_prim_aparicion_hasta_fin_ventana\"] = (tiempo_desde_prim_aparicion_hasta_fin_ventana, [\"tiempo_primera_aparicion_hasta_fin_ventana_auctions\"])"
   ]
  },
  {
   "cell_type": "markdown",
   "metadata": {},
   "source": [
    "---"
   ]
  },
  {
   "cell_type": "code",
   "execution_count": 29,
   "metadata": {},
   "outputs": [],
   "source": [
    "def tiempo_medio_hasta_fin(grupo, nro_ventana):\n",
    "    fecha_fin_ventana = np.datetime64(\"2019-04-2{}\".format(nro_ventana))\n",
    "    fecha_minima = grupo[\"date\"].min()\n",
    "    delta = (grupo[\"date\"] - fecha_minima).mean()\n",
    "    return delta.total_seconds()\n",
    "\n",
    "def tiempo_desde_aparicion_media_hasta_fin_ventana(dataframe, nro_ventana):\n",
    "    return dataframe[[\"device_id\", \"date\"]].groupby(\"device_id\").agg(lambda x: tiempo_medio_hasta_fin(x, nro_ventana)) \\\n",
    "        .rename(columns={\"date\" : \"tiempo_aparicion_media_hasta_fin_ventana_auctions\"})\n"
   ]
  },
  {
   "cell_type": "code",
   "execution_count": 30,
   "metadata": {},
   "outputs": [],
   "source": [
    "features[\"tiempo_desde_aparicion_media_hasta_fin_ventana\"] = (tiempo_desde_aparicion_media_hasta_fin_ventana, [\"tiempo_aparicion_media_hasta_fin_ventana_auctions\"])"
   ]
  },
  {
   "cell_type": "markdown",
   "metadata": {},
   "source": [
    "---"
   ]
  },
  {
   "cell_type": "markdown",
   "metadata": {},
   "source": [
    "# Genero los features"
   ]
  },
  {
   "cell_type": "markdown",
   "metadata": {},
   "source": [
    "## Función generadora de features en ventanas"
   ]
  },
  {
   "cell_type": "code",
   "execution_count": 31,
   "metadata": {},
   "outputs": [],
   "source": [
    "def generar_feature_en_ventanas(dataframe, generador_feature, destinos, ventana_inicial, ventana_final):\n",
    "    \"\"\"El rango se toma como python, [ventana_inicial, ventana_final)\"\"\"\n",
    "    for ventana_nro in range(ventana_inicial, ventana_final):\n",
    "        feature = generador_feature(dataframe.loc[dataframe[\"ventana_{}\".format(ventana_nro)]], ventana_nro)\n",
    "        destinos[ventana_nro] = destinos[ventana_nro].merge(feature, left_index=True, right_index=True, how=\"left\")"
   ]
  },
  {
   "cell_type": "markdown",
   "metadata": {},
   "source": [
    "### Genero los features"
   ]
  },
  {
   "cell_type": "code",
   "execution_count": 34,
   "metadata": {},
   "outputs": [],
   "source": [
    "COLUMNAS_QUE_GENERA_EL_FEATURE = 1\n",
    "FUNCION_PARA_CALCULAR_EL_FEATURE = 0\n",
    "\n",
    "for nombre_feature in features:    \n",
    "    columnas_generadas = features[nombre_feature][COLUMNAS_QUE_GENERA_EL_FEATURE]\n",
    "    feature_ya_generado = False\n",
    "    for columna in columnas_generadas:\n",
    "        if columna in columnas_ya_generadas:\n",
    "            feature_ya_generado = True\n",
    "            break\n",
    "    \n",
    "    if feature_ya_generado:\n",
    "        continue\n",
    "\n",
    "    generar_feature_en_ventanas(auctions, features[nombre_feature][FUNCION_PARA_CALCULAR_EL_FEATURE], Xs, 1, 5)\n",
    "    generar_feature_en_ventanas(auctions_competencia, features[nombre_feature][FUNCION_PARA_CALCULAR_EL_FEATURE], Xs_predecir, 7, 8)    \n",
    "    columnas_ya_generadas.extend(features[nombre_feature][COLUMNAS_QUE_GENERA_EL_FEATURE])"
   ]
  },
  {
   "cell_type": "markdown",
   "metadata": {},
   "source": [
    "---"
   ]
  },
  {
   "cell_type": "markdown",
   "metadata": {},
   "source": [
    "# Guardado de los sets de entrenamiento y el set de prediccion"
   ]
  },
  {
   "cell_type": "code",
   "execution_count": null,
   "metadata": {},
   "outputs": [],
   "source": [
    "for ventana_nro in range(1, 5):\n",
    "    Xs[ventana_nro].to_csv(\"../../features/ventana_{}_entrenar_auctions.csv\".format(ventana_nro))\n",
    "\n",
    "Xs_predecir[7].to_csv(\"../../features/predecir_auctions.csv\")"
   ]
  },
  {
   "cell_type": "markdown",
   "metadata": {},
   "source": [
    "---"
   ]
  }
 ],
 "metadata": {
  "kernelspec": {
   "display_name": "Python 3",
   "language": "python",
   "name": "python3"
  },
  "language_info": {
   "codemirror_mode": {
    "name": "ipython",
    "version": 3
   },
   "file_extension": ".py",
   "mimetype": "text/x-python",
   "name": "python",
   "nbconvert_exporter": "python",
   "pygments_lexer": "ipython3",
   "version": "3.6.5"
  }
 },
 "nbformat": 4,
 "nbformat_minor": 2
}
