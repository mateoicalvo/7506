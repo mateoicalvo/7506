{
 "cells": [
  {
   "cell_type": "markdown",
   "metadata": {},
   "source": [
    "# Imports"
   ]
  },
  {
   "cell_type": "code",
   "execution_count": 1,
   "metadata": {},
   "outputs": [],
   "source": [
    "import pandas as pd\n",
    "import numpy as np"
   ]
  },
  {
   "cell_type": "markdown",
   "metadata": {},
   "source": [
    "---"
   ]
  },
  {
   "cell_type": "markdown",
   "metadata": {},
   "source": [
    "# Carga de datos"
   ]
  },
  {
   "cell_type": "code",
   "execution_count": 2,
   "metadata": {},
   "outputs": [],
   "source": [
    "auctions = pd.read_pickle(\"../../../../data/tp2/auctions_tp2_formateado.pkl\")"
   ]
  },
  {
   "cell_type": "markdown",
   "metadata": {},
   "source": [
    "---"
   ]
  },
  {
   "cell_type": "markdown",
   "metadata": {},
   "source": [
    "# Armado de ventanas"
   ]
  },
  {
   "cell_type": "code",
   "execution_count": 13,
   "metadata": {},
   "outputs": [],
   "source": [
    "for ventana_nro in range(1,6):\n",
    "    auctions[\"ventana_{}\".format(ventana_nro)] = (((17+ventana_nro) <= auctions[\"date\"].dt.day) & ((auctions[\"date\"].dt.day) <= (19+ventana_nro)))"
   ]
  },
  {
   "cell_type": "markdown",
   "metadata": {},
   "source": [
    "# Obtención del tiempo hasta aparición (\"objetivo\" o \"label\" o \"target\") para cada ventana de datos"
   ]
  },
  {
   "cell_type": "code",
   "execution_count": 15,
   "metadata": {},
   "outputs": [
    {
     "data": {
      "text/html": [
       "<div>\n",
       "<style scoped>\n",
       "    .dataframe tbody tr th:only-of-type {\n",
       "        vertical-align: middle;\n",
       "    }\n",
       "\n",
       "    .dataframe tbody tr th {\n",
       "        vertical-align: top;\n",
       "    }\n",
       "\n",
       "    .dataframe thead th {\n",
       "        text-align: right;\n",
       "    }\n",
       "</style>\n",
       "<table border=\"1\" class=\"dataframe\">\n",
       "  <thead>\n",
       "    <tr style=\"text-align: right;\">\n",
       "      <th></th>\n",
       "      <th>date</th>\n",
       "      <th>device_id</th>\n",
       "      <th>ref_type_id</th>\n",
       "      <th>source_id</th>\n",
       "      <th>ventana_1</th>\n",
       "      <th>ventana_2</th>\n",
       "      <th>ventana_3</th>\n",
       "      <th>ventana_4</th>\n",
       "      <th>ventana_5</th>\n",
       "    </tr>\n",
       "  </thead>\n",
       "  <tbody>\n",
       "    <tr>\n",
       "      <th>10129864</th>\n",
       "      <td>2019-04-18 00:00:00.015050</td>\n",
       "      <td>1826643666390887030</td>\n",
       "      <td>7</td>\n",
       "      <td>0</td>\n",
       "      <td>True</td>\n",
       "      <td>False</td>\n",
       "      <td>False</td>\n",
       "      <td>False</td>\n",
       "      <td>False</td>\n",
       "    </tr>\n",
       "    <tr>\n",
       "      <th>25285906</th>\n",
       "      <td>2019-04-18 00:00:00.029014</td>\n",
       "      <td>7037174172278258682</td>\n",
       "      <td>1</td>\n",
       "      <td>0</td>\n",
       "      <td>True</td>\n",
       "      <td>False</td>\n",
       "      <td>False</td>\n",
       "      <td>False</td>\n",
       "      <td>False</td>\n",
       "    </tr>\n",
       "    <tr>\n",
       "      <th>3946062</th>\n",
       "      <td>2019-04-18 00:00:00.057540</td>\n",
       "      <td>3392065368947589877</td>\n",
       "      <td>1</td>\n",
       "      <td>1</td>\n",
       "      <td>True</td>\n",
       "      <td>False</td>\n",
       "      <td>False</td>\n",
       "      <td>False</td>\n",
       "      <td>False</td>\n",
       "    </tr>\n",
       "    <tr>\n",
       "      <th>3946063</th>\n",
       "      <td>2019-04-18 00:00:00.126828</td>\n",
       "      <td>1228982273563226229</td>\n",
       "      <td>1</td>\n",
       "      <td>1</td>\n",
       "      <td>True</td>\n",
       "      <td>False</td>\n",
       "      <td>False</td>\n",
       "      <td>False</td>\n",
       "      <td>False</td>\n",
       "    </tr>\n",
       "    <tr>\n",
       "      <th>24607726</th>\n",
       "      <td>2019-04-18 00:00:00.132510</td>\n",
       "      <td>4123059034628125459</td>\n",
       "      <td>1</td>\n",
       "      <td>8</td>\n",
       "      <td>True</td>\n",
       "      <td>False</td>\n",
       "      <td>False</td>\n",
       "      <td>False</td>\n",
       "      <td>False</td>\n",
       "    </tr>\n",
       "    <tr>\n",
       "      <th>11820552</th>\n",
       "      <td>2019-04-18 00:00:00.154022</td>\n",
       "      <td>2544156497510885464</td>\n",
       "      <td>1</td>\n",
       "      <td>1</td>\n",
       "      <td>True</td>\n",
       "      <td>False</td>\n",
       "      <td>False</td>\n",
       "      <td>False</td>\n",
       "      <td>False</td>\n",
       "    </tr>\n",
       "    <tr>\n",
       "      <th>44538105</th>\n",
       "      <td>2019-04-18 00:00:00.167606</td>\n",
       "      <td>8523620031586497559</td>\n",
       "      <td>1</td>\n",
       "      <td>1</td>\n",
       "      <td>True</td>\n",
       "      <td>False</td>\n",
       "      <td>False</td>\n",
       "      <td>False</td>\n",
       "      <td>False</td>\n",
       "    </tr>\n",
       "    <tr>\n",
       "      <th>4953159</th>\n",
       "      <td>2019-04-18 00:00:00.176600</td>\n",
       "      <td>3926687473682441392</td>\n",
       "      <td>1</td>\n",
       "      <td>1</td>\n",
       "      <td>True</td>\n",
       "      <td>False</td>\n",
       "      <td>False</td>\n",
       "      <td>False</td>\n",
       "      <td>False</td>\n",
       "    </tr>\n",
       "    <tr>\n",
       "      <th>11812696</th>\n",
       "      <td>2019-04-18 00:00:00.191287</td>\n",
       "      <td>528082274254399315</td>\n",
       "      <td>1</td>\n",
       "      <td>1</td>\n",
       "      <td>True</td>\n",
       "      <td>False</td>\n",
       "      <td>False</td>\n",
       "      <td>False</td>\n",
       "      <td>False</td>\n",
       "    </tr>\n",
       "    <tr>\n",
       "      <th>11820553</th>\n",
       "      <td>2019-04-18 00:00:00.217645</td>\n",
       "      <td>8160556786289359332</td>\n",
       "      <td>7</td>\n",
       "      <td>1</td>\n",
       "      <td>True</td>\n",
       "      <td>False</td>\n",
       "      <td>False</td>\n",
       "      <td>False</td>\n",
       "      <td>False</td>\n",
       "    </tr>\n",
       "    <tr>\n",
       "      <th>47080629</th>\n",
       "      <td>2019-04-18 00:00:00.219200</td>\n",
       "      <td>2844535553398493162</td>\n",
       "      <td>1</td>\n",
       "      <td>1</td>\n",
       "      <td>True</td>\n",
       "      <td>False</td>\n",
       "      <td>False</td>\n",
       "      <td>False</td>\n",
       "      <td>False</td>\n",
       "    </tr>\n",
       "    <tr>\n",
       "      <th>44517641</th>\n",
       "      <td>2019-04-18 00:00:00.225600</td>\n",
       "      <td>1680272311925142702</td>\n",
       "      <td>1</td>\n",
       "      <td>1</td>\n",
       "      <td>True</td>\n",
       "      <td>False</td>\n",
       "      <td>False</td>\n",
       "      <td>False</td>\n",
       "      <td>False</td>\n",
       "    </tr>\n",
       "    <tr>\n",
       "      <th>44538106</th>\n",
       "      <td>2019-04-18 00:00:00.231719</td>\n",
       "      <td>7508214929604895080</td>\n",
       "      <td>1</td>\n",
       "      <td>1</td>\n",
       "      <td>True</td>\n",
       "      <td>False</td>\n",
       "      <td>False</td>\n",
       "      <td>False</td>\n",
       "      <td>False</td>\n",
       "    </tr>\n",
       "    <tr>\n",
       "      <th>3434618</th>\n",
       "      <td>2019-04-18 00:00:00.233441</td>\n",
       "      <td>3926237048471091695</td>\n",
       "      <td>1</td>\n",
       "      <td>1</td>\n",
       "      <td>True</td>\n",
       "      <td>False</td>\n",
       "      <td>False</td>\n",
       "      <td>False</td>\n",
       "      <td>False</td>\n",
       "    </tr>\n",
       "    <tr>\n",
       "      <th>44514683</th>\n",
       "      <td>2019-04-18 00:00:00.241021</td>\n",
       "      <td>5802277733017057132</td>\n",
       "      <td>1</td>\n",
       "      <td>1</td>\n",
       "      <td>True</td>\n",
       "      <td>False</td>\n",
       "      <td>False</td>\n",
       "      <td>False</td>\n",
       "      <td>False</td>\n",
       "    </tr>\n",
       "    <tr>\n",
       "      <th>44514684</th>\n",
       "      <td>2019-04-18 00:00:00.259283</td>\n",
       "      <td>3651814472131322640</td>\n",
       "      <td>1</td>\n",
       "      <td>1</td>\n",
       "      <td>True</td>\n",
       "      <td>False</td>\n",
       "      <td>False</td>\n",
       "      <td>False</td>\n",
       "      <td>False</td>\n",
       "    </tr>\n",
       "    <tr>\n",
       "      <th>44504337</th>\n",
       "      <td>2019-04-18 00:00:00.292937</td>\n",
       "      <td>3965552861693715909</td>\n",
       "      <td>1</td>\n",
       "      <td>1</td>\n",
       "      <td>True</td>\n",
       "      <td>False</td>\n",
       "      <td>False</td>\n",
       "      <td>False</td>\n",
       "      <td>False</td>\n",
       "    </tr>\n",
       "    <tr>\n",
       "      <th>16344775</th>\n",
       "      <td>2019-04-18 00:00:00.294466</td>\n",
       "      <td>3070948202665858642</td>\n",
       "      <td>1</td>\n",
       "      <td>0</td>\n",
       "      <td>True</td>\n",
       "      <td>False</td>\n",
       "      <td>False</td>\n",
       "      <td>False</td>\n",
       "      <td>False</td>\n",
       "    </tr>\n",
       "    <tr>\n",
       "      <th>10129865</th>\n",
       "      <td>2019-04-18 00:00:00.299745</td>\n",
       "      <td>9087325953285418021</td>\n",
       "      <td>7</td>\n",
       "      <td>0</td>\n",
       "      <td>True</td>\n",
       "      <td>False</td>\n",
       "      <td>False</td>\n",
       "      <td>False</td>\n",
       "      <td>False</td>\n",
       "    </tr>\n",
       "    <tr>\n",
       "      <th>16188706</th>\n",
       "      <td>2019-04-18 00:00:00.306234</td>\n",
       "      <td>1819974464797805789</td>\n",
       "      <td>1</td>\n",
       "      <td>3</td>\n",
       "      <td>True</td>\n",
       "      <td>False</td>\n",
       "      <td>False</td>\n",
       "      <td>False</td>\n",
       "      <td>False</td>\n",
       "    </tr>\n",
       "    <tr>\n",
       "      <th>44538107</th>\n",
       "      <td>2019-04-18 00:00:00.309708</td>\n",
       "      <td>5910141895954932407</td>\n",
       "      <td>1</td>\n",
       "      <td>1</td>\n",
       "      <td>True</td>\n",
       "      <td>False</td>\n",
       "      <td>False</td>\n",
       "      <td>False</td>\n",
       "      <td>False</td>\n",
       "    </tr>\n",
       "    <tr>\n",
       "      <th>20481863</th>\n",
       "      <td>2019-04-18 00:00:00.319542</td>\n",
       "      <td>3504225602898030913</td>\n",
       "      <td>1</td>\n",
       "      <td>0</td>\n",
       "      <td>True</td>\n",
       "      <td>False</td>\n",
       "      <td>False</td>\n",
       "      <td>False</td>\n",
       "      <td>False</td>\n",
       "    </tr>\n",
       "    <tr>\n",
       "      <th>16344776</th>\n",
       "      <td>2019-04-18 00:00:00.358183</td>\n",
       "      <td>7181749374516241024</td>\n",
       "      <td>1</td>\n",
       "      <td>0</td>\n",
       "      <td>True</td>\n",
       "      <td>False</td>\n",
       "      <td>False</td>\n",
       "      <td>False</td>\n",
       "      <td>False</td>\n",
       "    </tr>\n",
       "    <tr>\n",
       "      <th>16735299</th>\n",
       "      <td>2019-04-18 00:00:00.358382</td>\n",
       "      <td>2053845849512280922</td>\n",
       "      <td>1</td>\n",
       "      <td>3</td>\n",
       "      <td>True</td>\n",
       "      <td>False</td>\n",
       "      <td>False</td>\n",
       "      <td>False</td>\n",
       "      <td>False</td>\n",
       "    </tr>\n",
       "    <tr>\n",
       "      <th>11798280</th>\n",
       "      <td>2019-04-18 00:00:00.363428</td>\n",
       "      <td>1680272311925142702</td>\n",
       "      <td>1</td>\n",
       "      <td>1</td>\n",
       "      <td>True</td>\n",
       "      <td>False</td>\n",
       "      <td>False</td>\n",
       "      <td>False</td>\n",
       "      <td>False</td>\n",
       "    </tr>\n",
       "    <tr>\n",
       "      <th>44538108</th>\n",
       "      <td>2019-04-18 00:00:00.370859</td>\n",
       "      <td>7081017498081781688</td>\n",
       "      <td>1</td>\n",
       "      <td>1</td>\n",
       "      <td>True</td>\n",
       "      <td>False</td>\n",
       "      <td>False</td>\n",
       "      <td>False</td>\n",
       "      <td>False</td>\n",
       "    </tr>\n",
       "    <tr>\n",
       "      <th>11820554</th>\n",
       "      <td>2019-04-18 00:00:00.401008</td>\n",
       "      <td>1975258604300455696</td>\n",
       "      <td>1</td>\n",
       "      <td>1</td>\n",
       "      <td>True</td>\n",
       "      <td>False</td>\n",
       "      <td>False</td>\n",
       "      <td>False</td>\n",
       "      <td>False</td>\n",
       "    </tr>\n",
       "    <tr>\n",
       "      <th>20466501</th>\n",
       "      <td>2019-04-18 00:00:00.407880</td>\n",
       "      <td>3927392842794041835</td>\n",
       "      <td>1</td>\n",
       "      <td>1</td>\n",
       "      <td>True</td>\n",
       "      <td>False</td>\n",
       "      <td>False</td>\n",
       "      <td>False</td>\n",
       "      <td>False</td>\n",
       "    </tr>\n",
       "    <tr>\n",
       "      <th>14055018</th>\n",
       "      <td>2019-04-18 00:00:00.425057</td>\n",
       "      <td>948724940316135935</td>\n",
       "      <td>1</td>\n",
       "      <td>1</td>\n",
       "      <td>True</td>\n",
       "      <td>False</td>\n",
       "      <td>False</td>\n",
       "      <td>False</td>\n",
       "      <td>False</td>\n",
       "    </tr>\n",
       "    <tr>\n",
       "      <th>44517642</th>\n",
       "      <td>2019-04-18 00:00:00.448385</td>\n",
       "      <td>779018991292742788</td>\n",
       "      <td>1</td>\n",
       "      <td>1</td>\n",
       "      <td>True</td>\n",
       "      <td>False</td>\n",
       "      <td>False</td>\n",
       "      <td>False</td>\n",
       "      <td>False</td>\n",
       "    </tr>\n",
       "  </tbody>\n",
       "</table>\n",
       "</div>"
      ],
      "text/plain": [
       "                               date            device_id  ref_type_id  \\\n",
       "10129864 2019-04-18 00:00:00.015050  1826643666390887030            7   \n",
       "25285906 2019-04-18 00:00:00.029014  7037174172278258682            1   \n",
       "3946062  2019-04-18 00:00:00.057540  3392065368947589877            1   \n",
       "3946063  2019-04-18 00:00:00.126828  1228982273563226229            1   \n",
       "24607726 2019-04-18 00:00:00.132510  4123059034628125459            1   \n",
       "11820552 2019-04-18 00:00:00.154022  2544156497510885464            1   \n",
       "44538105 2019-04-18 00:00:00.167606  8523620031586497559            1   \n",
       "4953159  2019-04-18 00:00:00.176600  3926687473682441392            1   \n",
       "11812696 2019-04-18 00:00:00.191287   528082274254399315            1   \n",
       "11820553 2019-04-18 00:00:00.217645  8160556786289359332            7   \n",
       "47080629 2019-04-18 00:00:00.219200  2844535553398493162            1   \n",
       "44517641 2019-04-18 00:00:00.225600  1680272311925142702            1   \n",
       "44538106 2019-04-18 00:00:00.231719  7508214929604895080            1   \n",
       "3434618  2019-04-18 00:00:00.233441  3926237048471091695            1   \n",
       "44514683 2019-04-18 00:00:00.241021  5802277733017057132            1   \n",
       "44514684 2019-04-18 00:00:00.259283  3651814472131322640            1   \n",
       "44504337 2019-04-18 00:00:00.292937  3965552861693715909            1   \n",
       "16344775 2019-04-18 00:00:00.294466  3070948202665858642            1   \n",
       "10129865 2019-04-18 00:00:00.299745  9087325953285418021            7   \n",
       "16188706 2019-04-18 00:00:00.306234  1819974464797805789            1   \n",
       "44538107 2019-04-18 00:00:00.309708  5910141895954932407            1   \n",
       "20481863 2019-04-18 00:00:00.319542  3504225602898030913            1   \n",
       "16344776 2019-04-18 00:00:00.358183  7181749374516241024            1   \n",
       "16735299 2019-04-18 00:00:00.358382  2053845849512280922            1   \n",
       "11798280 2019-04-18 00:00:00.363428  1680272311925142702            1   \n",
       "44538108 2019-04-18 00:00:00.370859  7081017498081781688            1   \n",
       "11820554 2019-04-18 00:00:00.401008  1975258604300455696            1   \n",
       "20466501 2019-04-18 00:00:00.407880  3927392842794041835            1   \n",
       "14055018 2019-04-18 00:00:00.425057   948724940316135935            1   \n",
       "44517642 2019-04-18 00:00:00.448385   779018991292742788            1   \n",
       "\n",
       "          source_id  ventana_1  ventana_2  ventana_3  ventana_4  ventana_5  \n",
       "10129864          0       True      False      False      False      False  \n",
       "25285906          0       True      False      False      False      False  \n",
       "3946062           1       True      False      False      False      False  \n",
       "3946063           1       True      False      False      False      False  \n",
       "24607726          8       True      False      False      False      False  \n",
       "11820552          1       True      False      False      False      False  \n",
       "44538105          1       True      False      False      False      False  \n",
       "4953159           1       True      False      False      False      False  \n",
       "11812696          1       True      False      False      False      False  \n",
       "11820553          1       True      False      False      False      False  \n",
       "47080629          1       True      False      False      False      False  \n",
       "44517641          1       True      False      False      False      False  \n",
       "44538106          1       True      False      False      False      False  \n",
       "3434618           1       True      False      False      False      False  \n",
       "44514683          1       True      False      False      False      False  \n",
       "44514684          1       True      False      False      False      False  \n",
       "44504337          1       True      False      False      False      False  \n",
       "16344775          0       True      False      False      False      False  \n",
       "10129865          0       True      False      False      False      False  \n",
       "16188706          3       True      False      False      False      False  \n",
       "44538107          1       True      False      False      False      False  \n",
       "20481863          0       True      False      False      False      False  \n",
       "16344776          0       True      False      False      False      False  \n",
       "16735299          3       True      False      False      False      False  \n",
       "11798280          1       True      False      False      False      False  \n",
       "44538108          1       True      False      False      False      False  \n",
       "11820554          1       True      False      False      False      False  \n",
       "20466501          1       True      False      False      False      False  \n",
       "14055018          1       True      False      False      False      False  \n",
       "44517642          1       True      False      False      False      False  "
      ]
     },
     "execution_count": 15,
     "metadata": {},
     "output_type": "execute_result"
    }
   ],
   "source": [
    "auctions.head(30)"
   ]
  },
  {
   "cell_type": "code",
   "execution_count": 12,
   "metadata": {},
   "outputs": [],
   "source": [
    "Xs = []\n",
    "for x in range(5):\n",
    "    Xs.append((auctions.loc[((21+x) <= auctions[\"date\"].dt.day) & (auctions[\"date\"].dt.day <= (23+x))]))\n",
    "    "
   ]
  },
  {
   "cell_type": "code",
   "execution_count": 8,
   "metadata": {},
   "outputs": [],
   "source": [
    "for x in Xs:\n",
    "    x.set_index(\"device_id\", inplace=True)"
   ]
  },
  {
   "cell_type": "code",
   "execution_count": 21,
   "metadata": {},
   "outputs": [
    {
     "data": {
      "text/plain": [
       "243.04061889648438"
      ]
     },
     "execution_count": 21,
     "metadata": {},
     "output_type": "execute_result"
    }
   ],
   "source": [
    "Xs[0][\"device_id\"].memory_usage(deep=True) / 1024**2"
   ]
  },
  {
   "cell_type": "code",
   "execution_count": 22,
   "metadata": {},
   "outputs": [
    {
     "data": {
      "text/plain": [
       "1215"
      ]
     },
     "execution_count": 22,
     "metadata": {},
     "output_type": "execute_result"
    }
   ],
   "source": [
    "243*5"
   ]
  },
  {
   "cell_type": "markdown",
   "metadata": {},
   "source": [
    "---"
   ]
  },
  {
   "cell_type": "markdown",
   "metadata": {},
   "source": [
    "# Features"
   ]
  },
  {
   "cell_type": "markdown",
   "metadata": {},
   "source": [
    "### Cantidad de apariciones en subastas"
   ]
  },
  {
   "cell_type": "code",
   "execution_count": 111,
   "metadata": {},
   "outputs": [],
   "source": [
    "for i in range(5):\n",
    "    apariciones_i = ventanas[i].groupby(\"device_id\").agg({\"date\" : \"count\"})\n",
    "    apariciones_i.columns = [\"n_apariciones\"]\n",
    "    Xs[i] = Xs[i].join(apariciones_i, how=\"inner\")"
   ]
  },
  {
   "cell_type": "markdown",
   "metadata": {},
   "source": [
    "---"
   ]
  },
  {
   "cell_type": "markdown",
   "metadata": {},
   "source": [
    "## Entrenamiento: [18/4 , 20/4] ; Target: [21/4 , 23/4]"
   ]
  },
  {
   "cell_type": "markdown",
   "metadata": {},
   "source": [
    "---"
   ]
  },
  {
   "cell_type": "markdown",
   "metadata": {},
   "source": [
    "## Entrenamiento: [19/4 , 21/4] ; Target: [22/4 , 24/4]"
   ]
  },
  {
   "cell_type": "markdown",
   "metadata": {},
   "source": [
    "---"
   ]
  },
  {
   "cell_type": "markdown",
   "metadata": {},
   "source": [
    "## Entrenamiento: [20/4 , 22/4] ; Target: [23/4 , 25/4]"
   ]
  },
  {
   "cell_type": "markdown",
   "metadata": {},
   "source": [
    "---"
   ]
  },
  {
   "cell_type": "markdown",
   "metadata": {},
   "source": [
    "## Entrenamiento: [21/4 , 23/4] ; Target: [24/4 , 26/4]"
   ]
  },
  {
   "cell_type": "markdown",
   "metadata": {},
   "source": [
    "---"
   ]
  },
  {
   "cell_type": "markdown",
   "metadata": {},
   "source": [
    "## Entrenamiento: [22/4 , 24/4] ; Target: [25/4 , 27/4]"
   ]
  },
  {
   "cell_type": "markdown",
   "metadata": {},
   "source": [
    "---"
   ]
  }
 ],
 "metadata": {
  "kernelspec": {
   "display_name": "Python 3",
   "language": "python",
   "name": "python3"
  },
  "language_info": {
   "codemirror_mode": {
    "name": "ipython",
    "version": 3
   },
   "file_extension": ".py",
   "mimetype": "text/x-python",
   "name": "python",
   "nbconvert_exporter": "python",
   "pygments_lexer": "ipython3",
   "version": "3.6.5"
  }
 },
 "nbformat": 4,
 "nbformat_minor": 2
}
