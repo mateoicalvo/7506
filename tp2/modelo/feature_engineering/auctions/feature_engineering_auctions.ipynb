{
 "cells": [
  {
   "cell_type": "markdown",
   "metadata": {},
   "source": [
    "# Imports"
   ]
  },
  {
   "cell_type": "code",
   "execution_count": 1,
   "metadata": {},
   "outputs": [],
   "source": [
    "import pandas as pd\n",
    "import numpy as np"
   ]
  },
  {
   "cell_type": "markdown",
   "metadata": {},
   "source": [
    "---"
   ]
  },
  {
   "cell_type": "markdown",
   "metadata": {},
   "source": [
    "# Carga de datos"
   ]
  },
  {
   "cell_type": "code",
   "execution_count": 2,
   "metadata": {},
   "outputs": [],
   "source": [
    "auctions = pd.read_pickle(\"../../../../data/tp2/auctions_tp2_formateado.pkl\")"
   ]
  },
  {
   "cell_type": "code",
   "execution_count": 3,
   "metadata": {},
   "outputs": [],
   "source": [
    "targets_competencia = pd.read_pickle(\"../../../../data/tp2/ref_hashes_target.pkl\")"
   ]
  },
  {
   "cell_type": "markdown",
   "metadata": {},
   "source": [
    "---"
   ]
  },
  {
   "cell_type": "markdown",
   "metadata": {},
   "source": [
    "# Etiquetas temporales"
   ]
  },
  {
   "cell_type": "code",
   "execution_count": 4,
   "metadata": {},
   "outputs": [],
   "source": [
    "auctions['hora'] = auctions['date'].dt.hour\n",
    "auctions['dia'] = auctions['date'].dt.day\n",
    "auctions['dia_de_la_semana'] = auctions['date'].dt.dayofweek"
   ]
  },
  {
   "cell_type": "markdown",
   "metadata": {},
   "source": [
    "---"
   ]
  },
  {
   "cell_type": "markdown",
   "metadata": {},
   "source": [
    "# Armado de ventanas"
   ]
  },
  {
   "cell_type": "code",
   "execution_count": 5,
   "metadata": {},
   "outputs": [],
   "source": [
    "for ventana_nro in range(1,8):\n",
    "    auctions[\"ventana_{}\".format(ventana_nro)] = (((17+ventana_nro) <= auctions[\"date\"].dt.day) & ((auctions[\"date\"].dt.day) <= (19+ventana_nro)))"
   ]
  },
  {
   "cell_type": "markdown",
   "metadata": {},
   "source": [
    "---"
   ]
  },
  {
   "cell_type": "markdown",
   "metadata": {},
   "source": [
    "# Armado de ventanas especiales"
   ]
  },
  {
   "cell_type": "code",
   "execution_count": 6,
   "metadata": {},
   "outputs": [],
   "source": [
    "auctions[\"ventana_especial_1\"] = (((18) <= auctions[\"date\"].dt.day) & ((auctions[\"date\"].dt.day) <= (23)))\n",
    "auctions[\"ventana_especial_2\"] = (((19) <= auctions[\"date\"].dt.day) & ((auctions[\"date\"].dt.day) <= (23)))\n",
    "auctions[\"ventana_especial_3\"] = (((20) <= auctions[\"date\"].dt.day) & ((auctions[\"date\"].dt.day) <= (23)))\n",
    "\n",
    "auctions[\"ventana_especial_4\"] = (((21) <= auctions[\"date\"].dt.day) & ((auctions[\"date\"].dt.day) <= (26)))\n",
    "auctions[\"ventana_especial_5\"] = (((22) <= auctions[\"date\"].dt.day) & ((auctions[\"date\"].dt.day) <= (26)))\n",
    "auctions[\"ventana_especial_6\"] = (((23) <= auctions[\"date\"].dt.day) & ((auctions[\"date\"].dt.day) <= (26)))"
   ]
  },
  {
   "cell_type": "markdown",
   "metadata": {},
   "source": [
    "---"
   ]
  },
  {
   "cell_type": "markdown",
   "metadata": {},
   "source": [
    "### De auctions, me quedo con sólo datos que correspondan a la competencia"
   ]
  },
  {
   "cell_type": "code",
   "execution_count": 7,
   "metadata": {},
   "outputs": [],
   "source": [
    "auctions_competencia = auctions.loc[auctions[\"device_id\"].isin(targets_competencia.index)]"
   ]
  },
  {
   "cell_type": "markdown",
   "metadata": {},
   "source": [
    "### De auctions, me quedo sólo con dispositivos que no estén en la ventana en la que hay que hacer predicciones"
   ]
  },
  {
   "cell_type": "code",
   "execution_count": 8,
   "metadata": {},
   "outputs": [],
   "source": [
    "auctions_no_estan_en_v7 = auctions.loc[~(auctions[\"device_id\"].isin(auctions.loc[auctions[\"ventana_7\"]][\"device_id\"]))]"
   ]
  },
  {
   "cell_type": "markdown",
   "metadata": {},
   "source": [
    "### De los dispositivos de la competencia, obtengo aquellos que no están en la ventana en la que hay que hacer predicciones"
   ]
  },
  {
   "cell_type": "code",
   "execution_count": 9,
   "metadata": {},
   "outputs": [],
   "source": [
    "competencia_no_estan_en_la_ultima_ventana = targets_competencia.loc[targets_competencia.index.isin(auctions_no_estan_en_v7[\"device_id\"])]"
   ]
  },
  {
   "cell_type": "code",
   "execution_count": 10,
   "metadata": {},
   "outputs": [],
   "source": [
    "auctions_no_estan_en_v7_competencia = auctions_no_estan_en_v7.loc[auctions_no_estan_en_v7[\"device_id\"].isin(competencia_no_estan_en_la_ultima_ventana.index)]"
   ]
  },
  {
   "cell_type": "markdown",
   "metadata": {},
   "source": [
    "---"
   ]
  },
  {
   "cell_type": "markdown",
   "metadata": {},
   "source": [
    "# Creación de features"
   ]
  },
  {
   "cell_type": "markdown",
   "metadata": {},
   "source": [
    "## Creación de sets de entrenamiento"
   ]
  },
  {
   "cell_type": "code",
   "execution_count": 11,
   "metadata": {},
   "outputs": [],
   "source": [
    "# Ventanas de tres dias\n",
    "Xs = {}\n",
    "for ventana_nro in range(1,5):\n",
    "    Xs[ventana_nro] = auctions.loc[auctions[\"ventana_{}\".format(ventana_nro)]][\"device_id\"].drop_duplicates().to_frame().set_index(\"device_id\").copy()\n",
    "    \n",
    "# Ventanas especiales\n",
    "Xs_especiales = {}\n",
    "for ventana_nro in range(1,4):\n",
    "    Xs_especiales[ventana_nro] = auctions_no_estan_en_v7.loc[auctions_no_estan_en_v7[\"ventana_especial_{}\".format(ventana_nro)]][\"device_id\"].drop_duplicates().to_frame().set_index(\"device_id\").copy()"
   ]
  },
  {
   "cell_type": "markdown",
   "metadata": {},
   "source": [
    "## Creación de sets que se usarán para predecir"
   ]
  },
  {
   "cell_type": "code",
   "execution_count": 12,
   "metadata": {},
   "outputs": [],
   "source": [
    "# Ventanas de tres dias\n",
    "Xs_predecir = {}\n",
    "for ventana_nro in range(4,8):\n",
    "    Xs_predecir[ventana_nro] = auctions_competencia.loc[auctions_competencia[\"ventana_{}\".format(ventana_nro)]][\"device_id\"].drop_duplicates().to_frame().set_index(\"device_id\").copy()\n",
    "\n",
    "# Ventanas especiales\n",
    "Xs_predecir_especiales = {}\n",
    "for ventana_nro in range(4,7):\n",
    "    Xs_predecir_especiales[ventana_nro] = auctions_no_estan_en_v7_competencia.loc[auctions_no_estan_en_v7_competencia[\"ventana_especial_{}\".format(ventana_nro)]][\"device_id\"].drop_duplicates().to_frame().set_index(\"device_id\").copy()"
   ]
  },
  {
   "cell_type": "markdown",
   "metadata": {},
   "source": [
    "---"
   ]
  },
  {
   "cell_type": "markdown",
   "metadata": {},
   "source": [
    "## Función generadora de features en ventanas"
   ]
  },
  {
   "cell_type": "code",
   "execution_count": 13,
   "metadata": {},
   "outputs": [],
   "source": [
    "def generar_feature_en_ventanas(dataframe, generador_feature, destinos, ventana_inicial, ventana_final, especial=False):\n",
    "    \"\"\"El rango se toma como en python, [)\"\"\"\n",
    "    if especial is True:\n",
    "        for ventana_nro in range(ventana_inicial, ventana_final):\n",
    "            feature = generador_feature(dataframe.loc[dataframe[\"ventana_especial_{}\".format(ventana_nro)]], ventana_nro)\n",
    "            destinos[ventana_nro] = destinos[ventana_nro].merge(feature, left_index=True, right_index=True)\n",
    "    \n",
    "    else:\n",
    "        for ventana_nro in range(ventana_inicial, ventana_final):\n",
    "            feature = generador_feature(dataframe.loc[dataframe[\"ventana_{}\".format(ventana_nro)]], ventana_nro)\n",
    "            destinos[ventana_nro] = destinos[ventana_nro].merge(feature, left_index=True, right_index=True)"
   ]
  },
  {
   "cell_type": "markdown",
   "metadata": {},
   "source": [
    "---"
   ]
  },
  {
   "cell_type": "markdown",
   "metadata": {},
   "source": [
    "## Cantidad de apariciones en subastas dentro de la ventana"
   ]
  },
  {
   "cell_type": "code",
   "execution_count": 14,
   "metadata": {},
   "outputs": [],
   "source": [
    "def cantidad_apariciones_en_subastas(dataframe, nro_ventana):\n",
    "    return dataframe.groupby(\"device_id\").agg({\"date\" : \"count\"}).rename(columns={\"date\": \"cantidad_apariciones_en_subastas_ventana\"})"
   ]
  },
  {
   "cell_type": "code",
   "execution_count": 15,
   "metadata": {},
   "outputs": [],
   "source": [
    "generar_feature_en_ventanas(auctions, cantidad_apariciones_en_subastas, Xs, 1, 5)\n",
    "generar_feature_en_ventanas(auctions_no_estan_en_v7, cantidad_apariciones_en_subastas, Xs_especiales, 1, 4, especial=True)"
   ]
  },
  {
   "cell_type": "code",
   "execution_count": 16,
   "metadata": {},
   "outputs": [],
   "source": [
    "generar_feature_en_ventanas(auctions_competencia, cantidad_apariciones_en_subastas, Xs_predecir, 4, 8)\n",
    "generar_feature_en_ventanas(auctions_no_estan_en_v7_competencia, cantidad_apariciones_en_subastas, Xs_predecir_especiales, 4, 7, especial=True)"
   ]
  },
  {
   "cell_type": "markdown",
   "metadata": {},
   "source": [
    "---"
   ]
  },
  {
   "cell_type": "markdown",
   "metadata": {},
   "source": [
    "## Cantidad de apariciones discriminando períodos"
   ]
  },
  {
   "cell_type": "code",
   "execution_count": 17,
   "metadata": {},
   "outputs": [],
   "source": [
    "def cantidad_apariciones_por_hora(dataframe, nro_ventana):\n",
    "    apariciones_por_hora = dataframe.groupby([\"device_id\", \"hora\"]).agg(({\"date\" : \"count\"}))\n",
    "    apariciones_por_hora = apariciones_por_hora.unstack().droplevel(level=0, axis=1)\n",
    "    for hora in range(0, 24):\n",
    "        if hora not in list(apariciones_por_hora.columns.values):\n",
    "            apariciones_por_hora.insert(hora, hora, 0)\n",
    "    apariciones_por_hora.columns = [\"apariciones_en_subastas_en_hora_{}\".format(hora) for hora in range(0,24)]\n",
    "    return apariciones_por_hora"
   ]
  },
  {
   "cell_type": "code",
   "execution_count": 18,
   "metadata": {},
   "outputs": [],
   "source": [
    "generar_feature_en_ventanas(auctions, cantidad_apariciones_por_hora, Xs, 1, 5)\n",
    "generar_feature_en_ventanas(auctions_no_estan_en_v7, cantidad_apariciones_por_hora, Xs_especiales, 1, 4, especial=True)"
   ]
  },
  {
   "cell_type": "code",
   "execution_count": 19,
   "metadata": {},
   "outputs": [],
   "source": [
    "generar_feature_en_ventanas(auctions_competencia, cantidad_apariciones_por_hora, Xs_predecir, 4, 8)\n",
    "generar_feature_en_ventanas(auctions_no_estan_en_v7_competencia, cantidad_apariciones_por_hora, Xs_predecir_especiales, 4, 7, especial=True)"
   ]
  },
  {
   "cell_type": "markdown",
   "metadata": {},
   "source": [
    "# No anda por inconsistencias"
   ]
  },
  {
   "cell_type": "code",
   "execution_count": 18,
   "metadata": {},
   "outputs": [],
   "source": [
    "def cantidad_apariciones_por_dia(dataframe, nro_ventana):\n",
    "    dias = dataframe[\"dia\"].drop_duplicates\n",
    "    apariciones_por_dia = dataframe.groupby([\"device_id\", \"dia\"]).agg(({\"date\" : \"count\"}))\n",
    "    apariciones_por_dia = apariciones_por_dia.unstack().droplevel(level=0, axis=1)\n",
    "    for dia in range(1, len(apariciones_por_dia.columns) + 1):\n",
    "        if dia not in list(apariciones_por_dia.columns.values):\n",
    "            apariciones_por_dia.insert(dia, dia, 0)\n",
    "    apariciones_por_dia.columns = [\"apariciones_en_subastas_dia_{}\".format(dia) for dia in range(1,len(apariciones_por_dia.columns) + 1)]\n",
    "    return apariciones_por_dia"
   ]
  },
  {
   "cell_type": "code",
   "execution_count": 19,
   "metadata": {},
   "outputs": [],
   "source": [
    "generar_feature_en_ventanas(auctions, cantidad_apariciones_por_dia, Xs, 1, 5)\n",
    "generar_feature_en_ventanas(auctions_no_estan_en_v7, cantidad_apariciones_por_dia, Xs_especiales, 1, 4, especial=True)"
   ]
  },
  {
   "cell_type": "code",
   "execution_count": 32,
   "metadata": {},
   "outputs": [],
   "source": [
    "generar_feature_en_ventanas(auctions_competencia, cantidad_apariciones_por_dia, Xs_predecir, 4, 8)\n",
    "generar_feature_en_ventanas(auctions_no_estan_en_v7_competencia, cantidad_apariciones_por_dia, Xs_predecir_especiales, 4, 7, especial=True)"
   ]
  },
  {
   "cell_type": "markdown",
   "metadata": {},
   "source": [
    "---"
   ]
  },
  {
   "cell_type": "markdown",
   "metadata": {},
   "source": [
    "## Sistema operativo (Android / iOS)"
   ]
  },
  {
   "cell_type": "code",
   "execution_count": 20,
   "metadata": {},
   "outputs": [],
   "source": [
    "def cantidad_so_registrados(dataframe, nro_ventana):\n",
    "    return dataframe.groupby(\"device_id\").agg({\"ref_type_id\" : \"nunique\"}).rename(columns={\"ref_type_id\": \"cantidad_so_registrados_en_auctions\"})"
   ]
  },
  {
   "cell_type": "code",
   "execution_count": 21,
   "metadata": {},
   "outputs": [],
   "source": [
    "generar_feature_en_ventanas(auctions, cantidad_so_registrados, Xs, 1, 5)\n",
    "generar_feature_en_ventanas(auctions_no_estan_en_v7, cantidad_so_registrados, Xs_especiales, 1, 4, especial=True)"
   ]
  },
  {
   "cell_type": "code",
   "execution_count": 22,
   "metadata": {},
   "outputs": [],
   "source": [
    "generar_feature_en_ventanas(auctions_competencia, cantidad_so_registrados, Xs_predecir, 4, 8)\n",
    "generar_feature_en_ventanas(auctions_no_estan_en_v7_competencia, cantidad_so_registrados, Xs_predecir_especiales, 4, 7, especial=True)"
   ]
  },
  {
   "cell_type": "code",
   "execution_count": 23,
   "metadata": {},
   "outputs": [],
   "source": [
    "def sistema_operativo_principal(dataframe, nro_ventana):\n",
    "    return dataframe.groupby(\"device_id\").agg({\"ref_type_id\" : (lambda x: round(x.mean(), 0))}).rename(columns={\"ref_type_id\": \"so_mas_usado_auctions\"})"
   ]
  },
  {
   "cell_type": "code",
   "execution_count": 24,
   "metadata": {},
   "outputs": [],
   "source": [
    "generar_feature_en_ventanas(auctions, sistema_operativo_principal, Xs, 1, 5)\n",
    "generar_feature_en_ventanas(auctions_no_estan_en_v7, sistema_operativo_principal, Xs_especiales, 1, 4, especial=True)"
   ]
  },
  {
   "cell_type": "code",
   "execution_count": 25,
   "metadata": {},
   "outputs": [],
   "source": [
    "generar_feature_en_ventanas(auctions_competencia, sistema_operativo_principal, Xs_predecir, 4, 8)\n",
    "generar_feature_en_ventanas(auctions_no_estan_en_v7_competencia, sistema_operativo_principal, Xs_predecir_especiales, 4, 7, especial=True)"
   ]
  },
  {
   "cell_type": "markdown",
   "metadata": {},
   "source": [
    "---"
   ]
  },
  {
   "cell_type": "markdown",
   "metadata": {},
   "source": [
    "## Tiempo medio entre apariciones"
   ]
  },
  {
   "cell_type": "code",
   "execution_count": 26,
   "metadata": {},
   "outputs": [],
   "source": [
    "def tiempo_medio_entre_apariciones(dataframe, nro_ventana):\n",
    "    return dataframe.groupby(\"device_id\").agg({\"date\" : (lambda x: (x.sub(x.shift()).mean().total_seconds()))}).rename(columns={\"date\": \"tiempo_medio_entre_apariciones_subastas\"})"
   ]
  },
  {
   "cell_type": "code",
   "execution_count": 27,
   "metadata": {},
   "outputs": [],
   "source": [
    "generar_feature_en_ventanas(auctions, tiempo_medio_entre_apariciones, Xs, 1, 5)\n",
    "generar_feature_en_ventanas(auctions_no_estan_en_v7, tiempo_medio_entre_apariciones, Xs_especiales, 1, 4, especial=True)"
   ]
  },
  {
   "cell_type": "code",
   "execution_count": 28,
   "metadata": {},
   "outputs": [],
   "source": [
    "generar_feature_en_ventanas(auctions_competencia, tiempo_medio_entre_apariciones, Xs_predecir, 4, 8)\n",
    "generar_feature_en_ventanas(auctions_no_estan_en_v7_competencia, tiempo_medio_entre_apariciones, Xs_predecir_especiales, 4, 7, especial=True)"
   ]
  },
  {
   "cell_type": "markdown",
   "metadata": {},
   "source": [
    "---"
   ]
  },
  {
   "cell_type": "markdown",
   "metadata": {},
   "source": [
    "## Tiempo máximo entre apariciones"
   ]
  },
  {
   "cell_type": "code",
   "execution_count": 29,
   "metadata": {},
   "outputs": [],
   "source": [
    "def tiempo_maximo_entre_apariciones(dataframe, nro_ventana):\n",
    "    return dataframe.groupby(\"device_id\").agg({\"date\" : (lambda x: (x.sub(x.shift()).max().total_seconds()))}).rename(columns={\"date\": \"tiempo_maximo_entre_apariciones_subastas\"})"
   ]
  },
  {
   "cell_type": "code",
   "execution_count": 30,
   "metadata": {},
   "outputs": [],
   "source": [
    "generar_feature_en_ventanas(auctions, tiempo_maximo_entre_apariciones, Xs, 1, 5)\n",
    "generar_feature_en_ventanas(auctions_no_estan_en_v7, tiempo_maximo_entre_apariciones, Xs_especiales, 1, 4, especial=True)"
   ]
  },
  {
   "cell_type": "code",
   "execution_count": 31,
   "metadata": {},
   "outputs": [],
   "source": [
    "generar_feature_en_ventanas(auctions_competencia, tiempo_maximo_entre_apariciones, Xs_predecir, 4, 8)\n",
    "generar_feature_en_ventanas(auctions_no_estan_en_v7_competencia, tiempo_maximo_entre_apariciones, Xs_predecir_especiales, 4, 7, especial=True)"
   ]
  },
  {
   "cell_type": "markdown",
   "metadata": {},
   "source": [
    "---"
   ]
  },
  {
   "cell_type": "markdown",
   "metadata": {},
   "source": [
    "## Tiempo mínimo entre apariciones"
   ]
  },
  {
   "cell_type": "code",
   "execution_count": 32,
   "metadata": {},
   "outputs": [],
   "source": [
    "def tiempo_minimo_entre_apariciones(dataframe, nro_ventana):\n",
    "    return dataframe.groupby(\"device_id\").agg({\"date\" : (lambda x: (x.sub(x.shift()).min().total_seconds()))}).rename(columns={\"date\": \"tiempo_minimo_entre_apariciones_subastas\"})"
   ]
  },
  {
   "cell_type": "code",
   "execution_count": 33,
   "metadata": {},
   "outputs": [],
   "source": [
    "generar_feature_en_ventanas(auctions, tiempo_minimo_entre_apariciones, Xs, 1, 5)\n",
    "generar_feature_en_ventanas(auctions_no_estan_en_v7, tiempo_minimo_entre_apariciones, Xs_especiales, 1, 4, especial=True)"
   ]
  },
  {
   "cell_type": "code",
   "execution_count": 34,
   "metadata": {},
   "outputs": [],
   "source": [
    "generar_feature_en_ventanas(auctions_competencia, tiempo_minimo_entre_apariciones, Xs_predecir, 4, 8)\n",
    "generar_feature_en_ventanas(auctions_no_estan_en_v7_competencia, tiempo_minimo_entre_apariciones, Xs_predecir_especiales, 4, 7, especial=True)"
   ]
  },
  {
   "cell_type": "markdown",
   "metadata": {},
   "source": [
    "---"
   ]
  },
  {
   "cell_type": "markdown",
   "metadata": {},
   "source": [
    "## Cantidad de apariciones por fuente"
   ]
  },
  {
   "cell_type": "code",
   "execution_count": 54,
   "metadata": {},
   "outputs": [],
   "source": [
    "def cantidad_apariciones_segun_source(dataframe, nro_ventana):\n",
    "    feature = dataframe.groupby([\"device_id\", \"source_id\"])[\"date\"].agg(\"count\").to_frame().unstack().droplevel(level=0, axis=1)\n",
    "    for source in range(0, 10):\n",
    "        if source not in list(feature.columns.values):\n",
    "            feature.insert(source, source, 0)\n",
    "    feature.columns = [\"apariciones_en_source_{}_subastas\".format(x) for x in range(10)]\n",
    "    return feature"
   ]
  },
  {
   "cell_type": "code",
   "execution_count": 36,
   "metadata": {},
   "outputs": [],
   "source": [
    "generar_feature_en_ventanas(auctions, cantidad_apariciones_segun_source, Xs, 1, 5)\n",
    "generar_feature_en_ventanas(auctions_no_estan_en_v7, cantidad_apariciones_segun_source, Xs_especiales, 1, 4, especial=True)"
   ]
  },
  {
   "cell_type": "code",
   "execution_count": 62,
   "metadata": {},
   "outputs": [],
   "source": [
    "generar_feature_en_ventanas(auctions_competencia, cantidad_apariciones_segun_source, Xs_predecir, 4, 8)\n",
    "generar_feature_en_ventanas(auctions_no_estan_en_v7_competencia, cantidad_apariciones_segun_source, Xs_predecir_especiales, 4, 7, especial=True)"
   ]
  },
  {
   "cell_type": "markdown",
   "metadata": {},
   "source": [
    "---"
   ]
  },
  {
   "cell_type": "markdown",
   "metadata": {},
   "source": [
    "## Tiempo desde la última aparición hasta el fin de la ventana"
   ]
  },
  {
   "cell_type": "code",
   "execution_count": 64,
   "metadata": {},
   "outputs": [],
   "source": [
    "def tiempo_desde_ult_aparicion_hasta_fin_ventana(dataframe, nro_ventana):\n",
    "    return (np.datetime64(\"2019-04-2{}\".format(nro_ventana)) - dataframe.groupby(\"device_id\").agg({\"date\" : \"max\"})[\"date\"]).dt.total_seconds().to_frame().rename(columns={\"date\": \"tiempo_ultima_aparicion_hasta_fin_ventana_subastas\"})"
   ]
  },
  {
   "cell_type": "code",
   "execution_count": 65,
   "metadata": {},
   "outputs": [],
   "source": [
    "generar_feature_en_ventanas(auctions, tiempo_desde_ult_aparicion_hasta_fin_ventana, Xs, 1, 5)\n",
    "generar_feature_en_ventanas(auctions_no_estan_en_v7, tiempo_desde_ult_aparicion_hasta_fin_ventana, Xs_especiales, 1, 4, especial=True)"
   ]
  },
  {
   "cell_type": "code",
   "execution_count": 66,
   "metadata": {},
   "outputs": [],
   "source": [
    "generar_feature_en_ventanas(auctions_competencia, tiempo_desde_ult_aparicion_hasta_fin_ventana, Xs_predecir, 4, 8)\n",
    "generar_feature_en_ventanas(auctions_no_estan_en_v7_competencia, tiempo_desde_ult_aparicion_hasta_fin_ventana, Xs_predecir_especiales, 4, 7, especial=True)"
   ]
  },
  {
   "cell_type": "markdown",
   "metadata": {},
   "source": [
    "---"
   ]
  },
  {
   "cell_type": "markdown",
   "metadata": {},
   "source": [
    "## Tiempo desde la primera aparición hasta el fin de la ventana"
   ]
  },
  {
   "cell_type": "code",
   "execution_count": 67,
   "metadata": {},
   "outputs": [],
   "source": [
    "def tiempo_desde_prim_aparicion_hasta_fin_ventana(dataframe, nro_ventana):\n",
    "    return (np.datetime64(\"2019-04-2{}\".format(nro_ventana)) - dataframe.groupby(\"device_id\").agg({\"date\" : \"min\"})[\"date\"]).dt.total_seconds().to_frame().rename(columns={\"date\": \"tiempo_primera_aparicion_hasta_fin_ventana_subastas\"})"
   ]
  },
  {
   "cell_type": "code",
   "execution_count": 68,
   "metadata": {},
   "outputs": [],
   "source": [
    "generar_feature_en_ventanas(auctions, tiempo_desde_prim_aparicion_hasta_fin_ventana, Xs, 1, 5)\n",
    "generar_feature_en_ventanas(auctions_no_estan_en_v7, tiempo_desde_prim_aparicion_hasta_fin_ventana, Xs_especiales, 1, 4, especial=True)"
   ]
  },
  {
   "cell_type": "code",
   "execution_count": 69,
   "metadata": {},
   "outputs": [],
   "source": [
    "generar_feature_en_ventanas(auctions_competencia, tiempo_desde_prim_aparicion_hasta_fin_ventana, Xs_predecir, 4, 8)\n",
    "generar_feature_en_ventanas(auctions_no_estan_en_v7_competencia, tiempo_desde_prim_aparicion_hasta_fin_ventana, Xs_predecir_especiales, 4, 7, especial=True)"
   ]
  },
  {
   "cell_type": "markdown",
   "metadata": {},
   "source": [
    "---"
   ]
  },
  {
   "cell_type": "markdown",
   "metadata": {},
   "source": [
    "# Guardado de los sets de entrenamiento"
   ]
  },
  {
   "cell_type": "code",
   "execution_count": 70,
   "metadata": {},
   "outputs": [],
   "source": [
    "for ventana_nro in range(1, 5):\n",
    "    Xs[ventana_nro].to_pickle(\"../../features/auctions_ventana_{}_entrenar.pkl\".format(ventana_nro))\n",
    "    Xs[ventana_nro].to_csv(\"../../features/auctions_ventana_{}_entrenar.csv\".format(ventana_nro))"
   ]
  },
  {
   "cell_type": "code",
   "execution_count": 72,
   "metadata": {},
   "outputs": [],
   "source": [
    "for ventana_nro in range(1,4):\n",
    "    Xs_especiales[ventana_nro].to_pickle(\"../../features/auctions_ventana_{}_entrenar_especiales.pkl\".format(ventana_nro))\n",
    "    Xs_especiales[ventana_nro].to_csv(\"../../features/auctions_ventana_{}_entrenar_especiales.csv\".format(ventana_nro))"
   ]
  },
  {
   "cell_type": "code",
   "execution_count": 73,
   "metadata": {},
   "outputs": [],
   "source": [
    "for ventana_nro in range(4, 8):\n",
    "    Xs_predecir[ventana_nro].to_pickle(\"../../features/auctions_ventana_{}_para_predecir.pkl\".format(ventana_nro))\n",
    "    Xs_predecir[ventana_nro].to_csv(\"../../features/auctions_ventana_{}_para_predecir.csv\".format(ventana_nro))"
   ]
  },
  {
   "cell_type": "code",
   "execution_count": 74,
   "metadata": {},
   "outputs": [],
   "source": [
    "for ventana_nro in range(4,7):\n",
    "    Xs_predecir_especiales[ventana_nro].to_pickle(\"../../features/auctions_ventana_{}_para_predecir_especiales.pkl\".format(ventana_nro))\n",
    "    Xs_predecir_especiales[ventana_nro].to_csv(\"../../features/auctions_ventana_{}_para_predecir_especiales.csv\".format(ventana_nro))"
   ]
  },
  {
   "cell_type": "markdown",
   "metadata": {},
   "source": [
    "---"
   ]
  }
 ],
 "metadata": {
  "kernelspec": {
   "display_name": "Python 3",
   "language": "python",
   "name": "python3"
  },
  "language_info": {
   "codemirror_mode": {
    "name": "ipython",
    "version": 3
   },
   "file_extension": ".py",
   "mimetype": "text/x-python",
   "name": "python",
   "nbconvert_exporter": "python",
   "pygments_lexer": "ipython3",
   "version": "3.6.5"
  }
 },
 "nbformat": 4,
 "nbformat_minor": 2
}
