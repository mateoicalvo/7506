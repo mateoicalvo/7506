{
 "cells": [
  {
   "cell_type": "markdown",
   "metadata": {},
   "source": [
    "# Imports"
   ]
  },
  {
   "cell_type": "code",
   "execution_count": null,
   "metadata": {},
   "outputs": [],
   "source": [
    "import pandas as pd\n",
    "import numpy as np"
   ]
  },
  {
   "cell_type": "markdown",
   "metadata": {},
   "source": [
    "---"
   ]
  },
  {
   "cell_type": "markdown",
   "metadata": {},
   "source": [
    "# Carga de datos"
   ]
  },
  {
   "cell_type": "code",
   "execution_count": null,
   "metadata": {},
   "outputs": [],
   "source": [
    "auctions = pd.read_pickle(\"../../../../data/tp2/auctions_tp2_formateado.pkl\")"
   ]
  },
  {
   "cell_type": "markdown",
   "metadata": {},
   "source": [
    "---"
   ]
  },
  {
   "cell_type": "markdown",
   "metadata": {},
   "source": [
    "# Armado de ventanas"
   ]
  },
  {
   "cell_type": "code",
   "execution_count": null,
   "metadata": {},
   "outputs": [],
   "source": [
    "for ventana_nro in range(1,6):\n",
    "    auctions[\"ventana_{}\".format(ventana_nro)] = (((17+ventana_nro) <= auctions[\"date\"].dt.day) & ((auctions[\"date\"].dt.day) <= (19+ventana_nro)))"
   ]
  },
  {
   "cell_type": "markdown",
   "metadata": {},
   "source": [
    "---"
   ]
  },
  {
   "cell_type": "markdown",
   "metadata": {},
   "source": [
    "# Creación de features"
   ]
  },
  {
   "cell_type": "markdown",
   "metadata": {},
   "source": [
    "## Creación de sets de entrenamiento"
   ]
  },
  {
   "cell_type": "code",
   "execution_count": null,
   "metadata": {},
   "outputs": [],
   "source": [
    "Xs = {}\n",
    "for ventana_nro in range(1,6):\n",
    "    Xs[ventana_nro] = auctions.loc[auctions[\"ventana_{}\".format(ventana_nro)]][\"device_id\"].drop_duplicates().to_frame().set_index(\"device_id\")"
   ]
  },
  {
   "cell_type": "markdown",
   "metadata": {},
   "source": [
    "---"
   ]
  },
  {
   "cell_type": "markdown",
   "metadata": {},
   "source": [
    "## Función generadora de features"
   ]
  },
  {
   "cell_type": "code",
   "execution_count": null,
   "metadata": {},
   "outputs": [],
   "source": [
    "def generar_feature_en_ventanas(dataframe, generador_feature, destinos):\n",
    "    for ventana_nro in range(1, 6):\n",
    "        feature = generador_feature(dataframe.loc[dataframe[\"ventana_{}\".format(ventana_nro)]], ventana_nro)\n",
    "        destinos[ventana_nro] = destinos[ventana_nro].merge(feature, left_index=True, right_index=True)"
   ]
  },
  {
   "cell_type": "markdown",
   "metadata": {},
   "source": [
    "---"
   ]
  },
  {
   "cell_type": "markdown",
   "metadata": {},
   "source": [
    "## Cantidad de apariciones en subastas dentro de la ventana"
   ]
  },
  {
   "cell_type": "code",
   "execution_count": null,
   "metadata": {},
   "outputs": [],
   "source": [
    "def cantidad_apariciones_en_subastas(dataframe, nro_ventana):\n",
    "    return dataframe.groupby(\"device_id\").agg({\"date\" : \"count\"}).rename(columns={\"date\": \"cantidad_apariciones\"})"
   ]
  },
  {
   "cell_type": "code",
   "execution_count": null,
   "metadata": {},
   "outputs": [],
   "source": [
    "generar_feature_en_ventanas(auctions, cantidad_apariciones_en_subastas, Xs)"
   ]
  },
  {
   "cell_type": "markdown",
   "metadata": {},
   "source": [
    "---"
   ]
  },
  {
   "cell_type": "markdown",
   "metadata": {},
   "source": [
    "## Cantidad de apariciones discriminando períodos"
   ]
  },
  {
   "cell_type": "code",
   "execution_count": null,
   "metadata": {},
   "outputs": [],
   "source": [
    "# Creo columnas para luego separar\n",
    "auctions['hora'] = auctions['date'].dt.hour\n",
    "auctions['dia'] = auctions['date'].dt.day\n",
    "auctions['dia_de_la_semana'] = auctions['date'].dt.dayofweek"
   ]
  },
  {
   "cell_type": "code",
   "execution_count": null,
   "metadata": {},
   "outputs": [],
   "source": [
    "def cantidad_apariciones_por_hora(dataframe, nro_ventana):\n",
    "    apariciones_por_hora = dataframe.groupby([\"device_id\", \"hora\"]).agg(({\"date\" : \"count\"}))\n",
    "    apariciones_por_hora = apariciones_por_hora.unstack().fillna(0).astype(np.int64)\n",
    "    apariciones_por_hora.columns = [\"apariciones_en_hora_{}\".format(hora) for hora in range(0,24)]\n",
    "    return apariciones_por_hora"
   ]
  },
  {
   "cell_type": "code",
   "execution_count": null,
   "metadata": {},
   "outputs": [],
   "source": [
    "generar_feature_en_ventanas(auctions, cantidad_apariciones_por_hora, Xs)"
   ]
  },
  {
   "cell_type": "code",
   "execution_count": null,
   "metadata": {},
   "outputs": [],
   "source": [
    "def cantidad_apariciones_por_dia(dataframe, nro_ventana):\n",
    "    dias = dataframe[\"dia\"].drop_duplicates\n",
    "    apariciones_por_dia = dataframe.groupby([\"device_id\", \"dia\"]).agg(({\"date\" : \"count\"}))\n",
    "    apariciones_por_dia = apariciones_por_dia.unstack().fillna(0).astype(np.int64)\n",
    "    apariciones_por_dia.columns = [\"apariciones_en_dia_{}\".format(dia) for dia in range(1,4)]\n",
    "    return apariciones_por_dia"
   ]
  },
  {
   "cell_type": "code",
   "execution_count": null,
   "metadata": {},
   "outputs": [],
   "source": [
    "generar_feature_en_ventanas(auctions, cantidad_apariciones_por_dia, Xs)"
   ]
  },
  {
   "cell_type": "markdown",
   "metadata": {},
   "source": [
    "---"
   ]
  },
  {
   "cell_type": "markdown",
   "metadata": {},
   "source": [
    "## Sistema operativo (Android / iOS)"
   ]
  },
  {
   "cell_type": "code",
   "execution_count": null,
   "metadata": {},
   "outputs": [],
   "source": [
    "def cantidad_so_registrados(dataframe, nro_ventana):\n",
    "    return dataframe.groupby(\"device_id\").agg({\"ref_type_id\" : \"nunique\"}).rename(columns={\"ref_type_id\": \"cantidad_so_registrados\"})"
   ]
  },
  {
   "cell_type": "code",
   "execution_count": null,
   "metadata": {},
   "outputs": [],
   "source": [
    "generar_feature_en_ventanas(auctions, cantidad_so_registrados, Xs)"
   ]
  },
  {
   "cell_type": "code",
   "execution_count": null,
   "metadata": {},
   "outputs": [],
   "source": [
    "# Tarda MUCHO\n",
    "def sistema_operativo_principal(dataframe, nro_ventana):\n",
    "    return dataframe.groupby(\"device_id\").agg({\"ref_type_id\" : (lambda x: x.value_counts().index[0])}).rename(columns={\"ref_type_id\": \"so_mas_usado\"})"
   ]
  },
  {
   "cell_type": "code",
   "execution_count": null,
   "metadata": {},
   "outputs": [],
   "source": [
    "generar_feature_en_ventanas(auctions, sistema_operativo_principal, Xs)"
   ]
  },
  {
   "cell_type": "markdown",
   "metadata": {},
   "source": [
    "---"
   ]
  },
  {
   "cell_type": "code",
   "execution_count": null,
   "metadata": {},
   "outputs": [],
   "source": [
    "def media_so(dataframe, nro_ventana):\n",
    "    return dataframe.groupby(\"device_id\").agg({\"ref_type_id\" : \"mean\"}).rename(columns={\"ref_type_id\": \"so_media\"})"
   ]
  },
  {
   "cell_type": "code",
   "execution_count": null,
   "metadata": {},
   "outputs": [],
   "source": [
    "generar_feature_en_ventanas(auctions, media_so, Xs)"
   ]
  },
  {
   "cell_type": "markdown",
   "metadata": {},
   "source": [
    "---"
   ]
  },
  {
   "cell_type": "markdown",
   "metadata": {},
   "source": [
    "## Tiempo medio entre apariciones"
   ]
  },
  {
   "cell_type": "code",
   "execution_count": null,
   "metadata": {},
   "outputs": [],
   "source": [
    "def tiempo_medio_entre_apariciones(dataframe, nro_ventana):\n",
    "    gb = dataframe.groupby(\"device_id\")\n",
    "    ps = {}\n",
    "    for t, g in gb:\n",
    "        ps[t] = g[\"date\"].sub(g[\"date\"].shift()).mean()\n",
    "    return pd.Series(ps).dt.total_seconds().fillna(0).to_frame().rename(columns={0: \"tiempo_medio_entre_apariciones\"})"
   ]
  },
  {
   "cell_type": "code",
   "execution_count": null,
   "metadata": {},
   "outputs": [],
   "source": [
    "generar_feature_en_ventanas(auctions, tiempo_medio_entre_apariciones, Xs)"
   ]
  },
  {
   "cell_type": "markdown",
   "metadata": {},
   "source": [
    "---"
   ]
  },
  {
   "cell_type": "markdown",
   "metadata": {},
   "source": [
    "## Tiempo máximo entre apariciones"
   ]
  },
  {
   "cell_type": "code",
   "execution_count": null,
   "metadata": {},
   "outputs": [],
   "source": [
    "def tiempo_maximo_entre_apariciones(dataframe, nro_ventana):\n",
    "    gb = dataframe.groupby(\"device_id\")\n",
    "    ps = {}\n",
    "    for t, g in gb:\n",
    "        ps[t] = g[\"date\"].sub(g[\"date\"].shift()).max()\n",
    "    return pd.Series(ps).dt.total_seconds().fillna(0).to_frame().rename(columns={0: \"tiempo_maximo_entre_apariciones\"})"
   ]
  },
  {
   "cell_type": "code",
   "execution_count": null,
   "metadata": {},
   "outputs": [],
   "source": [
    "generar_feature_en_ventanas(auctions, tiempo_maximo_entre_apariciones, Xs)"
   ]
  },
  {
   "cell_type": "markdown",
   "metadata": {},
   "source": [
    "---"
   ]
  },
  {
   "cell_type": "markdown",
   "metadata": {},
   "source": [
    "## Desvío entre apariciones"
   ]
  },
  {
   "cell_type": "code",
   "execution_count": 21,
   "metadata": {},
   "outputs": [],
   "source": [
    "# Tarda MUCHO\n",
    "def desvio_entre_apariciones(dataframe, nro_ventana):\n",
    "    gb = dataframe.groupby(\"device_id\")\n",
    "    ps = {}\n",
    "    for t, g in gb:\n",
    "        ps[t] = g[\"date\"].sub(g[\"date\"].shift()).std()\n",
    "    return pd.Series(ps).dt.total_seconds().fillna(0).to_frame().rename(columns={0: \"desvio_entre_apariciones\"})"
   ]
  },
  {
   "cell_type": "code",
   "execution_count": 22,
   "metadata": {},
   "outputs": [],
   "source": [
    "generar_feature_en_ventanas(auctions, desvio_entre_apariciones, Xs)"
   ]
  },
  {
   "cell_type": "markdown",
   "metadata": {},
   "source": [
    "---"
   ]
  },
  {
   "cell_type": "markdown",
   "metadata": {},
   "source": [
    "## Cantidad de apariciones por fuente"
   ]
  },
  {
   "cell_type": "code",
   "execution_count": 23,
   "metadata": {},
   "outputs": [],
   "source": [
    "def cantidad_apariciones_segun_source(dataframe, nro_ventana):\n",
    "    feature = dataframe.groupby([\"device_id\", \"source_id\"])[\"date\"].agg(\"count\").to_frame().unstack()\n",
    "    feature.columns = [\"apariciones_en_source_{}\".format(x) for x in range(10)]\n",
    "    feature = feature.fillna(0).astype(np.int64)\n",
    "    return feature"
   ]
  },
  {
   "cell_type": "code",
   "execution_count": 24,
   "metadata": {},
   "outputs": [],
   "source": [
    "generar_feature_en_ventanas(auctions, cantidad_apariciones_segun_source, Xs)"
   ]
  },
  {
   "cell_type": "markdown",
   "metadata": {},
   "source": [
    "---"
   ]
  },
  {
   "cell_type": "markdown",
   "metadata": {},
   "source": [
    "## Tiempo desde la última aparición hasta el fin de la ventana"
   ]
  },
  {
   "cell_type": "code",
   "execution_count": 25,
   "metadata": {},
   "outputs": [],
   "source": [
    "def tiempo_desde_ult_aparicion_hasta_fin_ventana(dataframe, nro_ventana):\n",
    "    return (np.datetime64(\"2019-04-2{}\".format(nro_ventana)) - dataframe.groupby(\"device_id\").agg({\"date\" : \"max\"})[\"date\"]).dt.total_seconds().to_frame().rename(columns={\"date\": \"tiempo_ultima_aparicion_hasta_fin_ventana\"})"
   ]
  },
  {
   "cell_type": "code",
   "execution_count": 26,
   "metadata": {},
   "outputs": [],
   "source": [
    "generar_feature_en_ventanas(auctions, tiempo_desde_ult_aparicion_hasta_fin_ventana, Xs)"
   ]
  },
  {
   "cell_type": "markdown",
   "metadata": {},
   "source": [
    "---"
   ]
  },
  {
   "cell_type": "markdown",
   "metadata": {},
   "source": [
    "## Tiempo desde t0 hasta horas más frecuentes"
   ]
  },
  {
   "cell_type": "markdown",
   "metadata": {},
   "source": [
    "#### Funciones para evitar codigo repetido"
   ]
  },
  {
   "cell_type": "code",
   "execution_count": 6,
   "metadata": {},
   "outputs": [],
   "source": [
    "def obtener_horas_aparicion_maxima(dataframe):\n",
    "    \"\"\"Devuelve un dataframe con la pinta {'device_id','hora','date'} donde cada dispositivo\n",
    "    contiene todas las horas donde su aparición en subastas sea igual a la maxima \"\"\"\n",
    "    \n",
    "    feature = dataframe.groupby([\"device_id\",\"hora\"]).agg({\"date\":\"count\"})\n",
    "    idx = feature.groupby([\"device_id\"])[\"date\"].transform(max) == feature[\"date\"]\n",
    "    feature = feature[idx]\n",
    "    feature.reset_index(inplace = True)\n",
    "    return feature"
   ]
  },
  {
   "cell_type": "code",
   "execution_count": 7,
   "metadata": {},
   "outputs": [],
   "source": [
    "def obtener_tiempo_hasta_hora_minima(feature):\n",
    "    \"\"\"Recibe un dataframe feature con horas de aparicion máxima y devuelve el\n",
    "    tiempo hasta la hora minima para cada dispositivo\"\"\"\n",
    "    segundos_en_hora = 60*60\n",
    "\n",
    "    feature = feature.reset_index().groupby(\"device_id\").agg({\"hora\":\"min\"})\n",
    "    feature[\"hora\"] = feature[\"hora\"] * segundos_en_hora\n",
    "    return feature\n",
    "    "
   ]
  },
  {
   "cell_type": "markdown",
   "metadata": {},
   "source": [
    "---"
   ]
  },
  {
   "cell_type": "markdown",
   "metadata": {},
   "source": [
    "## Tiempo desde t0 hasta hora más frecuente de aparicion"
   ]
  },
  {
   "cell_type": "markdown",
   "metadata": {},
   "source": [
    "#### Frente a empate entre horas me quedaré con la minima (la mas cercana a t0)"
   ]
  },
  {
   "cell_type": "code",
   "execution_count": 8,
   "metadata": {},
   "outputs": [],
   "source": [
    "auctions[\"hora\"] = auctions[\"date\"].dt.hour\n"
   ]
  },
  {
   "cell_type": "code",
   "execution_count": 9,
   "metadata": {},
   "outputs": [],
   "source": [
    "def tiempo_hasta_hora_minima_frecuente(dataframe,nro_ventana):\n",
    "    segundos_en_hora = 60*60\n",
    "    \n",
    "    feature = obtener_horas_aparicion_maxima(dataframe)\n",
    "    \n",
    "    #Obtengo hora más cerca de t0 = 00 hs\n",
    "    feature = obtener_tiempo_hasta_hora_minima(feature)\n",
    "    feature.rename(columns = {\"hora\":\"tiempo_hora_frec_aparicion_subasta\"},inplace = True)\n",
    "    \n",
    "    return feature\n"
   ]
  },
  {
   "cell_type": "code",
   "execution_count": null,
   "metadata": {},
   "outputs": [],
   "source": [
    "generar_feature_en_ventanas(auctions, tiempo_hasta_hora_minima_frecuente, Xs)"
   ]
  },
  {
   "cell_type": "markdown",
   "metadata": {},
   "source": [
    "---"
   ]
  },
  {
   "cell_type": "markdown",
   "metadata": {},
   "source": [
    "## Tiempo desde t0 hasta la segunda hora más frecuente de aparición"
   ]
  },
  {
   "cell_type": "code",
   "execution_count": 15,
   "metadata": {},
   "outputs": [],
   "source": [
    "def tiempo_hasta_segunda_hora_minima_frecuente(dataframe,nro_ventana):\n",
    "    \n",
    "  \n",
    "    feature = dataframe.groupby([\"device_id\",\"hora\"]).agg({\"date\":\"count\"})\n",
    "    feature.reset_index(inplace = True)\n",
    "    \n",
    "    \n",
    "    apariciones_maximas = obtener_horas_aparicion_maxima(dataframe)\n",
    "    apariciones_maximas.reset_index(inplace = True)\n",
    "\n",
    "    \n",
    "    \n",
    "    #Obtengo los indices de las horas minimas de aparicion maxima para cada dispositivo\n",
    "    horas_minimas = apariciones_maximas.groupby(\"device_id\")[\"hora\"].transform(min) == apariciones_maximas[\"hora\"]\n",
    "\n",
    "    apariciones_maximas = apariciones_maximas[horas_minimas]\n",
    "\n",
    "    \n",
    "    #Me quedo con los datos que no esten entre las horas minimas de aparicion maxima\n",
    "    horas_no_minimas = ~( (feature.isin(apariciones_maximas)))\n",
    "    #Todas las columnas deben ser True\n",
    "    horas_no_minimas = horas_no_minimas.all(1)\n",
    "    \n",
    "        \n",
    "    #Me quedo con los datos para completar aquellos dispositivos que solo contienen datos de una sola hora\n",
    "    datos_restantes = feature[ ~(horas_no_minimas)]\n",
    "\n",
    "    \n",
    "    #Me quedo con los datos que excluyena las horas minimas \n",
    "    feature = feature[horas_no_minimas]\n",
    "    \n",
    "\n",
    "\n",
    "    #obtengo las apariciones maximas dentro de los valores restantes \n",
    "    feature = obtener_horas_aparicion_maxima(feature)\n",
    "    \n",
    "    \n",
    "    #obtengo las horas minimas dentro de los valores restantes( segundas horas minimas)\n",
    "    feature = obtener_tiempo_hasta_hora_minima(feature)\n",
    "\n",
    "        \n",
    "    #Me quedo con los datos que contienen solo una hora \n",
    "    apariciones_unicas = ~( (datos_restantes[\"device_id\"].isin(feature.index)))\n",
    "    \n",
    "    datos_restantes = datos_restantes[apariciones_unicas]\n",
    "  \n",
    "\n",
    "    datos_restantes = obtener_tiempo_hasta_hora_minima(datos_restantes)\n",
    "     \n",
    "    \n",
    "    feature = feature.append(datos_restantes)\n",
    "    \n",
    "    feature.rename(columns = {\"hora\":\"tiempo_segunda_hora_frec_aparicion\"},inplace = True)\n",
    "    \n",
    "    \n",
    "    return feature\n"
   ]
  },
  {
   "cell_type": "code",
   "execution_count": 13,
   "metadata": {},
   "outputs": [],
   "source": [
    "generar_feature_en_ventanas(auctions, tiempo_hasta_segunda_hora_minima_frecuente, Xs)"
   ]
  },
  {
   "cell_type": "markdown",
   "metadata": {},
   "source": [
    "---"
   ]
  },
  {
   "cell_type": "markdown",
   "metadata": {},
   "source": [
    "# En desarrollo"
   ]
  },
  {
   "cell_type": "code",
   "execution_count": 21,
   "metadata": {},
   "outputs": [],
   "source": [
    "gb = auctions.groupby(\"device_id\")\n",
    "ps = {}\n",
    "for t, g in gb:\n",
    "    ps[t] = g[\"date\"].sub(g[\"date\"].shift()).mean()\n",
    "medio = pd.Series(ps).dt.total_seconds().to_frame().rename(columns={0: \"tiempo_medio_entre_apariciones\"})"
   ]
  },
  {
   "cell_type": "code",
   "execution_count": 23,
   "metadata": {},
   "outputs": [
    {
     "data": {
      "text/html": [
       "<div>\n",
       "<style scoped>\n",
       "    .dataframe tbody tr th:only-of-type {\n",
       "        vertical-align: middle;\n",
       "    }\n",
       "\n",
       "    .dataframe tbody tr th {\n",
       "        vertical-align: top;\n",
       "    }\n",
       "\n",
       "    .dataframe thead th {\n",
       "        text-align: right;\n",
       "    }\n",
       "</style>\n",
       "<table border=\"1\" class=\"dataframe\">\n",
       "  <thead>\n",
       "    <tr style=\"text-align: right;\">\n",
       "      <th></th>\n",
       "      <th>date</th>\n",
       "      <th>device_id</th>\n",
       "      <th>ref_type_id</th>\n",
       "      <th>source_id</th>\n",
       "      <th>ventana_1</th>\n",
       "      <th>ventana_2</th>\n",
       "      <th>ventana_3</th>\n",
       "      <th>ventana_4</th>\n",
       "      <th>ventana_5</th>\n",
       "      <th>hora</th>\n",
       "      <th>dia</th>\n",
       "      <th>dia_de_la_semana</th>\n",
       "    </tr>\n",
       "  </thead>\n",
       "  <tbody>\n",
       "    <tr>\n",
       "      <th>36601349</th>\n",
       "      <td>2019-04-23 15:00:57.222979</td>\n",
       "      <td>40621409780134</td>\n",
       "      <td>1</td>\n",
       "      <td>0</td>\n",
       "      <td>False</td>\n",
       "      <td>False</td>\n",
       "      <td>False</td>\n",
       "      <td>True</td>\n",
       "      <td>True</td>\n",
       "      <td>15</td>\n",
       "      <td>23</td>\n",
       "      <td>1</td>\n",
       "    </tr>\n",
       "  </tbody>\n",
       "</table>\n",
       "</div>"
      ],
      "text/plain": [
       "                               date       device_id  ref_type_id  source_id  \\\n",
       "36601349 2019-04-23 15:00:57.222979  40621409780134            1          0   \n",
       "\n",
       "          ventana_1  ventana_2  ventana_3  ventana_4  ventana_5  hora  dia  \\\n",
       "36601349      False      False      False       True       True    15   23   \n",
       "\n",
       "          dia_de_la_semana  \n",
       "36601349                 1  "
      ]
     },
     "execution_count": 23,
     "metadata": {},
     "output_type": "execute_result"
    }
   ],
   "source": [
    "auctions.loc[auctions[\"device_id\"] == 40621409780134]"
   ]
  },
  {
   "cell_type": "code",
   "execution_count": 24,
   "metadata": {},
   "outputs": [],
   "source": [
    "medio.to_csv(\"tiempo_medio_por_device\")"
   ]
  },
  {
   "cell_type": "code",
   "execution_count": 26,
   "metadata": {},
   "outputs": [
    {
     "data": {
      "text/plain": [
       "<matplotlib.axes._subplots.AxesSubplot at 0x7f979d6cd438>"
      ]
     },
     "execution_count": 26,
     "metadata": {},
     "output_type": "execute_result"
    },
    {
     "data": {
      "image/png": "[encoded data removed]",
      "text/plain": [
       "<Figure size 432x288 with 1 Axes>"
      ]
     },
     "metadata": {},
     "output_type": "display_data"
    }
   ],
   "source": [
    "medio.plot(kind=\"hist\", bins=30)"
   ]
  },
  {
   "cell_type": "markdown",
   "metadata": {},
   "source": [
    "---"
   ]
  },
  {
   "cell_type": "markdown",
   "metadata": {},
   "source": [
    "# Guardado de los sets de entrenamiento"
   ]
  },
  {
   "cell_type": "code",
   "execution_count": 16,
   "metadata": {},
   "outputs": [],
   "source": [
    "for ventana_nro in range(1, 6):\n",
    "    Xs[ventana_nro].to_pickle(\"../../features/auctions_train_ventana_{}.pkl\".format(ventana_nro))\n",
    "    Xs[ventana_nro].to_csv(\"../../features/auctions_train_ventana_{}.csv\".format(ventana_nro))"
   ]
  },
  {
   "cell_type": "markdown",
   "metadata": {},
   "source": [
    "---"
   ]
  }
 ],
 "metadata": {
  "kernelspec": {
   "display_name": "Python 3",
   "language": "python",
   "name": "python3"
  },
  "language_info": {
   "codemirror_mode": {
    "name": "ipython",
    "version": 3
   },
   "file_extension": ".py",
   "mimetype": "text/x-python",
   "name": "python",
   "nbconvert_exporter": "python",
   "pygments_lexer": "ipython3",
   "version": "3.6.5"
  }
 },
 "nbformat": 4,
 "nbformat_minor": 2
}
