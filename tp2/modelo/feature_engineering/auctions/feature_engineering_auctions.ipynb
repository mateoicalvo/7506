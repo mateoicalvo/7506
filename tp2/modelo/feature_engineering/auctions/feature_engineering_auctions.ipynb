{
 "cells": [
  {
   "cell_type": "markdown",
   "metadata": {},
   "source": [
    "# Imports"
   ]
  },
  {
   "cell_type": "code",
   "execution_count": 1,
   "metadata": {},
   "outputs": [],
   "source": [
    "import pandas as pd\n",
    "import numpy as np"
   ]
  },
  {
   "cell_type": "markdown",
   "metadata": {},
   "source": [
    "---"
   ]
  },
  {
   "cell_type": "markdown",
   "metadata": {},
   "source": [
    "# Carga de datos"
   ]
  },
  {
   "cell_type": "code",
   "execution_count": 2,
   "metadata": {},
   "outputs": [],
   "source": [
    "auctions = pd.read_pickle(\"../../../../data/tp2/auctions_tp2_formateado.pkl\")"
   ]
  },
  {
   "cell_type": "markdown",
   "metadata": {},
   "source": [
    "---"
   ]
  },
  {
   "cell_type": "markdown",
   "metadata": {},
   "source": [
    "# Armado de ventanas"
   ]
  },
  {
   "cell_type": "code",
   "execution_count": 3,
   "metadata": {},
   "outputs": [],
   "source": [
    "for ventana_nro in range(1,6):\n",
    "    auctions[\"ventana_{}\".format(ventana_nro)] = (((17+ventana_nro) <= auctions[\"date\"].dt.day) & ((auctions[\"date\"].dt.day) <= (19+ventana_nro)))"
   ]
  },
  {
   "cell_type": "markdown",
   "metadata": {},
   "source": [
    "---"
   ]
  },
  {
   "cell_type": "markdown",
   "metadata": {},
   "source": [
    "# Creación de features"
   ]
  },
  {
   "cell_type": "markdown",
   "metadata": {},
   "source": [
    "## Creación de sets de entrenamiento"
   ]
  },
  {
   "cell_type": "code",
   "execution_count": 4,
   "metadata": {},
   "outputs": [],
   "source": [
    "Xs = {}\n",
    "for ventana_nro in range(1,6):\n",
    "    Xs[ventana_nro] = auctions.loc[auctions[\"ventana_{}\".format(ventana_nro)]][\"device_id\"].drop_duplicates().to_frame().set_index(\"device_id\")"
   ]
  },
  {
   "cell_type": "markdown",
   "metadata": {},
   "source": [
    "---"
   ]
  },
  {
   "cell_type": "markdown",
   "metadata": {},
   "source": [
    "## Función generadora de features"
   ]
  },
  {
   "cell_type": "code",
   "execution_count": 4,
   "metadata": {},
   "outputs": [],
   "source": [
    "def generar_feature_en_ventanas(dataframe, generador_feature, destinos):\n",
    "    for ventana_nro in range(1, 6):\n",
    "        feature = generador_feature(dataframe.loc[dataframe[\"ventana_{}\".format(ventana_nro)]], ventana_nro)\n",
    "        destinos[ventana_nro] = destinos[ventana_nro].merge(feature, left_index=True, right_index=True)"
   ]
  },
  {
   "cell_type": "markdown",
   "metadata": {},
   "source": [
    "---"
   ]
  },
  {
   "cell_type": "markdown",
   "metadata": {},
   "source": [
    "## Cantidad de apariciones en subastas dentro de la ventana"
   ]
  },
  {
   "cell_type": "code",
   "execution_count": 6,
   "metadata": {},
   "outputs": [],
   "source": [
    "def cantidad_apariciones_en_subastas(dataframe, nro_ventana):\n",
    "    return dataframe.groupby(\"device_id\").agg({\"date\" : \"count\"}).rename(columns={\"date\": \"cantidad_apariciones\"})"
   ]
  },
  {
   "cell_type": "code",
   "execution_count": 7,
   "metadata": {},
   "outputs": [],
   "source": [
    "generar_feature_en_ventanas(auctions, cantidad_apariciones_en_subastas, Xs)"
   ]
  },
  {
   "cell_type": "markdown",
   "metadata": {},
   "source": [
    "---"
   ]
  },
  {
   "cell_type": "markdown",
   "metadata": {},
   "source": [
    "## Cantidad de apariciones discriminando períodos"
   ]
  },
  {
   "cell_type": "code",
   "execution_count": 8,
   "metadata": {},
   "outputs": [],
   "source": [
    "# Creo columnas para luego separar\n",
    "auctions['hora'] = auctions['date'].dt.hour\n",
    "auctions['dia'] = auctions['date'].dt.day\n",
    "auctions['dia_de_la_semana'] = auctions['date'].dt.dayofweek"
   ]
  },
  {
   "cell_type": "code",
   "execution_count": 9,
   "metadata": {},
   "outputs": [],
   "source": [
    "def cantidad_apariciones_por_hora(dataframe, nro_ventana):\n",
    "    apariciones_por_hora = dataframe.groupby([\"device_id\", \"hora\"]).agg(({\"date\" : \"count\"}))\n",
    "    apariciones_por_hora = apariciones_por_hora.unstack().fillna(0).astype(np.int64)\n",
    "    apariciones_por_hora.columns = [\"apariciones_en_hora_{}\".format(hora) for hora in range(0,24)]\n",
    "    return apariciones_por_hora"
   ]
  },
  {
   "cell_type": "code",
   "execution_count": 10,
   "metadata": {},
   "outputs": [],
   "source": [
    "generar_feature_en_ventanas(auctions, cantidad_apariciones_por_hora, Xs)"
   ]
  },
  {
   "cell_type": "code",
   "execution_count": 11,
   "metadata": {},
   "outputs": [],
   "source": [
    "def cantidad_apariciones_por_dia(dataframe, nro_ventana):\n",
    "    dias = dataframe[\"dia\"].drop_duplicates\n",
    "    apariciones_por_dia = dataframe.groupby([\"device_id\", \"dia\"]).agg(({\"date\" : \"count\"}))\n",
    "    apariciones_por_dia = apariciones_por_dia.unstack().fillna(0).astype(np.int64)\n",
    "    apariciones_por_dia.columns = [\"apariciones_en_dia_{}\".format(dia) for dia in range(1,4)]\n",
    "    return apariciones_por_dia"
   ]
  },
  {
   "cell_type": "code",
   "execution_count": 12,
   "metadata": {},
   "outputs": [],
   "source": [
    "generar_feature_en_ventanas(auctions, cantidad_apariciones_por_dia, Xs)"
   ]
  },
  {
   "cell_type": "markdown",
   "metadata": {},
   "source": [
    "---"
   ]
  },
  {
   "cell_type": "markdown",
   "metadata": {},
   "source": [
    "## Sistema operativo (Android / iOS)"
   ]
  },
  {
   "cell_type": "code",
   "execution_count": 13,
   "metadata": {},
   "outputs": [],
   "source": [
    "def cantidad_so_registrados(dataframe, nro_ventana):\n",
    "    return dataframe.groupby(\"device_id\").agg({\"ref_type_id\" : \"nunique\"}).rename(columns={\"ref_type_id\": \"cantidad_so_registrados\"})"
   ]
  },
  {
   "cell_type": "code",
   "execution_count": 14,
   "metadata": {},
   "outputs": [],
   "source": [
    "generar_feature_en_ventanas(auctions, cantidad_so_registrados, Xs)"
   ]
  },
  {
   "cell_type": "code",
   "execution_count": 28,
   "metadata": {},
   "outputs": [],
   "source": [
    "# Tarda MUCHO\n",
    "def sistema_operativo_principal(dataframe, nro_ventana):\n",
    "    return dataframe.groupby(\"device_id\").agg({\"ref_type_id\" : (lambda x: x.value_counts().index[0])}).rename(columns={\"ref_type_id\": \"so_mas_usado\"})"
   ]
  },
  {
   "cell_type": "code",
   "execution_count": null,
   "metadata": {},
   "outputs": [],
   "source": [
    "generar_feature_en_ventanas(auctions, sistema_operativo_principal, Xs)"
   ]
  },
  {
   "cell_type": "markdown",
   "metadata": {},
   "source": [
    "---"
   ]
  },
  {
   "cell_type": "code",
   "execution_count": 15,
   "metadata": {},
   "outputs": [],
   "source": [
    "def media_so(dataframe, nro_ventana):\n",
    "    return dataframe.groupby(\"device_id\").agg({\"ref_type_id\" : \"mean\"}).rename(columns={\"ref_type_id\": \"so_media\"})"
   ]
  },
  {
   "cell_type": "code",
   "execution_count": 16,
   "metadata": {},
   "outputs": [],
   "source": [
    "generar_feature_en_ventanas(auctions, media_so, Xs)"
   ]
  },
  {
   "cell_type": "markdown",
   "metadata": {},
   "source": [
    "---"
   ]
  },
  {
   "cell_type": "markdown",
   "metadata": {},
   "source": [
    "## Tiempo medio entre apariciones"
   ]
  },
  {
   "cell_type": "code",
   "execution_count": 17,
   "metadata": {},
   "outputs": [],
   "source": [
    "def tiempo_medio_entre_apariciones(dataframe, nro_ventana):\n",
    "    gb = dataframe.groupby(\"device_id\")\n",
    "    ps = {}\n",
    "    for t, g in gb:\n",
    "        ps[t] = g[\"date\"].sub(g[\"date\"].shift()).mean()\n",
    "    return pd.Series(ps).dt.total_seconds().fillna(0).to_frame().rename(columns={0: \"tiempo_medio_entre_apariciones\"})"
   ]
  },
  {
   "cell_type": "code",
   "execution_count": 18,
   "metadata": {},
   "outputs": [],
   "source": [
    "generar_feature_en_ventanas(auctions, tiempo_medio_entre_apariciones, Xs)"
   ]
  },
  {
   "cell_type": "markdown",
   "metadata": {},
   "source": [
    "---"
   ]
  },
  {
   "cell_type": "markdown",
   "metadata": {},
   "source": [
    "## Tiempo máximo entre apariciones"
   ]
  },
  {
   "cell_type": "code",
   "execution_count": 19,
   "metadata": {},
   "outputs": [],
   "source": [
    "def tiempo_maximo_entre_apariciones(dataframe, nro_ventana):\n",
    "    gb = dataframe.groupby(\"device_id\")\n",
    "    ps = {}\n",
    "    for t, g in gb:\n",
    "        ps[t] = g[\"date\"].sub(g[\"date\"].shift()).max()\n",
    "    return pd.Series(ps).dt.total_seconds().fillna(0).to_frame().rename(columns={0: \"tiempo_maximo_entre_apariciones\"})"
   ]
  },
  {
   "cell_type": "code",
   "execution_count": 20,
   "metadata": {},
   "outputs": [],
   "source": [
    "generar_feature_en_ventanas(auctions, tiempo_maximo_entre_apariciones, Xs)"
   ]
  },
  {
   "cell_type": "markdown",
   "metadata": {},
   "source": [
    "---"
   ]
  },
  {
   "cell_type": "markdown",
   "metadata": {},
   "source": [
    "## Desvío entre apariciones"
   ]
  },
  {
   "cell_type": "code",
   "execution_count": 21,
   "metadata": {},
   "outputs": [],
   "source": [
    "# Tarda MUCHO\n",
    "def desvio_entre_apariciones(dataframe, nro_ventana):\n",
    "    gb = dataframe.groupby(\"device_id\")\n",
    "    ps = {}\n",
    "    for t, g in gb:\n",
    "        ps[t] = g[\"date\"].sub(g[\"date\"].shift()).std()\n",
    "    return pd.Series(ps).dt.total_seconds().fillna(0).to_frame().rename(columns={0: \"desvio_entre_apariciones\"})"
   ]
  },
  {
   "cell_type": "code",
   "execution_count": 22,
   "metadata": {},
   "outputs": [],
   "source": [
    "generar_feature_en_ventanas(auctions, desvio_entre_apariciones, Xs)"
   ]
  },
  {
   "cell_type": "markdown",
   "metadata": {},
   "source": [
    "---"
   ]
  },
  {
   "cell_type": "markdown",
   "metadata": {},
   "source": [
    "## Cantidad de apariciones por fuente"
   ]
  },
  {
   "cell_type": "code",
   "execution_count": 23,
   "metadata": {},
   "outputs": [],
   "source": [
    "def cantidad_apariciones_segun_source(dataframe, nro_ventana):\n",
    "    feature = dataframe.groupby([\"device_id\", \"source_id\"])[\"date\"].agg(\"count\").to_frame().unstack()\n",
    "    feature.columns = [\"apariciones_en_source_{}\".format(x) for x in range(10)]\n",
    "    feature = feature.fillna(0).astype(np.int64)\n",
    "    return feature"
   ]
  },
  {
   "cell_type": "code",
   "execution_count": 24,
   "metadata": {},
   "outputs": [],
   "source": [
    "generar_feature_en_ventanas(auctions, cantidad_apariciones_segun_source, Xs)"
   ]
  },
  {
   "cell_type": "markdown",
   "metadata": {},
   "source": [
    "---"
   ]
  },
  {
   "cell_type": "markdown",
   "metadata": {},
   "source": [
    "## Tiempo desde la última aparición hasta el fin de la ventana"
   ]
  },
  {
   "cell_type": "code",
   "execution_count": 25,
   "metadata": {},
   "outputs": [],
   "source": [
    "def tiempo_desde_ult_aparicion_hasta_fin_ventana(dataframe, nro_ventana):\n",
    "    return (np.datetime64(\"2019-04-2{}\".format(nro_ventana)) - dataframe.groupby(\"device_id\").agg({\"date\" : \"max\"})[\"date\"]).dt.total_seconds().to_frame().rename(columns={\"date\": \"tiempo_ultima_aparicion_hasta_fin_ventana\"})"
   ]
  },
  {
   "cell_type": "code",
   "execution_count": 26,
   "metadata": {},
   "outputs": [],
   "source": [
    "generar_feature_en_ventanas(auctions, tiempo_desde_ult_aparicion_hasta_fin_ventana, Xs)"
   ]
  },
  {
   "cell_type": "markdown",
   "metadata": {},
   "source": [
    "---"
   ]
  },
  {
   "cell_type": "markdown",
   "metadata": {},
   "source": [
    "## Tiempo desde t0 hasta horas más frecuentes"
   ]
  },
  {
   "cell_type": "markdown",
   "metadata": {},
   "source": [
    "---"
   ]
  },
  {
   "cell_type": "markdown",
   "metadata": {},
   "source": [
    "#### Funciones para evitar codigo repetido"
   ]
  },
  {
   "cell_type": "code",
   "execution_count": 6,
   "metadata": {},
   "outputs": [],
   "source": [
    "def obtener_horas_aparicion_maxima(dataframe):\n",
    "    \"\"\"Devuelve un dataframe con la pinta {'device_id','hora','date'} donde cada dispositivo\n",
    "    contiene todas las horas donde su aparición en subastas sea igual a la maxima \"\"\"\n",
    "    \n",
    "    feature = dataframe.groupby([\"device_id\",\"hora\"]).agg({\"date\":\"count\"})\n",
    "    idx = feature.groupby([\"device_id\"])[\"date\"].transform(max) == feature[\"date\"]\n",
    "    feature = feature[idx]\n",
    "    feature.reset_index(inplace = True)\n",
    "    return feature"
   ]
  },
  {
   "cell_type": "code",
   "execution_count": 7,
   "metadata": {},
   "outputs": [],
   "source": [
    "def obtener_tiempo_hasta_hora_minima(feature):\n",
    "    \"\"\"Recibe un dataframe feature con horas de aparicion máxima y devuelve el\n",
    "    tiempo hasta la hora minima para cada dispositivo\"\"\"\n",
    "    segundos_en_hora = 60*60\n",
    "\n",
    "    feature = feature.reset_index().groupby(\"device_id\").agg({\"hora\":\"min\"})\n",
    "    feature[\"hora\"] = feature[\"hora\"] * segundos_en_hora\n",
    "    return feature\n",
    "    "
   ]
  },
  {
   "cell_type": "markdown",
   "metadata": {},
   "source": [
    "---"
   ]
  },
  {
   "cell_type": "markdown",
   "metadata": {},
   "source": [
    "## Tiempo desde t0 hasta hora más frecuente de aparicion"
   ]
  },
  {
   "cell_type": "markdown",
   "metadata": {},
   "source": [
    "#### Frente a empate entre horas me quedaré con la minima (la mas cercana a t0)"
   ]
  },
  {
   "cell_type": "code",
   "execution_count": 8,
   "metadata": {},
   "outputs": [],
   "source": [
    "auctions[\"hora\"] = auctions[\"date\"].dt.hour\n"
   ]
  },
  {
   "cell_type": "code",
   "execution_count": 9,
   "metadata": {},
   "outputs": [],
   "source": [
    "def tiempo_hasta_hora_minima_frecuente(dataframe,nro_ventana):\n",
    "    segundos_en_hora = 60*60\n",
    "    \n",
    "    feature = obtener_horas_aparicion_maxima(dataframe)\n",
    "    \n",
    "    #Obtengo hora más cerca de t0 = 00 hs\n",
    "    feature = obtener_tiempo_hasta_hora_minima(feature)\n",
    "    feature.rename(columns = {\"hora\":\"tiempo_hora_frec_aparicion_subasta\"},inplace = True)\n",
    "    \n",
    "    return feature\n"
   ]
  },
  {
   "cell_type": "code",
   "execution_count": 10,
   "metadata": {},
   "outputs": [],
   "source": [
    "generar_feature_en_ventanas(auctions, tiempo_hasta_hora_minima_frecuente, Xs)"
   ]
  },
  {
   "cell_type": "markdown",
   "metadata": {},
   "source": [
    "## Tiempo desde t0 hasta la segunda hora más frecuente de aparición"
   ]
  },
  {
   "cell_type": "code",
   "execution_count": 15,
   "metadata": {},
   "outputs": [],
   "source": [
    "def tiempo_hasta_segunda_hora_minima_frecuente(dataframe,nro_ventana):\n",
    "    \n",
    "  \n",
    "    feature = dataframe.groupby([\"device_id\",\"hora\"]).agg({\"date\":\"count\"})\n",
    "    feature.reset_index(inplace = True)\n",
    "    \n",
    "    \n",
    "    apariciones_maximas = obtener_horas_aparicion_maxima(dataframe)\n",
    "    apariciones_maximas.reset_index(inplace = True)\n",
    "\n",
    "    \n",
    "    \n",
    "    #Obtengo los indices de las horas minimas de aparicion maxima para cada dispositivo\n",
    "    horas_minimas = apariciones_maximas.groupby(\"device_id\")[\"hora\"].transform(min) == apariciones_maximas[\"hora\"]\n",
    "\n",
    "    apariciones_maximas = apariciones_maximas[horas_minimas]\n",
    "\n",
    "    \n",
    "    #Me quedo con los datos que no esten entre las horas minimas de aparicion maxima\n",
    "    horas_no_minimas = ~( (feature.isin(apariciones_maximas)))\n",
    "    #Todas las columnas deben ser True\n",
    "    horas_no_minimas = horas_no_minimas.all(1)\n",
    "    \n",
    "        \n",
    "    #Me quedo con los datos para completar aquellos dispositivos que solo contienen datos de una sola hora\n",
    "    datos_restantes = feature[ ~(horas_no_minimas)]\n",
    "\n",
    "    \n",
    "    #Me quedo con los datos que excluyena las horas minimas \n",
    "    feature = feature[horas_no_minimas]\n",
    "    \n",
    "\n",
    "\n",
    "    #obtengo las apariciones maximas dentro de los valores restantes \n",
    "    feature = obtener_horas_aparicion_maxima(feature)\n",
    "    \n",
    "    \n",
    "    #obtengo las horas minimas dentro de los valores restantes( segundas horas minimas)\n",
    "    feature = obtener_tiempo_hasta_hora_minima(feature)\n",
    "\n",
    "        \n",
    "    #Me quedo con los datos que contienen solo una hora \n",
    "    apariciones_unicas = ~( (datos_restantes[\"device_id\"].isin(feature.index)))\n",
    "    \n",
    "    datos_restantes = datos_restantes[apariciones_unicas]\n",
    "  \n",
    "\n",
    "    datos_restantes = obtener_tiempo_hasta_hora_minima(datos_restantes)\n",
    "     \n",
    "    \n",
    "    feature = feature.append(datos_restantes)\n",
    "    \n",
    "    feature.rename(columns = {\"hora\":\"tiempo_segunda_hora_frec_aparicion\"},inplace = True)\n",
    "    \n",
    "    \n",
    "    return feature\n"
   ]
  },
  {
   "cell_type": "code",
   "execution_count": 13,
   "metadata": {},
   "outputs": [],
   "source": [
    "generar_feature_en_ventanas(auctions, tiempo_hasta_segunda_hora_minima_frecuente, Xs)"
   ]
  },
  {
   "cell_type": "markdown",
   "metadata": {},
   "source": [
    "# Guardado de los sets de entrenamiento"
   ]
  },
  {
   "cell_type": "code",
   "execution_count": 16,
   "metadata": {},
   "outputs": [],
   "source": [
    "for ventana_nro in range(1, 6):\n",
    "    Xs[ventana_nro].to_pickle(\"../../features/auctions_train_ventana_{}.pkl\".format(ventana_nro))\n",
    "    Xs[ventana_nro].to_csv(\"../../features/auctions_train_ventana_{}.csv\".format(ventana_nro))"
   ]
  },
  {
   "cell_type": "markdown",
   "metadata": {},
   "source": [
    "---"
   ]
  }
 ],
 "metadata": {
  "kernelspec": {
   "display_name": "Python 3",
   "language": "python",
   "name": "python3"
  },
  "language_info": {
   "codemirror_mode": {
    "name": "ipython",
    "version": 3
   },
   "file_extension": ".py",
   "mimetype": "text/x-python",
   "name": "python",
   "nbconvert_exporter": "python",
   "pygments_lexer": "ipython3",
   "version": "3.6.5"
  }
 },
 "nbformat": 4,
 "nbformat_minor": 2
}
