{
 "cells": [
  {
   "cell_type": "code",
   "execution_count": 3,
   "metadata": {},
   "outputs": [],
   "source": [
    "import pandas as pd\n",
    "import numpy as np"
   ]
  },
  {
   "cell_type": "markdown",
   "metadata": {},
   "source": [
    "---"
   ]
  },
  {
   "cell_type": "markdown",
   "metadata": {},
   "source": [
    "# Carga de datos"
   ]
  },
  {
   "cell_type": "code",
   "execution_count": 2,
   "metadata": {},
   "outputs": [],
   "source": [
    "auctions = pd.read_pickle(\"../../../../data/tp2/auctions_tp2_formateado.pkl\")"
   ]
  },
  {
   "cell_type": "code",
   "execution_count": 3,
   "metadata": {},
   "outputs": [],
   "source": [
    "clicks = pd.read_pickle(\"../../../../data/tp2/clicks_tp2_formateado.pkl\")"
   ]
  },
  {
   "cell_type": "code",
   "execution_count": 4,
   "metadata": {},
   "outputs": [],
   "source": [
    "targets_competencia = pd.read_pickle(\"../../../../data/tp2/ref_hashes_target.pkl\")"
   ]
  },
  {
   "cell_type": "code",
   "execution_count": 5,
   "metadata": {},
   "outputs": [],
   "source": [
    "ventanas = []\n",
    "for x in range(1,8):\n",
    "    ventanas.append(\"ventana_{}\".format(x))"
   ]
  },
  {
   "cell_type": "code",
   "execution_count": 6,
   "metadata": {},
   "outputs": [],
   "source": [
    "columns = [\"date\",\"device_id\",\"dia\"] + ventanas\n",
    "auctions = auctions[columns]\n",
    "clicks = clicks[columns]"
   ]
  },
  {
   "cell_type": "code",
   "execution_count": 7,
   "metadata": {},
   "outputs": [],
   "source": [
    "#Para distinguir despues del merge \n",
    "auctions.rename(columns ={\"date\": \"date_auction\"},inplace = True)\n",
    "clicks.rename(columns ={\"date\": \"date_click\"},inplace = True)"
   ]
  },
  {
   "cell_type": "code",
   "execution_count": 8,
   "metadata": {},
   "outputs": [],
   "source": [
    "auctions_click = pd.merge_asof(clicks,auctions, left_on = \"date_click\", \n",
    "                               right_on = \"date_auction\", by = \"device_id\",\n",
    "                               suffixes = (\"_click\",\"_auction\"))"
   ]
  },
  {
   "cell_type": "code",
   "execution_count": 9,
   "metadata": {},
   "outputs": [],
   "source": [
    "del clicks"
   ]
  },
  {
   "cell_type": "code",
   "execution_count": 10,
   "metadata": {},
   "outputs": [],
   "source": [
    "auctions_click = auctions_click[~auctions_click[\"date_click\"].isnull()]\n",
    "auctions_click = auctions_click[~auctions_click[\"date_auction\"].isnull()]"
   ]
  },
  {
   "cell_type": "markdown",
   "metadata": {},
   "source": [
    "---"
   ]
  },
  {
   "cell_type": "markdown",
   "metadata": {},
   "source": [
    "### De auctions- events me quedo con sólo datos que correspondan a la competencia"
   ]
  },
  {
   "cell_type": "code",
   "execution_count": 11,
   "metadata": {},
   "outputs": [],
   "source": [
    "auctions_click_competencia = auctions_click.loc[auctions_click[\"device_id\"].isin(targets_competencia.index)]"
   ]
  },
  {
   "cell_type": "markdown",
   "metadata": {},
   "source": [
    "---"
   ]
  },
  {
   "cell_type": "markdown",
   "metadata": {},
   "source": [
    "# Cargo features generados hasta el momento"
   ]
  },
  {
   "cell_type": "markdown",
   "metadata": {},
   "source": [
    "## Sets de entrenamiento"
   ]
  },
  {
   "cell_type": "code",
   "execution_count": 12,
   "metadata": {},
   "outputs": [
    {
     "name": "stdout",
     "output_type": "stream",
     "text": [
      "Cargando features\n",
      "No se econtro la ventana 1, se generará\n",
      "No se econtro la ventana 2, se generará\n",
      "No se econtro la ventana 3, se generará\n",
      "No se econtro la ventana 4, se generará\n",
      "No se econtro la ventana 5, se generará\n",
      "No se econtro la ventana 6, se generará\n"
     ]
    }
   ],
   "source": [
    "# Ventanas de tres dias\n",
    "Xs = {}\n",
    "print(\"Cargando features\")\n",
    "for ventana_nro in range(1, 7):\n",
    "    try:\n",
    "        Xs[ventana_nro] = pd.read_csv(\"../../features/ventana_{}_entrenar_relaciones.csv\".format(ventana_nro), index_col=0)\n",
    "        print(\"Ventana {} agregada\".format(ventana_nro))\n",
    "    except FileNotFoundError:\n",
    "        print(\"No se econtro la ventana {}, se generará\".format(ventana_nro))\n",
    "        Xs[ventana_nro] = auctions.loc[auctions[\"ventana_{}\".format(ventana_nro)]][\"device_id\"] \\\n",
    "            .drop_duplicates().to_frame().set_index(\"device_id\").copy()"
   ]
  },
  {
   "cell_type": "markdown",
   "metadata": {},
   "source": [
    "## Set que se usará para predecir"
   ]
  },
  {
   "cell_type": "code",
   "execution_count": 13,
   "metadata": {},
   "outputs": [
    {
     "name": "stdout",
     "output_type": "stream",
     "text": [
      "Cargando features usados para predecir\n",
      "No se encontraron los features usados para predecir, se generará el dataframe requerido\n"
     ]
    }
   ],
   "source": [
    "# Features para hacer las predicciones que se suben, corresponden a la ventana 7\n",
    "Xs_predecir = {}\n",
    "\n",
    "try:\n",
    "    print(\"Cargando features usados para predecir\")\n",
    "    Xs_predecir[7] = pd.read_csv(\"../../features/predecir_relaciones.csv\", index_col=0)\n",
    "except FileNotFoundError:\n",
    "    print(\"No se encontraron los features usados para predecir, se generará el dataframe requerido\")\n",
    "    Xs_predecir[7] = targets_competencia.copy()"
   ]
  },
  {
   "cell_type": "code",
   "execution_count": 14,
   "metadata": {},
   "outputs": [],
   "source": [
    "features = {}\n",
    "# Todos los datasets tienen la misma cantidad y nombre de features, tomo la ventana 1\n",
    "columnas_ya_generadas = list(Xs[6].columns.values)"
   ]
  },
  {
   "cell_type": "markdown",
   "metadata": {},
   "source": [
    "## Cantidad de clicks luego de la ultima subasta dentro de la ventana"
   ]
  },
  {
   "cell_type": "code",
   "execution_count": 15,
   "metadata": {},
   "outputs": [],
   "source": [
    "def cantidad_clicks_desde_ultima_subasta(dataframe,nro_ventana):\n",
    "    \n",
    "    idx = dataframe.groupby([\"device_id\"])[\"date_auction\"].transform(max) == dataframe[\"date_auction\"]\n",
    "    dataframe = dataframe[idx]\n",
    "    \n",
    "    feature= dataframe.groupby([\"device_id\"])[\"date_click\"].agg({\"date_click\":\"count\"})\\\n",
    "                    .rename(columns = {\"date_click\":\"cantidad_clicks_desde_ultima_subasta_hasta_fin_ventana\"})\n",
    "    return feature[\"cantidad_clicks_desde_ultima_subasta_hasta_fin_ventana\"]\n"
   ]
  },
  {
   "cell_type": "code",
   "execution_count": 16,
   "metadata": {},
   "outputs": [],
   "source": [
    "features[\"cantidad_clicks_desde_ultima_subasta_hasta_fin_ventana\"] = (cantidad_clicks_desde_ultima_subasta, [\"cantidad_clicks_desde_ultima_subasta_hasta_fin_ventana\"])"
   ]
  },
  {
   "cell_type": "markdown",
   "metadata": {},
   "source": [
    "---"
   ]
  },
  {
   "cell_type": "code",
   "execution_count": 17,
   "metadata": {},
   "outputs": [],
   "source": [
    "def generar_feature_en_ventanas(dataframe, generador_feature, destinos, ventana_inicial, ventana_final,nombre_data_merge):\n",
    "    \"\"\"El rango se toma como python, [ventana_inicial, ventana_final)\"\"\"\n",
    "    for ventana_nro in range(ventana_inicial, ventana_final):\n",
    "        print(\"generando feature en v{}\".format(ventana_nro))\n",
    "       \n",
    "        condicion = dataframe[\"ventana_{}_auction\".format(ventana_nro)] & dataframe[\"ventana_{}\".format(ventana_nro) +\"_\"+nombre_data_merge]\n",
    "        \n",
    "        feature = generador_feature(dataframe.loc[condicion], ventana_nro)\n",
    "        destinos[ventana_nro] = destinos[ventana_nro].merge(feature, left_index=True, right_index=True, how=\"left\")\n",
    "        destinos[ventana_nro].fillna(0,inplace = True)"
   ]
  },
  {
   "cell_type": "markdown",
   "metadata": {},
   "source": [
    "### Genero los features"
   ]
  },
  {
   "cell_type": "code",
   "execution_count": 18,
   "metadata": {},
   "outputs": [
    {
     "name": "stdout",
     "output_type": "stream",
     "text": [
      "Generando feature cantidad_clicks_desde_ultima_subasta_hasta_fin_ventana en ventanas\n",
      "generando feature en v1\n"
     ]
    },
    {
     "name": "stderr",
     "output_type": "stream",
     "text": [
      "/home/pelozo/anaconda3/lib/python3.6/site-packages/ipykernel_launcher.py:6: FutureWarning: using a dict on a Series for aggregation\n",
      "is deprecated and will be removed in a future version\n",
      "  \n"
     ]
    },
    {
     "name": "stdout",
     "output_type": "stream",
     "text": [
      "generando feature en v2\n",
      "generando feature en v3\n",
      "generando feature en v4\n",
      "generando feature en v5\n",
      "generando feature en v6\n",
      "Generando feature cantidad_clicks_desde_ultima_subasta_hasta_fin_ventana en set de predicciones\n",
      "generando feature en v7\n"
     ]
    }
   ],
   "source": [
    "COLUMNAS_QUE_GENERA_EL_FEATURE = 1\n",
    "FUNCION_PARA_CALCULAR_EL_FEATURE = 0\n",
    "\n",
    "for nombre_feature in features:    \n",
    "    columnas_generadas = features[nombre_feature][COLUMNAS_QUE_GENERA_EL_FEATURE]\n",
    "    feature_ya_generado = False\n",
    "    for columna in columnas_generadas:\n",
    "        if columna in columnas_ya_generadas:\n",
    "            feature_ya_generado = True\n",
    "            break\n",
    "    \n",
    "    if feature_ya_generado:\n",
    "        continue\n",
    "    \n",
    "    print(\"Generando feature {} en ventanas\".format(nombre_feature))\n",
    "    generar_feature_en_ventanas(auctions_click, features[nombre_feature][FUNCION_PARA_CALCULAR_EL_FEATURE], Xs, 1, 7,\"click\")\n",
    "    print(\"Generando feature {} en set de predicciones\".format(nombre_feature))\n",
    "    generar_feature_en_ventanas(auctions_click_competencia, features[nombre_feature][FUNCION_PARA_CALCULAR_EL_FEATURE], Xs_predecir, 7, 8, \"click\")\n",
    "    columnas_ya_generadas.extend(features[nombre_feature][COLUMNAS_QUE_GENERA_EL_FEATURE])"
   ]
  },
  {
   "cell_type": "code",
   "execution_count": 19,
   "metadata": {},
   "outputs": [],
   "source": [
    "del auctions_click"
   ]
  },
  {
   "cell_type": "markdown",
   "metadata": {},
   "source": [
    "---"
   ]
  },
  {
   "cell_type": "markdown",
   "metadata": {},
   "source": [
    "### Installs"
   ]
  },
  {
   "cell_type": "code",
   "execution_count": 20,
   "metadata": {},
   "outputs": [],
   "source": [
    "installs = pd.read_pickle(\"../../../../data/tp2/installs_tp2_formateado.pkl\")"
   ]
  },
  {
   "cell_type": "code",
   "execution_count": 21,
   "metadata": {},
   "outputs": [],
   "source": [
    "installs = installs[columns]"
   ]
  },
  {
   "cell_type": "code",
   "execution_count": 22,
   "metadata": {},
   "outputs": [],
   "source": [
    "#Para distinguir despues del merge \n",
    "installs.rename(columns ={\"date\": \"date_install\"},inplace = True)"
   ]
  },
  {
   "cell_type": "code",
   "execution_count": 23,
   "metadata": {},
   "outputs": [],
   "source": [
    "auctions_install = pd.merge_asof(installs,auctions, left_on = \"date_install\", \n",
    "                               right_on = \"date_auction\", by = \"device_id\",\n",
    "                               suffixes = (\"_install\",\"_auction\"))"
   ]
  },
  {
   "cell_type": "code",
   "execution_count": 24,
   "metadata": {},
   "outputs": [],
   "source": [
    "auctions_install = auctions_install[~auctions_install[\"date_install\"].isnull()]\n",
    "auctions_install = auctions_install[~auctions_install[\"date_auction\"].isnull()]"
   ]
  },
  {
   "cell_type": "markdown",
   "metadata": {},
   "source": [
    "### De auctions- install me quedo con sólo datos que correspondan a la competencia"
   ]
  },
  {
   "cell_type": "code",
   "execution_count": 25,
   "metadata": {},
   "outputs": [],
   "source": [
    "auctions_install_competencia = auctions_install.loc[auctions_install[\"device_id\"].isin(targets_competencia.index)]"
   ]
  },
  {
   "cell_type": "markdown",
   "metadata": {},
   "source": [
    "## Cantidad de installs luego de la ultima subasta dentro de la ventana"
   ]
  },
  {
   "cell_type": "code",
   "execution_count": 26,
   "metadata": {},
   "outputs": [],
   "source": [
    "def cantidad_installs_desde_ultima_subasta(dataframe,nro_ventana):\n",
    "    \n",
    "    idx = dataframe.groupby([\"device_id\"])[\"date_auction\"].transform(max) == dataframe[\"date_auction\"]\n",
    "    dataframe = dataframe[idx]\n",
    "    \n",
    "    feature = dataframe.groupby([\"device_id\"])[\"date_install\"].agg({\"date_install\":\"count\"})\\\n",
    "                    .rename(columns = {\"date_install\":\"cantidad_installs_desde_ultima_subasta_hasta_fin_ventana\"})\n",
    "    return feature[\"cantidad_installs_desde_ultima_subasta_hasta_fin_ventana\"]\n"
   ]
  },
  {
   "cell_type": "code",
   "execution_count": 27,
   "metadata": {},
   "outputs": [],
   "source": [
    "features[\"cantidad_installs_desde_ultima_subasta_hasta_fin_ventana\"] = (cantidad_installs_desde_ultima_subasta, [\"cantidad_installs_desde_ultima_subasta_hasta_fin_ventana\"])"
   ]
  },
  {
   "cell_type": "markdown",
   "metadata": {},
   "source": [
    "---"
   ]
  },
  {
   "cell_type": "markdown",
   "metadata": {},
   "source": [
    "### Genero los features"
   ]
  },
  {
   "cell_type": "code",
   "execution_count": 28,
   "metadata": {},
   "outputs": [
    {
     "name": "stdout",
     "output_type": "stream",
     "text": [
      "Generando feature cantidad_installs_desde_ultima_subasta_hasta_fin_ventana en ventanas\n",
      "generando feature en v1\n"
     ]
    },
    {
     "name": "stderr",
     "output_type": "stream",
     "text": [
      "/home/pelozo/anaconda3/lib/python3.6/site-packages/ipykernel_launcher.py:6: FutureWarning: using a dict on a Series for aggregation\n",
      "is deprecated and will be removed in a future version\n",
      "  \n"
     ]
    },
    {
     "name": "stdout",
     "output_type": "stream",
     "text": [
      "generando feature en v2\n",
      "generando feature en v3\n",
      "generando feature en v4\n",
      "generando feature en v5\n",
      "generando feature en v6\n",
      "Generando feature cantidad_installs_desde_ultima_subasta_hasta_fin_ventana en set de predicciones\n",
      "generando feature en v7\n"
     ]
    }
   ],
   "source": [
    "COLUMNAS_QUE_GENERA_EL_FEATURE = 1\n",
    "FUNCION_PARA_CALCULAR_EL_FEATURE = 0\n",
    "\n",
    "for nombre_feature in features:    \n",
    "    columnas_generadas = features[nombre_feature][COLUMNAS_QUE_GENERA_EL_FEATURE]\n",
    "    feature_ya_generado = False\n",
    "    for columna in columnas_generadas:\n",
    "        if columna in columnas_ya_generadas:\n",
    "            feature_ya_generado = True\n",
    "            break\n",
    "    \n",
    "    if feature_ya_generado:\n",
    "        continue\n",
    "    \n",
    "    print(\"Generando feature {} en ventanas\".format(nombre_feature))\n",
    "    generar_feature_en_ventanas(auctions_install, features[nombre_feature][FUNCION_PARA_CALCULAR_EL_FEATURE], Xs, 1, 7,\"install\")\n",
    "    print(\"Generando feature {} en set de predicciones\".format(nombre_feature))\n",
    "    generar_feature_en_ventanas(auctions_install, features[nombre_feature][FUNCION_PARA_CALCULAR_EL_FEATURE], Xs_predecir, 7, 8, \"install\")\n",
    "    columnas_ya_generadas.extend(features[nombre_feature][COLUMNAS_QUE_GENERA_EL_FEATURE])"
   ]
  },
  {
   "cell_type": "markdown",
   "metadata": {},
   "source": [
    "## Guardando"
   ]
  },
  {
   "cell_type": "code",
   "execution_count": 6,
   "metadata": {},
   "outputs": [],
   "source": [
    "for ventana_nro in range(1, 7):\n",
    "    Xs[ventana_nro].to_csv(\"../../features/ventana_{}_entrenar_relaciones.csv\".format(ventana_nro))\n",
    "\n",
    "Xs_predecir[7].to_csv(\"../../features/predecir_relaciones.csv\")"
   ]
  }
 ],
 "metadata": {
  "kernelspec": {
   "display_name": "Python 3",
   "language": "python",
   "name": "python3"
  },
  "language_info": {
   "codemirror_mode": {
    "name": "ipython",
    "version": 3
   },
   "file_extension": ".py",
   "mimetype": "text/x-python",
   "name": "python",
   "nbconvert_exporter": "python",
   "pygments_lexer": "ipython3",
   "version": "3.6.8"
  }
 },
 "nbformat": 4,
 "nbformat_minor": 2
}
