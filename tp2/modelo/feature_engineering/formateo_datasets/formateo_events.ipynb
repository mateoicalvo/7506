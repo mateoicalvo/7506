{
 "cells": [
  {
   "cell_type": "markdown",
   "metadata": {},
   "source": [
    "# Imports"
   ]
  },
  {
   "cell_type": "code",
   "execution_count": 1,
   "metadata": {},
   "outputs": [],
   "source": [
    "import pandas as pd\n",
    "import numpy as np"
   ]
  },
  {
   "cell_type": "markdown",
   "metadata": {},
   "source": [
    "---"
   ]
  },
  {
   "cell_type": "code",
   "execution_count": 16,
   "metadata": {},
   "outputs": [],
   "source": [
    "# Columnas a cargar\n",
    "columnas_cargar = [\"date\", \"event_id\",\"ref_type\",\"ref_hash\",\"application_id\",\"attributed\", \"session_user_agent\", \"kind\", \"wifi\"]\n",
    "# Definicion de tipos\n",
    "tipos = {\"event_id\" : \"int16\",\n",
    "         \"ref_hash\" : \"int64\",\n",
    "         \"application_id\" : \"int16\",\n",
    "         \"attributed\": \"bool\",\n",
    "         \"wifi\":\"bool\"}\n",
    "\n",
    "events = pd.read_csv(\"../../../../data/tp2/events.csv\", usecols=columnas_cargar, dtype=tipos, parse_dates=[\"date\"])\n"
   ]
  },
  {
   "cell_type": "markdown",
   "metadata": {},
   "source": [
    "### Formateo el sistema operativo"
   ]
  },
  {
   "cell_type": "code",
   "execution_count": 17,
   "metadata": {},
   "outputs": [],
   "source": [
    "events['os'] = 1 * ((events[\"ref_type\"] == 1891515180541284343).astype('int8'))"
   ]
  },
  {
   "cell_type": "code",
   "execution_count": 13,
   "metadata": {},
   "outputs": [],
   "source": [
    "events.drop(columns = {\"ref_type\"},inplace = True)"
   ]
  },
  {
   "cell_type": "code",
   "execution_count": 18,
   "metadata": {},
   "outputs": [
    {
     "data": {
      "text/plain": [
       "1    6421584\n",
       "0    1322997\n",
       "Name: os, dtype: int64"
      ]
     },
     "execution_count": 18,
     "metadata": {},
     "output_type": "execute_result"
    }
   ],
   "source": [
    "events[\"os\"].value_counts()"
   ]
  },
  {
   "cell_type": "markdown",
   "metadata": {},
   "source": [
    "### 1 ---> ANDROID \n",
    "### 0 ---> IOS"
   ]
  },
  {
   "cell_type": "code",
   "execution_count": 42,
   "metadata": {},
   "outputs": [],
   "source": [
    "events.sort_values(by = \"date\",inplace = True)"
   ]
  },
  {
   "cell_type": "code",
   "execution_count": 62,
   "metadata": {},
   "outputs": [],
   "source": [
    "events[\"dayofweek\"] = (events[\"date\"].dt.dayofweek).astype(\"int8\")"
   ]
  },
  {
   "cell_type": "code",
   "execution_count": 26,
   "metadata": {},
   "outputs": [],
   "source": [
    "def armar_ventanas(dataset,col_fecha):\n",
    "    \"\"\"Recibe el dataset y una string indicando el \n",
    "    nombre de la columna que lleva la fecha\"\"\"\n",
    "    \n",
    "    ventanas = []\n",
    "    for x in range(5):\n",
    "        ventanas.append((dataset.loc[((18+x) <= dataset[col_fecha].dt.day) & (dataset[col_fecha].dt.day <= (20+x))]))\n",
    "    return ventanas"
   ]
  },
  {
   "cell_type": "code",
   "execution_count": 70,
   "metadata": {},
   "outputs": [],
   "source": [
    "def target_ventanas(ventanas):\n",
    "    entrenamientos = []\n",
    "    for ventana in ventanas:\n",
    "        ent = ventana[\"ref_hash\"].drop_duplicates().to_frame()\n",
    "        ent.rename(columns ={\"ref_hash\":\"device_id\"},inplace = True)\n",
    "        ent.set_index(\"device_id\", inplace=True)\n",
    "        entrenamientos.append(ent)\n",
    "    return entrenamientos"
   ]
  },
  {
   "cell_type": "code",
   "execution_count": 63,
   "metadata": {},
   "outputs": [],
   "source": [
    "ventanas = armar_ventanas(events,\"date\")"
   ]
  },
  {
   "cell_type": "code",
   "execution_count": 71,
   "metadata": {},
   "outputs": [],
   "source": [
    "targets = target_ventanas(ventanas)"
   ]
  },
  {
   "cell_type": "markdown",
   "metadata": {},
   "source": [
    "## Comienzo a trabajar con la primer ventana"
   ]
  },
  {
   "cell_type": "code",
   "execution_count": 64,
   "metadata": {},
   "outputs": [],
   "source": [
    "ventana1 = ventanas[0]"
   ]
  },
  {
   "cell_type": "code",
   "execution_count": 105,
   "metadata": {},
   "outputs": [],
   "source": [
    "entrenamiento1 = targets[0]"
   ]
  },
  {
   "cell_type": "code",
   "execution_count": 86,
   "metadata": {},
   "outputs": [
    {
     "data": {
      "text/html": [
       "<div>\n",
       "<style scoped>\n",
       "    .dataframe tbody tr th:only-of-type {\n",
       "        vertical-align: middle;\n",
       "    }\n",
       "\n",
       "    .dataframe tbody tr th {\n",
       "        vertical-align: top;\n",
       "    }\n",
       "\n",
       "    .dataframe thead th {\n",
       "        text-align: right;\n",
       "    }\n",
       "</style>\n",
       "<table border=\"1\" class=\"dataframe\">\n",
       "  <thead>\n",
       "    <tr style=\"text-align: right;\">\n",
       "      <th></th>\n",
       "      <th>date</th>\n",
       "      <th>event_id</th>\n",
       "      <th>ref_type</th>\n",
       "      <th>ref_hash</th>\n",
       "      <th>application_id</th>\n",
       "      <th>attributed</th>\n",
       "      <th>session_user_agent</th>\n",
       "      <th>kind</th>\n",
       "      <th>wifi</th>\n",
       "      <th>os</th>\n",
       "      <th>dayofweek</th>\n",
       "    </tr>\n",
       "  </thead>\n",
       "  <tbody>\n",
       "    <tr>\n",
       "      <th>170092</th>\n",
       "      <td>2019-04-18 00:00:00.027</td>\n",
       "      <td>13</td>\n",
       "      <td>1891515180541284343</td>\n",
       "      <td>4314242242878368557</td>\n",
       "      <td>65</td>\n",
       "      <td>False</td>\n",
       "      <td>3.819516e+18</td>\n",
       "      <td>4.853173e+18</td>\n",
       "      <td>True</td>\n",
       "      <td>1</td>\n",
       "      <td>3</td>\n",
       "    </tr>\n",
       "    <tr>\n",
       "      <th>947821</th>\n",
       "      <td>2019-04-18 00:00:00.071</td>\n",
       "      <td>158</td>\n",
       "      <td>1494519392962156891</td>\n",
       "      <td>2068670382964280534</td>\n",
       "      <td>230</td>\n",
       "      <td>False</td>\n",
       "      <td>3.819516e+18</td>\n",
       "      <td>8.370513e+18</td>\n",
       "      <td>True</td>\n",
       "      <td>0</td>\n",
       "      <td>3</td>\n",
       "    </tr>\n",
       "    <tr>\n",
       "      <th>1724915</th>\n",
       "      <td>2019-04-18 00:00:00.102</td>\n",
       "      <td>15</td>\n",
       "      <td>1891515180541284343</td>\n",
       "      <td>726218951290512705</td>\n",
       "      <td>65</td>\n",
       "      <td>False</td>\n",
       "      <td>3.819516e+18</td>\n",
       "      <td>5.500848e+18</td>\n",
       "      <td>True</td>\n",
       "      <td>1</td>\n",
       "      <td>3</td>\n",
       "    </tr>\n",
       "    <tr>\n",
       "      <th>2794789</th>\n",
       "      <td>2019-04-18 00:00:00.309</td>\n",
       "      <td>0</td>\n",
       "      <td>1891515180541284343</td>\n",
       "      <td>1329210878469536477</td>\n",
       "      <td>263</td>\n",
       "      <td>False</td>\n",
       "      <td>3.819516e+18</td>\n",
       "      <td>5.882882e+18</td>\n",
       "      <td>False</td>\n",
       "      <td>1</td>\n",
       "      <td>3</td>\n",
       "    </tr>\n",
       "    <tr>\n",
       "      <th>5526010</th>\n",
       "      <td>2019-04-18 00:00:00.486</td>\n",
       "      <td>2</td>\n",
       "      <td>1891515180541284343</td>\n",
       "      <td>5661732594213028190</td>\n",
       "      <td>210</td>\n",
       "      <td>False</td>\n",
       "      <td>3.819516e+18</td>\n",
       "      <td>6.168309e+18</td>\n",
       "      <td>False</td>\n",
       "      <td>1</td>\n",
       "      <td>3</td>\n",
       "    </tr>\n",
       "  </tbody>\n",
       "</table>\n",
       "</div>"
      ],
      "text/plain": [
       "                           date  event_id             ref_type  \\\n",
       "170092  2019-04-18 00:00:00.027        13  1891515180541284343   \n",
       "947821  2019-04-18 00:00:00.071       158  1494519392962156891   \n",
       "1724915 2019-04-18 00:00:00.102        15  1891515180541284343   \n",
       "2794789 2019-04-18 00:00:00.309         0  1891515180541284343   \n",
       "5526010 2019-04-18 00:00:00.486         2  1891515180541284343   \n",
       "\n",
       "                    ref_hash  application_id  attributed  session_user_agent  \\\n",
       "170092   4314242242878368557              65       False        3.819516e+18   \n",
       "947821   2068670382964280534             230       False        3.819516e+18   \n",
       "1724915   726218951290512705              65       False        3.819516e+18   \n",
       "2794789  1329210878469536477             263       False        3.819516e+18   \n",
       "5526010  5661732594213028190             210       False        3.819516e+18   \n",
       "\n",
       "                 kind   wifi  os  dayofweek  \n",
       "170092   4.853173e+18   True   1          3  \n",
       "947821   8.370513e+18   True   0          3  \n",
       "1724915  5.500848e+18   True   1          3  \n",
       "2794789  5.882882e+18  False   1          3  \n",
       "5526010  6.168309e+18  False   1          3  "
      ]
     },
     "execution_count": 86,
     "metadata": {},
     "output_type": "execute_result"
    }
   ],
   "source": [
    "ventana1.head()"
   ]
  },
  {
   "cell_type": "markdown",
   "metadata": {},
   "source": [
    "## Promedio de eventos por día"
   ]
  },
  {
   "cell_type": "code",
   "execution_count": 100,
   "metadata": {},
   "outputs": [],
   "source": [
    "feature = ventana1.groupby([\"ref_hash\",\"dayofweek\"]).size()\\\n",
    "                  .groupby(\"ref_hash\").mean()\\\n",
    "                  .to_frame().rename(columns = {0:\"promedio_eventos\"})"
   ]
  },
  {
   "cell_type": "code",
   "execution_count": 104,
   "metadata": {},
   "outputs": [],
   "source": [
    "feature[\"promedio_eventos\"] = feature[\"promedio_eventos\"].astype(\"int64\")"
   ]
  },
  {
   "cell_type": "code",
   "execution_count": 108,
   "metadata": {},
   "outputs": [],
   "source": [
    "entrenamiento1 = entrenamiento1.merge(feature, how = 'left',left_index = True,right_index = True)"
   ]
  },
  {
   "cell_type": "markdown",
   "metadata": {},
   "source": [
    "## Evento más frecuente"
   ]
  },
  {
   "cell_type": "code",
   "execution_count": 149,
   "metadata": {},
   "outputs": [],
   "source": [
    "feature = ventana1.groupby([\"ref_hash\",\"event_id\"]).size().to_frame()\n",
    "                  "
   ]
  },
  {
   "cell_type": "code",
   "execution_count": 158,
   "metadata": {},
   "outputs": [],
   "source": [
    "idx = feature.groupby(['ref_hash'])[0].transform(max) == feature[0]\n",
    "feature = feature[idx]"
   ]
  },
  {
   "cell_type": "markdown",
   "metadata": {},
   "source": [
    "### ¿Hay dispositivos que tengan más de un evento como máximo ?"
   ]
  },
  {
   "cell_type": "code",
   "execution_count": 201,
   "metadata": {},
   "outputs": [
    {
     "data": {
      "text/plain": [
       "27801"
      ]
     },
     "execution_count": 201,
     "metadata": {},
     "output_type": "execute_result"
    }
   ],
   "source": [
    "((feature.groupby([\"ref_hash\"]).count()[0]) > 1).sum()"
   ]
  },
  {
   "cell_type": "markdown",
   "metadata": {},
   "source": [
    "### ¿Cual es el máximo numero de eventos empatados como máximo por dispositivo?"
   ]
  },
  {
   "cell_type": "code",
   "execution_count": 196,
   "metadata": {},
   "outputs": [
    {
     "data": {
      "text/plain": [
       "10"
      ]
     },
     "execution_count": 196,
     "metadata": {},
     "output_type": "execute_result"
    }
   ],
   "source": [
    "(feature.groupby([\"ref_hash\"]).count()[0]).max()"
   ]
  },
  {
   "cell_type": "markdown",
   "metadata": {},
   "source": [
    "### ¿Qué criterio se toma para decidir con cual evento quedarse? "
   ]
  },
  {
   "cell_type": "code",
   "execution_count": 167,
   "metadata": {},
   "outputs": [
    {
     "data": {
      "text/plain": [
       "0    27801\n",
       "dtype: int64"
      ]
     },
     "execution_count": 167,
     "metadata": {},
     "output_type": "execute_result"
    }
   ],
   "source": [
    "idx = feature.groupby(['ref_hash'])[0].transform(max) == feature[0]\n",
    "\n",
    "(feature.groupby([\"ref_hash\"]).count() > 1).sum()"
   ]
  },
  {
   "cell_type": "markdown",
   "metadata": {},
   "source": [
    "### Voy a crear una lista ordenada de los eventos más presentes por dispositivo, contando un solo dispositivo por evento para no desbalancear si un dispositivo hace 10000 el mismo evento.\n",
    "### Esto podría dar un orden de importancia entre eventos"
   ]
  },
  {
   "cell_type": "code",
   "execution_count": 184,
   "metadata": {},
   "outputs": [],
   "source": [
    "top_eventos = ventana1.groupby([\"ref_hash\",\"event_id\"]).size().reset_index()\\\n",
    "                      .groupby(\"event_id\").size().sort_values(ascending = False)"
   ]
  },
  {
   "cell_type": "code",
   "execution_count": 185,
   "metadata": {},
   "outputs": [
    {
     "data": {
      "text/plain": [
       "event_id\n",
       "23    63062\n",
       "15    45078\n",
       "7     32720\n",
       "0     25747\n",
       "2     20475\n",
       "dtype: int64"
      ]
     },
     "execution_count": 185,
     "metadata": {},
     "output_type": "execute_result"
    }
   ],
   "source": [
    "top_eventos.head()"
   ]
  },
  {
   "cell_type": "code",
   "execution_count": 189,
   "metadata": {},
   "outputs": [
    {
     "data": {
      "text/plain": [
       "[23,\n",
       " 15,\n",
       " 7,\n",
       " 0,\n",
       " 2,\n",
       " 1,\n",
       " 106,\n",
       " 101,\n",
       " 13,\n",
       " 100,\n",
       " 245,\n",
       " 3,\n",
       " 104,\n",
       " 14,\n",
       " 287,\n",
       " 118,\n",
       " 39,\n",
       " 28,\n",
       " 24,\n",
       " 120,\n",
       " 246,\n",
       " 108,\n",
       " 115,\n",
       " 16,\n",
       " 116,\n",
       " 105,\n",
       " 18,\n",
       " 27,\n",
       " 288,\n",
       " 121,\n",
       " 17,\n",
       " 363,\n",
       " 109,\n",
       " 157,\n",
       " 26,\n",
       " 296,\n",
       " 25,\n",
       " 110,\n",
       " 342,\n",
       " 249,\n",
       " 19,\n",
       " 248,\n",
       " 216,\n",
       " 341,\n",
       " 162,\n",
       " 4,\n",
       " 247,\n",
       " 102,\n",
       " 211,\n",
       " 103,\n",
       " 345,\n",
       " 117,\n",
       " 119,\n",
       " 123,\n",
       " 452,\n",
       " 364,\n",
       " 159,\n",
       " 286,\n",
       " 163,\n",
       " 454,\n",
       " 160,\n",
       " 122,\n",
       " 12,\n",
       " 381,\n",
       " 158,\n",
       " 172,\n",
       " 173,\n",
       " 453,\n",
       " 161,\n",
       " 155,\n",
       " 64,\n",
       " 177,\n",
       " 289,\n",
       " 124,\n",
       " 198,\n",
       " 432,\n",
       " 171,\n",
       " 48,\n",
       " 486,\n",
       " 129,\n",
       " 255,\n",
       " 455,\n",
       " 218,\n",
       " 212,\n",
       " 77,\n",
       " 184,\n",
       " 521,\n",
       " 114,\n",
       " 346,\n",
       " 30,\n",
       " 187,\n",
       " 217,\n",
       " 213,\n",
       " 380,\n",
       " 180,\n",
       " 319,\n",
       " 74,\n",
       " 66,\n",
       " 185,\n",
       " 329,\n",
       " 164,\n",
       " 181,\n",
       " 175,\n",
       " 431,\n",
       " 70,\n",
       " 22,\n",
       " 67,\n",
       " 174,\n",
       " 186,\n",
       " 555,\n",
       " 65,\n",
       " 365,\n",
       " 21,\n",
       " 176,\n",
       " 73,\n",
       " 63,\n",
       " 53,\n",
       " 518,\n",
       " 126,\n",
       " 290,\n",
       " 199,\n",
       " 76,\n",
       " 516,\n",
       " 156,\n",
       " 71,\n",
       " 328,\n",
       " 182,\n",
       " 170,\n",
       " 178,\n",
       " 80,\n",
       " 165,\n",
       " 556,\n",
       " 69,\n",
       " 250,\n",
       " 68,\n",
       " 33,\n",
       " 522,\n",
       " 142,\n",
       " 344,\n",
       " 113,\n",
       " 306,\n",
       " 307,\n",
       " 503,\n",
       " 302,\n",
       " 347,\n",
       " 81,\n",
       " 308,\n",
       " 227,\n",
       " 183,\n",
       " 304,\n",
       " 83,\n",
       " 241,\n",
       " 229,\n",
       " 330,\n",
       " 506,\n",
       " 387,\n",
       " 75,\n",
       " 189,\n",
       " 358,\n",
       " 188,\n",
       " 82,\n",
       " 399,\n",
       " 128,\n",
       " 433,\n",
       " 508,\n",
       " 72,\n",
       " 398,\n",
       " 179,\n",
       " 396,\n",
       " 531,\n",
       " 434,\n",
       " 92,\n",
       " 517,\n",
       " 219,\n",
       " 252,\n",
       " 78,\n",
       " 95,\n",
       " 400,\n",
       " 390,\n",
       " 394,\n",
       " 356,\n",
       " 331,\n",
       " 401,\n",
       " 210,\n",
       " 96,\n",
       " 132,\n",
       " 9,\n",
       " 552,\n",
       " 389,\n",
       " 320,\n",
       " 299,\n",
       " 391,\n",
       " 392,\n",
       " 127,\n",
       " 494,\n",
       " 93,\n",
       " 393,\n",
       " 404,\n",
       " 79,\n",
       " 265,\n",
       " 402,\n",
       " 36,\n",
       " 125,\n",
       " 309,\n",
       " 275,\n",
       " 532,\n",
       " 85,\n",
       " 111,\n",
       " 193,\n",
       " 20,\n",
       " 395,\n",
       " 94,\n",
       " 397,\n",
       " 350,\n",
       " 386,\n",
       " 456,\n",
       " 501,\n",
       " 277,\n",
       " 300,\n",
       " 270,\n",
       " 251,\n",
       " 37,\n",
       " 202,\n",
       " 317,\n",
       " 281,\n",
       " 191,\n",
       " 256,\n",
       " 204,\n",
       " 280,\n",
       " 385,\n",
       " 279,\n",
       " 535,\n",
       " 134,\n",
       " 403,\n",
       " 112,\n",
       " 551,\n",
       " 207,\n",
       " 359,\n",
       " 264,\n",
       " 206,\n",
       " 262,\n",
       " 483,\n",
       " 310,\n",
       " 236,\n",
       " 513,\n",
       " 201,\n",
       " 205,\n",
       " 167,\n",
       " 143,\n",
       " 84,\n",
       " 343,\n",
       " 192,\n",
       " 38,\n",
       " 266,\n",
       " 194,\n",
       " 87,\n",
       " 263,\n",
       " 378,\n",
       " 481,\n",
       " 253,\n",
       " 228,\n",
       " 450,\n",
       " 495,\n",
       " 422,\n",
       " 88,\n",
       " 86,\n",
       " 196,\n",
       " 530,\n",
       " 291,\n",
       " 237,\n",
       " 133,\n",
       " 152,\n",
       " 272,\n",
       " 382,\n",
       " 447,\n",
       " 298,\n",
       " 311,\n",
       " 136,\n",
       " 418,\n",
       " 333,\n",
       " 144,\n",
       " 293,\n",
       " 512,\n",
       " 224,\n",
       " 443,\n",
       " 379,\n",
       " 388,\n",
       " 230,\n",
       " 405,\n",
       " 357,\n",
       " 107,\n",
       " 410,\n",
       " 482,\n",
       " 458,\n",
       " 145,\n",
       " 474,\n",
       " 326,\n",
       " 339,\n",
       " 135,\n",
       " 337,\n",
       " 499,\n",
       " 148,\n",
       " 360,\n",
       " 99,\n",
       " 168,\n",
       " 200,\n",
       " 151,\n",
       " 267,\n",
       " 208,\n",
       " 220,\n",
       " 321,\n",
       " 257,\n",
       " 223,\n",
       " 514,\n",
       " 372,\n",
       " 254,\n",
       " 545,\n",
       " 226,\n",
       " 484,\n",
       " 553,\n",
       " 485,\n",
       " 497,\n",
       " 409,\n",
       " 413,\n",
       " 414,\n",
       " 371,\n",
       " 464,\n",
       " 463,\n",
       " 423,\n",
       " 520,\n",
       " 153,\n",
       " 285,\n",
       " 352,\n",
       " 351,\n",
       " 340,\n",
       " 294,\n",
       " 498,\n",
       " 295,\n",
       " 297,\n",
       " 528,\n",
       " 89,\n",
       " 332,\n",
       " 457,\n",
       " 473,\n",
       " 444,\n",
       " 448,\n",
       " 449,\n",
       " 451,\n",
       " 195,\n",
       " 31,\n",
       " 500,\n",
       " 574,\n",
       " 558,\n",
       " 557,\n",
       " 544,\n",
       " 543,\n",
       " 536,\n",
       " 534,\n",
       " 533,\n",
       " 527,\n",
       " 526,\n",
       " 525,\n",
       " 519,\n",
       " 507,\n",
       " 502,\n",
       " 441,\n",
       " 442,\n",
       " 406,\n",
       " 440,\n",
       " 303,\n",
       " 140,\n",
       " 146,\n",
       " 147,\n",
       " 149,\n",
       " 150,\n",
       " 154,\n",
       " 323,\n",
       " 322,\n",
       " 305,\n",
       " 166,\n",
       " 334,\n",
       " 292,\n",
       " 282,\n",
       " 575,\n",
       " 259,\n",
       " 242,\n",
       " 225,\n",
       " 209,\n",
       " 190,\n",
       " 197,\n",
       " 139,\n",
       " 362,\n",
       " 438,\n",
       " 417,\n",
       " 436,\n",
       " 435,\n",
       " 430,\n",
       " 429,\n",
       " 428,\n",
       " 421,\n",
       " 90,\n",
       " 420,\n",
       " 419,\n",
       " 416,\n",
       " 368,\n",
       " 97,\n",
       " 415,\n",
       " 412,\n",
       " 411,\n",
       " 408,\n",
       " 407,\n",
       " 383,\n",
       " 370,\n",
       " 369,\n",
       " 576]"
      ]
     },
     "execution_count": 189,
     "metadata": {},
     "output_type": "execute_result"
    }
   ],
   "source": [
    "top_eventos.index.to_list()"
   ]
  },
  {
   "cell_type": "code",
   "execution_count": null,
   "metadata": {},
   "outputs": [],
   "source": []
  }
 ],
 "metadata": {
  "kernelspec": {
   "display_name": "Python 3",
   "language": "python",
   "name": "python3"
  },
  "language_info": {
   "codemirror_mode": {
    "name": "ipython",
    "version": 3
   },
   "file_extension": ".py",
   "mimetype": "text/x-python",
   "name": "python",
   "nbconvert_exporter": "python",
   "pygments_lexer": "ipython3",
   "version": "3.6.8"
  }
 },
 "nbformat": 4,
 "nbformat_minor": 2
}
