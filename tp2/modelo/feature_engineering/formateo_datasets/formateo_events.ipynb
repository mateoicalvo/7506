{
 "cells": [
  {
   "cell_type": "markdown",
   "metadata": {},
   "source": [
    "# Imports"
   ]
  },
  {
   "cell_type": "code",
   "execution_count": 1,
   "metadata": {},
   "outputs": [],
   "source": [
    "import pandas as pd\n",
    "import numpy as np"
   ]
  },
  {
   "cell_type": "markdown",
   "metadata": {},
   "source": [
    "---"
   ]
  },
  {
   "cell_type": "code",
   "execution_count": 16,
   "metadata": {},
   "outputs": [],
   "source": [
    "# Columnas a cargar\n",
    "columnas_cargar = [\"date\", \"event_id\",\"ref_type\",\"ref_hash\",\"application_id\",\"attributed\", \"session_user_agent\", \"kind\", \"wifi\"]\n",
    "# Definicion de tipos\n",
    "tipos = {\"event_id\" : \"int16\",\n",
    "         \"ref_hash\" : \"int64\",\n",
    "         \"application_id\" : \"int16\",\n",
    "         \"attributed\": \"bool\",\n",
    "         \"wifi\":\"bool\"}\n",
    "\n",
    "events = pd.read_csv(\"../../../../data/tp2/events.csv\", usecols=columnas_cargar, dtype=tipos, parse_dates=[\"date\"])\n"
   ]
  },
  {
   "cell_type": "markdown",
   "metadata": {},
   "source": [
    "### Formateo el sistema operativo"
   ]
  },
  {
   "cell_type": "code",
   "execution_count": 17,
   "metadata": {},
   "outputs": [],
   "source": [
    "events['os'] = 1 * ((events[\"ref_type\"] == 1891515180541284343).astype('int8'))"
   ]
  },
  {
   "cell_type": "code",
   "execution_count": 13,
   "metadata": {},
   "outputs": [],
   "source": [
    "events.drop(columns = {\"ref_type\"},inplace = True)"
   ]
  },
  {
   "cell_type": "code",
   "execution_count": 18,
   "metadata": {},
   "outputs": [
    {
     "data": {
      "text/plain": [
       "1    6421584\n",
       "0    1322997\n",
       "Name: os, dtype: int64"
      ]
     },
     "execution_count": 18,
     "metadata": {},
     "output_type": "execute_result"
    }
   ],
   "source": [
    "events[\"os\"].value_counts()"
   ]
  },
  {
   "cell_type": "markdown",
   "metadata": {},
   "source": [
    "### 1 ---> ANDROID \n",
    "### 0 ---> IOS"
   ]
  },
  {
   "cell_type": "code",
   "execution_count": 42,
   "metadata": {},
   "outputs": [],
   "source": [
    "events.sort_values(by = \"date\",inplace = True)"
   ]
  },
  {
   "cell_type": "code",
   "execution_count": 62,
   "metadata": {},
   "outputs": [],
   "source": [
    "events[\"dayofweek\"] = (events[\"date\"].dt.dayofweek).astype(\"int8\")"
   ]
  },
  {
   "cell_type": "code",
   "execution_count": 26,
   "metadata": {},
   "outputs": [],
   "source": [
    "def armar_ventanas(dataset,col_fecha):\n",
    "    \"\"\"Recibe el dataset y una string indicando el \n",
    "    nombre de la columna que lleva la fecha\"\"\"\n",
    "    \n",
    "    ventanas = []\n",
    "    for x in range(5):\n",
    "        ventanas.append((dataset.loc[((18+x) <= dataset[col_fecha].dt.day) & (dataset[col_fecha].dt.day <= (20+x))]))\n",
    "    return ventanas"
   ]
  },
  {
   "cell_type": "code",
   "execution_count": 70,
   "metadata": {},
   "outputs": [],
   "source": [
    "def target_ventanas(ventanas):\n",
    "    entrenamientos = []\n",
    "    for ventana in ventanas:\n",
    "        ent = ventana[\"ref_hash\"].drop_duplicates().to_frame()\n",
    "        ent.rename(columns ={\"ref_hash\":\"device_id\"},inplace = True)\n",
    "        ent.set_index(\"device_id\", inplace=True)\n",
    "        entrenamientos.append(ent)\n",
    "    return entrenamientos"
   ]
  },
  {
   "cell_type": "code",
   "execution_count": 63,
   "metadata": {},
   "outputs": [],
   "source": [
    "ventanas = armar_ventanas(events,\"date\")"
   ]
  },
  {
   "cell_type": "code",
   "execution_count": 71,
   "metadata": {},
   "outputs": [],
   "source": [
    "targets = target_ventanas(ventanas)"
   ]
  },
  {
   "cell_type": "markdown",
   "metadata": {},
   "source": [
    "## Comienzo a trabajar con la primer ventana"
   ]
  },
  {
   "cell_type": "code",
   "execution_count": 64,
   "metadata": {},
   "outputs": [],
   "source": [
    "ventana1 = ventanas[0]"
   ]
  },
  {
   "cell_type": "code",
   "execution_count": 105,
   "metadata": {},
   "outputs": [],
   "source": [
    "entrenamiento1 = targets[0]"
   ]
  },
  {
   "cell_type": "code",
   "execution_count": 86,
   "metadata": {},
   "outputs": [
    {
     "data": {
      "text/html": [
       "<div>\n",
       "<style scoped>\n",
       "    .dataframe tbody tr th:only-of-type {\n",
       "        vertical-align: middle;\n",
       "    }\n",
       "\n",
       "    .dataframe tbody tr th {\n",
       "        vertical-align: top;\n",
       "    }\n",
       "\n",
       "    .dataframe thead th {\n",
       "        text-align: right;\n",
       "    }\n",
       "</style>\n",
       "<table border=\"1\" class=\"dataframe\">\n",
       "  <thead>\n",
       "    <tr style=\"text-align: right;\">\n",
       "      <th></th>\n",
       "      <th>date</th>\n",
       "      <th>event_id</th>\n",
       "      <th>ref_type</th>\n",
       "      <th>ref_hash</th>\n",
       "      <th>application_id</th>\n",
       "      <th>attributed</th>\n",
       "      <th>session_user_agent</th>\n",
       "      <th>kind</th>\n",
       "      <th>wifi</th>\n",
       "      <th>os</th>\n",
       "      <th>dayofweek</th>\n",
       "    </tr>\n",
       "  </thead>\n",
       "  <tbody>\n",
       "    <tr>\n",
       "      <th>170092</th>\n",
       "      <td>2019-04-18 00:00:00.027</td>\n",
       "      <td>13</td>\n",
       "      <td>1891515180541284343</td>\n",
       "      <td>4314242242878368557</td>\n",
       "      <td>65</td>\n",
       "      <td>False</td>\n",
       "      <td>3.819516e+18</td>\n",
       "      <td>4.853173e+18</td>\n",
       "      <td>True</td>\n",
       "      <td>1</td>\n",
       "      <td>3</td>\n",
       "    </tr>\n",
       "    <tr>\n",
       "      <th>947821</th>\n",
       "      <td>2019-04-18 00:00:00.071</td>\n",
       "      <td>158</td>\n",
       "      <td>1494519392962156891</td>\n",
       "      <td>2068670382964280534</td>\n",
       "      <td>230</td>\n",
       "      <td>False</td>\n",
       "      <td>3.819516e+18</td>\n",
       "      <td>8.370513e+18</td>\n",
       "      <td>True</td>\n",
       "      <td>0</td>\n",
       "      <td>3</td>\n",
       "    </tr>\n",
       "    <tr>\n",
       "      <th>1724915</th>\n",
       "      <td>2019-04-18 00:00:00.102</td>\n",
       "      <td>15</td>\n",
       "      <td>1891515180541284343</td>\n",
       "      <td>726218951290512705</td>\n",
       "      <td>65</td>\n",
       "      <td>False</td>\n",
       "      <td>3.819516e+18</td>\n",
       "      <td>5.500848e+18</td>\n",
       "      <td>True</td>\n",
       "      <td>1</td>\n",
       "      <td>3</td>\n",
       "    </tr>\n",
       "    <tr>\n",
       "      <th>2794789</th>\n",
       "      <td>2019-04-18 00:00:00.309</td>\n",
       "      <td>0</td>\n",
       "      <td>1891515180541284343</td>\n",
       "      <td>1329210878469536477</td>\n",
       "      <td>263</td>\n",
       "      <td>False</td>\n",
       "      <td>3.819516e+18</td>\n",
       "      <td>5.882882e+18</td>\n",
       "      <td>False</td>\n",
       "      <td>1</td>\n",
       "      <td>3</td>\n",
       "    </tr>\n",
       "    <tr>\n",
       "      <th>5526010</th>\n",
       "      <td>2019-04-18 00:00:00.486</td>\n",
       "      <td>2</td>\n",
       "      <td>1891515180541284343</td>\n",
       "      <td>5661732594213028190</td>\n",
       "      <td>210</td>\n",
       "      <td>False</td>\n",
       "      <td>3.819516e+18</td>\n",
       "      <td>6.168309e+18</td>\n",
       "      <td>False</td>\n",
       "      <td>1</td>\n",
       "      <td>3</td>\n",
       "    </tr>\n",
       "  </tbody>\n",
       "</table>\n",
       "</div>"
      ],
      "text/plain": [
       "                           date  event_id             ref_type  \\\n",
       "170092  2019-04-18 00:00:00.027        13  1891515180541284343   \n",
       "947821  2019-04-18 00:00:00.071       158  1494519392962156891   \n",
       "1724915 2019-04-18 00:00:00.102        15  1891515180541284343   \n",
       "2794789 2019-04-18 00:00:00.309         0  1891515180541284343   \n",
       "5526010 2019-04-18 00:00:00.486         2  1891515180541284343   \n",
       "\n",
       "                    ref_hash  application_id  attributed  session_user_agent  \\\n",
       "170092   4314242242878368557              65       False        3.819516e+18   \n",
       "947821   2068670382964280534             230       False        3.819516e+18   \n",
       "1724915   726218951290512705              65       False        3.819516e+18   \n",
       "2794789  1329210878469536477             263       False        3.819516e+18   \n",
       "5526010  5661732594213028190             210       False        3.819516e+18   \n",
       "\n",
       "                 kind   wifi  os  dayofweek  \n",
       "170092   4.853173e+18   True   1          3  \n",
       "947821   8.370513e+18   True   0          3  \n",
       "1724915  5.500848e+18   True   1          3  \n",
       "2794789  5.882882e+18  False   1          3  \n",
       "5526010  6.168309e+18  False   1          3  "
      ]
     },
     "execution_count": 86,
     "metadata": {},
     "output_type": "execute_result"
    }
   ],
   "source": [
    "ventana1.head()"
   ]
  },
  {
   "cell_type": "markdown",
   "metadata": {},
   "source": [
    "## Promedio de eventos por día"
   ]
  },
  {
   "cell_type": "code",
   "execution_count": 100,
   "metadata": {},
   "outputs": [],
   "source": [
    "feature = ventana1.groupby([\"ref_hash\",\"dayofweek\"]).size()\\\n",
    "                  .groupby(\"ref_hash\").mean()\\\n",
    "                  .to_frame().rename(columns = {0:\"promedio_eventos\"})"
   ]
  },
  {
   "cell_type": "code",
   "execution_count": 104,
   "metadata": {},
   "outputs": [],
   "source": [
    "feature[\"promedio_eventos\"] = feature[\"promedio_eventos\"].astype(\"int64\")"
   ]
  },
  {
   "cell_type": "code",
   "execution_count": 108,
   "metadata": {},
   "outputs": [],
   "source": [
    "entrenamiento1 = entrenamiento1.merge(feature, how = 'left',left_index = True,right_index = True)"
   ]
  },
  {
   "cell_type": "markdown",
   "metadata": {},
   "source": [
    "## Evento más frecuente"
   ]
  },
  {
   "cell_type": "code",
   "execution_count": 149,
   "metadata": {},
   "outputs": [],
   "source": [
    "feature = ventana1.groupby([\"ref_hash\",\"event_id\"]).size().to_frame()\n",
    "                  "
   ]
  },
  {
   "cell_type": "code",
   "execution_count": 158,
   "metadata": {},
   "outputs": [],
   "source": [
    "idx = feature.groupby(['ref_hash'])[0].transform(max) == feature[0]\n",
    "feature = feature[idx]"
   ]
  },
  {
   "cell_type": "code",
   "execution_count": 211,
   "metadata": {},
   "outputs": [],
   "source": [
    "feature.rename(columns= {0:\"cant_ocurrencias\"},inplace = True)"
   ]
  },
  {
   "cell_type": "code",
   "execution_count": 212,
   "metadata": {},
   "outputs": [
    {
     "data": {
      "text/html": [
       "<div>\n",
       "<style scoped>\n",
       "    .dataframe tbody tr th:only-of-type {\n",
       "        vertical-align: middle;\n",
       "    }\n",
       "\n",
       "    .dataframe tbody tr th {\n",
       "        vertical-align: top;\n",
       "    }\n",
       "\n",
       "    .dataframe thead th {\n",
       "        text-align: right;\n",
       "    }\n",
       "</style>\n",
       "<table border=\"1\" class=\"dataframe\">\n",
       "  <thead>\n",
       "    <tr style=\"text-align: right;\">\n",
       "      <th></th>\n",
       "      <th></th>\n",
       "      <th>cant_ocurrencias</th>\n",
       "    </tr>\n",
       "    <tr>\n",
       "      <th>ref_hash</th>\n",
       "      <th>event_id</th>\n",
       "      <th></th>\n",
       "    </tr>\n",
       "  </thead>\n",
       "  <tbody>\n",
       "    <tr>\n",
       "      <th>41863526108385</th>\n",
       "      <th>1</th>\n",
       "      <td>52</td>\n",
       "    </tr>\n",
       "    <tr>\n",
       "      <th>161514654074162</th>\n",
       "      <th>23</th>\n",
       "      <td>4</td>\n",
       "    </tr>\n",
       "    <tr>\n",
       "      <th>186034136943920</th>\n",
       "      <th>1</th>\n",
       "      <td>10</td>\n",
       "    </tr>\n",
       "    <tr>\n",
       "      <th>360710529886978</th>\n",
       "      <th>23</th>\n",
       "      <td>2</td>\n",
       "    </tr>\n",
       "    <tr>\n",
       "      <th>365882020742330</th>\n",
       "      <th>15</th>\n",
       "      <td>41</td>\n",
       "    </tr>\n",
       "  </tbody>\n",
       "</table>\n",
       "</div>"
      ],
      "text/plain": [
       "                          cant_ocurrencias\n",
       "ref_hash        event_id                  \n",
       "41863526108385  1                       52\n",
       "161514654074162 23                       4\n",
       "186034136943920 1                       10\n",
       "360710529886978 23                       2\n",
       "365882020742330 15                      41"
      ]
     },
     "execution_count": 212,
     "metadata": {},
     "output_type": "execute_result"
    }
   ],
   "source": [
    "feature.head()"
   ]
  },
  {
   "cell_type": "markdown",
   "metadata": {},
   "source": [
    "### ¿Hay dispositivos que tengan más de un evento como máximo ?"
   ]
  },
  {
   "cell_type": "code",
   "execution_count": 201,
   "metadata": {},
   "outputs": [
    {
     "data": {
      "text/plain": [
       "27801"
      ]
     },
     "execution_count": 201,
     "metadata": {},
     "output_type": "execute_result"
    }
   ],
   "source": [
    "((feature.groupby([\"ref_hash\"]).count()[0]) > 1).sum()"
   ]
  },
  {
   "cell_type": "markdown",
   "metadata": {},
   "source": [
    "### ¿Cual es el máximo numero de eventos empatados como máximo por dispositivo?"
   ]
  },
  {
   "cell_type": "code",
   "execution_count": 196,
   "metadata": {},
   "outputs": [
    {
     "data": {
      "text/plain": [
       "10"
      ]
     },
     "execution_count": 196,
     "metadata": {},
     "output_type": "execute_result"
    }
   ],
   "source": [
    "(feature.groupby([\"ref_hash\"]).count()[0]).max()"
   ]
  },
  {
   "cell_type": "markdown",
   "metadata": {},
   "source": [
    "### ¿Qué criterio se toma para decidir con cual evento quedarse? "
   ]
  },
  {
   "cell_type": "markdown",
   "metadata": {},
   "source": [
    "#### Voy a crear una lista ordenada de los eventos más presentes por dispositivo, contando un solo dispositivo por evento para no desbalancear si un dispositivo hace 10000 el mismo evento. Esto podría dar un orden de importancia entre eventos"
   ]
  },
  {
   "cell_type": "code",
   "execution_count": 203,
   "metadata": {},
   "outputs": [],
   "source": [
    "top_eventos = ventana1.groupby([\"ref_hash\",\"event_id\"]).size().reset_index()\\\n",
    "                      .groupby(\"event_id\").size().sort_values(ascending = False)"
   ]
  },
  {
   "cell_type": "code",
   "execution_count": 204,
   "metadata": {},
   "outputs": [
    {
     "data": {
      "text/plain": [
       "event_id\n",
       "23    63062\n",
       "15    45078\n",
       "7     32720\n",
       "0     25747\n",
       "2     20475\n",
       "dtype: int64"
      ]
     },
     "execution_count": 204,
     "metadata": {},
     "output_type": "execute_result"
    }
   ],
   "source": [
    "top_eventos.head()"
   ]
  },
  {
   "cell_type": "code",
   "execution_count": 202,
   "metadata": {},
   "outputs": [],
   "source": [
    "top_eventos = top_eventos.index.to_list()"
   ]
  },
  {
   "cell_type": "code",
   "execution_count": null,
   "metadata": {},
   "outputs": [],
   "source": []
  }
 ],
 "metadata": {
  "kernelspec": {
   "display_name": "Python 3",
   "language": "python",
   "name": "python3"
  },
  "language_info": {
   "codemirror_mode": {
    "name": "ipython",
    "version": 3
   },
   "file_extension": ".py",
   "mimetype": "text/x-python",
   "name": "python",
   "nbconvert_exporter": "python",
   "pygments_lexer": "ipython3",
   "version": "3.6.8"
  }
 },
 "nbformat": 4,
 "nbformat_minor": 2
}
