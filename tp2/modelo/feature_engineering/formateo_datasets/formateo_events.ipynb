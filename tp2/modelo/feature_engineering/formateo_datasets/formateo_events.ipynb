{
 "cells": [
  {
   "cell_type": "markdown",
   "metadata": {},
   "source": [
    "# Imports"
   ]
  },
  {
   "cell_type": "code",
   "execution_count": 1,
   "metadata": {},
   "outputs": [],
   "source": [
    "import pandas as pd\n",
    "import numpy as np"
   ]
  },
  {
   "cell_type": "markdown",
   "metadata": {},
   "source": [
    "---"
   ]
  },
  {
   "cell_type": "code",
   "execution_count": 2,
   "metadata": {},
   "outputs": [],
   "source": [
    "# Columnas a cargar\n",
    "columnas_cargar = [\"date\", \"event_id\",\"ref_type\",\"ref_hash\",\"application_id\",\"attributed\", \"session_user_agent\", \"kind\", \"wifi\"]\n",
    "# Definicion de tipos\n",
    "tipos = {\"event_id\" : \"int16\",\n",
    "         \"ref_hash\" : \"int64\",\n",
    "         \"application_id\" : \"int16\",\n",
    "         \"attributed\": \"bool\",\n",
    "         \"wifi\":\"bool\"}\n",
    "\n",
    "events = pd.read_csv(\"../../../../data/tp2/events.csv\", usecols=columnas_cargar, dtype=tipos, parse_dates=[\"date\"])\n"
   ]
  },
  {
   "cell_type": "markdown",
   "metadata": {},
   "source": [
    "### Formateo el sistema operativo"
   ]
  },
  {
   "cell_type": "code",
   "execution_count": 3,
   "metadata": {},
   "outputs": [],
   "source": [
    "events['os'] = 1 * ((events[\"ref_type\"] == 1891515180541284343).astype('int8'))"
   ]
  },
  {
   "cell_type": "code",
   "execution_count": 4,
   "metadata": {},
   "outputs": [],
   "source": [
    "events.drop(columns = {\"ref_type\"},inplace = True)"
   ]
  },
  {
   "cell_type": "code",
   "execution_count": 5,
   "metadata": {},
   "outputs": [
    {
     "data": {
      "text/plain": [
       "1    6421584\n",
       "0    1322997\n",
       "Name: os, dtype: int64"
      ]
     },
     "execution_count": 5,
     "metadata": {},
     "output_type": "execute_result"
    }
   ],
   "source": [
    "events[\"os\"].value_counts()"
   ]
  },
  {
   "cell_type": "markdown",
   "metadata": {},
   "source": [
    "### 1 ---> ANDROID \n",
    "### 0 ---> IOS"
   ]
  },
  {
   "cell_type": "code",
   "execution_count": 6,
   "metadata": {},
   "outputs": [],
   "source": [
    "events.sort_values(by = \"date\",inplace = True)"
   ]
  },
  {
   "cell_type": "code",
   "execution_count": 7,
   "metadata": {},
   "outputs": [],
   "source": [
    "events[\"dayofweek\"] = (events[\"date\"].dt.dayofweek).astype(\"int8\")"
   ]
  },
  {
   "cell_type": "code",
   "execution_count": 8,
   "metadata": {},
   "outputs": [],
   "source": [
    "def armar_ventanas(dataset,col_fecha):\n",
    "    \"\"\"Recibe el dataset y una string indicando el \n",
    "    nombre de la columna que lleva la fecha\"\"\"\n",
    "    \n",
    "    ventanas = []\n",
    "    for x in range(5):\n",
    "        ventanas.append((dataset.loc[((18+x) <= dataset[col_fecha].dt.day) & (dataset[col_fecha].dt.day <= (20+x))]))\n",
    "    return ventanas"
   ]
  },
  {
   "cell_type": "code",
   "execution_count": 9,
   "metadata": {},
   "outputs": [],
   "source": [
    "def target_ventanas(ventanas):\n",
    "    entrenamientos = []\n",
    "    for ventana in ventanas:\n",
    "        ent = ventana[\"ref_hash\"].drop_duplicates().to_frame()\n",
    "        ent.rename(columns ={\"ref_hash\":\"device_id\"},inplace = True)\n",
    "        ent.set_index(\"device_id\", inplace=True)\n",
    "        entrenamientos.append(ent)\n",
    "    return entrenamientos"
   ]
  },
  {
   "cell_type": "code",
   "execution_count": 10,
   "metadata": {},
   "outputs": [],
   "source": [
    "ventanas = armar_ventanas(events,\"date\")"
   ]
  },
  {
   "cell_type": "code",
   "execution_count": 11,
   "metadata": {},
   "outputs": [],
   "source": [
    "targets = target_ventanas(ventanas)"
   ]
  },
  {
   "cell_type": "markdown",
   "metadata": {},
   "source": [
    "## Comienzo a trabajar con la primer ventana"
   ]
  },
  {
   "cell_type": "code",
   "execution_count": 12,
   "metadata": {},
   "outputs": [],
   "source": [
    "ventana1 = ventanas[0]"
   ]
  },
  {
   "cell_type": "code",
   "execution_count": 13,
   "metadata": {},
   "outputs": [],
   "source": [
    "entrenamiento1 = targets[0]"
   ]
  },
  {
   "cell_type": "code",
   "execution_count": 14,
   "metadata": {},
   "outputs": [
    {
     "data": {
      "text/html": [
       "<div>\n",
       "<style scoped>\n",
       "    .dataframe tbody tr th:only-of-type {\n",
       "        vertical-align: middle;\n",
       "    }\n",
       "\n",
       "    .dataframe tbody tr th {\n",
       "        vertical-align: top;\n",
       "    }\n",
       "\n",
       "    .dataframe thead th {\n",
       "        text-align: right;\n",
       "    }\n",
       "</style>\n",
       "<table border=\"1\" class=\"dataframe\">\n",
       "  <thead>\n",
       "    <tr style=\"text-align: right;\">\n",
       "      <th></th>\n",
       "      <th>date</th>\n",
       "      <th>event_id</th>\n",
       "      <th>ref_hash</th>\n",
       "      <th>application_id</th>\n",
       "      <th>attributed</th>\n",
       "      <th>session_user_agent</th>\n",
       "      <th>kind</th>\n",
       "      <th>wifi</th>\n",
       "      <th>os</th>\n",
       "      <th>dayofweek</th>\n",
       "    </tr>\n",
       "  </thead>\n",
       "  <tbody>\n",
       "    <tr>\n",
       "      <th>170092</th>\n",
       "      <td>2019-04-18 00:00:00.027</td>\n",
       "      <td>13</td>\n",
       "      <td>4314242242878368557</td>\n",
       "      <td>65</td>\n",
       "      <td>False</td>\n",
       "      <td>3.819516e+18</td>\n",
       "      <td>4.853173e+18</td>\n",
       "      <td>True</td>\n",
       "      <td>1</td>\n",
       "      <td>3</td>\n",
       "    </tr>\n",
       "    <tr>\n",
       "      <th>947821</th>\n",
       "      <td>2019-04-18 00:00:00.071</td>\n",
       "      <td>158</td>\n",
       "      <td>2068670382964280534</td>\n",
       "      <td>230</td>\n",
       "      <td>False</td>\n",
       "      <td>3.819516e+18</td>\n",
       "      <td>8.370513e+18</td>\n",
       "      <td>True</td>\n",
       "      <td>0</td>\n",
       "      <td>3</td>\n",
       "    </tr>\n",
       "    <tr>\n",
       "      <th>1724915</th>\n",
       "      <td>2019-04-18 00:00:00.102</td>\n",
       "      <td>15</td>\n",
       "      <td>726218951290512705</td>\n",
       "      <td>65</td>\n",
       "      <td>False</td>\n",
       "      <td>3.819516e+18</td>\n",
       "      <td>5.500848e+18</td>\n",
       "      <td>True</td>\n",
       "      <td>1</td>\n",
       "      <td>3</td>\n",
       "    </tr>\n",
       "    <tr>\n",
       "      <th>2794789</th>\n",
       "      <td>2019-04-18 00:00:00.309</td>\n",
       "      <td>0</td>\n",
       "      <td>1329210878469536477</td>\n",
       "      <td>263</td>\n",
       "      <td>False</td>\n",
       "      <td>3.819516e+18</td>\n",
       "      <td>5.882882e+18</td>\n",
       "      <td>False</td>\n",
       "      <td>1</td>\n",
       "      <td>3</td>\n",
       "    </tr>\n",
       "    <tr>\n",
       "      <th>5526010</th>\n",
       "      <td>2019-04-18 00:00:00.486</td>\n",
       "      <td>2</td>\n",
       "      <td>5661732594213028190</td>\n",
       "      <td>210</td>\n",
       "      <td>False</td>\n",
       "      <td>3.819516e+18</td>\n",
       "      <td>6.168309e+18</td>\n",
       "      <td>False</td>\n",
       "      <td>1</td>\n",
       "      <td>3</td>\n",
       "    </tr>\n",
       "  </tbody>\n",
       "</table>\n",
       "</div>"
      ],
      "text/plain": [
       "                           date  event_id             ref_hash  \\\n",
       "170092  2019-04-18 00:00:00.027        13  4314242242878368557   \n",
       "947821  2019-04-18 00:00:00.071       158  2068670382964280534   \n",
       "1724915 2019-04-18 00:00:00.102        15   726218951290512705   \n",
       "2794789 2019-04-18 00:00:00.309         0  1329210878469536477   \n",
       "5526010 2019-04-18 00:00:00.486         2  5661732594213028190   \n",
       "\n",
       "         application_id  attributed  session_user_agent          kind   wifi  \\\n",
       "170092               65       False        3.819516e+18  4.853173e+18   True   \n",
       "947821              230       False        3.819516e+18  8.370513e+18   True   \n",
       "1724915              65       False        3.819516e+18  5.500848e+18   True   \n",
       "2794789             263       False        3.819516e+18  5.882882e+18  False   \n",
       "5526010             210       False        3.819516e+18  6.168309e+18  False   \n",
       "\n",
       "         os  dayofweek  \n",
       "170092    1          3  \n",
       "947821    0          3  \n",
       "1724915   1          3  \n",
       "2794789   1          3  \n",
       "5526010   1          3  "
      ]
     },
     "execution_count": 14,
     "metadata": {},
     "output_type": "execute_result"
    }
   ],
   "source": [
    "ventana1.head()"
   ]
  },
  {
   "cell_type": "markdown",
   "metadata": {},
   "source": [
    "## Promedio de eventos por día"
   ]
  },
  {
   "cell_type": "code",
   "execution_count": 15,
   "metadata": {},
   "outputs": [],
   "source": [
    "feature = ventana1.groupby([\"ref_hash\",\"dayofweek\"]).size()\\\n",
    "                  .groupby(\"ref_hash\").mean()\\\n",
    "                  .to_frame().rename(columns = {0:\"promedio_eventos\"})"
   ]
  },
  {
   "cell_type": "code",
   "execution_count": 16,
   "metadata": {},
   "outputs": [],
   "source": [
    "feature[\"promedio_eventos\"] = feature[\"promedio_eventos\"].astype(\"int64\")"
   ]
  },
  {
   "cell_type": "code",
   "execution_count": 17,
   "metadata": {},
   "outputs": [],
   "source": [
    "entrenamiento1 = entrenamiento1.merge(feature, how = 'left',left_index = True,right_index = True)"
   ]
  },
  {
   "cell_type": "markdown",
   "metadata": {},
   "source": [
    "## Evento más frecuente"
   ]
  },
  {
   "cell_type": "code",
   "execution_count": 18,
   "metadata": {},
   "outputs": [],
   "source": [
    "feature = ventana1.groupby([\"ref_hash\",\"event_id\"]).size().to_frame()\n",
    "                  "
   ]
  },
  {
   "cell_type": "code",
   "execution_count": 19,
   "metadata": {},
   "outputs": [],
   "source": [
    "idx = feature.groupby(['ref_hash'])[0].transform(max) == feature[0]\n",
    "feature = feature[idx]"
   ]
  },
  {
   "cell_type": "code",
   "execution_count": 20,
   "metadata": {},
   "outputs": [],
   "source": [
    "feature.rename(columns= {0:\"cant_ocurrencias\"},inplace = True)"
   ]
  },
  {
   "cell_type": "code",
   "execution_count": 21,
   "metadata": {},
   "outputs": [
    {
     "data": {
      "text/html": [
       "<div>\n",
       "<style scoped>\n",
       "    .dataframe tbody tr th:only-of-type {\n",
       "        vertical-align: middle;\n",
       "    }\n",
       "\n",
       "    .dataframe tbody tr th {\n",
       "        vertical-align: top;\n",
       "    }\n",
       "\n",
       "    .dataframe thead th {\n",
       "        text-align: right;\n",
       "    }\n",
       "</style>\n",
       "<table border=\"1\" class=\"dataframe\">\n",
       "  <thead>\n",
       "    <tr style=\"text-align: right;\">\n",
       "      <th></th>\n",
       "      <th></th>\n",
       "      <th>cant_ocurrencias</th>\n",
       "    </tr>\n",
       "    <tr>\n",
       "      <th>ref_hash</th>\n",
       "      <th>event_id</th>\n",
       "      <th></th>\n",
       "    </tr>\n",
       "  </thead>\n",
       "  <tbody>\n",
       "    <tr>\n",
       "      <th>41863526108385</th>\n",
       "      <th>1</th>\n",
       "      <td>52</td>\n",
       "    </tr>\n",
       "    <tr>\n",
       "      <th>161514654074162</th>\n",
       "      <th>23</th>\n",
       "      <td>4</td>\n",
       "    </tr>\n",
       "    <tr>\n",
       "      <th>186034136943920</th>\n",
       "      <th>1</th>\n",
       "      <td>10</td>\n",
       "    </tr>\n",
       "    <tr>\n",
       "      <th>360710529886978</th>\n",
       "      <th>23</th>\n",
       "      <td>2</td>\n",
       "    </tr>\n",
       "    <tr>\n",
       "      <th>365882020742330</th>\n",
       "      <th>15</th>\n",
       "      <td>41</td>\n",
       "    </tr>\n",
       "  </tbody>\n",
       "</table>\n",
       "</div>"
      ],
      "text/plain": [
       "                          cant_ocurrencias\n",
       "ref_hash        event_id                  \n",
       "41863526108385  1                       52\n",
       "161514654074162 23                       4\n",
       "186034136943920 1                       10\n",
       "360710529886978 23                       2\n",
       "365882020742330 15                      41"
      ]
     },
     "execution_count": 21,
     "metadata": {},
     "output_type": "execute_result"
    }
   ],
   "source": [
    "feature.head()"
   ]
  },
  {
   "cell_type": "markdown",
   "metadata": {},
   "source": [
    "### ¿Hay dispositivos que tengan más de un evento como máximo ?"
   ]
  },
  {
   "cell_type": "code",
   "execution_count": 25,
   "metadata": {},
   "outputs": [
    {
     "data": {
      "text/plain": [
       "27801"
      ]
     },
     "execution_count": 25,
     "metadata": {},
     "output_type": "execute_result"
    }
   ],
   "source": [
    "((feature.groupby([\"ref_hash\"]).count()[\"cant_ocurrencias\"]) > 1).sum()"
   ]
  },
  {
   "cell_type": "markdown",
   "metadata": {},
   "source": [
    "### ¿Cual es el máximo numero de eventos empatados como máximo por dispositivo?"
   ]
  },
  {
   "cell_type": "code",
   "execution_count": 26,
   "metadata": {},
   "outputs": [
    {
     "data": {
      "text/plain": [
       "cant_ocurrencias    10\n",
       "dtype: int64"
      ]
     },
     "execution_count": 26,
     "metadata": {},
     "output_type": "execute_result"
    }
   ],
   "source": [
    "(feature.groupby([\"ref_hash\"]).count()).max()"
   ]
  },
  {
   "cell_type": "markdown",
   "metadata": {},
   "source": [
    "### ¿Qué criterio se toma para decidir con cual evento quedarse? "
   ]
  },
  {
   "cell_type": "markdown",
   "metadata": {},
   "source": [
    "#### Voy a crear una lista ordenada de los eventos más presentes por dispositivo, contando un solo dispositivo por evento para no desbalancear si un dispositivo hace 10000 el mismo evento. Esto podría dar un orden de importancia entre eventos"
   ]
  },
  {
   "cell_type": "code",
   "execution_count": 203,
   "metadata": {},
   "outputs": [],
   "source": [
    "top_eventos = ventana1.groupby([\"ref_hash\",\"event_id\"]).size().reset_index()\\\n",
    "                      .groupby(\"event_id\").size().sort_values(ascending = False)"
   ]
  },
  {
   "cell_type": "code",
   "execution_count": 204,
   "metadata": {},
   "outputs": [
    {
     "data": {
      "text/plain": [
       "event_id\n",
       "23    63062\n",
       "15    45078\n",
       "7     32720\n",
       "0     25747\n",
       "2     20475\n",
       "dtype: int64"
      ]
     },
     "execution_count": 204,
     "metadata": {},
     "output_type": "execute_result"
    }
   ],
   "source": [
    "top_eventos.head()"
   ]
  },
  {
   "cell_type": "code",
   "execution_count": 202,
   "metadata": {},
   "outputs": [],
   "source": [
    "top_eventos = top_eventos.index.to_list()"
   ]
  },
  {
   "cell_type": "markdown",
   "metadata": {},
   "source": [
    "## Último evento"
   ]
  },
  {
   "cell_type": "code",
   "execution_count": 75,
   "metadata": {},
   "outputs": [],
   "source": [
    "idx = ventana1.groupby(['ref_hash'])[\"date\"].transform(max) == ventana1[\"date\"]\n",
    "feature = ventana1[idx]"
   ]
  },
  {
   "cell_type": "code",
   "execution_count": 76,
   "metadata": {},
   "outputs": [
    {
     "data": {
      "text/plain": [
       "166018"
      ]
     },
     "execution_count": 76,
     "metadata": {},
     "output_type": "execute_result"
    }
   ],
   "source": [
    "len(feature)"
   ]
  },
  {
   "cell_type": "code",
   "execution_count": 77,
   "metadata": {},
   "outputs": [
    {
     "data": {
      "text/plain": [
       "166002"
      ]
     },
     "execution_count": 77,
     "metadata": {},
     "output_type": "execute_result"
    }
   ],
   "source": [
    "feature[\"ref_hash\"].nunique()"
   ]
  },
  {
   "cell_type": "markdown",
   "metadata": {},
   "source": [
    "### Hay valores que tienen la misma fecha con el mismo evento, pero distinto kind, por ejemplo: "
   ]
  },
  {
   "cell_type": "code",
   "execution_count": 64,
   "metadata": {},
   "outputs": [
    {
     "data": {
      "text/html": [
       "<div>\n",
       "<style scoped>\n",
       "    .dataframe tbody tr th:only-of-type {\n",
       "        vertical-align: middle;\n",
       "    }\n",
       "\n",
       "    .dataframe tbody tr th {\n",
       "        vertical-align: top;\n",
       "    }\n",
       "\n",
       "    .dataframe thead th {\n",
       "        text-align: right;\n",
       "    }\n",
       "</style>\n",
       "<table border=\"1\" class=\"dataframe\">\n",
       "  <thead>\n",
       "    <tr style=\"text-align: right;\">\n",
       "      <th></th>\n",
       "      <th>date</th>\n",
       "      <th>event_id</th>\n",
       "      <th>ref_hash</th>\n",
       "      <th>application_id</th>\n",
       "      <th>attributed</th>\n",
       "      <th>session_user_agent</th>\n",
       "      <th>kind</th>\n",
       "      <th>wifi</th>\n",
       "      <th>os</th>\n",
       "      <th>dayofweek</th>\n",
       "    </tr>\n",
       "  </thead>\n",
       "  <tbody>\n",
       "    <tr>\n",
       "      <th>7488551</th>\n",
       "      <td>2019-04-20 06:55:29.193</td>\n",
       "      <td>109</td>\n",
       "      <td>2831641632794815413</td>\n",
       "      <td>116</td>\n",
       "      <td>False</td>\n",
       "      <td>5.783151e+18</td>\n",
       "      <td>1.020653e+18</td>\n",
       "      <td>False</td>\n",
       "      <td>0</td>\n",
       "      <td>5</td>\n",
       "    </tr>\n",
       "    <tr>\n",
       "      <th>7488552</th>\n",
       "      <td>2019-04-20 06:55:29.193</td>\n",
       "      <td>108</td>\n",
       "      <td>2831641632794815413</td>\n",
       "      <td>116</td>\n",
       "      <td>False</td>\n",
       "      <td>5.783151e+18</td>\n",
       "      <td>2.376750e+18</td>\n",
       "      <td>False</td>\n",
       "      <td>0</td>\n",
       "      <td>5</td>\n",
       "    </tr>\n",
       "  </tbody>\n",
       "</table>\n",
       "</div>"
      ],
      "text/plain": [
       "                           date  event_id             ref_hash  \\\n",
       "7488551 2019-04-20 06:55:29.193       109  2831641632794815413   \n",
       "7488552 2019-04-20 06:55:29.193       108  2831641632794815413   \n",
       "\n",
       "         application_id  attributed  session_user_agent          kind   wifi  \\\n",
       "7488551             116       False        5.783151e+18  1.020653e+18  False   \n",
       "7488552             116       False        5.783151e+18  2.376750e+18  False   \n",
       "\n",
       "         os  dayofweek  \n",
       "7488551   0          5  \n",
       "7488552   0          5  "
      ]
     },
     "execution_count": 64,
     "metadata": {},
     "output_type": "execute_result"
    }
   ],
   "source": [
    "feature[feature[\"ref_hash\"] == 2831641632794815413]"
   ]
  },
  {
   "cell_type": "code",
   "execution_count": 65,
   "metadata": {},
   "outputs": [
    {
     "data": {
      "text/plain": [
       "ref_hash\n",
       "2831641632794815413    2\n",
       "4088908661713804281    2\n",
       "8328199773971797530    2\n",
       "3511963389841035668    2\n",
       "6044545373594806384    2\n",
       "dtype: int64"
      ]
     },
     "execution_count": 65,
     "metadata": {},
     "output_type": "execute_result"
    }
   ],
   "source": [
    "feature.groupby(\"ref_hash\").size().sort_values(ascending = False).head()"
   ]
  },
  {
   "cell_type": "markdown",
   "metadata": {},
   "source": [
    "#### Solo me importa el evento así que descarto al azar"
   ]
  },
  {
   "cell_type": "code",
   "execution_count": 87,
   "metadata": {},
   "outputs": [],
   "source": [
    "feature = feature[[\"ref_hash\",\"date\",\"event_id\",\"application_id\"]].drop_duplicates(\"ref_hash\")"
   ]
  },
  {
   "cell_type": "code",
   "execution_count": 92,
   "metadata": {},
   "outputs": [],
   "source": [
    "feature.rename(columns = {\"ref_hash\":\"device_id\",\"event_id\":\"ult_ev\",\"date\":\"fecha_ult_ev\",\"application_id\":\"ult_app\"},inplace = True)"
   ]
  },
  {
   "cell_type": "code",
   "execution_count": 94,
   "metadata": {},
   "outputs": [],
   "source": [
    "feature.set_index(\"device_id\",inplace = True)"
   ]
  },
  {
   "cell_type": "code",
   "execution_count": 95,
   "metadata": {},
   "outputs": [
    {
     "data": {
      "text/html": [
       "<div>\n",
       "<style scoped>\n",
       "    .dataframe tbody tr th:only-of-type {\n",
       "        vertical-align: middle;\n",
       "    }\n",
       "\n",
       "    .dataframe tbody tr th {\n",
       "        vertical-align: top;\n",
       "    }\n",
       "\n",
       "    .dataframe thead th {\n",
       "        text-align: right;\n",
       "    }\n",
       "</style>\n",
       "<table border=\"1\" class=\"dataframe\">\n",
       "  <thead>\n",
       "    <tr style=\"text-align: right;\">\n",
       "      <th></th>\n",
       "      <th>fecha_ult_ev</th>\n",
       "      <th>ult_ev</th>\n",
       "      <th>ult_app</th>\n",
       "    </tr>\n",
       "    <tr>\n",
       "      <th>device_id</th>\n",
       "      <th></th>\n",
       "      <th></th>\n",
       "      <th></th>\n",
       "    </tr>\n",
       "  </thead>\n",
       "  <tbody>\n",
       "    <tr>\n",
       "      <th>6444651396290009624</th>\n",
       "      <td>2019-04-18 00:00:02.052</td>\n",
       "      <td>245</td>\n",
       "      <td>21</td>\n",
       "    </tr>\n",
       "    <tr>\n",
       "      <th>3601178220858933758</th>\n",
       "      <td>2019-04-18 00:00:07.957</td>\n",
       "      <td>246</td>\n",
       "      <td>21</td>\n",
       "    </tr>\n",
       "    <tr>\n",
       "      <th>3233293871630648142</th>\n",
       "      <td>2019-04-18 00:00:09.612</td>\n",
       "      <td>15</td>\n",
       "      <td>65</td>\n",
       "    </tr>\n",
       "    <tr>\n",
       "      <th>4452972490570146531</th>\n",
       "      <td>2019-04-18 00:00:12.303</td>\n",
       "      <td>7</td>\n",
       "      <td>122</td>\n",
       "    </tr>\n",
       "    <tr>\n",
       "      <th>5451417563610992673</th>\n",
       "      <td>2019-04-18 00:00:19.597</td>\n",
       "      <td>106</td>\n",
       "      <td>121</td>\n",
       "    </tr>\n",
       "  </tbody>\n",
       "</table>\n",
       "</div>"
      ],
      "text/plain": [
       "                               fecha_ult_ev  ult_ev  ult_app\n",
       "device_id                                                   \n",
       "6444651396290009624 2019-04-18 00:00:02.052     245       21\n",
       "3601178220858933758 2019-04-18 00:00:07.957     246       21\n",
       "3233293871630648142 2019-04-18 00:00:09.612      15       65\n",
       "4452972490570146531 2019-04-18 00:00:12.303       7      122\n",
       "5451417563610992673 2019-04-18 00:00:19.597     106      121"
      ]
     },
     "execution_count": 95,
     "metadata": {},
     "output_type": "execute_result"
    }
   ],
   "source": [
    "feature.head()"
   ]
  },
  {
   "cell_type": "code",
   "execution_count": 96,
   "metadata": {},
   "outputs": [],
   "source": [
    "entrenamiento1 = entrenamiento1.merge(feature, how = 'left',left_index = True,right_index = True)"
   ]
  },
  {
   "cell_type": "markdown",
   "metadata": {},
   "source": [
    "## ¿Cúal es la hora del día con más actividad para cada usuario ? "
   ]
  },
  {
   "cell_type": "code",
   "execution_count": 101,
   "metadata": {},
   "outputs": [
    {
     "name": "stderr",
     "output_type": "stream",
     "text": [
      "/home/pelozo/anaconda3/lib/python3.6/site-packages/ipykernel_launcher.py:1: SettingWithCopyWarning: \n",
      "A value is trying to be set on a copy of a slice from a DataFrame.\n",
      "Try using .loc[row_indexer,col_indexer] = value instead\n",
      "\n",
      "See the caveats in the documentation: http://pandas.pydata.org/pandas-docs/stable/indexing.html#indexing-view-versus-copy\n",
      "  \"\"\"Entry point for launching an IPython kernel.\n"
     ]
    }
   ],
   "source": [
    "ventana1[\"hora\"] = ventana1[\"date\"].dt.hour"
   ]
  },
  {
   "cell_type": "code",
   "execution_count": 105,
   "metadata": {},
   "outputs": [],
   "source": [
    "feature = ventana1.groupby([\"ref_hash\",\"hora\"]).size()\n",
    "idx = feature.groupby(['ref_hash']).transform(max) == feature\n",
    "feature = feature[idx]"
   ]
  },
  {
   "cell_type": "code",
   "execution_count": 122,
   "metadata": {},
   "outputs": [],
   "source": [
    "feature = feature.to_frame().reset_index()"
   ]
  },
  {
   "cell_type": "code",
   "execution_count": 124,
   "metadata": {},
   "outputs": [
    {
     "data": {
      "text/plain": [
       "193332"
      ]
     },
     "execution_count": 124,
     "metadata": {},
     "output_type": "execute_result"
    }
   ],
   "source": [
    "len(feature)"
   ]
  },
  {
   "cell_type": "code",
   "execution_count": 125,
   "metadata": {},
   "outputs": [
    {
     "data": {
      "text/plain": [
       "166002"
      ]
     },
     "execution_count": 125,
     "metadata": {},
     "output_type": "execute_result"
    }
   ],
   "source": [
    "feature[\"ref_hash\"].nunique()"
   ]
  },
  {
   "cell_type": "markdown",
   "metadata": {},
   "source": [
    "### Hay dispositivos que comparten varias horas, habrá que decidir el criterio de elección"
   ]
  },
  {
   "cell_type": "code",
   "execution_count": 126,
   "metadata": {},
   "outputs": [
    {
     "data": {
      "text/html": [
       "<div>\n",
       "<style scoped>\n",
       "    .dataframe tbody tr th:only-of-type {\n",
       "        vertical-align: middle;\n",
       "    }\n",
       "\n",
       "    .dataframe tbody tr th {\n",
       "        vertical-align: top;\n",
       "    }\n",
       "\n",
       "    .dataframe thead th {\n",
       "        text-align: right;\n",
       "    }\n",
       "</style>\n",
       "<table border=\"1\" class=\"dataframe\">\n",
       "  <thead>\n",
       "    <tr style=\"text-align: right;\">\n",
       "      <th></th>\n",
       "      <th>ref_hash</th>\n",
       "      <th>hora</th>\n",
       "      <th>0</th>\n",
       "    </tr>\n",
       "  </thead>\n",
       "  <tbody>\n",
       "    <tr>\n",
       "      <th>0</th>\n",
       "      <td>41863526108385</td>\n",
       "      <td>5</td>\n",
       "      <td>64</td>\n",
       "    </tr>\n",
       "    <tr>\n",
       "      <th>1</th>\n",
       "      <td>161514654074162</td>\n",
       "      <td>17</td>\n",
       "      <td>8</td>\n",
       "    </tr>\n",
       "    <tr>\n",
       "      <th>2</th>\n",
       "      <td>186034136943920</td>\n",
       "      <td>16</td>\n",
       "      <td>13</td>\n",
       "    </tr>\n",
       "    <tr>\n",
       "      <th>3</th>\n",
       "      <td>360710529886978</td>\n",
       "      <td>18</td>\n",
       "      <td>2</td>\n",
       "    </tr>\n",
       "    <tr>\n",
       "      <th>4</th>\n",
       "      <td>365882020742330</td>\n",
       "      <td>18</td>\n",
       "      <td>8</td>\n",
       "    </tr>\n",
       "  </tbody>\n",
       "</table>\n",
       "</div>"
      ],
      "text/plain": [
       "          ref_hash  hora   0\n",
       "0   41863526108385     5  64\n",
       "1  161514654074162    17   8\n",
       "2  186034136943920    16  13\n",
       "3  360710529886978    18   2\n",
       "4  365882020742330    18   8"
      ]
     },
     "execution_count": 126,
     "metadata": {},
     "output_type": "execute_result"
    }
   ],
   "source": [
    "feature.head()"
   ]
  },
  {
   "cell_type": "code",
   "execution_count": null,
   "metadata": {},
   "outputs": [],
   "source": []
  }
 ],
 "metadata": {
  "kernelspec": {
   "display_name": "Python 3",
   "language": "python",
   "name": "python3"
  },
  "language_info": {
   "codemirror_mode": {
    "name": "ipython",
    "version": 3
   },
   "file_extension": ".py",
   "mimetype": "text/x-python",
   "name": "python",
   "nbconvert_exporter": "python",
   "pygments_lexer": "ipython3",
   "version": "3.6.8"
  }
 },
 "nbformat": 4,
 "nbformat_minor": 2
}
