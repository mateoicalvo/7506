{
 "cells": [
  {
   "cell_type": "markdown",
   "metadata": {},
   "source": [
    "# Imports"
   ]
  },
  {
   "cell_type": "code",
   "execution_count": 1,
   "metadata": {},
   "outputs": [],
   "source": [
    "import pandas as pd\n",
    "import numpy as np"
   ]
  },
  {
   "cell_type": "markdown",
   "metadata": {},
   "source": [
    "---"
   ]
  },
  {
   "cell_type": "code",
   "execution_count": 3,
   "metadata": {},
   "outputs": [],
   "source": [
    "# Columnas a cargar: cargamos todas ya que aún no sabemos el valor que poseen \n",
    "columnas_cargar = [\"date\", \"device_id\", \"ref_type_id\", \"source_id\"]\n",
    "# Definicion de tipos\n",
    "tipos = {\"device_id\" : \"category\",\n",
    "         \"ref_type_id\" : np.int8,\n",
    "         \"source_id\" : np.int8}\n",
    "# Carga de datos\n",
    "auctions = pd.read_csv(\"../../../../data/tp2/auctions.csv\", usecols=columnas_cargar, dtype=tipos, parse_dates=[\"date\"])"
   ]
  },
  {
   "cell_type": "code",
   "execution_count": 10,
   "metadata": {},
   "outputs": [],
   "source": [
    "auctions.to_pickle(\"auctions_formatted.pkl\")"
   ]
  }
 ],
 "metadata": {
  "kernelspec": {
   "display_name": "Python 3",
   "language": "python",
   "name": "python3"
  },
  "language_info": {
   "codemirror_mode": {
    "name": "ipython",
    "version": 3
   },
   "file_extension": ".py",
   "mimetype": "text/x-python",
   "name": "python",
   "nbconvert_exporter": "python",
   "pygments_lexer": "ipython3",
   "version": "3.6.5"
  }
 },
 "nbformat": 4,
 "nbformat_minor": 2
}
