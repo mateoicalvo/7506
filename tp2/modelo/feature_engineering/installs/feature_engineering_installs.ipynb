{
 "cells": [
  {
   "cell_type": "markdown",
   "metadata": {},
   "source": [
    "# Imports"
   ]
  },
  {
   "cell_type": "code",
   "execution_count": 1,
   "metadata": {},
   "outputs": [],
   "source": [
    "import pandas as pd\n",
    "import numpy as np"
   ]
  },
  {
   "cell_type": "markdown",
   "metadata": {},
   "source": [
    "---"
   ]
  },
  {
   "cell_type": "markdown",
   "metadata": {},
   "source": [
    "# Carga de datos"
   ]
  },
  {
   "cell_type": "code",
   "execution_count": 2,
   "metadata": {},
   "outputs": [],
   "source": [
    "installs = pd.read_pickle(\"../../../../data/tp2/installs_tp2_formateado.pkl\")"
   ]
  },
  {
   "cell_type": "code",
   "execution_count": 3,
   "metadata": {},
   "outputs": [],
   "source": [
    "targets_competencia = pd.read_pickle(\"../../../../data/tp2/ref_hashes_target.pkl\")"
   ]
  },
  {
   "cell_type": "markdown",
   "metadata": {},
   "source": [
    "---"
   ]
  },
  {
   "cell_type": "markdown",
   "metadata": {},
   "source": [
    "### De installs, me quedo con sólo datos que correspondan a la competencia"
   ]
  },
  {
   "cell_type": "code",
   "execution_count": 4,
   "metadata": {},
   "outputs": [],
   "source": [
    "installs_competencia = installs.loc[installs[\"device_id\"].isin(targets_competencia.index)]"
   ]
  },
  {
   "cell_type": "markdown",
   "metadata": {},
   "source": [
    "---"
   ]
  },
  {
   "cell_type": "markdown",
   "metadata": {},
   "source": [
    "# Cargo features generados hasta el momento"
   ]
  },
  {
   "cell_type": "markdown",
   "metadata": {},
   "source": [
    "## Sets de entrenamiento"
   ]
  },
  {
   "cell_type": "code",
   "execution_count": 5,
   "metadata": {},
   "outputs": [
    {
     "name": "stdout",
     "output_type": "stream",
     "text": [
      "Cargando features\n",
      "No se encontraron los features, se generarán los dataframe requeridos\n"
     ]
    }
   ],
   "source": [
    "# Ventanas de tres dias\n",
    "Xs = {}\n",
    "try:\n",
    "    print(\"Cargando features\")\n",
    "    for ventana_nro in range(1,5):    \n",
    "        Xs[ventana_nro] = pd.read_csv(\"../../features/ventana_{}_entrenar_installs.csv\".format(ventana_nro), index_col=0)\n",
    "except FileNotFoundError:\n",
    "    print(\"No se encontraron los features, se generarán los dataframe requeridos\")\n",
    "    for ventana_nro in range(1,5):    \n",
    "        Xs[ventana_nro] = installs.loc[installs[\"ventana_{}\".format(ventana_nro)]][\"device_id\"] \\\n",
    "            .drop_duplicates().to_frame().set_index(\"device_id\").copy()"
   ]
  },
  {
   "cell_type": "markdown",
   "metadata": {},
   "source": [
    "## Set que se usará para predecir"
   ]
  },
  {
   "cell_type": "code",
   "execution_count": 5,
   "metadata": {},
   "outputs": [
    {
     "name": "stdout",
     "output_type": "stream",
     "text": [
      "Cargando features usados para predecir\n",
      "No se encontraron los features usados para predecir, se generará el dataframe requerido\n"
     ]
    }
   ],
   "source": [
    "# Features para hacer las predicciones que se suben, corresponden a la ventana 7\n",
    "Xs_predecir = {}\n",
    "\n",
    "try:\n",
    "    print(\"Cargando features usados para predecir\")\n",
    "    Xs_predecir[7] = pd.read_csv(\"../../features/predecir_installs.csv\", index_col=0)\n",
    "except FileNotFoundError:\n",
    "    print(\"No se encontraron los features usados para predecir, se generará el dataframe requerido\")\n",
    "    Xs_predecir[7] = targets_competencia.copy()"
   ]
  },
  {
   "cell_type": "markdown",
   "metadata": {},
   "source": [
    "## Diccionario de features"
   ]
  },
  {
   "cell_type": "code",
   "execution_count": 6,
   "metadata": {},
   "outputs": [],
   "source": [
    "features = {}\n",
    "# Todos los datasets tienen la misma cantidad y nombre de features, tomo la ventana 1\n",
    "columnas_ya_generadas = list(Xs[1].columns.values)"
   ]
  },
  {
   "cell_type": "markdown",
   "metadata": {},
   "source": [
    "---"
   ]
  },
  {
   "cell_type": "markdown",
   "metadata": {},
   "source": [
    "# Creación de features"
   ]
  },
  {
   "cell_type": "markdown",
   "metadata": {},
   "source": [
    "## Cantidad de instalaciones dentro de la ventana"
   ]
  },
  {
   "cell_type": "code",
   "execution_count": 7,
   "metadata": {},
   "outputs": [],
   "source": [
    "def cantidad_de_instalaciones(dataframe, nro_ventana):\n",
    "    return dataframe.groupby(\"device_id\").agg({\"date\" : \"count\"}).rename(columns={\"date\": \"cantidad_instalaciones_installs\"})"
   ]
  },
  {
   "cell_type": "code",
   "execution_count": 8,
   "metadata": {},
   "outputs": [],
   "source": [
    "features[\"cantidad_de_instalaciones\"] = (cantidad_de_instalaciones, [\"cantidad_instalaciones_installs\"])"
   ]
  },
  {
   "cell_type": "markdown",
   "metadata": {},
   "source": [
    "---"
   ]
  },
  {
   "cell_type": "markdown",
   "metadata": {},
   "source": [
    "## Tiempo desde la última instalacion hasta el fin de la ventana"
   ]
  },
  {
   "cell_type": "code",
   "execution_count": 9,
   "metadata": {},
   "outputs": [],
   "source": [
    "def tiempo_desde_ult_instalacion_hasta_fin_ventana(dataframe, nro_ventana):\n",
    "    return (np.datetime64(\"2019-04-2{}\".format(nro_ventana)) - dataframe.groupby(\"device_id\").agg({\"date\" : \"max\"})[\"date\"]).dt.total_seconds().to_frame().rename(columns={\"date\": \"tiempo_ultima_instalacion_hasta_fin_ventana\"})"
   ]
  },
  {
   "cell_type": "code",
   "execution_count": 10,
   "metadata": {},
   "outputs": [],
   "source": [
    "features[\"tiempo_desde_ult_instalacion_hasta_fin_ventana\"] = (tiempo_desde_ult_instalacion_hasta_fin_ventana, [\"tiempo_ultima_instalacion_hasta_fin_ventana\"])"
   ]
  },
  {
   "cell_type": "markdown",
   "metadata": {},
   "source": [
    "---"
   ]
  },
  {
   "cell_type": "markdown",
   "metadata": {},
   "source": [
    "## Cantidad de aplicaciones distintas instaladas"
   ]
  },
  {
   "cell_type": "code",
   "execution_count": 11,
   "metadata": {},
   "outputs": [],
   "source": [
    "def cantidad_aplicaciones_distintas_instaladas(dataframe, nro_ventana):\n",
    "    return dataframe.groupby(\"device_id\").agg({\"application_id\" : \"nunique\"}).rename(columns={\"application_id\": \"cantidad_aplicaciones_diferentes_installs\"})"
   ]
  },
  {
   "cell_type": "code",
   "execution_count": 12,
   "metadata": {},
   "outputs": [],
   "source": [
    "features[\"cantidad_aplicaciones_distintas_instaladas\"] = (cantidad_aplicaciones_distintas_instaladas, [\"cantidad_aplicaciones_diferentes_installs\"])"
   ]
  },
  {
   "cell_type": "markdown",
   "metadata": {},
   "source": [
    "---"
   ]
  },
  {
   "cell_type": "markdown",
   "metadata": {},
   "source": [
    "# Genero los features"
   ]
  },
  {
   "cell_type": "markdown",
   "metadata": {},
   "source": [
    "## Función generadora de features en ventanas"
   ]
  },
  {
   "cell_type": "code",
   "execution_count": 13,
   "metadata": {},
   "outputs": [],
   "source": [
    "def generar_feature_en_ventanas(dataframe, generador_feature, destinos, ventana_inicial, ventana_final):\n",
    "    \"\"\"El rango se toma como python, [ventana_inicial, ventana_final)\"\"\"\n",
    "    for ventana_nro in range(ventana_inicial, ventana_final):\n",
    "        feature = generador_feature(dataframe.loc[dataframe[\"ventana_{}\".format(ventana_nro)]], ventana_nro)\n",
    "        destinos[ventana_nro] = destinos[ventana_nro].merge(feature, left_index=True, right_index=True, how=\"left\")"
   ]
  },
  {
   "cell_type": "markdown",
   "metadata": {},
   "source": [
    "### Genero los features"
   ]
  },
  {
   "cell_type": "code",
   "execution_count": 14,
   "metadata": {},
   "outputs": [],
   "source": [
    "COLUMNAS_QUE_GENERA_EL_FEATURE = 1\n",
    "FUNCION_PARA_CALCULAR_EL_FEATURE = 0\n",
    "\n",
    "for nombre_feature in features:    \n",
    "    columnas_generadas = features[nombre_feature][COLUMNAS_QUE_GENERA_EL_FEATURE]\n",
    "    feature_ya_generado = False\n",
    "    for columna in columnas_generadas:\n",
    "        if columna in columnas_ya_generadas:\n",
    "            feature_ya_generado = True\n",
    "            break\n",
    "    \n",
    "    if feature_ya_generado:\n",
    "        continue\n",
    "\n",
    "    generar_feature_en_ventanas(installs, features[nombre_feature][FUNCION_PARA_CALCULAR_EL_FEATURE], Xs, 1, 5)\n",
    "    generar_feature_en_ventanas(installs_competencia, features[nombre_feature][FUNCION_PARA_CALCULAR_EL_FEATURE], Xs_predecir, 7, 8)    \n",
    "    columnas_ya_generadas.extend(features[nombre_feature][COLUMNAS_QUE_GENERA_EL_FEATURE])"
   ]
  },
  {
   "cell_type": "markdown",
   "metadata": {},
   "source": [
    "---"
   ]
  },
  {
   "cell_type": "markdown",
   "metadata": {},
   "source": [
    "# Guardado de los sets de entrenamiento y el set de prediccion"
   ]
  },
  {
   "cell_type": "code",
   "execution_count": 16,
   "metadata": {},
   "outputs": [],
   "source": [
    "for ventana_nro in range(1, 5):\n",
    "    Xs[ventana_nro].to_csv(\"../../features/ventana_{}_entrenar_installs.csv\".format(ventana_nro))\n",
    "\n",
    "Xs_predecir[7].to_csv(\"../../features/predecir_installs.csv\")"
   ]
  },
  {
   "cell_type": "markdown",
   "metadata": {},
   "source": [
    "---"
   ]
  }
 ],
 "metadata": {
  "kernelspec": {
   "display_name": "Python 3",
   "language": "python",
   "name": "python3"
  },
  "language_info": {
   "codemirror_mode": {
    "name": "ipython",
    "version": 3
   },
   "file_extension": ".py",
   "mimetype": "text/x-python",
   "name": "python",
   "nbconvert_exporter": "python",
   "pygments_lexer": "ipython3",
   "version": "3.6.5"
  }
 },
 "nbformat": 4,
 "nbformat_minor": 2
}
