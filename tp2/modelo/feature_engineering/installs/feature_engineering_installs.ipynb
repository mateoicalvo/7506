{
 "cells": [
  {
   "cell_type": "markdown",
   "metadata": {},
   "source": [
    "# Imports"
   ]
  },
  {
   "cell_type": "code",
   "execution_count": 1,
   "metadata": {},
   "outputs": [],
   "source": [
    "import pandas as pd\n",
    "import numpy as np"
   ]
  },
  {
   "cell_type": "markdown",
   "metadata": {},
   "source": [
    "---"
   ]
  },
  {
   "cell_type": "markdown",
   "metadata": {},
   "source": [
    "# Carga de datos"
   ]
  },
  {
   "cell_type": "code",
   "execution_count": 2,
   "metadata": {},
   "outputs": [],
   "source": [
    "installs = pd.read_pickle(\"../../../../data/tp2/installs_tp2_formateado.pkl\")"
   ]
  },
  {
   "cell_type": "markdown",
   "metadata": {},
   "source": [
    "---"
   ]
  },
  {
   "cell_type": "markdown",
   "metadata": {},
   "source": [
    "# Armado de ventanas"
   ]
  },
  {
   "cell_type": "code",
   "execution_count": 3,
   "metadata": {},
   "outputs": [],
   "source": [
    "for ventana_nro in range(1,6):\n",
    "    installs[\"ventana_{}\".format(ventana_nro)] = (((17+ventana_nro) <= installs[\"created\"].dt.day) & ((installs[\"created\"].dt.day) <= (19+ventana_nro)))"
   ]
  },
  {
   "cell_type": "markdown",
   "metadata": {},
   "source": [
    "---"
   ]
  },
  {
   "cell_type": "markdown",
   "metadata": {},
   "source": [
    "# Creación de features"
   ]
  },
  {
   "cell_type": "markdown",
   "metadata": {},
   "source": [
    "## Creación de sets de entrenamiento"
   ]
  },
  {
   "cell_type": "code",
   "execution_count": 4,
   "metadata": {},
   "outputs": [],
   "source": [
    "Xs = {}\n",
    "for ventana_nro in range(1,6):\n",
    "    Xs[ventana_nro] = installs.loc[installs[\"ventana_{}\".format(ventana_nro)]][\"ref_hash\"].drop_duplicates().to_frame().set_index(\"ref_hash\")"
   ]
  },
  {
   "cell_type": "markdown",
   "metadata": {},
   "source": [
    "---"
   ]
  },
  {
   "cell_type": "markdown",
   "metadata": {},
   "source": [
    "## Función generadora de features"
   ]
  },
  {
   "cell_type": "code",
   "execution_count": 5,
   "metadata": {},
   "outputs": [],
   "source": [
    "def generar_feature_en_ventanas(dataframe, generador_feature, destinos):\n",
    "    for ventana_nro in range(1, 6):\n",
    "        feature = generador_feature(dataframe.loc[dataframe[\"ventana_{}\".format(ventana_nro)]], ventana_nro)\n",
    "        destinos[ventana_nro] = destinos[ventana_nro].merge(feature, left_index=True, right_index=True)"
   ]
  },
  {
   "cell_type": "markdown",
   "metadata": {},
   "source": [
    "---"
   ]
  },
  {
   "cell_type": "markdown",
   "metadata": {},
   "source": [
    "## Cantidad de instalaciones dentro de la ventana"
   ]
  },
  {
   "cell_type": "code",
   "execution_count": 6,
   "metadata": {},
   "outputs": [],
   "source": [
    "def cantidad_de_instalaciones(dataframe, nro_ventana):\n",
    "    return dataframe.groupby(\"ref_hash\").agg({\"created\" : \"count\"}).rename(columns={\"created\": \"cantidad_instalaciones\"})"
   ]
  },
  {
   "cell_type": "code",
   "execution_count": 8,
   "metadata": {},
   "outputs": [],
   "source": [
    "generar_feature_en_ventanas(installs, cantidad_de_instalaciones, Xs)"
   ]
  },
  {
   "cell_type": "markdown",
   "metadata": {},
   "source": [
    "---"
   ]
  },
  {
   "cell_type": "markdown",
   "metadata": {},
   "source": [
    "## Tiempo desde la última aparición hasta el fin de la ventana"
   ]
  },
  {
   "cell_type": "code",
   "execution_count": 20,
   "metadata": {},
   "outputs": [],
   "source": [
    "def tiempo_desde_ult_instalacion_hasta_fin_ventana(dataframe, nro_ventana):\n",
    "    return (np.datetime64(\"2019-04-2{}\".format(nro_ventana)) - dataframe.groupby(\"ref_hash\").agg({\"created\" : \"max\"})[\"created\"]).dt.total_seconds().to_frame().rename(columns={\"created\": \"tiempo_ultima_instalacion_hasta_fin_ventana\"})"
   ]
  },
  {
   "cell_type": "code",
   "execution_count": 21,
   "metadata": {},
   "outputs": [],
   "source": [
    "generar_feature_en_ventanas(installs, tiempo_desde_ult_instalacion_hasta_fin_ventana, Xs)"
   ]
  },
  {
   "cell_type": "markdown",
   "metadata": {},
   "source": [
    "---"
   ]
  },
  {
   "cell_type": "markdown",
   "metadata": {},
   "source": [
    "## Cantidad de aplicaciones distintas instaladas"
   ]
  },
  {
   "cell_type": "code",
   "execution_count": 26,
   "metadata": {},
   "outputs": [],
   "source": [
    "def cantidad_aplicaciones_distintas_instaladas(dataframe, nro_ventana):\n",
    "    return dataframe.groupby(\"ref_hash\").agg({\"application_id\" : \"nunique\"}).rename(columns={\"application_id\": \"cantidad_aplicaciones_diferentes\"})"
   ]
  },
  {
   "cell_type": "code",
   "execution_count": 27,
   "metadata": {},
   "outputs": [],
   "source": [
    "generar_feature_en_ventanas(installs, cantidad_aplicaciones_distintas_instaladas, Xs)"
   ]
  },
  {
   "cell_type": "markdown",
   "metadata": {},
   "source": [
    "---"
   ]
  },
  {
   "cell_type": "code",
   "execution_count": null,
   "metadata": {},
   "outputs": [],
   "source": [
    "def promedio_hora_instalacion(dataframe, nro_ventana):\n",
    "    return dataframe.groupby(\"ref_hash\").agg({\"application_id\" : \"nunique\"}).rename(columns={\"application_id\": \"cantidad_aplicaciones_diferentes\"})"
   ]
  },
  {
   "cell_type": "markdown",
   "metadata": {},
   "source": [
    "# Prueba momentanea, baseline para ver que tal anda con solo la cantidad de instalaciones"
   ]
  },
  {
   "cell_type": "code",
   "execution_count": 76,
   "metadata": {},
   "outputs": [],
   "source": [
    "features_v1_auctions = pd.read_pickle(\"../../features/auctions_train_ventana_1.pkl\")"
   ]
  },
  {
   "cell_type": "code",
   "execution_count": 77,
   "metadata": {},
   "outputs": [],
   "source": [
    "features_v1_events = pd.read_pickle(\"../../features/events_train_ventana_1.pkl\")\n",
    "features_v1_clicks = pd.read_pickle(\"../../features/clicks_train_ventana_1.pkl\")"
   ]
  },
  {
   "cell_type": "code",
   "execution_count": 79,
   "metadata": {},
   "outputs": [],
   "source": [
    "features_v1 = Xs[1]\n",
    "features_v1 = features_v1.merge(features_v1_auctions, left_index=True, right_index=True, suffixes=(\"_a\", \"_b\"))\n",
    "features_v1 = features_v1.merge(features_v1_events, left_index=True, right_index=True, suffixes=(\"_c\", \"_d\"))\n",
    "features_v1 = features_v1.merge(features_v1_clicks, left_index=True, right_index=True, suffixes=(\"_e\", \"_f\"))"
   ]
  },
  {
   "cell_type": "code",
   "execution_count": 103,
   "metadata": {},
   "outputs": [],
   "source": [
    "competencia = pd.read_pickle(\"../../../../data/tp2/ref_hashes_target.pkl\")"
   ]
  },
  {
   "cell_type": "code",
   "execution_count": 107,
   "metadata": {},
   "outputs": [],
   "source": [
    "features_v1 = Xs[1]"
   ]
  },
  {
   "cell_type": "code",
   "execution_count": 155,
   "metadata": {},
   "outputs": [
    {
     "name": "stdout",
     "output_type": "stream",
     "text": [
      "[0]\ttrain-rmse:231187\ttest-rmse:231121\n",
      "Multiple eval metrics have been passed: 'test-rmse' will be used for early stopping.\n",
      "\n",
      "Will train until test-rmse hasn't improved in 20 rounds.\n",
      "[1]\ttrain-rmse:208402\ttest-rmse:208341\n",
      "[2]\ttrain-rmse:187932\ttest-rmse:187877\n",
      "[3]\ttrain-rmse:169549\ttest-rmse:169500\n",
      "[4]\ttrain-rmse:153049\ttest-rmse:153006\n",
      "[5]\ttrain-rmse:138247\ttest-rmse:138212\n",
      "[6]\ttrain-rmse:124980\ttest-rmse:124953\n",
      "[7]\ttrain-rmse:113097\ttest-rmse:113080\n",
      "[8]\ttrain-rmse:102467\ttest-rmse:102460\n",
      "[9]\ttrain-rmse:92969.9\ttest-rmse:92974.5\n",
      "[10]\ttrain-rmse:84498.2\ttest-rmse:84514.4\n",
      "[11]\ttrain-rmse:76955.5\ttest-rmse:76984.9\n",
      "[12]\ttrain-rmse:70254.9\ttest-rmse:70298.3\n",
      "[13]\ttrain-rmse:64316.5\ttest-rmse:64376.6\n",
      "[14]\ttrain-rmse:59069.9\ttest-rmse:59147.5\n",
      "[15]\ttrain-rmse:54450.6\ttest-rmse:54546.5\n",
      "[16]\ttrain-rmse:50399.6\ttest-rmse:50515.6\n",
      "[17]\ttrain-rmse:46861.9\ttest-rmse:46998.2\n",
      "[18]\ttrain-rmse:43787.3\ttest-rmse:43945.1\n",
      "[19]\ttrain-rmse:41128.4\ttest-rmse:41307.2\n",
      "[20]\ttrain-rmse:38842.3\ttest-rmse:39040.6\n",
      "[21]\ttrain-rmse:36885.8\ttest-rmse:37105.1\n",
      "[22]\ttrain-rmse:35220.5\ttest-rmse:35462.4\n",
      "[23]\ttrain-rmse:33811.7\ttest-rmse:34073.1\n",
      "[24]\ttrain-rmse:32625.8\ttest-rmse:32904.4\n",
      "[25]\ttrain-rmse:31633.6\ttest-rmse:31927.4\n",
      "[26]\ttrain-rmse:30805.3\ttest-rmse:31113.5\n",
      "[27]\ttrain-rmse:30117\ttest-rmse:30439.3\n",
      "[28]\ttrain-rmse:29547\ttest-rmse:29882.2\n",
      "[29]\ttrain-rmse:29077\ttest-rmse:29425.2\n",
      "[30]\ttrain-rmse:28692.1\ttest-rmse:29048.9\n",
      "[31]\ttrain-rmse:28376.2\ttest-rmse:28741.2\n",
      "[32]\ttrain-rmse:28117.8\ttest-rmse:28489.7\n",
      "[33]\ttrain-rmse:27905.8\ttest-rmse:28284.8\n",
      "[34]\ttrain-rmse:27733.7\ttest-rmse:28117.6\n",
      "[35]\ttrain-rmse:27591.5\ttest-rmse:27983.7\n",
      "[36]\ttrain-rmse:27475.3\ttest-rmse:27873.6\n",
      "[37]\ttrain-rmse:27382.5\ttest-rmse:27784\n",
      "[38]\ttrain-rmse:27305.5\ttest-rmse:27711.9\n",
      "[39]\ttrain-rmse:27244.2\ttest-rmse:27653.1\n",
      "[40]\ttrain-rmse:27193.9\ttest-rmse:27605.7\n",
      "[41]\ttrain-rmse:27151.2\ttest-rmse:27567.4\n",
      "[42]\ttrain-rmse:27117.9\ttest-rmse:27536.8\n",
      "[43]\ttrain-rmse:27089.5\ttest-rmse:27511.5\n",
      "[44]\ttrain-rmse:27067.9\ttest-rmse:27491.2\n",
      "[45]\ttrain-rmse:27048.9\ttest-rmse:27475.2\n",
      "[46]\ttrain-rmse:27032.5\ttest-rmse:27463.2\n",
      "[47]\ttrain-rmse:27019.9\ttest-rmse:27453.3\n",
      "[48]\ttrain-rmse:27009.7\ttest-rmse:27444.8\n",
      "[49]\ttrain-rmse:27002\ttest-rmse:27437.4\n",
      "[50]\ttrain-rmse:26993.9\ttest-rmse:27432.9\n",
      "[51]\ttrain-rmse:26987.9\ttest-rmse:27429.1\n",
      "[52]\ttrain-rmse:26982.8\ttest-rmse:27425.7\n",
      "[53]\ttrain-rmse:26977.7\ttest-rmse:27423.1\n",
      "[54]\ttrain-rmse:26974.1\ttest-rmse:27421.6\n",
      "[55]\ttrain-rmse:26970.9\ttest-rmse:27420.4\n",
      "[56]\ttrain-rmse:26969\ttest-rmse:27418.4\n",
      "[57]\ttrain-rmse:26966.9\ttest-rmse:27417.7\n",
      "[58]\ttrain-rmse:26964.9\ttest-rmse:27417.7\n",
      "[59]\ttrain-rmse:26961.8\ttest-rmse:27417\n",
      "[60]\ttrain-rmse:26959.4\ttest-rmse:27417\n",
      "[61]\ttrain-rmse:26957.4\ttest-rmse:27416.8\n",
      "[62]\ttrain-rmse:26956.3\ttest-rmse:27417.4\n",
      "[63]\ttrain-rmse:26955.3\ttest-rmse:27417.9\n",
      "[64]\ttrain-rmse:26953.1\ttest-rmse:27418.1\n",
      "[65]\ttrain-rmse:26951.3\ttest-rmse:27418.2\n",
      "[66]\ttrain-rmse:26949.3\ttest-rmse:27419.2\n",
      "[67]\ttrain-rmse:26948.1\ttest-rmse:27419.3\n",
      "[68]\ttrain-rmse:26945.8\ttest-rmse:27419.3\n",
      "[69]\ttrain-rmse:26944.1\ttest-rmse:27420.1\n",
      "[70]\ttrain-rmse:26943\ttest-rmse:27420\n",
      "[71]\ttrain-rmse:26941.1\ttest-rmse:27419.9\n",
      "[72]\ttrain-rmse:26939\ttest-rmse:27420.1\n",
      "[73]\ttrain-rmse:26938.8\ttest-rmse:27419.6\n",
      "[74]\ttrain-rmse:26937.1\ttest-rmse:27419.7\n",
      "[75]\ttrain-rmse:26935.4\ttest-rmse:27420.6\n",
      "[76]\ttrain-rmse:26934.5\ttest-rmse:27421.9\n",
      "[77]\ttrain-rmse:26933.4\ttest-rmse:27422.9\n",
      "[78]\ttrain-rmse:26932.4\ttest-rmse:27422.9\n",
      "[79]\ttrain-rmse:26930.6\ttest-rmse:27424.8\n",
      "[80]\ttrain-rmse:26929.2\ttest-rmse:27425.8\n",
      "[81]\ttrain-rmse:26926.2\ttest-rmse:27426\n",
      "Stopping. Best iteration:\n",
      "[61]\ttrain-rmse:26957.4\ttest-rmse:27416.8\n",
      "\n"
     ]
    }
   ],
   "source": [
    "import xgboost as xgb\n",
    "from sklearn.model_selection import train_test_split\n",
    "from sklearn.metrics import mean_squared_error\n",
    "\n",
    "\n",
    "\n",
    "targets = pd.read_pickle(\"../../targets/targets_ventana_1_installs.pkl\")\n",
    "train = features_v1.merge(targets, left_index=True, right_index=True)\n",
    "\n",
    "X, y = train.iloc[:,:-1], train.iloc[:,-1]\n",
    "X_train, X_test, y_train, y_test = \\\n",
    "    train_test_split(X, y, test_size=0.2, random_state=123)\n",
    "\n",
    "dtrain = xgb.DMatrix(data=X_train, label=y_train)\n",
    "dtest = xgb.DMatrix(data=X_test, label=y_test)\n",
    "\n",
    "param = {'max_depth':3,\n",
    "         'eta':0.3,\n",
    "         'silent':1,\n",
    "         'objective':'reg:linear',\n",
    "         'eval_metric' : 'rmse',\n",
    "         'obj' : 'reg:squarederror',\n",
    "         'colsample_bytree' : 0.7,\n",
    "         'min_child_weight' : 0.5,\n",
    "         'random_state' : 0,\n",
    "         'reg_alpha' : 0,\n",
    "         'reg_lambda' : 1,\n",
    "         'scale_pos_weight' : 14,\n",
    "         'learning_rate' : 0.1}\n",
    "\n",
    "\n",
    "num_round = 5000\n",
    "stopping = 20\n",
    "bst = xgb.train(param, dtrain, num_round, evals=[(dtrain, \"train\"), (dtest, \"test\")], early_stopping_rounds=stopping)"
   ]
  },
  {
   "cell_type": "code",
   "execution_count": 96,
   "metadata": {},
   "outputs": [],
   "source": [
    "import seaborn as sns"
   ]
  },
  {
   "cell_type": "code",
   "execution_count": 110,
   "metadata": {},
   "outputs": [],
   "source": [
    "reales = targets.merge(competencia, left_index=True, right_index=True)[\"target\"]"
   ]
  },
  {
   "cell_type": "code",
   "execution_count": 113,
   "metadata": {},
   "outputs": [],
   "source": [
    "pre_rmse = reales - 259200"
   ]
  },
  {
   "cell_type": "code",
   "execution_count": 117,
   "metadata": {},
   "outputs": [
    {
     "data": {
      "text/plain": [
       "44349.72172890477"
      ]
     },
     "execution_count": 117,
     "metadata": {},
     "output_type": "execute_result"
    }
   ],
   "source": [
    "sqrt(pre_rmse.apply(lambda x: x**2).sum()/len(pre_rmse))"
   ]
  },
  {
   "cell_type": "code",
   "execution_count": 127,
   "metadata": {},
   "outputs": [],
   "source": [
    "de_la_comp = competencia.merge(Xs[1], left_index=True, right_index=True).merge(targets, left_index=True, right_index=True)"
   ]
  },
  {
   "cell_type": "code",
   "execution_count": 134,
   "metadata": {},
   "outputs": [],
   "source": [
    "de_la_comp[\"instalo\"] = de_la_comp[\"instalo\"].astype(np.int8)"
   ]
  },
  {
   "cell_type": "code",
   "execution_count": 156,
   "metadata": {},
   "outputs": [
    {
     "data": {
      "text/plain": [
       "XGBClassifier(base_score=0.5, booster='gbtree', colsample_bylevel=1,\n",
       "       colsample_bytree=1, gamma=0, learning_rate=0.1, max_delta_step=0,\n",
       "       max_depth=3, min_child_weight=1, missing=None, n_estimators=100,\n",
       "       n_jobs=1, nthread=None, objective='binary:logistic', random_state=0,\n",
       "       reg_alpha=0, reg_lambda=1, scale_pos_weight=13, seed=None,\n",
       "       silent=True, subsample=1)"
      ]
     },
     "execution_count": 156,
     "metadata": {},
     "output_type": "execute_result"
    }
   ],
   "source": [
    "model = xgb.XGBClassifier(scale_pos_weight=13)\n",
    "X, y = de_la_comp.iloc[:,:-2], de_la_comp[\"instalo\"]\n",
    "X_train, X_test, y_train, y_test = \\\n",
    "    train_test_split(X, y, test_size=0.5, random_state=123)\n",
    "\n",
    "model.fit(X_train, y_train)"
   ]
  },
  {
   "cell_type": "code",
   "execution_count": 157,
   "metadata": {},
   "outputs": [
    {
     "name": "stderr",
     "output_type": "stream",
     "text": [
      "/opt/anaconda/3/lib/python3.6/site-packages/sklearn/preprocessing/label.py:151: DeprecationWarning: The truth value of an empty array is ambiguous. Returning False, but in future this will result in an error. Use `array.size > 0` to check that an array is not empty.\n",
      "  if diff:\n"
     ]
    }
   ],
   "source": [
    "predichos = model.predict(X_test)"
   ]
  },
  {
   "cell_type": "code",
   "execution_count": 158,
   "metadata": {},
   "outputs": [
    {
     "data": {
      "text/plain": [
       "0    616\n",
       "1     46\n",
       "Name: instalo, dtype: int64"
      ]
     },
     "execution_count": 158,
     "metadata": {},
     "output_type": "execute_result"
    }
   ],
   "source": [
    "y_test.value_counts()"
   ]
  },
  {
   "cell_type": "code",
   "execution_count": 159,
   "metadata": {},
   "outputs": [
    {
     "data": {
      "text/plain": [
       "0    503\n",
       "1    159\n",
       "dtype: int64"
      ]
     },
     "execution_count": 159,
     "metadata": {},
     "output_type": "execute_result"
    }
   ],
   "source": [
    "pd.Series(predichos).value_counts()"
   ]
  },
  {
   "cell_type": "code",
   "execution_count": 164,
   "metadata": {},
   "outputs": [
    {
     "data": {
      "text/plain": [
       "True     479\n",
       "False    183\n",
       "dtype: int64"
      ]
     },
     "execution_count": 164,
     "metadata": {},
     "output_type": "execute_result"
    }
   ],
   "source": [
    "pd.Series(pd.Series(predichos).values == y_test.values).value_counts()"
   ]
  }
 ],
 "metadata": {
  "kernelspec": {
   "display_name": "Python 3",
   "language": "python",
   "name": "python3"
  },
  "language_info": {
   "codemirror_mode": {
    "name": "ipython",
    "version": 3
   },
   "file_extension": ".py",
   "mimetype": "text/x-python",
   "name": "python",
   "nbconvert_exporter": "python",
   "pygments_lexer": "ipython3",
   "version": "3.6.5"
  }
 },
 "nbformat": 4,
 "nbformat_minor": 2
}
