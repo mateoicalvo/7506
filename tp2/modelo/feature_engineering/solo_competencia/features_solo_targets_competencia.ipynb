{
 "cells": [
  {
   "cell_type": "markdown",
   "metadata": {},
   "source": [
    "# Imports"
   ]
  },
  {
   "cell_type": "code",
   "execution_count": 18,
   "metadata": {},
   "outputs": [],
   "source": [
    "import pandas as pd\n",
    "import numpy as np\n",
    "from matplotlib import pyplot as plt\n",
    "import seaborn as sns"
   ]
  },
  {
   "cell_type": "markdown",
   "metadata": {},
   "source": [
    "---"
   ]
  },
  {
   "cell_type": "markdown",
   "metadata": {},
   "source": [
    "# Carga de datos"
   ]
  },
  {
   "cell_type": "code",
   "execution_count": 3,
   "metadata": {},
   "outputs": [],
   "source": [
    "auctions = pd.read_pickle(\"../../../../data/tp2/auctions_tp2_formateado.pkl\")\n",
    "clicks = pd.read_pickle(\"../../../../data/tp2/clicks_tp2_formateado.pkl\")\n",
    "events = pd.read_pickle(\"../../../../data/tp2/events_tp2_formateado.pkl\")\n",
    "installs = pd.read_pickle(\"../../../../data/tp2/clicks_tp2_formateado.pkl\")"
   ]
  },
  {
   "cell_type": "markdown",
   "metadata": {},
   "source": [
    "---"
   ]
  },
  {
   "cell_type": "markdown",
   "metadata": {},
   "source": [
    "# Cargo dispositivos de la competencia"
   ]
  },
  {
   "cell_type": "code",
   "execution_count": 2,
   "metadata": {},
   "outputs": [],
   "source": [
    "targets = pd.read_pickle(\"../../../../data/tp2/ref_hashes_target.pkl\")"
   ]
  },
  {
   "cell_type": "markdown",
   "metadata": {},
   "source": [
    "---"
   ]
  },
  {
   "cell_type": "markdown",
   "metadata": {},
   "source": [
    "# Cargo los labels calculados hasta el momento"
   ]
  },
  {
   "cell_type": "code",
   "execution_count": 3,
   "metadata": {},
   "outputs": [],
   "source": [
    "labels_v1 = pd.read_pickle(\"../../targets/targets_ventana_1_auctions.pkl\")\n",
    "labels_v2 = pd.read_pickle(\"../../targets/targets_ventana_2_auctions.pkl\")\n",
    "labels_v3 = pd.read_pickle(\"../../targets/targets_ventana_3_auctions.pkl\")\n",
    "labels_v4 = pd.read_pickle(\"../../targets/targets_ventana_4_auctions.pkl\")\n",
    "labels_v5 = pd.read_pickle(\"../../targets/targets_ventana_5_auctions.pkl\")"
   ]
  },
  {
   "cell_type": "markdown",
   "metadata": {},
   "source": [
    "# Observo que tan uniforme es el comportamiento de los dispositivos"
   ]
  },
  {
   "cell_type": "code",
   "execution_count": 33,
   "metadata": {},
   "outputs": [
    {
     "name": "stderr",
     "output_type": "stream",
     "text": [
      "/opt/anaconda/3/lib/python3.6/site-packages/seaborn/distributions.py:218: MatplotlibDeprecationWarning: \n",
      "The 'normed' kwarg was deprecated in Matplotlib 2.1 and will be removed in 3.1. Use 'density' instead.\n",
      "  color=hist_color, **hist_kws)\n",
      "/opt/anaconda/3/lib/python3.6/site-packages/seaborn/distributions.py:218: MatplotlibDeprecationWarning: \n",
      "The 'normed' kwarg was deprecated in Matplotlib 2.1 and will be removed in 3.1. Use 'density' instead.\n",
      "  color=hist_color, **hist_kws)\n"
     ]
    },
    {
     "data": {
      "image/png": "[encoded data removed]",
      "text/plain": [
       "<Figure size 432x288 with 1 Axes>"
      ]
     },
     "metadata": {},
     "output_type": "display_data"
    }
   ],
   "source": [
    "sns.distplot(labels_v1[\"target\"],  kde=False, label='Total',norm_hist=True,bins=10)\n",
    "sns.distplot(labels_v1.loc[labels_v1.index.isin(targets.index)][\"target\"],  kde=False, label='Competencia', norm_hist=True, bins=10)\n",
    "\n",
    "plt.legend(prop={'size': 12})\n",
    "plt.title('Comparación de labels entre dispositivos de la competencia y el total, ventana 1')\n",
    "plt.xlabel('Tiempo que tardó en volver a aparecer')\n",
    "plt.ylabel('Densidad');"
   ]
  },
  {
   "cell_type": "code",
   "execution_count": null,
   "metadata": {},
   "outputs": [],
   "source": [
    "sns.distplot(labels_v1[\"target\"],  kde=False, label='Total',norm_hist=True,bins=10)\n",
    "sns.distplot(labels_v1.loc[labels_v1.index.isin(targets.index)][\"target\"],  kde=False, label='Competencia', norm_hist=True, bins=10)\n",
    "\n",
    "plt.legend(prop={'size': 12})\n",
    "plt.title('Comparación de labels entre dispositivos de la competencia y el total, ventana 2')\n",
    "plt.xlabel('Tiempo que tardó en volver a aparecer')\n",
    "plt.ylabel('Densidad');"
   ]
  }
 ],
 "metadata": {
  "kernelspec": {
   "display_name": "Python 3",
   "language": "python",
   "name": "python3"
  },
  "language_info": {
   "codemirror_mode": {
    "name": "ipython",
    "version": 3
   },
   "file_extension": ".py",
   "mimetype": "text/x-python",
   "name": "python",
   "nbconvert_exporter": "python",
   "pygments_lexer": "ipython3",
   "version": "3.6.5"
  }
 },
 "nbformat": 4,
 "nbformat_minor": 2
}
