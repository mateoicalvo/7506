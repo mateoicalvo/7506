{
 "cells": [
  {
   "cell_type": "code",
   "execution_count": 1,
   "metadata": {},
   "outputs": [],
   "source": [
    "import pandas as pd\n",
    "import numpy as np"
   ]
  },
  {
   "cell_type": "markdown",
   "metadata": {},
   "source": [
    "---"
   ]
  },
  {
   "cell_type": "markdown",
   "metadata": {},
   "source": [
    "# Análisis para encontrar futuros targets"
   ]
  },
  {
   "cell_type": "code",
   "execution_count": 2,
   "metadata": {},
   "outputs": [],
   "source": [
    "events = pd.read_pickle(\"../../../../data/tp2/events_tp2_formateado.pkl\")"
   ]
  },
  {
   "cell_type": "code",
   "execution_count": 3,
   "metadata": {},
   "outputs": [],
   "source": [
    "events.drop(columns = 'index',inplace = True)"
   ]
  },
  {
   "cell_type": "markdown",
   "metadata": {},
   "source": [
    "### ¿Cúales son los eventos más frecuentes? \n",
    "### ¿Hay algún top de eventos que compartan todos los dispositivos al menos una vez en cada ventana?"
   ]
  },
  {
   "cell_type": "code",
   "execution_count": 5,
   "metadata": {},
   "outputs": [],
   "source": [
    "grupo = events.groupby([\"ref_hash\",\"event_id\"]).size().to_frame()\n",
    "idx = grupo.groupby(['ref_hash'])[0].transform(max) == grupo[0]\n",
    "grupo = grupo[idx]"
   ]
  },
  {
   "cell_type": "code",
   "execution_count": 7,
   "metadata": {},
   "outputs": [],
   "source": [
    "grupo.rename(columns= {0:\"cant_ocurrencias\"},inplace = True)"
   ]
  },
  {
   "cell_type": "code",
   "execution_count": 8,
   "metadata": {},
   "outputs": [
    {
     "data": {
      "text/html": [
       "<div>\n",
       "<style scoped>\n",
       "    .dataframe tbody tr th:only-of-type {\n",
       "        vertical-align: middle;\n",
       "    }\n",
       "\n",
       "    .dataframe tbody tr th {\n",
       "        vertical-align: top;\n",
       "    }\n",
       "\n",
       "    .dataframe thead th {\n",
       "        text-align: right;\n",
       "    }\n",
       "</style>\n",
       "<table border=\"1\" class=\"dataframe\">\n",
       "  <thead>\n",
       "    <tr style=\"text-align: right;\">\n",
       "      <th></th>\n",
       "      <th></th>\n",
       "      <th>cant_ocurrencias</th>\n",
       "    </tr>\n",
       "    <tr>\n",
       "      <th>ref_hash</th>\n",
       "      <th>event_id</th>\n",
       "      <th></th>\n",
       "    </tr>\n",
       "  </thead>\n",
       "  <tbody>\n",
       "    <tr>\n",
       "      <th>40621409780134</th>\n",
       "      <th>363</th>\n",
       "      <td>7</td>\n",
       "    </tr>\n",
       "    <tr>\n",
       "      <th>41863526108385</th>\n",
       "      <th>1</th>\n",
       "      <td>100</td>\n",
       "    </tr>\n",
       "    <tr>\n",
       "      <th>69039685746313</th>\n",
       "      <th>287</th>\n",
       "      <td>12</td>\n",
       "    </tr>\n",
       "    <tr>\n",
       "      <th>90072729247980</th>\n",
       "      <th>0</th>\n",
       "      <td>3</td>\n",
       "    </tr>\n",
       "    <tr>\n",
       "      <th>161514654074162</th>\n",
       "      <th>15</th>\n",
       "      <td>31</td>\n",
       "    </tr>\n",
       "  </tbody>\n",
       "</table>\n",
       "</div>"
      ],
      "text/plain": [
       "                          cant_ocurrencias\n",
       "ref_hash        event_id                  \n",
       "40621409780134  363                      7\n",
       "41863526108385  1                      100\n",
       "69039685746313  287                     12\n",
       "90072729247980  0                        3\n",
       "161514654074162 15                      31"
      ]
     },
     "execution_count": 8,
     "metadata": {},
     "output_type": "execute_result"
    }
   ],
   "source": [
    "grupo.head()"
   ]
  },
  {
   "cell_type": "markdown",
   "metadata": {},
   "source": [
    "#### ¿Hay dispositivos que tengan más de un evento como máximo ?"
   ]
  },
  {
   "cell_type": "code",
   "execution_count": 9,
   "metadata": {},
   "outputs": [
    {
     "data": {
      "text/plain": [
       "53860"
      ]
     },
     "execution_count": 9,
     "metadata": {},
     "output_type": "execute_result"
    }
   ],
   "source": [
    "((grupo.groupby([\"ref_hash\"]).count()[\"cant_ocurrencias\"]) > 1).sum()"
   ]
  },
  {
   "cell_type": "markdown",
   "metadata": {},
   "source": [
    "#### ¿Cual es el máximo numero de eventos empatados como máximo por dispositivo?"
   ]
  },
  {
   "cell_type": "code",
   "execution_count": 10,
   "metadata": {},
   "outputs": [
    {
     "data": {
      "text/plain": [
       "cant_ocurrencias    10\n",
       "dtype: int64"
      ]
     },
     "execution_count": 10,
     "metadata": {},
     "output_type": "execute_result"
    }
   ],
   "source": [
    "(grupo.groupby([\"ref_hash\"]).count()).max()"
   ]
  },
  {
   "cell_type": "markdown",
   "metadata": {},
   "source": [
    "#### ¿Podría usarse algún criterio se toma para decidir con cual evento quedarse dentro de los dispositivos que tienen más de un evento como máximo? "
   ]
  },
  {
   "cell_type": "markdown",
   "metadata": {},
   "source": [
    "##### Voy a crear una lista ordenada de los eventos más presentes por dispositivo, contando un solo dispositivo por evento para no desbalancear si un dispositivo hace 10000 veces el mismo evento. Esto podría dar un orden de importancia entre eventos"
   ]
  },
  {
   "cell_type": "code",
   "execution_count": 12,
   "metadata": {},
   "outputs": [],
   "source": [
    "top_eventos = grupo.groupby([\"ref_hash\",\"event_id\"]).size().reset_index()\\\n",
    "                      .groupby(\"event_id\").size().sort_values(ascending = False)"
   ]
  },
  {
   "cell_type": "code",
   "execution_count": 13,
   "metadata": {},
   "outputs": [
    {
     "data": {
      "text/plain": [
       "event_id\n",
       "23    105181\n",
       "15     75063\n",
       "7      36674\n",
       "1      24686\n",
       "0      20867\n",
       "dtype: int64"
      ]
     },
     "execution_count": 13,
     "metadata": {},
     "output_type": "execute_result"
    }
   ],
   "source": [
    "top_eventos.head()"
   ]
  },
  {
   "cell_type": "markdown",
   "metadata": {},
   "source": [
    "top_eventos = top_eventos.index.to_list()"
   ]
  },
  {
   "cell_type": "markdown",
   "metadata": {},
   "source": [
    "##### Esta lista se podría usar para tener los eventos ordenados por importancia y si un dispositivo tiene más de un evento, quedarnos con el que pirmero aparezca dentro de la lista."
   ]
  },
  {
   "cell_type": "markdown",
   "metadata": {},
   "source": [
    "##### Propuesta: También se podrían usar otros criterios para definir importancia de eventos, por ejemplo filtrar entre eventos antes de una subasta o una conversión que es lo que nos importa"
   ]
  },
  {
   "cell_type": "markdown",
   "metadata": {},
   "source": [
    "### ¿Podría usarse la aplicación más usada como feature ? ¿Quizás poniendo una etiqueta que nos diga el horario de uso de esa aplicación o qué día es más frecuente que la use?"
   ]
  },
  {
   "cell_type": "markdown",
   "metadata": {},
   "source": [
    "### ¿Qué día de la semana es más frecuente un usuario? Quizás se puede mapear el día de la semana con un puntaje, dando menor peso a los días donde no apareció ninguna vez y más a los que apareció con más frecuencia, esto podría ayudarnos con ventanas en las que quizás no tenemos muchos datos de una persona pero sabemos que su día más frecuente esta dentro de los próximos por lo que tendría oportunidad de aparecer"
   ]
  },
  {
   "cell_type": "code",
   "execution_count": 5,
   "metadata": {},
   "outputs": [],
   "source": [
    "events_red = events[[\"date\",\"event_id\",\"ref_hash\",\"application_id\",\"wifi\"]]"
   ]
  },
  {
   "cell_type": "code",
   "execution_count": 7,
   "metadata": {},
   "outputs": [
    {
     "name": "stderr",
     "output_type": "stream",
     "text": [
      "/home/pelozo/anaconda3/lib/python3.6/site-packages/ipykernel_launcher.py:1: SettingWithCopyWarning: \n",
      "A value is trying to be set on a copy of a slice from a DataFrame.\n",
      "Try using .loc[row_indexer,col_indexer] = value instead\n",
      "\n",
      "See the caveats in the documentation: http://pandas.pydata.org/pandas-docs/stable/indexing.html#indexing-view-versus-copy\n",
      "  \"\"\"Entry point for launching an IPython kernel.\n"
     ]
    }
   ],
   "source": [
    "events_red[\"dia_semana\"] = events_red[\"date\"].dt.dayofweek"
   ]
  },
  {
   "cell_type": "code",
   "execution_count": 8,
   "metadata": {},
   "outputs": [
    {
     "data": {
      "text/html": [
       "<div>\n",
       "<style scoped>\n",
       "    .dataframe tbody tr th:only-of-type {\n",
       "        vertical-align: middle;\n",
       "    }\n",
       "\n",
       "    .dataframe tbody tr th {\n",
       "        vertical-align: top;\n",
       "    }\n",
       "\n",
       "    .dataframe thead th {\n",
       "        text-align: right;\n",
       "    }\n",
       "</style>\n",
       "<table border=\"1\" class=\"dataframe\">\n",
       "  <thead>\n",
       "    <tr style=\"text-align: right;\">\n",
       "      <th></th>\n",
       "      <th>date</th>\n",
       "      <th>event_id</th>\n",
       "      <th>ref_hash</th>\n",
       "      <th>application_id</th>\n",
       "      <th>wifi</th>\n",
       "      <th>dia_semana</th>\n",
       "    </tr>\n",
       "  </thead>\n",
       "  <tbody>\n",
       "    <tr>\n",
       "      <th>170092</th>\n",
       "      <td>2019-04-18 00:00:00.027</td>\n",
       "      <td>13</td>\n",
       "      <td>4314242242878368557</td>\n",
       "      <td>65</td>\n",
       "      <td>True</td>\n",
       "      <td>3</td>\n",
       "    </tr>\n",
       "    <tr>\n",
       "      <th>947821</th>\n",
       "      <td>2019-04-18 00:00:00.071</td>\n",
       "      <td>158</td>\n",
       "      <td>2068670382964280534</td>\n",
       "      <td>230</td>\n",
       "      <td>True</td>\n",
       "      <td>3</td>\n",
       "    </tr>\n",
       "    <tr>\n",
       "      <th>1724915</th>\n",
       "      <td>2019-04-18 00:00:00.102</td>\n",
       "      <td>15</td>\n",
       "      <td>726218951290512705</td>\n",
       "      <td>65</td>\n",
       "      <td>True</td>\n",
       "      <td>3</td>\n",
       "    </tr>\n",
       "    <tr>\n",
       "      <th>2794789</th>\n",
       "      <td>2019-04-18 00:00:00.309</td>\n",
       "      <td>0</td>\n",
       "      <td>1329210878469536477</td>\n",
       "      <td>263</td>\n",
       "      <td>False</td>\n",
       "      <td>3</td>\n",
       "    </tr>\n",
       "    <tr>\n",
       "      <th>5526010</th>\n",
       "      <td>2019-04-18 00:00:00.486</td>\n",
       "      <td>2</td>\n",
       "      <td>5661732594213028190</td>\n",
       "      <td>210</td>\n",
       "      <td>False</td>\n",
       "      <td>3</td>\n",
       "    </tr>\n",
       "  </tbody>\n",
       "</table>\n",
       "</div>"
      ],
      "text/plain": [
       "                           date  event_id             ref_hash  \\\n",
       "170092  2019-04-18 00:00:00.027        13  4314242242878368557   \n",
       "947821  2019-04-18 00:00:00.071       158  2068670382964280534   \n",
       "1724915 2019-04-18 00:00:00.102        15   726218951290512705   \n",
       "2794789 2019-04-18 00:00:00.309         0  1329210878469536477   \n",
       "5526010 2019-04-18 00:00:00.486         2  5661732594213028190   \n",
       "\n",
       "         application_id   wifi  dia_semana  \n",
       "170092               65   True           3  \n",
       "947821              230   True           3  \n",
       "1724915              65   True           3  \n",
       "2794789             263  False           3  \n",
       "5526010             210  False           3  "
      ]
     },
     "execution_count": 8,
     "metadata": {},
     "output_type": "execute_result"
    }
   ],
   "source": [
    "events_red.head()"
   ]
  },
  {
   "cell_type": "code",
   "execution_count": 14,
   "metadata": {},
   "outputs": [],
   "source": [
    "dias = events_red.groupby(\"ref_hash\").agg({\"dia_semana\":\"nunique\"})"
   ]
  },
  {
   "cell_type": "code",
   "execution_count": 20,
   "metadata": {},
   "outputs": [
    {
     "data": {
      "text/plain": [
       "1    196733\n",
       "2     73322\n",
       "3     39092\n",
       "4     23792\n",
       "5     14656\n",
       "6      8967\n",
       "7      6057\n",
       "Name: dia_semana, dtype: int64"
      ]
     },
     "execution_count": 20,
     "metadata": {},
     "output_type": "execute_result"
    }
   ],
   "source": [
    "dias[\"dia_semana\"].value_counts()"
   ]
  },
  {
   "cell_type": "markdown",
   "metadata": {},
   "source": [
    "### La gran mayoria son 1"
   ]
  },
  {
   "cell_type": "code",
   "execution_count": null,
   "metadata": {},
   "outputs": [],
   "source": []
  }
 ],
 "metadata": {
  "kernelspec": {
   "display_name": "Python 3",
   "language": "python",
   "name": "python3"
  },
  "language_info": {
   "codemirror_mode": {
    "name": "ipython",
    "version": 3
   },
   "file_extension": ".py",
   "mimetype": "text/x-python",
   "name": "python",
   "nbconvert_exporter": "python",
   "pygments_lexer": "ipython3",
   "version": "3.6.8"
  }
 },
 "nbformat": 4,
 "nbformat_minor": 2
}
