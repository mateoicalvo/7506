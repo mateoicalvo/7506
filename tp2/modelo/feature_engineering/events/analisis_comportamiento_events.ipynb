{
 "cells": [
  {
   "cell_type": "code",
   "execution_count": 1,
   "metadata": {},
   "outputs": [],
   "source": [
    "import pandas as pd\n",
    "import numpy as np\n",
    "import seaborn as sns\n",
    "import matplotlib.pyplot as plt"
   ]
  },
  {
   "cell_type": "markdown",
   "metadata": {},
   "source": [
    "---"
   ]
  },
  {
   "cell_type": "markdown",
   "metadata": {},
   "source": [
    "# Análisis para encontrar futuros targets"
   ]
  },
  {
   "cell_type": "code",
   "execution_count": 4,
   "metadata": {},
   "outputs": [],
   "source": [
    "events = pd.read_pickle(\"../../../../data/tp2/events_tp2_formateado.pkl\")"
   ]
  },
  {
   "cell_type": "markdown",
   "metadata": {},
   "source": [
    "---"
   ]
  },
  {
   "cell_type": "markdown",
   "metadata": {},
   "source": [
    "## Encontrando una distribución de horas"
   ]
  },
  {
   "cell_type": "code",
   "execution_count": 4,
   "metadata": {},
   "outputs": [],
   "source": [
    "events[\"hora\"] = events[\"date\"].dt.hour"
   ]
  },
  {
   "cell_type": "markdown",
   "metadata": {},
   "source": [
    "### Voy a contar una sola vez cada dispositivo en cada hora para evitar desbalanceo con dispositivos que tienen 10000 eventos en una hora"
   ]
  },
  {
   "cell_type": "code",
   "execution_count": 88,
   "metadata": {},
   "outputs": [],
   "source": [
    "horas = events.groupby(\"hora\").agg({\"device_id\":\"nunique\"}).rename(columns = {\"device_id\":\"cant_dispositivos\"})"
   ]
  },
  {
   "cell_type": "code",
   "execution_count": 88,
   "metadata": {},
   "outputs": [
    {
     "data": {
      "text/html": [
       "<div>\n",
       "<style scoped>\n",
       "    .dataframe tbody tr th:only-of-type {\n",
       "        vertical-align: middle;\n",
       "    }\n",
       "\n",
       "    .dataframe tbody tr th {\n",
       "        vertical-align: top;\n",
       "    }\n",
       "\n",
       "    .dataframe thead th {\n",
       "        text-align: right;\n",
       "    }\n",
       "</style>\n",
       "<table border=\"1\" class=\"dataframe\">\n",
       "  <thead>\n",
       "    <tr style=\"text-align: right;\">\n",
       "      <th>hora</th>\n",
       "      <th>0</th>\n",
       "      <th>1</th>\n",
       "      <th>2</th>\n",
       "      <th>3</th>\n",
       "      <th>4</th>\n",
       "      <th>5</th>\n",
       "      <th>6</th>\n",
       "      <th>7</th>\n",
       "      <th>8</th>\n",
       "      <th>9</th>\n",
       "      <th>...</th>\n",
       "      <th>14</th>\n",
       "      <th>15</th>\n",
       "      <th>16</th>\n",
       "      <th>17</th>\n",
       "      <th>18</th>\n",
       "      <th>19</th>\n",
       "      <th>20</th>\n",
       "      <th>21</th>\n",
       "      <th>22</th>\n",
       "      <th>23</th>\n",
       "    </tr>\n",
       "  </thead>\n",
       "  <tbody>\n",
       "    <tr>\n",
       "      <th>cant_dispositivos</th>\n",
       "      <td>66843</td>\n",
       "      <td>67141</td>\n",
       "      <td>67214</td>\n",
       "      <td>60303</td>\n",
       "      <td>52288</td>\n",
       "      <td>38412</td>\n",
       "      <td>25664</td>\n",
       "      <td>17020</td>\n",
       "      <td>11892</td>\n",
       "      <td>9328</td>\n",
       "      <td>...</td>\n",
       "      <td>39243</td>\n",
       "      <td>45240</td>\n",
       "      <td>56199</td>\n",
       "      <td>58664</td>\n",
       "      <td>63020</td>\n",
       "      <td>62221</td>\n",
       "      <td>62353</td>\n",
       "      <td>60238</td>\n",
       "      <td>61463</td>\n",
       "      <td>63172</td>\n",
       "    </tr>\n",
       "  </tbody>\n",
       "</table>\n",
       "<p>1 rows × 24 columns</p>\n",
       "</div>"
      ],
      "text/plain": [
       "hora                  0      1      2      3      4      5      6      7   \\\n",
       "cant_dispositivos  66843  67141  67214  60303  52288  38412  25664  17020   \n",
       "\n",
       "hora                  8     9   ...     14     15     16     17     18     19  \\\n",
       "cant_dispositivos  11892  9328  ...  39243  45240  56199  58664  63020  62221   \n",
       "\n",
       "hora                  20     21     22     23  \n",
       "cant_dispositivos  62353  60238  61463  63172  \n",
       "\n",
       "[1 rows x 24 columns]"
      ]
     },
     "execution_count": 88,
     "metadata": {},
     "output_type": "execute_result"
    }
   ],
   "source": [
    "horas.T"
   ]
  },
  {
   "cell_type": "markdown",
   "metadata": {},
   "source": [
    "### Uso franja de 4 horas"
   ]
  },
  {
   "cell_type": "code",
   "execution_count": 90,
   "metadata": {},
   "outputs": [],
   "source": [
    "horas[\"franja\"] = 0\n",
    "horas.reset_index(inplace = True)"
   ]
  },
  {
   "cell_type": "code",
   "execution_count": 90,
   "metadata": {},
   "outputs": [],
   "source": [
    "tam_franja = 4\n",
    "hora_inicio = 0\n",
    "hora_fin = tam_franja\n",
    "for x in range(1,7):\n",
    "    horas[\"franja\"][(horas[\"hora\"] >= hora_inicio) & (horas[\"hora\"] < hora_fin)] = x\n",
    "    hora_inicio += tam_franja  \n",
    "    hora_fin = hora_inicio + tam_franja\n",
    "    "
   ]
  },
  {
   "cell_type": "code",
   "execution_count": 92,
   "metadata": {},
   "outputs": [],
   "source": [
    "horas = horas.groupby(\"franja\").agg({\"cant_dispositivos\":[\"max\",\"min\",\"mean\"],\"hora\":[\"min\",\"max\"],})"
   ]
  },
  {
   "cell_type": "code",
   "execution_count": 93,
   "metadata": {},
   "outputs": [
    {
     "data": {
      "text/html": [
       "<div>\n",
       "<style scoped>\n",
       "    .dataframe tbody tr th:only-of-type {\n",
       "        vertical-align: middle;\n",
       "    }\n",
       "\n",
       "    .dataframe tbody tr th {\n",
       "        vertical-align: top;\n",
       "    }\n",
       "\n",
       "    .dataframe thead tr th {\n",
       "        text-align: left;\n",
       "    }\n",
       "\n",
       "    .dataframe thead tr:last-of-type th {\n",
       "        text-align: right;\n",
       "    }\n",
       "</style>\n",
       "<table border=\"1\" class=\"dataframe\">\n",
       "  <thead>\n",
       "    <tr>\n",
       "      <th></th>\n",
       "      <th colspan=\"3\" halign=\"left\">cant_dispositivos</th>\n",
       "      <th colspan=\"2\" halign=\"left\">hora</th>\n",
       "    </tr>\n",
       "    <tr>\n",
       "      <th></th>\n",
       "      <th>max</th>\n",
       "      <th>min</th>\n",
       "      <th>mean</th>\n",
       "      <th>min</th>\n",
       "      <th>max</th>\n",
       "    </tr>\n",
       "    <tr>\n",
       "      <th>franja</th>\n",
       "      <th></th>\n",
       "      <th></th>\n",
       "      <th></th>\n",
       "      <th></th>\n",
       "      <th></th>\n",
       "    </tr>\n",
       "  </thead>\n",
       "  <tbody>\n",
       "    <tr>\n",
       "      <th>1</th>\n",
       "      <td>67214</td>\n",
       "      <td>60303</td>\n",
       "      <td>65375.25</td>\n",
       "      <td>0</td>\n",
       "      <td>3</td>\n",
       "    </tr>\n",
       "    <tr>\n",
       "      <th>2</th>\n",
       "      <td>52288</td>\n",
       "      <td>17020</td>\n",
       "      <td>33346.00</td>\n",
       "      <td>4</td>\n",
       "      <td>7</td>\n",
       "    </tr>\n",
       "    <tr>\n",
       "      <th>3</th>\n",
       "      <td>12814</td>\n",
       "      <td>9252</td>\n",
       "      <td>10821.50</td>\n",
       "      <td>8</td>\n",
       "      <td>11</td>\n",
       "    </tr>\n",
       "    <tr>\n",
       "      <th>4</th>\n",
       "      <td>45240</td>\n",
       "      <td>19529</td>\n",
       "      <td>33516.00</td>\n",
       "      <td>12</td>\n",
       "      <td>15</td>\n",
       "    </tr>\n",
       "    <tr>\n",
       "      <th>5</th>\n",
       "      <td>63020</td>\n",
       "      <td>56199</td>\n",
       "      <td>60026.00</td>\n",
       "      <td>16</td>\n",
       "      <td>19</td>\n",
       "    </tr>\n",
       "    <tr>\n",
       "      <th>6</th>\n",
       "      <td>63172</td>\n",
       "      <td>60238</td>\n",
       "      <td>61806.50</td>\n",
       "      <td>20</td>\n",
       "      <td>23</td>\n",
       "    </tr>\n",
       "  </tbody>\n",
       "</table>\n",
       "</div>"
      ],
      "text/plain": [
       "       cant_dispositivos                  hora    \n",
       "                     max    min      mean  min max\n",
       "franja                                            \n",
       "1                  67214  60303  65375.25    0   3\n",
       "2                  52288  17020  33346.00    4   7\n",
       "3                  12814   9252  10821.50    8  11\n",
       "4                  45240  19529  33516.00   12  15\n",
       "5                  63020  56199  60026.00   16  19\n",
       "6                  63172  60238  61806.50   20  23"
      ]
     },
     "execution_count": 93,
     "metadata": {},
     "output_type": "execute_result"
    }
   ],
   "source": [
    "horas"
   ]
  },
  {
   "cell_type": "markdown",
   "metadata": {},
   "source": [
    "---"
   ]
  },
  {
   "cell_type": "markdown",
   "metadata": {},
   "source": [
    "## ¿Cúales son los eventos más frecuentes antes de una subasta? \n",
    "### ¿Hay algún top de eventos que compartan todos los dispositivos al menos una vez?"
   ]
  },
  {
   "cell_type": "markdown",
   "metadata": {},
   "source": [
    "### Cargo datos de auctions"
   ]
  },
  {
   "cell_type": "code",
   "execution_count": 5,
   "metadata": {},
   "outputs": [],
   "source": [
    "events = events[[\"date\",\"event_id\",\"kind\",\"device_id\",\"os_es_android\"]]"
   ]
  },
  {
   "cell_type": "code",
   "execution_count": 2,
   "metadata": {},
   "outputs": [],
   "source": [
    "auctions = pd.read_pickle(\"../../../../data/tp2/auctions_tp2_formateado.pkl\")"
   ]
  },
  {
   "cell_type": "code",
   "execution_count": 3,
   "metadata": {},
   "outputs": [],
   "source": [
    "auctions.drop(columns = [\"source_id\",\"ref_type_id\"],inplace = True)"
   ]
  },
  {
   "cell_type": "markdown",
   "metadata": {},
   "source": [
    "### Voy a utilizar merge_asof con 'events' como dataframe izquierdo con el metodo \"foward\": \n",
    "#### A “forward” search selects the first row in the right DataFrame whose ‘on’ key is greater than or equal to the left’s key.\n",
    "### Voy a seleccionar para cada evento de dispositivo cual es la subasta con fecha mayor más cercana a ese evento"
   ]
  },
  {
   "cell_type": "code",
   "execution_count": 6,
   "metadata": {},
   "outputs": [],
   "source": [
    "events.rename(columns = {\"date\":\"date_event\"},inplace = True)\n",
    "auctions.rename(columns = {\"date\":\"date_auction\"},inplace = True)\n"
   ]
  },
  {
   "cell_type": "code",
   "execution_count": 7,
   "metadata": {},
   "outputs": [],
   "source": [
    "auctions = pd.merge_asof(events,auctions,left_on = \"date_event\",\n",
    "                     right_on = \"date_auction\",\n",
    "                     by =\"device_id\", \n",
    "                     suffixes=(\"_event\",\"_auction\"),direction = \"forward\")"
   ]
  },
  {
   "cell_type": "code",
   "execution_count": 8,
   "metadata": {},
   "outputs": [],
   "source": [
    "del events"
   ]
  },
  {
   "cell_type": "markdown",
   "metadata": {},
   "source": [
    "##### Elimino las filas que no tuvieron subastas"
   ]
  },
  {
   "cell_type": "code",
   "execution_count": 9,
   "metadata": {},
   "outputs": [],
   "source": [
    "auctions.dropna(inplace = True)"
   ]
  },
  {
   "cell_type": "code",
   "execution_count": 10,
   "metadata": {},
   "outputs": [],
   "source": [
    "auctions.to_pickle(\"auctions_events\")"
   ]
  },
  {
   "cell_type": "code",
   "execution_count": 11,
   "metadata": {},
   "outputs": [
    {
     "data": {
      "text/html": [
       "<div>\n",
       "<style scoped>\n",
       "    .dataframe tbody tr th:only-of-type {\n",
       "        vertical-align: middle;\n",
       "    }\n",
       "\n",
       "    .dataframe tbody tr th {\n",
       "        vertical-align: top;\n",
       "    }\n",
       "\n",
       "    .dataframe thead th {\n",
       "        text-align: right;\n",
       "    }\n",
       "</style>\n",
       "<table border=\"1\" class=\"dataframe\">\n",
       "  <thead>\n",
       "    <tr style=\"text-align: right;\">\n",
       "      <th></th>\n",
       "      <th>date_event</th>\n",
       "      <th>event_id</th>\n",
       "      <th>kind</th>\n",
       "      <th>device_id</th>\n",
       "      <th>os_es_android</th>\n",
       "      <th>date_auction</th>\n",
       "    </tr>\n",
       "  </thead>\n",
       "  <tbody>\n",
       "    <tr>\n",
       "      <th>0</th>\n",
       "      <td>2019-04-18 00:00:00.027</td>\n",
       "      <td>13</td>\n",
       "      <td>4.853173e+18</td>\n",
       "      <td>4314242242878368557</td>\n",
       "      <td>1</td>\n",
       "      <td>2019-04-19 22:01:29.840554</td>\n",
       "    </tr>\n",
       "    <tr>\n",
       "      <th>1</th>\n",
       "      <td>2019-04-18 00:00:00.071</td>\n",
       "      <td>158</td>\n",
       "      <td>8.370513e+18</td>\n",
       "      <td>2068670382964280534</td>\n",
       "      <td>0</td>\n",
       "      <td>2019-04-18 15:41:16.611443</td>\n",
       "    </tr>\n",
       "    <tr>\n",
       "      <th>3</th>\n",
       "      <td>2019-04-18 00:00:00.309</td>\n",
       "      <td>0</td>\n",
       "      <td>5.882882e+18</td>\n",
       "      <td>1329210878469536477</td>\n",
       "      <td>1</td>\n",
       "      <td>2019-04-24 14:21:51.244324</td>\n",
       "    </tr>\n",
       "    <tr>\n",
       "      <th>4</th>\n",
       "      <td>2019-04-18 00:00:00.486</td>\n",
       "      <td>2</td>\n",
       "      <td>6.168309e+18</td>\n",
       "      <td>5661732594213028190</td>\n",
       "      <td>1</td>\n",
       "      <td>2019-04-18 00:29:25.174955</td>\n",
       "    </tr>\n",
       "    <tr>\n",
       "      <th>5</th>\n",
       "      <td>2019-04-18 00:00:00.598</td>\n",
       "      <td>7</td>\n",
       "      <td>9.977660e+17</td>\n",
       "      <td>1725895739916434735</td>\n",
       "      <td>1</td>\n",
       "      <td>2019-04-18 00:15:17.221579</td>\n",
       "    </tr>\n",
       "  </tbody>\n",
       "</table>\n",
       "</div>"
      ],
      "text/plain": [
       "               date_event  event_id          kind            device_id  \\\n",
       "0 2019-04-18 00:00:00.027        13  4.853173e+18  4314242242878368557   \n",
       "1 2019-04-18 00:00:00.071       158  8.370513e+18  2068670382964280534   \n",
       "3 2019-04-18 00:00:00.309         0  5.882882e+18  1329210878469536477   \n",
       "4 2019-04-18 00:00:00.486         2  6.168309e+18  5661732594213028190   \n",
       "5 2019-04-18 00:00:00.598         7  9.977660e+17  1725895739916434735   \n",
       "\n",
       "   os_es_android               date_auction  \n",
       "0              1 2019-04-19 22:01:29.840554  \n",
       "1              0 2019-04-18 15:41:16.611443  \n",
       "3              1 2019-04-24 14:21:51.244324  \n",
       "4              1 2019-04-18 00:29:25.174955  \n",
       "5              1 2019-04-18 00:15:17.221579  "
      ]
     },
     "execution_count": 11,
     "metadata": {},
     "output_type": "execute_result"
    }
   ],
   "source": [
    "auctions.head()"
   ]
  },
  {
   "cell_type": "code",
   "execution_count": 173,
   "metadata": {},
   "outputs": [],
   "source": [
    "cant_event = auctions.groupby([\"date_auction\",\"event_id\"]).agg({\"date_event\":\"count\"})\n",
    "cant_events = cant_event.reset_index()[\"event_id\"].value_counts()"
   ]
  },
  {
   "cell_type": "markdown",
   "metadata": {},
   "source": [
    "### En total hay 450 eventos. ¿Con cuantos podemos quedarnos que abarquen la mayor cantidad de dispositivos? "
   ]
  },
  {
   "cell_type": "code",
   "execution_count": 12,
   "metadata": {},
   "outputs": [],
   "source": [
    "cant_event = auctions.groupby([\"date_auction\",\"event_id\",\"kind\"]).agg({\"date_event\":\"count\"})\n",
    "cant_events = cant_event.reset_index()[\"event_id\"].value_counts()"
   ]
  },
  {
   "cell_type": "code",
   "execution_count": 15,
   "metadata": {},
   "outputs": [],
   "source": [
    "cant_kinds = cant_event.reset_index()[\"kind\"].value_counts()"
   ]
  },
  {
   "cell_type": "code",
   "execution_count": 18,
   "metadata": {},
   "outputs": [
    {
     "data": {
      "text/plain": [
       "447"
      ]
     },
     "execution_count": 18,
     "metadata": {},
     "output_type": "execute_result"
    }
   ],
   "source": [
    "auctions[\"kind\"].nunique()"
   ]
  },
  {
   "cell_type": "code",
   "execution_count": 19,
   "metadata": {},
   "outputs": [
    {
     "data": {
      "text/plain": [
       "449"
      ]
     },
     "execution_count": 19,
     "metadata": {},
     "output_type": "execute_result"
    }
   ],
   "source": [
    "auctions[\"event_id\"].nunique()"
   ]
  },
  {
   "cell_type": "markdown",
   "metadata": {},
   "source": [
    "### 10 Eventos principales que se dan antes de una subasta, ordenados por importancia"
   ]
  },
  {
   "cell_type": "code",
   "execution_count": 13,
   "metadata": {},
   "outputs": [
    {
     "data": {
      "text/plain": [
       "15     103047\n",
       "23     101109\n",
       "7       73239\n",
       "0       47197\n",
       "2       38669\n",
       "1       30154\n",
       "13      16845\n",
       "101     15778\n",
       "100     15539\n",
       "245     14631\n",
       "Name: event_id, dtype: int64"
      ]
     },
     "execution_count": 13,
     "metadata": {},
     "output_type": "execute_result"
    }
   ],
   "source": [
    "cant_events.head(10)"
   ]
  },
  {
   "cell_type": "code",
   "execution_count": 29,
   "metadata": {},
   "outputs": [
    {
     "data": {
      "text/plain": [
       "5.500848e+18    103047\n",
       "6.081165e+18    101109\n",
       "9.977660e+17     73239\n",
       "5.882882e+18     47197\n",
       "6.168309e+18     38669\n",
       "4.017674e+18     30154\n",
       "4.853173e+18     16845\n",
       "6.897685e+18     15778\n",
       "2.515470e+18     15539\n",
       "9.066788e+18     14631\n",
       "Name: kind, dtype: int64"
      ]
     },
     "execution_count": 29,
     "metadata": {},
     "output_type": "execute_result"
    }
   ],
   "source": [
    "cant_kinds.head(10)"
   ]
  },
  {
   "cell_type": "markdown",
   "metadata": {},
   "source": [
    "#### El orden y valores de los kinds son iguales a los del ranking de events"
   ]
  },
  {
   "cell_type": "markdown",
   "metadata": {},
   "source": [
    "### Cual es el porcentaje de dispositivos que queda representado quedandonos con los 5 eventos principales"
   ]
  },
  {
   "cell_type": "code",
   "execution_count": 155,
   "metadata": {},
   "outputs": [],
   "source": [
    "eventos_principales = cant_events.index[:5]\n",
    "a = auctions[ auctions[\"event_id\"].isin(eventos_principales)]"
   ]
  },
  {
   "cell_type": "code",
   "execution_count": 156,
   "metadata": {},
   "outputs": [
    {
     "data": {
      "text/plain": [
       "90.51972293437683"
      ]
     },
     "execution_count": 156,
     "metadata": {},
     "output_type": "execute_result"
    }
   ],
   "source": [
    "a[\"device_id\"].nunique() / auctions[\"device_id\"].nunique() * 100"
   ]
  },
  {
   "cell_type": "markdown",
   "metadata": {},
   "source": [
    "### Cual es el porcentaje de dispositivos que queda representado quedandonos con estos 10 eventos"
   ]
  },
  {
   "cell_type": "code",
   "execution_count": 160,
   "metadata": {},
   "outputs": [],
   "source": [
    "eventos_principales = cant_events.index[:10]\n",
    "a = auctions[ auctions[\"event_id\"].isin(eventos_principales)]"
   ]
  },
  {
   "cell_type": "code",
   "execution_count": 161,
   "metadata": {},
   "outputs": [
    {
     "data": {
      "text/plain": [
       "92.8450951288625"
      ]
     },
     "execution_count": 161,
     "metadata": {},
     "output_type": "execute_result"
    }
   ],
   "source": [
    "a[\"device_id\"].nunique() / auctions[\"device_id\"].nunique() * 100"
   ]
  },
  {
   "cell_type": "markdown",
   "metadata": {},
   "source": [
    "### Cual es el porcentaje de dispositivos que queda representado quedandonos con los 100 eventos principales"
   ]
  },
  {
   "cell_type": "code",
   "execution_count": 148,
   "metadata": {},
   "outputs": [],
   "source": [
    "eventos_principales = cant_events.index[:100]\n",
    "a = auctions[ auctions[\"event_id\"].isin(eventos_principales)]"
   ]
  },
  {
   "cell_type": "code",
   "execution_count": 149,
   "metadata": {},
   "outputs": [
    {
     "data": {
      "text/plain": [
       "99.02790896415239"
      ]
     },
     "execution_count": 149,
     "metadata": {},
     "output_type": "execute_result"
    }
   ],
   "source": [
    "a[\"device_id\"].nunique() / auctions[\"device_id\"].nunique() * 100"
   ]
  },
  {
   "cell_type": "markdown",
   "metadata": {},
   "source": [
    "---"
   ]
  },
  {
   "cell_type": "markdown",
   "metadata": {},
   "source": [
    "## ¿Cómo es la distribución de eventos por día de semana y hora?"
   ]
  },
  {
   "cell_type": "markdown",
   "metadata": {},
   "source": [
    "### El tiempo en segundos hasta que sea la hora más frecuente de uso por el usuario"
   ]
  },
  {
   "cell_type": "code",
   "execution_count": 58,
   "metadata": {},
   "outputs": [],
   "source": [
    "events[\"hora\"] = events[\"date\"].dt.hour\n",
    "events[\"dia_semana\"] = events[\"date\"].dt.dayofweek"
   ]
  },
  {
   "cell_type": "code",
   "execution_count": 59,
   "metadata": {},
   "outputs": [],
   "source": [
    "e = events.groupby([\"device_id\",\"hora\"]).agg({\"date\":\"count\"})\n"
   ]
  },
  {
   "cell_type": "code",
   "execution_count": 60,
   "metadata": {},
   "outputs": [],
   "source": [
    "idx = e.groupby([\"device_id\"])[\"date\"].transform(max) == e[\"date\"]\n",
    "e = e[idx]"
   ]
  },
  {
   "cell_type": "code",
   "execution_count": 61,
   "metadata": {},
   "outputs": [],
   "source": [
    "hora_minima = e.reset_index().groupby(\"device_id\").agg({\"hora\":\"min\"})"
   ]
  },
  {
   "cell_type": "code",
   "execution_count": 62,
   "metadata": {},
   "outputs": [],
   "source": [
    "segundos_en_hora = 60*60"
   ]
  },
  {
   "cell_type": "code",
   "execution_count": 63,
   "metadata": {},
   "outputs": [],
   "source": [
    "hora_minima[\"hora\"] = hora_minima[\"hora\"] * segundos_en_hora\n",
    "hora_minima.rename(columns = {\"hora\":\"segs_hasta_hora_freq\"},inplace = True)"
   ]
  },
  {
   "cell_type": "code",
   "execution_count": 64,
   "metadata": {},
   "outputs": [
    {
     "data": {
      "text/html": [
       "<div>\n",
       "<style scoped>\n",
       "    .dataframe tbody tr th:only-of-type {\n",
       "        vertical-align: middle;\n",
       "    }\n",
       "\n",
       "    .dataframe tbody tr th {\n",
       "        vertical-align: top;\n",
       "    }\n",
       "\n",
       "    .dataframe thead th {\n",
       "        text-align: right;\n",
       "    }\n",
       "</style>\n",
       "<table border=\"1\" class=\"dataframe\">\n",
       "  <thead>\n",
       "    <tr style=\"text-align: right;\">\n",
       "      <th></th>\n",
       "      <th>segs_hasta_hora_freq</th>\n",
       "    </tr>\n",
       "    <tr>\n",
       "      <th>device_id</th>\n",
       "      <th></th>\n",
       "    </tr>\n",
       "  </thead>\n",
       "  <tbody>\n",
       "    <tr>\n",
       "      <th>40621409780134</th>\n",
       "      <td>68400</td>\n",
       "    </tr>\n",
       "    <tr>\n",
       "      <th>41863526108385</th>\n",
       "      <td>18000</td>\n",
       "    </tr>\n",
       "    <tr>\n",
       "      <th>69039685746313</th>\n",
       "      <td>50400</td>\n",
       "    </tr>\n",
       "    <tr>\n",
       "      <th>90072729247980</th>\n",
       "      <td>64800</td>\n",
       "    </tr>\n",
       "    <tr>\n",
       "      <th>161514654074162</th>\n",
       "      <td>64800</td>\n",
       "    </tr>\n",
       "  </tbody>\n",
       "</table>\n",
       "</div>"
      ],
      "text/plain": [
       "                 segs_hasta_hora_freq\n",
       "device_id                            \n",
       "40621409780134                  68400\n",
       "41863526108385                  18000\n",
       "69039685746313                  50400\n",
       "90072729247980                  64800\n",
       "161514654074162                 64800"
      ]
     },
     "execution_count": 64,
     "metadata": {},
     "output_type": "execute_result"
    }
   ],
   "source": [
    "hora_minima.head()"
   ]
  },
  {
   "cell_type": "markdown",
   "metadata": {},
   "source": [
    "### ¿Hay alguna diferencia en los horarios de uso entre semana y fin de semana ? "
   ]
  },
  {
   "cell_type": "code",
   "execution_count": 80,
   "metadata": {},
   "outputs": [],
   "source": [
    "events[\"dia\"] = events[\"date\"].dt.day\n",
    "events_count = events.groupby( [pd.Grouper(key=\"date\",freq=\"h\"),\"dia\" ]).agg({\"device_id\":\"nunique\"}).reset_index()\n"
   ]
  },
  {
   "cell_type": "code",
   "execution_count": 85,
   "metadata": {},
   "outputs": [],
   "source": [
    "heat = events_count.pivot(\"date\",\"dia\",\"device_id\").reset_index()\n",
    "heat[\"date\"] = heat[\"date\"].dt.hour  \n",
    "heat = heat.groupby(\"date\").agg(\"sum\")"
   ]
  },
  {
   "cell_type": "code",
   "execution_count": 98,
   "metadata": {},
   "outputs": [
    {
     "data": {
      "text/plain": [
       "[Text(0.5, 0, 'Jueves'),\n",
       " Text(1.5, 0, 'Viernes'),\n",
       " Text(2.5, 0, 'Sabado'),\n",
       " Text(3.5, 0, 'Domingo'),\n",
       " Text(4.5, 0, 'Lunes'),\n",
       " Text(5.5, 0, 'Martes'),\n",
       " Text(6.5, 0, 'Miercoles'),\n",
       " Text(7.5, 0, 'Jueves'),\n",
       " Text(8.5, 0, 'Viernes')]"
      ]
     },
     "execution_count": 98,
     "metadata": {},
     "output_type": "execute_result"
    },
    {
     "data": {
      "image/png": "[encoded data removed]",
      "text/plain": [
       "<Figure size 1080x576 with 2 Axes>"
      ]
     },
     "metadata": {
      "needs_background": "light"
     },
     "output_type": "display_data"
    }
   ],
   "source": [
    "fig,ax = plt.subplots(figsize = (15,8))\n",
    "sns.heatmap(heat,cmap = \"Blues\")\n",
    "ax.set_xlabel(\"Dias de la semana\")\n",
    "ax.set_ylabel(\"Cantidad de eventos\")\n",
    "ax.set_xticklabels([\"Jueves\",\"Viernes\",\"Sabado\",\"Domingo\",\"Lunes\",\"Martes\",\"Miercoles\",\"Jueves\",\"Viernes\"])"
   ]
  },
  {
   "cell_type": "markdown",
   "metadata": {},
   "source": [
    "### No se observa una diferencia en el uso frente a los días Sabado y Domingo"
   ]
  },
  {
   "cell_type": "code",
   "execution_count": 20,
   "metadata": {},
   "outputs": [
    {
     "data": {
      "text/html": [
       "<div>\n",
       "<style scoped>\n",
       "    .dataframe tbody tr th:only-of-type {\n",
       "        vertical-align: middle;\n",
       "    }\n",
       "\n",
       "    .dataframe tbody tr th {\n",
       "        vertical-align: top;\n",
       "    }\n",
       "\n",
       "    .dataframe thead th {\n",
       "        text-align: right;\n",
       "    }\n",
       "</style>\n",
       "<table border=\"1\" class=\"dataframe\">\n",
       "  <thead>\n",
       "    <tr style=\"text-align: right;\">\n",
       "      <th></th>\n",
       "      <th></th>\n",
       "      <th></th>\n",
       "      <th>date</th>\n",
       "    </tr>\n",
       "    <tr>\n",
       "      <th>device_id</th>\n",
       "      <th>dia_semana</th>\n",
       "      <th>hora</th>\n",
       "      <th></th>\n",
       "    </tr>\n",
       "  </thead>\n",
       "  <tbody>\n",
       "    <tr>\n",
       "      <th rowspan=\"2\" valign=\"top\">40621409780134</th>\n",
       "      <th>1</th>\n",
       "      <th>15</th>\n",
       "      <td>3</td>\n",
       "    </tr>\n",
       "    <tr>\n",
       "      <th>6</th>\n",
       "      <th>19</th>\n",
       "      <td>6</td>\n",
       "    </tr>\n",
       "    <tr>\n",
       "      <th rowspan=\"4\" valign=\"top\">41863526108385</th>\n",
       "      <th>3</th>\n",
       "      <th>21</th>\n",
       "      <td>24</td>\n",
       "    </tr>\n",
       "    <tr>\n",
       "      <th>4</th>\n",
       "      <th>5</th>\n",
       "      <td>78</td>\n",
       "    </tr>\n",
       "    <tr>\n",
       "      <th>5</th>\n",
       "      <th>5</th>\n",
       "      <td>43</td>\n",
       "    </tr>\n",
       "    <tr>\n",
       "      <th>6</th>\n",
       "      <th>2</th>\n",
       "      <td>8</td>\n",
       "    </tr>\n",
       "    <tr>\n",
       "      <th rowspan=\"4\" valign=\"top\">69039685746313</th>\n",
       "      <th>1</th>\n",
       "      <th>17</th>\n",
       "      <td>4</td>\n",
       "    </tr>\n",
       "    <tr>\n",
       "      <th>3</th>\n",
       "      <th>20</th>\n",
       "      <td>2</td>\n",
       "    </tr>\n",
       "    <tr>\n",
       "      <th rowspan=\"2\" valign=\"top\">4</th>\n",
       "      <th>14</th>\n",
       "      <td>6</td>\n",
       "    </tr>\n",
       "    <tr>\n",
       "      <th>18</th>\n",
       "      <td>3</td>\n",
       "    </tr>\n",
       "  </tbody>\n",
       "</table>\n",
       "</div>"
      ],
      "text/plain": [
       "                                date\n",
       "device_id      dia_semana hora      \n",
       "40621409780134 1          15       3\n",
       "               6          19       6\n",
       "41863526108385 3          21      24\n",
       "               4          5       78\n",
       "               5          5       43\n",
       "               6          2        8\n",
       "69039685746313 1          17       4\n",
       "               3          20       2\n",
       "               4          14       6\n",
       "                          18       3"
      ]
     },
     "execution_count": 20,
     "metadata": {},
     "output_type": "execute_result"
    }
   ],
   "source": [
    "events.groupby([\"device_id\",\"dia_semana\",\"hora\"]).agg({\"date\":\"count\"}).head(10)"
   ]
  },
  {
   "cell_type": "code",
   "execution_count": null,
   "metadata": {},
   "outputs": [],
   "source": []
  },
  {
   "cell_type": "code",
   "execution_count": null,
   "metadata": {},
   "outputs": [],
   "source": []
  },
  {
   "cell_type": "markdown",
   "metadata": {},
   "source": [
    "# FIN ANALISIS"
   ]
  },
  {
   "cell_type": "markdown",
   "metadata": {},
   "source": [
    "##### Propuesta: También se podrían usar otros criterios para definir importancia de eventos, por ejemplo filtrar entre eventos antes de una subasta o una conversión que es lo que nos importa"
   ]
  },
  {
   "cell_type": "markdown",
   "metadata": {},
   "source": [
    "### ¿Podría usarse la aplicación más usada como feature ? ¿Quizás poniendo una etiqueta que nos diga el horario de uso de esa aplicación o qué día es más frecuente que la use?"
   ]
  },
  {
   "cell_type": "markdown",
   "metadata": {},
   "source": [
    "### ¿Qué día de la semana es más frecuente un usuario? Quizás se puede mapear el día de la semana con un puntaje, dando menor peso a los días donde no apareció ninguna vez y más a los que apareció con más frecuencia, esto podría ayudarnos con ventanas en las que quizás no tenemos muchos datos de una persona pero sabemos que su día más frecuente esta dentro de los próximos por lo que tendría oportunidad de aparecer"
   ]
  },
  {
   "cell_type": "code",
   "execution_count": 5,
   "metadata": {},
   "outputs": [],
   "source": [
    "events_red = events[[\"date\",\"event_id\",\"ref_hash\",\"application_id\",\"wifi\"]]"
   ]
  },
  {
   "cell_type": "code",
   "execution_count": 7,
   "metadata": {},
   "outputs": [
    {
     "name": "stderr",
     "output_type": "stream",
     "text": [
      "/home/pelozo/anaconda3/lib/python3.6/site-packages/ipykernel_launcher.py:1: SettingWithCopyWarning: \n",
      "A value is trying to be set on a copy of a slice from a DataFrame.\n",
      "Try using .loc[row_indexer,col_indexer] = value instead\n",
      "\n",
      "See the caveats in the documentation: http://pandas.pydata.org/pandas-docs/stable/indexing.html#indexing-view-versus-copy\n",
      "  \"\"\"Entry point for launching an IPython kernel.\n"
     ]
    }
   ],
   "source": [
    "events_red[\"dia_semana\"] = events_red[\"date\"].dt.dayofweek"
   ]
  },
  {
   "cell_type": "code",
   "execution_count": 8,
   "metadata": {},
   "outputs": [
    {
     "data": {
      "text/html": [
       "<div>\n",
       "<style scoped>\n",
       "    .dataframe tbody tr th:only-of-type {\n",
       "        vertical-align: middle;\n",
       "    }\n",
       "\n",
       "    .dataframe tbody tr th {\n",
       "        vertical-align: top;\n",
       "    }\n",
       "\n",
       "    .dataframe thead th {\n",
       "        text-align: right;\n",
       "    }\n",
       "</style>\n",
       "<table border=\"1\" class=\"dataframe\">\n",
       "  <thead>\n",
       "    <tr style=\"text-align: right;\">\n",
       "      <th></th>\n",
       "      <th>date</th>\n",
       "      <th>event_id</th>\n",
       "      <th>ref_hash</th>\n",
       "      <th>application_id</th>\n",
       "      <th>wifi</th>\n",
       "      <th>dia_semana</th>\n",
       "    </tr>\n",
       "  </thead>\n",
       "  <tbody>\n",
       "    <tr>\n",
       "      <th>170092</th>\n",
       "      <td>2019-04-18 00:00:00.027</td>\n",
       "      <td>13</td>\n",
       "      <td>4314242242878368557</td>\n",
       "      <td>65</td>\n",
       "      <td>True</td>\n",
       "      <td>3</td>\n",
       "    </tr>\n",
       "    <tr>\n",
       "      <th>947821</th>\n",
       "      <td>2019-04-18 00:00:00.071</td>\n",
       "      <td>158</td>\n",
       "      <td>2068670382964280534</td>\n",
       "      <td>230</td>\n",
       "      <td>True</td>\n",
       "      <td>3</td>\n",
       "    </tr>\n",
       "    <tr>\n",
       "      <th>1724915</th>\n",
       "      <td>2019-04-18 00:00:00.102</td>\n",
       "      <td>15</td>\n",
       "      <td>726218951290512705</td>\n",
       "      <td>65</td>\n",
       "      <td>True</td>\n",
       "      <td>3</td>\n",
       "    </tr>\n",
       "    <tr>\n",
       "      <th>2794789</th>\n",
       "      <td>2019-04-18 00:00:00.309</td>\n",
       "      <td>0</td>\n",
       "      <td>1329210878469536477</td>\n",
       "      <td>263</td>\n",
       "      <td>False</td>\n",
       "      <td>3</td>\n",
       "    </tr>\n",
       "    <tr>\n",
       "      <th>5526010</th>\n",
       "      <td>2019-04-18 00:00:00.486</td>\n",
       "      <td>2</td>\n",
       "      <td>5661732594213028190</td>\n",
       "      <td>210</td>\n",
       "      <td>False</td>\n",
       "      <td>3</td>\n",
       "    </tr>\n",
       "  </tbody>\n",
       "</table>\n",
       "</div>"
      ],
      "text/plain": [
       "                           date  event_id             ref_hash  \\\n",
       "170092  2019-04-18 00:00:00.027        13  4314242242878368557   \n",
       "947821  2019-04-18 00:00:00.071       158  2068670382964280534   \n",
       "1724915 2019-04-18 00:00:00.102        15   726218951290512705   \n",
       "2794789 2019-04-18 00:00:00.309         0  1329210878469536477   \n",
       "5526010 2019-04-18 00:00:00.486         2  5661732594213028190   \n",
       "\n",
       "         application_id   wifi  dia_semana  \n",
       "170092               65   True           3  \n",
       "947821              230   True           3  \n",
       "1724915              65   True           3  \n",
       "2794789             263  False           3  \n",
       "5526010             210  False           3  "
      ]
     },
     "execution_count": 8,
     "metadata": {},
     "output_type": "execute_result"
    }
   ],
   "source": [
    "events_red.head()"
   ]
  },
  {
   "cell_type": "code",
   "execution_count": 14,
   "metadata": {},
   "outputs": [],
   "source": [
    "dias = events_red.groupby(\"ref_hash\").agg({\"dia_semana\":\"nunique\"})"
   ]
  },
  {
   "cell_type": "code",
   "execution_count": 20,
   "metadata": {},
   "outputs": [
    {
     "data": {
      "text/plain": [
       "1    196733\n",
       "2     73322\n",
       "3     39092\n",
       "4     23792\n",
       "5     14656\n",
       "6      8967\n",
       "7      6057\n",
       "Name: dia_semana, dtype: int64"
      ]
     },
     "execution_count": 20,
     "metadata": {},
     "output_type": "execute_result"
    }
   ],
   "source": [
    "dias[\"dia_semana\"].value_counts()"
   ]
  },
  {
   "cell_type": "markdown",
   "metadata": {},
   "source": [
    "### La gran mayoria son 1"
   ]
  },
  {
   "cell_type": "code",
   "execution_count": null,
   "metadata": {},
   "outputs": [],
   "source": []
  }
 ],
 "metadata": {
  "kernelspec": {
   "display_name": "Python 3",
   "language": "python",
   "name": "python3"
  },
  "language_info": {
   "codemirror_mode": {
    "name": "ipython",
    "version": 3
   },
   "file_extension": ".py",
   "mimetype": "text/x-python",
   "name": "python",
   "nbconvert_exporter": "python",
   "pygments_lexer": "ipython3",
   "version": "3.6.8"
  }
 },
 "nbformat": 4,
 "nbformat_minor": 2
}
