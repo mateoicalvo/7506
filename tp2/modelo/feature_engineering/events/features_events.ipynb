{
 "cells": [
  {
   "cell_type": "markdown",
   "metadata": {},
   "source": [
    "# Imports"
   ]
  },
  {
   "cell_type": "code",
   "execution_count": 1,
   "metadata": {},
   "outputs": [],
   "source": [
    "import pandas as pd\n",
    "import numpy as np"
   ]
  },
  {
   "cell_type": "markdown",
   "metadata": {},
   "source": [
    "---"
   ]
  },
  {
   "cell_type": "code",
   "execution_count": 2,
   "metadata": {},
   "outputs": [],
   "source": [
    "events = pd.read_pickle(\"../../../../data/tp2/events_tp2_formateado.pkl\")"
   ]
  },
  {
   "cell_type": "code",
   "execution_count": 3,
   "metadata": {},
   "outputs": [],
   "source": [
    "events[\"dayofweek\"] = (events[\"date\"].dt.dayofweek).astype(\"int8\")"
   ]
  },
  {
   "cell_type": "markdown",
   "metadata": {},
   "source": [
    "---"
   ]
  },
  {
   "cell_type": "markdown",
   "metadata": {},
   "source": [
    "# Armado de ventanas"
   ]
  },
  {
   "cell_type": "code",
   "execution_count": 4,
   "metadata": {},
   "outputs": [],
   "source": [
    "TAMAÑO_VENTANA = 2\n",
    "FECHA_INICIO = 17"
   ]
  },
  {
   "cell_type": "code",
   "execution_count": 5,
   "metadata": {},
   "outputs": [],
   "source": [
    "def etiquetar_ventanas(dataset,col_fecha):\n",
    "    for ventana_nro in range(1,6):\n",
    "        \n",
    "        fecha_inicio = FECHA_INICIO + ventana_nro\n",
    "        fecha_fin = fecha_inicio + TAMAÑO_VENTANA\n",
    "        \n",
    "        dataset[\"ventana_{}\".format(ventana_nro)] = (((fecha_inicio) <= dataset[col_fecha].dt.day) & ((dataset[col_fecha].dt.day) <= (fecha_fin)))\n",
    "    return dataset    "
   ]
  },
  {
   "cell_type": "code",
   "execution_count": 6,
   "metadata": {},
   "outputs": [],
   "source": [
    "events = etiquetar_ventanas(events,\"date\")"
   ]
  },
  {
   "cell_type": "markdown",
   "metadata": {},
   "source": [
    "---"
   ]
  },
  {
   "cell_type": "markdown",
   "metadata": {},
   "source": [
    "# Creación de features"
   ]
  },
  {
   "cell_type": "markdown",
   "metadata": {},
   "source": [
    "## Creación de sets de entrenamiento"
   ]
  },
  {
   "cell_type": "code",
   "execution_count": 7,
   "metadata": {},
   "outputs": [],
   "source": [
    "def crear_targets(dataframe,col_dispositivo):\n",
    "    entrenamientos = {}\n",
    "    for ventana_nro in range(1,6):\n",
    "        ent = dataframe.loc[dataframe[\"ventana_{}\".format(ventana_nro)]][col_dispositivo].drop_duplicates().to_frame()\n",
    "        ent.set_index(col_dispositivo, inplace=True)\n",
    "        entrenamientos[ventana_nro] = ent\n",
    "        \n",
    "    return entrenamientos"
   ]
  },
  {
   "cell_type": "code",
   "execution_count": 8,
   "metadata": {},
   "outputs": [],
   "source": [
    "Xs = crear_targets(events,\"device_id\")"
   ]
  },
  {
   "cell_type": "markdown",
   "metadata": {},
   "source": [
    "---"
   ]
  },
  {
   "cell_type": "markdown",
   "metadata": {},
   "source": [
    "## Función generadora de features"
   ]
  },
  {
   "cell_type": "code",
   "execution_count": 9,
   "metadata": {},
   "outputs": [],
   "source": [
    "def generar_feature_en_ventanas(dataframe, generador_feature, destinos):\n",
    "    \n",
    "    for ventana_nro in range(1, 6):\n",
    "        \n",
    "        ventana = dataframe.loc[dataframe[\"ventana_{}\".format(ventana_nro)]]\n",
    "        \n",
    "        feature = generador_feature(ventana, ventana_nro)\n",
    "        \n",
    "        destinos[ventana_nro] = destinos[ventana_nro].merge(feature, left_index=True, right_index=True)"
   ]
  },
  {
   "cell_type": "code",
   "execution_count": 15,
   "metadata": {},
   "outputs": [],
   "source": [
    "#def calcular_features(ventanas,feature):\n",
    "#    features = []\n",
    "#    for x in range(5):\n",
    "#        features.append(feature(ventanas[x]))\n",
    "#    return features"
   ]
  },
  {
   "cell_type": "code",
   "execution_count": 16,
   "metadata": {},
   "outputs": [],
   "source": [
    "#def mergear_features(targets,features):\n",
    "#    for x in range(5):\n",
    "#        targets[x] = targets[x].merge(features[x], how = 'left',left_index = True,right_index = True)\n"
   ]
  },
  {
   "cell_type": "markdown",
   "metadata": {},
   "source": [
    "---"
   ]
  },
  {
   "cell_type": "markdown",
   "metadata": {},
   "source": [
    "---"
   ]
  },
  {
   "cell_type": "markdown",
   "metadata": {},
   "source": [
    "## Cantidad de eventos dentro de la ventna"
   ]
  },
  {
   "cell_type": "code",
   "execution_count": 10,
   "metadata": {},
   "outputs": [],
   "source": [
    "def cantidad_eventos(dataframe, nro_ventana):\n",
    "    return dataframe.groupby(\"device_id\").agg({\"date\" : \"count\"}).rename(columns={\"date\": \"cant_eventos\"})"
   ]
  },
  {
   "cell_type": "code",
   "execution_count": 11,
   "metadata": {},
   "outputs": [],
   "source": [
    "generar_feature_en_ventanas(events,cantidad_eventos,Xs)"
   ]
  },
  {
   "cell_type": "markdown",
   "metadata": {},
   "source": [
    "---"
   ]
  },
  {
   "cell_type": "markdown",
   "metadata": {},
   "source": [
    "## Promedio de eventos por día"
   ]
  },
  {
   "cell_type": "code",
   "execution_count": 12,
   "metadata": {},
   "outputs": [],
   "source": [
    "def prom_eventos(dataframe, nro_ventana):\n",
    "    feature = dataframe.groupby([\"device_id\",\"dayofweek\"]).agg({\"date\":\"count\"})\n",
    "    feature = feature.groupby(\"device_id\").agg({\"date\":\"mean\"})\n",
    "    feature[\"date\"] = feature[\"date\"].astype(\"int64\")\n",
    "    return feature.rename(columns={\"date\": \"prom_eventos\"})"
   ]
  },
  {
   "cell_type": "code",
   "execution_count": 13,
   "metadata": {},
   "outputs": [],
   "source": [
    "generar_feature_en_ventanas(events, prom_eventos, Xs)"
   ]
  },
  {
   "cell_type": "markdown",
   "metadata": {},
   "source": [
    "---"
   ]
  },
  {
   "cell_type": "markdown",
   "metadata": {},
   "source": [
    "## Cantidad de eventos discrimando periodos"
   ]
  },
  {
   "cell_type": "code",
   "execution_count": 14,
   "metadata": {},
   "outputs": [],
   "source": [
    "# Creo columnas para luego separar\n",
    "events['hora'] = events['date'].dt.hour\n",
    "events['dia'] = events['date'].dt.day\n",
    "events.rename(columns = {\"dayofweek\":\"dia_de_semana\"},inplace = True)"
   ]
  },
  {
   "cell_type": "code",
   "execution_count": 15,
   "metadata": {},
   "outputs": [],
   "source": [
    "def cantidad_apariciones_por_hora(dataframe, nro_ventana):\n",
    "    apariciones_por_hora = dataframe.groupby([\"device_id\", \"hora\"]).agg(({\"date\" : \"count\"}))\n",
    "    apariciones_por_hora = apariciones_por_hora.unstack().fillna(0).astype(np.int64)\n",
    "    apariciones_por_hora.columns = [\"eventos_hora_{}\".format(hora) for hora in range(0,24)]\n",
    "    return apariciones_por_hora"
   ]
  },
  {
   "cell_type": "code",
   "execution_count": 16,
   "metadata": {},
   "outputs": [],
   "source": [
    "generar_feature_en_ventanas(events, cantidad_apariciones_por_hora, Xs)"
   ]
  },
  {
   "cell_type": "code",
   "execution_count": 17,
   "metadata": {},
   "outputs": [],
   "source": [
    "def cantidad_apariciones_por_dia(dataframe, nro_ventana):\n",
    "    dia_final = TAMAÑO_VENTANA + 2\n",
    "    \n",
    "    apariciones_por_dia = dataframe.groupby([\"device_id\", \"dia\"]).agg(({\"date\" : \"count\"}))\n",
    "    apariciones_por_dia = apariciones_por_dia.unstack().fillna(0).astype(np.int64)\n",
    "    apariciones_por_dia.columns = [\"eventos_dia_{}\".format(dia) for dia in range(1,dia_final)]\n",
    "    return apariciones_por_dia"
   ]
  },
  {
   "cell_type": "code",
   "execution_count": 18,
   "metadata": {},
   "outputs": [],
   "source": [
    "generar_feature_en_ventanas(events, cantidad_apariciones_por_dia, Xs)"
   ]
  },
  {
   "cell_type": "markdown",
   "metadata": {},
   "source": [
    "---"
   ]
  },
  {
   "cell_type": "markdown",
   "metadata": {},
   "source": [
    "## Cantidad de veces que se realizó el evento más frecuente"
   ]
  },
  {
   "cell_type": "code",
   "execution_count": 21,
   "metadata": {},
   "outputs": [],
   "source": [
    "def cantidad_maximo_evento(dataframe,nro_ventana):\n",
    "    \n",
    "    feature = events.groupby([\"device_id\",\"event_id\"]).agg({\"date\":\"count\"})\n",
    "    feature = feature.groupby(\"device_id\").agg({\"date\":\"max\"})\n",
    "    feature.rename(columns = {\"date\":\"max_cant_eventos\"},inplace = True)\n",
    "    \n",
    "    return feature\n",
    "    "
   ]
  },
  {
   "cell_type": "code",
   "execution_count": 22,
   "metadata": {},
   "outputs": [],
   "source": [
    "generar_feature_en_ventanas(events, cantidad_maximo_evento, Xs)"
   ]
  },
  {
   "cell_type": "code",
   "execution_count": 23,
   "metadata": {},
   "outputs": [
    {
     "data": {
      "text/html": [
       "<div>\n",
       "<style scoped>\n",
       "    .dataframe tbody tr th:only-of-type {\n",
       "        vertical-align: middle;\n",
       "    }\n",
       "\n",
       "    .dataframe tbody tr th {\n",
       "        vertical-align: top;\n",
       "    }\n",
       "\n",
       "    .dataframe thead th {\n",
       "        text-align: right;\n",
       "    }\n",
       "</style>\n",
       "<table border=\"1\" class=\"dataframe\">\n",
       "  <thead>\n",
       "    <tr style=\"text-align: right;\">\n",
       "      <th></th>\n",
       "      <th>cant_eventos</th>\n",
       "      <th>prom_eventos</th>\n",
       "      <th>eventos_hora_0</th>\n",
       "      <th>eventos_hora_1</th>\n",
       "      <th>eventos_hora_2</th>\n",
       "      <th>eventos_hora_3</th>\n",
       "      <th>eventos_hora_4</th>\n",
       "      <th>eventos_hora_5</th>\n",
       "      <th>eventos_hora_6</th>\n",
       "      <th>eventos_hora_7</th>\n",
       "      <th>...</th>\n",
       "      <th>eventos_hora_18</th>\n",
       "      <th>eventos_hora_19</th>\n",
       "      <th>eventos_hora_20</th>\n",
       "      <th>eventos_hora_21</th>\n",
       "      <th>eventos_hora_22</th>\n",
       "      <th>eventos_hora_23</th>\n",
       "      <th>eventos_dia_1</th>\n",
       "      <th>eventos_dia_2</th>\n",
       "      <th>eventos_dia_3</th>\n",
       "      <th>max_cant_eventos</th>\n",
       "    </tr>\n",
       "    <tr>\n",
       "      <th>device_id</th>\n",
       "      <th></th>\n",
       "      <th></th>\n",
       "      <th></th>\n",
       "      <th></th>\n",
       "      <th></th>\n",
       "      <th></th>\n",
       "      <th></th>\n",
       "      <th></th>\n",
       "      <th></th>\n",
       "      <th></th>\n",
       "      <th></th>\n",
       "      <th></th>\n",
       "      <th></th>\n",
       "      <th></th>\n",
       "      <th></th>\n",
       "      <th></th>\n",
       "      <th></th>\n",
       "      <th></th>\n",
       "      <th></th>\n",
       "      <th></th>\n",
       "      <th></th>\n",
       "    </tr>\n",
       "  </thead>\n",
       "  <tbody>\n",
       "    <tr>\n",
       "      <th>4314242242878368557</th>\n",
       "      <td>10</td>\n",
       "      <td>3</td>\n",
       "      <td>7</td>\n",
       "      <td>0</td>\n",
       "      <td>0</td>\n",
       "      <td>0</td>\n",
       "      <td>0</td>\n",
       "      <td>0</td>\n",
       "      <td>0</td>\n",
       "      <td>0</td>\n",
       "      <td>...</td>\n",
       "      <td>0</td>\n",
       "      <td>0</td>\n",
       "      <td>1</td>\n",
       "      <td>0</td>\n",
       "      <td>0</td>\n",
       "      <td>0</td>\n",
       "      <td>6</td>\n",
       "      <td>3</td>\n",
       "      <td>1</td>\n",
       "      <td>5</td>\n",
       "    </tr>\n",
       "    <tr>\n",
       "      <th>2068670382964280534</th>\n",
       "      <td>140</td>\n",
       "      <td>70</td>\n",
       "      <td>138</td>\n",
       "      <td>0</td>\n",
       "      <td>0</td>\n",
       "      <td>0</td>\n",
       "      <td>0</td>\n",
       "      <td>0</td>\n",
       "      <td>0</td>\n",
       "      <td>0</td>\n",
       "      <td>...</td>\n",
       "      <td>1</td>\n",
       "      <td>1</td>\n",
       "      <td>0</td>\n",
       "      <td>0</td>\n",
       "      <td>0</td>\n",
       "      <td>0</td>\n",
       "      <td>138</td>\n",
       "      <td>0</td>\n",
       "      <td>2</td>\n",
       "      <td>36</td>\n",
       "    </tr>\n",
       "    <tr>\n",
       "      <th>726218951290512705</th>\n",
       "      <td>27</td>\n",
       "      <td>27</td>\n",
       "      <td>25</td>\n",
       "      <td>0</td>\n",
       "      <td>0</td>\n",
       "      <td>0</td>\n",
       "      <td>0</td>\n",
       "      <td>0</td>\n",
       "      <td>0</td>\n",
       "      <td>0</td>\n",
       "      <td>...</td>\n",
       "      <td>0</td>\n",
       "      <td>0</td>\n",
       "      <td>0</td>\n",
       "      <td>0</td>\n",
       "      <td>0</td>\n",
       "      <td>0</td>\n",
       "      <td>27</td>\n",
       "      <td>0</td>\n",
       "      <td>0</td>\n",
       "      <td>19</td>\n",
       "    </tr>\n",
       "    <tr>\n",
       "      <th>1329210878469536477</th>\n",
       "      <td>157</td>\n",
       "      <td>52</td>\n",
       "      <td>27</td>\n",
       "      <td>7</td>\n",
       "      <td>3</td>\n",
       "      <td>18</td>\n",
       "      <td>2</td>\n",
       "      <td>0</td>\n",
       "      <td>0</td>\n",
       "      <td>0</td>\n",
       "      <td>...</td>\n",
       "      <td>0</td>\n",
       "      <td>5</td>\n",
       "      <td>10</td>\n",
       "      <td>36</td>\n",
       "      <td>21</td>\n",
       "      <td>22</td>\n",
       "      <td>118</td>\n",
       "      <td>15</td>\n",
       "      <td>24</td>\n",
       "      <td>91</td>\n",
       "    </tr>\n",
       "    <tr>\n",
       "      <th>5661732594213028190</th>\n",
       "      <td>50</td>\n",
       "      <td>16</td>\n",
       "      <td>17</td>\n",
       "      <td>0</td>\n",
       "      <td>0</td>\n",
       "      <td>1</td>\n",
       "      <td>0</td>\n",
       "      <td>0</td>\n",
       "      <td>0</td>\n",
       "      <td>0</td>\n",
       "      <td>...</td>\n",
       "      <td>22</td>\n",
       "      <td>2</td>\n",
       "      <td>0</td>\n",
       "      <td>0</td>\n",
       "      <td>0</td>\n",
       "      <td>0</td>\n",
       "      <td>17</td>\n",
       "      <td>1</td>\n",
       "      <td>32</td>\n",
       "      <td>23</td>\n",
       "    </tr>\n",
       "  </tbody>\n",
       "</table>\n",
       "<p>5 rows × 30 columns</p>\n",
       "</div>"
      ],
      "text/plain": [
       "                     cant_eventos  prom_eventos  eventos_hora_0  \\\n",
       "device_id                                                         \n",
       "4314242242878368557            10             3               7   \n",
       "2068670382964280534           140            70             138   \n",
       "726218951290512705             27            27              25   \n",
       "1329210878469536477           157            52              27   \n",
       "5661732594213028190            50            16              17   \n",
       "\n",
       "                     eventos_hora_1  eventos_hora_2  eventos_hora_3  \\\n",
       "device_id                                                             \n",
       "4314242242878368557               0               0               0   \n",
       "2068670382964280534               0               0               0   \n",
       "726218951290512705                0               0               0   \n",
       "1329210878469536477               7               3              18   \n",
       "5661732594213028190               0               0               1   \n",
       "\n",
       "                     eventos_hora_4  eventos_hora_5  eventos_hora_6  \\\n",
       "device_id                                                             \n",
       "4314242242878368557               0               0               0   \n",
       "2068670382964280534               0               0               0   \n",
       "726218951290512705                0               0               0   \n",
       "1329210878469536477               2               0               0   \n",
       "5661732594213028190               0               0               0   \n",
       "\n",
       "                     eventos_hora_7  ...  eventos_hora_18  eventos_hora_19  \\\n",
       "device_id                            ...                                     \n",
       "4314242242878368557               0  ...                0                0   \n",
       "2068670382964280534               0  ...                1                1   \n",
       "726218951290512705                0  ...                0                0   \n",
       "1329210878469536477               0  ...                0                5   \n",
       "5661732594213028190               0  ...               22                2   \n",
       "\n",
       "                     eventos_hora_20  eventos_hora_21  eventos_hora_22  \\\n",
       "device_id                                                                \n",
       "4314242242878368557                1                0                0   \n",
       "2068670382964280534                0                0                0   \n",
       "726218951290512705                 0                0                0   \n",
       "1329210878469536477               10               36               21   \n",
       "5661732594213028190                0                0                0   \n",
       "\n",
       "                     eventos_hora_23  eventos_dia_1  eventos_dia_2  \\\n",
       "device_id                                                            \n",
       "4314242242878368557                0              6              3   \n",
       "2068670382964280534                0            138              0   \n",
       "726218951290512705                 0             27              0   \n",
       "1329210878469536477               22            118             15   \n",
       "5661732594213028190                0             17              1   \n",
       "\n",
       "                     eventos_dia_3  max_cant_eventos  \n",
       "device_id                                             \n",
       "4314242242878368557              1                 5  \n",
       "2068670382964280534              2                36  \n",
       "726218951290512705               0                19  \n",
       "1329210878469536477             24                91  \n",
       "5661732594213028190             32                23  \n",
       "\n",
       "[5 rows x 30 columns]"
      ]
     },
     "execution_count": 23,
     "metadata": {},
     "output_type": "execute_result"
    }
   ],
   "source": [
    "Xs[1].head()"
   ]
  },
  {
   "cell_type": "markdown",
   "metadata": {},
   "source": [
    "---"
   ]
  },
  {
   "cell_type": "markdown",
   "metadata": {},
   "source": [
    "# Guardado de los sets de entrenamiento"
   ]
  },
  {
   "cell_type": "code",
   "execution_count": 24,
   "metadata": {},
   "outputs": [],
   "source": [
    "for ventana_nro in range(1, 6):\n",
    "    Xs[ventana_nro].to_pickle(\"../../features/events_train_ventana_{}.pkl\".format(ventana_nro))\n",
    "    Xs[ventana_nro].to_csv(\"../../features/events_train_ventana_{}.csv\".format(ventana_nro))"
   ]
  },
  {
   "cell_type": "code",
   "execution_count": null,
   "metadata": {},
   "outputs": [],
   "source": []
  },
  {
   "cell_type": "markdown",
   "metadata": {},
   "source": [
    "# ACA SE DEBE CONTINUAR"
   ]
  },
  {
   "cell_type": "markdown",
   "metadata": {},
   "source": [
    "-----"
   ]
  },
  {
   "cell_type": "markdown",
   "metadata": {},
   "source": [
    "---"
   ]
  },
  {
   "cell_type": "markdown",
   "metadata": {},
   "source": [
    "---"
   ]
  },
  {
   "cell_type": "markdown",
   "metadata": {},
   "source": [
    "## Cuantos eventos comparten la primera posición de evento más frecuente"
   ]
  },
  {
   "cell_type": "code",
   "execution_count": 22,
   "metadata": {},
   "outputs": [],
   "source": [
    "def cant_eventos_maximos(ventana):\n",
    "    feature = ventana.groupby([\"ref_hash\",\"event_id\"]).size().to_frame()\n",
    "    idx = feature.groupby(['ref_hash'])[0].transform(max) == feature[0]\n",
    "    feature = feature[idx]\n",
    "    feature = feature.groupby(\"ref_hash\")[0].count().to_frame()\n",
    "    feature.rename(columns= {0:\"cant_eventos_maximos\"},inplace = True)\n",
    "    return feature    \n",
    "    \n",
    "    "
   ]
  },
  {
   "cell_type": "code",
   "execution_count": 23,
   "metadata": {},
   "outputs": [],
   "source": [
    "features = calcular_features(ventanas,cant_eventos_maximos)"
   ]
  },
  {
   "cell_type": "code",
   "execution_count": 24,
   "metadata": {},
   "outputs": [],
   "source": [
    "mergear_features(targets,features)"
   ]
  },
  {
   "cell_type": "code",
   "execution_count": 25,
   "metadata": {},
   "outputs": [],
   "source": [
    "e1 = targets[0]"
   ]
  },
  {
   "cell_type": "code",
   "execution_count": 26,
   "metadata": {},
   "outputs": [
    {
     "data": {
      "text/html": [
       "<div>\n",
       "<style scoped>\n",
       "    .dataframe tbody tr th:only-of-type {\n",
       "        vertical-align: middle;\n",
       "    }\n",
       "\n",
       "    .dataframe tbody tr th {\n",
       "        vertical-align: top;\n",
       "    }\n",
       "\n",
       "    .dataframe thead th {\n",
       "        text-align: right;\n",
       "    }\n",
       "</style>\n",
       "<table border=\"1\" class=\"dataframe\">\n",
       "  <thead>\n",
       "    <tr style=\"text-align: right;\">\n",
       "      <th></th>\n",
       "      <th>promedio_eventos</th>\n",
       "      <th>max_cant_event</th>\n",
       "      <th>cant_eventos_maximos</th>\n",
       "    </tr>\n",
       "    <tr>\n",
       "      <th>device_id</th>\n",
       "      <th></th>\n",
       "      <th></th>\n",
       "      <th></th>\n",
       "    </tr>\n",
       "  </thead>\n",
       "  <tbody>\n",
       "    <tr>\n",
       "      <th>4314242242878368557</th>\n",
       "      <td>3</td>\n",
       "      <td>5</td>\n",
       "      <td>1</td>\n",
       "    </tr>\n",
       "    <tr>\n",
       "      <th>2068670382964280534</th>\n",
       "      <td>70</td>\n",
       "      <td>36</td>\n",
       "      <td>1</td>\n",
       "    </tr>\n",
       "    <tr>\n",
       "      <th>726218951290512705</th>\n",
       "      <td>27</td>\n",
       "      <td>16</td>\n",
       "      <td>1</td>\n",
       "    </tr>\n",
       "    <tr>\n",
       "      <th>1329210878469536477</th>\n",
       "      <td>52</td>\n",
       "      <td>65</td>\n",
       "      <td>1</td>\n",
       "    </tr>\n",
       "    <tr>\n",
       "      <th>5661732594213028190</th>\n",
       "      <td>16</td>\n",
       "      <td>23</td>\n",
       "      <td>1</td>\n",
       "    </tr>\n",
       "  </tbody>\n",
       "</table>\n",
       "</div>"
      ],
      "text/plain": [
       "                     promedio_eventos  max_cant_event  cant_eventos_maximos\n",
       "device_id                                                                  \n",
       "4314242242878368557                 3               5                     1\n",
       "2068670382964280534                70              36                     1\n",
       "726218951290512705                 27              16                     1\n",
       "1329210878469536477                52              65                     1\n",
       "5661732594213028190                16              23                     1"
      ]
     },
     "execution_count": 26,
     "metadata": {},
     "output_type": "execute_result"
    }
   ],
   "source": [
    "e1.head()"
   ]
  },
  {
   "cell_type": "code",
   "execution_count": 27,
   "metadata": {},
   "outputs": [
    {
     "name": "stdout",
     "output_type": "stream",
     "text": [
      "<class 'pandas.core.frame.DataFrame'>\n",
      "Int64Index: 166002 entries, 4314242242878368557 to 8658033545182476382\n",
      "Data columns (total 3 columns):\n",
      "promedio_eventos        166002 non-null int64\n",
      "max_cant_event          166002 non-null int64\n",
      "cant_eventos_maximos    166002 non-null int64\n",
      "dtypes: int64(3)\n",
      "memory usage: 10.1 MB\n"
     ]
    }
   ],
   "source": [
    "e1.info()"
   ]
  },
  {
   "cell_type": "markdown",
   "metadata": {},
   "source": [
    "---"
   ]
  },
  {
   "cell_type": "markdown",
   "metadata": {},
   "source": [
    "---"
   ]
  },
  {
   "cell_type": "markdown",
   "metadata": {},
   "source": [
    "## Último evento"
   ]
  },
  {
   "cell_type": "markdown",
   "metadata": {},
   "source": [
    "#### Pruebo primero con una ventana"
   ]
  },
  {
   "cell_type": "code",
   "execution_count": null,
   "metadata": {},
   "outputs": [],
   "source": [
    "ventana1 = ventanas[0]"
   ]
  },
  {
   "cell_type": "code",
   "execution_count": 244,
   "metadata": {},
   "outputs": [],
   "source": [
    "idx = ventana1.groupby(['ref_hash'])[\"date\"].transform(max) == ventana1[\"date\"]\n",
    "feature = ventana1[idx]"
   ]
  },
  {
   "cell_type": "code",
   "execution_count": 245,
   "metadata": {},
   "outputs": [
    {
     "data": {
      "text/plain": [
       "166018"
      ]
     },
     "execution_count": 245,
     "metadata": {},
     "output_type": "execute_result"
    }
   ],
   "source": [
    "len(feature)"
   ]
  },
  {
   "cell_type": "code",
   "execution_count": 247,
   "metadata": {},
   "outputs": [
    {
     "data": {
      "text/plain": [
       "166002"
      ]
     },
     "execution_count": 247,
     "metadata": {},
     "output_type": "execute_result"
    }
   ],
   "source": [
    "feature[\"ref_hash\"].nunique()"
   ]
  },
  {
   "cell_type": "markdown",
   "metadata": {},
   "source": [
    "### Hay valores que tienen la misma fecha con el mismo evento, pero distinto kind, por ejemplo: "
   ]
  },
  {
   "cell_type": "code",
   "execution_count": 248,
   "metadata": {},
   "outputs": [
    {
     "data": {
      "text/html": [
       "<div>\n",
       "<style scoped>\n",
       "    .dataframe tbody tr th:only-of-type {\n",
       "        vertical-align: middle;\n",
       "    }\n",
       "\n",
       "    .dataframe tbody tr th {\n",
       "        vertical-align: top;\n",
       "    }\n",
       "\n",
       "    .dataframe thead th {\n",
       "        text-align: right;\n",
       "    }\n",
       "</style>\n",
       "<table border=\"1\" class=\"dataframe\">\n",
       "  <thead>\n",
       "    <tr style=\"text-align: right;\">\n",
       "      <th></th>\n",
       "      <th>date</th>\n",
       "      <th>event_id</th>\n",
       "      <th>ref_hash</th>\n",
       "      <th>application_id</th>\n",
       "      <th>attributed</th>\n",
       "      <th>session_user_agent</th>\n",
       "      <th>kind</th>\n",
       "      <th>wifi</th>\n",
       "      <th>os</th>\n",
       "      <th>dayofweek</th>\n",
       "    </tr>\n",
       "  </thead>\n",
       "  <tbody>\n",
       "    <tr>\n",
       "      <th>7488551</th>\n",
       "      <td>2019-04-20 06:55:29.193</td>\n",
       "      <td>109</td>\n",
       "      <td>2831641632794815413</td>\n",
       "      <td>116</td>\n",
       "      <td>False</td>\n",
       "      <td>5.783151e+18</td>\n",
       "      <td>1.020653e+18</td>\n",
       "      <td>False</td>\n",
       "      <td>0</td>\n",
       "      <td>5</td>\n",
       "    </tr>\n",
       "    <tr>\n",
       "      <th>7488552</th>\n",
       "      <td>2019-04-20 06:55:29.193</td>\n",
       "      <td>108</td>\n",
       "      <td>2831641632794815413</td>\n",
       "      <td>116</td>\n",
       "      <td>False</td>\n",
       "      <td>5.783151e+18</td>\n",
       "      <td>2.376750e+18</td>\n",
       "      <td>False</td>\n",
       "      <td>0</td>\n",
       "      <td>5</td>\n",
       "    </tr>\n",
       "  </tbody>\n",
       "</table>\n",
       "</div>"
      ],
      "text/plain": [
       "                           date  event_id             ref_hash  \\\n",
       "7488551 2019-04-20 06:55:29.193       109  2831641632794815413   \n",
       "7488552 2019-04-20 06:55:29.193       108  2831641632794815413   \n",
       "\n",
       "         application_id  attributed  session_user_agent          kind   wifi  \\\n",
       "7488551             116       False        5.783151e+18  1.020653e+18  False   \n",
       "7488552             116       False        5.783151e+18  2.376750e+18  False   \n",
       "\n",
       "         os  dayofweek  \n",
       "7488551   0          5  \n",
       "7488552   0          5  "
      ]
     },
     "execution_count": 248,
     "metadata": {},
     "output_type": "execute_result"
    }
   ],
   "source": [
    "feature[feature[\"ref_hash\"] == 2831641632794815413]"
   ]
  },
  {
   "cell_type": "markdown",
   "metadata": {},
   "source": [
    "#### Solo me importa el evento así que descarto al azar"
   ]
  },
  {
   "cell_type": "code",
   "execution_count": 249,
   "metadata": {},
   "outputs": [],
   "source": [
    "feature = feature[[\"ref_hash\",\"date\",\"event_id\",\"application_id\"]].drop_duplicates(\"ref_hash\")\n",
    "feature.rename(columns = {\"ref_hash\":\"device_id\",\"event_id\":\"ult_ev\",\"date\":\"fecha_ult_ev\",\"application_id\":\"ult_app\"},inplace = True)\n",
    "feature.set_index(\"device_id\",inplace = True)"
   ]
  },
  {
   "cell_type": "code",
   "execution_count": 250,
   "metadata": {},
   "outputs": [
    {
     "data": {
      "text/html": [
       "<div>\n",
       "<style scoped>\n",
       "    .dataframe tbody tr th:only-of-type {\n",
       "        vertical-align: middle;\n",
       "    }\n",
       "\n",
       "    .dataframe tbody tr th {\n",
       "        vertical-align: top;\n",
       "    }\n",
       "\n",
       "    .dataframe thead th {\n",
       "        text-align: right;\n",
       "    }\n",
       "</style>\n",
       "<table border=\"1\" class=\"dataframe\">\n",
       "  <thead>\n",
       "    <tr style=\"text-align: right;\">\n",
       "      <th></th>\n",
       "      <th>fecha_ult_ev</th>\n",
       "      <th>ult_ev</th>\n",
       "      <th>ult_app</th>\n",
       "    </tr>\n",
       "    <tr>\n",
       "      <th>device_id</th>\n",
       "      <th></th>\n",
       "      <th></th>\n",
       "      <th></th>\n",
       "    </tr>\n",
       "  </thead>\n",
       "  <tbody>\n",
       "    <tr>\n",
       "      <th>6444651396290009624</th>\n",
       "      <td>2019-04-18 00:00:02.052</td>\n",
       "      <td>245</td>\n",
       "      <td>21</td>\n",
       "    </tr>\n",
       "    <tr>\n",
       "      <th>3601178220858933758</th>\n",
       "      <td>2019-04-18 00:00:07.957</td>\n",
       "      <td>246</td>\n",
       "      <td>21</td>\n",
       "    </tr>\n",
       "    <tr>\n",
       "      <th>3233293871630648142</th>\n",
       "      <td>2019-04-18 00:00:09.612</td>\n",
       "      <td>15</td>\n",
       "      <td>65</td>\n",
       "    </tr>\n",
       "    <tr>\n",
       "      <th>4452972490570146531</th>\n",
       "      <td>2019-04-18 00:00:12.303</td>\n",
       "      <td>7</td>\n",
       "      <td>122</td>\n",
       "    </tr>\n",
       "    <tr>\n",
       "      <th>5451417563610992673</th>\n",
       "      <td>2019-04-18 00:00:19.597</td>\n",
       "      <td>106</td>\n",
       "      <td>121</td>\n",
       "    </tr>\n",
       "  </tbody>\n",
       "</table>\n",
       "</div>"
      ],
      "text/plain": [
       "                               fecha_ult_ev  ult_ev  ult_app\n",
       "device_id                                                   \n",
       "6444651396290009624 2019-04-18 00:00:02.052     245       21\n",
       "3601178220858933758 2019-04-18 00:00:07.957     246       21\n",
       "3233293871630648142 2019-04-18 00:00:09.612      15       65\n",
       "4452972490570146531 2019-04-18 00:00:12.303       7      122\n",
       "5451417563610992673 2019-04-18 00:00:19.597     106      121"
      ]
     },
     "execution_count": 250,
     "metadata": {},
     "output_type": "execute_result"
    }
   ],
   "source": [
    "feature.head()"
   ]
  },
  {
   "cell_type": "code",
   "execution_count": 253,
   "metadata": {},
   "outputs": [],
   "source": [
    "def ult_evento(ventana):\n",
    "\n",
    "    idx = ventana.groupby(['ref_hash'])[\"date\"].transform(max) == ventana[\"date\"]\n",
    "    feature = ventana[idx]\n",
    "    feature = feature[[\"ref_hash\",\"date\",\"event_id\",\"application_id\"]].drop_duplicates(\"ref_hash\")\n",
    "    feature.rename(columns = {\"ref_hash\":\"device_id\",\"event_id\":\"ult_ev\",\"date\":\"fecha_ult_ev\",\"application_id\":\"ult_app\"},inplace = True)\n",
    "    feature.set_index(\"device_id\",inplace = True)\n",
    "    return feature"
   ]
  },
  {
   "cell_type": "code",
   "execution_count": 254,
   "metadata": {},
   "outputs": [],
   "source": [
    "features = calcular_features(ventanas,ult_evento)"
   ]
  },
  {
   "cell_type": "code",
   "execution_count": 255,
   "metadata": {},
   "outputs": [],
   "source": [
    "mergear_features(targets,features)"
   ]
  },
  {
   "cell_type": "code",
   "execution_count": 256,
   "metadata": {},
   "outputs": [],
   "source": [
    "e1 = targets[0]"
   ]
  },
  {
   "cell_type": "code",
   "execution_count": 257,
   "metadata": {},
   "outputs": [
    {
     "data": {
      "text/html": [
       "<div>\n",
       "<style scoped>\n",
       "    .dataframe tbody tr th:only-of-type {\n",
       "        vertical-align: middle;\n",
       "    }\n",
       "\n",
       "    .dataframe tbody tr th {\n",
       "        vertical-align: top;\n",
       "    }\n",
       "\n",
       "    .dataframe thead th {\n",
       "        text-align: right;\n",
       "    }\n",
       "</style>\n",
       "<table border=\"1\" class=\"dataframe\">\n",
       "  <thead>\n",
       "    <tr style=\"text-align: right;\">\n",
       "      <th></th>\n",
       "      <th>promedio_eventos</th>\n",
       "      <th>max_cant_event</th>\n",
       "      <th>cant_eventos_maximos</th>\n",
       "      <th>fecha_ult_ev</th>\n",
       "      <th>ult_ev</th>\n",
       "      <th>ult_app</th>\n",
       "    </tr>\n",
       "    <tr>\n",
       "      <th>device_id</th>\n",
       "      <th></th>\n",
       "      <th></th>\n",
       "      <th></th>\n",
       "      <th></th>\n",
       "      <th></th>\n",
       "      <th></th>\n",
       "    </tr>\n",
       "  </thead>\n",
       "  <tbody>\n",
       "    <tr>\n",
       "      <th>4314242242878368557</th>\n",
       "      <td>3</td>\n",
       "      <td>5</td>\n",
       "      <td>1</td>\n",
       "      <td>2019-04-20 20:03:34.247</td>\n",
       "      <td>15</td>\n",
       "      <td>65</td>\n",
       "    </tr>\n",
       "    <tr>\n",
       "      <th>2068670382964280534</th>\n",
       "      <td>70</td>\n",
       "      <td>36</td>\n",
       "      <td>1</td>\n",
       "      <td>2019-04-20 19:41:28.313</td>\n",
       "      <td>15</td>\n",
       "      <td>49</td>\n",
       "    </tr>\n",
       "    <tr>\n",
       "      <th>726218951290512705</th>\n",
       "      <td>27</td>\n",
       "      <td>16</td>\n",
       "      <td>1</td>\n",
       "      <td>2019-04-18 13:39:15.767</td>\n",
       "      <td>15</td>\n",
       "      <td>65</td>\n",
       "    </tr>\n",
       "    <tr>\n",
       "      <th>1329210878469536477</th>\n",
       "      <td>52</td>\n",
       "      <td>65</td>\n",
       "      <td>1</td>\n",
       "      <td>2019-04-20 23:39:14.726</td>\n",
       "      <td>508</td>\n",
       "      <td>2</td>\n",
       "    </tr>\n",
       "    <tr>\n",
       "      <th>5661732594213028190</th>\n",
       "      <td>16</td>\n",
       "      <td>23</td>\n",
       "      <td>1</td>\n",
       "      <td>2019-04-20 19:36:04.032</td>\n",
       "      <td>2</td>\n",
       "      <td>210</td>\n",
       "    </tr>\n",
       "  </tbody>\n",
       "</table>\n",
       "</div>"
      ],
      "text/plain": [
       "                     promedio_eventos  max_cant_event  cant_eventos_maximos  \\\n",
       "device_id                                                                     \n",
       "4314242242878368557                 3               5                     1   \n",
       "2068670382964280534                70              36                     1   \n",
       "726218951290512705                 27              16                     1   \n",
       "1329210878469536477                52              65                     1   \n",
       "5661732594213028190                16              23                     1   \n",
       "\n",
       "                               fecha_ult_ev  ult_ev  ult_app  \n",
       "device_id                                                     \n",
       "4314242242878368557 2019-04-20 20:03:34.247      15       65  \n",
       "2068670382964280534 2019-04-20 19:41:28.313      15       49  \n",
       "726218951290512705  2019-04-18 13:39:15.767      15       65  \n",
       "1329210878469536477 2019-04-20 23:39:14.726     508        2  \n",
       "5661732594213028190 2019-04-20 19:36:04.032       2      210  "
      ]
     },
     "execution_count": 257,
     "metadata": {},
     "output_type": "execute_result"
    }
   ],
   "source": [
    "e1.head()"
   ]
  },
  {
   "cell_type": "markdown",
   "metadata": {},
   "source": [
    "# HASTA ACÁ ES LO ÚLTIMO QUE LLEGUE, LO QUE SIGUE SON COSAS VIEJAS QUE TODAVIA NO LAS ADAPTE "
   ]
  },
  {
   "cell_type": "markdown",
   "metadata": {},
   "source": [
    "## Aplicación más usada"
   ]
  },
  {
   "cell_type": "code",
   "execution_count": 19,
   "metadata": {},
   "outputs": [],
   "source": [
    "feature = ventana1.groupby(['ref_hash',\"application_id\"]).size().to_frame()"
   ]
  },
  {
   "cell_type": "code",
   "execution_count": 25,
   "metadata": {},
   "outputs": [
    {
     "data": {
      "text/html": [
       "<div>\n",
       "<style scoped>\n",
       "    .dataframe tbody tr th:only-of-type {\n",
       "        vertical-align: middle;\n",
       "    }\n",
       "\n",
       "    .dataframe tbody tr th {\n",
       "        vertical-align: top;\n",
       "    }\n",
       "\n",
       "    .dataframe thead th {\n",
       "        text-align: right;\n",
       "    }\n",
       "</style>\n",
       "<table border=\"1\" class=\"dataframe\">\n",
       "  <thead>\n",
       "    <tr style=\"text-align: right;\">\n",
       "      <th></th>\n",
       "      <th></th>\n",
       "      <th>0</th>\n",
       "    </tr>\n",
       "    <tr>\n",
       "      <th>ref_hash</th>\n",
       "      <th>application_id</th>\n",
       "      <th></th>\n",
       "    </tr>\n",
       "  </thead>\n",
       "  <tbody>\n",
       "    <tr>\n",
       "      <th rowspan=\"3\" valign=\"top\">41863526108385</th>\n",
       "      <th>65</th>\n",
       "      <td>21</td>\n",
       "    </tr>\n",
       "    <tr>\n",
       "      <th>121</th>\n",
       "      <td>3</td>\n",
       "    </tr>\n",
       "    <tr>\n",
       "      <th>210</th>\n",
       "      <td>64</td>\n",
       "    </tr>\n",
       "    <tr>\n",
       "      <th>161514654074162</th>\n",
       "      <th>121</th>\n",
       "      <td>8</td>\n",
       "    </tr>\n",
       "    <tr>\n",
       "      <th>186034136943920</th>\n",
       "      <th>210</th>\n",
       "      <td>13</td>\n",
       "    </tr>\n",
       "  </tbody>\n",
       "</table>\n",
       "</div>"
      ],
      "text/plain": [
       "                                 0\n",
       "ref_hash        application_id    \n",
       "41863526108385  65              21\n",
       "                121              3\n",
       "                210             64\n",
       "161514654074162 121              8\n",
       "186034136943920 210             13"
      ]
     },
     "execution_count": 25,
     "metadata": {},
     "output_type": "execute_result"
    }
   ],
   "source": [
    "feature.head()"
   ]
  },
  {
   "cell_type": "code",
   "execution_count": 29,
   "metadata": {},
   "outputs": [],
   "source": [
    "idx = feature.groupby(['ref_hash'])[0].transform(max) == feature[0]\n",
    "feature = feature[idx].reset_index()"
   ]
  },
  {
   "cell_type": "code",
   "execution_count": 30,
   "metadata": {},
   "outputs": [
    {
     "data": {
      "text/plain": [
       "166002"
      ]
     },
     "execution_count": 30,
     "metadata": {},
     "output_type": "execute_result"
    }
   ],
   "source": [
    "feature[\"ref_hash\"].nunique()"
   ]
  },
  {
   "cell_type": "code",
   "execution_count": 31,
   "metadata": {},
   "outputs": [
    {
     "data": {
      "text/plain": [
       "168104"
      ]
     },
     "execution_count": 31,
     "metadata": {},
     "output_type": "execute_result"
    }
   ],
   "source": [
    "len(feature)"
   ]
  },
  {
   "cell_type": "markdown",
   "metadata": {},
   "source": [
    "### Propuesta: Hay valores repetidos, podría quedarme con la hora más cercana a las 00 hs y calcular el tiempo que falta desde t0 a esa hora. Además de indicar la cantidad de eventos registrados a esa hora, y la cantidad de horas que comparten el primer lugar."
   ]
  },
  {
   "cell_type": "markdown",
   "metadata": {},
   "source": [
    "### Propuesta: En vez de indicar valores categoricos como aplicación más usada, evento más registrado, se podría indicar cual es su valor de frecuencia, ejemplo:\n",
    "#### __Freq_ev_popular__ : 53\n",
    "#### __Freq_app_popular__ : 12"
   ]
  },
  {
   "cell_type": "markdown",
   "metadata": {},
   "source": [
    "### Propuesta : En los valores en donde se comparten horas, eventos, aplicaciones, etc, como los más vistos, se podría indicar cual es la cantidad de valores que comparten ese puesto, ejemplo:\n",
    "\n",
    "#### __cant_horas_mas_activas__: 2\n",
    "#### __cant_events_en_horas_mas_activas__ : 10"
   ]
  },
  {
   "cell_type": "markdown",
   "metadata": {},
   "source": []
  },
  {
   "cell_type": "code",
   "execution_count": null,
   "metadata": {},
   "outputs": [],
   "source": []
  }
 ],
 "metadata": {
  "kernelspec": {
   "display_name": "Python 3",
   "language": "python",
   "name": "python3"
  },
  "language_info": {
   "codemirror_mode": {
    "name": "ipython",
    "version": 3
   },
   "file_extension": ".py",
   "mimetype": "text/x-python",
   "name": "python",
   "nbconvert_exporter": "python",
   "pygments_lexer": "ipython3",
   "version": "3.6.8"
  }
 },
 "nbformat": 4,
 "nbformat_minor": 2
}
