{
 "cells": [
  {
   "cell_type": "markdown",
   "metadata": {},
   "source": [
    "# Imports"
   ]
  },
  {
   "cell_type": "code",
   "execution_count": 1,
   "metadata": {},
   "outputs": [],
   "source": [
    "import pandas as pd"
   ]
  },
  {
   "cell_type": "markdown",
   "metadata": {},
   "source": [
    "---"
   ]
  },
  {
   "cell_type": "markdown",
   "metadata": {},
   "source": [
    "# Carga de datos"
   ]
  },
  {
   "cell_type": "code",
   "execution_count": 2,
   "metadata": {},
   "outputs": [],
   "source": [
    "ventanas_train = [1, 2, 3, 4, 5]"
   ]
  },
  {
   "cell_type": "markdown",
   "metadata": {},
   "source": [
    "### Train auctions - Todos los datos"
   ]
  },
  {
   "cell_type": "code",
   "execution_count": 3,
   "metadata": {},
   "outputs": [],
   "source": [
    "train_auctions = pd.DataFrame()\n",
    "for ventana in ventanas_train:\n",
    "    features_ventana = pd.read_pickle(\"../../modelo/targets/targets_ventana_{}_auctions.pkl\".format(ventana))\n",
    "    features_ventana = features_ventana.loc[(features_ventana[\"target\"] != 259200)]\n",
    "    for dataset in [\"auctions\", \"installs\", \"clicks\", \"events\"]:\n",
    "        features_ventana = features_ventana.merge(pd.read_csv(\"../features/ventana_{}_entrenar_{}.csv\".format(ventana, dataset), index_col=0), left_index=True, right_index=True, how=\"left\")        \n",
    "    train_auctions = train_auctions.append(features_ventana)"
   ]
  },
  {
   "cell_type": "code",
   "execution_count": 4,
   "metadata": {},
   "outputs": [],
   "source": [
    "train_auctions.to_csv(\"../features/entrenar_auctions_final.csv\")"
   ]
  },
  {
   "cell_type": "markdown",
   "metadata": {},
   "source": [
    "---"
   ]
  },
  {
   "cell_type": "markdown",
   "metadata": {},
   "source": [
    "### Train installs - Todos los datos"
   ]
  },
  {
   "cell_type": "code",
   "execution_count": 5,
   "metadata": {},
   "outputs": [],
   "source": [
    "train_installs = pd.DataFrame()\n",
    "for ventana in ventanas_train:\n",
    "    features_ventana = pd.read_pickle(\"../../modelo/targets/targets_ventana_{}_installs.pkl\".format(ventana))\n",
    "    features_ventana = features_ventana.loc[(features_ventana[\"target\"] != 259200)]\n",
    "    for dataset in [\"installs\", \"auctions\", \"clicks\", \"events\"]:\n",
    "        features_ventana = features_ventana.merge(pd.read_csv(\"../features/ventana_{}_entrenar_{}.csv\".format(ventana, dataset), index_col=0), left_index=True, right_index=True, how=\"left\")        \n",
    "    train_installs = train_installs.append(features_ventana)"
   ]
  },
  {
   "cell_type": "code",
   "execution_count": 6,
   "metadata": {},
   "outputs": [],
   "source": [
    "train_installs.to_csv(\"../features/entrenar_installs_final.csv\")"
   ]
  },
  {
   "cell_type": "markdown",
   "metadata": {},
   "source": [
    "---"
   ]
  },
  {
   "cell_type": "markdown",
   "metadata": {},
   "source": [
    "### Predict auctions"
   ]
  },
  {
   "cell_type": "code",
   "execution_count": 7,
   "metadata": {},
   "outputs": [],
   "source": [
    "predecir_auctions = pd.DataFrame()\n",
    "for dataset in [\"auctions\", \"installs\", \"clicks\", \"events\"]:\n",
    "    if len(predecir_auctions) is 0:\n",
    "        predecir_auctions = pd.read_csv(\"../features/predecir_{}.csv\".format(dataset), index_col=0)\n",
    "    else:\n",
    "        predecir_auctions = predecir_auctions.merge(pd.read_csv(\"../features/predecir_{}.csv\".format(dataset), index_col=0), how=\"left\", left_index=True, right_index=True)"
   ]
  },
  {
   "cell_type": "code",
   "execution_count": 8,
   "metadata": {},
   "outputs": [],
   "source": [
    "predecir_auctions.to_csv(\"../features/predecir_auctions_final.csv\")"
   ]
  },
  {
   "cell_type": "markdown",
   "metadata": {},
   "source": [
    "---"
   ]
  },
  {
   "cell_type": "markdown",
   "metadata": {},
   "source": [
    "### Predict installs"
   ]
  },
  {
   "cell_type": "code",
   "execution_count": 9,
   "metadata": {},
   "outputs": [],
   "source": [
    "predecir_installs = pd.DataFrame()\n",
    "for dataset in [\"installs\", \"auctions\", \"clicks\", \"events\"]:\n",
    "    if len(predecir_installs) is 0:\n",
    "        predecir_installs = pd.read_csv(\"../features/predecir_{}.csv\".format(dataset), index_col=0)\n",
    "    else:\n",
    "        predecir_installs = predecir_installs.merge(pd.read_csv(\"../features/predecir_{}.csv\".format(dataset), index_col=0), how=\"left\", left_index=True, right_index=True)"
   ]
  },
  {
   "cell_type": "code",
   "execution_count": 10,
   "metadata": {},
   "outputs": [],
   "source": [
    "predecir_installs.to_csv(\"../features/predecir_installs_final.csv\")"
   ]
  }
 ],
 "metadata": {
  "kernelspec": {
   "display_name": "Python 3",
   "language": "python",
   "name": "python3"
  },
  "language_info": {
   "codemirror_mode": {
    "name": "ipython",
    "version": 3
   },
   "file_extension": ".py",
   "mimetype": "text/x-python",
   "name": "python",
   "nbconvert_exporter": "python",
   "pygments_lexer": "ipython3",
   "version": "3.6.5"
  }
 },
 "nbformat": 4,
 "nbformat_minor": 2
}
