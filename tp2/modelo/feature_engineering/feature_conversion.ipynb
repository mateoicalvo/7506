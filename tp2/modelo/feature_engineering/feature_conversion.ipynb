{
 "cells": [
  {
   "cell_type": "code",
   "execution_count": 1,
   "metadata": {},
   "outputs": [],
   "source": [
    "import pandas as pd\n",
    "import numpy as np"
   ]
  },
  {
   "cell_type": "code",
   "execution_count": 4,
   "metadata": {},
   "outputs": [
    {
     "name": "stderr",
     "output_type": "stream",
     "text": [
      "/home/pelozo/anaconda3/lib/python3.6/site-packages/IPython/core/interactiveshell.py:3044: DtypeWarning: Columns (4,15) have mixed types. Specify dtype option on import or set low_memory=False.\n",
      "  interactivity=interactivity, compiler=compiler, result=result)\n"
     ]
    }
   ],
   "source": [
    "installs = pd.read_csv(\"../../../data/tp2/installs.csv\")"
   ]
  },
  {
   "cell_type": "code",
   "execution_count": 3,
   "metadata": {},
   "outputs": [
    {
     "data": {
      "text/html": [
       "<div>\n",
       "<style scoped>\n",
       "    .dataframe tbody tr th:only-of-type {\n",
       "        vertical-align: middle;\n",
       "    }\n",
       "\n",
       "    .dataframe tbody tr th {\n",
       "        vertical-align: top;\n",
       "    }\n",
       "\n",
       "    .dataframe thead th {\n",
       "        text-align: right;\n",
       "    }\n",
       "</style>\n",
       "<table border=\"1\" class=\"dataframe\">\n",
       "  <thead>\n",
       "    <tr style=\"text-align: right;\">\n",
       "      <th></th>\n",
       "      <th>created</th>\n",
       "      <th>application_id</th>\n",
       "      <th>ref_type</th>\n",
       "      <th>ref_hash</th>\n",
       "      <th>click_hash</th>\n",
       "      <th>attributed</th>\n",
       "      <th>implicit</th>\n",
       "      <th>device_countrycode</th>\n",
       "      <th>device_brand</th>\n",
       "      <th>device_model</th>\n",
       "      <th>session_user_agent</th>\n",
       "      <th>user_agent</th>\n",
       "      <th>event_uuid</th>\n",
       "      <th>kind</th>\n",
       "      <th>wifi</th>\n",
       "      <th>trans_id</th>\n",
       "      <th>ip_address</th>\n",
       "      <th>device_language</th>\n",
       "    </tr>\n",
       "  </thead>\n",
       "  <tbody>\n",
       "    <tr>\n",
       "      <th>0</th>\n",
       "      <td>2019-04-24 06:23:29.495</td>\n",
       "      <td>1</td>\n",
       "      <td>1494519392962156891</td>\n",
       "      <td>4716708407362582887</td>\n",
       "      <td>NaN</td>\n",
       "      <td>False</td>\n",
       "      <td>True</td>\n",
       "      <td>6287817205707153877</td>\n",
       "      <td>NaN</td>\n",
       "      <td>3.739127e+17</td>\n",
       "      <td>adjust.com</td>\n",
       "      <td>NaN</td>\n",
       "      <td>79837499-2f2a-4605-a663-e322f759424f</td>\n",
       "      <td>app_open</td>\n",
       "      <td>NaN</td>\n",
       "      <td>NaN</td>\n",
       "      <td>4243443387795468703</td>\n",
       "      <td>3.301378e+18</td>\n",
       "    </tr>\n",
       "    <tr>\n",
       "      <th>1</th>\n",
       "      <td>2019-04-24 02:06:01.032</td>\n",
       "      <td>1</td>\n",
       "      <td>1494519392962156891</td>\n",
       "      <td>7143568733100935872</td>\n",
       "      <td>NaN</td>\n",
       "      <td>False</td>\n",
       "      <td>False</td>\n",
       "      <td>6287817205707153877</td>\n",
       "      <td>NaN</td>\n",
       "      <td>7.805539e+18</td>\n",
       "      <td>adjust.com</td>\n",
       "      <td>NaN</td>\n",
       "      <td>NaN</td>\n",
       "      <td>NaN</td>\n",
       "      <td>NaN</td>\n",
       "      <td>NaN</td>\n",
       "      <td>4724288679627032761</td>\n",
       "      <td>3.301378e+18</td>\n",
       "    </tr>\n",
       "    <tr>\n",
       "      <th>2</th>\n",
       "      <td>2019-04-20 10:15:36.274</td>\n",
       "      <td>1</td>\n",
       "      <td>1494519392962156891</td>\n",
       "      <td>5230323462636548010</td>\n",
       "      <td>NaN</td>\n",
       "      <td>False</td>\n",
       "      <td>True</td>\n",
       "      <td>6287817205707153877</td>\n",
       "      <td>NaN</td>\n",
       "      <td>8.355496e+18</td>\n",
       "      <td>adjust.com</td>\n",
       "      <td>NaN</td>\n",
       "      <td>dda99e3c-9c4b-487d-891c-79f0a02cb4a8</td>\n",
       "      <td>app_open</td>\n",
       "      <td>NaN</td>\n",
       "      <td>NaN</td>\n",
       "      <td>8291809486355890410</td>\n",
       "      <td>4.060930e+18</td>\n",
       "    </tr>\n",
       "    <tr>\n",
       "      <th>3</th>\n",
       "      <td>2019-04-20 21:56:47.151</td>\n",
       "      <td>1</td>\n",
       "      <td>1494519392962156891</td>\n",
       "      <td>5097163995161606833</td>\n",
       "      <td>NaN</td>\n",
       "      <td>False</td>\n",
       "      <td>True</td>\n",
       "      <td>6287817205707153877</td>\n",
       "      <td>NaN</td>\n",
       "      <td>2.355772e+18</td>\n",
       "      <td>adjust.com</td>\n",
       "      <td>NaN</td>\n",
       "      <td>7010c3ce-0fcf-46c6-9be8-374cc0e20af4</td>\n",
       "      <td>app_open</td>\n",
       "      <td>NaN</td>\n",
       "      <td>NaN</td>\n",
       "      <td>4006811922873399949</td>\n",
       "      <td>3.301378e+18</td>\n",
       "    </tr>\n",
       "    <tr>\n",
       "      <th>4</th>\n",
       "      <td>2019-04-20 22:40:41.239</td>\n",
       "      <td>1</td>\n",
       "      <td>1494519392962156891</td>\n",
       "      <td>6328027616411983332</td>\n",
       "      <td>NaN</td>\n",
       "      <td>False</td>\n",
       "      <td>False</td>\n",
       "      <td>6287817205707153877</td>\n",
       "      <td>NaN</td>\n",
       "      <td>6.156971e+18</td>\n",
       "      <td>adjust.com</td>\n",
       "      <td>NaN</td>\n",
       "      <td>NaN</td>\n",
       "      <td>NaN</td>\n",
       "      <td>NaN</td>\n",
       "      <td>NaN</td>\n",
       "      <td>3386455054590810771</td>\n",
       "      <td>3.301378e+18</td>\n",
       "    </tr>\n",
       "  </tbody>\n",
       "</table>\n",
       "</div>"
      ],
      "text/plain": [
       "                   created  application_id             ref_type  \\\n",
       "0  2019-04-24 06:23:29.495               1  1494519392962156891   \n",
       "1  2019-04-24 02:06:01.032               1  1494519392962156891   \n",
       "2  2019-04-20 10:15:36.274               1  1494519392962156891   \n",
       "3  2019-04-20 21:56:47.151               1  1494519392962156891   \n",
       "4  2019-04-20 22:40:41.239               1  1494519392962156891   \n",
       "\n",
       "              ref_hash click_hash  attributed  implicit   device_countrycode  \\\n",
       "0  4716708407362582887        NaN       False      True  6287817205707153877   \n",
       "1  7143568733100935872        NaN       False     False  6287817205707153877   \n",
       "2  5230323462636548010        NaN       False      True  6287817205707153877   \n",
       "3  5097163995161606833        NaN       False      True  6287817205707153877   \n",
       "4  6328027616411983332        NaN       False     False  6287817205707153877   \n",
       "\n",
       "   device_brand  device_model session_user_agent user_agent  \\\n",
       "0           NaN  3.739127e+17         adjust.com        NaN   \n",
       "1           NaN  7.805539e+18         adjust.com        NaN   \n",
       "2           NaN  8.355496e+18         adjust.com        NaN   \n",
       "3           NaN  2.355772e+18         adjust.com        NaN   \n",
       "4           NaN  6.156971e+18         adjust.com        NaN   \n",
       "\n",
       "                             event_uuid      kind wifi trans_id  \\\n",
       "0  79837499-2f2a-4605-a663-e322f759424f  app_open  NaN      NaN   \n",
       "1                                   NaN       NaN  NaN      NaN   \n",
       "2  dda99e3c-9c4b-487d-891c-79f0a02cb4a8  app_open  NaN      NaN   \n",
       "3  7010c3ce-0fcf-46c6-9be8-374cc0e20af4  app_open  NaN      NaN   \n",
       "4                                   NaN       NaN  NaN      NaN   \n",
       "\n",
       "            ip_address  device_language  \n",
       "0  4243443387795468703     3.301378e+18  \n",
       "1  4724288679627032761     3.301378e+18  \n",
       "2  8291809486355890410     4.060930e+18  \n",
       "3  4006811922873399949     3.301378e+18  \n",
       "4  3386455054590810771     3.301378e+18  "
      ]
     },
     "execution_count": 3,
     "metadata": {},
     "output_type": "execute_result"
    }
   ],
   "source": [
    "installs.head()"
   ]
  },
  {
   "cell_type": "code",
   "execution_count": 4,
   "metadata": {},
   "outputs": [
    {
     "name": "stdout",
     "output_type": "stream",
     "text": [
      "<class 'pandas.core.frame.DataFrame'>\n",
      "RangeIndex: 481511 entries, 0 to 481510\n",
      "Data columns (total 18 columns):\n",
      "created               481511 non-null object\n",
      "application_id        481511 non-null int64\n",
      "ref_type              481511 non-null int64\n",
      "ref_hash              481511 non-null int64\n",
      "click_hash            1142 non-null object\n",
      "attributed            481511 non-null bool\n",
      "implicit              481511 non-null bool\n",
      "device_countrycode    481511 non-null int64\n",
      "device_brand          276443 non-null float64\n",
      "device_model          454619 non-null float64\n",
      "session_user_agent    466672 non-null object\n",
      "user_agent            330768 non-null object\n",
      "event_uuid            103168 non-null object\n",
      "kind                  103168 non-null object\n",
      "wifi                  294829 non-null object\n",
      "trans_id              8933 non-null object\n",
      "ip_address            481511 non-null int64\n",
      "device_language       453934 non-null float64\n",
      "dtypes: bool(2), float64(3), int64(5), object(8)\n",
      "memory usage: 59.7+ MB\n"
     ]
    }
   ],
   "source": [
    "installs.info()"
   ]
  },
  {
   "cell_type": "code",
   "execution_count": 8,
   "metadata": {},
   "outputs": [
    {
     "data": {
      "text/plain": [
       "click_hash            99.76\n",
       "trans_id              98.14\n",
       "kind                  78.57\n",
       "event_uuid            78.57\n",
       "device_brand          42.59\n",
       "wifi                  38.77\n",
       "user_agent            31.31\n",
       "device_language        5.73\n",
       "device_model           5.58\n",
       "session_user_agent     3.08\n",
       "ip_address             0.00\n",
       "device_countrycode     0.00\n",
       "implicit               0.00\n",
       "attributed             0.00\n",
       "ref_hash               0.00\n",
       "ref_type               0.00\n",
       "application_id         0.00\n",
       "created                0.00\n",
       "dtype: float64"
      ]
     },
     "execution_count": 8,
     "metadata": {},
     "output_type": "execute_result"
    }
   ],
   "source": [
    "porc_nulos = round((installs.isnull().sum()/len(installs))*100,2)\n",
    "porc_nulos.sort_values(ascending = False)"
   ]
  },
  {
   "cell_type": "markdown",
   "metadata": {},
   "source": [
    "### Por ahora voy a descartar 'trans_id','click_hash', 'kind' y 'event_uuid'"
   ]
  },
  {
   "cell_type": "markdown",
   "metadata": {},
   "source": [
    "## Veo si algun valor es irrelevante"
   ]
  },
  {
   "cell_type": "code",
   "execution_count": 5,
   "metadata": {},
   "outputs": [
    {
     "data": {
      "text/plain": [
       "False    480369\n",
       "True       1142\n",
       "Name: attributed, dtype: int64"
      ]
     },
     "execution_count": 5,
     "metadata": {},
     "output_type": "execute_result"
    }
   ],
   "source": [
    "installs[\"attributed\"].value_counts()"
   ]
  },
  {
   "cell_type": "code",
   "execution_count": 6,
   "metadata": {},
   "outputs": [
    {
     "data": {
      "text/plain": [
       "False    378343\n",
       "True     103168\n",
       "Name: implicit, dtype: int64"
      ]
     },
     "execution_count": 6,
     "metadata": {},
     "output_type": "execute_result"
    }
   ],
   "source": [
    "installs[\"implicit\"].value_counts()"
   ]
  },
  {
   "cell_type": "code",
   "execution_count": 7,
   "metadata": {},
   "outputs": [
    {
     "data": {
      "text/plain": [
       "6287817205707153877    481511\n",
       "Name: device_countrycode, dtype: int64"
      ]
     },
     "execution_count": 7,
     "metadata": {},
     "output_type": "execute_result"
    }
   ],
   "source": [
    "installs[\"device_countrycode\"].value_counts()"
   ]
  },
  {
   "cell_type": "markdown",
   "metadata": {},
   "source": [
    "### Todos el mismo"
   ]
  },
  {
   "cell_type": "code",
   "execution_count": 8,
   "metadata": {},
   "outputs": [
    {
     "data": {
      "text/plain": [
       "Index(['created', 'application_id', 'ref_type', 'ref_hash', 'click_hash',\n",
       "       'attributed', 'implicit', 'device_countrycode', 'device_brand',\n",
       "       'device_model', 'session_user_agent', 'user_agent', 'event_uuid',\n",
       "       'kind', 'wifi', 'trans_id', 'ip_address', 'device_language'],\n",
       "      dtype='object')"
      ]
     },
     "execution_count": 8,
     "metadata": {},
     "output_type": "execute_result"
    }
   ],
   "source": [
    "installs.columns"
   ]
  },
  {
   "cell_type": "markdown",
   "metadata": {},
   "source": [
    "## Formateo"
   ]
  },
  {
   "cell_type": "code",
   "execution_count": 5,
   "metadata": {},
   "outputs": [],
   "source": [
    "installs['created'] = pd.to_datetime(installs['created'])"
   ]
  },
  {
   "cell_type": "code",
   "execution_count": 6,
   "metadata": {},
   "outputs": [
    {
     "data": {
      "text/plain": [
       "1891515180541284343    398906\n",
       "1494519392962156891     82605\n",
       "Name: ref_type, dtype: int64"
      ]
     },
     "execution_count": 6,
     "metadata": {},
     "output_type": "execute_result"
    }
   ],
   "source": [
    "installs['ref_type'].value_counts()"
   ]
  },
  {
   "cell_type": "code",
   "execution_count": 7,
   "metadata": {},
   "outputs": [],
   "source": [
    "installs['os'] = (1 * installs[\"ref_type\"] == 1891515180541284343).astype('int8')"
   ]
  },
  {
   "cell_type": "code",
   "execution_count": 8,
   "metadata": {},
   "outputs": [
    {
     "data": {
      "text/plain": [
       "1    398906\n",
       "0     82605\n",
       "Name: os, dtype: int64"
      ]
     },
     "execution_count": 8,
     "metadata": {},
     "output_type": "execute_result"
    }
   ],
   "source": [
    "installs['os'].value_counts()"
   ]
  },
  {
   "cell_type": "markdown",
   "metadata": {},
   "source": [
    "### 1 ---> ANDROID \n",
    "### 0 ---> IOS"
   ]
  },
  {
   "cell_type": "code",
   "execution_count": 9,
   "metadata": {},
   "outputs": [],
   "source": [
    "installs.sort_values(by= \"created\",inplace = True)"
   ]
  },
  {
   "cell_type": "code",
   "execution_count": 10,
   "metadata": {},
   "outputs": [],
   "source": [
    "columnas = ['ref_hash','created', 'application_id', 'os',\n",
    "            'attributed', 'implicit', 'device_brand','device_model',\n",
    "            'session_user_agent', 'user_agent','wifi', ]\n",
    "\n",
    "installs = installs[columnas]"
   ]
  },
  {
   "cell_type": "code",
   "execution_count": 11,
   "metadata": {},
   "outputs": [
    {
     "data": {
      "text/html": [
       "<div>\n",
       "<style scoped>\n",
       "    .dataframe tbody tr th:only-of-type {\n",
       "        vertical-align: middle;\n",
       "    }\n",
       "\n",
       "    .dataframe tbody tr th {\n",
       "        vertical-align: top;\n",
       "    }\n",
       "\n",
       "    .dataframe thead th {\n",
       "        text-align: right;\n",
       "    }\n",
       "</style>\n",
       "<table border=\"1\" class=\"dataframe\">\n",
       "  <thead>\n",
       "    <tr style=\"text-align: right;\">\n",
       "      <th></th>\n",
       "      <th>ref_hash</th>\n",
       "      <th>created</th>\n",
       "      <th>application_id</th>\n",
       "      <th>os</th>\n",
       "      <th>attributed</th>\n",
       "      <th>implicit</th>\n",
       "      <th>device_brand</th>\n",
       "      <th>device_model</th>\n",
       "      <th>session_user_agent</th>\n",
       "      <th>user_agent</th>\n",
       "      <th>wifi</th>\n",
       "    </tr>\n",
       "  </thead>\n",
       "  <tbody>\n",
       "    <tr>\n",
       "      <th>94738</th>\n",
       "      <td>4432995619177048534</td>\n",
       "      <td>2019-04-18 00:00:01.560</td>\n",
       "      <td>70</td>\n",
       "      <td>1</td>\n",
       "      <td>False</td>\n",
       "      <td>False</td>\n",
       "      <td>NaN</td>\n",
       "      <td>NaN</td>\n",
       "      <td>Apsalar-Postback</td>\n",
       "      <td>NaN</td>\n",
       "      <td>NaN</td>\n",
       "    </tr>\n",
       "    <tr>\n",
       "      <th>94737</th>\n",
       "      <td>5904733559638204455</td>\n",
       "      <td>2019-04-18 00:00:01.851</td>\n",
       "      <td>70</td>\n",
       "      <td>1</td>\n",
       "      <td>False</td>\n",
       "      <td>False</td>\n",
       "      <td>NaN</td>\n",
       "      <td>NaN</td>\n",
       "      <td>Apsalar-Postback</td>\n",
       "      <td>NaN</td>\n",
       "      <td>NaN</td>\n",
       "    </tr>\n",
       "    <tr>\n",
       "      <th>111877</th>\n",
       "      <td>896373747754111825</td>\n",
       "      <td>2019-04-18 00:00:05.152</td>\n",
       "      <td>65</td>\n",
       "      <td>1</td>\n",
       "      <td>False</td>\n",
       "      <td>True</td>\n",
       "      <td>3.083059e+17</td>\n",
       "      <td>5.274185e+18</td>\n",
       "      <td>http-kit/2.0</td>\n",
       "      <td>Dalvik/2.1.0 (Linux; U; Android 9; SM-G9650 Bu...</td>\n",
       "      <td>False</td>\n",
       "    </tr>\n",
       "    <tr>\n",
       "      <th>76146</th>\n",
       "      <td>3399210824535017892</td>\n",
       "      <td>2019-04-18 00:00:05.589</td>\n",
       "      <td>27</td>\n",
       "      <td>0</td>\n",
       "      <td>False</td>\n",
       "      <td>False</td>\n",
       "      <td>NaN</td>\n",
       "      <td>6.794880e+18</td>\n",
       "      <td>http-kit/2.0</td>\n",
       "      <td>trivago/216 CFNetwork/978.0.7 Darwin/18.5.0</td>\n",
       "      <td>True</td>\n",
       "    </tr>\n",
       "    <tr>\n",
       "      <th>435184</th>\n",
       "      <td>1541425881979513687</td>\n",
       "      <td>2019-04-18 00:00:06.795</td>\n",
       "      <td>339</td>\n",
       "      <td>0</td>\n",
       "      <td>False</td>\n",
       "      <td>False</td>\n",
       "      <td>NaN</td>\n",
       "      <td>6.794880e+18</td>\n",
       "      <td>http-kit/2.0</td>\n",
       "      <td>TikTok/109005 CFNetwork/758.5.3 Darwin/15.6.0</td>\n",
       "      <td>True</td>\n",
       "    </tr>\n",
       "  </tbody>\n",
       "</table>\n",
       "</div>"
      ],
      "text/plain": [
       "                   ref_hash                 created  application_id  os  \\\n",
       "94738   4432995619177048534 2019-04-18 00:00:01.560              70   1   \n",
       "94737   5904733559638204455 2019-04-18 00:00:01.851              70   1   \n",
       "111877   896373747754111825 2019-04-18 00:00:05.152              65   1   \n",
       "76146   3399210824535017892 2019-04-18 00:00:05.589              27   0   \n",
       "435184  1541425881979513687 2019-04-18 00:00:06.795             339   0   \n",
       "\n",
       "        attributed  implicit  device_brand  device_model session_user_agent  \\\n",
       "94738        False     False           NaN           NaN   Apsalar-Postback   \n",
       "94737        False     False           NaN           NaN   Apsalar-Postback   \n",
       "111877       False      True  3.083059e+17  5.274185e+18       http-kit/2.0   \n",
       "76146        False     False           NaN  6.794880e+18       http-kit/2.0   \n",
       "435184       False     False           NaN  6.794880e+18       http-kit/2.0   \n",
       "\n",
       "                                               user_agent   wifi  \n",
       "94738                                                 NaN    NaN  \n",
       "94737                                                 NaN    NaN  \n",
       "111877  Dalvik/2.1.0 (Linux; U; Android 9; SM-G9650 Bu...  False  \n",
       "76146         trivago/216 CFNetwork/978.0.7 Darwin/18.5.0   True  \n",
       "435184      TikTok/109005 CFNetwork/758.5.3 Darwin/15.6.0   True  "
      ]
     },
     "execution_count": 11,
     "metadata": {},
     "output_type": "execute_result"
    }
   ],
   "source": [
    "installs.head()"
   ]
  },
  {
   "cell_type": "markdown",
   "metadata": {},
   "source": [
    "# Armo ventanas"
   ]
  },
  {
   "cell_type": "markdown",
   "metadata": {},
   "source": [
    "### Voy a buscar la union entre los ref hash que estan disponibles tanto en auctions como clicks e installs (y tal vez events)"
   ]
  },
  {
   "cell_type": "code",
   "execution_count": 12,
   "metadata": {},
   "outputs": [],
   "source": [
    "#auctions = pd.read_pickle(\"auctions pickle\")"
   ]
  },
  {
   "cell_type": "code",
   "execution_count": 13,
   "metadata": {},
   "outputs": [],
   "source": [
    "#cols_auctions = [\"date\",\"device_id\"]\n",
    "#auctions = auctions[cols_auctions]"
   ]
  },
  {
   "cell_type": "code",
   "execution_count": 14,
   "metadata": {},
   "outputs": [],
   "source": [
    "#auctions.info()"
   ]
  },
  {
   "cell_type": "code",
   "execution_count": 15,
   "metadata": {},
   "outputs": [
    {
     "data": {
      "text/plain": [
       "393565"
      ]
     },
     "execution_count": 15,
     "metadata": {},
     "output_type": "execute_result"
    }
   ],
   "source": [
    "installs[\"ref_hash\"].nunique()"
   ]
  },
  {
   "cell_type": "markdown",
   "metadata": {},
   "source": [
    "### Comienzo con la ventanas"
   ]
  },
  {
   "cell_type": "code",
   "execution_count": 17,
   "metadata": {},
   "outputs": [],
   "source": [
    "ventanas = []\n",
    "for x in range(5):\n",
    "    ventanas.append((installs.loc[((18+x) <= installs[\"created\"].dt.day) & (installs[\"created\"].dt.day <= (20+x))]))\n"
   ]
  },
  {
   "cell_type": "code",
   "execution_count": 18,
   "metadata": {},
   "outputs": [],
   "source": [
    "tiempos = []\n",
    "for x in range(4):\n",
    "    tiempo = installs.loc[ ( (21+x <= installs[\"created\"].dt.day) & (installs[\"created\"].dt.day <= (23+x)) ) ]\n",
    "    tiempo = tiempo[[\"ref_hash\",\"created\"]].copy()\n",
    "    tiempo.sort_values(by = \"created\",inplace = True)\n",
    "    tiempos.append((tiempo))"
   ]
  },
  {
   "cell_type": "code",
   "execution_count": 19,
   "metadata": {},
   "outputs": [
    {
     "data": {
      "text/plain": [
       "132297"
      ]
     },
     "execution_count": 19,
     "metadata": {},
     "output_type": "execute_result"
    }
   ],
   "source": [
    "ventana1 = ventanas[0]\n",
    "ventana1[\"ref_hash\"].nunique()"
   ]
  },
  {
   "cell_type": "code",
   "execution_count": 20,
   "metadata": {},
   "outputs": [
    {
     "data": {
      "text/plain": [
       "133278"
      ]
     },
     "execution_count": 20,
     "metadata": {},
     "output_type": "execute_result"
    }
   ],
   "source": [
    "tiempo1 = tiempos[0]\n",
    "tiempo1[\"ref_hash\"].nunique()"
   ]
  },
  {
   "cell_type": "markdown",
   "metadata": {},
   "source": [
    "### ¿Cuántos dispositivos de la primer ventana se han instalado en los siguientes 3 dias? "
   ]
  },
  {
   "cell_type": "code",
   "execution_count": 21,
   "metadata": {},
   "outputs": [
    {
     "data": {
      "text/plain": [
       "4947"
      ]
     },
     "execution_count": 21,
     "metadata": {},
     "output_type": "execute_result"
    }
   ],
   "source": [
    "ventana1[\"ref_hash\"].isin(tiempo1[\"ref_hash\"]).sum()"
   ]
  },
  {
   "cell_type": "code",
   "execution_count": 22,
   "metadata": {},
   "outputs": [],
   "source": [
    "entrenamientos = []\n",
    "for ventana in ventanas:\n",
    "    ent = ventana[\"ref_hash\"].drop_duplicates().to_frame()\n",
    "    ent.rename(columns ={\"ref_hash\":\"device_id\"},inplace = True)\n",
    "    ent.set_index(\"device_id\", inplace=True)\n",
    "    entrenamientos.append(ent)"
   ]
  },
  {
   "cell_type": "markdown",
   "metadata": {},
   "source": [
    "### Obtencion de targets"
   ]
  },
  {
   "cell_type": "code",
   "execution_count": 23,
   "metadata": {},
   "outputs": [],
   "source": [
    "#for tiempo in tiempos:\n",
    "#    tiempo[\"aparicion_nro\"] = tiempo.groupby(\"ref_hash\").agg({\"ref_hash\" : \"cumcount\"})\n",
    "#    tiempo = tiempo.loc[tiempo[\"aparicion_nro\"] == 0][[\"ref_hash\", \"created\"]]"
   ]
  },
  {
   "cell_type": "code",
   "execution_count": 24,
   "metadata": {},
   "outputs": [],
   "source": [
    "for x in range(4):\n",
    "    tiempos[x][\"aparicion_nro\"] = tiempos[x].groupby(\"ref_hash\").agg({\"ref_hash\" : \"cumcount\"})\n",
    "    tiempos[x] = tiempos[x].loc[tiempos[x][\"aparicion_nro\"] == 0][[\"ref_hash\", \"created\"]]"
   ]
  },
  {
   "cell_type": "code",
   "execution_count": 25,
   "metadata": {},
   "outputs": [],
   "source": [
    "tiempo1 = tiempos[0]\n",
    "entrenamiento1 = entrenamientos[0]"
   ]
  },
  {
   "cell_type": "code",
   "execution_count": 26,
   "metadata": {},
   "outputs": [],
   "source": [
    "entrenamiento1 = entrenamiento1.merge(tiempo1, how= 'left', left_index= True,right_on= 'ref_hash')"
   ]
  },
  {
   "cell_type": "code",
   "execution_count": 27,
   "metadata": {},
   "outputs": [],
   "source": [
    "fecha_max = np.datetime64('2019-04-23 23:59:59.999999')\n",
    "entrenamiento1.fillna(fecha_max,inplace = True)"
   ]
  },
  {
   "cell_type": "code",
   "execution_count": 28,
   "metadata": {},
   "outputs": [],
   "source": [
    "entrenamiento1[\"t0\"] = np.datetime64('2019-04-21 00:00:00')\n",
    "entrenamiento1[\"target\"] = (entrenamiento1[\"created\"] - entrenamiento1[\"t0\"]) / np.timedelta64(1,'s')"
   ]
  },
  {
   "cell_type": "code",
   "execution_count": 29,
   "metadata": {},
   "outputs": [],
   "source": [
    "entrenamiento1.sort_values(by=\"target\",inplace = True)\n"
   ]
  },
  {
   "cell_type": "code",
   "execution_count": 30,
   "metadata": {},
   "outputs": [],
   "source": [
    "entrenamiento1.rename(columns = {\"created\":\"fecha_vista\"},inplace = True)\n",
    "entrenamiento1.set_index(\"ref_hash\",inplace = True)"
   ]
  },
  {
   "cell_type": "code",
   "execution_count": 31,
   "metadata": {},
   "outputs": [
    {
     "data": {
      "text/html": [
       "<div>\n",
       "<style scoped>\n",
       "    .dataframe tbody tr th:only-of-type {\n",
       "        vertical-align: middle;\n",
       "    }\n",
       "\n",
       "    .dataframe tbody tr th {\n",
       "        vertical-align: top;\n",
       "    }\n",
       "\n",
       "    .dataframe thead th {\n",
       "        text-align: right;\n",
       "    }\n",
       "</style>\n",
       "<table border=\"1\" class=\"dataframe\">\n",
       "  <thead>\n",
       "    <tr style=\"text-align: right;\">\n",
       "      <th></th>\n",
       "      <th>fecha_vista</th>\n",
       "      <th>t0</th>\n",
       "      <th>target</th>\n",
       "    </tr>\n",
       "    <tr>\n",
       "      <th>ref_hash</th>\n",
       "      <th></th>\n",
       "      <th></th>\n",
       "      <th></th>\n",
       "    </tr>\n",
       "  </thead>\n",
       "  <tbody>\n",
       "    <tr>\n",
       "      <th>8658033545182476382</th>\n",
       "      <td>2019-04-21 00:00:06.719</td>\n",
       "      <td>2019-04-21</td>\n",
       "      <td>6.719</td>\n",
       "    </tr>\n",
       "    <tr>\n",
       "      <th>5319880208554805744</th>\n",
       "      <td>2019-04-21 00:00:42.916</td>\n",
       "      <td>2019-04-21</td>\n",
       "      <td>42.916</td>\n",
       "    </tr>\n",
       "    <tr>\n",
       "      <th>2724379983691706057</th>\n",
       "      <td>2019-04-21 00:01:12.717</td>\n",
       "      <td>2019-04-21</td>\n",
       "      <td>72.717</td>\n",
       "    </tr>\n",
       "    <tr>\n",
       "      <th>5752531311519431202</th>\n",
       "      <td>2019-04-21 00:01:19.747</td>\n",
       "      <td>2019-04-21</td>\n",
       "      <td>79.747</td>\n",
       "    </tr>\n",
       "    <tr>\n",
       "      <th>1378431276887817875</th>\n",
       "      <td>2019-04-21 00:01:29.921</td>\n",
       "      <td>2019-04-21</td>\n",
       "      <td>89.921</td>\n",
       "    </tr>\n",
       "  </tbody>\n",
       "</table>\n",
       "</div>"
      ],
      "text/plain": [
       "                                fecha_vista         t0  target\n",
       "ref_hash                                                      \n",
       "8658033545182476382 2019-04-21 00:00:06.719 2019-04-21   6.719\n",
       "5319880208554805744 2019-04-21 00:00:42.916 2019-04-21  42.916\n",
       "2724379983691706057 2019-04-21 00:01:12.717 2019-04-21  72.717\n",
       "5752531311519431202 2019-04-21 00:01:19.747 2019-04-21  79.747\n",
       "1378431276887817875 2019-04-21 00:01:29.921 2019-04-21  89.921"
      ]
     },
     "execution_count": 31,
     "metadata": {},
     "output_type": "execute_result"
    }
   ],
   "source": [
    "entrenamiento1.head()"
   ]
  },
  {
   "cell_type": "code",
   "execution_count": 32,
   "metadata": {},
   "outputs": [
    {
     "data": {
      "text/plain": [
       "fecha_vista    2019-04-23 23:59:59.999999\n",
       "t0                    2019-04-21 00:00:00\n",
       "target                             259200\n",
       "dtype: object"
      ]
     },
     "execution_count": 32,
     "metadata": {},
     "output_type": "execute_result"
    }
   ],
   "source": [
    "entrenamiento1.max()"
   ]
  },
  {
   "cell_type": "code",
   "execution_count": 50,
   "metadata": {},
   "outputs": [],
   "source": [
    "# Cantidad de instalaciones\n",
    "# Cant con wifi\n",
    "# Cant sin wifi\n",
    "# Dia de la semana (1 al 7)\n",
    "# Hora mas frecuente de instalacion\n",
    "# Si tiene mas de una instalacion en los dias, cual es el promedio de tiempo entre instalaciones\n",
    "#\n"
   ]
  },
  {
   "cell_type": "code",
   "execution_count": null,
   "metadata": {},
   "outputs": [],
   "source": []
  }
 ],
 "metadata": {
  "kernelspec": {
   "display_name": "Python 3",
   "language": "python",
   "name": "python3"
  },
  "language_info": {
   "codemirror_mode": {
    "name": "ipython",
    "version": 3
   },
   "file_extension": ".py",
   "mimetype": "text/x-python",
   "name": "python",
   "nbconvert_exporter": "python",
   "pygments_lexer": "ipython3",
   "version": "3.6.8"
  }
 },
 "nbformat": 4,
 "nbformat_minor": 2
}
