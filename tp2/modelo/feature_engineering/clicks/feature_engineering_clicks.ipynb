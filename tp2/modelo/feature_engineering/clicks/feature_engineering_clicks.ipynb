{
 "cells": [
  {
   "cell_type": "markdown",
   "metadata": {},
   "source": [
    "# Imports"
   ]
  },
  {
   "cell_type": "code",
   "execution_count": 1,
   "metadata": {},
   "outputs": [],
   "source": [
    "import pandas as pd\n",
    "import numpy as np"
   ]
  },
  {
   "cell_type": "markdown",
   "metadata": {},
   "source": [
    "---"
   ]
  },
  {
   "cell_type": "markdown",
   "metadata": {},
   "source": [
    "# Carga de datos"
   ]
  },
  {
   "cell_type": "code",
   "execution_count": 2,
   "metadata": {},
   "outputs": [],
   "source": [
    "clicks = pd.read_pickle(\"../../../../data/tp2/clicks_tp2_formateado.pkl\")"
   ]
  },
  {
   "cell_type": "markdown",
   "metadata": {},
   "source": [
    "---"
   ]
  },
  {
   "cell_type": "markdown",
   "metadata": {},
   "source": [
    "# Armado de ventanas"
   ]
  },
  {
   "cell_type": "code",
   "execution_count": 4,
   "metadata": {},
   "outputs": [],
   "source": [
    "for ventana_nro in range(1,6):\n",
    "    clicks[\"ventana_{}\".format(ventana_nro)] = (((17+ventana_nro) <= clicks[\"created\"].dt.day) & ((clicks[\"created\"].dt.day) <= (19+ventana_nro)))"
   ]
  },
  {
   "cell_type": "markdown",
   "metadata": {},
   "source": [
    "---"
   ]
  },
  {
   "cell_type": "markdown",
   "metadata": {},
   "source": [
    "# Creación de features"
   ]
  },
  {
   "cell_type": "markdown",
   "metadata": {},
   "source": [
    "## Creación de sets de entrenamiento"
   ]
  },
  {
   "cell_type": "code",
   "execution_count": 23,
   "metadata": {},
   "outputs": [],
   "source": [
    "Xs = {}\n",
    "for ventana_nro in range(1,6):\n",
    "    Xs[ventana_nro] = clicks.loc[clicks[\"ventana_{}\".format(ventana_nro)]][\"ref_hash\"].drop_duplicates().to_frame().set_index(\"ref_hash\")"
   ]
  },
  {
   "cell_type": "markdown",
   "metadata": {},
   "source": [
    "---"
   ]
  },
  {
   "cell_type": "markdown",
   "metadata": {},
   "source": [
    "## Función generadora de features"
   ]
  },
  {
   "cell_type": "code",
   "execution_count": 6,
   "metadata": {},
   "outputs": [],
   "source": [
    "def generar_feature_en_ventanas(dataframe, generador_feature, destinos):\n",
    "    for ventana_nro in range(1, 6):\n",
    "        feature = generador_feature(dataframe.loc[dataframe[\"ventana_{}\".format(ventana_nro)]], ventana_nro)\n",
    "        destinos[ventana_nro] = destinos[ventana_nro].merge(feature, left_index=True, right_index=True)"
   ]
  },
  {
   "cell_type": "markdown",
   "metadata": {},
   "source": [
    "---"
   ]
  },
  {
   "cell_type": "markdown",
   "metadata": {},
   "source": [
    "## Estadísticas sobre el tiempo hasta clickear"
   ]
  },
  {
   "cell_type": "code",
   "execution_count": 24,
   "metadata": {},
   "outputs": [],
   "source": [
    "def tiempo_hasta_clickear_media(dataframe, nro_ventana):\n",
    "    return dataframe.groupby(\"ref_hash\").agg({\"timeToClick\" : \"mean\"}).rename(columns={\"timeToClick\": \"tiempo_hasta_click_mean\"})"
   ]
  },
  {
   "cell_type": "code",
   "execution_count": 25,
   "metadata": {},
   "outputs": [],
   "source": [
    "generar_feature_en_ventanas(clicks, tiempo_hasta_clickear_media, Xs)"
   ]
  },
  {
   "cell_type": "code",
   "execution_count": 26,
   "metadata": {},
   "outputs": [],
   "source": [
    "def tiempo_hasta_clickear_max(dataframe, nro_ventana):\n",
    "    return dataframe.groupby(\"ref_hash\").agg({\"timeToClick\" : \"max\"}).rename(columns={\"timeToClick\": \"tiempo_hasta_click_max\"})"
   ]
  },
  {
   "cell_type": "code",
   "execution_count": 27,
   "metadata": {},
   "outputs": [],
   "source": [
    "generar_feature_en_ventanas(clicks, tiempo_hasta_clickear_max, Xs)"
   ]
  },
  {
   "cell_type": "code",
   "execution_count": 28,
   "metadata": {},
   "outputs": [],
   "source": [
    "def tiempo_hasta_clickear_min(dataframe, nro_ventana):\n",
    "    return dataframe.groupby(\"ref_hash\").agg({\"timeToClick\" : \"min\"}).rename(columns={\"timeToClick\": \"tiempo_hasta_click_min\"})"
   ]
  },
  {
   "cell_type": "code",
   "execution_count": 29,
   "metadata": {},
   "outputs": [],
   "source": [
    "generar_feature_en_ventanas(clicks, tiempo_hasta_clickear_min, Xs)"
   ]
  },
  {
   "cell_type": "code",
   "execution_count": 30,
   "metadata": {},
   "outputs": [],
   "source": [
    "def tiempo_hasta_clickear_std(dataframe, nro_ventana):\n",
    "    return dataframe.groupby(\"ref_hash\").agg({\"timeToClick\" : \"std\"}).rename(columns={\"timeToClick\": \"tiempo_hasta_click_std\"}).fillna(0)"
   ]
  },
  {
   "cell_type": "code",
   "execution_count": 31,
   "metadata": {},
   "outputs": [],
   "source": [
    "generar_feature_en_ventanas(clicks, tiempo_hasta_clickear_std, Xs)"
   ]
  },
  {
   "cell_type": "markdown",
   "metadata": {},
   "source": [
    "---"
   ]
  },
  {
   "cell_type": "markdown",
   "metadata": {},
   "source": [
    "## Cantidad de clicks dentro de la ventana"
   ]
  },
  {
   "cell_type": "code",
   "execution_count": 34,
   "metadata": {},
   "outputs": [],
   "source": [
    "def cantidad_de_clicks(dataframe, nro_ventana):\n",
    "    return dataframe.groupby(\"ref_hash\").agg({\"timeToClick\" : \"count\"}).rename(columns={\"timeToClick\": \"cantidad_clicks\"})"
   ]
  },
  {
   "cell_type": "code",
   "execution_count": 35,
   "metadata": {},
   "outputs": [],
   "source": [
    "generar_feature_en_ventanas(clicks, cantidad_de_clicks, Xs)"
   ]
  },
  {
   "cell_type": "markdown",
   "metadata": {},
   "source": [
    "---"
   ]
  },
  {
   "cell_type": "markdown",
   "metadata": {},
   "source": [
    "## Cantidad de clicks discriminando por períodos"
   ]
  },
  {
   "cell_type": "code",
   "execution_count": 36,
   "metadata": {},
   "outputs": [],
   "source": [
    "# Creo columnas para luego separar\n",
    "clicks['hora'] = clicks['created'].dt.hour\n",
    "clicks['dia'] = clicks['created'].dt.day\n",
    "clicks['dia_de_la_semana'] = clicks['created'].dt.dayofweek"
   ]
  },
  {
   "cell_type": "code",
   "execution_count": 40,
   "metadata": {},
   "outputs": [],
   "source": [
    "def cantidad_apariciones_por_hora(dataframe, nro_ventana):\n",
    "    apariciones_por_hora = dataframe.groupby([\"ref_hash\", \"hora\"]).agg(({\"created\" : \"count\"}))\n",
    "    apariciones_por_hora = apariciones_por_hora.unstack().fillna(0).astype(np.int64)\n",
    "    apariciones_por_hora.columns = [\"apariciones_en_hora_{}\".format(hora) for hora in range(0,24)]\n",
    "    return apariciones_por_hora"
   ]
  },
  {
   "cell_type": "code",
   "execution_count": 41,
   "metadata": {},
   "outputs": [],
   "source": [
    "generar_feature_en_ventanas(clicks, cantidad_apariciones_por_hora, Xs)"
   ]
  },
  {
   "cell_type": "code",
   "execution_count": 42,
   "metadata": {},
   "outputs": [],
   "source": [
    "def cantidad_apariciones_por_dia(dataframe, nro_ventana):\n",
    "    dias = dataframe[\"dia\"].drop_duplicates\n",
    "    apariciones_por_dia = dataframe.groupby([\"ref_hash\", \"dia\"]).agg(({\"created\" : \"count\"}))\n",
    "    apariciones_por_dia = apariciones_por_dia.unstack().fillna(0).astype(np.int64)\n",
    "    apariciones_por_dia.columns = [\"apariciones_en_dia_{}\".format(dia) for dia in range(1,4)]\n",
    "    return apariciones_por_dia"
   ]
  },
  {
   "cell_type": "code",
   "execution_count": 43,
   "metadata": {},
   "outputs": [],
   "source": [
    "generar_feature_en_ventanas(clicks, cantidad_apariciones_por_dia, Xs)"
   ]
  },
  {
   "cell_type": "markdown",
   "metadata": {},
   "source": [
    "---"
   ]
  },
  {
   "cell_type": "markdown",
   "metadata": {},
   "source": [
    "## Tiempo medio entre clicks"
   ]
  },
  {
   "cell_type": "code",
   "execution_count": 45,
   "metadata": {},
   "outputs": [],
   "source": [
    "def tiempo_medio_entre_clicks(dataframe, nro_ventana):\n",
    "    gb = dataframe.groupby(\"ref_hash\")\n",
    "    ps = {}\n",
    "    for t, g in gb:\n",
    "        ps[t] = g[\"created\"].sub(g[\"created\"].shift()).mean()\n",
    "    return pd.Series(ps).dt.total_seconds().fillna(0).to_frame().rename(columns={0: \"tiempo_medio_entre_clicks\"})"
   ]
  },
  {
   "cell_type": "code",
   "execution_count": 46,
   "metadata": {},
   "outputs": [],
   "source": [
    "generar_feature_en_ventanas(clicks, tiempo_medio_entre_clicks, Xs)"
   ]
  },
  {
   "cell_type": "markdown",
   "metadata": {},
   "source": [
    "---"
   ]
  },
  {
   "cell_type": "markdown",
   "metadata": {},
   "source": [
    "# Guardado de los sets de entrenamiento"
   ]
  },
  {
   "cell_type": "code",
   "execution_count": 48,
   "metadata": {},
   "outputs": [],
   "source": [
    "for ventana_nro in range(1, 6):\n",
    "    Xs[ventana_nro].to_pickle(\"../../features/clicks_train_ventana_{}.pkl\".format(ventana_nro))\n",
    "    Xs[ventana_nro].to_csv(\"../../features/clicks_train_ventana_{}.csv\".format(ventana_nro))"
   ]
  },
  {
   "cell_type": "markdown",
   "metadata": {},
   "source": [
    "---"
   ]
  }
 ],
 "metadata": {
  "kernelspec": {
   "display_name": "Python 3",
   "language": "python",
   "name": "python3"
  },
  "language_info": {
   "codemirror_mode": {
    "name": "ipython",
    "version": 3
   },
   "file_extension": ".py",
   "mimetype": "text/x-python",
   "name": "python",
   "nbconvert_exporter": "python",
   "pygments_lexer": "ipython3",
   "version": "3.6.5"
  }
 },
 "nbformat": 4,
 "nbformat_minor": 2
}
