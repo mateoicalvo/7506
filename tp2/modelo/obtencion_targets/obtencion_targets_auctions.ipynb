{
 "cells": [
  {
   "cell_type": "markdown",
   "metadata": {},
   "source": [
    "# Imports"
   ]
  },
  {
   "cell_type": "code",
   "execution_count": 1,
   "metadata": {},
   "outputs": [],
   "source": [
    "import pandas as pd\n",
    "import numpy as np"
   ]
  },
  {
   "cell_type": "markdown",
   "metadata": {},
   "source": [
    "---"
   ]
  },
  {
   "cell_type": "markdown",
   "metadata": {},
   "source": [
    "# Carga de datos"
   ]
  },
  {
   "cell_type": "code",
   "execution_count": 3,
   "metadata": {},
   "outputs": [],
   "source": [
    "auctions = pd.read_pickle(\"../../../data/tp2/auctions_tp2_formateado.pkl\")"
   ]
  },
  {
   "cell_type": "markdown",
   "metadata": {},
   "source": [
    "---"
   ]
  },
  {
   "cell_type": "markdown",
   "metadata": {},
   "source": [
    "# Armado de ventanas"
   ]
  },
  {
   "cell_type": "code",
   "execution_count": 48,
   "metadata": {},
   "outputs": [],
   "source": [
    "for ventana_nro in range(1,6):\n",
    "    auctions[\"ventana_{}\".format(ventana_nro)] = (((17+ventana_nro) <= auctions[\"date\"].dt.day) & ((auctions[\"date\"].dt.day) <= (19+ventana_nro)))"
   ]
  },
  {
   "cell_type": "markdown",
   "metadata": {},
   "source": [
    "---"
   ]
  },
  {
   "cell_type": "markdown",
   "metadata": {},
   "source": [
    "# Armado de validaciones"
   ]
  },
  {
   "cell_type": "code",
   "execution_count": 49,
   "metadata": {},
   "outputs": [],
   "source": [
    "for validacion_nro in range(1,6):\n",
    "    auctions[\"validacion_{}\".format(validacion_nro)] = (((20+validacion_nro) <= auctions[\"date\"].dt.day) & ((auctions[\"date\"].dt.day) <= (22+validacion_nro)))"
   ]
  },
  {
   "cell_type": "markdown",
   "metadata": {},
   "source": [
    "---"
   ]
  },
  {
   "cell_type": "markdown",
   "metadata": {},
   "source": [
    "# Obtención del tiempo hasta aparición (\"objetivo\" o \"label\" o \"target\") para cada ventana de datos"
   ]
  },
  {
   "cell_type": "code",
   "execution_count": 136,
   "metadata": {},
   "outputs": [],
   "source": [
    "tres_dias = 3*24*60*60\n",
    "for validacion_nro in range(1,6):\n",
    "    validacion = auctions.loc[auctions[\"validacion_{}\".format(validacion_nro)]].groupby(\"device_id\").agg({\"date\" : \"min\"}).reset_index()\n",
    "    validacion[\"target\"] = validacion[\"date\"] - np.datetime64('2019-04-{} 00:00:00.000000'.format(20+validacion_nro))\n",
    "    del validacion[\"date\"]\n",
    "    validacion[\"target\"] = validacion[\"target\"].map(lambda x: (x.delta / 1000000000))\n",
    "    target = auctions.loc[auctions[\"ventana_{}\".format(validacion_nro)]][\"device_id\"].drop_duplicates().to_frame()\n",
    "    target = target.reset_index()\n",
    "    del target[\"index\"]\n",
    "    target = target.merge(validacion_1, on=\"device_id\", how=\"left\").fillna(tres_dias)\n",
    "    target.to_pickle(\"../targets/targets_ventana_{}_auctions.pkl\".format(validacion_nro))"
   ]
  },
  {
   "cell_type": "markdown",
   "metadata": {},
   "source": [
    "# Razonamiento para obtener el delirio de arriba"
   ]
  },
  {
   "cell_type": "code",
   "execution_count": 109,
   "metadata": {},
   "outputs": [],
   "source": [
    "validacion_1 = auctions.loc[auctions[\"validacion_1\"]].groupby(\"device_id\").agg({\"date\" : \"min\"}).reset_index()"
   ]
  },
  {
   "cell_type": "code",
   "execution_count": 110,
   "metadata": {},
   "outputs": [],
   "source": [
    "validacion_1[\"target\"] = validacion_1[\"date\"] - np.datetime64('2019-04-21 00:00:00.000000')"
   ]
  },
  {
   "cell_type": "code",
   "execution_count": 111,
   "metadata": {},
   "outputs": [],
   "source": [
    "del validacion_1[\"date\"]"
   ]
  },
  {
   "cell_type": "code",
   "execution_count": 112,
   "metadata": {},
   "outputs": [],
   "source": [
    "validacion_1[\"target\"] = validacion_1[\"target\"].map(lambda x: (x.delta / 1000000000))"
   ]
  },
  {
   "cell_type": "code",
   "execution_count": 122,
   "metadata": {},
   "outputs": [],
   "source": [
    "target = auctions.loc[auctions[\"ventana_1\"]][\"device_id\"].drop_duplicates().to_frame()"
   ]
  },
  {
   "cell_type": "code",
   "execution_count": 124,
   "metadata": {},
   "outputs": [],
   "source": [
    "target = target.reset_index()"
   ]
  },
  {
   "cell_type": "code",
   "execution_count": 125,
   "metadata": {},
   "outputs": [],
   "source": [
    "del target[\"index\"]"
   ]
  },
  {
   "cell_type": "markdown",
   "metadata": {},
   "source": [
    "Luego se hace el merge para quedarme con los datos que estan en la ventana"
   ]
  }
 ],
 "metadata": {
  "kernelspec": {
   "display_name": "Python 3",
   "language": "python",
   "name": "python3"
  },
  "language_info": {
   "codemirror_mode": {
    "name": "ipython",
    "version": 3
   },
   "file_extension": ".py",
   "mimetype": "text/x-python",
   "name": "python",
   "nbconvert_exporter": "python",
   "pygments_lexer": "ipython3",
   "version": "3.6.5"
  }
 },
 "nbformat": 4,
 "nbformat_minor": 2
}
