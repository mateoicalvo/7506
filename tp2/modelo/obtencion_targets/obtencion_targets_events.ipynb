{
 "cells": [
  {
   "cell_type": "markdown",
   "metadata": {},
   "source": [
    "# Imports"
   ]
  },
  {
   "cell_type": "code",
   "execution_count": 1,
   "metadata": {},
   "outputs": [],
   "source": [
    "import pandas as pd\n",
    "import numpy as np"
   ]
  },
  {
   "cell_type": "markdown",
   "metadata": {},
   "source": [
    "---"
   ]
  },
  {
   "cell_type": "markdown",
   "metadata": {},
   "source": [
    "# Carga de datos"
   ]
  },
  {
   "cell_type": "code",
   "execution_count": 2,
   "metadata": {},
   "outputs": [],
   "source": [
    "events = pd.read_pickle(\"../../../data/tp2/events_tp2_formateado.pkl\")"
   ]
  },
  {
   "cell_type": "markdown",
   "metadata": {},
   "source": [
    "---"
   ]
  },
  {
   "cell_type": "markdown",
   "metadata": {},
   "source": [
    "# Armado de ventanas"
   ]
  },
  {
   "cell_type": "code",
   "execution_count": 3,
   "metadata": {},
   "outputs": [],
   "source": [
    "for ventana_nro in range(1,6):\n",
    "    events[\"ventana_{}\".format(ventana_nro)] = (((17+ventana_nro) <= events[\"date\"].dt.day) & ((events[\"date\"].dt.day) <= (19+ventana_nro)))"
   ]
  },
  {
   "cell_type": "markdown",
   "metadata": {},
   "source": [
    "---"
   ]
  },
  {
   "cell_type": "markdown",
   "metadata": {},
   "source": [
    "# Armado de validaciones"
   ]
  },
  {
   "cell_type": "code",
   "execution_count": 4,
   "metadata": {},
   "outputs": [],
   "source": [
    "for validacion_nro in range(1,6):\n",
    "    events[\"validacion_{}\".format(validacion_nro)] = (((20+validacion_nro) <= events[\"date\"].dt.day) & ((events[\"date\"].dt.day) <= (22+validacion_nro)))"
   ]
  },
  {
   "cell_type": "markdown",
   "metadata": {},
   "source": [
    "---"
   ]
  },
  {
   "cell_type": "markdown",
   "metadata": {},
   "source": [
    "# Obtención del tiempo hasta aparición (\"objetivo\" o \"label\" o \"target\") para cada ventana de datos"
   ]
  },
  {
   "cell_type": "code",
   "execution_count": 5,
   "metadata": {},
   "outputs": [],
   "source": [
    "tres_dias = 3*24*60*60\n",
    "for validacion_nro in range(1,6):\n",
    "    validacion = events.loc[events[\"validacion_{}\".format(validacion_nro)]].groupby(\"ref_hash\").agg({\"date\" : \"min\"}).reset_index()\n",
    "    validacion[\"target\"] = validacion[\"date\"] - np.datetime64('2019-04-{} 00:00:00.000000'.format(20+validacion_nro))\n",
    "    del validacion[\"date\"]\n",
    "    validacion[\"target\"] = validacion[\"target\"].map(lambda x: (x.delta / 1000000000))\n",
    "    target = events.loc[events[\"ventana_{}\".format(validacion_nro)]][\"ref_hash\"].drop_duplicates().to_frame()\n",
    "    target = target.reset_index()\n",
    "    del target[\"index\"]\n",
    "    target = target.merge(validacion, on=\"ref_hash\", how=\"left\").fillna(tres_dias)\n",
    "    target.to_pickle(\"../targets/targets_ventana_{}_events.pkl\".format(validacion_nro))"
   ]
  }
 ],
 "metadata": {
  "kernelspec": {
   "display_name": "Python 3",
   "language": "python",
   "name": "python3"
  },
  "language_info": {
   "codemirror_mode": {
    "name": "ipython",
    "version": 3
   },
   "file_extension": ".py",
   "mimetype": "text/x-python",
   "name": "python",
   "nbconvert_exporter": "python",
   "pygments_lexer": "ipython3",
   "version": "3.6.5"
  }
 },
 "nbformat": 4,
 "nbformat_minor": 2
}
