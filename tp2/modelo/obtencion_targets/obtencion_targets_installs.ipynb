{
 "cells": [
  {
   "cell_type": "markdown",
   "metadata": {},
   "source": [
    "# Imports"
   ]
  },
  {
   "cell_type": "code",
   "execution_count": 1,
   "metadata": {},
   "outputs": [],
   "source": [
    "import pandas as pd\n",
    "import numpy as np"
   ]
  },
  {
   "cell_type": "markdown",
   "metadata": {},
   "source": [
    "---"
   ]
  },
  {
   "cell_type": "markdown",
   "metadata": {},
   "source": [
    "# Carga de datos"
   ]
  },
  {
   "cell_type": "code",
   "execution_count": 2,
   "metadata": {},
   "outputs": [],
   "source": [
    "installs = pd.read_pickle(\"../../../data/tp2/installs_tp2_formateado.pkl\")"
   ]
  },
  {
   "cell_type": "markdown",
   "metadata": {},
   "source": [
    "---"
   ]
  },
  {
   "cell_type": "markdown",
   "metadata": {},
   "source": [
    "# Armado de validaciones"
   ]
  },
  {
   "cell_type": "code",
   "execution_count": 3,
   "metadata": {},
   "outputs": [],
   "source": [
    "for validacion_nro in range(1,6):\n",
    "    installs[\"validacion_{}\".format(validacion_nro)] = (((20+validacion_nro) <= installs[\"date\"].dt.day) & ((installs[\"date\"].dt.day) <= (22+validacion_nro)))"
   ]
  },
  {
   "cell_type": "markdown",
   "metadata": {},
   "source": [
    "---"
   ]
  },
  {
   "cell_type": "markdown",
   "metadata": {},
   "source": [
    "# Obtención del tiempo hasta aparición (\"label\") para cada ventana de datos"
   ]
  },
  {
   "cell_type": "code",
   "execution_count": 4,
   "metadata": {},
   "outputs": [],
   "source": [
    "tres_dias = 3*24*60*60\n",
    "for validacion_nro in range(1,5):\n",
    "    validacion = installs.loc[installs[\"validacion_{}\".format(validacion_nro)]].groupby(\"device_id\").agg({\"date\" : \"min\"}).reset_index()\n",
    "    validacion[\"target\"] = validacion[\"date\"] - np.datetime64('2019-04-{} 00:00:00.000000'.format(20+validacion_nro))\n",
    "    del validacion[\"date\"]\n",
    "    validacion[\"target\"] = validacion[\"target\"].map(lambda x: (x.delta / 1000000000))\n",
    "    target = installs.loc[installs[\"ventana_{}\".format(validacion_nro)]][\"device_id\"].drop_duplicates().to_frame()\n",
    "    target = target.reset_index()\n",
    "    del target[\"index\"]\n",
    "    target = target.merge(validacion, on=\"device_id\", how=\"outer\").fillna(tres_dias)\n",
    "    target.set_index(\"device_id\", inplace=True)\n",
    "    target.to_pickle(\"../targets/targets_ventana_{}_installs.pkl\".format(validacion_nro))"
   ]
  },
  {
   "cell_type": "markdown",
   "metadata": {},
   "source": [
    "---"
   ]
  }
 ],
 "metadata": {
  "kernelspec": {
   "display_name": "Python 3",
   "language": "python",
   "name": "python3"
  },
  "language_info": {
   "codemirror_mode": {
    "name": "ipython",
    "version": 3
   },
   "file_extension": ".py",
   "mimetype": "text/x-python",
   "name": "python",
   "nbconvert_exporter": "python",
   "pygments_lexer": "ipython3",
   "version": "3.6.5"
  }
 },
 "nbformat": 4,
 "nbformat_minor": 2
}
