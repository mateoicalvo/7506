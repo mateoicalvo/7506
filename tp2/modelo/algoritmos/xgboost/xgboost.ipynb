{
 "cells": [
  {
   "cell_type": "markdown",
   "metadata": {},
   "source": [
    "# Imports"
   ]
  },
  {
   "cell_type": "code",
   "execution_count": 1,
   "metadata": {},
   "outputs": [],
   "source": [
    "import pandas as pd\n",
    "import numpy as np\n",
    "import xgboost as xgb\n",
    "from sklearn.model_selection import train_test_split\n",
    "from sklearn.metrics import mean_squared_error\n",
    "from math import sqrt\n",
    "from matplotlib import pyplot\n",
    "from hyperopt import hp, fmin, tpe, STATUS_OK, Trials\n",
    "import seaborn as sns"
   ]
  },
  {
   "cell_type": "markdown",
   "metadata": {},
   "source": [
    "---"
   ]
  },
  {
   "cell_type": "markdown",
   "metadata": {},
   "source": [
    "# Carga de datos"
   ]
  },
  {
   "cell_type": "code",
   "execution_count": 2,
   "metadata": {},
   "outputs": [],
   "source": [
    "train_auctions = pd.read_csv(\"../../features/entrenar_auctions_final.csv\")"
   ]
  },
  {
   "cell_type": "code",
   "execution_count": 3,
   "metadata": {},
   "outputs": [],
   "source": [
    "train_auctions.set_index(\"device_id\", inplace=True)"
   ]
  },
  {
   "cell_type": "code",
   "execution_count": 4,
   "metadata": {},
   "outputs": [],
   "source": [
    "#train_auctions = train_auctions.reindex(sorted(train_auctions.columns), axis=1)"
   ]
  },
  {
   "cell_type": "code",
   "execution_count": 5,
   "metadata": {},
   "outputs": [],
   "source": [
    "# Filtro\n",
    "#train_auctions = train_auctions.loc[(train_auctions.T.agg(\"sum\") != 0)]"
   ]
  },
  {
   "cell_type": "markdown",
   "metadata": {},
   "source": [
    "---"
   ]
  },
  {
   "cell_type": "code",
   "execution_count": 6,
   "metadata": {},
   "outputs": [],
   "source": [
    "X_auctions, y_auctions = train_auctions.drop(\"target\", axis=1), train_auctions[\"target\"]\n",
    "X_train_auctions, X_test_auctions, y_train_auctions, y_test_auctions = \\\n",
    "    train_test_split(X_auctions, y_auctions, test_size=0.33, random_state=0)\n",
    "\n",
    "\"\"\"filtro_auctions = (X_auctions.T.agg(\"sum\") != 0)\n",
    "X_auctions = X_auctions.loc[filtro_auctions]\n",
    "y_auctions = y_auctions.loc[filtro_auctions]\"\"\"\n",
    "\n",
    "dtrain_auctions = xgb.DMatrix(data=X_train_auctions, label=y_train_auctions)\n",
    "dtest_auctions = xgb.DMatrix(data=X_test_auctions, label=y_test_auctions)"
   ]
  },
  {
   "cell_type": "markdown",
   "metadata": {},
   "source": [
    "---"
   ]
  },
  {
   "cell_type": "code",
   "execution_count": 7,
   "metadata": {},
   "outputs": [],
   "source": [
    "train_installs = pd.read_csv(\"../../features/entrenar_installs_final.csv\")\n",
    "train_installs.set_index(\"device_id\", inplace=True)\n",
    "#train_installs = train_installs.reindex(sorted(train_installs.columns), axis=1)"
   ]
  },
  {
   "cell_type": "code",
   "execution_count": 8,
   "metadata": {},
   "outputs": [],
   "source": [
    "# Filtro\n",
    "#train_installs = train_installs.loc[train_installs.T.agg(\"sum\") != 0]"
   ]
  },
  {
   "cell_type": "markdown",
   "metadata": {},
   "source": [
    "---"
   ]
  },
  {
   "cell_type": "code",
   "execution_count": 9,
   "metadata": {},
   "outputs": [],
   "source": [
    "X_installs, y_installs = train_installs.drop(\"target\", axis=1), train_installs[\"target\"]\n",
    "X_train_installs, X_test_installs, y_train_installs, y_test_installs = \\\n",
    "    train_test_split(X_installs, y_installs, test_size=0.33, random_state=0)\n",
    "\n",
    "\"\"\"filtro_installs = (X_installs.T.agg(\"sum\") != 0)\n",
    "X_installs = X_installs.loc[filtro_installs]\n",
    "y_installs = y_installs.loc[filtro_installs]\"\"\"\n",
    "\n",
    "dtrain_installs = xgb.DMatrix(data=X_train_installs, label=y_train_installs)\n",
    "dtest_installs = xgb.DMatrix(data=X_test_installs, label=y_test_installs)"
   ]
  },
  {
   "cell_type": "markdown",
   "metadata": {},
   "source": [
    "---"
   ]
  },
  {
   "cell_type": "markdown",
   "metadata": {},
   "source": [
    "# Entrenamiento - Auctions"
   ]
  },
  {
   "cell_type": "code",
   "execution_count": 10,
   "metadata": {},
   "outputs": [
    {
     "name": "stdout",
     "output_type": "stream",
     "text": [
      "100%|██████████| 25/25 [01:08<00:00,  3.81s/it, best loss: 59674.30289383396]\n",
      "{'colsample_bytree': 0.7000000000000001, 'eta': 0.35000000000000003, 'gamma': 0.5, 'max_depth': 6, 'min_child_weight': 6.0, 'n_estimators': 349}\n"
     ]
    }
   ],
   "source": [
    "space = {\n",
    "        'n_estimators': hp.choice('n_estimators', np.arange(100, 500+1)),\n",
    "        'eta': hp.quniform('eta', 0.025, 0.5, 0.025),\n",
    "        'max_depth':  hp.choice('max_depth', np.arange(1, 9, dtype=int)),\n",
    "        'min_child_weight': hp.quniform('min_child_weight', 0.5, 6, 1),\n",
    "        'gamma': hp.quniform('gamma', 0.5, 1, 0.05),\n",
    "        'colsample_bytree': hp.quniform('colsample_bytree', 0.5, 1, 0.05),\n",
    "        'eval_metric': 'rmse',\n",
    "        'obj': 'reg:squarederror',\n",
    "        'nthread': 5,\n",
    "        'booster': 'gbtree',\n",
    "        'tree_method': 'exact',\n",
    "        'silent': 1,\n",
    "}\n",
    "\n",
    "\n",
    "def objective(space):\n",
    "    model = xgb.train(space, dtrain_auctions,evals=[(dtest_auctions, \"test\")], verbose_eval=False, )\n",
    "    pred = model.predict(dtest_auctions)\n",
    "    rmse = np.sqrt(mean_squared_error(y_test_auctions, pred))\n",
    "    return{'loss':rmse, 'status': STATUS_OK }\n",
    "\n",
    "\n",
    "trials = Trials()\n",
    "best = fmin(fn=objective,\n",
    "            space=space,\n",
    "            algo=tpe.suggest,\n",
    "            max_evals=25,\n",
    "            trials=trials)\n",
    "\n",
    "print(best)\n",
    "#100%|██████████| 10/10 [00:42<00:00,  5.18s/it, best loss: 62323.934330109085]\n",
    "# {'colsample_bytree': 0.7000000000000001, 'eta': 0.35000000000000003, 'gamma': 0.5, 'max_depth': 6, 'min_child_weight': 6.0, 'n_estimators': 349}"
   ]
  },
  {
   "cell_type": "markdown",
   "metadata": {},
   "source": [
    "---"
   ]
  },
  {
   "cell_type": "markdown",
   "metadata": {},
   "source": [
    "# Entrenamiento - installs"
   ]
  },
  {
   "cell_type": "code",
   "execution_count": 11,
   "metadata": {},
   "outputs": [
    {
     "name": "stdout",
     "output_type": "stream",
     "text": [
      "100%|██████████| 100/100 [00:54<00:00,  1.74it/s, best loss: 74621.95048098643]\n",
      "{'colsample_bytree': 0.65, 'eta': 0.5, 'gamma': 0.9, 'max_depth': 1, 'min_child_weight': 4.0, 'n_estimators': 69}\n"
     ]
    }
   ],
   "source": [
    "space = {\n",
    "        'n_estimators': hp.choice('n_estimators', np.arange(100, 500+1)),\n",
    "        'eta': hp.quniform('eta', 0.025, 0.5, 0.025),\n",
    "        'max_depth':  hp.choice('max_depth', np.arange(1, 9, dtype=int)),\n",
    "        'min_child_weight': hp.quniform('min_child_weight', 0.5, 6, 1),\n",
    "        'gamma': hp.quniform('gamma', 0.5, 1, 0.05),\n",
    "        'colsample_bytree': hp.quniform('colsample_bytree', 0.5, 1, 0.05),\n",
    "        'eval_metric': 'rmse',\n",
    "        'obj': 'reg:squarederror',\n",
    "        'nthread': 5,\n",
    "        'booster': 'gbtree',\n",
    "        'tree_method': 'exact',\n",
    "        'silent': 1,\n",
    "}\n",
    "\n",
    "\n",
    "def objective(space):\n",
    "    model = xgb.train(space, dtrain_installs, evals=[(dtest_installs, \"test\")], verbose_eval=False, )\n",
    "    pred = model.predict(dtest_installs)\n",
    "    rmse = np.sqrt(mean_squared_error(y_test_installs, pred))\n",
    "    return{'loss':rmse, 'status': STATUS_OK }\n",
    "\n",
    "\n",
    "trials = Trials()\n",
    "best = fmin(fn=objective,\n",
    "            space=space,\n",
    "            algo=tpe.suggest,\n",
    "            max_evals=100,\n",
    "            trials=trials)\n",
    "\n",
    "print(best)\n",
    "#100%|██████████| 64/64 [01:01<00:00,  1.05it/s, best loss: 75360.45606226214]\n",
    "#{'colsample_bytree': 0.7000000000000001, 'eta': 0.42500000000000004, 'gamma': 0.75, 'max_depth': 1, 'min_child_weight': 6.0, 'n_estimators': 220}"
   ]
  },
  {
   "cell_type": "markdown",
   "metadata": {},
   "source": [
    "---"
   ]
  },
  {
   "cell_type": "markdown",
   "metadata": {},
   "source": [
    "# Prediccion"
   ]
  },
  {
   "cell_type": "markdown",
   "metadata": {},
   "source": [
    "### Cargo features de los dispositivos de la competencia"
   ]
  },
  {
   "cell_type": "code",
   "execution_count": 12,
   "metadata": {},
   "outputs": [],
   "source": [
    "predecir_auctions = pd.read_csv(\"../../features/predecir_auctions_final.csv\", index_col=0)\n",
    "#predecir_auctions = predecir_auctions.reindex(sorted(predecir_auctions.columns), axis=1)"
   ]
  },
  {
   "cell_type": "code",
   "execution_count": 13,
   "metadata": {},
   "outputs": [],
   "source": [
    "dpredecir_auctions = xgb.DMatrix(data=predecir_auctions)"
   ]
  },
  {
   "cell_type": "code",
   "execution_count": 14,
   "metadata": {},
   "outputs": [],
   "source": [
    "predecir_installs = pd.read_csv(\"../../features/predecir_installs_final.csv\", index_col=0)\n",
    "#predecir_installs = predecir_installs.reindex(sorted(predecir_installs.columns), axis=1)"
   ]
  },
  {
   "cell_type": "code",
   "execution_count": 15,
   "metadata": {},
   "outputs": [],
   "source": [
    "dpredecir_installs = xgb.DMatrix(data=predecir_installs)"
   ]
  },
  {
   "cell_type": "markdown",
   "metadata": {},
   "source": [
    "---"
   ]
  },
  {
   "cell_type": "code",
   "execution_count": 16,
   "metadata": {},
   "outputs": [],
   "source": [
    "dfinal_auctions = xgb.DMatrix(data=X_auctions, label=y_auctions)"
   ]
  },
  {
   "cell_type": "code",
   "execution_count": 17,
   "metadata": {},
   "outputs": [],
   "source": [
    "# {'colsample_bytree': 0.7000000000000001, 'eta': 0.35000000000000003, 'gamma': 0.5, 'max_depth': 6, 'min_child_weight': 6.0, 'n_estimators': 349}\n",
    "best_auctions = {\n",
    "        'n_estimators': 349,\n",
    "        'eta': 0.35,\n",
    "        'max_depth': 6,\n",
    "        'min_child_weight': 6.0,\n",
    "        'gamma': 0.9,\n",
    "        'colsample_bytree': 0.7,\n",
    "        'eval_metric': 'rmse',\n",
    "        'obj': 'reg:squarederror',\n",
    "        'nthread': 6,\n",
    "        'booster': 'gbtree',\n",
    "        'tree_method': 'exact',\n",
    "        'silent': 1,\n",
    "}\n",
    "model_auctions = xgb.train(best_auctions, dfinal_auctions, verbose_eval=False)"
   ]
  },
  {
   "cell_type": "code",
   "execution_count": 18,
   "metadata": {},
   "outputs": [],
   "source": [
    "predecir_auctions[\"label\"] = model_auctions.predict(dpredecir_auctions)"
   ]
  },
  {
   "cell_type": "markdown",
   "metadata": {},
   "source": [
    "---"
   ]
  },
  {
   "cell_type": "code",
   "execution_count": 19,
   "metadata": {},
   "outputs": [],
   "source": [
    "dfinal_installs = xgb.DMatrix(data=X_installs, label=y_installs)"
   ]
  },
  {
   "cell_type": "code",
   "execution_count": 20,
   "metadata": {},
   "outputs": [],
   "source": [
    "# {'colsample_bytree': 0.65, 'eta': 0.5, 'gamma': 0.9, 'max_depth': 1, 'min_child_weight': 4.0, 'n_estimators': 69}\n",
    "best_installs = {\n",
    "        'n_estimators': 69,\n",
    "        'eta': 0.5,\n",
    "        'max_depth': 1,\n",
    "        'min_child_weight': 4.0,\n",
    "        'gamma': 0.9,\n",
    "        'colsample_bytree': 0.65,\n",
    "        'eval_metric': 'rmse',\n",
    "        'obj': 'reg:squarederror',\n",
    "        'nthread': 6,\n",
    "        'booster': 'gbtree',\n",
    "        'tree_method': 'exact',\n",
    "        'silent': 1,\n",
    "}\n",
    "model_installs = xgb.train(best_installs, dfinal_installs, verbose_eval=False)"
   ]
  },
  {
   "cell_type": "code",
   "execution_count": 21,
   "metadata": {},
   "outputs": [],
   "source": [
    "predecir_installs[\"label\"] = model_installs.predict(dpredecir_installs)"
   ]
  },
  {
   "cell_type": "markdown",
   "metadata": {},
   "source": [
    "---"
   ]
  },
  {
   "cell_type": "code",
   "execution_count": 22,
   "metadata": {},
   "outputs": [],
   "source": [
    "def corregir(x):\n",
    "    if x > 259200:\n",
    "        return 259200\n",
    "    elif x < 0:\n",
    "        return 0\n",
    "    else:\n",
    "        return x"
   ]
  },
  {
   "cell_type": "code",
   "execution_count": 23,
   "metadata": {},
   "outputs": [],
   "source": [
    "predecir_auctions[\"label\"] = predecir_auctions[\"label\"].apply(lambda x: corregir(x))"
   ]
  },
  {
   "cell_type": "code",
   "execution_count": 24,
   "metadata": {},
   "outputs": [],
   "source": [
    "predecir_installs[\"label\"] = predecir_installs[\"label\"].apply(lambda x: corregir(x))"
   ]
  },
  {
   "cell_type": "markdown",
   "metadata": {},
   "source": [
    "---"
   ]
  },
  {
   "cell_type": "markdown",
   "metadata": {},
   "source": [
    "### Cargo archivo de submissions"
   ]
  },
  {
   "cell_type": "code",
   "execution_count": 25,
   "metadata": {},
   "outputs": [],
   "source": [
    "submissions = pd.read_csv(\"../../../../data/tp2/target.csv\")"
   ]
  },
  {
   "cell_type": "code",
   "execution_count": 26,
   "metadata": {},
   "outputs": [],
   "source": [
    "predecir_auctions.reset_index(inplace=True)"
   ]
  },
  {
   "cell_type": "code",
   "execution_count": 27,
   "metadata": {},
   "outputs": [],
   "source": [
    "predecir_auctions[\"ref_hash\"] = predecir_auctions[\"ref_hash\"].apply(lambda x: str(x)+\"_st\")"
   ]
  },
  {
   "cell_type": "code",
   "execution_count": 28,
   "metadata": {},
   "outputs": [],
   "source": [
    "predecir_installs.reset_index(inplace=True)"
   ]
  },
  {
   "cell_type": "code",
   "execution_count": 29,
   "metadata": {},
   "outputs": [],
   "source": [
    "predecir_installs[\"ref_hash\"] = predecir_installs[\"ref_hash\"].apply(lambda x: str(x)+\"_sc\")"
   ]
  },
  {
   "cell_type": "code",
   "execution_count": 30,
   "metadata": {},
   "outputs": [],
   "source": [
    "rename_dict_auctions = predecir_auctions.set_index('ref_hash').to_dict()['label']"
   ]
  },
  {
   "cell_type": "code",
   "execution_count": 31,
   "metadata": {},
   "outputs": [],
   "source": [
    "rename_dict_installs = predecir_installs.set_index('ref_hash').to_dict()['label']"
   ]
  },
  {
   "cell_type": "code",
   "execution_count": 32,
   "metadata": {},
   "outputs": [],
   "source": [
    "tmp = submissions.copy()"
   ]
  },
  {
   "cell_type": "code",
   "execution_count": 33,
   "metadata": {},
   "outputs": [],
   "source": [
    "tmp[\"obj\"] = tmp[\"ref_hash\"]"
   ]
  },
  {
   "cell_type": "code",
   "execution_count": 34,
   "metadata": {},
   "outputs": [],
   "source": [
    "tmp[\"obj\"] = tmp[\"obj\"].replace(rename_dict_auctions)"
   ]
  },
  {
   "cell_type": "code",
   "execution_count": 35,
   "metadata": {},
   "outputs": [],
   "source": [
    "tmp[\"obj\"] = tmp[\"obj\"].replace(rename_dict_installs)"
   ]
  },
  {
   "cell_type": "code",
   "execution_count": 36,
   "metadata": {},
   "outputs": [],
   "source": [
    "tmp.set_index(\"ref_hash\").to_csv(\"hasta_v5_con_outer_join_solo_en_installs.csv\")"
   ]
  },
  {
   "cell_type": "markdown",
   "metadata": {},
   "source": [
    "---"
   ]
  },
  {
   "cell_type": "markdown",
   "metadata": {},
   "source": [
    "# Persistencia de modelos"
   ]
  },
  {
   "cell_type": "code",
   "execution_count": 37,
   "metadata": {},
   "outputs": [],
   "source": [
    "model_installs.save_model(\"hasta_v5_con_outer_join_solo_en_installs.model\")"
   ]
  },
  {
   "cell_type": "code",
   "execution_count": 38,
   "metadata": {},
   "outputs": [],
   "source": [
    "model_installs.dump_model(\"hasta_v5_con_outer_join_solo_en_installs.dump\", with_stats=True)"
   ]
  },
  {
   "cell_type": "markdown",
   "metadata": {},
   "source": [
    "---"
   ]
  },
  {
   "cell_type": "code",
   "execution_count": 39,
   "metadata": {},
   "outputs": [],
   "source": [
    "model_auctions.save_model(\"hasta_v5_con_outer_join_solo_en_installs.model\")"
   ]
  },
  {
   "cell_type": "code",
   "execution_count": 40,
   "metadata": {},
   "outputs": [],
   "source": [
    "model_auctions.dump_model(\"hasta_v5_con_outer_join_solo_en_installs.dump\", with_stats=True)"
   ]
  },
  {
   "cell_type": "markdown",
   "metadata": {},
   "source": [
    "---"
   ]
  }
 ],
 "metadata": {
  "kernelspec": {
   "display_name": "Python 3",
   "language": "python",
   "name": "python3"
  },
  "language_info": {
   "codemirror_mode": {
    "name": "ipython",
    "version": 3
   },
   "file_extension": ".py",
   "mimetype": "text/x-python",
   "name": "python",
   "nbconvert_exporter": "python",
   "pygments_lexer": "ipython3",
   "version": "3.6.5"
  }
 },
 "nbformat": 4,
 "nbformat_minor": 2
}
