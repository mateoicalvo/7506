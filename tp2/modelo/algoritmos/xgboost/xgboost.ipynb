{
 "cells": [
  {
   "cell_type": "markdown",
   "metadata": {},
   "source": [
    "# Imports"
   ]
  },
  {
   "cell_type": "code",
   "execution_count": 1,
   "metadata": {},
   "outputs": [],
   "source": [
    "import pandas as pd\n",
    "import numpy as np\n",
    "import xgboost as xgb\n",
    "from sklearn.model_selection import train_test_split\n",
    "from sklearn.metrics import mean_squared_error"
   ]
  },
  {
   "cell_type": "markdown",
   "metadata": {},
   "source": [
    "---"
   ]
  },
  {
   "cell_type": "markdown",
   "metadata": {},
   "source": [
    "# Carga de datos"
   ]
  },
  {
   "cell_type": "code",
   "execution_count": 2,
   "metadata": {},
   "outputs": [],
   "source": [
    "features = pd.read_pickle(\"../../features/auctions_train_ventana_1.pkl\")\n",
    "targets = pd.read_pickle(\"../../targets/targets_ventana_1_auctions.pkl\")\n",
    "train = features.merge(targets, left_index=True, right_index=True)"
   ]
  },
  {
   "cell_type": "markdown",
   "metadata": {},
   "source": [
    "---"
   ]
  },
  {
   "cell_type": "markdown",
   "metadata": {},
   "source": [
    "# Preparación del set de datos para XGBoost"
   ]
  },
  {
   "cell_type": "code",
   "execution_count": 3,
   "metadata": {},
   "outputs": [],
   "source": [
    "X, y = train.iloc[:,:-1], train.iloc[:,-1]\n",
    "data_dmatrix = xgb.DMatrix(data=X,label=y)\n",
    "X_train, X_test, y_train, y_test = \\\n",
    "    train_test_split(X, y, test_size=0.2, random_state=123)"
   ]
  },
  {
   "cell_type": "code",
   "execution_count": 11,
   "metadata": {},
   "outputs": [],
   "source": [
    "xg_reg = xgb.XGBRegressor(colsample_bytree = 0.7, learning_rate = 0.5,\n",
    "                n_estimators = 100, n_jobs=6, max_depth=7, objective=\"reg:linear\")"
   ]
  },
  {
   "cell_type": "code",
   "execution_count": 12,
   "metadata": {},
   "outputs": [
    {
     "data": {
      "text/plain": [
       "XGBRegressor(base_score=0.5, booster='gbtree', colsample_bylevel=1,\n",
       "       colsample_bytree=0.7, gamma=0, learning_rate=0.5, max_delta_step=0,\n",
       "       max_depth=7, min_child_weight=1, missing=None, n_estimators=100,\n",
       "       n_jobs=6, nthread=None, objective='reg:linear', random_state=0,\n",
       "       reg_alpha=0, reg_lambda=1, scale_pos_weight=1, seed=None,\n",
       "       silent=True, subsample=1)"
      ]
     },
     "execution_count": 12,
     "metadata": {},
     "output_type": "execute_result"
    }
   ],
   "source": [
    "xg_reg.fit(X_train,y_train)"
   ]
  },
  {
   "cell_type": "code",
   "execution_count": 15,
   "metadata": {},
   "outputs": [
    {
     "name": "stdout",
     "output_type": "stream",
     "text": [
      "RMSE: 89107.116607\n"
     ]
    }
   ],
   "source": [
    "preds = xg_reg.predict(X_test.iloc[:100])\n",
    "rmse = np.sqrt(mean_squared_error(y_test.iloc[:100], preds))\n",
    "print(\"RMSE: %f\" % (rmse))"
   ]
  },
  {
   "cell_type": "markdown",
   "metadata": {},
   "source": [
    "---"
   ]
  },
  {
   "cell_type": "markdown",
   "metadata": {},
   "source": [
    "# Pruebas"
   ]
  },
  {
   "cell_type": "code",
   "execution_count": 20,
   "metadata": {},
   "outputs": [],
   "source": [
    "features_auctions = pd.read_pickle(\"../../features/auctions_train_ventana_1.pkl\")\n",
    "features_clicks = pd.read_pickle(\"../../features/clicks_train_ventana_1.pkl\")"
   ]
  },
  {
   "cell_type": "code",
   "execution_count": 21,
   "metadata": {},
   "outputs": [],
   "source": [
    "features_combinados_imputados = features_auctions.merge(features_clicks, right_index=True, left_index=True, suffixes=('_auctions', '_clicks')).fillna(0)"
   ]
  },
  {
   "cell_type": "code",
   "execution_count": 17,
   "metadata": {},
   "outputs": [
    {
     "data": {
      "text/plain": [
       "9144"
      ]
     },
     "execution_count": 17,
     "metadata": {},
     "output_type": "execute_result"
    }
   ],
   "source": [
    "len(features_combinados_imputados)"
   ]
  },
  {
   "cell_type": "code",
   "execution_count": 27,
   "metadata": {},
   "outputs": [
    {
     "name": "stdout",
     "output_type": "stream",
     "text": [
      "[0]\ttrain-rmse:112057\ttest-rmse:113310\n",
      "Multiple eval metrics have been passed: 'test-rmse' will be used for early stopping.\n",
      "\n",
      "Will train until test-rmse hasn't improved in 20 rounds.\n",
      "[1]\ttrain-rmse:106220\ttest-rmse:107639\n",
      "[2]\ttrain-rmse:100664\ttest-rmse:102448\n",
      "[3]\ttrain-rmse:95998.8\ttest-rmse:98074.7\n",
      "[4]\ttrain-rmse:91925.2\ttest-rmse:94382.7\n",
      "[5]\ttrain-rmse:88440.8\ttest-rmse:91209.7\n",
      "[6]\ttrain-rmse:85339\ttest-rmse:88431.3\n",
      "[7]\ttrain-rmse:82728.4\ttest-rmse:86177.8\n",
      "[8]\ttrain-rmse:80499.4\ttest-rmse:84284.5\n",
      "[9]\ttrain-rmse:78494\ttest-rmse:82702.5\n",
      "[10]\ttrain-rmse:76818.4\ttest-rmse:81374.8\n",
      "[11]\ttrain-rmse:75350.1\ttest-rmse:80181.9\n",
      "[12]\ttrain-rmse:74086.8\ttest-rmse:79207\n",
      "[13]\ttrain-rmse:72958.6\ttest-rmse:78540.7\n",
      "[14]\ttrain-rmse:71949.1\ttest-rmse:77874.5\n",
      "[15]\ttrain-rmse:71099.3\ttest-rmse:77349.9\n",
      "[16]\ttrain-rmse:70341.1\ttest-rmse:76963.5\n",
      "[17]\ttrain-rmse:69703.8\ttest-rmse:76625.2\n",
      "[18]\ttrain-rmse:69078.7\ttest-rmse:76353\n",
      "[19]\ttrain-rmse:68561.6\ttest-rmse:76070.3\n",
      "[20]\ttrain-rmse:68129.1\ttest-rmse:75840.2\n",
      "[21]\ttrain-rmse:67627.7\ttest-rmse:75675.6\n",
      "[22]\ttrain-rmse:67142.2\ttest-rmse:75532.6\n",
      "[23]\ttrain-rmse:66728.7\ttest-rmse:75447.9\n",
      "[24]\ttrain-rmse:66334.6\ttest-rmse:75366.3\n",
      "[25]\ttrain-rmse:65943.5\ttest-rmse:75317.3\n",
      "[26]\ttrain-rmse:65621.4\ttest-rmse:75242.8\n",
      "[27]\ttrain-rmse:65366.3\ttest-rmse:75148.6\n",
      "[28]\ttrain-rmse:65055\ttest-rmse:75190.2\n",
      "[29]\ttrain-rmse:64832.7\ttest-rmse:75158.6\n",
      "[30]\ttrain-rmse:64520.2\ttest-rmse:75072.6\n",
      "[31]\ttrain-rmse:64269\ttest-rmse:75123.5\n",
      "[32]\ttrain-rmse:64126.6\ttest-rmse:75127.4\n",
      "[33]\ttrain-rmse:63965.3\ttest-rmse:75158.5\n",
      "[34]\ttrain-rmse:63785.1\ttest-rmse:75166.2\n",
      "[35]\ttrain-rmse:63669.9\ttest-rmse:75124.9\n",
      "[36]\ttrain-rmse:63449.8\ttest-rmse:75128\n",
      "[37]\ttrain-rmse:63270.2\ttest-rmse:75162.1\n",
      "[38]\ttrain-rmse:63024.8\ttest-rmse:75127.6\n",
      "[39]\ttrain-rmse:62853\ttest-rmse:75157.1\n",
      "[40]\ttrain-rmse:62692.8\ttest-rmse:75128.6\n",
      "[41]\ttrain-rmse:62647.7\ttest-rmse:75137.5\n",
      "[42]\ttrain-rmse:62607.3\ttest-rmse:75130.4\n",
      "[43]\ttrain-rmse:62542.1\ttest-rmse:75135.9\n",
      "[44]\ttrain-rmse:62349.7\ttest-rmse:75151\n",
      "[45]\ttrain-rmse:62298.3\ttest-rmse:75162.5\n",
      "[46]\ttrain-rmse:62237\ttest-rmse:75178.3\n",
      "[47]\ttrain-rmse:62124.2\ttest-rmse:75187.6\n",
      "[48]\ttrain-rmse:62028.9\ttest-rmse:75191.8\n",
      "[49]\ttrain-rmse:61758.2\ttest-rmse:75229.2\n",
      "[50]\ttrain-rmse:61677.9\ttest-rmse:75212.5\n",
      "Stopping. Best iteration:\n",
      "[30]\ttrain-rmse:64520.2\ttest-rmse:75072.6\n",
      "\n"
     ]
    }
   ],
   "source": [
    "#features_auctions = pd.read_pickle(\"../../features/auctions_train_ventana_3.pkl\")\n",
    "targets = pd.read_pickle(\"../../targets/targets_ventana_1_auctions.pkl\")\n",
    "train = features_combinados_imputados.merge(targets, left_index=True, right_index=True)\n",
    "\n",
    "X, y = train.iloc[:,:-1], train.iloc[:,-1]\n",
    "X_train, X_test, y_train, y_test = \\\n",
    "    train_test_split(X, y, test_size=0.2, random_state=123)\n",
    "\n",
    "dtrain = xgb.DMatrix(data=X_train, label=y_train)\n",
    "dtest = xgb.DMatrix(data=X_test, label=y_test)\n",
    "\n",
    "param = {'max_depth':6,\n",
    "         'eta':0.3,\n",
    "         'silent':1,\n",
    "         'objective':'reg:linear',\n",
    "         'eval_metric' : 'rmse',\n",
    "         'obj' : 'reg:squarederror',\n",
    "         'colsample_bytree' : 0.7,\n",
    "         'min_child_weight' : 0.5,\n",
    "         'random_state' : 0,\n",
    "         'reg_alpha' : 0,\n",
    "         'reg_lambda' : 1,\n",
    "         'scale_pos_weight' : 1,\n",
    "         'learning_rate' : 0.1}\n",
    "\n",
    "\n",
    "num_round = 5000\n",
    "stopping = 20\n",
    "bst = xgb.train(param, dtrain, num_round, evals=[(dtrain, \"train\"), (dtest, \"test\")], early_stopping_rounds=stopping)\n",
    "# make prediction\n",
    "#preds = bst.predict(dtest)\n",
    "#Stopping. Best iteration:\n",
    "#[360]\ttrain-rmse:67651\ttest-rmse:69665.3a"
   ]
  },
  {
   "cell_type": "markdown",
   "metadata": {},
   "source": [
    "---"
   ]
  },
  {
   "cell_type": "code",
   "execution_count": 28,
   "metadata": {},
   "outputs": [
    {
     "name": "stdout",
     "output_type": "stream",
     "text": [
      "RMSE: 74927.184424\n"
     ]
    }
   ],
   "source": [
    "import lightgbm as lgb\n",
    "#lgb_model = lgb.LGBMRegressor(boosting_type='dart', metric='rmse', n_estimators=50, colsample_bytree=0.9)\n",
    "lgb_model = lgb.LGBMRegressor(boosting_type='dart', num_leaves=7, n_estimators=1000, metric='rmse',\n",
    "                               learning_rate=0.05, colsample_bytree=0.2)\n",
    "lgb_model.fit(X_train, y_train)\n",
    "preds = lgb_model.predict(X_test)\n",
    "rmse = np.sqrt(mean_squared_error(y_test, preds))\n",
    "print(\"RMSE: %f\" % (rmse))"
   ]
  },
  {
   "cell_type": "code",
   "execution_count": 16,
   "metadata": {},
   "outputs": [],
   "source": [
    "preds_xgb = bst.predict(dtest)\n",
    "preds_lgbm = lgb_model.predict(X_test)"
   ]
  },
  {
   "cell_type": "code",
   "execution_count": 29,
   "metadata": {},
   "outputs": [
    {
     "ename": "NameError",
     "evalue": "name 'preds_xgb' is not defined",
     "output_type": "error",
     "traceback": [
      "\u001b[0;31m---------------------------------------------------------------------------\u001b[0m",
      "\u001b[0;31mNameError\u001b[0m                                 Traceback (most recent call last)",
      "\u001b[0;32m<ipython-input-29-b7bc9ea26c58>\u001b[0m in \u001b[0;36m<module>\u001b[0;34m()\u001b[0m\n\u001b[1;32m      2\u001b[0m \u001b[0mp2\u001b[0m \u001b[0;34m=\u001b[0m \u001b[0;36m0.2\u001b[0m\u001b[0;34m\u001b[0m\u001b[0m\n\u001b[1;32m      3\u001b[0m \u001b[0;34m\u001b[0m\u001b[0m\n\u001b[0;32m----> 4\u001b[0;31m \u001b[0mpreds\u001b[0m \u001b[0;34m=\u001b[0m \u001b[0mp1\u001b[0m\u001b[0;34m*\u001b[0m\u001b[0mpreds_xgb\u001b[0m \u001b[0;34m+\u001b[0m \u001b[0mp2\u001b[0m\u001b[0;34m*\u001b[0m\u001b[0mpreds_lgbm\u001b[0m\u001b[0;34m\u001b[0m\u001b[0m\n\u001b[0m\u001b[1;32m      5\u001b[0m \u001b[0mrmse\u001b[0m \u001b[0;34m=\u001b[0m \u001b[0mnp\u001b[0m\u001b[0;34m.\u001b[0m\u001b[0msqrt\u001b[0m\u001b[0;34m(\u001b[0m\u001b[0mmean_squared_error\u001b[0m\u001b[0;34m(\u001b[0m\u001b[0my_test\u001b[0m\u001b[0;34m,\u001b[0m \u001b[0mpreds\u001b[0m\u001b[0;34m)\u001b[0m\u001b[0;34m)\u001b[0m\u001b[0;34m\u001b[0m\u001b[0m\n\u001b[1;32m      6\u001b[0m \u001b[0mprint\u001b[0m\u001b[0;34m(\u001b[0m\u001b[0;34m\"RMSE: %f\"\u001b[0m \u001b[0;34m%\u001b[0m \u001b[0;34m(\u001b[0m\u001b[0mrmse\u001b[0m\u001b[0;34m)\u001b[0m\u001b[0;34m)\u001b[0m\u001b[0;34m\u001b[0m\u001b[0m\n",
      "\u001b[0;31mNameError\u001b[0m: name 'preds_xgb' is not defined"
     ]
    }
   ],
   "source": [
    "p1 = 0.8\n",
    "p2 = 0.2\n",
    "\n",
    "preds = p1*preds_xgb + p2*preds_lgbm\n",
    "rmse = np.sqrt(mean_squared_error(y_test, preds))\n",
    "print(\"RMSE: %f\" % (rmse))"
   ]
  },
  {
   "cell_type": "code",
   "execution_count": 30,
   "metadata": {},
   "outputs": [],
   "source": [
    "diferencias = abs((y_test.values - preds))"
   ]
  },
  {
   "cell_type": "code",
   "execution_count": 36,
   "metadata": {},
   "outputs": [
    {
     "data": {
      "text/plain": [
       "20.555555555555557"
      ]
     },
     "execution_count": 36,
     "metadata": {},
     "output_type": "execute_result"
    }
   ],
   "source": [
    "74000 /3600"
   ]
  },
  {
   "cell_type": "markdown",
   "metadata": {},
   "source": [
    "---"
   ]
  }
 ],
 "metadata": {
  "kernelspec": {
   "display_name": "Python 3",
   "language": "python",
   "name": "python3"
  },
  "language_info": {
   "codemirror_mode": {
    "name": "ipython",
    "version": 3
   },
   "file_extension": ".py",
   "mimetype": "text/x-python",
   "name": "python",
   "nbconvert_exporter": "python",
   "pygments_lexer": "ipython3",
   "version": "3.6.5"
  }
 },
 "nbformat": 4,
 "nbformat_minor": 2
}
