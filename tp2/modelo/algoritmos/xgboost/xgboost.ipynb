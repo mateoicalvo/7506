{
 "cells": [
  {
   "cell_type": "markdown",
   "metadata": {},
   "source": [
    "# Imports"
   ]
  },
  {
   "cell_type": "code",
   "execution_count": 1,
   "metadata": {},
   "outputs": [],
   "source": [
    "import pandas as pd\n",
    "import numpy as np\n",
    "import xgboost as xgb\n",
    "from sklearn.model_selection import train_test_split\n",
    "from sklearn.metrics import mean_squared_error"
   ]
  },
  {
   "cell_type": "markdown",
   "metadata": {},
   "source": [
    "---"
   ]
  },
  {
   "cell_type": "markdown",
   "metadata": {},
   "source": [
    "# Carga de datos"
   ]
  },
  {
   "cell_type": "code",
   "execution_count": 37,
   "metadata": {},
   "outputs": [],
   "source": [
    "features = pd.read_pickle(\"../../features/auctions_train_ventana_1.pkl\")\n",
    "targets = pd.read_pickle(\"../../targets/targets_ventana_1_auctions.pkl\")\n",
    "train = features.merge(targets, left_index=True, right_index=True)"
   ]
  },
  {
   "cell_type": "markdown",
   "metadata": {},
   "source": [
    "---"
   ]
  },
  {
   "cell_type": "markdown",
   "metadata": {},
   "source": [
    "# Preparación del set de datos para XGBoost"
   ]
  },
  {
   "cell_type": "code",
   "execution_count": 38,
   "metadata": {},
   "outputs": [],
   "source": [
    "X, y = train.iloc[:,:-1], train.iloc[:,-1]\n",
    "data_dmatrix = xgb.DMatrix(data=X,label=y)\n",
    "X_train, X_test, y_train, y_test = \\\n",
    "    train_test_split(X, y, test_size=0.2, random_state=123)"
   ]
  },
  {
   "cell_type": "code",
   "execution_count": 39,
   "metadata": {},
   "outputs": [],
   "source": [
    "xg_reg = xgb.XGBRegressor(colsample_bytree = 0.7, learning_rate = 0.5,\n",
    "                n_estimators = 100, n_jobs=6, max_depth=7, objective=\"reg:linear\")"
   ]
  },
  {
   "cell_type": "code",
   "execution_count": 40,
   "metadata": {},
   "outputs": [
    {
     "data": {
      "text/plain": [
       "XGBRegressor(base_score=0.5, booster='gbtree', colsample_bylevel=1,\n",
       "       colsample_bytree=0.7, gamma=0, learning_rate=0.5, max_delta_step=0,\n",
       "       max_depth=7, min_child_weight=1, missing=None, n_estimators=100,\n",
       "       n_jobs=6, nthread=None, objective='reg:linear', random_state=0,\n",
       "       reg_alpha=0, reg_lambda=1, scale_pos_weight=1, seed=None,\n",
       "       silent=True, subsample=1)"
      ]
     },
     "execution_count": 40,
     "metadata": {},
     "output_type": "execute_result"
    }
   ],
   "source": [
    "xg_reg.fit(X_train,y_train)"
   ]
  },
  {
   "cell_type": "code",
   "execution_count": 48,
   "metadata": {},
   "outputs": [
    {
     "ename": "ValueError",
     "evalue": "feature_names mismatch: ['cantidad_apariciones', 'apariciones_en_hora_0', 'apariciones_en_hora_1', 'apariciones_en_hora_2', 'apariciones_en_hora_3', 'apariciones_en_hora_4', 'apariciones_en_hora_5', 'apariciones_en_hora_6', 'apariciones_en_hora_7', 'apariciones_en_hora_8', 'apariciones_en_hora_9', 'apariciones_en_hora_10', 'apariciones_en_hora_11', 'apariciones_en_hora_12', 'apariciones_en_hora_13', 'apariciones_en_hora_14', 'apariciones_en_hora_15', 'apariciones_en_hora_16', 'apariciones_en_hora_17', 'apariciones_en_hora_18', 'apariciones_en_hora_19', 'apariciones_en_hora_20', 'apariciones_en_hora_21', 'apariciones_en_hora_22', 'apariciones_en_hora_23', 'apariciones_en_dia_1', 'apariciones_en_dia_2', 'apariciones_en_dia_3', 'cantidad_so_registrados', 'so_media', 'tiempo_medio_entre_apariciones', 'tiempo_maximo_entre_apariciones', 'apariciones_en_source_0', 'apariciones_en_source_1', 'apariciones_en_source_2', 'apariciones_en_source_3', 'apariciones_en_source_4', 'apariciones_en_source_5', 'apariciones_en_source_6', 'apariciones_en_source_7', 'apariciones_en_source_8', 'apariciones_en_source_9', 'tiempo_ultima_aparicion_hasta_fin_ventana', 'tiempo_hora_frec_aparicion_subasta', 'tiempo_segunda_hora_frec_aparicion'] ['f0', 'f1', 'f2', 'f3', 'f4', 'f5', 'f6', 'f7', 'f8', 'f9', 'f10', 'f11', 'f12', 'f13', 'f14', 'f15', 'f16', 'f17', 'f18', 'f19', 'f20', 'f21', 'f22', 'f23', 'f24', 'f25', 'f26', 'f27', 'f28', 'f29', 'f30', 'f31', 'f32', 'f33', 'f34', 'f35', 'f36', 'f37', 'f38', 'f39', 'f40', 'f41', 'f42', 'f43', 'f44']\nexpected apariciones_en_hora_0, cantidad_apariciones, apariciones_en_source_7, tiempo_ultima_aparicion_hasta_fin_ventana, apariciones_en_hora_4, apariciones_en_hora_20, apariciones_en_hora_12, apariciones_en_hora_2, apariciones_en_hora_9, apariciones_en_hora_10, apariciones_en_hora_11, apariciones_en_source_1, apariciones_en_hora_22, apariciones_en_hora_7, apariciones_en_source_4, apariciones_en_source_3, apariciones_en_hora_13, apariciones_en_dia_1, tiempo_segunda_hora_frec_aparicion, apariciones_en_hora_23, cantidad_so_registrados, apariciones_en_hora_3, apariciones_en_hora_5, tiempo_medio_entre_apariciones, tiempo_maximo_entre_apariciones, apariciones_en_hora_18, apariciones_en_source_6, apariciones_en_hora_16, apariciones_en_source_8, apariciones_en_hora_21, apariciones_en_source_0, apariciones_en_hora_17, apariciones_en_source_9, apariciones_en_dia_3, apariciones_en_hora_6, apariciones_en_hora_1, apariciones_en_hora_19, apariciones_en_hora_14, tiempo_hora_frec_aparicion_subasta, apariciones_en_hora_15, apariciones_en_dia_2, apariciones_en_hora_8, so_media, apariciones_en_source_5, apariciones_en_source_2 in input data\ntraining data did not have the following fields: f36, f27, f37, f34, f7, f17, f21, f35, f43, f18, f2, f24, f16, f10, f8, f32, f14, f5, f20, f15, f28, f40, f42, f0, f6, f30, f33, f4, f25, f22, f9, f23, f26, f11, f38, f39, f41, f12, f3, f19, f29, f1, f13, f31, f44",
     "output_type": "error",
     "traceback": [
      "\u001b[0;31m---------------------------------------------------------------------------\u001b[0m",
      "\u001b[0;31mValueError\u001b[0m                                Traceback (most recent call last)",
      "\u001b[0;32m<ipython-input-48-8e82cabc5f1a>\u001b[0m in \u001b[0;36m<module>\u001b[0;34m()\u001b[0m\n\u001b[0;32m----> 1\u001b[0;31m \u001b[0mpreds\u001b[0m \u001b[0;34m=\u001b[0m \u001b[0mxg_reg\u001b[0m\u001b[0;34m.\u001b[0m\u001b[0mpredict\u001b[0m\u001b[0;34m(\u001b[0m\u001b[0mX_test\u001b[0m\u001b[0;34m)\u001b[0m\u001b[0;34m\u001b[0m\u001b[0m\n\u001b[0m\u001b[1;32m      2\u001b[0m \u001b[0mrmse\u001b[0m \u001b[0;34m=\u001b[0m \u001b[0mnp\u001b[0m\u001b[0;34m.\u001b[0m\u001b[0msqrt\u001b[0m\u001b[0;34m(\u001b[0m\u001b[0mmean_squared_error\u001b[0m\u001b[0;34m(\u001b[0m\u001b[0my_test\u001b[0m\u001b[0;34m,\u001b[0m \u001b[0mpreds\u001b[0m\u001b[0;34m)\u001b[0m\u001b[0;34m)\u001b[0m\u001b[0;34m\u001b[0m\u001b[0m\n\u001b[1;32m      3\u001b[0m \u001b[0mprint\u001b[0m\u001b[0;34m(\u001b[0m\u001b[0;34m\"RMSE: %f\"\u001b[0m \u001b[0;34m%\u001b[0m \u001b[0;34m(\u001b[0m\u001b[0mrmse\u001b[0m\u001b[0;34m)\u001b[0m\u001b[0;34m)\u001b[0m\u001b[0;34m\u001b[0m\u001b[0m\n",
      "\u001b[0;32m/opt/anaconda/3/lib/python3.6/site-packages/xgboost/sklearn.py\u001b[0m in \u001b[0;36mpredict\u001b[0;34m(self, data, output_margin, ntree_limit, validate_features)\u001b[0m\n\u001b[1;32m    431\u001b[0m                                           \u001b[0moutput_margin\u001b[0m\u001b[0;34m=\u001b[0m\u001b[0moutput_margin\u001b[0m\u001b[0;34m,\u001b[0m\u001b[0;34m\u001b[0m\u001b[0m\n\u001b[1;32m    432\u001b[0m                                           \u001b[0mntree_limit\u001b[0m\u001b[0;34m=\u001b[0m\u001b[0mntree_limit\u001b[0m\u001b[0;34m,\u001b[0m\u001b[0;34m\u001b[0m\u001b[0m\n\u001b[0;32m--> 433\u001b[0;31m                                           validate_features=validate_features)\n\u001b[0m\u001b[1;32m    434\u001b[0m \u001b[0;34m\u001b[0m\u001b[0m\n\u001b[1;32m    435\u001b[0m     \u001b[0;32mdef\u001b[0m \u001b[0mapply\u001b[0m\u001b[0;34m(\u001b[0m\u001b[0mself\u001b[0m\u001b[0;34m,\u001b[0m \u001b[0mX\u001b[0m\u001b[0;34m,\u001b[0m \u001b[0mntree_limit\u001b[0m\u001b[0;34m=\u001b[0m\u001b[0;36m0\u001b[0m\u001b[0;34m)\u001b[0m\u001b[0;34m:\u001b[0m\u001b[0;34m\u001b[0m\u001b[0m\n",
      "\u001b[0;32m/opt/anaconda/3/lib/python3.6/site-packages/xgboost/core.py\u001b[0m in \u001b[0;36mpredict\u001b[0;34m(self, data, output_margin, ntree_limit, pred_leaf, pred_contribs, approx_contribs, pred_interactions, validate_features)\u001b[0m\n\u001b[1;32m   1216\u001b[0m \u001b[0;34m\u001b[0m\u001b[0m\n\u001b[1;32m   1217\u001b[0m         \u001b[0;32mif\u001b[0m \u001b[0mvalidate_features\u001b[0m\u001b[0;34m:\u001b[0m\u001b[0;34m\u001b[0m\u001b[0m\n\u001b[0;32m-> 1218\u001b[0;31m             \u001b[0mself\u001b[0m\u001b[0;34m.\u001b[0m\u001b[0m_validate_features\u001b[0m\u001b[0;34m(\u001b[0m\u001b[0mdata\u001b[0m\u001b[0;34m)\u001b[0m\u001b[0;34m\u001b[0m\u001b[0m\n\u001b[0m\u001b[1;32m   1219\u001b[0m \u001b[0;34m\u001b[0m\u001b[0m\n\u001b[1;32m   1220\u001b[0m         \u001b[0mlength\u001b[0m \u001b[0;34m=\u001b[0m \u001b[0mc_bst_ulong\u001b[0m\u001b[0;34m(\u001b[0m\u001b[0;34m)\u001b[0m\u001b[0;34m\u001b[0m\u001b[0m\n",
      "\u001b[0;32m/opt/anaconda/3/lib/python3.6/site-packages/xgboost/core.py\u001b[0m in \u001b[0;36m_validate_features\u001b[0;34m(self, data)\u001b[0m\n\u001b[1;32m   1539\u001b[0m \u001b[0;34m\u001b[0m\u001b[0m\n\u001b[1;32m   1540\u001b[0m                 raise ValueError(msg.format(self.feature_names,\n\u001b[0;32m-> 1541\u001b[0;31m                                             data.feature_names))\n\u001b[0m\u001b[1;32m   1542\u001b[0m \u001b[0;34m\u001b[0m\u001b[0m\n\u001b[1;32m   1543\u001b[0m     \u001b[0;32mdef\u001b[0m \u001b[0mget_split_value_histogram\u001b[0m\u001b[0;34m(\u001b[0m\u001b[0mself\u001b[0m\u001b[0;34m,\u001b[0m \u001b[0mfeature\u001b[0m\u001b[0;34m,\u001b[0m \u001b[0mfmap\u001b[0m\u001b[0;34m=\u001b[0m\u001b[0;34m''\u001b[0m\u001b[0;34m,\u001b[0m \u001b[0mbins\u001b[0m\u001b[0;34m=\u001b[0m\u001b[0;32mNone\u001b[0m\u001b[0;34m,\u001b[0m \u001b[0mas_pandas\u001b[0m\u001b[0;34m=\u001b[0m\u001b[0;32mTrue\u001b[0m\u001b[0;34m)\u001b[0m\u001b[0;34m:\u001b[0m\u001b[0;34m\u001b[0m\u001b[0m\n",
      "\u001b[0;31mValueError\u001b[0m: feature_names mismatch: ['cantidad_apariciones', 'apariciones_en_hora_0', 'apariciones_en_hora_1', 'apariciones_en_hora_2', 'apariciones_en_hora_3', 'apariciones_en_hora_4', 'apariciones_en_hora_5', 'apariciones_en_hora_6', 'apariciones_en_hora_7', 'apariciones_en_hora_8', 'apariciones_en_hora_9', 'apariciones_en_hora_10', 'apariciones_en_hora_11', 'apariciones_en_hora_12', 'apariciones_en_hora_13', 'apariciones_en_hora_14', 'apariciones_en_hora_15', 'apariciones_en_hora_16', 'apariciones_en_hora_17', 'apariciones_en_hora_18', 'apariciones_en_hora_19', 'apariciones_en_hora_20', 'apariciones_en_hora_21', 'apariciones_en_hora_22', 'apariciones_en_hora_23', 'apariciones_en_dia_1', 'apariciones_en_dia_2', 'apariciones_en_dia_3', 'cantidad_so_registrados', 'so_media', 'tiempo_medio_entre_apariciones', 'tiempo_maximo_entre_apariciones', 'apariciones_en_source_0', 'apariciones_en_source_1', 'apariciones_en_source_2', 'apariciones_en_source_3', 'apariciones_en_source_4', 'apariciones_en_source_5', 'apariciones_en_source_6', 'apariciones_en_source_7', 'apariciones_en_source_8', 'apariciones_en_source_9', 'tiempo_ultima_aparicion_hasta_fin_ventana', 'tiempo_hora_frec_aparicion_subasta', 'tiempo_segunda_hora_frec_aparicion'] ['f0', 'f1', 'f2', 'f3', 'f4', 'f5', 'f6', 'f7', 'f8', 'f9', 'f10', 'f11', 'f12', 'f13', 'f14', 'f15', 'f16', 'f17', 'f18', 'f19', 'f20', 'f21', 'f22', 'f23', 'f24', 'f25', 'f26', 'f27', 'f28', 'f29', 'f30', 'f31', 'f32', 'f33', 'f34', 'f35', 'f36', 'f37', 'f38', 'f39', 'f40', 'f41', 'f42', 'f43', 'f44']\nexpected apariciones_en_hora_0, cantidad_apariciones, apariciones_en_source_7, tiempo_ultima_aparicion_hasta_fin_ventana, apariciones_en_hora_4, apariciones_en_hora_20, apariciones_en_hora_12, apariciones_en_hora_2, apariciones_en_hora_9, apariciones_en_hora_10, apariciones_en_hora_11, apariciones_en_source_1, apariciones_en_hora_22, apariciones_en_hora_7, apariciones_en_source_4, apariciones_en_source_3, apariciones_en_hora_13, apariciones_en_dia_1, tiempo_segunda_hora_frec_aparicion, apariciones_en_hora_23, cantidad_so_registrados, apariciones_en_hora_3, apariciones_en_hora_5, tiempo_medio_entre_apariciones, tiempo_maximo_entre_apariciones, apariciones_en_hora_18, apariciones_en_source_6, apariciones_en_hora_16, apariciones_en_source_8, apariciones_en_hora_21, apariciones_en_source_0, apariciones_en_hora_17, apariciones_en_source_9, apariciones_en_dia_3, apariciones_en_hora_6, apariciones_en_hora_1, apariciones_en_hora_19, apariciones_en_hora_14, tiempo_hora_frec_aparicion_subasta, apariciones_en_hora_15, apariciones_en_dia_2, apariciones_en_hora_8, so_media, apariciones_en_source_5, apariciones_en_source_2 in input data\ntraining data did not have the following fields: f36, f27, f37, f34, f7, f17, f21, f35, f43, f18, f2, f24, f16, f10, f8, f32, f14, f5, f20, f15, f28, f40, f42, f0, f6, f30, f33, f4, f25, f22, f9, f23, f26, f11, f38, f39, f41, f12, f3, f19, f29, f1, f13, f31, f44"
     ]
    }
   ],
   "source": [
    "preds = xg_reg.predict(X_test)\n",
    "rmse = np.sqrt(mean_squared_error(y_test, preds))\n",
    "print(\"RMSE: %f\" % (rmse))"
   ]
  },
  {
   "cell_type": "markdown",
   "metadata": {},
   "source": [
    "---"
   ]
  },
  {
   "cell_type": "markdown",
   "metadata": {},
   "source": [
    "# Pruebas"
   ]
  },
  {
   "cell_type": "markdown",
   "metadata": {},
   "source": [
    "## SGD"
   ]
  },
  {
   "cell_type": "code",
   "execution_count": 42,
   "metadata": {},
   "outputs": [],
   "source": [
    "from sklearn.preprocessing import StandardScaler\n",
    "scaler = StandardScaler()\n",
    "scaler.fit(X_train)  # Don't cheat - fit only on training data\n",
    "X_train = scaler.transform(X_train)\n",
    "X_test = scaler.transform(X_test)  # apply same transformation to test data"
   ]
  },
  {
   "cell_type": "code",
   "execution_count": 43,
   "metadata": {},
   "outputs": [],
   "source": [
    "from sklearn.linear_model import SGDRegressor"
   ]
  },
  {
   "cell_type": "code",
   "execution_count": 51,
   "metadata": {},
   "outputs": [
    {
     "ename": "ValueError",
     "evalue": "The loss losg is not supported. ",
     "output_type": "error",
     "traceback": [
      "\u001b[0;31m---------------------------------------------------------------------------\u001b[0m",
      "\u001b[0;31mValueError\u001b[0m                                Traceback (most recent call last)",
      "\u001b[0;32m<ipython-input-51-ab618cda165b>\u001b[0m in \u001b[0;36m<module>\u001b[0;34m()\u001b[0m\n\u001b[0;32m----> 1\u001b[0;31m \u001b[0mrg\u001b[0m\u001b[0;34m=\u001b[0m\u001b[0mSGDRegressor\u001b[0m\u001b[0;34m(\u001b[0m\u001b[0mloss\u001b[0m\u001b[0;34m=\u001b[0m\u001b[0;34m\"losg\"\u001b[0m\u001b[0;34m)\u001b[0m\u001b[0;34m\u001b[0m\u001b[0m\n\u001b[0m",
      "\u001b[0;32m/opt/anaconda/3/lib/python3.6/site-packages/sklearn/linear_model/stochastic_gradient.py\u001b[0m in \u001b[0;36m__init__\u001b[0;34m(self, loss, penalty, alpha, l1_ratio, fit_intercept, max_iter, tol, shuffle, verbose, epsilon, random_state, learning_rate, eta0, power_t, warm_start, average, n_iter)\u001b[0m\n\u001b[1;32m   1341\u001b[0m                                            \u001b[0meta0\u001b[0m\u001b[0;34m=\u001b[0m\u001b[0meta0\u001b[0m\u001b[0;34m,\u001b[0m \u001b[0mpower_t\u001b[0m\u001b[0;34m=\u001b[0m\u001b[0mpower_t\u001b[0m\u001b[0;34m,\u001b[0m\u001b[0;34m\u001b[0m\u001b[0m\n\u001b[1;32m   1342\u001b[0m                                            \u001b[0mwarm_start\u001b[0m\u001b[0;34m=\u001b[0m\u001b[0mwarm_start\u001b[0m\u001b[0;34m,\u001b[0m\u001b[0;34m\u001b[0m\u001b[0m\n\u001b[0;32m-> 1343\u001b[0;31m                                            average=average, n_iter=n_iter)\n\u001b[0m",
      "\u001b[0;32m/opt/anaconda/3/lib/python3.6/site-packages/sklearn/linear_model/stochastic_gradient.py\u001b[0m in \u001b[0;36m__init__\u001b[0;34m(self, loss, penalty, alpha, l1_ratio, fit_intercept, max_iter, tol, shuffle, verbose, epsilon, random_state, learning_rate, eta0, power_t, warm_start, average, n_iter)\u001b[0m\n\u001b[1;32m    933\u001b[0m                                                \u001b[0mwarm_start\u001b[0m\u001b[0;34m=\u001b[0m\u001b[0mwarm_start\u001b[0m\u001b[0;34m,\u001b[0m\u001b[0;34m\u001b[0m\u001b[0m\n\u001b[1;32m    934\u001b[0m                                                \u001b[0maverage\u001b[0m\u001b[0;34m=\u001b[0m\u001b[0maverage\u001b[0m\u001b[0;34m,\u001b[0m\u001b[0;34m\u001b[0m\u001b[0m\n\u001b[0;32m--> 935\u001b[0;31m                                                n_iter=n_iter)\n\u001b[0m\u001b[1;32m    936\u001b[0m \u001b[0;34m\u001b[0m\u001b[0m\n\u001b[1;32m    937\u001b[0m     def _partial_fit(self, X, y, alpha, C, loss, learning_rate,\n",
      "\u001b[0;32m/opt/anaconda/3/lib/python3.6/site-packages/sklearn/linear_model/stochastic_gradient.py\u001b[0m in \u001b[0;36m__init__\u001b[0;34m(self, loss, penalty, alpha, C, l1_ratio, fit_intercept, max_iter, tol, shuffle, verbose, epsilon, random_state, learning_rate, eta0, power_t, warm_start, average, n_iter)\u001b[0m\n\u001b[1;32m     72\u001b[0m         \u001b[0;31m# current tests expect init to do parameter validation\u001b[0m\u001b[0;34m\u001b[0m\u001b[0;34m\u001b[0m\u001b[0m\n\u001b[1;32m     73\u001b[0m         \u001b[0;31m# but we are not allowed to set attributes\u001b[0m\u001b[0;34m\u001b[0m\u001b[0;34m\u001b[0m\u001b[0m\n\u001b[0;32m---> 74\u001b[0;31m         \u001b[0mself\u001b[0m\u001b[0;34m.\u001b[0m\u001b[0m_validate_params\u001b[0m\u001b[0;34m(\u001b[0m\u001b[0mset_max_iter\u001b[0m\u001b[0;34m=\u001b[0m\u001b[0;32mFalse\u001b[0m\u001b[0;34m)\u001b[0m\u001b[0;34m\u001b[0m\u001b[0m\n\u001b[0m\u001b[1;32m     75\u001b[0m \u001b[0;34m\u001b[0m\u001b[0m\n\u001b[1;32m     76\u001b[0m     \u001b[0;32mdef\u001b[0m \u001b[0mset_params\u001b[0m\u001b[0;34m(\u001b[0m\u001b[0mself\u001b[0m\u001b[0;34m,\u001b[0m \u001b[0;34m*\u001b[0m\u001b[0margs\u001b[0m\u001b[0;34m,\u001b[0m \u001b[0;34m**\u001b[0m\u001b[0mkwargs\u001b[0m\u001b[0;34m)\u001b[0m\u001b[0;34m:\u001b[0m\u001b[0;34m\u001b[0m\u001b[0m\n",
      "\u001b[0;32m/opt/anaconda/3/lib/python3.6/site-packages/sklearn/linear_model/stochastic_gradient.py\u001b[0m in \u001b[0;36m_validate_params\u001b[0;34m(self, set_max_iter)\u001b[0m\n\u001b[1;32m    106\u001b[0m \u001b[0;34m\u001b[0m\u001b[0m\n\u001b[1;32m    107\u001b[0m         \u001b[0;32mif\u001b[0m \u001b[0mself\u001b[0m\u001b[0;34m.\u001b[0m\u001b[0mloss\u001b[0m \u001b[0;32mnot\u001b[0m \u001b[0;32min\u001b[0m \u001b[0mself\u001b[0m\u001b[0;34m.\u001b[0m\u001b[0mloss_functions\u001b[0m\u001b[0;34m:\u001b[0m\u001b[0;34m\u001b[0m\u001b[0m\n\u001b[0;32m--> 108\u001b[0;31m             \u001b[0;32mraise\u001b[0m \u001b[0mValueError\u001b[0m\u001b[0;34m(\u001b[0m\u001b[0;34m\"The loss %s is not supported. \"\u001b[0m \u001b[0;34m%\u001b[0m \u001b[0mself\u001b[0m\u001b[0;34m.\u001b[0m\u001b[0mloss\u001b[0m\u001b[0;34m)\u001b[0m\u001b[0;34m\u001b[0m\u001b[0m\n\u001b[0m\u001b[1;32m    109\u001b[0m \u001b[0;34m\u001b[0m\u001b[0m\n\u001b[1;32m    110\u001b[0m         \u001b[0;32mif\u001b[0m \u001b[0;32mnot\u001b[0m \u001b[0mset_max_iter\u001b[0m\u001b[0;34m:\u001b[0m\u001b[0;34m\u001b[0m\u001b[0m\n",
      "\u001b[0;31mValueError\u001b[0m: The loss losg is not supported. "
     ]
    }
   ],
   "source": [
    "rg=SGDRegressor(loss=\"log\")"
   ]
  },
  {
   "cell_type": "code",
   "execution_count": 45,
   "metadata": {},
   "outputs": [
    {
     "name": "stderr",
     "output_type": "stream",
     "text": [
      "/opt/anaconda/3/lib/python3.6/site-packages/sklearn/linear_model/stochastic_gradient.py:128: FutureWarning: max_iter and tol parameters have been added in <class 'sklearn.linear_model.stochastic_gradient.SGDRegressor'> in 0.19. If both are left unset, they default to max_iter=5 and tol=None. If tol is not None, max_iter defaults to max_iter=1000. From 0.21, default max_iter will be 1000, and default tol will be 1e-3.\n",
      "  \"and default tol will be 1e-3.\" % type(self), FutureWarning)\n"
     ]
    },
    {
     "data": {
      "text/plain": [
       "SGDRegressor(alpha=0.0001, average=False, epsilon=0.1, eta0=0.01,\n",
       "       fit_intercept=True, l1_ratio=0.15, learning_rate='invscaling',\n",
       "       loss='squared_loss', max_iter=None, n_iter=None, penalty='l2',\n",
       "       power_t=0.25, random_state=None, shuffle=True, tol=None, verbose=0,\n",
       "       warm_start=False)"
      ]
     },
     "execution_count": 45,
     "metadata": {},
     "output_type": "execute_result"
    }
   ],
   "source": [
    "rg.fit(X_train, y_train)"
   ]
  },
  {
   "cell_type": "code",
   "execution_count": 49,
   "metadata": {},
   "outputs": [
    {
     "name": "stdout",
     "output_type": "stream",
     "text": [
      "RMSE: 92632.606660\n"
     ]
    }
   ],
   "source": [
    "preds = rg.predict(X_test)\n",
    "rmse = np.sqrt(mean_squared_error(y_test, preds))\n",
    "print(\"RMSE: %f\" % (rmse))"
   ]
  },
  {
   "cell_type": "markdown",
   "metadata": {},
   "source": [
    "---"
   ]
  },
  {
   "cell_type": "code",
   "execution_count": 20,
   "metadata": {},
   "outputs": [],
   "source": [
    "features_auctions = pd.read_pickle(\"../../features/auctions_train_ventana_1.pkl\")\n",
    "features_clicks = pd.read_pickle(\"../../features/clicks_train_ventana_1.pkl\")"
   ]
  },
  {
   "cell_type": "code",
   "execution_count": 21,
   "metadata": {},
   "outputs": [],
   "source": [
    "features_combinados_imputados = features_auctions.merge(features_clicks, right_index=True, left_index=True, suffixes=('_auctions', '_clicks')).fillna(0)"
   ]
  },
  {
   "cell_type": "code",
   "execution_count": 17,
   "metadata": {},
   "outputs": [
    {
     "data": {
      "text/plain": [
       "9144"
      ]
     },
     "execution_count": 17,
     "metadata": {},
     "output_type": "execute_result"
    }
   ],
   "source": [
    "len(features_combinados_imputados)"
   ]
  },
  {
   "cell_type": "code",
   "execution_count": 27,
   "metadata": {},
   "outputs": [
    {
     "name": "stdout",
     "output_type": "stream",
     "text": [
      "[0]\ttrain-rmse:112057\ttest-rmse:113310\n",
      "Multiple eval metrics have been passed: 'test-rmse' will be used for early stopping.\n",
      "\n",
      "Will train until test-rmse hasn't improved in 20 rounds.\n",
      "[1]\ttrain-rmse:106220\ttest-rmse:107639\n",
      "[2]\ttrain-rmse:100664\ttest-rmse:102448\n",
      "[3]\ttrain-rmse:95998.8\ttest-rmse:98074.7\n",
      "[4]\ttrain-rmse:91925.2\ttest-rmse:94382.7\n",
      "[5]\ttrain-rmse:88440.8\ttest-rmse:91209.7\n",
      "[6]\ttrain-rmse:85339\ttest-rmse:88431.3\n",
      "[7]\ttrain-rmse:82728.4\ttest-rmse:86177.8\n",
      "[8]\ttrain-rmse:80499.4\ttest-rmse:84284.5\n",
      "[9]\ttrain-rmse:78494\ttest-rmse:82702.5\n",
      "[10]\ttrain-rmse:76818.4\ttest-rmse:81374.8\n",
      "[11]\ttrain-rmse:75350.1\ttest-rmse:80181.9\n",
      "[12]\ttrain-rmse:74086.8\ttest-rmse:79207\n",
      "[13]\ttrain-rmse:72958.6\ttest-rmse:78540.7\n",
      "[14]\ttrain-rmse:71949.1\ttest-rmse:77874.5\n",
      "[15]\ttrain-rmse:71099.3\ttest-rmse:77349.9\n",
      "[16]\ttrain-rmse:70341.1\ttest-rmse:76963.5\n",
      "[17]\ttrain-rmse:69703.8\ttest-rmse:76625.2\n",
      "[18]\ttrain-rmse:69078.7\ttest-rmse:76353\n",
      "[19]\ttrain-rmse:68561.6\ttest-rmse:76070.3\n",
      "[20]\ttrain-rmse:68129.1\ttest-rmse:75840.2\n",
      "[21]\ttrain-rmse:67627.7\ttest-rmse:75675.6\n",
      "[22]\ttrain-rmse:67142.2\ttest-rmse:75532.6\n",
      "[23]\ttrain-rmse:66728.7\ttest-rmse:75447.9\n",
      "[24]\ttrain-rmse:66334.6\ttest-rmse:75366.3\n",
      "[25]\ttrain-rmse:65943.5\ttest-rmse:75317.3\n",
      "[26]\ttrain-rmse:65621.4\ttest-rmse:75242.8\n",
      "[27]\ttrain-rmse:65366.3\ttest-rmse:75148.6\n",
      "[28]\ttrain-rmse:65055\ttest-rmse:75190.2\n",
      "[29]\ttrain-rmse:64832.7\ttest-rmse:75158.6\n",
      "[30]\ttrain-rmse:64520.2\ttest-rmse:75072.6\n",
      "[31]\ttrain-rmse:64269\ttest-rmse:75123.5\n",
      "[32]\ttrain-rmse:64126.6\ttest-rmse:75127.4\n",
      "[33]\ttrain-rmse:63965.3\ttest-rmse:75158.5\n",
      "[34]\ttrain-rmse:63785.1\ttest-rmse:75166.2\n",
      "[35]\ttrain-rmse:63669.9\ttest-rmse:75124.9\n",
      "[36]\ttrain-rmse:63449.8\ttest-rmse:75128\n",
      "[37]\ttrain-rmse:63270.2\ttest-rmse:75162.1\n",
      "[38]\ttrain-rmse:63024.8\ttest-rmse:75127.6\n",
      "[39]\ttrain-rmse:62853\ttest-rmse:75157.1\n",
      "[40]\ttrain-rmse:62692.8\ttest-rmse:75128.6\n",
      "[41]\ttrain-rmse:62647.7\ttest-rmse:75137.5\n",
      "[42]\ttrain-rmse:62607.3\ttest-rmse:75130.4\n",
      "[43]\ttrain-rmse:62542.1\ttest-rmse:75135.9\n",
      "[44]\ttrain-rmse:62349.7\ttest-rmse:75151\n",
      "[45]\ttrain-rmse:62298.3\ttest-rmse:75162.5\n",
      "[46]\ttrain-rmse:62237\ttest-rmse:75178.3\n",
      "[47]\ttrain-rmse:62124.2\ttest-rmse:75187.6\n",
      "[48]\ttrain-rmse:62028.9\ttest-rmse:75191.8\n",
      "[49]\ttrain-rmse:61758.2\ttest-rmse:75229.2\n",
      "[50]\ttrain-rmse:61677.9\ttest-rmse:75212.5\n",
      "Stopping. Best iteration:\n",
      "[30]\ttrain-rmse:64520.2\ttest-rmse:75072.6\n",
      "\n"
     ]
    }
   ],
   "source": [
    "#features_auctions = pd.read_pickle(\"../../features/auctions_train_ventana_3.pkl\")\n",
    "targets = pd.read_pickle(\"../../targets/targets_ventana_1_auctions.pkl\")\n",
    "train = features_combinados_imputados.merge(targets, left_index=True, right_index=True)\n",
    "\n",
    "X, y = train.iloc[:,:-1], train.iloc[:,-1]\n",
    "X_train, X_test, y_train, y_test = \\\n",
    "    train_test_split(X, y, test_size=0.2, random_state=123)\n",
    "\n",
    "dtrain = xgb.DMatrix(data=X_train, label=y_train)\n",
    "dtest = xgb.DMatrix(data=X_test, label=y_test)\n",
    "\n",
    "param = {'max_depth':6,\n",
    "         'eta':0.3,\n",
    "         'silent':1,\n",
    "         'objective':'reg:linear',\n",
    "         'eval_metric' : 'rmse',\n",
    "         'obj' : 'reg:squarederror',\n",
    "         'colsample_bytree' : 0.7,\n",
    "         'min_child_weight' : 0.5,\n",
    "         'random_state' : 0,\n",
    "         'reg_alpha' : 0,\n",
    "         'reg_lambda' : 1,\n",
    "         'scale_pos_weight' : 1,\n",
    "         'learning_rate' : 0.1}\n",
    "\n",
    "\n",
    "num_round = 5000\n",
    "stopping = 20\n",
    "bst = xgb.train(param, dtrain, num_round, evals=[(dtrain, \"train\"), (dtest, \"test\")], early_stopping_rounds=stopping)\n",
    "# make prediction\n",
    "#preds = bst.predict(dtest)\n",
    "#Stopping. Best iteration:\n",
    "#[360]\ttrain-rmse:67651\ttest-rmse:69665.3a"
   ]
  },
  {
   "cell_type": "markdown",
   "metadata": {},
   "source": [
    "---"
   ]
  },
  {
   "cell_type": "markdown",
   "metadata": {},
   "source": [
    "# Prueba con 1 modelo y todos los datos"
   ]
  },
  {
   "cell_type": "code",
   "execution_count": 27,
   "metadata": {},
   "outputs": [],
   "source": [
    "f1 = pd.read_pickle(\"../../features/auctions_train_ventana_3.pkl\")\n",
    "f2 = pd.read_pickle(\"../../features/clicks_train_ventana_3.pkl\")\n",
    "f3 = pd.read_pickle(\"../../features/events_train_ventana_3.pkl\")"
   ]
  },
  {
   "cell_type": "code",
   "execution_count": 28,
   "metadata": {},
   "outputs": [],
   "source": [
    "magifeatures = f2.dropna().merge(f1, left_index=True, right_index=True).merge(f3, left_index=True, right_index=True)\n",
    "magitargets = pd.read_pickle(\"../../targets/targets_ventana_3_auctions.pkl\")\n",
    "magitrain = magifeatures.merge(magitargets, left_index=True, right_index=True)"
   ]
  },
  {
   "cell_type": "code",
   "execution_count": 30,
   "metadata": {},
   "outputs": [
    {
     "name": "stdout",
     "output_type": "stream",
     "text": [
      "RMSE: 76447.4360291326\n"
     ]
    },
    {
     "data": {
      "image/png": "[encoded data removed]",
      "text/plain": [
       "<Figure size 432x288 with 1 Axes>"
      ]
     },
     "metadata": {},
     "output_type": "display_data"
    }
   ],
   "source": [
    "from xgboost import XGBRegressor, plot_importance\n",
    "from matplotlib import pyplot\n",
    "from sklearn.model_selection import train_test_split\n",
    "from sklearn.metrics import mean_squared_error\n",
    "from sklearn.feature_selection import SelectFromModel\n",
    "from math import sqrt\n",
    "\n",
    "X, y = magitrain.iloc[:,:-1], magitrain.iloc[:,-1]\n",
    "X_train, X_test, y_train, y_test = \\\n",
    "    train_test_split(X, y, test_size=0.33, random_state=4)\n",
    "\n",
    "# fit model on all training data\n",
    "model = XGBRegressor()\n",
    "model.fit(X_train, y_train)\n",
    "# make predictions for test data and evaluate\n",
    "y_pred = model.predict(X_test)\n",
    "\n",
    "rmse = mean_squared_error(y_test, y_pred)\n",
    "print(\"RMSE: {}\".format(sqrt(rmse)))\n",
    "\n",
    "plot_importance(model, max_num_features=20)\n",
    "pyplot.show()"
   ]
  },
  {
   "cell_type": "code",
   "execution_count": 36,
   "metadata": {},
   "outputs": [
    {
     "name": "stdout",
     "output_type": "stream",
     "text": [
      "[0]\ttrain-rmse:118467\ttest-rmse:120787\n",
      "Multiple eval metrics have been passed: 'test-rmse' will be used for early stopping.\n",
      "\n",
      "Will train until test-rmse hasn't improved in 20 rounds.\n",
      "[1]\ttrain-rmse:117692\ttest-rmse:120171\n",
      "[2]\ttrain-rmse:116919\ttest-rmse:119552\n",
      "[3]\ttrain-rmse:116163\ttest-rmse:118946\n",
      "[4]\ttrain-rmse:115412\ttest-rmse:118361\n",
      "[5]\ttrain-rmse:114668\ttest-rmse:117784\n",
      "[6]\ttrain-rmse:113940\ttest-rmse:117199\n",
      "[7]\ttrain-rmse:113214\ttest-rmse:116654\n",
      "[8]\ttrain-rmse:112502\ttest-rmse:116101\n",
      "[9]\ttrain-rmse:111787\ttest-rmse:115520\n",
      "[10]\ttrain-rmse:111088\ttest-rmse:115002\n",
      "[11]\ttrain-rmse:110399\ttest-rmse:114466\n",
      "[12]\ttrain-rmse:109715\ttest-rmse:113950\n",
      "[13]\ttrain-rmse:109038\ttest-rmse:113442\n",
      "[14]\ttrain-rmse:108371\ttest-rmse:112926\n",
      "[15]\ttrain-rmse:107706\ttest-rmse:112419\n",
      "[16]\ttrain-rmse:107053\ttest-rmse:111935\n",
      "[17]\ttrain-rmse:106417\ttest-rmse:111428\n",
      "[18]\ttrain-rmse:105753\ttest-rmse:110907\n",
      "[19]\ttrain-rmse:105119\ttest-rmse:110442\n",
      "[20]\ttrain-rmse:104508\ttest-rmse:109932\n",
      "[21]\ttrain-rmse:103874\ttest-rmse:109444\n",
      "[22]\ttrain-rmse:103251\ttest-rmse:108949\n",
      "[23]\ttrain-rmse:102633\ttest-rmse:108483\n",
      "[24]\ttrain-rmse:102020\ttest-rmse:108001\n",
      "[25]\ttrain-rmse:101420\ttest-rmse:107531\n",
      "[26]\ttrain-rmse:100818\ttest-rmse:107076\n",
      "[27]\ttrain-rmse:100228\ttest-rmse:106611\n",
      "[28]\ttrain-rmse:99643.5\ttest-rmse:106155\n",
      "[29]\ttrain-rmse:99057\ttest-rmse:105723\n",
      "[30]\ttrain-rmse:98487.2\ttest-rmse:105285\n",
      "[31]\ttrain-rmse:97924.3\ttest-rmse:104845\n",
      "[32]\ttrain-rmse:97369.7\ttest-rmse:104415\n",
      "[33]\ttrain-rmse:96819.7\ttest-rmse:104001\n",
      "[34]\ttrain-rmse:96277.7\ttest-rmse:103583\n",
      "[35]\ttrain-rmse:95747.9\ttest-rmse:103196\n",
      "[36]\ttrain-rmse:95226.9\ttest-rmse:102811\n",
      "[37]\ttrain-rmse:94698.4\ttest-rmse:102416\n",
      "[38]\ttrain-rmse:94181.2\ttest-rmse:102029\n",
      "[39]\ttrain-rmse:93663.1\ttest-rmse:101658\n",
      "[40]\ttrain-rmse:93157.3\ttest-rmse:101277\n",
      "[41]\ttrain-rmse:92659.2\ttest-rmse:100900\n",
      "[42]\ttrain-rmse:92162.8\ttest-rmse:100544\n",
      "[43]\ttrain-rmse:91675.4\ttest-rmse:100186\n",
      "[44]\ttrain-rmse:91190.9\ttest-rmse:99858.3\n",
      "[45]\ttrain-rmse:90710.7\ttest-rmse:99534.8\n",
      "[46]\ttrain-rmse:90245.3\ttest-rmse:99201.9\n",
      "[47]\ttrain-rmse:89769.6\ttest-rmse:98864.4\n",
      "[48]\ttrain-rmse:89313.3\ttest-rmse:98546.5\n",
      "[49]\ttrain-rmse:88854.4\ttest-rmse:98221.9\n",
      "[50]\ttrain-rmse:88411.3\ttest-rmse:97910.1\n",
      "[51]\ttrain-rmse:87962.4\ttest-rmse:97595.4\n",
      "[52]\ttrain-rmse:87520.1\ttest-rmse:97297.1\n",
      "[53]\ttrain-rmse:87081\ttest-rmse:96990.4\n",
      "[54]\ttrain-rmse:86649.4\ttest-rmse:96704.5\n",
      "[55]\ttrain-rmse:86224\ttest-rmse:96432.4\n",
      "[56]\ttrain-rmse:85795.3\ttest-rmse:96139.8\n",
      "[57]\ttrain-rmse:85375.2\ttest-rmse:95860.3\n",
      "[58]\ttrain-rmse:84964\ttest-rmse:95584.5\n",
      "[59]\ttrain-rmse:84560.9\ttest-rmse:95338.5\n",
      "[60]\ttrain-rmse:84150.4\ttest-rmse:95034\n",
      "[61]\ttrain-rmse:83746\ttest-rmse:94758.8\n",
      "[62]\ttrain-rmse:83345.2\ttest-rmse:94477.8\n",
      "[63]\ttrain-rmse:82954.3\ttest-rmse:94219.9\n",
      "[64]\ttrain-rmse:82569.9\ttest-rmse:93945.8\n",
      "[65]\ttrain-rmse:82181.1\ttest-rmse:93695.3\n",
      "[66]\ttrain-rmse:81799.1\ttest-rmse:93423.4\n",
      "[67]\ttrain-rmse:81432.7\ttest-rmse:93190.2\n",
      "[68]\ttrain-rmse:81063.6\ttest-rmse:92949.2\n",
      "[69]\ttrain-rmse:80696.6\ttest-rmse:92713.1\n",
      "[70]\ttrain-rmse:80333.3\ttest-rmse:92492.7\n",
      "[71]\ttrain-rmse:79975.3\ttest-rmse:92263.9\n",
      "[72]\ttrain-rmse:79626.6\ttest-rmse:92056.2\n",
      "[73]\ttrain-rmse:79274.2\ttest-rmse:91826.1\n",
      "[74]\ttrain-rmse:78928.2\ttest-rmse:91598.9\n",
      "[75]\ttrain-rmse:78586.2\ttest-rmse:91392.3\n",
      "[76]\ttrain-rmse:78243.9\ttest-rmse:91174.9\n",
      "[77]\ttrain-rmse:77897.9\ttest-rmse:90938.3\n",
      "[78]\ttrain-rmse:77572\ttest-rmse:90744.6\n",
      "[79]\ttrain-rmse:77233.5\ttest-rmse:90544.1\n",
      "[80]\ttrain-rmse:76904.6\ttest-rmse:90338.3\n",
      "[81]\ttrain-rmse:76574.5\ttest-rmse:90110.6\n",
      "[82]\ttrain-rmse:76262.1\ttest-rmse:89937.3\n",
      "[83]\ttrain-rmse:75947.2\ttest-rmse:89745\n",
      "[84]\ttrain-rmse:75646.4\ttest-rmse:89565.9\n",
      "[85]\ttrain-rmse:75329.1\ttest-rmse:89384.6\n",
      "[86]\ttrain-rmse:75031.1\ttest-rmse:89220.8\n",
      "[87]\ttrain-rmse:74741.1\ttest-rmse:89048.9\n",
      "[88]\ttrain-rmse:74439.5\ttest-rmse:88884.5\n",
      "[89]\ttrain-rmse:74131\ttest-rmse:88674.4\n",
      "[90]\ttrain-rmse:73825\ttest-rmse:88505.9\n",
      "[91]\ttrain-rmse:73548.5\ttest-rmse:88351.9\n",
      "[92]\ttrain-rmse:73249\ttest-rmse:88187.1\n",
      "[93]\ttrain-rmse:72951.1\ttest-rmse:88024.9\n",
      "[94]\ttrain-rmse:72689.6\ttest-rmse:87890.3\n",
      "[95]\ttrain-rmse:72404.3\ttest-rmse:87727.5\n",
      "[96]\ttrain-rmse:72122.2\ttest-rmse:87562.5\n",
      "[97]\ttrain-rmse:71843.8\ttest-rmse:87413.5\n",
      "[98]\ttrain-rmse:71558.5\ttest-rmse:87256.4\n",
      "[99]\ttrain-rmse:71274.5\ttest-rmse:87099.4\n",
      "[100]\ttrain-rmse:70999\ttest-rmse:86957.2\n",
      "[101]\ttrain-rmse:70722.9\ttest-rmse:86806.5\n",
      "[102]\ttrain-rmse:70449.8\ttest-rmse:86679.8\n",
      "[103]\ttrain-rmse:70182\ttest-rmse:86538.4\n",
      "[104]\ttrain-rmse:69920.5\ttest-rmse:86417.1\n",
      "[105]\ttrain-rmse:69672\ttest-rmse:86272\n",
      "[106]\ttrain-rmse:69415\ttest-rmse:86145.6\n",
      "[107]\ttrain-rmse:69169.6\ttest-rmse:86009.7\n",
      "[108]\ttrain-rmse:68919.2\ttest-rmse:85880\n",
      "[109]\ttrain-rmse:68676.5\ttest-rmse:85755.9\n",
      "[110]\ttrain-rmse:68439.2\ttest-rmse:85638.7\n",
      "[111]\ttrain-rmse:68202.2\ttest-rmse:85514.9\n",
      "[112]\ttrain-rmse:67960.1\ttest-rmse:85390.9\n",
      "[113]\ttrain-rmse:67727.6\ttest-rmse:85273.6\n",
      "[114]\ttrain-rmse:67495.4\ttest-rmse:85147.2\n",
      "[115]\ttrain-rmse:67250.9\ttest-rmse:85015.9\n",
      "[116]\ttrain-rmse:67026.1\ttest-rmse:84916.5\n",
      "[117]\ttrain-rmse:66799.5\ttest-rmse:84800.5\n",
      "[118]\ttrain-rmse:66557.6\ttest-rmse:84679.5\n",
      "[119]\ttrain-rmse:66328.9\ttest-rmse:84559.4\n",
      "[120]\ttrain-rmse:66102\ttest-rmse:84478.2\n",
      "[121]\ttrain-rmse:65884.9\ttest-rmse:84400.6\n",
      "[122]\ttrain-rmse:65674.5\ttest-rmse:84307.5\n",
      "[123]\ttrain-rmse:65478.3\ttest-rmse:84229.9\n",
      "[124]\ttrain-rmse:65260.3\ttest-rmse:84163.5\n",
      "[125]\ttrain-rmse:65053.1\ttest-rmse:84063.9\n",
      "[126]\ttrain-rmse:64863.5\ttest-rmse:83997.3\n",
      "[127]\ttrain-rmse:64662.5\ttest-rmse:83925.5\n",
      "[128]\ttrain-rmse:64457.8\ttest-rmse:83840.5\n",
      "[129]\ttrain-rmse:64256.2\ttest-rmse:83773.4\n",
      "[130]\ttrain-rmse:64068.5\ttest-rmse:83718.2\n",
      "[131]\ttrain-rmse:63877.1\ttest-rmse:83639.8\n",
      "[132]\ttrain-rmse:63682.2\ttest-rmse:83563.3\n",
      "[133]\ttrain-rmse:63506.8\ttest-rmse:83507.4\n",
      "[134]\ttrain-rmse:63299.1\ttest-rmse:83412.7\n",
      "[135]\ttrain-rmse:63116.5\ttest-rmse:83341.2\n",
      "[136]\ttrain-rmse:62930.6\ttest-rmse:83254.7\n",
      "[137]\ttrain-rmse:62756.4\ttest-rmse:83191\n",
      "[138]\ttrain-rmse:62559.3\ttest-rmse:83104.5\n",
      "[139]\ttrain-rmse:62387.6\ttest-rmse:83020.8\n",
      "[140]\ttrain-rmse:62197\ttest-rmse:82934.1\n",
      "[141]\ttrain-rmse:62006\ttest-rmse:82851.6\n",
      "[142]\ttrain-rmse:61830.1\ttest-rmse:82771.1\n",
      "[143]\ttrain-rmse:61645.7\ttest-rmse:82691.6\n",
      "[144]\ttrain-rmse:61477.7\ttest-rmse:82641.9\n",
      "[145]\ttrain-rmse:61317\ttest-rmse:82607.2\n",
      "[146]\ttrain-rmse:61136.1\ttest-rmse:82525.8\n",
      "[147]\ttrain-rmse:60971.7\ttest-rmse:82466.9\n",
      "[148]\ttrain-rmse:60791.9\ttest-rmse:82404.5\n",
      "[149]\ttrain-rmse:60624.1\ttest-rmse:82361.2\n",
      "[150]\ttrain-rmse:60443.2\ttest-rmse:82286.4\n",
      "[151]\ttrain-rmse:60292\ttest-rmse:82218.4\n",
      "[152]\ttrain-rmse:60099.6\ttest-rmse:82175.6\n",
      "[153]\ttrain-rmse:59919.9\ttest-rmse:82099.1\n",
      "[154]\ttrain-rmse:59774.5\ttest-rmse:82058.9\n",
      "[155]\ttrain-rmse:59612.5\ttest-rmse:82000.7\n",
      "[156]\ttrain-rmse:59425.5\ttest-rmse:81935.3\n",
      "[157]\ttrain-rmse:59276.1\ttest-rmse:81886.8\n",
      "[158]\ttrain-rmse:59106.4\ttest-rmse:81827.1\n",
      "[159]\ttrain-rmse:58950.1\ttest-rmse:81780.4\n",
      "[160]\ttrain-rmse:58803.6\ttest-rmse:81759.6\n",
      "[161]\ttrain-rmse:58668.4\ttest-rmse:81708.7\n",
      "[162]\ttrain-rmse:58526.7\ttest-rmse:81647.7\n",
      "[163]\ttrain-rmse:58383.9\ttest-rmse:81576\n",
      "[164]\ttrain-rmse:58240.6\ttest-rmse:81532.6\n",
      "[165]\ttrain-rmse:58105.7\ttest-rmse:81491.8\n",
      "[166]\ttrain-rmse:57961.9\ttest-rmse:81453.5\n",
      "[167]\ttrain-rmse:57836.7\ttest-rmse:81397.4\n",
      "[168]\ttrain-rmse:57690\ttest-rmse:81346\n",
      "[169]\ttrain-rmse:57535.8\ttest-rmse:81302.4\n",
      "[170]\ttrain-rmse:57407.5\ttest-rmse:81289\n",
      "[171]\ttrain-rmse:57269.1\ttest-rmse:81246.7\n",
      "[172]\ttrain-rmse:57139.5\ttest-rmse:81193.5\n",
      "[173]\ttrain-rmse:57026.6\ttest-rmse:81155.2\n",
      "[174]\ttrain-rmse:56898.1\ttest-rmse:81128.6\n",
      "[175]\ttrain-rmse:56751.3\ttest-rmse:81089.8\n",
      "[176]\ttrain-rmse:56617.4\ttest-rmse:81045.8\n",
      "[177]\ttrain-rmse:56476.3\ttest-rmse:81010\n",
      "[178]\ttrain-rmse:56383.8\ttest-rmse:80974.8\n",
      "[179]\ttrain-rmse:56272.7\ttest-rmse:80931.7\n",
      "[180]\ttrain-rmse:56157.4\ttest-rmse:80877.8\n",
      "[181]\ttrain-rmse:56022.3\ttest-rmse:80827.5\n",
      "[182]\ttrain-rmse:55892.1\ttest-rmse:80791.6\n",
      "[183]\ttrain-rmse:55805\ttest-rmse:80761.9\n",
      "[184]\ttrain-rmse:55694.4\ttest-rmse:80733.7\n",
      "[185]\ttrain-rmse:55581.6\ttest-rmse:80700.3\n",
      "[186]\ttrain-rmse:55495.3\ttest-rmse:80674.5\n",
      "[187]\ttrain-rmse:55381.5\ttest-rmse:80619.7\n",
      "[188]\ttrain-rmse:55267.4\ttest-rmse:80595.6\n",
      "[189]\ttrain-rmse:55156.2\ttest-rmse:80542.6\n",
      "[190]\ttrain-rmse:55044.4\ttest-rmse:80513.2\n",
      "[191]\ttrain-rmse:54930.9\ttest-rmse:80495.2\n",
      "[192]\ttrain-rmse:54821.6\ttest-rmse:80466.9\n",
      "[193]\ttrain-rmse:54716.9\ttest-rmse:80440.4\n",
      "[194]\ttrain-rmse:54612.2\ttest-rmse:80409.3\n",
      "[195]\ttrain-rmse:54504.3\ttest-rmse:80392.1\n",
      "[196]\ttrain-rmse:54402.3\ttest-rmse:80365.5\n",
      "[197]\ttrain-rmse:54293.6\ttest-rmse:80354\n",
      "[198]\ttrain-rmse:54196.2\ttest-rmse:80304.5\n",
      "[199]\ttrain-rmse:54107\ttest-rmse:80282.8\n",
      "[200]\ttrain-rmse:54010.4\ttest-rmse:80235.2\n",
      "[201]\ttrain-rmse:53905.7\ttest-rmse:80225.9\n",
      "[202]\ttrain-rmse:53811.3\ttest-rmse:80179.9\n",
      "[203]\ttrain-rmse:53719.6\ttest-rmse:80129.8\n",
      "[204]\ttrain-rmse:53632.8\ttest-rmse:80105.1\n",
      "[205]\ttrain-rmse:53540\ttest-rmse:80061.1\n",
      "[206]\ttrain-rmse:53440.2\ttest-rmse:80036\n",
      "[207]\ttrain-rmse:53347\ttest-rmse:80012.9\n",
      "[208]\ttrain-rmse:53256.8\ttest-rmse:79968.5\n",
      "[209]\ttrain-rmse:53140.7\ttest-rmse:79960.3\n",
      "[210]\ttrain-rmse:53050.7\ttest-rmse:79943.1\n",
      "[211]\ttrain-rmse:52960\ttest-rmse:79921\n",
      "[212]\ttrain-rmse:52873\ttest-rmse:79890.2\n",
      "[213]\ttrain-rmse:52783.6\ttest-rmse:79855.9\n",
      "[214]\ttrain-rmse:52698.6\ttest-rmse:79826.1\n",
      "[215]\ttrain-rmse:52626.5\ttest-rmse:79809.9\n",
      "[216]\ttrain-rmse:52543.3\ttest-rmse:79781.2\n",
      "[217]\ttrain-rmse:52464.3\ttest-rmse:79754.9\n",
      "[218]\ttrain-rmse:52383\ttest-rmse:79722.5\n",
      "[219]\ttrain-rmse:52313.5\ttest-rmse:79708.3\n",
      "[220]\ttrain-rmse:52233.9\ttest-rmse:79681.5\n",
      "[221]\ttrain-rmse:52158\ttest-rmse:79654.2\n",
      "[222]\ttrain-rmse:52074.7\ttest-rmse:79621.3\n",
      "[223]\ttrain-rmse:52007.5\ttest-rmse:79608.6\n",
      "[224]\ttrain-rmse:51926\ttest-rmse:79570.8\n",
      "[225]\ttrain-rmse:51840.3\ttest-rmse:79536.7\n",
      "[226]\ttrain-rmse:51775.1\ttest-rmse:79522.7\n",
      "[227]\ttrain-rmse:51697.2\ttest-rmse:79505.7\n",
      "[228]\ttrain-rmse:51633.4\ttest-rmse:79494.5\n",
      "[229]\ttrain-rmse:51562.5\ttest-rmse:79469.4\n",
      "[230]\ttrain-rmse:51497.3\ttest-rmse:79455.1\n",
      "[231]\ttrain-rmse:51416.5\ttest-rmse:79416.5\n",
      "[232]\ttrain-rmse:51341.9\ttest-rmse:79399\n",
      "[233]\ttrain-rmse:51278\ttest-rmse:79382.6\n",
      "[234]\ttrain-rmse:51172.3\ttest-rmse:79353.9\n",
      "[235]\ttrain-rmse:51103.2\ttest-rmse:79336.4\n",
      "[236]\ttrain-rmse:51037\ttest-rmse:79318.6\n",
      "[237]\ttrain-rmse:50969.6\ttest-rmse:79297.2\n",
      "[238]\ttrain-rmse:50866.7\ttest-rmse:79272.2\n",
      "[239]\ttrain-rmse:50792.9\ttest-rmse:79257.2\n",
      "[240]\ttrain-rmse:50696\ttest-rmse:79247.2\n",
      "[241]\ttrain-rmse:50623.7\ttest-rmse:79229.5\n",
      "[242]\ttrain-rmse:50559.2\ttest-rmse:79214.6\n",
      "[243]\ttrain-rmse:50460.2\ttest-rmse:79194.3\n",
      "[244]\ttrain-rmse:50397.8\ttest-rmse:79174.9\n",
      "[245]\ttrain-rmse:50304.7\ttest-rmse:79166.4\n",
      "[246]\ttrain-rmse:50241.5\ttest-rmse:79155.2\n",
      "[247]\ttrain-rmse:50166.2\ttest-rmse:79120\n",
      "[248]\ttrain-rmse:50106.1\ttest-rmse:79099.6\n",
      "[249]\ttrain-rmse:50040.2\ttest-rmse:79096.3\n",
      "[250]\ttrain-rmse:49937.6\ttest-rmse:79078.9\n",
      "[251]\ttrain-rmse:49881.7\ttest-rmse:79063.9\n",
      "[252]\ttrain-rmse:49802.7\ttest-rmse:79049.7\n",
      "[253]\ttrain-rmse:49744.3\ttest-rmse:79036.3\n",
      "[254]\ttrain-rmse:49687.6\ttest-rmse:79021\n",
      "[255]\ttrain-rmse:49616.5\ttest-rmse:79015.3\n",
      "[256]\ttrain-rmse:49528.5\ttest-rmse:79010\n",
      "[257]\ttrain-rmse:49478.5\ttest-rmse:79004.6\n",
      "[258]\ttrain-rmse:49423.6\ttest-rmse:78992\n",
      "[259]\ttrain-rmse:49347.9\ttest-rmse:78990.7\n",
      "[260]\ttrain-rmse:49299\ttest-rmse:78985.6\n",
      "[261]\ttrain-rmse:49247.2\ttest-rmse:78965.9\n",
      "[262]\ttrain-rmse:49164.9\ttest-rmse:78961.2\n",
      "[263]\ttrain-rmse:49117.2\ttest-rmse:78959.1\n",
      "[264]\ttrain-rmse:49027.3\ttest-rmse:78967.2\n",
      "[265]\ttrain-rmse:48957.5\ttest-rmse:78979.2\n",
      "[266]\ttrain-rmse:48912.6\ttest-rmse:78973.7\n",
      "[267]\ttrain-rmse:48848.4\ttest-rmse:78955.8\n",
      "[268]\ttrain-rmse:48804.4\ttest-rmse:78954.5\n",
      "[269]\ttrain-rmse:48730.2\ttest-rmse:78948.3\n",
      "[270]\ttrain-rmse:48680.3\ttest-rmse:78946.2\n",
      "[271]\ttrain-rmse:48606.1\ttest-rmse:78950.3\n",
      "[272]\ttrain-rmse:48554.5\ttest-rmse:78951.8\n",
      "[273]\ttrain-rmse:48511.8\ttest-rmse:78950.7\n",
      "[274]\ttrain-rmse:48469.7\ttest-rmse:78946.7\n",
      "[275]\ttrain-rmse:48396.8\ttest-rmse:78947.7\n",
      "[276]\ttrain-rmse:48325.5\ttest-rmse:78944.3\n",
      "[277]\ttrain-rmse:48284.4\ttest-rmse:78940.8\n",
      "[278]\ttrain-rmse:48218.8\ttest-rmse:78929.4\n",
      "[279]\ttrain-rmse:48150.6\ttest-rmse:78914.1\n",
      "[280]\ttrain-rmse:48110.7\ttest-rmse:78910.1\n",
      "[281]\ttrain-rmse:48048.6\ttest-rmse:78908\n",
      "[282]\ttrain-rmse:47963.5\ttest-rmse:78876.3\n",
      "[283]\ttrain-rmse:47879.8\ttest-rmse:78854.1\n",
      "[284]\ttrain-rmse:47816.8\ttest-rmse:78842.8\n",
      "[285]\ttrain-rmse:47754.9\ttest-rmse:78831.9\n",
      "[286]\ttrain-rmse:47691.3\ttest-rmse:78825.6\n",
      "[287]\ttrain-rmse:47661.2\ttest-rmse:78816.6\n",
      "[288]\ttrain-rmse:47608.2\ttest-rmse:78813\n",
      "[289]\ttrain-rmse:47570.8\ttest-rmse:78813.6\n",
      "[290]\ttrain-rmse:47511.5\ttest-rmse:78803.8\n",
      "[291]\ttrain-rmse:47468.7\ttest-rmse:78791.6\n",
      "[292]\ttrain-rmse:47426.4\ttest-rmse:78794.6\n",
      "[293]\ttrain-rmse:47384.8\ttest-rmse:78790.1\n",
      "[294]\ttrain-rmse:47356\ttest-rmse:78795.3\n",
      "[295]\ttrain-rmse:47310.4\ttest-rmse:78785.8\n",
      "[296]\ttrain-rmse:47274.9\ttest-rmse:78786.2\n",
      "[297]\ttrain-rmse:47236.9\ttest-rmse:78792.8\n",
      "[298]\ttrain-rmse:47186.8\ttest-rmse:78791.2\n",
      "[299]\ttrain-rmse:47140.7\ttest-rmse:78789.8\n",
      "[300]\ttrain-rmse:47091.7\ttest-rmse:78788.5\n",
      "[301]\ttrain-rmse:47052.2\ttest-rmse:78788.7\n",
      "[302]\ttrain-rmse:47015.5\ttest-rmse:78795.8\n",
      "[303]\ttrain-rmse:46971.7\ttest-rmse:78794.5\n",
      "[304]\ttrain-rmse:46924.1\ttest-rmse:78799\n",
      "[305]\ttrain-rmse:46869.2\ttest-rmse:78788.9\n",
      "[306]\ttrain-rmse:46834.7\ttest-rmse:78789.7\n",
      "[307]\ttrain-rmse:46787.2\ttest-rmse:78790\n",
      "[308]\ttrain-rmse:46733.5\ttest-rmse:78780.4\n",
      "[309]\ttrain-rmse:46700\ttest-rmse:78777.9\n",
      "[310]\ttrain-rmse:46660\ttest-rmse:78779.2\n",
      "[311]\ttrain-rmse:46618.3\ttest-rmse:78775.2\n",
      "[312]\ttrain-rmse:46565.9\ttest-rmse:78766.1\n",
      "[313]\ttrain-rmse:46522.6\ttest-rmse:78764.1\n",
      "[314]\ttrain-rmse:46485.2\ttest-rmse:78771.2\n",
      "[315]\ttrain-rmse:46433.8\ttest-rmse:78762.9\n",
      "[316]\ttrain-rmse:46401.6\ttest-rmse:78761\n",
      "[317]\ttrain-rmse:46370.3\ttest-rmse:78747.6\n",
      "[318]\ttrain-rmse:46326.1\ttest-rmse:78747.7\n",
      "[319]\ttrain-rmse:46295.3\ttest-rmse:78734.8\n",
      "[320]\ttrain-rmse:46268.5\ttest-rmse:78728.7\n",
      "[321]\ttrain-rmse:46232.7\ttest-rmse:78730.9\n",
      "[322]\ttrain-rmse:46194.1\ttest-rmse:78726.9\n",
      "[323]\ttrain-rmse:46160.8\ttest-rmse:78725.2\n",
      "[324]\ttrain-rmse:46125.8\ttest-rmse:78727.6\n",
      "[325]\ttrain-rmse:46093\ttest-rmse:78726.2\n",
      "[326]\ttrain-rmse:46055.2\ttest-rmse:78725.4\n",
      "[327]\ttrain-rmse:46026.2\ttest-rmse:78732.7\n",
      "[328]\ttrain-rmse:45994\ttest-rmse:78731.7\n",
      "[329]\ttrain-rmse:45968.9\ttest-rmse:78726.2\n",
      "[330]\ttrain-rmse:45940.4\ttest-rmse:78733.7\n",
      "[331]\ttrain-rmse:45909.1\ttest-rmse:78733.2\n",
      "[332]\ttrain-rmse:45842.4\ttest-rmse:78728.4\n",
      "[333]\ttrain-rmse:45802.4\ttest-rmse:78733\n",
      "[334]\ttrain-rmse:45771.8\ttest-rmse:78732.5\n",
      "[335]\ttrain-rmse:45744\ttest-rmse:78740.2\n",
      "[336]\ttrain-rmse:45713.8\ttest-rmse:78741.2\n",
      "[337]\ttrain-rmse:45674.7\ttest-rmse:78746.3\n",
      "[338]\ttrain-rmse:45641.8\ttest-rmse:78748.8\n",
      "[339]\ttrain-rmse:45612.2\ttest-rmse:78748.7\n",
      "[340]\ttrain-rmse:45588.7\ttest-rmse:78743.6\n",
      "[341]\ttrain-rmse:45561.7\ttest-rmse:78751.7\n",
      "[342]\ttrain-rmse:45544.7\ttest-rmse:78749.5\n",
      "[343]\ttrain-rmse:45480\ttest-rmse:78745.6\n",
      "Stopping. Best iteration:\n",
      "[323]\ttrain-rmse:46160.8\ttest-rmse:78725.2\n",
      "\n"
     ]
    }
   ],
   "source": [
    "X, y = magitrain.iloc[:,:-1], magitrain.iloc[:,-1]\n",
    "X_train, X_test, y_train, y_test = \\\n",
    "    train_test_split(X, y, test_size=0.2, random_state=0)\n",
    "\n",
    "dtrain = xgb.DMatrix(data=X_train, label=y_train)\n",
    "dtest = xgb.DMatrix(data=X_test, label=y_test)\n",
    "\n",
    "param = {'max_depth':6,\n",
    "         'eta':0.3,\n",
    "         'silent':1,\n",
    "         'objective':'reg:linear',\n",
    "         'eval_metric' : 'rmse',\n",
    "         'obj' : 'reg:squarederror',\n",
    "         'colsample_bytree' : 1,\n",
    "         'min_child_weight' : 0.5,\n",
    "         'random_state' : 0,\n",
    "         'reg_alpha' : 0,\n",
    "         'reg_lambda' : 1,\n",
    "         'scale_pos_weight' : 1,\n",
    "         'learning_rate' : 0.01}\n",
    "\n",
    "\n",
    "num_round = 5000\n",
    "stopping = 20\n",
    "bst = xgb.train(param, dtrain, num_round, evals=[(dtrain, \"train\"), (dtest, \"test\")], early_stopping_rounds=stopping)"
   ]
  },
  {
   "cell_type": "code",
   "execution_count": 32,
   "metadata": {},
   "outputs": [],
   "source": [
    "features = pd.read_pickle(\"../../features/auctions_train_ventana_1.pkl\")\n",
    "features_clicks = pd.read_pickle(\"../../features/clicks_train_ventana_1.pkl\")\n",
    "features.merge(features_clicks, right_index=True, left_index=True, how=\"left\", suffixes=('_auctions', '_clicks'))\n",
    "targets = pd.read_pickle(\"../../targets/targets_ventana_1_auctions.pkl\")\n",
    "train = features.merge(targets, left_index=True, right_index=True)\n",
    "\n",
    "features = pd.read_pickle(\"../../features/auctions_train_ventana_2.pkl\")\n",
    "features_clicks = pd.read_pickle(\"../../features/clicks_train_ventana_2.pkl\")\n",
    "features.merge(features_clicks, right_index=True, left_index=True,how=\"left\", suffixes=('_auctions', '_clicks'))\n",
    "targets = pd.read_pickle(\"../../targets/targets_ventana_2_auctions.pkl\")\n",
    "train = train.append(features.merge(targets, left_index=True, right_index=True))\n",
    "\n",
    "features = pd.read_pickle(\"../../features/auctions_train_ventana_3.pkl\")\n",
    "features_clicks = pd.read_pickle(\"../../features/clicks_train_ventana_3.pkl\")\n",
    "features.merge(features_clicks, right_index=True, left_index=True,how=\"left\", suffixes=('_auctions', '_clicks'))\n",
    "targets = pd.read_pickle(\"../../targets/targets_ventana_3_auctions.pkl\")\n",
    "train = train.append(features.merge(targets, left_index=True, right_index=True))\n",
    "\n",
    "features = pd.read_pickle(\"../../features/auctions_train_ventana_4.pkl\")\n",
    "features_clicks = pd.read_pickle(\"../../features/clicks_train_ventana_4.pkl\")\n",
    "features.merge(features_clicks, right_index=True, left_index=True,how=\"left\", suffixes=('_auctions', '_clicks'))\n",
    "targets = pd.read_pickle(\"../../targets/targets_ventana_4_auctions.pkl\")\n",
    "train = train.append(features.merge(targets, left_index=True, right_index=True))"
   ]
  },
  {
   "cell_type": "code",
   "execution_count": 13,
   "metadata": {},
   "outputs": [
    {
     "data": {
      "text/plain": [
       "1286041"
      ]
     },
     "execution_count": 13,
     "metadata": {},
     "output_type": "execute_result"
    }
   ],
   "source": [
    "len(train)"
   ]
  },
  {
   "cell_type": "code",
   "execution_count": 35,
   "metadata": {},
   "outputs": [
    {
     "name": "stdout",
     "output_type": "stream",
     "text": [
      "[0]\ttrain-rmse:148651\ttest-rmse:148586\n",
      "Multiple eval metrics have been passed: 'test-rmse' will be used for early stopping.\n",
      "\n",
      "Will train until test-rmse hasn't improved in 20 rounds.\n",
      "[1]\ttrain-rmse:139425\ttest-rmse:139387\n",
      "[2]\ttrain-rmse:131702\ttest-rmse:131681\n",
      "[3]\ttrain-rmse:124879\ttest-rmse:124884\n",
      "[4]\ttrain-rmse:119066\ttest-rmse:119095\n",
      "[5]\ttrain-rmse:114208\ttest-rmse:114256\n"
     ]
    },
    {
     "ename": "KeyboardInterrupt",
     "evalue": "",
     "output_type": "error",
     "traceback": [
      "\u001b[0;31m---------------------------------------------------------------------------\u001b[0m",
      "\u001b[0;31mKeyboardInterrupt\u001b[0m                         Traceback (most recent call last)",
      "\u001b[0;32m<ipython-input-35-42cd4b4de6ad>\u001b[0m in \u001b[0;36m<module>\u001b[0;34m()\u001b[0m\n\u001b[1;32m     23\u001b[0m \u001b[0mnum_round\u001b[0m \u001b[0;34m=\u001b[0m \u001b[0;36m5000\u001b[0m\u001b[0;34m\u001b[0m\u001b[0m\n\u001b[1;32m     24\u001b[0m \u001b[0mstopping\u001b[0m \u001b[0;34m=\u001b[0m \u001b[0;36m20\u001b[0m\u001b[0;34m\u001b[0m\u001b[0m\n\u001b[0;32m---> 25\u001b[0;31m \u001b[0mbst\u001b[0m \u001b[0;34m=\u001b[0m \u001b[0mxgb\u001b[0m\u001b[0;34m.\u001b[0m\u001b[0mtrain\u001b[0m\u001b[0;34m(\u001b[0m\u001b[0mparam\u001b[0m\u001b[0;34m,\u001b[0m \u001b[0mdtrain\u001b[0m\u001b[0;34m,\u001b[0m \u001b[0mnum_round\u001b[0m\u001b[0;34m,\u001b[0m \u001b[0mevals\u001b[0m\u001b[0;34m=\u001b[0m\u001b[0;34m[\u001b[0m\u001b[0;34m(\u001b[0m\u001b[0mdtrain\u001b[0m\u001b[0;34m,\u001b[0m \u001b[0;34m\"train\"\u001b[0m\u001b[0;34m)\u001b[0m\u001b[0;34m,\u001b[0m \u001b[0;34m(\u001b[0m\u001b[0mdtest\u001b[0m\u001b[0;34m,\u001b[0m \u001b[0;34m\"test\"\u001b[0m\u001b[0;34m)\u001b[0m\u001b[0;34m]\u001b[0m\u001b[0;34m,\u001b[0m \u001b[0mearly_stopping_rounds\u001b[0m\u001b[0;34m=\u001b[0m\u001b[0mstopping\u001b[0m\u001b[0;34m)\u001b[0m\u001b[0;34m\u001b[0m\u001b[0m\n\u001b[0m\u001b[1;32m     26\u001b[0m \u001b[0;31m#Stopping. Best iteration:\u001b[0m\u001b[0;34m\u001b[0m\u001b[0;34m\u001b[0m\u001b[0m\n\u001b[1;32m     27\u001b[0m \u001b[0;31m#[491]  train-rmse:87591.8      test-rmse:88927.6\u001b[0m\u001b[0;34m\u001b[0m\u001b[0;34m\u001b[0m\u001b[0m\n",
      "\u001b[0;32m/opt/anaconda/3/lib/python3.6/site-packages/xgboost/training.py\u001b[0m in \u001b[0;36mtrain\u001b[0;34m(params, dtrain, num_boost_round, evals, obj, feval, maximize, early_stopping_rounds, evals_result, verbose_eval, xgb_model, callbacks, learning_rates)\u001b[0m\n\u001b[1;32m    214\u001b[0m                            \u001b[0mevals\u001b[0m\u001b[0;34m=\u001b[0m\u001b[0mevals\u001b[0m\u001b[0;34m,\u001b[0m\u001b[0;34m\u001b[0m\u001b[0m\n\u001b[1;32m    215\u001b[0m                            \u001b[0mobj\u001b[0m\u001b[0;34m=\u001b[0m\u001b[0mobj\u001b[0m\u001b[0;34m,\u001b[0m \u001b[0mfeval\u001b[0m\u001b[0;34m=\u001b[0m\u001b[0mfeval\u001b[0m\u001b[0;34m,\u001b[0m\u001b[0;34m\u001b[0m\u001b[0m\n\u001b[0;32m--> 216\u001b[0;31m                            xgb_model=xgb_model, callbacks=callbacks)\n\u001b[0m\u001b[1;32m    217\u001b[0m \u001b[0;34m\u001b[0m\u001b[0m\n\u001b[1;32m    218\u001b[0m \u001b[0;34m\u001b[0m\u001b[0m\n",
      "\u001b[0;32m/opt/anaconda/3/lib/python3.6/site-packages/xgboost/training.py\u001b[0m in \u001b[0;36m_train_internal\u001b[0;34m(params, dtrain, num_boost_round, evals, obj, feval, xgb_model, callbacks)\u001b[0m\n\u001b[1;32m     72\u001b[0m         \u001b[0;31m# Skip the first update if it is a recovery step.\u001b[0m\u001b[0;34m\u001b[0m\u001b[0;34m\u001b[0m\u001b[0m\n\u001b[1;32m     73\u001b[0m         \u001b[0;32mif\u001b[0m \u001b[0mversion\u001b[0m \u001b[0;34m%\u001b[0m \u001b[0;36m2\u001b[0m \u001b[0;34m==\u001b[0m \u001b[0;36m0\u001b[0m\u001b[0;34m:\u001b[0m\u001b[0;34m\u001b[0m\u001b[0m\n\u001b[0;32m---> 74\u001b[0;31m             \u001b[0mbst\u001b[0m\u001b[0;34m.\u001b[0m\u001b[0mupdate\u001b[0m\u001b[0;34m(\u001b[0m\u001b[0mdtrain\u001b[0m\u001b[0;34m,\u001b[0m \u001b[0mi\u001b[0m\u001b[0;34m,\u001b[0m \u001b[0mobj\u001b[0m\u001b[0;34m)\u001b[0m\u001b[0;34m\u001b[0m\u001b[0m\n\u001b[0m\u001b[1;32m     75\u001b[0m             \u001b[0mbst\u001b[0m\u001b[0;34m.\u001b[0m\u001b[0msave_rabit_checkpoint\u001b[0m\u001b[0;34m(\u001b[0m\u001b[0;34m)\u001b[0m\u001b[0;34m\u001b[0m\u001b[0m\n\u001b[1;32m     76\u001b[0m             \u001b[0mversion\u001b[0m \u001b[0;34m+=\u001b[0m \u001b[0;36m1\u001b[0m\u001b[0;34m\u001b[0m\u001b[0m\n",
      "\u001b[0;32m/opt/anaconda/3/lib/python3.6/site-packages/xgboost/core.py\u001b[0m in \u001b[0;36mupdate\u001b[0;34m(self, dtrain, iteration, fobj)\u001b[0m\n\u001b[1;32m   1043\u001b[0m         \u001b[0;32mif\u001b[0m \u001b[0mfobj\u001b[0m \u001b[0;32mis\u001b[0m \u001b[0;32mNone\u001b[0m\u001b[0;34m:\u001b[0m\u001b[0;34m\u001b[0m\u001b[0m\n\u001b[1;32m   1044\u001b[0m             _check_call(_LIB.XGBoosterUpdateOneIter(self.handle, ctypes.c_int(iteration),\n\u001b[0;32m-> 1045\u001b[0;31m                                                     dtrain.handle))\n\u001b[0m\u001b[1;32m   1046\u001b[0m         \u001b[0;32melse\u001b[0m\u001b[0;34m:\u001b[0m\u001b[0;34m\u001b[0m\u001b[0m\n\u001b[1;32m   1047\u001b[0m             \u001b[0mpred\u001b[0m \u001b[0;34m=\u001b[0m \u001b[0mself\u001b[0m\u001b[0;34m.\u001b[0m\u001b[0mpredict\u001b[0m\u001b[0;34m(\u001b[0m\u001b[0mdtrain\u001b[0m\u001b[0;34m)\u001b[0m\u001b[0;34m\u001b[0m\u001b[0m\n",
      "\u001b[0;31mKeyboardInterrupt\u001b[0m: "
     ]
    }
   ],
   "source": [
    "X, y = train.iloc[:,:-1], train.iloc[:,-1]\n",
    "X_train, X_test, y_train, y_test = \\\n",
    "    train_test_split(X, y, test_size=0.2, random_state=0)\n",
    "\n",
    "dtrain = xgb.DMatrix(data=X_train, label=y_train)\n",
    "dtest = xgb.DMatrix(data=X_test, label=y_test)\n",
    "\n",
    "param = {'max_depth':6,\n",
    "         'eta':0.3,\n",
    "         'n_jobs' : 6,\n",
    "         'silent':1,\n",
    "         'objective':'reg:linear',\n",
    "         'eval_metric' : 'rmse',\n",
    "         'obj' : 'reg:squarederror',\n",
    "         'colsample_bytree' : 0.7,\n",
    "         'min_child_weight' : 0.5,\n",
    "         'random_state' : 0,\n",
    "         'reg_alpha' : 0,\n",
    "         'reg_lambda' : 1,\n",
    "         'scale_pos_weight' : 1,\n",
    "         'learning_rate' : 0.1}\n",
    "\n",
    "\n",
    "num_round = 5000\n",
    "stopping = 20\n",
    "bst = xgb.train(param, dtrain, num_round, evals=[(dtrain, \"train\"), (dtest, \"test\")], early_stopping_rounds=stopping)\n",
    "#Stopping. Best iteration:\n",
    "#[491]\ttrain-rmse:87591.8\ttest-rmse:88927.6"
   ]
  }
 ],
 "metadata": {
  "kernelspec": {
   "display_name": "Python 3",
   "language": "python",
   "name": "python3"
  },
  "language_info": {
   "codemirror_mode": {
    "name": "ipython",
    "version": 3
   },
   "file_extension": ".py",
   "mimetype": "text/x-python",
   "name": "python",
   "nbconvert_exporter": "python",
   "pygments_lexer": "ipython3",
   "version": "3.6.5"
  }
 },
 "nbformat": 4,
 "nbformat_minor": 2
}
