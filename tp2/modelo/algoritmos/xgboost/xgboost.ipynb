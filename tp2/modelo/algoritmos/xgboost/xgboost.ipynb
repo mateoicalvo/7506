{
 "cells": [
  {
   "cell_type": "markdown",
   "metadata": {},
   "source": [
    "# Imports"
   ]
  },
  {
   "cell_type": "code",
   "execution_count": 2,
   "metadata": {},
   "outputs": [],
   "source": [
    "import pandas as pd\n",
    "import numpy as np\n",
    "import xgboost as xgb\n",
    "from sklearn.model_selection import train_test_split\n",
    "from sklearn.metrics import mean_squared_error"
   ]
  },
  {
   "cell_type": "markdown",
   "metadata": {},
   "source": [
    "---"
   ]
  },
  {
   "cell_type": "markdown",
   "metadata": {},
   "source": [
    "# Carga de datos"
   ]
  },
  {
   "cell_type": "code",
   "execution_count": 1,
   "metadata": {},
   "outputs": [
    {
     "ename": "NameError",
     "evalue": "name 'pd' is not defined",
     "output_type": "error",
     "traceback": [
      "\u001b[0;31m---------------------------------------------------------------------------\u001b[0m",
      "\u001b[0;31mNameError\u001b[0m                                 Traceback (most recent call last)",
      "\u001b[0;32m<ipython-input-1-53fcd64e7aea>\u001b[0m in \u001b[0;36m<module>\u001b[0;34m()\u001b[0m\n\u001b[0;32m----> 1\u001b[0;31m \u001b[0mfeatures\u001b[0m \u001b[0;34m=\u001b[0m \u001b[0mpd\u001b[0m\u001b[0;34m.\u001b[0m\u001b[0mread_pickle\u001b[0m\u001b[0;34m(\u001b[0m\u001b[0;34m\"../../features/auctions_train_ventana_1.pkl\"\u001b[0m\u001b[0;34m)\u001b[0m\u001b[0;34m\u001b[0m\u001b[0m\n\u001b[0m\u001b[1;32m      2\u001b[0m \u001b[0mtargets\u001b[0m \u001b[0;34m=\u001b[0m \u001b[0mpd\u001b[0m\u001b[0;34m.\u001b[0m\u001b[0mread_pickle\u001b[0m\u001b[0;34m(\u001b[0m\u001b[0;34m\"../../targets/targets_ventana_1_auctions.pkl\"\u001b[0m\u001b[0;34m)\u001b[0m\u001b[0;34m\u001b[0m\u001b[0m\n\u001b[1;32m      3\u001b[0m \u001b[0mtrain\u001b[0m \u001b[0;34m=\u001b[0m \u001b[0mfeatures\u001b[0m\u001b[0;34m.\u001b[0m\u001b[0mmerge\u001b[0m\u001b[0;34m(\u001b[0m\u001b[0mtargets\u001b[0m\u001b[0;34m,\u001b[0m \u001b[0mleft_index\u001b[0m\u001b[0;34m=\u001b[0m\u001b[0;32mTrue\u001b[0m\u001b[0;34m,\u001b[0m \u001b[0mright_index\u001b[0m\u001b[0;34m=\u001b[0m\u001b[0;32mTrue\u001b[0m\u001b[0;34m)\u001b[0m\u001b[0;34m\u001b[0m\u001b[0m\n",
      "\u001b[0;31mNameError\u001b[0m: name 'pd' is not defined"
     ]
    }
   ],
   "source": [
    "features = pd.read_pickle(\"../../features/auctions_train_ventana_1.pkl\")\n",
    "targets = pd.read_pickle(\"../../targets/targets_ventana_1_auctions.pkl\")\n",
    "train = features.merge(targets, left_index=True, right_index=True)"
   ]
  },
  {
   "cell_type": "markdown",
   "metadata": {},
   "source": [
    "---"
   ]
  },
  {
   "cell_type": "markdown",
   "metadata": {},
   "source": [
    "# Preparación del set de datos para XGBoost"
   ]
  },
  {
   "cell_type": "code",
   "execution_count": 64,
   "metadata": {},
   "outputs": [],
   "source": [
    "X, y = train.iloc[:,:-1], train.iloc[:,-1]\n",
    "data_dmatrix = xgb.DMatrix(data=X,label=y)\n",
    "X_train, X_test, y_train, y_test = \\\n",
    "    train_test_split(X, y, test_size=0.2, random_state=123)"
   ]
  },
  {
   "cell_type": "code",
   "execution_count": 65,
   "metadata": {},
   "outputs": [],
   "source": [
    "xg_reg = xgb.XGBRegressor(colsample_bytree = 0.7, learning_rate = 1,\n",
    "                n_estimators = 100, n_jobs=6, max_depth=7, objective=\"reg:linear\")"
   ]
  },
  {
   "cell_type": "code",
   "execution_count": 66,
   "metadata": {},
   "outputs": [
    {
     "data": {
      "text/plain": [
       "XGBRegressor(base_score=0.5, booster='gbtree', colsample_bylevel=1,\n",
       "       colsample_bytree=0.7, gamma=0, learning_rate=1, max_delta_step=0,\n",
       "       max_depth=7, min_child_weight=1, missing=None, n_estimators=100,\n",
       "       n_jobs=6, nthread=None, objective='reg:linear', random_state=0,\n",
       "       reg_alpha=0, reg_lambda=1, scale_pos_weight=1, seed=None,\n",
       "       silent=True, subsample=1)"
      ]
     },
     "execution_count": 66,
     "metadata": {},
     "output_type": "execute_result"
    }
   ],
   "source": [
    "xg_reg.fit(X_train,y_train)"
   ]
  },
  {
   "cell_type": "code",
   "execution_count": 67,
   "metadata": {},
   "outputs": [
    {
     "name": "stdout",
     "output_type": "stream",
     "text": [
      "RMSE: 93545.206149\n"
     ]
    }
   ],
   "source": [
    "preds = xg_reg.predict(X_test)\n",
    "rmse = np.sqrt(mean_squared_error(y_test, preds))\n",
    "print(\"RMSE: %f\" % (rmse))"
   ]
  },
  {
   "cell_type": "markdown",
   "metadata": {},
   "source": [
    "---"
   ]
  },
  {
   "cell_type": "markdown",
   "metadata": {},
   "source": [
    "# Pruebas"
   ]
  },
  {
   "cell_type": "code",
   "execution_count": 72,
   "metadata": {},
   "outputs": [],
   "source": [
    "features_auctions = pd.read_pickle(\"../../features/auctions_train_ventana_4.pkl\")\n",
    "features_clicks = pd.read_pickle(\"../../features/clicks_train_ventana_4.pkl\")"
   ]
  },
  {
   "cell_type": "code",
   "execution_count": 50,
   "metadata": {},
   "outputs": [],
   "source": [
    "features_combinados_imputados = features_auctions.merge(features_clicks, how=\"left\", right_index=True, left_index=True, suffixes=('_auctions', '_clicks')).fillna(0)"
   ]
  },
  {
   "cell_type": "code",
   "execution_count": 47,
   "metadata": {},
   "outputs": [
    {
     "name": "stdout",
     "output_type": "stream",
     "text": [
      "[0]\ttrain-rmse:150595\ttest-rmse:150714\n",
      "Multiple eval metrics have been passed: 'test-rmse' will be used for early stopping.\n",
      "\n",
      "Will train until test-rmse hasn't improved in 20 rounds.\n",
      "[1]\ttrain-rmse:141099\ttest-rmse:141208\n",
      "[2]\ttrain-rmse:132886\ttest-rmse:132989\n",
      "[3]\ttrain-rmse:125832\ttest-rmse:125928\n",
      "[4]\ttrain-rmse:119802\ttest-rmse:119892\n",
      "[5]\ttrain-rmse:114669\ttest-rmse:114757\n",
      "[6]\ttrain-rmse:110320\ttest-rmse:110409\n",
      "[7]\ttrain-rmse:106662\ttest-rmse:106757\n",
      "[8]\ttrain-rmse:103594\ttest-rmse:103688\n",
      "[9]\ttrain-rmse:101024\ttest-rmse:101124\n",
      "[10]\ttrain-rmse:98887.3\ttest-rmse:98989.8\n",
      "[11]\ttrain-rmse:97098.2\ttest-rmse:97209.3\n",
      "[12]\ttrain-rmse:95627.9\ttest-rmse:95747.6\n",
      "[13]\ttrain-rmse:94405\ttest-rmse:94532.3\n",
      "[14]\ttrain-rmse:93400.2\ttest-rmse:93535.7\n",
      "[15]\ttrain-rmse:92565.4\ttest-rmse:92711.4\n",
      "[16]\ttrain-rmse:91874.7\ttest-rmse:92036.8\n",
      "[17]\ttrain-rmse:91309.1\ttest-rmse:91482.4\n",
      "[18]\ttrain-rmse:90837.1\ttest-rmse:91022.1\n",
      "[19]\ttrain-rmse:90451.3\ttest-rmse:90649\n",
      "[20]\ttrain-rmse:90129.2\ttest-rmse:90336.5\n",
      "[21]\ttrain-rmse:89864.9\ttest-rmse:90085.1\n",
      "[22]\ttrain-rmse:89640.1\ttest-rmse:89877.5\n",
      "[23]\ttrain-rmse:89448.3\ttest-rmse:89698\n",
      "[24]\ttrain-rmse:89289.4\ttest-rmse:89555.2\n",
      "[25]\ttrain-rmse:89158.1\ttest-rmse:89434.4\n",
      "[26]\ttrain-rmse:89043.4\ttest-rmse:89336.5\n",
      "[27]\ttrain-rmse:88950\ttest-rmse:89253.5\n",
      "[28]\ttrain-rmse:88866.4\ttest-rmse:89184.7\n",
      "[29]\ttrain-rmse:88795.4\ttest-rmse:89130.6\n",
      "[30]\ttrain-rmse:88732.5\ttest-rmse:89084.4\n",
      "[31]\ttrain-rmse:88675\ttest-rmse:89042.9\n",
      "[32]\ttrain-rmse:88626.4\ttest-rmse:89010.8\n",
      "[33]\ttrain-rmse:88581.1\ttest-rmse:88978.4\n",
      "[34]\ttrain-rmse:88542.2\ttest-rmse:88954.7\n",
      "[35]\ttrain-rmse:88504.5\ttest-rmse:88933.1\n",
      "[36]\ttrain-rmse:88469.9\ttest-rmse:88915\n",
      "[37]\ttrain-rmse:88438.4\ttest-rmse:88898.3\n",
      "[38]\ttrain-rmse:88409\ttest-rmse:88883.6\n",
      "[39]\ttrain-rmse:88383.4\ttest-rmse:88871.2\n",
      "[40]\ttrain-rmse:88359.4\ttest-rmse:88861.2\n",
      "[41]\ttrain-rmse:88337\ttest-rmse:88852\n",
      "[42]\ttrain-rmse:88313.9\ttest-rmse:88840.6\n",
      "[43]\ttrain-rmse:88292.1\ttest-rmse:88830.9\n",
      "[44]\ttrain-rmse:88269.3\ttest-rmse:88822.7\n",
      "[45]\ttrain-rmse:88251.4\ttest-rmse:88816.1\n",
      "[46]\ttrain-rmse:88228.8\ttest-rmse:88809.3\n",
      "[47]\ttrain-rmse:88206.9\ttest-rmse:88801.9\n",
      "[48]\ttrain-rmse:88191.2\ttest-rmse:88796.8\n",
      "[49]\ttrain-rmse:88174.6\ttest-rmse:88794.5\n",
      "[50]\ttrain-rmse:88151.1\ttest-rmse:88783.8\n",
      "[51]\ttrain-rmse:88135.9\ttest-rmse:88777.9\n",
      "[52]\ttrain-rmse:88120.7\ttest-rmse:88772.3\n",
      "[53]\ttrain-rmse:88107.7\ttest-rmse:88769\n",
      "[54]\ttrain-rmse:88092.2\ttest-rmse:88764.5\n",
      "[55]\ttrain-rmse:88076\ttest-rmse:88760.7\n",
      "[56]\ttrain-rmse:88061.2\ttest-rmse:88759.1\n",
      "[57]\ttrain-rmse:88041.8\ttest-rmse:88756.5\n",
      "[58]\ttrain-rmse:88025.5\ttest-rmse:88749.1\n",
      "[59]\ttrain-rmse:88008.1\ttest-rmse:88746.7\n",
      "[60]\ttrain-rmse:87994.2\ttest-rmse:88744.2\n",
      "[61]\ttrain-rmse:87979\ttest-rmse:88737.5\n",
      "[62]\ttrain-rmse:87965.8\ttest-rmse:88733.9\n",
      "[63]\ttrain-rmse:87954\ttest-rmse:88733.2\n",
      "[64]\ttrain-rmse:87942.1\ttest-rmse:88730.6\n",
      "[65]\ttrain-rmse:87931.2\ttest-rmse:88729.2\n",
      "[66]\ttrain-rmse:87919.3\ttest-rmse:88727.7\n",
      "[67]\ttrain-rmse:87907.2\ttest-rmse:88724.4\n",
      "[68]\ttrain-rmse:87896.3\ttest-rmse:88723\n",
      "[69]\ttrain-rmse:87885.3\ttest-rmse:88721.9\n",
      "[70]\ttrain-rmse:87873.6\ttest-rmse:88721.6\n",
      "[71]\ttrain-rmse:87861.9\ttest-rmse:88719.9\n",
      "[72]\ttrain-rmse:87845.2\ttest-rmse:88719.3\n",
      "[73]\ttrain-rmse:87834.3\ttest-rmse:88718.3\n",
      "[74]\ttrain-rmse:87824.1\ttest-rmse:88717.4\n",
      "[75]\ttrain-rmse:87810.9\ttest-rmse:88717.6\n",
      "[76]\ttrain-rmse:87801.3\ttest-rmse:88716.3\n",
      "[77]\ttrain-rmse:87790.9\ttest-rmse:88712.5\n",
      "[78]\ttrain-rmse:87781.2\ttest-rmse:88711.6\n",
      "[79]\ttrain-rmse:87768\ttest-rmse:88711.1\n",
      "[80]\ttrain-rmse:87756.6\ttest-rmse:88709.4\n",
      "[81]\ttrain-rmse:87749.7\ttest-rmse:88711.4\n",
      "[82]\ttrain-rmse:87741.3\ttest-rmse:88710.9\n",
      "[83]\ttrain-rmse:87730.9\ttest-rmse:88711.2\n",
      "[84]\ttrain-rmse:87720.7\ttest-rmse:88710.9\n",
      "[85]\ttrain-rmse:87705.8\ttest-rmse:88709.6\n",
      "[86]\ttrain-rmse:87698\ttest-rmse:88708.7\n",
      "[87]\ttrain-rmse:87690.3\ttest-rmse:88709.2\n",
      "[88]\ttrain-rmse:87676.5\ttest-rmse:88711.3\n",
      "[89]\ttrain-rmse:87664\ttest-rmse:88711.7\n",
      "[90]\ttrain-rmse:87658.7\ttest-rmse:88712.6\n",
      "[91]\ttrain-rmse:87649.7\ttest-rmse:88709.8\n",
      "[92]\ttrain-rmse:87637.3\ttest-rmse:88709.4\n",
      "[93]\ttrain-rmse:87621.9\ttest-rmse:88704.5\n",
      "[94]\ttrain-rmse:87611.9\ttest-rmse:88701.9\n",
      "[95]\ttrain-rmse:87600\ttest-rmse:88700\n",
      "[96]\ttrain-rmse:87594.7\ttest-rmse:88699.8\n",
      "[97]\ttrain-rmse:87582.3\ttest-rmse:88698.3\n",
      "[98]\ttrain-rmse:87568.5\ttest-rmse:88697.5\n",
      "[99]\ttrain-rmse:87557.4\ttest-rmse:88695.7\n",
      "[100]\ttrain-rmse:87544.3\ttest-rmse:88694.4\n",
      "[101]\ttrain-rmse:87533.8\ttest-rmse:88694.3\n",
      "[102]\ttrain-rmse:87522.1\ttest-rmse:88694.1\n",
      "[103]\ttrain-rmse:87515.8\ttest-rmse:88694.4\n",
      "[104]\ttrain-rmse:87505.6\ttest-rmse:88693.2\n",
      "[105]\ttrain-rmse:87497\ttest-rmse:88693.1\n",
      "[106]\ttrain-rmse:87485.6\ttest-rmse:88691.7\n",
      "[107]\ttrain-rmse:87477.2\ttest-rmse:88692.8\n",
      "[108]\ttrain-rmse:87467\ttest-rmse:88692.6\n",
      "[109]\ttrain-rmse:87462\ttest-rmse:88692.5\n",
      "[110]\ttrain-rmse:87451.8\ttest-rmse:88692.6\n",
      "[111]\ttrain-rmse:87435.5\ttest-rmse:88689.7\n",
      "[112]\ttrain-rmse:87424.1\ttest-rmse:88686.7\n",
      "[113]\ttrain-rmse:87415\ttest-rmse:88690.2\n",
      "[114]\ttrain-rmse:87406\ttest-rmse:88689.6\n",
      "[115]\ttrain-rmse:87393.7\ttest-rmse:88688.2\n",
      "[116]\ttrain-rmse:87383.6\ttest-rmse:88686.8\n",
      "[117]\ttrain-rmse:87382.3\ttest-rmse:88687\n",
      "[118]\ttrain-rmse:87378.3\ttest-rmse:88686.8\n",
      "[119]\ttrain-rmse:87367.6\ttest-rmse:88684.3\n",
      "[120]\ttrain-rmse:87355.2\ttest-rmse:88682.7\n",
      "[121]\ttrain-rmse:87342.9\ttest-rmse:88681.5\n",
      "[122]\ttrain-rmse:87332.7\ttest-rmse:88681.7\n",
      "[123]\ttrain-rmse:87323.9\ttest-rmse:88682.5\n",
      "[124]\ttrain-rmse:87318.3\ttest-rmse:88683.3\n",
      "[125]\ttrain-rmse:87311.9\ttest-rmse:88682\n",
      "[126]\ttrain-rmse:87303.8\ttest-rmse:88680.9\n",
      "[127]\ttrain-rmse:87291.6\ttest-rmse:88679.8\n",
      "[128]\ttrain-rmse:87275.2\ttest-rmse:88678.2\n",
      "[129]\ttrain-rmse:87270.4\ttest-rmse:88677.6\n",
      "[130]\ttrain-rmse:87260.7\ttest-rmse:88677\n",
      "[131]\ttrain-rmse:87257.5\ttest-rmse:88677.1\n",
      "[132]\ttrain-rmse:87251\ttest-rmse:88677.4\n",
      "[133]\ttrain-rmse:87239.5\ttest-rmse:88678.2\n",
      "[134]\ttrain-rmse:87233.4\ttest-rmse:88677.9\n",
      "[135]\ttrain-rmse:87228.6\ttest-rmse:88677.5\n",
      "[136]\ttrain-rmse:87217.9\ttest-rmse:88678.5\n",
      "[137]\ttrain-rmse:87205.6\ttest-rmse:88681.4\n",
      "[138]\ttrain-rmse:87197.1\ttest-rmse:88682.6\n",
      "[139]\ttrain-rmse:87189.6\ttest-rmse:88682.8\n",
      "[140]\ttrain-rmse:87183.6\ttest-rmse:88684\n",
      "[141]\ttrain-rmse:87174.3\ttest-rmse:88684.2\n",
      "[142]\ttrain-rmse:87165.9\ttest-rmse:88685.1\n",
      "[143]\ttrain-rmse:87160.1\ttest-rmse:88684.9\n",
      "[144]\ttrain-rmse:87158.4\ttest-rmse:88685.6\n",
      "[145]\ttrain-rmse:87151.5\ttest-rmse:88685.6\n",
      "[146]\ttrain-rmse:87139.3\ttest-rmse:88685.6\n",
      "[147]\ttrain-rmse:87131.4\ttest-rmse:88686.6\n",
      "[148]\ttrain-rmse:87124.8\ttest-rmse:88686.2\n",
      "[149]\ttrain-rmse:87117.3\ttest-rmse:88687.4\n",
      "[150]\ttrain-rmse:87107.4\ttest-rmse:88688.6\n",
      "Stopping. Best iteration:\n",
      "[130]\ttrain-rmse:87260.7\ttest-rmse:88677\n",
      "\n"
     ]
    }
   ],
   "source": [
    "features_auctions = pd.read_pickle(\"../../features/auctions_train_ventana_3.pkl\")\n",
    "targets = pd.read_pickle(\"../../targets/targets_ventana_3_auctions.pkl\")\n",
    "train = features_auctions.merge(targets, left_index=True, right_index=True)\n",
    "\n",
    "X, y = train.iloc[:,:-1], train.iloc[:,-1]\n",
    "X_train, X_test, y_train, y_test = \\\n",
    "    train_test_split(X, y, test_size=0.2, random_state=123)\n",
    "\n",
    "dtrain = xgb.DMatrix(data=X_train, label=y_train)\n",
    "dtest = xgb.DMatrix(data=X_test, label=y_test)\n",
    "\n",
    "param = {'max_depth':6,\n",
    "         'eta':0.3,\n",
    "         'silent':1,\n",
    "         'objective':'reg:linear',\n",
    "         'eval_metric' : 'rmse',\n",
    "         'obj' : 'reg:squarederror',\n",
    "         'colsample_bytree' : 1,\n",
    "         'min_child_weight' : 0.5,\n",
    "         'random_state' : 0,\n",
    "         'reg_alpha' : 0,\n",
    "         'reg_lambda' : 1,\n",
    "         'scale_pos_weight' : 1,\n",
    "         'learning_rate' : 0.1}\n",
    "\n",
    "\n",
    "num_round = 5000\n",
    "stopping = 20\n",
    "bst = xgb.train(param, dtrain, num_round, evals=[(dtrain, \"train\"), (dtest, \"test\")], early_stopping_rounds=stopping)\n",
    "# make prediction\n",
    "#preds = bst.predict(dtest)\n",
    "#Stopping. Best iteration:\n",
    "#[360]\ttrain-rmse:67651\ttest-rmse:69665.3a"
   ]
  },
  {
   "cell_type": "markdown",
   "metadata": {},
   "source": [
    "---"
   ]
  },
  {
   "cell_type": "code",
   "execution_count": 8,
   "metadata": {},
   "outputs": [
    {
     "name": "stdout",
     "output_type": "stream",
     "text": [
      "RMSE: 88652.271971\n"
     ]
    }
   ],
   "source": [
    "import lightgbm as lgb\n",
    "#lgb_model = lgb.LGBMRegressor(boosting_type='dart', metric='rmse', n_estimators=50, colsample_bytree=0.9)\n",
    "lgb_model = lgb.LGBMRegressor(boosting_type='dart', num_leaves=7, n_estimators=500, metric='rmse',\n",
    "                               learning_rate=0.05, colsample_bytree=0.8)\n",
    "lgb_model.fit(X_train, y_train)\n",
    "preds = lgb_model.predict(X_test)\n",
    "rmse = np.sqrt(mean_squared_error(y_test, preds))\n",
    "print(\"RMSE: %f\" % (rmse))"
   ]
  },
  {
   "cell_type": "code",
   "execution_count": 16,
   "metadata": {},
   "outputs": [],
   "source": [
    "preds_xgb = bst.predict(dtest)\n",
    "preds_lgbm = lgb_model.predict(X_test)"
   ]
  },
  {
   "cell_type": "code",
   "execution_count": 17,
   "metadata": {},
   "outputs": [
    {
     "name": "stdout",
     "output_type": "stream",
     "text": [
      "RMSE: 88700.212349\n"
     ]
    }
   ],
   "source": [
    "p1 = 0.8\n",
    "p2 = 0.2\n",
    "\n",
    "preds = p1*preds_xgb + p2*preds_lgbm\n",
    "rmse = np.sqrt(mean_squared_error(y_test, preds))\n",
    "print(\"RMSE: %f\" % (rmse))"
   ]
  },
  {
   "cell_type": "code",
   "execution_count": 30,
   "metadata": {},
   "outputs": [],
   "source": [
    "diferencias = abs((y_test.values - preds))"
   ]
  },
  {
   "cell_type": "code",
   "execution_count": 36,
   "metadata": {},
   "outputs": [
    {
     "data": {
      "text/plain": [
       "20.555555555555557"
      ]
     },
     "execution_count": 36,
     "metadata": {},
     "output_type": "execute_result"
    }
   ],
   "source": [
    "74000 /3600"
   ]
  },
  {
   "cell_type": "markdown",
   "metadata": {},
   "source": [
    "---"
   ]
  }
 ],
 "metadata": {
  "kernelspec": {
   "display_name": "Python 3",
   "language": "python",
   "name": "python3"
  },
  "language_info": {
   "codemirror_mode": {
    "name": "ipython",
    "version": 3
   },
   "file_extension": ".py",
   "mimetype": "text/x-python",
   "name": "python",
   "nbconvert_exporter": "python",
   "pygments_lexer": "ipython3",
   "version": "3.6.5"
  }
 },
 "nbformat": 4,
 "nbformat_minor": 2
}
