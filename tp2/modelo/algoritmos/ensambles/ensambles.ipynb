{
 "cells": [
  {
   "cell_type": "code",
   "execution_count": 1,
   "metadata": {},
   "outputs": [],
   "source": [
    "import pandas as pd\n",
    "import numpy as np\n",
    "import xgboost as xgb\n",
    "from sklearn.model_selection import train_test_split\n",
    "from sklearn.metrics import mean_squared_error\n",
    "from math import sqrt\n",
    "from matplotlib import pyplot\n",
    "from hyperopt import hp, fmin, tpe, STATUS_OK, Trials\n",
    "import seaborn as sns\n",
    "import lightgbm as lgb"
   ]
  },
  {
   "cell_type": "markdown",
   "metadata": {},
   "source": [
    "---"
   ]
  },
  {
   "cell_type": "markdown",
   "metadata": {},
   "source": [
    "# Carga de datos"
   ]
  },
  {
   "cell_type": "code",
   "execution_count": 2,
   "metadata": {},
   "outputs": [],
   "source": [
    "train_auctions = pd.read_csv(\"../../features/entrenar_auctions_final.csv\")"
   ]
  },
  {
   "cell_type": "code",
   "execution_count": 3,
   "metadata": {},
   "outputs": [],
   "source": [
    "train_auctions.set_index(\"device_id\", inplace=True)"
   ]
  },
  {
   "cell_type": "code",
   "execution_count": 4,
   "metadata": {},
   "outputs": [],
   "source": [
    "train_auctions = train_auctions.reindex(sorted(train_auctions.columns), axis=1)"
   ]
  },
  {
   "cell_type": "markdown",
   "metadata": {},
   "source": [
    "---"
   ]
  },
  {
   "cell_type": "code",
   "execution_count": 5,
   "metadata": {},
   "outputs": [],
   "source": [
    "X_auctions, y_auctions = train_auctions.drop(\"target\", axis=1), train_auctions[\"target\"]\n",
    "\n",
    "#filtro_auctions = (X_auctions.T.agg(\"sum\") != 0)\n",
    "#X_auctions = X_auctions.loc[filtro_auctions]\n",
    "#y_auctions = y_auctions.loc[filtro_auctions]\n",
    "\n",
    "X_train_auctions, X_test_auctions, y_train_auctions, y_test_auctions = \\\n",
    "    train_test_split(X_auctions, y_auctions, test_size=0.33, random_state=0)\n",
    "\n",
    "dtrain_auctions = xgb.DMatrix(data=X_train_auctions, label=y_train_auctions)\n",
    "dtest_auctions = xgb.DMatrix(data=X_test_auctions, label=y_test_auctions)"
   ]
  },
  {
   "cell_type": "markdown",
   "metadata": {},
   "source": [
    "---"
   ]
  },
  {
   "cell_type": "code",
   "execution_count": 6,
   "metadata": {},
   "outputs": [],
   "source": [
    "train_installs = pd.read_csv(\"../../features/entrenar_installs_final.csv\")\n",
    "train_installs.set_index(\"device_id\", inplace=True)\n",
    "train_installs = train_installs.reindex(sorted(train_installs.columns), axis=1)"
   ]
  },
  {
   "cell_type": "markdown",
   "metadata": {},
   "source": [
    "---"
   ]
  },
  {
   "cell_type": "code",
   "execution_count": 7,
   "metadata": {},
   "outputs": [],
   "source": [
    "X_installs, y_installs = train_installs.drop(\"target\", axis=1), train_installs[\"target\"]\n",
    "X_train_installs, X_test_installs, y_train_installs, y_test_installs = \\\n",
    "    train_test_split(X_installs, y_installs, test_size=0.33, random_state=0)\n",
    "\n",
    "#filtro_installs = (X_installs.T.agg(\"sum\") != 0)\n",
    "#X_installs = X_installs.loc[filtro_installs]\n",
    "#y_installs = y_installs.loc[filtro_installs]\n",
    "\n",
    "dtrain_installs = xgb.DMatrix(data=X_train_installs, label=y_train_installs)\n",
    "dtest_installs = xgb.DMatrix(data=X_test_installs, label=y_test_installs)"
   ]
  },
  {
   "cell_type": "markdown",
   "metadata": {},
   "source": [
    "---"
   ]
  },
  {
   "cell_type": "markdown",
   "metadata": {},
   "source": [
    "# XGBoost"
   ]
  },
  {
   "cell_type": "code",
   "execution_count": 8,
   "metadata": {},
   "outputs": [],
   "source": [
    "# {'colsample_bytree': 0.9500000000000001, 'eta': 0.35000000000000003, 'gamma': 0.9, 'max_depth': 6, 'min_child_weight': 2.0, 'n_estimators': 168}\n",
    "best_auctions = {\n",
    "        'n_estimators': 168,\n",
    "        'eta': 0.35,\n",
    "        'max_depth': 6,\n",
    "        'min_child_weight': 2.0,\n",
    "        'gamma': 0.9,\n",
    "        'colsample_bytree': 0.95,\n",
    "        'eval_metric': 'rmse',\n",
    "        'obj': 'reg:squarederror',\n",
    "        'nthread': 6,\n",
    "        'booster': 'gbtree',\n",
    "        'tree_method': 'exact',\n",
    "        'silent': 1,\n",
    "}\n",
    "model_auctions = xgb.train(best_auctions, dtrain_auctions, verbose_eval=False)"
   ]
  },
  {
   "cell_type": "code",
   "execution_count": 9,
   "metadata": {},
   "outputs": [],
   "source": [
    "best_installs = {\n",
    "        'n_estimators': 500,\n",
    "        'eta': 0.4,\n",
    "        'max_depth': 7,\n",
    "        'min_child_weight': 0.5,\n",
    "        'gamma': 0.65,\n",
    "        'colsample_bytree': 0.85,\n",
    "        'eval_metric': 'rmse',\n",
    "        'obj': 'reg:squarederror',\n",
    "        'nthread': 6,\n",
    "        'booster': 'gbtree',\n",
    "        'tree_method': 'exact',\n",
    "        'silent': 1,\n",
    "}\n",
    "model_installs = xgb.train(best_installs, dtrain_installs, verbose_eval=False)"
   ]
  },
  {
   "cell_type": "markdown",
   "metadata": {},
   "source": [
    "---"
   ]
  },
  {
   "cell_type": "markdown",
   "metadata": {},
   "source": [
    "# LightGBM"
   ]
  },
  {
   "cell_type": "code",
   "execution_count": 10,
   "metadata": {},
   "outputs": [
    {
     "data": {
      "text/plain": [
       "LGBMRegressor(boosting_type='gbdt', class_weight=None, colsample_bytree=0.7,\n",
       "       importance_type='split', learning_rate=0.1, max_depth=4,\n",
       "       min_child_samples=20, min_child_weight=0.001, min_split_gain=0.0,\n",
       "       n_estimators=150, n_jobs=-1, num_leaves=31, objective=None,\n",
       "       random_state=None, reg_alpha=0.0, reg_lambda=0.0, silent=True,\n",
       "       subsample=1.0, subsample_for_bin=200000, subsample_freq=0)"
      ]
     },
     "execution_count": 10,
     "metadata": {},
     "output_type": "execute_result"
    }
   ],
   "source": [
    "lgb_auctions = lgb.LGBMRegressor(colsample_bytree=0.7, max_depth=4, n_estimators=150)\n",
    "lgb_auctions.fit(X_train_auctions, y_train_auctions)"
   ]
  },
  {
   "cell_type": "code",
   "execution_count": 11,
   "metadata": {},
   "outputs": [
    {
     "data": {
      "text/plain": [
       "LGBMRegressor(boosting_type='gbdt', class_weight=None, colsample_bytree=0.85,\n",
       "       importance_type='split', learning_rate=0.1, max_depth=4,\n",
       "       min_child_samples=20, min_child_weight=0.001, min_split_gain=0.0,\n",
       "       n_estimators=75, n_jobs=-1, num_leaves=31, objective=None,\n",
       "       random_state=None, reg_alpha=0.0, reg_lambda=0.0, silent=True,\n",
       "       subsample=1.0, subsample_for_bin=200000, subsample_freq=0)"
      ]
     },
     "execution_count": 11,
     "metadata": {},
     "output_type": "execute_result"
    }
   ],
   "source": [
    "lgb_installs = lgb.LGBMRegressor(colsample_bytree=0.85, max_depth=4, n_estimators=75)\n",
    "lgb_installs.fit(X_train_installs, y_train_installs)"
   ]
  },
  {
   "cell_type": "markdown",
   "metadata": {},
   "source": [
    "---"
   ]
  },
  {
   "cell_type": "code",
   "execution_count": 12,
   "metadata": {},
   "outputs": [],
   "source": [
    "pred_auctions_xgb = model_auctions.predict(dtest_auctions)"
   ]
  },
  {
   "cell_type": "code",
   "execution_count": 13,
   "metadata": {},
   "outputs": [],
   "source": [
    "pred_installs_xgb = model_installs.predict(dtest_installs)"
   ]
  },
  {
   "cell_type": "code",
   "execution_count": 14,
   "metadata": {},
   "outputs": [],
   "source": [
    "pred_auctions_l = lgb_auctions.predict(X_test_auctions)"
   ]
  },
  {
   "cell_type": "code",
   "execution_count": 15,
   "metadata": {},
   "outputs": [],
   "source": [
    "pred_installs_l = lgb_installs.predict(X_test_installs)"
   ]
  },
  {
   "cell_type": "code",
   "execution_count": 16,
   "metadata": {},
   "outputs": [],
   "source": [
    "def rmsetotal(preds_a, preds_i):\n",
    "    auctions = mean_squared_error(preds_a, y_test_auctions)\n",
    "    installs = mean_squared_error(preds_i, y_test_installs)\n",
    "    return sqrt((auctions+installs)/2)"
   ]
  },
  {
   "cell_type": "code",
   "execution_count": 17,
   "metadata": {},
   "outputs": [
    {
     "data": {
      "text/plain": [
       "69527.95249876527"
      ]
     },
     "execution_count": 17,
     "metadata": {},
     "output_type": "execute_result"
    }
   ],
   "source": [
    "rmsetotal(pred_auctions_xgb, pred_installs_xgb)"
   ]
  },
  {
   "cell_type": "code",
   "execution_count": 18,
   "metadata": {},
   "outputs": [
    {
     "data": {
      "text/plain": [
       "69464.47740950913"
      ]
     },
     "execution_count": 18,
     "metadata": {},
     "output_type": "execute_result"
    }
   ],
   "source": [
    "rmsetotal(pred_auctions_l, pred_installs_l)"
   ]
  },
  {
   "cell_type": "code",
   "execution_count": 19,
   "metadata": {},
   "outputs": [],
   "source": [
    "pred_promedio_a = (0.4*pred_auctions_xgb + 0.6*pred_auctions_l)"
   ]
  },
  {
   "cell_type": "code",
   "execution_count": 20,
   "metadata": {},
   "outputs": [],
   "source": [
    "pred_promedio_i = (0.4*pred_installs_xgb + 0.6*pred_installs_l)"
   ]
  },
  {
   "cell_type": "code",
   "execution_count": 21,
   "metadata": {},
   "outputs": [
    {
     "data": {
      "text/plain": [
       "69470.80324410392"
      ]
     },
     "execution_count": 21,
     "metadata": {},
     "output_type": "execute_result"
    }
   ],
   "source": [
    "rmsetotal(pred_promedio_a, pred_promedio_i)"
   ]
  },
  {
   "cell_type": "markdown",
   "metadata": {},
   "source": [
    "# Prueba sesgado"
   ]
  },
  {
   "cell_type": "code",
   "execution_count": 13,
   "metadata": {},
   "outputs": [
    {
     "data": {
      "text/plain": [
       "False    737575\n",
       "True     312769\n",
       "dtype: int64"
      ]
     },
     "execution_count": 13,
     "metadata": {},
     "output_type": "execute_result"
    }
   ],
   "source": [
    "(X_installs.T.agg(\"sum\") == 0).value_counts()"
   ]
  },
  {
   "cell_type": "code",
   "execution_count": 16,
   "metadata": {},
   "outputs": [],
   "source": [
    "minicopia = X_installs.head().copy()"
   ]
  },
  {
   "cell_type": "code",
   "execution_count": 21,
   "metadata": {},
   "outputs": [
    {
     "data": {
      "text/plain": [
       "device_id\n",
       "4432995619177048534    True\n",
       "5904733559638204455    True\n",
       "896373747754111825     True\n",
       "3399210824535017892    True\n",
       "1541425881979513687    True\n",
       "dtype: bool"
      ]
     },
     "execution_count": 21,
     "metadata": {},
     "output_type": "execute_result"
    }
   ],
   "source": [
    "minicopia.T.agg(\"sum\") != 0"
   ]
  },
  {
   "cell_type": "code",
   "execution_count": 10,
   "metadata": {},
   "outputs": [],
   "source": [
    "X_installs = X_installs.loc[filtro]"
   ]
  },
  {
   "cell_type": "code",
   "execution_count": 11,
   "metadata": {},
   "outputs": [],
   "source": [
    "y_installs = y_installs.loc[filtro]"
   ]
  },
  {
   "cell_type": "code",
   "execution_count": 9,
   "metadata": {},
   "outputs": [],
   "source": [
    "filtro = (X_installs.T.agg(\"sum\") != 0)"
   ]
  },
  {
   "cell_type": "code",
   "execution_count": 22,
   "metadata": {},
   "outputs": [
    {
     "data": {
      "text/plain": [
       "<matplotlib.axes._subplots.AxesSubplot at 0x7f89452ea390>"
      ]
     },
     "execution_count": 22,
     "metadata": {},
     "output_type": "execute_result"
    },
    {
     "data": {
      "image/png": "[encoded data removed]",
      "text/plain": [
       "<Figure size 432x288 with 1 Axes>"
      ]
     },
     "metadata": {},
     "output_type": "display_data"
    }
   ],
   "source": [
    "pd.Series(pred_installs_xgb).plot(kind=\"hist\", bins=30)"
   ]
  },
  {
   "cell_type": "code",
   "execution_count": 36,
   "metadata": {},
   "outputs": [
    {
     "data": {
      "text/plain": [
       "<matplotlib.axes._subplots.AxesSubplot at 0x7fca437737f0>"
      ]
     },
     "execution_count": 36,
     "metadata": {},
     "output_type": "execute_result"
    },
    {
     "data": {
      "image/png": "[encoded data removed]",
      "text/plain": [
       "<Figure size 432x288 with 1 Axes>"
      ]
     },
     "metadata": {},
     "output_type": "display_data"
    }
   ],
   "source": [
    "xgb.plot_importance(model_installs, max_num_features=12)"
   ]
  }
 ],
 "metadata": {
  "kernelspec": {
   "display_name": "Python 3",
   "language": "python",
   "name": "python3"
  },
  "language_info": {
   "codemirror_mode": {
    "name": "ipython",
    "version": 3
   },
   "file_extension": ".py",
   "mimetype": "text/x-python",
   "name": "python",
   "nbconvert_exporter": "python",
   "pygments_lexer": "ipython3",
   "version": "3.6.5"
  }
 },
 "nbformat": 4,
 "nbformat_minor": 2
}
