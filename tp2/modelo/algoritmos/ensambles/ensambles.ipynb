{
 "cells": [
  {
   "cell_type": "code",
   "execution_count": 1,
   "metadata": {},
   "outputs": [],
   "source": [
    "import pandas as pd\n",
    "import numpy as np\n",
    "import xgboost as xgb\n",
    "from sklearn.model_selection import train_test_split\n",
    "from sklearn.metrics import mean_squared_error\n",
    "from math import sqrt\n",
    "from matplotlib import pyplot\n",
    "from hyperopt import hp, fmin, tpe, STATUS_OK, Trials\n",
    "import seaborn as sns\n",
    "import lightgbm as lgb"
   ]
  },
  {
   "cell_type": "markdown",
   "metadata": {},
   "source": [
    "---"
   ]
  },
  {
   "cell_type": "markdown",
   "metadata": {},
   "source": [
    "# Carga de datos"
   ]
  },
  {
   "cell_type": "code",
   "execution_count": 2,
   "metadata": {},
   "outputs": [],
   "source": [
    "train_auctions = pd.read_csv(\"../../features/entrenar_auctions_final.csv\")"
   ]
  },
  {
   "cell_type": "code",
   "execution_count": 3,
   "metadata": {},
   "outputs": [],
   "source": [
    "train_auctions.set_index(\"device_id\", inplace=True)"
   ]
  },
  {
   "cell_type": "code",
   "execution_count": 4,
   "metadata": {},
   "outputs": [],
   "source": [
    "train_auctions = train_auctions.reindex(sorted(train_auctions.columns), axis=1)"
   ]
  },
  {
   "cell_type": "markdown",
   "metadata": {},
   "source": [
    "---"
   ]
  },
  {
   "cell_type": "code",
   "execution_count": 5,
   "metadata": {},
   "outputs": [],
   "source": [
    "X_auctions, y_auctions = train_auctions.drop(\"target\", axis=1), train_auctions[\"target\"]\n",
    "\n",
    "filtro_auctions = (X_auctions.T.agg(\"sum\") != 0)\n",
    "X_auctions = X_auctions.loc[filtro_auctions]\n",
    "y_auctions = y_auctions.loc[filtro_auctions]\n",
    "\n",
    "X_train_auctions, X_test_auctions, y_train_auctions, y_test_auctions = \\\n",
    "    train_test_split(X_auctions, y_auctions, test_size=0.1, random_state=0)\n",
    "\n",
    "dtrain_auctions = xgb.DMatrix(data=X_train_auctions, label=y_train_auctions)\n",
    "dtest_auctions = xgb.DMatrix(data=X_test_auctions, label=y_test_auctions)"
   ]
  },
  {
   "cell_type": "markdown",
   "metadata": {},
   "source": [
    "---"
   ]
  },
  {
   "cell_type": "code",
   "execution_count": 6,
   "metadata": {},
   "outputs": [],
   "source": [
    "train_installs = pd.read_csv(\"../../features/entrenar_installs_final.csv\")\n",
    "train_installs.set_index(\"device_id\", inplace=True)\n",
    "train_installs = train_installs.reindex(sorted(train_installs.columns), axis=1)"
   ]
  },
  {
   "cell_type": "markdown",
   "metadata": {},
   "source": [
    "---"
   ]
  },
  {
   "cell_type": "code",
   "execution_count": 7,
   "metadata": {},
   "outputs": [],
   "source": [
    "X_installs, y_installs = train_installs.drop(\"target\", axis=1), train_installs[\"target\"]\n",
    "X_train_installs, X_test_installs, y_train_installs, y_test_installs = \\\n",
    "    train_test_split(X_installs, y_installs, test_size=0.1, random_state=0)\n",
    "\n",
    "filtro_installs = (X_installs.T.agg(\"sum\") != 0)\n",
    "X_installs = X_installs.loc[filtro_installs]\n",
    "y_installs = y_installs.loc[filtro_installs]\n",
    "\n",
    "dtrain_installs = xgb.DMatrix(data=X_train_installs, label=y_train_installs)\n",
    "dtest_installs = xgb.DMatrix(data=X_test_installs, label=y_test_installs)"
   ]
  },
  {
   "cell_type": "markdown",
   "metadata": {},
   "source": [
    "---"
   ]
  },
  {
   "cell_type": "markdown",
   "metadata": {},
   "source": [
    "# XGBoost"
   ]
  },
  {
   "cell_type": "code",
   "execution_count": 8,
   "metadata": {},
   "outputs": [],
   "source": [
    "# {'colsample_bytree': 0.9500000000000001, 'eta': 0.35000000000000003, 'gamma': 0.9, 'max_depth': 6, 'min_child_weight': 2.0, 'n_estimators': 168}\n",
    "best_auctions = {\n",
    "        'n_estimators': 168,\n",
    "        'eta': 0.35,\n",
    "        'max_depth': 6,\n",
    "        'min_child_weight': 2.0,\n",
    "        'gamma': 0.9,\n",
    "        'colsample_bytree': 0.95,\n",
    "        'eval_metric': 'rmse',\n",
    "        'obj': 'reg:squarederror',\n",
    "        'nthread': 6,\n",
    "        'booster': 'gbtree',\n",
    "        'tree_method': 'exact',\n",
    "        'silent': 1,\n",
    "}\n",
    "model_auctions = xgb.train(best_auctions, dtrain_auctions, verbose_eval=False)"
   ]
  },
  {
   "cell_type": "code",
   "execution_count": 9,
   "metadata": {},
   "outputs": [],
   "source": [
    "best_installs = {\n",
    "        'n_estimators': 67,\n",
    "        'eta': 0.4,\n",
    "        'max_depth': 2,\n",
    "        'min_child_weight': 2.0,\n",
    "        'gamma': 0.65,\n",
    "        'colsample_bytree': 0.85,\n",
    "        'eval_metric': 'rmse',\n",
    "        'obj': 'reg:squarederror',\n",
    "        'nthread': 6,\n",
    "        'booster': 'gbtree',\n",
    "        'tree_method': 'exact',\n",
    "        'silent': 1,\n",
    "}\n",
    "model_installs = xgb.train(best_installs, dtrain_installs, verbose_eval=False)"
   ]
  },
  {
   "cell_type": "markdown",
   "metadata": {},
   "source": [
    "---"
   ]
  },
  {
   "cell_type": "markdown",
   "metadata": {},
   "source": [
    "# LightGBM"
   ]
  },
  {
   "cell_type": "code",
   "execution_count": 10,
   "metadata": {},
   "outputs": [
    {
     "data": {
      "text/plain": [
       "LGBMRegressor(boosting_type='gbdt', class_weight=None, colsample_bytree=0.7,\n",
       "       importance_type='split', learning_rate=0.1, max_depth=4,\n",
       "       min_child_samples=20, min_child_weight=0.001, min_split_gain=0.0,\n",
       "       n_estimators=150, n_jobs=-1, num_leaves=31, objective=None,\n",
       "       random_state=None, reg_alpha=0.0, reg_lambda=0.0, silent=True,\n",
       "       subsample=1.0, subsample_for_bin=200000, subsample_freq=0)"
      ]
     },
     "execution_count": 10,
     "metadata": {},
     "output_type": "execute_result"
    }
   ],
   "source": [
    "lgb_auctions = lgb.LGBMRegressor(colsample_bytree=0.7, max_depth=4, n_estimators=150)\n",
    "lgb_auctions.fit(X_train_auctions, y_train_auctions)"
   ]
  },
  {
   "cell_type": "code",
   "execution_count": 11,
   "metadata": {},
   "outputs": [
    {
     "data": {
      "text/plain": [
       "LGBMRegressor(boosting_type='gbdt', class_weight=None, colsample_bytree=0.85,\n",
       "       importance_type='split', learning_rate=0.1, max_depth=4,\n",
       "       min_child_samples=20, min_child_weight=0.001, min_split_gain=0.0,\n",
       "       n_estimators=75, n_jobs=-1, num_leaves=31, objective=None,\n",
       "       random_state=None, reg_alpha=0.0, reg_lambda=0.0, silent=True,\n",
       "       subsample=1.0, subsample_for_bin=200000, subsample_freq=0)"
      ]
     },
     "execution_count": 11,
     "metadata": {},
     "output_type": "execute_result"
    }
   ],
   "source": [
    "lgb_installs = lgb.LGBMRegressor(colsample_bytree=0.85, max_depth=4, n_estimators=75)\n",
    "lgb_installs.fit(X_train_installs, y_train_installs)"
   ]
  },
  {
   "cell_type": "markdown",
   "metadata": {},
   "source": [
    "---"
   ]
  },
  {
   "cell_type": "code",
   "execution_count": 12,
   "metadata": {},
   "outputs": [],
   "source": [
    "pred_auctions_xgb = model_auctions.predict(dtest_auctions)"
   ]
  },
  {
   "cell_type": "code",
   "execution_count": 13,
   "metadata": {},
   "outputs": [],
   "source": [
    "pred_installs_xgb = model_installs.predict(dtest_installs)"
   ]
  },
  {
   "cell_type": "code",
   "execution_count": 14,
   "metadata": {},
   "outputs": [],
   "source": [
    "pred_auctions_l = lgb_auctions.predict(X_test_auctions)"
   ]
  },
  {
   "cell_type": "code",
   "execution_count": 15,
   "metadata": {},
   "outputs": [],
   "source": [
    "pred_installs_l = lgb_installs.predict(X_test_installs)"
   ]
  },
  {
   "cell_type": "code",
   "execution_count": 16,
   "metadata": {},
   "outputs": [],
   "source": [
    "def rmsetotal(preds_a, preds_i):\n",
    "    auctions = mean_squared_error(preds_a, y_test_auctions)\n",
    "    installs = mean_squared_error(preds_i, y_test_installs)\n",
    "    return sqrt((auctions+installs)/2)"
   ]
  },
  {
   "cell_type": "code",
   "execution_count": 17,
   "metadata": {},
   "outputs": [
    {
     "data": {
      "text/plain": [
       "69308.96393646224"
      ]
     },
     "execution_count": 17,
     "metadata": {},
     "output_type": "execute_result"
    }
   ],
   "source": [
    "rmsetotal(pred_auctions_xgb, pred_installs_xgb)"
   ]
  },
  {
   "cell_type": "code",
   "execution_count": 18,
   "metadata": {},
   "outputs": [
    {
     "data": {
      "text/plain": [
       "69266.21727740912"
      ]
     },
     "execution_count": 18,
     "metadata": {},
     "output_type": "execute_result"
    }
   ],
   "source": [
    "rmsetotal(pred_auctions_l, pred_installs_l)"
   ]
  },
  {
   "cell_type": "code",
   "execution_count": 19,
   "metadata": {},
   "outputs": [],
   "source": [
    "pred_promedio_a = (0.4*pred_auctions_xgb + 0.6*pred_auctions_l)"
   ]
  },
  {
   "cell_type": "code",
   "execution_count": 20,
   "metadata": {},
   "outputs": [],
   "source": [
    "pred_promedio_i = (0.4*pred_installs_xgb + 0.6*pred_installs_l)"
   ]
  },
  {
   "cell_type": "code",
   "execution_count": 26,
   "metadata": {},
   "outputs": [
    {
     "data": {
      "text/plain": [
       "69236.00032032102"
      ]
     },
     "execution_count": 26,
     "metadata": {},
     "output_type": "execute_result"
    }
   ],
   "source": [
    "rmsetotal(pred_promedio_a, pred_promedio_i)"
   ]
  },
  {
   "cell_type": "markdown",
   "metadata": {},
   "source": [
    "# Prueba sesgado"
   ]
  },
  {
   "cell_type": "code",
   "execution_count": 14,
   "metadata": {},
   "outputs": [
    {
     "data": {
      "text/html": [
       "<div>\n",
       "<style scoped>\n",
       "    .dataframe tbody tr th:only-of-type {\n",
       "        vertical-align: middle;\n",
       "    }\n",
       "\n",
       "    .dataframe tbody tr th {\n",
       "        vertical-align: top;\n",
       "    }\n",
       "\n",
       "    .dataframe thead th {\n",
       "        text-align: right;\n",
       "    }\n",
       "</style>\n",
       "<table border=\"1\" class=\"dataframe\">\n",
       "  <thead>\n",
       "    <tr style=\"text-align: right;\">\n",
       "      <th></th>\n",
       "      <th>apariciones_en_dia_1_auctions</th>\n",
       "      <th>apariciones_en_dia_1_events</th>\n",
       "      <th>apariciones_en_dia_2_auctions</th>\n",
       "      <th>apariciones_en_dia_2_events</th>\n",
       "      <th>apariciones_en_dia_3_auctions</th>\n",
       "      <th>apariciones_en_dia_3_events</th>\n",
       "      <th>apariciones_en_source_0_auctions</th>\n",
       "      <th>apariciones_en_source_1_auctions</th>\n",
       "      <th>apariciones_en_source_2_auctions</th>\n",
       "      <th>apariciones_en_source_3_auctions</th>\n",
       "      <th>...</th>\n",
       "      <th>tiempo_hasta_click_std_clicks</th>\n",
       "      <th>tiempo_maximo_entre_apariciones_auctions</th>\n",
       "      <th>tiempo_maximo_entre_clicks</th>\n",
       "      <th>tiempo_medio_entre_apariciones_auctions</th>\n",
       "      <th>tiempo_medio_entre_clicks</th>\n",
       "      <th>tiempo_minimo_entre_apariciones_auctions</th>\n",
       "      <th>tiempo_minimo_entre_clicks</th>\n",
       "      <th>tiempo_primera_aparicion_hasta_fin_ventana_auctions</th>\n",
       "      <th>tiempo_ultima_aparicion_hasta_fin_ventana_auctions</th>\n",
       "      <th>tiempo_ultima_instalacion_hasta_fin_ventana</th>\n",
       "    </tr>\n",
       "    <tr>\n",
       "      <th>device_id</th>\n",
       "      <th></th>\n",
       "      <th></th>\n",
       "      <th></th>\n",
       "      <th></th>\n",
       "      <th></th>\n",
       "      <th></th>\n",
       "      <th></th>\n",
       "      <th></th>\n",
       "      <th></th>\n",
       "      <th></th>\n",
       "      <th></th>\n",
       "      <th></th>\n",
       "      <th></th>\n",
       "      <th></th>\n",
       "      <th></th>\n",
       "      <th></th>\n",
       "      <th></th>\n",
       "      <th></th>\n",
       "      <th></th>\n",
       "      <th></th>\n",
       "      <th></th>\n",
       "    </tr>\n",
       "  </thead>\n",
       "  <tbody>\n",
       "    <tr>\n",
       "      <th>4432995619177048534</th>\n",
       "      <td>61.0</td>\n",
       "      <td>NaN</td>\n",
       "      <td>6.0</td>\n",
       "      <td>NaN</td>\n",
       "      <td>NaN</td>\n",
       "      <td>NaN</td>\n",
       "      <td>NaN</td>\n",
       "      <td>NaN</td>\n",
       "      <td>NaN</td>\n",
       "      <td>NaN</td>\n",
       "      <td>...</td>\n",
       "      <td>NaN</td>\n",
       "      <td>47229.315464</td>\n",
       "      <td>NaN</td>\n",
       "      <td>1337.516704</td>\n",
       "      <td>NaN</td>\n",
       "      <td>0.717932</td>\n",
       "      <td>NaN</td>\n",
       "      <td>258823.427910</td>\n",
       "      <td>170547.325432</td>\n",
       "      <td>259198.440</td>\n",
       "    </tr>\n",
       "    <tr>\n",
       "      <th>5904733559638204455</th>\n",
       "      <td>NaN</td>\n",
       "      <td>NaN</td>\n",
       "      <td>NaN</td>\n",
       "      <td>NaN</td>\n",
       "      <td>NaN</td>\n",
       "      <td>NaN</td>\n",
       "      <td>NaN</td>\n",
       "      <td>NaN</td>\n",
       "      <td>NaN</td>\n",
       "      <td>NaN</td>\n",
       "      <td>...</td>\n",
       "      <td>NaN</td>\n",
       "      <td>NaN</td>\n",
       "      <td>NaN</td>\n",
       "      <td>NaN</td>\n",
       "      <td>NaN</td>\n",
       "      <td>NaN</td>\n",
       "      <td>NaN</td>\n",
       "      <td>NaN</td>\n",
       "      <td>NaN</td>\n",
       "      <td>259198.149</td>\n",
       "    </tr>\n",
       "    <tr>\n",
       "      <th>896373747754111825</th>\n",
       "      <td>NaN</td>\n",
       "      <td>8.0</td>\n",
       "      <td>NaN</td>\n",
       "      <td>NaN</td>\n",
       "      <td>29.0</td>\n",
       "      <td>NaN</td>\n",
       "      <td>22.0</td>\n",
       "      <td>1.0</td>\n",
       "      <td>NaN</td>\n",
       "      <td>1.0</td>\n",
       "      <td>...</td>\n",
       "      <td>NaN</td>\n",
       "      <td>30181.455969</td>\n",
       "      <td>NaN</td>\n",
       "      <td>1167.947092</td>\n",
       "      <td>NaN</td>\n",
       "      <td>0.473952</td>\n",
       "      <td>NaN</td>\n",
       "      <td>35612.316542</td>\n",
       "      <td>2909.797954</td>\n",
       "      <td>259190.842</td>\n",
       "    </tr>\n",
       "    <tr>\n",
       "      <th>3399210824535017892</th>\n",
       "      <td>2.0</td>\n",
       "      <td>NaN</td>\n",
       "      <td>5.0</td>\n",
       "      <td>NaN</td>\n",
       "      <td>10.0</td>\n",
       "      <td>3.0</td>\n",
       "      <td>NaN</td>\n",
       "      <td>8.0</td>\n",
       "      <td>3.0</td>\n",
       "      <td>3.0</td>\n",
       "      <td>...</td>\n",
       "      <td>NaN</td>\n",
       "      <td>93195.335577</td>\n",
       "      <td>NaN</td>\n",
       "      <td>11563.657060</td>\n",
       "      <td>NaN</td>\n",
       "      <td>0.058452</td>\n",
       "      <td>NaN</td>\n",
       "      <td>185101.221651</td>\n",
       "      <td>82.708688</td>\n",
       "      <td>259194.411</td>\n",
       "    </tr>\n",
       "    <tr>\n",
       "      <th>1541425881979513687</th>\n",
       "      <td>NaN</td>\n",
       "      <td>NaN</td>\n",
       "      <td>9.0</td>\n",
       "      <td>NaN</td>\n",
       "      <td>17.0</td>\n",
       "      <td>NaN</td>\n",
       "      <td>1.0</td>\n",
       "      <td>8.0</td>\n",
       "      <td>NaN</td>\n",
       "      <td>NaN</td>\n",
       "      <td>...</td>\n",
       "      <td>NaN</td>\n",
       "      <td>5432.465935</td>\n",
       "      <td>NaN</td>\n",
       "      <td>226.548300</td>\n",
       "      <td>NaN</td>\n",
       "      <td>0.410790</td>\n",
       "      <td>NaN</td>\n",
       "      <td>88889.052214</td>\n",
       "      <td>83225.344723</td>\n",
       "      <td>259193.205</td>\n",
       "    </tr>\n",
       "  </tbody>\n",
       "</table>\n",
       "<p>5 rows × 67 columns</p>\n",
       "</div>"
      ],
      "text/plain": [
       "                     apariciones_en_dia_1_auctions  \\\n",
       "device_id                                            \n",
       "4432995619177048534                           61.0   \n",
       "5904733559638204455                            NaN   \n",
       "896373747754111825                             NaN   \n",
       "3399210824535017892                            2.0   \n",
       "1541425881979513687                            NaN   \n",
       "\n",
       "                     apariciones_en_dia_1_events  \\\n",
       "device_id                                          \n",
       "4432995619177048534                          NaN   \n",
       "5904733559638204455                          NaN   \n",
       "896373747754111825                           8.0   \n",
       "3399210824535017892                          NaN   \n",
       "1541425881979513687                          NaN   \n",
       "\n",
       "                     apariciones_en_dia_2_auctions  \\\n",
       "device_id                                            \n",
       "4432995619177048534                            6.0   \n",
       "5904733559638204455                            NaN   \n",
       "896373747754111825                             NaN   \n",
       "3399210824535017892                            5.0   \n",
       "1541425881979513687                            9.0   \n",
       "\n",
       "                     apariciones_en_dia_2_events  \\\n",
       "device_id                                          \n",
       "4432995619177048534                          NaN   \n",
       "5904733559638204455                          NaN   \n",
       "896373747754111825                           NaN   \n",
       "3399210824535017892                          NaN   \n",
       "1541425881979513687                          NaN   \n",
       "\n",
       "                     apariciones_en_dia_3_auctions  \\\n",
       "device_id                                            \n",
       "4432995619177048534                            NaN   \n",
       "5904733559638204455                            NaN   \n",
       "896373747754111825                            29.0   \n",
       "3399210824535017892                           10.0   \n",
       "1541425881979513687                           17.0   \n",
       "\n",
       "                     apariciones_en_dia_3_events  \\\n",
       "device_id                                          \n",
       "4432995619177048534                          NaN   \n",
       "5904733559638204455                          NaN   \n",
       "896373747754111825                           NaN   \n",
       "3399210824535017892                          3.0   \n",
       "1541425881979513687                          NaN   \n",
       "\n",
       "                     apariciones_en_source_0_auctions  \\\n",
       "device_id                                               \n",
       "4432995619177048534                               NaN   \n",
       "5904733559638204455                               NaN   \n",
       "896373747754111825                               22.0   \n",
       "3399210824535017892                               NaN   \n",
       "1541425881979513687                               1.0   \n",
       "\n",
       "                     apariciones_en_source_1_auctions  \\\n",
       "device_id                                               \n",
       "4432995619177048534                               NaN   \n",
       "5904733559638204455                               NaN   \n",
       "896373747754111825                                1.0   \n",
       "3399210824535017892                               8.0   \n",
       "1541425881979513687                               8.0   \n",
       "\n",
       "                     apariciones_en_source_2_auctions  \\\n",
       "device_id                                               \n",
       "4432995619177048534                               NaN   \n",
       "5904733559638204455                               NaN   \n",
       "896373747754111825                                NaN   \n",
       "3399210824535017892                               3.0   \n",
       "1541425881979513687                               NaN   \n",
       "\n",
       "                     apariciones_en_source_3_auctions  ...  \\\n",
       "device_id                                              ...   \n",
       "4432995619177048534                               NaN  ...   \n",
       "5904733559638204455                               NaN  ...   \n",
       "896373747754111825                                1.0  ...   \n",
       "3399210824535017892                               3.0  ...   \n",
       "1541425881979513687                               NaN  ...   \n",
       "\n",
       "                     tiempo_hasta_click_std_clicks  \\\n",
       "device_id                                            \n",
       "4432995619177048534                            NaN   \n",
       "5904733559638204455                            NaN   \n",
       "896373747754111825                             NaN   \n",
       "3399210824535017892                            NaN   \n",
       "1541425881979513687                            NaN   \n",
       "\n",
       "                     tiempo_maximo_entre_apariciones_auctions  \\\n",
       "device_id                                                       \n",
       "4432995619177048534                              47229.315464   \n",
       "5904733559638204455                                       NaN   \n",
       "896373747754111825                               30181.455969   \n",
       "3399210824535017892                              93195.335577   \n",
       "1541425881979513687                               5432.465935   \n",
       "\n",
       "                     tiempo_maximo_entre_clicks  \\\n",
       "device_id                                         \n",
       "4432995619177048534                         NaN   \n",
       "5904733559638204455                         NaN   \n",
       "896373747754111825                          NaN   \n",
       "3399210824535017892                         NaN   \n",
       "1541425881979513687                         NaN   \n",
       "\n",
       "                     tiempo_medio_entre_apariciones_auctions  \\\n",
       "device_id                                                      \n",
       "4432995619177048534                              1337.516704   \n",
       "5904733559638204455                                      NaN   \n",
       "896373747754111825                               1167.947092   \n",
       "3399210824535017892                             11563.657060   \n",
       "1541425881979513687                               226.548300   \n",
       "\n",
       "                     tiempo_medio_entre_clicks  \\\n",
       "device_id                                        \n",
       "4432995619177048534                        NaN   \n",
       "5904733559638204455                        NaN   \n",
       "896373747754111825                         NaN   \n",
       "3399210824535017892                        NaN   \n",
       "1541425881979513687                        NaN   \n",
       "\n",
       "                     tiempo_minimo_entre_apariciones_auctions  \\\n",
       "device_id                                                       \n",
       "4432995619177048534                                  0.717932   \n",
       "5904733559638204455                                       NaN   \n",
       "896373747754111825                                   0.473952   \n",
       "3399210824535017892                                  0.058452   \n",
       "1541425881979513687                                  0.410790   \n",
       "\n",
       "                     tiempo_minimo_entre_clicks  \\\n",
       "device_id                                         \n",
       "4432995619177048534                         NaN   \n",
       "5904733559638204455                         NaN   \n",
       "896373747754111825                          NaN   \n",
       "3399210824535017892                         NaN   \n",
       "1541425881979513687                         NaN   \n",
       "\n",
       "                     tiempo_primera_aparicion_hasta_fin_ventana_auctions  \\\n",
       "device_id                                                                  \n",
       "4432995619177048534                                      258823.427910     \n",
       "5904733559638204455                                                NaN     \n",
       "896373747754111825                                        35612.316542     \n",
       "3399210824535017892                                      185101.221651     \n",
       "1541425881979513687                                       88889.052214     \n",
       "\n",
       "                     tiempo_ultima_aparicion_hasta_fin_ventana_auctions  \\\n",
       "device_id                                                                 \n",
       "4432995619177048534                                      170547.325432    \n",
       "5904733559638204455                                                NaN    \n",
       "896373747754111825                                         2909.797954    \n",
       "3399210824535017892                                          82.708688    \n",
       "1541425881979513687                                       83225.344723    \n",
       "\n",
       "                     tiempo_ultima_instalacion_hasta_fin_ventana  \n",
       "device_id                                                         \n",
       "4432995619177048534                                   259198.440  \n",
       "5904733559638204455                                   259198.149  \n",
       "896373747754111825                                    259190.842  \n",
       "3399210824535017892                                   259194.411  \n",
       "1541425881979513687                                   259193.205  \n",
       "\n",
       "[5 rows x 67 columns]"
      ]
     },
     "execution_count": 14,
     "metadata": {},
     "output_type": "execute_result"
    }
   ],
   "source": [
    "X_installs.head()"
   ]
  },
  {
   "cell_type": "code",
   "execution_count": 13,
   "metadata": {},
   "outputs": [
    {
     "data": {
      "text/plain": [
       "False    737575\n",
       "True     312769\n",
       "dtype: int64"
      ]
     },
     "execution_count": 13,
     "metadata": {},
     "output_type": "execute_result"
    }
   ],
   "source": [
    "(X_installs.T.agg(\"sum\") == 0).value_counts()"
   ]
  },
  {
   "cell_type": "code",
   "execution_count": 16,
   "metadata": {},
   "outputs": [],
   "source": [
    "minicopia = X_installs.head().copy()"
   ]
  },
  {
   "cell_type": "code",
   "execution_count": 21,
   "metadata": {},
   "outputs": [
    {
     "data": {
      "text/plain": [
       "device_id\n",
       "4432995619177048534    True\n",
       "5904733559638204455    True\n",
       "896373747754111825     True\n",
       "3399210824535017892    True\n",
       "1541425881979513687    True\n",
       "dtype: bool"
      ]
     },
     "execution_count": 21,
     "metadata": {},
     "output_type": "execute_result"
    }
   ],
   "source": [
    "minicopia.T.agg(\"sum\") != 0"
   ]
  },
  {
   "cell_type": "code",
   "execution_count": 10,
   "metadata": {},
   "outputs": [],
   "source": [
    "X_installs = X_installs.loc[filtro]"
   ]
  },
  {
   "cell_type": "code",
   "execution_count": 11,
   "metadata": {},
   "outputs": [],
   "source": [
    "y_installs = y_installs.loc[filtro]"
   ]
  },
  {
   "cell_type": "code",
   "execution_count": 9,
   "metadata": {},
   "outputs": [],
   "source": [
    "filtro = (X_installs.T.agg(\"sum\") != 0)"
   ]
  },
  {
   "cell_type": "code",
   "execution_count": 25,
   "metadata": {},
   "outputs": [
    {
     "data": {
      "text/plain": [
       "<matplotlib.axes._subplots.AxesSubplot at 0x7f96199973c8>"
      ]
     },
     "execution_count": 25,
     "metadata": {},
     "output_type": "execute_result"
    },
    {
     "data": {
      "image/png": "[encoded data removed]",
      "text/plain": [
       "<Figure size 432x288 with 1 Axes>"
      ]
     },
     "metadata": {},
     "output_type": "display_data"
    }
   ],
   "source": [
    "pd.Series(pred_installs_l).plot(kind=\"hist\")"
   ]
  },
  {
   "cell_type": "code",
   "execution_count": null,
   "metadata": {},
   "outputs": [],
   "source": [
    "model."
   ]
  }
 ],
 "metadata": {
  "kernelspec": {
   "display_name": "Python 3",
   "language": "python",
   "name": "python3"
  },
  "language_info": {
   "codemirror_mode": {
    "name": "ipython",
    "version": 3
   },
   "file_extension": ".py",
   "mimetype": "text/x-python",
   "name": "python",
   "nbconvert_exporter": "python",
   "pygments_lexer": "ipython3",
   "version": "3.6.5"
  }
 },
 "nbformat": 4,
 "nbformat_minor": 2
}
