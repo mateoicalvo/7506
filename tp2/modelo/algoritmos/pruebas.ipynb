{
 "cells": [
  {
   "cell_type": "markdown",
   "metadata": {},
   "source": [
    "# Imports"
   ]
  },
  {
   "cell_type": "code",
   "execution_count": 24,
   "metadata": {},
   "outputs": [],
   "source": [
    "import pandas as pd\n",
    "import numpy as np\n",
    "import xgboost as xgb\n",
    "from sklearn.model_selection import train_test_split\n",
    "from sklearn.metrics import mean_squared_error\n",
    "from math import sqrt\n",
    "from matplotlib import pyplot\n",
    "from hyperopt import hp, fmin, tpe, STATUS_OK, Trials\n",
    "import seaborn as sns"
   ]
  },
  {
   "cell_type": "markdown",
   "metadata": {},
   "source": [
    "---"
   ]
  },
  {
   "cell_type": "markdown",
   "metadata": {},
   "source": [
    "# Carga de datos"
   ]
  },
  {
   "cell_type": "code",
   "execution_count": 2,
   "metadata": {},
   "outputs": [],
   "source": [
    "targets_competencia = pd.read_pickle(\"../../../data/tp2/ref_hashes_target.pkl\")"
   ]
  },
  {
   "cell_type": "code",
   "execution_count": 4,
   "metadata": {},
   "outputs": [],
   "source": [
    "features_v1 = pd.read_pickle(\"../features/auctions_ventana_1_entrenar.pkl\")\n",
    "features_v2 = pd.read_pickle(\"../features/auctions_ventana_2_entrenar.pkl\")\n",
    "features_v3 = pd.read_pickle(\"../features/auctions_ventana_3_entrenar.pkl\")\n",
    "features_v4 = pd.read_pickle(\"../features/auctions_ventana_4_entrenar.pkl\")\n",
    "\n",
    "#Especiales\n",
    "features_v1_especial = pd.read_pickle(\"../features/auctions_ventana_1_entrenar_especiales.pkl\")\n",
    "features_v2_especial = pd.read_pickle(\"../features/auctions_ventana_2_entrenar_especiales.pkl\")\n",
    "features_v3_especial = pd.read_pickle(\"../features/auctions_ventana_3_entrenar_especiales.pkl\")"
   ]
  },
  {
   "cell_type": "code",
   "execution_count": 5,
   "metadata": {},
   "outputs": [],
   "source": [
    "labels_v1 = pd.read_pickle(\"../../modelo/targets/targets_ventana_1_auctions.pkl\")\n",
    "labels_v2 = pd.read_pickle(\"../../modelo/targets/targets_ventana_2_auctions.pkl\")\n",
    "labels_v3 = pd.read_pickle(\"../../modelo/targets/targets_ventana_3_auctions.pkl\")\n",
    "labels_v4 = pd.read_pickle(\"../../modelo/targets/targets_ventana_4_auctions.pkl\")"
   ]
  },
  {
   "cell_type": "markdown",
   "metadata": {},
   "source": [
    "# Modelo"
   ]
  },
  {
   "cell_type": "code",
   "execution_count": 12,
   "metadata": {},
   "outputs": [],
   "source": [
    "train = features_v1.merge(labels_v1, left_index=True, right_index=True)"
   ]
  },
  {
   "cell_type": "code",
   "execution_count": 18,
   "metadata": {},
   "outputs": [
    {
     "name": "stdout",
     "output_type": "stream",
     "text": [
      "100%|██████████| 100/100 [01:37<00:00,  1.17it/s, best loss: 88460.38893331273]\n",
      "{'colsample_bytree': 0.75, 'eta': 0.375, 'gamma': 0.8500000000000001, 'max_depth': 5, 'min_child_weight': 1.0, 'n_estimators': 44}\n"
     ]
    }
   ],
   "source": [
    "X, y = train.iloc[:,:-1], train.iloc[:,-1]\n",
    "X_train, X_test, y_train, y_test = \\\n",
    "    train_test_split(X, y, test_size=0.33, random_state=123)\n",
    "\n",
    "dtrain = xgb.DMatrix(data=X_train, label=y_train)\n",
    "dtest = xgb.DMatrix(data=X_test, label=y_test)\n",
    "\n",
    "space = {\n",
    "        'n_estimators': hp.choice('n_estimators', np.arange(100, 500+1)),\n",
    "        'eta': hp.quniform('eta', 0.025, 0.5, 0.025),\n",
    "        'max_depth':  hp.choice('max_depth', np.arange(1, 9, dtype=int)),\n",
    "        'min_child_weight': hp.quniform('min_child_weight', 0.5, 6, 1),\n",
    "        'gamma': hp.quniform('gamma', 0.5, 1, 0.05),\n",
    "        'colsample_bytree': hp.quniform('colsample_bytree', 0.5, 1, 0.05),\n",
    "        'eval_metric': 'rmse',\n",
    "        'obj': 'reg:squarederror',\n",
    "        'nthread': 6,\n",
    "        'booster': 'gbtree',\n",
    "        'tree_method': 'exact',\n",
    "        'silent': 1,\n",
    "        'seed': 123\n",
    "}\n",
    "\n",
    "\n",
    "def objective(space):\n",
    "    model = xgb.train(space, dtrain,evals=[(dtest, \"test\")], verbose_eval=False)\n",
    "    pred = model.predict(dtest)\n",
    "    rmse = np.sqrt(mean_squared_error(y_test, pred))\n",
    "    #print(\"RMSE: {}\".format(rmsee)) \n",
    "\n",
    "    return{'loss':rmse, 'status': STATUS_OK }\n",
    "\n",
    "\n",
    "trials = Trials()\n",
    "best = fmin(fn=objective,\n",
    "            space=space,\n",
    "            algo=tpe.suggest,\n",
    "            max_evals=100,\n",
    "            trials=trials)\n",
    "\n",
    "print(best)"
   ]
  },
  {
   "cell_type": "markdown",
   "metadata": {},
   "source": [
    "# Que pasa si armo un modelo con datos uniformes"
   ]
  },
  {
   "cell_type": "code",
   "execution_count": 20,
   "metadata": {},
   "outputs": [],
   "source": [
    "train_v1 = features_v1.merge(labels_v1, left_index=True, right_index=True)"
   ]
  },
  {
   "cell_type": "code",
   "execution_count": 21,
   "metadata": {},
   "outputs": [],
   "source": [
    "train_v2 = features_v1.merge(labels_v2, left_index=True, right_index=True)"
   ]
  },
  {
   "cell_type": "code",
   "execution_count": 22,
   "metadata": {},
   "outputs": [],
   "source": [
    "train_v3 = features_v1.merge(labels_v3, left_index=True, right_index=True)"
   ]
  },
  {
   "cell_type": "code",
   "execution_count": 23,
   "metadata": {},
   "outputs": [],
   "source": [
    "train_v4 = features_v1.merge(labels_v4, left_index=True, right_index=True)"
   ]
  },
  {
   "cell_type": "markdown",
   "metadata": {},
   "source": [
    "### Nos quedamos con train_v4 que es el mas reciente, y le agregamos datos de las ventanas anteriores"
   ]
  },
  {
   "cell_type": "code",
   "execution_count": 38,
   "metadata": {},
   "outputs": [],
   "source": [
    "train_uniforme = train_v4.append(train_v3.loc[(train_v3[\"target\"] > 25920) & (train_v3[\"target\"] < 233280)])"
   ]
  },
  {
   "cell_type": "code",
   "execution_count": 39,
   "metadata": {},
   "outputs": [],
   "source": [
    "train_uniforme = train_uniforme.append(train_v2.loc[(train_v3[\"target\"] > 25920) & (train_v2[\"target\"] < 233280)])"
   ]
  },
  {
   "cell_type": "code",
   "execution_count": 40,
   "metadata": {},
   "outputs": [],
   "source": [
    "train_uniforme = train_uniforme.append(train_v1.loc[(train_v3[\"target\"] > 25920) & (train_v1[\"target\"] < 233280)])"
   ]
  },
  {
   "cell_type": "code",
   "execution_count": 41,
   "metadata": {},
   "outputs": [
    {
     "data": {
      "text/plain": [
       "<matplotlib.axes._subplots.AxesSubplot at 0x7f8db0eee128>"
      ]
     },
     "execution_count": 41,
     "metadata": {},
     "output_type": "execute_result"
    },
    {
     "data": {
      "image/png": "[encoded data removed]",
      "text/plain": [
       "<Figure size 432x288 with 1 Axes>"
      ]
     },
     "metadata": {},
     "output_type": "display_data"
    }
   ],
   "source": [
    "train_uniforme[\"target\"].plot(kind=\"hist\", bins=20)"
   ]
  },
  {
   "cell_type": "code",
   "execution_count": 60,
   "metadata": {},
   "outputs": [
    {
     "name": "stdout",
     "output_type": "stream",
     "text": [
      "100%|██████████| 100/100 [02:30<00:00,  1.41s/it, best loss: 76915.63261071371]\n",
      "{'colsample_bytree': 0.75, 'eta': 0.45, 'gamma': 0.6000000000000001, 'max_depth': 4, 'min_child_weight': 5.0, 'n_estimators': 120}\n"
     ]
    }
   ],
   "source": [
    "X, y = train_uniforme.iloc[:,:-1], train_uniforme.iloc[:,-1]\n",
    "X_train, X_test, y_train, y_test = \\\n",
    "    train_test_split(X, y, test_size=0.33, random_state=123)\n",
    "\n",
    "dtrain = xgb.DMatrix(data=X_train, label=y_train)\n",
    "dtest = xgb.DMatrix(data=X_test, label=y_test)\n",
    "\n",
    "space = {\n",
    "        'n_estimators': hp.choice('n_estimators', np.arange(100, 500+1)),\n",
    "        'eta': hp.quniform('eta', 0.025, 0.5, 0.025),\n",
    "        'max_depth':  hp.choice('max_depth', np.arange(1, 9, dtype=int)),\n",
    "        'min_child_weight': hp.quniform('min_child_weight', 0.5, 6, 1),\n",
    "        'gamma': hp.quniform('gamma', 0.5, 1, 0.05),\n",
    "        'colsample_bytree': hp.quniform('colsample_bytree', 0.5, 1, 0.05),\n",
    "        'eval_metric': 'rmse',\n",
    "        'objective': 'reg:linear',\n",
    "        'nthread': 6,\n",
    "        'silent': 1,\n",
    "        'seed': 123\n",
    "}\n",
    "\n",
    "\n",
    "def objective(space):\n",
    "    model = xgb.train(space, dtrain,evals=[(dtest, \"test\")], verbose_eval=False)\n",
    "    pred = model.predict(dtest)\n",
    "    rmse = np.sqrt(mean_squared_error(y_test, pred))\n",
    "    #print(\"RMSE: {}\".format(rmsee)) \n",
    "\n",
    "    return{'loss':rmse, 'status': STATUS_OK }\n",
    "\n",
    "\n",
    "trials = Trials()\n",
    "best = fmin(fn=objective,\n",
    "            space=space,\n",
    "            algo=tpe.suggest,\n",
    "            max_evals=100,\n",
    "            trials=trials)\n",
    "\n",
    "print(best)\n",
    "#100%|██████████| 100/100 [02:39<00:00,  1.28s/it, best loss: 76914.3391598095]\n",
    "#{'colsample_bytree': 0.9, 'eta': 0.4, 'gamma': 0.55, 'max_depth': 4, 'min_child_weight': 2.0, 'n_estimators': 260}b"
   ]
  },
  {
   "cell_type": "code",
   "execution_count": 73,
   "metadata": {},
   "outputs": [
    {
     "name": "stdout",
     "output_type": "stream",
     "text": [
      "[0]\ttrain-rmse:93704.8+25.5939\ttest-rmse:93720.5+314\n",
      "[1]\ttrain-rmse:83591.7+54.9959\ttest-rmse:83626.1+277.691\n",
      "[2]\ttrain-rmse:79511.3+45.4497\ttest-rmse:79566.3+232.713\n",
      "[3]\ttrain-rmse:77935.7+27.3626\ttest-rmse:78004.1+210.95\n",
      "[4]\ttrain-rmse:77322.4+23.8933\ttest-rmse:77400.5+202.94\n",
      "[5]\ttrain-rmse:77076.2+23.0776\ttest-rmse:77166.7+199.68\n",
      "[6]\ttrain-rmse:76964.1+22.5129\ttest-rmse:77066.1+196.728\n",
      "[7]\ttrain-rmse:76907.6+22.5746\ttest-rmse:77018+197.455\n",
      "[8]\ttrain-rmse:76870.4+21.2309\ttest-rmse:76989.6+196.311\n",
      "[9]\ttrain-rmse:76841+20.0653\ttest-rmse:76971.3+197.487\n",
      "[10]\ttrain-rmse:76817.8+20.3018\ttest-rmse:76957.2+196.584\n",
      "[11]\ttrain-rmse:76800.2+20.1705\ttest-rmse:76950.9+196.725\n",
      "[12]\ttrain-rmse:76782.7+19.74\ttest-rmse:76942.1+195.655\n",
      "[13]\ttrain-rmse:76765.7+19.9961\ttest-rmse:76933+194.664\n",
      "[14]\ttrain-rmse:76751.2+20.2278\ttest-rmse:76928.8+194.555\n",
      "[15]\ttrain-rmse:76738+20.5251\ttest-rmse:76924.2+193.592\n",
      "[16]\ttrain-rmse:76726.8+21.3959\ttest-rmse:76924.8+191.047\n",
      "[17]\ttrain-rmse:76713.8+21.975\ttest-rmse:76922.2+193.89\n",
      "[18]\ttrain-rmse:76703.3+21.3336\ttest-rmse:76923.5+195.251\n",
      "[19]\ttrain-rmse:76691.3+20.1959\ttest-rmse:76922.3+198.252\n",
      "[20]\ttrain-rmse:76682.9+20.5051\ttest-rmse:76922.4+197.516\n",
      "[21]\ttrain-rmse:76673.5+20.3066\ttest-rmse:76921.9+197.262\n",
      "[22]\ttrain-rmse:76663.9+20.4266\ttest-rmse:76922.9+197.548\n",
      "[23]\ttrain-rmse:76654.7+20.3042\ttest-rmse:76923.2+198.715\n",
      "[24]\ttrain-rmse:76647.6+19.5558\ttest-rmse:76923.8+199.086\n",
      "[25]\ttrain-rmse:76640.6+18.76\ttest-rmse:76925.7+198.667\n",
      "[26]\ttrain-rmse:76634.1+19.5241\ttest-rmse:76925.7+198.053\n",
      "[27]\ttrain-rmse:76626.7+19.0314\ttest-rmse:76926.9+197.603\n",
      "[28]\ttrain-rmse:76621.9+18.7587\ttest-rmse:76928.5+197.231\n",
      "[29]\ttrain-rmse:76616+19.3923\ttest-rmse:76930.5+197.658\n",
      "[30]\ttrain-rmse:76608.4+20.7776\ttest-rmse:76931.1+196.441\n",
      "[31]\ttrain-rmse:76600.7+20.9711\ttest-rmse:76932+195.958\n",
      "[32]\ttrain-rmse:76593+20.715\ttest-rmse:76933.2+196.443\n",
      "[33]\ttrain-rmse:76585.6+20.5336\ttest-rmse:76935.2+197.311\n",
      "[34]\ttrain-rmse:76578.7+19.2248\ttest-rmse:76936.9+195.984\n",
      "[35]\ttrain-rmse:76572.9+18.3833\ttest-rmse:76938.6+195.696\n",
      "[36]\ttrain-rmse:76565.9+18.6734\ttest-rmse:76940.1+196.34\n",
      "[37]\ttrain-rmse:76558.2+18.8017\ttest-rmse:76940.6+195.771\n",
      "[38]\ttrain-rmse:76550.9+20.2874\ttest-rmse:76941.5+194.561\n",
      "[39]\ttrain-rmse:76543.5+20.4057\ttest-rmse:76943.2+193.797\n",
      "[40]\ttrain-rmse:76536.8+19.4254\ttest-rmse:76943.9+194.442\n"
     ]
    }
   ],
   "source": [
    "from sklearn.model_selection import KFold\n",
    "from sklearn.model_selection import cross_val_score\n",
    "from sklearn.metrics import mean_squared_error\n",
    "\n",
    "X, y = train_uniforme.iloc[:,:-1], train_uniforme.iloc[:,-1]\n",
    "X_train, X_test, y_train, y_test = \\\n",
    "    train_test_split(X, y, test_size=0.33, random_state=123)\n",
    "\n",
    "dtrain = xgb.DMatrix(data=X_train, label=y_train)\n",
    "dtest = xgb.DMatrix(data=X_test, label=y_test)\n",
    "\n",
    "#model = xgb.train(space, dtrain,evals=[(dtest, \"test\")], verbose_eval=False)\n",
    "\n",
    "\n",
    "cross = xgb.cv({'colsample_bytree': 0.9, 'eta': 0.4, 'gamma': 0.55, 'max_depth': 4, 'min_child_weight': 2.0, 'n_estimators': 260, 'silent' : 1}, dtrain, 5000, nfold=10, early_stopping_rounds=20, verbose_eval=1)"
   ]
  },
  {
   "cell_type": "code",
   "execution_count": 74,
   "metadata": {},
   "outputs": [
    {
     "data": {
      "text/plain": [
       "train-rmse-mean    78071.483807\n",
       "train-rmse-std        24.246825\n",
       "test-rmse-mean     78213.746271\n",
       "test-rmse-std        207.770242\n",
       "dtype: float64"
      ]
     },
     "execution_count": 74,
     "metadata": {},
     "output_type": "execute_result"
    }
   ],
   "source": [
    "cross.mean()"
   ]
  },
  {
   "cell_type": "markdown",
   "metadata": {},
   "source": [
    "# Qué tan bien funciona el modelo para predecir losdatos que no están en los utlimos tres dias"
   ]
  },
  {
   "cell_type": "code",
   "execution_count": 48,
   "metadata": {},
   "outputs": [],
   "source": [
    "train_6_dias = features_v1_especial.merge(labels_v4, left_index=True, right_index=True)"
   ]
  },
  {
   "cell_type": "code",
   "execution_count": 50,
   "metadata": {},
   "outputs": [
    {
     "name": "stdout",
     "output_type": "stream",
     "text": [
      "100%|██████████| 100/100 [00:10<00:00,  9.12it/s, best loss: 253.171875]\n",
      "{'colsample_bytree': 0.75, 'eta': 0.5, 'gamma': 0.9, 'max_depth': 0, 'min_child_weight': 4.0, 'n_estimators': 243}\n"
     ]
    }
   ],
   "source": [
    "X, y = train_6_dias.iloc[:,:-1], train_6_dias.iloc[:,-1]\n",
    "X_train, X_test, y_train, y_test = \\\n",
    "    train_test_split(X, y, test_size=0.33, random_state=123)\n",
    "\n",
    "dtrain = xgb.DMatrix(data=X_train, label=y_train)\n",
    "dtest = xgb.DMatrix(data=X_test, label=y_test)\n",
    "\n",
    "space = {\n",
    "        'n_estimators': hp.choice('n_estimators', np.arange(100, 500+1)),\n",
    "        'eta': hp.quniform('eta', 0.025, 0.5, 0.025),\n",
    "        'max_depth':  hp.choice('max_depth', np.arange(1, 9, dtype=int)),\n",
    "        'min_child_weight': hp.quniform('min_child_weight', 0.5, 6, 1),\n",
    "        'gamma': hp.quniform('gamma', 0.5, 1, 0.05),\n",
    "        'colsample_bytree': hp.quniform('colsample_bytree', 0.5, 1, 0.05),\n",
    "        'eval_metric': 'rmse',\n",
    "        'obj': 'reg:squarederror',\n",
    "        'nthread': 6,\n",
    "        'booster': 'gbtree',\n",
    "        'tree_method': 'exact',\n",
    "        'silent': 1,\n",
    "        'seed': 123\n",
    "}\n",
    "\n",
    "\n",
    "def objective(space):\n",
    "    model = xgb.train(space, dtrain,evals=[(dtest, \"test\")], verbose_eval=False)\n",
    "    pred = model.predict(dtest)\n",
    "    rmse = np.sqrt(mean_squared_error(y_test, pred))\n",
    "    #print(\"RMSE: {}\".format(rmsee)) \n",
    "\n",
    "    return{'loss':rmse, 'status': STATUS_OK }\n",
    "\n",
    "\n",
    "trials = Trials()\n",
    "best = fmin(fn=objective,\n",
    "            space=space,\n",
    "            algo=tpe.suggest,\n",
    "            max_evals=100,\n",
    "            trials=trials)\n",
    "\n",
    "print(best)\n",
    "#100%|██████████| 100/100 [02:39<00:00,  1.28s/it, best loss: 76914.3391598095]\n",
    "#{'colsample_bytree': 0.9, 'eta': 0.4, 'gamma': 0.55, 'max_depth': 4, 'min_child_weight': 2.0, 'n_estimators': 260}b"
   ]
  },
  {
   "cell_type": "markdown",
   "metadata": {},
   "source": [
    "### Tiene sentido, si por definición TODOS los labels son 259200... Capaz un feature de censoring ayude"
   ]
  },
  {
   "cell_type": "markdown",
   "metadata": {},
   "source": [
    "---"
   ]
  },
  {
   "cell_type": "markdown",
   "metadata": {},
   "source": [
    "---"
   ]
  },
  {
   "cell_type": "markdown",
   "metadata": {},
   "source": [
    "---"
   ]
  },
  {
   "cell_type": "markdown",
   "metadata": {},
   "source": [
    "# LO QUE SIGUE ACA DEBAJO; ES VIEJO"
   ]
  },
  {
   "cell_type": "markdown",
   "metadata": {},
   "source": [
    "# Miro coincidencias para las ventanas"
   ]
  },
  {
   "cell_type": "code",
   "execution_count": 5,
   "metadata": {},
   "outputs": [
    {
     "name": "stdout",
     "output_type": "stream",
     "text": [
      "El 68.0% de los dispositivos de la competencia están en la ventana 1\n",
      "El 69.63% de los dispositivos de la competencia están en la ventana 2\n",
      "El 73.22% de los dispositivos de la competencia están en la ventana 3\n",
      "El 75.15% de los dispositivos de la competencia están en la ventana 4\n"
     ]
    }
   ],
   "source": [
    "i = 1\n",
    "for ventana in ventanas:\n",
    "    coincidencias = pd.Series(targets_competencia.index.isin(ventana.index)).value_counts()\n",
    "    porcentaje = round(100*coincidencias[True] / (coincidencias[True] + coincidencias[False]), 2)\n",
    "    print(\"El {}% de los dispositivos de la competencia están en la ventana {}\".format(porcentaje, i))\n",
    "    i += 1"
   ]
  },
  {
   "cell_type": "markdown",
   "metadata": {},
   "source": [
    "---"
   ]
  },
  {
   "cell_type": "markdown",
   "metadata": {},
   "source": [
    "# Para cada dispositivo, veo en qué ventanas aparece"
   ]
  },
  {
   "cell_type": "code",
   "execution_count": 8,
   "metadata": {},
   "outputs": [],
   "source": [
    "apariciones = targets_competencia.copy()"
   ]
  },
  {
   "cell_type": "code",
   "execution_count": 9,
   "metadata": {},
   "outputs": [],
   "source": [
    "for ventana_nro in range(1,5):\n",
    "    apariciones[\"en_ventana_{}\".format(ventana_nro)] = targets_competencia.index.isin(ventanas[ventana_nro - 1].index)"
   ]
  },
  {
   "cell_type": "code",
   "execution_count": 10,
   "metadata": {},
   "outputs": [],
   "source": [
    "apariciones[\"OR\"] = (apariciones[\"en_ventana_1\"] | apariciones[\"en_ventana_2\"] | apariciones[\"en_ventana_3\"] | apariciones[\"en_ventana_4\"])"
   ]
  },
  {
   "cell_type": "code",
   "execution_count": 11,
   "metadata": {},
   "outputs": [
    {
     "data": {
      "text/plain": [
       "True     3492\n",
       "False     545\n",
       "Name: OR, dtype: int64"
      ]
     },
     "execution_count": 11,
     "metadata": {},
     "output_type": "execute_result"
    }
   ],
   "source": [
    "apariciones[\"OR\"].value_counts()"
   ]
  },
  {
   "cell_type": "markdown",
   "metadata": {},
   "source": [
    "---"
   ]
  },
  {
   "cell_type": "markdown",
   "metadata": {},
   "source": [
    "## Conclusion: Como al parecer usar features de varios datasets mejora considerablemente la puntuación, voy a tratar de crear features para personas \"similares\" a las de la competencia. Esto es, crear features sólo con los dispositivos de la competencia y aquellos otros que tengan la misma presencia en los datos (que se puedan calcular los mismos features)"
   ]
  },
  {
   "cell_type": "markdown",
   "metadata": {},
   "source": [
    "---"
   ]
  },
  {
   "cell_type": "markdown",
   "metadata": {},
   "source": [
    "# Entreno hasta la ventana 4 que es la ultima que esta completa"
   ]
  },
  {
   "cell_type": "markdown",
   "metadata": {},
   "source": [
    "## Tiempo medio todas las ventanas"
   ]
  },
  {
   "cell_type": "code",
   "execution_count": 11,
   "metadata": {},
   "outputs": [],
   "source": [
    "targets_competencia.index.rename(\"device_id\", inplace=True)"
   ]
  },
  {
   "cell_type": "code",
   "execution_count": 12,
   "metadata": {},
   "outputs": [],
   "source": [
    "gb = auctions_competencia.groupby(\"device_id\")\n",
    "ps = {}\n",
    "for t, g in gb:\n",
    "    ps[t] = g[\"date\"].sub(g[\"date\"].shift()).mean()\n",
    "targets_competencia[\"tiempo_medio_entre_apariciones_todas_las_ventanas\"] = pd.Series(ps).dt.total_seconds().to_frame().rename(columns={0: \"tiempo_medio_entre_apariciones_todas_las_ventanas\"})"
   ]
  },
  {
   "cell_type": "markdown",
   "metadata": {},
   "source": [
    "---"
   ]
  },
  {
   "cell_type": "markdown",
   "metadata": {},
   "source": [
    "# Random search"
   ]
  },
  {
   "cell_type": "code",
   "execution_count": 55,
   "metadata": {},
   "outputs": [
    {
     "name": "stdout",
     "output_type": "stream",
     "text": [
      "100%|██████████| 100/100 [01:07<00:00,  1.46it/s, best loss: 88256.51073621812]\n",
      "{'colsample_bytree': 0.8500000000000001, 'eta': 0.47500000000000003, 'gamma': 0.65, 'max_depth': 5, 'min_child_weight': 6.0, 'n_estimators': 725}\n"
     ]
    }
   ],
   "source": [
    "from hyperopt import hp, fmin, tpe, STATUS_OK, Trials\n",
    "X, y = train.iloc[:,:-1], train.iloc[:,-1]\n",
    "X_train, X_test, y_train, y_test = \\\n",
    "    train_test_split(X, y, test_size=0.2, random_state=123)\n",
    "\n",
    "dtrain = xgb.DMatrix(data=X_train, label=y_train)\n",
    "dtest = xgb.DMatrix(data=X_test, label=y_test)\n",
    "\n",
    "space = {\n",
    "        'n_estimators': hp.choice('n_estimators', np.arange(100, 1000+1)),\n",
    "        'eta': hp.quniform('eta', 0.025, 0.5, 0.025),\n",
    "        # A problem with max_depth casted to float instead of int with\n",
    "        # the hp.quniform method.\n",
    "        'max_depth':  hp.choice('max_depth', np.arange(1, 7, dtype=int)),\n",
    "        'min_child_weight': hp.quniform('min_child_weight', 1, 6, 1),\n",
    "        'gamma': hp.quniform('gamma', 0.5, 1, 0.05),\n",
    "        'colsample_bytree': hp.quniform('colsample_bytree', 0.5, 1, 0.05),\n",
    "        'eval_metric': 'rmse',\n",
    "        'objective': 'reg:linear',\n",
    "        # Increase this number if you have more cores. Otherwise, remove it and it will default \n",
    "        # to the maxium number. \n",
    "        'nthread': 6,\n",
    "        'booster': 'gbtree',\n",
    "        'tree_method': 'exact',\n",
    "        'silent': 1,\n",
    "        'seed': 123\n",
    "}\n",
    "\n",
    "\n",
    "def objective(space):\n",
    "    model = xgb.train(space, dtrain,evals=[(dtest, \"test\")], verbose_eval=False)\n",
    "    pred = model.predict(dtest)\n",
    "    rmse = np.sqrt(mean_squared_error(y_test, pred))\n",
    "    #print(\"RMSE: {}\".format(rmsee)) \n",
    "\n",
    "    return{'loss':rmse, 'status': STATUS_OK }\n",
    "\n",
    "\n",
    "trials = Trials()\n",
    "best = fmin(fn=objective,\n",
    "            space=space,\n",
    "            algo=tpe.suggest,\n",
    "            max_evals=100,\n",
    "            trials=trials)\n",
    "\n",
    "print(best)\n",
    "#100%|██████████| 1000/1000 [02:47<00:00,  4.30it/s, best loss: 55400.115263399275]\n",
    "#{'colsample_bytree': 0.8, 'eta': 0.45, 'gamma': 0.9500000000000001, 'max_depth': 2, 'min_child_weight': 4.0, 'n_estimators': 86, 'subsample': 0.7000000000000001}"
   ]
  },
  {
   "cell_type": "markdown",
   "metadata": {},
   "source": [
    "---"
   ]
  },
  {
   "cell_type": "markdown",
   "metadata": {},
   "source": [
    "# Nuevas pruebas, modelo de ventana individual"
   ]
  },
  {
   "cell_type": "code",
   "execution_count": 73,
   "metadata": {},
   "outputs": [],
   "source": [
    "labels_v1 = pd.read_pickle(\"../../modelo/targets/targets_ventana_1_auctions.pkl\")\n",
    "labels_v2 = pd.read_pickle(\"../../modelo/targets/targets_ventana_2_auctions.pkl\")\n",
    "labels_v3 = pd.read_pickle(\"../../modelo/targets/targets_ventana_3_auctions.pkl\")\n",
    "labels_v4 = pd.read_pickle(\"../../modelo/targets/targets_ventana_4_auctions.pkl\")"
   ]
  },
  {
   "cell_type": "code",
   "execution_count": 74,
   "metadata": {},
   "outputs": [],
   "source": [
    "features = [features_v1, features_v2, features_v3, features_v4]\n",
    "labels = [labels_v1, labels_v2, labels_v3, labels_v4]"
   ]
  },
  {
   "cell_type": "code",
   "execution_count": 75,
   "metadata": {},
   "outputs": [
    {
     "name": "stdout",
     "output_type": "stream",
     "text": [
      "RMSE v_1: 88721.93541314879\n",
      "RMSE v_2: 90725.26771286836\n",
      "RMSE v_3: 89430.53749500832\n",
      "RMSE v_4: 88293.96164069342\n"
     ]
    }
   ],
   "source": [
    "modelos = []\n",
    "for x in range(4):\n",
    "    train = features[x].merge(labels[x], left_index=True, right_index=True, how=\"left\")\n",
    "    #train[\"target\"] = train[\"target\"].fillna(259200)\n",
    "    X, y = train.iloc[:,:-1], train.iloc[:,-1]\n",
    "    X_train, X_test, y_train, y_test = \\\n",
    "    train_test_split(X, y, test_size=0.05, random_state=123)\n",
    "    xg_reg = xgb.XGBRegressor(n_jobs=6)\n",
    "    xg_reg.fit(X_train,y_train)\n",
    "    preds = xg_reg.predict(X_test)\n",
    "    rmse = np.sqrt(mean_squared_error(y_test, preds))\n",
    "    print(\"RMSE v_{}: {}\".format(x+1, rmse))\n",
    "    modelos.append(xg_reg)\n",
    "    "
   ]
  },
  {
   "cell_type": "markdown",
   "metadata": {},
   "source": [
    "# Cargo features de competencia"
   ]
  },
  {
   "cell_type": "code",
   "execution_count": 79,
   "metadata": {},
   "outputs": [],
   "source": [
    "features_v1_competencia = pd.read_pickle(\"../features/auctions_train_ventana_1_competencia.pkl\")\n",
    "features_v2_competencia = pd.read_pickle(\"../features/auctions_train_ventana_2_competencia.pkl\")\n",
    "features_v3_competencia = pd.read_pickle(\"../features/auctions_train_ventana_3_competencia.pkl\")\n",
    "features_v4_competencia = pd.read_pickle(\"../features/auctions_train_ventana_4_competencia.pkl\")"
   ]
  },
  {
   "cell_type": "code",
   "execution_count": 102,
   "metadata": {},
   "outputs": [],
   "source": [
    "targets_competencia = pd.read_pickle(\"../../../data/tp2/ref_hashes_target.pkl\")"
   ]
  },
  {
   "cell_type": "code",
   "execution_count": 110,
   "metadata": {},
   "outputs": [],
   "source": [
    "demo = targets_competencia.merge(features_v1_competencia, left_index=True, right_index=True)"
   ]
  },
  {
   "cell_type": "code",
   "execution_count": 111,
   "metadata": {},
   "outputs": [],
   "source": [
    "labels_v4_competencia_posta = targets_competencia.merge(labels_v4, left_index=True, right_index=True)"
   ]
  },
  {
   "cell_type": "code",
   "execution_count": 114,
   "metadata": {},
   "outputs": [],
   "source": [
    "train_inner = demo.merge(labels_v4_competencia_posta, how=\"inner\", left_index=True, right_index=True)"
   ]
  }
 ],
 "metadata": {
  "kernelspec": {
   "display_name": "Python 3",
   "language": "python",
   "name": "python3"
  },
  "language_info": {
   "codemirror_mode": {
    "name": "ipython",
    "version": 3
   },
   "file_extension": ".py",
   "mimetype": "text/x-python",
   "name": "python",
   "nbconvert_exporter": "python",
   "pygments_lexer": "ipython3",
   "version": "3.6.5"
  }
 },
 "nbformat": 4,
 "nbformat_minor": 2
}
