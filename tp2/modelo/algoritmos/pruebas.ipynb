{
 "cells": [
  {
   "cell_type": "markdown",
   "metadata": {},
   "source": [
    "# Imports"
   ]
  },
  {
   "cell_type": "code",
   "execution_count": 2,
   "metadata": {},
   "outputs": [],
   "source": [
    "import pandas as pd\n",
    "import numpy as np\n",
    "import xgboost as xgb\n",
    "from sklearn.model_selection import train_test_split\n",
    "from sklearn.metrics import mean_squared_error"
   ]
  },
  {
   "cell_type": "markdown",
   "metadata": {},
   "source": [
    "---"
   ]
  },
  {
   "cell_type": "markdown",
   "metadata": {},
   "source": [
    "# Carga de datos"
   ]
  },
  {
   "cell_type": "code",
   "execution_count": 6,
   "metadata": {},
   "outputs": [],
   "source": [
    "targets_compentencia = pd.read_pickle(\"../../../data/tp2/ref_hashes_target.pkl\")\n",
    "features_v1 = pd.read_pickle(\"../features/auctions_train_ventana_1.pkl\")\n",
    "features_v2 = pd.read_pickle(\"../features/auctions_train_ventana_2.pkl\")\n",
    "features_v3 = pd.read_pickle(\"../features/auctions_train_ventana_3.pkl\")\n",
    "features_v4 = pd.read_pickle(\"../features/auctions_train_ventana_4.pkl\")\n",
    "features_v5 = pd.read_pickle(\"../features/auctions_train_ventana_5.pkl\")"
   ]
  },
  {
   "cell_type": "code",
   "execution_count": 11,
   "metadata": {},
   "outputs": [],
   "source": [
    "ventanas = [features_v1, features_v2, features_v3, features_v4, features_v5]"
   ]
  },
  {
   "cell_type": "markdown",
   "metadata": {},
   "source": [
    "---"
   ]
  },
  {
   "cell_type": "markdown",
   "metadata": {},
   "source": [
    "# Miro coincidencias para las ventanas"
   ]
  },
  {
   "cell_type": "code",
   "execution_count": 26,
   "metadata": {},
   "outputs": [
    {
     "name": "stdout",
     "output_type": "stream",
     "text": [
      "El 68.0% de los dispositivos de la competencia están en la ventana 1\n",
      "El 69.63% de los dispositivos de la competencia están en la ventana 2\n",
      "El 73.22% de los dispositivos de la competencia están en la ventana 3\n",
      "El 75.15% de los dispositivos de la competencia están en la ventana 4\n",
      "El 76.81% de los dispositivos de la competencia están en la ventana 5\n"
     ]
    }
   ],
   "source": [
    "i = 1\n",
    "for ventana in ventanas:\n",
    "    coincidencias = pd.Series(targets_compentencia.index.isin(ventana.index)).value_counts()\n",
    "    porcentaje = round(100*coincidencias[True] / (coincidencias[True] + coincidencias[False]), 2)\n",
    "    print(\"El {}% de los dispositivos de la competencia están en la ventana {}\".format(porcentaje, i))\n",
    "    i += 1"
   ]
  },
  {
   "cell_type": "markdown",
   "metadata": {},
   "source": [
    "---"
   ]
  },
  {
   "cell_type": "markdown",
   "metadata": {},
   "source": [
    "# Para cada dispositivo, veo en qué ventanas aparece"
   ]
  },
  {
   "cell_type": "code",
   "execution_count": 29,
   "metadata": {},
   "outputs": [],
   "source": [
    "apariciones = targets_compentencia.copy()"
   ]
  },
  {
   "cell_type": "code",
   "execution_count": 30,
   "metadata": {},
   "outputs": [],
   "source": [
    "for ventana_nro in range(1,6):\n",
    "    apariciones[\"en_ventana_{}\".format(ventana_nro)] = targets_compentencia.index.isin(ventanas[ventana_nro - 1].index)"
   ]
  },
  {
   "cell_type": "code",
   "execution_count": 35,
   "metadata": {},
   "outputs": [
    {
     "data": {
      "text/html": [
       "<div>\n",
       "<style scoped>\n",
       "    .dataframe tbody tr th:only-of-type {\n",
       "        vertical-align: middle;\n",
       "    }\n",
       "\n",
       "    .dataframe tbody tr th {\n",
       "        vertical-align: top;\n",
       "    }\n",
       "\n",
       "    .dataframe thead th {\n",
       "        text-align: right;\n",
       "    }\n",
       "</style>\n",
       "<table border=\"1\" class=\"dataframe\">\n",
       "  <thead>\n",
       "    <tr style=\"text-align: right;\">\n",
       "      <th></th>\n",
       "      <th>en_ventana_1</th>\n",
       "      <th>en_ventana_2</th>\n",
       "      <th>en_ventana_3</th>\n",
       "      <th>en_ventana_4</th>\n",
       "      <th>en_ventana_5</th>\n",
       "    </tr>\n",
       "    <tr>\n",
       "      <th>ref_hash</th>\n",
       "      <th></th>\n",
       "      <th></th>\n",
       "      <th></th>\n",
       "      <th></th>\n",
       "      <th></th>\n",
       "    </tr>\n",
       "  </thead>\n",
       "  <tbody>\n",
       "    <tr>\n",
       "      <th>1000169251625791246</th>\n",
       "      <td>True</td>\n",
       "      <td>True</td>\n",
       "      <td>True</td>\n",
       "      <td>True</td>\n",
       "      <td>True</td>\n",
       "    </tr>\n",
       "    <tr>\n",
       "      <th>1000395625957344683</th>\n",
       "      <td>True</td>\n",
       "      <td>True</td>\n",
       "      <td>True</td>\n",
       "      <td>True</td>\n",
       "      <td>True</td>\n",
       "    </tr>\n",
       "    <tr>\n",
       "      <th>1003027494996471685</th>\n",
       "      <td>True</td>\n",
       "      <td>True</td>\n",
       "      <td>True</td>\n",
       "      <td>True</td>\n",
       "      <td>True</td>\n",
       "    </tr>\n",
       "    <tr>\n",
       "      <th>1006670001679961544</th>\n",
       "      <td>False</td>\n",
       "      <td>False</td>\n",
       "      <td>False</td>\n",
       "      <td>False</td>\n",
       "      <td>True</td>\n",
       "    </tr>\n",
       "    <tr>\n",
       "      <th>1007573308966476713</th>\n",
       "      <td>True</td>\n",
       "      <td>True</td>\n",
       "      <td>True</td>\n",
       "      <td>True</td>\n",
       "      <td>True</td>\n",
       "    </tr>\n",
       "  </tbody>\n",
       "</table>\n",
       "</div>"
      ],
      "text/plain": [
       "                     en_ventana_1  en_ventana_2  en_ventana_3  en_ventana_4  \\\n",
       "ref_hash                                                                      \n",
       "1000169251625791246          True          True          True          True   \n",
       "1000395625957344683          True          True          True          True   \n",
       "1003027494996471685          True          True          True          True   \n",
       "1006670001679961544         False         False         False         False   \n",
       "1007573308966476713          True          True          True          True   \n",
       "\n",
       "                     en_ventana_5  \n",
       "ref_hash                           \n",
       "1000169251625791246          True  \n",
       "1000395625957344683          True  \n",
       "1003027494996471685          True  \n",
       "1006670001679961544          True  \n",
       "1007573308966476713          True  "
      ]
     },
     "execution_count": 35,
     "metadata": {},
     "output_type": "execute_result"
    }
   ],
   "source": [
    "apariciones.head()"
   ]
  }
 ],
 "metadata": {
  "kernelspec": {
   "display_name": "Python 3",
   "language": "python",
   "name": "python3"
  },
  "language_info": {
   "codemirror_mode": {
    "name": "ipython",
    "version": 3
   },
   "file_extension": ".py",
   "mimetype": "text/x-python",
   "name": "python",
   "nbconvert_exporter": "python",
   "pygments_lexer": "ipython3",
   "version": "3.6.5"
  }
 },
 "nbformat": 4,
 "nbformat_minor": 2
}
