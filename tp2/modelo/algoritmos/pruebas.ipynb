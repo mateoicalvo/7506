{
 "cells": [
  {
   "cell_type": "markdown",
   "metadata": {},
   "source": [
    "# Imports"
   ]
  },
  {
   "cell_type": "code",
   "execution_count": 2,
   "metadata": {},
   "outputs": [],
   "source": [
    "import pandas as pd\n",
    "import numpy as np\n",
    "import xgboost as xgb\n",
    "from sklearn.model_selection import train_test_split\n",
    "from sklearn.metrics import mean_squared_error"
   ]
  },
  {
   "cell_type": "markdown",
   "metadata": {},
   "source": [
    "---"
   ]
  },
  {
   "cell_type": "markdown",
   "metadata": {},
   "source": [
    "# Carga de datos"
   ]
  },
  {
   "cell_type": "code",
   "execution_count": 13,
   "metadata": {},
   "outputs": [],
   "source": [
    "targets_compentencia = pd.read_pickle(\"../../../data/tp2/ref_hashes_target.pkl\")"
   ]
  },
  {
   "cell_type": "code",
   "execution_count": 3,
   "metadata": {},
   "outputs": [],
   "source": [
    "features_v1 = pd.read_pickle(\"../features/auctions_train_ventana_1.pkl\")\n",
    "features_v2 = pd.read_pickle(\"../features/auctions_train_ventana_2.pkl\")\n",
    "features_v3 = pd.read_pickle(\"../features/auctions_train_ventana_3.pkl\")\n",
    "features_v4 = pd.read_pickle(\"../features/auctions_train_ventana_4.pkl\")\n",
    "features_v5 = pd.read_pickle(\"../features/auctions_train_ventana_5.pkl\")"
   ]
  },
  {
   "cell_type": "code",
   "execution_count": 4,
   "metadata": {},
   "outputs": [],
   "source": [
    "ventanas = [features_v1, features_v2, features_v3, features_v4, features_v5]"
   ]
  },
  {
   "cell_type": "markdown",
   "metadata": {},
   "source": [
    "---"
   ]
  },
  {
   "cell_type": "markdown",
   "metadata": {},
   "source": [
    "# Miro coincidencias para las ventanas"
   ]
  },
  {
   "cell_type": "code",
   "execution_count": 5,
   "metadata": {},
   "outputs": [
    {
     "name": "stdout",
     "output_type": "stream",
     "text": [
      "El 68.0% de los dispositivos de la competencia están en la ventana 1\n",
      "El 69.63% de los dispositivos de la competencia están en la ventana 2\n",
      "El 73.22% de los dispositivos de la competencia están en la ventana 3\n",
      "El 75.15% de los dispositivos de la competencia están en la ventana 4\n",
      "El 76.81% de los dispositivos de la competencia están en la ventana 5\n"
     ]
    }
   ],
   "source": [
    "i = 1\n",
    "for ventana in ventanas:\n",
    "    coincidencias = pd.Series(targets_compentencia.index.isin(ventana.index)).value_counts()\n",
    "    porcentaje = round(100*coincidencias[True] / (coincidencias[True] + coincidencias[False]), 2)\n",
    "    print(\"El {}% de los dispositivos de la competencia están en la ventana {}\".format(porcentaje, i))\n",
    "    i += 1"
   ]
  },
  {
   "cell_type": "markdown",
   "metadata": {},
   "source": [
    "---"
   ]
  },
  {
   "cell_type": "markdown",
   "metadata": {},
   "source": [
    "# Para cada dispositivo, veo en qué ventanas aparece"
   ]
  },
  {
   "cell_type": "code",
   "execution_count": 6,
   "metadata": {},
   "outputs": [],
   "source": [
    "apariciones = targets_compentencia.copy()"
   ]
  },
  {
   "cell_type": "code",
   "execution_count": 7,
   "metadata": {},
   "outputs": [],
   "source": [
    "for ventana_nro in range(1,6):\n",
    "    apariciones[\"en_ventana_{}\".format(ventana_nro)] = targets_compentencia.index.isin(ventanas[ventana_nro - 1].index)"
   ]
  },
  {
   "cell_type": "code",
   "execution_count": 13,
   "metadata": {},
   "outputs": [],
   "source": [
    "apariciones[\"OR\"] = (apariciones[\"en_ventana_1\"] | apariciones[\"en_ventana_2\"] | apariciones[\"en_ventana_3\"] | apariciones[\"en_ventana_4\"] | apariciones[\"en_ventana_5\"])"
   ]
  },
  {
   "cell_type": "code",
   "execution_count": 28,
   "metadata": {},
   "outputs": [
    {
     "data": {
      "text/plain": [
       "True     3678\n",
       "False     359\n",
       "Name: OR, dtype: int64"
      ]
     },
     "execution_count": 28,
     "metadata": {},
     "output_type": "execute_result"
    }
   ],
   "source": [
    "apariciones[\"OR\"].value_counts()"
   ]
  },
  {
   "cell_type": "markdown",
   "metadata": {},
   "source": [
    "---"
   ]
  }
 ],
 "metadata": {
  "kernelspec": {
   "display_name": "Python 3",
   "language": "python",
   "name": "python3"
  },
  "language_info": {
   "codemirror_mode": {
    "name": "ipython",
    "version": 3
   },
   "file_extension": ".py",
   "mimetype": "text/x-python",
   "name": "python",
   "nbconvert_exporter": "python",
   "pygments_lexer": "ipython3",
   "version": "3.6.5"
  }
 },
 "nbformat": 4,
 "nbformat_minor": 2
}
