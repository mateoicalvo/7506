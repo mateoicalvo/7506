{
 "cells": [
  {
   "cell_type": "markdown",
   "metadata": {},
   "source": [
    "# Imports"
   ]
  },
  {
   "cell_type": "code",
   "execution_count": 8,
   "metadata": {},
   "outputs": [],
   "source": [
    "import pandas as pd\n",
    "import numpy as np\n",
    "import xgboost as xgb\n",
    "from sklearn.model_selection import train_test_split\n",
    "from sklearn.metrics import mean_squared_error\n",
    "from math import sqrt\n",
    "from matplotlib import pyplot\n",
    "from hyperopt import hp, fmin, tpe, STATUS_OK, Trials"
   ]
  },
  {
   "cell_type": "markdown",
   "metadata": {},
   "source": [
    "---"
   ]
  },
  {
   "cell_type": "markdown",
   "metadata": {},
   "source": [
    "# Carga de datos"
   ]
  },
  {
   "cell_type": "code",
   "execution_count": 2,
   "metadata": {},
   "outputs": [],
   "source": [
    "targets_competencia = pd.read_pickle(\"../../../data/tp2/ref_hashes_target.pkl\")"
   ]
  },
  {
   "cell_type": "code",
   "execution_count": 4,
   "metadata": {},
   "outputs": [],
   "source": [
    "features_v1 = pd.read_pickle(\"../features/auctions_ventana_1_entrenar.pkl\")\n",
    "features_v2 = pd.read_pickle(\"../features/auctions_ventana_2_entrenar.pkl\")\n",
    "features_v3 = pd.read_pickle(\"../features/auctions_ventana_3_entrenar.pkl\")\n",
    "features_v4 = pd.read_pickle(\"../features/auctions_ventana_4_entrenar.pkl\")\n",
    "\n",
    "#Especiales\n",
    "features_v1_especial = pd.read_pickle(\"../features/auctions_ventana_1_entrenar_especiales.pkl\")\n",
    "features_v2_especial = pd.read_pickle(\"../features/auctions_ventana_2_entrenar_especiales.pkl\")\n",
    "features_v3_especial = pd.read_pickle(\"../features/auctions_ventana_3_entrenar_especiales.pkl\")"
   ]
  },
  {
   "cell_type": "code",
   "execution_count": 5,
   "metadata": {},
   "outputs": [],
   "source": [
    "labels_v1 = pd.read_pickle(\"../../modelo/targets/targets_ventana_1_auctions.pkl\")\n",
    "labels_v2 = pd.read_pickle(\"../../modelo/targets/targets_ventana_2_auctions.pkl\")\n",
    "labels_v3 = pd.read_pickle(\"../../modelo/targets/targets_ventana_3_auctions.pkl\")\n",
    "labels_v4 = pd.read_pickle(\"../../modelo/targets/targets_ventana_4_auctions.pkl\")"
   ]
  },
  {
   "cell_type": "markdown",
   "metadata": {},
   "source": [
    "# Modelo"
   ]
  },
  {
   "cell_type": "code",
   "execution_count": 12,
   "metadata": {},
   "outputs": [],
   "source": [
    "train = features_v1.merge(labels_v1, left_index=True, right_index=True)"
   ]
  },
  {
   "cell_type": "code",
   "execution_count": 18,
   "metadata": {},
   "outputs": [
    {
     "name": "stdout",
     "output_type": "stream",
     "text": [
      "100%|██████████| 100/100 [01:37<00:00,  1.17it/s, best loss: 88460.38893331273]\n",
      "{'colsample_bytree': 0.75, 'eta': 0.375, 'gamma': 0.8500000000000001, 'max_depth': 5, 'min_child_weight': 1.0, 'n_estimators': 44}\n"
     ]
    }
   ],
   "source": [
    "X, y = train.iloc[:,:-1], train.iloc[:,-1]\n",
    "X_train, X_test, y_train, y_test = \\\n",
    "    train_test_split(X, y, test_size=0.33, random_state=123)\n",
    "\n",
    "dtrain = xgb.DMatrix(data=X_train, label=y_train)\n",
    "dtest = xgb.DMatrix(data=X_test, label=y_test)\n",
    "\n",
    "space = {\n",
    "        'n_estimators': hp.choice('n_estimators', np.arange(100, 500+1)),\n",
    "        'eta': hp.quniform('eta', 0.025, 0.5, 0.025),\n",
    "        'max_depth':  hp.choice('max_depth', np.arange(1, 9, dtype=int)),\n",
    "        'min_child_weight': hp.quniform('min_child_weight', 0.5, 6, 1),\n",
    "        'gamma': hp.quniform('gamma', 0.5, 1, 0.05),\n",
    "        'colsample_bytree': hp.quniform('colsample_bytree', 0.5, 1, 0.05),\n",
    "        'eval_metric': 'rmse',\n",
    "        'obj': 'reg:squarederror',\n",
    "        'nthread': 6,\n",
    "        'booster': 'gbtree',\n",
    "        'tree_method': 'exact',\n",
    "        'silent': 1,\n",
    "        'seed': 123\n",
    "}\n",
    "\n",
    "\n",
    "def objective(space):\n",
    "    model = xgb.train(space, dtrain,evals=[(dtest, \"test\")], verbose_eval=False)\n",
    "    pred = model.predict(dtest)\n",
    "    rmse = np.sqrt(mean_squared_error(y_test, pred))\n",
    "    #print(\"RMSE: {}\".format(rmsee)) \n",
    "\n",
    "    return{'loss':rmse, 'status': STATUS_OK }\n",
    "\n",
    "\n",
    "trials = Trials()\n",
    "best = fmin(fn=objective,\n",
    "            space=space,\n",
    "            algo=tpe.suggest,\n",
    "            max_evals=100,\n",
    "            trials=trials)\n",
    "\n",
    "print(best)"
   ]
  },
  {
   "cell_type": "markdown",
   "metadata": {},
   "source": [
    "---"
   ]
  },
  {
   "cell_type": "markdown",
   "metadata": {},
   "source": [
    "---"
   ]
  },
  {
   "cell_type": "markdown",
   "metadata": {},
   "source": [
    "---"
   ]
  },
  {
   "cell_type": "markdown",
   "metadata": {},
   "source": [
    "# Miro coincidencias para las ventanas"
   ]
  },
  {
   "cell_type": "markdown",
   "metadata": {},
   "source": [
    "# LO QUE SIGUE ACA DEBAJO; ES VIEJO"
   ]
  },
  {
   "cell_type": "code",
   "execution_count": 5,
   "metadata": {},
   "outputs": [
    {
     "name": "stdout",
     "output_type": "stream",
     "text": [
      "El 68.0% de los dispositivos de la competencia están en la ventana 1\n",
      "El 69.63% de los dispositivos de la competencia están en la ventana 2\n",
      "El 73.22% de los dispositivos de la competencia están en la ventana 3\n",
      "El 75.15% de los dispositivos de la competencia están en la ventana 4\n"
     ]
    }
   ],
   "source": [
    "i = 1\n",
    "for ventana in ventanas:\n",
    "    coincidencias = pd.Series(targets_competencia.index.isin(ventana.index)).value_counts()\n",
    "    porcentaje = round(100*coincidencias[True] / (coincidencias[True] + coincidencias[False]), 2)\n",
    "    print(\"El {}% de los dispositivos de la competencia están en la ventana {}\".format(porcentaje, i))\n",
    "    i += 1"
   ]
  },
  {
   "cell_type": "markdown",
   "metadata": {},
   "source": [
    "---"
   ]
  },
  {
   "cell_type": "markdown",
   "metadata": {},
   "source": [
    "# Para cada dispositivo, veo en qué ventanas aparece"
   ]
  },
  {
   "cell_type": "code",
   "execution_count": 8,
   "metadata": {},
   "outputs": [],
   "source": [
    "apariciones = targets_competencia.copy()"
   ]
  },
  {
   "cell_type": "code",
   "execution_count": 9,
   "metadata": {},
   "outputs": [],
   "source": [
    "for ventana_nro in range(1,5):\n",
    "    apariciones[\"en_ventana_{}\".format(ventana_nro)] = targets_competencia.index.isin(ventanas[ventana_nro - 1].index)"
   ]
  },
  {
   "cell_type": "code",
   "execution_count": 10,
   "metadata": {},
   "outputs": [],
   "source": [
    "apariciones[\"OR\"] = (apariciones[\"en_ventana_1\"] | apariciones[\"en_ventana_2\"] | apariciones[\"en_ventana_3\"] | apariciones[\"en_ventana_4\"])"
   ]
  },
  {
   "cell_type": "code",
   "execution_count": 11,
   "metadata": {},
   "outputs": [
    {
     "data": {
      "text/plain": [
       "True     3492\n",
       "False     545\n",
       "Name: OR, dtype: int64"
      ]
     },
     "execution_count": 11,
     "metadata": {},
     "output_type": "execute_result"
    }
   ],
   "source": [
    "apariciones[\"OR\"].value_counts()"
   ]
  },
  {
   "cell_type": "markdown",
   "metadata": {},
   "source": [
    "---"
   ]
  },
  {
   "cell_type": "markdown",
   "metadata": {},
   "source": [
    "## Conclusion: Como al parecer usar features de varios datasets mejora considerablemente la puntuación, voy a tratar de crear features para personas \"similares\" a las de la competencia. Esto es, crear features sólo con los dispositivos de la competencia y aquellos otros que tengan la misma presencia en los datos (que se puedan calcular los mismos features)"
   ]
  },
  {
   "cell_type": "markdown",
   "metadata": {},
   "source": [
    "---"
   ]
  },
  {
   "cell_type": "markdown",
   "metadata": {},
   "source": [
    "# Entreno hasta la ventana 4 que es la ultima que esta completa"
   ]
  },
  {
   "cell_type": "markdown",
   "metadata": {},
   "source": [
    "## Tiempo medio todas las ventanas"
   ]
  },
  {
   "cell_type": "code",
   "execution_count": 11,
   "metadata": {},
   "outputs": [],
   "source": [
    "targets_competencia.index.rename(\"device_id\", inplace=True)"
   ]
  },
  {
   "cell_type": "code",
   "execution_count": 12,
   "metadata": {},
   "outputs": [],
   "source": [
    "gb = auctions_competencia.groupby(\"device_id\")\n",
    "ps = {}\n",
    "for t, g in gb:\n",
    "    ps[t] = g[\"date\"].sub(g[\"date\"].shift()).mean()\n",
    "targets_competencia[\"tiempo_medio_entre_apariciones_todas_las_ventanas\"] = pd.Series(ps).dt.total_seconds().to_frame().rename(columns={0: \"tiempo_medio_entre_apariciones_todas_las_ventanas\"})"
   ]
  },
  {
   "cell_type": "markdown",
   "metadata": {},
   "source": [
    "---"
   ]
  },
  {
   "cell_type": "markdown",
   "metadata": {},
   "source": [
    "# Random search"
   ]
  },
  {
   "cell_type": "code",
   "execution_count": 55,
   "metadata": {},
   "outputs": [
    {
     "name": "stdout",
     "output_type": "stream",
     "text": [
      "100%|██████████| 100/100 [01:07<00:00,  1.46it/s, best loss: 88256.51073621812]\n",
      "{'colsample_bytree': 0.8500000000000001, 'eta': 0.47500000000000003, 'gamma': 0.65, 'max_depth': 5, 'min_child_weight': 6.0, 'n_estimators': 725}\n"
     ]
    }
   ],
   "source": [
    "from hyperopt import hp, fmin, tpe, STATUS_OK, Trials\n",
    "X, y = train.iloc[:,:-1], train.iloc[:,-1]\n",
    "X_train, X_test, y_train, y_test = \\\n",
    "    train_test_split(X, y, test_size=0.2, random_state=123)\n",
    "\n",
    "dtrain = xgb.DMatrix(data=X_train, label=y_train)\n",
    "dtest = xgb.DMatrix(data=X_test, label=y_test)\n",
    "\n",
    "space = {\n",
    "        'n_estimators': hp.choice('n_estimators', np.arange(100, 1000+1)),\n",
    "        'eta': hp.quniform('eta', 0.025, 0.5, 0.025),\n",
    "        # A problem with max_depth casted to float instead of int with\n",
    "        # the hp.quniform method.\n",
    "        'max_depth':  hp.choice('max_depth', np.arange(1, 7, dtype=int)),\n",
    "        'min_child_weight': hp.quniform('min_child_weight', 1, 6, 1),\n",
    "        'gamma': hp.quniform('gamma', 0.5, 1, 0.05),\n",
    "        'colsample_bytree': hp.quniform('colsample_bytree', 0.5, 1, 0.05),\n",
    "        'eval_metric': 'rmse',\n",
    "        'objective': 'reg:linear',\n",
    "        # Increase this number if you have more cores. Otherwise, remove it and it will default \n",
    "        # to the maxium number. \n",
    "        'nthread': 6,\n",
    "        'booster': 'gbtree',\n",
    "        'tree_method': 'exact',\n",
    "        'silent': 1,\n",
    "        'seed': 123\n",
    "}\n",
    "\n",
    "\n",
    "def objective(space):\n",
    "    model = xgb.train(space, dtrain,evals=[(dtest, \"test\")], verbose_eval=False)\n",
    "    pred = model.predict(dtest)\n",
    "    rmse = np.sqrt(mean_squared_error(y_test, pred))\n",
    "    #print(\"RMSE: {}\".format(rmsee)) \n",
    "\n",
    "    return{'loss':rmse, 'status': STATUS_OK }\n",
    "\n",
    "\n",
    "trials = Trials()\n",
    "best = fmin(fn=objective,\n",
    "            space=space,\n",
    "            algo=tpe.suggest,\n",
    "            max_evals=100,\n",
    "            trials=trials)\n",
    "\n",
    "print(best)\n",
    "#100%|██████████| 1000/1000 [02:47<00:00,  4.30it/s, best loss: 55400.115263399275]\n",
    "#{'colsample_bytree': 0.8, 'eta': 0.45, 'gamma': 0.9500000000000001, 'max_depth': 2, 'min_child_weight': 4.0, 'n_estimators': 86, 'subsample': 0.7000000000000001}"
   ]
  },
  {
   "cell_type": "markdown",
   "metadata": {},
   "source": [
    "---"
   ]
  },
  {
   "cell_type": "markdown",
   "metadata": {},
   "source": [
    "# Nuevas pruebas, modelo de ventana individual"
   ]
  },
  {
   "cell_type": "code",
   "execution_count": 73,
   "metadata": {},
   "outputs": [],
   "source": [
    "labels_v1 = pd.read_pickle(\"../../modelo/targets/targets_ventana_1_auctions.pkl\")\n",
    "labels_v2 = pd.read_pickle(\"../../modelo/targets/targets_ventana_2_auctions.pkl\")\n",
    "labels_v3 = pd.read_pickle(\"../../modelo/targets/targets_ventana_3_auctions.pkl\")\n",
    "labels_v4 = pd.read_pickle(\"../../modelo/targets/targets_ventana_4_auctions.pkl\")"
   ]
  },
  {
   "cell_type": "code",
   "execution_count": 74,
   "metadata": {},
   "outputs": [],
   "source": [
    "features = [features_v1, features_v2, features_v3, features_v4]\n",
    "labels = [labels_v1, labels_v2, labels_v3, labels_v4]"
   ]
  },
  {
   "cell_type": "code",
   "execution_count": 75,
   "metadata": {},
   "outputs": [
    {
     "name": "stdout",
     "output_type": "stream",
     "text": [
      "RMSE v_1: 88721.93541314879\n",
      "RMSE v_2: 90725.26771286836\n",
      "RMSE v_3: 89430.53749500832\n",
      "RMSE v_4: 88293.96164069342\n"
     ]
    }
   ],
   "source": [
    "modelos = []\n",
    "for x in range(4):\n",
    "    train = features[x].merge(labels[x], left_index=True, right_index=True, how=\"left\")\n",
    "    #train[\"target\"] = train[\"target\"].fillna(259200)\n",
    "    X, y = train.iloc[:,:-1], train.iloc[:,-1]\n",
    "    X_train, X_test, y_train, y_test = \\\n",
    "    train_test_split(X, y, test_size=0.05, random_state=123)\n",
    "    xg_reg = xgb.XGBRegressor(n_jobs=6)\n",
    "    xg_reg.fit(X_train,y_train)\n",
    "    preds = xg_reg.predict(X_test)\n",
    "    rmse = np.sqrt(mean_squared_error(y_test, preds))\n",
    "    print(\"RMSE v_{}: {}\".format(x+1, rmse))\n",
    "    modelos.append(xg_reg)\n",
    "    "
   ]
  },
  {
   "cell_type": "markdown",
   "metadata": {},
   "source": [
    "# Cargo features de competencia"
   ]
  },
  {
   "cell_type": "code",
   "execution_count": 79,
   "metadata": {},
   "outputs": [],
   "source": [
    "features_v1_competencia = pd.read_pickle(\"../features/auctions_train_ventana_1_competencia.pkl\")\n",
    "features_v2_competencia = pd.read_pickle(\"../features/auctions_train_ventana_2_competencia.pkl\")\n",
    "features_v3_competencia = pd.read_pickle(\"../features/auctions_train_ventana_3_competencia.pkl\")\n",
    "features_v4_competencia = pd.read_pickle(\"../features/auctions_train_ventana_4_competencia.pkl\")"
   ]
  },
  {
   "cell_type": "code",
   "execution_count": 102,
   "metadata": {},
   "outputs": [],
   "source": [
    "targets_competencia = pd.read_pickle(\"../../../data/tp2/ref_hashes_target.pkl\")"
   ]
  },
  {
   "cell_type": "code",
   "execution_count": 110,
   "metadata": {},
   "outputs": [],
   "source": [
    "demo = targets_competencia.merge(features_v1_competencia, left_index=True, right_index=True)"
   ]
  },
  {
   "cell_type": "code",
   "execution_count": 111,
   "metadata": {},
   "outputs": [],
   "source": [
    "labels_v4_competencia_posta = targets_competencia.merge(labels_v4, left_index=True, right_index=True)"
   ]
  },
  {
   "cell_type": "code",
   "execution_count": 114,
   "metadata": {},
   "outputs": [],
   "source": [
    "train_inner = demo.merge(labels_v4_competencia_posta, how=\"inner\", left_index=True, right_index=True)"
   ]
  }
 ],
 "metadata": {
  "kernelspec": {
   "display_name": "Python 3",
   "language": "python",
   "name": "python3"
  },
  "language_info": {
   "codemirror_mode": {
    "name": "ipython",
    "version": 3
   },
   "file_extension": ".py",
   "mimetype": "text/x-python",
   "name": "python",
   "nbconvert_exporter": "python",
   "pygments_lexer": "ipython3",
   "version": "3.6.5"
  }
 },
 "nbformat": 4,
 "nbformat_minor": 2
}
