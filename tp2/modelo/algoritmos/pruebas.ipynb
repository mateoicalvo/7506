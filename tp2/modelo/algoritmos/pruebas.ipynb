{
 "cells": [
  {
   "cell_type": "markdown",
   "metadata": {},
   "source": [
    "# Imports"
   ]
  },
  {
   "cell_type": "code",
   "execution_count": 2,
   "metadata": {},
   "outputs": [],
   "source": [
    "import pandas as pd\n",
    "import numpy as np\n",
    "import xgboost as xgb\n",
    "from sklearn.model_selection import train_test_split\n",
    "from sklearn.metrics import mean_squared_error\n",
    "from math import sqrt\n",
    "from matplotlib import pyplot"
   ]
  },
  {
   "cell_type": "markdown",
   "metadata": {},
   "source": [
    "---"
   ]
  },
  {
   "cell_type": "markdown",
   "metadata": {},
   "source": [
    "# Carga de datos"
   ]
  },
  {
   "cell_type": "code",
   "execution_count": 6,
   "metadata": {},
   "outputs": [],
   "source": [
    "targets_competencia = pd.read_pickle(\"../../../data/tp2/ref_hashes_target.pkl\")"
   ]
  },
  {
   "cell_type": "code",
   "execution_count": 3,
   "metadata": {},
   "outputs": [],
   "source": [
    "features_v1 = pd.read_pickle(\"../features/auctions_train_ventana_1.pkl\")\n",
    "features_v2 = pd.read_pickle(\"../features/auctions_train_ventana_2.pkl\")\n",
    "features_v3 = pd.read_pickle(\"../features/auctions_train_ventana_3.pkl\")\n",
    "features_v4 = pd.read_pickle(\"../features/auctions_train_ventana_4.pkl\")\n",
    "features_v5 = pd.read_pickle(\"../features/auctions_train_ventana_5.pkl\")"
   ]
  },
  {
   "cell_type": "code",
   "execution_count": 4,
   "metadata": {},
   "outputs": [],
   "source": [
    "ventanas = [features_v1, features_v2, features_v3, features_v4, features_v5]"
   ]
  },
  {
   "cell_type": "markdown",
   "metadata": {},
   "source": [
    "---"
   ]
  },
  {
   "cell_type": "markdown",
   "metadata": {},
   "source": [
    "# Miro coincidencias para las ventanas"
   ]
  },
  {
   "cell_type": "code",
   "execution_count": 5,
   "metadata": {},
   "outputs": [
    {
     "name": "stdout",
     "output_type": "stream",
     "text": [
      "El 68.0% de los dispositivos de la competencia están en la ventana 1\n",
      "El 69.63% de los dispositivos de la competencia están en la ventana 2\n",
      "El 73.22% de los dispositivos de la competencia están en la ventana 3\n",
      "El 75.15% de los dispositivos de la competencia están en la ventana 4\n",
      "El 76.81% de los dispositivos de la competencia están en la ventana 5\n"
     ]
    }
   ],
   "source": [
    "i = 1\n",
    "for ventana in ventanas:\n",
    "    coincidencias = pd.Series(targets_competencia.index.isin(ventana.index)).value_counts()\n",
    "    porcentaje = round(100*coincidencias[True] / (coincidencias[True] + coincidencias[False]), 2)\n",
    "    print(\"El {}% de los dispositivos de la competencia están en la ventana {}\".format(porcentaje, i))\n",
    "    i += 1"
   ]
  },
  {
   "cell_type": "markdown",
   "metadata": {},
   "source": [
    "---"
   ]
  },
  {
   "cell_type": "markdown",
   "metadata": {},
   "source": [
    "# Para cada dispositivo, veo en qué ventanas aparece"
   ]
  },
  {
   "cell_type": "code",
   "execution_count": 6,
   "metadata": {},
   "outputs": [],
   "source": [
    "apariciones = targets_competencia.copy()"
   ]
  },
  {
   "cell_type": "code",
   "execution_count": 7,
   "metadata": {},
   "outputs": [],
   "source": [
    "for ventana_nro in range(1,6):\n",
    "    apariciones[\"en_ventana_{}\".format(ventana_nro)] = targets_competencia.index.isin(ventanas[ventana_nro - 1].index)"
   ]
  },
  {
   "cell_type": "code",
   "execution_count": 8,
   "metadata": {},
   "outputs": [],
   "source": [
    "apariciones[\"OR\"] = (apariciones[\"en_ventana_1\"] | apariciones[\"en_ventana_2\"] | apariciones[\"en_ventana_3\"] | apariciones[\"en_ventana_4\"] | apariciones[\"en_ventana_5\"])"
   ]
  },
  {
   "cell_type": "code",
   "execution_count": 9,
   "metadata": {},
   "outputs": [
    {
     "data": {
      "text/plain": [
       "True     3678\n",
       "False     359\n",
       "Name: OR, dtype: int64"
      ]
     },
     "execution_count": 9,
     "metadata": {},
     "output_type": "execute_result"
    }
   ],
   "source": [
    "apariciones[\"OR\"].value_counts()"
   ]
  },
  {
   "cell_type": "markdown",
   "metadata": {},
   "source": [
    "---"
   ]
  },
  {
   "cell_type": "markdown",
   "metadata": {},
   "source": [
    "# A ver si sólo entreno con dispositivos de la competencia"
   ]
  },
  {
   "cell_type": "code",
   "execution_count": 41,
   "metadata": {},
   "outputs": [],
   "source": [
    "features_ventana_1_solo_competencia_auctions = ventanas[0].loc[ventanas[0].index.isin(targets_competencia.index)]"
   ]
  },
  {
   "cell_type": "code",
   "execution_count": 42,
   "metadata": {},
   "outputs": [],
   "source": [
    "f2 = pd.read_pickle(\"../features/clicks_train_ventana_3.pkl\")\n",
    "f3 = pd.read_pickle(\"../features/events_train_ventana_3.pkl\")"
   ]
  },
  {
   "cell_type": "code",
   "execution_count": 54,
   "metadata": {},
   "outputs": [],
   "source": [
    "todos_features  = features_ventana_1_solo_competencia_auctions.merge(f2, left_index=True, right_index=True) \\\n",
    "                                            .merge(f3, left_index=True, right_index=True)"
   ]
  },
  {
   "cell_type": "code",
   "execution_count": 55,
   "metadata": {},
   "outputs": [
    {
     "data": {
      "text/plain": [
       "2795"
      ]
     },
     "execution_count": 55,
     "metadata": {},
     "output_type": "execute_result"
    }
   ],
   "source": [
    "len(todos_features)"
   ]
  },
  {
   "cell_type": "code",
   "execution_count": 56,
   "metadata": {},
   "outputs": [],
   "source": [
    "labels = pd.read_pickle(\"../../modelo/targets/targets_ventana_1_auctions.pkl\")"
   ]
  },
  {
   "cell_type": "code",
   "execution_count": 59,
   "metadata": {},
   "outputs": [],
   "source": [
    "train = todos_features.merge(labels, left_index=True, right_index=True)"
   ]
  },
  {
   "cell_type": "code",
   "execution_count": null,
   "metadata": {},
   "outputs": [],
   "source": [
    "X, y = train.iloc[:,:-1], train.iloc[:,-1]\n",
    "X_train, X_test, y_train, y_test = \\\n",
    "    train_test_split(X, y, test_size=0.2, random_state=123)\n",
    "\n",
    "dtrain = xgb.DMatrix(data=X_train, label=y_train)\n",
    "dtest = xgb.DMatrix(data=X_test, label=y_test)\n",
    "\n",
    "param = {'max_depth':5,\n",
    "         'eta':0.3,\n",
    "         'silent':1,\n",
    "         'objective':'reg:linear',\n",
    "         'eval_metric' : 'rmse',\n",
    "         'obj' : 'reg:squarederror',\n",
    "         'colsample_bytree' : 0.7,\n",
    "         'min_child_weight' : 0.5,\n",
    "         'random_state' : 0,\n",
    "         'reg_alpha' : 0,\n",
    "         'reg_lambda' : 1,\n",
    "         'scale_pos_weight' : 1,\n",
    "         'learning_rate' : 0.01}\n",
    "\n",
    "\n",
    "num_round = 5000\n",
    "stopping = 15\n",
    "bst = xgb.train(param, dtrain, num_round, evals=[(dtrain, \"train\"), (dtest, \"test\")], early_stopping_rounds=stopping)"
   ]
  },
  {
   "cell_type": "code",
   "execution_count": 33,
   "metadata": {},
   "outputs": [
    {
     "name": "stdout",
     "output_type": "stream",
     "text": [
      "RMSE: 80292.24933623662\n"
     ]
    },
    {
     "data": {
      "image/png": "[encoded data removed]",
      "text/plain": [
       "<Figure size 432x288 with 1 Axes>"
      ]
     },
     "metadata": {},
     "output_type": "display_data"
    }
   ],
   "source": [
    "# fit model on all training data\n",
    "model = xgb.XGBRegressor()\n",
    "model.fit(X_train, y_train)\n",
    "# make predictions for test data and evaluate\n",
    "y_pred = model.predict(X_test)\n",
    "\n",
    "rmse = mean_squared_error(y_test, y_pred)\n",
    "print(\"RMSE: {}\".format(sqrt(rmse)))\n",
    "\n",
    "xgb.plot_importance(model, max_num_features=20)\n",
    "pyplot.show()"
   ]
  },
  {
   "cell_type": "code",
   "execution_count": 68,
   "metadata": {},
   "outputs": [
    {
     "name": "stdout",
     "output_type": "stream",
     "text": [
      "RMSE: 58401.53882651617\n"
     ]
    },
    {
     "data": {
      "image/png": "[encoded data removed]",
      "text/plain": [
       "<Figure size 432x288 with 1 Axes>"
      ]
     },
     "metadata": {},
     "output_type": "display_data"
    }
   ],
   "source": [
    "# fit model on all training data\n",
    "model = xgb.XGBRegressor()\n",
    "model.fit(X_train, y_train)\n",
    "# make predictions for test data and evaluate\n",
    "y_pred = model.predict(X_test)\n",
    "\n",
    "rmse = mean_squared_error(y_test, y_pred)\n",
    "print(\"RMSE: {}\".format(sqrt(rmse)))\n",
    "\n",
    "xgb.plot_importance(model, max_num_features=20)\n",
    "pyplot.show()"
   ]
  },
  {
   "cell_type": "markdown",
   "metadata": {},
   "source": [
    "## Conclusion: Como al parecer usar features de varios datasets mejora considerablemente la puntuación, voy a tratar de crear features para personas \"similares\" a las de la competencia. Esto es, crear features sólo con los dispositivos de la competencia y aquellos otros que tengan la misma presencia en los datos (que se puedan calcular los mismos features)"
   ]
  },
  {
   "cell_type": "markdown",
   "metadata": {},
   "source": [
    "---"
   ]
  },
  {
   "cell_type": "markdown",
   "metadata": {},
   "source": [
    "# Pruebo con solo dispositivos de la competencia"
   ]
  },
  {
   "cell_type": "code",
   "execution_count": 3,
   "metadata": {},
   "outputs": [],
   "source": [
    "auctions = pd.read_pickle(\"../../../data/tp2/auctions_tp2_formateado.pkl\")"
   ]
  },
  {
   "cell_type": "code",
   "execution_count": 4,
   "metadata": {},
   "outputs": [],
   "source": [
    "# Creo columnas para luego separar\n",
    "auctions['hora'] = auctions['date'].dt.hour\n",
    "auctions['dia'] = auctions['date'].dt.day\n",
    "auctions['dia_de_la_semana'] = auctions['date'].dt.dayofweek"
   ]
  },
  {
   "cell_type": "code",
   "execution_count": 7,
   "metadata": {},
   "outputs": [],
   "source": [
    "targets_competencia = pd.read_pickle(\"../../../data/tp2/ref_hashes_target.pkl\")"
   ]
  },
  {
   "cell_type": "code",
   "execution_count": 8,
   "metadata": {},
   "outputs": [],
   "source": [
    "auctions_competencia = auctions.loc[auctions[\"device_id\"].isin(targets_competencia.index)].copy()"
   ]
  },
  {
   "cell_type": "code",
   "execution_count": 9,
   "metadata": {},
   "outputs": [],
   "source": [
    "for ventana_nro in range(1,5):\n",
    "    auctions_competencia[\"ventana_{}\".format(ventana_nro)] = (((17+ventana_nro) <= auctions_competencia[\"date\"].dt.day) & ((auctions_competencia[\"date\"].dt.day) <= (19+ventana_nro)))"
   ]
  },
  {
   "cell_type": "code",
   "execution_count": 10,
   "metadata": {},
   "outputs": [],
   "source": [
    "auctions_competencia = auctions_competencia.loc[(auctions_competencia[\"ventana_1\"]) | (auctions_competencia[\"ventana_2\"]) | (auctions_competencia[\"ventana_3\"]) | (auctions_competencia[\"ventana_4\"])]"
   ]
  },
  {
   "cell_type": "markdown",
   "metadata": {},
   "source": [
    "# Entreno hasta la ventana 4 que es la ultima que esta completa"
   ]
  },
  {
   "cell_type": "markdown",
   "metadata": {},
   "source": [
    "## Tiempo medio todas las ventanas"
   ]
  },
  {
   "cell_type": "code",
   "execution_count": 11,
   "metadata": {},
   "outputs": [],
   "source": [
    "targets_competencia.index.rename(\"device_id\", inplace=True)"
   ]
  },
  {
   "cell_type": "code",
   "execution_count": 12,
   "metadata": {},
   "outputs": [],
   "source": [
    "gb = auctions_competencia.groupby(\"device_id\")\n",
    "ps = {}\n",
    "for t, g in gb:\n",
    "    ps[t] = g[\"date\"].sub(g[\"date\"].shift()).mean()\n",
    "targets_competencia[\"tiempo_medio_entre_apariciones_todas_las_ventanas\"] = pd.Series(ps).dt.total_seconds().to_frame().rename(columns={0: \"tiempo_medio_entre_apariciones_todas_las_ventanas\"})"
   ]
  },
  {
   "cell_type": "markdown",
   "metadata": {},
   "source": [
    "---"
   ]
  },
  {
   "cell_type": "markdown",
   "metadata": {},
   "source": [
    "## Función generadora de features"
   ]
  },
  {
   "cell_type": "code",
   "execution_count": 13,
   "metadata": {},
   "outputs": [],
   "source": [
    "def generar_feature_en_ventanas(dataframe, generador_feature, destino):\n",
    "    for ventana_nro in range(1, 5):\n",
    "        feature = generador_feature(dataframe.loc[dataframe[\"ventana_{}\".format(ventana_nro)]], ventana_nro)\n",
    "        destino[(feature.columns[0] + \"_v{}\".format(ventana_nro))] = feature[feature.columns[0]]"
   ]
  },
  {
   "cell_type": "markdown",
   "metadata": {},
   "source": [
    "---"
   ]
  },
  {
   "cell_type": "markdown",
   "metadata": {},
   "source": [
    "## Cantidad de apariciones en subastas dentro de la ventana"
   ]
  },
  {
   "cell_type": "code",
   "execution_count": 14,
   "metadata": {},
   "outputs": [],
   "source": [
    "def cantidad_apariciones_en_subastas(dataframe, nro_ventana):\n",
    "    return dataframe.groupby(\"device_id\").agg({\"date\" : \"count\"}).rename(columns={\"date\": \"cantidad_apariciones\"})"
   ]
  },
  {
   "cell_type": "code",
   "execution_count": 15,
   "metadata": {},
   "outputs": [],
   "source": [
    "generar_feature_en_ventanas(auctions_competencia, cantidad_apariciones_en_subastas, targets_competencia)"
   ]
  },
  {
   "cell_type": "markdown",
   "metadata": {},
   "source": [
    "---"
   ]
  },
  {
   "cell_type": "markdown",
   "metadata": {},
   "source": [
    "## Apariciones por dia"
   ]
  },
  {
   "cell_type": "code",
   "execution_count": 16,
   "metadata": {},
   "outputs": [],
   "source": [
    "auctions_competencia[\"para_contar\"] = 1"
   ]
  },
  {
   "cell_type": "code",
   "execution_count": 17,
   "metadata": {},
   "outputs": [],
   "source": [
    "apariciones_por_dia = auctions_competencia.groupby([\"device_id\", \"dia\"]).agg({\"para_contar\" : \"count\"}).unstack().fillna(0).stack()"
   ]
  },
  {
   "cell_type": "code",
   "execution_count": 18,
   "metadata": {},
   "outputs": [],
   "source": [
    "feature = apariciones_por_dia.unstack().droplevel(axis=1, level=1)"
   ]
  },
  {
   "cell_type": "code",
   "execution_count": 19,
   "metadata": {},
   "outputs": [],
   "source": [
    "feature.columns = [\"dia_{}\".format(x) for x in range(18,24)]"
   ]
  },
  {
   "cell_type": "code",
   "execution_count": 20,
   "metadata": {},
   "outputs": [],
   "source": [
    "targets_competencia = targets_competencia.merge(feature, left_index=True, right_index=True, how=\"left\")"
   ]
  },
  {
   "cell_type": "markdown",
   "metadata": {},
   "source": [
    "---"
   ]
  },
  {
   "cell_type": "markdown",
   "metadata": {},
   "source": [
    "## Acumulativo de apariciones por dia"
   ]
  },
  {
   "cell_type": "code",
   "execution_count": 21,
   "metadata": {},
   "outputs": [],
   "source": [
    "acum_por_dia = auctions_competencia.groupby([\"device_id\", \"dia\"]).agg({\"para_contar\" : \"count\"}).unstack().fillna(0).cumsum(axis=1)\n",
    "acum_por_dia.columns = [\"apariciones_hasta_dia_{}\".format(x) for x in range(18, 24)]\n",
    "targets_competencia = targets_competencia.merge(acum_por_dia, left_index=True, right_index=True, how=\"left\")"
   ]
  },
  {
   "cell_type": "markdown",
   "metadata": {},
   "source": [
    "---"
   ]
  },
  {
   "cell_type": "markdown",
   "metadata": {},
   "source": [
    "## Tiempo medio por ventana"
   ]
  },
  {
   "cell_type": "code",
   "execution_count": 22,
   "metadata": {},
   "outputs": [],
   "source": [
    "def tiempo_medio(dataframe, nro_ventana):\n",
    "    gb = auctions_competencia.groupby(\"device_id\")\n",
    "    ps = {}\n",
    "    for t, g in gb:\n",
    "        ps[t] = g[\"date\"].sub(g[\"date\"].shift()).mean()\n",
    "    return pd.Series(ps).dt.total_seconds().to_frame().rename(columns={0: \"tiempo_medio_entre_apariciones\"})"
   ]
  },
  {
   "cell_type": "code",
   "execution_count": 23,
   "metadata": {},
   "outputs": [],
   "source": [
    "generar_feature_en_ventanas(auctions_competencia, tiempo_medio, targets_competencia)"
   ]
  },
  {
   "cell_type": "markdown",
   "metadata": {},
   "source": [
    "---"
   ]
  },
  {
   "cell_type": "markdown",
   "metadata": {},
   "source": [
    "## Label ventanas anteriores"
   ]
  },
  {
   "cell_type": "code",
   "execution_count": 24,
   "metadata": {},
   "outputs": [],
   "source": [
    "labels_v1 = pd.read_pickle(\"../targets/targets_ventana_1_auctions.pkl\")\n",
    "labels_v1.columns = [\"label_v1\"]\n",
    "labels_v2 = pd.read_pickle(\"../targets/targets_ventana_2_auctions.pkl\")\n",
    "labels_v2.columns = [\"label_v2\"]\n",
    "labels_v3 = pd.read_pickle(\"../targets/targets_ventana_3_auctions.pkl\")\n",
    "labels_v3.columns = [\"label_v3\"]"
   ]
  },
  {
   "cell_type": "code",
   "execution_count": 25,
   "metadata": {},
   "outputs": [],
   "source": [
    "targets_competencia = targets_competencia.merge(labels_v1, left_index=True, right_index=True, how=\"left\")\n",
    "targets_competencia = targets_competencia.merge(labels_v2, left_index=True, right_index=True, how=\"left\")\n",
    "targets_competencia = targets_competencia.merge(labels_v3, left_index=True, right_index=True, how=\"left\")"
   ]
  },
  {
   "cell_type": "code",
   "execution_count": 26,
   "metadata": {},
   "outputs": [],
   "source": [
    "targets_competencia[\"label_v1\"] = targets_competencia[\"label_v1\"].fillna(259200)\n",
    "targets_competencia[\"label_v2\"] = targets_competencia[\"label_v2\"].fillna(259200)\n",
    "targets_competencia[\"label_v3\"] = targets_competencia[\"label_v3\"].fillna(259200)"
   ]
  },
  {
   "cell_type": "markdown",
   "metadata": {},
   "source": [
    "---"
   ]
  },
  {
   "cell_type": "markdown",
   "metadata": {},
   "source": [
    "## Tiempo desde ultima aparicion en ventana hasta fin ventana"
   ]
  },
  {
   "cell_type": "code",
   "execution_count": 27,
   "metadata": {},
   "outputs": [],
   "source": [
    "def tiempo_desde_ult_aparicion_hasta_fin_ventana(dataframe, nro_ventana):\n",
    "    return (np.datetime64(\"2019-04-2{}\".format(nro_ventana)) - dataframe.groupby(\"device_id\").agg({\"date\" : \"max\"})[\"date\"]).dt.total_seconds().to_frame().rename(columns={\"date\": \"tiempo_ultima_aparicion_hasta_fin_ventana\"})"
   ]
  },
  {
   "cell_type": "code",
   "execution_count": 28,
   "metadata": {},
   "outputs": [],
   "source": [
    "generar_feature_en_ventanas(auctions_competencia, tiempo_desde_ult_aparicion_hasta_fin_ventana, targets_competencia)"
   ]
  },
  {
   "cell_type": "markdown",
   "metadata": {},
   "source": [
    "---"
   ]
  },
  {
   "cell_type": "markdown",
   "metadata": {},
   "source": [
    "## Tiempo desde primera aparición en ventana hasta fin ventana"
   ]
  },
  {
   "cell_type": "code",
   "execution_count": 29,
   "metadata": {},
   "outputs": [],
   "source": [
    "def tiempo_desde_primera_aparicion_hasta_fin_ventana(dataframe, nro_ventana):\n",
    "    return (np.datetime64(\"2019-04-2{}\".format(nro_ventana)) - dataframe.groupby(\"device_id\").agg({\"date\" : \"min\"})[\"date\"]).dt.total_seconds().to_frame().rename(columns={\"date\": \"tiempo_primera_aparicion_hasta_fin_ventana\"})"
   ]
  },
  {
   "cell_type": "code",
   "execution_count": 30,
   "metadata": {},
   "outputs": [],
   "source": [
    "generar_feature_en_ventanas(auctions_competencia, tiempo_desde_primera_aparicion_hasta_fin_ventana, targets_competencia)"
   ]
  },
  {
   "cell_type": "markdown",
   "metadata": {},
   "source": [
    "---"
   ]
  },
  {
   "cell_type": "markdown",
   "metadata": {},
   "source": [
    "## Ultima vez que se lo vio hasta la ventana de train y test (4)"
   ]
  },
  {
   "cell_type": "code",
   "execution_count": 31,
   "metadata": {},
   "outputs": [],
   "source": [
    "feature = (np.datetime64(\"2019-04-24\") - auctions_competencia.groupby(\"device_id\").agg({\"date\" : \"max\"})[\"date\"]).dt.total_seconds().to_frame().rename(columns={\"date\": \"tiempo_ultima_aparicion_hasta_fin_ventana_train\"})"
   ]
  },
  {
   "cell_type": "code",
   "execution_count": 32,
   "metadata": {},
   "outputs": [],
   "source": [
    "targets_competencia = targets_competencia.merge(feature, left_index=True, right_index=True, how=\"left\")"
   ]
  },
  {
   "cell_type": "markdown",
   "metadata": {},
   "source": [
    "---"
   ]
  },
  {
   "cell_type": "markdown",
   "metadata": {},
   "source": [
    "## Primera vez que se lo vio hasta la ventana de train y test (4)"
   ]
  },
  {
   "cell_type": "code",
   "execution_count": 33,
   "metadata": {},
   "outputs": [],
   "source": [
    "feature = (np.datetime64(\"2019-04-24\") - auctions_competencia.groupby(\"device_id\").agg({\"date\" : \"min\"})[\"date\"]).dt.total_seconds().to_frame().rename(columns={\"date\": \"tiempo_primera_aparicion_hasta_fin_ventana_train\"})"
   ]
  },
  {
   "cell_type": "code",
   "execution_count": 34,
   "metadata": {},
   "outputs": [],
   "source": [
    "targets_competencia = targets_competencia.merge(feature, left_index=True, right_index=True, how=\"left\")"
   ]
  },
  {
   "cell_type": "markdown",
   "metadata": {},
   "source": [
    "---"
   ]
  },
  {
   "cell_type": "markdown",
   "metadata": {},
   "source": [
    "# Pruebo modelo"
   ]
  },
  {
   "cell_type": "code",
   "execution_count": 35,
   "metadata": {},
   "outputs": [],
   "source": [
    "labels_v4 = pd.read_pickle(\"../targets/targets_ventana_4_auctions.pkl\")\n",
    "train = targets_competencia.merge(labels_v4, left_index=True, right_index=True, how=\"left\")\n",
    "train[\"target\"] = train[\"target\"].fillna(259200)"
   ]
  },
  {
   "cell_type": "code",
   "execution_count": 36,
   "metadata": {},
   "outputs": [],
   "source": [
    "X, y = train.iloc[:,:-1], train.iloc[:,-1]\n",
    "X_train, X_test, y_train, y_test = \\\n",
    "    train_test_split(X, y, test_size=0.2, random_state=123)"
   ]
  },
  {
   "cell_type": "code",
   "execution_count": 37,
   "metadata": {},
   "outputs": [],
   "source": [
    "xg_reg = xgb.XGBRegressor(n_jobs=6)"
   ]
  },
  {
   "cell_type": "code",
   "execution_count": 38,
   "metadata": {},
   "outputs": [
    {
     "data": {
      "text/plain": [
       "XGBRegressor(base_score=0.5, booster='gbtree', colsample_bylevel=1,\n",
       "       colsample_bytree=1, gamma=0, learning_rate=0.1, max_delta_step=0,\n",
       "       max_depth=3, min_child_weight=1, missing=None, n_estimators=100,\n",
       "       n_jobs=6, nthread=None, objective='reg:linear', random_state=0,\n",
       "       reg_alpha=0, reg_lambda=1, scale_pos_weight=1, seed=None,\n",
       "       silent=True, subsample=1)"
      ]
     },
     "execution_count": 38,
     "metadata": {},
     "output_type": "execute_result"
    }
   ],
   "source": [
    "xg_reg.fit(X_train,y_train)"
   ]
  },
  {
   "cell_type": "code",
   "execution_count": 40,
   "metadata": {},
   "outputs": [
    {
     "name": "stdout",
     "output_type": "stream",
     "text": [
      "RMSE: 56123.679012\n"
     ]
    }
   ],
   "source": [
    "preds = xg_reg.predict(X_test)\n",
    "rmse = np.sqrt(mean_squared_error(y_test, preds))\n",
    "print(\"RMSE: %f\" % (rmse))"
   ]
  },
  {
   "cell_type": "code",
   "execution_count": 47,
   "metadata": {},
   "outputs": [
    {
     "data": {
      "text/plain": [
       "<matplotlib.axes._subplots.AxesSubplot at 0x7f04021d0a20>"
      ]
     },
     "execution_count": 47,
     "metadata": {},
     "output_type": "execute_result"
    },
    {
     "data": {
      "image/png": "[encoded data removed]",
      "text/plain": [
       "<Figure size 432x288 with 1 Axes>"
      ]
     },
     "metadata": {},
     "output_type": "display_data"
    }
   ],
   "source": [
    "xgb.plot_importance(xg_reg)"
   ]
  },
  {
   "cell_type": "markdown",
   "metadata": {},
   "source": [
    "# Random search"
   ]
  },
  {
   "cell_type": "code",
   "execution_count": 46,
   "metadata": {},
   "outputs": [
    {
     "name": "stdout",
     "output_type": "stream",
     "text": [
      "100%|██████████| 1000/1000 [02:47<00:00,  4.30it/s, best loss: 55400.115263399275]\n",
      "{'colsample_bytree': 0.8, 'eta': 0.45, 'gamma': 0.9500000000000001, 'max_depth': 2, 'min_child_weight': 4.0, 'n_estimators': 86, 'subsample': 0.7000000000000001}\n"
     ]
    }
   ],
   "source": [
    "from hyperopt import hp, fmin, tpe, STATUS_OK, Trials\n",
    "X, y = train.iloc[:,:-1], train.iloc[:,-1]\n",
    "X_train, X_test, y_train, y_test = \\\n",
    "    train_test_split(X, y, test_size=0.2, random_state=123)\n",
    "\n",
    "dtrain = xgb.DMatrix(data=X_train, label=y_train)\n",
    "dtest = xgb.DMatrix(data=X_test, label=y_test)\n",
    "\n",
    "\"\"\"space ={\n",
    "        'max_depth': hp.choice('max_depth', ),\n",
    "        'min_child_weight': hp.quniform ('x_min_child', 1, 10, 1),\n",
    "        'subsample': hp.uniform ('x_subsample', 0.8, 1),\n",
    "        'silent' : 1\n",
    "}\n",
    "\"\"\"\n",
    "\n",
    "space = {\n",
    "        'n_estimators': hp.choice('n_estimators', np.arange(100, 1000+1)),\n",
    "        'eta': hp.quniform('eta', 0.025, 0.5, 0.025),\n",
    "        # A problem with max_depth casted to float instead of int with\n",
    "        # the hp.quniform method.\n",
    "        'max_depth':  hp.choice('max_depth', np.arange(1, 14, dtype=int)),\n",
    "        'min_child_weight': hp.quniform('min_child_weight', 1, 6, 1),\n",
    "        'subsample': hp.quniform('subsample', 0.5, 1, 0.05),\n",
    "        'gamma': hp.quniform('gamma', 0.5, 1, 0.05),\n",
    "        'colsample_bytree': hp.quniform('colsample_bytree', 0.5, 1, 0.05),\n",
    "        'eval_metric': 'rmse',\n",
    "        'objective': 'reg:linear',\n",
    "        # Increase this number if you have more cores. Otherwise, remove it and it will default \n",
    "        # to the maxium number. \n",
    "        'nthread': 6,\n",
    "        'booster': 'gbtree',\n",
    "        'tree_method': 'exact',\n",
    "        'silent': 1,\n",
    "        'seed': 123\n",
    "}\n",
    "\n",
    "\n",
    "def objective(space):\n",
    "    model = xgb.train(space, dtrain,evals=[(dtest, \"test\")], verbose_eval=False)\n",
    "    pred = model.predict(dtest)\n",
    "    rmse = np.sqrt(mean_squared_error(y_test, pred))\n",
    "    #print(\"RMSE: {}\".format(rmsee)) \n",
    "\n",
    "    return{'loss':rmse, 'status': STATUS_OK }\n",
    "\n",
    "\n",
    "trials = Trials()\n",
    "best = fmin(fn=objective,\n",
    "            space=space,\n",
    "            algo=tpe.suggest,\n",
    "            max_evals=1000,\n",
    "            trials=trials)\n",
    "\n",
    "print(best)\n",
    "#100%|██████████| 1000/1000 [02:47<00:00,  4.30it/s, best loss: 55400.115263399275]\n",
    "#{'colsample_bytree': 0.8, 'eta': 0.45, 'gamma': 0.9500000000000001, 'max_depth': 2, 'min_child_weight': 4.0, 'n_estimators': 86, 'subsample': 0.7000000000000001}"
   ]
  },
  {
   "cell_type": "code",
   "execution_count": null,
   "metadata": {},
   "outputs": [],
   "source": []
  }
 ],
 "metadata": {
  "kernelspec": {
   "display_name": "Python 3",
   "language": "python",
   "name": "python3"
  },
  "language_info": {
   "codemirror_mode": {
    "name": "ipython",
    "version": 3
   },
   "file_extension": ".py",
   "mimetype": "text/x-python",
   "name": "python",
   "nbconvert_exporter": "python",
   "pygments_lexer": "ipython3",
   "version": "3.6.5"
  }
 },
 "nbformat": 4,
 "nbformat_minor": 2
}
