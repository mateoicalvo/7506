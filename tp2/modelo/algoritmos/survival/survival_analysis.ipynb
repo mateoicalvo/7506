{
 "cells": [
  {
   "cell_type": "markdown",
   "metadata": {},
   "source": [
    "# Imports"
   ]
  },
  {
   "cell_type": "code",
   "execution_count": 1,
   "metadata": {},
   "outputs": [],
   "source": [
    "import pandas as pd\n",
    "import numpy as np\n",
    "from lifelines import KaplanMeierFitter\n",
    "from fastprogress import master_bar, progress_bar"
   ]
  },
  {
   "cell_type": "markdown",
   "metadata": {},
   "source": [
    "---"
   ]
  },
  {
   "cell_type": "markdown",
   "metadata": {},
   "source": [
    "# Carga de datos"
   ]
  },
  {
   "cell_type": "code",
   "execution_count": 2,
   "metadata": {},
   "outputs": [],
   "source": [
    "auctions = pd.read_pickle(\"../../../../data/tp2/auctions_tp2_formateado.pkl\")"
   ]
  },
  {
   "cell_type": "markdown",
   "metadata": {},
   "source": [
    "---"
   ]
  },
  {
   "cell_type": "code",
   "execution_count": 3,
   "metadata": {},
   "outputs": [],
   "source": [
    "labels_v1 = pd.read_pickle(\"../../targets/targets_ventana_1_auctions.pkl\")"
   ]
  },
  {
   "cell_type": "code",
   "execution_count": 4,
   "metadata": {},
   "outputs": [],
   "source": [
    "auctions_en_v1 = auctions.loc[auctions[\"device_id\"].isin(labels_v1.index)]"
   ]
  },
  {
   "cell_type": "code",
   "execution_count": 13,
   "metadata": {},
   "outputs": [],
   "source": [
    "gb = auctions_en_v1.groupby(\"device_id\")"
   ]
  },
  {
   "cell_type": "code",
   "execution_count": 62,
   "metadata": {},
   "outputs": [],
   "source": [
    "vacio = pd.Series()"
   ]
  },
  {
   "cell_type": "code",
   "execution_count": 63,
   "metadata": {},
   "outputs": [
    {
     "name": "stdout",
     "output_type": "stream",
     "text": [
      "1 persona agregada\n",
      "2 persona agregada\n",
      "3 persona agregada\n",
      "4 persona agregada\n",
      "5 persona agregada\n",
      "6 persona agregada\n",
      "7 persona agregada\n",
      "8 persona agregada\n",
      "9 persona agregada\n",
      "10 persona agregada\n",
      "11 persona agregada\n",
      "12 persona agregada\n",
      "13 persona agregada\n",
      "14 persona agregada\n",
      "15 persona agregada\n",
      "16 persona agregada\n",
      "17 persona agregada\n",
      "18 persona agregada\n",
      "19 persona agregada\n",
      "20 persona agregada\n",
      "21 persona agregada\n",
      "22 persona agregada\n",
      "23 persona agregada\n",
      "24 persona agregada\n",
      "25 persona agregada\n",
      "26 persona agregada\n",
      "27 persona agregada\n",
      "28 persona agregada\n",
      "29 persona agregada\n",
      "30 persona agregada\n",
      "31 persona agregada\n",
      "32 persona agregada\n",
      "33 persona agregada\n",
      "34 persona agregada\n",
      "35 persona agregada\n",
      "36 persona agregada\n",
      "37 persona agregada\n",
      "38 persona agregada\n",
      "39 persona agregada\n",
      "40 persona agregada\n",
      "41 persona agregada\n",
      "42 persona agregada\n",
      "43 persona agregada\n",
      "44 persona agregada\n",
      "45 persona agregada\n",
      "46 persona agregada\n",
      "47 persona agregada\n",
      "48 persona agregada\n",
      "49 persona agregada\n",
      "50 persona agregada\n",
      "51 persona agregada\n",
      "52 persona agregada\n",
      "53 persona agregada\n",
      "54 persona agregada\n",
      "55 persona agregada\n",
      "56 persona agregada\n",
      "57 persona agregada\n",
      "58 persona agregada\n",
      "59 persona agregada\n",
      "60 persona agregada\n",
      "61 persona agregada\n",
      "62 persona agregada\n",
      "63 persona agregada\n",
      "64 persona agregada\n",
      "65 persona agregada\n",
      "66 persona agregada\n",
      "67 persona agregada\n",
      "68 persona agregada\n",
      "69 persona agregada\n",
      "70 persona agregada\n",
      "71 persona agregada\n",
      "72 persona agregada\n",
      "73 persona agregada\n",
      "74 persona agregada\n",
      "75 persona agregada\n",
      "76 persona agregada\n",
      "77 persona agregada\n",
      "78 persona agregada\n",
      "79 persona agregada\n",
      "80 persona agregada\n",
      "81 persona agregada\n",
      "82 persona agregada\n",
      "83 persona agregada\n",
      "84 persona agregada\n",
      "85 persona agregada\n",
      "86 persona agregada\n",
      "87 persona agregada\n",
      "88 persona agregada\n",
      "89 persona agregada\n",
      "90 persona agregada\n",
      "91 persona agregada\n",
      "92 persona agregada\n",
      "93 persona agregada\n",
      "94 persona agregada\n",
      "95 persona agregada\n",
      "96 persona agregada\n",
      "97 persona agregada\n",
      "98 persona agregada\n",
      "99 persona agregada\n",
      "100 persona agregada\n"
     ]
    }
   ],
   "source": [
    "i = 0\n",
    "for t, g in gb:\n",
    "    vacio = vacio.append(g[\"date\"].sub(g[\"date\"].shift()))\n",
    "    i += 1\n",
    "    print(\"{} persona agregada\".format(i))\n",
    "    if (i == 100):\n",
    "        break"
   ]
  },
  {
   "cell_type": "code",
   "execution_count": 64,
   "metadata": {},
   "outputs": [],
   "source": [
    "vacio = vacio.to_frame()"
   ]
  },
  {
   "cell_type": "code",
   "execution_count": 66,
   "metadata": {},
   "outputs": [],
   "source": [
    "vacio[\"en_segundos\"] = vacio[0].dt.total_seconds()"
   ]
  },
  {
   "cell_type": "code",
   "execution_count": 65,
   "metadata": {},
   "outputs": [],
   "source": [
    "vacio = vacio.dropna()"
   ]
  },
  {
   "cell_type": "code",
   "execution_count": 67,
   "metadata": {},
   "outputs": [
    {
     "data": {
      "text/plain": [
       "<lifelines.KaplanMeierFitter: fitted with 10090 observations, 0 censored>"
      ]
     },
     "execution_count": 67,
     "metadata": {},
     "output_type": "execute_result"
    }
   ],
   "source": [
    "model = KaplanMeierFitter()\n",
    "model.fit(vacio[\"en_segundos\"])"
   ]
  },
  {
   "cell_type": "code",
   "execution_count": 68,
   "metadata": {},
   "outputs": [],
   "source": [
    "resultados = model.conditional_time_to_event_"
   ]
  },
  {
   "cell_type": "markdown",
   "metadata": {},
   "source": [
    "# Pruebo con 10.000 individuos, tiempos de todas las ventanas. Desupes probar con solo v1"
   ]
  },
  {
   "cell_type": "code",
   "execution_count": 243,
   "metadata": {},
   "outputs": [],
   "source": [
    "sampled_targets = labels_v1"
   ]
  },
  {
   "cell_type": "code",
   "execution_count": 277,
   "metadata": {},
   "outputs": [],
   "source": [
    "ventana_1 = auctions.loc[auctions[\"dia\"] < 21]"
   ]
  },
  {
   "cell_type": "code",
   "execution_count": 280,
   "metadata": {},
   "outputs": [],
   "source": [
    "labels_v1[\"n_apariciones\"] = ventana_1.groupby(\"device_id\").agg({\"dia\" : \"count\"})"
   ]
  },
  {
   "cell_type": "code",
   "execution_count": 283,
   "metadata": {},
   "outputs": [],
   "source": [
    "muy_aparecidos = labels_v1.loc[labels_v1[\"n_apariciones\"] > 3000]"
   ]
  },
  {
   "cell_type": "code",
   "execution_count": null,
   "metadata": {},
   "outputs": [],
   "source": [
    "len(muy_aparecidos)"
   ]
  },
  {
   "cell_type": "code",
   "execution_count": null,
   "metadata": {},
   "outputs": [],
   "source": [
    "predicciones = []\n",
    "for j in muy_aparecidos.iterrows():\n",
    "    mini = auctions.loc[auctions[\"device_id\"] == j[0]] #1677316392823000836\n",
    "    tiempos = (mini[\"tiempo\"] - mini[\"tiempo\"].shift()).fillna(0)\n",
    "    model = KaplanMeierFitter()\n",
    "    model.fit(tiempos)\n",
    "    resutlados = model.conditional_time_to_event_\n",
    "    ultima_observacion = mini.loc[(mini[\"dia\"] < 20)][\"date\"].max()\n",
    "    sobrevivio = (pd.Timestamp(\"2019-04-20 00:00:00.000000\") - ultima_observacion).total_seconds()\n",
    "    prediccion = resutlados.loc[resutlados.index > sobrevivio].iloc[0][0]\n",
    "    predicciones.append(prediccion)\n",
    "    "
   ]
  },
  {
   "cell_type": "code",
   "execution_count": 304,
   "metadata": {},
   "outputs": [
    {
     "data": {
      "text/plain": [
       "64"
      ]
     },
     "execution_count": 304,
     "metadata": {},
     "output_type": "execute_result"
    }
   ],
   "source": [
    "len(predicciones)"
   ]
  },
  {
   "cell_type": "code",
   "execution_count": 305,
   "metadata": {},
   "outputs": [],
   "source": [
    "deltas = muy_aparecidos[\"target\"].iloc[:64].values - predicciones"
   ]
  },
  {
   "cell_type": "code",
   "execution_count": 306,
   "metadata": {},
   "outputs": [],
   "source": [
    "total = 0\n",
    "for x in deltas:\n",
    "    total += (x**2)"
   ]
  },
  {
   "cell_type": "code",
   "execution_count": 307,
   "metadata": {},
   "outputs": [
    {
     "data": {
      "text/plain": [
       "28842.80969620438"
      ]
     },
     "execution_count": 307,
     "metadata": {},
     "output_type": "execute_result"
    }
   ],
   "source": [
    "sqrt(total/64)"
   ]
  }
 ],
 "metadata": {
  "kernelspec": {
   "display_name": "Python 3",
   "language": "python",
   "name": "python3"
  },
  "language_info": {
   "codemirror_mode": {
    "name": "ipython",
    "version": 3
   },
   "file_extension": ".py",
   "mimetype": "text/x-python",
   "name": "python",
   "nbconvert_exporter": "python",
   "pygments_lexer": "ipython3",
   "version": "3.6.5"
  }
 },
 "nbformat": 4,
 "nbformat_minor": 2
}
