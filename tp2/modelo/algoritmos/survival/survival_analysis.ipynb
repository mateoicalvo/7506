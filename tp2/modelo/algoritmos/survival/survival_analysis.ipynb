{
 "cells": [
  {
   "cell_type": "markdown",
   "metadata": {},
   "source": [
    "# Imports"
   ]
  },
  {
   "cell_type": "code",
   "execution_count": 1,
   "metadata": {},
   "outputs": [],
   "source": [
    "import pandas as pd\n",
    "import numpy as np\n",
    "from lifelines import KaplanMeierFitter"
   ]
  },
  {
   "cell_type": "markdown",
   "metadata": {},
   "source": [
    "---"
   ]
  },
  {
   "cell_type": "markdown",
   "metadata": {},
   "source": [
    "# Carga de datos"
   ]
  },
  {
   "cell_type": "code",
   "execution_count": 2,
   "metadata": {},
   "outputs": [],
   "source": [
    "auctions = pd.read_pickle(\"../../../../data/tp2/auctions_tp2_formateado.pkl\")"
   ]
  },
  {
   "cell_type": "markdown",
   "metadata": {},
   "source": [
    "---"
   ]
  },
  {
   "cell_type": "markdown",
   "metadata": {},
   "source": [
    "# Adaptación, para un único usuario"
   ]
  },
  {
   "cell_type": "code",
   "execution_count": 3,
   "metadata": {},
   "outputs": [],
   "source": [
    "inicio_tiempos = auctions[\"date\"].min()"
   ]
  },
  {
   "cell_type": "code",
   "execution_count": 4,
   "metadata": {},
   "outputs": [],
   "source": [
    "auctions[\"tiempo\"] = (auctions[\"date\"] - inicio_tiempos).dt.total_seconds()"
   ]
  },
  {
   "cell_type": "code",
   "execution_count": 5,
   "metadata": {},
   "outputs": [],
   "source": [
    "auctions[\"dia\"] = auctions[\"date\"].dt.day"
   ]
  },
  {
   "cell_type": "code",
   "execution_count": 14,
   "metadata": {},
   "outputs": [],
   "source": [
    "mini = auctions.loc[auctions[\"device_id\"] == 6873184058458242102]"
   ]
  },
  {
   "cell_type": "markdown",
   "metadata": {},
   "source": [
    "# Modelo"
   ]
  },
  {
   "cell_type": "code",
   "execution_count": 26,
   "metadata": {},
   "outputs": [],
   "source": [
    "approach = mini[\"tiempo\"] - mini[\"tiempo\"].shift()"
   ]
  },
  {
   "cell_type": "code",
   "execution_count": 32,
   "metadata": {},
   "outputs": [],
   "source": [
    "tiempos = pd.DataFrame()"
   ]
  },
  {
   "cell_type": "code",
   "execution_count": 31,
   "metadata": {},
   "outputs": [],
   "source": [
    "approach2 = auctions[\"tiempo\"] - auctions[\"tiempo\"].shift()"
   ]
  },
  {
   "cell_type": "code",
   "execution_count": 37,
   "metadata": {},
   "outputs": [
    {
     "data": {
      "text/html": [
       "<div>\n",
       "<style scoped>\n",
       "    .dataframe tbody tr th:only-of-type {\n",
       "        vertical-align: middle;\n",
       "    }\n",
       "\n",
       "    .dataframe tbody tr th {\n",
       "        vertical-align: top;\n",
       "    }\n",
       "\n",
       "    .dataframe thead th {\n",
       "        text-align: right;\n",
       "    }\n",
       "</style>\n",
       "<table border=\"1\" class=\"dataframe\">\n",
       "  <thead>\n",
       "    <tr style=\"text-align: right;\">\n",
       "      <th></th>\n",
       "      <th>10129864</th>\n",
       "    </tr>\n",
       "  </thead>\n",
       "  <tbody>\n",
       "    <tr>\n",
       "      <th>tiempo</th>\n",
       "      <td>NaN</td>\n",
       "    </tr>\n",
       "  </tbody>\n",
       "</table>\n",
       "</div>"
      ],
      "text/plain": [
       "        10129864\n",
       "tiempo       NaN"
      ]
     },
     "execution_count": 37,
     "metadata": {},
     "output_type": "execute_result"
    }
   ],
   "source": [
    "tiempos.append(approach2.iloc[:1].T)"
   ]
  },
  {
   "cell_type": "code",
   "execution_count": 16,
   "metadata": {},
   "outputs": [],
   "source": [
    "model = KaplanMeierFitter()"
   ]
  },
  {
   "cell_type": "code",
   "execution_count": 29,
   "metadata": {},
   "outputs": [
    {
     "data": {
      "text/plain": [
       "<lifelines.KaplanMeierFitter: fitted with 14540 observations, 0 censored>"
      ]
     },
     "execution_count": 29,
     "metadata": {},
     "output_type": "execute_result"
    }
   ],
   "source": [
    "model.fit(auctions[\"tiempo\"])"
   ]
  },
  {
   "cell_type": "code",
   "execution_count": 30,
   "metadata": {},
   "outputs": [
    {
     "data": {
      "text/html": [
       "<div>\n",
       "<style scoped>\n",
       "    .dataframe tbody tr th:only-of-type {\n",
       "        vertical-align: middle;\n",
       "    }\n",
       "\n",
       "    .dataframe tbody tr th {\n",
       "        vertical-align: top;\n",
       "    }\n",
       "\n",
       "    .dataframe thead th {\n",
       "        text-align: right;\n",
       "    }\n",
       "</style>\n",
       "<table border=\"1\" class=\"dataframe\">\n",
       "  <thead>\n",
       "    <tr style=\"text-align: right;\">\n",
       "      <th></th>\n",
       "      <th>KM_estimate - Conditional time remaining to event</th>\n",
       "    </tr>\n",
       "    <tr>\n",
       "      <th>timeline</th>\n",
       "      <th></th>\n",
       "    </tr>\n",
       "  </thead>\n",
       "  <tbody>\n",
       "    <tr>\n",
       "      <th>0.000000</th>\n",
       "      <td>0.059639</td>\n",
       "    </tr>\n",
       "    <tr>\n",
       "      <th>0.000005</th>\n",
       "      <td>0.059671</td>\n",
       "    </tr>\n",
       "    <tr>\n",
       "      <th>0.000010</th>\n",
       "      <td>0.059666</td>\n",
       "    </tr>\n",
       "    <tr>\n",
       "      <th>0.000018</th>\n",
       "      <td>0.059667</td>\n",
       "    </tr>\n",
       "    <tr>\n",
       "      <th>0.000019</th>\n",
       "      <td>0.059666</td>\n",
       "    </tr>\n",
       "    <tr>\n",
       "      <th>0.000032</th>\n",
       "      <td>0.059664</td>\n",
       "    </tr>\n",
       "    <tr>\n",
       "      <th>0.000033</th>\n",
       "      <td>0.059663</td>\n",
       "    </tr>\n",
       "    <tr>\n",
       "      <th>0.000034</th>\n",
       "      <td>0.059665</td>\n",
       "    </tr>\n",
       "    <tr>\n",
       "      <th>0.000038</th>\n",
       "      <td>0.059661</td>\n",
       "    </tr>\n",
       "    <tr>\n",
       "      <th>0.000042</th>\n",
       "      <td>0.059662</td>\n",
       "    </tr>\n",
       "    <tr>\n",
       "      <th>0.000043</th>\n",
       "      <td>0.059661</td>\n",
       "    </tr>\n",
       "    <tr>\n",
       "      <th>0.000046</th>\n",
       "      <td>0.059658</td>\n",
       "    </tr>\n",
       "    <tr>\n",
       "      <th>0.000047</th>\n",
       "      <td>0.059665</td>\n",
       "    </tr>\n",
       "    <tr>\n",
       "      <th>0.000051</th>\n",
       "      <td>0.059661</td>\n",
       "    </tr>\n",
       "    <tr>\n",
       "      <th>0.000052</th>\n",
       "      <td>0.059669</td>\n",
       "    </tr>\n",
       "    <tr>\n",
       "      <th>0.000061</th>\n",
       "      <td>0.059660</td>\n",
       "    </tr>\n",
       "    <tr>\n",
       "      <th>0.000063</th>\n",
       "      <td>0.059670</td>\n",
       "    </tr>\n",
       "    <tr>\n",
       "      <th>0.000079</th>\n",
       "      <td>0.059654</td>\n",
       "    </tr>\n",
       "    <tr>\n",
       "      <th>0.000079</th>\n",
       "      <td>0.059658</td>\n",
       "    </tr>\n",
       "    <tr>\n",
       "      <th>0.000081</th>\n",
       "      <td>0.059656</td>\n",
       "    </tr>\n",
       "    <tr>\n",
       "      <th>0.000082</th>\n",
       "      <td>0.059655</td>\n",
       "    </tr>\n",
       "    <tr>\n",
       "      <th>0.000083</th>\n",
       "      <td>0.059654</td>\n",
       "    </tr>\n",
       "    <tr>\n",
       "      <th>0.000105</th>\n",
       "      <td>0.059638</td>\n",
       "    </tr>\n",
       "    <tr>\n",
       "      <th>0.000109</th>\n",
       "      <td>0.059634</td>\n",
       "    </tr>\n",
       "    <tr>\n",
       "      <th>0.000114</th>\n",
       "      <td>0.059646</td>\n",
       "    </tr>\n",
       "    <tr>\n",
       "      <th>0.000120</th>\n",
       "      <td>0.059640</td>\n",
       "    </tr>\n",
       "    <tr>\n",
       "      <th>0.000121</th>\n",
       "      <td>0.059649</td>\n",
       "    </tr>\n",
       "    <tr>\n",
       "      <th>0.000123</th>\n",
       "      <td>0.059647</td>\n",
       "    </tr>\n",
       "    <tr>\n",
       "      <th>0.000128</th>\n",
       "      <td>0.059658</td>\n",
       "    </tr>\n",
       "    <tr>\n",
       "      <th>0.000133</th>\n",
       "      <td>0.059653</td>\n",
       "    </tr>\n",
       "    <tr>\n",
       "      <th>...</th>\n",
       "      <td>...</td>\n",
       "    </tr>\n",
       "    <tr>\n",
       "      <th>5455.721804</th>\n",
       "      <td>11040.463553</td>\n",
       "    </tr>\n",
       "    <tr>\n",
       "      <th>5512.935616</th>\n",
       "      <td>10983.249741</td>\n",
       "    </tr>\n",
       "    <tr>\n",
       "      <th>5615.679336</th>\n",
       "      <td>12138.155406</td>\n",
       "    </tr>\n",
       "    <tr>\n",
       "      <th>6354.851614</th>\n",
       "      <td>12161.742868</td>\n",
       "    </tr>\n",
       "    <tr>\n",
       "      <th>6504.490408</th>\n",
       "      <td>12012.104074</td>\n",
       "    </tr>\n",
       "    <tr>\n",
       "      <th>6991.888910</th>\n",
       "      <td>14524.775929</td>\n",
       "    </tr>\n",
       "    <tr>\n",
       "      <th>8190.120527</th>\n",
       "      <td>13326.544312</td>\n",
       "    </tr>\n",
       "    <tr>\n",
       "      <th>8455.082963</th>\n",
       "      <td>13061.581876</td>\n",
       "    </tr>\n",
       "    <tr>\n",
       "      <th>8885.979014</th>\n",
       "      <td>12678.433075</td>\n",
       "    </tr>\n",
       "    <tr>\n",
       "      <th>9219.677754</th>\n",
       "      <td>13004.844634</td>\n",
       "    </tr>\n",
       "    <tr>\n",
       "      <th>9495.368225</th>\n",
       "      <td>12729.154163</td>\n",
       "    </tr>\n",
       "    <tr>\n",
       "      <th>10601.316093</th>\n",
       "      <td>13564.068671</td>\n",
       "    </tr>\n",
       "    <tr>\n",
       "      <th>12401.646560</th>\n",
       "      <td>11763.738204</td>\n",
       "    </tr>\n",
       "    <tr>\n",
       "      <th>12476.172889</th>\n",
       "      <td>11689.211875</td>\n",
       "    </tr>\n",
       "    <tr>\n",
       "      <th>14817.850012</th>\n",
       "      <td>10145.971867</td>\n",
       "    </tr>\n",
       "    <tr>\n",
       "      <th>16496.185357</th>\n",
       "      <td>8467.636522</td>\n",
       "    </tr>\n",
       "    <tr>\n",
       "      <th>17753.834742</th>\n",
       "      <td>8523.363484</td>\n",
       "    </tr>\n",
       "    <tr>\n",
       "      <th>18516.594482</th>\n",
       "      <td>7760.603744</td>\n",
       "    </tr>\n",
       "    <tr>\n",
       "      <th>21516.664839</th>\n",
       "      <td>6504.829658</td>\n",
       "    </tr>\n",
       "    <tr>\n",
       "      <th>21564.412089</th>\n",
       "      <td>6457.082408</td>\n",
       "    </tr>\n",
       "    <tr>\n",
       "      <th>22224.522388</th>\n",
       "      <td>6546.628015</td>\n",
       "    </tr>\n",
       "    <tr>\n",
       "      <th>24165.384764</th>\n",
       "      <td>4605.765639</td>\n",
       "    </tr>\n",
       "    <tr>\n",
       "      <th>24963.821879</th>\n",
       "      <td>6984.036296</td>\n",
       "    </tr>\n",
       "    <tr>\n",
       "      <th>26277.198226</th>\n",
       "      <td>10866.306318</td>\n",
       "    </tr>\n",
       "    <tr>\n",
       "      <th>28021.494497</th>\n",
       "      <td>9122.010047</td>\n",
       "    </tr>\n",
       "    <tr>\n",
       "      <th>28771.150403</th>\n",
       "      <td>13831.365077</td>\n",
       "    </tr>\n",
       "    <tr>\n",
       "      <th>31947.858175</th>\n",
       "      <td>10654.657305</td>\n",
       "    </tr>\n",
       "    <tr>\n",
       "      <th>37143.504544</th>\n",
       "      <td>5459.010936</td>\n",
       "    </tr>\n",
       "    <tr>\n",
       "      <th>42602.515480</th>\n",
       "      <td>21313.642108</td>\n",
       "    </tr>\n",
       "    <tr>\n",
       "      <th>63916.157588</th>\n",
       "      <td>0.000000</td>\n",
       "    </tr>\n",
       "  </tbody>\n",
       "</table>\n",
       "<p>14337 rows × 1 columns</p>\n",
       "</div>"
      ],
      "text/plain": [
       "              KM_estimate - Conditional time remaining to event\n",
       "timeline                                                       \n",
       "0.000000                                               0.059639\n",
       "0.000005                                               0.059671\n",
       "0.000010                                               0.059666\n",
       "0.000018                                               0.059667\n",
       "0.000019                                               0.059666\n",
       "0.000032                                               0.059664\n",
       "0.000033                                               0.059663\n",
       "0.000034                                               0.059665\n",
       "0.000038                                               0.059661\n",
       "0.000042                                               0.059662\n",
       "0.000043                                               0.059661\n",
       "0.000046                                               0.059658\n",
       "0.000047                                               0.059665\n",
       "0.000051                                               0.059661\n",
       "0.000052                                               0.059669\n",
       "0.000061                                               0.059660\n",
       "0.000063                                               0.059670\n",
       "0.000079                                               0.059654\n",
       "0.000079                                               0.059658\n",
       "0.000081                                               0.059656\n",
       "0.000082                                               0.059655\n",
       "0.000083                                               0.059654\n",
       "0.000105                                               0.059638\n",
       "0.000109                                               0.059634\n",
       "0.000114                                               0.059646\n",
       "0.000120                                               0.059640\n",
       "0.000121                                               0.059649\n",
       "0.000123                                               0.059647\n",
       "0.000128                                               0.059658\n",
       "0.000133                                               0.059653\n",
       "...                                                         ...\n",
       "5455.721804                                        11040.463553\n",
       "5512.935616                                        10983.249741\n",
       "5615.679336                                        12138.155406\n",
       "6354.851614                                        12161.742868\n",
       "6504.490408                                        12012.104074\n",
       "6991.888910                                        14524.775929\n",
       "8190.120527                                        13326.544312\n",
       "8455.082963                                        13061.581876\n",
       "8885.979014                                        12678.433075\n",
       "9219.677754                                        13004.844634\n",
       "9495.368225                                        12729.154163\n",
       "10601.316093                                       13564.068671\n",
       "12401.646560                                       11763.738204\n",
       "12476.172889                                       11689.211875\n",
       "14817.850012                                       10145.971867\n",
       "16496.185357                                        8467.636522\n",
       "17753.834742                                        8523.363484\n",
       "18516.594482                                        7760.603744\n",
       "21516.664839                                        6504.829658\n",
       "21564.412089                                        6457.082408\n",
       "22224.522388                                        6546.628015\n",
       "24165.384764                                        4605.765639\n",
       "24963.821879                                        6984.036296\n",
       "26277.198226                                       10866.306318\n",
       "28021.494497                                        9122.010047\n",
       "28771.150403                                       13831.365077\n",
       "31947.858175                                       10654.657305\n",
       "37143.504544                                        5459.010936\n",
       "42602.515480                                       21313.642108\n",
       "63916.157588                                           0.000000\n",
       "\n",
       "[14337 rows x 1 columns]"
      ]
     },
     "execution_count": 30,
     "metadata": {},
     "output_type": "execute_result"
    }
   ],
   "source": [
    "model.conditional_time_to_event_"
   ]
  },
  {
   "cell_type": "markdown",
   "metadata": {},
   "source": [
    "---"
   ]
  }
 ],
 "metadata": {
  "kernelspec": {
   "display_name": "Python 3",
   "language": "python",
   "name": "python3"
  },
  "language_info": {
   "codemirror_mode": {
    "name": "ipython",
    "version": 3
   },
   "file_extension": ".py",
   "mimetype": "text/x-python",
   "name": "python",
   "nbconvert_exporter": "python",
   "pygments_lexer": "ipython3",
   "version": "3.6.5"
  }
 },
 "nbformat": 4,
 "nbformat_minor": 2
}
