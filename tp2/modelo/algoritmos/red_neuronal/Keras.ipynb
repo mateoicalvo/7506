{
 "cells": [
  {
   "cell_type": "code",
   "execution_count": 1,
   "metadata": {},
   "outputs": [
    {
     "name": "stderr",
     "output_type": "stream",
     "text": [
      "Using TensorFlow backend.\n"
     ]
    }
   ],
   "source": [
    "import numpy as np\n",
    "import pandas as pd\n",
    "import seaborn as sns\n",
    "import matplotlib.pyplot as plt\n",
    "%matplotlib inline\n",
    "\n",
    "from sklearn.preprocessing import  MinMaxScaler\n",
    "from sklearn.model_selection import train_test_split\n",
    "from keras import Sequential\n",
    "from keras.layers import Dense\n",
    "from keras.wrappers.scikit_learn import KerasRegressor\n",
    "\n",
    "\n",
    "from keras import backend\n",
    " \n"
   ]
  },
  {
   "cell_type": "code",
   "execution_count": 2,
   "metadata": {},
   "outputs": [],
   "source": [
    "from math import sqrt\n",
    "from sklearn.metrics import mean_squared_error\n"
   ]
  },
  {
   "cell_type": "code",
   "execution_count": 3,
   "metadata": {},
   "outputs": [],
   "source": [
    "train = pd.read_pickle(\"../../../modelo/armado_datos/train_completo_installs.pkl\")"
   ]
  },
  {
   "cell_type": "code",
   "execution_count": 4,
   "metadata": {},
   "outputs": [],
   "source": [
    "train[\"cantidad_nans\"] = train.isnull().sum(axis=1)"
   ]
  },
  {
   "cell_type": "code",
   "execution_count": 5,
   "metadata": {},
   "outputs": [
    {
     "data": {
      "text/plain": [
       "103"
      ]
     },
     "execution_count": 5,
     "metadata": {},
     "output_type": "execute_result"
    }
   ],
   "source": [
    "train[\"cantidad_nans\"].max()"
   ]
  },
  {
   "cell_type": "code",
   "execution_count": 6,
   "metadata": {},
   "outputs": [],
   "source": [
    "train = train[train[\"cantidad_nans\"] < 103]"
   ]
  },
  {
   "cell_type": "code",
   "execution_count": 7,
   "metadata": {},
   "outputs": [
    {
     "data": {
      "text/plain": [
       "737575"
      ]
     },
     "execution_count": 7,
     "metadata": {},
     "output_type": "execute_result"
    }
   ],
   "source": [
    "len(train)"
   ]
  },
  {
   "cell_type": "code",
   "execution_count": 8,
   "metadata": {},
   "outputs": [],
   "source": [
    "train.fillna(0,inplace = True)"
   ]
  },
  {
   "cell_type": "code",
   "execution_count": 9,
   "metadata": {},
   "outputs": [],
   "source": [
    "X, y = train.drop(\"target\",axis = 1), train[\"target\"]\n",
    "\n"
   ]
  },
  {
   "cell_type": "code",
   "execution_count": 10,
   "metadata": {},
   "outputs": [
    {
     "name": "stdout",
     "output_type": "stream",
     "text": [
      "MinMaxScaler(copy=True, feature_range=(0, 1))\n",
      "MinMaxScaler(copy=True, feature_range=(0, 1))\n"
     ]
    }
   ],
   "source": [
    "y= y.values.reshape(-1,1)\n",
    "scaler_x = MinMaxScaler()\n",
    "scaler_y = MinMaxScaler()\n",
    "print(scaler_x.fit(X))\n",
    "xscale=scaler_x.transform(X)\n",
    "print(scaler_y.fit(y))\n",
    "yscale=scaler_y.transform(y)"
   ]
  },
  {
   "cell_type": "code",
   "execution_count": 11,
   "metadata": {},
   "outputs": [],
   "source": [
    "X_train, X_test, y_train, y_test = train_test_split(xscale, yscale, test_size=0.2, random_state=0)"
   ]
  },
  {
   "cell_type": "code",
   "execution_count": 12,
   "metadata": {},
   "outputs": [],
   "source": [
    "def rmse(y_true, y_pred):\n",
    "    return backend.sqrt(backend.mean(backend.square(y_pred - y_true), axis=-1))"
   ]
  },
  {
   "cell_type": "markdown",
   "metadata": {},
   "source": [
    "def build_regressor():\n",
    "    regressor = Sequential()\n",
    "    regressor.add(Dense(units=13, input_dim=104))\n",
    "    regressor.add(Dense(units=1))\n",
    "    regressor.compile(loss='mse', optimizer='adam', metrics=[rmse])\n",
    "    return regressor"
   ]
  },
  {
   "cell_type": "code",
   "execution_count": 13,
   "metadata": {},
   "outputs": [
    {
     "name": "stderr",
     "output_type": "stream",
     "text": [
      "WARNING: Logging before flag parsing goes to stderr.\n",
      "W0623 21:45:59.997907 140238992508736 deprecation_wrapper.py:119] From /home/pelozo/anaconda3/lib/python3.6/site-packages/keras/backend/tensorflow_backend.py:74: The name tf.get_default_graph is deprecated. Please use tf.compat.v1.get_default_graph instead.\n",
      "\n",
      "W0623 21:46:01.007956 140238992508736 deprecation_wrapper.py:119] From /home/pelozo/anaconda3/lib/python3.6/site-packages/keras/backend/tensorflow_backend.py:517: The name tf.placeholder is deprecated. Please use tf.compat.v1.placeholder instead.\n",
      "\n",
      "W0623 21:46:01.131473 140238992508736 deprecation_wrapper.py:119] From /home/pelozo/anaconda3/lib/python3.6/site-packages/keras/backend/tensorflow_backend.py:4115: The name tf.random_normal is deprecated. Please use tf.random.normal instead.\n",
      "\n",
      "W0623 21:46:01.192604 140238992508736 deprecation_wrapper.py:119] From /home/pelozo/anaconda3/lib/python3.6/site-packages/keras/backend/tensorflow_backend.py:4138: The name tf.random_uniform is deprecated. Please use tf.random.uniform instead.\n",
      "\n"
     ]
    },
    {
     "name": "stdout",
     "output_type": "stream",
     "text": [
      "_________________________________________________________________\n",
      "Layer (type)                 Output Shape              Param #   \n",
      "=================================================================\n",
      "dense_1 (Dense)              (None, 12)                1260      \n",
      "_________________________________________________________________\n",
      "dense_2 (Dense)              (None, 8)                 104       \n",
      "_________________________________________________________________\n",
      "dense_3 (Dense)              (None, 1)                 9         \n",
      "=================================================================\n",
      "Total params: 1,373\n",
      "Trainable params: 1,373\n",
      "Non-trainable params: 0\n",
      "_________________________________________________________________\n"
     ]
    }
   ],
   "source": [
    "model = Sequential()\n",
    "model.add(Dense(12, input_dim=104, kernel_initializer='normal', activation='relu'))\n",
    "model.add(Dense(8, activation='relu'))\n",
    "model.add(Dense(1, activation='linear'))\n",
    "model.summary()"
   ]
  },
  {
   "cell_type": "code",
   "execution_count": 15,
   "metadata": {},
   "outputs": [
    {
     "name": "stderr",
     "output_type": "stream",
     "text": [
      "W0623 21:48:23.402250 140238992508736 deprecation_wrapper.py:119] From /home/pelozo/anaconda3/lib/python3.6/site-packages/keras/optimizers.py:790: The name tf.train.Optimizer is deprecated. Please use tf.compat.v1.train.Optimizer instead.\n",
      "\n"
     ]
    }
   ],
   "source": [
    "model.compile(loss='mse', optimizer='adam', metrics=['mse',rmse])"
   ]
  },
  {
   "cell_type": "code",
   "execution_count": null,
   "metadata": {},
   "outputs": [
    {
     "name": "stderr",
     "output_type": "stream",
     "text": [
      "W0623 21:48:26.361136 140238992508736 deprecation_wrapper.py:119] From /home/pelozo/anaconda3/lib/python3.6/site-packages/keras/backend/tensorflow_backend.py:986: The name tf.assign_add is deprecated. Please use tf.compat.v1.assign_add instead.\n",
      "\n"
     ]
    },
    {
     "name": "stdout",
     "output_type": "stream",
     "text": [
      "Train on 590060 samples, validate on 147515 samples\n",
      "Epoch 1/100\n",
      "590060/590060 [==============================] - 13s 23us/step - loss: 0.0359 - mean_squared_error: 0.0359 - rmse: 0.1047 - val_loss: 0.0325 - val_mean_squared_error: 0.0325 - val_rmse: 0.0958\n",
      "Epoch 2/100\n",
      "590060/590060 [==============================] - 12s 20us/step - loss: 0.0326 - mean_squared_error: 0.0326 - rmse: 0.0961 - val_loss: 0.0327 - val_mean_squared_error: 0.0327 - val_rmse: 0.0898\n",
      "Epoch 3/100\n",
      "590060/590060 [==============================] - 12s 20us/step - loss: 0.0326 - mean_squared_error: 0.0326 - rmse: 0.0956 - val_loss: 0.0325 - val_mean_squared_error: 0.0325 - val_rmse: 0.0967\n",
      "Epoch 4/100\n",
      "590060/590060 [==============================] - 12s 20us/step - loss: 0.0325 - mean_squared_error: 0.0325 - rmse: 0.0952 - val_loss: 0.0325 - val_mean_squared_error: 0.0325 - val_rmse: 0.0909\n",
      "Epoch 5/100\n",
      "590060/590060 [==============================] - 12s 20us/step - loss: 0.0325 - mean_squared_error: 0.0325 - rmse: 0.0951 - val_loss: 0.0325 - val_mean_squared_error: 0.0325 - val_rmse: 0.0921\n",
      "Epoch 6/100\n",
      "590060/590060 [==============================] - 12s 21us/step - loss: 0.0325 - mean_squared_error: 0.0325 - rmse: 0.0949 - val_loss: 0.0325 - val_mean_squared_error: 0.0325 - val_rmse: 0.0913\n",
      "Epoch 7/100\n",
      "590060/590060 [==============================] - 12s 20us/step - loss: 0.0325 - mean_squared_error: 0.0325 - rmse: 0.0948 - val_loss: 0.0325 - val_mean_squared_error: 0.0325 - val_rmse: 0.0990\n",
      "Epoch 8/100\n",
      "590060/590060 [==============================] - 12s 21us/step - loss: 0.0325 - mean_squared_error: 0.0325 - rmse: 0.0948 - val_loss: 0.0325 - val_mean_squared_error: 0.0325 - val_rmse: 0.1007\n",
      "Epoch 9/100\n",
      "590060/590060 [==============================] - 12s 21us/step - loss: 0.0325 - mean_squared_error: 0.0325 - rmse: 0.0948 - val_loss: 0.0326 - val_mean_squared_error: 0.0326 - val_rmse: 0.0889\n",
      "Epoch 10/100\n",
      "590060/590060 [==============================] - 12s 21us/step - loss: 0.0325 - mean_squared_error: 0.0325 - rmse: 0.0947 - val_loss: 0.0325 - val_mean_squared_error: 0.0325 - val_rmse: 0.0922\n",
      "Epoch 11/100\n",
      "590060/590060 [==============================] - 12s 21us/step - loss: 0.0325 - mean_squared_error: 0.0325 - rmse: 0.0947 - val_loss: 0.0325 - val_mean_squared_error: 0.0325 - val_rmse: 0.0912\n",
      "Epoch 12/100\n",
      "590060/590060 [==============================] - 13s 21us/step - loss: 0.0324 - mean_squared_error: 0.0324 - rmse: 0.0947 - val_loss: 0.0325 - val_mean_squared_error: 0.0325 - val_rmse: 0.0904\n",
      "Epoch 13/100\n",
      "590060/590060 [==============================] - 13s 22us/step - loss: 0.0324 - mean_squared_error: 0.0324 - rmse: 0.0947 - val_loss: 0.0325 - val_mean_squared_error: 0.0325 - val_rmse: 0.0912\n",
      "Epoch 14/100\n",
      "590060/590060 [==============================] - 13s 22us/step - loss: 0.0324 - mean_squared_error: 0.0324 - rmse: 0.0947 - val_loss: 0.0325 - val_mean_squared_error: 0.0325 - val_rmse: 0.0966\n",
      "Epoch 15/100\n",
      "590060/590060 [==============================] - 13s 22us/step - loss: 0.0324 - mean_squared_error: 0.0324 - rmse: 0.0946 - val_loss: 0.0325 - val_mean_squared_error: 0.0325 - val_rmse: 0.0975\n",
      "Epoch 16/100\n",
      "590060/590060 [==============================] - 13s 22us/step - loss: 0.0324 - mean_squared_error: 0.0324 - rmse: 0.0946 - val_loss: 0.0325 - val_mean_squared_error: 0.0325 - val_rmse: 0.0990\n",
      "Epoch 17/100\n",
      "590060/590060 [==============================] - 13s 22us/step - loss: 0.0324 - mean_squared_error: 0.0324 - rmse: 0.0946 - val_loss: 0.0325 - val_mean_squared_error: 0.0325 - val_rmse: 0.0953\n",
      "Epoch 18/100\n",
      "590060/590060 [==============================] - 13s 22us/step - loss: 0.0324 - mean_squared_error: 0.0324 - rmse: 0.0946 - val_loss: 0.0326 - val_mean_squared_error: 0.0326 - val_rmse: 0.0997\n",
      "Epoch 19/100\n",
      "590060/590060 [==============================] - 13s 23us/step - loss: 0.0324 - mean_squared_error: 0.0324 - rmse: 0.0946 - val_loss: 0.0325 - val_mean_squared_error: 0.0325 - val_rmse: 0.0962\n",
      "Epoch 20/100\n",
      "590060/590060 [==============================] - 14s 23us/step - loss: 0.0324 - mean_squared_error: 0.0324 - rmse: 0.0946 - val_loss: 0.0325 - val_mean_squared_error: 0.0325 - val_rmse: 0.1008\n",
      "Epoch 21/100\n",
      "590060/590060 [==============================] - 14s 23us/step - loss: 0.0324 - mean_squared_error: 0.0324 - rmse: 0.0946 - val_loss: 0.0325 - val_mean_squared_error: 0.0325 - val_rmse: 0.0901\n",
      "Epoch 22/100\n",
      "590060/590060 [==============================] - 14s 23us/step - loss: 0.0324 - mean_squared_error: 0.0324 - rmse: 0.0946 - val_loss: 0.0325 - val_mean_squared_error: 0.0325 - val_rmse: 0.0915\n",
      "Epoch 23/100\n",
      "590060/590060 [==============================] - 14s 23us/step - loss: 0.0324 - mean_squared_error: 0.0324 - rmse: 0.0945 - val_loss: 0.0325 - val_mean_squared_error: 0.0325 - val_rmse: 0.0997\n",
      "Epoch 24/100\n",
      "590060/590060 [==============================] - 14s 24us/step - loss: 0.0324 - mean_squared_error: 0.0324 - rmse: 0.0945 - val_loss: 0.0324 - val_mean_squared_error: 0.0324 - val_rmse: 0.0933\n",
      "Epoch 25/100\n",
      "590060/590060 [==============================] - 14s 24us/step - loss: 0.0324 - mean_squared_error: 0.0324 - rmse: 0.0945 - val_loss: 0.0327 - val_mean_squared_error: 0.0327 - val_rmse: 0.1063\n",
      "Epoch 26/100\n",
      "590060/590060 [==============================] - 14s 24us/step - loss: 0.0324 - mean_squared_error: 0.0324 - rmse: 0.0945 - val_loss: 0.0325 - val_mean_squared_error: 0.0325 - val_rmse: 0.0963\n",
      "Epoch 27/100\n",
      "590060/590060 [==============================] - 14s 24us/step - loss: 0.0324 - mean_squared_error: 0.0324 - rmse: 0.0945 - val_loss: 0.0325 - val_mean_squared_error: 0.0325 - val_rmse: 0.1021\n",
      "Epoch 28/100\n",
      "590060/590060 [==============================] - 14s 24us/step - loss: 0.0324 - mean_squared_error: 0.0324 - rmse: 0.0945 - val_loss: 0.0325 - val_mean_squared_error: 0.0325 - val_rmse: 0.0991\n",
      "Epoch 29/100\n",
      "590060/590060 [==============================] - 14s 23us/step - loss: 0.0324 - mean_squared_error: 0.0324 - rmse: 0.0945 - val_loss: 0.0325 - val_mean_squared_error: 0.0325 - val_rmse: 0.0896\n",
      "Epoch 30/100\n",
      "590060/590060 [==============================] - 14s 24us/step - loss: 0.0324 - mean_squared_error: 0.0324 - rmse: 0.0945 - val_loss: 0.0325 - val_mean_squared_error: 0.0325 - val_rmse: 0.0910\n",
      "Epoch 31/100\n",
      "590060/590060 [==============================] - 14s 23us/step - loss: 0.0324 - mean_squared_error: 0.0324 - rmse: 0.0944 - val_loss: 0.0325 - val_mean_squared_error: 0.0325 - val_rmse: 0.0916\n",
      "Epoch 32/100\n",
      "590060/590060 [==============================] - 14s 23us/step - loss: 0.0324 - mean_squared_error: 0.0324 - rmse: 0.0944 - val_loss: 0.0325 - val_mean_squared_error: 0.0325 - val_rmse: 0.0951\n",
      "Epoch 33/100\n",
      "590060/590060 [==============================] - 14s 24us/step - loss: 0.0324 - mean_squared_error: 0.0324 - rmse: 0.0944 - val_loss: 0.0325 - val_mean_squared_error: 0.0325 - val_rmse: 0.0926\n",
      "Epoch 34/100\n",
      "590060/590060 [==============================] - 13s 23us/step - loss: 0.0324 - mean_squared_error: 0.0324 - rmse: 0.0944 - val_loss: 0.0325 - val_mean_squared_error: 0.0325 - val_rmse: 0.0958\n",
      "Epoch 35/100\n",
      "590060/590060 [==============================] - 13s 23us/step - loss: 0.0324 - mean_squared_error: 0.0324 - rmse: 0.0944 - val_loss: 0.0325 - val_mean_squared_error: 0.0325 - val_rmse: 0.0930\n",
      "Epoch 36/100\n",
      "590060/590060 [==============================] - 13s 23us/step - loss: 0.0324 - mean_squared_error: 0.0324 - rmse: 0.0944 - val_loss: 0.0325 - val_mean_squared_error: 0.0325 - val_rmse: 0.0956\n",
      "Epoch 37/100\n",
      "590060/590060 [==============================] - 13s 23us/step - loss: 0.0324 - mean_squared_error: 0.0324 - rmse: 0.0944 - val_loss: 0.0325 - val_mean_squared_error: 0.0325 - val_rmse: 0.0902\n",
      "Epoch 38/100\n",
      "590060/590060 [==============================] - 13s 22us/step - loss: 0.0324 - mean_squared_error: 0.0324 - rmse: 0.0944 - val_loss: 0.0325 - val_mean_squared_error: 0.0325 - val_rmse: 0.0940\n",
      "Epoch 39/100\n",
      "590060/590060 [==============================] - 13s 22us/step - loss: 0.0324 - mean_squared_error: 0.0324 - rmse: 0.0944 - val_loss: 0.0325 - val_mean_squared_error: 0.0325 - val_rmse: 0.0961\n",
      "Epoch 40/100\n",
      "590060/590060 [==============================] - 13s 22us/step - loss: 0.0324 - mean_squared_error: 0.0324 - rmse: 0.0944 - val_loss: 0.0325 - val_mean_squared_error: 0.0325 - val_rmse: 0.0990\n",
      "Epoch 41/100\n",
      "590060/590060 [==============================] - 13s 22us/step - loss: 0.0324 - mean_squared_error: 0.0324 - rmse: 0.0944 - val_loss: 0.0325 - val_mean_squared_error: 0.0325 - val_rmse: 0.0883\n",
      "Epoch 42/100\n",
      "590060/590060 [==============================] - 13s 23us/step - loss: 0.0324 - mean_squared_error: 0.0324 - rmse: 0.0944 - val_loss: 0.0325 - val_mean_squared_error: 0.0325 - val_rmse: 0.0898\n",
      "Epoch 43/100\n",
      "590060/590060 [==============================] - 13s 23us/step - loss: 0.0324 - mean_squared_error: 0.0324 - rmse: 0.0944 - val_loss: 0.0325 - val_mean_squared_error: 0.0325 - val_rmse: 0.0902\n",
      "Epoch 44/100\n",
      "590060/590060 [==============================] - 13s 22us/step - loss: 0.0324 - mean_squared_error: 0.0324 - rmse: 0.0944 - val_loss: 0.0324 - val_mean_squared_error: 0.0324 - val_rmse: 0.0927\n",
      "Epoch 45/100\n",
      "590060/590060 [==============================] - 13s 22us/step - loss: 0.0324 - mean_squared_error: 0.0324 - rmse: 0.0944 - val_loss: 0.0325 - val_mean_squared_error: 0.0325 - val_rmse: 0.0988\n",
      "Epoch 46/100\n",
      "590060/590060 [==============================] - 13s 22us/step - loss: 0.0324 - mean_squared_error: 0.0324 - rmse: 0.0944 - val_loss: 0.0325 - val_mean_squared_error: 0.0325 - val_rmse: 0.0928\n",
      "Epoch 47/100\n",
      "590060/590060 [==============================] - 13s 22us/step - loss: 0.0324 - mean_squared_error: 0.0324 - rmse: 0.0944 - val_loss: 0.0325 - val_mean_squared_error: 0.0325 - val_rmse: 0.0918\n",
      "Epoch 48/100\n",
      "590060/590060 [==============================] - 13s 22us/step - loss: 0.0324 - mean_squared_error: 0.0324 - rmse: 0.0944 - val_loss: 0.0326 - val_mean_squared_error: 0.0326 - val_rmse: 0.1013\n",
      "Epoch 49/100\n",
      "590060/590060 [==============================] - 13s 22us/step - loss: 0.0323 - mean_squared_error: 0.0323 - rmse: 0.0944 - val_loss: 0.0325 - val_mean_squared_error: 0.0325 - val_rmse: 0.0939\n",
      "Epoch 50/100\n",
      "590060/590060 [==============================] - 13s 22us/step - loss: 0.0323 - mean_squared_error: 0.0323 - rmse: 0.0944 - val_loss: 0.0325 - val_mean_squared_error: 0.0325 - val_rmse: 0.0907\n",
      "Epoch 51/100\n",
      "590060/590060 [==============================] - 13s 22us/step - loss: 0.0323 - mean_squared_error: 0.0323 - rmse: 0.0944 - val_loss: 0.0325 - val_mean_squared_error: 0.0325 - val_rmse: 0.0927\n",
      "Epoch 52/100\n",
      "590060/590060 [==============================] - 13s 22us/step - loss: 0.0323 - mean_squared_error: 0.0323 - rmse: 0.0943 - val_loss: 0.0325 - val_mean_squared_error: 0.0325 - val_rmse: 0.0969\n",
      "Epoch 53/100\n",
      "590060/590060 [==============================] - 13s 22us/step - loss: 0.0323 - mean_squared_error: 0.0323 - rmse: 0.0944 - val_loss: 0.0325 - val_mean_squared_error: 0.0325 - val_rmse: 0.0958\n",
      "Epoch 54/100\n",
      "590060/590060 [==============================] - 13s 22us/step - loss: 0.0323 - mean_squared_error: 0.0323 - rmse: 0.0943 - val_loss: 0.0325 - val_mean_squared_error: 0.0325 - val_rmse: 0.0983\n",
      "Epoch 55/100\n",
      "590060/590060 [==============================] - 13s 22us/step - loss: 0.0323 - mean_squared_error: 0.0323 - rmse: 0.0943 - val_loss: 0.0325 - val_mean_squared_error: 0.0325 - val_rmse: 0.0929\n",
      "Epoch 56/100\n",
      "590060/590060 [==============================] - 13s 22us/step - loss: 0.0323 - mean_squared_error: 0.0323 - rmse: 0.0943 - val_loss: 0.0325 - val_mean_squared_error: 0.0325 - val_rmse: 0.0963\n",
      "Epoch 57/100\n",
      "590060/590060 [==============================] - 13s 22us/step - loss: 0.0323 - mean_squared_error: 0.0323 - rmse: 0.0943 - val_loss: 0.0325 - val_mean_squared_error: 0.0325 - val_rmse: 0.0968\n",
      "Epoch 58/100\n",
      "590060/590060 [==============================] - 13s 22us/step - loss: 0.0323 - mean_squared_error: 0.0323 - rmse: 0.0943 - val_loss: 0.0325 - val_mean_squared_error: 0.0325 - val_rmse: 0.1005\n",
      "Epoch 59/100\n",
      "590060/590060 [==============================] - 13s 22us/step - loss: 0.0323 - mean_squared_error: 0.0323 - rmse: 0.0943 - val_loss: 0.0327 - val_mean_squared_error: 0.0327 - val_rmse: 0.0870\n",
      "Epoch 60/100\n",
      "590060/590060 [==============================] - 13s 22us/step - loss: 0.0323 - mean_squared_error: 0.0323 - rmse: 0.0943 - val_loss: 0.0325 - val_mean_squared_error: 0.0325 - val_rmse: 0.0908\n",
      "Epoch 61/100\n",
      "590060/590060 [==============================] - 13s 22us/step - loss: 0.0323 - mean_squared_error: 0.0323 - rmse: 0.0943 - val_loss: 0.0326 - val_mean_squared_error: 0.0326 - val_rmse: 0.0978\n",
      "Epoch 62/100\n",
      "590060/590060 [==============================] - 13s 22us/step - loss: 0.0323 - mean_squared_error: 0.0323 - rmse: 0.0943 - val_loss: 0.0326 - val_mean_squared_error: 0.0326 - val_rmse: 0.1017\n",
      "Epoch 63/100\n",
      "590060/590060 [==============================] - 13s 22us/step - loss: 0.0323 - mean_squared_error: 0.0323 - rmse: 0.0943 - val_loss: 0.0325 - val_mean_squared_error: 0.0325 - val_rmse: 0.0962\n",
      "Epoch 64/100\n",
      "590060/590060 [==============================] - 13s 22us/step - loss: 0.0323 - mean_squared_error: 0.0323 - rmse: 0.0943 - val_loss: 0.0326 - val_mean_squared_error: 0.0326 - val_rmse: 0.0942\n",
      "Epoch 65/100\n",
      "590060/590060 [==============================] - 13s 22us/step - loss: 0.0323 - mean_squared_error: 0.0323 - rmse: 0.0943 - val_loss: 0.0325 - val_mean_squared_error: 0.0325 - val_rmse: 0.0937\n",
      "Epoch 66/100\n",
      "590060/590060 [==============================] - 13s 22us/step - loss: 0.0323 - mean_squared_error: 0.0323 - rmse: 0.0943 - val_loss: 0.0325 - val_mean_squared_error: 0.0325 - val_rmse: 0.0955\n",
      "Epoch 67/100\n",
      "590060/590060 [==============================] - 13s 22us/step - loss: 0.0323 - mean_squared_error: 0.0323 - rmse: 0.0943 - val_loss: 0.0325 - val_mean_squared_error: 0.0325 - val_rmse: 0.0936\n",
      "Epoch 68/100\n",
      "590060/590060 [==============================] - 13s 22us/step - loss: 0.0323 - mean_squared_error: 0.0323 - rmse: 0.0943 - val_loss: 0.0325 - val_mean_squared_error: 0.0325 - val_rmse: 0.0888\n",
      "Epoch 69/100\n",
      "414450/590060 [====================>.........] - ETA: 3s - loss: 0.0323 - mean_squared_error: 0.0323 - rmse: 0.0943"
     ]
    }
   ],
   "source": [
    "history = model.fit(X_train, y_train, epochs=100, batch_size=50,  verbose=1, validation_data=(X_test,y_test))"
   ]
  },
  {
   "cell_type": "code",
   "execution_count": 55,
   "metadata": {},
   "outputs": [
    {
     "name": "stdout",
     "output_type": "stream",
     "text": [
      "dict_keys(['val_loss', 'val_mean_squared_error', 'val_mean_absolute_error', 'val_rmse', 'loss', 'mean_squared_error', 'mean_absolute_error', 'rmse'])\n"
     ]
    },
    {
     "data": {
      "image/png": "[encoded data removed]",
      "text/plain": [
       "<Figure size 432x288 with 1 Axes>"
      ]
     },
     "metadata": {
      "needs_background": "light"
     },
     "output_type": "display_data"
    }
   ],
   "source": [
    "print(history.history.keys())\n",
    "# \"Loss\"\n",
    "plt.plot(history.history['loss'])\n",
    "plt.plot(history.history['val_loss'])\n",
    "plt.title('model loss')\n",
    "plt.ylabel('loss')\n",
    "plt.xlabel('epoch')\n",
    "plt.legend(['train', 'validation'], loc='upper left')\n",
    "plt.show()\n"
   ]
  },
  {
   "cell_type": "code",
   "execution_count": 57,
   "metadata": {},
   "outputs": [],
   "source": [
    "y_pred= model.predict(X_test)"
   ]
  },
  {
   "cell_type": "code",
   "execution_count": 58,
   "metadata": {},
   "outputs": [],
   "source": [
    "pred = scaler_y.inverse_transform(y_pred) "
   ]
  },
  {
   "cell_type": "code",
   "execution_count": 59,
   "metadata": {},
   "outputs": [],
   "source": [
    "real = scaler_y.inverse_transform(y_test)"
   ]
  },
  {
   "cell_type": "code",
   "execution_count": 63,
   "metadata": {},
   "outputs": [
    {
     "name": "stdout",
     "output_type": "stream",
     "text": [
      "RMSE value is: 46782.89622217884\n"
     ]
    }
   ],
   "source": [
    "error = sqrt(mean_squared_error(pred,real))\n",
    "\n",
    "print('RMSE value is:', error)"
   ]
  },
  {
   "cell_type": "code",
   "execution_count": 76,
   "metadata": {},
   "outputs": [],
   "source": [
    "real2 = []\n",
    "for valor in real:\n",
    "    real2.append(valor[0])"
   ]
  },
  {
   "cell_type": "code",
   "execution_count": 78,
   "metadata": {},
   "outputs": [],
   "source": [
    "pred2 = []\n",
    "for valor in pred:\n",
    "    pred2.append(valor[0])"
   ]
  },
  {
   "cell_type": "code",
   "execution_count": 82,
   "metadata": {},
   "outputs": [
    {
     "name": "stdout",
     "output_type": "stream",
     "text": [
      "RMSE value is: 46782.89622217884\n"
     ]
    }
   ],
   "source": [
    "error = sqrt(mean_squared_error(pred2,real2))\n",
    "\n",
    "print('RMSE value is:', error)"
   ]
  },
  {
   "cell_type": "code",
   "execution_count": 80,
   "metadata": {},
   "outputs": [
    {
     "data": {
      "text/html": [
       "<div>\n",
       "<style scoped>\n",
       "    .dataframe tbody tr th:only-of-type {\n",
       "        vertical-align: middle;\n",
       "    }\n",
       "\n",
       "    .dataframe tbody tr th {\n",
       "        vertical-align: top;\n",
       "    }\n",
       "\n",
       "    .dataframe thead th {\n",
       "        text-align: right;\n",
       "    }\n",
       "</style>\n",
       "<table border=\"1\" class=\"dataframe\">\n",
       "  <thead>\n",
       "    <tr style=\"text-align: right;\">\n",
       "      <th></th>\n",
       "      <th>pred</th>\n",
       "      <th>real</th>\n",
       "    </tr>\n",
       "  </thead>\n",
       "  <tbody>\n",
       "    <tr>\n",
       "      <th>0</th>\n",
       "      <td>254071.625000</td>\n",
       "      <td>259200.000</td>\n",
       "    </tr>\n",
       "    <tr>\n",
       "      <th>1</th>\n",
       "      <td>250365.828125</td>\n",
       "      <td>259200.000</td>\n",
       "    </tr>\n",
       "    <tr>\n",
       "      <th>2</th>\n",
       "      <td>250677.875000</td>\n",
       "      <td>259200.000</td>\n",
       "    </tr>\n",
       "    <tr>\n",
       "      <th>3</th>\n",
       "      <td>254244.421875</td>\n",
       "      <td>259200.000</td>\n",
       "    </tr>\n",
       "    <tr>\n",
       "      <th>4</th>\n",
       "      <td>130438.468750</td>\n",
       "      <td>6885.802</td>\n",
       "    </tr>\n",
       "    <tr>\n",
       "      <th>5</th>\n",
       "      <td>253830.453125</td>\n",
       "      <td>259200.000</td>\n",
       "    </tr>\n",
       "    <tr>\n",
       "      <th>6</th>\n",
       "      <td>253495.984375</td>\n",
       "      <td>259200.000</td>\n",
       "    </tr>\n",
       "    <tr>\n",
       "      <th>7</th>\n",
       "      <td>251706.750000</td>\n",
       "      <td>259200.000</td>\n",
       "    </tr>\n",
       "    <tr>\n",
       "      <th>8</th>\n",
       "      <td>126759.046875</td>\n",
       "      <td>58330.013</td>\n",
       "    </tr>\n",
       "    <tr>\n",
       "      <th>9</th>\n",
       "      <td>253883.453125</td>\n",
       "      <td>259200.000</td>\n",
       "    </tr>\n",
       "    <tr>\n",
       "      <th>10</th>\n",
       "      <td>254606.296875</td>\n",
       "      <td>259200.000</td>\n",
       "    </tr>\n",
       "    <tr>\n",
       "      <th>11</th>\n",
       "      <td>253890.515625</td>\n",
       "      <td>259200.000</td>\n",
       "    </tr>\n",
       "    <tr>\n",
       "      <th>12</th>\n",
       "      <td>254033.000000</td>\n",
       "      <td>259200.000</td>\n",
       "    </tr>\n",
       "    <tr>\n",
       "      <th>13</th>\n",
       "      <td>254545.234375</td>\n",
       "      <td>259200.000</td>\n",
       "    </tr>\n",
       "    <tr>\n",
       "      <th>14</th>\n",
       "      <td>248110.359375</td>\n",
       "      <td>259200.000</td>\n",
       "    </tr>\n",
       "    <tr>\n",
       "      <th>15</th>\n",
       "      <td>252842.343750</td>\n",
       "      <td>259200.000</td>\n",
       "    </tr>\n",
       "    <tr>\n",
       "      <th>16</th>\n",
       "      <td>253453.609375</td>\n",
       "      <td>259200.000</td>\n",
       "    </tr>\n",
       "    <tr>\n",
       "      <th>17</th>\n",
       "      <td>251201.171875</td>\n",
       "      <td>259200.000</td>\n",
       "    </tr>\n",
       "    <tr>\n",
       "      <th>18</th>\n",
       "      <td>124572.859375</td>\n",
       "      <td>251329.528</td>\n",
       "    </tr>\n",
       "    <tr>\n",
       "      <th>19</th>\n",
       "      <td>254243.656250</td>\n",
       "      <td>259200.000</td>\n",
       "    </tr>\n",
       "    <tr>\n",
       "      <th>20</th>\n",
       "      <td>254595.515625</td>\n",
       "      <td>259200.000</td>\n",
       "    </tr>\n",
       "    <tr>\n",
       "      <th>21</th>\n",
       "      <td>254673.109375</td>\n",
       "      <td>259200.000</td>\n",
       "    </tr>\n",
       "    <tr>\n",
       "      <th>22</th>\n",
       "      <td>130871.671875</td>\n",
       "      <td>157004.823</td>\n",
       "    </tr>\n",
       "    <tr>\n",
       "      <th>23</th>\n",
       "      <td>259229.187500</td>\n",
       "      <td>259200.000</td>\n",
       "    </tr>\n",
       "    <tr>\n",
       "      <th>24</th>\n",
       "      <td>254475.984375</td>\n",
       "      <td>259200.000</td>\n",
       "    </tr>\n",
       "    <tr>\n",
       "      <th>25</th>\n",
       "      <td>254298.703125</td>\n",
       "      <td>259200.000</td>\n",
       "    </tr>\n",
       "    <tr>\n",
       "      <th>26</th>\n",
       "      <td>254165.718750</td>\n",
       "      <td>259200.000</td>\n",
       "    </tr>\n",
       "    <tr>\n",
       "      <th>27</th>\n",
       "      <td>254342.234375</td>\n",
       "      <td>259200.000</td>\n",
       "    </tr>\n",
       "    <tr>\n",
       "      <th>28</th>\n",
       "      <td>250820.531250</td>\n",
       "      <td>107940.938</td>\n",
       "    </tr>\n",
       "    <tr>\n",
       "      <th>29</th>\n",
       "      <td>254613.000000</td>\n",
       "      <td>259200.000</td>\n",
       "    </tr>\n",
       "    <tr>\n",
       "      <th>...</th>\n",
       "      <td>...</td>\n",
       "      <td>...</td>\n",
       "    </tr>\n",
       "    <tr>\n",
       "      <th>147485</th>\n",
       "      <td>253645.937500</td>\n",
       "      <td>259200.000</td>\n",
       "    </tr>\n",
       "    <tr>\n",
       "      <th>147486</th>\n",
       "      <td>253896.328125</td>\n",
       "      <td>259200.000</td>\n",
       "    </tr>\n",
       "    <tr>\n",
       "      <th>147487</th>\n",
       "      <td>254247.718750</td>\n",
       "      <td>259200.000</td>\n",
       "    </tr>\n",
       "    <tr>\n",
       "      <th>147488</th>\n",
       "      <td>254625.265625</td>\n",
       "      <td>259200.000</td>\n",
       "    </tr>\n",
       "    <tr>\n",
       "      <th>147489</th>\n",
       "      <td>246235.250000</td>\n",
       "      <td>259200.000</td>\n",
       "    </tr>\n",
       "    <tr>\n",
       "      <th>147490</th>\n",
       "      <td>254466.750000</td>\n",
       "      <td>259200.000</td>\n",
       "    </tr>\n",
       "    <tr>\n",
       "      <th>147491</th>\n",
       "      <td>126846.382812</td>\n",
       "      <td>29903.955</td>\n",
       "    </tr>\n",
       "    <tr>\n",
       "      <th>147492</th>\n",
       "      <td>253718.890625</td>\n",
       "      <td>259200.000</td>\n",
       "    </tr>\n",
       "    <tr>\n",
       "      <th>147493</th>\n",
       "      <td>254544.171875</td>\n",
       "      <td>259200.000</td>\n",
       "    </tr>\n",
       "    <tr>\n",
       "      <th>147494</th>\n",
       "      <td>128345.734375</td>\n",
       "      <td>13029.522</td>\n",
       "    </tr>\n",
       "    <tr>\n",
       "      <th>147495</th>\n",
       "      <td>254591.531250</td>\n",
       "      <td>259200.000</td>\n",
       "    </tr>\n",
       "    <tr>\n",
       "      <th>147496</th>\n",
       "      <td>253837.125000</td>\n",
       "      <td>259200.000</td>\n",
       "    </tr>\n",
       "    <tr>\n",
       "      <th>147497</th>\n",
       "      <td>245426.656250</td>\n",
       "      <td>259200.000</td>\n",
       "    </tr>\n",
       "    <tr>\n",
       "      <th>147498</th>\n",
       "      <td>135537.375000</td>\n",
       "      <td>172094.437</td>\n",
       "    </tr>\n",
       "    <tr>\n",
       "      <th>147499</th>\n",
       "      <td>254644.515625</td>\n",
       "      <td>259200.000</td>\n",
       "    </tr>\n",
       "    <tr>\n",
       "      <th>147500</th>\n",
       "      <td>250777.515625</td>\n",
       "      <td>259200.000</td>\n",
       "    </tr>\n",
       "    <tr>\n",
       "      <th>147501</th>\n",
       "      <td>254551.031250</td>\n",
       "      <td>259200.000</td>\n",
       "    </tr>\n",
       "    <tr>\n",
       "      <th>147502</th>\n",
       "      <td>130438.468750</td>\n",
       "      <td>59264.239</td>\n",
       "    </tr>\n",
       "    <tr>\n",
       "      <th>147503</th>\n",
       "      <td>253134.875000</td>\n",
       "      <td>259200.000</td>\n",
       "    </tr>\n",
       "    <tr>\n",
       "      <th>147504</th>\n",
       "      <td>253657.453125</td>\n",
       "      <td>259200.000</td>\n",
       "    </tr>\n",
       "    <tr>\n",
       "      <th>147505</th>\n",
       "      <td>254669.343750</td>\n",
       "      <td>259200.000</td>\n",
       "    </tr>\n",
       "    <tr>\n",
       "      <th>147506</th>\n",
       "      <td>124639.265625</td>\n",
       "      <td>194662.671</td>\n",
       "    </tr>\n",
       "    <tr>\n",
       "      <th>147507</th>\n",
       "      <td>125306.320312</td>\n",
       "      <td>6907.243</td>\n",
       "    </tr>\n",
       "    <tr>\n",
       "      <th>147508</th>\n",
       "      <td>254432.859375</td>\n",
       "      <td>259200.000</td>\n",
       "    </tr>\n",
       "    <tr>\n",
       "      <th>147509</th>\n",
       "      <td>252354.500000</td>\n",
       "      <td>259200.000</td>\n",
       "    </tr>\n",
       "    <tr>\n",
       "      <th>147510</th>\n",
       "      <td>251663.531250</td>\n",
       "      <td>259200.000</td>\n",
       "    </tr>\n",
       "    <tr>\n",
       "      <th>147511</th>\n",
       "      <td>124028.742188</td>\n",
       "      <td>179345.230</td>\n",
       "    </tr>\n",
       "    <tr>\n",
       "      <th>147512</th>\n",
       "      <td>253056.562500</td>\n",
       "      <td>259200.000</td>\n",
       "    </tr>\n",
       "    <tr>\n",
       "      <th>147513</th>\n",
       "      <td>253004.156250</td>\n",
       "      <td>259200.000</td>\n",
       "    </tr>\n",
       "    <tr>\n",
       "      <th>147514</th>\n",
       "      <td>124135.101562</td>\n",
       "      <td>67690.731</td>\n",
       "    </tr>\n",
       "  </tbody>\n",
       "</table>\n",
       "<p>147515 rows × 2 columns</p>\n",
       "</div>"
      ],
      "text/plain": [
       "                 pred        real\n",
       "0       254071.625000  259200.000\n",
       "1       250365.828125  259200.000\n",
       "2       250677.875000  259200.000\n",
       "3       254244.421875  259200.000\n",
       "4       130438.468750    6885.802\n",
       "5       253830.453125  259200.000\n",
       "6       253495.984375  259200.000\n",
       "7       251706.750000  259200.000\n",
       "8       126759.046875   58330.013\n",
       "9       253883.453125  259200.000\n",
       "10      254606.296875  259200.000\n",
       "11      253890.515625  259200.000\n",
       "12      254033.000000  259200.000\n",
       "13      254545.234375  259200.000\n",
       "14      248110.359375  259200.000\n",
       "15      252842.343750  259200.000\n",
       "16      253453.609375  259200.000\n",
       "17      251201.171875  259200.000\n",
       "18      124572.859375  251329.528\n",
       "19      254243.656250  259200.000\n",
       "20      254595.515625  259200.000\n",
       "21      254673.109375  259200.000\n",
       "22      130871.671875  157004.823\n",
       "23      259229.187500  259200.000\n",
       "24      254475.984375  259200.000\n",
       "25      254298.703125  259200.000\n",
       "26      254165.718750  259200.000\n",
       "27      254342.234375  259200.000\n",
       "28      250820.531250  107940.938\n",
       "29      254613.000000  259200.000\n",
       "...               ...         ...\n",
       "147485  253645.937500  259200.000\n",
       "147486  253896.328125  259200.000\n",
       "147487  254247.718750  259200.000\n",
       "147488  254625.265625  259200.000\n",
       "147489  246235.250000  259200.000\n",
       "147490  254466.750000  259200.000\n",
       "147491  126846.382812   29903.955\n",
       "147492  253718.890625  259200.000\n",
       "147493  254544.171875  259200.000\n",
       "147494  128345.734375   13029.522\n",
       "147495  254591.531250  259200.000\n",
       "147496  253837.125000  259200.000\n",
       "147497  245426.656250  259200.000\n",
       "147498  135537.375000  172094.437\n",
       "147499  254644.515625  259200.000\n",
       "147500  250777.515625  259200.000\n",
       "147501  254551.031250  259200.000\n",
       "147502  130438.468750   59264.239\n",
       "147503  253134.875000  259200.000\n",
       "147504  253657.453125  259200.000\n",
       "147505  254669.343750  259200.000\n",
       "147506  124639.265625  194662.671\n",
       "147507  125306.320312    6907.243\n",
       "147508  254432.859375  259200.000\n",
       "147509  252354.500000  259200.000\n",
       "147510  251663.531250  259200.000\n",
       "147511  124028.742188  179345.230\n",
       "147512  253056.562500  259200.000\n",
       "147513  253004.156250  259200.000\n",
       "147514  124135.101562   67690.731\n",
       "\n",
       "[147515 rows x 2 columns]"
      ]
     },
     "execution_count": 80,
     "metadata": {},
     "output_type": "execute_result"
    }
   ],
   "source": [
    "pd.DataFrame({\"pred\":pred2,\"real\":real2})"
   ]
  },
  {
   "cell_type": "markdown",
   "metadata": {},
   "source": [
    "----"
   ]
  },
  {
   "cell_type": "markdown",
   "metadata": {},
   "source": [
    "### Auctions"
   ]
  },
  {
   "cell_type": "code",
   "execution_count": 3,
   "metadata": {},
   "outputs": [],
   "source": [
    "train = pd.read_pickle(\"../../../modelo/armado_datos/train_completo_auctions.pkl\")"
   ]
  },
  {
   "cell_type": "code",
   "execution_count": 4,
   "metadata": {},
   "outputs": [
    {
     "data": {
      "text/plain": [
       "1286041"
      ]
     },
     "execution_count": 4,
     "metadata": {},
     "output_type": "execute_result"
    }
   ],
   "source": [
    "len(train)"
   ]
  },
  {
   "cell_type": "code",
   "execution_count": 5,
   "metadata": {},
   "outputs": [],
   "source": [
    "train.fillna(0,inplace = True)"
   ]
  },
  {
   "cell_type": "code",
   "execution_count": 7,
   "metadata": {},
   "outputs": [],
   "source": [
    "X, y = train.drop(\"target\",axis = 1), train[\"target\"]\n",
    "\n"
   ]
  },
  {
   "cell_type": "code",
   "execution_count": null,
   "metadata": {},
   "outputs": [],
   "source": [
    "y= y.values.reshape(-1,1)\n"
   ]
  },
  {
   "cell_type": "code",
   "execution_count": 10,
   "metadata": {},
   "outputs": [],
   "source": [
    "scaler_x = MinMaxScaler()\n"
   ]
  },
  {
   "cell_type": "code",
   "execution_count": 11,
   "metadata": {},
   "outputs": [
    {
     "ename": "MemoryError",
     "evalue": "",
     "output_type": "error",
     "traceback": [
      "\u001b[0;31m---------------------------------------------------------------------------\u001b[0m",
      "\u001b[0;31mMemoryError\u001b[0m                               Traceback (most recent call last)",
      "\u001b[0;32m<ipython-input-11-55a396d57dc9>\u001b[0m in \u001b[0;36m<module>\u001b[0;34m\u001b[0m\n\u001b[1;32m      1\u001b[0m \u001b[0mscaler_y\u001b[0m \u001b[0;34m=\u001b[0m \u001b[0mMinMaxScaler\u001b[0m\u001b[0;34m(\u001b[0m\u001b[0;34m)\u001b[0m\u001b[0;34m\u001b[0m\u001b[0;34m\u001b[0m\u001b[0m\n\u001b[0;32m----> 2\u001b[0;31m \u001b[0mprint\u001b[0m\u001b[0;34m(\u001b[0m\u001b[0mscaler_x\u001b[0m\u001b[0;34m.\u001b[0m\u001b[0mfit\u001b[0m\u001b[0;34m(\u001b[0m\u001b[0mX\u001b[0m\u001b[0;34m)\u001b[0m\u001b[0;34m)\u001b[0m\u001b[0;34m\u001b[0m\u001b[0;34m\u001b[0m\u001b[0m\n\u001b[0m\u001b[1;32m      3\u001b[0m \u001b[0mxscale\u001b[0m\u001b[0;34m=\u001b[0m\u001b[0mscaler_x\u001b[0m\u001b[0;34m.\u001b[0m\u001b[0mtransform\u001b[0m\u001b[0;34m(\u001b[0m\u001b[0mX\u001b[0m\u001b[0;34m)\u001b[0m\u001b[0;34m\u001b[0m\u001b[0;34m\u001b[0m\u001b[0m\n",
      "\u001b[0;32m~/anaconda3/lib/python3.6/site-packages/sklearn/preprocessing/data.py\u001b[0m in \u001b[0;36mfit\u001b[0;34m(self, X, y)\u001b[0m\n\u001b[1;32m    323\u001b[0m         \u001b[0;31m# Reset internal state before fitting\u001b[0m\u001b[0;34m\u001b[0m\u001b[0;34m\u001b[0m\u001b[0;34m\u001b[0m\u001b[0m\n\u001b[1;32m    324\u001b[0m         \u001b[0mself\u001b[0m\u001b[0;34m.\u001b[0m\u001b[0m_reset\u001b[0m\u001b[0;34m(\u001b[0m\u001b[0;34m)\u001b[0m\u001b[0;34m\u001b[0m\u001b[0;34m\u001b[0m\u001b[0m\n\u001b[0;32m--> 325\u001b[0;31m         \u001b[0;32mreturn\u001b[0m \u001b[0mself\u001b[0m\u001b[0;34m.\u001b[0m\u001b[0mpartial_fit\u001b[0m\u001b[0;34m(\u001b[0m\u001b[0mX\u001b[0m\u001b[0;34m,\u001b[0m \u001b[0my\u001b[0m\u001b[0;34m)\u001b[0m\u001b[0;34m\u001b[0m\u001b[0;34m\u001b[0m\u001b[0m\n\u001b[0m\u001b[1;32m    326\u001b[0m \u001b[0;34m\u001b[0m\u001b[0m\n\u001b[1;32m    327\u001b[0m     \u001b[0;32mdef\u001b[0m \u001b[0mpartial_fit\u001b[0m\u001b[0;34m(\u001b[0m\u001b[0mself\u001b[0m\u001b[0;34m,\u001b[0m \u001b[0mX\u001b[0m\u001b[0;34m,\u001b[0m \u001b[0my\u001b[0m\u001b[0;34m=\u001b[0m\u001b[0;32mNone\u001b[0m\u001b[0;34m)\u001b[0m\u001b[0;34m:\u001b[0m\u001b[0;34m\u001b[0m\u001b[0;34m\u001b[0m\u001b[0m\n",
      "\u001b[0;32m~/anaconda3/lib/python3.6/site-packages/sklearn/preprocessing/data.py\u001b[0m in \u001b[0;36mpartial_fit\u001b[0;34m(self, X, y)\u001b[0m\n\u001b[1;32m    351\u001b[0m         X = check_array(X, copy=self.copy,\n\u001b[1;32m    352\u001b[0m                         \u001b[0mestimator\u001b[0m\u001b[0;34m=\u001b[0m\u001b[0mself\u001b[0m\u001b[0;34m,\u001b[0m \u001b[0mdtype\u001b[0m\u001b[0;34m=\u001b[0m\u001b[0mFLOAT_DTYPES\u001b[0m\u001b[0;34m,\u001b[0m\u001b[0;34m\u001b[0m\u001b[0;34m\u001b[0m\u001b[0m\n\u001b[0;32m--> 353\u001b[0;31m                         force_all_finite=\"allow-nan\")\n\u001b[0m\u001b[1;32m    354\u001b[0m \u001b[0;34m\u001b[0m\u001b[0m\n\u001b[1;32m    355\u001b[0m         \u001b[0mdata_min\u001b[0m \u001b[0;34m=\u001b[0m \u001b[0mnp\u001b[0m\u001b[0;34m.\u001b[0m\u001b[0mnanmin\u001b[0m\u001b[0;34m(\u001b[0m\u001b[0mX\u001b[0m\u001b[0;34m,\u001b[0m \u001b[0maxis\u001b[0m\u001b[0;34m=\u001b[0m\u001b[0;36m0\u001b[0m\u001b[0;34m)\u001b[0m\u001b[0;34m\u001b[0m\u001b[0;34m\u001b[0m\u001b[0m\n",
      "\u001b[0;32m~/anaconda3/lib/python3.6/site-packages/sklearn/utils/validation.py\u001b[0m in \u001b[0;36mcheck_array\u001b[0;34m(array, accept_sparse, accept_large_sparse, dtype, order, copy, force_all_finite, ensure_2d, allow_nd, ensure_min_samples, ensure_min_features, warn_on_dtype, estimator)\u001b[0m\n\u001b[1;32m    494\u001b[0m             \u001b[0;32mtry\u001b[0m\u001b[0;34m:\u001b[0m\u001b[0;34m\u001b[0m\u001b[0;34m\u001b[0m\u001b[0m\n\u001b[1;32m    495\u001b[0m                 \u001b[0mwarnings\u001b[0m\u001b[0;34m.\u001b[0m\u001b[0msimplefilter\u001b[0m\u001b[0;34m(\u001b[0m\u001b[0;34m'error'\u001b[0m\u001b[0;34m,\u001b[0m \u001b[0mComplexWarning\u001b[0m\u001b[0;34m)\u001b[0m\u001b[0;34m\u001b[0m\u001b[0;34m\u001b[0m\u001b[0m\n\u001b[0;32m--> 496\u001b[0;31m                 \u001b[0marray\u001b[0m \u001b[0;34m=\u001b[0m \u001b[0mnp\u001b[0m\u001b[0;34m.\u001b[0m\u001b[0masarray\u001b[0m\u001b[0;34m(\u001b[0m\u001b[0marray\u001b[0m\u001b[0;34m,\u001b[0m \u001b[0mdtype\u001b[0m\u001b[0;34m=\u001b[0m\u001b[0mdtype\u001b[0m\u001b[0;34m,\u001b[0m \u001b[0morder\u001b[0m\u001b[0;34m=\u001b[0m\u001b[0morder\u001b[0m\u001b[0;34m)\u001b[0m\u001b[0;34m\u001b[0m\u001b[0;34m\u001b[0m\u001b[0m\n\u001b[0m\u001b[1;32m    497\u001b[0m             \u001b[0;32mexcept\u001b[0m \u001b[0mComplexWarning\u001b[0m\u001b[0;34m:\u001b[0m\u001b[0;34m\u001b[0m\u001b[0;34m\u001b[0m\u001b[0m\n\u001b[1;32m    498\u001b[0m                 raise ValueError(\"Complex data not supported\\n\"\n",
      "\u001b[0;32m~/anaconda3/lib/python3.6/site-packages/numpy/core/numeric.py\u001b[0m in \u001b[0;36masarray\u001b[0;34m(a, dtype, order)\u001b[0m\n\u001b[1;32m    536\u001b[0m \u001b[0;34m\u001b[0m\u001b[0m\n\u001b[1;32m    537\u001b[0m     \"\"\"\n\u001b[0;32m--> 538\u001b[0;31m     \u001b[0;32mreturn\u001b[0m \u001b[0marray\u001b[0m\u001b[0;34m(\u001b[0m\u001b[0ma\u001b[0m\u001b[0;34m,\u001b[0m \u001b[0mdtype\u001b[0m\u001b[0;34m,\u001b[0m \u001b[0mcopy\u001b[0m\u001b[0;34m=\u001b[0m\u001b[0;32mFalse\u001b[0m\u001b[0;34m,\u001b[0m \u001b[0morder\u001b[0m\u001b[0;34m=\u001b[0m\u001b[0morder\u001b[0m\u001b[0;34m)\u001b[0m\u001b[0;34m\u001b[0m\u001b[0;34m\u001b[0m\u001b[0m\n\u001b[0m\u001b[1;32m    539\u001b[0m \u001b[0;34m\u001b[0m\u001b[0m\n\u001b[1;32m    540\u001b[0m \u001b[0;34m\u001b[0m\u001b[0m\n",
      "\u001b[0;32m~/anaconda3/lib/python3.6/site-packages/pandas/core/generic.py\u001b[0m in \u001b[0;36m__array__\u001b[0;34m(self, dtype)\u001b[0m\n\u001b[1;32m   1903\u001b[0m \u001b[0;34m\u001b[0m\u001b[0m\n\u001b[1;32m   1904\u001b[0m     \u001b[0;32mdef\u001b[0m \u001b[0m__array__\u001b[0m\u001b[0;34m(\u001b[0m\u001b[0mself\u001b[0m\u001b[0;34m,\u001b[0m \u001b[0mdtype\u001b[0m\u001b[0;34m=\u001b[0m\u001b[0;32mNone\u001b[0m\u001b[0;34m)\u001b[0m\u001b[0;34m:\u001b[0m\u001b[0;34m\u001b[0m\u001b[0;34m\u001b[0m\u001b[0m\n\u001b[0;32m-> 1905\u001b[0;31m         \u001b[0;32mreturn\u001b[0m \u001b[0mcom\u001b[0m\u001b[0;34m.\u001b[0m\u001b[0mvalues_from_object\u001b[0m\u001b[0;34m(\u001b[0m\u001b[0mself\u001b[0m\u001b[0;34m)\u001b[0m\u001b[0;34m\u001b[0m\u001b[0;34m\u001b[0m\u001b[0m\n\u001b[0m\u001b[1;32m   1906\u001b[0m \u001b[0;34m\u001b[0m\u001b[0m\n\u001b[1;32m   1907\u001b[0m     \u001b[0;32mdef\u001b[0m \u001b[0m__array_wrap__\u001b[0m\u001b[0;34m(\u001b[0m\u001b[0mself\u001b[0m\u001b[0;34m,\u001b[0m \u001b[0mresult\u001b[0m\u001b[0;34m,\u001b[0m \u001b[0mcontext\u001b[0m\u001b[0;34m=\u001b[0m\u001b[0;32mNone\u001b[0m\u001b[0;34m)\u001b[0m\u001b[0;34m:\u001b[0m\u001b[0;34m\u001b[0m\u001b[0;34m\u001b[0m\u001b[0m\n",
      "\u001b[0;32mpandas/_libs/lib.pyx\u001b[0m in \u001b[0;36mpandas._libs.lib.values_from_object\u001b[0;34m()\u001b[0m\n",
      "\u001b[0;32m~/anaconda3/lib/python3.6/site-packages/pandas/core/generic.py\u001b[0m in \u001b[0;36mget_values\u001b[0;34m(self)\u001b[0m\n\u001b[1;32m   5378\u001b[0m                [nan,  3.]])\n\u001b[1;32m   5379\u001b[0m         \"\"\"\n\u001b[0;32m-> 5380\u001b[0;31m         \u001b[0;32mreturn\u001b[0m \u001b[0mself\u001b[0m\u001b[0;34m.\u001b[0m\u001b[0mvalues\u001b[0m\u001b[0;34m\u001b[0m\u001b[0;34m\u001b[0m\u001b[0m\n\u001b[0m\u001b[1;32m   5381\u001b[0m \u001b[0;34m\u001b[0m\u001b[0m\n\u001b[1;32m   5382\u001b[0m     \u001b[0;32mdef\u001b[0m \u001b[0mget_dtype_counts\u001b[0m\u001b[0;34m(\u001b[0m\u001b[0mself\u001b[0m\u001b[0;34m)\u001b[0m\u001b[0;34m:\u001b[0m\u001b[0;34m\u001b[0m\u001b[0;34m\u001b[0m\u001b[0m\n",
      "\u001b[0;32m~/anaconda3/lib/python3.6/site-packages/pandas/core/generic.py\u001b[0m in \u001b[0;36mvalues\u001b[0;34m(self)\u001b[0m\n\u001b[1;32m   5323\u001b[0m         \"\"\"\n\u001b[1;32m   5324\u001b[0m         \u001b[0mself\u001b[0m\u001b[0;34m.\u001b[0m\u001b[0m_consolidate_inplace\u001b[0m\u001b[0;34m(\u001b[0m\u001b[0;34m)\u001b[0m\u001b[0;34m\u001b[0m\u001b[0;34m\u001b[0m\u001b[0m\n\u001b[0;32m-> 5325\u001b[0;31m         \u001b[0;32mreturn\u001b[0m \u001b[0mself\u001b[0m\u001b[0;34m.\u001b[0m\u001b[0m_data\u001b[0m\u001b[0;34m.\u001b[0m\u001b[0mas_array\u001b[0m\u001b[0;34m(\u001b[0m\u001b[0mtranspose\u001b[0m\u001b[0;34m=\u001b[0m\u001b[0mself\u001b[0m\u001b[0;34m.\u001b[0m\u001b[0m_AXIS_REVERSED\u001b[0m\u001b[0;34m)\u001b[0m\u001b[0;34m\u001b[0m\u001b[0;34m\u001b[0m\u001b[0m\n\u001b[0m\u001b[1;32m   5326\u001b[0m \u001b[0;34m\u001b[0m\u001b[0m\n\u001b[1;32m   5327\u001b[0m     \u001b[0;34m@\u001b[0m\u001b[0mproperty\u001b[0m\u001b[0;34m\u001b[0m\u001b[0;34m\u001b[0m\u001b[0m\n",
      "\u001b[0;32m~/anaconda3/lib/python3.6/site-packages/pandas/core/internals/managers.py\u001b[0m in \u001b[0;36mas_array\u001b[0;34m(self, transpose, items)\u001b[0m\n\u001b[1;32m    766\u001b[0m             \u001b[0marr\u001b[0m \u001b[0;34m=\u001b[0m \u001b[0mnp\u001b[0m\u001b[0;34m.\u001b[0m\u001b[0masarray\u001b[0m\u001b[0;34m(\u001b[0m\u001b[0mmgr\u001b[0m\u001b[0;34m.\u001b[0m\u001b[0mblocks\u001b[0m\u001b[0;34m[\u001b[0m\u001b[0;36m0\u001b[0m\u001b[0;34m]\u001b[0m\u001b[0;34m.\u001b[0m\u001b[0mget_values\u001b[0m\u001b[0;34m(\u001b[0m\u001b[0;34m)\u001b[0m\u001b[0;34m)\u001b[0m\u001b[0;34m\u001b[0m\u001b[0;34m\u001b[0m\u001b[0m\n\u001b[1;32m    767\u001b[0m         \u001b[0;32melse\u001b[0m\u001b[0;34m:\u001b[0m\u001b[0;34m\u001b[0m\u001b[0;34m\u001b[0m\u001b[0m\n\u001b[0;32m--> 768\u001b[0;31m             \u001b[0marr\u001b[0m \u001b[0;34m=\u001b[0m \u001b[0mmgr\u001b[0m\u001b[0;34m.\u001b[0m\u001b[0m_interleave\u001b[0m\u001b[0;34m(\u001b[0m\u001b[0;34m)\u001b[0m\u001b[0;34m\u001b[0m\u001b[0;34m\u001b[0m\u001b[0m\n\u001b[0m\u001b[1;32m    769\u001b[0m \u001b[0;34m\u001b[0m\u001b[0m\n\u001b[1;32m    770\u001b[0m         \u001b[0;32mreturn\u001b[0m \u001b[0marr\u001b[0m\u001b[0;34m.\u001b[0m\u001b[0mtranspose\u001b[0m\u001b[0;34m(\u001b[0m\u001b[0;34m)\u001b[0m \u001b[0;32mif\u001b[0m \u001b[0mtranspose\u001b[0m \u001b[0;32melse\u001b[0m \u001b[0marr\u001b[0m\u001b[0;34m\u001b[0m\u001b[0;34m\u001b[0m\u001b[0m\n",
      "\u001b[0;32m~/anaconda3/lib/python3.6/site-packages/pandas/core/internals/managers.py\u001b[0m in \u001b[0;36m_interleave\u001b[0;34m(self)\u001b[0m\n\u001b[1;32m    785\u001b[0m             \u001b[0mdtype\u001b[0m \u001b[0;34m=\u001b[0m \u001b[0;34m'object'\u001b[0m\u001b[0;34m\u001b[0m\u001b[0;34m\u001b[0m\u001b[0m\n\u001b[1;32m    786\u001b[0m \u001b[0;34m\u001b[0m\u001b[0m\n\u001b[0;32m--> 787\u001b[0;31m         \u001b[0mresult\u001b[0m \u001b[0;34m=\u001b[0m \u001b[0mnp\u001b[0m\u001b[0;34m.\u001b[0m\u001b[0mempty\u001b[0m\u001b[0;34m(\u001b[0m\u001b[0mself\u001b[0m\u001b[0;34m.\u001b[0m\u001b[0mshape\u001b[0m\u001b[0;34m,\u001b[0m \u001b[0mdtype\u001b[0m\u001b[0;34m=\u001b[0m\u001b[0mdtype\u001b[0m\u001b[0;34m)\u001b[0m\u001b[0;34m\u001b[0m\u001b[0;34m\u001b[0m\u001b[0m\n\u001b[0m\u001b[1;32m    788\u001b[0m \u001b[0;34m\u001b[0m\u001b[0m\n\u001b[1;32m    789\u001b[0m         \u001b[0mitemmask\u001b[0m \u001b[0;34m=\u001b[0m \u001b[0mnp\u001b[0m\u001b[0;34m.\u001b[0m\u001b[0mzeros\u001b[0m\u001b[0;34m(\u001b[0m\u001b[0mself\u001b[0m\u001b[0;34m.\u001b[0m\u001b[0mshape\u001b[0m\u001b[0;34m[\u001b[0m\u001b[0;36m0\u001b[0m\u001b[0;34m]\u001b[0m\u001b[0;34m)\u001b[0m\u001b[0;34m\u001b[0m\u001b[0;34m\u001b[0m\u001b[0m\n",
      "\u001b[0;31mMemoryError\u001b[0m: "
     ]
    }
   ],
   "source": [
    "scaler_y = MinMaxScaler()\n",
    "print(scaler_x.fit(X))\n",
    "xscale=scaler_x.transform(X)\n"
   ]
  },
  {
   "cell_type": "code",
   "execution_count": null,
   "metadata": {},
   "outputs": [],
   "source": [
    "print(scaler_y.fit(y))\n",
    "yscale=scaler_y.transform(y)"
   ]
  },
  {
   "cell_type": "code",
   "execution_count": 11,
   "metadata": {},
   "outputs": [],
   "source": [
    "X_train, X_test, y_train, y_test = train_test_split(xscale, yscale, test_size=0.2, random_state=0)"
   ]
  },
  {
   "cell_type": "code",
   "execution_count": 12,
   "metadata": {},
   "outputs": [],
   "source": [
    "def rmse(y_true, y_pred):\n",
    "    return backend.sqrt(backend.mean(backend.square(y_pred - y_true), axis=-1))"
   ]
  },
  {
   "cell_type": "markdown",
   "metadata": {},
   "source": [
    "def build_regressor():\n",
    "    regressor = Sequential()\n",
    "    regressor.add(Dense(units=13, input_dim=104))\n",
    "    regressor.add(Dense(units=1))\n",
    "    regressor.compile(loss='mse', optimizer='adam', metrics=[rmse])\n",
    "    return regressor"
   ]
  },
  {
   "cell_type": "code",
   "execution_count": 13,
   "metadata": {},
   "outputs": [
    {
     "name": "stderr",
     "output_type": "stream",
     "text": [
      "WARNING: Logging before flag parsing goes to stderr.\n",
      "W0623 20:49:21.068512 139911943796544 deprecation_wrapper.py:119] From /home/pelozo/anaconda3/lib/python3.6/site-packages/keras/backend/tensorflow_backend.py:74: The name tf.get_default_graph is deprecated. Please use tf.compat.v1.get_default_graph instead.\n",
      "\n",
      "W0623 20:49:23.196177 139911943796544 deprecation_wrapper.py:119] From /home/pelozo/anaconda3/lib/python3.6/site-packages/keras/backend/tensorflow_backend.py:517: The name tf.placeholder is deprecated. Please use tf.compat.v1.placeholder instead.\n",
      "\n",
      "W0623 20:49:23.479867 139911943796544 deprecation_wrapper.py:119] From /home/pelozo/anaconda3/lib/python3.6/site-packages/keras/backend/tensorflow_backend.py:4115: The name tf.random_normal is deprecated. Please use tf.random.normal instead.\n",
      "\n",
      "W0623 20:49:23.740615 139911943796544 deprecation_wrapper.py:119] From /home/pelozo/anaconda3/lib/python3.6/site-packages/keras/backend/tensorflow_backend.py:4138: The name tf.random_uniform is deprecated. Please use tf.random.uniform instead.\n",
      "\n"
     ]
    },
    {
     "name": "stdout",
     "output_type": "stream",
     "text": [
      "_________________________________________________________________\n",
      "Layer (type)                 Output Shape              Param #   \n",
      "=================================================================\n",
      "dense_1 (Dense)              (None, 12)                1260      \n",
      "_________________________________________________________________\n",
      "dense_2 (Dense)              (None, 8)                 104       \n",
      "_________________________________________________________________\n",
      "dense_3 (Dense)              (None, 1)                 9         \n",
      "=================================================================\n",
      "Total params: 1,373\n",
      "Trainable params: 1,373\n",
      "Non-trainable params: 0\n",
      "_________________________________________________________________\n"
     ]
    }
   ],
   "source": [
    "model = Sequential()\n",
    "model.add(Dense(12, input_dim=103, kernel_initializer='normal', activation='relu'))\n",
    "model.add(Dense(8, activation='relu'))\n",
    "model.add(Dense(1, activation='linear'))\n",
    "model.summary()"
   ]
  },
  {
   "cell_type": "code",
   "execution_count": 15,
   "metadata": {},
   "outputs": [
    {
     "name": "stderr",
     "output_type": "stream",
     "text": [
      "W0623 20:51:50.858865 139911943796544 deprecation_wrapper.py:119] From /home/pelozo/anaconda3/lib/python3.6/site-packages/keras/optimizers.py:790: The name tf.train.Optimizer is deprecated. Please use tf.compat.v1.train.Optimizer instead.\n",
      "\n"
     ]
    }
   ],
   "source": [
    "model.compile(loss='mse', optimizer='adam', metrics=['mse',rmse])"
   ]
  },
  {
   "cell_type": "code",
   "execution_count": null,
   "metadata": {},
   "outputs": [
    {
     "name": "stderr",
     "output_type": "stream",
     "text": [
      "W0623 20:52:18.733414 139911943796544 deprecation_wrapper.py:119] From /home/pelozo/anaconda3/lib/python3.6/site-packages/keras/backend/tensorflow_backend.py:986: The name tf.assign_add is deprecated. Please use tf.compat.v1.assign_add instead.\n",
      "\n"
     ]
    },
    {
     "name": "stdout",
     "output_type": "stream",
     "text": [
      "Train on 590060 samples, validate on 147515 samples\n",
      "Epoch 1/10\n",
      "590060/590060 [==============================] - 14s 24us/step - loss: 0.0400 - mean_squared_error: 0.0400 - rmse: 0.1079 - val_loss: 0.0326 - val_mean_squared_error: 0.0326 - val_rmse: 0.0947\n",
      "Epoch 2/10\n",
      "590060/590060 [==============================] - 11s 19us/step - loss: 0.0327 - mean_squared_error: 0.0327 - rmse: 0.0960 - val_loss: 0.0326 - val_mean_squared_error: 0.0326 - val_rmse: 0.0914\n",
      "Epoch 3/10\n",
      "590060/590060 [==============================] - 11s 19us/step - loss: 0.0326 - mean_squared_error: 0.0326 - rmse: 0.0957 - val_loss: 0.0326 - val_mean_squared_error: 0.0326 - val_rmse: 0.0943\n",
      "Epoch 4/10\n",
      "590060/590060 [==============================] - 12s 20us/step - loss: 0.0326 - mean_squared_error: 0.0326 - rmse: 0.0954 - val_loss: 0.0325 - val_mean_squared_error: 0.0325 - val_rmse: 0.0966\n",
      "Epoch 5/10\n",
      "590060/590060 [==============================] - 13s 21us/step - loss: 0.0325 - mean_squared_error: 0.0325 - rmse: 0.0952 - val_loss: 0.0326 - val_mean_squared_error: 0.0326 - val_rmse: 0.1014\n",
      "Epoch 6/10\n",
      "255150/590060 [===========>..................] - ETA: 6s - loss: 0.0326 - mean_squared_error: 0.0326 - rmse: 0.0951"
     ]
    }
   ],
   "source": [
    "history = model.fit(X_train, y_train, epochs=10, batch_size=50,  verbose=1, validation_data=(X_test,y_test))"
   ]
  },
  {
   "cell_type": "code",
   "execution_count": 55,
   "metadata": {},
   "outputs": [
    {
     "name": "stdout",
     "output_type": "stream",
     "text": [
      "dict_keys(['val_loss', 'val_mean_squared_error', 'val_mean_absolute_error', 'val_rmse', 'loss', 'mean_squared_error', 'mean_absolute_error', 'rmse'])\n"
     ]
    },
    {
     "data": {
      "image/png": "[encoded data removed]",
      "text/plain": [
       "<Figure size 432x288 with 1 Axes>"
      ]
     },
     "metadata": {
      "needs_background": "light"
     },
     "output_type": "display_data"
    }
   ],
   "source": [
    "print(history.history.keys())\n",
    "# \"Loss\"\n",
    "plt.plot(history.history['loss'])\n",
    "plt.plot(history.history['val_loss'])\n",
    "plt.title('model loss')\n",
    "plt.ylabel('loss')\n",
    "plt.xlabel('epoch')\n",
    "plt.legend(['train', 'validation'], loc='upper left')\n",
    "plt.show()\n"
   ]
  },
  {
   "cell_type": "code",
   "execution_count": 57,
   "metadata": {},
   "outputs": [],
   "source": [
    "y_pred= model.predict(X_test)"
   ]
  },
  {
   "cell_type": "code",
   "execution_count": 58,
   "metadata": {},
   "outputs": [],
   "source": [
    "pred = scaler_y.inverse_transform(y_pred) "
   ]
  },
  {
   "cell_type": "code",
   "execution_count": 59,
   "metadata": {},
   "outputs": [],
   "source": [
    "real = scaler_y.inverse_transform(y_test)"
   ]
  },
  {
   "cell_type": "code",
   "execution_count": 63,
   "metadata": {},
   "outputs": [
    {
     "name": "stdout",
     "output_type": "stream",
     "text": [
      "RMSE value is: 46782.89622217884\n"
     ]
    }
   ],
   "source": [
    "error = sqrt(mean_squared_error(pred,real))\n",
    "\n",
    "print('RMSE value is:', error)"
   ]
  },
  {
   "cell_type": "code",
   "execution_count": 76,
   "metadata": {},
   "outputs": [],
   "source": [
    "real2 = []\n",
    "for valor in real:\n",
    "    real2.append(valor[0])"
   ]
  },
  {
   "cell_type": "code",
   "execution_count": 78,
   "metadata": {},
   "outputs": [],
   "source": [
    "pred2 = []\n",
    "for valor in pred:\n",
    "    pred2.append(valor[0])"
   ]
  },
  {
   "cell_type": "code",
   "execution_count": 82,
   "metadata": {},
   "outputs": [
    {
     "name": "stdout",
     "output_type": "stream",
     "text": [
      "RMSE value is: 46782.89622217884\n"
     ]
    }
   ],
   "source": [
    "error = sqrt(mean_squared_error(pred2,real2))\n",
    "\n",
    "print('RMSE value is:', error)"
   ]
  },
  {
   "cell_type": "code",
   "execution_count": 80,
   "metadata": {},
   "outputs": [
    {
     "data": {
      "text/html": [
       "<div>\n",
       "<style scoped>\n",
       "    .dataframe tbody tr th:only-of-type {\n",
       "        vertical-align: middle;\n",
       "    }\n",
       "\n",
       "    .dataframe tbody tr th {\n",
       "        vertical-align: top;\n",
       "    }\n",
       "\n",
       "    .dataframe thead th {\n",
       "        text-align: right;\n",
       "    }\n",
       "</style>\n",
       "<table border=\"1\" class=\"dataframe\">\n",
       "  <thead>\n",
       "    <tr style=\"text-align: right;\">\n",
       "      <th></th>\n",
       "      <th>pred</th>\n",
       "      <th>real</th>\n",
       "    </tr>\n",
       "  </thead>\n",
       "  <tbody>\n",
       "    <tr>\n",
       "      <th>0</th>\n",
       "      <td>254071.625000</td>\n",
       "      <td>259200.000</td>\n",
       "    </tr>\n",
       "    <tr>\n",
       "      <th>1</th>\n",
       "      <td>250365.828125</td>\n",
       "      <td>259200.000</td>\n",
       "    </tr>\n",
       "    <tr>\n",
       "      <th>2</th>\n",
       "      <td>250677.875000</td>\n",
       "      <td>259200.000</td>\n",
       "    </tr>\n",
       "    <tr>\n",
       "      <th>3</th>\n",
       "      <td>254244.421875</td>\n",
       "      <td>259200.000</td>\n",
       "    </tr>\n",
       "    <tr>\n",
       "      <th>4</th>\n",
       "      <td>130438.468750</td>\n",
       "      <td>6885.802</td>\n",
       "    </tr>\n",
       "    <tr>\n",
       "      <th>5</th>\n",
       "      <td>253830.453125</td>\n",
       "      <td>259200.000</td>\n",
       "    </tr>\n",
       "    <tr>\n",
       "      <th>6</th>\n",
       "      <td>253495.984375</td>\n",
       "      <td>259200.000</td>\n",
       "    </tr>\n",
       "    <tr>\n",
       "      <th>7</th>\n",
       "      <td>251706.750000</td>\n",
       "      <td>259200.000</td>\n",
       "    </tr>\n",
       "    <tr>\n",
       "      <th>8</th>\n",
       "      <td>126759.046875</td>\n",
       "      <td>58330.013</td>\n",
       "    </tr>\n",
       "    <tr>\n",
       "      <th>9</th>\n",
       "      <td>253883.453125</td>\n",
       "      <td>259200.000</td>\n",
       "    </tr>\n",
       "    <tr>\n",
       "      <th>10</th>\n",
       "      <td>254606.296875</td>\n",
       "      <td>259200.000</td>\n",
       "    </tr>\n",
       "    <tr>\n",
       "      <th>11</th>\n",
       "      <td>253890.515625</td>\n",
       "      <td>259200.000</td>\n",
       "    </tr>\n",
       "    <tr>\n",
       "      <th>12</th>\n",
       "      <td>254033.000000</td>\n",
       "      <td>259200.000</td>\n",
       "    </tr>\n",
       "    <tr>\n",
       "      <th>13</th>\n",
       "      <td>254545.234375</td>\n",
       "      <td>259200.000</td>\n",
       "    </tr>\n",
       "    <tr>\n",
       "      <th>14</th>\n",
       "      <td>248110.359375</td>\n",
       "      <td>259200.000</td>\n",
       "    </tr>\n",
       "    <tr>\n",
       "      <th>15</th>\n",
       "      <td>252842.343750</td>\n",
       "      <td>259200.000</td>\n",
       "    </tr>\n",
       "    <tr>\n",
       "      <th>16</th>\n",
       "      <td>253453.609375</td>\n",
       "      <td>259200.000</td>\n",
       "    </tr>\n",
       "    <tr>\n",
       "      <th>17</th>\n",
       "      <td>251201.171875</td>\n",
       "      <td>259200.000</td>\n",
       "    </tr>\n",
       "    <tr>\n",
       "      <th>18</th>\n",
       "      <td>124572.859375</td>\n",
       "      <td>251329.528</td>\n",
       "    </tr>\n",
       "    <tr>\n",
       "      <th>19</th>\n",
       "      <td>254243.656250</td>\n",
       "      <td>259200.000</td>\n",
       "    </tr>\n",
       "    <tr>\n",
       "      <th>20</th>\n",
       "      <td>254595.515625</td>\n",
       "      <td>259200.000</td>\n",
       "    </tr>\n",
       "    <tr>\n",
       "      <th>21</th>\n",
       "      <td>254673.109375</td>\n",
       "      <td>259200.000</td>\n",
       "    </tr>\n",
       "    <tr>\n",
       "      <th>22</th>\n",
       "      <td>130871.671875</td>\n",
       "      <td>157004.823</td>\n",
       "    </tr>\n",
       "    <tr>\n",
       "      <th>23</th>\n",
       "      <td>259229.187500</td>\n",
       "      <td>259200.000</td>\n",
       "    </tr>\n",
       "    <tr>\n",
       "      <th>24</th>\n",
       "      <td>254475.984375</td>\n",
       "      <td>259200.000</td>\n",
       "    </tr>\n",
       "    <tr>\n",
       "      <th>25</th>\n",
       "      <td>254298.703125</td>\n",
       "      <td>259200.000</td>\n",
       "    </tr>\n",
       "    <tr>\n",
       "      <th>26</th>\n",
       "      <td>254165.718750</td>\n",
       "      <td>259200.000</td>\n",
       "    </tr>\n",
       "    <tr>\n",
       "      <th>27</th>\n",
       "      <td>254342.234375</td>\n",
       "      <td>259200.000</td>\n",
       "    </tr>\n",
       "    <tr>\n",
       "      <th>28</th>\n",
       "      <td>250820.531250</td>\n",
       "      <td>107940.938</td>\n",
       "    </tr>\n",
       "    <tr>\n",
       "      <th>29</th>\n",
       "      <td>254613.000000</td>\n",
       "      <td>259200.000</td>\n",
       "    </tr>\n",
       "    <tr>\n",
       "      <th>...</th>\n",
       "      <td>...</td>\n",
       "      <td>...</td>\n",
       "    </tr>\n",
       "    <tr>\n",
       "      <th>147485</th>\n",
       "      <td>253645.937500</td>\n",
       "      <td>259200.000</td>\n",
       "    </tr>\n",
       "    <tr>\n",
       "      <th>147486</th>\n",
       "      <td>253896.328125</td>\n",
       "      <td>259200.000</td>\n",
       "    </tr>\n",
       "    <tr>\n",
       "      <th>147487</th>\n",
       "      <td>254247.718750</td>\n",
       "      <td>259200.000</td>\n",
       "    </tr>\n",
       "    <tr>\n",
       "      <th>147488</th>\n",
       "      <td>254625.265625</td>\n",
       "      <td>259200.000</td>\n",
       "    </tr>\n",
       "    <tr>\n",
       "      <th>147489</th>\n",
       "      <td>246235.250000</td>\n",
       "      <td>259200.000</td>\n",
       "    </tr>\n",
       "    <tr>\n",
       "      <th>147490</th>\n",
       "      <td>254466.750000</td>\n",
       "      <td>259200.000</td>\n",
       "    </tr>\n",
       "    <tr>\n",
       "      <th>147491</th>\n",
       "      <td>126846.382812</td>\n",
       "      <td>29903.955</td>\n",
       "    </tr>\n",
       "    <tr>\n",
       "      <th>147492</th>\n",
       "      <td>253718.890625</td>\n",
       "      <td>259200.000</td>\n",
       "    </tr>\n",
       "    <tr>\n",
       "      <th>147493</th>\n",
       "      <td>254544.171875</td>\n",
       "      <td>259200.000</td>\n",
       "    </tr>\n",
       "    <tr>\n",
       "      <th>147494</th>\n",
       "      <td>128345.734375</td>\n",
       "      <td>13029.522</td>\n",
       "    </tr>\n",
       "    <tr>\n",
       "      <th>147495</th>\n",
       "      <td>254591.531250</td>\n",
       "      <td>259200.000</td>\n",
       "    </tr>\n",
       "    <tr>\n",
       "      <th>147496</th>\n",
       "      <td>253837.125000</td>\n",
       "      <td>259200.000</td>\n",
       "    </tr>\n",
       "    <tr>\n",
       "      <th>147497</th>\n",
       "      <td>245426.656250</td>\n",
       "      <td>259200.000</td>\n",
       "    </tr>\n",
       "    <tr>\n",
       "      <th>147498</th>\n",
       "      <td>135537.375000</td>\n",
       "      <td>172094.437</td>\n",
       "    </tr>\n",
       "    <tr>\n",
       "      <th>147499</th>\n",
       "      <td>254644.515625</td>\n",
       "      <td>259200.000</td>\n",
       "    </tr>\n",
       "    <tr>\n",
       "      <th>147500</th>\n",
       "      <td>250777.515625</td>\n",
       "      <td>259200.000</td>\n",
       "    </tr>\n",
       "    <tr>\n",
       "      <th>147501</th>\n",
       "      <td>254551.031250</td>\n",
       "      <td>259200.000</td>\n",
       "    </tr>\n",
       "    <tr>\n",
       "      <th>147502</th>\n",
       "      <td>130438.468750</td>\n",
       "      <td>59264.239</td>\n",
       "    </tr>\n",
       "    <tr>\n",
       "      <th>147503</th>\n",
       "      <td>253134.875000</td>\n",
       "      <td>259200.000</td>\n",
       "    </tr>\n",
       "    <tr>\n",
       "      <th>147504</th>\n",
       "      <td>253657.453125</td>\n",
       "      <td>259200.000</td>\n",
       "    </tr>\n",
       "    <tr>\n",
       "      <th>147505</th>\n",
       "      <td>254669.343750</td>\n",
       "      <td>259200.000</td>\n",
       "    </tr>\n",
       "    <tr>\n",
       "      <th>147506</th>\n",
       "      <td>124639.265625</td>\n",
       "      <td>194662.671</td>\n",
       "    </tr>\n",
       "    <tr>\n",
       "      <th>147507</th>\n",
       "      <td>125306.320312</td>\n",
       "      <td>6907.243</td>\n",
       "    </tr>\n",
       "    <tr>\n",
       "      <th>147508</th>\n",
       "      <td>254432.859375</td>\n",
       "      <td>259200.000</td>\n",
       "    </tr>\n",
       "    <tr>\n",
       "      <th>147509</th>\n",
       "      <td>252354.500000</td>\n",
       "      <td>259200.000</td>\n",
       "    </tr>\n",
       "    <tr>\n",
       "      <th>147510</th>\n",
       "      <td>251663.531250</td>\n",
       "      <td>259200.000</td>\n",
       "    </tr>\n",
       "    <tr>\n",
       "      <th>147511</th>\n",
       "      <td>124028.742188</td>\n",
       "      <td>179345.230</td>\n",
       "    </tr>\n",
       "    <tr>\n",
       "      <th>147512</th>\n",
       "      <td>253056.562500</td>\n",
       "      <td>259200.000</td>\n",
       "    </tr>\n",
       "    <tr>\n",
       "      <th>147513</th>\n",
       "      <td>253004.156250</td>\n",
       "      <td>259200.000</td>\n",
       "    </tr>\n",
       "    <tr>\n",
       "      <th>147514</th>\n",
       "      <td>124135.101562</td>\n",
       "      <td>67690.731</td>\n",
       "    </tr>\n",
       "  </tbody>\n",
       "</table>\n",
       "<p>147515 rows × 2 columns</p>\n",
       "</div>"
      ],
      "text/plain": [
       "                 pred        real\n",
       "0       254071.625000  259200.000\n",
       "1       250365.828125  259200.000\n",
       "2       250677.875000  259200.000\n",
       "3       254244.421875  259200.000\n",
       "4       130438.468750    6885.802\n",
       "5       253830.453125  259200.000\n",
       "6       253495.984375  259200.000\n",
       "7       251706.750000  259200.000\n",
       "8       126759.046875   58330.013\n",
       "9       253883.453125  259200.000\n",
       "10      254606.296875  259200.000\n",
       "11      253890.515625  259200.000\n",
       "12      254033.000000  259200.000\n",
       "13      254545.234375  259200.000\n",
       "14      248110.359375  259200.000\n",
       "15      252842.343750  259200.000\n",
       "16      253453.609375  259200.000\n",
       "17      251201.171875  259200.000\n",
       "18      124572.859375  251329.528\n",
       "19      254243.656250  259200.000\n",
       "20      254595.515625  259200.000\n",
       "21      254673.109375  259200.000\n",
       "22      130871.671875  157004.823\n",
       "23      259229.187500  259200.000\n",
       "24      254475.984375  259200.000\n",
       "25      254298.703125  259200.000\n",
       "26      254165.718750  259200.000\n",
       "27      254342.234375  259200.000\n",
       "28      250820.531250  107940.938\n",
       "29      254613.000000  259200.000\n",
       "...               ...         ...\n",
       "147485  253645.937500  259200.000\n",
       "147486  253896.328125  259200.000\n",
       "147487  254247.718750  259200.000\n",
       "147488  254625.265625  259200.000\n",
       "147489  246235.250000  259200.000\n",
       "147490  254466.750000  259200.000\n",
       "147491  126846.382812   29903.955\n",
       "147492  253718.890625  259200.000\n",
       "147493  254544.171875  259200.000\n",
       "147494  128345.734375   13029.522\n",
       "147495  254591.531250  259200.000\n",
       "147496  253837.125000  259200.000\n",
       "147497  245426.656250  259200.000\n",
       "147498  135537.375000  172094.437\n",
       "147499  254644.515625  259200.000\n",
       "147500  250777.515625  259200.000\n",
       "147501  254551.031250  259200.000\n",
       "147502  130438.468750   59264.239\n",
       "147503  253134.875000  259200.000\n",
       "147504  253657.453125  259200.000\n",
       "147505  254669.343750  259200.000\n",
       "147506  124639.265625  194662.671\n",
       "147507  125306.320312    6907.243\n",
       "147508  254432.859375  259200.000\n",
       "147509  252354.500000  259200.000\n",
       "147510  251663.531250  259200.000\n",
       "147511  124028.742188  179345.230\n",
       "147512  253056.562500  259200.000\n",
       "147513  253004.156250  259200.000\n",
       "147514  124135.101562   67690.731\n",
       "\n",
       "[147515 rows x 2 columns]"
      ]
     },
     "execution_count": 80,
     "metadata": {},
     "output_type": "execute_result"
    }
   ],
   "source": [
    "pd.DataFrame({\"pred\":pred2,\"real\":real2})"
   ]
  },
  {
   "cell_type": "code",
   "execution_count": null,
   "metadata": {},
   "outputs": [],
   "source": []
  }
 ],
 "metadata": {
  "kernelspec": {
   "display_name": "Python 3",
   "language": "python",
   "name": "python3"
  },
  "language_info": {
   "codemirror_mode": {
    "name": "ipython",
    "version": 3
   },
   "file_extension": ".py",
   "mimetype": "text/x-python",
   "name": "python",
   "nbconvert_exporter": "python",
   "pygments_lexer": "ipython3",
   "version": "3.6.8"
  }
 },
 "nbformat": 4,
 "nbformat_minor": 2
}
