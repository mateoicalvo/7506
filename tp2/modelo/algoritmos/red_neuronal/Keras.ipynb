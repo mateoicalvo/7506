{
 "cells": [
  {
   "cell_type": "code",
   "execution_count": 1,
   "metadata": {},
   "outputs": [
    {
     "name": "stderr",
     "output_type": "stream",
     "text": [
      "Using TensorFlow backend.\n"
     ]
    }
   ],
   "source": [
    "import numpy as np\n",
    "import pandas as pd\n",
    "import seaborn as sns\n",
    "import matplotlib.pyplot as plt\n",
    "%matplotlib inline\n",
    "\n",
    "from sklearn.preprocessing import  MinMaxScaler\n",
    "from sklearn.model_selection import train_test_split\n",
    "from keras import Sequential\n",
    "from keras.layers import Dense\n",
    "from keras.wrappers.scikit_learn import KerasRegressor\n",
    "\n",
    "\n",
    "from keras import backend\n",
    " \n"
   ]
  },
  {
   "cell_type": "code",
   "execution_count": 16,
   "metadata": {},
   "outputs": [],
   "source": [
    "from math import sqrt\n",
    "from sklearn.metrics import mean_squared_error\n",
    "from keras.optimizers import SGD"
   ]
  },
  {
   "cell_type": "code",
   "execution_count": 3,
   "metadata": {},
   "outputs": [],
   "source": [
    "train_installs = pd.read_csv(\"../../features/entrenar_installs_final.csv\", index_col=0)"
   ]
  },
  {
   "cell_type": "code",
   "execution_count": 4,
   "metadata": {},
   "outputs": [],
   "source": [
    "train_installs.fillna(0,inplace = True)"
   ]
  },
  {
   "cell_type": "code",
   "execution_count": 7,
   "metadata": {},
   "outputs": [],
   "source": [
    "X, y = train_installs.drop(\"target\",axis = 1), train_installs[\"target\"]\n",
    "\n"
   ]
  },
  {
   "cell_type": "code",
   "execution_count": 8,
   "metadata": {},
   "outputs": [
    {
     "name": "stdout",
     "output_type": "stream",
     "text": [
      "MinMaxScaler(copy=True, feature_range=(0, 1))\n",
      "MinMaxScaler(copy=True, feature_range=(0, 1))\n"
     ]
    }
   ],
   "source": [
    "y= y.values.reshape(-1,1)\n",
    "scaler_x = MinMaxScaler()\n",
    "scaler_y = MinMaxScaler()\n",
    "print(scaler_x.fit(X))\n",
    "xscale=scaler_x.transform(X)\n",
    "print(scaler_y.fit(y))\n",
    "yscale=scaler_y.transform(y)"
   ]
  },
  {
   "cell_type": "code",
   "execution_count": 9,
   "metadata": {},
   "outputs": [],
   "source": [
    "X_train, X_test, y_train, y_test = train_test_split(xscale, yscale, test_size=0.33, random_state=0)"
   ]
  },
  {
   "cell_type": "code",
   "execution_count": 10,
   "metadata": {},
   "outputs": [],
   "source": [
    "def rmse(y_true, y_pred):\n",
    "    return backend.sqrt(backend.mean(backend.square(y_pred - y_true), axis=-1))"
   ]
  },
  {
   "cell_type": "markdown",
   "metadata": {},
   "source": [
    "def build_regressor():\n",
    "    regressor = Sequential()\n",
    "    regressor.add(Dense(units=13, input_dim=104))\n",
    "    regressor.add(Dense(units=1))\n",
    "    regressor.compile(loss='mse', optimizer='adam', metrics=[rmse])\n",
    "    return regressor"
   ]
  },
  {
   "cell_type": "code",
   "execution_count": 65,
   "metadata": {},
   "outputs": [
    {
     "name": "stdout",
     "output_type": "stream",
     "text": [
      "_________________________________________________________________\n",
      "Layer (type)                 Output Shape              Param #   \n",
      "=================================================================\n",
      "dense_19 (Dense)             (None, 32)                2176      \n",
      "_________________________________________________________________\n",
      "dense_20 (Dense)             (None, 4)                 132       \n",
      "_________________________________________________________________\n",
      "dense_21 (Dense)             (None, 1)                 5         \n",
      "=================================================================\n",
      "Total params: 2,313\n",
      "Trainable params: 2,313\n",
      "Non-trainable params: 0\n",
      "_________________________________________________________________\n"
     ]
    }
   ],
   "source": [
    "model = Sequential()\n",
    "model.add(Dense(32, input_dim=X_train.shape[1], kernel_initializer='normal', activation='relu'))\n",
    "model.add(Dense(4, activation='relu'))\n",
    "model.add(Dense(1, activation='linear'))\n",
    "model.summary()"
   ]
  },
  {
   "cell_type": "code",
   "execution_count": 66,
   "metadata": {},
   "outputs": [],
   "source": [
    "model.compile(loss='mse', optimizer=\"adam\", metrics=['mse',rmse])"
   ]
  },
  {
   "cell_type": "code",
   "execution_count": 67,
   "metadata": {},
   "outputs": [
    {
     "name": "stdout",
     "output_type": "stream",
     "text": [
      "Train on 360670 samples, validate on 177644 samples\n",
      "Epoch 1/20\n",
      "360670/360670 [==============================] - 27s 76us/step - loss: 0.0877 - mean_squared_error: 0.0877 - rmse: 0.2578 - val_loss: 0.0882 - val_mean_squared_error: 0.0882 - val_rmse: 0.2561\n",
      "Epoch 2/20\n",
      "360670/360670 [==============================] - 29s 80us/step - loss: 0.0873 - mean_squared_error: 0.0873 - rmse: 0.2575 - val_loss: 0.0870 - val_mean_squared_error: 0.0870 - val_rmse: 0.2574\n",
      "Epoch 3/20\n",
      "360670/360670 [==============================] - 29s 80us/step - loss: 0.0873 - mean_squared_error: 0.0873 - rmse: 0.2575 - val_loss: 0.0870 - val_mean_squared_error: 0.0870 - val_rmse: 0.2568\n",
      "Epoch 4/20\n",
      "360670/360670 [==============================] - 27s 75us/step - loss: 0.0873 - mean_squared_error: 0.0873 - rmse: 0.2575 - val_loss: 0.0869 - val_mean_squared_error: 0.0869 - val_rmse: 0.2570\n",
      "Epoch 5/20\n",
      "360670/360670 [==============================] - 26s 72us/step - loss: 0.0873 - mean_squared_error: 0.0873 - rmse: 0.2575 - val_loss: 0.0872 - val_mean_squared_error: 0.0872 - val_rmse: 0.2565\n",
      "Epoch 6/20\n",
      "360670/360670 [==============================] - 26s 73us/step - loss: 0.0873 - mean_squared_error: 0.0873 - rmse: 0.2575 - val_loss: 0.0869 - val_mean_squared_error: 0.0869 - val_rmse: 0.2573\n",
      "Epoch 7/20\n",
      "360670/360670 [==============================] - 27s 74us/step - loss: 0.0872 - mean_squared_error: 0.0872 - rmse: 0.2574 - val_loss: 0.0870 - val_mean_squared_error: 0.0870 - val_rmse: 0.2574\n",
      "Epoch 8/20\n",
      "360670/360670 [==============================] - 27s 75us/step - loss: 0.0872 - mean_squared_error: 0.0872 - rmse: 0.2574 - val_loss: 0.0869 - val_mean_squared_error: 0.0869 - val_rmse: 0.2570\n",
      "Epoch 9/20\n",
      "360670/360670 [==============================] - 27s 75us/step - loss: 0.0872 - mean_squared_error: 0.0872 - rmse: 0.2574 - val_loss: 0.0869 - val_mean_squared_error: 0.0869 - val_rmse: 0.2570\n",
      "Epoch 10/20\n",
      "360670/360670 [==============================] - 28s 77us/step - loss: 0.0872 - mean_squared_error: 0.0872 - rmse: 0.2574 - val_loss: 0.0870 - val_mean_squared_error: 0.0870 - val_rmse: 0.2575\n",
      "Epoch 11/20\n",
      "360670/360670 [==============================] - 30s 84us/step - loss: 0.0872 - mean_squared_error: 0.0872 - rmse: 0.2574 - val_loss: 0.0869 - val_mean_squared_error: 0.0869 - val_rmse: 0.2569\n",
      "Epoch 12/20\n",
      "360670/360670 [==============================] - 31s 86us/step - loss: 0.0872 - mean_squared_error: 0.0872 - rmse: 0.2574 - val_loss: 0.0869 - val_mean_squared_error: 0.0869 - val_rmse: 0.2571\n",
      "Epoch 13/20\n",
      "360670/360670 [==============================] - 31s 86us/step - loss: 0.0872 - mean_squared_error: 0.0872 - rmse: 0.2574 - val_loss: 0.0871 - val_mean_squared_error: 0.0871 - val_rmse: 0.2565\n",
      "Epoch 14/20\n",
      "360670/360670 [==============================] - 30s 84us/step - loss: 0.0872 - mean_squared_error: 0.0872 - rmse: 0.2574 - val_loss: 0.0869 - val_mean_squared_error: 0.0869 - val_rmse: 0.2571\n",
      "Epoch 15/20\n",
      "360670/360670 [==============================] - 31s 86us/step - loss: 0.0872 - mean_squared_error: 0.0872 - rmse: 0.2574 - val_loss: 0.0869 - val_mean_squared_error: 0.0869 - val_rmse: 0.2570\n",
      "Epoch 16/20\n",
      "360670/360670 [==============================] - 32s 90us/step - loss: 0.0872 - mean_squared_error: 0.0872 - rmse: 0.2574 - val_loss: 0.0869 - val_mean_squared_error: 0.0869 - val_rmse: 0.2573\n",
      "Epoch 17/20\n",
      "360670/360670 [==============================] - 32s 90us/step - loss: 0.0872 - mean_squared_error: 0.0872 - rmse: 0.2574 - val_loss: 0.0871 - val_mean_squared_error: 0.0871 - val_rmse: 0.2578\n",
      "Epoch 18/20\n",
      "360670/360670 [==============================] - 34s 94us/step - loss: 0.0872 - mean_squared_error: 0.0872 - rmse: 0.2574 - val_loss: 0.0870 - val_mean_squared_error: 0.0870 - val_rmse: 0.2575\n",
      "Epoch 19/20\n",
      "360670/360670 [==============================] - 33s 91us/step - loss: 0.0872 - mean_squared_error: 0.0872 - rmse: 0.2574 - val_loss: 0.0870 - val_mean_squared_error: 0.0870 - val_rmse: 0.2568\n",
      "Epoch 20/20\n",
      "360670/360670 [==============================] - 32s 88us/step - loss: 0.0872 - mean_squared_error: 0.0872 - rmse: 0.2574 - val_loss: 0.0870 - val_mean_squared_error: 0.0870 - val_rmse: 0.2574\n"
     ]
    }
   ],
   "source": [
    "history = model.fit(X_train, y_train, epochs=20, verbose=1, batch_size= 16, validation_data=(X_test,y_test))"
   ]
  },
  {
   "cell_type": "code",
   "execution_count": 68,
   "metadata": {},
   "outputs": [
    {
     "name": "stdout",
     "output_type": "stream",
     "text": [
      "dict_keys(['val_loss', 'val_mean_squared_error', 'val_rmse', 'loss', 'mean_squared_error', 'rmse'])\n"
     ]
    },
    {
     "data": {
      "image/png": "[encoded data removed]",
      "text/plain": [
       "<Figure size 432x288 with 1 Axes>"
      ]
     },
     "metadata": {
      "needs_background": "light"
     },
     "output_type": "display_data"
    }
   ],
   "source": [
    "print(history.history.keys())\n",
    "# \"Loss\"\n",
    "plt.plot(history.history['loss'])\n",
    "plt.plot(history.history['val_loss'])\n",
    "plt.title('model loss')\n",
    "plt.ylabel('loss')\n",
    "plt.xlabel('epoch')\n",
    "plt.legend(['train', 'validation'], loc='upper left')\n",
    "plt.show()\n"
   ]
  },
  {
   "cell_type": "code",
   "execution_count": 69,
   "metadata": {},
   "outputs": [],
   "source": [
    "y_pred= model.predict(X_test)"
   ]
  },
  {
   "cell_type": "code",
   "execution_count": 70,
   "metadata": {},
   "outputs": [],
   "source": [
    "pred = scaler_y.inverse_transform(y_pred) "
   ]
  },
  {
   "cell_type": "code",
   "execution_count": 71,
   "metadata": {},
   "outputs": [],
   "source": [
    "real = scaler_y.inverse_transform(y_test)"
   ]
  },
  {
   "cell_type": "code",
   "execution_count": 72,
   "metadata": {},
   "outputs": [
    {
     "name": "stdout",
     "output_type": "stream",
     "text": [
      "RMSE value is: 76430.93908489437\n"
     ]
    }
   ],
   "source": [
    "error = sqrt(mean_squared_error(pred,real))\n",
    "\n",
    "print('RMSE value is:', error)"
   ]
  },
  {
   "cell_type": "code",
   "execution_count": 38,
   "metadata": {},
   "outputs": [
    {
     "name": "stdout",
     "output_type": "stream",
     "text": [
      "RMSE value is: 76426.88619962845\n"
     ]
    }
   ],
   "source": [
    "error = sqrt(mean_squared_error(pred,real))\n",
    "\n",
    "print('RMSE value is:', error)"
   ]
  },
  {
   "cell_type": "code",
   "execution_count": 56,
   "metadata": {},
   "outputs": [
    {
     "name": "stdout",
     "output_type": "stream",
     "text": [
      "RMSE value is: 76418.94003525804\n"
     ]
    }
   ],
   "source": [
    "error = sqrt(mean_squared_error(pred,real))\n",
    "\n",
    "print('RMSE value is:', error)"
   ]
  },
  {
   "cell_type": "code",
   "execution_count": 24,
   "metadata": {},
   "outputs": [],
   "source": [
    "real2 = []\n",
    "for valor in real:\n",
    "    real2.append(valor[0])"
   ]
  },
  {
   "cell_type": "code",
   "execution_count": 25,
   "metadata": {},
   "outputs": [],
   "source": [
    "pred2 = []\n",
    "for valor in pred:\n",
    "    pred2.append(valor[0])"
   ]
  },
  {
   "cell_type": "code",
   "execution_count": 26,
   "metadata": {},
   "outputs": [
    {
     "name": "stdout",
     "output_type": "stream",
     "text": [
      "RMSE value is: 66624.13320062519\n"
     ]
    }
   ],
   "source": [
    "error = sqrt(mean_squared_error(pred2,real2))\n",
    "\n",
    "print('RMSE value is:', error)"
   ]
  },
  {
   "cell_type": "code",
   "execution_count": 27,
   "metadata": {},
   "outputs": [
    {
     "data": {
      "text/html": [
       "<div>\n",
       "<style scoped>\n",
       "    .dataframe tbody tr th:only-of-type {\n",
       "        vertical-align: middle;\n",
       "    }\n",
       "\n",
       "    .dataframe tbody tr th {\n",
       "        vertical-align: top;\n",
       "    }\n",
       "\n",
       "    .dataframe thead th {\n",
       "        text-align: right;\n",
       "    }\n",
       "</style>\n",
       "<table border=\"1\" class=\"dataframe\">\n",
       "  <thead>\n",
       "    <tr style=\"text-align: right;\">\n",
       "      <th></th>\n",
       "      <th>pred</th>\n",
       "      <th>real</th>\n",
       "    </tr>\n",
       "  </thead>\n",
       "  <tbody>\n",
       "    <tr>\n",
       "      <th>0</th>\n",
       "      <td>119382.898438</td>\n",
       "      <td>53933.877550</td>\n",
       "    </tr>\n",
       "    <tr>\n",
       "      <th>1</th>\n",
       "      <td>119382.898438</td>\n",
       "      <td>156688.812692</td>\n",
       "    </tr>\n",
       "    <tr>\n",
       "      <th>2</th>\n",
       "      <td>104541.953125</td>\n",
       "      <td>50097.187391</td>\n",
       "    </tr>\n",
       "    <tr>\n",
       "      <th>3</th>\n",
       "      <td>59367.253906</td>\n",
       "      <td>2572.345044</td>\n",
       "    </tr>\n",
       "    <tr>\n",
       "      <th>4</th>\n",
       "      <td>61204.203125</td>\n",
       "      <td>80772.848565</td>\n",
       "    </tr>\n",
       "    <tr>\n",
       "      <th>5</th>\n",
       "      <td>102482.593750</td>\n",
       "      <td>93370.124332</td>\n",
       "    </tr>\n",
       "    <tr>\n",
       "      <th>6</th>\n",
       "      <td>119382.898438</td>\n",
       "      <td>149232.166599</td>\n",
       "    </tr>\n",
       "    <tr>\n",
       "      <th>7</th>\n",
       "      <td>119382.898438</td>\n",
       "      <td>244090.349802</td>\n",
       "    </tr>\n",
       "    <tr>\n",
       "      <th>8</th>\n",
       "      <td>91305.718750</td>\n",
       "      <td>15812.252519</td>\n",
       "    </tr>\n",
       "    <tr>\n",
       "      <th>9</th>\n",
       "      <td>119382.898438</td>\n",
       "      <td>99356.838754</td>\n",
       "    </tr>\n",
       "    <tr>\n",
       "      <th>10</th>\n",
       "      <td>31441.652344</td>\n",
       "      <td>5353.713809</td>\n",
       "    </tr>\n",
       "    <tr>\n",
       "      <th>11</th>\n",
       "      <td>54415.195312</td>\n",
       "      <td>3445.651269</td>\n",
       "    </tr>\n",
       "    <tr>\n",
       "      <th>12</th>\n",
       "      <td>-173.809509</td>\n",
       "      <td>2325.194820</td>\n",
       "    </tr>\n",
       "    <tr>\n",
       "      <th>13</th>\n",
       "      <td>7133.557129</td>\n",
       "      <td>531.741051</td>\n",
       "    </tr>\n",
       "    <tr>\n",
       "      <th>14</th>\n",
       "      <td>88272.875000</td>\n",
       "      <td>12734.110221</td>\n",
       "    </tr>\n",
       "    <tr>\n",
       "      <th>15</th>\n",
       "      <td>1516.788940</td>\n",
       "      <td>131.947567</td>\n",
       "    </tr>\n",
       "    <tr>\n",
       "      <th>16</th>\n",
       "      <td>119382.898438</td>\n",
       "      <td>182963.942958</td>\n",
       "    </tr>\n",
       "    <tr>\n",
       "      <th>17</th>\n",
       "      <td>75833.773438</td>\n",
       "      <td>7261.235809</td>\n",
       "    </tr>\n",
       "    <tr>\n",
       "      <th>18</th>\n",
       "      <td>91089.382812</td>\n",
       "      <td>66991.784980</td>\n",
       "    </tr>\n",
       "    <tr>\n",
       "      <th>19</th>\n",
       "      <td>119382.898438</td>\n",
       "      <td>82475.728245</td>\n",
       "    </tr>\n",
       "    <tr>\n",
       "      <th>20</th>\n",
       "      <td>119382.898438</td>\n",
       "      <td>13431.362088</td>\n",
       "    </tr>\n",
       "    <tr>\n",
       "      <th>21</th>\n",
       "      <td>62764.175781</td>\n",
       "      <td>3950.591228</td>\n",
       "    </tr>\n",
       "    <tr>\n",
       "      <th>22</th>\n",
       "      <td>25608.005859</td>\n",
       "      <td>244927.833927</td>\n",
       "    </tr>\n",
       "    <tr>\n",
       "      <th>23</th>\n",
       "      <td>84814.828125</td>\n",
       "      <td>254865.783570</td>\n",
       "    </tr>\n",
       "    <tr>\n",
       "      <th>24</th>\n",
       "      <td>61166.324219</td>\n",
       "      <td>10025.809610</td>\n",
       "    </tr>\n",
       "    <tr>\n",
       "      <th>25</th>\n",
       "      <td>91719.867188</td>\n",
       "      <td>140996.323749</td>\n",
       "    </tr>\n",
       "    <tr>\n",
       "      <th>26</th>\n",
       "      <td>39104.164062</td>\n",
       "      <td>11304.595296</td>\n",
       "    </tr>\n",
       "    <tr>\n",
       "      <th>27</th>\n",
       "      <td>52274.511719</td>\n",
       "      <td>17349.214088</td>\n",
       "    </tr>\n",
       "    <tr>\n",
       "      <th>28</th>\n",
       "      <td>119382.898438</td>\n",
       "      <td>232291.215384</td>\n",
       "    </tr>\n",
       "    <tr>\n",
       "      <th>29</th>\n",
       "      <td>119382.898438</td>\n",
       "      <td>193609.668773</td>\n",
       "    </tr>\n",
       "    <tr>\n",
       "      <th>...</th>\n",
       "      <td>...</td>\n",
       "      <td>...</td>\n",
       "    </tr>\n",
       "    <tr>\n",
       "      <th>430435</th>\n",
       "      <td>119382.898438</td>\n",
       "      <td>24924.356025</td>\n",
       "    </tr>\n",
       "    <tr>\n",
       "      <th>430436</th>\n",
       "      <td>119382.898438</td>\n",
       "      <td>164205.120201</td>\n",
       "    </tr>\n",
       "    <tr>\n",
       "      <th>430437</th>\n",
       "      <td>119382.898438</td>\n",
       "      <td>11028.817206</td>\n",
       "    </tr>\n",
       "    <tr>\n",
       "      <th>430438</th>\n",
       "      <td>90496.796875</td>\n",
       "      <td>2335.296030</td>\n",
       "    </tr>\n",
       "    <tr>\n",
       "      <th>430439</th>\n",
       "      <td>56094.484375</td>\n",
       "      <td>230441.025318</td>\n",
       "    </tr>\n",
       "    <tr>\n",
       "      <th>430440</th>\n",
       "      <td>4955.689453</td>\n",
       "      <td>9821.144411</td>\n",
       "    </tr>\n",
       "    <tr>\n",
       "      <th>430441</th>\n",
       "      <td>79603.960938</td>\n",
       "      <td>216247.598492</td>\n",
       "    </tr>\n",
       "    <tr>\n",
       "      <th>430442</th>\n",
       "      <td>76589.140625</td>\n",
       "      <td>80646.159388</td>\n",
       "    </tr>\n",
       "    <tr>\n",
       "      <th>430443</th>\n",
       "      <td>96792.000000</td>\n",
       "      <td>56127.668504</td>\n",
       "    </tr>\n",
       "    <tr>\n",
       "      <th>430444</th>\n",
       "      <td>89131.421875</td>\n",
       "      <td>9899.661003</td>\n",
       "    </tr>\n",
       "    <tr>\n",
       "      <th>430445</th>\n",
       "      <td>70138.890625</td>\n",
       "      <td>2096.023378</td>\n",
       "    </tr>\n",
       "    <tr>\n",
       "      <th>430446</th>\n",
       "      <td>97446.250000</td>\n",
       "      <td>16058.010752</td>\n",
       "    </tr>\n",
       "    <tr>\n",
       "      <th>430447</th>\n",
       "      <td>56564.589844</td>\n",
       "      <td>24286.747478</td>\n",
       "    </tr>\n",
       "    <tr>\n",
       "      <th>430448</th>\n",
       "      <td>52134.601562</td>\n",
       "      <td>11539.506037</td>\n",
       "    </tr>\n",
       "    <tr>\n",
       "      <th>430449</th>\n",
       "      <td>30600.412109</td>\n",
       "      <td>51441.139376</td>\n",
       "    </tr>\n",
       "    <tr>\n",
       "      <th>430450</th>\n",
       "      <td>57255.226562</td>\n",
       "      <td>141790.447946</td>\n",
       "    </tr>\n",
       "    <tr>\n",
       "      <th>430451</th>\n",
       "      <td>91607.132812</td>\n",
       "      <td>77524.608704</td>\n",
       "    </tr>\n",
       "    <tr>\n",
       "      <th>430452</th>\n",
       "      <td>94629.531250</td>\n",
       "      <td>189846.490679</td>\n",
       "    </tr>\n",
       "    <tr>\n",
       "      <th>430453</th>\n",
       "      <td>90491.031250</td>\n",
       "      <td>251647.310534</td>\n",
       "    </tr>\n",
       "    <tr>\n",
       "      <th>430454</th>\n",
       "      <td>91241.835938</td>\n",
       "      <td>6865.639490</td>\n",
       "    </tr>\n",
       "    <tr>\n",
       "      <th>430455</th>\n",
       "      <td>92999.585938</td>\n",
       "      <td>47865.707975</td>\n",
       "    </tr>\n",
       "    <tr>\n",
       "      <th>430456</th>\n",
       "      <td>95247.382812</td>\n",
       "      <td>47288.370530</td>\n",
       "    </tr>\n",
       "    <tr>\n",
       "      <th>430457</th>\n",
       "      <td>100858.976562</td>\n",
       "      <td>70838.903799</td>\n",
       "    </tr>\n",
       "    <tr>\n",
       "      <th>430458</th>\n",
       "      <td>119382.898438</td>\n",
       "      <td>256598.554022</td>\n",
       "    </tr>\n",
       "    <tr>\n",
       "      <th>430459</th>\n",
       "      <td>97837.125000</td>\n",
       "      <td>165449.221638</td>\n",
       "    </tr>\n",
       "    <tr>\n",
       "      <th>430460</th>\n",
       "      <td>86874.976562</td>\n",
       "      <td>91078.110667</td>\n",
       "    </tr>\n",
       "    <tr>\n",
       "      <th>430461</th>\n",
       "      <td>55041.992188</td>\n",
       "      <td>63885.350304</td>\n",
       "    </tr>\n",
       "    <tr>\n",
       "      <th>430462</th>\n",
       "      <td>76595.429688</td>\n",
       "      <td>19198.038416</td>\n",
       "    </tr>\n",
       "    <tr>\n",
       "      <th>430463</th>\n",
       "      <td>60643.660156</td>\n",
       "      <td>240168.299976</td>\n",
       "    </tr>\n",
       "    <tr>\n",
       "      <th>430464</th>\n",
       "      <td>65482.390625</td>\n",
       "      <td>92993.177971</td>\n",
       "    </tr>\n",
       "  </tbody>\n",
       "</table>\n",
       "<p>430465 rows × 2 columns</p>\n",
       "</div>"
      ],
      "text/plain": [
       "                 pred           real\n",
       "0       119382.898438   53933.877550\n",
       "1       119382.898438  156688.812692\n",
       "2       104541.953125   50097.187391\n",
       "3        59367.253906    2572.345044\n",
       "4        61204.203125   80772.848565\n",
       "5       102482.593750   93370.124332\n",
       "6       119382.898438  149232.166599\n",
       "7       119382.898438  244090.349802\n",
       "8        91305.718750   15812.252519\n",
       "9       119382.898438   99356.838754\n",
       "10       31441.652344    5353.713809\n",
       "11       54415.195312    3445.651269\n",
       "12        -173.809509    2325.194820\n",
       "13        7133.557129     531.741051\n",
       "14       88272.875000   12734.110221\n",
       "15        1516.788940     131.947567\n",
       "16      119382.898438  182963.942958\n",
       "17       75833.773438    7261.235809\n",
       "18       91089.382812   66991.784980\n",
       "19      119382.898438   82475.728245\n",
       "20      119382.898438   13431.362088\n",
       "21       62764.175781    3950.591228\n",
       "22       25608.005859  244927.833927\n",
       "23       84814.828125  254865.783570\n",
       "24       61166.324219   10025.809610\n",
       "25       91719.867188  140996.323749\n",
       "26       39104.164062   11304.595296\n",
       "27       52274.511719   17349.214088\n",
       "28      119382.898438  232291.215384\n",
       "29      119382.898438  193609.668773\n",
       "...               ...            ...\n",
       "430435  119382.898438   24924.356025\n",
       "430436  119382.898438  164205.120201\n",
       "430437  119382.898438   11028.817206\n",
       "430438   90496.796875    2335.296030\n",
       "430439   56094.484375  230441.025318\n",
       "430440    4955.689453    9821.144411\n",
       "430441   79603.960938  216247.598492\n",
       "430442   76589.140625   80646.159388\n",
       "430443   96792.000000   56127.668504\n",
       "430444   89131.421875    9899.661003\n",
       "430445   70138.890625    2096.023378\n",
       "430446   97446.250000   16058.010752\n",
       "430447   56564.589844   24286.747478\n",
       "430448   52134.601562   11539.506037\n",
       "430449   30600.412109   51441.139376\n",
       "430450   57255.226562  141790.447946\n",
       "430451   91607.132812   77524.608704\n",
       "430452   94629.531250  189846.490679\n",
       "430453   90491.031250  251647.310534\n",
       "430454   91241.835938    6865.639490\n",
       "430455   92999.585938   47865.707975\n",
       "430456   95247.382812   47288.370530\n",
       "430457  100858.976562   70838.903799\n",
       "430458  119382.898438  256598.554022\n",
       "430459   97837.125000  165449.221638\n",
       "430460   86874.976562   91078.110667\n",
       "430461   55041.992188   63885.350304\n",
       "430462   76595.429688   19198.038416\n",
       "430463   60643.660156  240168.299976\n",
       "430464   65482.390625   92993.177971\n",
       "\n",
       "[430465 rows x 2 columns]"
      ]
     },
     "execution_count": 27,
     "metadata": {},
     "output_type": "execute_result"
    }
   ],
   "source": [
    "pd.DataFrame({\"pred\":pred2,\"real\":real2})"
   ]
  },
  {
   "cell_type": "markdown",
   "metadata": {},
   "source": [
    "----"
   ]
  },
  {
   "cell_type": "markdown",
   "metadata": {},
   "source": [
    "### Auctions"
   ]
  },
  {
   "cell_type": "code",
   "execution_count": 3,
   "metadata": {},
   "outputs": [],
   "source": [
    "train = pd.read_pickle(\"../../../modelo/armado_datos/train_completo_auctions.pkl\")"
   ]
  },
  {
   "cell_type": "code",
   "execution_count": 4,
   "metadata": {},
   "outputs": [
    {
     "data": {
      "text/plain": [
       "0.20154878421450015"
      ]
     },
     "execution_count": 4,
     "metadata": {},
     "output_type": "execute_result"
    }
   ],
   "source": [
    "(train[\"target\"].max().sum())/ len(train)"
   ]
  },
  {
   "cell_type": "code",
   "execution_count": 5,
   "metadata": {},
   "outputs": [
    {
     "data": {
      "text/plain": [
       "1286041"
      ]
     },
     "execution_count": 5,
     "metadata": {},
     "output_type": "execute_result"
    }
   ],
   "source": [
    "len(train)"
   ]
  },
  {
   "cell_type": "code",
   "execution_count": 6,
   "metadata": {},
   "outputs": [],
   "source": [
    "train.fillna(0,inplace = True)"
   ]
  },
  {
   "cell_type": "code",
   "execution_count": 7,
   "metadata": {},
   "outputs": [],
   "source": [
    "maximo = train[\"target\"].max()"
   ]
  },
  {
   "cell_type": "code",
   "execution_count": 8,
   "metadata": {},
   "outputs": [],
   "source": [
    "maximos = train[train[\"target\"] == maximo]"
   ]
  },
  {
   "cell_type": "code",
   "execution_count": 9,
   "metadata": {},
   "outputs": [],
   "source": [
    "train = train[train[\"target\"] != maximo]"
   ]
  },
  {
   "cell_type": "code",
   "execution_count": 10,
   "metadata": {},
   "outputs": [],
   "source": [
    "train = train.append(maximos.sample(150000,random_state = 0))"
   ]
  },
  {
   "cell_type": "code",
   "execution_count": null,
   "metadata": {},
   "outputs": [],
   "source": [
    "del maximos"
   ]
  },
  {
   "cell_type": "code",
   "execution_count": null,
   "metadata": {},
   "outputs": [],
   "source": [
    "X, y = train.drop(\"target\",axis = 1), train[\"target\"]\n",
    "\n"
   ]
  },
  {
   "cell_type": "code",
   "execution_count": null,
   "metadata": {},
   "outputs": [
    {
     "data": {
      "text/plain": [
       "(1073544, 103)"
      ]
     },
     "execution_count": 13,
     "metadata": {},
     "output_type": "execute_result"
    }
   ],
   "source": [
    "X.shape"
   ]
  },
  {
   "cell_type": "code",
   "execution_count": null,
   "metadata": {},
   "outputs": [],
   "source": [
    "y= y.values.reshape(-1,1)\n"
   ]
  },
  {
   "cell_type": "code",
   "execution_count": null,
   "metadata": {},
   "outputs": [],
   "source": [
    "scaler_x = MinMaxScaler()\n"
   ]
  },
  {
   "cell_type": "code",
   "execution_count": null,
   "metadata": {},
   "outputs": [
    {
     "name": "stdout",
     "output_type": "stream",
     "text": [
      "MinMaxScaler(copy=True, feature_range=(0, 1))\n"
     ]
    }
   ],
   "source": [
    "scaler_y = MinMaxScaler()\n",
    "print(scaler_x.fit(X))\n",
    "xscale=scaler_x.transform(X)\n"
   ]
  },
  {
   "cell_type": "code",
   "execution_count": null,
   "metadata": {},
   "outputs": [
    {
     "name": "stdout",
     "output_type": "stream",
     "text": [
      "MinMaxScaler(copy=True, feature_range=(0, 1))\n"
     ]
    }
   ],
   "source": [
    "print(scaler_y.fit(y))\n",
    "yscale=scaler_y.transform(y)"
   ]
  },
  {
   "cell_type": "code",
   "execution_count": null,
   "metadata": {},
   "outputs": [],
   "source": [
    "X_train, X_test, y_train, y_test = train_test_split(xscale, yscale, test_size=0.2, random_state=0)"
   ]
  },
  {
   "cell_type": "code",
   "execution_count": null,
   "metadata": {},
   "outputs": [],
   "source": [
    "def rmse(y_true, y_pred):\n",
    "    return backend.sqrt(backend.mean(backend.square(y_pred - y_true), axis=-1))"
   ]
  },
  {
   "cell_type": "markdown",
   "metadata": {},
   "source": [
    "def build_regressor():\n",
    "    regressor = Sequential()\n",
    "    regressor.add(Dense(units=13, input_dim=104))\n",
    "    regressor.add(Dense(units=1))\n",
    "    regressor.compile(loss='mse', optimizer='adam', metrics=[rmse])\n",
    "    return regressor"
   ]
  },
  {
   "cell_type": "code",
   "execution_count": null,
   "metadata": {},
   "outputs": [
    {
     "name": "stderr",
     "output_type": "stream",
     "text": [
      "WARNING: Logging before flag parsing goes to stderr.\n",
      "W0624 21:29:41.713503 140308775319360 deprecation_wrapper.py:119] From /home/pelozo/anaconda3/lib/python3.6/site-packages/keras/backend/tensorflow_backend.py:74: The name tf.get_default_graph is deprecated. Please use tf.compat.v1.get_default_graph instead.\n",
      "\n",
      "W0624 21:29:42.096714 140308775319360 deprecation_wrapper.py:119] From /home/pelozo/anaconda3/lib/python3.6/site-packages/keras/backend/tensorflow_backend.py:517: The name tf.placeholder is deprecated. Please use tf.compat.v1.placeholder instead.\n",
      "\n",
      "W0624 21:29:42.183354 140308775319360 deprecation_wrapper.py:119] From /home/pelozo/anaconda3/lib/python3.6/site-packages/keras/backend/tensorflow_backend.py:4115: The name tf.random_normal is deprecated. Please use tf.random.normal instead.\n",
      "\n",
      "W0624 21:29:42.216489 140308775319360 deprecation_wrapper.py:119] From /home/pelozo/anaconda3/lib/python3.6/site-packages/keras/backend/tensorflow_backend.py:4138: The name tf.random_uniform is deprecated. Please use tf.random.uniform instead.\n",
      "\n"
     ]
    },
    {
     "name": "stdout",
     "output_type": "stream",
     "text": [
      "_________________________________________________________________\n",
      "Layer (type)                 Output Shape              Param #   \n",
      "=================================================================\n",
      "dense_1 (Dense)              (None, 50)                5200      \n",
      "_________________________________________________________________\n",
      "dense_2 (Dense)              (None, 8)                 408       \n",
      "_________________________________________________________________\n",
      "dense_3 (Dense)              (None, 1)                 9         \n",
      "=================================================================\n",
      "Total params: 5,617\n",
      "Trainable params: 5,617\n",
      "Non-trainable params: 0\n",
      "_________________________________________________________________\n"
     ]
    }
   ],
   "source": [
    "model = Sequential()\n",
    "model.add(Dense(50, input_dim=103, kernel_initializer='normal', activation='relu'))\n",
    "model.add(Dense(8, activation='relu'))\n",
    "model.add(Dense(1, activation='linear'))\n",
    "model.summary()"
   ]
  },
  {
   "cell_type": "code",
   "execution_count": null,
   "metadata": {},
   "outputs": [
    {
     "name": "stderr",
     "output_type": "stream",
     "text": [
      "W0624 21:29:42.256882 140308775319360 deprecation_wrapper.py:119] From /home/pelozo/anaconda3/lib/python3.6/site-packages/keras/optimizers.py:790: The name tf.train.Optimizer is deprecated. Please use tf.compat.v1.train.Optimizer instead.\n",
      "\n"
     ]
    }
   ],
   "source": [
    "model.compile(loss='mse', optimizer='SDG', metrics=['mse',rmse])"
   ]
  },
  {
   "cell_type": "code",
   "execution_count": null,
   "metadata": {},
   "outputs": [
    {
     "name": "stderr",
     "output_type": "stream",
     "text": [
      "W0624 21:29:42.909635 140308775319360 deprecation_wrapper.py:119] From /home/pelozo/anaconda3/lib/python3.6/site-packages/keras/backend/tensorflow_backend.py:986: The name tf.assign_add is deprecated. Please use tf.compat.v1.assign_add instead.\n",
      "\n"
     ]
    },
    {
     "name": "stdout",
     "output_type": "stream",
     "text": [
      "Train on 858835 samples, validate on 214709 samples\n",
      "Epoch 1/100\n",
      "858835/858835 [==============================] - 20s 23us/step - loss: 0.1005 - mean_squared_error: 0.1005 - rmse: 0.2580 - val_loss: 0.0994 - val_mean_squared_error: 0.0994 - val_rmse: 0.2599\n",
      "Epoch 2/100\n",
      "858835/858835 [==============================] - 18s 21us/step - loss: 0.0993 - mean_squared_error: 0.0993 - rmse: 0.2563 - val_loss: 0.0989 - val_mean_squared_error: 0.0989 - val_rmse: 0.2567\n",
      "Epoch 3/100\n",
      "858835/858835 [==============================] - 18s 20us/step - loss: 0.0990 - mean_squared_error: 0.0990 - rmse: 0.2556 - val_loss: 0.0985 - val_mean_squared_error: 0.0985 - val_rmse: 0.2538\n",
      "Epoch 4/100\n",
      "858835/858835 [==============================] - 18s 21us/step - loss: 0.0987 - mean_squared_error: 0.0987 - rmse: 0.2552 - val_loss: 0.0990 - val_mean_squared_error: 0.0990 - val_rmse: 0.2508\n",
      "Epoch 5/100\n",
      "858835/858835 [==============================] - 18s 21us/step - loss: 0.0986 - mean_squared_error: 0.0986 - rmse: 0.2549 - val_loss: 0.0984 - val_mean_squared_error: 0.0984 - val_rmse: 0.2522\n",
      "Epoch 6/100\n",
      "858835/858835 [==============================] - 18s 21us/step - loss: 0.0985 - mean_squared_error: 0.0985 - rmse: 0.2547 - val_loss: 0.0982 - val_mean_squared_error: 0.0982 - val_rmse: 0.2533\n",
      "Epoch 7/100\n",
      "858835/858835 [==============================] - 18s 21us/step - loss: 0.0984 - mean_squared_error: 0.0984 - rmse: 0.2546 - val_loss: 0.0983 - val_mean_squared_error: 0.0983 - val_rmse: 0.2543\n",
      "Epoch 8/100\n",
      "858835/858835 [==============================] - 18s 21us/step - loss: 0.0983 - mean_squared_error: 0.0983 - rmse: 0.2544 - val_loss: 0.0982 - val_mean_squared_error: 0.0982 - val_rmse: 0.2547\n",
      "Epoch 9/100\n",
      "858835/858835 [==============================] - 19s 22us/step - loss: 0.0983 - mean_squared_error: 0.0983 - rmse: 0.2544 - val_loss: 0.0982 - val_mean_squared_error: 0.0982 - val_rmse: 0.2553\n",
      "Epoch 10/100\n",
      "858835/858835 [==============================] - 19s 22us/step - loss: 0.0983 - mean_squared_error: 0.0983 - rmse: 0.2543 - val_loss: 0.0982 - val_mean_squared_error: 0.0982 - val_rmse: 0.2536\n",
      "Epoch 11/100\n",
      "858835/858835 [==============================] - 19s 22us/step - loss: 0.0982 - mean_squared_error: 0.0982 - rmse: 0.2542 - val_loss: 0.0981 - val_mean_squared_error: 0.0981 - val_rmse: 0.2544\n",
      "Epoch 12/100\n",
      "858835/858835 [==============================] - 19s 22us/step - loss: 0.0982 - mean_squared_error: 0.0982 - rmse: 0.2542 - val_loss: 0.0981 - val_mean_squared_error: 0.0981 - val_rmse: 0.2556\n",
      "Epoch 13/100\n",
      "858835/858835 [==============================] - 19s 22us/step - loss: 0.0982 - mean_squared_error: 0.0982 - rmse: 0.2542 - val_loss: 0.0983 - val_mean_squared_error: 0.0983 - val_rmse: 0.2529\n",
      "Epoch 14/100\n",
      "858835/858835 [==============================] - 20s 23us/step - loss: 0.0981 - mean_squared_error: 0.0981 - rmse: 0.2541 - val_loss: 0.0981 - val_mean_squared_error: 0.0981 - val_rmse: 0.2534\n",
      "Epoch 15/100\n",
      "858835/858835 [==============================] - 20s 23us/step - loss: 0.0981 - mean_squared_error: 0.0981 - rmse: 0.2540 - val_loss: 0.0983 - val_mean_squared_error: 0.0983 - val_rmse: 0.2520\n",
      "Epoch 16/100\n",
      "858835/858835 [==============================] - 20s 24us/step - loss: 0.0981 - mean_squared_error: 0.0981 - rmse: 0.2540 - val_loss: 0.0983 - val_mean_squared_error: 0.0983 - val_rmse: 0.2537\n",
      "Epoch 17/100\n",
      "858835/858835 [==============================] - 21s 24us/step - loss: 0.0981 - mean_squared_error: 0.0981 - rmse: 0.2540 - val_loss: 0.0980 - val_mean_squared_error: 0.0980 - val_rmse: 0.2533\n",
      "Epoch 18/100\n",
      "858835/858835 [==============================] - 20s 24us/step - loss: 0.0980 - mean_squared_error: 0.0980 - rmse: 0.2539 - val_loss: 0.0982 - val_mean_squared_error: 0.0982 - val_rmse: 0.2557\n",
      "Epoch 19/100\n",
      "858835/858835 [==============================] - 21s 25us/step - loss: 0.0980 - mean_squared_error: 0.0980 - rmse: 0.2539 - val_loss: 0.0981 - val_mean_squared_error: 0.0981 - val_rmse: 0.2551\n",
      "Epoch 20/100\n",
      "858835/858835 [==============================] - 21s 24us/step - loss: 0.0980 - mean_squared_error: 0.0980 - rmse: 0.2539 - val_loss: 0.0982 - val_mean_squared_error: 0.0982 - val_rmse: 0.2530\n",
      "Epoch 21/100\n",
      "858835/858835 [==============================] - 21s 24us/step - loss: 0.0980 - mean_squared_error: 0.0980 - rmse: 0.2539 - val_loss: 0.0984 - val_mean_squared_error: 0.0984 - val_rmse: 0.2571\n",
      "Epoch 22/100\n",
      "858835/858835 [==============================] - 21s 24us/step - loss: 0.0980 - mean_squared_error: 0.0980 - rmse: 0.2539 - val_loss: 0.0979 - val_mean_squared_error: 0.0979 - val_rmse: 0.2526\n",
      "Epoch 23/100\n",
      "858835/858835 [==============================] - 21s 24us/step - loss: 0.0980 - mean_squared_error: 0.0980 - rmse: 0.2538 - val_loss: 0.0986 - val_mean_squared_error: 0.0986 - val_rmse: 0.2596\n",
      "Epoch 24/100\n",
      "858835/858835 [==============================] - 21s 25us/step - loss: 0.0979 - mean_squared_error: 0.0979 - rmse: 0.2538 - val_loss: 0.0979 - val_mean_squared_error: 0.0979 - val_rmse: 0.2538\n",
      "Epoch 25/100\n",
      "858835/858835 [==============================] - 21s 25us/step - loss: 0.0979 - mean_squared_error: 0.0979 - rmse: 0.2538 - val_loss: 0.0981 - val_mean_squared_error: 0.0981 - val_rmse: 0.2542\n",
      "Epoch 26/100\n",
      "858835/858835 [==============================] - 22s 25us/step - loss: 0.0979 - mean_squared_error: 0.0979 - rmse: 0.2537 - val_loss: 0.0982 - val_mean_squared_error: 0.0982 - val_rmse: 0.2514\n",
      "Epoch 27/100\n",
      "858835/858835 [==============================] - 21s 25us/step - loss: 0.0979 - mean_squared_error: 0.0979 - rmse: 0.2537 - val_loss: 0.0980 - val_mean_squared_error: 0.0980 - val_rmse: 0.2530\n",
      "Epoch 28/100\n",
      "858835/858835 [==============================] - 21s 25us/step - loss: 0.0979 - mean_squared_error: 0.0979 - rmse: 0.2537 - val_loss: 0.0980 - val_mean_squared_error: 0.0980 - val_rmse: 0.2532\n",
      "Epoch 29/100\n",
      "858835/858835 [==============================] - 21s 25us/step - loss: 0.0979 - mean_squared_error: 0.0979 - rmse: 0.2537 - val_loss: 0.0979 - val_mean_squared_error: 0.0979 - val_rmse: 0.2532\n",
      "Epoch 30/100\n",
      "858835/858835 [==============================] - 21s 24us/step - loss: 0.0979 - mean_squared_error: 0.0979 - rmse: 0.2536 - val_loss: 0.0979 - val_mean_squared_error: 0.0979 - val_rmse: 0.2541\n",
      "Epoch 31/100\n",
      "858835/858835 [==============================] - 21s 25us/step - loss: 0.0979 - mean_squared_error: 0.0979 - rmse: 0.2536 - val_loss: 0.0979 - val_mean_squared_error: 0.0979 - val_rmse: 0.2540\n",
      "Epoch 32/100\n",
      "858835/858835 [==============================] - 21s 25us/step - loss: 0.0978 - mean_squared_error: 0.0978 - rmse: 0.2536 - val_loss: 0.0982 - val_mean_squared_error: 0.0982 - val_rmse: 0.2553\n",
      "Epoch 33/100\n",
      "858835/858835 [==============================] - 21s 25us/step - loss: 0.0978 - mean_squared_error: 0.0978 - rmse: 0.2536 - val_loss: 0.0979 - val_mean_squared_error: 0.0979 - val_rmse: 0.2525\n",
      "Epoch 34/100\n",
      "858835/858835 [==============================] - 21s 25us/step - loss: 0.0978 - mean_squared_error: 0.0978 - rmse: 0.2536 - val_loss: 0.0979 - val_mean_squared_error: 0.0979 - val_rmse: 0.2538\n",
      "Epoch 35/100\n",
      "858835/858835 [==============================] - 21s 24us/step - loss: 0.0978 - mean_squared_error: 0.0978 - rmse: 0.2535 - val_loss: 0.0979 - val_mean_squared_error: 0.0979 - val_rmse: 0.2547\n",
      "Epoch 36/100\n",
      "858835/858835 [==============================] - 21s 24us/step - loss: 0.0978 - mean_squared_error: 0.0978 - rmse: 0.2535 - val_loss: 0.0980 - val_mean_squared_error: 0.0980 - val_rmse: 0.2551\n",
      "Epoch 37/100\n",
      "858835/858835 [==============================] - 21s 24us/step - loss: 0.0978 - mean_squared_error: 0.0978 - rmse: 0.2535 - val_loss: 0.0979 - val_mean_squared_error: 0.0979 - val_rmse: 0.2516\n",
      "Epoch 38/100\n",
      "858835/858835 [==============================] - 21s 24us/step - loss: 0.0978 - mean_squared_error: 0.0978 - rmse: 0.2535 - val_loss: 0.0979 - val_mean_squared_error: 0.0979 - val_rmse: 0.2547\n",
      "Epoch 39/100\n",
      "837750/858835 [============================>.] - ETA: 0s - loss: 0.0978 - mean_squared_error: 0.0978 - rmse: 0.2535"
     ]
    }
   ],
   "source": [
    "history = model.fit(X_train, y_train, epochs=100, batch_size=50,  verbose=1, validation_data=(X_test,y_test))"
   ]
  },
  {
   "cell_type": "code",
   "execution_count": null,
   "metadata": {},
   "outputs": [],
   "source": [
    "print(history.history.keys())\n",
    "# \"Loss\"\n",
    "plt.plot(history.history['loss'])\n",
    "plt.plot(history.history['val_loss'])\n",
    "plt.title('model loss')\n",
    "plt.ylabel('loss')\n",
    "plt.xlabel('epoch')\n",
    "plt.legend(['train', 'validation'], loc='upper left')\n",
    "plt.show()\n"
   ]
  },
  {
   "cell_type": "code",
   "execution_count": 28,
   "metadata": {},
   "outputs": [],
   "source": [
    "y_pred= model.predict(X_test)"
   ]
  },
  {
   "cell_type": "code",
   "execution_count": 29,
   "metadata": {},
   "outputs": [],
   "source": [
    "pred = scaler_y.inverse_transform(y_pred) "
   ]
  },
  {
   "cell_type": "code",
   "execution_count": 30,
   "metadata": {},
   "outputs": [],
   "source": [
    "real = scaler_y.inverse_transform(y_test)"
   ]
  },
  {
   "cell_type": "code",
   "execution_count": 31,
   "metadata": {},
   "outputs": [
    {
     "name": "stdout",
     "output_type": "stream",
     "text": [
      "RMSE value is: 81211.81519164734\n"
     ]
    }
   ],
   "source": [
    "error = sqrt(mean_squared_error(pred,real))\n",
    "\n",
    "print('RMSE value is:', error)"
   ]
  },
  {
   "cell_type": "code",
   "execution_count": 33,
   "metadata": {},
   "outputs": [],
   "source": [
    "model.save(\"keras_auctions_reducido.h5\")"
   ]
  },
  {
   "cell_type": "markdown",
   "metadata": {},
   "source": [
    "### Prediccion competencia"
   ]
  },
  {
   "cell_type": "code",
   "execution_count": 35,
   "metadata": {},
   "outputs": [],
   "source": [
    "features_competencia = pd.read_pickle(\"../../../analisis/solo_competencia/armado_features/features_completos_competencia.pkl\")"
   ]
  },
  {
   "cell_type": "code",
   "execution_count": 38,
   "metadata": {},
   "outputs": [],
   "source": [
    "features_competencia.fillna(0,inplace = True)"
   ]
  },
  {
   "cell_type": "code",
   "execution_count": 41,
   "metadata": {},
   "outputs": [
    {
     "data": {
      "text/plain": [
       "(4037, 102)"
      ]
     },
     "execution_count": 41,
     "metadata": {},
     "output_type": "execute_result"
    }
   ],
   "source": [
    "features_competencia.shape"
   ]
  },
  {
   "cell_type": "code",
   "execution_count": 55,
   "metadata": {},
   "outputs": [],
   "source": [
    "col = features_competencia.iloc[1,:24].index"
   ]
  },
  {
   "cell_type": "code",
   "execution_count": 42,
   "metadata": {},
   "outputs": [],
   "source": [
    "scaler_x_comp = MinMaxScaler()\n"
   ]
  },
  {
   "cell_type": "code",
   "execution_count": 44,
   "metadata": {},
   "outputs": [],
   "source": [
    "features_comp =scaler_x_comp.fit_transform(features_competencia)\n"
   ]
  },
  {
   "cell_type": "code",
   "execution_count": 76,
   "metadata": {},
   "outputs": [],
   "source": [
    "real2 = []\n",
    "for valor in real:\n",
    "    real2.append(valor[0])"
   ]
  },
  {
   "cell_type": "code",
   "execution_count": 78,
   "metadata": {},
   "outputs": [],
   "source": [
    "pred2 = []\n",
    "for valor in pred:\n",
    "    pred2.append(valor[0])"
   ]
  },
  {
   "cell_type": "code",
   "execution_count": 82,
   "metadata": {},
   "outputs": [
    {
     "name": "stdout",
     "output_type": "stream",
     "text": [
      "RMSE value is: 46782.89622217884\n"
     ]
    }
   ],
   "source": [
    "error = sqrt(mean_squared_error(pred2,real2))\n",
    "\n",
    "print('RMSE value is:', error)"
   ]
  },
  {
   "cell_type": "code",
   "execution_count": 80,
   "metadata": {},
   "outputs": [
    {
     "data": {
      "text/html": [
       "<div>\n",
       "<style scoped>\n",
       "    .dataframe tbody tr th:only-of-type {\n",
       "        vertical-align: middle;\n",
       "    }\n",
       "\n",
       "    .dataframe tbody tr th {\n",
       "        vertical-align: top;\n",
       "    }\n",
       "\n",
       "    .dataframe thead th {\n",
       "        text-align: right;\n",
       "    }\n",
       "</style>\n",
       "<table border=\"1\" class=\"dataframe\">\n",
       "  <thead>\n",
       "    <tr style=\"text-align: right;\">\n",
       "      <th></th>\n",
       "      <th>pred</th>\n",
       "      <th>real</th>\n",
       "    </tr>\n",
       "  </thead>\n",
       "  <tbody>\n",
       "    <tr>\n",
       "      <th>0</th>\n",
       "      <td>254071.625000</td>\n",
       "      <td>259200.000</td>\n",
       "    </tr>\n",
       "    <tr>\n",
       "      <th>1</th>\n",
       "      <td>250365.828125</td>\n",
       "      <td>259200.000</td>\n",
       "    </tr>\n",
       "    <tr>\n",
       "      <th>2</th>\n",
       "      <td>250677.875000</td>\n",
       "      <td>259200.000</td>\n",
       "    </tr>\n",
       "    <tr>\n",
       "      <th>3</th>\n",
       "      <td>254244.421875</td>\n",
       "      <td>259200.000</td>\n",
       "    </tr>\n",
       "    <tr>\n",
       "      <th>4</th>\n",
       "      <td>130438.468750</td>\n",
       "      <td>6885.802</td>\n",
       "    </tr>\n",
       "    <tr>\n",
       "      <th>5</th>\n",
       "      <td>253830.453125</td>\n",
       "      <td>259200.000</td>\n",
       "    </tr>\n",
       "    <tr>\n",
       "      <th>6</th>\n",
       "      <td>253495.984375</td>\n",
       "      <td>259200.000</td>\n",
       "    </tr>\n",
       "    <tr>\n",
       "      <th>7</th>\n",
       "      <td>251706.750000</td>\n",
       "      <td>259200.000</td>\n",
       "    </tr>\n",
       "    <tr>\n",
       "      <th>8</th>\n",
       "      <td>126759.046875</td>\n",
       "      <td>58330.013</td>\n",
       "    </tr>\n",
       "    <tr>\n",
       "      <th>9</th>\n",
       "      <td>253883.453125</td>\n",
       "      <td>259200.000</td>\n",
       "    </tr>\n",
       "    <tr>\n",
       "      <th>10</th>\n",
       "      <td>254606.296875</td>\n",
       "      <td>259200.000</td>\n",
       "    </tr>\n",
       "    <tr>\n",
       "      <th>11</th>\n",
       "      <td>253890.515625</td>\n",
       "      <td>259200.000</td>\n",
       "    </tr>\n",
       "    <tr>\n",
       "      <th>12</th>\n",
       "      <td>254033.000000</td>\n",
       "      <td>259200.000</td>\n",
       "    </tr>\n",
       "    <tr>\n",
       "      <th>13</th>\n",
       "      <td>254545.234375</td>\n",
       "      <td>259200.000</td>\n",
       "    </tr>\n",
       "    <tr>\n",
       "      <th>14</th>\n",
       "      <td>248110.359375</td>\n",
       "      <td>259200.000</td>\n",
       "    </tr>\n",
       "    <tr>\n",
       "      <th>15</th>\n",
       "      <td>252842.343750</td>\n",
       "      <td>259200.000</td>\n",
       "    </tr>\n",
       "    <tr>\n",
       "      <th>16</th>\n",
       "      <td>253453.609375</td>\n",
       "      <td>259200.000</td>\n",
       "    </tr>\n",
       "    <tr>\n",
       "      <th>17</th>\n",
       "      <td>251201.171875</td>\n",
       "      <td>259200.000</td>\n",
       "    </tr>\n",
       "    <tr>\n",
       "      <th>18</th>\n",
       "      <td>124572.859375</td>\n",
       "      <td>251329.528</td>\n",
       "    </tr>\n",
       "    <tr>\n",
       "      <th>19</th>\n",
       "      <td>254243.656250</td>\n",
       "      <td>259200.000</td>\n",
       "    </tr>\n",
       "    <tr>\n",
       "      <th>20</th>\n",
       "      <td>254595.515625</td>\n",
       "      <td>259200.000</td>\n",
       "    </tr>\n",
       "    <tr>\n",
       "      <th>21</th>\n",
       "      <td>254673.109375</td>\n",
       "      <td>259200.000</td>\n",
       "    </tr>\n",
       "    <tr>\n",
       "      <th>22</th>\n",
       "      <td>130871.671875</td>\n",
       "      <td>157004.823</td>\n",
       "    </tr>\n",
       "    <tr>\n",
       "      <th>23</th>\n",
       "      <td>259229.187500</td>\n",
       "      <td>259200.000</td>\n",
       "    </tr>\n",
       "    <tr>\n",
       "      <th>24</th>\n",
       "      <td>254475.984375</td>\n",
       "      <td>259200.000</td>\n",
       "    </tr>\n",
       "    <tr>\n",
       "      <th>25</th>\n",
       "      <td>254298.703125</td>\n",
       "      <td>259200.000</td>\n",
       "    </tr>\n",
       "    <tr>\n",
       "      <th>26</th>\n",
       "      <td>254165.718750</td>\n",
       "      <td>259200.000</td>\n",
       "    </tr>\n",
       "    <tr>\n",
       "      <th>27</th>\n",
       "      <td>254342.234375</td>\n",
       "      <td>259200.000</td>\n",
       "    </tr>\n",
       "    <tr>\n",
       "      <th>28</th>\n",
       "      <td>250820.531250</td>\n",
       "      <td>107940.938</td>\n",
       "    </tr>\n",
       "    <tr>\n",
       "      <th>29</th>\n",
       "      <td>254613.000000</td>\n",
       "      <td>259200.000</td>\n",
       "    </tr>\n",
       "    <tr>\n",
       "      <th>...</th>\n",
       "      <td>...</td>\n",
       "      <td>...</td>\n",
       "    </tr>\n",
       "    <tr>\n",
       "      <th>147485</th>\n",
       "      <td>253645.937500</td>\n",
       "      <td>259200.000</td>\n",
       "    </tr>\n",
       "    <tr>\n",
       "      <th>147486</th>\n",
       "      <td>253896.328125</td>\n",
       "      <td>259200.000</td>\n",
       "    </tr>\n",
       "    <tr>\n",
       "      <th>147487</th>\n",
       "      <td>254247.718750</td>\n",
       "      <td>259200.000</td>\n",
       "    </tr>\n",
       "    <tr>\n",
       "      <th>147488</th>\n",
       "      <td>254625.265625</td>\n",
       "      <td>259200.000</td>\n",
       "    </tr>\n",
       "    <tr>\n",
       "      <th>147489</th>\n",
       "      <td>246235.250000</td>\n",
       "      <td>259200.000</td>\n",
       "    </tr>\n",
       "    <tr>\n",
       "      <th>147490</th>\n",
       "      <td>254466.750000</td>\n",
       "      <td>259200.000</td>\n",
       "    </tr>\n",
       "    <tr>\n",
       "      <th>147491</th>\n",
       "      <td>126846.382812</td>\n",
       "      <td>29903.955</td>\n",
       "    </tr>\n",
       "    <tr>\n",
       "      <th>147492</th>\n",
       "      <td>253718.890625</td>\n",
       "      <td>259200.000</td>\n",
       "    </tr>\n",
       "    <tr>\n",
       "      <th>147493</th>\n",
       "      <td>254544.171875</td>\n",
       "      <td>259200.000</td>\n",
       "    </tr>\n",
       "    <tr>\n",
       "      <th>147494</th>\n",
       "      <td>128345.734375</td>\n",
       "      <td>13029.522</td>\n",
       "    </tr>\n",
       "    <tr>\n",
       "      <th>147495</th>\n",
       "      <td>254591.531250</td>\n",
       "      <td>259200.000</td>\n",
       "    </tr>\n",
       "    <tr>\n",
       "      <th>147496</th>\n",
       "      <td>253837.125000</td>\n",
       "      <td>259200.000</td>\n",
       "    </tr>\n",
       "    <tr>\n",
       "      <th>147497</th>\n",
       "      <td>245426.656250</td>\n",
       "      <td>259200.000</td>\n",
       "    </tr>\n",
       "    <tr>\n",
       "      <th>147498</th>\n",
       "      <td>135537.375000</td>\n",
       "      <td>172094.437</td>\n",
       "    </tr>\n",
       "    <tr>\n",
       "      <th>147499</th>\n",
       "      <td>254644.515625</td>\n",
       "      <td>259200.000</td>\n",
       "    </tr>\n",
       "    <tr>\n",
       "      <th>147500</th>\n",
       "      <td>250777.515625</td>\n",
       "      <td>259200.000</td>\n",
       "    </tr>\n",
       "    <tr>\n",
       "      <th>147501</th>\n",
       "      <td>254551.031250</td>\n",
       "      <td>259200.000</td>\n",
       "    </tr>\n",
       "    <tr>\n",
       "      <th>147502</th>\n",
       "      <td>130438.468750</td>\n",
       "      <td>59264.239</td>\n",
       "    </tr>\n",
       "    <tr>\n",
       "      <th>147503</th>\n",
       "      <td>253134.875000</td>\n",
       "      <td>259200.000</td>\n",
       "    </tr>\n",
       "    <tr>\n",
       "      <th>147504</th>\n",
       "      <td>253657.453125</td>\n",
       "      <td>259200.000</td>\n",
       "    </tr>\n",
       "    <tr>\n",
       "      <th>147505</th>\n",
       "      <td>254669.343750</td>\n",
       "      <td>259200.000</td>\n",
       "    </tr>\n",
       "    <tr>\n",
       "      <th>147506</th>\n",
       "      <td>124639.265625</td>\n",
       "      <td>194662.671</td>\n",
       "    </tr>\n",
       "    <tr>\n",
       "      <th>147507</th>\n",
       "      <td>125306.320312</td>\n",
       "      <td>6907.243</td>\n",
       "    </tr>\n",
       "    <tr>\n",
       "      <th>147508</th>\n",
       "      <td>254432.859375</td>\n",
       "      <td>259200.000</td>\n",
       "    </tr>\n",
       "    <tr>\n",
       "      <th>147509</th>\n",
       "      <td>252354.500000</td>\n",
       "      <td>259200.000</td>\n",
       "    </tr>\n",
       "    <tr>\n",
       "      <th>147510</th>\n",
       "      <td>251663.531250</td>\n",
       "      <td>259200.000</td>\n",
       "    </tr>\n",
       "    <tr>\n",
       "      <th>147511</th>\n",
       "      <td>124028.742188</td>\n",
       "      <td>179345.230</td>\n",
       "    </tr>\n",
       "    <tr>\n",
       "      <th>147512</th>\n",
       "      <td>253056.562500</td>\n",
       "      <td>259200.000</td>\n",
       "    </tr>\n",
       "    <tr>\n",
       "      <th>147513</th>\n",
       "      <td>253004.156250</td>\n",
       "      <td>259200.000</td>\n",
       "    </tr>\n",
       "    <tr>\n",
       "      <th>147514</th>\n",
       "      <td>124135.101562</td>\n",
       "      <td>67690.731</td>\n",
       "    </tr>\n",
       "  </tbody>\n",
       "</table>\n",
       "<p>147515 rows × 2 columns</p>\n",
       "</div>"
      ],
      "text/plain": [
       "                 pred        real\n",
       "0       254071.625000  259200.000\n",
       "1       250365.828125  259200.000\n",
       "2       250677.875000  259200.000\n",
       "3       254244.421875  259200.000\n",
       "4       130438.468750    6885.802\n",
       "5       253830.453125  259200.000\n",
       "6       253495.984375  259200.000\n",
       "7       251706.750000  259200.000\n",
       "8       126759.046875   58330.013\n",
       "9       253883.453125  259200.000\n",
       "10      254606.296875  259200.000\n",
       "11      253890.515625  259200.000\n",
       "12      254033.000000  259200.000\n",
       "13      254545.234375  259200.000\n",
       "14      248110.359375  259200.000\n",
       "15      252842.343750  259200.000\n",
       "16      253453.609375  259200.000\n",
       "17      251201.171875  259200.000\n",
       "18      124572.859375  251329.528\n",
       "19      254243.656250  259200.000\n",
       "20      254595.515625  259200.000\n",
       "21      254673.109375  259200.000\n",
       "22      130871.671875  157004.823\n",
       "23      259229.187500  259200.000\n",
       "24      254475.984375  259200.000\n",
       "25      254298.703125  259200.000\n",
       "26      254165.718750  259200.000\n",
       "27      254342.234375  259200.000\n",
       "28      250820.531250  107940.938\n",
       "29      254613.000000  259200.000\n",
       "...               ...         ...\n",
       "147485  253645.937500  259200.000\n",
       "147486  253896.328125  259200.000\n",
       "147487  254247.718750  259200.000\n",
       "147488  254625.265625  259200.000\n",
       "147489  246235.250000  259200.000\n",
       "147490  254466.750000  259200.000\n",
       "147491  126846.382812   29903.955\n",
       "147492  253718.890625  259200.000\n",
       "147493  254544.171875  259200.000\n",
       "147494  128345.734375   13029.522\n",
       "147495  254591.531250  259200.000\n",
       "147496  253837.125000  259200.000\n",
       "147497  245426.656250  259200.000\n",
       "147498  135537.375000  172094.437\n",
       "147499  254644.515625  259200.000\n",
       "147500  250777.515625  259200.000\n",
       "147501  254551.031250  259200.000\n",
       "147502  130438.468750   59264.239\n",
       "147503  253134.875000  259200.000\n",
       "147504  253657.453125  259200.000\n",
       "147505  254669.343750  259200.000\n",
       "147506  124639.265625  194662.671\n",
       "147507  125306.320312    6907.243\n",
       "147508  254432.859375  259200.000\n",
       "147509  252354.500000  259200.000\n",
       "147510  251663.531250  259200.000\n",
       "147511  124028.742188  179345.230\n",
       "147512  253056.562500  259200.000\n",
       "147513  253004.156250  259200.000\n",
       "147514  124135.101562   67690.731\n",
       "\n",
       "[147515 rows x 2 columns]"
      ]
     },
     "execution_count": 80,
     "metadata": {},
     "output_type": "execute_result"
    }
   ],
   "source": [
    "pd.DataFrame({\"pred\":pred2,\"real\":real2})"
   ]
  },
  {
   "cell_type": "code",
   "execution_count": null,
   "metadata": {},
   "outputs": [],
   "source": []
  }
 ],
 "metadata": {
  "kernelspec": {
   "display_name": "Python 3",
   "language": "python",
   "name": "python3"
  },
  "language_info": {
   "codemirror_mode": {
    "name": "ipython",
    "version": 3
   },
   "file_extension": ".py",
   "mimetype": "text/x-python",
   "name": "python",
   "nbconvert_exporter": "python",
   "pygments_lexer": "ipython3",
   "version": "3.6.8"
  }
 },
 "nbformat": 4,
 "nbformat_minor": 2
}
