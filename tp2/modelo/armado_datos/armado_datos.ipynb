{
 "cells": [
  {
   "cell_type": "code",
   "execution_count": 9,
   "metadata": {},
   "outputs": [],
   "source": [
    "import pandas as pd\n",
    "import numpy as np"
   ]
  },
  {
   "cell_type": "code",
   "execution_count": 4,
   "metadata": {},
   "outputs": [],
   "source": [
    "train = pd.DataFrame()\n",
    "\n",
    "for ventana_nro in range(1,6):\n",
    "    \n",
    "    features_auctions = pd.read_pickle(\"../features/auctions_train_ventana_{}.pkl\".format(ventana_nro))\n",
    "    features_clicks = pd.read_pickle(\"../features/clicks_train_ventana_{}.pkl\".format(ventana_nro))\n",
    "    features_events = pd.read_pickle(\"../features/events_train_ventana_{}.pkl\".format(ventana_nro))\n",
    "    targets = pd.read_pickle(\"../targets/targets_ventana_{}_auctions.pkl\".format(ventana_nro))\n",
    " \n",
    "\n",
    "    features_clicks = features_clicks[columns_clicks]\n",
    "\n",
    "    targets = targets.merge(features_auctions, how = 'left', left_index=True, right_index=True)\n",
    "    \n",
    "\n",
    "\n",
    "    targets = targets.merge(features_clicks,how = 'left',left_index = True, right_index = True)\n",
    "  \n",
    "\n",
    "    targets = targets.merge(features_events,how = 'left', left_index = True, right_index = True)\n",
    "    \n",
    "    train = train.append(targets)"
   ]
  },
  {
   "cell_type": "code",
   "execution_count": 5,
   "metadata": {},
   "outputs": [
    {
     "data": {
      "text/plain": [
       "1611351"
      ]
     },
     "execution_count": 5,
     "metadata": {},
     "output_type": "execute_result"
    }
   ],
   "source": [
    "len(train)"
   ]
  },
  {
   "cell_type": "code",
   "execution_count": 6,
   "metadata": {},
   "outputs": [
    {
     "name": "stdout",
     "output_type": "stream",
     "text": [
      "<class 'pandas.core.frame.DataFrame'>\n",
      "Int64Index: 1611351 entries, 1826643666390887030 to 6637881373458108188\n",
      "Data columns (total 77 columns):\n",
      "target                                       1611351 non-null float64\n",
      "cantidad_apariciones                         1611351 non-null int64\n",
      "apariciones_en_hora_0                        1611351 non-null int64\n",
      "apariciones_en_hora_1                        1611351 non-null int64\n",
      "apariciones_en_hora_2                        1611351 non-null int64\n",
      "apariciones_en_hora_3                        1611351 non-null int64\n",
      "apariciones_en_hora_4                        1611351 non-null int64\n",
      "apariciones_en_hora_5                        1611351 non-null int64\n",
      "apariciones_en_hora_6                        1611351 non-null int64\n",
      "apariciones_en_hora_7                        1611351 non-null int64\n",
      "apariciones_en_hora_8                        1611351 non-null int64\n",
      "apariciones_en_hora_9                        1611351 non-null int64\n",
      "apariciones_en_hora_10                       1611351 non-null int64\n",
      "apariciones_en_hora_11                       1611351 non-null int64\n",
      "apariciones_en_hora_12                       1611351 non-null int64\n",
      "apariciones_en_hora_13                       1611351 non-null int64\n",
      "apariciones_en_hora_14                       1611351 non-null int64\n",
      "apariciones_en_hora_15                       1611351 non-null int64\n",
      "apariciones_en_hora_16                       1611351 non-null int64\n",
      "apariciones_en_hora_17                       1611351 non-null int64\n",
      "apariciones_en_hora_18                       1611351 non-null int64\n",
      "apariciones_en_hora_19                       1611351 non-null int64\n",
      "apariciones_en_hora_20                       1611351 non-null int64\n",
      "apariciones_en_hora_21                       1611351 non-null int64\n",
      "apariciones_en_hora_22                       1611351 non-null int64\n",
      "apariciones_en_hora_23                       1611351 non-null int64\n",
      "apariciones_en_dia_1_x                       1611351 non-null int64\n",
      "apariciones_en_dia_2_x                       1611351 non-null int64\n",
      "apariciones_en_dia_3_x                       1611351 non-null int64\n",
      "cantidad_so_registrados                      1611351 non-null int64\n",
      "so_media                                     1611351 non-null float64\n",
      "tiempo_medio_entre_apariciones               1611351 non-null float64\n",
      "tiempo_maximo_entre_apariciones              1611351 non-null float64\n",
      "desvio_entre_apariciones                     1611351 non-null float64\n",
      "apariciones_en_source_0                      1611351 non-null int64\n",
      "apariciones_en_source_1                      1611351 non-null int64\n",
      "apariciones_en_source_2                      1611351 non-null int64\n",
      "apariciones_en_source_3                      1611351 non-null int64\n",
      "apariciones_en_source_4                      1611351 non-null int64\n",
      "apariciones_en_source_5                      1611351 non-null int64\n",
      "apariciones_en_source_6                      1611351 non-null int64\n",
      "apariciones_en_source_7                      1611351 non-null int64\n",
      "apariciones_en_source_8                      1611351 non-null int64\n",
      "apariciones_en_source_9                      1611351 non-null int64\n",
      "tiempo_ultima_aparicion_hasta_fin_ventana    1611351 non-null float64\n",
      "tiempo_hora_frec_aparicion_subasta           1611351 non-null int64\n",
      "tiempo_segunda_hora_frec_aparicion           1611351 non-null int64\n",
      "tiempo_hasta_click_mean                      30262 non-null float64\n",
      "tiempo_hasta_click_max                       30262 non-null float64\n",
      "tiempo_hasta_click_min                       30262 non-null float64\n",
      "tiempo_hasta_click_std                       46542 non-null float64\n",
      "cantidad_clicks                              46542 non-null float64\n",
      "apariciones_en_dia_1_y                       46542 non-null float64\n",
      "apariciones_en_dia_2_y                       46542 non-null float64\n",
      "apariciones_en_dia_3_y                       46542 non-null float64\n",
      "tiempo_medio_entre_clicks                    46542 non-null float64\n",
      "cant_eventos                                 401576 non-null float64\n",
      "prom_eventos                                 401576 non-null float64\n",
      "eventos_dia_1                                401576 non-null float64\n",
      "eventos_dia_2                                401576 non-null float64\n",
      "eventos_dia_3                                401576 non-null float64\n",
      "max_cant_eventos                             401576 non-null float64\n",
      "cant_eventos_maximos                         401576 non-null float64\n",
      "segs_hasta_hora_freq                         401576 non-null float64\n",
      "eventos_franja_1                             401576 non-null float64\n",
      "eventos_franja_2                             401576 non-null float64\n",
      "eventos_franja_3                             401576 non-null float64\n",
      "eventos_franja_4                             401576 non-null float64\n",
      "eventos_franja_5                             401576 non-null float64\n",
      "eventos_franja_6                             401576 non-null float64\n",
      "cant_eventos_wifi                            401576 non-null float64\n",
      "cant_eventos_sin_wifi                        401576 non-null float64\n",
      "cant_eventos_15                              401576 non-null float64\n",
      "cant_eventos_23                              401576 non-null float64\n",
      "cant_eventos_7                               401576 non-null float64\n",
      "cant_eventos_0                               401576 non-null float64\n",
      "cant_eventos_2                               401576 non-null float64\n",
      "dtypes: float64(36), int64(41)\n",
      "memory usage: 958.9 MB\n"
     ]
    }
   ],
   "source": [
    "train.info()"
   ]
  },
  {
   "cell_type": "code",
   "execution_count": 3,
   "metadata": {},
   "outputs": [],
   "source": [
    "columns_clicks = ['tiempo_hasta_click_mean', 'tiempo_hasta_click_max',\n",
    "       'tiempo_hasta_click_min', 'tiempo_hasta_click_std', 'cantidad_clicks','apariciones_en_dia_1', 'apariciones_en_dia_2', 'apariciones_en_dia_3',\n",
    "       'tiempo_medio_entre_clicks']"
   ]
  },
  {
   "cell_type": "code",
   "execution_count": 10,
   "metadata": {},
   "outputs": [
    {
     "data": {
      "text/plain": [
       "Index(['tiempo_hasta_click_mean', 'tiempo_hasta_click_max',\n",
       "       'tiempo_hasta_click_min', 'tiempo_hasta_click_std', 'cantidad_clicks',\n",
       "       'apariciones_en_hora_0', 'apariciones_en_hora_1',\n",
       "       'apariciones_en_hora_2', 'apariciones_en_hora_3',\n",
       "       'apariciones_en_hora_4', 'apariciones_en_hora_5',\n",
       "       'apariciones_en_hora_6', 'apariciones_en_hora_7',\n",
       "       'apariciones_en_hora_8', 'apariciones_en_hora_9',\n",
       "       'apariciones_en_hora_10', 'apariciones_en_hora_11',\n",
       "       'apariciones_en_hora_12', 'apariciones_en_hora_13',\n",
       "       'apariciones_en_hora_14', 'apariciones_en_hora_15',\n",
       "       'apariciones_en_hora_16', 'apariciones_en_hora_17',\n",
       "       'apariciones_en_hora_18', 'apariciones_en_hora_19',\n",
       "       'apariciones_en_hora_20', 'apariciones_en_hora_21',\n",
       "       'apariciones_en_hora_22', 'apariciones_en_hora_23',\n",
       "       'apariciones_en_dia_1', 'apariciones_en_dia_2', 'apariciones_en_dia_3',\n",
       "       'tiempo_medio_entre_clicks'],\n",
       "      dtype='object')"
      ]
     },
     "execution_count": 10,
     "metadata": {},
     "output_type": "execute_result"
    }
   ],
   "source": [
    "features_clicks.columns"
   ]
  },
  {
   "cell_type": "code",
   "execution_count": 7,
   "metadata": {},
   "outputs": [
    {
     "data": {
      "text/plain": [
       "target                             0\n",
       "cantidad_apariciones               0\n",
       "apariciones_en_hora_0              0\n",
       "apariciones_en_hora_1              0\n",
       "apariciones_en_hora_2              0\n",
       "apariciones_en_hora_3              0\n",
       "apariciones_en_hora_4              0\n",
       "apariciones_en_hora_5              0\n",
       "apariciones_en_hora_6              0\n",
       "apariciones_en_hora_7              0\n",
       "apariciones_en_hora_8              0\n",
       "apariciones_en_hora_9              0\n",
       "apariciones_en_hora_10             0\n",
       "apariciones_en_hora_11             0\n",
       "apariciones_en_hora_12             0\n",
       "apariciones_en_hora_13             0\n",
       "apariciones_en_hora_14             0\n",
       "apariciones_en_hora_15             0\n",
       "apariciones_en_hora_16             0\n",
       "apariciones_en_hora_17             0\n",
       "apariciones_en_hora_18             0\n",
       "apariciones_en_hora_19             0\n",
       "apariciones_en_hora_20             0\n",
       "apariciones_en_hora_21             0\n",
       "apariciones_en_hora_22             0\n",
       "apariciones_en_hora_23             0\n",
       "apariciones_en_dia_1_x             0\n",
       "apariciones_en_dia_2_x             0\n",
       "apariciones_en_dia_3_x             0\n",
       "cantidad_so_registrados            0\n",
       "                              ...   \n",
       "tiempo_hasta_click_mean      1581089\n",
       "tiempo_hasta_click_max       1581089\n",
       "tiempo_hasta_click_min       1581089\n",
       "tiempo_hasta_click_std       1564809\n",
       "cantidad_clicks              1564809\n",
       "apariciones_en_dia_1_y       1564809\n",
       "apariciones_en_dia_2_y       1564809\n",
       "apariciones_en_dia_3_y       1564809\n",
       "tiempo_medio_entre_clicks    1564809\n",
       "cant_eventos                 1209775\n",
       "prom_eventos                 1209775\n",
       "eventos_dia_1                1209775\n",
       "eventos_dia_2                1209775\n",
       "eventos_dia_3                1209775\n",
       "max_cant_eventos             1209775\n",
       "cant_eventos_maximos         1209775\n",
       "segs_hasta_hora_freq         1209775\n",
       "eventos_franja_1             1209775\n",
       "eventos_franja_2             1209775\n",
       "eventos_franja_3             1209775\n",
       "eventos_franja_4             1209775\n",
       "eventos_franja_5             1209775\n",
       "eventos_franja_6             1209775\n",
       "cant_eventos_wifi            1209775\n",
       "cant_eventos_sin_wifi        1209775\n",
       "cant_eventos_15              1209775\n",
       "cant_eventos_23              1209775\n",
       "cant_eventos_7               1209775\n",
       "cant_eventos_0               1209775\n",
       "cant_eventos_2               1209775\n",
       "Length: 77, dtype: int64"
      ]
     },
     "execution_count": 7,
     "metadata": {},
     "output_type": "execute_result"
    }
   ],
   "source": [
    "train.isnull().sum()"
   ]
  },
  {
   "cell_type": "code",
   "execution_count": 8,
   "metadata": {},
   "outputs": [],
   "source": [
    "train.to_csv(\"train_completo.csv\")"
   ]
  },
  {
   "cell_type": "code",
   "execution_count": null,
   "metadata": {},
   "outputs": [],
   "source": [
    "train.to_pickle(\"train_completo\")"
   ]
  },
  {
   "cell_type": "code",
   "execution_count": null,
   "metadata": {},
   "outputs": [],
   "source": []
  },
  {
   "cell_type": "markdown",
   "metadata": {},
   "source": [
    "### Sin ultima ventana"
   ]
  },
  {
   "cell_type": "code",
   "execution_count": 10,
   "metadata": {},
   "outputs": [],
   "source": [
    "train = pd.DataFrame()\n",
    "\n",
    "for ventana_nro in range(1,5):\n",
    "    \n",
    "    features_auctions = pd.read_pickle(\"../features/auctions_train_ventana_{}.pkl\".format(ventana_nro))\n",
    "    features_clicks = pd.read_pickle(\"../features/clicks_train_ventana_{}.pkl\".format(ventana_nro))\n",
    "    features_events = pd.read_pickle(\"../features/events_train_ventana_{}.pkl\".format(ventana_nro))\n",
    "    targets = pd.read_pickle(\"../targets/targets_ventana_{}_auctions.pkl\".format(ventana_nro))\n",
    " \n",
    "\n",
    "    features_clicks = features_clicks[columns_clicks]\n",
    "\n",
    "    targets = targets.merge(features_auctions, how = 'left', left_index=True, right_index=True)\n",
    "    \n",
    "\n",
    "\n",
    "    targets = targets.merge(features_clicks,how = 'left',left_index = True, right_index = True)\n",
    "  \n",
    "\n",
    "    targets = targets.merge(features_events,how = 'left', left_index = True, right_index = True)\n",
    "    \n",
    "    train = train.append(targets)"
   ]
  },
  {
   "cell_type": "code",
   "execution_count": 11,
   "metadata": {},
   "outputs": [],
   "source": [
    "train.to_csv(\"train_sin_ultima_vent.csv\")"
   ]
  },
  {
   "cell_type": "code",
   "execution_count": 12,
   "metadata": {},
   "outputs": [],
   "source": [
    "train.to_pickle(\"train_sin_ultima_vent\")"
   ]
  },
  {
   "cell_type": "code",
   "execution_count": null,
   "metadata": {},
   "outputs": [],
   "source": []
  }
 ],
 "metadata": {
  "kernelspec": {
   "display_name": "Python 3",
   "language": "python",
   "name": "python3"
  },
  "language_info": {
   "codemirror_mode": {
    "name": "ipython",
    "version": 3
   },
   "file_extension": ".py",
   "mimetype": "text/x-python",
   "name": "python",
   "nbconvert_exporter": "python",
   "pygments_lexer": "ipython3",
   "version": "3.6.8"
  }
 },
 "nbformat": 4,
 "nbformat_minor": 2
}
