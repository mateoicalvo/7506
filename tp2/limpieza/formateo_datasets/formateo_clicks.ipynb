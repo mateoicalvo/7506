{
 "cells": [
  {
   "cell_type": "markdown",
   "metadata": {},
   "source": [
    "# Imports"
   ]
  },
  {
   "cell_type": "code",
   "execution_count": 2,
   "metadata": {},
   "outputs": [],
   "source": [
    "import pandas as pd\n",
    "import numpy as np"
   ]
  },
  {
   "cell_type": "markdown",
   "metadata": {},
   "source": [
    "---"
   ]
  },
  {
   "cell_type": "code",
   "execution_count": 3,
   "metadata": {},
   "outputs": [
    {
     "name": "stderr",
     "output_type": "stream",
     "text": [
      "/opt/anaconda/3/lib/python3.6/site-packages/IPython/core/interactiveshell.py:2785: DtypeWarning: Columns (16,17) have mixed types. Specify dtype option on import or set low_memory=False.\n",
      "  interactivity=interactivity, compiler=compiler, result=result)\n"
     ]
    }
   ],
   "source": [
    "# Columnas a cargar: \n",
    "columnas_cargar = ['advertiser_id', 'action_id', 'source_id', 'created',\n",
    "       'latitude', 'longitude', 'wifi_connection', 'carrier_id', 'trans_id',\n",
    "       'os_minor', 'agent_device', 'os_major', 'specs_brand', 'brand',\n",
    "       'timeToClick', 'touchX', 'touchY', 'ref_type', 'ref_hash']\n",
    "\n",
    "# Definicion de tipos\n",
    "tipos = {\"application_id\" : np.int16}\n",
    "# Carga de datos\n",
    "clicks = pd.read_csv(\"../../../data/tp2/clicks.csv\", usecols=columnas_cargar, dtype=tipos, parse_dates=[\"created\"])"
   ]
  },
  {
   "cell_type": "markdown",
   "metadata": {},
   "source": [
    "---"
   ]
  },
  {
   "cell_type": "markdown",
   "metadata": {},
   "source": [
    "## Convierto los ref_tpyes a Android/iOS"
   ]
  },
  {
   "cell_type": "code",
   "execution_count": 4,
   "metadata": {},
   "outputs": [],
   "source": [
    "clicks[\"os_es_android\"] = clicks[\"ref_type\"].replace([1891515180541284343, 1494519392962156891], [1, 0]).astype(np.int8)\n",
    "# Elimino la columna ref_type\n",
    "del clicks[\"ref_type\"]"
   ]
  },
  {
   "cell_type": "code",
   "execution_count": 5,
   "metadata": {},
   "outputs": [],
   "source": [
    "clicks.to_pickle(\"../../../data/tp2/clicks_tp2_formateado.pkl\")"
   ]
  }
 ],
 "metadata": {
  "kernelspec": {
   "display_name": "Python 3",
   "language": "python",
   "name": "python3"
  },
  "language_info": {
   "codemirror_mode": {
    "name": "ipython",
    "version": 3
   },
   "file_extension": ".py",
   "mimetype": "text/x-python",
   "name": "python",
   "nbconvert_exporter": "python",
   "pygments_lexer": "ipython3",
   "version": "3.6.5"
  }
 },
 "nbformat": 4,
 "nbformat_minor": 2
}
