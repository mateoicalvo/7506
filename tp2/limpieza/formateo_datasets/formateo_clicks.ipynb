{
 "cells": [
  {
   "cell_type": "markdown",
   "metadata": {},
   "source": [
    "# Imports"
   ]
  },
  {
   "cell_type": "code",
   "execution_count": 1,
   "metadata": {},
   "outputs": [],
   "source": [
    "import pandas as pd\n",
    "import numpy as np"
   ]
  },
  {
   "cell_type": "markdown",
   "metadata": {},
   "source": [
    "---"
   ]
  },
  {
   "cell_type": "code",
   "execution_count": 2,
   "metadata": {},
   "outputs": [
    {
     "name": "stderr",
     "output_type": "stream",
     "text": [
      "/opt/anaconda/3/lib/python3.6/site-packages/IPython/core/interactiveshell.py:2785: DtypeWarning: Columns (16,17) have mixed types. Specify dtype option on import or set low_memory=False.\n",
      "  interactivity=interactivity, compiler=compiler, result=result)\n"
     ]
    }
   ],
   "source": [
    "# Columnas a cargar: \n",
    "columnas_cargar = ['advertiser_id', 'action_id', 'source_id', 'created',\n",
    "       'latitude', 'longitude', 'wifi_connection', 'carrier_id', 'trans_id',\n",
    "       'os_minor', 'agent_device', 'os_major', 'specs_brand', 'brand',\n",
    "       'timeToClick', 'touchX', 'touchY', 'ref_type', 'ref_hash']\n",
    "\n",
    "# Definicion de tipos\n",
    "tipos = {\"application_id\" : np.int16}\n",
    "# Carga de datos\n",
    "clicks = pd.read_csv(\"../../../data/tp2/clicks.csv\", usecols=columnas_cargar, dtype=tipos, parse_dates=[\"created\"])"
   ]
  },
  {
   "cell_type": "markdown",
   "metadata": {},
   "source": [
    "---"
   ]
  },
  {
   "cell_type": "code",
   "execution_count": 3,
   "metadata": {},
   "outputs": [
    {
     "ename": "NameError",
     "evalue": "name 'installs' is not defined",
     "output_type": "error",
     "traceback": [
      "\u001b[0;31m---------------------------------------------------------------------------\u001b[0m",
      "\u001b[0;31mNameError\u001b[0m                                 Traceback (most recent call last)",
      "\u001b[0;32m<ipython-input-3-49201cb47b34>\u001b[0m in \u001b[0;36m<module>\u001b[0;34m()\u001b[0m\n\u001b[1;32m      2\u001b[0m \u001b[0mclicks\u001b[0m\u001b[0;34m.\u001b[0m\u001b[0mrename\u001b[0m\u001b[0;34m(\u001b[0m\u001b[0mcolumns\u001b[0m\u001b[0;34m=\u001b[0m\u001b[0;34m{\u001b[0m\u001b[0;34m\"created\"\u001b[0m\u001b[0;34m:\u001b[0m \u001b[0;34m\"date\"\u001b[0m\u001b[0;34m,\u001b[0m \u001b[0;34m\"ref_hash\"\u001b[0m \u001b[0;34m:\u001b[0m \u001b[0;34m\"device_id\"\u001b[0m\u001b[0;34m}\u001b[0m\u001b[0;34m,\u001b[0m \u001b[0minplace\u001b[0m\u001b[0;34m=\u001b[0m\u001b[0;32mTrue\u001b[0m\u001b[0;34m)\u001b[0m\u001b[0;34m\u001b[0m\u001b[0m\n\u001b[1;32m      3\u001b[0m \u001b[0;31m# Ordeno las fechas\u001b[0m\u001b[0;34m\u001b[0m\u001b[0;34m\u001b[0m\u001b[0m\n\u001b[0;32m----> 4\u001b[0;31m \u001b[0minstalls\u001b[0m\u001b[0;34m.\u001b[0m\u001b[0msort_values\u001b[0m\u001b[0;34m(\u001b[0m\u001b[0mby\u001b[0m\u001b[0;34m=\u001b[0m\u001b[0;34m\"date\"\u001b[0m\u001b[0;34m,\u001b[0m \u001b[0minplace\u001b[0m\u001b[0;34m=\u001b[0m\u001b[0;32mTrue\u001b[0m\u001b[0;34m)\u001b[0m\u001b[0;34m\u001b[0m\u001b[0m\n\u001b[0m",
      "\u001b[0;31mNameError\u001b[0m: name 'installs' is not defined"
     ]
    }
   ],
   "source": [
    "# Renombro columnas\n",
    "clicks.rename(columns={\"created\": \"date\", \"ref_hash\" : \"device_id\"}, inplace=True)\n",
    "# Ordeno las fechas\n",
    "installs.sort_values(by=\"date\", inplace=True)"
   ]
  },
  {
   "cell_type": "code",
   "execution_count": null,
   "metadata": {},
   "outputs": [],
   "source": [
    "#convierto formato\n",
    "clicks[\"date\"] = clicks[\"date\"].astype(\"datetime64[ns]\")"
   ]
  },
  {
   "cell_type": "markdown",
   "metadata": {},
   "source": [
    "## Convierto los ref_tpyes a Android/iOS"
   ]
  },
  {
   "cell_type": "code",
   "execution_count": null,
   "metadata": {},
   "outputs": [],
   "source": [
    "clicks[\"os_es_android\"] = clicks[\"ref_type\"].replace([1891515180541284343, 1494519392962156891], [1, 0]).astype(np.int8)\n",
    "# Elimino la columna ref_type\n",
    "del clicks[\"ref_type\"]"
   ]
  },
  {
   "cell_type": "markdown",
   "metadata": {},
   "source": [
    "# Etiquetas temporales"
   ]
  },
  {
   "cell_type": "code",
   "execution_count": null,
   "metadata": {},
   "outputs": [],
   "source": [
    "clicks['hora'] = clicks['date'].dt.hour\n",
    "clicks['dia'] = clicks['date'].dt.day\n",
    "clicks['dia_de_la_semana'] = clicks['date'].dt.dayofweek"
   ]
  },
  {
   "cell_type": "markdown",
   "metadata": {},
   "source": [
    "# Franjas horarias"
   ]
  },
  {
   "cell_type": "code",
   "execution_count": null,
   "metadata": {},
   "outputs": [],
   "source": [
    "clicks[\"hora_2_a_6\"] = ((clicks[\"hora\"] >= 2) & (clicks[\"hora\"] < 6))\n",
    "clicks[\"hora_6_a_11\"] = ((clicks[\"hora\"] >= 6) & (clicks[\"hora\"] < 11)) \n",
    "clicks[\"hora_11_a_14\"] = ((clicks[\"hora\"] >= 11) & (clicks[\"hora\"] < 14)) \n",
    "clicks[\"hora_14_a_18\"] = ((clicks[\"hora\"] >= 14) & (clicks[\"hora\"] < 18)) \n",
    "clicks[\"hora_18_a_23\"] = ((clicks[\"hora\"] >= 18) & (clicks[\"hora\"] < 23))\n",
    "clicks[\"hora_23_a_2\"] = ((clicks[\"hora\"] >= 23) | (clicks[\"hora\"] < 2))"
   ]
  },
  {
   "cell_type": "markdown",
   "metadata": {},
   "source": [
    "# Armado de ventanas"
   ]
  },
  {
   "cell_type": "code",
   "execution_count": null,
   "metadata": {},
   "outputs": [],
   "source": [
    "for ventana_nro in range(1,8):\n",
    "    clicks[\"ventana_{}\".format(ventana_nro)] = (((17+ventana_nro) <= clicks[\"date\"].dt.day) & ((clicks[\"date\"].dt.day) <= (19+ventana_nro)))"
   ]
  },
  {
   "cell_type": "code",
   "execution_count": null,
   "metadata": {},
   "outputs": [],
   "source": [
    "clicks.to_pickle(\"../../../data/tp2/clicks_tp2_formateado.pkl\")"
   ]
  }
 ],
 "metadata": {
  "kernelspec": {
   "display_name": "Python 3",
   "language": "python",
   "name": "python3"
  },
  "language_info": {
   "codemirror_mode": {
    "name": "ipython",
    "version": 3
   },
   "file_extension": ".py",
   "mimetype": "text/x-python",
   "name": "python",
   "nbconvert_exporter": "python",
   "pygments_lexer": "ipython3",
   "version": "3.6.5"
  }
 },
 "nbformat": 4,
 "nbformat_minor": 2
}
