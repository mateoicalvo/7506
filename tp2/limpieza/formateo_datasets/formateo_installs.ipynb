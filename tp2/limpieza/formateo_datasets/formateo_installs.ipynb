{
 "cells": [
  {
   "cell_type": "markdown",
   "metadata": {},
   "source": [
    "# Imports"
   ]
  },
  {
   "cell_type": "code",
   "execution_count": 2,
   "metadata": {},
   "outputs": [],
   "source": [
    "import pandas as pd\n",
    "import numpy as np"
   ]
  },
  {
   "cell_type": "markdown",
   "metadata": {},
   "source": [
    "---"
   ]
  },
  {
   "cell_type": "code",
   "execution_count": 3,
   "metadata": {},
   "outputs": [
    {
     "name": "stderr",
     "output_type": "stream",
     "text": [
      "/opt/anaconda/3/lib/python3.6/site-packages/IPython/core/interactiveshell.py:2785: DtypeWarning: Columns (4,15) have mixed types. Specify dtype option on import or set low_memory=False.\n",
      "  interactivity=interactivity, compiler=compiler, result=result)\n"
     ]
    }
   ],
   "source": [
    "# Columnas a cargar: \n",
    "columnas_cargar = ['created', 'application_id', 'ref_type', 'ref_hash', 'click_hash',\n",
    "       'attributed', 'implicit', 'device_brand',\n",
    "       'device_model', 'session_user_agent', 'user_agent', 'event_uuid',\n",
    "       'kind', 'wifi', 'trans_id', 'ip_address', 'device_language']\n",
    "\n",
    "# Definicion de tipos\n",
    "tipos = {\"application_id\" : np.int16}\n",
    "# Carga de datos\n",
    "installs = pd.read_csv(\"../../../data/tp2/installs.csv\", usecols=columnas_cargar, dtype=tipos, parse_dates=[\"created\"])"
   ]
  },
  {
   "cell_type": "markdown",
   "metadata": {},
   "source": [
    "---"
   ]
  },
  {
   "cell_type": "markdown",
   "metadata": {},
   "source": [
    "## Convierto los ref_tpyes a Android/iOS"
   ]
  },
  {
   "cell_type": "code",
   "execution_count": 4,
   "metadata": {},
   "outputs": [],
   "source": [
    "installs[\"os_es_android\"] = installs[\"ref_type\"].replace([1891515180541284343, 1494519392962156891], [1, 0]).astype(np.int8)\n",
    "# Elimino la columna ref_type\n",
    "del installs[\"ref_type\"]"
   ]
  },
  {
   "cell_type": "code",
   "execution_count": 5,
   "metadata": {},
   "outputs": [],
   "source": [
    "installs.to_pickle(\"../../../data/tp2/installs_tp2_formateado.pkl\")"
   ]
  }
 ],
 "metadata": {
  "kernelspec": {
   "display_name": "Python 3",
   "language": "python",
   "name": "python3"
  },
  "language_info": {
   "codemirror_mode": {
    "name": "ipython",
    "version": 3
   },
   "file_extension": ".py",
   "mimetype": "text/x-python",
   "name": "python",
   "nbconvert_exporter": "python",
   "pygments_lexer": "ipython3",
   "version": "3.6.5"
  }
 },
 "nbformat": 4,
 "nbformat_minor": 2
}
