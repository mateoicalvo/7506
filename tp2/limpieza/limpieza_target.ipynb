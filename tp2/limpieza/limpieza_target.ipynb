{
 "cells": [
  {
   "cell_type": "markdown",
   "metadata": {},
   "source": [
    "# Imports"
   ]
  },
  {
   "cell_type": "code",
   "execution_count": 1,
   "metadata": {},
   "outputs": [],
   "source": [
    "import pandas as pd\n",
    "import numpy as np"
   ]
  },
  {
   "cell_type": "markdown",
   "metadata": {},
   "source": [
    "---"
   ]
  },
  {
   "cell_type": "markdown",
   "metadata": {},
   "source": [
    "# Carga de datos"
   ]
  },
  {
   "cell_type": "code",
   "execution_count": 2,
   "metadata": {},
   "outputs": [],
   "source": [
    "target = pd.read_csv(\"../../data/tp2/target.csv\")"
   ]
  },
  {
   "cell_type": "markdown",
   "metadata": {},
   "source": [
    "---"
   ]
  },
  {
   "cell_type": "markdown",
   "metadata": {},
   "source": [
    "# Obtención de ref_hash_objetivo"
   ]
  },
  {
   "cell_type": "code",
   "execution_count": 3,
   "metadata": {},
   "outputs": [],
   "source": [
    "dispositivos = target.iloc[::2][\"ref_hash\"].apply(lambda x: np.int64(x[:-3])).to_frame()"
   ]
  },
  {
   "cell_type": "code",
   "execution_count": 25,
   "metadata": {},
   "outputs": [],
   "source": [
    "target_v1 = pd.read_pickle(\"../modelo/targets/targets_ventana_1_installs.pkl\").reset_index()[\"ref_hash\"]\n",
    "target_v2 = pd.read_pickle(\"../modelo/targets/targets_ventana_2_installs.pkl\").reset_index()[\"ref_hash\"]\n",
    "target_v3 = pd.read_pickle(\"../modelo/targets/targets_ventana_3_installs.pkl\").reset_index()[\"ref_hash\"]\n",
    "target_v4 = pd.read_pickle(\"../modelo/targets/targets_ventana_4_installs.pkl\").reset_index()[\"ref_hash\"]\n",
    "target_v5 = pd.read_pickle(\"../modelo/targets/targets_ventana_5_installs.pkl\").reset_index()[\"ref_hash\"]"
   ]
  },
  {
   "cell_type": "code",
   "execution_count": 32,
   "metadata": {},
   "outputs": [
    {
     "data": {
      "text/plain": [
       "False    2713\n",
       "True     1324\n",
       "Name: ref_hash, dtype: int64"
      ]
     },
     "execution_count": 32,
     "metadata": {},
     "output_type": "execute_result"
    }
   ],
   "source": [
    "dispositivos[\"ref_hash\"].isin(target_v1).value_counts()"
   ]
  }
 ],
 "metadata": {
  "kernelspec": {
   "display_name": "Python 3",
   "language": "python",
   "name": "python3"
  },
  "language_info": {
   "codemirror_mode": {
    "name": "ipython",
    "version": 3
   },
   "file_extension": ".py",
   "mimetype": "text/x-python",
   "name": "python",
   "nbconvert_exporter": "python",
   "pygments_lexer": "ipython3",
   "version": "3.6.5"
  }
 },
 "nbformat": 4,
 "nbformat_minor": 2
}
