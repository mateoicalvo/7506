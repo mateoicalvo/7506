{
 "cells": [
  {
   "cell_type": "markdown",
   "metadata": {},
   "source": [
    "# Imports"
   ]
  },
  {
   "cell_type": "code",
   "execution_count": 1,
   "metadata": {},
   "outputs": [],
   "source": [
    "import pandas as pd\n",
    "import numpy as np "
   ]
  },
  {
   "cell_type": "markdown",
   "metadata": {},
   "source": [
    "---"
   ]
  },
  {
   "cell_type": "markdown",
   "metadata": {},
   "source": [
    "# Events - Carga de datos"
   ]
  },
  {
   "cell_type": "code",
   "execution_count": 2,
   "metadata": {},
   "outputs": [
    {
     "name": "stderr",
     "output_type": "stream",
     "text": [
      "/opt/anaconda/3/lib/python3.6/site-packages/IPython/core/interactiveshell.py:2785: DtypeWarning: Columns (13,20) have mixed types. Specify dtype option on import or set low_memory=False.\n",
      "  interactivity=interactivity, compiler=compiler, result=result)\n"
     ]
    }
   ],
   "source": [
    "events = pd.read_csv(\"../../data/tp2/events.csv\")"
   ]
  },
  {
   "cell_type": "markdown",
   "metadata": {},
   "source": [
    "---"
   ]
  },
  {
   "cell_type": "markdown",
   "metadata": {},
   "source": [
    "## Inspección de columnas y tipos"
   ]
  },
  {
   "cell_type": "code",
   "execution_count": 3,
   "metadata": {},
   "outputs": [
    {
     "data": {
      "text/plain": [
       "index                   int64\n",
       "date                   object\n",
       "event_id                int64\n",
       "ref_type                int64\n",
       "ref_hash                int64\n",
       "application_id          int64\n",
       "attributed               bool\n",
       "device_countrycode      int64\n",
       "device_os_version     float64\n",
       "device_brand          float64\n",
       "device_model          float64\n",
       "device_city           float64\n",
       "session_user_agent    float64\n",
       "trans_id               object\n",
       "user_agent            float64\n",
       "event_uuid             object\n",
       "carrier               float64\n",
       "kind                  float64\n",
       "device_os             float64\n",
       "wifi                     bool\n",
       "connection_type        object\n",
       "ip_address              int64\n",
       "device_language       float64\n",
       "dtype: object"
      ]
     },
     "execution_count": 3,
     "metadata": {},
     "output_type": "execute_result"
    }
   ],
   "source": [
    "events.dtypes"
   ]
  },
  {
   "cell_type": "code",
   "execution_count": 5,
   "metadata": {},
   "outputs": [
    {
     "data": {
      "text/plain": [
       "7744581"
      ]
     },
     "execution_count": 5,
     "metadata": {},
     "output_type": "execute_result"
    }
   ],
   "source": [
    "len(events)"
   ]
  },
  {
   "cell_type": "code",
   "execution_count": 4,
   "metadata": {},
   "outputs": [
    {
     "data": {
      "text/plain": [
       "2829.647403717041"
      ]
     },
     "execution_count": 4,
     "metadata": {},
     "output_type": "execute_result"
    }
   ],
   "source": [
    "events.memory_usage(deep=True).sum() / (1024**2)"
   ]
  },
  {
   "cell_type": "code",
   "execution_count": 6,
   "metadata": {},
   "outputs": [],
   "source": [
    "exploracion = events.isna().any()\n",
    "exploracion = exploracion.to_frame()"
   ]
  },
  {
   "cell_type": "code",
   "execution_count": 7,
   "metadata": {},
   "outputs": [],
   "source": [
    "exploracion.columns = [\"tiene_nulos\"]"
   ]
  },
  {
   "cell_type": "code",
   "execution_count": 8,
   "metadata": {},
   "outputs": [],
   "source": [
    "exploracion[\"todos_nulos\"] = events.isna().all()"
   ]
  },
  {
   "cell_type": "code",
   "execution_count": 12,
   "metadata": {},
   "outputs": [],
   "source": [
    "exploracion[\"cantidad_nulos\"] = len(events) - events.count()"
   ]
  },
  {
   "cell_type": "code",
   "execution_count": 15,
   "metadata": {},
   "outputs": [],
   "source": [
    "exploracion[\"porcentaje_nulos\"] = exploracion[\"cantidad_nulos\"] / len(events)"
   ]
  },
  {
   "cell_type": "code",
   "execution_count": 21,
   "metadata": {},
   "outputs": [],
   "source": [
    "exploracion[\"porcentaje_nulos\"] = exploracion[\"porcentaje_nulos\"].map(lambda x: round(x*100, 2))"
   ]
  },
  {
   "cell_type": "code",
   "execution_count": 30,
   "metadata": {},
   "outputs": [],
   "source": [
    "exploracion[\"maximo\"] = events.max()"
   ]
  },
  {
   "cell_type": "code",
   "execution_count": 31,
   "metadata": {},
   "outputs": [],
   "source": [
    "exploracion[\"minimo\"] = events.min()"
   ]
  },
  {
   "cell_type": "code",
   "execution_count": 34,
   "metadata": {},
   "outputs": [],
   "source": [
    "exploracion[\"dtype\"] = events.dtypes"
   ]
  },
  {
   "cell_type": "code",
   "execution_count": 40,
   "metadata": {},
   "outputs": [],
   "source": [
    "exploracion[\"valores_unicos\"] = events.nunique()"
   ]
  },
  {
   "cell_type": "code",
   "execution_count": 44,
   "metadata": {},
   "outputs": [],
   "source": [
    "exploracion[\"porcentaje_valores_unicos\"] = (exploracion[\"valores_unicos\"] / len(events)) *100 \n",
    "exploracion[\"porcentaje_valores_unicos\"] = exploracion[\"porcentaje_valores_unicos\"].map(lambda x: round(x, 2))"
   ]
  },
  {
   "cell_type": "code",
   "execution_count": 55,
   "metadata": {},
   "outputs": [
    {
     "data": {
      "text/html": [
       "<div>\n",
       "<style scoped>\n",
       "    .dataframe tbody tr th:only-of-type {\n",
       "        vertical-align: middle;\n",
       "    }\n",
       "\n",
       "    .dataframe tbody tr th {\n",
       "        vertical-align: top;\n",
       "    }\n",
       "\n",
       "    .dataframe thead th {\n",
       "        text-align: right;\n",
       "    }\n",
       "</style>\n",
       "<table border=\"1\" class=\"dataframe\">\n",
       "  <thead>\n",
       "    <tr style=\"text-align: right;\">\n",
       "      <th></th>\n",
       "      <th>tiene_nulos</th>\n",
       "      <th>todos_nulos</th>\n",
       "      <th>cantidad_nulos</th>\n",
       "      <th>porcentaje_nulos</th>\n",
       "      <th>maximo</th>\n",
       "      <th>minimo</th>\n",
       "      <th>dtype</th>\n",
       "      <th>valores_unicos</th>\n",
       "      <th>porcentaje_valores_unicos</th>\n",
       "    </tr>\n",
       "  </thead>\n",
       "  <tbody>\n",
       "    <tr>\n",
       "      <th>index</th>\n",
       "      <td>False</td>\n",
       "      <td>False</td>\n",
       "      <td>0</td>\n",
       "      <td>0.00</td>\n",
       "      <td>2619098</td>\n",
       "      <td>0</td>\n",
       "      <td>int64</td>\n",
       "      <td>1567735</td>\n",
       "      <td>20.24</td>\n",
       "    </tr>\n",
       "    <tr>\n",
       "      <th>date</th>\n",
       "      <td>False</td>\n",
       "      <td>False</td>\n",
       "      <td>0</td>\n",
       "      <td>0.00</td>\n",
       "      <td>2019-04-26 23:59:59.881</td>\n",
       "      <td>2019-04-18 00:00:00.027</td>\n",
       "      <td>object</td>\n",
       "      <td>7693028</td>\n",
       "      <td>99.33</td>\n",
       "    </tr>\n",
       "    <tr>\n",
       "      <th>event_id</th>\n",
       "      <td>False</td>\n",
       "      <td>False</td>\n",
       "      <td>0</td>\n",
       "      <td>0.00</td>\n",
       "      <td>576</td>\n",
       "      <td>0</td>\n",
       "      <td>int64</td>\n",
       "      <td>516</td>\n",
       "      <td>0.01</td>\n",
       "    </tr>\n",
       "    <tr>\n",
       "      <th>ref_type</th>\n",
       "      <td>False</td>\n",
       "      <td>False</td>\n",
       "      <td>0</td>\n",
       "      <td>0.00</td>\n",
       "      <td>1891515180541284343</td>\n",
       "      <td>1494519392962156891</td>\n",
       "      <td>int64</td>\n",
       "      <td>2</td>\n",
       "      <td>0.00</td>\n",
       "    </tr>\n",
       "    <tr>\n",
       "      <th>ref_hash</th>\n",
       "      <td>False</td>\n",
       "      <td>False</td>\n",
       "      <td>0</td>\n",
       "      <td>0.00</td>\n",
       "      <td>9223365873867066370</td>\n",
       "      <td>40621409780134</td>\n",
       "      <td>int64</td>\n",
       "      <td>362619</td>\n",
       "      <td>4.68</td>\n",
       "    </tr>\n",
       "    <tr>\n",
       "      <th>application_id</th>\n",
       "      <td>False</td>\n",
       "      <td>False</td>\n",
       "      <td>0</td>\n",
       "      <td>0.00</td>\n",
       "      <td>370</td>\n",
       "      <td>1</td>\n",
       "      <td>int64</td>\n",
       "      <td>250</td>\n",
       "      <td>0.00</td>\n",
       "    </tr>\n",
       "    <tr>\n",
       "      <th>attributed</th>\n",
       "      <td>False</td>\n",
       "      <td>False</td>\n",
       "      <td>0</td>\n",
       "      <td>0.00</td>\n",
       "      <td>True</td>\n",
       "      <td>False</td>\n",
       "      <td>bool</td>\n",
       "      <td>2</td>\n",
       "      <td>0.00</td>\n",
       "    </tr>\n",
       "    <tr>\n",
       "      <th>device_countrycode</th>\n",
       "      <td>False</td>\n",
       "      <td>False</td>\n",
       "      <td>0</td>\n",
       "      <td>0.00</td>\n",
       "      <td>6287817205707153877</td>\n",
       "      <td>6287817205707153877</td>\n",
       "      <td>int64</td>\n",
       "      <td>1</td>\n",
       "      <td>0.00</td>\n",
       "    </tr>\n",
       "    <tr>\n",
       "      <th>device_os_version</th>\n",
       "      <td>True</td>\n",
       "      <td>False</td>\n",
       "      <td>5411606</td>\n",
       "      <td>69.88</td>\n",
       "      <td>9.13548e+18</td>\n",
       "      <td>1.00408e+16</td>\n",
       "      <td>float64</td>\n",
       "      <td>96</td>\n",
       "      <td>0.00</td>\n",
       "    </tr>\n",
       "    <tr>\n",
       "      <th>device_brand</th>\n",
       "      <td>True</td>\n",
       "      <td>False</td>\n",
       "      <td>5191157</td>\n",
       "      <td>67.03</td>\n",
       "      <td>9.22151e+18</td>\n",
       "      <td>4.35915e+15</td>\n",
       "      <td>float64</td>\n",
       "      <td>506</td>\n",
       "      <td>0.01</td>\n",
       "    </tr>\n",
       "    <tr>\n",
       "      <th>device_model</th>\n",
       "      <td>True</td>\n",
       "      <td>False</td>\n",
       "      <td>2076489</td>\n",
       "      <td>26.81</td>\n",
       "      <td>9.22336e+18</td>\n",
       "      <td>7.96735e+14</td>\n",
       "      <td>float64</td>\n",
       "      <td>4720</td>\n",
       "      <td>0.06</td>\n",
       "    </tr>\n",
       "    <tr>\n",
       "      <th>device_city</th>\n",
       "      <td>True</td>\n",
       "      <td>False</td>\n",
       "      <td>5849646</td>\n",
       "      <td>75.53</td>\n",
       "      <td>9.22137e+18</td>\n",
       "      <td>6.48007e+15</td>\n",
       "      <td>float64</td>\n",
       "      <td>753</td>\n",
       "      <td>0.01</td>\n",
       "    </tr>\n",
       "    <tr>\n",
       "      <th>session_user_agent</th>\n",
       "      <td>True</td>\n",
       "      <td>False</td>\n",
       "      <td>42280</td>\n",
       "      <td>0.55</td>\n",
       "      <td>9.22142e+18</td>\n",
       "      <td>2.59722e+15</td>\n",
       "      <td>float64</td>\n",
       "      <td>2297</td>\n",
       "      <td>0.03</td>\n",
       "    </tr>\n",
       "    <tr>\n",
       "      <th>trans_id</th>\n",
       "      <td>True</td>\n",
       "      <td>False</td>\n",
       "      <td>7706939</td>\n",
       "      <td>99.51</td>\n",
       "      <td>NaN</td>\n",
       "      <td>NaN</td>\n",
       "      <td>object</td>\n",
       "      <td>11042</td>\n",
       "      <td>0.14</td>\n",
       "    </tr>\n",
       "    <tr>\n",
       "      <th>user_agent</th>\n",
       "      <td>True</td>\n",
       "      <td>False</td>\n",
       "      <td>4403098</td>\n",
       "      <td>56.85</td>\n",
       "      <td>9.22276e+18</td>\n",
       "      <td>5.04638e+14</td>\n",
       "      <td>float64</td>\n",
       "      <td>14645</td>\n",
       "      <td>0.19</td>\n",
       "    </tr>\n",
       "    <tr>\n",
       "      <th>event_uuid</th>\n",
       "      <td>True</td>\n",
       "      <td>False</td>\n",
       "      <td>29772</td>\n",
       "      <td>0.38</td>\n",
       "      <td>NaN</td>\n",
       "      <td>NaN</td>\n",
       "      <td>object</td>\n",
       "      <td>7714809</td>\n",
       "      <td>99.62</td>\n",
       "    </tr>\n",
       "    <tr>\n",
       "      <th>carrier</th>\n",
       "      <td>True</td>\n",
       "      <td>False</td>\n",
       "      <td>5818680</td>\n",
       "      <td>75.13</td>\n",
       "      <td>9.22046e+18</td>\n",
       "      <td>2.35961e+16</td>\n",
       "      <td>float64</td>\n",
       "      <td>259</td>\n",
       "      <td>0.00</td>\n",
       "    </tr>\n",
       "    <tr>\n",
       "      <th>kind</th>\n",
       "      <td>True</td>\n",
       "      <td>False</td>\n",
       "      <td>29772</td>\n",
       "      <td>0.38</td>\n",
       "      <td>9.22002e+18</td>\n",
       "      <td>1.62153e+16</td>\n",
       "      <td>float64</td>\n",
       "      <td>513</td>\n",
       "      <td>0.01</td>\n",
       "    </tr>\n",
       "    <tr>\n",
       "      <th>device_os</th>\n",
       "      <td>True</td>\n",
       "      <td>False</td>\n",
       "      <td>5874391</td>\n",
       "      <td>75.85</td>\n",
       "      <td>7.53167e+18</td>\n",
       "      <td>6.94182e+18</td>\n",
       "      <td>float64</td>\n",
       "      <td>2</td>\n",
       "      <td>0.00</td>\n",
       "    </tr>\n",
       "    <tr>\n",
       "      <th>wifi</th>\n",
       "      <td>False</td>\n",
       "      <td>False</td>\n",
       "      <td>0</td>\n",
       "      <td>0.00</td>\n",
       "      <td>True</td>\n",
       "      <td>False</td>\n",
       "      <td>bool</td>\n",
       "      <td>2</td>\n",
       "      <td>0.00</td>\n",
       "    </tr>\n",
       "    <tr>\n",
       "      <th>connection_type</th>\n",
       "      <td>True</td>\n",
       "      <td>False</td>\n",
       "      <td>5935285</td>\n",
       "      <td>76.64</td>\n",
       "      <td>NaN</td>\n",
       "      <td>NaN</td>\n",
       "      <td>object</td>\n",
       "      <td>4</td>\n",
       "      <td>0.00</td>\n",
       "    </tr>\n",
       "    <tr>\n",
       "      <th>ip_address</th>\n",
       "      <td>False</td>\n",
       "      <td>False</td>\n",
       "      <td>0</td>\n",
       "      <td>0.00</td>\n",
       "      <td>9223349765218515215</td>\n",
       "      <td>33114277486038</td>\n",
       "      <td>int64</td>\n",
       "      <td>381784</td>\n",
       "      <td>4.93</td>\n",
       "    </tr>\n",
       "    <tr>\n",
       "      <th>device_language</th>\n",
       "      <td>True</td>\n",
       "      <td>False</td>\n",
       "      <td>2079172</td>\n",
       "      <td>26.85</td>\n",
       "      <td>9.21023e+18</td>\n",
       "      <td>6.64561e+16</td>\n",
       "      <td>float64</td>\n",
       "      <td>209</td>\n",
       "      <td>0.00</td>\n",
       "    </tr>\n",
       "  </tbody>\n",
       "</table>\n",
       "</div>"
      ],
      "text/plain": [
       "                    tiene_nulos  todos_nulos  cantidad_nulos  \\\n",
       "index                     False        False               0   \n",
       "date                      False        False               0   \n",
       "event_id                  False        False               0   \n",
       "ref_type                  False        False               0   \n",
       "ref_hash                  False        False               0   \n",
       "application_id            False        False               0   \n",
       "attributed                False        False               0   \n",
       "device_countrycode        False        False               0   \n",
       "device_os_version          True        False         5411606   \n",
       "device_brand               True        False         5191157   \n",
       "device_model               True        False         2076489   \n",
       "device_city                True        False         5849646   \n",
       "session_user_agent         True        False           42280   \n",
       "trans_id                   True        False         7706939   \n",
       "user_agent                 True        False         4403098   \n",
       "event_uuid                 True        False           29772   \n",
       "carrier                    True        False         5818680   \n",
       "kind                       True        False           29772   \n",
       "device_os                  True        False         5874391   \n",
       "wifi                      False        False               0   \n",
       "connection_type            True        False         5935285   \n",
       "ip_address                False        False               0   \n",
       "device_language            True        False         2079172   \n",
       "\n",
       "                    porcentaje_nulos                   maximo  \\\n",
       "index                           0.00                  2619098   \n",
       "date                            0.00  2019-04-26 23:59:59.881   \n",
       "event_id                        0.00                      576   \n",
       "ref_type                        0.00      1891515180541284343   \n",
       "ref_hash                        0.00      9223365873867066370   \n",
       "application_id                  0.00                      370   \n",
       "attributed                      0.00                     True   \n",
       "device_countrycode              0.00      6287817205707153877   \n",
       "device_os_version              69.88              9.13548e+18   \n",
       "device_brand                   67.03              9.22151e+18   \n",
       "device_model                   26.81              9.22336e+18   \n",
       "device_city                    75.53              9.22137e+18   \n",
       "session_user_agent              0.55              9.22142e+18   \n",
       "trans_id                       99.51                      NaN   \n",
       "user_agent                     56.85              9.22276e+18   \n",
       "event_uuid                      0.38                      NaN   \n",
       "carrier                        75.13              9.22046e+18   \n",
       "kind                            0.38              9.22002e+18   \n",
       "device_os                      75.85              7.53167e+18   \n",
       "wifi                            0.00                     True   \n",
       "connection_type                76.64                      NaN   \n",
       "ip_address                      0.00      9223349765218515215   \n",
       "device_language                26.85              9.21023e+18   \n",
       "\n",
       "                                     minimo    dtype  valores_unicos  \\\n",
       "index                                     0    int64         1567735   \n",
       "date                2019-04-18 00:00:00.027   object         7693028   \n",
       "event_id                                  0    int64             516   \n",
       "ref_type                1494519392962156891    int64               2   \n",
       "ref_hash                     40621409780134    int64          362619   \n",
       "application_id                            1    int64             250   \n",
       "attributed                            False     bool               2   \n",
       "device_countrycode      6287817205707153877    int64               1   \n",
       "device_os_version               1.00408e+16  float64              96   \n",
       "device_brand                    4.35915e+15  float64             506   \n",
       "device_model                    7.96735e+14  float64            4720   \n",
       "device_city                     6.48007e+15  float64             753   \n",
       "session_user_agent              2.59722e+15  float64            2297   \n",
       "trans_id                                NaN   object           11042   \n",
       "user_agent                      5.04638e+14  float64           14645   \n",
       "event_uuid                              NaN   object         7714809   \n",
       "carrier                         2.35961e+16  float64             259   \n",
       "kind                            1.62153e+16  float64             513   \n",
       "device_os                       6.94182e+18  float64               2   \n",
       "wifi                                  False     bool               2   \n",
       "connection_type                         NaN   object               4   \n",
       "ip_address                   33114277486038    int64          381784   \n",
       "device_language                 6.64561e+16  float64             209   \n",
       "\n",
       "                    porcentaje_valores_unicos  \n",
       "index                                   20.24  \n",
       "date                                    99.33  \n",
       "event_id                                 0.01  \n",
       "ref_type                                 0.00  \n",
       "ref_hash                                 4.68  \n",
       "application_id                           0.00  \n",
       "attributed                               0.00  \n",
       "device_countrycode                       0.00  \n",
       "device_os_version                        0.00  \n",
       "device_brand                             0.01  \n",
       "device_model                             0.06  \n",
       "device_city                              0.01  \n",
       "session_user_agent                       0.03  \n",
       "trans_id                                 0.14  \n",
       "user_agent                               0.19  \n",
       "event_uuid                              99.62  \n",
       "carrier                                  0.00  \n",
       "kind                                     0.01  \n",
       "device_os                                0.00  \n",
       "wifi                                     0.00  \n",
       "connection_type                          0.00  \n",
       "ip_address                               4.93  \n",
       "device_language                          0.00  "
      ]
     },
     "execution_count": 55,
     "metadata": {},
     "output_type": "execute_result"
    }
   ],
   "source": [
    "exploracion"
   ]
  },
  {
   "cell_type": "markdown",
   "metadata": {},
   "source": [
    "***"
   ]
  },
  {
   "cell_type": "markdown",
   "metadata": {},
   "source": [
    "## Conclusiones para events:\n",
    "- __index__: cargar como int32. No hay nulos ni anómalos.\n",
    "- __date__: cargar como datetime64. No hay nulos ni anómalos.\n",
    "- __event_id__: cargar como int16, no hay valores nulos.\n",
    "- __ref_type__: No tiene nulos y hay solo dos valores posibles. Debería convertirse el más frecuente a google y el otro a apple.\n",
    "- __ref_hash__: cargar como int64, no hay valores nulos.\n",
    "- __application_id__: cargar como int16, no hay valores nulos.\n",
    "- __attributed__: cargar como bool, no hay valores nulos.\n",
    "- __device_countrycode__: No cargar. Es todo uruguay y no hay nulos.\n",
    "- __device_os_version__: Tiene el 70% de valores nulos, hay que ver qué tan significativa resulta. Si no aparece en otros datasets, se podría recodificar ya que hay solo 96 valores únicos.\n",
    "- __device_brand__: idem __device_os_version__.\n",
    "- __device_model__: idem __device_os_version__.\n",
    "- __device_city__: 75% de nulos, habría que ver cuánto influye. si no está en otros datasets podría recodificarse para que no ocupe tanto.\n",
    "- __session_user_agent__: Casi no hay valores nulos. No se podría tocar ya que se comparte con installs.\n",
    "- __device_countrycode__: No cargar. Es todo uruguay y no hay nulos.\n",
    "- __event_uuid__: Podría no cargarse, ya que el 99,62% de los valores son diferentes y además actúa como un índice.\n",
    "- __carrier__: 75,13% de nulos, habría que ver si aporta. Parece raro que haya 259 carriers diferentes.\n",
    "- __kind__: Casi no tiene nulos. Hay 513 tipos de evento diferentes.\n",
    "- __wifi__: Cargarla como bool, no tiene nulos.\n",
    "- __connection_type__: Tiene 4 valores posibles y 76% son nulos. Habría que ver si aporta.\n",
    "- __ip_address__: No hay valores nulos, cargarla como int64 o reconvertir ha que hay 381.000 valores diferentes.\n",
    "- __device_language__: Ver si aporta, tiene 209 valores posibles. Parece un número exagerado.\n"
   ]
  },
  {
   "cell_type": "markdown",
   "metadata": {},
   "source": [
    "---"
   ]
  }
 ],
 "metadata": {
  "kernelspec": {
   "display_name": "Python 3",
   "language": "python",
   "name": "python3"
  },
  "language_info": {
   "codemirror_mode": {
    "name": "ipython",
    "version": 3
   },
   "file_extension": ".py",
   "mimetype": "text/x-python",
   "name": "python",
   "nbconvert_exporter": "python",
   "pygments_lexer": "ipython3",
   "version": "3.6.5"
  }
 },
 "nbformat": 4,
 "nbformat_minor": 2
}
