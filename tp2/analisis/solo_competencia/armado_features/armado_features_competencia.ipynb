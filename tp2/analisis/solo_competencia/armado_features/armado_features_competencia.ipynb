{
 "cells": [
  {
   "cell_type": "code",
   "execution_count": 1,
   "metadata": {},
   "outputs": [],
   "source": [
    "import pandas as pd\n",
    "import numpy as np"
   ]
  },
  {
   "cell_type": "code",
   "execution_count": 2,
   "metadata": {},
   "outputs": [],
   "source": [
    "targets = pd.read_csv(\"../../../../data/tp2/target_competencia_ids.csv\")"
   ]
  },
  {
   "cell_type": "code",
   "execution_count": 3,
   "metadata": {},
   "outputs": [],
   "source": [
    "targets[\"ref_hash\"] = targets[\"ref_hash\"].map(lambda x: x[:-3])"
   ]
  },
  {
   "cell_type": "code",
   "execution_count": 4,
   "metadata": {},
   "outputs": [],
   "source": [
    "targets[\"ref_hash\"] = targets[\"ref_hash\"].astype(\"int64\")"
   ]
  },
  {
   "cell_type": "markdown",
   "metadata": {},
   "source": [
    "---"
   ]
  },
  {
   "cell_type": "markdown",
   "metadata": {},
   "source": [
    "# Features Auctions"
   ]
  },
  {
   "cell_type": "markdown",
   "metadata": {},
   "source": [
    "### Features auctions"
   ]
  },
  {
   "cell_type": "code",
   "execution_count": 5,
   "metadata": {},
   "outputs": [],
   "source": [
    "auctions = pd.read_pickle(\"../../../../data/tp2/auctions_tp2_formateado.pkl\")\n"
   ]
  },
  {
   "cell_type": "markdown",
   "metadata": {},
   "source": [
    "### Me quedo con datos del 24 en adelante"
   ]
  },
  {
   "cell_type": "code",
   "execution_count": 8,
   "metadata": {},
   "outputs": [],
   "source": [
    "fecha_inicio = \"2019-04-24\""
   ]
  },
  {
   "cell_type": "code",
   "execution_count": 9,
   "metadata": {},
   "outputs": [],
   "source": [
    "fecha_fin = \"2019-04-27\""
   ]
  },
  {
   "cell_type": "code",
   "execution_count": 10,
   "metadata": {},
   "outputs": [],
   "source": [
    "auctions = auctions[auctions[\"date\"] > fecha_inicio]"
   ]
  },
  {
   "cell_type": "code",
   "execution_count": 11,
   "metadata": {},
   "outputs": [],
   "source": [
    "auctions.sort_values(by = \"date\",inplace = True)"
   ]
  },
  {
   "cell_type": "code",
   "execution_count": 12,
   "metadata": {},
   "outputs": [],
   "source": [
    "targets_individuales = targets[\"ref_hash\"].drop_duplicates().to_frame()\\\n",
    "                        .rename(columns = {\"ref_hash\":\"device_id\"})\\\n",
    "                        .set_index(\"device_id\")"
   ]
  },
  {
   "cell_type": "markdown",
   "metadata": {},
   "source": [
    "### Cantidad de apariciones discriminando períodos"
   ]
  },
  {
   "cell_type": "code",
   "execution_count": 10,
   "metadata": {},
   "outputs": [],
   "source": [
    "# Creo columnas para luego separar\n",
    "auctions['hora'] = auctions['date'].dt.hour\n",
    "auctions['dia'] = auctions['date'].dt.day"
   ]
  },
  {
   "cell_type": "markdown",
   "metadata": {},
   "source": [
    "---"
   ]
  },
  {
   "cell_type": "markdown",
   "metadata": {},
   "source": [
    "#### Por hora"
   ]
  },
  {
   "cell_type": "code",
   "execution_count": 11,
   "metadata": {},
   "outputs": [],
   "source": [
    "feature = auctions.groupby([\"device_id\", \"hora\"]).agg(({\"date\" : \"count\"}))\n",
    "feature = feature.unstack().fillna(0).astype(np.int64)\n",
    "feature.columns = [\"apariciones_en_hora_{}\".format(hora) for hora in range(0,24)]"
   ]
  },
  {
   "cell_type": "code",
   "execution_count": 12,
   "metadata": {},
   "outputs": [],
   "source": [
    "targets_individuales = targets_individuales.merge(feature, how = 'left', right_index = True, left_index = True)"
   ]
  },
  {
   "cell_type": "code",
   "execution_count": 13,
   "metadata": {},
   "outputs": [
    {
     "data": {
      "text/plain": [
       "686"
      ]
     },
     "execution_count": 13,
     "metadata": {},
     "output_type": "execute_result"
    }
   ],
   "source": [
    "targets_individuales.isnull().sum().max()"
   ]
  },
  {
   "cell_type": "markdown",
   "metadata": {},
   "source": [
    "##### Hay 686 dispositivos sin datos de auctions"
   ]
  },
  {
   "cell_type": "markdown",
   "metadata": {},
   "source": [
    "---"
   ]
  },
  {
   "cell_type": "markdown",
   "metadata": {},
   "source": [
    "#### Por dia"
   ]
  },
  {
   "cell_type": "code",
   "execution_count": 14,
   "metadata": {},
   "outputs": [],
   "source": [
    "feature = auctions.groupby([\"device_id\", \"dia\"]).agg(({\"date\" : \"count\"}))\n",
    "feature = feature.unstack().fillna(0).astype(np.int64)\n",
    "feature.columns = [\"apariciones_en_dia_{}\".format(dia) for dia in range(1,4)]\n"
   ]
  },
  {
   "cell_type": "code",
   "execution_count": 15,
   "metadata": {},
   "outputs": [],
   "source": [
    "targets_individuales = targets_individuales.merge(feature, how = 'left', right_index = True, left_index = True)"
   ]
  },
  {
   "cell_type": "markdown",
   "metadata": {},
   "source": [
    "---"
   ]
  },
  {
   "cell_type": "markdown",
   "metadata": {},
   "source": [
    "### Sistema operativo (Android / iOS)"
   ]
  },
  {
   "cell_type": "markdown",
   "metadata": {},
   "source": [
    "#### Cantidad de so"
   ]
  },
  {
   "cell_type": "code",
   "execution_count": 16,
   "metadata": {},
   "outputs": [],
   "source": [
    "feature=  auctions.groupby(\"device_id\").agg({\"ref_type_id\" : \"nunique\"}).rename(columns={\"ref_type_id\": \"cantidad_so_registrados\"})"
   ]
  },
  {
   "cell_type": "code",
   "execution_count": 17,
   "metadata": {},
   "outputs": [],
   "source": [
    "targets_individuales = targets_individuales.merge(feature, how = 'left', right_index = True, left_index = True)"
   ]
  },
  {
   "cell_type": "markdown",
   "metadata": {},
   "source": [
    "#### Media so"
   ]
  },
  {
   "cell_type": "code",
   "execution_count": 18,
   "metadata": {},
   "outputs": [],
   "source": [
    "feature = auctions.groupby(\"device_id\").agg({\"ref_type_id\" : \"mean\"}).rename(columns={\"ref_type_id\": \"so_media\"})"
   ]
  },
  {
   "cell_type": "code",
   "execution_count": 19,
   "metadata": {},
   "outputs": [],
   "source": [
    "targets_individuales = targets_individuales.merge(feature, how = 'left', right_index = True, left_index = True)"
   ]
  },
  {
   "cell_type": "markdown",
   "metadata": {},
   "source": [
    "---"
   ]
  },
  {
   "cell_type": "markdown",
   "metadata": {},
   "source": [
    "### Tiempo medio entre apariciones"
   ]
  },
  {
   "cell_type": "code",
   "execution_count": 20,
   "metadata": {},
   "outputs": [],
   "source": [
    "gb = auctions.groupby(\"device_id\")\n",
    "ps = {}\n",
    "for t, g in gb:\n",
    "    ps[t] = g[\"date\"].sub(g[\"date\"].shift()).mean()\n",
    "feature = pd.Series(ps).dt.total_seconds().fillna(0).to_frame().rename(columns={0: \"tiempo_medio_entre_apariciones\"})"
   ]
  },
  {
   "cell_type": "code",
   "execution_count": 21,
   "metadata": {},
   "outputs": [],
   "source": [
    "targets_individuales = targets_individuales.merge(feature, how = 'left', right_index = True, left_index = True)"
   ]
  },
  {
   "cell_type": "markdown",
   "metadata": {},
   "source": [
    "---"
   ]
  },
  {
   "cell_type": "markdown",
   "metadata": {},
   "source": [
    "### Tiempo máximo entre apariciones"
   ]
  },
  {
   "cell_type": "code",
   "execution_count": 22,
   "metadata": {},
   "outputs": [],
   "source": [
    "gb = auctions.groupby(\"device_id\")\n",
    "ps = {}\n",
    "for t, g in gb:\n",
    "    ps[t] = g[\"date\"].sub(g[\"date\"].shift()).max()\n",
    "feature = pd.Series(ps).dt.total_seconds().fillna(0).to_frame().rename(columns={0: \"tiempo_maximo_entre_apariciones\"})"
   ]
  },
  {
   "cell_type": "code",
   "execution_count": 23,
   "metadata": {},
   "outputs": [],
   "source": [
    "targets_individuales = targets_individuales.merge(feature, how = 'left', right_index = True, left_index = True)"
   ]
  },
  {
   "cell_type": "markdown",
   "metadata": {},
   "source": [
    "---"
   ]
  },
  {
   "cell_type": "markdown",
   "metadata": {},
   "source": [
    "### Desvío entre apariciones"
   ]
  },
  {
   "cell_type": "code",
   "execution_count": 24,
   "metadata": {},
   "outputs": [],
   "source": [
    "gb = auctions.groupby(\"device_id\")\n",
    "ps = {}\n",
    "for t, g in gb:\n",
    "    ps[t] = g[\"date\"].sub(g[\"date\"].shift()).std()\n",
    "feature=  pd.Series(ps).dt.total_seconds().fillna(0).to_frame().rename(columns={0: \"desvio_entre_apariciones\"})"
   ]
  },
  {
   "cell_type": "code",
   "execution_count": 25,
   "metadata": {},
   "outputs": [],
   "source": [
    "targets_individuales = targets_individuales.merge(feature, how = 'left', right_index = True, left_index = True)"
   ]
  },
  {
   "cell_type": "markdown",
   "metadata": {},
   "source": [
    "---"
   ]
  },
  {
   "cell_type": "markdown",
   "metadata": {},
   "source": [
    "### Cantidad de apariciones por fuente"
   ]
  },
  {
   "cell_type": "code",
   "execution_count": 26,
   "metadata": {},
   "outputs": [],
   "source": [
    "feature = auctions.groupby([\"device_id\", \"source_id\"])[\"date\"].agg(\"count\").to_frame().unstack()\n",
    "feature.columns = [\"apariciones_en_source_{}\".format(x) for x in range(10)]\n",
    "feature = feature.fillna(0).astype(np.int64)"
   ]
  },
  {
   "cell_type": "code",
   "execution_count": 27,
   "metadata": {},
   "outputs": [],
   "source": [
    "targets_individuales = targets_individuales.merge(feature, how = 'left', right_index = True, left_index = True)"
   ]
  },
  {
   "cell_type": "markdown",
   "metadata": {},
   "source": [
    "---"
   ]
  },
  {
   "cell_type": "markdown",
   "metadata": {},
   "source": [
    "### Tiempo desde la última aparición hasta el fin de la ventana"
   ]
  },
  {
   "cell_type": "code",
   "execution_count": 28,
   "metadata": {},
   "outputs": [],
   "source": [
    "tiempo_final = \"2019-04-27\""
   ]
  },
  {
   "cell_type": "code",
   "execution_count": 29,
   "metadata": {},
   "outputs": [],
   "source": [
    "feature =(np.datetime64(tiempo_final) - auctions.groupby(\"device_id\")\\\n",
    "          .agg({\"date\" : \"max\"})[\"date\"]).dt.total_seconds().to_frame()\\\n",
    "        .rename(columns={\"date\": \"tiempo_ultima_aparicion_hasta_fin_ventana\"})"
   ]
  },
  {
   "cell_type": "code",
   "execution_count": 30,
   "metadata": {},
   "outputs": [],
   "source": [
    "targets_individuales = targets_individuales.merge(feature, how = 'left', right_index = True, left_index = True)"
   ]
  },
  {
   "cell_type": "markdown",
   "metadata": {},
   "source": [
    "---"
   ]
  },
  {
   "cell_type": "markdown",
   "metadata": {},
   "source": [
    "### Tiempo desde t0 hasta horas más frecuentes"
   ]
  },
  {
   "cell_type": "markdown",
   "metadata": {},
   "source": [
    "#### Funciones para evitar codigo repetido"
   ]
  },
  {
   "cell_type": "code",
   "execution_count": 31,
   "metadata": {},
   "outputs": [],
   "source": [
    "def obtener_horas_aparicion_maxima(dataframe):\n",
    "    \"\"\"Devuelve un dataframe con la pinta {'device_id','hora','date'} donde cada dispositivo\n",
    "    contiene todas las horas donde su aparición en subastas sea igual a la maxima \"\"\"\n",
    "    \n",
    "    feature = dataframe.groupby([\"device_id\",\"hora\"]).agg({\"date\":\"count\"})\n",
    "    idx = feature.groupby([\"device_id\"])[\"date\"].transform(max) == feature[\"date\"]\n",
    "    feature = feature[idx]\n",
    "    feature.reset_index(inplace = True)\n",
    "    return feature"
   ]
  },
  {
   "cell_type": "code",
   "execution_count": 32,
   "metadata": {},
   "outputs": [],
   "source": [
    "def obtener_tiempo_hasta_hora_minima(feature):\n",
    "    \"\"\"Recibe un dataframe feature con horas de aparicion máxima y devuelve el\n",
    "    tiempo hasta la hora minima para cada dispositivo\"\"\"\n",
    "    segundos_en_hora = 60*60\n",
    "\n",
    "    feature = feature.reset_index().groupby(\"device_id\").agg({\"hora\":\"min\"})\n",
    "    feature[\"hora\"] = feature[\"hora\"] * segundos_en_hora\n",
    "    return feature\n",
    "    "
   ]
  },
  {
   "cell_type": "markdown",
   "metadata": {},
   "source": [
    "---"
   ]
  },
  {
   "cell_type": "markdown",
   "metadata": {},
   "source": [
    "### Tiempo desde t0 hasta hora más frecuente de aparicion"
   ]
  },
  {
   "cell_type": "markdown",
   "metadata": {},
   "source": [
    "#### Frente a empate entre horas me quedaré con la minima (la mas cercana a t0)"
   ]
  },
  {
   "cell_type": "code",
   "execution_count": 33,
   "metadata": {},
   "outputs": [],
   "source": [
    "auctions[\"hora\"] = auctions[\"date\"].dt.hour\n"
   ]
  },
  {
   "cell_type": "markdown",
   "metadata": {},
   "source": [
    "#### Tiempo hasta hora minima"
   ]
  },
  {
   "cell_type": "code",
   "execution_count": 34,
   "metadata": {},
   "outputs": [],
   "source": [
    "segundos_en_hora = 60*60\n",
    "    \n",
    "feature = obtener_horas_aparicion_maxima(auctions)\n",
    "    \n",
    "    #Obtengo hora más cerca de t0 = 00 hs\n",
    "feature = obtener_tiempo_hasta_hora_minima(feature)\n",
    "feature.rename(columns = {\"hora\":\"tiempo_hora_frec_aparicion_subasta\"},inplace = True)\n",
    "    \n"
   ]
  },
  {
   "cell_type": "code",
   "execution_count": 35,
   "metadata": {},
   "outputs": [],
   "source": [
    "targets_individuales = targets_individuales.merge(feature, how = 'left', right_index = True, left_index = True)"
   ]
  },
  {
   "cell_type": "markdown",
   "metadata": {},
   "source": [
    "---"
   ]
  },
  {
   "cell_type": "markdown",
   "metadata": {},
   "source": [
    "### Tiempo desde t0 hasta la segunda hora más frecuente de aparición"
   ]
  },
  {
   "cell_type": "code",
   "execution_count": 36,
   "metadata": {},
   "outputs": [],
   "source": [
    "feature = auctions.groupby([\"device_id\",\"hora\"]).agg({\"date\":\"count\"})\n",
    "feature.reset_index(inplace = True)\n",
    "    \n",
    "    \n",
    "apariciones_maximas = obtener_horas_aparicion_maxima(auctions)\n",
    "apariciones_maximas.reset_index(inplace = True)\n",
    "\n",
    "    \n",
    "    \n",
    "#Obtengo los indices de las horas minimas de aparicion maxima para cada dispositivo\n",
    "horas_minimas = apariciones_maximas.groupby(\"device_id\")[\"hora\"].transform(min) == apariciones_maximas[\"hora\"]\n",
    "\n",
    "apariciones_maximas = apariciones_maximas[horas_minimas]\n",
    "\n",
    "    \n",
    "#Me quedo con los datos que no esten entre las horas minimas de aparicion maxima\n",
    "horas_no_minimas = ~( (feature.isin(apariciones_maximas)))\n",
    "#Todas las columnas deben ser True\n",
    "horas_no_minimas = horas_no_minimas.all(1)\n",
    "    \n",
    "        \n",
    "#Me quedo con los datos para completar aquellos dispositivos que solo contienen datos de una sola hora\n",
    "datos_restantes = feature[ ~(horas_no_minimas)]\n",
    "\n",
    "    \n",
    "#Me quedo con los datos que excluyena las horas minimas \n",
    "feature = feature[horas_no_minimas]\n",
    "    \n",
    "#obtengo las apariciones maximas dentro de los valores restantes \n",
    "feature = obtener_horas_aparicion_maxima(feature)\n",
    "    \n",
    "#obtengo las horas minimas dentro de los valores restantes( segundas horas minimas)\n",
    "feature = obtener_tiempo_hasta_hora_minima(feature)\n",
    "        \n",
    "#Me quedo con los datos que contienen solo una hora \n",
    "apariciones_unicas = ~( (datos_restantes[\"device_id\"].isin(feature.index)))\n",
    "    \n",
    "datos_restantes = datos_restantes[apariciones_unicas]\n",
    "  \n",
    "datos_restantes = obtener_tiempo_hasta_hora_minima(datos_restantes)\n",
    "     \n",
    "feature = feature.append(datos_restantes)\n",
    "    \n",
    "feature.rename(columns = {\"hora\":\"tiempo_segunda_hora_frec_aparicion\"},inplace = True)\n"
   ]
  },
  {
   "cell_type": "code",
   "execution_count": 37,
   "metadata": {},
   "outputs": [],
   "source": [
    "targets_individuales = targets_individuales.merge(feature, how = 'left', right_index = True, left_index = True)"
   ]
  },
  {
   "cell_type": "markdown",
   "metadata": {},
   "source": [
    "---"
   ]
  },
  {
   "cell_type": "markdown",
   "metadata": {},
   "source": [
    "### Guardo features"
   ]
  },
  {
   "cell_type": "code",
   "execution_count": null,
   "metadata": {},
   "outputs": [],
   "source": [
    "features_auctions = targets_individuales"
   ]
  },
  {
   "cell_type": "code",
   "execution_count": 45,
   "metadata": {},
   "outputs": [],
   "source": [
    "features_auctions.to_pickle(\"features_auctions_competencia\")"
   ]
  },
  {
   "cell_type": "markdown",
   "metadata": {},
   "source": [
    "---"
   ]
  },
  {
   "cell_type": "markdown",
   "metadata": {},
   "source": [
    "# Features Events"
   ]
  },
  {
   "cell_type": "code",
   "execution_count": 5,
   "metadata": {},
   "outputs": [],
   "source": [
    "fecha_inicio = \"2019-04-24\""
   ]
  },
  {
   "cell_type": "code",
   "execution_count": 6,
   "metadata": {},
   "outputs": [],
   "source": [
    "feacha_fin = \"2019-04-27\""
   ]
  },
  {
   "cell_type": "code",
   "execution_count": 7,
   "metadata": {},
   "outputs": [],
   "source": [
    "events = pd.read_pickle(\"../../../../data/tp2/events_tp2_formateado.pkl\")"
   ]
  },
  {
   "cell_type": "code",
   "execution_count": 8,
   "metadata": {},
   "outputs": [],
   "source": [
    "events = events[events[\"date\"] > fecha_inicio]"
   ]
  },
  {
   "cell_type": "code",
   "execution_count": 9,
   "metadata": {},
   "outputs": [],
   "source": [
    "events[\"dayofweek\"] = (events[\"date\"].dt.dayofweek).astype(\"int8\")"
   ]
  },
  {
   "cell_type": "code",
   "execution_count": 10,
   "metadata": {},
   "outputs": [],
   "source": [
    "targets_individuales = targets[\"ref_hash\"].drop_duplicates().to_frame()\\\n",
    "                        .rename(columns = {\"ref_hash\":\"device_id\"})\\\n",
    "                        .set_index(\"device_id\")"
   ]
  },
  {
   "cell_type": "markdown",
   "metadata": {},
   "source": [
    "---"
   ]
  },
  {
   "cell_type": "markdown",
   "metadata": {},
   "source": [
    "## Creación de features"
   ]
  },
  {
   "cell_type": "markdown",
   "metadata": {},
   "source": [
    "---"
   ]
  },
  {
   "cell_type": "markdown",
   "metadata": {},
   "source": [
    "## Función generadora de features"
   ]
  },
  {
   "cell_type": "code",
   "execution_count": 11,
   "metadata": {},
   "outputs": [],
   "source": [
    "def generar_feature_en_ventanas(ventana, generador_feature, destinos):\n",
    "                    \n",
    "        feature = generador_feature(ventana)\n",
    "        \n",
    "        \n",
    "        destinos = destinos.merge(feature, how = 'left', left_index=True, right_index=True)\n",
    "        \n",
    "        return destinos "
   ]
  },
  {
   "cell_type": "markdown",
   "metadata": {},
   "source": [
    "## Cantidad de eventos dentro de la ventna"
   ]
  },
  {
   "cell_type": "code",
   "execution_count": 12,
   "metadata": {},
   "outputs": [],
   "source": [
    "def cantidad_eventos(dataframe):\n",
    "    return dataframe.groupby(\"device_id\").agg({\"date\" : \"count\"}).rename(columns={\"date\": \"cant_eventos\"})"
   ]
  },
  {
   "cell_type": "code",
   "execution_count": 13,
   "metadata": {},
   "outputs": [],
   "source": [
    "targets_individuales = generar_feature_en_ventanas(events,cantidad_eventos,targets_individuales)"
   ]
  },
  {
   "cell_type": "markdown",
   "metadata": {},
   "source": [
    "## Promedio de eventos por día"
   ]
  },
  {
   "cell_type": "code",
   "execution_count": 14,
   "metadata": {},
   "outputs": [],
   "source": [
    "def prom_eventos(dataframe):\n",
    "    feature = dataframe.groupby([\"device_id\",\"dayofweek\"]).agg({\"date\":\"count\"})\n",
    "    feature = feature.groupby(\"device_id\").agg({\"date\":\"mean\"})\n",
    "    feature[\"date\"] = feature[\"date\"].astype(\"int64\")\n",
    "    return feature.rename(columns={\"date\": \"prom_eventos\"})"
   ]
  },
  {
   "cell_type": "code",
   "execution_count": 15,
   "metadata": {},
   "outputs": [],
   "source": [
    "targets_individuales = generar_feature_en_ventanas(events, prom_eventos, targets_individuales)"
   ]
  },
  {
   "cell_type": "markdown",
   "metadata": {},
   "source": [
    "---"
   ]
  },
  {
   "cell_type": "markdown",
   "metadata": {},
   "source": [
    "## Cantidad de eventos discrimando periodos"
   ]
  },
  {
   "cell_type": "code",
   "execution_count": 16,
   "metadata": {},
   "outputs": [],
   "source": [
    "# Creo columnas para luego separar\n",
    "events['hora'] = events['date'].dt.hour\n",
    "events['dia'] = events['date'].dt.day\n",
    "events.rename(columns = {\"dayofweek\":\"dia_de_semana\"},inplace = True)"
   ]
  },
  {
   "cell_type": "code",
   "execution_count": 17,
   "metadata": {},
   "outputs": [],
   "source": [
    "def cantidad_apariciones_por_dia(dataframe):\n",
    "    dia_final = 3\n",
    "    \n",
    "    apariciones_por_dia = dataframe.groupby([\"device_id\", \"dia\"]).agg(({\"date\" : \"count\"}))\n",
    "    apariciones_por_dia = apariciones_por_dia.unstack().fillna(0).astype(np.int64)\n",
    "    apariciones_por_dia.columns = [\"eventos_dia_{}\".format(dia) for dia in range(1,dia_final+1)]\n",
    "    return apariciones_por_dia"
   ]
  },
  {
   "cell_type": "code",
   "execution_count": 18,
   "metadata": {},
   "outputs": [],
   "source": [
    "targets_individuales = generar_feature_en_ventanas(events, cantidad_apariciones_por_dia, targets_individuales)"
   ]
  },
  {
   "cell_type": "markdown",
   "metadata": {},
   "source": [
    "---"
   ]
  },
  {
   "cell_type": "markdown",
   "metadata": {},
   "source": [
    "## Cantidad de veces que se realizó el evento más frecuente"
   ]
  },
  {
   "cell_type": "code",
   "execution_count": 19,
   "metadata": {},
   "outputs": [],
   "source": [
    "def cantidad_maximo_evento(dataframe):\n",
    "    \n",
    "    feature = events.groupby([\"device_id\",\"event_id\"]).agg({\"date\":\"count\"})\n",
    "    feature = feature.groupby(\"device_id\").agg({\"date\":\"max\"})\n",
    "    feature.rename(columns = {\"date\":\"max_cant_eventos\"},inplace = True)\n",
    "    \n",
    "    return feature\n",
    "    "
   ]
  },
  {
   "cell_type": "code",
   "execution_count": 20,
   "metadata": {},
   "outputs": [],
   "source": [
    "targets_individuales = generar_feature_en_ventanas(events, cantidad_maximo_evento, targets_individuales)"
   ]
  },
  {
   "cell_type": "markdown",
   "metadata": {},
   "source": [
    "## Cuantos eventos comparten la primera posición de evento más frecuente"
   ]
  },
  {
   "cell_type": "code",
   "execution_count": 21,
   "metadata": {},
   "outputs": [],
   "source": [
    "def cantidad_eventos_maximos(dataframe):\n",
    "    \n",
    "    feature = events.groupby([\"device_id\",\"event_id\"]).agg({\"date\":\"count\"})\n",
    "    idx = feature.groupby(['device_id'])[\"date\"].transform(max) == feature[\"date\"]\n",
    "    feature = feature[idx]\n",
    "    feature = feature.groupby(\"device_id\").agg({\"date\":\"count\"})\n",
    "    feature.rename(columns = {\"date\":\"cant_eventos_maximos\"},inplace = True)\n",
    "    \n",
    "    return feature"
   ]
  },
  {
   "cell_type": "code",
   "execution_count": 22,
   "metadata": {},
   "outputs": [],
   "source": [
    "targets_individuales = generar_feature_en_ventanas(events, cantidad_eventos_maximos, targets_individuales)"
   ]
  },
  {
   "cell_type": "markdown",
   "metadata": {},
   "source": [
    "---"
   ]
  },
  {
   "cell_type": "markdown",
   "metadata": {},
   "source": [
    "## Tiempo en segundos desde 't0' hasta hora más frecuente"
   ]
  },
  {
   "cell_type": "code",
   "execution_count": 23,
   "metadata": {},
   "outputs": [],
   "source": [
    "events[\"hora\"] = events[\"date\"].dt.hour\n"
   ]
  },
  {
   "cell_type": "code",
   "execution_count": 24,
   "metadata": {},
   "outputs": [],
   "source": [
    "def tiempo_hasta_hora_frecuente(dataframe):\n",
    "    segundos_en_hora = 60*60\n",
    "    \n",
    "    feature = dataframe.groupby([\"device_id\",\"hora\"]).agg({\"date\":\"count\"})\n",
    "    idx = feature.groupby([\"device_id\"])[\"date\"].transform(max) == feature[\"date\"]\n",
    "    feature = feature[idx]\n",
    "    \n",
    "    feature = feature.reset_index().groupby(\"device_id\").agg({\"hora\":\"min\"})\n",
    "    feature[\"hora\"] = feature[\"hora\"] * segundos_en_hora\n",
    "    feature.rename(columns = {\"hora\":\"segs_hasta_hora_freq\"},inplace = True)\n",
    "    \n",
    "    return feature\n",
    "    \n",
    "    "
   ]
  },
  {
   "cell_type": "code",
   "execution_count": 25,
   "metadata": {},
   "outputs": [],
   "source": [
    "targets_individuales = generar_feature_en_ventanas(events,tiempo_hasta_hora_frecuente, targets_individuales)"
   ]
  },
  {
   "cell_type": "markdown",
   "metadata": {},
   "source": [
    "### Cantidad de eventos con y sin wifi"
   ]
  },
  {
   "cell_type": "code",
   "execution_count": 27,
   "metadata": {},
   "outputs": [],
   "source": [
    "events[\"sin_wifi\"] = ~(events[\"wifi\"])"
   ]
  },
  {
   "cell_type": "code",
   "execution_count": 28,
   "metadata": {},
   "outputs": [],
   "source": [
    "def cant_eventos_wifi(dataframe):\n",
    "    return dataframe.groupby(\"device_id\").agg({\"wifi\":\"sum\",\"sin_wifi\":\"sum\"}).rename(columns={\"wifi\": \"cant_eventos_wifi\",\n",
    "                                                                                              \"sin_wifi\":\"cant_eventos_sin_wifi\"})\n",
    "    "
   ]
  },
  {
   "cell_type": "code",
   "execution_count": 29,
   "metadata": {},
   "outputs": [],
   "source": [
    "targets_individuales = generar_feature_en_ventanas(events,cant_eventos_wifi, targets_individuales)"
   ]
  },
  {
   "cell_type": "markdown",
   "metadata": {},
   "source": [
    "### Eventos principales"
   ]
  },
  {
   "cell_type": "code",
   "execution_count": 30,
   "metadata": {},
   "outputs": [],
   "source": [
    "#Top 10 de eventos con la cantidad de dispositivos registrados\n",
    "#top_eventos = {\"15\":\"103047\",\"23\":\"101109\",\"7\":\"73239\",\"0\":\"47197\",\"2\":\"38669\",\"1\":\"30154\",\"13\":\"16845\",\"101\":\"15778\",\"100\":\"15539\",\"245\":\"14631\"}\n",
    "eventos_frecuentes = [15,23,7,0,2,1,13,101,100,245]"
   ]
  },
  {
   "cell_type": "code",
   "execution_count": 31,
   "metadata": {},
   "outputs": [],
   "source": [
    "def cantidad_de_evento_x(dataframe):\n",
    "    \n",
    "    return dataframe.groupby(\"device_id\").agg({\"es_evento_x\":\"sum\"})\\\n",
    "                                        .rename(columns={\"es_evento_x\": \"cant_eventos_{}\".format(EVENTO_ACTUAL)})\n",
    "    \n",
    "    \n",
    "    \n",
    "    "
   ]
  },
  {
   "cell_type": "markdown",
   "metadata": {},
   "source": [
    "#### Bucle para generar el feature para un determinado numero de eventos principales"
   ]
  },
  {
   "cell_type": "code",
   "execution_count": 32,
   "metadata": {},
   "outputs": [],
   "source": [
    "TOP_EVENTOS = 5"
   ]
  },
  {
   "cell_type": "code",
   "execution_count": 33,
   "metadata": {},
   "outputs": [],
   "source": [
    "for x in range(TOP_EVENTOS):\n",
    "    EVENTO_ACTUAL = eventos_frecuentes[x]\n",
    "    events[\"es_evento_x\"] = events[\"event_id\"] == EVENTO_ACTUAL\n",
    "    \n",
    "    targets_individuales = generar_feature_en_ventanas(events,cantidad_de_evento_x, targets_individuales)"
   ]
  },
  {
   "cell_type": "markdown",
   "metadata": {},
   "source": [
    "---"
   ]
  },
  {
   "cell_type": "markdown",
   "metadata": {},
   "source": [
    "### Distribución de cantidad de eventos por franja horaria"
   ]
  },
  {
   "cell_type": "code",
   "execution_count": 34,
   "metadata": {},
   "outputs": [],
   "source": [
    "events['hora'] = events['date'].dt.hour\n"
   ]
  },
  {
   "cell_type": "markdown",
   "metadata": {},
   "source": [
    "#### Etiquetado de franja"
   ]
  },
  {
   "cell_type": "code",
   "execution_count": 37,
   "metadata": {},
   "outputs": [],
   "source": [
    "def etiquetar_franja(dataframe,tam_franja):\n",
    "    \n",
    "    dataframe[\"franja\"] = 0\n",
    "    cant_divisiones = 24//tam_franja\n",
    "    hora_inicio = 0\n",
    "    hora_fin = tam_franja\n",
    "    for x in range(1, cant_divisiones + 1):\n",
    "        dataframe[\"franja\"][(dataframe[\"hora\"] >= hora_inicio) & (dataframe[\"hora\"] < hora_fin)] = x\n",
    "        hora_inicio += tam_franja  \n",
    "        hora_fin = hora_inicio + tam_franja\n"
   ]
  },
  {
   "cell_type": "code",
   "execution_count": 38,
   "metadata": {},
   "outputs": [
    {
     "name": "stderr",
     "output_type": "stream",
     "text": [
      "/home/pelozo/anaconda3/lib/python3.6/site-packages/ipykernel_launcher.py:8: SettingWithCopyWarning: \n",
      "A value is trying to be set on a copy of a slice from a DataFrame\n",
      "\n",
      "See the caveats in the documentation: http://pandas.pydata.org/pandas-docs/stable/indexing.html#indexing-view-versus-copy\n",
      "  \n"
     ]
    }
   ],
   "source": [
    "tam_franja = 4\n",
    "etiquetar_franja(events,tam_franja)"
   ]
  },
  {
   "cell_type": "code",
   "execution_count": 40,
   "metadata": {},
   "outputs": [],
   "source": [
    "def cantidad_eventos_por_franja(dataframe):\n",
    "    cant_divisiones = 24//tam_franja\n",
    "    apariciones_por_franja = dataframe.groupby([\"device_id\", \"franja\"]).agg(({\"date\" : \"count\"}))\n",
    "    apariciones_por_franja = apariciones_por_franja.unstack().fillna(0).astype(np.int64)\n",
    "    apariciones_por_franja.columns = [\"eventos_franja_{}\".format(franja) for franja in range(1,cant_divisiones + 1)]\n",
    "    return apariciones_por_franja\n",
    "    "
   ]
  },
  {
   "cell_type": "code",
   "execution_count": 41,
   "metadata": {},
   "outputs": [],
   "source": [
    "targets_individuales = generar_feature_en_ventanas(events,cantidad_eventos_por_franja, targets_individuales)"
   ]
  },
  {
   "cell_type": "markdown",
   "metadata": {},
   "source": [
    "---"
   ]
  },
  {
   "cell_type": "markdown",
   "metadata": {},
   "source": [
    "### Guardo features"
   ]
  },
  {
   "cell_type": "code",
   "execution_count": 42,
   "metadata": {},
   "outputs": [],
   "source": [
    "features_events = targets_individuales"
   ]
  },
  {
   "cell_type": "code",
   "execution_count": 43,
   "metadata": {},
   "outputs": [],
   "source": [
    "features_events.to_pickle(\"features_events_competencia\")"
   ]
  },
  {
   "cell_type": "markdown",
   "metadata": {},
   "source": [
    "---"
   ]
  },
  {
   "cell_type": "markdown",
   "metadata": {},
   "source": [
    "# Features Clicks"
   ]
  },
  {
   "cell_type": "code",
   "execution_count": 130,
   "metadata": {},
   "outputs": [],
   "source": [
    "clicks = pd.read_pickle(\"../../../../data/tp2/clicks_tp2_formateado.pkl\")"
   ]
  },
  {
   "cell_type": "code",
   "execution_count": 131,
   "metadata": {},
   "outputs": [],
   "source": [
    "fecha_inicio = \"2019-04-24\""
   ]
  },
  {
   "cell_type": "code",
   "execution_count": 132,
   "metadata": {},
   "outputs": [],
   "source": [
    "fecha_fin = \"2019-04-27\""
   ]
  },
  {
   "cell_type": "code",
   "execution_count": 133,
   "metadata": {},
   "outputs": [],
   "source": [
    "clicks = clicks[clicks[\"created\"] > fecha_inicio]"
   ]
  },
  {
   "cell_type": "code",
   "execution_count": 134,
   "metadata": {},
   "outputs": [],
   "source": [
    "targets_individuales = targets[\"ref_hash\"].drop_duplicates().to_frame()\\\n",
    "                        .rename(columns = {\"ref_hash\":\"device_id\"})\\\n",
    "                        .set_index(\"device_id\")"
   ]
  },
  {
   "cell_type": "markdown",
   "metadata": {},
   "source": [
    "## Creación de features"
   ]
  },
  {
   "cell_type": "markdown",
   "metadata": {},
   "source": [
    "---"
   ]
  },
  {
   "cell_type": "markdown",
   "metadata": {},
   "source": [
    "### Función generadora de features"
   ]
  },
  {
   "cell_type": "code",
   "execution_count": 135,
   "metadata": {},
   "outputs": [],
   "source": [
    "def generar_feature_en_ventanas(ventana, generador_feature, destinos):\n",
    "                    \n",
    "        feature = generador_feature(ventana)\n",
    "        \n",
    "        \n",
    "        destinos = destinos.merge(feature, how = 'left', left_index=True, right_index=True)\n",
    "        \n",
    "        return destinos "
   ]
  },
  {
   "cell_type": "markdown",
   "metadata": {},
   "source": [
    "### Estadísticas sobre el tiempo hasta clickear"
   ]
  },
  {
   "cell_type": "code",
   "execution_count": 136,
   "metadata": {},
   "outputs": [],
   "source": [
    "def tiempo_hasta_clickear_media(dataframe):\n",
    "    return dataframe.groupby(\"ref_hash\").agg({\"timeToClick\" : \"mean\"}).rename(columns={\"timeToClick\": \"tiempo_hasta_click_mean\"})"
   ]
  },
  {
   "cell_type": "code",
   "execution_count": 137,
   "metadata": {},
   "outputs": [],
   "source": [
    "targets_individuales = generar_feature_en_ventanas(clicks, tiempo_hasta_clickear_media, targets_individuales)"
   ]
  },
  {
   "cell_type": "code",
   "execution_count": 138,
   "metadata": {},
   "outputs": [],
   "source": [
    "def tiempo_hasta_clickear_max(dataframe):\n",
    "    return dataframe.groupby(\"ref_hash\").agg({\"timeToClick\" : \"max\"}).rename(columns={\"timeToClick\": \"tiempo_hasta_click_max\"})"
   ]
  },
  {
   "cell_type": "code",
   "execution_count": 139,
   "metadata": {},
   "outputs": [],
   "source": [
    "targets_individuales = generar_feature_en_ventanas(clicks, tiempo_hasta_clickear_max, targets_individuales)"
   ]
  },
  {
   "cell_type": "code",
   "execution_count": 140,
   "metadata": {},
   "outputs": [],
   "source": [
    "def tiempo_hasta_clickear_min(dataframe):\n",
    "    return dataframe.groupby(\"ref_hash\").agg({\"timeToClick\" : \"min\"}).rename(columns={\"timeToClick\": \"tiempo_hasta_click_min\"})"
   ]
  },
  {
   "cell_type": "code",
   "execution_count": 141,
   "metadata": {},
   "outputs": [],
   "source": [
    "targets_individuales = generar_feature_en_ventanas(clicks, tiempo_hasta_clickear_min, targets_individuales)"
   ]
  },
  {
   "cell_type": "code",
   "execution_count": 142,
   "metadata": {},
   "outputs": [],
   "source": [
    "def tiempo_hasta_clickear_std(dataframe):\n",
    "    return dataframe.groupby(\"ref_hash\").agg({\"timeToClick\" : \"std\"}).rename(columns={\"timeToClick\": \"tiempo_hasta_click_std\"}).fillna(0)"
   ]
  },
  {
   "cell_type": "code",
   "execution_count": 143,
   "metadata": {},
   "outputs": [],
   "source": [
    "targets_individuales = generar_feature_en_ventanas(clicks, tiempo_hasta_clickear_std, targets_individuales)"
   ]
  },
  {
   "cell_type": "markdown",
   "metadata": {},
   "source": [
    "---"
   ]
  },
  {
   "cell_type": "markdown",
   "metadata": {},
   "source": [
    "## Cantidad de clicks dentro de la ventana"
   ]
  },
  {
   "cell_type": "code",
   "execution_count": 144,
   "metadata": {},
   "outputs": [],
   "source": [
    "def cantidad_de_clicks(dataframe):\n",
    "    return dataframe.groupby(\"ref_hash\").agg({\"timeToClick\" : \"count\"}).rename(columns={\"timeToClick\": \"cantidad_clicks\"})"
   ]
  },
  {
   "cell_type": "code",
   "execution_count": 145,
   "metadata": {},
   "outputs": [],
   "source": [
    "targets_individuales = generar_feature_en_ventanas(clicks, cantidad_de_clicks, targets_individuales)"
   ]
  },
  {
   "cell_type": "markdown",
   "metadata": {},
   "source": [
    "---"
   ]
  },
  {
   "cell_type": "markdown",
   "metadata": {},
   "source": [
    "## Cantidad de clicks discriminando por períodos"
   ]
  },
  {
   "cell_type": "code",
   "execution_count": 146,
   "metadata": {},
   "outputs": [],
   "source": [
    "# Creo columnas para luego separar\n",
    "clicks['hora'] = clicks['created'].dt.hour\n",
    "clicks['dia'] = clicks['created'].dt.day\n",
    "clicks['dia_de_la_semana'] = clicks['created'].dt.dayofweek"
   ]
  },
  {
   "cell_type": "code",
   "execution_count": 147,
   "metadata": {},
   "outputs": [],
   "source": [
    "def cantidad_clicks_hora(dataframe):\n",
    "    apariciones_por_hora = dataframe.groupby([\"ref_hash\", \"hora\"]).agg(({\"created\" : \"count\"}))\n",
    "    apariciones_por_hora = apariciones_por_hora.unstack().fillna(0).astype(np.int64)\n",
    "    apariciones_por_hora.columns = [\"clicks_en_hora_{}\".format(hora) for hora in range(0,24)]\n",
    "    return apariciones_por_hora"
   ]
  },
  {
   "cell_type": "code",
   "execution_count": 148,
   "metadata": {},
   "outputs": [],
   "source": [
    "targets_individuales = generar_feature_en_ventanas(clicks, cantidad_clicks_hora, targets_individuales)"
   ]
  },
  {
   "cell_type": "code",
   "execution_count": 149,
   "metadata": {},
   "outputs": [],
   "source": [
    "def cantidad_clicks_dia(dataframe):\n",
    "    dias = dataframe[\"dia\"].drop_duplicates\n",
    "    apariciones_por_dia = dataframe.groupby([\"ref_hash\", \"dia\"]).agg(({\"created\" : \"count\"}))\n",
    "    apariciones_por_dia = apariciones_por_dia.unstack().fillna(0).astype(np.int64)\n",
    "    apariciones_por_dia.columns = [\"clicks_en_dia_{}\".format(dia) for dia in range(1,4)]\n",
    "    return apariciones_por_dia"
   ]
  },
  {
   "cell_type": "code",
   "execution_count": 150,
   "metadata": {},
   "outputs": [],
   "source": [
    "targets_individuales = generar_feature_en_ventanas(clicks, cantidad_clicks_dia, targets_individuales)"
   ]
  },
  {
   "cell_type": "markdown",
   "metadata": {},
   "source": [
    "## Tiempo medio entre clicks"
   ]
  },
  {
   "cell_type": "code",
   "execution_count": 151,
   "metadata": {},
   "outputs": [],
   "source": [
    "def tiempo_medio_entre_clicks(dataframe):\n",
    "    gb = dataframe.groupby(\"ref_hash\")\n",
    "    ps = {}\n",
    "    for t, g in gb:\n",
    "        ps[t] = g[\"created\"].sub(g[\"created\"].shift()).mean()\n",
    "    return pd.Series(ps).dt.total_seconds().fillna(0).to_frame().rename(columns={0: \"tiempo_medio_entre_clicks\"})"
   ]
  },
  {
   "cell_type": "code",
   "execution_count": 152,
   "metadata": {},
   "outputs": [],
   "source": [
    "targets_individuales = generar_feature_en_ventanas(clicks, tiempo_medio_entre_clicks, targets_individuales)"
   ]
  },
  {
   "cell_type": "markdown",
   "metadata": {},
   "source": [
    "### Guardo features"
   ]
  },
  {
   "cell_type": "code",
   "execution_count": 153,
   "metadata": {},
   "outputs": [],
   "source": [
    "features_clicks = targets_individuales"
   ]
  },
  {
   "cell_type": "code",
   "execution_count": 154,
   "metadata": {},
   "outputs": [],
   "source": [
    "features_clicks.to_pickle(\"features_clicks_competencia\")"
   ]
  },
  {
   "cell_type": "markdown",
   "metadata": {},
   "source": [
    "---"
   ]
  },
  {
   "cell_type": "markdown",
   "metadata": {},
   "source": [
    "# Features Installs"
   ]
  },
  {
   "cell_type": "code",
   "execution_count": 76,
   "metadata": {},
   "outputs": [],
   "source": [
    "installs = pd.read_pickle(\"../../../../data/tp2/installs_tp2_formateado.pkl\")"
   ]
  },
  {
   "cell_type": "code",
   "execution_count": 77,
   "metadata": {},
   "outputs": [],
   "source": [
    "feacha_inicio = \"2019-04-24\""
   ]
  },
  {
   "cell_type": "code",
   "execution_count": 78,
   "metadata": {},
   "outputs": [],
   "source": [
    "fecha_fin = \"2019-04-27\""
   ]
  },
  {
   "cell_type": "code",
   "execution_count": 79,
   "metadata": {},
   "outputs": [],
   "source": [
    "installs = installs[installs[\"created\"] > fecha_inicio]"
   ]
  },
  {
   "cell_type": "code",
   "execution_count": 80,
   "metadata": {},
   "outputs": [],
   "source": [
    "targets_individuales = targets[\"ref_hash\"].drop_duplicates().to_frame()\\\n",
    "                        .rename(columns = {\"ref_hash\":\"device_id\"})\\\n",
    "                        .set_index(\"device_id\")"
   ]
  },
  {
   "cell_type": "markdown",
   "metadata": {},
   "source": [
    "## Cantidad de instalaciones dentro de la ventana"
   ]
  },
  {
   "cell_type": "code",
   "execution_count": 81,
   "metadata": {},
   "outputs": [],
   "source": [
    "def cantidad_de_instalaciones(dataframe):\n",
    "    return dataframe.groupby(\"ref_hash\").agg({\"created\" : \"count\"}).rename(columns={\"created\": \"cantidad_instalaciones\"})"
   ]
  },
  {
   "cell_type": "code",
   "execution_count": 82,
   "metadata": {},
   "outputs": [],
   "source": [
    "targets_individuales = generar_feature_en_ventanas(installs, cantidad_de_instalaciones, targets_individuales)"
   ]
  },
  {
   "cell_type": "markdown",
   "metadata": {},
   "source": [
    "---"
   ]
  },
  {
   "cell_type": "markdown",
   "metadata": {},
   "source": [
    "## Tiempo desde la última aparición hasta el fin de la ventana"
   ]
  },
  {
   "cell_type": "code",
   "execution_count": 86,
   "metadata": {},
   "outputs": [],
   "source": [
    "def tiempo_desde_ult_instalacion_hasta_fin_ventana(dataframe):\n",
    "    return (np.datetime64(fecha_fin) - dataframe.groupby(\"ref_hash\").agg({\"created\" : \"max\"})[\"created\"]).dt.total_seconds().to_frame().rename(columns={\"created\": \"tiempo_ultima_instalacion_hasta_fin_ventana\"})"
   ]
  },
  {
   "cell_type": "code",
   "execution_count": 87,
   "metadata": {},
   "outputs": [],
   "source": [
    "targets_individuales = generar_feature_en_ventanas(installs, tiempo_desde_ult_instalacion_hasta_fin_ventana, targets_individuales)"
   ]
  },
  {
   "cell_type": "markdown",
   "metadata": {},
   "source": [
    "---"
   ]
  },
  {
   "cell_type": "markdown",
   "metadata": {},
   "source": [
    "## Cantidad de aplicaciones distintas instaladas"
   ]
  },
  {
   "cell_type": "code",
   "execution_count": 88,
   "metadata": {},
   "outputs": [],
   "source": [
    "def cantidad_aplicaciones_distintas_instaladas(dataframe):\n",
    "    return dataframe.groupby(\"ref_hash\").agg({\"application_id\" : \"nunique\"}).rename(columns={\"application_id\": \"cantidad_aplicaciones_diferentes\"})"
   ]
  },
  {
   "cell_type": "code",
   "execution_count": 89,
   "metadata": {},
   "outputs": [],
   "source": [
    "targets_individuales = generar_feature_en_ventanas(installs, cantidad_aplicaciones_distintas_instaladas, targets_individuales)"
   ]
  },
  {
   "cell_type": "markdown",
   "metadata": {},
   "source": [
    "---"
   ]
  },
  {
   "cell_type": "markdown",
   "metadata": {},
   "source": [
    "### Guardado de features"
   ]
  },
  {
   "cell_type": "code",
   "execution_count": 90,
   "metadata": {},
   "outputs": [],
   "source": [
    "features_clicks = targets_individuales"
   ]
  },
  {
   "cell_type": "code",
   "execution_count": 91,
   "metadata": {},
   "outputs": [],
   "source": [
    "features_clicks.to_pickle(\"features_installs_competencia\")"
   ]
  },
  {
   "cell_type": "markdown",
   "metadata": {},
   "source": [
    "---"
   ]
  },
  {
   "cell_type": "markdown",
   "metadata": {},
   "source": [
    "## Armado de set de features completo"
   ]
  },
  {
   "cell_type": "code",
   "execution_count": 5,
   "metadata": {},
   "outputs": [],
   "source": [
    "features_auctions = pd.read_pickle(\"features_auctions_competencia\")\n",
    "features_events = pd.read_pickle(\"features_events_competencia\")\n",
    "features_clicks = pd.read_pickle(\"features_clicks_competencia\")\n",
    "features_installs = pd.read_pickle(\"features_installs_competencia\")"
   ]
  },
  {
   "cell_type": "code",
   "execution_count": 6,
   "metadata": {},
   "outputs": [],
   "source": [
    "features = targets[\"ref_hash\"].drop_duplicates().to_frame()\\\n",
    "                        .rename(columns = {\"ref_hash\":\"device_id\"})\\\n",
    "                        .set_index(\"device_id\")"
   ]
  },
  {
   "cell_type": "code",
   "execution_count": 7,
   "metadata": {},
   "outputs": [],
   "source": [
    "features = features.merge(features_auctions, how = 'left', left_index= True, right_index = True)\n",
    "features = features.merge(features_events, how = 'left', left_index= True, right_index = True)\n",
    "features = features.merge(features_clicks, how = 'left', left_index= True, right_index = True)\n",
    "features = features.merge(features_installs, how = 'left', left_index= True, right_index = True)"
   ]
  },
  {
   "cell_type": "code",
   "execution_count": 8,
   "metadata": {},
   "outputs": [],
   "source": [
    "features.to_pickle(\"features_completos_competencia\")"
   ]
  },
  {
   "cell_type": "markdown",
   "metadata": {},
   "source": [
    "### Cuanto es la maxima cantidad de nulos que hay dentro de los datos"
   ]
  },
  {
   "cell_type": "code",
   "execution_count": 9,
   "metadata": {},
   "outputs": [],
   "source": [
    "datos_no_nulos = features[~features.isna().all(axis = 1)]"
   ]
  },
  {
   "cell_type": "code",
   "execution_count": 10,
   "metadata": {},
   "outputs": [
    {
     "name": "stderr",
     "output_type": "stream",
     "text": [
      "/home/pelozo/anaconda3/lib/python3.6/site-packages/ipykernel_launcher.py:1: SettingWithCopyWarning: \n",
      "A value is trying to be set on a copy of a slice from a DataFrame.\n",
      "Try using .loc[row_indexer,col_indexer] = value instead\n",
      "\n",
      "See the caveats in the documentation: http://pandas.pydata.org/pandas-docs/stable/indexing.html#indexing-view-versus-copy\n",
      "  \"\"\"Entry point for launching an IPython kernel.\n"
     ]
    }
   ],
   "source": [
    "datos_no_nulos[\"cant_nulos\"] = datos_no_nulos.isnull().sum(axis = 1)"
   ]
  },
  {
   "cell_type": "code",
   "execution_count": 11,
   "metadata": {},
   "outputs": [
    {
     "data": {
      "text/plain": [
       "99"
      ]
     },
     "execution_count": 11,
     "metadata": {},
     "output_type": "execute_result"
    }
   ],
   "source": [
    "datos_no_nulos[\"cant_nulos\"].max()"
   ]
  },
  {
   "cell_type": "markdown",
   "metadata": {},
   "source": [
    "# Tratamiento de valores nulos"
   ]
  },
  {
   "cell_type": "code",
   "execution_count": 8,
   "metadata": {},
   "outputs": [],
   "source": [
    "features_completos = features"
   ]
  },
  {
   "cell_type": "code",
   "execution_count": 12,
   "metadata": {},
   "outputs": [
    {
     "data": {
      "text/plain": [
       "349"
      ]
     },
     "execution_count": 12,
     "metadata": {},
     "output_type": "execute_result"
    }
   ],
   "source": [
    "features.isna().all(axis = 1).sum()"
   ]
  },
  {
   "cell_type": "code",
   "execution_count": 12,
   "metadata": {},
   "outputs": [],
   "source": [
    "devices_nulos = features[features.isna().all(axis = 1)].index"
   ]
  },
  {
   "cell_type": "code",
   "execution_count": 13,
   "metadata": {},
   "outputs": [],
   "source": [
    "targets_nulos = devices_nulos.to_frame().drop(\"device_id\",1)"
   ]
  },
  {
   "cell_type": "markdown",
   "metadata": {},
   "source": [
    "### Obtengo los features recopilados anteriormente para esos valores y saco la media"
   ]
  },
  {
   "cell_type": "code",
   "execution_count": 14,
   "metadata": {},
   "outputs": [],
   "source": [
    "cantidad_ventanas = 5"
   ]
  },
  {
   "cell_type": "code",
   "execution_count": 15,
   "metadata": {},
   "outputs": [],
   "source": [
    "features_nulos = pd.DataFrame()"
   ]
  },
  {
   "cell_type": "code",
   "execution_count": 16,
   "metadata": {},
   "outputs": [],
   "source": [
    "for ventana_nro in range(1,cantidad_ventanas+1):\n",
    "    \n",
    "    features_auctions = pd.read_pickle(\"../../../modelo/features/auctions_train_ventana_{}.pkl\".format(ventana_nro))\n",
    "    features_clicks = pd.read_pickle(\"../../../modelo/features/clicks_train_ventana_{}.pkl\".format(ventana_nro))\n",
    "    features_events = pd.read_pickle(\"../../../modelo/features/events_train_ventana_{}.pkl\".format(ventana_nro))\n",
    "    features_installs = pd.read_pickle(\"../../../modelo/features/installs_train_ventana_{}.pkl\".format(ventana_nro))\n",
    " \n",
    "\n",
    "    features = targets_nulos.merge(features_auctions, how = 'left', left_index=True, right_index=True)\n",
    "    \n",
    "    features = features.merge(features_events,how = 'left', left_index = True, right_index = True)\n",
    "\n",
    "    features = features.merge(features_clicks,how = 'left',left_index = True, right_index = True)\n",
    "    \n",
    "    features = features.merge(features_installs, how = 'left', left_index = True, right_index = True)\n",
    "    \n",
    "    features_nulos = features_nulos.append(features)\n"
   ]
  },
  {
   "cell_type": "code",
   "execution_count": 17,
   "metadata": {},
   "outputs": [
    {
     "data": {
      "text/plain": [
       "1745"
      ]
     },
     "execution_count": 17,
     "metadata": {},
     "output_type": "execute_result"
    }
   ],
   "source": [
    "len(features_nulos)"
   ]
  },
  {
   "cell_type": "code",
   "execution_count": 18,
   "metadata": {},
   "outputs": [
    {
     "data": {
      "text/plain": [
       "(1745, 103)"
      ]
     },
     "execution_count": 18,
     "metadata": {},
     "output_type": "execute_result"
    }
   ],
   "source": [
    "features_nulos.shape"
   ]
  },
  {
   "cell_type": "code",
   "execution_count": 19,
   "metadata": {},
   "outputs": [],
   "source": [
    "imputacion = features_nulos.groupby(\"device_id\").median()"
   ]
  },
  {
   "cell_type": "code",
   "execution_count": 20,
   "metadata": {},
   "outputs": [
    {
     "data": {
      "text/plain": [
       "346"
      ]
     },
     "execution_count": 20,
     "metadata": {},
     "output_type": "execute_result"
    }
   ],
   "source": [
    "imputacion.isna().any(axis = 1).sum()"
   ]
  },
  {
   "cell_type": "code",
   "execution_count": 21,
   "metadata": {},
   "outputs": [
    {
     "data": {
      "text/plain": [
       "349"
      ]
     },
     "execution_count": 21,
     "metadata": {},
     "output_type": "execute_result"
    }
   ],
   "source": [
    "len(imputacion)"
   ]
  },
  {
   "cell_type": "code",
   "execution_count": 22,
   "metadata": {},
   "outputs": [
    {
     "data": {
      "text/html": [
       "<div>\n",
       "<style scoped>\n",
       "    .dataframe tbody tr th:only-of-type {\n",
       "        vertical-align: middle;\n",
       "    }\n",
       "\n",
       "    .dataframe tbody tr th {\n",
       "        vertical-align: top;\n",
       "    }\n",
       "\n",
       "    .dataframe thead th {\n",
       "        text-align: right;\n",
       "    }\n",
       "</style>\n",
       "<table border=\"1\" class=\"dataframe\">\n",
       "  <thead>\n",
       "    <tr style=\"text-align: right;\">\n",
       "      <th></th>\n",
       "      <th>cantidad_apariciones</th>\n",
       "      <th>apariciones_en_hora_0</th>\n",
       "      <th>apariciones_en_hora_1</th>\n",
       "      <th>apariciones_en_hora_2</th>\n",
       "      <th>apariciones_en_hora_3</th>\n",
       "      <th>apariciones_en_hora_4</th>\n",
       "      <th>apariciones_en_hora_5</th>\n",
       "      <th>apariciones_en_hora_6</th>\n",
       "      <th>apariciones_en_hora_7</th>\n",
       "      <th>apariciones_en_hora_8</th>\n",
       "      <th>...</th>\n",
       "      <th>clicks_en_hora_21</th>\n",
       "      <th>clicks_en_hora_22</th>\n",
       "      <th>clicks_en_hora_23</th>\n",
       "      <th>clicks_en_dia_1</th>\n",
       "      <th>clicks_en_dia_2</th>\n",
       "      <th>clicks_en_dia_3</th>\n",
       "      <th>tiempo_medio_entre_clicks</th>\n",
       "      <th>cantidad_instalaciones</th>\n",
       "      <th>tiempo_ultima_instalacion_hasta_fin_ventana</th>\n",
       "      <th>cantidad_aplicaciones_diferentes</th>\n",
       "    </tr>\n",
       "    <tr>\n",
       "      <th>device_id</th>\n",
       "      <th></th>\n",
       "      <th></th>\n",
       "      <th></th>\n",
       "      <th></th>\n",
       "      <th></th>\n",
       "      <th></th>\n",
       "      <th></th>\n",
       "      <th></th>\n",
       "      <th></th>\n",
       "      <th></th>\n",
       "      <th></th>\n",
       "      <th></th>\n",
       "      <th></th>\n",
       "      <th></th>\n",
       "      <th></th>\n",
       "      <th></th>\n",
       "      <th></th>\n",
       "      <th></th>\n",
       "      <th></th>\n",
       "      <th></th>\n",
       "      <th></th>\n",
       "    </tr>\n",
       "  </thead>\n",
       "  <tbody>\n",
       "    <tr>\n",
       "      <th>97694307709005918</th>\n",
       "      <td>3.0</td>\n",
       "      <td>0.0</td>\n",
       "      <td>1.0</td>\n",
       "      <td>0.0</td>\n",
       "      <td>1.0</td>\n",
       "      <td>1.0</td>\n",
       "      <td>0.0</td>\n",
       "      <td>0.0</td>\n",
       "      <td>0.0</td>\n",
       "      <td>0.0</td>\n",
       "      <td>...</td>\n",
       "      <td>NaN</td>\n",
       "      <td>NaN</td>\n",
       "      <td>NaN</td>\n",
       "      <td>NaN</td>\n",
       "      <td>NaN</td>\n",
       "      <td>NaN</td>\n",
       "      <td>NaN</td>\n",
       "      <td>1.0</td>\n",
       "      <td>133617.327</td>\n",
       "      <td>1.0</td>\n",
       "    </tr>\n",
       "    <tr>\n",
       "      <th>104412862089502190</th>\n",
       "      <td>4.0</td>\n",
       "      <td>0.0</td>\n",
       "      <td>0.0</td>\n",
       "      <td>0.0</td>\n",
       "      <td>0.0</td>\n",
       "      <td>0.0</td>\n",
       "      <td>2.0</td>\n",
       "      <td>0.0</td>\n",
       "      <td>0.0</td>\n",
       "      <td>0.0</td>\n",
       "      <td>...</td>\n",
       "      <td>NaN</td>\n",
       "      <td>NaN</td>\n",
       "      <td>NaN</td>\n",
       "      <td>NaN</td>\n",
       "      <td>NaN</td>\n",
       "      <td>NaN</td>\n",
       "      <td>NaN</td>\n",
       "      <td>1.0</td>\n",
       "      <td>149277.585</td>\n",
       "      <td>1.0</td>\n",
       "    </tr>\n",
       "    <tr>\n",
       "      <th>127181479361225903</th>\n",
       "      <td>9.0</td>\n",
       "      <td>0.0</td>\n",
       "      <td>0.0</td>\n",
       "      <td>1.0</td>\n",
       "      <td>7.0</td>\n",
       "      <td>1.0</td>\n",
       "      <td>0.0</td>\n",
       "      <td>0.0</td>\n",
       "      <td>0.0</td>\n",
       "      <td>0.0</td>\n",
       "      <td>...</td>\n",
       "      <td>NaN</td>\n",
       "      <td>NaN</td>\n",
       "      <td>NaN</td>\n",
       "      <td>NaN</td>\n",
       "      <td>NaN</td>\n",
       "      <td>NaN</td>\n",
       "      <td>NaN</td>\n",
       "      <td>1.0</td>\n",
       "      <td>58409.113</td>\n",
       "      <td>1.0</td>\n",
       "    </tr>\n",
       "    <tr>\n",
       "      <th>162252644031331242</th>\n",
       "      <td>13.0</td>\n",
       "      <td>0.0</td>\n",
       "      <td>0.0</td>\n",
       "      <td>0.0</td>\n",
       "      <td>0.0</td>\n",
       "      <td>2.0</td>\n",
       "      <td>1.0</td>\n",
       "      <td>1.0</td>\n",
       "      <td>0.0</td>\n",
       "      <td>0.0</td>\n",
       "      <td>...</td>\n",
       "      <td>NaN</td>\n",
       "      <td>NaN</td>\n",
       "      <td>NaN</td>\n",
       "      <td>NaN</td>\n",
       "      <td>NaN</td>\n",
       "      <td>NaN</td>\n",
       "      <td>NaN</td>\n",
       "      <td>1.0</td>\n",
       "      <td>104015.291</td>\n",
       "      <td>1.0</td>\n",
       "    </tr>\n",
       "    <tr>\n",
       "      <th>177763697089045655</th>\n",
       "      <td>1.5</td>\n",
       "      <td>0.0</td>\n",
       "      <td>0.0</td>\n",
       "      <td>0.0</td>\n",
       "      <td>0.0</td>\n",
       "      <td>1.5</td>\n",
       "      <td>0.0</td>\n",
       "      <td>0.0</td>\n",
       "      <td>0.0</td>\n",
       "      <td>0.0</td>\n",
       "      <td>...</td>\n",
       "      <td>NaN</td>\n",
       "      <td>NaN</td>\n",
       "      <td>NaN</td>\n",
       "      <td>NaN</td>\n",
       "      <td>NaN</td>\n",
       "      <td>NaN</td>\n",
       "      <td>NaN</td>\n",
       "      <td>1.0</td>\n",
       "      <td>141900.939</td>\n",
       "      <td>1.0</td>\n",
       "    </tr>\n",
       "  </tbody>\n",
       "</table>\n",
       "<p>5 rows × 103 columns</p>\n",
       "</div>"
      ],
      "text/plain": [
       "                    cantidad_apariciones  apariciones_en_hora_0  \\\n",
       "device_id                                                         \n",
       "97694307709005918                    3.0                    0.0   \n",
       "104412862089502190                   4.0                    0.0   \n",
       "127181479361225903                   9.0                    0.0   \n",
       "162252644031331242                  13.0                    0.0   \n",
       "177763697089045655                   1.5                    0.0   \n",
       "\n",
       "                    apariciones_en_hora_1  apariciones_en_hora_2  \\\n",
       "device_id                                                          \n",
       "97694307709005918                     1.0                    0.0   \n",
       "104412862089502190                    0.0                    0.0   \n",
       "127181479361225903                    0.0                    1.0   \n",
       "162252644031331242                    0.0                    0.0   \n",
       "177763697089045655                    0.0                    0.0   \n",
       "\n",
       "                    apariciones_en_hora_3  apariciones_en_hora_4  \\\n",
       "device_id                                                          \n",
       "97694307709005918                     1.0                    1.0   \n",
       "104412862089502190                    0.0                    0.0   \n",
       "127181479361225903                    7.0                    1.0   \n",
       "162252644031331242                    0.0                    2.0   \n",
       "177763697089045655                    0.0                    1.5   \n",
       "\n",
       "                    apariciones_en_hora_5  apariciones_en_hora_6  \\\n",
       "device_id                                                          \n",
       "97694307709005918                     0.0                    0.0   \n",
       "104412862089502190                    2.0                    0.0   \n",
       "127181479361225903                    0.0                    0.0   \n",
       "162252644031331242                    1.0                    1.0   \n",
       "177763697089045655                    0.0                    0.0   \n",
       "\n",
       "                    apariciones_en_hora_7  apariciones_en_hora_8  ...  \\\n",
       "device_id                                                         ...   \n",
       "97694307709005918                     0.0                    0.0  ...   \n",
       "104412862089502190                    0.0                    0.0  ...   \n",
       "127181479361225903                    0.0                    0.0  ...   \n",
       "162252644031331242                    0.0                    0.0  ...   \n",
       "177763697089045655                    0.0                    0.0  ...   \n",
       "\n",
       "                    clicks_en_hora_21  clicks_en_hora_22  clicks_en_hora_23  \\\n",
       "device_id                                                                     \n",
       "97694307709005918                 NaN                NaN                NaN   \n",
       "104412862089502190                NaN                NaN                NaN   \n",
       "127181479361225903                NaN                NaN                NaN   \n",
       "162252644031331242                NaN                NaN                NaN   \n",
       "177763697089045655                NaN                NaN                NaN   \n",
       "\n",
       "                    clicks_en_dia_1  clicks_en_dia_2  clicks_en_dia_3  \\\n",
       "device_id                                                               \n",
       "97694307709005918               NaN              NaN              NaN   \n",
       "104412862089502190              NaN              NaN              NaN   \n",
       "127181479361225903              NaN              NaN              NaN   \n",
       "162252644031331242              NaN              NaN              NaN   \n",
       "177763697089045655              NaN              NaN              NaN   \n",
       "\n",
       "                    tiempo_medio_entre_clicks  cantidad_instalaciones  \\\n",
       "device_id                                                               \n",
       "97694307709005918                         NaN                     1.0   \n",
       "104412862089502190                        NaN                     1.0   \n",
       "127181479361225903                        NaN                     1.0   \n",
       "162252644031331242                        NaN                     1.0   \n",
       "177763697089045655                        NaN                     1.0   \n",
       "\n",
       "                    tiempo_ultima_instalacion_hasta_fin_ventana  \\\n",
       "device_id                                                         \n",
       "97694307709005918                                    133617.327   \n",
       "104412862089502190                                   149277.585   \n",
       "127181479361225903                                    58409.113   \n",
       "162252644031331242                                   104015.291   \n",
       "177763697089045655                                   141900.939   \n",
       "\n",
       "                    cantidad_aplicaciones_diferentes  \n",
       "device_id                                             \n",
       "97694307709005918                                1.0  \n",
       "104412862089502190                               1.0  \n",
       "127181479361225903                               1.0  \n",
       "162252644031331242                               1.0  \n",
       "177763697089045655                               1.0  \n",
       "\n",
       "[5 rows x 103 columns]"
      ]
     },
     "execution_count": 22,
     "metadata": {},
     "output_type": "execute_result"
    }
   ],
   "source": [
    "imputacion.head()"
   ]
  },
  {
   "cell_type": "code",
   "execution_count": 23,
   "metadata": {},
   "outputs": [],
   "source": [
    "features_con_imputacion = features_completos[~features_completos.isna().all(axis = 1)]"
   ]
  },
  {
   "cell_type": "code",
   "execution_count": 24,
   "metadata": {},
   "outputs": [
    {
     "name": "stderr",
     "output_type": "stream",
     "text": [
      "/home/pelozo/anaconda3/lib/python3.6/site-packages/pandas/core/frame.py:6692: FutureWarning: Sorting because non-concatenation axis is not aligned. A future version\n",
      "of pandas will change to not sort by default.\n",
      "\n",
      "To accept the future behavior, pass 'sort=False'.\n",
      "\n",
      "To retain the current behavior and silence the warning, pass 'sort=True'.\n",
      "\n",
      "  sort=sort)\n"
     ]
    }
   ],
   "source": [
    "features_con_imputacion = features_con_imputacion.append(imputacion)"
   ]
  },
  {
   "cell_type": "code",
   "execution_count": 25,
   "metadata": {},
   "outputs": [],
   "source": [
    "features_con_imputacion.to_pickle(\"features_con_imputacion.pkl\")"
   ]
  },
  {
   "cell_type": "code",
   "execution_count": 26,
   "metadata": {},
   "outputs": [
    {
     "data": {
      "text/plain": [
       "(4037, 103)"
      ]
     },
     "execution_count": 26,
     "metadata": {},
     "output_type": "execute_result"
    }
   ],
   "source": [
    "features_con_imputacion.shape"
   ]
  },
  {
   "cell_type": "code",
   "execution_count": null,
   "metadata": {},
   "outputs": [],
   "source": []
  }
 ],
 "metadata": {
  "kernelspec": {
   "display_name": "Python 3",
   "language": "python",
   "name": "python3"
  },
  "language_info": {
   "codemirror_mode": {
    "name": "ipython",
    "version": 3
   },
   "file_extension": ".py",
   "mimetype": "text/x-python",
   "name": "python",
   "nbconvert_exporter": "python",
   "pygments_lexer": "ipython3",
   "version": "3.6.8"
  }
 },
 "nbformat": 4,
 "nbformat_minor": 2
}
