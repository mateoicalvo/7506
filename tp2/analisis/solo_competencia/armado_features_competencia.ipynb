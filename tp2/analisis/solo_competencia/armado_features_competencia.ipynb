{
 "cells": [
  {
   "cell_type": "code",
   "execution_count": 1,
   "metadata": {},
   "outputs": [],
   "source": [
    "import pandas as pd\n",
    "import numpy as np"
   ]
  },
  {
   "cell_type": "code",
   "execution_count": 2,
   "metadata": {},
   "outputs": [],
   "source": [
    "targets = pd.read_csv(\"../../../../data/tp2/target_competencia_ids.csv\")"
   ]
  },
  {
   "cell_type": "code",
   "execution_count": 3,
   "metadata": {},
   "outputs": [],
   "source": [
    "targets[\"ref_hash\"] = targets[\"ref_hash\"].map(lambda x: x[:-3])"
   ]
  },
  {
   "cell_type": "code",
   "execution_count": 4,
   "metadata": {},
   "outputs": [],
   "source": [
    "targets[\"ref_hash\"] = targets[\"ref_hash\"].astype(\"int64\")"
   ]
  },
  {
   "cell_type": "markdown",
   "metadata": {},
   "source": [
    "---"
   ]
  },
  {
   "cell_type": "markdown",
   "metadata": {},
   "source": [
    "### Features auctions"
   ]
  },
  {
   "cell_type": "code",
   "execution_count": 5,
   "metadata": {},
   "outputs": [],
   "source": [
    "auctions = pd.read_pickle(\"../../../../data/tp2/auctions_tp2_formateado.pkl\")\n"
   ]
  },
  {
   "cell_type": "markdown",
   "metadata": {},
   "source": [
    "### Me quedo con datos del 24 en adelante"
   ]
  },
  {
   "cell_type": "code",
   "execution_count": 6,
   "metadata": {},
   "outputs": [],
   "source": [
    "fecha_inicio = \"2019-04-24\""
   ]
  },
  {
   "cell_type": "code",
   "execution_count": 7,
   "metadata": {},
   "outputs": [],
   "source": [
    "auctions = auctions[auctions[\"date\"] > fecha_inicio]"
   ]
  },
  {
   "cell_type": "code",
   "execution_count": 8,
   "metadata": {},
   "outputs": [],
   "source": [
    "auctions.sort_values(by = \"date\",inplace = True)"
   ]
  },
  {
   "cell_type": "code",
   "execution_count": 9,
   "metadata": {},
   "outputs": [],
   "source": [
    "targets_individuales = targets[\"ref_hash\"].drop_duplicates().to_frame()\\\n",
    "                        .rename(columns = {\"ref_hash\":\"device_id\"})\\\n",
    "                        .set_index(\"device_id\")"
   ]
  },
  {
   "cell_type": "markdown",
   "metadata": {},
   "source": [
    "## Cantidad de apariciones discriminando períodos"
   ]
  },
  {
   "cell_type": "code",
   "execution_count": 10,
   "metadata": {},
   "outputs": [],
   "source": [
    "# Creo columnas para luego separar\n",
    "auctions['hora'] = auctions['date'].dt.hour\n",
    "auctions['dia'] = auctions['date'].dt.day"
   ]
  },
  {
   "cell_type": "markdown",
   "metadata": {},
   "source": [
    "---"
   ]
  },
  {
   "cell_type": "markdown",
   "metadata": {},
   "source": [
    "#### Por hora"
   ]
  },
  {
   "cell_type": "code",
   "execution_count": 11,
   "metadata": {},
   "outputs": [],
   "source": [
    "feature = auctions.groupby([\"device_id\", \"hora\"]).agg(({\"date\" : \"count\"}))\n",
    "feature = feature.unstack().fillna(0).astype(np.int64)\n",
    "feature.columns = [\"apariciones_en_hora_{}\".format(hora) for hora in range(0,24)]"
   ]
  },
  {
   "cell_type": "code",
   "execution_count": 12,
   "metadata": {},
   "outputs": [],
   "source": [
    "targets_individuales = targets_individuales.merge(feature, how = 'left', right_index = True, left_index = True)"
   ]
  },
  {
   "cell_type": "code",
   "execution_count": 13,
   "metadata": {},
   "outputs": [
    {
     "data": {
      "text/plain": [
       "686"
      ]
     },
     "execution_count": 13,
     "metadata": {},
     "output_type": "execute_result"
    }
   ],
   "source": [
    "targets_individuales.isnull().sum().max()"
   ]
  },
  {
   "cell_type": "markdown",
   "metadata": {},
   "source": [
    "##### Hay 686 dispositivos sin datos de auctions"
   ]
  },
  {
   "cell_type": "markdown",
   "metadata": {},
   "source": [
    "---"
   ]
  },
  {
   "cell_type": "markdown",
   "metadata": {},
   "source": [
    "#### Por dia"
   ]
  },
  {
   "cell_type": "code",
   "execution_count": 14,
   "metadata": {},
   "outputs": [],
   "source": [
    "feature = auctions.groupby([\"device_id\", \"dia\"]).agg(({\"date\" : \"count\"}))\n",
    "feature = feature.unstack().fillna(0).astype(np.int64)\n",
    "feature.columns = [\"apariciones_en_dia_{}\".format(dia) for dia in range(1,4)]\n"
   ]
  },
  {
   "cell_type": "code",
   "execution_count": 15,
   "metadata": {},
   "outputs": [],
   "source": [
    "targets_individuales = targets_individuales.merge(feature, how = 'left', right_index = True, left_index = True)"
   ]
  },
  {
   "cell_type": "markdown",
   "metadata": {},
   "source": [
    "---"
   ]
  },
  {
   "cell_type": "markdown",
   "metadata": {},
   "source": [
    "## Sistema operativo (Android / iOS)"
   ]
  },
  {
   "cell_type": "markdown",
   "metadata": {},
   "source": [
    "#### Cantidad de so"
   ]
  },
  {
   "cell_type": "code",
   "execution_count": 16,
   "metadata": {},
   "outputs": [],
   "source": [
    "feature=  auctions.groupby(\"device_id\").agg({\"ref_type_id\" : \"nunique\"}).rename(columns={\"ref_type_id\": \"cantidad_so_registrados\"})"
   ]
  },
  {
   "cell_type": "code",
   "execution_count": 17,
   "metadata": {},
   "outputs": [],
   "source": [
    "targets_individuales = targets_individuales.merge(feature, how = 'left', right_index = True, left_index = True)"
   ]
  },
  {
   "cell_type": "markdown",
   "metadata": {},
   "source": [
    "#### Media so"
   ]
  },
  {
   "cell_type": "code",
   "execution_count": 18,
   "metadata": {},
   "outputs": [],
   "source": [
    "feature = auctions.groupby(\"device_id\").agg({\"ref_type_id\" : \"mean\"}).rename(columns={\"ref_type_id\": \"so_media\"})"
   ]
  },
  {
   "cell_type": "code",
   "execution_count": 19,
   "metadata": {},
   "outputs": [],
   "source": [
    "targets_individuales = targets_individuales.merge(feature, how = 'left', right_index = True, left_index = True)"
   ]
  },
  {
   "cell_type": "markdown",
   "metadata": {},
   "source": [
    "---"
   ]
  },
  {
   "cell_type": "markdown",
   "metadata": {},
   "source": [
    "## Tiempo medio entre apariciones"
   ]
  },
  {
   "cell_type": "code",
   "execution_count": 20,
   "metadata": {},
   "outputs": [],
   "source": [
    "gb = auctions.groupby(\"device_id\")\n",
    "ps = {}\n",
    "for t, g in gb:\n",
    "    ps[t] = g[\"date\"].sub(g[\"date\"].shift()).mean()\n",
    "feature = pd.Series(ps).dt.total_seconds().fillna(0).to_frame().rename(columns={0: \"tiempo_medio_entre_apariciones\"})"
   ]
  },
  {
   "cell_type": "code",
   "execution_count": null,
   "metadata": {},
   "outputs": [],
   "source": [
    "targets_individuales = targets_individuales.merge(feature, how = 'left', right_index = True, left_index = True)"
   ]
  },
  {
   "cell_type": "markdown",
   "metadata": {},
   "source": [
    "---"
   ]
  },
  {
   "cell_type": "markdown",
   "metadata": {},
   "source": [
    "## Tiempo máximo entre apariciones"
   ]
  },
  {
   "cell_type": "code",
   "execution_count": null,
   "metadata": {},
   "outputs": [],
   "source": [
    "gb = auctions.groupby(\"device_id\")\n",
    "ps = {}\n",
    "for t, g in gb:\n",
    "    ps[t] = g[\"date\"].sub(g[\"date\"].shift()).max()\n",
    "feature = pd.Series(ps).dt.total_seconds().fillna(0).to_frame().rename(columns={0: \"tiempo_maximo_entre_apariciones\"})"
   ]
  },
  {
   "cell_type": "code",
   "execution_count": null,
   "metadata": {},
   "outputs": [],
   "source": [
    "targets_individuales = targets_individuales.merge(feature, how = 'left', right_index = True, left_index = True)"
   ]
  },
  {
   "cell_type": "markdown",
   "metadata": {},
   "source": [
    "---"
   ]
  },
  {
   "cell_type": "markdown",
   "metadata": {},
   "source": [
    "## Desvío entre apariciones"
   ]
  },
  {
   "cell_type": "code",
   "execution_count": null,
   "metadata": {},
   "outputs": [],
   "source": [
    "gb = auctions.groupby(\"device_id\")\n",
    "ps = {}\n",
    "for t, g in gb:\n",
    "    ps[t] = g[\"date\"].sub(g[\"date\"].shift()).std()\n",
    "feature=  pd.Series(ps).dt.total_seconds().fillna(0).to_frame().rename(columns={0: \"desvio_entre_apariciones\"})"
   ]
  },
  {
   "cell_type": "code",
   "execution_count": null,
   "metadata": {},
   "outputs": [],
   "source": [
    "targets_individuales = targets_individuales.merge(feature, how = 'left', right_index = True, left_index = True)"
   ]
  },
  {
   "cell_type": "markdown",
   "metadata": {},
   "source": [
    "---"
   ]
  },
  {
   "cell_type": "markdown",
   "metadata": {},
   "source": [
    "## Cantidad de apariciones por fuente"
   ]
  },
  {
   "cell_type": "code",
   "execution_count": null,
   "metadata": {},
   "outputs": [],
   "source": [
    "feature = auctions.groupby([\"device_id\", \"source_id\"])[\"date\"].agg(\"count\").to_frame().unstack()\n",
    "feature.columns = [\"apariciones_en_source_{}\".format(x) for x in range(10)]\n",
    "feature = feature.fillna(0).astype(np.int64)"
   ]
  },
  {
   "cell_type": "code",
   "execution_count": null,
   "metadata": {},
   "outputs": [],
   "source": [
    "targets_individuales = targets_individuales.merge(feature, how = 'left', right_index = True, left_index = True)"
   ]
  },
  {
   "cell_type": "markdown",
   "metadata": {},
   "source": [
    "---"
   ]
  },
  {
   "cell_type": "markdown",
   "metadata": {},
   "source": [
    "## Tiempo desde la última aparición hasta el fin de la ventana"
   ]
  },
  {
   "cell_type": "code",
   "execution_count": null,
   "metadata": {},
   "outputs": [],
   "source": [
    "tiempo_final = \"2019-04-27\""
   ]
  },
  {
   "cell_type": "code",
   "execution_count": null,
   "metadata": {},
   "outputs": [],
   "source": [
    "feature =(np.datetime64(tiempo_final) - auctions.groupby(\"device_id\")\\\n",
    "          .agg({\"date\" : \"max\"})[\"date\"]).dt.total_seconds().to_frame()\\\n",
    "        .rename(columns={\"date\": \"tiempo_ultima_aparicion_hasta_fin_ventana\"})"
   ]
  },
  {
   "cell_type": "code",
   "execution_count": null,
   "metadata": {},
   "outputs": [],
   "source": [
    "targets_individuales = targets_individuales.merge(feature, how = 'left', right_index = True, left_index = True)"
   ]
  },
  {
   "cell_type": "markdown",
   "metadata": {},
   "source": [
    "---"
   ]
  },
  {
   "cell_type": "markdown",
   "metadata": {},
   "source": [
    "## Tiempo desde t0 hasta horas más frecuentes"
   ]
  },
  {
   "cell_type": "markdown",
   "metadata": {},
   "source": [
    "#### Funciones para evitar codigo repetido"
   ]
  },
  {
   "cell_type": "code",
   "execution_count": null,
   "metadata": {},
   "outputs": [],
   "source": [
    "def obtener_horas_aparicion_maxima(dataframe):\n",
    "    \"\"\"Devuelve un dataframe con la pinta {'device_id','hora','date'} donde cada dispositivo\n",
    "    contiene todas las horas donde su aparición en subastas sea igual a la maxima \"\"\"\n",
    "    \n",
    "    feature = dataframe.groupby([\"device_id\",\"hora\"]).agg({\"date\":\"count\"})\n",
    "    idx = feature.groupby([\"device_id\"])[\"date\"].transform(max) == feature[\"date\"]\n",
    "    feature = feature[idx]\n",
    "    feature.reset_index(inplace = True)\n",
    "    return feature"
   ]
  },
  {
   "cell_type": "code",
   "execution_count": null,
   "metadata": {},
   "outputs": [],
   "source": [
    "def obtener_tiempo_hasta_hora_minima(feature):\n",
    "    \"\"\"Recibe un dataframe feature con horas de aparicion máxima y devuelve el\n",
    "    tiempo hasta la hora minima para cada dispositivo\"\"\"\n",
    "    segundos_en_hora = 60*60\n",
    "\n",
    "    feature = feature.reset_index().groupby(\"device_id\").agg({\"hora\":\"min\"})\n",
    "    feature[\"hora\"] = feature[\"hora\"] * segundos_en_hora\n",
    "    return feature\n",
    "    "
   ]
  },
  {
   "cell_type": "markdown",
   "metadata": {},
   "source": [
    "---"
   ]
  },
  {
   "cell_type": "markdown",
   "metadata": {},
   "source": [
    "## Tiempo desde t0 hasta hora más frecuente de aparicion"
   ]
  },
  {
   "cell_type": "markdown",
   "metadata": {},
   "source": [
    "#### Frente a empate entre horas me quedaré con la minima (la mas cercana a t0)"
   ]
  },
  {
   "cell_type": "code",
   "execution_count": null,
   "metadata": {},
   "outputs": [],
   "source": [
    "auctions[\"hora\"] = auctions[\"date\"].dt.hour\n"
   ]
  },
  {
   "cell_type": "markdown",
   "metadata": {},
   "source": [
    "#### Tiempo hasta hora minima"
   ]
  },
  {
   "cell_type": "code",
   "execution_count": null,
   "metadata": {},
   "outputs": [],
   "source": [
    "segundos_en_hora = 60*60\n",
    "    \n",
    "feature = obtener_horas_aparicion_maxima(auctions)\n",
    "    \n",
    "    #Obtengo hora más cerca de t0 = 00 hs\n",
    "feature = obtener_tiempo_hasta_hora_minima(feature)\n",
    "feature.rename(columns = {\"hora\":\"tiempo_hora_frec_aparicion_subasta\"},inplace = True)\n",
    "    \n"
   ]
  },
  {
   "cell_type": "code",
   "execution_count": null,
   "metadata": {},
   "outputs": [],
   "source": [
    "targets_individuales = targets_individuales.merge(feature, how = 'left', right_index = True, left_index = True)"
   ]
  },
  {
   "cell_type": "markdown",
   "metadata": {},
   "source": [
    "---"
   ]
  },
  {
   "cell_type": "markdown",
   "metadata": {},
   "source": [
    "## Tiempo desde t0 hasta la segunda hora más frecuente de aparición"
   ]
  },
  {
   "cell_type": "code",
   "execution_count": null,
   "metadata": {},
   "outputs": [],
   "source": [
    "feature = auctions.groupby([\"device_id\",\"hora\"]).agg({\"date\":\"count\"})\n",
    "feature.reset_index(inplace = True)\n",
    "    \n",
    "    \n",
    "apariciones_maximas = obtener_horas_aparicion_maxima(auctions)\n",
    "apariciones_maximas.reset_index(inplace = True)\n",
    "\n",
    "    \n",
    "    \n",
    "#Obtengo los indices de las horas minimas de aparicion maxima para cada dispositivo\n",
    "horas_minimas = apariciones_maximas.groupby(\"device_id\")[\"hora\"].transform(min) == apariciones_maximas[\"hora\"]\n",
    "\n",
    "apariciones_maximas = apariciones_maximas[horas_minimas]\n",
    "\n",
    "    \n",
    "#Me quedo con los datos que no esten entre las horas minimas de aparicion maxima\n",
    "horas_no_minimas = ~( (feature.isin(apariciones_maximas)))\n",
    "#Todas las columnas deben ser True\n",
    "horas_no_minimas = horas_no_minimas.all(1)\n",
    "    \n",
    "        \n",
    "#Me quedo con los datos para completar aquellos dispositivos que solo contienen datos de una sola hora\n",
    "datos_restantes = feature[ ~(horas_no_minimas)]\n",
    "\n",
    "    \n",
    "#Me quedo con los datos que excluyena las horas minimas \n",
    "feature = feature[horas_no_minimas]\n",
    "    \n",
    "#obtengo las apariciones maximas dentro de los valores restantes \n",
    "feature = obtener_horas_aparicion_maxima(feature)\n",
    "    \n",
    "#obtengo las horas minimas dentro de los valores restantes( segundas horas minimas)\n",
    "feature = obtener_tiempo_hasta_hora_minima(feature)\n",
    "        \n",
    "#Me quedo con los datos que contienen solo una hora \n",
    "apariciones_unicas = ~( (datos_restantes[\"device_id\"].isin(feature.index)))\n",
    "    \n",
    "datos_restantes = datos_restantes[apariciones_unicas]\n",
    "  \n",
    "datos_restantes = obtener_tiempo_hasta_hora_minima(datos_restantes)\n",
    "     \n",
    "feature = feature.append(datos_restantes)\n",
    "    \n",
    "feature.rename(columns = {\"hora\":\"tiempo_segunda_hora_frec_aparicion\"},inplace = True)\n"
   ]
  },
  {
   "cell_type": "code",
   "execution_count": null,
   "metadata": {},
   "outputs": [],
   "source": [
    "targets_individuales = targets_individuales.merge(feature, how = 'left', right_index = True, left_index = True)"
   ]
  },
  {
   "cell_type": "code",
   "execution_count": null,
   "metadata": {},
   "outputs": [],
   "source": []
  },
  {
   "cell_type": "code",
   "execution_count": null,
   "metadata": {},
   "outputs": [],
   "source": [
    "del auctions"
   ]
  },
  {
   "cell_type": "markdown",
   "metadata": {},
   "source": [
    "----"
   ]
  },
  {
   "cell_type": "markdown",
   "metadata": {},
   "source": [
    "# Events"
   ]
  },
  {
   "cell_type": "code",
   "execution_count": null,
   "metadata": {},
   "outputs": [],
   "source": [
    "events = pd.read_pickle(\"../../../../data/tp2/events_tp2_formateado.pkl\")"
   ]
  },
  {
   "cell_type": "code",
   "execution_count": null,
   "metadata": {},
   "outputs": [],
   "source": [
    "events = events[events[\"date\"] > fecha_inicio]"
   ]
  },
  {
   "cell_type": "code",
   "execution_count": null,
   "metadata": {},
   "outputs": [],
   "source": [
    "events[\"dayofweek\"] = (events[\"date\"].dt.dayofweek).astype(\"int8\")"
   ]
  },
  {
   "cell_type": "code",
   "execution_count": null,
   "metadata": {},
   "outputs": [],
   "source": [
    "# Creo columnas para luego separar\n",
    "events['dia'] = events['date'].dt.day\n",
    "events.rename(columns = {\"dayofweek\":\"dia_de_semana\"},inplace = True)"
   ]
  },
  {
   "cell_type": "markdown",
   "metadata": {},
   "source": [
    "### Cantidad de eventos por dia"
   ]
  },
  {
   "cell_type": "code",
   "execution_count": null,
   "metadata": {},
   "outputs": [],
   "source": [
    "dia_final = 4"
   ]
  },
  {
   "cell_type": "code",
   "execution_count": null,
   "metadata": {},
   "outputs": [],
   "source": [
    "feature = events.groupby([\"device_id\", \"dia\"]).agg(({\"date\" : \"count\"}))\n",
    "feature = feature.unstack().fillna(0).astype(np.int64)\n",
    "feature.columns = [\"eventos_dia_{}\".format(dia) for dia in range(1,dia_final)]\n",
    " "
   ]
  },
  {
   "cell_type": "code",
   "execution_count": null,
   "metadata": {},
   "outputs": [],
   "source": [
    "targets_individuales = targets_individuales.merge(feature, how = 'left', right_index = True, left_index = True)"
   ]
  },
  {
   "cell_type": "markdown",
   "metadata": {},
   "source": [
    "### Cantidad de eventos wifi- sin wifi"
   ]
  },
  {
   "cell_type": "code",
   "execution_count": null,
   "metadata": {},
   "outputs": [],
   "source": [
    "events[\"sin_wifi\"] = ~(events[\"wifi\"])"
   ]
  },
  {
   "cell_type": "code",
   "execution_count": null,
   "metadata": {},
   "outputs": [],
   "source": [
    "feature = events.groupby(\"device_id\").agg({\"wifi\":\"sum\",\"sin_wifi\":\"sum\"}).rename(columns={\"wifi\": \"cant_eventos_wifi\",\n",
    "                                                                                              \"sin_wifi\":\"cant_eventos_sin_wifi\"})\n",
    "    "
   ]
  },
  {
   "cell_type": "code",
   "execution_count": null,
   "metadata": {},
   "outputs": [],
   "source": [
    "targets_individuales = targets_individuales.merge(feature, how = 'left', right_index = True, left_index = True)"
   ]
  },
  {
   "cell_type": "code",
   "execution_count": null,
   "metadata": {},
   "outputs": [],
   "source": []
  },
  {
   "cell_type": "code",
   "execution_count": null,
   "metadata": {},
   "outputs": [],
   "source": [
    "del events"
   ]
  },
  {
   "cell_type": "markdown",
   "metadata": {},
   "source": [
    "---"
   ]
  },
  {
   "cell_type": "markdown",
   "metadata": {},
   "source": [
    "# Clicks"
   ]
  },
  {
   "cell_type": "code",
   "execution_count": null,
   "metadata": {},
   "outputs": [],
   "source": [
    "clicks = pd.read_pickle(\"../../../../data/tp2/clicks_tp2_formateado.pkl\")"
   ]
  },
  {
   "cell_type": "code",
   "execution_count": null,
   "metadata": {},
   "outputs": [],
   "source": [
    "clicks = clicks[clicks[\"created\"] > fecha_inicio]"
   ]
  },
  {
   "cell_type": "markdown",
   "metadata": {},
   "source": [
    "### Cantidad de clicks por dia"
   ]
  },
  {
   "cell_type": "code",
   "execution_count": null,
   "metadata": {},
   "outputs": [],
   "source": [
    "# Creo columnas para luego separar\n",
    "clicks['dia'] = clicks['created'].dt.day"
   ]
  },
  {
   "cell_type": "code",
   "execution_count": null,
   "metadata": {},
   "outputs": [],
   "source": [
    "dias = clicks[\"dia\"].drop_duplicates\n",
    "feature = clicks.groupby([\"ref_hash\", \"dia\"]).agg(({\"created\" : \"count\"}))\n",
    "feature = feature.unstack().fillna(0).astype(np.int64)\n",
    "feature.columns = [\"clicks_en_dia_{}\".format(dia) for dia in range(1,4)]\n"
   ]
  },
  {
   "cell_type": "code",
   "execution_count": null,
   "metadata": {},
   "outputs": [],
   "source": [
    "targets_individuales = targets_individuales.merge(feature, how = 'left', right_index = True, left_index = True)"
   ]
  },
  {
   "cell_type": "code",
   "execution_count": null,
   "metadata": {},
   "outputs": [],
   "source": []
  },
  {
   "cell_type": "code",
   "execution_count": null,
   "metadata": {},
   "outputs": [],
   "source": [
    "del clicks"
   ]
  },
  {
   "cell_type": "markdown",
   "metadata": {},
   "source": [
    "---"
   ]
  },
  {
   "cell_type": "markdown",
   "metadata": {},
   "source": [
    "## Installs"
   ]
  },
  {
   "cell_type": "code",
   "execution_count": null,
   "metadata": {},
   "outputs": [],
   "source": [
    "installs = pd.read_pickle(\"../../../../data/tp2/installs_tp2_formateado.pkl\")"
   ]
  },
  {
   "cell_type": "code",
   "execution_count": null,
   "metadata": {},
   "outputs": [],
   "source": [
    "installs = installs[installs[\"created\"] > fecha_inicio]"
   ]
  },
  {
   "cell_type": "markdown",
   "metadata": {},
   "source": [
    "### Cantidad de instalaciones por dia"
   ]
  },
  {
   "cell_type": "code",
   "execution_count": null,
   "metadata": {},
   "outputs": [],
   "source": [
    "installs['dia'] = installs['created'].dt.day\n"
   ]
  },
  {
   "cell_type": "code",
   "execution_count": null,
   "metadata": {},
   "outputs": [],
   "source": [
    "dias = installs[\"dia\"].drop_duplicates\n",
    "feature = installs.groupby([\"ref_hash\", \"dia\"]).agg(({\"created\" : \"count\"}))\n",
    "feature = feature.unstack().fillna(0).astype(np.int64)\n",
    "feature.columns = [\"instalaciones_dia_{}\".format(dia) for dia in range(1,4)]\n"
   ]
  },
  {
   "cell_type": "code",
   "execution_count": null,
   "metadata": {},
   "outputs": [],
   "source": [
    "targets_individuales = targets_individuales.merge(feature, how = 'left', right_index = True, left_index = True)"
   ]
  },
  {
   "cell_type": "code",
   "execution_count": null,
   "metadata": {},
   "outputs": [],
   "source": [
    "len(targets_individuales.columns)"
   ]
  },
  {
   "cell_type": "markdown",
   "metadata": {},
   "source": [
    "---"
   ]
  },
  {
   "cell_type": "markdown",
   "metadata": {},
   "source": [
    "## Guardado"
   ]
  },
  {
   "cell_type": "code",
   "execution_count": null,
   "metadata": {},
   "outputs": [],
   "source": [
    "targets_individuales.to_pickle(\"../../features/features_preds_auctions\")"
   ]
  },
  {
   "cell_type": "code",
   "execution_count": null,
   "metadata": {},
   "outputs": [],
   "source": [
    "targets_individuales.isnull().sum()"
   ]
  },
  {
   "cell_type": "code",
   "execution_count": null,
   "metadata": {},
   "outputs": [],
   "source": [
    "targets_individuales.columns"
   ]
  },
  {
   "cell_type": "code",
   "execution_count": null,
   "metadata": {},
   "outputs": [],
   "source": []
  },
  {
   "cell_type": "code",
   "execution_count": null,
   "metadata": {},
   "outputs": [],
   "source": []
  },
  {
   "cell_type": "code",
   "execution_count": null,
   "metadata": {},
   "outputs": [],
   "source": []
  }
 ],
 "metadata": {
  "kernelspec": {
   "display_name": "Python 3",
   "language": "python",
   "name": "python3"
  },
  "language_info": {
   "codemirror_mode": {
    "name": "ipython",
    "version": 3
   },
   "file_extension": ".py",
   "mimetype": "text/x-python",
   "name": "python",
   "nbconvert_exporter": "python",
   "pygments_lexer": "ipython3",
   "version": "3.6.8"
  }
 },
 "nbformat": 4,
 "nbformat_minor": 2
}
