{
 "cells": [
  {
   "cell_type": "markdown",
   "metadata": {},
   "source": [
    "# Imports"
   ]
  },
  {
   "cell_type": "code",
   "execution_count": 1,
   "metadata": {},
   "outputs": [],
   "source": [
    "import pandas as pd\n",
    "import numpy as np\n",
    "import xgboost as xgb\n",
    "from sklearn.model_selection import train_test_split\n",
    "from sklearn.metrics import mean_squared_error\n",
    "from math import sqrt\n",
    "from matplotlib import pyplot"
   ]
  },
  {
   "cell_type": "markdown",
   "metadata": {},
   "source": [
    "---"
   ]
  },
  {
   "cell_type": "markdown",
   "metadata": {},
   "source": [
    "# Carga de datos"
   ]
  },
  {
   "cell_type": "code",
   "execution_count": 2,
   "metadata": {},
   "outputs": [],
   "source": [
    "targets_competencia = pd.read_pickle(\"../../../data/tp2/ref_hashes_target.pkl\")"
   ]
  },
  {
   "cell_type": "code",
   "execution_count": 2,
   "metadata": {},
   "outputs": [],
   "source": [
    "auctions = pd.read_pickle(\"../../../data/tp2/auctions_tp2_formateado.pkl\")\n",
    "installs = pd.read_pickle(\"../../../data/tp2/installs_tp2_formateado.pkl\")"
   ]
  },
  {
   "cell_type": "code",
   "execution_count": 3,
   "metadata": {},
   "outputs": [
    {
     "data": {
      "text/plain": [
       "'dias_installs = pd.get_dummies(installs[\"dia_de_la_semana\"]).rename(columns = {0:\"Lunes\", 1:\"Martes\", 2:\"Miercoles\", 3:\"Jueves\", 4:\"Viernes\", 5:\"Sabado\", 6:\"Domingo\"})\\ninstalls = installs.merge(dias_installs, left_index=True, right_index=True)\\ndel installs[\"dia_de_la_semana\"]\\n\\ndias_auctions = pd.get_dummies(auctions[\"dia_de_la_semana\"]).rename(columns = {0:\"Lunes\", 1:\"Martes\", 2:\"Miercoles\", 3:\"Jueves\", 4:\"Viernes\", 5:\"Sabado\", 6:\"Domingo\"})\\nauctions = auctions.merge(dias_auctions, left_index=True, right_index=True)\\ndel auctions[\"dia_de_la_semana\"]'"
      ]
     },
     "execution_count": 3,
     "metadata": {},
     "output_type": "execute_result"
    }
   ],
   "source": [
    "# Creo columnas para luego separar\n",
    "auctions['hora'] = auctions['date'].dt.hour\n",
    "auctions['dia'] = auctions['date'].dt.day\n",
    "auctions['dia_de_la_semana'] = auctions['date'].dt.dayofweek\n",
    "\n",
    "installs['hora'] = installs['created'].dt.hour\n",
    "installs['dia'] = installs['created'].dt.day\n",
    "installs['dia_de_la_semana'] = installs['created'].dt.dayofweek\n",
    "\n",
    "\"\"\"dias_installs = pd.get_dummies(installs[\"dia_de_la_semana\"]).rename(columns = {0:\"Lunes\", 1:\"Martes\", 2:\"Miercoles\", 3:\"Jueves\", 4:\"Viernes\", 5:\"Sabado\", 6:\"Domingo\"})\n",
    "installs = installs.merge(dias_installs, left_index=True, right_index=True)\n",
    "del installs[\"dia_de_la_semana\"]\n",
    "\n",
    "dias_auctions = pd.get_dummies(auctions[\"dia_de_la_semana\"]).rename(columns = {0:\"Lunes\", 1:\"Martes\", 2:\"Miercoles\", 3:\"Jueves\", 4:\"Viernes\", 5:\"Sabado\", 6:\"Domingo\"})\n",
    "auctions = auctions.merge(dias_auctions, left_index=True, right_index=True)\n",
    "del auctions[\"dia_de_la_semana\"]\"\"\""
   ]
  },
  {
   "cell_type": "code",
   "execution_count": 6,
   "metadata": {},
   "outputs": [],
   "source": [
    "auctions_competencia = auctions.loc[auctions[\"device_id\"].isin(targets_competencia.index)].copy()"
   ]
  },
  {
   "cell_type": "code",
   "execution_count": 7,
   "metadata": {},
   "outputs": [],
   "source": [
    "installs_competencia = installs.loc[installs[\"ref_hash\"].isin(targets_competencia.index)].copy()"
   ]
  },
  {
   "cell_type": "code",
   "execution_count": 8,
   "metadata": {},
   "outputs": [],
   "source": [
    "for ventana_nro in range(1,5):\n",
    "    auctions_competencia[\"ventana_{}\".format(ventana_nro)] = (((17+ventana_nro) <= auctions_competencia[\"date\"].dt.day) & ((auctions_competencia[\"date\"].dt.day) <= (19+ventana_nro)))"
   ]
  },
  {
   "cell_type": "code",
   "execution_count": 9,
   "metadata": {},
   "outputs": [],
   "source": [
    "auctions_competencia = auctions_competencia.loc[auctions['dia'] <= 23]"
   ]
  },
  {
   "cell_type": "code",
   "execution_count": 10,
   "metadata": {},
   "outputs": [],
   "source": [
    "for ventana_nro in range(1,5):\n",
    "    installs_competencia[\"ventana_{}\".format(ventana_nro)] = (((17+ventana_nro) <= installs_competencia[\"created\"].dt.day) & ((installs_competencia[\"created\"].dt.day) <= (19+ventana_nro)))"
   ]
  },
  {
   "cell_type": "code",
   "execution_count": 11,
   "metadata": {},
   "outputs": [],
   "source": [
    "installs_competencia = installs_competencia.loc[installs_competencia['dia'] <= 23]"
   ]
  },
  {
   "cell_type": "markdown",
   "metadata": {},
   "source": [
    "---"
   ]
  },
  {
   "cell_type": "markdown",
   "metadata": {},
   "source": [
    "# Armo features"
   ]
  },
  {
   "cell_type": "code",
   "execution_count": 12,
   "metadata": {},
   "outputs": [
    {
     "name": "stderr",
     "output_type": "stream",
     "text": [
      "/opt/anaconda/3/lib/python3.6/site-packages/pandas/core/frame.py:4025: SettingWithCopyWarning: \n",
      "A value is trying to be set on a copy of a slice from a DataFrame\n",
      "\n",
      "See the caveats in the documentation: http://pandas.pydata.org/pandas-docs/stable/indexing.html#indexing-view-versus-copy\n",
      "  return super(DataFrame, self).rename(**kwargs)\n"
     ]
    }
   ],
   "source": [
    "installs_competencia.rename(columns={\"ref_hash\" : \"device_id\", \"created\" : \"date\"}, inplace=True)\n",
    "targets_competencia.rename(columns={\"ref_hash\" : \"device_id\"}, inplace=True)"
   ]
  },
  {
   "cell_type": "code",
   "execution_count": 13,
   "metadata": {},
   "outputs": [
    {
     "name": "stderr",
     "output_type": "stream",
     "text": [
      "/opt/anaconda/3/lib/python3.6/site-packages/ipykernel_launcher.py:1: SettingWithCopyWarning: \n",
      "A value is trying to be set on a copy of a slice from a DataFrame\n",
      "\n",
      "See the caveats in the documentation: http://pandas.pydata.org/pandas-docs/stable/indexing.html#indexing-view-versus-copy\n",
      "  \"\"\"Entry point for launching an IPython kernel.\n"
     ]
    }
   ],
   "source": [
    "installs_competencia.sort_values(by=\"date\", inplace=True)"
   ]
  },
  {
   "cell_type": "code",
   "execution_count": 14,
   "metadata": {},
   "outputs": [],
   "source": [
    "features_auctions = targets_competencia.copy()"
   ]
  },
  {
   "cell_type": "code",
   "execution_count": 15,
   "metadata": {},
   "outputs": [],
   "source": [
    "features_installs = targets_competencia.copy()"
   ]
  },
  {
   "cell_type": "markdown",
   "metadata": {},
   "source": [
    "---"
   ]
  },
  {
   "cell_type": "markdown",
   "metadata": {},
   "source": [
    "### Tiempo medio entre apariciones \"descartando el primero\""
   ]
  },
  {
   "cell_type": "code",
   "execution_count": 17,
   "metadata": {},
   "outputs": [],
   "source": [
    "gb = auctions_competencia.groupby(\"device_id\")\n",
    "ps = {}\n",
    "for t, g in gb:\n",
    "    ps[t] = g[\"date\"].sub(g[\"date\"].shift()).mean()\n",
    "features_auctions[\"tiempo_medio_entre_apariciones_todas_las_ventanas\"] = pd.Series(ps).dt.total_seconds().to_frame().rename(columns={0: \"tiempo_medio_entre_apariciones_todas_las_ventanas\"})"
   ]
  },
  {
   "cell_type": "code",
   "execution_count": 18,
   "metadata": {},
   "outputs": [],
   "source": [
    "gb = installs_competencia.groupby(\"device_id\")\n",
    "ps = {}\n",
    "for t, g in gb:\n",
    "    ps[t] = g[\"date\"].sub(g[\"date\"].shift()).mean()\n",
    "features_installs[\"tiempo_medio_entre_apariciones_todas_las_ventanas\"] = pd.Series(ps).dt.total_seconds().to_frame().rename(columns={0: \"tiempo_medio_entre_apariciones_todas_las_ventanas\"})"
   ]
  },
  {
   "cell_type": "markdown",
   "metadata": {},
   "source": [
    "---"
   ]
  },
  {
   "cell_type": "markdown",
   "metadata": {},
   "source": [
    "### Función generadora de features"
   ]
  },
  {
   "cell_type": "code",
   "execution_count": 19,
   "metadata": {},
   "outputs": [],
   "source": [
    "def generar_feature_en_ventanas(dataframe, generador_feature, destino):\n",
    "    for ventana_nro in range(1, 5):\n",
    "        feature = generador_feature(dataframe.loc[dataframe[\"ventana_{}\".format(ventana_nro)]], ventana_nro)\n",
    "        destino[(feature.columns[0] + \"_v{}\".format(ventana_nro))] = feature[feature.columns[0]]"
   ]
  },
  {
   "cell_type": "markdown",
   "metadata": {},
   "source": [
    "---"
   ]
  },
  {
   "cell_type": "markdown",
   "metadata": {},
   "source": [
    "### Cantidad de observaciones dentro de cada ventana"
   ]
  },
  {
   "cell_type": "code",
   "execution_count": 20,
   "metadata": {},
   "outputs": [],
   "source": [
    "def cantidad_observaciones(dataframe, nro_ventana):\n",
    "    return dataframe.groupby(\"device_id\").agg({\"date\" : \"count\"}).rename(columns={\"date\": \"cantidad_observaciones\"})"
   ]
  },
  {
   "cell_type": "code",
   "execution_count": 21,
   "metadata": {},
   "outputs": [],
   "source": [
    "generar_feature_en_ventanas(auctions_competencia, cantidad_observaciones, features_auctions)"
   ]
  },
  {
   "cell_type": "code",
   "execution_count": 22,
   "metadata": {},
   "outputs": [],
   "source": [
    "generar_feature_en_ventanas(installs_competencia, cantidad_observaciones, features_installs)"
   ]
  },
  {
   "cell_type": "markdown",
   "metadata": {},
   "source": [
    "---"
   ]
  },
  {
   "cell_type": "markdown",
   "metadata": {},
   "source": [
    "### Observaciones en cada dia"
   ]
  },
  {
   "cell_type": "code",
   "execution_count": 23,
   "metadata": {},
   "outputs": [
    {
     "name": "stderr",
     "output_type": "stream",
     "text": [
      "/opt/anaconda/3/lib/python3.6/site-packages/ipykernel_launcher.py:1: SettingWithCopyWarning: \n",
      "A value is trying to be set on a copy of a slice from a DataFrame.\n",
      "Try using .loc[row_indexer,col_indexer] = value instead\n",
      "\n",
      "See the caveats in the documentation: http://pandas.pydata.org/pandas-docs/stable/indexing.html#indexing-view-versus-copy\n",
      "  \"\"\"Entry point for launching an IPython kernel.\n",
      "/opt/anaconda/3/lib/python3.6/site-packages/ipykernel_launcher.py:2: SettingWithCopyWarning: \n",
      "A value is trying to be set on a copy of a slice from a DataFrame.\n",
      "Try using .loc[row_indexer,col_indexer] = value instead\n",
      "\n",
      "See the caveats in the documentation: http://pandas.pydata.org/pandas-docs/stable/indexing.html#indexing-view-versus-copy\n",
      "  \n"
     ]
    }
   ],
   "source": [
    "auctions_competencia[\"para_contar\"] = 1\n",
    "installs_competencia[\"para_contar\"] = 1"
   ]
  },
  {
   "cell_type": "code",
   "execution_count": 24,
   "metadata": {},
   "outputs": [],
   "source": [
    "observaciones_por_dia = auctions_competencia.groupby([\"device_id\", \"dia\"]).agg({\"para_contar\" : \"count\"}).unstack().fillna(0).stack()"
   ]
  },
  {
   "cell_type": "code",
   "execution_count": 25,
   "metadata": {},
   "outputs": [],
   "source": [
    "feature = observaciones_por_dia.unstack().droplevel(axis=1, level=1)"
   ]
  },
  {
   "cell_type": "code",
   "execution_count": 26,
   "metadata": {},
   "outputs": [],
   "source": [
    "feature.columns = [\"dia_{}\".format(x) for x in range(18,24)]"
   ]
  },
  {
   "cell_type": "code",
   "execution_count": 27,
   "metadata": {},
   "outputs": [],
   "source": [
    "features_auctions = features_auctions.merge(feature, left_index=True, right_index=True, how=\"left\")"
   ]
  },
  {
   "cell_type": "code",
   "execution_count": 28,
   "metadata": {},
   "outputs": [],
   "source": [
    "observaciones_por_dia_installs = installs_competencia.groupby([\"device_id\", \"dia\"]).agg({\"para_contar\" : \"count\"}).unstack().fillna(0).stack()\n",
    "feature = observaciones_por_dia_installs.unstack().droplevel(axis=1, level=1)\n",
    "feature.columns = [\"dia_{}\".format(x) for x in range(18,24)]\n",
    "features_installs = features_installs.merge(feature, left_index=True, right_index=True, how=\"left\")"
   ]
  },
  {
   "cell_type": "markdown",
   "metadata": {},
   "source": [
    "---"
   ]
  },
  {
   "cell_type": "markdown",
   "metadata": {},
   "source": [
    "### Labels de ventanas anteriores"
   ]
  },
  {
   "cell_type": "code",
   "execution_count": 360,
   "metadata": {},
   "outputs": [],
   "source": [
    "labels_v1_auctions = pd.read_pickle(\"../../modelo/targets/targets_ventana_1_auctions.pkl\")\n",
    "labels_v1_auctions.columns = [\"label_v1\"]\n",
    "#labels_v2_auctions = pd.read_pickle(\"../../modelo/targets/targets_ventana_2_auctions.pkl\")\n",
    "#labels_v2_auctions.columns = [\"label_v2\"]\n",
    "#labels_v3_auctions = pd.read_pickle(\"../../modelo/targets/targets_ventana_3_auctions.pkl\")\n",
    "#labels_v3_auctions.columns = [\"label_v3\"]\n",
    "\n",
    "labels_v1_installs = pd.read_pickle(\"../../modelo/targets/targets_ventana_1_installs.pkl\")\n",
    "labels_v1_installs.columns = [\"label_v1\"]\n",
    "#labels_v2_installs = pd.read_pickle(\"../../modelo/targets/targets_ventana_2_installs.pkl\")\n",
    "#labels_v2_installs.columns = [\"label_v2\"]\n",
    "#labels_v3_installs = pd.read_pickle(\"../../modelo/targets/targets_ventana_3_installs.pkl\")\n",
    "#labels_v3_installs.columns = [\"label_v3\"]"
   ]
  },
  {
   "cell_type": "code",
   "execution_count": 361,
   "metadata": {},
   "outputs": [],
   "source": [
    "features_auctions = features_auctions.merge(labels_v1_auctions, left_index=True, right_index=True, how=\"left\")\n",
    "#features_auctions = features_auctions.merge(labels_v2_auctions, left_index=True, right_index=True, how=\"left\")\n",
    "#features_auctions = features_auctions.merge(labels_v3_auctions, left_index=True, right_index=True, how=\"left\")\n",
    "features_auctions[\"label_v1\"] = features_auctions[\"label_v1\"].fillna(259200)\n",
    "#features_auctions[\"label_v2\"] = features_auctions[\"label_v2\"].fillna(259200)\n",
    "#features_auctions[\"label_v3\"] = features_auctions[\"label_v3\"].fillna(259200)\n",
    "\n",
    "features_installs = features_installs.merge(labels_v1_installs, left_index=True, right_index=True, how=\"left\")\n",
    "#features_installs = features_installs.merge(labels_v2_installs, left_index=True, right_index=True, how=\"left\")\n",
    "#features_installs = features_installs.merge(labels_v3_installs, left_index=True, right_index=True, how=\"left\")\n",
    "features_installs[\"label_v1\"] = features_installs[\"label_v1\"].fillna(259200)\n",
    "#features_installs[\"label_v2\"] = features_installs[\"label_v2\"].fillna(259200)\n",
    "#features_installs[\"label_v3\"] = features_installs[\"label_v3\"].fillna(259200)"
   ]
  },
  {
   "cell_type": "markdown",
   "metadata": {},
   "source": [
    "---"
   ]
  },
  {
   "cell_type": "markdown",
   "metadata": {},
   "source": [
    "## Tiempo desde ultima aparicion en ventana hasta fin ventana"
   ]
  },
  {
   "cell_type": "code",
   "execution_count": 362,
   "metadata": {},
   "outputs": [],
   "source": [
    "def tiempo_desde_ult_aparicion_hasta_fin_ventana(dataframe, nro_ventana):\n",
    "    return (np.datetime64(\"2019-04-2{}\".format(nro_ventana)) - dataframe.groupby(\"device_id\").agg({\"date\" : \"max\"})[\"date\"]).dt.total_seconds().to_frame().rename(columns={\"date\": \"tiempo_ultima_aparicion_hasta_fin_ventana\"})"
   ]
  },
  {
   "cell_type": "code",
   "execution_count": 363,
   "metadata": {},
   "outputs": [],
   "source": [
    "generar_feature_en_ventanas(auctions_competencia, tiempo_desde_ult_aparicion_hasta_fin_ventana, features_auctions)\n",
    "generar_feature_en_ventanas(installs_competencia, tiempo_desde_ult_aparicion_hasta_fin_ventana, features_installs)"
   ]
  },
  {
   "cell_type": "markdown",
   "metadata": {},
   "source": [
    "---"
   ]
  },
  {
   "cell_type": "markdown",
   "metadata": {},
   "source": [
    "## Tiempo desde primera aparición en ventana hasta fin ventana"
   ]
  },
  {
   "cell_type": "code",
   "execution_count": 364,
   "metadata": {},
   "outputs": [],
   "source": [
    "def tiempo_desde_primera_aparicion_hasta_fin_ventana(dataframe, nro_ventana):\n",
    "    return (np.datetime64(\"2019-04-2{}\".format(nro_ventana)) - dataframe.groupby(\"device_id\").agg({\"date\" : \"min\"})[\"date\"]).dt.total_seconds().to_frame().rename(columns={\"date\": \"tiempo_primera_aparicion_hasta_fin_ventana\"})"
   ]
  },
  {
   "cell_type": "code",
   "execution_count": 365,
   "metadata": {},
   "outputs": [],
   "source": [
    "generar_feature_en_ventanas(auctions_competencia, tiempo_desde_primera_aparicion_hasta_fin_ventana, features_auctions)\n",
    "generar_feature_en_ventanas(installs_competencia, tiempo_desde_primera_aparicion_hasta_fin_ventana, features_installs)"
   ]
  },
  {
   "cell_type": "markdown",
   "metadata": {},
   "source": [
    "---"
   ]
  },
  {
   "cell_type": "markdown",
   "metadata": {},
   "source": [
    "# Modelo"
   ]
  },
  {
   "cell_type": "code",
   "execution_count": 366,
   "metadata": {},
   "outputs": [],
   "source": [
    "labels_v4_auctions = pd.read_pickle(\"../../modelo/targets/targets_ventana_4_auctions.pkl\")\n",
    "labels_v4_installs = pd.read_pickle(\"../../modelo/targets/targets_ventana_4_installs.pkl\")\n",
    "\n",
    "train_auctions = features_auctions.merge(labels_v4_auctions, left_index=True, right_index=True, how=\"left\")\n",
    "train_auctions[\"label\"] = train_auctions[\"target\"].fillna(259200)\n",
    "del train_auctions[\"target\"]\n",
    "\n",
    "train_installs = features_installs.merge(labels_v4_installs, left_index=True, right_index=True, how=\"left\")\n",
    "train_installs[\"label\"] = train_installs[\"target\"].fillna(259200)\n",
    "del train_installs[\"target\"]"
   ]
  },
  {
   "cell_type": "markdown",
   "metadata": {},
   "source": [
    "### Entrenamiento"
   ]
  },
  {
   "cell_type": "code",
   "execution_count": 391,
   "metadata": {},
   "outputs": [],
   "source": [
    "X_auctions, y_auctions = train_auctions.iloc[:,:-1], train_auctions.iloc[:,-1]\n",
    "X_train_auctions, X_test_auctions, y_train_auctions, y_test_auctions = \\\n",
    "    train_test_split(X_auctions, y_auctions, test_size=0.6, random_state=0)"
   ]
  },
  {
   "cell_type": "code",
   "execution_count": 392,
   "metadata": {},
   "outputs": [
    {
     "name": "stdout",
     "output_type": "stream",
     "text": [
      "RMSE: 71672.914245\n"
     ]
    }
   ],
   "source": [
    "model_auctions = xgb.XGBRegressor(n_jobs=6)\n",
    "model_auctions.fit(X_train_auctions, y_train_auctions)\n",
    "predicciones_auctions = model_auctions.predict(X_test_auctions)\n",
    "rmse_auctions = np.sqrt(mean_squared_error(y_test_auctions, predicciones_auctions))\n",
    "print(\"RMSE: %f\" % (rmse_auctions))"
   ]
  },
  {
   "cell_type": "markdown",
   "metadata": {},
   "source": [
    "---"
   ]
  },
  {
   "cell_type": "code",
   "execution_count": 393,
   "metadata": {},
   "outputs": [],
   "source": [
    "X_installs, y_installs = train_installs.iloc[:,:-1], train_installs.iloc[:,-1]\n",
    "X_train_installs, X_test_installs, y_train_installs, y_test_installs = \\\n",
    "    train_test_split(X_installs, y_installs, test_size=0.6, random_state=0)"
   ]
  },
  {
   "cell_type": "code",
   "execution_count": 394,
   "metadata": {},
   "outputs": [
    {
     "name": "stdout",
     "output_type": "stream",
     "text": [
      "RMSE: 26263.111489\n"
     ]
    }
   ],
   "source": [
    "model_installs = xgb.XGBRegressor(n_jobs=6)\n",
    "model_installs.fit(X_train_installs, y_train_installs)\n",
    "predicciones_installs = model_installs.predict(X_test_installs)\n",
    "rmse_installs = np.sqrt(mean_squared_error(y_test_installs, predicciones_installs))\n",
    "print(\"RMSE: %f\" % (rmse_installs))"
   ]
  },
  {
   "cell_type": "code",
   "execution_count": 395,
   "metadata": {},
   "outputs": [],
   "source": [
    "rmse_total = (mean_squared_error(y_test_auctions, predicciones_auctions))*len(y_test_auctions) + (mean_squared_error(y_test_installs, predicciones_installs))*len(y_test_installs)"
   ]
  },
  {
   "cell_type": "code",
   "execution_count": 396,
   "metadata": {},
   "outputs": [],
   "source": [
    "rmse_total = rmse_total/(len(y_test_auctions) + len(y_test_installs))"
   ]
  },
  {
   "cell_type": "code",
   "execution_count": 397,
   "metadata": {},
   "outputs": [],
   "source": [
    "rmse_total = sqrt(rmse_total)"
   ]
  },
  {
   "cell_type": "code",
   "execution_count": 398,
   "metadata": {},
   "outputs": [
    {
     "name": "stdout",
     "output_type": "stream",
     "text": [
      "RMSE TOTAL: 53975.724457\n"
     ]
    }
   ],
   "source": [
    "print(\"RMSE TOTAL: %f\" % (rmse_total))"
   ]
  },
  {
   "cell_type": "markdown",
   "metadata": {},
   "source": [
    "---"
   ]
  },
  {
   "cell_type": "markdown",
   "metadata": {},
   "source": [
    "# Con los modelos ya entrenados, calculo los nuevos features. Me interesan las ventanas 4, 5, 6 y 7, que es hasta donde hay datos"
   ]
  },
  {
   "cell_type": "code",
   "execution_count": 206,
   "metadata": {},
   "outputs": [],
   "source": [
    "auctions_competencia = auctions.loc[auctions[\"device_id\"].isin(targets_competencia.index)].copy()"
   ]
  },
  {
   "cell_type": "code",
   "execution_count": 207,
   "metadata": {},
   "outputs": [],
   "source": [
    "installs_competencia = installs.loc[installs[\"ref_hash\"].isin(targets_competencia.index)].copy()"
   ]
  },
  {
   "cell_type": "code",
   "execution_count": 208,
   "metadata": {},
   "outputs": [],
   "source": [
    "for ventana_nro in range(1,5):\n",
    "    auctions_competencia[\"ventana_{}\".format(ventana_nro)] = (((20+ventana_nro) <= auctions_competencia[\"date\"].dt.day) & ((auctions_competencia[\"date\"].dt.day) <= (22+ventana_nro)))"
   ]
  },
  {
   "cell_type": "code",
   "execution_count": 209,
   "metadata": {},
   "outputs": [],
   "source": [
    "auctions_competencia = auctions_competencia.loc[auctions['dia'] >= 21]"
   ]
  },
  {
   "cell_type": "code",
   "execution_count": 210,
   "metadata": {},
   "outputs": [],
   "source": [
    "for ventana_nro in range(1,5):\n",
    "    installs_competencia[\"ventana_{}\".format(ventana_nro)] = (((20+ventana_nro) <= installs_competencia[\"created\"].dt.day) & ((installs_competencia[\"created\"].dt.day) <= (22+ventana_nro)))"
   ]
  },
  {
   "cell_type": "code",
   "execution_count": 211,
   "metadata": {},
   "outputs": [],
   "source": [
    "installs_competencia = installs_competencia.loc[installs_competencia['dia'] >= 21]"
   ]
  },
  {
   "cell_type": "markdown",
   "metadata": {},
   "source": [
    "---"
   ]
  },
  {
   "cell_type": "markdown",
   "metadata": {},
   "source": [
    "# Armo features"
   ]
  },
  {
   "cell_type": "code",
   "execution_count": 212,
   "metadata": {},
   "outputs": [],
   "source": [
    "installs_competencia.rename(columns={\"ref_hash\" : \"device_id\", \"created\" : \"date\"}, inplace=True)\n",
    "targets_competencia.rename(columns={\"ref_hash\" : \"device_id\"}, inplace=True)"
   ]
  },
  {
   "cell_type": "code",
   "execution_count": 213,
   "metadata": {},
   "outputs": [],
   "source": [
    "installs_competencia.sort_values(by=\"date\", inplace=True)"
   ]
  },
  {
   "cell_type": "code",
   "execution_count": 214,
   "metadata": {},
   "outputs": [],
   "source": [
    "features_auctions = targets_competencia.copy()"
   ]
  },
  {
   "cell_type": "code",
   "execution_count": 215,
   "metadata": {},
   "outputs": [],
   "source": [
    "features_installs = targets_competencia.copy()"
   ]
  },
  {
   "cell_type": "markdown",
   "metadata": {},
   "source": [
    "---"
   ]
  },
  {
   "cell_type": "markdown",
   "metadata": {},
   "source": [
    "### Tiempo medio entre apariciones \"descartando el primero\""
   ]
  },
  {
   "cell_type": "code",
   "execution_count": 216,
   "metadata": {},
   "outputs": [],
   "source": [
    "gb = auctions_competencia.groupby(\"device_id\")\n",
    "ps = {}\n",
    "for t, g in gb:\n",
    "    ps[t] = g[\"date\"].sub(g[\"date\"].shift()).mean()\n",
    "features_auctions[\"tiempo_medio_entre_apariciones_todas_las_ventanas\"] = pd.Series(ps).dt.total_seconds().to_frame().rename(columns={0: \"tiempo_medio_entre_apariciones_todas_las_ventanas\"})"
   ]
  },
  {
   "cell_type": "code",
   "execution_count": 217,
   "metadata": {},
   "outputs": [],
   "source": [
    "gb = installs_competencia.groupby(\"device_id\")\n",
    "ps = {}\n",
    "for t, g in gb:\n",
    "    ps[t] = g[\"date\"].sub(g[\"date\"].shift()).mean()\n",
    "features_installs[\"tiempo_medio_entre_apariciones_todas_las_ventanas\"] = pd.Series(ps).dt.total_seconds().to_frame().rename(columns={0: \"tiempo_medio_entre_apariciones_todas_las_ventanas\"})"
   ]
  },
  {
   "cell_type": "markdown",
   "metadata": {},
   "source": [
    "---"
   ]
  },
  {
   "cell_type": "markdown",
   "metadata": {},
   "source": [
    "### Función generadora de features"
   ]
  },
  {
   "cell_type": "code",
   "execution_count": 218,
   "metadata": {},
   "outputs": [],
   "source": [
    "def generar_feature_en_ventanas(dataframe, generador_feature, destino):\n",
    "    for ventana_nro in range(1, 5):\n",
    "        feature = generador_feature(dataframe.loc[dataframe[\"ventana_{}\".format(ventana_nro)]], ventana_nro)\n",
    "        destino[(feature.columns[0] + \"_v{}\".format(ventana_nro))] = feature[feature.columns[0]]"
   ]
  },
  {
   "cell_type": "markdown",
   "metadata": {},
   "source": [
    "---"
   ]
  },
  {
   "cell_type": "markdown",
   "metadata": {},
   "source": [
    "### Cantidad de observaciones dentro de cada ventana"
   ]
  },
  {
   "cell_type": "code",
   "execution_count": 219,
   "metadata": {},
   "outputs": [],
   "source": [
    "def cantidad_observaciones(dataframe, nro_ventana):\n",
    "    return dataframe.groupby(\"device_id\").agg({\"date\" : \"count\"}).rename(columns={\"date\": \"cantidad_observaciones\"})"
   ]
  },
  {
   "cell_type": "code",
   "execution_count": 220,
   "metadata": {},
   "outputs": [],
   "source": [
    "generar_feature_en_ventanas(auctions_competencia, cantidad_observaciones, features_auctions)"
   ]
  },
  {
   "cell_type": "code",
   "execution_count": 221,
   "metadata": {},
   "outputs": [],
   "source": [
    "generar_feature_en_ventanas(installs_competencia, cantidad_observaciones, features_installs)"
   ]
  },
  {
   "cell_type": "markdown",
   "metadata": {},
   "source": [
    "---"
   ]
  },
  {
   "cell_type": "markdown",
   "metadata": {},
   "source": [
    "### Observaciones en cada dia"
   ]
  },
  {
   "cell_type": "code",
   "execution_count": 222,
   "metadata": {},
   "outputs": [],
   "source": [
    "auctions_competencia[\"para_contar\"] = 1\n",
    "installs_competencia[\"para_contar\"] = 1"
   ]
  },
  {
   "cell_type": "code",
   "execution_count": 223,
   "metadata": {},
   "outputs": [],
   "source": [
    "observaciones_por_dia = auctions_competencia.groupby([\"device_id\", \"dia\"]).agg({\"para_contar\" : \"count\"}).unstack().fillna(0).stack()"
   ]
  },
  {
   "cell_type": "code",
   "execution_count": 224,
   "metadata": {},
   "outputs": [],
   "source": [
    "feature = observaciones_por_dia.unstack().droplevel(axis=1, level=1)"
   ]
  },
  {
   "cell_type": "code",
   "execution_count": 225,
   "metadata": {},
   "outputs": [],
   "source": [
    "# Esta mal pero no importa, solo el nombre está mal\n",
    "feature.columns = [\"dia_{}\".format(x) for x in range(18,24)]"
   ]
  },
  {
   "cell_type": "code",
   "execution_count": 226,
   "metadata": {},
   "outputs": [],
   "source": [
    "features_auctions = features_auctions.merge(feature, left_index=True, right_index=True, how=\"left\")"
   ]
  },
  {
   "cell_type": "code",
   "execution_count": 227,
   "metadata": {},
   "outputs": [],
   "source": [
    "observaciones_por_dia_installs = installs_competencia.groupby([\"device_id\", \"dia\"]).agg({\"para_contar\" : \"count\"}).unstack().fillna(0).stack()\n",
    "feature = observaciones_por_dia_installs.unstack().droplevel(axis=1, level=1)\n",
    "feature.columns = [\"dia_{}\".format(x) for x in range(18,24)]\n",
    "features_installs = features_installs.merge(feature, left_index=True, right_index=True, how=\"left\")"
   ]
  },
  {
   "cell_type": "markdown",
   "metadata": {},
   "source": [
    "---"
   ]
  },
  {
   "cell_type": "markdown",
   "metadata": {},
   "source": [
    "### Labels de ventanas anteriores"
   ]
  },
  {
   "cell_type": "code",
   "execution_count": 242,
   "metadata": {},
   "outputs": [],
   "source": [
    "labels_v1_auctions = pd.read_pickle(\"../../modelo/targets/targets_ventana_4_auctions.pkl\")\n",
    "labels_v1_auctions.columns = [\"label_v1\"]\n",
    "\n",
    "labels_v1_installs = pd.read_pickle(\"../../modelo/targets/targets_ventana_4_installs.pkl\")\n",
    "labels_v1_installs.columns = [\"label_v1\"]"
   ]
  },
  {
   "cell_type": "code",
   "execution_count": 243,
   "metadata": {},
   "outputs": [],
   "source": [
    "features_auctions = features_auctions.merge(labels_v1_auctions, left_index=True, right_index=True, how=\"left\")\n",
    "features_auctions[\"label_v1\"] = features_auctions[\"label_v1\"].fillna(259200)\n",
    "\n",
    "features_installs = features_installs.merge(labels_v1_installs, left_index=True, right_index=True, how=\"left\")\n",
    "features_installs[\"label_v1\"] = features_installs[\"label_v1\"].fillna(259200)"
   ]
  },
  {
   "cell_type": "markdown",
   "metadata": {},
   "source": [
    "---"
   ]
  },
  {
   "cell_type": "markdown",
   "metadata": {},
   "source": [
    "## Tiempo desde ultima aparicion en ventana hasta fin ventana"
   ]
  },
  {
   "cell_type": "code",
   "execution_count": 244,
   "metadata": {},
   "outputs": [],
   "source": [
    "def tiempo_desde_ult_aparicion_hasta_fin_ventana(dataframe, nro_ventana):\n",
    "    return (np.datetime64(\"2019-04-2{}\".format(nro_ventana)) - dataframe.groupby(\"device_id\").agg({\"date\" : \"max\"})[\"date\"]).dt.total_seconds().to_frame().rename(columns={\"date\": \"tiempo_ultima_aparicion_hasta_fin_ventana\"})"
   ]
  },
  {
   "cell_type": "code",
   "execution_count": 245,
   "metadata": {},
   "outputs": [],
   "source": [
    "generar_feature_en_ventanas(auctions_competencia, tiempo_desde_ult_aparicion_hasta_fin_ventana, features_auctions)\n",
    "generar_feature_en_ventanas(installs_competencia, tiempo_desde_ult_aparicion_hasta_fin_ventana, features_installs)"
   ]
  },
  {
   "cell_type": "markdown",
   "metadata": {},
   "source": [
    "---"
   ]
  },
  {
   "cell_type": "markdown",
   "metadata": {},
   "source": [
    "## Tiempo desde primera aparición en ventana hasta fin ventana"
   ]
  },
  {
   "cell_type": "code",
   "execution_count": 246,
   "metadata": {},
   "outputs": [],
   "source": [
    "def tiempo_desde_primera_aparicion_hasta_fin_ventana(dataframe, nro_ventana):\n",
    "    return (np.datetime64(\"2019-04-2{}\".format(nro_ventana)) - dataframe.groupby(\"device_id\").agg({\"date\" : \"min\"})[\"date\"]).dt.total_seconds().to_frame().rename(columns={\"date\": \"tiempo_primera_aparicion_hasta_fin_ventana\"})"
   ]
  },
  {
   "cell_type": "code",
   "execution_count": 247,
   "metadata": {},
   "outputs": [],
   "source": [
    "generar_feature_en_ventanas(auctions_competencia, tiempo_desde_primera_aparicion_hasta_fin_ventana, features_auctions)\n",
    "generar_feature_en_ventanas(installs_competencia, tiempo_desde_primera_aparicion_hasta_fin_ventana, features_installs)"
   ]
  },
  {
   "cell_type": "markdown",
   "metadata": {},
   "source": [
    "---"
   ]
  },
  {
   "cell_type": "markdown",
   "metadata": {},
   "source": [
    "# Predicciones"
   ]
  },
  {
   "cell_type": "code",
   "execution_count": 254,
   "metadata": {},
   "outputs": [],
   "source": [
    "predicciones_auctions = targets_competencia.copy()"
   ]
  },
  {
   "cell_type": "code",
   "execution_count": 256,
   "metadata": {},
   "outputs": [],
   "source": [
    "predicciones_auctions[\"label\"] = model_auctions.predict(features_auctions)"
   ]
  },
  {
   "cell_type": "code",
   "execution_count": 257,
   "metadata": {},
   "outputs": [],
   "source": [
    "predicciones_installs = targets_competencia.copy()\n",
    "predicciones_installs[\"label\"] = model_installs.predict(features_installs)"
   ]
  },
  {
   "cell_type": "code",
   "execution_count": 261,
   "metadata": {},
   "outputs": [],
   "source": [
    "def corregir(x):\n",
    "    if x > 259200:\n",
    "        return 259200\n",
    "    return x"
   ]
  },
  {
   "cell_type": "code",
   "execution_count": 262,
   "metadata": {},
   "outputs": [],
   "source": [
    "predicciones_auctions[\"label\"] = predicciones_auctions[\"label\"].apply(lambda x: corregir(x))"
   ]
  },
  {
   "cell_type": "code",
   "execution_count": 264,
   "metadata": {},
   "outputs": [],
   "source": [
    "predicciones_installs[\"label\"] = predicciones_installs[\"label\"].apply(lambda x: corregir(x))"
   ]
  },
  {
   "cell_type": "markdown",
   "metadata": {},
   "source": [
    "---"
   ]
  },
  {
   "cell_type": "markdown",
   "metadata": {},
   "source": [
    "### Cargo archivo de submissions"
   ]
  },
  {
   "cell_type": "code",
   "execution_count": 266,
   "metadata": {},
   "outputs": [],
   "source": [
    "submissions = pd.read_csv(\"../../../data/tp2/target.csv\")"
   ]
  },
  {
   "cell_type": "code",
   "execution_count": 269,
   "metadata": {},
   "outputs": [
    {
     "data": {
      "text/html": [
       "<div>\n",
       "<style scoped>\n",
       "    .dataframe tbody tr th:only-of-type {\n",
       "        vertical-align: middle;\n",
       "    }\n",
       "\n",
       "    .dataframe tbody tr th {\n",
       "        vertical-align: top;\n",
       "    }\n",
       "\n",
       "    .dataframe thead th {\n",
       "        text-align: right;\n",
       "    }\n",
       "</style>\n",
       "<table border=\"1\" class=\"dataframe\">\n",
       "  <thead>\n",
       "    <tr style=\"text-align: right;\">\n",
       "      <th></th>\n",
       "      <th>ref_hash</th>\n",
       "      <th>obj</th>\n",
       "    </tr>\n",
       "  </thead>\n",
       "  <tbody>\n",
       "    <tr>\n",
       "      <th>0</th>\n",
       "      <td>1000169251625791246_sc</td>\n",
       "      <td>0</td>\n",
       "    </tr>\n",
       "    <tr>\n",
       "      <th>1</th>\n",
       "      <td>1000169251625791246_st</td>\n",
       "      <td>0</td>\n",
       "    </tr>\n",
       "    <tr>\n",
       "      <th>2</th>\n",
       "      <td>1000395625957344683_sc</td>\n",
       "      <td>0</td>\n",
       "    </tr>\n",
       "    <tr>\n",
       "      <th>3</th>\n",
       "      <td>1000395625957344683_st</td>\n",
       "      <td>0</td>\n",
       "    </tr>\n",
       "    <tr>\n",
       "      <th>4</th>\n",
       "      <td>1003027494996471685_sc</td>\n",
       "      <td>0</td>\n",
       "    </tr>\n",
       "  </tbody>\n",
       "</table>\n",
       "</div>"
      ],
      "text/plain": [
       "                 ref_hash  obj\n",
       "0  1000169251625791246_sc    0\n",
       "1  1000169251625791246_st    0\n",
       "2  1000395625957344683_sc    0\n",
       "3  1000395625957344683_st    0\n",
       "4  1003027494996471685_sc    0"
      ]
     },
     "execution_count": 269,
     "metadata": {},
     "output_type": "execute_result"
    }
   ],
   "source": [
    "submissions.head()"
   ]
  },
  {
   "cell_type": "code",
   "execution_count": 273,
   "metadata": {},
   "outputs": [],
   "source": [
    "predicciones_auctions = predicciones_auctions.reset_index()"
   ]
  },
  {
   "cell_type": "code",
   "execution_count": 278,
   "metadata": {},
   "outputs": [],
   "source": [
    "predicciones_auctions[\"ref_hash\"] = predicciones_auctions[\"ref_hash\"].apply(lambda x: str(x)+\"_st\")"
   ]
  },
  {
   "cell_type": "code",
   "execution_count": 279,
   "metadata": {},
   "outputs": [],
   "source": [
    "predicciones_installs = predicciones_installs.reset_index()\n",
    "predicciones_installs[\"ref_hash\"] = predicciones_installs[\"ref_hash\"].apply(lambda x: str(x)+\"_sc\")"
   ]
  },
  {
   "cell_type": "code",
   "execution_count": 300,
   "metadata": {},
   "outputs": [],
   "source": [
    "q = submissions.copy()"
   ]
  },
  {
   "cell_type": "code",
   "execution_count": 298,
   "metadata": {},
   "outputs": [],
   "source": [
    "rename_dict = predicciones_installs.set_index('ref_hash').to_dict()['label']"
   ]
  },
  {
   "cell_type": "code",
   "execution_count": 307,
   "metadata": {},
   "outputs": [],
   "source": [
    "rename_dict_2 = predicciones_auctions.set_index('ref_hash').to_dict()['label']"
   ]
  },
  {
   "cell_type": "code",
   "execution_count": 306,
   "metadata": {},
   "outputs": [],
   "source": [
    "q[\"obj\"] = q[\"obj\"].replace(rename_dict)"
   ]
  },
  {
   "cell_type": "code",
   "execution_count": 308,
   "metadata": {},
   "outputs": [],
   "source": [
    "q[\"obj\"] = q[\"obj\"].replace(rename_dict_2)"
   ]
  },
  {
   "cell_type": "code",
   "execution_count": 314,
   "metadata": {},
   "outputs": [],
   "source": [
    "q[\"obj\"] = round(q[\"obj\"])"
   ]
  },
  {
   "cell_type": "code",
   "execution_count": 316,
   "metadata": {},
   "outputs": [],
   "source": [
    "q[\"obj\"] = q[\"obj\"].astype(np.int64)"
   ]
  },
  {
   "cell_type": "code",
   "execution_count": 331,
   "metadata": {},
   "outputs": [],
   "source": [
    "q.set_index(\"ref_hash\").to_csv(\"target.csv\")"
   ]
  }
 ],
 "metadata": {
  "kernelspec": {
   "display_name": "Python 3",
   "language": "python",
   "name": "python3"
  },
  "language_info": {
   "codemirror_mode": {
    "name": "ipython",
    "version": 3
   },
   "file_extension": ".py",
   "mimetype": "text/x-python",
   "name": "python",
   "nbconvert_exporter": "python",
   "pygments_lexer": "ipython3",
   "version": "3.6.5"
  }
 },
 "nbformat": 4,
 "nbformat_minor": 2
}
