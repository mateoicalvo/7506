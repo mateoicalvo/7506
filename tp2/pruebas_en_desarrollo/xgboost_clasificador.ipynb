{
 "cells": [
  {
   "cell_type": "code",
   "execution_count": 1,
   "metadata": {},
   "outputs": [],
   "source": [
    "import pandas as pd\n",
    "import numpy as np\n",
    "import matplotlib.pyplot as plt\n",
    "\n",
    "# metricsa\n",
    "from sklearn.metrics import roc_auc_score\n",
    "from sklearn.model_selection import train_test_split, cross_val_score\n",
    "\n",
    "#xgb\n",
    "import xgboost as xgb"
   ]
  },
  {
   "cell_type": "markdown",
   "metadata": {},
   "source": [
    "### Carga de datos"
   ]
  },
  {
   "cell_type": "code",
   "execution_count": 2,
   "metadata": {},
   "outputs": [],
   "source": [
    "train = pd.read_pickle(\"../../armado_datos/train_completo\")"
   ]
  },
  {
   "cell_type": "code",
   "execution_count": 3,
   "metadata": {},
   "outputs": [],
   "source": [
    "train[\"target\"] = (train[\"target\"] != 259200.000000) * 1"
   ]
  },
  {
   "cell_type": "code",
   "execution_count": 4,
   "metadata": {},
   "outputs": [],
   "source": [
    "train.set_index(\"device_id\",inplace = True)"
   ]
  },
  {
   "cell_type": "code",
   "execution_count": 14,
   "metadata": {},
   "outputs": [],
   "source": [
    "RANDOM_SEED = 12\n",
    "TEST_SIZE_PERCENT = 0.2"
   ]
  },
  {
   "cell_type": "markdown",
   "metadata": {},
   "source": [
    "---"
   ]
  },
  {
   "cell_type": "markdown",
   "metadata": {},
   "source": [
    "### Prueba con todos los features, y ningun nulo"
   ]
  },
  {
   "cell_type": "code",
   "execution_count": 3,
   "metadata": {},
   "outputs": [],
   "source": [
    "train.dropna(inplace = True)"
   ]
  },
  {
   "cell_type": "code",
   "execution_count": 18,
   "metadata": {},
   "outputs": [
    {
     "data": {
      "text/plain": [
       "10098"
      ]
     },
     "execution_count": 18,
     "metadata": {},
     "output_type": "execute_result"
    }
   ],
   "source": [
    "len(train)"
   ]
  },
  {
   "cell_type": "code",
   "execution_count": 19,
   "metadata": {},
   "outputs": [
    {
     "data": {
      "text/plain": [
       "1585"
      ]
     },
     "execution_count": 19,
     "metadata": {},
     "output_type": "execute_result"
    }
   ],
   "source": [
    "(train[\"target\"] == 0).sum()"
   ]
  },
  {
   "cell_type": "code",
   "execution_count": 20,
   "metadata": {},
   "outputs": [
    {
     "data": {
      "text/plain": [
       "8513"
      ]
     },
     "execution_count": 20,
     "metadata": {},
     "output_type": "execute_result"
    }
   ],
   "source": [
    "(train[\"target\"] == 1).sum()"
   ]
  },
  {
   "cell_type": "code",
   "execution_count": 11,
   "metadata": {},
   "outputs": [],
   "source": [
    "y = train['target']\n",
    "X = train.drop(axis=1, labels=['target'])\n",
    "X_train, X_test, y_train, y_test = train_test_split(X, y, test_size=TEST_SIZE_PERCENT)\n",
    "\n",
    "feature_list = list(X.columns)"
   ]
  },
  {
   "cell_type": "code",
   "execution_count": 12,
   "metadata": {},
   "outputs": [],
   "source": [
    "rdf = xgb.XGBClassifier(learning_rate=0.05, n_estimators=130, max_depth=3,\n",
    " min_child_weight=5, gamma=0.3, subsample=0.7, colsample_bytree=0.6, reg_alpha =0.1)"
   ]
  },
  {
   "cell_type": "code",
   "execution_count": 13,
   "metadata": {},
   "outputs": [
    {
     "data": {
      "text/plain": [
       "XGBClassifier(base_score=0.5, booster='gbtree', colsample_bylevel=1,\n",
       "       colsample_bynode=1, colsample_bytree=0.6, gamma=0.3,\n",
       "       learning_rate=0.05, max_delta_step=0, max_depth=3,\n",
       "       min_child_weight=5, missing=None, n_estimators=130, n_jobs=1,\n",
       "       nthread=None, objective='binary:logistic', random_state=0,\n",
       "       reg_alpha=0.1, reg_lambda=1, scale_pos_weight=1, seed=None,\n",
       "       silent=None, subsample=0.7, verbosity=1)"
      ]
     },
     "execution_count": 13,
     "metadata": {},
     "output_type": "execute_result"
    }
   ],
   "source": [
    "rdf.fit(X_train, y_train)"
   ]
  },
  {
   "cell_type": "code",
   "execution_count": 14,
   "metadata": {},
   "outputs": [],
   "source": [
    "ret = rdf.predict_proba(X_test)"
   ]
  },
  {
   "cell_type": "code",
   "execution_count": 15,
   "metadata": {},
   "outputs": [
    {
     "data": {
      "text/plain": [
       "0.8352490421455939"
      ]
     },
     "execution_count": 15,
     "metadata": {},
     "output_type": "execute_result"
    }
   ],
   "source": [
    "y_test_predictd = ret[:, 1]\n",
    "roc_auc_score(y_test, y_test_predictd)\n"
   ]
  },
  {
   "cell_type": "code",
   "execution_count": 16,
   "metadata": {},
   "outputs": [
    {
     "data": {
      "text/plain": [
       "0.8579207920792079"
      ]
     },
     "execution_count": 16,
     "metadata": {},
     "output_type": "execute_result"
    }
   ],
   "source": [
    "rdf.score(X_test, y_test)"
   ]
  },
  {
   "cell_type": "code",
   "execution_count": 17,
   "metadata": {},
   "outputs": [
    {
     "name": "stdout",
     "output_type": "stream",
     "text": [
      "Variable: apariciones_en_dia_3_x Importance: 0.07833980023860931\n",
      "Variable: tiempo_ultima_aparicion_hasta_fin_ventana Importance: 0.06392239779233932\n",
      "Variable: apariciones_en_hora_23 Importance: 0.04261939972639084\n",
      "Variable: cantidad_apariciones Importance: 0.04084480181336403\n",
      "Variable: apariciones_en_dia_2_x Importance: 0.033088698983192444\n",
      "Variable: apariciones_en_dia_3_y Importance: 0.027529200538992882\n",
      "Variable: tiempo_segunda_hora_frec_aparicion Importance: 0.027157800272107124\n",
      "Variable: desvio_entre_apariciones Importance: 0.024031000211834908\n",
      "Variable: tiempo_medio_entre_apariciones Importance: 0.022313300520181656\n",
      "Variable: tiempo_maximo_entre_apariciones Importance: 0.020145300775766373\n",
      "Variable: apariciones_en_hora_3 Importance: 0.019584599882364273\n",
      "Variable: apariciones_en_dia_1_x Importance: 0.018661899492144585\n",
      "Variable: apariciones_en_hora_19 Importance: 0.01805569976568222\n",
      "Variable: apariciones_en_source_2 Importance: 0.016830099746584892\n",
      "Variable: apariciones_en_source_0 Importance: 0.016568200662732124\n",
      "Variable: apariciones_en_source_7 Importance: 0.01640239916741848\n",
      "Variable: apariciones_en_source_1 Importance: 0.016254600137472153\n",
      "Variable: apariciones_en_hora_15 Importance: 0.015278199687600136\n",
      "Variable: apariciones_en_hora_18 Importance: 0.015161899849772453\n",
      "Variable: apariciones_en_hora_5 Importance: 0.013823400251567364\n",
      "Variable: apariciones_en_hora_17 Importance: 0.013384499587118626\n",
      "Variable: apariciones_en_hora_14 Importance: 0.012965899892151356\n",
      "Variable: cant_eventos_23      Importance: 0.01279009971767664\n",
      "Variable: apariciones_en_hora_6 Importance: 0.012620399706065655\n",
      "Variable: apariciones_en_hora_13 Importance: 0.01252179965376854\n",
      "Variable: apariciones_en_hora_4 Importance: 0.012424900196492672\n",
      "Variable: apariciones_en_hora_0 Importance: 0.012411200441420078\n",
      "Variable: eventos_dia_3        Importance: 0.012010999955236912\n",
      "Variable: apariciones_en_hora_11 Importance: 0.011872000060975552\n",
      "Variable: apariciones_en_hora_20 Importance: 0.011828199960291386\n",
      "Variable: apariciones_en_hora_1 Importance: 0.011685900390148163\n",
      "Variable: apariciones_en_hora_12 Importance: 0.011651099659502506\n",
      "Variable: apariciones_en_dia_1_y Importance: 0.011638999916613102\n",
      "Variable: apariciones_en_hora_22 Importance: 0.011040500365197659\n",
      "Variable: apariciones_en_source_6 Importance: 0.010946800000965595\n",
      "Variable: tiempo_hasta_click_max Importance: 0.010923200286924839\n",
      "Variable: cant_eventos_2       Importance: 0.01085320021957159\n",
      "Variable: cant_eventos_15      Importance: 0.010725299827754498\n",
      "Variable: apariciones_en_source_3 Importance: 0.010653199627995491\n",
      "Variable: cant_eventos_0       Importance: 0.010413900017738342\n",
      "Variable: tiempo_hasta_click_std Importance: 0.010387999936938286\n",
      "Variable: eventos_franja_4     Importance: 0.00999940000474453\n",
      "Variable: tiempo_hora_frec_aparicion_subasta Importance: 0.009960499592125416\n",
      "Variable: cant_eventos_wifi    Importance: 0.009711300022900105\n",
      "Variable: apariciones_en_hora_7 Importance: 0.00968020036816597\n",
      "Variable: max_cant_eventos     Importance: 0.009676399640738964\n",
      "Variable: tiempo_hasta_click_mean Importance: 0.009662399999797344\n",
      "Variable: cant_eventos_7       Importance: 0.009297999553382397\n",
      "Variable: prom_eventos         Importance: 0.009237900376319885\n",
      "Variable: tiempo_medio_entre_clicks Importance: 0.009144799783825874\n",
      "Variable: cant_eventos_sin_wifi Importance: 0.009103500284254551\n",
      "Variable: cant_eventos         Importance: 0.008996900171041489\n",
      "Variable: eventos_franja_3     Importance: 0.008905399590730667\n",
      "Variable: apariciones_en_source_8 Importance: 0.008876600302755833\n",
      "Variable: apariciones_en_hora_21 Importance: 0.008759000338613987\n",
      "Variable: segs_hasta_hora_freq Importance: 0.00872610043734312\n",
      "Variable: apariciones_en_hora_16 Importance: 0.008579500019550323\n",
      "Variable: apariciones_en_source_5 Importance: 0.008570199832320213\n",
      "Variable: eventos_franja_6     Importance: 0.008130500093102455\n",
      "Variable: apariciones_en_hora_2 Importance: 0.007882099598646164\n",
      "Variable: apariciones_en_source_4 Importance: 0.007430799771100283\n",
      "Variable: eventos_franja_5     Importance: 0.007241100072860718\n",
      "Variable: eventos_franja_1     Importance: 0.00696370005607605\n",
      "Variable: tiempo_hasta_click_min Importance: 0.006121200043708086\n",
      "Variable: eventos_dia_1        Importance: 0.0051126000471413136\n",
      "Variable: eventos_dia_2        Importance: 0.0018669000128284097\n",
      "Variable: apariciones_en_hora_8 Importance: 0.0\n",
      "Variable: apariciones_en_hora_9 Importance: 0.0\n",
      "Variable: apariciones_en_hora_10 Importance: 0.0\n",
      "Variable: cantidad_so_registrados Importance: 0.0\n",
      "Variable: so_media             Importance: 0.0\n",
      "Variable: apariciones_en_source_9 Importance: 0.0\n",
      "Variable: cantidad_clicks      Importance: 0.0\n",
      "Variable: apariciones_en_dia_2_y Importance: 0.0\n",
      "Variable: cant_eventos_maximos Importance: 0.0\n",
      "Variable: eventos_franja_2     Importance: 0.0\n"
     ]
    }
   ],
   "source": [
    "# Get numerical feature importances\n",
    "importances = list(rdf.feature_importances_)\n",
    "\n",
    "# List of tuples with variable and importance\n",
    "feature_importances = [(feature, round(importance, 7)) for feature, importance in zip(feature_list, importances)]\n",
    "\n",
    "# Sort the feature importances by most important first\n",
    "feature_importances = sorted(feature_importances, key = lambda x: x[1], reverse = True)\n",
    "\n",
    "# Print out the feature and importances \n",
    "[print('Variable: {:20} Importance: {}'.format(*pair)) for pair in feature_importances];"
   ]
  },
  {
   "cell_type": "markdown",
   "metadata": {},
   "source": [
    "---"
   ]
  },
  {
   "cell_type": "markdown",
   "metadata": {},
   "source": [
    "## Prueba con todos los datos"
   ]
  },
  {
   "cell_type": "code",
   "execution_count": 10,
   "metadata": {},
   "outputs": [
    {
     "data": {
      "text/plain": [
       "1611351"
      ]
     },
     "execution_count": 10,
     "metadata": {},
     "output_type": "execute_result"
    }
   ],
   "source": [
    "len(train)"
   ]
  },
  {
   "cell_type": "code",
   "execution_count": 11,
   "metadata": {},
   "outputs": [
    {
     "data": {
      "text/plain": [
       "1137784"
      ]
     },
     "execution_count": 11,
     "metadata": {},
     "output_type": "execute_result"
    }
   ],
   "source": [
    "(train[\"target\"] == 1).sum()"
   ]
  },
  {
   "cell_type": "code",
   "execution_count": 12,
   "metadata": {},
   "outputs": [
    {
     "data": {
      "text/plain": [
       "473567"
      ]
     },
     "execution_count": 12,
     "metadata": {},
     "output_type": "execute_result"
    }
   ],
   "source": [
    "(train[\"target\"] == 0).sum()"
   ]
  },
  {
   "cell_type": "code",
   "execution_count": 6,
   "metadata": {},
   "outputs": [],
   "source": [
    "columnas_eliminar = ['apariciones_en_hora_0',\n",
    "       'apariciones_en_hora_1', 'apariciones_en_hora_2',\n",
    "       'apariciones_en_hora_3', 'apariciones_en_hora_4',\n",
    "       'apariciones_en_hora_5', 'apariciones_en_hora_6',\n",
    "       'apariciones_en_hora_7', 'apariciones_en_hora_8',\n",
    "       'apariciones_en_hora_9', 'apariciones_en_hora_10',\n",
    "       'apariciones_en_hora_11', 'apariciones_en_hora_12',\n",
    "       'apariciones_en_hora_13', 'apariciones_en_hora_14',\n",
    "       'apariciones_en_hora_15', 'apariciones_en_hora_16',\n",
    "       'apariciones_en_hora_17', 'apariciones_en_hora_18',\n",
    "       'apariciones_en_hora_19', 'apariciones_en_hora_20',\n",
    "       'apariciones_en_hora_21', 'apariciones_en_hora_22',\n",
    "       'apariciones_en_hora_23',]"
   ]
  },
  {
   "cell_type": "code",
   "execution_count": 8,
   "metadata": {},
   "outputs": [],
   "source": [
    "train.drop(columns = columnas_eliminar,inplace = True)"
   ]
  },
  {
   "cell_type": "code",
   "execution_count": 9,
   "metadata": {},
   "outputs": [
    {
     "data": {
      "text/plain": [
       "Index(['target', 'cantidad_apariciones', 'apariciones_en_dia_1_x',\n",
       "       'apariciones_en_dia_2_x', 'apariciones_en_dia_3_x',\n",
       "       'cantidad_so_registrados', 'so_media', 'tiempo_medio_entre_apariciones',\n",
       "       'tiempo_maximo_entre_apariciones', 'desvio_entre_apariciones',\n",
       "       'apariciones_en_source_0', 'apariciones_en_source_1',\n",
       "       'apariciones_en_source_2', 'apariciones_en_source_3',\n",
       "       'apariciones_en_source_4', 'apariciones_en_source_5',\n",
       "       'apariciones_en_source_6', 'apariciones_en_source_7',\n",
       "       'apariciones_en_source_8', 'apariciones_en_source_9',\n",
       "       'tiempo_ultima_aparicion_hasta_fin_ventana',\n",
       "       'tiempo_hora_frec_aparicion_subasta',\n",
       "       'tiempo_segunda_hora_frec_aparicion', 'tiempo_hasta_click_mean',\n",
       "       'tiempo_hasta_click_max', 'tiempo_hasta_click_min',\n",
       "       'tiempo_hasta_click_std', 'cantidad_clicks', 'apariciones_en_dia_1_y',\n",
       "       'apariciones_en_dia_2_y', 'apariciones_en_dia_3_y',\n",
       "       'tiempo_medio_entre_clicks', 'cant_eventos', 'prom_eventos',\n",
       "       'eventos_dia_1', 'eventos_dia_2', 'eventos_dia_3', 'max_cant_eventos',\n",
       "       'cant_eventos_maximos', 'segs_hasta_hora_freq', 'eventos_franja_1',\n",
       "       'eventos_franja_2', 'eventos_franja_3', 'eventos_franja_4',\n",
       "       'eventos_franja_5', 'eventos_franja_6', 'cant_eventos_wifi',\n",
       "       'cant_eventos_sin_wifi', 'cant_eventos_15', 'cant_eventos_23',\n",
       "       'cant_eventos_7', 'cant_eventos_0', 'cant_eventos_2'],\n",
       "      dtype='object')"
      ]
     },
     "execution_count": 9,
     "metadata": {},
     "output_type": "execute_result"
    }
   ],
   "source": [
    "train.columns"
   ]
  },
  {
   "cell_type": "code",
   "execution_count": 15,
   "metadata": {},
   "outputs": [],
   "source": [
    "y = train['target']\n",
    "X = train.drop(axis=1, labels=['target'])\n",
    "X_train, X_test, y_train, y_test = train_test_split(X, y, test_size=TEST_SIZE_PERCENT)\n",
    "\n",
    "feature_list = list(X.columns)"
   ]
  },
  {
   "cell_type": "code",
   "execution_count": 17,
   "metadata": {},
   "outputs": [],
   "source": [
    "rdf = xgb.XGBClassifier(learning_rate=0.05, n_estimators=130, max_depth=3,\n",
    " min_child_weight=5, gamma=0.3, subsample=0.7, colsample_bytree=0.6, reg_alpha =0.1)"
   ]
  },
  {
   "cell_type": "code",
   "execution_count": 18,
   "metadata": {},
   "outputs": [
    {
     "data": {
      "text/plain": [
       "XGBClassifier(base_score=0.5, booster='gbtree', colsample_bylevel=1,\n",
       "       colsample_bynode=1, colsample_bytree=0.6, gamma=0.3,\n",
       "       learning_rate=0.05, max_delta_step=0, max_depth=3,\n",
       "       min_child_weight=5, missing=None, n_estimators=130, n_jobs=1,\n",
       "       nthread=None, objective='binary:logistic', random_state=0,\n",
       "       reg_alpha=0.1, reg_lambda=1, scale_pos_weight=1, seed=None,\n",
       "       silent=None, subsample=0.7, verbosity=1)"
      ]
     },
     "execution_count": 18,
     "metadata": {},
     "output_type": "execute_result"
    }
   ],
   "source": [
    "rdf.fit(X_train, y_train)"
   ]
  },
  {
   "cell_type": "code",
   "execution_count": 19,
   "metadata": {},
   "outputs": [],
   "source": [
    "ret = rdf.predict_proba(X_test)"
   ]
  },
  {
   "cell_type": "code",
   "execution_count": 20,
   "metadata": {},
   "outputs": [
    {
     "data": {
      "text/plain": [
       "0.7607191256961423"
      ]
     },
     "execution_count": 20,
     "metadata": {},
     "output_type": "execute_result"
    }
   ],
   "source": [
    "y_test_predictd = ret[:, 1]\n",
    "roc_auc_score(y_test, y_test_predictd)\n"
   ]
  },
  {
   "cell_type": "code",
   "execution_count": 21,
   "metadata": {},
   "outputs": [
    {
     "data": {
      "text/plain": [
       "0.7261776579338507"
      ]
     },
     "execution_count": 21,
     "metadata": {},
     "output_type": "execute_result"
    }
   ],
   "source": [
    "rdf.score(X_test, y_test)"
   ]
  },
  {
   "cell_type": "markdown",
   "metadata": {},
   "source": [
    "## Prueba solo datos de auctions sin los datos de cada hora"
   ]
  },
  {
   "cell_type": "code",
   "execution_count": 24,
   "metadata": {},
   "outputs": [
    {
     "data": {
      "text/plain": [
       "Index(['target', 'cantidad_apariciones', 'apariciones_en_dia_1_x',\n",
       "       'apariciones_en_dia_2_x', 'apariciones_en_dia_3_x',\n",
       "       'cantidad_so_registrados', 'so_media', 'tiempo_medio_entre_apariciones',\n",
       "       'tiempo_maximo_entre_apariciones', 'desvio_entre_apariciones',\n",
       "       'apariciones_en_source_0', 'apariciones_en_source_1',\n",
       "       'apariciones_en_source_2', 'apariciones_en_source_3',\n",
       "       'apariciones_en_source_4', 'apariciones_en_source_5',\n",
       "       'apariciones_en_source_6', 'apariciones_en_source_7',\n",
       "       'apariciones_en_source_8', 'apariciones_en_source_9',\n",
       "       'tiempo_ultima_aparicion_hasta_fin_ventana',\n",
       "       'tiempo_hora_frec_aparicion_subasta',\n",
       "       'tiempo_segunda_hora_frec_aparicion', 'tiempo_hasta_click_mean',\n",
       "       'tiempo_hasta_click_max', 'tiempo_hasta_click_min',\n",
       "       'tiempo_hasta_click_std', 'cantidad_clicks', 'apariciones_en_dia_1_y',\n",
       "       'apariciones_en_dia_2_y', 'apariciones_en_dia_3_y',\n",
       "       'tiempo_medio_entre_clicks', 'cant_eventos', 'prom_eventos',\n",
       "       'eventos_dia_1', 'eventos_dia_2', 'eventos_dia_3', 'max_cant_eventos',\n",
       "       'cant_eventos_maximos', 'segs_hasta_hora_freq', 'eventos_franja_1',\n",
       "       'eventos_franja_2', 'eventos_franja_3', 'eventos_franja_4',\n",
       "       'eventos_franja_5', 'eventos_franja_6', 'cant_eventos_wifi',\n",
       "       'cant_eventos_sin_wifi', 'cant_eventos_15', 'cant_eventos_23',\n",
       "       'cant_eventos_7', 'cant_eventos_0', 'cant_eventos_2'],\n",
       "      dtype='object')"
      ]
     },
     "execution_count": 24,
     "metadata": {},
     "output_type": "execute_result"
    }
   ],
   "source": [
    "train.columns"
   ]
  },
  {
   "cell_type": "code",
   "execution_count": 26,
   "metadata": {},
   "outputs": [],
   "source": [
    "columnas_eliminar = ['tiempo_hasta_click_mean',\n",
    "       'tiempo_hasta_click_max', 'tiempo_hasta_click_min',\n",
    "       'tiempo_hasta_click_std', 'cantidad_clicks', 'apariciones_en_dia_1_y',\n",
    "       'apariciones_en_dia_2_y', 'apariciones_en_dia_3_y',\n",
    "       'tiempo_medio_entre_clicks', 'cant_eventos', 'prom_eventos',\n",
    "       'eventos_dia_1', 'eventos_dia_2', 'eventos_dia_3', 'max_cant_eventos',\n",
    "       'cant_eventos_maximos', 'segs_hasta_hora_freq', 'eventos_franja_1',\n",
    "       'eventos_franja_2', 'eventos_franja_3', 'eventos_franja_4',\n",
    "       'eventos_franja_5', 'eventos_franja_6', 'cant_eventos_wifi',\n",
    "       'cant_eventos_sin_wifi', 'cant_eventos_15', 'cant_eventos_23',\n",
    "       'cant_eventos_7', 'cant_eventos_0', 'cant_eventos_2']"
   ]
  },
  {
   "cell_type": "code",
   "execution_count": 28,
   "metadata": {},
   "outputs": [],
   "source": [
    "train.drop(columns = columnas_eliminar,inplace = True)"
   ]
  },
  {
   "cell_type": "code",
   "execution_count": 30,
   "metadata": {},
   "outputs": [
    {
     "data": {
      "text/plain": [
       "0"
      ]
     },
     "execution_count": 30,
     "metadata": {},
     "output_type": "execute_result"
    }
   ],
   "source": [
    "train.isnull().sum().sum()"
   ]
  },
  {
   "cell_type": "code",
   "execution_count": 31,
   "metadata": {},
   "outputs": [
    {
     "data": {
      "text/plain": [
       "1611351"
      ]
     },
     "execution_count": 31,
     "metadata": {},
     "output_type": "execute_result"
    }
   ],
   "source": [
    "len(train)"
   ]
  },
  {
   "cell_type": "code",
   "execution_count": 32,
   "metadata": {},
   "outputs": [],
   "source": [
    "y = train['target']\n",
    "X = train.drop(axis=1, labels=['target'])\n",
    "X_train, X_test, y_train, y_test = train_test_split(X, y, test_size=TEST_SIZE_PERCENT)\n",
    "\n",
    "feature_list = list(X.columns)"
   ]
  },
  {
   "cell_type": "code",
   "execution_count": 33,
   "metadata": {},
   "outputs": [],
   "source": [
    "rdf = xgb.XGBClassifier(learning_rate=0.05, n_estimators=130, max_depth=3,\n",
    " min_child_weight=5, gamma=0.3, subsample=0.7, colsample_bytree=0.6, reg_alpha =0.1)\n",
    "\n",
    "rdf.fit(X_train, y_train)\n",
    "\n",
    "ret = rdf.predict_proba(X_test)\n"
   ]
  },
  {
   "cell_type": "code",
   "execution_count": 34,
   "metadata": {},
   "outputs": [
    {
     "data": {
      "text/plain": [
       "0.7607431674054499"
      ]
     },
     "execution_count": 34,
     "metadata": {},
     "output_type": "execute_result"
    }
   ],
   "source": [
    "y_test_predictd = ret[:, 1]\n",
    "roc_auc_score(y_test, y_test_predictd)\n"
   ]
  },
  {
   "cell_type": "code",
   "execution_count": 35,
   "metadata": {},
   "outputs": [
    {
     "data": {
      "text/plain": [
       "0.7259573464568639"
      ]
     },
     "execution_count": 35,
     "metadata": {},
     "output_type": "execute_result"
    }
   ],
   "source": [
    "rdf.score(X_test, y_test)"
   ]
  },
  {
   "cell_type": "markdown",
   "metadata": {},
   "source": [
    "### Prueba con los features de events y auctions sin nulos"
   ]
  },
  {
   "cell_type": "code",
   "execution_count": 2,
   "metadata": {},
   "outputs": [],
   "source": [
    "train = pd.read_pickle(\"../../armado_datos/train_completo\")\n",
    "train[\"target\"] = (train[\"target\"] != 259200.000000) * 1\n",
    "train.set_index(\"device_id\",inplace = True)\n"
   ]
  },
  {
   "cell_type": "code",
   "execution_count": 3,
   "metadata": {},
   "outputs": [],
   "source": [
    "RANDOM_SEED = 12\n",
    "TEST_SIZE_PERCENT = 0.2"
   ]
  },
  {
   "cell_type": "code",
   "execution_count": 4,
   "metadata": {},
   "outputs": [
    {
     "data": {
      "text/plain": [
       "Index(['target', 'cantidad_apariciones', 'apariciones_en_hora_0',\n",
       "       'apariciones_en_hora_1', 'apariciones_en_hora_2',\n",
       "       'apariciones_en_hora_3', 'apariciones_en_hora_4',\n",
       "       'apariciones_en_hora_5', 'apariciones_en_hora_6',\n",
       "       'apariciones_en_hora_7', 'apariciones_en_hora_8',\n",
       "       'apariciones_en_hora_9', 'apariciones_en_hora_10',\n",
       "       'apariciones_en_hora_11', 'apariciones_en_hora_12',\n",
       "       'apariciones_en_hora_13', 'apariciones_en_hora_14',\n",
       "       'apariciones_en_hora_15', 'apariciones_en_hora_16',\n",
       "       'apariciones_en_hora_17', 'apariciones_en_hora_18',\n",
       "       'apariciones_en_hora_19', 'apariciones_en_hora_20',\n",
       "       'apariciones_en_hora_21', 'apariciones_en_hora_22',\n",
       "       'apariciones_en_hora_23', 'apariciones_en_dia_1_x',\n",
       "       'apariciones_en_dia_2_x', 'apariciones_en_dia_3_x',\n",
       "       'cantidad_so_registrados', 'so_media', 'tiempo_medio_entre_apariciones',\n",
       "       'tiempo_maximo_entre_apariciones', 'desvio_entre_apariciones',\n",
       "       'apariciones_en_source_0', 'apariciones_en_source_1',\n",
       "       'apariciones_en_source_2', 'apariciones_en_source_3',\n",
       "       'apariciones_en_source_4', 'apariciones_en_source_5',\n",
       "       'apariciones_en_source_6', 'apariciones_en_source_7',\n",
       "       'apariciones_en_source_8', 'apariciones_en_source_9',\n",
       "       'tiempo_ultima_aparicion_hasta_fin_ventana',\n",
       "       'tiempo_hora_frec_aparicion_subasta',\n",
       "       'tiempo_segunda_hora_frec_aparicion', 'tiempo_hasta_click_mean',\n",
       "       'tiempo_hasta_click_max', 'tiempo_hasta_click_min',\n",
       "       'tiempo_hasta_click_std', 'cantidad_clicks', 'apariciones_en_dia_1_y',\n",
       "       'apariciones_en_dia_2_y', 'apariciones_en_dia_3_y',\n",
       "       'tiempo_medio_entre_clicks', 'cant_eventos', 'prom_eventos',\n",
       "       'eventos_dia_1', 'eventos_dia_2', 'eventos_dia_3', 'max_cant_eventos',\n",
       "       'cant_eventos_maximos', 'segs_hasta_hora_freq', 'eventos_franja_1',\n",
       "       'eventos_franja_2', 'eventos_franja_3', 'eventos_franja_4',\n",
       "       'eventos_franja_5', 'eventos_franja_6', 'cant_eventos_wifi',\n",
       "       'cant_eventos_sin_wifi', 'cant_eventos_15', 'cant_eventos_23',\n",
       "       'cant_eventos_7', 'cant_eventos_0', 'cant_eventos_2'],\n",
       "      dtype='object')"
      ]
     },
     "execution_count": 4,
     "metadata": {},
     "output_type": "execute_result"
    }
   ],
   "source": [
    "train.columns"
   ]
  },
  {
   "cell_type": "code",
   "execution_count": 5,
   "metadata": {},
   "outputs": [],
   "source": [
    "columnas_clicks = ['tiempo_hasta_click_mean',\n",
    "       'tiempo_hasta_click_max', 'tiempo_hasta_click_min',\n",
    "       'tiempo_hasta_click_std', 'cantidad_clicks', 'apariciones_en_dia_1_y',\n",
    "       'apariciones_en_dia_2_y', 'apariciones_en_dia_3_y',\n",
    "       'tiempo_medio_entre_clicks']"
   ]
  },
  {
   "cell_type": "code",
   "execution_count": 6,
   "metadata": {},
   "outputs": [],
   "source": [
    "train.drop(columns = columnas_clicks, inplace= True)"
   ]
  },
  {
   "cell_type": "code",
   "execution_count": 7,
   "metadata": {},
   "outputs": [],
   "source": [
    "train.dropna(inplace = True)"
   ]
  },
  {
   "cell_type": "code",
   "execution_count": 8,
   "metadata": {},
   "outputs": [
    {
     "data": {
      "text/plain": [
       "401576"
      ]
     },
     "execution_count": 8,
     "metadata": {},
     "output_type": "execute_result"
    }
   ],
   "source": [
    "len(train)"
   ]
  },
  {
   "cell_type": "code",
   "execution_count": 9,
   "metadata": {},
   "outputs": [],
   "source": [
    "y = train['target']\n",
    "X = train.drop(axis=1, labels=['target'])\n",
    "X_train, X_test, y_train, y_test = train_test_split(X, y, test_size=TEST_SIZE_PERCENT)\n",
    "\n",
    "feature_list = list(X.columns)"
   ]
  },
  {
   "cell_type": "code",
   "execution_count": 10,
   "metadata": {},
   "outputs": [],
   "source": [
    "model = xgb.XGBClassifier(learning_rate=0.05, n_estimators=130, max_depth=3,\n",
    " min_child_weight=5, gamma=0.3, subsample=0.7, colsample_bytree=0.6, reg_alpha =0.1)\n",
    "\n",
    "model.fit(X_train, y_train)\n",
    "\n",
    "ret = model.predict_proba(X_test)\n"
   ]
  },
  {
   "cell_type": "code",
   "execution_count": 11,
   "metadata": {},
   "outputs": [
    {
     "data": {
      "text/plain": [
       "0.7733783329058075"
      ]
     },
     "execution_count": 11,
     "metadata": {},
     "output_type": "execute_result"
    }
   ],
   "source": [
    "y_test_predictd = ret[:, 1]\n",
    "roc_auc_score(y_test, y_test_predictd)"
   ]
  },
  {
   "cell_type": "code",
   "execution_count": 13,
   "metadata": {},
   "outputs": [
    {
     "data": {
      "text/plain": [
       "0.7298047711539419"
      ]
     },
     "execution_count": 13,
     "metadata": {},
     "output_type": "execute_result"
    }
   ],
   "source": [
    "model.score(X_test, y_test)"
   ]
  },
  {
   "cell_type": "code",
   "execution_count": 14,
   "metadata": {},
   "outputs": [],
   "source": [
    "model.save_model(\"0001.modelo_clasificacion\")"
   ]
  },
  {
   "cell_type": "code",
   "execution_count": 13,
   "metadata": {},
   "outputs": [
    {
     "data": {
      "text/plain": [
       "0.7713416452975753"
      ]
     },
     "execution_count": 13,
     "metadata": {},
     "output_type": "execute_result"
    }
   ],
   "source": [
    "y_test_predictd = ret[:, 1]\n",
    "roc_auc_score(y_test, y_test_predictd)\n"
   ]
  },
  {
   "cell_type": "code",
   "execution_count": 14,
   "metadata": {},
   "outputs": [
    {
     "data": {
      "text/plain": [
       "0.7301782957318591"
      ]
     },
     "execution_count": 14,
     "metadata": {},
     "output_type": "execute_result"
    }
   ],
   "source": [
    "rdf.score(X_test, y_test)"
   ]
  },
  {
   "cell_type": "code",
   "execution_count": 15,
   "metadata": {},
   "outputs": [
    {
     "name": "stdout",
     "output_type": "stream",
     "text": [
      "Variable: desvio_entre_apariciones Importance: 0.26705020666122437\n",
      "Variable: tiempo_maximo_entre_apariciones Importance: 0.09076780080795288\n",
      "Variable: apariciones_en_dia_3_x Importance: 0.07831910252571106\n",
      "Variable: tiempo_ultima_aparicion_hasta_fin_ventana Importance: 0.04868759959936142\n",
      "Variable: apariciones_en_dia_2_x Importance: 0.04182739928364754\n",
      "Variable: tiempo_medio_entre_apariciones Importance: 0.03817790001630783\n",
      "Variable: apariciones_en_hora_2 Importance: 0.02842009998857975\n",
      "Variable: cantidad_apariciones Importance: 0.028287900611758232\n",
      "Variable: apariciones_en_dia_1_x Importance: 0.02703920006752014\n",
      "Variable: apariciones_en_hora_23 Importance: 0.02547050081193447\n",
      "Variable: apariciones_en_hora_19 Importance: 0.025250399485230446\n",
      "Variable: apariciones_en_hora_22 Importance: 0.023350799456238747\n",
      "Variable: prom_eventos         Importance: 0.01897530071437359\n",
      "Variable: cant_eventos_sin_wifi Importance: 0.01680069975554943\n",
      "Variable: tiempo_segunda_hora_frec_aparicion Importance: 0.01673319935798645\n",
      "Variable: cant_eventos         Importance: 0.014097499661147594\n",
      "Variable: apariciones_en_hora_20 Importance: 0.012844700366258621\n",
      "Variable: cant_eventos_7       Importance: 0.01193500030785799\n",
      "Variable: apariciones_en_hora_18 Importance: 0.011257600039243698\n",
      "Variable: apariciones_en_hora_17 Importance: 0.01064939983189106\n",
      "Variable: apariciones_en_hora_13 Importance: 0.010568399913609028\n",
      "Variable: apariciones_en_hora_15 Importance: 0.010072099976241589\n",
      "Variable: apariciones_en_hora_4 Importance: 0.009958299808204174\n",
      "Variable: apariciones_en_hora_14 Importance: 0.009374099783599377\n",
      "Variable: apariciones_en_hora_16 Importance: 0.009196300059556961\n",
      "Variable: apariciones_en_source_1 Importance: 0.008830600418150425\n",
      "Variable: apariciones_en_source_3 Importance: 0.008324500173330307\n",
      "Variable: max_cant_eventos     Importance: 0.007294000126421452\n",
      "Variable: eventos_dia_3        Importance: 0.007154699880629778\n",
      "Variable: apariciones_en_source_7 Importance: 0.00663729989901185\n",
      "Variable: apariciones_en_hora_12 Importance: 0.005998900160193443\n",
      "Variable: apariciones_en_hora_3 Importance: 0.005845500156283379\n",
      "Variable: apariciones_en_hora_21 Importance: 0.005607400089502335\n",
      "Variable: apariciones_en_source_5 Importance: 0.0055807000026106834\n",
      "Variable: apariciones_en_hora_6 Importance: 0.00543709984049201\n",
      "Variable: apariciones_en_source_6 Importance: 0.00501850014552474\n",
      "Variable: apariciones_en_hora_5 Importance: 0.0048501999117434025\n",
      "Variable: apariciones_en_hora_9 Importance: 0.004811599850654602\n",
      "Variable: apariciones_en_hora_0 Importance: 0.0040802001021802425\n",
      "Variable: apariciones_en_hora_10 Importance: 0.003913199994713068\n",
      "Variable: apariciones_en_hora_8 Importance: 0.003472199896350503\n",
      "Variable: eventos_dia_1        Importance: 0.0026142001152038574\n",
      "Variable: cant_eventos_15      Importance: 0.0024204999208450317\n",
      "Variable: apariciones_en_hora_1 Importance: 0.0023399998899549246\n",
      "Variable: apariciones_en_hora_11 Importance: 0.002230999991297722\n",
      "Variable: cant_eventos_maximos Importance: 0.0020256999414414167\n",
      "Variable: eventos_franja_4     Importance: 0.0019520999630913138\n",
      "Variable: cant_eventos_23      Importance: 0.0018609999679028988\n",
      "Variable: tiempo_hora_frec_aparicion_subasta Importance: 0.0013325000181794167\n",
      "Variable: apariciones_en_source_0 Importance: 0.0012798999669030309\n",
      "Variable: segs_hasta_hora_freq Importance: 0.0010264000156894326\n",
      "Variable: apariciones_en_source_8 Importance: 0.001016999944113195\n",
      "Variable: eventos_franja_5     Importance: 0.0008052000193856657\n",
      "Variable: apariciones_en_source_2 Importance: 0.0005667000077664852\n",
      "Variable: so_media             Importance: 0.0005595000111497939\n",
      "Variable: apariciones_en_hora_7 Importance: 0.0\n",
      "Variable: cantidad_so_registrados Importance: 0.0\n",
      "Variable: apariciones_en_source_4 Importance: 0.0\n",
      "Variable: apariciones_en_source_9 Importance: 0.0\n",
      "Variable: eventos_dia_2        Importance: 0.0\n",
      "Variable: eventos_franja_1     Importance: 0.0\n",
      "Variable: eventos_franja_2     Importance: 0.0\n",
      "Variable: eventos_franja_3     Importance: 0.0\n",
      "Variable: eventos_franja_6     Importance: 0.0\n",
      "Variable: cant_eventos_wifi    Importance: 0.0\n",
      "Variable: cant_eventos_0       Importance: 0.0\n",
      "Variable: cant_eventos_2       Importance: 0.0\n"
     ]
    }
   ],
   "source": [
    "# Get numerical feature importances\n",
    "importances = list(rdf.feature_importances_)\n",
    "\n",
    "# List of tuples with variable and importance\n",
    "feature_importances = [(feature, round(importance, 7)) for feature, importance in zip(feature_list, importances)]\n",
    "\n",
    "# Sort the feature importances by most important first\n",
    "feature_importances = sorted(feature_importances, key = lambda x: x[1], reverse = True)\n",
    "\n",
    "# Print out the feature and importances \n",
    "[print('Variable: {:20} Importance: {}'.format(*pair)) for pair in feature_importances];"
   ]
  },
  {
   "cell_type": "markdown",
   "metadata": {},
   "source": [
    "### Prueba con todos los datos habidos y por haber"
   ]
  },
  {
   "cell_type": "code",
   "execution_count": 3,
   "metadata": {},
   "outputs": [],
   "source": [
    "train = pd.read_pickle(\"../../armado_datos/train_completo\")\n",
    "train[\"target\"] = (train[\"target\"] != 259200.000000) * 1\n",
    "train.set_index(\"device_id\",inplace = True)\n"
   ]
  },
  {
   "cell_type": "code",
   "execution_count": 4,
   "metadata": {},
   "outputs": [],
   "source": [
    "RANDOM_SEED = 12\n",
    "TEST_SIZE_PERCENT = 0.2"
   ]
  },
  {
   "cell_type": "code",
   "execution_count": 6,
   "metadata": {},
   "outputs": [],
   "source": [
    "y = train['target']\n",
    "X = train.drop(axis=1, labels=['target'])\n",
    "X_train, X_test, y_train, y_test = train_test_split(X, y, test_size=TEST_SIZE_PERCENT)\n",
    "\n",
    "feature_list = list(X.columns)"
   ]
  },
  {
   "cell_type": "code",
   "execution_count": 7,
   "metadata": {},
   "outputs": [],
   "source": [
    "rdf = xgb.XGBClassifier(learning_rate=0.05, n_estimators=130, max_depth=3,\n",
    " min_child_weight=5, gamma=0.3, subsample=0.7, colsample_bytree=0.6, reg_alpha =0.1)\n",
    "\n",
    "rdf.fit(X_train, y_train)\n",
    "\n",
    "ret = rdf.predict_proba(X_test)"
   ]
  },
  {
   "cell_type": "code",
   "execution_count": 8,
   "metadata": {},
   "outputs": [
    {
     "data": {
      "text/plain": [
       "0.7601573213008006"
      ]
     },
     "execution_count": 8,
     "metadata": {},
     "output_type": "execute_result"
    }
   ],
   "source": [
    "y_test_predictd = ret[:, 1]\n",
    "roc_auc_score(y_test, y_test_predictd)\n"
   ]
  },
  {
   "cell_type": "code",
   "execution_count": 9,
   "metadata": {},
   "outputs": [
    {
     "data": {
      "text/plain": [
       "0.7254639728675556"
      ]
     },
     "execution_count": 9,
     "metadata": {},
     "output_type": "execute_result"
    }
   ],
   "source": [
    "rdf.score(X_test, y_test)"
   ]
  },
  {
   "cell_type": "code",
   "execution_count": 10,
   "metadata": {},
   "outputs": [
    {
     "name": "stdout",
     "output_type": "stream",
     "text": [
      "Variable: desvio_entre_apariciones Importance: 0.25004830956459045\n",
      "Variable: tiempo_maximo_entre_apariciones Importance: 0.11683730036020279\n",
      "Variable: apariciones_en_dia_3_x Importance: 0.0799700990319252\n",
      "Variable: tiempo_medio_entre_apariciones Importance: 0.07605639845132828\n",
      "Variable: tiempo_ultima_aparicion_hasta_fin_ventana Importance: 0.051513999700546265\n",
      "Variable: apariciones_en_dia_2_x Importance: 0.04676060006022453\n",
      "Variable: cantidad_apariciones Importance: 0.04616620019078255\n",
      "Variable: apariciones_en_hora_23 Importance: 0.030471399426460266\n",
      "Variable: apariciones_en_dia_1_x Importance: 0.026668399572372437\n",
      "Variable: apariciones_en_hora_21 Importance: 0.01733729988336563\n",
      "Variable: tiempo_segunda_hora_frec_aparicion Importance: 0.017138900235295296\n",
      "Variable: apariciones_en_hora_17 Importance: 0.016501199454069138\n",
      "Variable: apariciones_en_hora_16 Importance: 0.014976000413298607\n",
      "Variable: apariciones_en_hora_20 Importance: 0.014663799665868282\n",
      "Variable: apariciones_en_hora_18 Importance: 0.013361800462007523\n",
      "Variable: apariciones_en_hora_22 Importance: 0.011584199965000153\n",
      "Variable: apariciones_en_hora_14 Importance: 0.011227699927985668\n",
      "Variable: apariciones_en_hora_15 Importance: 0.01100619975477457\n",
      "Variable: apariciones_en_hora_19 Importance: 0.010744799859821796\n",
      "Variable: apariciones_en_hora_4 Importance: 0.01001769956201315\n",
      "Variable: apariciones_en_hora_13 Importance: 0.009623000398278236\n",
      "Variable: prom_eventos         Importance: 0.0075298999436199665\n",
      "Variable: apariciones_en_hora_3 Importance: 0.006948499940335751\n",
      "Variable: apariciones_en_source_3 Importance: 0.0066871000453829765\n",
      "Variable: cant_eventos_7       Importance: 0.0062408000230789185\n",
      "Variable: apariciones_en_hora_10 Importance: 0.005932199768722057\n",
      "Variable: apariciones_en_source_6 Importance: 0.005811300128698349\n",
      "Variable: apariciones_en_hora_12 Importance: 0.005327300168573856\n",
      "Variable: apariciones_en_hora_2 Importance: 0.005288099870085716\n",
      "Variable: apariciones_en_hora_6 Importance: 0.00513789989054203\n",
      "Variable: apariciones_en_hora_5 Importance: 0.0050650998018682\n",
      "Variable: max_cant_eventos     Importance: 0.004990300163626671\n",
      "Variable: apariciones_en_source_1 Importance: 0.004941300023347139\n",
      "Variable: apariciones_en_hora_11 Importance: 0.0049242000095546246\n",
      "Variable: apariciones_en_source_5 Importance: 0.004901499953120947\n",
      "Variable: apariciones_en_source_7 Importance: 0.00469469977542758\n",
      "Variable: apariciones_en_hora_8 Importance: 0.004689299967139959\n",
      "Variable: apariciones_en_hora_9 Importance: 0.0040559000335633755\n",
      "Variable: eventos_dia_3        Importance: 0.0038552999030798674\n",
      "Variable: apariciones_en_hora_7 Importance: 0.003581400029361248\n",
      "Variable: cant_eventos         Importance: 0.003549099899828434\n",
      "Variable: so_media             Importance: 0.002841999987140298\n",
      "Variable: apariciones_en_hora_0 Importance: 0.002783099887892604\n",
      "Variable: apariciones_en_source_0 Importance: 0.0027389000169932842\n",
      "Variable: apariciones_en_hora_1 Importance: 0.0017961000557988882\n",
      "Variable: apariciones_en_source_8 Importance: 0.0010171999456360936\n",
      "Variable: cant_eventos_15      Importance: 0.0007723000016994774\n",
      "Variable: eventos_franja_2     Importance: 0.0007399999885819852\n",
      "Variable: eventos_franja_4     Importance: 0.0004841999907512218\n",
      "Variable: cantidad_so_registrados Importance: 0.0\n",
      "Variable: apariciones_en_source_2 Importance: 0.0\n",
      "Variable: apariciones_en_source_4 Importance: 0.0\n",
      "Variable: apariciones_en_source_9 Importance: 0.0\n",
      "Variable: tiempo_hora_frec_aparicion_subasta Importance: 0.0\n",
      "Variable: tiempo_hasta_click_mean Importance: 0.0\n",
      "Variable: tiempo_hasta_click_max Importance: 0.0\n",
      "Variable: tiempo_hasta_click_min Importance: 0.0\n",
      "Variable: tiempo_hasta_click_std Importance: 0.0\n",
      "Variable: cantidad_clicks      Importance: 0.0\n",
      "Variable: apariciones_en_dia_1_y Importance: 0.0\n",
      "Variable: apariciones_en_dia_2_y Importance: 0.0\n",
      "Variable: apariciones_en_dia_3_y Importance: 0.0\n",
      "Variable: tiempo_medio_entre_clicks Importance: 0.0\n",
      "Variable: eventos_dia_1        Importance: 0.0\n",
      "Variable: eventos_dia_2        Importance: 0.0\n",
      "Variable: cant_eventos_maximos Importance: 0.0\n",
      "Variable: segs_hasta_hora_freq Importance: 0.0\n",
      "Variable: eventos_franja_1     Importance: 0.0\n",
      "Variable: eventos_franja_3     Importance: 0.0\n",
      "Variable: eventos_franja_5     Importance: 0.0\n",
      "Variable: eventos_franja_6     Importance: 0.0\n",
      "Variable: cant_eventos_wifi    Importance: 0.0\n",
      "Variable: cant_eventos_sin_wifi Importance: 0.0\n",
      "Variable: cant_eventos_23      Importance: 0.0\n",
      "Variable: cant_eventos_0       Importance: 0.0\n",
      "Variable: cant_eventos_2       Importance: 0.0\n"
     ]
    }
   ],
   "source": [
    "# Get numerical feature importances\n",
    "importances = list(rdf.feature_importances_)\n",
    "\n",
    "# List of tuples with variable and importance\n",
    "feature_importances = [(feature, round(importance, 7)) for feature, importance in zip(feature_list, importances)]\n",
    "\n",
    "# Sort the feature importances by most important first\n",
    "feature_importances = sorted(feature_importances, key = lambda x: x[1], reverse = True)\n",
    "\n",
    "# Print out the feature and importances \n",
    "[print('Variable: {:20} Importance: {}'.format(*pair)) for pair in feature_importances];"
   ]
  },
  {
   "cell_type": "markdown",
   "metadata": {},
   "source": [
    "## Entreno un clasficador que utilice solo datos de auctions"
   ]
  },
  {
   "cell_type": "code",
   "execution_count": 3,
   "metadata": {},
   "outputs": [],
   "source": [
    "train = pd.read_pickle(\"../../armado_datos/train_completo\")\n",
    "train[\"target\"] = (train[\"target\"] != 259200.000000) * 1\n",
    "train.set_index(\"device_id\",inplace = True)\n"
   ]
  },
  {
   "cell_type": "code",
   "execution_count": 4,
   "metadata": {},
   "outputs": [],
   "source": [
    "RANDOM_SEED = 12\n",
    "TEST_SIZE_PERCENT = 0.2"
   ]
  },
  {
   "cell_type": "markdown",
   "metadata": {},
   "source": [
    "#### Elimino los datos de los dispositivos que tienen datos para eventos"
   ]
  },
  {
   "cell_type": "code",
   "execution_count": 5,
   "metadata": {},
   "outputs": [],
   "source": [
    "train = train[ ~(train[\"cant_eventos\"].notna())]"
   ]
  },
  {
   "cell_type": "code",
   "execution_count": 7,
   "metadata": {},
   "outputs": [],
   "source": [
    "columnas_auctions = ['target', 'cantidad_apariciones', 'apariciones_en_hora_0',\n",
    "       'apariciones_en_hora_1', 'apariciones_en_hora_2',\n",
    "       'apariciones_en_hora_3', 'apariciones_en_hora_4',\n",
    "       'apariciones_en_hora_5', 'apariciones_en_hora_6',\n",
    "       'apariciones_en_hora_7', 'apariciones_en_hora_8',\n",
    "       'apariciones_en_hora_9', 'apariciones_en_hora_10',\n",
    "       'apariciones_en_hora_11', 'apariciones_en_hora_12',\n",
    "       'apariciones_en_hora_13', 'apariciones_en_hora_14',\n",
    "       'apariciones_en_hora_15', 'apariciones_en_hora_16',\n",
    "       'apariciones_en_hora_17', 'apariciones_en_hora_18',\n",
    "       'apariciones_en_hora_19', 'apariciones_en_hora_20',\n",
    "       'apariciones_en_hora_21', 'apariciones_en_hora_22',\n",
    "       'apariciones_en_hora_23', 'apariciones_en_dia_1_x',\n",
    "       'apariciones_en_dia_2_x', 'apariciones_en_dia_3_x',\n",
    "       'cantidad_so_registrados', 'so_media', 'tiempo_medio_entre_apariciones',\n",
    "       'tiempo_maximo_entre_apariciones', 'desvio_entre_apariciones',\n",
    "       'apariciones_en_source_0', 'apariciones_en_source_1',\n",
    "       'apariciones_en_source_2', 'apariciones_en_source_3',\n",
    "       'apariciones_en_source_4', 'apariciones_en_source_5',\n",
    "       'apariciones_en_source_6', 'apariciones_en_source_7',\n",
    "       'apariciones_en_source_8', 'apariciones_en_source_9',\n",
    "       'tiempo_ultima_aparicion_hasta_fin_ventana',\n",
    "       'tiempo_hora_frec_aparicion_subasta',\n",
    "       'tiempo_segunda_hora_frec_aparicion']\n",
    "\n",
    "train = train[columnas_auctions]"
   ]
  },
  {
   "cell_type": "code",
   "execution_count": 8,
   "metadata": {},
   "outputs": [
    {
     "data": {
      "text/plain": [
       "1209775"
      ]
     },
     "execution_count": 8,
     "metadata": {},
     "output_type": "execute_result"
    }
   ],
   "source": [
    "len(train)"
   ]
  },
  {
   "cell_type": "code",
   "execution_count": 13,
   "metadata": {},
   "outputs": [],
   "source": [
    "y = train['target']\n",
    "X = train.drop(axis=1, labels=['target'])\n",
    "X_train, X_test, y_train, y_test = train_test_split(X, y, test_size=TEST_SIZE_PERCENT)\n",
    "\n",
    "feature_list = list(X.columns)"
   ]
  },
  {
   "cell_type": "code",
   "execution_count": 14,
   "metadata": {},
   "outputs": [],
   "source": [
    "rdf = xgb.XGBClassifier(learning_rate=0.05, n_estimators=130, max_depth=3,\n",
    " min_child_weight=5, gamma=0.3, subsample=0.7, colsample_bytree=0.6, reg_alpha =0.1)\n",
    "\n",
    "rdf.fit(X_train, y_train)\n",
    "\n",
    "ret = rdf.predict_proba(X_test)\n"
   ]
  },
  {
   "cell_type": "code",
   "execution_count": 15,
   "metadata": {},
   "outputs": [
    {
     "data": {
      "text/plain": [
       "0.756545593308659"
      ]
     },
     "execution_count": 15,
     "metadata": {},
     "output_type": "execute_result"
    }
   ],
   "source": [
    "y_test_predictd = ret[:, 1]\n",
    "roc_auc_score(y_test, y_test_predictd)\n"
   ]
  },
  {
   "cell_type": "code",
   "execution_count": 16,
   "metadata": {},
   "outputs": [
    {
     "data": {
      "text/plain": [
       "0.7249033911264491"
      ]
     },
     "execution_count": 16,
     "metadata": {},
     "output_type": "execute_result"
    }
   ],
   "source": [
    "rdf.score(X_test, y_test)"
   ]
  },
  {
   "cell_type": "code",
   "execution_count": 17,
   "metadata": {},
   "outputs": [],
   "source": [
    "rdf.save_model(\"0002.modelo_clasificacion\")"
   ]
  },
  {
   "cell_type": "code",
   "execution_count": 18,
   "metadata": {},
   "outputs": [
    {
     "name": "stdout",
     "output_type": "stream",
     "text": [
      "Variable: desvio_entre_apariciones Importance: 0.2494467943906784\n",
      "Variable: tiempo_maximo_entre_apariciones Importance: 0.15351399779319763\n",
      "Variable: apariciones_en_dia_3_x Importance: 0.09283290058374405\n",
      "Variable: tiempo_ultima_aparicion_hasta_fin_ventana Importance: 0.06073259934782982\n",
      "Variable: cantidad_apariciones Importance: 0.056953199207782745\n",
      "Variable: apariciones_en_dia_1_x Importance: 0.038067299872636795\n",
      "Variable: apariciones_en_dia_2_x Importance: 0.03595050051808357\n",
      "Variable: apariciones_en_hora_23 Importance: 0.029658600687980652\n",
      "Variable: tiempo_medio_entre_apariciones Importance: 0.026326900348067284\n",
      "Variable: tiempo_segunda_hora_frec_aparicion Importance: 0.02101230062544346\n",
      "Variable: apariciones_en_hora_19 Importance: 0.01557410042732954\n",
      "Variable: apariciones_en_hora_20 Importance: 0.015040099620819092\n",
      "Variable: apariciones_en_hora_22 Importance: 0.014982500113546848\n",
      "Variable: apariciones_en_hora_14 Importance: 0.014196000061929226\n",
      "Variable: apariciones_en_hora_15 Importance: 0.013522299937903881\n",
      "Variable: apariciones_en_hora_21 Importance: 0.013205300085246563\n",
      "Variable: apariciones_en_hora_16 Importance: 0.012095900252461433\n",
      "Variable: apariciones_en_hora_4 Importance: 0.011845200322568417\n",
      "Variable: apariciones_en_hora_17 Importance: 0.01111880037933588\n",
      "Variable: apariciones_en_hora_18 Importance: 0.00947550032287836\n",
      "Variable: apariciones_en_source_7 Importance: 0.008124900050461292\n",
      "Variable: apariciones_en_hora_5 Importance: 0.0068731000646948814\n",
      "Variable: apariciones_en_hora_11 Importance: 0.006755699869245291\n",
      "Variable: apariciones_en_hora_2 Importance: 0.006714699789881706\n",
      "Variable: apariciones_en_hora_8 Importance: 0.006518799811601639\n",
      "Variable: apariciones_en_hora_6 Importance: 0.006403000093996525\n",
      "Variable: apariciones_en_hora_3 Importance: 0.006367799825966358\n",
      "Variable: apariciones_en_source_6 Importance: 0.006054599769413471\n",
      "Variable: apariciones_en_hora_9 Importance: 0.005986299831420183\n",
      "Variable: apariciones_en_source_5 Importance: 0.005656800232827663\n",
      "Variable: apariciones_en_source_3 Importance: 0.005624100100249052\n",
      "Variable: apariciones_en_hora_12 Importance: 0.005481000058352947\n",
      "Variable: so_media             Importance: 0.00468830019235611\n",
      "Variable: apariciones_en_hora_13 Importance: 0.004509599879384041\n",
      "Variable: apariciones_en_hora_10 Importance: 0.004480999894440174\n",
      "Variable: apariciones_en_source_1 Importance: 0.0038334999699145555\n",
      "Variable: apariciones_en_hora_7 Importance: 0.003248099936172366\n",
      "Variable: apariciones_en_source_0 Importance: 0.0032158999238163233\n",
      "Variable: apariciones_en_hora_1 Importance: 0.0024117999710142612\n",
      "Variable: tiempo_hora_frec_aparicion_subasta Importance: 0.0015004000160843134\n",
      "Variable: apariciones_en_hora_0 Importance: 0.0\n",
      "Variable: cantidad_so_registrados Importance: 0.0\n",
      "Variable: apariciones_en_source_2 Importance: 0.0\n",
      "Variable: apariciones_en_source_4 Importance: 0.0\n",
      "Variable: apariciones_en_source_8 Importance: 0.0\n",
      "Variable: apariciones_en_source_9 Importance: 0.0\n"
     ]
    }
   ],
   "source": [
    "# Get numerical feature importances\n",
    "importances = list(rdf.feature_importances_)\n",
    "\n",
    "# List of tuples with variable and importance\n",
    "feature_importances = [(feature, round(importance, 7)) for feature, importance in zip(feature_list, importances)]\n",
    "\n",
    "# Sort the feature importances by most important first\n",
    "feature_importances = sorted(feature_importances, key = lambda x: x[1], reverse = True)\n",
    "\n",
    "# Print out the feature and importances \n",
    "[print('Variable: {:20} Importance: {}'.format(*pair)) for pair in feature_importances];"
   ]
  },
  {
   "cell_type": "markdown",
   "metadata": {},
   "source": [
    "## Entreno con la mitad de todos los datos disponibles"
   ]
  },
  {
   "cell_type": "code",
   "execution_count": 2,
   "metadata": {},
   "outputs": [],
   "source": [
    "train = pd.read_pickle(\"../../armado_datos/train_completo\")\n",
    "#train[\"target\"] = (train[\"target\"] != 259200.000000) * 1\n",
    "train.set_index(\"device_id\",inplace = True)\n"
   ]
  },
  {
   "cell_type": "markdown",
   "metadata": {},
   "source": [
    "---"
   ]
  },
  {
   "cell_type": "markdown",
   "metadata": {},
   "source": [
    "### Separo la mitad de los datos para el otro modelo"
   ]
  },
  {
   "cell_type": "code",
   "execution_count": 3,
   "metadata": {},
   "outputs": [],
   "source": [
    "y = train['target']\n",
    "X = train.drop(axis=1, labels=['target'])\n",
    "X_train, X_test, y_train, y_test = train_test_split(X, y, test_size=0.5)"
   ]
  },
  {
   "cell_type": "code",
   "execution_count": 4,
   "metadata": {},
   "outputs": [],
   "source": [
    "X_test.to_pickle(\"train_modelo_regresion\")"
   ]
  },
  {
   "cell_type": "code",
   "execution_count": 5,
   "metadata": {},
   "outputs": [],
   "source": [
    "y_test.to_pickle(\"target_modelo_regresion\")"
   ]
  },
  {
   "cell_type": "markdown",
   "metadata": {},
   "source": [
    "---"
   ]
  },
  {
   "cell_type": "code",
   "execution_count": 6,
   "metadata": {},
   "outputs": [],
   "source": [
    "y_train = (y_train != 259200.000000) * 1\n"
   ]
  },
  {
   "cell_type": "code",
   "execution_count": 8,
   "metadata": {},
   "outputs": [],
   "source": [
    "y = y_train\n",
    "X = X_train\n",
    "X_train, X_test, y_train, y_test = train_test_split(X, y, test_size=0.2)"
   ]
  },
  {
   "cell_type": "code",
   "execution_count": 10,
   "metadata": {},
   "outputs": [],
   "source": [
    "rdf = xgb.XGBClassifier(learning_rate=0.05, n_estimators=130, max_depth=3,\n",
    " min_child_weight=5, gamma=0.3, subsample=0.7, colsample_bytree=0.6, reg_alpha =0.1)\n",
    "\n",
    "rdf.fit(X_train, y_train)\n",
    "\n",
    "ret = rdf.predict_proba(X_test)"
   ]
  },
  {
   "cell_type": "code",
   "execution_count": 11,
   "metadata": {},
   "outputs": [
    {
     "data": {
      "text/plain": [
       "0.7592156149045788"
      ]
     },
     "execution_count": 11,
     "metadata": {},
     "output_type": "execute_result"
    }
   ],
   "source": [
    "y_test_predictd = ret[:, 1]\n",
    "roc_auc_score(y_test, y_test_predictd)\n"
   ]
  },
  {
   "cell_type": "code",
   "execution_count": 14,
   "metadata": {},
   "outputs": [
    {
     "data": {
      "text/plain": [
       "0.7265150339777205"
      ]
     },
     "execution_count": 14,
     "metadata": {},
     "output_type": "execute_result"
    }
   ],
   "source": [
    "rdf.score(X_test, y_test)"
   ]
  },
  {
   "cell_type": "code",
   "execution_count": 15,
   "metadata": {},
   "outputs": [],
   "source": [
    "rdf.save_model(\"0003.modelo_clasificacion\")"
   ]
  },
  {
   "cell_type": "code",
   "execution_count": null,
   "metadata": {},
   "outputs": [],
   "source": []
  }
 ],
 "metadata": {
  "kernelspec": {
   "display_name": "Python 3",
   "language": "python",
   "name": "python3"
  },
  "language_info": {
   "codemirror_mode": {
    "name": "ipython",
    "version": 3
   },
   "file_extension": ".py",
   "mimetype": "text/x-python",
   "name": "python",
   "nbconvert_exporter": "python",
   "pygments_lexer": "ipython3",
   "version": "3.6.8"
  }
 },
 "nbformat": 4,
 "nbformat_minor": 2
}
