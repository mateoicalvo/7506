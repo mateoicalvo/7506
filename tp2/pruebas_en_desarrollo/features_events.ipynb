{
 "cells": [
  {
   "cell_type": "markdown",
   "metadata": {},
   "source": [
    "# Imports"
   ]
  },
  {
   "cell_type": "code",
   "execution_count": 1,
   "metadata": {},
   "outputs": [],
   "source": [
    "import pandas as pd\n",
    "import numpy as np"
   ]
  },
  {
   "cell_type": "markdown",
   "metadata": {},
   "source": [
    "---"
   ]
  },
  {
   "cell_type": "code",
   "execution_count": 2,
   "metadata": {},
   "outputs": [],
   "source": [
    "events = pd.read_pickle(\"../../../../data/tp2/events_tp2_formateado.pkl\")"
   ]
  },
  {
   "cell_type": "code",
   "execution_count": 4,
   "metadata": {},
   "outputs": [],
   "source": [
    "events[\"dayofweek\"] = (events[\"date\"].dt.dayofweek).astype(\"int8\")"
   ]
  },
  {
   "cell_type": "markdown",
   "metadata": {},
   "source": [
    "---"
   ]
  },
  {
   "cell_type": "markdown",
   "metadata": {},
   "source": [
    "# Armado de ventanas"
   ]
  },
  {
   "cell_type": "code",
   "execution_count": 3,
   "metadata": {},
   "outputs": [],
   "source": [
    "TAMAÑO_VENTANA = 2\n",
    "FECHA_INICIO = 17"
   ]
  },
  {
   "cell_type": "code",
   "execution_count": 4,
   "metadata": {},
   "outputs": [],
   "source": [
    "def etiquetar_ventanas(dataset,col_fecha):\n",
    "    for ventana_nro in range(1,6):\n",
    "        \n",
    "        fecha_inicio = FECHA_INICIO + ventana_nro\n",
    "        fecha_fin = fecha_inicio + TAMAÑO_VENTANA\n",
    "        \n",
    "        dataset[\"ventana_{}\".format(ventana_nro)] = (((fecha_inicio) <= dataset[col_fecha].dt.day) & ((dataset[col_fecha].dt.day) <= (fecha_fin)))\n",
    "    return dataset    "
   ]
  },
  {
   "cell_type": "code",
   "execution_count": 5,
   "metadata": {},
   "outputs": [],
   "source": [
    "events = etiquetar_ventanas(events,\"date\")"
   ]
  },
  {
   "cell_type": "markdown",
   "metadata": {},
   "source": [
    "---"
   ]
  },
  {
   "cell_type": "markdown",
   "metadata": {},
   "source": [
    "# Creación de features"
   ]
  },
  {
   "cell_type": "markdown",
   "metadata": {},
   "source": [
    "## Creación de sets de entrenamiento"
   ]
  },
  {
   "cell_type": "code",
   "execution_count": 7,
   "metadata": {},
   "outputs": [],
   "source": [
    "def crear_targets(dataframe,col_dispositivo):\n",
    "    entrenamientos = {}\n",
    "    for ventana_nro in range(1,6):\n",
    "        ent = dataframe.loc[dataframe[\"ventana_{}\".format(ventana_nro)]][col_dispositivo].drop_duplicates().to_frame()\n",
    "        ent.set_index(col_dispositivo, inplace=True)\n",
    "        entrenamientos[ventana_nro] = ent\n",
    "        \n",
    "    return entrenamientos"
   ]
  },
  {
   "cell_type": "code",
   "execution_count": 8,
   "metadata": {},
   "outputs": [],
   "source": [
    "Xs = crear_targets(events,\"device_id\")"
   ]
  },
  {
   "cell_type": "markdown",
   "metadata": {},
   "source": [
    "---"
   ]
  },
  {
   "cell_type": "markdown",
   "metadata": {},
   "source": [
    "## Función generadora de features"
   ]
  },
  {
   "cell_type": "code",
   "execution_count": 6,
   "metadata": {},
   "outputs": [],
   "source": [
    "def generar_feature_en_ventanas(dataframe, generador_feature, destinos):\n",
    "    \n",
    "    for ventana_nro in range(1, 6):\n",
    "        \n",
    "        ventana = dataframe.loc[dataframe[\"ventana_{}\".format(ventana_nro)]]\n",
    "        \n",
    "        feature = generador_feature(ventana, ventana_nro)\n",
    "        \n",
    "        destinos[ventana_nro] = destinos[ventana_nro].merge(feature, left_index=True, right_index=True)"
   ]
  },
  {
   "cell_type": "markdown",
   "metadata": {},
   "source": [
    "---"
   ]
  },
  {
   "cell_type": "markdown",
   "metadata": {},
   "source": [
    "---"
   ]
  },
  {
   "cell_type": "markdown",
   "metadata": {},
   "source": [
    "## Cantidad de eventos dentro de la ventna"
   ]
  },
  {
   "cell_type": "code",
   "execution_count": 10,
   "metadata": {},
   "outputs": [],
   "source": [
    "def cantidad_eventos(dataframe, nro_ventana):\n",
    "    return dataframe.groupby(\"device_id\").agg({\"date\" : \"count\"}).rename(columns={\"date\": \"cant_eventos\"})"
   ]
  },
  {
   "cell_type": "code",
   "execution_count": 11,
   "metadata": {},
   "outputs": [],
   "source": [
    "generar_feature_en_ventanas(events,cantidad_eventos,Xs)"
   ]
  },
  {
   "cell_type": "markdown",
   "metadata": {},
   "source": [
    "---"
   ]
  },
  {
   "cell_type": "markdown",
   "metadata": {},
   "source": [
    "## Promedio de eventos por día"
   ]
  },
  {
   "cell_type": "code",
   "execution_count": 12,
   "metadata": {},
   "outputs": [],
   "source": [
    "def prom_eventos(dataframe, nro_ventana):\n",
    "    feature = dataframe.groupby([\"device_id\",\"dayofweek\"]).agg({\"date\":\"count\"})\n",
    "    feature = feature.groupby(\"device_id\").agg({\"date\":\"mean\"})\n",
    "    feature[\"date\"] = feature[\"date\"].astype(\"int64\")\n",
    "    return feature.rename(columns={\"date\": \"prom_eventos\"})"
   ]
  },
  {
   "cell_type": "code",
   "execution_count": 13,
   "metadata": {},
   "outputs": [],
   "source": [
    "generar_feature_en_ventanas(events, prom_eventos, Xs)"
   ]
  },
  {
   "cell_type": "markdown",
   "metadata": {},
   "source": [
    "---"
   ]
  },
  {
   "cell_type": "markdown",
   "metadata": {},
   "source": [
    "## Cantidad de eventos discrimando periodos"
   ]
  },
  {
   "cell_type": "code",
   "execution_count": 14,
   "metadata": {},
   "outputs": [],
   "source": [
    "# Creo columnas para luego separar\n",
    "events['hora'] = events['date'].dt.hour\n",
    "events['dia'] = events['date'].dt.day\n",
    "events.rename(columns = {\"dayofweek\":\"dia_de_semana\"},inplace = True)"
   ]
  },
  {
   "cell_type": "markdown",
   "metadata": {},
   "source": [
    "def cantidad_apariciones_por_hora(dataframe, nro_ventana):\n",
    "    apariciones_por_hora = dataframe.groupby([\"device_id\", \"hora\"]).agg(({\"date\" : \"count\"}))\n",
    "    apariciones_por_hora = apariciones_por_hora.unstack().fillna(0).astype(np.int64)\n",
    "    apariciones_por_hora.columns = [\"eventos_hora_{}\".format(hora) for hora in range(0,24)]\n",
    "    return apariciones_por_hora"
   ]
  },
  {
   "cell_type": "markdown",
   "metadata": {},
   "source": [
    "generar_feature_en_ventanas(events, cantidad_apariciones_por_hora, Xs)"
   ]
  },
  {
   "cell_type": "code",
   "execution_count": 17,
   "metadata": {},
   "outputs": [],
   "source": [
    "def cantidad_apariciones_por_dia(dataframe, nro_ventana):\n",
    "    dia_final = TAMAÑO_VENTANA + 2\n",
    "    \n",
    "    apariciones_por_dia = dataframe.groupby([\"device_id\", \"dia\"]).agg(({\"date\" : \"count\"}))\n",
    "    apariciones_por_dia = apariciones_por_dia.unstack().fillna(0).astype(np.int64)\n",
    "    apariciones_por_dia.columns = [\"eventos_dia_{}\".format(dia) for dia in range(1,dia_final)]\n",
    "    return apariciones_por_dia"
   ]
  },
  {
   "cell_type": "code",
   "execution_count": 18,
   "metadata": {},
   "outputs": [],
   "source": [
    "generar_feature_en_ventanas(events, cantidad_apariciones_por_dia, Xs)"
   ]
  },
  {
   "cell_type": "markdown",
   "metadata": {},
   "source": [
    "---"
   ]
  },
  {
   "cell_type": "markdown",
   "metadata": {},
   "source": [
    "## Cantidad de veces que se realizó el evento más frecuente"
   ]
  },
  {
   "cell_type": "code",
   "execution_count": 21,
   "metadata": {},
   "outputs": [],
   "source": [
    "def cantidad_maximo_evento(dataframe,nro_ventana):\n",
    "    \n",
    "    feature = events.groupby([\"device_id\",\"event_id\"]).agg({\"date\":\"count\"})\n",
    "    feature = feature.groupby(\"device_id\").agg({\"date\":\"max\"})\n",
    "    feature.rename(columns = {\"date\":\"max_cant_eventos\"},inplace = True)\n",
    "    \n",
    "    return feature\n",
    "    "
   ]
  },
  {
   "cell_type": "code",
   "execution_count": 22,
   "metadata": {},
   "outputs": [],
   "source": [
    "generar_feature_en_ventanas(events, cantidad_maximo_evento, Xs)"
   ]
  },
  {
   "cell_type": "markdown",
   "metadata": {},
   "source": [
    "---"
   ]
  },
  {
   "cell_type": "markdown",
   "metadata": {},
   "source": [
    "# ACA SE DEBE CONTINUAR"
   ]
  },
  {
   "cell_type": "markdown",
   "metadata": {},
   "source": [
    "## Carga de datos trabajados"
   ]
  },
  {
   "cell_type": "code",
   "execution_count": 7,
   "metadata": {},
   "outputs": [],
   "source": [
    "Xs = {}\n",
    "for ventana_nro in range(1, 6):\n",
    "    Xs[ventana_nro] = pd.read_pickle(\"../../features/events_train_ventana_{}.pkl\".format(ventana_nro))\n"
   ]
  },
  {
   "cell_type": "markdown",
   "metadata": {},
   "source": [
    "---"
   ]
  },
  {
   "cell_type": "markdown",
   "metadata": {},
   "source": [
    "---"
   ]
  },
  {
   "cell_type": "markdown",
   "metadata": {},
   "source": [
    "---"
   ]
  },
  {
   "cell_type": "markdown",
   "metadata": {},
   "source": [
    "## Cuantos eventos comparten la primera posición de evento más frecuente"
   ]
  },
  {
   "cell_type": "code",
   "execution_count": 8,
   "metadata": {},
   "outputs": [],
   "source": [
    "def cantidad_eventos_maximos(dataframe,nro_ventana):\n",
    "    \n",
    "    feature = events.groupby([\"device_id\",\"event_id\"]).agg({\"date\":\"count\"})\n",
    "    idx = feature.groupby(['device_id'])[\"date\"].transform(max) == feature[\"date\"]\n",
    "    feature = feature[idx]\n",
    "    feature = feature.groupby(\"device_id\").agg({\"date\":\"count\"})\n",
    "    feature.rename(columns = {\"date\":\"cant_eventos_maximos\"},inplace = True)\n",
    "    \n",
    "    return feature"
   ]
  },
  {
   "cell_type": "code",
   "execution_count": 11,
   "metadata": {},
   "outputs": [],
   "source": [
    "generar_feature_en_ventanas(events, cantidad_eventos_maximos, Xs)"
   ]
  },
  {
   "cell_type": "markdown",
   "metadata": {},
   "source": [
    "---"
   ]
  },
  {
   "cell_type": "markdown",
   "metadata": {},
   "source": [
    "## Tiempo en segundos desde 't0' hasta hora más frecuente"
   ]
  },
  {
   "cell_type": "code",
   "execution_count": 13,
   "metadata": {},
   "outputs": [],
   "source": [
    "events[\"hora\"] = events[\"date\"].dt.hour\n"
   ]
  },
  {
   "cell_type": "code",
   "execution_count": 1,
   "metadata": {},
   "outputs": [],
   "source": [
    "def tiempo_hasta_hora_frecuente(dataframe,nro_ventana):\n",
    "    segundos_en_hora = 60*60\n",
    "    \n",
    "    feature = dataframe.groupby([\"device_id\",\"hora\"]).agg({\"date\":\"count\"})\n",
    "    idx = feature.groupby([\"device_id\"])[\"date\"].transform(max) == feature[\"date\"]\n",
    "    feature = feature[idx]\n",
    "    \n",
    "    feature = feature.reset_index().groupby(\"device_id\").agg({\"hora\":\"min\"})\n",
    "    feature[\"hora\"] = feature[\"hora\"] * segundos_en_hora\n",
    "    feature.rename(columns = {\"hora\":\"segs_hasta_hora_freq\"},inplace = True)\n",
    "    \n",
    "    return feature\n",
    "    \n",
    "    "
   ]
  },
  {
   "cell_type": "code",
   "execution_count": 18,
   "metadata": {},
   "outputs": [],
   "source": [
    "generar_feature_en_ventanas(events,tiempo_hasta_hora_frecuente, Xs)"
   ]
  },
  {
   "cell_type": "markdown",
   "metadata": {},
   "source": [
    "---"
   ]
  },
  {
   "cell_type": "markdown",
   "metadata": {},
   "source": [
    "## NUEVOS FEATURES "
   ]
  },
  {
   "cell_type": "markdown",
   "metadata": {},
   "source": [
    "### Cantidad de eventos con y sin wifi"
   ]
  },
  {
   "cell_type": "code",
   "execution_count": 15,
   "metadata": {},
   "outputs": [],
   "source": [
    "events[\"sin_wifi\"] = ~(events[\"wifi\"])"
   ]
  },
  {
   "cell_type": "code",
   "execution_count": 16,
   "metadata": {},
   "outputs": [],
   "source": [
    "def cant_eventos_wifi(dataframe,nro_ventana):\n",
    "    return dataframe.groupby(\"device_id\").agg({\"wifi\":\"sum\",\"sin_wifi\":\"sum\"}).rename(columns={\"wifi\": \"cant_eventos_wifi\",\n",
    "                                                                                              \"sin_wifi\":\"cant_eventos_sin_wifi\"})\n",
    "    "
   ]
  },
  {
   "cell_type": "code",
   "execution_count": 17,
   "metadata": {},
   "outputs": [],
   "source": [
    "generar_feature_en_ventanas(events,cant_eventos_wifi, Xs)"
   ]
  },
  {
   "cell_type": "markdown",
   "metadata": {},
   "source": [
    "---"
   ]
  },
  {
   "cell_type": "markdown",
   "metadata": {},
   "source": [
    "### Eventos principales"
   ]
  },
  {
   "cell_type": "markdown",
   "metadata": {},
   "source": [
    "#### Por el analisis de comportamiento realizado, se observó que dentro de los más de 400 eventos disponibles hay un pequeño porcentaje que acumula la gran cantidad de dispositivos dentro del set de datos. Se comprobó que filtrando por el TOP 5 de eventos más frecuentes realizados antes de una subasta y quedandonos solamente con los dispositivos que hayan realizado ese evento alguna vez, nos quedamos con alrededor del 90% de los dispositivos, si aumentamos al TOP 10 se obtiene alrededor del 93%"
   ]
  },
  {
   "cell_type": "code",
   "execution_count": 18,
   "metadata": {},
   "outputs": [],
   "source": [
    "#Top 10 de eventos con la cantidad de dispositivos registrados\n",
    "#top_eventos = {\"15\":\"103047\",\"23\":\"101109\",\"7\":\"73239\",\"0\":\"47197\",\"2\":\"38669\",\"1\":\"30154\",\"13\":\"16845\",\"101\":\"15778\",\"100\":\"15539\",\"245\":\"14631\"}\n",
    "eventos_frecuentes = [15,23,7,0,2,1,13,101,100,245]"
   ]
  },
  {
   "cell_type": "code",
   "execution_count": 19,
   "metadata": {},
   "outputs": [],
   "source": [
    "def cantidad_de_evento_x(dataframe,nro_ventana):\n",
    "    \n",
    "    return dataframe.groupby(\"device_id\").agg({\"es_evento_x\":\"sum\"})\\\n",
    "                                        .rename(columns={\"es_evento_x\": \"cant_eventos_{}\".format(EVENTO_ACTUAL)})\n",
    "    \n",
    "    \n",
    "    \n",
    "    "
   ]
  },
  {
   "cell_type": "markdown",
   "metadata": {},
   "source": [
    "#### Bucle para generar el feature para un determinado numero de eventos principales"
   ]
  },
  {
   "cell_type": "code",
   "execution_count": 20,
   "metadata": {},
   "outputs": [],
   "source": [
    "TOP_EVENTOS = 5"
   ]
  },
  {
   "cell_type": "code",
   "execution_count": 21,
   "metadata": {},
   "outputs": [],
   "source": [
    "for x in range(TOP_EVENTOS):\n",
    "    EVENTO_ACTUAL = eventos_frecuentes[x]\n",
    "    events[\"es_evento_x\"] = events[\"event_id\"] == EVENTO_ACTUAL\n",
    "    \n",
    "    generar_feature_en_ventanas(events,cantidad_de_evento_x, Xs)"
   ]
  },
  {
   "cell_type": "markdown",
   "metadata": {},
   "source": [
    "---"
   ]
  },
  {
   "cell_type": "markdown",
   "metadata": {},
   "source": [
    "### Distribución de cantidad de eventos por franja horaria"
   ]
  },
  {
   "cell_type": "code",
   "execution_count": 8,
   "metadata": {},
   "outputs": [],
   "source": [
    "events['hora'] = events['date'].dt.hour\n"
   ]
  },
  {
   "cell_type": "markdown",
   "metadata": {},
   "source": [
    "#### Etiquetado de franja"
   ]
  },
  {
   "cell_type": "code",
   "execution_count": 1,
   "metadata": {},
   "outputs": [],
   "source": [
    "def etiquetar_franja(dataframe, tam_franja):\n",
    "    \n",
    "    dataframe[\"franja\"] = 0\n",
    "    cant_divisiones = 24//tam_franja\n",
    "    hora_inicio = 0\n",
    "    hora_fin = tam_franja\n",
    "    for x in range(1, cant_divisiones + 1):\n",
    "        dataframe[\"franja\"][(dataframe[\"hora\"] >= hora_inicio) & (dataframe[\"hora\"] < hora_fin)] = x\n",
    "        hora_inicio += tam_franja  \n",
    "        hora_fin = hora_inicio + tam_franja\n"
   ]
  },
  {
   "cell_type": "code",
   "execution_count": 10,
   "metadata": {},
   "outputs": [
    {
     "name": "stderr",
     "output_type": "stream",
     "text": [
      "/home/pelozo/anaconda3/lib/python3.6/site-packages/ipykernel_launcher.py:8: SettingWithCopyWarning: \n",
      "A value is trying to be set on a copy of a slice from a DataFrame\n",
      "\n",
      "See the caveats in the documentation: http://pandas.pydata.org/pandas-docs/stable/indexing.html#indexing-view-versus-copy\n",
      "  \n"
     ]
    }
   ],
   "source": [
    "tam_franja = 4\n",
    "etiquetar_franja(events,tam_franja)"
   ]
  },
  {
   "cell_type": "code",
   "execution_count": 11,
   "metadata": {},
   "outputs": [],
   "source": [
    "def cantidad_eventos_por_franja(dataframe,nro_ventana):\n",
    "    cant_divisiones = 24//tam_franja\n",
    "    apariciones_por_franja = dataframe.groupby([\"device_id\", \"franja\"]).agg(({\"date\" : \"count\"}))\n",
    "    apariciones_por_franja = apariciones_por_franja.unstack().fillna(0).astype(np.int64)\n",
    "    apariciones_por_franja.columns = [\"eventos_franja_{}\".format(franja) for franja in range(1,cant_divisiones + 1)]\n",
    "    return apariciones_por_franja\n",
    "    "
   ]
  },
  {
   "cell_type": "code",
   "execution_count": 12,
   "metadata": {},
   "outputs": [],
   "source": [
    "generar_feature_en_ventanas(events,cantidad_eventos_por_franja, Xs)"
   ]
  },
  {
   "cell_type": "code",
   "execution_count": 22,
   "metadata": {},
   "outputs": [
    {
     "data": {
      "text/plain": [
       "Index(['cant_eventos', 'prom_eventos', 'eventos_dia_1', 'eventos_dia_2',\n",
       "       'eventos_dia_3', 'max_cant_eventos', 'cant_eventos_maximos',\n",
       "       'segs_hasta_hora_freq', 'eventos_franja_1', 'eventos_franja_2',\n",
       "       'eventos_franja_3', 'eventos_franja_4', 'eventos_franja_5',\n",
       "       'eventos_franja_6', 'cant_eventos_wifi', 'cant_eventos_sin_wifi',\n",
       "       'cant_eventos_15', 'cant_eventos_23', 'cant_eventos_7',\n",
       "       'cant_eventos_0', 'cant_eventos_2'],\n",
       "      dtype='object')"
      ]
     },
     "execution_count": 22,
     "metadata": {},
     "output_type": "execute_result"
    }
   ],
   "source": [
    "Xs[1].columns"
   ]
  },
  {
   "cell_type": "markdown",
   "metadata": {},
   "source": [
    "---"
   ]
  },
  {
   "cell_type": "markdown",
   "metadata": {},
   "source": [
    "# Guardado de los sets de entrenamiento"
   ]
  },
  {
   "cell_type": "code",
   "execution_count": 23,
   "metadata": {},
   "outputs": [],
   "source": [
    "for ventana_nro in range(1, 6):\n",
    "    Xs[ventana_nro].to_pickle(\"../../features/events_train_ventana_{}.pkl\".format(ventana_nro))\n",
    "    Xs[ventana_nro].to_csv(\"../../features/events_train_ventana_{}.csv\".format(ventana_nro))"
   ]
  },
  {
   "cell_type": "markdown",
   "metadata": {},
   "source": [
    "---"
   ]
  },
  {
   "cell_type": "markdown",
   "metadata": {},
   "source": [
    "### Propuesta: Hay valores repetidos, podría quedarme con la hora más cercana a las 00 hs y calcular el tiempo que falta desde t0 a esa hora. Además de indicar la cantidad de eventos registrados a esa hora, y la cantidad de horas que comparten el primer lugar."
   ]
  },
  {
   "cell_type": "markdown",
   "metadata": {},
   "source": [
    "### Propuesta: En vez de indicar valores categoricos como aplicación más usada, evento más registrado, se podría indicar cual es su valor de frecuencia, ejemplo:\n",
    "#### __Freq_ev_popular__ : 53\n",
    "#### __Freq_app_popular__ : 12"
   ]
  },
  {
   "cell_type": "markdown",
   "metadata": {},
   "source": [
    "### Propuesta : En los valores en donde se comparten horas, eventos, aplicaciones, etc, como los más vistos, se podría indicar cual es la cantidad de valores que comparten ese puesto, ejemplo:\n",
    "\n",
    "#### __cant_horas_mas_activas__: 2\n",
    "#### __cant_events_en_horas_mas_activas__ : 10"
   ]
  },
  {
   "cell_type": "markdown",
   "metadata": {},
   "source": []
  },
  {
   "cell_type": "code",
   "execution_count": null,
   "metadata": {},
   "outputs": [],
   "source": []
  }
 ],
 "metadata": {
  "kernelspec": {
   "display_name": "Python 3",
   "language": "python",
   "name": "python3"
  },
  "language_info": {
   "codemirror_mode": {
    "name": "ipython",
    "version": 3
   },
   "file_extension": ".py",
   "mimetype": "text/x-python",
   "name": "python",
   "nbconvert_exporter": "python",
   "pygments_lexer": "ipython3",
   "version": "3.6.5"
  }
 },
 "nbformat": 4,
 "nbformat_minor": 2
}
