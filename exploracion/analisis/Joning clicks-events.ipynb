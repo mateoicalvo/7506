{
 "cells": [
  {
   "cell_type": "code",
   "execution_count": 1,
   "metadata": {},
   "outputs": [],
   "source": [
    "import pandas as pd\n",
    "import numpy as np\n",
    "import matplotlib.pyplot as plt\n",
    "import seaborn as sns\n",
    "\n",
    "%matplotlib inline"
   ]
  },
  {
   "cell_type": "code",
   "execution_count": 3,
   "metadata": {},
   "outputs": [
    {
     "name": "stderr",
     "output_type": "stream",
     "text": [
      "/home/pelozo/anaconda3/lib/python3.6/site-packages/IPython/core/interactiveshell.py:3044: DtypeWarning: Columns (18,19) have mixed types. Specify dtype option on import or set low_memory=False.\n",
      "  interactivity=interactivity, compiler=compiler, result=result)\n"
     ]
    }
   ],
   "source": [
    "columnas_events= [\"date\",\"event_id\",\"event_uuid\",\"ref_type\",\"ref_hash\",\"application_id\",\"attributed\"\n",
    "                  ,\"device_brand\",\"device_model\",\"carrier\",\"device_os\",\"wifi\",\"connection_type\"]\n",
    "\n",
    "events = pd.read_csv(\"events.csv\", usecols=columnas_events, parse_dates=[\"date\"])\n",
    "\n"
   ]
  },
  {
   "cell_type": "code",
   "execution_count": 2,
   "metadata": {},
   "outputs": [],
   "source": [
    "clicks = pd.read_csv(\"clicks.csv\", parse_dates = [\"created\"])"
   ]
  },
  {
   "cell_type": "code",
   "execution_count": 14,
   "metadata": {},
   "outputs": [],
   "source": [
    "clicks[\"created\"] = clicks[\"created\"].astype(\"datetime64[ns]\")"
   ]
  },
  {
   "cell_type": "code",
   "execution_count": 4,
   "metadata": {},
   "outputs": [
    {
     "data": {
      "text/plain": [
       "date               datetime64[ns]\n",
       "event_id                    int64\n",
       "ref_type                    int64\n",
       "ref_hash                    int64\n",
       "application_id              int64\n",
       "attributed                   bool\n",
       "device_brand              float64\n",
       "device_model              float64\n",
       "event_uuid                 object\n",
       "carrier                   float64\n",
       "device_os                 float64\n",
       "wifi                       object\n",
       "connection_type            object\n",
       "dtype: object"
      ]
     },
     "execution_count": 4,
     "metadata": {},
     "output_type": "execute_result"
    }
   ],
   "source": [
    "events.dtypes"
   ]
  },
  {
   "cell_type": "code",
   "execution_count": 5,
   "metadata": {},
   "outputs": [
    {
     "data": {
      "text/plain": [
       "advertiser_id                    int64\n",
       "action_id                      float64\n",
       "source_id                        int64\n",
       "created            datetime64[ns, UTC]\n",
       "country_code                     int64\n",
       "latitude                       float64\n",
       "longitude                      float64\n",
       "wifi_connection                   bool\n",
       "carrier_id                     float64\n",
       "trans_id                        object\n",
       "os_minor                       float64\n",
       "agent_device                   float64\n",
       "os_major                       float64\n",
       "specs_brand                      int64\n",
       "brand                          float64\n",
       "timeToClick                    float64\n",
       "touchX                         float64\n",
       "touchY                         float64\n",
       "ref_type                         int64\n",
       "ref_hash                         int64\n",
       "dtype: object"
      ]
     },
     "execution_count": 5,
     "metadata": {},
     "output_type": "execute_result"
    }
   ],
   "source": [
    "clicks.dtypes"
   ]
  },
  {
   "cell_type": "markdown",
   "metadata": {},
   "source": [
    "# Vamos a unir los eventos atribuidos a su click más cercano en el tiempo"
   ]
  },
  {
   "cell_type": "markdown",
   "metadata": {},
   "source": [
    "### Ordeno los datos por fechas"
   ]
  },
  {
   "cell_type": "code",
   "execution_count": 23,
   "metadata": {},
   "outputs": [],
   "source": [
    "events_att = events[events[\"attributed\"] == True].copy()"
   ]
  },
  {
   "cell_type": "code",
   "execution_count": 24,
   "metadata": {},
   "outputs": [],
   "source": [
    "clicks.sort_values(by = \"created\", inplace =  True)"
   ]
  },
  {
   "cell_type": "code",
   "execution_count": 25,
   "metadata": {},
   "outputs": [],
   "source": [
    "events_att.sort_values(by = \"date\",inplace = True)"
   ]
  },
  {
   "cell_type": "markdown",
   "metadata": {},
   "source": [
    "#### Serializo el dataset:"
   ]
  },
  {
   "cell_type": "code",
   "execution_count": 26,
   "metadata": {},
   "outputs": [],
   "source": [
    "events_att.to_pickle(\"events att pickle\")"
   ]
  },
  {
   "cell_type": "markdown",
   "metadata": {},
   "source": [
    "#### Obtengo el dataset serializado"
   ]
  },
  {
   "cell_type": "code",
   "execution_count": 6,
   "metadata": {},
   "outputs": [],
   "source": [
    "events_att = pd.read_pickle(\"events att pickle\")\n"
   ]
  },
  {
   "cell_type": "code",
   "execution_count": 7,
   "metadata": {},
   "outputs": [
    {
     "data": {
      "text/html": [
       "<div>\n",
       "<style scoped>\n",
       "    .dataframe tbody tr th:only-of-type {\n",
       "        vertical-align: middle;\n",
       "    }\n",
       "\n",
       "    .dataframe tbody tr th {\n",
       "        vertical-align: top;\n",
       "    }\n",
       "\n",
       "    .dataframe thead th {\n",
       "        text-align: right;\n",
       "    }\n",
       "</style>\n",
       "<table border=\"1\" class=\"dataframe\">\n",
       "  <thead>\n",
       "    <tr style=\"text-align: right;\">\n",
       "      <th></th>\n",
       "      <th>date</th>\n",
       "      <th>event_id</th>\n",
       "      <th>ref_type</th>\n",
       "      <th>ref_hash</th>\n",
       "      <th>application_id</th>\n",
       "      <th>attributed</th>\n",
       "      <th>device_brand</th>\n",
       "      <th>device_model</th>\n",
       "      <th>event_uuid</th>\n",
       "      <th>carrier</th>\n",
       "      <th>device_os</th>\n",
       "      <th>wifi</th>\n",
       "      <th>connection_type</th>\n",
       "    </tr>\n",
       "  </thead>\n",
       "  <tbody>\n",
       "    <tr>\n",
       "      <th>1904725</th>\n",
       "      <td>2019-03-05 00:00:11.451</td>\n",
       "      <td>31</td>\n",
       "      <td>1891515180541284343</td>\n",
       "      <td>7305275656281795978</td>\n",
       "      <td>63</td>\n",
       "      <td>True</td>\n",
       "      <td>3.083059e+17</td>\n",
       "      <td>7.628197e+18</td>\n",
       "      <td>NaN</td>\n",
       "      <td>NaN</td>\n",
       "      <td>NaN</td>\n",
       "      <td>True</td>\n",
       "      <td>NaN</td>\n",
       "    </tr>\n",
       "    <tr>\n",
       "      <th>1904727</th>\n",
       "      <td>2019-03-05 00:00:47.861</td>\n",
       "      <td>31</td>\n",
       "      <td>1891515180541284343</td>\n",
       "      <td>5857404737834848954</td>\n",
       "      <td>63</td>\n",
       "      <td>True</td>\n",
       "      <td>2.523246e+18</td>\n",
       "      <td>5.668689e+18</td>\n",
       "      <td>NaN</td>\n",
       "      <td>NaN</td>\n",
       "      <td>NaN</td>\n",
       "      <td>True</td>\n",
       "      <td>NaN</td>\n",
       "    </tr>\n",
       "    <tr>\n",
       "      <th>1904724</th>\n",
       "      <td>2019-03-05 00:02:09.503</td>\n",
       "      <td>31</td>\n",
       "      <td>1891515180541284343</td>\n",
       "      <td>9187632704477893816</td>\n",
       "      <td>63</td>\n",
       "      <td>True</td>\n",
       "      <td>3.083059e+17</td>\n",
       "      <td>7.787531e+18</td>\n",
       "      <td>NaN</td>\n",
       "      <td>NaN</td>\n",
       "      <td>NaN</td>\n",
       "      <td>False</td>\n",
       "      <td>NaN</td>\n",
       "    </tr>\n",
       "  </tbody>\n",
       "</table>\n",
       "</div>"
      ],
      "text/plain": [
       "                           date  event_id             ref_type  \\\n",
       "1904725 2019-03-05 00:00:11.451        31  1891515180541284343   \n",
       "1904727 2019-03-05 00:00:47.861        31  1891515180541284343   \n",
       "1904724 2019-03-05 00:02:09.503        31  1891515180541284343   \n",
       "\n",
       "                    ref_hash  application_id  attributed  device_brand  \\\n",
       "1904725  7305275656281795978              63        True  3.083059e+17   \n",
       "1904727  5857404737834848954              63        True  2.523246e+18   \n",
       "1904724  9187632704477893816              63        True  3.083059e+17   \n",
       "\n",
       "         device_model event_uuid  carrier  device_os   wifi connection_type  \n",
       "1904725  7.628197e+18        NaN      NaN        NaN   True             NaN  \n",
       "1904727  5.668689e+18        NaN      NaN        NaN   True             NaN  \n",
       "1904724  7.787531e+18        NaN      NaN        NaN  False             NaN  "
      ]
     },
     "execution_count": 7,
     "metadata": {},
     "output_type": "execute_result"
    }
   ],
   "source": [
    "events_att.head(3)"
   ]
  },
  {
   "cell_type": "code",
   "execution_count": 31,
   "metadata": {},
   "outputs": [
    {
     "data": {
      "text/html": [
       "<div>\n",
       "<style scoped>\n",
       "    .dataframe tbody tr th:only-of-type {\n",
       "        vertical-align: middle;\n",
       "    }\n",
       "\n",
       "    .dataframe tbody tr th {\n",
       "        vertical-align: top;\n",
       "    }\n",
       "\n",
       "    .dataframe thead th {\n",
       "        text-align: right;\n",
       "    }\n",
       "</style>\n",
       "<table border=\"1\" class=\"dataframe\">\n",
       "  <thead>\n",
       "    <tr style=\"text-align: right;\">\n",
       "      <th></th>\n",
       "      <th>advertiser_id</th>\n",
       "      <th>action_id</th>\n",
       "      <th>source_id</th>\n",
       "      <th>created</th>\n",
       "      <th>country_code</th>\n",
       "      <th>latitude</th>\n",
       "      <th>longitude</th>\n",
       "      <th>wifi_connection</th>\n",
       "      <th>carrier_id</th>\n",
       "      <th>trans_id</th>\n",
       "      <th>os_minor</th>\n",
       "      <th>agent_device</th>\n",
       "      <th>os_major</th>\n",
       "      <th>specs_brand</th>\n",
       "      <th>brand</th>\n",
       "      <th>timeToClick</th>\n",
       "      <th>touchX</th>\n",
       "      <th>touchY</th>\n",
       "      <th>ref_type</th>\n",
       "      <th>ref_hash</th>\n",
       "    </tr>\n",
       "  </thead>\n",
       "  <tbody>\n",
       "    <tr>\n",
       "      <th>3451</th>\n",
       "      <td>0</td>\n",
       "      <td>NaN</td>\n",
       "      <td>0</td>\n",
       "      <td>2019-03-05 01:17:30.663</td>\n",
       "      <td>6333597102633388268</td>\n",
       "      <td>1.205689</td>\n",
       "      <td>1.070234</td>\n",
       "      <td>False</td>\n",
       "      <td>4.0</td>\n",
       "      <td>dwOR6mUnkJLVaXbnhDpQGxZLFdANK3o</td>\n",
       "      <td>3.399962e+18</td>\n",
       "      <td>3.516812e+18</td>\n",
       "      <td>6.693579e+18</td>\n",
       "      <td>2733035977666442898</td>\n",
       "      <td>NaN</td>\n",
       "      <td>NaN</td>\n",
       "      <td>0.158</td>\n",
       "      <td>0.097</td>\n",
       "      <td>1494519392962156891</td>\n",
       "      <td>4211224578747712831</td>\n",
       "    </tr>\n",
       "    <tr>\n",
       "      <th>3452</th>\n",
       "      <td>0</td>\n",
       "      <td>NaN</td>\n",
       "      <td>1</td>\n",
       "      <td>2019-03-05 01:44:16.824</td>\n",
       "      <td>6333597102633388268</td>\n",
       "      <td>1.205393</td>\n",
       "      <td>1.077238</td>\n",
       "      <td>False</td>\n",
       "      <td>10.0</td>\n",
       "      <td>UrAaN9jolZTycEdgGieNzVVTnHGcBJg</td>\n",
       "      <td>3.399962e+18</td>\n",
       "      <td>3.516812e+18</td>\n",
       "      <td>6.693579e+18</td>\n",
       "      <td>2733035977666442898</td>\n",
       "      <td>NaN</td>\n",
       "      <td>NaN</td>\n",
       "      <td>0.091</td>\n",
       "      <td>0.360</td>\n",
       "      <td>1494519392962156891</td>\n",
       "      <td>6447802891648830796</td>\n",
       "    </tr>\n",
       "    <tr>\n",
       "      <th>21124</th>\n",
       "      <td>0</td>\n",
       "      <td>NaN</td>\n",
       "      <td>6</td>\n",
       "      <td>2019-03-05 02:07:49.451</td>\n",
       "      <td>6333597102633388268</td>\n",
       "      <td>1.205689</td>\n",
       "      <td>1.070234</td>\n",
       "      <td>False</td>\n",
       "      <td>13.0</td>\n",
       "      <td>cuSDPTJszQQSMBYLr7-E1-JRxlZOb7c</td>\n",
       "      <td>3.025219e+18</td>\n",
       "      <td>NaN</td>\n",
       "      <td>1.774085e+18</td>\n",
       "      <td>2733035977666442898</td>\n",
       "      <td>NaN</td>\n",
       "      <td>NaN</td>\n",
       "      <td>0.934</td>\n",
       "      <td>0.064</td>\n",
       "      <td>1891515180541284343</td>\n",
       "      <td>3045447270889734275</td>\n",
       "    </tr>\n",
       "  </tbody>\n",
       "</table>\n",
       "</div>"
      ],
      "text/plain": [
       "       advertiser_id  action_id  source_id                 created  \\\n",
       "3451               0        NaN          0 2019-03-05 01:17:30.663   \n",
       "3452               0        NaN          1 2019-03-05 01:44:16.824   \n",
       "21124              0        NaN          6 2019-03-05 02:07:49.451   \n",
       "\n",
       "              country_code  latitude  longitude  wifi_connection  carrier_id  \\\n",
       "3451   6333597102633388268  1.205689   1.070234            False         4.0   \n",
       "3452   6333597102633388268  1.205393   1.077238            False        10.0   \n",
       "21124  6333597102633388268  1.205689   1.070234            False        13.0   \n",
       "\n",
       "                              trans_id      os_minor  agent_device  \\\n",
       "3451   dwOR6mUnkJLVaXbnhDpQGxZLFdANK3o  3.399962e+18  3.516812e+18   \n",
       "3452   UrAaN9jolZTycEdgGieNzVVTnHGcBJg  3.399962e+18  3.516812e+18   \n",
       "21124  cuSDPTJszQQSMBYLr7-E1-JRxlZOb7c  3.025219e+18           NaN   \n",
       "\n",
       "           os_major          specs_brand  brand  timeToClick  touchX  touchY  \\\n",
       "3451   6.693579e+18  2733035977666442898    NaN          NaN   0.158   0.097   \n",
       "3452   6.693579e+18  2733035977666442898    NaN          NaN   0.091   0.360   \n",
       "21124  1.774085e+18  2733035977666442898    NaN          NaN   0.934   0.064   \n",
       "\n",
       "                  ref_type             ref_hash  \n",
       "3451   1494519392962156891  4211224578747712831  \n",
       "3452   1494519392962156891  6447802891648830796  \n",
       "21124  1891515180541284343  3045447270889734275  "
      ]
     },
     "execution_count": 31,
     "metadata": {},
     "output_type": "execute_result"
    }
   ],
   "source": [
    "clicks.head(3)"
   ]
  },
  {
   "cell_type": "markdown",
   "metadata": {},
   "source": [
    "### A primera vista se ve en los primeros valores de cada dataframe que el evento mas antiguo es menor que el click más antiguo:"
   ]
  },
  {
   "cell_type": "code",
   "execution_count": 33,
   "metadata": {},
   "outputs": [
    {
     "data": {
      "text/plain": [
       "Timestamp('2019-03-05 01:17:30.663000')"
      ]
     },
     "execution_count": 33,
     "metadata": {},
     "output_type": "execute_result"
    }
   ],
   "source": [
    "clicks[\"created\"].min()"
   ]
  },
  {
   "cell_type": "code",
   "execution_count": 35,
   "metadata": {},
   "outputs": [
    {
     "data": {
      "text/plain": [
       "Timestamp('2019-03-05 00:00:11.451000')"
      ]
     },
     "execution_count": 35,
     "metadata": {},
     "output_type": "execute_result"
    }
   ],
   "source": [
    "events_att[\"date\"].min()"
   ]
  },
  {
   "cell_type": "markdown",
   "metadata": {},
   "source": [
    "#### Comentario : No se que tan valido es decir esto ya que tecnicamente las fechas esas corresponden a distintos dispositivos"
   ]
  },
  {
   "cell_type": "markdown",
   "metadata": {},
   "source": [
    "### Debido a esto vamos a unir los dataframes usando como premisa que para obtener el click que desencadena en un evento atribuido, se debe unir este ultimo al click anterior en el tiempo más cercano. (O sea al maximo de los menores)"
   ]
  },
  {
   "cell_type": "markdown",
   "metadata": {},
   "source": [
    "#### Dejo en el dataframes de clicks solo los clicks y eventos de dispositivos que se encuentren en los dos dataframes"
   ]
  },
  {
   "cell_type": "code",
   "execution_count": 16,
   "metadata": {},
   "outputs": [],
   "source": [
    "clicks_att = clicks[ clicks[\"ref_hash\"].isin(events_att[\"ref_hash\"])].copy()"
   ]
  },
  {
   "cell_type": "code",
   "execution_count": 9,
   "metadata": {},
   "outputs": [],
   "source": [
    "events_att = events_att[ events_att[\"ref_hash\"].isin(clicks_att[\"ref_hash\"])]"
   ]
  },
  {
   "cell_type": "code",
   "execution_count": 17,
   "metadata": {},
   "outputs": [],
   "source": [
    "clicks_att.sort_values(by=\"created\",inplace = True)"
   ]
  },
  {
   "cell_type": "code",
   "execution_count": 11,
   "metadata": {},
   "outputs": [],
   "source": [
    "events_att.sort_values(by = \"date\",inplace = True)"
   ]
  },
  {
   "cell_type": "markdown",
   "metadata": {},
   "source": [
    "#### Corroboro que todo quedo bien:"
   ]
  },
  {
   "cell_type": "code",
   "execution_count": 63,
   "metadata": {},
   "outputs": [
    {
     "name": "stdout",
     "output_type": "stream",
     "text": [
      "<class 'pandas.core.frame.DataFrame'>\n",
      "Int64Index: 52 entries, 3452 to 18378\n",
      "Data columns (total 20 columns):\n",
      "advertiser_id      52 non-null int64\n",
      "action_id          0 non-null float64\n",
      "source_id          52 non-null int64\n",
      "created            52 non-null datetime64[ns]\n",
      "country_code       52 non-null int64\n",
      "latitude           52 non-null float64\n",
      "longitude          52 non-null float64\n",
      "wifi_connection    52 non-null bool\n",
      "carrier_id         51 non-null float64\n",
      "trans_id           52 non-null object\n",
      "os_minor           51 non-null float64\n",
      "agent_device       18 non-null float64\n",
      "os_major           51 non-null float64\n",
      "specs_brand        52 non-null int64\n",
      "brand              10 non-null float64\n",
      "timeToClick        29 non-null float64\n",
      "touchX             44 non-null float64\n",
      "touchY             44 non-null float64\n",
      "ref_type           52 non-null int64\n",
      "ref_hash           52 non-null int64\n",
      "dtypes: bool(1), datetime64[ns](1), float64(11), int64(6), object(1)\n",
      "memory usage: 8.2+ KB\n"
     ]
    }
   ],
   "source": [
    "clicks_att.info()"
   ]
  },
  {
   "cell_type": "code",
   "execution_count": 86,
   "metadata": {},
   "outputs": [
    {
     "data": {
      "text/plain": [
       "advertiser_id       3\n",
       "action_id           0\n",
       "source_id           4\n",
       "date               52\n",
       "country_code        1\n",
       "latitude            7\n",
       "longitude           7\n",
       "wifi_connection     1\n",
       "carrier_id         16\n",
       "trans_id           52\n",
       "os_minor            9\n",
       "agent_device        2\n",
       "os_major            6\n",
       "specs_brand         2\n",
       "brand               3\n",
       "timeToClick        29\n",
       "touchX             42\n",
       "touchY             40\n",
       "ref_type            2\n",
       "ref_hash           26\n",
       "dtype: int64"
      ]
     },
     "execution_count": 86,
     "metadata": {},
     "output_type": "execute_result"
    }
   ],
   "source": [
    "clicks_att.nunique()"
   ]
  },
  {
   "cell_type": "markdown",
   "metadata": {},
   "source": [
    "### Valores unicos para identificación \"date\" y \"trans_id\""
   ]
  },
  {
   "cell_type": "code",
   "execution_count": 64,
   "metadata": {},
   "outputs": [
    {
     "name": "stdout",
     "output_type": "stream",
     "text": [
      "<class 'pandas.core.frame.DataFrame'>\n",
      "Int64Index: 173 entries, 929301 to 1008571\n",
      "Data columns (total 13 columns):\n",
      "date               173 non-null datetime64[ns]\n",
      "event_id           173 non-null int64\n",
      "ref_type           173 non-null int64\n",
      "ref_hash           173 non-null int64\n",
      "application_id     173 non-null int64\n",
      "attributed         173 non-null bool\n",
      "device_brand       155 non-null float64\n",
      "device_model       172 non-null float64\n",
      "event_uuid         0 non-null object\n",
      "carrier            0 non-null float64\n",
      "device_os          0 non-null float64\n",
      "wifi               172 non-null object\n",
      "connection_type    0 non-null object\n",
      "dtypes: bool(1), datetime64[ns](1), float64(4), int64(4), object(3)\n",
      "memory usage: 17.7+ KB\n"
     ]
    }
   ],
   "source": [
    "events_att.info()"
   ]
  },
  {
   "cell_type": "code",
   "execution_count": 24,
   "metadata": {},
   "outputs": [
    {
     "data": {
      "text/plain": [
       "date_event         173\n",
       "event_id            12\n",
       "ref_type             2\n",
       "ref_hash            26\n",
       "application_id       5\n",
       "attributed           1\n",
       "device_brand         8\n",
       "device_model        18\n",
       "event_uuid           0\n",
       "carrier              0\n",
       "device_os            0\n",
       "wifi                 2\n",
       "connection_type      0\n",
       "dtype: int64"
      ]
     },
     "execution_count": 24,
     "metadata": {},
     "output_type": "execute_result"
    }
   ],
   "source": [
    "events_att.nunique()"
   ]
  },
  {
   "cell_type": "markdown",
   "metadata": {},
   "source": [
    "### El unico valor que sirve para la identificación es \"date\""
   ]
  },
  {
   "cell_type": "markdown",
   "metadata": {},
   "source": [
    "#### Son 52 clicks para 173 eventos"
   ]
  },
  {
   "cell_type": "code",
   "execution_count": 65,
   "metadata": {},
   "outputs": [
    {
     "data": {
      "text/plain": [
       "26"
      ]
     },
     "execution_count": 65,
     "metadata": {},
     "output_type": "execute_result"
    }
   ],
   "source": [
    "events_att[\"ref_hash\"].nunique()"
   ]
  },
  {
   "cell_type": "code",
   "execution_count": 67,
   "metadata": {},
   "outputs": [
    {
     "data": {
      "text/plain": [
       "26"
      ]
     },
     "execution_count": 67,
     "metadata": {},
     "output_type": "execute_result"
    }
   ],
   "source": [
    "clicks_att[\"ref_hash\"].nunique()"
   ]
  },
  {
   "cell_type": "markdown",
   "metadata": {},
   "source": [
    "### 26 Dispositivos para 52 clicks y 173 eventos"
   ]
  },
  {
   "cell_type": "code",
   "execution_count": 89,
   "metadata": {},
   "outputs": [
    {
     "data": {
      "text/plain": [
       "Timestamp('2019-03-05 02:44:49.519000')"
      ]
     },
     "execution_count": 89,
     "metadata": {},
     "output_type": "execute_result"
    }
   ],
   "source": [
    "events_att[\"date\"].min()"
   ]
  },
  {
   "cell_type": "code",
   "execution_count": 90,
   "metadata": {},
   "outputs": [
    {
     "data": {
      "text/plain": [
       "Timestamp('2019-03-05 01:44:16.824000')"
      ]
     },
     "execution_count": 90,
     "metadata": {},
     "output_type": "execute_result"
    }
   ],
   "source": [
    "clicks_att[\"date\"].min()"
   ]
  },
  {
   "cell_type": "markdown",
   "metadata": {},
   "source": [
    "### Vamos a utilizar merge_asof para buscar la fecha anterior de un click más cercana a la fecha del evento usando como clave el ref_hash"
   ]
  },
  {
   "cell_type": "code",
   "execution_count": 18,
   "metadata": {},
   "outputs": [],
   "source": [
    "clicks_att.rename(columns = {\"created\":\"date_click\"},inplace = True)\n",
    "events_att.rename(columns = {\"date\":\"date_event\"},inplace = True)\n"
   ]
  },
  {
   "cell_type": "code",
   "execution_count": 19,
   "metadata": {},
   "outputs": [],
   "source": [
    "join = pd.merge_asof(events_att, clicks_att,left_on=\"date_event\",right_on=\"date_click\", by=\"ref_hash\",suffixes=(\"_event\",\"_click\"))\n"
   ]
  },
  {
   "cell_type": "code",
   "execution_count": 20,
   "metadata": {},
   "outputs": [
    {
     "data": {
      "text/plain": [
       "Index(['date_event', 'event_id', 'ref_type_event', 'ref_hash',\n",
       "       'application_id', 'attributed', 'device_brand', 'device_model',\n",
       "       'event_uuid', 'carrier', 'device_os', 'wifi', 'connection_type',\n",
       "       'advertiser_id', 'action_id', 'source_id', 'date_click', 'country_code',\n",
       "       'latitude', 'longitude', 'wifi_connection', 'carrier_id', 'trans_id',\n",
       "       'os_minor', 'agent_device', 'os_major', 'specs_brand', 'brand',\n",
       "       'timeToClick', 'touchX', 'touchY', 'ref_type_click'],\n",
       "      dtype='object')"
      ]
     },
     "execution_count": 20,
     "metadata": {},
     "output_type": "execute_result"
    }
   ],
   "source": [
    "join.columns"
   ]
  },
  {
   "cell_type": "code",
   "execution_count": 21,
   "metadata": {},
   "outputs": [
    {
     "data": {
      "text/html": [
       "<div>\n",
       "<style scoped>\n",
       "    .dataframe tbody tr th:only-of-type {\n",
       "        vertical-align: middle;\n",
       "    }\n",
       "\n",
       "    .dataframe tbody tr th {\n",
       "        vertical-align: top;\n",
       "    }\n",
       "\n",
       "    .dataframe thead th {\n",
       "        text-align: right;\n",
       "    }\n",
       "</style>\n",
       "<table border=\"1\" class=\"dataframe\">\n",
       "  <thead>\n",
       "    <tr style=\"text-align: right;\">\n",
       "      <th></th>\n",
       "      <th>date_event</th>\n",
       "      <th>event_id</th>\n",
       "      <th>ref_type_event</th>\n",
       "      <th>ref_hash</th>\n",
       "      <th>application_id</th>\n",
       "      <th>attributed</th>\n",
       "      <th>device_brand</th>\n",
       "      <th>device_model</th>\n",
       "      <th>event_uuid</th>\n",
       "      <th>carrier</th>\n",
       "      <th>...</th>\n",
       "      <th>trans_id</th>\n",
       "      <th>os_minor</th>\n",
       "      <th>agent_device</th>\n",
       "      <th>os_major</th>\n",
       "      <th>specs_brand</th>\n",
       "      <th>brand</th>\n",
       "      <th>timeToClick</th>\n",
       "      <th>touchX</th>\n",
       "      <th>touchY</th>\n",
       "      <th>ref_type_click</th>\n",
       "    </tr>\n",
       "  </thead>\n",
       "  <tbody>\n",
       "    <tr>\n",
       "      <th>0</th>\n",
       "      <td>2019-03-05 02:44:49.519</td>\n",
       "      <td>31</td>\n",
       "      <td>1494519392962156891</td>\n",
       "      <td>794348227989563384</td>\n",
       "      <td>170</td>\n",
       "      <td>True</td>\n",
       "      <td>NaN</td>\n",
       "      <td>2.331947e+18</td>\n",
       "      <td>NaN</td>\n",
       "      <td>NaN</td>\n",
       "      <td>...</td>\n",
       "      <td>NaN</td>\n",
       "      <td>NaN</td>\n",
       "      <td>NaN</td>\n",
       "      <td>NaN</td>\n",
       "      <td>NaN</td>\n",
       "      <td>NaN</td>\n",
       "      <td>NaN</td>\n",
       "      <td>NaN</td>\n",
       "      <td>NaN</td>\n",
       "      <td>NaN</td>\n",
       "    </tr>\n",
       "    <tr>\n",
       "      <th>1</th>\n",
       "      <td>2019-03-05 04:23:21.198</td>\n",
       "      <td>31</td>\n",
       "      <td>1494519392962156891</td>\n",
       "      <td>5205327879804908010</td>\n",
       "      <td>170</td>\n",
       "      <td>True</td>\n",
       "      <td>NaN</td>\n",
       "      <td>2.331947e+18</td>\n",
       "      <td>NaN</td>\n",
       "      <td>NaN</td>\n",
       "      <td>...</td>\n",
       "      <td>NaN</td>\n",
       "      <td>NaN</td>\n",
       "      <td>NaN</td>\n",
       "      <td>NaN</td>\n",
       "      <td>NaN</td>\n",
       "      <td>NaN</td>\n",
       "      <td>NaN</td>\n",
       "      <td>NaN</td>\n",
       "      <td>NaN</td>\n",
       "      <td>NaN</td>\n",
       "    </tr>\n",
       "    <tr>\n",
       "      <th>2</th>\n",
       "      <td>2019-03-05 16:13:09.348</td>\n",
       "      <td>31</td>\n",
       "      <td>1891515180541284343</td>\n",
       "      <td>7713803070332508145</td>\n",
       "      <td>63</td>\n",
       "      <td>True</td>\n",
       "      <td>2.987569e+18</td>\n",
       "      <td>4.545490e+18</td>\n",
       "      <td>NaN</td>\n",
       "      <td>NaN</td>\n",
       "      <td>...</td>\n",
       "      <td>NaN</td>\n",
       "      <td>NaN</td>\n",
       "      <td>NaN</td>\n",
       "      <td>NaN</td>\n",
       "      <td>NaN</td>\n",
       "      <td>NaN</td>\n",
       "      <td>NaN</td>\n",
       "      <td>NaN</td>\n",
       "      <td>NaN</td>\n",
       "      <td>NaN</td>\n",
       "    </tr>\n",
       "  </tbody>\n",
       "</table>\n",
       "<p>3 rows × 32 columns</p>\n",
       "</div>"
      ],
      "text/plain": [
       "               date_event  event_id       ref_type_event             ref_hash  \\\n",
       "0 2019-03-05 02:44:49.519        31  1494519392962156891   794348227989563384   \n",
       "1 2019-03-05 04:23:21.198        31  1494519392962156891  5205327879804908010   \n",
       "2 2019-03-05 16:13:09.348        31  1891515180541284343  7713803070332508145   \n",
       "\n",
       "   application_id  attributed  device_brand  device_model event_uuid  carrier  \\\n",
       "0             170        True           NaN  2.331947e+18        NaN      NaN   \n",
       "1             170        True           NaN  2.331947e+18        NaN      NaN   \n",
       "2              63        True  2.987569e+18  4.545490e+18        NaN      NaN   \n",
       "\n",
       "   ...  trans_id os_minor agent_device  os_major  specs_brand  brand  \\\n",
       "0  ...       NaN      NaN          NaN       NaN          NaN    NaN   \n",
       "1  ...       NaN      NaN          NaN       NaN          NaN    NaN   \n",
       "2  ...       NaN      NaN          NaN       NaN          NaN    NaN   \n",
       "\n",
       "  timeToClick  touchX  touchY  ref_type_click  \n",
       "0         NaN     NaN     NaN             NaN  \n",
       "1         NaN     NaN     NaN             NaN  \n",
       "2         NaN     NaN     NaN             NaN  \n",
       "\n",
       "[3 rows x 32 columns]"
      ]
     },
     "execution_count": 21,
     "metadata": {},
     "output_type": "execute_result"
    }
   ],
   "source": [
    "join.head(3)"
   ]
  },
  {
   "cell_type": "markdown",
   "metadata": {},
   "source": [
    "### Se puede observar que hay eventos para los que no pudo encontrar un click anterior"
   ]
  },
  {
   "cell_type": "code",
   "execution_count": 22,
   "metadata": {},
   "outputs": [
    {
     "data": {
      "text/plain": [
       "173"
      ]
     },
     "execution_count": 22,
     "metadata": {},
     "output_type": "execute_result"
    }
   ],
   "source": [
    "len(join)"
   ]
  },
  {
   "cell_type": "markdown",
   "metadata": {},
   "source": [
    "### Como habiamos visto anteriormente hay 173 eventos atribuidos. ¿Cuantos tienen un click previo?"
   ]
  },
  {
   "cell_type": "code",
   "execution_count": 28,
   "metadata": {},
   "outputs": [
    {
     "data": {
      "text/plain": [
       "90"
      ]
     },
     "execution_count": 28,
     "metadata": {},
     "output_type": "execute_result"
    }
   ],
   "source": [
    "join[\"trans_id\"].notna().sum()"
   ]
  },
  {
   "cell_type": "code",
   "execution_count": 30,
   "metadata": {},
   "outputs": [],
   "source": [
    "join[\"has_click\"] =  join[\"trans_id\"].notna()"
   ]
  },
  {
   "cell_type": "code",
   "execution_count": 38,
   "metadata": {},
   "outputs": [],
   "source": [
    "def autolabel_pct(pct):\n",
    "    return \"{:.1f}%\".format(pct)\n",
    "\n",
    "def autolabel_height(grafico, xpos='center'):\n",
    "    \"\"\"\n",
    "    Attach a text label above each bar in *rects*, displaying its height.\n",
    "\n",
    "    *xpos* indicates which side to place the text w.r.t. the center of\n",
    "    the bar. It can be one of the following {'center', 'right', 'left'}.\n",
    "    \"\"\"\n",
    "\n",
    "    xpos = xpos.lower()  # normalize the case of the parameter\n",
    "    ha = {'center': 'center', 'right': 'left', 'left': 'right'}\n",
    "    offset = {'center': 0.5, 'right': 0.57, 'left': 0.43}  # x_txt = x + w*off\n",
    "\n",
    "    for bar in grafico.patches:\n",
    "        height = bar.get_height()\n",
    "        grafico.text(bar.get_x() + bar.get_width()*offset[xpos], 1.01*height,\n",
    "                '{}'.format(height), ha=ha[xpos], va='bottom')\n"
   ]
  },
  {
   "cell_type": "code",
   "execution_count": 41,
   "metadata": {},
   "outputs": [
    {
     "data": {
      "text/plain": [
       "Text(0.5, 0.98, 'Porcentaje de eventos filtrados que contienen un click previo')"
      ]
     },
     "execution_count": 41,
     "metadata": {},
     "output_type": "execute_result"
    },
    {
     "data": {
      "image/png": "[encoded data removed]",
      "text/plain": [
       "<Figure size 1080x432 with 1 Axes>"
      ]
     },
     "metadata": {},
     "output_type": "display_data"
    }
   ],
   "source": [
    "fig, ax = plt.subplots( figsize = (15,6), )\n",
    "\n",
    "datos = join[\"has_click\"].value_counts()\n",
    "labels = [\"Tiene click\", \"No tiene click\"]\n",
    "\n",
    "graf_torta = ax.pie(datos, autopct = autolabel_pct)\n",
    "\n",
    "graf_torta[2][0].set_fontsize(15)\n",
    "graf_torta[2][1].set_color(\"w\")\n",
    "graf_torta[2][1].set_fontsize(15)\n",
    "\n",
    "ax.legend(graf_torta[0], labels,\n",
    "          title=\"Eventos\",\n",
    "          loc=\"center left\",\n",
    "          bbox_to_anchor=(1, 0, 0, 1))\n",
    "\n",
    "fig.suptitle(\"Porcentaje de eventos filtrados que contienen un click previo\",fontsize = 15)\n"
   ]
  },
  {
   "cell_type": "markdown",
   "metadata": {},
   "source": [
    "## Dataframe para sacar estadisticas de clicks que llevan a eventos atribuidos"
   ]
  },
  {
   "cell_type": "code",
   "execution_count": 52,
   "metadata": {},
   "outputs": [],
   "source": [
    "#Columnas de ejemplo\n",
    "join_short = join[[\"event_id\",\"ref_hash\",\"application_id\",\"advertiser_id\",\"timeToClick\",\"touchX\",\"touchY\",\"has_click\"]]"
   ]
  },
  {
   "cell_type": "code",
   "execution_count": 53,
   "metadata": {},
   "outputs": [
    {
     "data": {
      "text/html": [
       "<div>\n",
       "<style scoped>\n",
       "    .dataframe tbody tr th:only-of-type {\n",
       "        vertical-align: middle;\n",
       "    }\n",
       "\n",
       "    .dataframe tbody tr th {\n",
       "        vertical-align: top;\n",
       "    }\n",
       "\n",
       "    .dataframe thead th {\n",
       "        text-align: right;\n",
       "    }\n",
       "</style>\n",
       "<table border=\"1\" class=\"dataframe\">\n",
       "  <thead>\n",
       "    <tr style=\"text-align: right;\">\n",
       "      <th></th>\n",
       "      <th>event_id</th>\n",
       "      <th>ref_hash</th>\n",
       "      <th>application_id</th>\n",
       "      <th>advertiser_id</th>\n",
       "      <th>timeToClick</th>\n",
       "      <th>touchX</th>\n",
       "      <th>touchY</th>\n",
       "      <th>has_click</th>\n",
       "    </tr>\n",
       "  </thead>\n",
       "  <tbody>\n",
       "    <tr>\n",
       "      <th>24</th>\n",
       "      <td>31</td>\n",
       "      <td>8983455136472355809</td>\n",
       "      <td>16</td>\n",
       "      <td>8.0</td>\n",
       "      <td>0.695</td>\n",
       "      <td>0.257</td>\n",
       "      <td>0.988</td>\n",
       "      <td>True</td>\n",
       "    </tr>\n",
       "    <tr>\n",
       "      <th>25</th>\n",
       "      <td>513</td>\n",
       "      <td>8983455136472355809</td>\n",
       "      <td>16</td>\n",
       "      <td>8.0</td>\n",
       "      <td>0.695</td>\n",
       "      <td>0.257</td>\n",
       "      <td>0.988</td>\n",
       "      <td>True</td>\n",
       "    </tr>\n",
       "    <tr>\n",
       "      <th>56</th>\n",
       "      <td>31</td>\n",
       "      <td>6447802891648830796</td>\n",
       "      <td>56</td>\n",
       "      <td>0.0</td>\n",
       "      <td>NaN</td>\n",
       "      <td>0.262</td>\n",
       "      <td>0.003</td>\n",
       "      <td>True</td>\n",
       "    </tr>\n",
       "    <tr>\n",
       "      <th>76</th>\n",
       "      <td>31</td>\n",
       "      <td>4423154736192166693</td>\n",
       "      <td>102</td>\n",
       "      <td>0.0</td>\n",
       "      <td>NaN</td>\n",
       "      <td>0.633</td>\n",
       "      <td>0.107</td>\n",
       "      <td>True</td>\n",
       "    </tr>\n",
       "    <tr>\n",
       "      <th>78</th>\n",
       "      <td>133</td>\n",
       "      <td>4423154736192166693</td>\n",
       "      <td>102</td>\n",
       "      <td>0.0</td>\n",
       "      <td>NaN</td>\n",
       "      <td>0.633</td>\n",
       "      <td>0.107</td>\n",
       "      <td>True</td>\n",
       "    </tr>\n",
       "    <tr>\n",
       "      <th>79</th>\n",
       "      <td>31</td>\n",
       "      <td>1197020933501942270</td>\n",
       "      <td>102</td>\n",
       "      <td>0.0</td>\n",
       "      <td>NaN</td>\n",
       "      <td>NaN</td>\n",
       "      <td>NaN</td>\n",
       "      <td>True</td>\n",
       "    </tr>\n",
       "    <tr>\n",
       "      <th>80</th>\n",
       "      <td>31</td>\n",
       "      <td>8569678576097759996</td>\n",
       "      <td>102</td>\n",
       "      <td>0.0</td>\n",
       "      <td>NaN</td>\n",
       "      <td>0.551</td>\n",
       "      <td>0.081</td>\n",
       "      <td>True</td>\n",
       "    </tr>\n",
       "    <tr>\n",
       "      <th>89</th>\n",
       "      <td>134</td>\n",
       "      <td>1197020933501942270</td>\n",
       "      <td>102</td>\n",
       "      <td>0.0</td>\n",
       "      <td>NaN</td>\n",
       "      <td>NaN</td>\n",
       "      <td>NaN</td>\n",
       "      <td>True</td>\n",
       "    </tr>\n",
       "    <tr>\n",
       "      <th>90</th>\n",
       "      <td>133</td>\n",
       "      <td>8569678576097759996</td>\n",
       "      <td>102</td>\n",
       "      <td>0.0</td>\n",
       "      <td>NaN</td>\n",
       "      <td>0.551</td>\n",
       "      <td>0.081</td>\n",
       "      <td>True</td>\n",
       "    </tr>\n",
       "    <tr>\n",
       "      <th>91</th>\n",
       "      <td>133</td>\n",
       "      <td>8569678576097759996</td>\n",
       "      <td>102</td>\n",
       "      <td>0.0</td>\n",
       "      <td>NaN</td>\n",
       "      <td>0.551</td>\n",
       "      <td>0.081</td>\n",
       "      <td>True</td>\n",
       "    </tr>\n",
       "  </tbody>\n",
       "</table>\n",
       "</div>"
      ],
      "text/plain": [
       "    event_id             ref_hash  application_id  advertiser_id  timeToClick  \\\n",
       "24        31  8983455136472355809              16            8.0        0.695   \n",
       "25       513  8983455136472355809              16            8.0        0.695   \n",
       "56        31  6447802891648830796              56            0.0          NaN   \n",
       "76        31  4423154736192166693             102            0.0          NaN   \n",
       "78       133  4423154736192166693             102            0.0          NaN   \n",
       "79        31  1197020933501942270             102            0.0          NaN   \n",
       "80        31  8569678576097759996             102            0.0          NaN   \n",
       "89       134  1197020933501942270             102            0.0          NaN   \n",
       "90       133  8569678576097759996             102            0.0          NaN   \n",
       "91       133  8569678576097759996             102            0.0          NaN   \n",
       "\n",
       "    touchX  touchY  has_click  \n",
       "24   0.257   0.988       True  \n",
       "25   0.257   0.988       True  \n",
       "56   0.262   0.003       True  \n",
       "76   0.633   0.107       True  \n",
       "78   0.633   0.107       True  \n",
       "79     NaN     NaN       True  \n",
       "80   0.551   0.081       True  \n",
       "89     NaN     NaN       True  \n",
       "90   0.551   0.081       True  \n",
       "91   0.551   0.081       True  "
      ]
     },
     "execution_count": 53,
     "metadata": {},
     "output_type": "execute_result"
    }
   ],
   "source": [
    "join_short[ join_short[\"has_click\"] == True].head(10)"
   ]
  }
 ],
 "metadata": {
  "kernelspec": {
   "display_name": "Python 3",
   "language": "python",
   "name": "python3"
  },
  "language_info": {
   "codemirror_mode": {
    "name": "ipython",
    "version": 3
   },
   "file_extension": ".py",
   "mimetype": "text/x-python",
   "name": "python",
   "nbconvert_exporter": "python",
   "pygments_lexer": "ipython3",
   "version": "3.6.8"
  }
 },
 "nbformat": 4,
 "nbformat_minor": 2
}
