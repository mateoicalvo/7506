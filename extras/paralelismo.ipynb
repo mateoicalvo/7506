{
 "cells": [
  {
   "cell_type": "code",
   "execution_count": null,
   "metadata": {},
   "outputs": [],
   "source": []
  },
  {
   "cell_type": "code",
   "execution_count": 1,
   "metadata": {},
   "outputs": [],
   "source": [
    "import ipyparallel as ipp"
   ]
  },
  {
   "cell_type": "code",
   "execution_count": 27,
   "metadata": {},
   "outputs": [],
   "source": [
    "from concurrent.futures import Future"
   ]
  },
  {
   "cell_type": "code",
   "execution_count": 2,
   "metadata": {},
   "outputs": [],
   "source": [
    "cliente = ipp.Client()"
   ]
  },
  {
   "cell_type": "code",
   "execution_count": 4,
   "metadata": {},
   "outputs": [],
   "source": [
    "vista = cliente[:v]"
   ]
  },
  {
   "cell_type": "code",
   "execution_count": 16,
   "metadata": {},
   "outputs": [],
   "source": [
    "def funcion(param1, param2):\n",
    "    return 6"
   ]
  },
  {
   "cell_type": "markdown",
   "metadata": {},
   "source": [
    "---"
   ]
  },
  {
   "cell_type": "code",
   "execution_count": 127,
   "metadata": {},
   "outputs": [],
   "source": [
    "cliente[:][\"data\"] = destino"
   ]
  },
  {
   "cell_type": "code",
   "execution_count": 123,
   "metadata": {},
   "outputs": [],
   "source": [
    "a = cliente[0].apply_async(asd)\n",
    "b = cliente[1].apply_async(asd)\n",
    "c = cliente[2].apply_async(asd)\n",
    "d = cliente[3].apply_async(asd)\n",
    "e = cliente[4].apply_async(asd)\n",
    "f = cliente[5].apply_async(asd)"
   ]
  },
  {
   "cell_type": "code",
   "execution_count": 146,
   "metadata": {},
   "outputs": [],
   "source": [
    "from concurrent.futures import Future\n",
    "from functools import partial"
   ]
  },
  {
   "cell_type": "code",
   "execution_count": 148,
   "metadata": {},
   "outputs": [],
   "source": [
    "view = cliente[:]"
   ]
  },
  {
   "cell_type": "code",
   "execution_count": 34,
   "metadata": {},
   "outputs": [
    {
     "name": "stdout",
     "output_type": "stream",
     "text": [
      "Waiting for results\n"
     ]
    },
    {
     "data": {
      "text/plain": [
       "<map at 0x7fa5e013e390>"
      ]
     },
     "execution_count": 34,
     "metadata": {},
     "output_type": "execute_result"
    }
   ],
   "source": [
    "from concurrent.futures import Future\n",
    "from functools import partial\n",
    "\n",
    "view = cliente[:]\n",
    "def chain_apply(view, func, future):\n",
    "    \"\"\"Chain a call to view.apply(func, future.result()) when future is ready.\n",
    "\n",
    "    Returns a Future for the subsequent result.\n",
    "    \"\"\"\n",
    "    f2 = Future()\n",
    "    # when f1 is ready, submit a new task for func on its result\n",
    "    def apply_func(f):\n",
    "        if f.exception():\n",
    "            f2.set_exception(f.exception())\n",
    "            return\n",
    "        print('submitting %s(%s)' % (func.__name__, f.result()))\n",
    "        ar = view.apply_async(func, f.result())\n",
    "        # when ar is done, pass through the result to f2\n",
    "        ar.add_done_callback(lambda ar: f2.set_result(ar.get()))\n",
    "\n",
    "    future.add_done_callback(apply_func)\n",
    "    return f2\n",
    "\n",
    "\n",
    "def chain_map(view, func, list_of_futures):\n",
    "    \"\"\"Chain a new callback on a list of futures.\"\"\"\n",
    "    return [ chain_apply(view, func, f) for f in list_of_futures ]\n",
    "\n",
    "# use builtin map with apply, since we want one Future per item\n",
    "results1 = map(partial(view.apply, asd), [1, 2, 3])\n",
    "print(\"Waiting for results\")\n",
    "results1"
   ]
  },
  {
   "cell_type": "code",
   "execution_count": 74,
   "metadata": {},
   "outputs": [],
   "source": [
    "parallel_result = c[:].map_sync(lambda x: x**10, range(30000000))"
   ]
  },
  {
   "cell_type": "code",
   "execution_count": 75,
   "metadata": {},
   "outputs": [
    {
     "data": {
      "text/plain": [
       "<AsyncResult: <lambda>>"
      ]
     },
     "execution_count": 75,
     "metadata": {},
     "output_type": "execute_result"
    }
   ],
   "source": [
    "c[:].apply(lambda x: x**10, range(30000000))"
   ]
  },
  {
   "cell_type": "code",
   "execution_count": null,
   "metadata": {},
   "outputs": [],
   "source": [
    "ipp.client.view.DirectView.apply_async()"
   ]
  },
  {
   "cell_type": "code",
   "execution_count": 76,
   "metadata": {},
   "outputs": [],
   "source": [
    "dview = c[:]"
   ]
  },
  {
   "cell_type": "code",
   "execution_count": 85,
   "metadata": {},
   "outputs": [],
   "source": [
    "dview.block=False"
   ]
  },
  {
   "cell_type": "code",
   "execution_count": 82,
   "metadata": {},
   "outputs": [
    {
     "data": {
      "text/plain": [
       "['Hola', 'Hola', 'Hola', 'Hola', 'Hola', 'Hola']"
      ]
     },
     "execution_count": 82,
     "metadata": {},
     "output_type": "execute_result"
    }
   ],
   "source": [
    "dview.apply(lambda: \"Hola\")"
   ]
  },
  {
   "cell_type": "markdown",
   "metadata": {},
   "source": [
    "---"
   ]
  }
 ],
 "metadata": {
  "kernelspec": {
   "display_name": "Python 3",
   "language": "python",
   "name": "python3"
  },
  "language_info": {
   "codemirror_mode": {
    "name": "ipython",
    "version": 3
   },
   "file_extension": ".py",
   "mimetype": "text/x-python",
   "name": "python",
   "nbconvert_exporter": "python",
   "pygments_lexer": "ipython3",
   "version": "3.6.5"
  }
 },
 "nbformat": 4,
 "nbformat_minor": 2
}
