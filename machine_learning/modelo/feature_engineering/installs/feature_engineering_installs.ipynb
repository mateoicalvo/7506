{
 "cells": [
  {
   "cell_type": "markdown",
   "metadata": {},
   "source": [
    "# Imports"
   ]
  },
  {
   "cell_type": "code",
   "execution_count": 1,
   "metadata": {},
   "outputs": [],
   "source": [
    "import pandas as pd\n",
    "import numpy as np"
   ]
  },
  {
   "cell_type": "markdown",
   "metadata": {},
   "source": [
    "---"
   ]
  },
  {
   "cell_type": "markdown",
   "metadata": {},
   "source": [
    "# Carga de datos"
   ]
  },
  {
   "cell_type": "code",
   "execution_count": 2,
   "metadata": {},
   "outputs": [],
   "source": [
    "installs = pd.read_pickle(\"../../../../data/tp2/installs_tp2_formateado.pkl\")"
   ]
  },
  {
   "cell_type": "code",
   "execution_count": 3,
   "metadata": {},
   "outputs": [],
   "source": [
    "targets_competencia = pd.read_pickle(\"../../../../data/tp2/ref_hashes_target.pkl\")"
   ]
  },
  {
   "cell_type": "markdown",
   "metadata": {},
   "source": [
    "---"
   ]
  },
  {
   "cell_type": "markdown",
   "metadata": {},
   "source": [
    "### Columnas utilizadas para generar features"
   ]
  },
  {
   "cell_type": "code",
   "execution_count": 4,
   "metadata": {},
   "outputs": [],
   "source": [
    "installs[\"no_atribuida\"] = (~installs[\"attributed\"]).astype(np.int8)\n",
    "installs[\"attributed\"] = installs[\"attributed\"].astype(np.int8)\n",
    "installs[\"wifi\"] = installs[\"wifi\"].fillna(0).astype(np.int8)"
   ]
  },
  {
   "cell_type": "markdown",
   "metadata": {},
   "source": [
    "### De installs, me quedo con sólo datos que correspondan a la competencia"
   ]
  },
  {
   "cell_type": "code",
   "execution_count": 5,
   "metadata": {},
   "outputs": [],
   "source": [
    "installs_competencia = installs.loc[installs[\"device_id\"].isin(targets_competencia.index)]"
   ]
  },
  {
   "cell_type": "markdown",
   "metadata": {},
   "source": [
    "---"
   ]
  },
  {
   "cell_type": "markdown",
   "metadata": {},
   "source": [
    "# Cargo features generados hasta el momento"
   ]
  },
  {
   "cell_type": "markdown",
   "metadata": {},
   "source": [
    "## Sets de entrenamiento"
   ]
  },
  {
   "cell_type": "code",
   "execution_count": 6,
   "metadata": {},
   "outputs": [
    {
     "name": "stdout",
     "output_type": "stream",
     "text": [
      "Cargando features\n",
      "No se encontraron los features, se generarán los dataframe requeridos\n"
     ]
    }
   ],
   "source": [
    "# Ventanas de tres dias\n",
    "Xs = {}\n",
    "try:\n",
    "    print(\"Cargando features\")\n",
    "    for ventana_nro in range(1,7):    \n",
    "        Xs[ventana_nro] = pd.read_csv(\"../../features/ventana_{}_entrenar_installs.csv\".format(ventana_nro), index_col=0)\n",
    "except FileNotFoundError:\n",
    "    print(\"No se encontraron los features, se generarán los dataframe requeridos\")\n",
    "    for ventana_nro in range(1,7):    \n",
    "        Xs[ventana_nro] = installs.loc[installs[\"ventana_{}\".format(ventana_nro)]][\"device_id\"] \\\n",
    "            .drop_duplicates().to_frame().set_index(\"device_id\").copy()"
   ]
  },
  {
   "cell_type": "markdown",
   "metadata": {},
   "source": [
    "## Set que se usará para predecir"
   ]
  },
  {
   "cell_type": "code",
   "execution_count": 7,
   "metadata": {},
   "outputs": [
    {
     "name": "stdout",
     "output_type": "stream",
     "text": [
      "Cargando features usados para predecir\n",
      "No se encontraron los features usados para predecir, se generará el dataframe requerido\n"
     ]
    }
   ],
   "source": [
    "# Features para hacer las predicciones que se suben, corresponden a la ventana 7\n",
    "Xs_predecir = {}\n",
    "\n",
    "try:\n",
    "    print(\"Cargando features usados para predecir\")\n",
    "    Xs_predecir[7] = pd.read_csv(\"../../features/predecir_installs.csv\", index_col=0)\n",
    "except FileNotFoundError:\n",
    "    print(\"No se encontraron los features usados para predecir, se generará el dataframe requerido\")\n",
    "    Xs_predecir[7] = targets_competencia.copy()"
   ]
  },
  {
   "cell_type": "markdown",
   "metadata": {},
   "source": [
    "## Diccionario de features"
   ]
  },
  {
   "cell_type": "code",
   "execution_count": 8,
   "metadata": {},
   "outputs": [],
   "source": [
    "features = {}\n",
    "# Todos los datasets tienen la misma cantidad y nombre de features, tomo la ventana 1\n",
    "columnas_ya_generadas = list(Xs[1].columns.values)"
   ]
  },
  {
   "cell_type": "markdown",
   "metadata": {},
   "source": [
    "---"
   ]
  },
  {
   "cell_type": "markdown",
   "metadata": {},
   "source": [
    "# Creación de features"
   ]
  },
  {
   "cell_type": "markdown",
   "metadata": {},
   "source": [
    "## Cantidad de instalaciones dentro de la ventana"
   ]
  },
  {
   "cell_type": "code",
   "execution_count": 9,
   "metadata": {},
   "outputs": [],
   "source": [
    "def cantidad_de_instalaciones(dataframe, nro_ventana):\n",
    "    return dataframe.groupby(\"device_id\").agg({\"date\" : \"count\"}).rename(columns={\"date\": \"cantidad_instalaciones_installs\"})"
   ]
  },
  {
   "cell_type": "code",
   "execution_count": 10,
   "metadata": {},
   "outputs": [],
   "source": [
    "features[\"cantidad_de_instalaciones\"] = (cantidad_de_instalaciones, [\"cantidad_instalaciones_installs\"])"
   ]
  },
  {
   "cell_type": "markdown",
   "metadata": {},
   "source": [
    "---"
   ]
  },
  {
   "cell_type": "markdown",
   "metadata": {},
   "source": [
    "## Tiempo desde la última instalacion hasta el fin de la ventana"
   ]
  },
  {
   "cell_type": "code",
   "execution_count": 11,
   "metadata": {},
   "outputs": [],
   "source": [
    "def tiempo_desde_ult_instalacion_hasta_fin_ventana(dataframe, nro_ventana):\n",
    "    return (np.datetime64(\"2019-04-2{}\".format(nro_ventana)) - dataframe.groupby(\"device_id\").agg({\"date\" : \"max\"})[\"date\"]).dt.total_seconds().to_frame().rename(columns={\"date\": \"tiempo_ultima_instalacion_hasta_fin_ventana\"})"
   ]
  },
  {
   "cell_type": "code",
   "execution_count": 12,
   "metadata": {},
   "outputs": [],
   "source": [
    "features[\"tiempo_desde_ult_instalacion_hasta_fin_ventana\"] = (tiempo_desde_ult_instalacion_hasta_fin_ventana, [\"tiempo_ultima_instalacion_hasta_fin_ventana\"])"
   ]
  },
  {
   "cell_type": "markdown",
   "metadata": {},
   "source": [
    "---"
   ]
  },
  {
   "cell_type": "markdown",
   "metadata": {},
   "source": [
    "## Cantidad de aplicaciones distintas instaladas"
   ]
  },
  {
   "cell_type": "code",
   "execution_count": 13,
   "metadata": {},
   "outputs": [],
   "source": [
    "def cantidad_aplicaciones_distintas_instaladas(dataframe, nro_ventana):\n",
    "    return dataframe.groupby(\"device_id\").agg({\"application_id\" : \"nunique\"}).rename(columns={\"application_id\": \"cantidad_aplicaciones_diferentes_installs\"})"
   ]
  },
  {
   "cell_type": "code",
   "execution_count": 14,
   "metadata": {},
   "outputs": [],
   "source": [
    "features[\"cantidad_aplicaciones_distintas_instaladas\"] = (cantidad_aplicaciones_distintas_instaladas, [\"cantidad_aplicaciones_diferentes_installs\"])"
   ]
  },
  {
   "cell_type": "markdown",
   "metadata": {},
   "source": [
    "---"
   ]
  },
  {
   "cell_type": "markdown",
   "metadata": {},
   "source": [
    "## Cantidad de direcciones ip registradas"
   ]
  },
  {
   "cell_type": "code",
   "execution_count": 15,
   "metadata": {},
   "outputs": [],
   "source": [
    "def cantidad_direcciones_ip(dataframe, nro_ventana):\n",
    "    return dataframe.groupby(\"device_id\") \\\n",
    "        .agg({\"ip_address\" : \"nunique\"}).rename(columns={\"ip_address\": \"cantidad_ips_diferentes_installs\"})"
   ]
  },
  {
   "cell_type": "code",
   "execution_count": 16,
   "metadata": {},
   "outputs": [],
   "source": [
    "features[\"cantidad_direcciones_ip\"] = (cantidad_direcciones_ip, [\"cantidad_ips_diferentes_installs\"])"
   ]
  },
  {
   "cell_type": "markdown",
   "metadata": {},
   "source": [
    "---"
   ]
  },
  {
   "cell_type": "markdown",
   "metadata": {},
   "source": [
    "## Cantidad instalaciones atribuidas"
   ]
  },
  {
   "cell_type": "code",
   "execution_count": 17,
   "metadata": {},
   "outputs": [],
   "source": [
    "def cantidad_instalaciones_atribuidas(dataframe, nro_ventana):\n",
    "    return dataframe.groupby(\"device_id\") \\\n",
    "        .agg({\"attributed\" : \"sum\"}).rename(columns={\"attributed\": \"cantidad_instalaciones_atribuidas_installs\"})"
   ]
  },
  {
   "cell_type": "code",
   "execution_count": 18,
   "metadata": {},
   "outputs": [],
   "source": [
    "features[\"cantidad_instalaciones_atribuidas\"] = (cantidad_instalaciones_atribuidas, [\"cantidad_instalaciones_atribuidas_installs\"])"
   ]
  },
  {
   "cell_type": "markdown",
   "metadata": {},
   "source": [
    "---"
   ]
  },
  {
   "cell_type": "markdown",
   "metadata": {},
   "source": [
    "## Cantidad instalaciones no atribuidas"
   ]
  },
  {
   "cell_type": "code",
   "execution_count": 19,
   "metadata": {},
   "outputs": [],
   "source": [
    "def cantidad_instalaciones_no_atribuidas(dataframe, nro_ventana):\n",
    "    return dataframe.groupby(\"device_id\") \\\n",
    "        .agg({\"no_atribuida\" : \"sum\"}).rename(columns={\"no_atribuida\": \"cantidad_instalaciones_no_atribuidas_installs\"})"
   ]
  },
  {
   "cell_type": "code",
   "execution_count": 20,
   "metadata": {},
   "outputs": [],
   "source": [
    "features[\"cantidad_instalaciones_no_atribuidas\"] = (cantidad_instalaciones_no_atribuidas, [\"cantidad_instalaciones_no_atribuidas_installs\"])"
   ]
  },
  {
   "cell_type": "markdown",
   "metadata": {},
   "source": [
    "---"
   ]
  },
  {
   "cell_type": "markdown",
   "metadata": {},
   "source": [
    "## Cantidad de idiomas registrados"
   ]
  },
  {
   "cell_type": "code",
   "execution_count": 21,
   "metadata": {},
   "outputs": [],
   "source": [
    "def cantidad_idiomas(dataframe, nro_ventana):\n",
    "    return dataframe.groupby(\"device_id\") \\\n",
    "        .agg({\"device_language\" : \"count\"}).rename(columns={\"device_language\": \"cantidad_idiomas_installs\"})"
   ]
  },
  {
   "cell_type": "code",
   "execution_count": 22,
   "metadata": {},
   "outputs": [],
   "source": [
    "features[\"cantidad_idiomas\"] = (cantidad_idiomas, [\"cantidad_idiomas_installs\"])"
   ]
  },
  {
   "cell_type": "markdown",
   "metadata": {},
   "source": [
    "---"
   ]
  },
  {
   "cell_type": "markdown",
   "metadata": {},
   "source": [
    "## Cantidad de instalaciones con wifi"
   ]
  },
  {
   "cell_type": "code",
   "execution_count": 23,
   "metadata": {},
   "outputs": [],
   "source": [
    "def cantidad_instalaciones_con_wifi(dataframe, nro_ventana):\n",
    "    return dataframe.groupby(\"device_id\") \\\n",
    "        .agg({\"wifi\" : \"sum\"}).rename(columns={\"wifi\": \"cantidad_instalaciones_wifi_installs\"})"
   ]
  },
  {
   "cell_type": "code",
   "execution_count": 24,
   "metadata": {},
   "outputs": [],
   "source": [
    "features[\"cantidad_instalaciones_con_wifi\"] = (cantidad_instalaciones_con_wifi, [\"cantidad_instalaciones_wifi_installs\"])"
   ]
  },
  {
   "cell_type": "markdown",
   "metadata": {},
   "source": [
    "---"
   ]
  },
  {
   "cell_type": "markdown",
   "metadata": {},
   "source": [
    "## Instalo una de las top-K aplicaciones"
   ]
  },
  {
   "cell_type": "code",
   "execution_count": 50,
   "metadata": {},
   "outputs": [],
   "source": [
    "K = 10\n",
    "\n",
    "def instalo_una_aplicacion_top(dataframe, nro_ventana):\n",
    "    features = pd.DataFrame()\n",
    "    for ranking in range(1, K+1):\n",
    "        top_k = installs[\"application_id\"].value_counts().iloc[:K].index\n",
    "        features = features.merge(dataframe.groupby(\"device_id\")\\\n",
    "            .agg({\"application_id\" : lambda x: x.isin(top_k).any()}), how=\"right\", right_index=True, left_index=True)\\\n",
    "            .rename(columns={\"application_id\" : \"instalo_aplicacion_top_{}\".format(ranking)})\n",
    "        features[\"instalo_aplicacion_top_{}\".format(ranking)] = features[\"instalo_aplicacion_top_{}\".format(ranking)].astype(np.int8)\n",
    "    return features"
   ]
  },
  {
   "cell_type": "code",
   "execution_count": 52,
   "metadata": {},
   "outputs": [],
   "source": [
    "features[\"instalo_una_aplicacion_top\"] = (instalo_una_aplicacion_top, [\"instalo_aplicacion_top_{}\".format(x) for x in range(1, K+1)])"
   ]
  },
  {
   "cell_type": "markdown",
   "metadata": {},
   "source": [
    "---"
   ]
  },
  {
   "cell_type": "markdown",
   "metadata": {},
   "source": [
    "## Tiene uno de los top-K idiomas registrados"
   ]
  },
  {
   "cell_type": "code",
   "execution_count": 68,
   "metadata": {},
   "outputs": [],
   "source": [
    "K = 10\n",
    "\n",
    "def tiene_uno_de_los_top_idiomas(dataframe, nro_ventana):\n",
    "    features = pd.DataFrame()\n",
    "    for ranking in range(1, K+1):\n",
    "        top_k = installs[\"device_language\"].value_counts().iloc[:K].index\n",
    "        features = features.merge(dataframe.groupby(\"device_id\")\\\n",
    "            .agg({\"device_language\" : lambda x: x.isin(top_k).any()}), how=\"right\", right_index=True, left_index=True)\\\n",
    "            .rename(columns={\"device_language\" : \"tiene_idioma_top_{}\".format(ranking)})\n",
    "        features[\"tiene_idioma_top_{}\".format(ranking)] = features[\"tiene_idioma_top_{}\".format(ranking)].astype(np.int8)\n",
    "    return features"
   ]
  },
  {
   "cell_type": "code",
   "execution_count": 69,
   "metadata": {},
   "outputs": [],
   "source": [
    "features[\"tiene_uno_de_los_top_idiomas\"] = (tiene_uno_de_los_top_idiomas, [\"tiene_idioma_top_{}_installs\".format(x) for x in range(1, K+1)])"
   ]
  },
  {
   "cell_type": "markdown",
   "metadata": {},
   "source": [
    "---"
   ]
  },
  {
   "cell_type": "markdown",
   "metadata": {},
   "source": [
    "# Genero los features"
   ]
  },
  {
   "cell_type": "markdown",
   "metadata": {},
   "source": [
    "## Función generadora de features en ventanas"
   ]
  },
  {
   "cell_type": "code",
   "execution_count": 54,
   "metadata": {},
   "outputs": [],
   "source": [
    "def generar_feature_en_ventanas(dataframe, generador_feature, destinos, ventana_inicial, ventana_final):\n",
    "    \"\"\"El rango se toma como python, [ventana_inicial, ventana_final)\"\"\"\n",
    "    for ventana_nro in range(ventana_inicial, ventana_final):\n",
    "        feature = generador_feature(dataframe.loc[dataframe[\"ventana_{}\".format(ventana_nro)]], ventana_nro)\n",
    "        destinos[ventana_nro] = destinos[ventana_nro].merge(feature, left_index=True, right_index=True, how=\"left\")"
   ]
  },
  {
   "cell_type": "markdown",
   "metadata": {},
   "source": [
    "### Genero los features"
   ]
  },
  {
   "cell_type": "code",
   "execution_count": 70,
   "metadata": {},
   "outputs": [
    {
     "name": "stdout",
     "output_type": "stream",
     "text": [
      "Generando feature tiene_uno_de_los_top_idiomas en ventanas\n",
      "Generando feature tiene_uno_de_los_top_idiomas en set de predicciones\n"
     ]
    }
   ],
   "source": [
    "COLUMNAS_QUE_GENERA_EL_FEATURE = 1\n",
    "FUNCION_PARA_CALCULAR_EL_FEATURE = 0\n",
    "\n",
    "for nombre_feature in features:    \n",
    "    columnas_generadas = features[nombre_feature][COLUMNAS_QUE_GENERA_EL_FEATURE]\n",
    "    feature_ya_generado = False\n",
    "    for columna in columnas_generadas:\n",
    "        if columna in columnas_ya_generadas:\n",
    "            feature_ya_generado = True\n",
    "            break\n",
    "    \n",
    "    if feature_ya_generado:\n",
    "        continue\n",
    "    \n",
    "    print(\"Generando feature {} en ventanas\".format(nombre_feature))\n",
    "    generar_feature_en_ventanas(installs, features[nombre_feature][FUNCION_PARA_CALCULAR_EL_FEATURE], Xs, 1, 7)\n",
    "    print(\"Generando feature {} en set de predicciones\".format(nombre_feature))\n",
    "    generar_feature_en_ventanas(installs_competencia, features[nombre_feature][FUNCION_PARA_CALCULAR_EL_FEATURE], Xs_predecir, 7, 8)\n",
    "    columnas_ya_generadas.extend(features[nombre_feature][COLUMNAS_QUE_GENERA_EL_FEATURE])"
   ]
  },
  {
   "cell_type": "markdown",
   "metadata": {},
   "source": [
    "---"
   ]
  },
  {
   "cell_type": "markdown",
   "metadata": {},
   "source": [
    "# Guardado de los sets de entrenamiento y el set de prediccion"
   ]
  },
  {
   "cell_type": "code",
   "execution_count": 71,
   "metadata": {},
   "outputs": [],
   "source": [
    "for ventana_nro in range(1, 7):\n",
    "    Xs[ventana_nro].to_csv(\"../../features/ventana_{}_entrenar_installs.csv\".format(ventana_nro))\n",
    "\n",
    "Xs_predecir[7].to_csv(\"../../features/predecir_installs.csv\")"
   ]
  },
  {
   "cell_type": "markdown",
   "metadata": {},
   "source": [
    "---"
   ]
  }
 ],
 "metadata": {
  "kernelspec": {
   "display_name": "Python 3",
   "language": "python",
   "name": "python3"
  },
  "language_info": {
   "codemirror_mode": {
    "name": "ipython",
    "version": 3
   },
   "file_extension": ".py",
   "mimetype": "text/x-python",
   "name": "python",
   "nbconvert_exporter": "python",
   "pygments_lexer": "ipython3",
   "version": "3.6.5"
  }
 },
 "nbformat": 4,
 "nbformat_minor": 2
}
