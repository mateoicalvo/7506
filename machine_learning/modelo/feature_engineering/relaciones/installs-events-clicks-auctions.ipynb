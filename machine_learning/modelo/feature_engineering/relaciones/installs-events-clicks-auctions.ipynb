{
 "cells": [
  {
   "cell_type": "code",
   "execution_count": 1,
   "metadata": {},
   "outputs": [],
   "source": [
    "import pandas as pd\n",
    "import numpy as np"
   ]
  },
  {
   "cell_type": "markdown",
   "metadata": {},
   "source": [
    "---"
   ]
  },
  {
   "cell_type": "markdown",
   "metadata": {},
   "source": [
    "# Cargo features generados hasta el momento"
   ]
  },
  {
   "cell_type": "markdown",
   "metadata": {},
   "source": [
    "## Sets de entrenamiento"
   ]
  },
  {
   "cell_type": "code",
   "execution_count": 17,
   "metadata": {},
   "outputs": [
    {
     "name": "stdout",
     "output_type": "stream",
     "text": [
      "Cargando features\n",
      "Ventana 1 agregada\n",
      "Ventana 2 agregada\n",
      "Ventana 3 agregada\n",
      "Ventana 4 agregada\n",
      "Ventana 5 agregada\n",
      "Ventana 6 agregada\n"
     ]
    }
   ],
   "source": [
    "# Ventanas de tres dias\n",
    "Xs = {}\n",
    "print(\"Cargando features\")\n",
    "for ventana_nro in range(1, 7):\n",
    "    try:\n",
    "        Xs[ventana_nro] = pd.read_csv(\"../../features/ventana_{}_entrenar_relaciones.csv\".format(ventana_nro), index_col=0)\n",
    "        print(\"Ventana {} agregada\".format(ventana_nro))\n",
    "    except FileNotFoundError:\n",
    "        print(\"No se econtro la ventana {}, se generará\".format(ventana_nro))\n",
    "        Xs[ventana_nro] = installs.loc[installs[\"ventana_{}\".format(ventana_nro)]][\"device_id\"] \\\n",
    "            .drop_duplicates().to_frame().set_index(\"device_id\").copy()"
   ]
  },
  {
   "cell_type": "markdown",
   "metadata": {},
   "source": [
    "## Set que se usará para predecir"
   ]
  },
  {
   "cell_type": "code",
   "execution_count": 19,
   "metadata": {},
   "outputs": [
    {
     "name": "stdout",
     "output_type": "stream",
     "text": [
      "Cargando features usados para predecir\n"
     ]
    }
   ],
   "source": [
    "# Features para hacer las predicciones que se suben, corresponden a la ventana 7\n",
    "Xs_predecir = {}\n",
    "\n",
    "try:\n",
    "    print(\"Cargando features usados para predecir\")\n",
    "    Xs_predecir[7] = pd.read_csv(\"../../features/predecir_relaciones.csv\", index_col=0)\n",
    "except FileNotFoundError:\n",
    "    print(\"No se encontraron los features usados para predecir, se generará el dataframe requerido\")\n",
    "    Xs_predecir[7] = targets_competencia.copy()"
   ]
  },
  {
   "cell_type": "code",
   "execution_count": 20,
   "metadata": {},
   "outputs": [],
   "source": [
    "features = {}\n",
    "# Todos los datasets tienen la misma cantidad y nombre de features, tomo la ventana 1\n",
    "columnas_ya_generadas = list(Xs[6].columns.values)"
   ]
  },
  {
   "cell_type": "markdown",
   "metadata": {},
   "source": [
    "---"
   ]
  },
  {
   "cell_type": "markdown",
   "metadata": {},
   "source": [
    "# Carga de datos"
   ]
  },
  {
   "cell_type": "code",
   "execution_count": 2,
   "metadata": {},
   "outputs": [],
   "source": [
    "installs = pd.read_pickle(\"../../../../data/tp2/installs_tp2_formateado.pkl\")"
   ]
  },
  {
   "cell_type": "code",
   "execution_count": 3,
   "metadata": {},
   "outputs": [],
   "source": [
    "auctions = pd.read_pickle(\"../../../../data/tp2/auctions_tp2_formateado.pkl\")"
   ]
  },
  {
   "cell_type": "code",
   "execution_count": 4,
   "metadata": {},
   "outputs": [],
   "source": [
    "targets_competencia = pd.read_pickle(\"../../../../data/tp2/ref_hashes_target.pkl\")"
   ]
  },
  {
   "cell_type": "code",
   "execution_count": 5,
   "metadata": {},
   "outputs": [],
   "source": [
    "ventanas = []\n",
    "for x in range(1,8):\n",
    "    ventanas.append(\"ventana_{}\".format(x))"
   ]
  },
  {
   "cell_type": "code",
   "execution_count": 6,
   "metadata": {},
   "outputs": [],
   "source": [
    "columns = [\"date\",\"device_id\",\"dia\"] + ventanas\n",
    "auctions = auctions[columns]\n",
    "installs = installs[columns]"
   ]
  },
  {
   "cell_type": "code",
   "execution_count": 7,
   "metadata": {},
   "outputs": [],
   "source": [
    "#Para distinguir despues del merge \n",
    "auctions.rename(columns ={\"date\": \"date_auction\"},inplace = True)\n",
    "installs.rename(columns ={\"date\": \"date_install\"},inplace = True)"
   ]
  },
  {
   "cell_type": "code",
   "execution_count": 8,
   "metadata": {},
   "outputs": [],
   "source": [
    "install_auctions = pd.merge_asof(auctions,installs, left_on = \"date_auction\", \n",
    "                               right_on = \"date_install\", by = \"device_id\",\n",
    "                               suffixes = (\"_auction\",\"_install\"))"
   ]
  },
  {
   "cell_type": "code",
   "execution_count": 9,
   "metadata": {},
   "outputs": [],
   "source": [
    "del auctions"
   ]
  },
  {
   "cell_type": "code",
   "execution_count": 10,
   "metadata": {},
   "outputs": [],
   "source": [
    "install_auctions = install_auctions[~install_auctions[\"date_install\"].isnull()]"
   ]
  },
  {
   "cell_type": "code",
   "execution_count": 11,
   "metadata": {},
   "outputs": [],
   "source": [
    "install_auctions = install_auctions[~install_auctions[\"date_auction\"].isnull()]"
   ]
  },
  {
   "cell_type": "markdown",
   "metadata": {},
   "source": [
    "---"
   ]
  },
  {
   "cell_type": "markdown",
   "metadata": {},
   "source": [
    "### De auctions- events me quedo con sólo datos que correspondan a la competencia"
   ]
  },
  {
   "cell_type": "code",
   "execution_count": 14,
   "metadata": {},
   "outputs": [],
   "source": [
    "install_auctions_competencia = install_auctions.loc[install_auctions[\"device_id\"].isin(targets_competencia.index)]"
   ]
  },
  {
   "cell_type": "markdown",
   "metadata": {},
   "source": [
    "----"
   ]
  },
  {
   "cell_type": "markdown",
   "metadata": {},
   "source": [
    "### Función generadora de features"
   ]
  },
  {
   "cell_type": "code",
   "execution_count": 24,
   "metadata": {},
   "outputs": [],
   "source": [
    "def generar_feature_en_ventanas(dataframe, generador_feature, destinos, ventana_inicial, ventana_final,nombre_data_merge):\n",
    "    \"\"\"El rango se toma como python, [ventana_inicial, ventana_final)\"\"\"\n",
    "    for ventana_nro in range(ventana_inicial, ventana_final):\n",
    "        print(\"generando feature en v{}\".format(ventana_nro))\n",
    "       \n",
    "        condicion = dataframe[\"ventana_{}_install\".format(ventana_nro)] & dataframe[\"ventana_{}\".format(ventana_nro) +\"_\"+nombre_data_merge]\n",
    "        \n",
    "        feature = generador_feature(dataframe.loc[condicion], ventana_nro)\n",
    "        destinos[ventana_nro] = destinos[ventana_nro].merge(feature, left_index=True, right_index=True, how=\"left\")\n",
    "        destinos[ventana_nro].fillna(0,inplace = True)"
   ]
  },
  {
   "cell_type": "markdown",
   "metadata": {},
   "source": [
    "---"
   ]
  },
  {
   "cell_type": "markdown",
   "metadata": {},
   "source": [
    "## Auctions - Events"
   ]
  },
  {
   "cell_type": "markdown",
   "metadata": {},
   "source": [
    "## Cantidad de eventos luego de la ultima subastas dentro de la ventana"
   ]
  },
  {
   "cell_type": "code",
   "execution_count": 21,
   "metadata": {},
   "outputs": [],
   "source": [
    "def cantidad_subastas_desde_ultima_instalacion(dataframe,nro_ventana): \n",
    "    idx = dataframe.groupby([\"device_id\"])[\"date_install\"].transform(max) == dataframe[\"date_install\"]\n",
    "    dataframe = dataframe[idx]\n",
    "    \n",
    "    feature = dataframe.groupby([\"device_id\"])[\"date_auction\"].agg({\"date_auction\":\"count\"})\\\n",
    "                    .rename(columns = {\"date_auction\":\"cantidad_subastas_desde_ultima_instalacion_hasta_fin_ventana\"})\n",
    "     \n",
    "    return feature[\"cantidad_subastas_desde_ultima_instalacion_hasta_fin_ventana\"]\n"
   ]
  },
  {
   "cell_type": "code",
   "execution_count": 23,
   "metadata": {},
   "outputs": [],
   "source": [
    "features[\"cantidad_subastas_desde_ultima_instalacion_hasta_fin_ventana\"] = (cantidad_subastas_desde_ultima_instalacion, [\"cantidad_subastas_desde_ultima_instalacion_hasta_fin_ventana\"])"
   ]
  },
  {
   "cell_type": "markdown",
   "metadata": {},
   "source": [
    "### Genero los features"
   ]
  },
  {
   "cell_type": "code",
   "execution_count": 25,
   "metadata": {},
   "outputs": [
    {
     "name": "stdout",
     "output_type": "stream",
     "text": [
      "Generando feature cantidad_subastas_desde_ultima_instalacion_hasta_fin_ventana en ventanas\n",
      "generando feature en v1\n"
     ]
    },
    {
     "name": "stderr",
     "output_type": "stream",
     "text": [
      "/home/pelozo/anaconda3/lib/python3.6/site-packages/ipykernel_launcher.py:5: FutureWarning: using a dict on a Series for aggregation\n",
      "is deprecated and will be removed in a future version\n",
      "  \"\"\"\n"
     ]
    },
    {
     "name": "stdout",
     "output_type": "stream",
     "text": [
      "generando feature en v2\n",
      "generando feature en v3\n",
      "generando feature en v4\n",
      "generando feature en v5\n",
      "generando feature en v6\n",
      "Generando feature cantidad_subastas_desde_ultima_instalacion_hasta_fin_ventana en set de predicciones\n",
      "generando feature en v7\n"
     ]
    }
   ],
   "source": [
    "COLUMNAS_QUE_GENERA_EL_FEATURE = 1\n",
    "FUNCION_PARA_CALCULAR_EL_FEATURE = 0\n",
    "\n",
    "for nombre_feature in features:    \n",
    "    columnas_generadas = features[nombre_feature][COLUMNAS_QUE_GENERA_EL_FEATURE]\n",
    "    feature_ya_generado = False\n",
    "    for columna in columnas_generadas:\n",
    "        if columna in columnas_ya_generadas:\n",
    "            feature_ya_generado = True\n",
    "            break\n",
    "    \n",
    "    if feature_ya_generado:\n",
    "        continue\n",
    "    \n",
    "    print(\"Generando feature {} en ventanas\".format(nombre_feature))\n",
    "    generar_feature_en_ventanas(install_auctions, features[nombre_feature][FUNCION_PARA_CALCULAR_EL_FEATURE], Xs, 1, 7,\"auction\")\n",
    "    print(\"Generando feature {} en set de predicciones\".format(nombre_feature))\n",
    "    generar_feature_en_ventanas(install_auctions_competencia, features[nombre_feature][FUNCION_PARA_CALCULAR_EL_FEATURE], Xs_predecir, 7, 8, \"auction\")\n",
    "    columnas_ya_generadas.extend(features[nombre_feature][COLUMNAS_QUE_GENERA_EL_FEATURE])"
   ]
  },
  {
   "cell_type": "markdown",
   "metadata": {},
   "source": [
    "---"
   ]
  },
  {
   "cell_type": "code",
   "execution_count": 29,
   "metadata": {},
   "outputs": [],
   "source": [
    "del install_auctions\n",
    "del install_auctions_competencia"
   ]
  },
  {
   "cell_type": "markdown",
   "metadata": {},
   "source": [
    "## Installs - Events"
   ]
  },
  {
   "cell_type": "code",
   "execution_count": 30,
   "metadata": {},
   "outputs": [],
   "source": [
    "events = pd.read_pickle(\"../../../../data/tp2/events_tp2_formateado.pkl\")"
   ]
  },
  {
   "cell_type": "code",
   "execution_count": 31,
   "metadata": {},
   "outputs": [],
   "source": [
    "ventanas = []\n",
    "for x in range(1,8):\n",
    "    ventanas.append(\"ventana_{}\".format(x))"
   ]
  },
  {
   "cell_type": "code",
   "execution_count": 32,
   "metadata": {},
   "outputs": [],
   "source": [
    "columns = [\"date\",\"device_id\",\"dia\"] + ventanas\n",
    "events = events[columns]"
   ]
  },
  {
   "cell_type": "code",
   "execution_count": 33,
   "metadata": {},
   "outputs": [],
   "source": [
    "#Para distinguir despues del merge \n",
    "events.rename(columns ={\"date\": \"date_event\"},inplace = True)"
   ]
  },
  {
   "cell_type": "code",
   "execution_count": 34,
   "metadata": {},
   "outputs": [],
   "source": [
    "install_events = pd.merge_asof(events,installs, left_on = \"date_event\", \n",
    "                               right_on = \"date_install\", by = \"device_id\",\n",
    "                               suffixes = (\"_event\",\"_install\"))"
   ]
  },
  {
   "cell_type": "code",
   "execution_count": 35,
   "metadata": {},
   "outputs": [],
   "source": [
    "del events"
   ]
  },
  {
   "cell_type": "code",
   "execution_count": 36,
   "metadata": {},
   "outputs": [],
   "source": [
    "install_events = install_events[~install_events[\"date_install\"].isnull()]"
   ]
  },
  {
   "cell_type": "code",
   "execution_count": 37,
   "metadata": {},
   "outputs": [],
   "source": [
    "install_events = install_events[~install_events[\"date_event\"].isnull()]"
   ]
  },
  {
   "cell_type": "code",
   "execution_count": 42,
   "metadata": {},
   "outputs": [],
   "source": [
    "install_events_competencia = install_events.loc[install_events[\"device_id\"].isin(targets_competencia.index)]"
   ]
  },
  {
   "cell_type": "markdown",
   "metadata": {},
   "source": [
    "---"
   ]
  },
  {
   "cell_type": "code",
   "execution_count": 46,
   "metadata": {},
   "outputs": [],
   "source": [
    "def cantidad_eventos_desde_ultima_instalacion(dataframe,nro_ventana): \n",
    "    idx = dataframe.groupby([\"device_id\"])[\"date_install\"].transform(max) == dataframe[\"date_install\"]\n",
    "    dataframe = dataframe[idx]\n",
    "    \n",
    "    feature = dataframe.groupby([\"device_id\"])[\"date_event\"].agg({\"date_event\":\"count\"})\\\n",
    "                    .rename(columns = {\"date_event\":\"cantidad_eventos_desde_ultima_instalacion_hasta_fin_ventana\"})\n",
    "     \n",
    "    return feature[\"cantidad_eventos_desde_ultima_instalacion_hasta_fin_ventana\"]\n"
   ]
  },
  {
   "cell_type": "code",
   "execution_count": 47,
   "metadata": {},
   "outputs": [],
   "source": [
    "features[\"cantidad_eventos_desde_ultima_instalacion_hasta_fin_ventana\"] = (cantidad_eventos_desde_ultima_instalacion, [\"cantidad_eventos_desde_ultima_instalacion_hasta_fin_ventana\"])"
   ]
  },
  {
   "cell_type": "markdown",
   "metadata": {},
   "source": [
    "### Genero los features"
   ]
  },
  {
   "cell_type": "code",
   "execution_count": 48,
   "metadata": {},
   "outputs": [
    {
     "name": "stdout",
     "output_type": "stream",
     "text": [
      "Generando feature cantidad_eventos_desde_ultima_instalacion_hasta_fin_ventana en ventanas\n",
      "generando feature en v1\n"
     ]
    },
    {
     "name": "stderr",
     "output_type": "stream",
     "text": [
      "/home/pelozo/anaconda3/lib/python3.6/site-packages/ipykernel_launcher.py:5: FutureWarning: using a dict on a Series for aggregation\n",
      "is deprecated and will be removed in a future version\n",
      "  \"\"\"\n"
     ]
    },
    {
     "name": "stdout",
     "output_type": "stream",
     "text": [
      "generando feature en v2\n",
      "generando feature en v3\n",
      "generando feature en v4\n",
      "generando feature en v5\n",
      "generando feature en v6\n",
      "Generando feature cantidad_eventos_desde_ultima_instalacion_hasta_fin_ventana en set de predicciones\n",
      "generando feature en v7\n"
     ]
    }
   ],
   "source": [
    "COLUMNAS_QUE_GENERA_EL_FEATURE = 1\n",
    "FUNCION_PARA_CALCULAR_EL_FEATURE = 0\n",
    "\n",
    "for nombre_feature in features:    \n",
    "    columnas_generadas = features[nombre_feature][COLUMNAS_QUE_GENERA_EL_FEATURE]\n",
    "    feature_ya_generado = False\n",
    "    for columna in columnas_generadas:\n",
    "        if columna in columnas_ya_generadas:\n",
    "            feature_ya_generado = True\n",
    "            break\n",
    "    \n",
    "    if feature_ya_generado:\n",
    "        continue\n",
    "    \n",
    "    print(\"Generando feature {} en ventanas\".format(nombre_feature))\n",
    "    generar_feature_en_ventanas(install_events, features[nombre_feature][FUNCION_PARA_CALCULAR_EL_FEATURE], Xs, 1, 7,\"event\")\n",
    "    print(\"Generando feature {} en set de predicciones\".format(nombre_feature))\n",
    "    generar_feature_en_ventanas(install_events_competencia, features[nombre_feature][FUNCION_PARA_CALCULAR_EL_FEATURE], Xs_predecir, 7, 8, \"event\")\n",
    "    columnas_ya_generadas.extend(features[nombre_feature][COLUMNAS_QUE_GENERA_EL_FEATURE])"
   ]
  },
  {
   "cell_type": "code",
   "execution_count": 51,
   "metadata": {},
   "outputs": [],
   "source": [
    "del install_events\n",
    "del install_events_competencia"
   ]
  },
  {
   "cell_type": "markdown",
   "metadata": {},
   "source": [
    "---"
   ]
  },
  {
   "cell_type": "markdown",
   "metadata": {},
   "source": [
    "# Install- clicks"
   ]
  },
  {
   "cell_type": "code",
   "execution_count": 52,
   "metadata": {},
   "outputs": [],
   "source": [
    "clicks = pd.read_pickle(\"../../../../data/tp2/clicks_tp2_formateado.pkl\")"
   ]
  },
  {
   "cell_type": "code",
   "execution_count": 53,
   "metadata": {},
   "outputs": [],
   "source": [
    "ventanas = []\n",
    "for x in range(1,8):\n",
    "    ventanas.append(\"ventana_{}\".format(x))"
   ]
  },
  {
   "cell_type": "code",
   "execution_count": 54,
   "metadata": {},
   "outputs": [],
   "source": [
    "columns = [\"date\",\"device_id\",\"dia\"] + ventanas\n",
    "clicks = clicks[columns]"
   ]
  },
  {
   "cell_type": "code",
   "execution_count": 55,
   "metadata": {},
   "outputs": [],
   "source": [
    "#Para distinguir despues del merge \n",
    "clicks.rename(columns ={\"date\": \"date_click\"},inplace = True)"
   ]
  },
  {
   "cell_type": "code",
   "execution_count": 56,
   "metadata": {},
   "outputs": [],
   "source": [
    "install_clicks = pd.merge_asof(clicks,installs, left_on = \"date_click\", \n",
    "                               right_on = \"date_install\", by = \"device_id\",\n",
    "                               suffixes = (\"_click\",\"_install\"))"
   ]
  },
  {
   "cell_type": "code",
   "execution_count": 58,
   "metadata": {},
   "outputs": [],
   "source": [
    "del clicks"
   ]
  },
  {
   "cell_type": "code",
   "execution_count": 59,
   "metadata": {},
   "outputs": [],
   "source": [
    "install_clicks = install_clicks[~install_clicks[\"date_install\"].isnull()]"
   ]
  },
  {
   "cell_type": "code",
   "execution_count": 60,
   "metadata": {},
   "outputs": [],
   "source": [
    "install_clicks = install_clicks[~install_clicks[\"date_click\"].isnull()]"
   ]
  },
  {
   "cell_type": "code",
   "execution_count": 61,
   "metadata": {},
   "outputs": [],
   "source": [
    "install_clicks_competencia = install_clicks.loc[install_clicks[\"device_id\"].isin(targets_competencia.index)]"
   ]
  },
  {
   "cell_type": "markdown",
   "metadata": {},
   "source": [
    "---"
   ]
  },
  {
   "cell_type": "code",
   "execution_count": 63,
   "metadata": {},
   "outputs": [],
   "source": [
    "def cantidad_clicks_desde_ultima_instalacion(dataframe,nro_ventana): \n",
    "    idx = dataframe.groupby([\"device_id\"])[\"date_install\"].transform(max) == dataframe[\"date_install\"]\n",
    "    dataframe = dataframe[idx]\n",
    "    \n",
    "    feature = dataframe.groupby([\"device_id\"])[\"date_click\"].agg({\"date_click\":\"count\"})\\\n",
    "                    .rename(columns = {\"date_click\":\"cantidad_clicks_desde_ultima_instalacion_hasta_fin_ventana\"})\n",
    "     \n",
    "    return feature[\"cantidad_clicks_desde_ultima_instalacion_hasta_fin_ventana\"]\n"
   ]
  },
  {
   "cell_type": "code",
   "execution_count": 64,
   "metadata": {},
   "outputs": [],
   "source": [
    "features[\"cantidad_clicks_desde_ultima_instalacion_hasta_fin_ventana\"] = (cantidad_clicks_desde_ultima_instalacion, [\"cantidad_clicks_desde_ultima_instalacion_hasta_fin_ventana\"])"
   ]
  },
  {
   "cell_type": "markdown",
   "metadata": {},
   "source": [
    "### Genero los features"
   ]
  },
  {
   "cell_type": "code",
   "execution_count": 65,
   "metadata": {},
   "outputs": [
    {
     "name": "stdout",
     "output_type": "stream",
     "text": [
      "Generando feature cantidad_clicks_desde_ultima_instalacion_hasta_fin_ventana en ventanas\n",
      "generando feature en v1\n",
      "generando feature en v2\n",
      "generando feature en v3\n",
      "generando feature en v4\n",
      "generando feature en v5\n",
      "generando feature en v6\n",
      "Generando feature cantidad_clicks_desde_ultima_instalacion_hasta_fin_ventana en set de predicciones\n",
      "generando feature en v7\n"
     ]
    },
    {
     "name": "stderr",
     "output_type": "stream",
     "text": [
      "/home/pelozo/anaconda3/lib/python3.6/site-packages/ipykernel_launcher.py:5: FutureWarning: using a dict on a Series for aggregation\n",
      "is deprecated and will be removed in a future version\n",
      "  \"\"\"\n"
     ]
    }
   ],
   "source": [
    "COLUMNAS_QUE_GENERA_EL_FEATURE = 1\n",
    "FUNCION_PARA_CALCULAR_EL_FEATURE = 0\n",
    "\n",
    "for nombre_feature in features:    \n",
    "    columnas_generadas = features[nombre_feature][COLUMNAS_QUE_GENERA_EL_FEATURE]\n",
    "    feature_ya_generado = False\n",
    "    for columna in columnas_generadas:\n",
    "        if columna in columnas_ya_generadas:\n",
    "            feature_ya_generado = True\n",
    "            break\n",
    "    \n",
    "    if feature_ya_generado:\n",
    "        continue\n",
    "    \n",
    "    print(\"Generando feature {} en ventanas\".format(nombre_feature))\n",
    "    generar_feature_en_ventanas(install_clicks, features[nombre_feature][FUNCION_PARA_CALCULAR_EL_FEATURE], Xs, 1, 7,\"click\")\n",
    "    print(\"Generando feature {} en set de predicciones\".format(nombre_feature))\n",
    "    generar_feature_en_ventanas(install_clicks_competencia, features[nombre_feature][FUNCION_PARA_CALCULAR_EL_FEATURE], Xs_predecir, 7, 8, \"click\")\n",
    "    columnas_ya_generadas.extend(features[nombre_feature][COLUMNAS_QUE_GENERA_EL_FEATURE])"
   ]
  },
  {
   "cell_type": "code",
   "execution_count": 67,
   "metadata": {},
   "outputs": [],
   "source": [
    "for ventana_nro in range(1, 7):\n",
    "    Xs[ventana_nro].to_csv(\"../../features/ventana_{}_entrenar_relaciones.csv\".format(ventana_nro))\n",
    "\n",
    "Xs_predecir[7].to_csv(\"../../features/predecir_relaciones.csv\")"
   ]
  },
  {
   "cell_type": "code",
   "execution_count": null,
   "metadata": {},
   "outputs": [],
   "source": []
  }
 ],
 "metadata": {
  "kernelspec": {
   "display_name": "Python 3",
   "language": "python",
   "name": "python3"
  },
  "language_info": {
   "codemirror_mode": {
    "name": "ipython",
    "version": 3
   },
   "file_extension": ".py",
   "mimetype": "text/x-python",
   "name": "python",
   "nbconvert_exporter": "python",
   "pygments_lexer": "ipython3",
   "version": "3.6.8"
  }
 },
 "nbformat": 4,
 "nbformat_minor": 2
}
