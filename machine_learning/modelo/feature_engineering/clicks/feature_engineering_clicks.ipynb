{
 "cells": [
  {
   "cell_type": "markdown",
   "metadata": {},
   "source": [
    "# Imports"
   ]
  },
  {
   "cell_type": "code",
   "execution_count": 1,
   "metadata": {},
   "outputs": [],
   "source": [
    "import pandas as pd\n",
    "import numpy as np"
   ]
  },
  {
   "cell_type": "markdown",
   "metadata": {},
   "source": [
    "---"
   ]
  },
  {
   "cell_type": "markdown",
   "metadata": {},
   "source": [
    "# Carga de datos"
   ]
  },
  {
   "cell_type": "code",
   "execution_count": 2,
   "metadata": {},
   "outputs": [],
   "source": [
    "clicks = pd.read_pickle(\"../../../../data/tp2/clicks_tp2_formateado.pkl\")"
   ]
  },
  {
   "cell_type": "code",
   "execution_count": 3,
   "metadata": {},
   "outputs": [],
   "source": [
    "targets_competencia = pd.read_pickle(\"../../../../data/tp2/ref_hashes_target.pkl\")"
   ]
  },
  {
   "cell_type": "markdown",
   "metadata": {},
   "source": [
    "---"
   ]
  },
  {
   "cell_type": "markdown",
   "metadata": {},
   "source": [
    "### De clicks, me quedo con sólo datos que correspondan a la competencia"
   ]
  },
  {
   "cell_type": "code",
   "execution_count": 4,
   "metadata": {},
   "outputs": [],
   "source": [
    "clicks_competencia = clicks.loc[clicks[\"device_id\"].isin(targets_competencia.index)]"
   ]
  },
  {
   "cell_type": "markdown",
   "metadata": {},
   "source": [
    "---"
   ]
  },
  {
   "cell_type": "markdown",
   "metadata": {},
   "source": [
    "# Cargo features generados hasta el momento"
   ]
  },
  {
   "cell_type": "markdown",
   "metadata": {},
   "source": [
    "## Sets de entrenamiento"
   ]
  },
  {
   "cell_type": "code",
   "execution_count": 5,
   "metadata": {},
   "outputs": [
    {
     "name": "stdout",
     "output_type": "stream",
     "text": [
      "Cargando features\n",
      "No se encontraron los features, se generarán los dataframe requeridos\n"
     ]
    }
   ],
   "source": [
    "# Ventanas de tres dias\n",
    "Xs = {}\n",
    "try:\n",
    "    print(\"Cargando features\")\n",
    "    for ventana_nro in range(1,7):    \n",
    "        Xs[ventana_nro] = pd.read_csv(\"../../features/ventana_{}_entrenar_clicks.csv\".format(ventana_nro), index_col=0)\n",
    "except FileNotFoundError:\n",
    "    print(\"No se encontraron los features, se generarán los dataframe requeridos\")\n",
    "    for ventana_nro in range(1,7):    \n",
    "        Xs[ventana_nro] = clicks.loc[clicks[\"ventana_{}\".format(ventana_nro)]][\"device_id\"] \\\n",
    "            .drop_duplicates().to_frame().set_index(\"device_id\").copy()"
   ]
  },
  {
   "cell_type": "markdown",
   "metadata": {},
   "source": [
    "## Set que se usará para predecir"
   ]
  },
  {
   "cell_type": "code",
   "execution_count": 6,
   "metadata": {},
   "outputs": [
    {
     "name": "stdout",
     "output_type": "stream",
     "text": [
      "Cargando features usados para predecir\n",
      "No se encontraron los features usados para predecir, se generará el dataframe requerido\n"
     ]
    }
   ],
   "source": [
    "# Features para hacer las predicciones que se suben, corresponden a la ventana 7\n",
    "Xs_predecir = {}\n",
    "\n",
    "try:\n",
    "    print(\"Cargando features usados para predecir\")\n",
    "    Xs_predecir[7] = pd.read_csv(\"../../features/predecir_clicks.csv\", index_col=0)\n",
    "except FileNotFoundError:\n",
    "    print(\"No se encontraron los features usados para predecir, se generará el dataframe requerido\")\n",
    "    Xs_predecir[7] = targets_competencia.copy()"
   ]
  },
  {
   "cell_type": "markdown",
   "metadata": {},
   "source": [
    "## Diccionario de features"
   ]
  },
  {
   "cell_type": "code",
   "execution_count": 7,
   "metadata": {},
   "outputs": [],
   "source": [
    "features = {}\n",
    "# Todos los datasets tienen la misma cantidad y nombre de features, tomo la ventana 1\n",
    "columnas_ya_generadas = list(Xs[1].columns.values)"
   ]
  },
  {
   "cell_type": "markdown",
   "metadata": {},
   "source": [
    "---"
   ]
  },
  {
   "cell_type": "markdown",
   "metadata": {},
   "source": [
    "# Creación de features"
   ]
  },
  {
   "cell_type": "markdown",
   "metadata": {},
   "source": [
    "## Estadísticas sobre el tiempo hasta clickear"
   ]
  },
  {
   "cell_type": "code",
   "execution_count": 8,
   "metadata": {},
   "outputs": [],
   "source": [
    "def tiempo_hasta_clickear_media(dataframe, nro_ventana):\n",
    "    return dataframe.groupby(\"device_id\").agg({\"timeToClick\" : \"mean\"}).rename(columns={\"timeToClick\": \"tiempo_hasta_click_mean_clicks\"})"
   ]
  },
  {
   "cell_type": "code",
   "execution_count": 9,
   "metadata": {},
   "outputs": [],
   "source": [
    "features[\"tiempo_hasta_clickear_media\"] = (tiempo_hasta_clickear_media, [\"tiempo_hasta_click_mean_clicks\"])"
   ]
  },
  {
   "cell_type": "code",
   "execution_count": 10,
   "metadata": {},
   "outputs": [],
   "source": [
    "def tiempo_hasta_clickear_max(dataframe, nro_ventana):\n",
    "    return dataframe.groupby(\"device_id\").agg({\"timeToClick\" : \"max\"}).rename(columns={\"timeToClick\": \"tiempo_hasta_click_max_clicks\"})"
   ]
  },
  {
   "cell_type": "code",
   "execution_count": 11,
   "metadata": {},
   "outputs": [],
   "source": [
    "features[\"tiempo_hasta_clickear_max\"] = (tiempo_hasta_clickear_max, [\"tiempo_hasta_click_max_clicks\"])"
   ]
  },
  {
   "cell_type": "code",
   "execution_count": 12,
   "metadata": {},
   "outputs": [],
   "source": [
    "def tiempo_hasta_clickear_min(dataframe, nro_ventana):\n",
    "    return dataframe.groupby(\"device_id\").agg({\"timeToClick\" : \"min\"}).rename(columns={\"timeToClick\": \"tiempo_hasta_click_min_clicks\"})"
   ]
  },
  {
   "cell_type": "code",
   "execution_count": 13,
   "metadata": {},
   "outputs": [],
   "source": [
    "features[\"tiempo_hasta_clickear_min\"] = (tiempo_hasta_clickear_min, [\"tiempo_hasta_click_min_clicks\"])"
   ]
  },
  {
   "cell_type": "code",
   "execution_count": 14,
   "metadata": {},
   "outputs": [],
   "source": [
    "def tiempo_hasta_clickear_std(dataframe, nro_ventana):\n",
    "    return dataframe.groupby(\"device_id\").agg({\"timeToClick\" : \"std\"}).rename(columns={\"timeToClick\": \"tiempo_hasta_click_std_clicks\"}).fillna(0)"
   ]
  },
  {
   "cell_type": "code",
   "execution_count": 15,
   "metadata": {},
   "outputs": [],
   "source": [
    "features[\"tiempo_hasta_clickear_std\"] = (tiempo_hasta_clickear_std, [\"tiempo_hasta_click_std_clicks\"])"
   ]
  },
  {
   "cell_type": "markdown",
   "metadata": {},
   "source": [
    "---"
   ]
  },
  {
   "cell_type": "markdown",
   "metadata": {},
   "source": [
    "## Cantidad de clicks dentro de la ventana"
   ]
  },
  {
   "cell_type": "code",
   "execution_count": 16,
   "metadata": {},
   "outputs": [],
   "source": [
    "def cantidad_de_clicks(dataframe, nro_ventana):\n",
    "    return dataframe.groupby(\"device_id\").agg({\"timeToClick\" : \"count\"}).rename(columns={\"timeToClick\": \"cantidad_clicks_clicks\"})"
   ]
  },
  {
   "cell_type": "code",
   "execution_count": 17,
   "metadata": {},
   "outputs": [],
   "source": [
    "features[\"cantidad_de_clicks\"] = (cantidad_de_clicks, [\"cantidad_clicks_clicks\"])"
   ]
  },
  {
   "cell_type": "markdown",
   "metadata": {},
   "source": [
    "---"
   ]
  },
  {
   "cell_type": "markdown",
   "metadata": {},
   "source": [
    "## Cantidad de clicks por período horario"
   ]
  },
  {
   "cell_type": "code",
   "execution_count": 18,
   "metadata": {},
   "outputs": [],
   "source": [
    "def cantidad_apariciones_por_periodo_horario(dataframe, nro_ventana):\n",
    "    features = dataframe.groupby(\"device_id\").agg( \\\n",
    "       {\"hora_2_a_6\" : \"sum\",\n",
    "        \"hora_6_a_11\" : \"sum\",\n",
    "        \"hora_11_a_14\" : \"sum\",\n",
    "        \"hora_14_a_18\" : \"sum\",\n",
    "        \"hora_18_a_23\" : \"sum\",\n",
    "        \"hora_23_a_2\" : \"sum\"})\n",
    "    features.columns = [\"apariciones_\" + x + \"_clicks\" for x in features.columns]\n",
    "    return features"
   ]
  },
  {
   "cell_type": "code",
   "execution_count": 19,
   "metadata": {},
   "outputs": [],
   "source": [
    "columnas_generadas = [\"apariciones_\" + x + \"_clicks\" for x in [\"hora_2_a_6\", \"hora_6_a_11\", \"hora_11_a_14\", \"hora_14_a_18\", \"hora_18_a_23\", \"hora_23_a_2\"]]\n",
    "features[\"cantidad_apariciones_por_periodo_horario\"] = (cantidad_apariciones_por_periodo_horario, columnas_generadas)"
   ]
  },
  {
   "cell_type": "markdown",
   "metadata": {},
   "source": [
    "---"
   ]
  },
  {
   "cell_type": "markdown",
   "metadata": {},
   "source": [
    "## Tiempo medio entre clicks"
   ]
  },
  {
   "cell_type": "code",
   "execution_count": 20,
   "metadata": {},
   "outputs": [],
   "source": [
    "def tiempo_medio_entre_clicks(dataframe, nro_ventana):\n",
    "    return dataframe.groupby(\"device_id\").agg({\"date\" : (lambda x: (x.sub(x.shift()).mean().total_seconds()))}).rename(columns={\"date\": \"tiempo_medio_entre_clicks\"})"
   ]
  },
  {
   "cell_type": "code",
   "execution_count": 21,
   "metadata": {},
   "outputs": [],
   "source": [
    "features[\"tiempo_medio_entre_clicks\"] = (tiempo_medio_entre_clicks, [\"tiempo_medio_entre_clicks\"])"
   ]
  },
  {
   "cell_type": "markdown",
   "metadata": {},
   "source": [
    "---"
   ]
  },
  {
   "cell_type": "markdown",
   "metadata": {},
   "source": [
    "## Tiempo máximo entre clicks"
   ]
  },
  {
   "cell_type": "code",
   "execution_count": 22,
   "metadata": {},
   "outputs": [],
   "source": [
    "def tiempo_maximo_entre_clicks(dataframe, nro_ventana):\n",
    "    return dataframe.groupby(\"device_id\").agg({\"date\" : (lambda x: (x.sub(x.shift()).max().total_seconds()))}).rename(columns={\"date\": \"tiempo_maximo_entre_clicks\"})"
   ]
  },
  {
   "cell_type": "code",
   "execution_count": 23,
   "metadata": {},
   "outputs": [],
   "source": [
    "features[\"tiempo_maximo_entre_clicks\"] = (tiempo_maximo_entre_clicks, [\"tiempo_maximo_entre_clicks\"])"
   ]
  },
  {
   "cell_type": "markdown",
   "metadata": {},
   "source": [
    "---"
   ]
  },
  {
   "cell_type": "markdown",
   "metadata": {},
   "source": [
    "## Tiempo mínimo entre clicks"
   ]
  },
  {
   "cell_type": "code",
   "execution_count": 24,
   "metadata": {},
   "outputs": [],
   "source": [
    "def tiempo_minimo_entre_clicks(dataframe, nro_ventana):\n",
    "    return dataframe.groupby(\"device_id\").agg({\"date\" : (lambda x: (x.sub(x.shift()).min().total_seconds()))}).rename(columns={\"date\": \"tiempo_minimo_entre_clicks\"})"
   ]
  },
  {
   "cell_type": "code",
   "execution_count": 25,
   "metadata": {},
   "outputs": [],
   "source": [
    "features[\"tiempo_minimo_entre_clicks\"] = (tiempo_minimo_entre_clicks, [\"tiempo_minimo_entre_clicks\"])"
   ]
  },
  {
   "cell_type": "markdown",
   "metadata": {},
   "source": [
    "---"
   ]
  },
  {
   "cell_type": "markdown",
   "metadata": {},
   "source": [
    "## Desvío entre clicks"
   ]
  },
  {
   "cell_type": "code",
   "execution_count": 26,
   "metadata": {},
   "outputs": [],
   "source": [
    "def desvio_entre_clicks(dataframe, nro_ventana):\n",
    "    return dataframe.groupby(\"device_id\").agg({\"date\" : (lambda x: (x.sub(x.shift()).std().total_seconds()))}).rename(columns={\"date\": \"desvio_entre_clicks\"})"
   ]
  },
  {
   "cell_type": "code",
   "execution_count": 27,
   "metadata": {},
   "outputs": [],
   "source": [
    "features[\"desvio_entre_clicks\"] = (desvio_entre_clicks, [\"desvio_entre_clicks\"])"
   ]
  },
  {
   "cell_type": "markdown",
   "metadata": {},
   "source": [
    "---"
   ]
  },
  {
   "cell_type": "markdown",
   "metadata": {},
   "source": [
    "## Suma tiempos entre clicks"
   ]
  },
  {
   "cell_type": "code",
   "execution_count": 28,
   "metadata": {},
   "outputs": [],
   "source": [
    "def tiempo_entre_apariciones_suma(dataframe, nro_ventana):\n",
    "    return dataframe.groupby(\"device_id\").agg({\"date\" : (lambda x: (x.sub(x.shift()).sum().total_seconds()))}).rename(columns={\"date\": \"tiempo_entre_clicks_suma_clicks\"})"
   ]
  },
  {
   "cell_type": "code",
   "execution_count": 29,
   "metadata": {},
   "outputs": [],
   "source": [
    "features[\"tiempo_entre_clicks_suma\"] = (tiempo_entre_apariciones_suma, [\"tiempo_entre_clicks_suma_clicks\"])"
   ]
  },
  {
   "cell_type": "markdown",
   "metadata": {},
   "source": [
    "---"
   ]
  },
  {
   "cell_type": "markdown",
   "metadata": {},
   "source": [
    "# Genero los features"
   ]
  },
  {
   "cell_type": "markdown",
   "metadata": {},
   "source": [
    "## Función generadora de features en ventanas"
   ]
  },
  {
   "cell_type": "code",
   "execution_count": 30,
   "metadata": {},
   "outputs": [],
   "source": [
    "def generar_feature_en_ventanas(dataframe, generador_feature, destinos, ventana_inicial, ventana_final):\n",
    "    \"\"\"El rango se toma como python, [ventana_inicial, ventana_final)\"\"\"\n",
    "    for ventana_nro in range(ventana_inicial, ventana_final):\n",
    "        feature = generador_feature(dataframe.loc[dataframe[\"ventana_{}\".format(ventana_nro)]], ventana_nro)\n",
    "        destinos[ventana_nro] = destinos[ventana_nro].merge(feature, left_index=True, right_index=True, how=\"left\")"
   ]
  },
  {
   "cell_type": "markdown",
   "metadata": {},
   "source": [
    "### Genero los features"
   ]
  },
  {
   "cell_type": "code",
   "execution_count": 31,
   "metadata": {},
   "outputs": [
    {
     "name": "stdout",
     "output_type": "stream",
     "text": [
      "Generando feature tiempo_hasta_clickear_media en ventanas\n",
      "Generando feature tiempo_hasta_clickear_media en set de predicciones\n",
      "Generando feature tiempo_hasta_clickear_max en ventanas\n",
      "Generando feature tiempo_hasta_clickear_max en set de predicciones\n",
      "Generando feature tiempo_hasta_clickear_min en ventanas\n",
      "Generando feature tiempo_hasta_clickear_min en set de predicciones\n",
      "Generando feature tiempo_hasta_clickear_std en ventanas\n",
      "Generando feature tiempo_hasta_clickear_std en set de predicciones\n",
      "Generando feature cantidad_de_clicks en ventanas\n",
      "Generando feature cantidad_de_clicks en set de predicciones\n",
      "Generando feature cantidad_apariciones_por_periodo_horario en ventanas\n",
      "Generando feature cantidad_apariciones_por_periodo_horario en set de predicciones\n",
      "Generando feature tiempo_medio_entre_clicks en ventanas\n",
      "Generando feature tiempo_medio_entre_clicks en set de predicciones\n",
      "Generando feature tiempo_maximo_entre_clicks en ventanas\n",
      "Generando feature tiempo_maximo_entre_clicks en set de predicciones\n",
      "Generando feature tiempo_minimo_entre_clicks en ventanas\n",
      "Generando feature tiempo_minimo_entre_clicks en set de predicciones\n",
      "Generando feature desvio_entre_clicks en ventanas\n",
      "Generando feature desvio_entre_clicks en set de predicciones\n",
      "Generando feature tiempo_entre_apariciones_suma en ventanas\n",
      "Generando feature tiempo_entre_apariciones_suma en set de predicciones\n"
     ]
    }
   ],
   "source": [
    "COLUMNAS_QUE_GENERA_EL_FEATURE = 1\n",
    "FUNCION_PARA_CALCULAR_EL_FEATURE = 0\n",
    "\n",
    "for nombre_feature in features:    \n",
    "    columnas_generadas = features[nombre_feature][COLUMNAS_QUE_GENERA_EL_FEATURE]\n",
    "    feature_ya_generado = False\n",
    "    for columna in columnas_generadas:\n",
    "        if columna in columnas_ya_generadas:\n",
    "            feature_ya_generado = True\n",
    "            break\n",
    "    \n",
    "    if feature_ya_generado:\n",
    "        continue\n",
    "    \n",
    "    print(\"Generando feature {} en ventanas\".format(nombre_feature))\n",
    "    generar_feature_en_ventanas(clicks, features[nombre_feature][FUNCION_PARA_CALCULAR_EL_FEATURE], Xs, 1, 7)\n",
    "    print(\"Generando feature {} en set de predicciones\".format(nombre_feature))\n",
    "    generar_feature_en_ventanas(clicks_competencia, features[nombre_feature][FUNCION_PARA_CALCULAR_EL_FEATURE], Xs_predecir, 7, 8)\n",
    "    columnas_ya_generadas.extend(features[nombre_feature][COLUMNAS_QUE_GENERA_EL_FEATURE])"
   ]
  },
  {
   "cell_type": "markdown",
   "metadata": {},
   "source": [
    "---"
   ]
  },
  {
   "cell_type": "markdown",
   "metadata": {},
   "source": [
    "# Guardado de los sets de entrenamiento y el set de prediccion"
   ]
  },
  {
   "cell_type": "code",
   "execution_count": 33,
   "metadata": {},
   "outputs": [],
   "source": [
    "for ventana_nro in range(1, 7):\n",
    "    Xs[ventana_nro].to_csv(\"../../features/ventana_{}_entrenar_clicks.csv\".format(ventana_nro))\n",
    "\n",
    "Xs_predecir[7].to_csv(\"../../features/predecir_clicks.csv\")"
   ]
  },
  {
   "cell_type": "markdown",
   "metadata": {},
   "source": [
    "---"
   ]
  }
 ],
 "metadata": {
  "kernelspec": {
   "display_name": "Python 3",
   "language": "python",
   "name": "python3"
  },
  "language_info": {
   "codemirror_mode": {
    "name": "ipython",
    "version": 3
   },
   "file_extension": ".py",
   "mimetype": "text/x-python",
   "name": "python",
   "nbconvert_exporter": "python",
   "pygments_lexer": "ipython3",
   "version": "3.6.5"
  }
 },
 "nbformat": 4,
 "nbformat_minor": 2
}
