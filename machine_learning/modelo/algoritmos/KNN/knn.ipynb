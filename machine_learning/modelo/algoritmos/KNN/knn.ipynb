{
 "cells": [
  {
   "cell_type": "code",
   "execution_count": 1,
   "metadata": {},
   "outputs": [],
   "source": [
    "import pandas as pd\n",
    "import numpy as np\n",
    "\n",
    "from sklearn.model_selection import train_test_split\n",
    "from sklearn.neighbors import KNeighborsRegressor\n",
    "from sklearn.metrics import mean_squared_error\n",
    "\n",
    "from sklearn.preprocessing import MinMaxScaler\n",
    "from sklearn import neighbors\n",
    "from math import sqrt\n",
    "import matplotlib.pyplot as plt\n",
    "%matplotlib inline\n",
    "\n",
    "from sklearn.model_selection import GridSearchCV\n"
   ]
  },
  {
   "cell_type": "markdown",
   "metadata": {},
   "source": [
    "### Preparo los datos"
   ]
  },
  {
   "cell_type": "code",
   "execution_count": 2,
   "metadata": {},
   "outputs": [],
   "source": [
    "train = pd.read_pickle(\"../../armado_datos/train_completo\")"
   ]
  },
  {
   "cell_type": "code",
   "execution_count": 3,
   "metadata": {},
   "outputs": [],
   "source": [
    "train.set_index(\"device_id\",inplace = True)"
   ]
  },
  {
   "cell_type": "markdown",
   "metadata": {},
   "source": [
    "#### Elimino datos de clicks, muchos nulos"
   ]
  },
  {
   "cell_type": "code",
   "execution_count": 4,
   "metadata": {},
   "outputs": [],
   "source": [
    "train = train.drop(columns = ['tiempo_hasta_click_mean',\n",
    "       'tiempo_hasta_click_max', 'tiempo_hasta_click_min',\n",
    "       'tiempo_hasta_click_std', 'cantidad_clicks', 'apariciones_en_dia_1_y',\n",
    "       'apariciones_en_dia_2_y', 'apariciones_en_dia_3_y',\n",
    "       'tiempo_medio_entre_clicks'])"
   ]
  },
  {
   "cell_type": "code",
   "execution_count": 5,
   "metadata": {},
   "outputs": [],
   "source": [
    "train.dropna(inplace = True)"
   ]
  },
  {
   "cell_type": "markdown",
   "metadata": {},
   "source": [
    "#### Elimino columnas que pueden impactar mucho en el tiempo de procesamiento de KNN"
   ]
  },
  {
   "cell_type": "code",
   "execution_count": 6,
   "metadata": {},
   "outputs": [],
   "source": [
    "columnas_eliminar =  ['apariciones_en_hora_0',\n",
    "       'apariciones_en_hora_1', 'apariciones_en_hora_2',\n",
    "       'apariciones_en_hora_3', 'apariciones_en_hora_4',\n",
    "       'apariciones_en_hora_5', 'apariciones_en_hora_6',\n",
    "       'apariciones_en_hora_7', 'apariciones_en_hora_8',\n",
    "       'apariciones_en_hora_9', 'apariciones_en_hora_10',\n",
    "       'apariciones_en_hora_11', 'apariciones_en_hora_12',\n",
    "       'apariciones_en_hora_13', 'apariciones_en_hora_14',\n",
    "       'apariciones_en_hora_15', 'apariciones_en_hora_16',\n",
    "       'apariciones_en_hora_17', 'apariciones_en_hora_18',\n",
    "       'apariciones_en_hora_19', 'apariciones_en_hora_20',\n",
    "       'apariciones_en_hora_21', 'apariciones_en_hora_22',\n",
    "       'apariciones_en_hora_23',]"
   ]
  },
  {
   "cell_type": "code",
   "execution_count": 7,
   "metadata": {},
   "outputs": [],
   "source": [
    "train.drop(columns = columnas_eliminar,inplace = True)"
   ]
  },
  {
   "cell_type": "code",
   "execution_count": 8,
   "metadata": {},
   "outputs": [
    {
     "data": {
      "text/plain": [
       "401576"
      ]
     },
     "execution_count": 8,
     "metadata": {},
     "output_type": "execute_result"
    }
   ],
   "source": [
    "len(train)"
   ]
  },
  {
   "cell_type": "code",
   "execution_count": 12,
   "metadata": {},
   "outputs": [
    {
     "data": {
      "text/plain": [
       "Index(['target', 'cantidad_apariciones', 'apariciones_en_dia_1_x',\n",
       "       'apariciones_en_dia_2_x', 'apariciones_en_dia_3_x',\n",
       "       'cantidad_so_registrados', 'so_media', 'tiempo_medio_entre_apariciones',\n",
       "       'tiempo_maximo_entre_apariciones', 'desvio_entre_apariciones',\n",
       "       'apariciones_en_source_0', 'apariciones_en_source_1',\n",
       "       'apariciones_en_source_2', 'apariciones_en_source_3',\n",
       "       'apariciones_en_source_4', 'apariciones_en_source_5',\n",
       "       'apariciones_en_source_6', 'apariciones_en_source_7',\n",
       "       'apariciones_en_source_8', 'apariciones_en_source_9',\n",
       "       'tiempo_ultima_aparicion_hasta_fin_ventana',\n",
       "       'tiempo_hora_frec_aparicion_subasta',\n",
       "       'tiempo_segunda_hora_frec_aparicion', 'cant_eventos', 'prom_eventos',\n",
       "       'eventos_dia_1', 'eventos_dia_2', 'eventos_dia_3', 'max_cant_eventos',\n",
       "       'cant_eventos_maximos', 'segs_hasta_hora_freq', 'eventos_franja_1',\n",
       "       'eventos_franja_2', 'eventos_franja_3', 'eventos_franja_4',\n",
       "       'eventos_franja_5', 'eventos_franja_6', 'cant_eventos_wifi',\n",
       "       'cant_eventos_sin_wifi', 'cant_eventos_15', 'cant_eventos_23',\n",
       "       'cant_eventos_7', 'cant_eventos_0', 'cant_eventos_2'],\n",
       "      dtype='object')"
      ]
     },
     "execution_count": 12,
     "metadata": {},
     "output_type": "execute_result"
    }
   ],
   "source": [
    "train.columns"
   ]
  },
  {
   "cell_type": "markdown",
   "metadata": {},
   "source": [
    "---"
   ]
  },
  {
   "cell_type": "markdown",
   "metadata": {},
   "source": [
    "### K = 7"
   ]
  },
  {
   "cell_type": "code",
   "execution_count": 18,
   "metadata": {},
   "outputs": [],
   "source": [
    "train , test = train_test_split(train, test_size = 0.3)\n",
    "x_train = train.drop('target', axis=1)\n",
    "y_train = train['target']\n",
    "\n",
    "x_test = test.drop('target', axis = 1)\n",
    "y_test = test['target']"
   ]
  },
  {
   "cell_type": "code",
   "execution_count": 19,
   "metadata": {},
   "outputs": [
    {
     "name": "stderr",
     "output_type": "stream",
     "text": [
      "/home/pelozo/anaconda3/lib/python3.6/site-packages/sklearn/preprocessing/data.py:334: DataConversionWarning: Data with input dtype int64, float64 were all converted to float64 by MinMaxScaler.\n",
      "  return self.partial_fit(X, y)\n",
      "/home/pelozo/anaconda3/lib/python3.6/site-packages/sklearn/preprocessing/data.py:334: DataConversionWarning: Data with input dtype int64, float64 were all converted to float64 by MinMaxScaler.\n",
      "  return self.partial_fit(X, y)\n"
     ]
    }
   ],
   "source": [
    "scaler = MinMaxScaler(feature_range=(0, 1))\n",
    "\n",
    "x_train_scaled = scaler.fit_transform(x_train)\n",
    "x_train = pd.DataFrame(x_train_scaled)\n",
    "\n",
    "x_test_scaled = scaler.fit_transform(x_test)\n",
    "x_test = pd.DataFrame(x_test_scaled)"
   ]
  },
  {
   "cell_type": "code",
   "execution_count": 17,
   "metadata": {},
   "outputs": [],
   "source": [
    "K = 7"
   ]
  },
  {
   "cell_type": "code",
   "execution_count": 18,
   "metadata": {},
   "outputs": [],
   "source": [
    "model = neighbors.KNeighborsRegressor(n_neighbors = K)\n"
   ]
  },
  {
   "cell_type": "code",
   "execution_count": 19,
   "metadata": {},
   "outputs": [
    {
     "name": "stdout",
     "output_type": "stream",
     "text": [
      "RMSE value for k=  7 is: 96482.92578259856\n"
     ]
    }
   ],
   "source": [
    "model.fit(x_train, y_train)  \n",
    "pred=model.predict(x_test) \n",
    "\n",
    "error = sqrt(mean_squared_error(y_test,pred))\n",
    "\n",
    "print('RMSE value for k= ' , K , 'is:', error)"
   ]
  },
  {
   "cell_type": "markdown",
   "metadata": {},
   "source": [
    "---"
   ]
  },
  {
   "cell_type": "markdown",
   "metadata": {},
   "source": [
    "### K = 8"
   ]
  },
  {
   "cell_type": "code",
   "execution_count": 20,
   "metadata": {},
   "outputs": [],
   "source": [
    "K = 8"
   ]
  },
  {
   "cell_type": "code",
   "execution_count": 21,
   "metadata": {},
   "outputs": [],
   "source": [
    "model = neighbors.KNeighborsRegressor(n_neighbors = K)\n"
   ]
  },
  {
   "cell_type": "code",
   "execution_count": 22,
   "metadata": {},
   "outputs": [
    {
     "name": "stdout",
     "output_type": "stream",
     "text": [
      "RMSE value for k=  8 is: 95754.46816067926\n"
     ]
    }
   ],
   "source": [
    "model.fit(x_train, y_train)  #fit the model\n",
    "pred=model.predict(x_test) #make prediction on test set\n",
    "error = sqrt(mean_squared_error(y_test,pred)) #calculate rmse\n",
    "\n",
    "print('RMSE value for k= ' , K , 'is:', error)"
   ]
  },
  {
   "cell_type": "markdown",
   "metadata": {},
   "source": [
    "### K = 10"
   ]
  },
  {
   "cell_type": "code",
   "execution_count": 23,
   "metadata": {},
   "outputs": [],
   "source": [
    "K = 10"
   ]
  },
  {
   "cell_type": "code",
   "execution_count": 24,
   "metadata": {},
   "outputs": [],
   "source": [
    "model = neighbors.KNeighborsRegressor(n_neighbors = K)\n"
   ]
  },
  {
   "cell_type": "code",
   "execution_count": 25,
   "metadata": {},
   "outputs": [
    {
     "name": "stdout",
     "output_type": "stream",
     "text": [
      "RMSE value for k=  10 is: 94651.43685871152\n"
     ]
    }
   ],
   "source": [
    "model.fit(x_train, y_train)  #fit the model\n",
    "pred=model.predict(x_test) #make prediction on test set\n",
    "error = sqrt(mean_squared_error(y_test,pred)) #calculate rmse\n",
    "\n",
    "print('RMSE value for k= ' , K , 'is:', error)"
   ]
  },
  {
   "cell_type": "markdown",
   "metadata": {},
   "source": [
    "### K = 10 cambiando el parametro de los peso por distancia"
   ]
  },
  {
   "cell_type": "code",
   "execution_count": 26,
   "metadata": {},
   "outputs": [],
   "source": [
    "model = neighbors.KNeighborsRegressor(n_neighbors = K, weights = 'distance')"
   ]
  },
  {
   "cell_type": "code",
   "execution_count": 27,
   "metadata": {},
   "outputs": [
    {
     "name": "stdout",
     "output_type": "stream",
     "text": [
      "RMSE value for k=  10 is: 94900.50376973594\n"
     ]
    }
   ],
   "source": [
    "model.fit(x_train, y_train)  #fit the model\n",
    "pred=model.predict(x_test) #make prediction on test set\n",
    "error = sqrt(mean_squared_error(y_test,pred)) #calculate rmse\n",
    "\n",
    "print('RMSE value for k= ' , K , 'is:', error)"
   ]
  },
  {
   "cell_type": "markdown",
   "metadata": {},
   "source": [
    "##### Empeora "
   ]
  },
  {
   "cell_type": "markdown",
   "metadata": {},
   "source": [
    "---"
   ]
  },
  {
   "cell_type": "markdown",
   "metadata": {},
   "source": [
    "### K = 6"
   ]
  },
  {
   "cell_type": "code",
   "execution_count": 10,
   "metadata": {},
   "outputs": [],
   "source": [
    "K = 6"
   ]
  },
  {
   "cell_type": "code",
   "execution_count": 13,
   "metadata": {},
   "outputs": [],
   "source": [
    "train_b , test = train_test_split(train, test_size = 0.2)\n",
    "x_train = train_b.drop('target', axis=1)\n",
    "y_train = train_b['target']\n",
    "\n",
    "x_test = test.drop('target', axis = 1)\n",
    "y_test = test['target']"
   ]
  },
  {
   "cell_type": "code",
   "execution_count": 14,
   "metadata": {},
   "outputs": [
    {
     "name": "stderr",
     "output_type": "stream",
     "text": [
      "/home/pelozo/anaconda3/lib/python3.6/site-packages/sklearn/preprocessing/data.py:334: DataConversionWarning: Data with input dtype int64, float64 were all converted to float64 by MinMaxScaler.\n",
      "  return self.partial_fit(X, y)\n",
      "/home/pelozo/anaconda3/lib/python3.6/site-packages/sklearn/preprocessing/data.py:334: DataConversionWarning: Data with input dtype int64, float64 were all converted to float64 by MinMaxScaler.\n",
      "  return self.partial_fit(X, y)\n"
     ]
    }
   ],
   "source": [
    "scaler = MinMaxScaler(feature_range=(0, 1))\n",
    "\n",
    "x_train_scaled = scaler.fit_transform(x_train)\n",
    "x_train = pd.DataFrame(x_train_scaled)\n",
    "\n",
    "x_test_scaled = scaler.fit_transform(x_test)\n",
    "x_test = pd.DataFrame(x_test_scaled)"
   ]
  },
  {
   "cell_type": "code",
   "execution_count": 11,
   "metadata": {},
   "outputs": [],
   "source": [
    "model = neighbors.KNeighborsRegressor(n_neighbors = K)\n"
   ]
  },
  {
   "cell_type": "code",
   "execution_count": 16,
   "metadata": {},
   "outputs": [
    {
     "name": "stdout",
     "output_type": "stream",
     "text": [
      "RMSE value for k=  6 is: 97245.44066181454\n"
     ]
    }
   ],
   "source": [
    "model.fit(x_train, y_train)  \n",
    "pred=model.predict(x_test) \n",
    "error = sqrt(mean_squared_error(y_test,pred)) \n",
    "\n",
    "print('RMSE value for k= ' , K , 'is:', error)"
   ]
  },
  {
   "cell_type": "code",
   "execution_count": null,
   "metadata": {},
   "outputs": [],
   "source": []
  },
  {
   "cell_type": "markdown",
   "metadata": {},
   "source": [
    "### Buscando el mejor K con GridSearch"
   ]
  },
  {
   "cell_type": "code",
   "execution_count": 8,
   "metadata": {},
   "outputs": [],
   "source": [
    "y = train['target']\n",
    "X = train.drop(axis=1, labels=['target'])\n",
    "X_train, X_test, y_train, y_test = train_test_split(X, y, test_size=0.2)"
   ]
  },
  {
   "cell_type": "code",
   "execution_count": 9,
   "metadata": {},
   "outputs": [
    {
     "name": "stderr",
     "output_type": "stream",
     "text": [
      "/home/pelozo/anaconda3/lib/python3.6/site-packages/sklearn/preprocessing/data.py:334: DataConversionWarning: Data with input dtype int64, float64 were all converted to float64 by MinMaxScaler.\n",
      "  return self.partial_fit(X, y)\n",
      "/home/pelozo/anaconda3/lib/python3.6/site-packages/sklearn/preprocessing/data.py:334: DataConversionWarning: Data with input dtype int64, float64 were all converted to float64 by MinMaxScaler.\n",
      "  return self.partial_fit(X, y)\n"
     ]
    }
   ],
   "source": [
    "scaler = MinMaxScaler(feature_range=(0, 1))\n",
    "\n",
    "x_train_scaled = scaler.fit_transform(X_train)\n",
    "X_train = pd.DataFrame(x_train_scaled)\n",
    "\n",
    "x_test_scaled = scaler.fit_transform(X_test)\n",
    "X_test = pd.DataFrame(x_test_scaled)"
   ]
  },
  {
   "cell_type": "markdown",
   "metadata": {},
   "source": [
    "#### Imposible que termine de correr, tarda mucho"
   ]
  },
  {
   "cell_type": "code",
   "execution_count": null,
   "metadata": {},
   "outputs": [],
   "source": [
    "params = {'n_neighbors':[2,3,4,5,6,7,8,9]}\n",
    "\n",
    "knn = neighbors.KNeighborsRegressor()\n",
    "\n",
    "model = GridSearchCV(knn, params, cv=5)\n",
    "model.fit(x_train,y_train)\n",
    "model.best_params_\n",
    "\n"
   ]
  },
  {
   "cell_type": "markdown",
   "metadata": {},
   "source": [
    "#### Otra opción"
   ]
  },
  {
   "cell_type": "code",
   "execution_count": 17,
   "metadata": {},
   "outputs": [
    {
     "name": "stdout",
     "output_type": "stream",
     "text": [
      "RMSE value for k=  4 is: 100547.5918890875\n",
      "RMSE value for k=  5 is: 98590.21697727592\n",
      "RMSE value for k=  6 is: 97267.91560622105\n",
      "RMSE value for k=  7 is: 96223.73800236205\n",
      "RMSE value for k=  8 is: 95461.62613295658\n",
      "RMSE value for k=  9 is: 94937.22870007245\n",
      "RMSE value for k=  10 is: 94476.76880221858\n"
     ]
    }
   ],
   "source": [
    "rmse_val = [] # guardar los diferentes resultados para las k\n",
    "for K in range(4,11):\n",
    "    model = neighbors.KNeighborsRegressor(n_neighbors = K)\n",
    "\n",
    "    model.fit(X_train, y_train)  \n",
    "    pred=model.predict(X_test) \n",
    "    error = sqrt(mean_squared_error(y_test,pred))\n",
    "    \n",
    "    rmse_val.append(error) \n",
    "    print('RMSE value for k= ' , K , 'is:', error)\n"
   ]
  },
  {
   "cell_type": "code",
   "execution_count": 18,
   "metadata": {},
   "outputs": [
    {
     "name": "stdout",
     "output_type": "stream",
     "text": [
      "RMSE value for k=  9 is: 94937.22870007245\n",
      "RMSE value for k=  10 is: 94476.76880221858\n",
      "RMSE value for k=  11 is: 94108.07860622204\n",
      "RMSE value for k=  12 is: 93773.2026876875\n"
     ]
    }
   ],
   "source": [
    "rmse_val = [] # guardar los diferentes resultados para las k\n",
    "for K in range(9,13):\n",
    "    model = neighbors.KNeighborsRegressor(n_neighbors = K)\n",
    "\n",
    "    model.fit(X_train, y_train)  \n",
    "    pred=model.predict(X_test) \n",
    "    error = sqrt(mean_squared_error(y_test,pred))\n",
    "    \n",
    "    rmse_val.append(error) \n",
    "    print('RMSE value for k= ' , K , 'is:', error)\n"
   ]
  },
  {
   "cell_type": "markdown",
   "metadata": {},
   "source": [
    "### Aumentando K  mejora el resultado ¿Sobreajuste ? "
   ]
  },
  {
   "cell_type": "code",
   "execution_count": 19,
   "metadata": {},
   "outputs": [
    {
     "name": "stdout",
     "output_type": "stream",
     "text": [
      "RMSE value for k=  11 is: 94108.07860622204\n",
      "RMSE value for k=  12 is: 93773.2026876875\n",
      "RMSE value for k=  13 is: 93488.65247645114\n",
      "RMSE value for k=  14 is: 93288.00021723514\n",
      "RMSE value for k=  15 is: 93067.00441750916\n",
      "RMSE value for k=  16 is: 92903.23782711933\n"
     ]
    }
   ],
   "source": [
    "rmse_val = [] # guardar los diferentes resultados para las k\n",
    "for K in range(11,17):\n",
    "    model = neighbors.KNeighborsRegressor(n_neighbors = K)\n",
    "\n",
    "    model.fit(X_train, y_train)  \n",
    "    pred=model.predict(X_test) \n",
    "    error = sqrt(mean_squared_error(y_test,pred))\n",
    "    \n",
    "    rmse_val.append(error) \n",
    "    print('RMSE value for k= ' , K , 'is:', error)\n"
   ]
  },
  {
   "cell_type": "markdown",
   "metadata": {},
   "source": [
    "#### Curva de valores para cada K"
   ]
  },
  {
   "cell_type": "code",
   "execution_count": 10,
   "metadata": {},
   "outputs": [],
   "source": [
    "rmse_val = [np.inf,np.inf,np.inf,np.inf,100547.5918890875,98590.21697727592,97267.91560622105,\n",
    "            96223.73800236205,95461.62613295658,94937.22870007245,\n",
    "            94108.07860622204,93773.2026876875,93488.65247645114,\n",
    "            93288.00021723514,93067.00441750916,92903.23782711933]"
   ]
  },
  {
   "cell_type": "code",
   "execution_count": 12,
   "metadata": {},
   "outputs": [
    {
     "name": "stdout",
     "output_type": "stream",
     "text": [
      "RMSE value for k=  17 is: 92945.74768264379\n",
      "RMSE value for k=  18 is: 92807.70015925345\n",
      "RMSE value for k=  19 is: 92719.09745090448\n",
      "RMSE value for k=  20 is: 92645.04707412321\n",
      "RMSE value for k=  21 is: 92513.26405115283\n",
      "RMSE value for k=  22 is: 92406.45863869032\n",
      "RMSE value for k=  23 is: 92324.17599697754\n",
      "RMSE value for k=  24 is: 92242.7337127097\n",
      "RMSE value for k=  25 is: 92166.38870331972\n",
      "RMSE value for k=  26 is: 92108.5662245751\n"
     ]
    }
   ],
   "source": [
    "for K in range(17,27):\n",
    "    model = neighbors.KNeighborsRegressor(n_neighbors = K)\n",
    "\n",
    "    model.fit(X_train, y_train)  \n",
    "    pred=model.predict(X_test) \n",
    "    error = sqrt(mean_squared_error(y_test,pred))\n",
    "    \n",
    "    rmse_val.append(error) \n",
    "    print('RMSE value for k= ' , K , 'is:', error)\n"
   ]
  },
  {
   "cell_type": "code",
   "execution_count": 13,
   "metadata": {},
   "outputs": [],
   "source": [
    "K = 26"
   ]
  },
  {
   "cell_type": "code",
   "execution_count": 21,
   "metadata": {},
   "outputs": [],
   "source": [
    "model = neighbors.KNeighborsRegressor(n_neighbors = K,weights = 'distance')\n"
   ]
  },
  {
   "cell_type": "code",
   "execution_count": 23,
   "metadata": {},
   "outputs": [
    {
     "name": "stdout",
     "output_type": "stream",
     "text": [
      "RMSE value for k=  26 is: 92193.35805306565\n"
     ]
    }
   ],
   "source": [
    "model.fit(X_train, y_train)  \n",
    "pred=model.predict(X_test) \n",
    "error = sqrt(mean_squared_error(y_test,pred))\n",
    "    \n",
    "rmse_val.append(error) \n",
    "print('RMSE value for k= ' , K , 'is:', error)\n"
   ]
  },
  {
   "cell_type": "markdown",
   "metadata": {},
   "source": [
    "##### Empeora con el parametro distancia"
   ]
  },
  {
   "cell_type": "markdown",
   "metadata": {},
   "source": [
    "---"
   ]
  },
  {
   "cell_type": "code",
   "execution_count": 26,
   "metadata": {},
   "outputs": [
    {
     "name": "stdout",
     "output_type": "stream",
     "text": [
      "RMSE value for k=  27 is: 92060.89735448197\n",
      "RMSE value for k=  28 is: 92021.23563763438\n",
      "RMSE value for k=  29 is: 91965.77983208877\n",
      "RMSE value for k=  30 is: 91931.58786603934\n",
      "RMSE value for k=  31 is: 91907.27313562621\n",
      "RMSE value for k=  32 is: 91877.57756235402\n",
      "RMSE value for k=  33 is: 91822.88856978627\n",
      "RMSE value for k=  34 is: 91793.05851603246\n",
      "RMSE value for k=  35 is: 91769.01537866761\n",
      "RMSE value for k=  36 is: 91709.60739092011\n"
     ]
    }
   ],
   "source": [
    "for K in range(27,37):\n",
    "    model = neighbors.KNeighborsRegressor(n_neighbors = K)\n",
    "\n",
    "    model.fit(X_train, y_train)  \n",
    "    pred=model.predict(X_test) \n",
    "    error = sqrt(mean_squared_error(y_test,pred))\n",
    "    \n",
    "    rmse_val.append(error) \n",
    "    print('RMSE value for k= ' , K , 'is:', error)"
   ]
  },
  {
   "cell_type": "code",
   "execution_count": 37,
   "metadata": {},
   "outputs": [
    {
     "data": {
      "text/plain": [
       "[<matplotlib.lines.Line2D at 0x7f09f11bdbe0>]"
      ]
     },
     "execution_count": 37,
     "metadata": {},
     "output_type": "execute_result"
    },
    {
     "data": {
      "image/png": "[encoded data removed]",
      "text/plain": [
       "<Figure size 864x360 with 1 Axes>"
      ]
     },
     "metadata": {
      "needs_background": "light"
     },
     "output_type": "display_data"
    }
   ],
   "source": [
    "curva = pd.DataFrame(rmse_val)\n",
    "\n",
    "plt.figure(figsize=(12, 5))\n",
    "plt.xlabel(\"Valores de K\")\n",
    "plt.ylabel(\"RMSE\")\n",
    "plt.title(\"Error RMSE para cada valor de K\")\n",
    "plt.plot(curva)\n"
   ]
  },
  {
   "cell_type": "markdown",
   "metadata": {},
   "source": []
  },
  {
   "cell_type": "markdown",
   "metadata": {},
   "source": [
    "### Pruebas con solo auctions"
   ]
  },
  {
   "cell_type": "code",
   "execution_count": 3,
   "metadata": {},
   "outputs": [],
   "source": [
    "train = pd.read_pickle(\"../../armado_datos/train_completo\")"
   ]
  },
  {
   "cell_type": "code",
   "execution_count": 4,
   "metadata": {},
   "outputs": [],
   "source": [
    "train.set_index(\"device_id\",inplace = True)"
   ]
  },
  {
   "cell_type": "code",
   "execution_count": 5,
   "metadata": {},
   "outputs": [],
   "source": [
    "#Me quedo con las columnas de auctions\n",
    "train = train.iloc[:,:47]"
   ]
  },
  {
   "cell_type": "code",
   "execution_count": 6,
   "metadata": {},
   "outputs": [
    {
     "data": {
      "text/plain": [
       "1611351"
      ]
     },
     "execution_count": 6,
     "metadata": {},
     "output_type": "execute_result"
    }
   ],
   "source": [
    "len(train)"
   ]
  },
  {
   "cell_type": "markdown",
   "metadata": {},
   "source": [
    "### Tomo una muestra random de 400 mil filas para comparar "
   ]
  },
  {
   "cell_type": "code",
   "execution_count": 7,
   "metadata": {},
   "outputs": [],
   "source": [
    "nro_filas = 400000"
   ]
  },
  {
   "cell_type": "code",
   "execution_count": 8,
   "metadata": {},
   "outputs": [],
   "source": [
    "train = train.sample(nro_filas, random_state = 1)"
   ]
  },
  {
   "cell_type": "code",
   "execution_count": 10,
   "metadata": {},
   "outputs": [],
   "source": [
    "train , test = train_test_split(train, test_size = 0.3)\n",
    "x_train = train.drop('target', axis=1)\n",
    "y_train = train['target']\n",
    "\n",
    "x_test = test.drop('target', axis = 1)\n",
    "y_test = test['target']"
   ]
  },
  {
   "cell_type": "code",
   "execution_count": 11,
   "metadata": {},
   "outputs": [],
   "source": [
    "scaler = MinMaxScaler(feature_range=(0, 1))\n",
    "\n",
    "x_train_scaled = scaler.fit_transform(x_train)\n",
    "x_train = pd.DataFrame(x_train_scaled)\n",
    "\n",
    "x_test_scaled = scaler.fit_transform(x_test)\n",
    "x_test = pd.DataFrame(x_test_scaled)"
   ]
  },
  {
   "cell_type": "markdown",
   "metadata": {},
   "source": [
    "---"
   ]
  },
  {
   "cell_type": "code",
   "execution_count": 12,
   "metadata": {},
   "outputs": [],
   "source": [
    "K = 7"
   ]
  },
  {
   "cell_type": "code",
   "execution_count": 13,
   "metadata": {},
   "outputs": [],
   "source": [
    "model = neighbors.KNeighborsRegressor(n_neighbors = K)\n"
   ]
  },
  {
   "cell_type": "code",
   "execution_count": 14,
   "metadata": {},
   "outputs": [
    {
     "name": "stdout",
     "output_type": "stream",
     "text": [
      "RMSE value for k=  7 is: 95805.08699430623\n"
     ]
    }
   ],
   "source": [
    "model.fit(x_train, y_train)  \n",
    "pred=model.predict(x_test) \n",
    "\n",
    "error = sqrt(mean_squared_error(y_test,pred))\n",
    "\n",
    "print('RMSE value for k= ' , K , 'is:', error)"
   ]
  },
  {
   "cell_type": "markdown",
   "metadata": {},
   "source": [
    "---"
   ]
  },
  {
   "cell_type": "code",
   "execution_count": 18,
   "metadata": {},
   "outputs": [],
   "source": [
    "K = 15"
   ]
  },
  {
   "cell_type": "code",
   "execution_count": 19,
   "metadata": {},
   "outputs": [],
   "source": [
    "model = neighbors.KNeighborsRegressor(n_neighbors = K)\n"
   ]
  },
  {
   "cell_type": "code",
   "execution_count": 20,
   "metadata": {},
   "outputs": [
    {
     "name": "stdout",
     "output_type": "stream",
     "text": [
      "RMSE value for k=  15 is: 92701.8702564042\n"
     ]
    }
   ],
   "source": [
    "model.fit(x_train, y_train)  \n",
    "pred=model.predict(x_test) \n",
    "\n",
    "error = sqrt(mean_squared_error(y_test,pred))\n",
    "\n",
    "print('RMSE value for k= ' , K , 'is:', error)"
   ]
  },
  {
   "cell_type": "markdown",
   "metadata": {},
   "source": [
    "----"
   ]
  },
  {
   "cell_type": "code",
   "execution_count": 21,
   "metadata": {},
   "outputs": [],
   "source": [
    "K = 25"
   ]
  },
  {
   "cell_type": "code",
   "execution_count": 22,
   "metadata": {},
   "outputs": [],
   "source": [
    "model = neighbors.KNeighborsRegressor(n_neighbors = K)\n"
   ]
  },
  {
   "cell_type": "code",
   "execution_count": 23,
   "metadata": {},
   "outputs": [
    {
     "name": "stdout",
     "output_type": "stream",
     "text": [
      "RMSE value for k=  25 is: 91649.60092271672\n"
     ]
    }
   ],
   "source": [
    "model.fit(x_train, y_train)  \n",
    "pred=model.predict(x_test) \n",
    "\n",
    "error = sqrt(mean_squared_error(y_test,pred))\n",
    "\n",
    "print('RMSE value for k= ' , K , 'is:', error)"
   ]
  },
  {
   "cell_type": "markdown",
   "metadata": {},
   "source": [
    "---"
   ]
  },
  {
   "cell_type": "code",
   "execution_count": 24,
   "metadata": {},
   "outputs": [],
   "source": [
    "rmse_val = []"
   ]
  },
  {
   "cell_type": "code",
   "execution_count": 26,
   "metadata": {},
   "outputs": [
    {
     "name": "stdout",
     "output_type": "stream",
     "text": [
      "RMSE value for k=  27 is: 91549.04496248382\n",
      "RMSE value for k=  28 is: 91510.68626541238\n",
      "RMSE value for k=  29 is: 91486.06471774526\n",
      "RMSE value for k=  30 is: 91422.24677956641\n",
      "RMSE value for k=  31 is: 91380.6875875546\n",
      "RMSE value for k=  32 is: 91347.39499988437\n",
      "RMSE value for k=  33 is: 91325.13836737789\n",
      "RMSE value for k=  34 is: 91277.25092482012\n",
      "RMSE value for k=  35 is: 91261.57009943784\n",
      "RMSE value for k=  36 is: 91257.32071344252\n",
      "RMSE value for k=  37 is: 91235.3699735946\n",
      "RMSE value for k=  38 is: 91223.64525293387\n",
      "RMSE value for k=  39 is: 91193.31018448621\n",
      "RMSE value for k=  40 is: 91172.39022777235\n"
     ]
    }
   ],
   "source": [
    "for K in range(27,41):\n",
    "    model = neighbors.KNeighborsRegressor(n_neighbors = K)\n",
    "\n",
    "    model.fit(x_train, y_train)  \n",
    "    pred=model.predict(x_test) \n",
    "    error = sqrt(mean_squared_error(y_test,pred))\n",
    "    \n",
    "    rmse_val.append(error) \n",
    "    print('RMSE value for k= ' , K , 'is:', error)"
   ]
  },
  {
   "cell_type": "markdown",
   "metadata": {},
   "source": [
    "## Nuevas pruebas, datos entrenamientos con pocos features"
   ]
  },
  {
   "cell_type": "code",
   "execution_count": 2,
   "metadata": {},
   "outputs": [],
   "source": [
    "train = pd.read_pickle(\"../../armado_datos/train_nuevo_completo\")"
   ]
  },
  {
   "cell_type": "code",
   "execution_count": 3,
   "metadata": {},
   "outputs": [
    {
     "data": {
      "text/plain": [
       "11"
      ]
     },
     "execution_count": 3,
     "metadata": {},
     "output_type": "execute_result"
    }
   ],
   "source": [
    "train.isnull().sum(axis = 1).max()"
   ]
  },
  {
   "cell_type": "code",
   "execution_count": 4,
   "metadata": {},
   "outputs": [
    {
     "data": {
      "text/plain": [
       "(1286041, 58)"
      ]
     },
     "execution_count": 4,
     "metadata": {},
     "output_type": "execute_result"
    }
   ],
   "source": [
    "train.shape\n"
   ]
  },
  {
   "cell_type": "code",
   "execution_count": 5,
   "metadata": {},
   "outputs": [],
   "source": [
    "train.fillna(0,inplace = True)"
   ]
  },
  {
   "cell_type": "code",
   "execution_count": 6,
   "metadata": {},
   "outputs": [],
   "source": [
    "train , test = train_test_split(train, test_size = 0.2)\n",
    "x_train = train.drop('target', axis=1)\n",
    "y_train = train['target']\n",
    "\n",
    "x_test = test.drop('target', axis = 1)\n",
    "y_test = test['target']"
   ]
  },
  {
   "cell_type": "code",
   "execution_count": 7,
   "metadata": {},
   "outputs": [],
   "source": [
    "scaler = MinMaxScaler(feature_range=(0, 1))\n",
    "\n",
    "x_train_scaled = scaler.fit_transform(x_train)\n",
    "x_train = pd.DataFrame(x_train_scaled)\n",
    "\n",
    "x_test_scaled = scaler.fit_transform(x_test)\n",
    "x_test = pd.DataFrame(x_test_scaled)"
   ]
  },
  {
   "cell_type": "markdown",
   "metadata": {},
   "source": [
    "---"
   ]
  },
  {
   "cell_type": "code",
   "execution_count": 8,
   "metadata": {},
   "outputs": [],
   "source": [
    "K = 25"
   ]
  },
  {
   "cell_type": "code",
   "execution_count": 9,
   "metadata": {},
   "outputs": [],
   "source": [
    "model = neighbors.KNeighborsRegressor(n_neighbors = K)\n"
   ]
  },
  {
   "cell_type": "code",
   "execution_count": 10,
   "metadata": {},
   "outputs": [
    {
     "name": "stdout",
     "output_type": "stream",
     "text": [
      "RMSE value for k=  25 is: 91314.94077552456\n"
     ]
    }
   ],
   "source": [
    "model.fit(x_train, y_train)  \n",
    "pred=model.predict(x_test) \n",
    "\n",
    "error = sqrt(mean_squared_error(y_test,pred))\n",
    "\n",
    "print('RMSE value for k= ' , K , 'is:', error)"
   ]
  },
  {
   "cell_type": "code",
   "execution_count": null,
   "metadata": {},
   "outputs": [],
   "source": []
  },
  {
   "cell_type": "code",
   "execution_count": null,
   "metadata": {},
   "outputs": [],
   "source": []
  }
 ],
 "metadata": {
  "kernelspec": {
   "display_name": "Python 3",
   "language": "python",
   "name": "python3"
  },
  "language_info": {
   "codemirror_mode": {
    "name": "ipython",
    "version": 3
   },
   "file_extension": ".py",
   "mimetype": "text/x-python",
   "name": "python",
   "nbconvert_exporter": "python",
   "pygments_lexer": "ipython3",
   "version": "3.6.8"
  }
 },
 "nbformat": 4,
 "nbformat_minor": 2
}
