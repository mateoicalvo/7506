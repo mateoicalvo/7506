{
 "cells": [
  {
   "cell_type": "markdown",
   "metadata": {},
   "source": [
    "# Imports"
   ]
  },
  {
   "cell_type": "code",
   "execution_count": 1,
   "metadata": {},
   "outputs": [],
   "source": [
    "import pandas as pd\n",
    "import numpy as np"
   ]
  },
  {
   "cell_type": "markdown",
   "metadata": {},
   "source": [
    "---"
   ]
  },
  {
   "cell_type": "code",
   "execution_count": 2,
   "metadata": {},
   "outputs": [
    {
     "name": "stderr",
     "output_type": "stream",
     "text": [
      "/opt/anaconda/3/lib/python3.6/site-packages/IPython/core/interactiveshell.py:2785: DtypeWarning: Columns (13,20) have mixed types. Specify dtype option on import or set low_memory=False.\n",
      "  interactivity=interactivity, compiler=compiler, result=result)\n"
     ]
    }
   ],
   "source": [
    "# Columnas a cargar\n",
    "columnas_cargar = [\"index\", \"date\", \"event_id\", \"ref_type\", \"ref_hash\", \"application_id\", \"attributed\", \"device_os_version\",\n",
    "                   \"device_brand\", \"device_model\", \"device_city\", \"session_user_agent\", \"carrier\", \"kind\", \"wifi\",\n",
    "                   \"connection_type\", \"ip_address\", \"device_language\", \"event_uuid\", \"trans_id\", \"user_agent\"]\n",
    "\n",
    "# Definicion de tipos\n",
    "tipos = {\"index\" : np.int32,\n",
    "         \"event_id\" : np.int16,\n",
    "         \"ref_hash\" : np.int64,\n",
    "         \"application_id\" : np.int16,\n",
    "         \"attributed\" : np.bool,\n",
    "         \"wifi\" : np.bool,\n",
    "         \"ip_address\" : np.int64}\n",
    "\n",
    "# Carga de datos\n",
    "events = pd.read_csv(\"../../../data/tp2/events.csv\", usecols=columnas_cargar, dtype=tipos, parse_dates=[\"date\"])"
   ]
  },
  {
   "cell_type": "markdown",
   "metadata": {},
   "source": [
    "### Comentario: Las columnas a las que no se les especifica tipo es porque tienen nulos. Habría que analizar los demás datasets y reencodearlas, de ser posible."
   ]
  },
  {
   "cell_type": "code",
   "execution_count": 3,
   "metadata": {},
   "outputs": [],
   "source": [
    "# Ordeno las fechas\n",
    "events.sort_values(by=\"date\", inplace=True)"
   ]
  },
  {
   "cell_type": "code",
   "execution_count": 4,
   "metadata": {},
   "outputs": [],
   "source": [
    "#Renombro ref hash\n",
    "events.rename(columns={\"ref_hash\" : \"device_id\"}, inplace=True)"
   ]
  },
  {
   "cell_type": "markdown",
   "metadata": {},
   "source": [
    "---"
   ]
  },
  {
   "cell_type": "markdown",
   "metadata": {},
   "source": [
    "## Convierto los ref_tpyes a Android/iOS"
   ]
  },
  {
   "cell_type": "code",
   "execution_count": 9,
   "metadata": {},
   "outputs": [],
   "source": [
    "events[\"os_es_android\"] = events[\"ref_type\"].replace([1891515180541284343, 1494519392962156891], [1, 0]).astype(np.int8)\n",
    "# Elimino la columna ref_type\n",
    "del events[\"ref_type\"]"
   ]
  },
  {
   "cell_type": "markdown",
   "metadata": {},
   "source": [
    "# Etiquetas temporales"
   ]
  },
  {
   "cell_type": "code",
   "execution_count": 10,
   "metadata": {},
   "outputs": [],
   "source": [
    "events['hora'] = events['date'].dt.hour\n",
    "events['dia'] = events['date'].dt.day\n",
    "events['dia_de_la_semana'] = events['date'].dt.dayofweek"
   ]
  },
  {
   "cell_type": "markdown",
   "metadata": {},
   "source": [
    "# Franjas horarias"
   ]
  },
  {
   "cell_type": "code",
   "execution_count": 11,
   "metadata": {},
   "outputs": [],
   "source": [
    "events[\"hora_2_a_6\"] = ((events[\"hora\"] >= 2) & (events[\"hora\"] < 6))\n",
    "events[\"hora_6_a_11\"] = ((events[\"hora\"] >= 6) & (events[\"hora\"] < 11)) \n",
    "events[\"hora_11_a_14\"] = ((events[\"hora\"] >= 11) & (events[\"hora\"] < 14)) \n",
    "events[\"hora_14_a_18\"] = ((events[\"hora\"] >= 14) & (events[\"hora\"] < 18)) \n",
    "events[\"hora_18_a_23\"] = ((events[\"hora\"] >= 18) & (events[\"hora\"] < 23))\n",
    "events[\"hora_23_a_2\"] = ((events[\"hora\"] >= 23) | (events[\"hora\"] < 2))"
   ]
  },
  {
   "cell_type": "markdown",
   "metadata": {},
   "source": [
    "# Armado de ventanas"
   ]
  },
  {
   "cell_type": "code",
   "execution_count": 12,
   "metadata": {},
   "outputs": [],
   "source": [
    "for ventana_nro in range(1,8):\n",
    "    events[\"ventana_{}\".format(ventana_nro)] = (((17+ventana_nro) <= events[\"date\"].dt.day) & ((events[\"date\"].dt.day) <= (19+ventana_nro)))"
   ]
  },
  {
   "cell_type": "code",
   "execution_count": 14,
   "metadata": {},
   "outputs": [],
   "source": [
    "events.to_pickle(\"../../../data/tp2/events_tp2_formateado.pkl\")"
   ]
  }
 ],
 "metadata": {
  "kernelspec": {
   "display_name": "Python 3",
   "language": "python",
   "name": "python3"
  },
  "language_info": {
   "codemirror_mode": {
    "name": "ipython",
    "version": 3
   },
   "file_extension": ".py",
   "mimetype": "text/x-python",
   "name": "python",
   "nbconvert_exporter": "python",
   "pygments_lexer": "ipython3",
   "version": "3.6.5"
  }
 },
 "nbformat": 4,
 "nbformat_minor": 2
}
