{
 "cells": [
  {
   "cell_type": "markdown",
   "metadata": {},
   "source": [
    "# Imports"
   ]
  },
  {
   "cell_type": "code",
   "execution_count": 1,
   "metadata": {},
   "outputs": [],
   "source": [
    "import pandas as pd\n",
    "import numpy as np"
   ]
  },
  {
   "cell_type": "markdown",
   "metadata": {},
   "source": [
    "---"
   ]
  },
  {
   "cell_type": "code",
   "execution_count": 2,
   "metadata": {},
   "outputs": [
    {
     "name": "stderr",
     "output_type": "stream",
     "text": [
      "/opt/anaconda/3/lib/python3.6/site-packages/IPython/core/interactiveshell.py:2785: DtypeWarning: Columns (4,15) have mixed types. Specify dtype option on import or set low_memory=False.\n",
      "  interactivity=interactivity, compiler=compiler, result=result)\n"
     ]
    }
   ],
   "source": [
    "# Columnas a cargar: \n",
    "columnas_cargar = ['created', 'application_id', 'ref_type', 'ref_hash', 'click_hash',\n",
    "       'attributed', 'implicit', 'device_brand',\n",
    "       'device_model', 'session_user_agent', 'user_agent', 'event_uuid',\n",
    "       'kind', 'wifi', 'trans_id', 'ip_address', 'device_language']\n",
    "\n",
    "# Definicion de tipos\n",
    "tipos = {\"application_id\" : np.int16}\n",
    "# Carga de datos\n",
    "installs = pd.read_csv(\"../../../data/tp2/installs.csv\", usecols=columnas_cargar, dtype=tipos, parse_dates=[\"created\"])"
   ]
  },
  {
   "cell_type": "markdown",
   "metadata": {},
   "source": [
    "---"
   ]
  },
  {
   "cell_type": "code",
   "execution_count": 3,
   "metadata": {},
   "outputs": [],
   "source": [
    "#renombro columnas\n",
    "installs.rename(columns={\"created\": \"date\", \"ref_hash\" : \"device_id\"}, inplace=True)\n",
    "# Ordeno las fechas\n",
    "installs.sort_values(by=\"date\", inplace=True)"
   ]
  },
  {
   "cell_type": "markdown",
   "metadata": {},
   "source": [
    "## Convierto los ref_tpyes a Android/iOS"
   ]
  },
  {
   "cell_type": "code",
   "execution_count": 4,
   "metadata": {},
   "outputs": [],
   "source": [
    "installs[\"os_es_android\"] = installs[\"ref_type\"].replace([1891515180541284343, 1494519392962156891], [1, 0]).astype(np.int8)\n",
    "# Elimino la columna ref_type\n",
    "del installs[\"ref_type\"]"
   ]
  },
  {
   "cell_type": "markdown",
   "metadata": {},
   "source": [
    "# Etiquetas temporales"
   ]
  },
  {
   "cell_type": "code",
   "execution_count": 5,
   "metadata": {},
   "outputs": [],
   "source": [
    "installs['hora'] = installs['date'].dt.hour\n",
    "installs['dia'] = installs['date'].dt.day\n",
    "installs['dia_de_la_semana'] = installs['date'].dt.dayofweek"
   ]
  },
  {
   "cell_type": "markdown",
   "metadata": {},
   "source": [
    "# Franjas horarias"
   ]
  },
  {
   "cell_type": "code",
   "execution_count": 6,
   "metadata": {},
   "outputs": [],
   "source": [
    "installs[\"hora_2_a_6\"] = ((installs[\"hora\"] >= 2) & (installs[\"hora\"] < 6))\n",
    "installs[\"hora_6_a_11\"] = ((installs[\"hora\"] >= 6) & (installs[\"hora\"] < 11)) \n",
    "installs[\"hora_11_a_14\"] = ((installs[\"hora\"] >= 11) & (installs[\"hora\"] < 14)) \n",
    "installs[\"hora_14_a_18\"] = ((installs[\"hora\"] >= 14) & (installs[\"hora\"] < 18)) \n",
    "installs[\"hora_18_a_23\"] = ((installs[\"hora\"] >= 18) & (installs[\"hora\"] < 23))\n",
    "installs[\"hora_23_a_2\"] = ((installs[\"hora\"] >= 23) | (installs[\"hora\"] < 2))"
   ]
  },
  {
   "cell_type": "markdown",
   "metadata": {},
   "source": [
    "# Armado de ventanas"
   ]
  },
  {
   "cell_type": "code",
   "execution_count": 7,
   "metadata": {},
   "outputs": [],
   "source": [
    "for ventana_nro in range(1,8):\n",
    "    installs[\"ventana_{}\".format(ventana_nro)] = (((17+ventana_nro) <= installs[\"date\"].dt.day) & ((installs[\"date\"].dt.day) <= (19+ventana_nro)))"
   ]
  },
  {
   "cell_type": "code",
   "execution_count": 8,
   "metadata": {},
   "outputs": [],
   "source": [
    "installs.to_pickle(\"../../../data/tp2/installs_tp2_formateado.pkl\")"
   ]
  }
 ],
 "metadata": {
  "kernelspec": {
   "display_name": "Python 3",
   "language": "python",
   "name": "python3"
  },
  "language_info": {
   "codemirror_mode": {
    "name": "ipython",
    "version": 3
   },
   "file_extension": ".py",
   "mimetype": "text/x-python",
   "name": "python",
   "nbconvert_exporter": "python",
   "pygments_lexer": "ipython3",
   "version": "3.6.5"
  }
 },
 "nbformat": 4,
 "nbformat_minor": 2
}
