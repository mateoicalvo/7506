{
 "cells": [
  {
   "cell_type": "markdown",
   "metadata": {},
   "source": [
    "# Imports"
   ]
  },
  {
   "cell_type": "code",
   "execution_count": 1,
   "metadata": {},
   "outputs": [],
   "source": [
    "import pandas as pd\n",
    "import numpy as np"
   ]
  },
  {
   "cell_type": "markdown",
   "metadata": {},
   "source": [
    "---"
   ]
  },
  {
   "cell_type": "code",
   "execution_count": 2,
   "metadata": {},
   "outputs": [],
   "source": [
    "# Columnas a cargar: cargamos todas ya que aún no sabemos el valor que poseen \n",
    "columnas_cargar = [\"date\", \"device_id\", \"ref_type_id\", \"source_id\"]\n",
    "# Definicion de tipos\n",
    "tipos = {\"device_id\" : np.int64,\n",
    "         \"ref_type_id\" : np.int8,\n",
    "         \"source_id\" : np.int8}\n",
    "# Carga de datos\n",
    "auctions = pd.read_csv(\"../../../data/tp2/auctions.csv\", usecols=columnas_cargar, dtype=tipos, parse_dates=[\"date\"])"
   ]
  },
  {
   "cell_type": "code",
   "execution_count": 3,
   "metadata": {},
   "outputs": [],
   "source": [
    "# Ordeno las fechas\n",
    "auctions.sort_values(by=\"date\", inplace=True)"
   ]
  },
  {
   "cell_type": "markdown",
   "metadata": {},
   "source": [
    "# Etiquetas temporales"
   ]
  },
  {
   "cell_type": "code",
   "execution_count": 4,
   "metadata": {},
   "outputs": [],
   "source": [
    "auctions['hora'] = auctions['date'].dt.hour\n",
    "auctions['dia'] = auctions['date'].dt.day\n",
    "auctions['dia_de_la_semana'] = auctions['date'].dt.dayofweek"
   ]
  },
  {
   "cell_type": "markdown",
   "metadata": {},
   "source": [
    "# Franjas horarias"
   ]
  },
  {
   "cell_type": "code",
   "execution_count": 5,
   "metadata": {},
   "outputs": [],
   "source": [
    "auctions[\"hora_2_a_6\"] = ((auctions[\"hora\"] >= 2) & (auctions[\"hora\"] < 6))\n",
    "auctions[\"hora_6_a_11\"] = ((auctions[\"hora\"] >= 6) & (auctions[\"hora\"] < 11)) \n",
    "auctions[\"hora_11_a_14\"] = ((auctions[\"hora\"] >= 11) & (auctions[\"hora\"] < 14)) \n",
    "auctions[\"hora_14_a_18\"] = ((auctions[\"hora\"] >= 14) & (auctions[\"hora\"] < 18)) \n",
    "auctions[\"hora_18_a_23\"] = ((auctions[\"hora\"] >= 18) & (auctions[\"hora\"] < 23))\n",
    "auctions[\"hora_23_a_2\"] = ((auctions[\"hora\"] >= 23) | (auctions[\"hora\"] < 2))"
   ]
  },
  {
   "cell_type": "markdown",
   "metadata": {},
   "source": [
    "# Armado de ventanas"
   ]
  },
  {
   "cell_type": "code",
   "execution_count": 6,
   "metadata": {},
   "outputs": [],
   "source": [
    "for ventana_nro in range(1,8):\n",
    "    auctions[\"ventana_{}\".format(ventana_nro)] = (((17+ventana_nro) <= auctions[\"date\"].dt.day) & ((auctions[\"date\"].dt.day) <= (19+ventana_nro)))"
   ]
  },
  {
   "cell_type": "code",
   "execution_count": 7,
   "metadata": {},
   "outputs": [],
   "source": [
    "auctions.to_pickle(\"../../../data/tp2/auctions_tp2_formateado.pkl\")"
   ]
  }
 ],
 "metadata": {
  "kernelspec": {
   "display_name": "Python 3",
   "language": "python",
   "name": "python3"
  },
  "language_info": {
   "codemirror_mode": {
    "name": "ipython",
    "version": 3
   },
   "file_extension": ".py",
   "mimetype": "text/x-python",
   "name": "python",
   "nbconvert_exporter": "python",
   "pygments_lexer": "ipython3",
   "version": "3.6.5"
  }
 },
 "nbformat": 4,
 "nbformat_minor": 2
}
